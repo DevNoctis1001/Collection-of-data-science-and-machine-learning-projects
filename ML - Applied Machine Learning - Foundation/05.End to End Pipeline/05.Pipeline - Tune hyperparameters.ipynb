{
 "cells": [
  {
   "cell_type": "markdown",
   "metadata": {},
   "source": [
    "## Pipeline: Tune hyperparameters\n",
    "\n",
    "Using the Titanic dataset from [this](https://www.kaggle.com/c/titanic/overview) Kaggle competition.\n",
    "\n",
    "In this section, we will tune the hyperparameters for the basic model we fit in the last section."
   ]
  },
  {
   "cell_type": "markdown",
   "metadata": {},
   "source": [
    "### Read in data\n",
    "\n",
    "![Tune Hyperparameters](../img/tune_hyperparameters.png)"
   ]
  },
  {
   "cell_type": "code",
   "execution_count": 1,
   "metadata": {},
   "outputs": [
    {
     "name": "stderr",
     "output_type": "stream",
     "text": [
      "<frozen importlib._bootstrap>:219: RuntimeWarning: numpy.ufunc size changed, may indicate binary incompatibility. Expected 192 from C header, got 216 from PyObject\n",
      "<frozen importlib._bootstrap>:219: RuntimeWarning: numpy.ufunc size changed, may indicate binary incompatibility. Expected 192 from C header, got 216 from PyObject\n",
      "<frozen importlib._bootstrap>:219: RuntimeWarning: numpy.ufunc size changed, may indicate binary incompatibility. Expected 192 from C header, got 216 from PyObject\n",
      "<frozen importlib._bootstrap>:219: RuntimeWarning: numpy.ufunc size changed, may indicate binary incompatibility. Expected 192 from C header, got 216 from PyObject\n"
     ]
    }
   ],
   "source": [
    "import pandas as pd\n",
    "from sklearn.ensemble import RandomForestClassifier\n",
    "from sklearn.model_selection import GridSearchCV\n",
    "\n",
    "train_features = pd.read_csv('../Data/train_features.csv')\n",
    "train_labels = pd.read_csv('../Data/train_labels.csv')\n",
    "\n",
    "#GridSearchCV is wrapper around CrossVal Score and allows us to run gird search within cross validation."
   ]
  },
  {
   "cell_type": "markdown",
   "metadata": {},
   "source": [
    "### Hyperparameter tuning\n",
    "\n",
    "![Hyperparameters](../img/hyperparameters.png)"
   ]
  },
  {
   "cell_type": "code",
   "execution_count": 2,
   "metadata": {},
   "outputs": [],
   "source": [
    "def print_results(results):\n",
    "    print('BEST PARAMS: {}\\n'.format(results.best_params_))\n",
    "    \n",
    "    means = results.cv_results_['mean_test_score']\n",
    "    stds = results.cv_results_['std_test_score']\n",
    "    for mean, std, params in zip(means, stds, results.cv_results_['params']):\n",
    "        print('{} (+/-{}) for {}'.format(round(mean, 3), round(std * 2, 3), params))"
   ]
  },
  {
   "cell_type": "code",
   "execution_count": 3,
   "metadata": {},
   "outputs": [
    {
     "name": "stdout",
     "output_type": "stream",
     "text": [
      "BEST PARAMS: {'max_depth': 10, 'n_estimators': 5}\n",
      "\n",
      "0.798 (+/-0.101) for {'max_depth': 2, 'n_estimators': 5}\n",
      "0.785 (+/-0.114) for {'max_depth': 2, 'n_estimators': 50}\n",
      "0.796 (+/-0.117) for {'max_depth': 2, 'n_estimators': 100}\n",
      "0.822 (+/-0.077) for {'max_depth': 10, 'n_estimators': 5}\n",
      "0.818 (+/-0.056) for {'max_depth': 10, 'n_estimators': 50}\n",
      "0.82 (+/-0.046) for {'max_depth': 10, 'n_estimators': 100}\n",
      "0.783 (+/-0.06) for {'max_depth': 20, 'n_estimators': 5}\n",
      "0.815 (+/-0.013) for {'max_depth': 20, 'n_estimators': 50}\n",
      "0.805 (+/-0.013) for {'max_depth': 20, 'n_estimators': 100}\n",
      "0.802 (+/-0.057) for {'max_depth': None, 'n_estimators': 5}\n",
      "0.809 (+/-0.034) for {'max_depth': None, 'n_estimators': 50}\n",
      "0.809 (+/-0.03) for {'max_depth': None, 'n_estimators': 100}\n"
     ]
    }
   ],
   "source": [
    "#Random Forest classifier is a collection of individual decision trees\n",
    "rf = RandomForestClassifier()\n",
    "\n",
    "# n_estimator = how many individual decision trees do we want to build within our random forest\n",
    "# max_depth = how deep each of the individual decision trees go \n",
    "# None will allow to grow the decision tree as deep as it needs to go until it hits some stopping criterias that built within the decision tree\n",
    "parameters = {\n",
    "    'n_estimators': [5, 50, 100],\n",
    "    'max_depth': [2, 10, 20, None]\n",
    "}\n",
    "\n",
    "cv = GridSearchCV(rf, parameters, cv=5) #with five fold cross validation\n",
    "cv.fit(train_features, train_labels.values.ravel())\n",
    "\n",
    "print_results(cv)\n",
    "\n",
    "# 3 levels with 4 levels of depth = 12 hyper parameters  combination\n",
    "# 1 each combination will run 5 fold cross validation => 12 * 5 = 60 models "
   ]
  },
  {
   "cell_type": "code",
   "execution_count": null,
   "metadata": {},
   "outputs": [],
   "source": []
  }
 ],
 "metadata": {
  "kernelspec": {
   "display_name": "Python 3",
   "language": "python",
   "name": "python3"
  },
  "language_info": {
   "codemirror_mode": {
    "name": "ipython",
    "version": 3
   },
   "file_extension": ".py",
   "mimetype": "text/x-python",
   "name": "python",
   "nbconvert_exporter": "python",
   "pygments_lexer": "ipython3",
   "version": "3.8.3"
  }
 },
 "nbformat": 4,
 "nbformat_minor": 2
}
