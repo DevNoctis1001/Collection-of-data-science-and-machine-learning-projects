{
 "cells": [
  {
   "cell_type": "markdown",
   "metadata": {},
   "source": [
    "#### Question\n",
    "\n",
    "someone know how to convert dataframe from cryptodatadowlnoad (http://www.cryptodatadownload.com/data/binance/) from one column to this columns 9 : 'unix', 'date', 'symbol', 'open', 'high', 'low', 'close', 'Volume BTC', 'Volume USDT' . \n",
    "\n",
    "I tried \n",
    "`df_e = pd.read_csv(\"data/Binance_BTCUSDT_1h.csv'\") \n",
    "df_e.columns = df_e.iloc[0]\n",
    "df_e.drop(df_e.index[[0, 1]], inplace=True)\n",
    "df_e.head()`\n",
    "\n",
    "\n",
    " as mentioned here (https://medium.com/analytics-vidhya/predicting-ethereum-eth-prices-with-rnn-lstm-in-keras-tensorflow-9ae2709de270) but with no luck.\n",
    " "
   ]
  },
  {
   "cell_type": "markdown",
   "metadata": {},
   "source": [
    "## My approach"
   ]
  },
  {
   "cell_type": "code",
   "execution_count": 1,
   "metadata": {},
   "outputs": [],
   "source": [
    "import pandas as pd\n",
    "import numpy as np"
   ]
  },
  {
   "cell_type": "code",
   "execution_count": 10,
   "metadata": {},
   "outputs": [],
   "source": [
    "# skip first row due to avoid reading unecessary line\n",
    "\n",
    "df = pd.read_csv('data/Binance_TRXUSDT_1h.csv', skiprows=[0])"
   ]
  },
  {
   "cell_type": "code",
   "execution_count": 11,
   "metadata": {},
   "outputs": [
    {
     "data": {
      "text/html": [
       "<div>\n",
       "<style scoped>\n",
       "    .dataframe tbody tr th:only-of-type {\n",
       "        vertical-align: middle;\n",
       "    }\n",
       "\n",
       "    .dataframe tbody tr th {\n",
       "        vertical-align: top;\n",
       "    }\n",
       "\n",
       "    .dataframe thead th {\n",
       "        text-align: right;\n",
       "    }\n",
       "</style>\n",
       "<table border=\"1\" class=\"dataframe\">\n",
       "  <thead>\n",
       "    <tr style=\"text-align: right;\">\n",
       "      <th></th>\n",
       "      <th>unix</th>\n",
       "      <th>date</th>\n",
       "      <th>symbol</th>\n",
       "      <th>open</th>\n",
       "      <th>high</th>\n",
       "      <th>low</th>\n",
       "      <th>close</th>\n",
       "      <th>Volume TRX</th>\n",
       "      <th>Volume USDT</th>\n",
       "      <th>tradecount</th>\n",
       "    </tr>\n",
       "  </thead>\n",
       "  <tbody>\n",
       "    <tr>\n",
       "      <th>0</th>\n",
       "      <td>1610928000000</td>\n",
       "      <td>2021-01-18 00:00:00</td>\n",
       "      <td>TRX/USDT</td>\n",
       "      <td>0.03020</td>\n",
       "      <td>0.03036</td>\n",
       "      <td>0.03016</td>\n",
       "      <td>0.03024</td>\n",
       "      <td>13160553.9</td>\n",
       "      <td>3.982460e+05</td>\n",
       "      <td>876</td>\n",
       "    </tr>\n",
       "    <tr>\n",
       "      <th>1</th>\n",
       "      <td>1610924400000</td>\n",
       "      <td>2021-01-17 23:00:00</td>\n",
       "      <td>TRX/USDT</td>\n",
       "      <td>0.03022</td>\n",
       "      <td>0.03042</td>\n",
       "      <td>0.03007</td>\n",
       "      <td>0.03020</td>\n",
       "      <td>44610070.6</td>\n",
       "      <td>1.350445e+06</td>\n",
       "      <td>2873</td>\n",
       "    </tr>\n",
       "    <tr>\n",
       "      <th>2</th>\n",
       "      <td>1610920800000</td>\n",
       "      <td>2021-01-17 22:00:00</td>\n",
       "      <td>TRX/USDT</td>\n",
       "      <td>0.03054</td>\n",
       "      <td>0.03056</td>\n",
       "      <td>0.03010</td>\n",
       "      <td>0.03023</td>\n",
       "      <td>88077522.3</td>\n",
       "      <td>2.671918e+06</td>\n",
       "      <td>4799</td>\n",
       "    </tr>\n",
       "    <tr>\n",
       "      <th>3</th>\n",
       "      <td>1610917200000</td>\n",
       "      <td>2021-01-17 21:00:00</td>\n",
       "      <td>TRX/USDT</td>\n",
       "      <td>0.03034</td>\n",
       "      <td>0.03058</td>\n",
       "      <td>0.03030</td>\n",
       "      <td>0.03055</td>\n",
       "      <td>39922248.4</td>\n",
       "      <td>1.216361e+06</td>\n",
       "      <td>2897</td>\n",
       "    </tr>\n",
       "    <tr>\n",
       "      <th>4</th>\n",
       "      <td>1610913600000</td>\n",
       "      <td>2021-01-17 20:00:00</td>\n",
       "      <td>TRX/USDT</td>\n",
       "      <td>0.03010</td>\n",
       "      <td>0.03050</td>\n",
       "      <td>0.03008</td>\n",
       "      <td>0.03034</td>\n",
       "      <td>62138739.7</td>\n",
       "      <td>1.883496e+06</td>\n",
       "      <td>3636</td>\n",
       "    </tr>\n",
       "  </tbody>\n",
       "</table>\n",
       "</div>"
      ],
      "text/plain": [
       "            unix                 date    symbol     open     high      low  \\\n",
       "0  1610928000000  2021-01-18 00:00:00  TRX/USDT  0.03020  0.03036  0.03016   \n",
       "1  1610924400000  2021-01-17 23:00:00  TRX/USDT  0.03022  0.03042  0.03007   \n",
       "2  1610920800000  2021-01-17 22:00:00  TRX/USDT  0.03054  0.03056  0.03010   \n",
       "3  1610917200000  2021-01-17 21:00:00  TRX/USDT  0.03034  0.03058  0.03030   \n",
       "4  1610913600000  2021-01-17 20:00:00  TRX/USDT  0.03010  0.03050  0.03008   \n",
       "\n",
       "     close  Volume TRX   Volume USDT  tradecount  \n",
       "0  0.03024  13160553.9  3.982460e+05         876  \n",
       "1  0.03020  44610070.6  1.350445e+06        2873  \n",
       "2  0.03023  88077522.3  2.671918e+06        4799  \n",
       "3  0.03055  39922248.4  1.216361e+06        2897  \n",
       "4  0.03034  62138739.7  1.883496e+06        3636  "
      ]
     },
     "execution_count": 11,
     "metadata": {},
     "output_type": "execute_result"
    }
   ],
   "source": [
    "df.head()"
   ]
  },
  {
   "cell_type": "code",
   "execution_count": 12,
   "metadata": {},
   "outputs": [
    {
     "data": {
      "text/html": [
       "<div>\n",
       "<style scoped>\n",
       "    .dataframe tbody tr th:only-of-type {\n",
       "        vertical-align: middle;\n",
       "    }\n",
       "\n",
       "    .dataframe tbody tr th {\n",
       "        vertical-align: top;\n",
       "    }\n",
       "\n",
       "    .dataframe thead th {\n",
       "        text-align: right;\n",
       "    }\n",
       "</style>\n",
       "<table border=\"1\" class=\"dataframe\">\n",
       "  <thead>\n",
       "    <tr style=\"text-align: right;\">\n",
       "      <th></th>\n",
       "      <th>unix</th>\n",
       "      <th>date</th>\n",
       "      <th>symbol</th>\n",
       "      <th>open</th>\n",
       "      <th>high</th>\n",
       "      <th>low</th>\n",
       "      <th>close</th>\n",
       "      <th>Volume TRX</th>\n",
       "      <th>Volume USDT</th>\n",
       "      <th>tradecount</th>\n",
       "    </tr>\n",
       "  </thead>\n",
       "  <tbody>\n",
       "    <tr>\n",
       "      <th>0</th>\n",
       "      <td>1610928000000</td>\n",
       "      <td>2021-01-18 00:00:00</td>\n",
       "      <td>TRX/USDT</td>\n",
       "      <td>0.0302</td>\n",
       "      <td>0.03036</td>\n",
       "      <td>0.03016</td>\n",
       "      <td>0.03024</td>\n",
       "      <td>13160553.9</td>\n",
       "      <td>398245.978492</td>\n",
       "      <td>876</td>\n",
       "    </tr>\n",
       "  </tbody>\n",
       "</table>\n",
       "</div>"
      ],
      "text/plain": [
       "            unix                 date    symbol    open     high      low  \\\n",
       "0  1610928000000  2021-01-18 00:00:00  TRX/USDT  0.0302  0.03036  0.03016   \n",
       "\n",
       "     close  Volume TRX    Volume USDT  tradecount  \n",
       "0  0.03024  13160553.9  398245.978492         876  "
      ]
     },
     "execution_count": 12,
     "metadata": {},
     "output_type": "execute_result"
    }
   ],
   "source": [
    "df.head(1)"
   ]
  },
  {
   "cell_type": "code",
   "execution_count": 13,
   "metadata": {},
   "outputs": [
    {
     "data": {
      "text/plain": [
       "Index(['unix', 'date', 'symbol', 'open', 'high', 'low', 'close', 'Volume TRX',\n",
       "       'Volume USDT', 'tradecount'],\n",
       "      dtype='object')"
      ]
     },
     "execution_count": 13,
     "metadata": {},
     "output_type": "execute_result"
    }
   ],
   "source": [
    "df.columns"
   ]
  },
  {
   "cell_type": "code",
   "execution_count": null,
   "metadata": {},
   "outputs": [],
   "source": []
  }
 ],
 "metadata": {
  "kernelspec": {
   "display_name": "venv-datascience",
   "language": "python",
   "name": "venv-datascience"
  },
  "language_info": {
   "codemirror_mode": {
    "name": "ipython",
    "version": 3
   },
   "file_extension": ".py",
   "mimetype": "text/x-python",
   "name": "python",
   "nbconvert_exporter": "python",
   "pygments_lexer": "ipython3",
   "version": "3.8.5"
  }
 },
 "nbformat": 4,
 "nbformat_minor": 4
}
