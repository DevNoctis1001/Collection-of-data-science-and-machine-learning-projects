{
 "cells": [
  {
   "cell_type": "markdown",
   "metadata": {},
   "source": [
    "## Boosting: Implement a boosting model\n",
    "\n",
    "Using the Titanic dataset from [this](https://www.kaggle.com/c/titanic/overview) Kaggle competition.\n",
    "\n",
    "In this section, we will fit and evaluate a simple Gradient Boosting model."
   ]
  },
  {
   "cell_type": "markdown",
   "metadata": {},
   "source": [
    "### Read in Data"
   ]
  },
  {
   "cell_type": "code",
   "execution_count": 2,
   "metadata": {},
   "outputs": [],
   "source": [
    "import joblib\n",
    "import pandas as pd\n",
    "\n",
    "from sklearn.ensemble import GradientBoostingClassifier\n",
    "from sklearn.model_selection import GridSearchCV"
   ]
  },
  {
   "cell_type": "code",
   "execution_count": 4,
   "metadata": {},
   "outputs": [],
   "source": [
    "tr_features = pd.read_csv('../Data/train_features.csv')\n",
    "tr_labels = pd.read_csv('../Data/train_labels.csv')"
   ]
  },
  {
   "cell_type": "markdown",
   "metadata": {},
   "source": [
    "### Hyperparameter tuning"
   ]
  },
  {
   "cell_type": "code",
   "execution_count": 10,
   "metadata": {},
   "outputs": [],
   "source": [
    "def print_results(results):\n",
    "    print('BEST PARAMS: {}\\n'.format(results.best_params_))\n",
    "\n",
    "    means = results.cv_results_['mean_test_score']\n",
    "    stds = results.cv_results_['std_test_score']\n",
    "    \n",
    "    for mean, std, params in zip(means, stds, results.cv_results_['params']):\n",
    "        print('{} (+/-{}) for {}'.format(round(mean, 3), round(std * 2, 3), params))"
   ]
  },
  {
   "cell_type": "code",
   "execution_count": 8,
   "metadata": {},
   "outputs": [
    {
     "name": "stdout",
     "output_type": "stream",
     "text": [
      "BEST PARAMS: {'learning_rate': 0.01, 'max_depth': 3, 'n_estimators': 500}\n",
      "\n",
      "0.624 (+/-0.004) for {'learning_rate': 0.01, 'max_depth': 1, 'n_estimators': 5}\n",
      "0.796 (+/-0.058) for {'learning_rate': 0.01, 'max_depth': 1, 'n_estimators': 50}\n",
      "0.796 (+/-0.058) for {'learning_rate': 0.01, 'max_depth': 1, 'n_estimators': 250}\n",
      "0.811 (+/-0.059) for {'learning_rate': 0.01, 'max_depth': 1, 'n_estimators': 500}\n",
      "0.624 (+/-0.004) for {'learning_rate': 0.01, 'max_depth': 3, 'n_estimators': 5}\n",
      "0.811 (+/-0.034) for {'learning_rate': 0.01, 'max_depth': 3, 'n_estimators': 50}\n",
      "0.824 (+/-0.043) for {'learning_rate': 0.01, 'max_depth': 3, 'n_estimators': 250}\n",
      "0.828 (+/-0.037) for {'learning_rate': 0.01, 'max_depth': 3, 'n_estimators': 500}\n",
      "0.624 (+/-0.004) for {'learning_rate': 0.01, 'max_depth': 5, 'n_estimators': 5}\n",
      "0.809 (+/-0.023) for {'learning_rate': 0.01, 'max_depth': 5, 'n_estimators': 50}\n",
      "0.822 (+/-0.029) for {'learning_rate': 0.01, 'max_depth': 5, 'n_estimators': 250}\n",
      "0.816 (+/-0.021) for {'learning_rate': 0.01, 'max_depth': 5, 'n_estimators': 500}\n",
      "0.624 (+/-0.004) for {'learning_rate': 0.01, 'max_depth': 7, 'n_estimators': 5}\n",
      "0.817 (+/-0.027) for {'learning_rate': 0.01, 'max_depth': 7, 'n_estimators': 50}\n",
      "0.803 (+/-0.013) for {'learning_rate': 0.01, 'max_depth': 7, 'n_estimators': 250}\n",
      "0.794 (+/-0.01) for {'learning_rate': 0.01, 'max_depth': 7, 'n_estimators': 500}\n",
      "0.624 (+/-0.004) for {'learning_rate': 0.01, 'max_depth': 9, 'n_estimators': 5}\n",
      "0.796 (+/-0.023) for {'learning_rate': 0.01, 'max_depth': 9, 'n_estimators': 50}\n",
      "0.788 (+/-0.02) for {'learning_rate': 0.01, 'max_depth': 9, 'n_estimators': 250}\n",
      "0.772 (+/-0.012) for {'learning_rate': 0.01, 'max_depth': 9, 'n_estimators': 500}\n",
      "0.624 (+/-0.004) for {'learning_rate': 0.01, 'max_depth': 1, 'n_estimators': 5}\n",
      "0.796 (+/-0.058) for {'learning_rate': 0.01, 'max_depth': 1, 'n_estimators': 50}\n",
      "0.796 (+/-0.058) for {'learning_rate': 0.01, 'max_depth': 1, 'n_estimators': 250}\n",
      "0.811 (+/-0.059) for {'learning_rate': 0.01, 'max_depth': 1, 'n_estimators': 500}\n",
      "0.624 (+/-0.004) for {'learning_rate': 0.01, 'max_depth': 3, 'n_estimators': 5}\n",
      "0.811 (+/-0.034) for {'learning_rate': 0.01, 'max_depth': 3, 'n_estimators': 50}\n",
      "0.824 (+/-0.043) for {'learning_rate': 0.01, 'max_depth': 3, 'n_estimators': 250}\n",
      "0.828 (+/-0.037) for {'learning_rate': 0.01, 'max_depth': 3, 'n_estimators': 500}\n",
      "0.624 (+/-0.004) for {'learning_rate': 0.01, 'max_depth': 5, 'n_estimators': 5}\n",
      "0.813 (+/-0.021) for {'learning_rate': 0.01, 'max_depth': 5, 'n_estimators': 50}\n",
      "0.82 (+/-0.029) for {'learning_rate': 0.01, 'max_depth': 5, 'n_estimators': 250}\n",
      "0.818 (+/-0.023) for {'learning_rate': 0.01, 'max_depth': 5, 'n_estimators': 500}\n",
      "0.624 (+/-0.004) for {'learning_rate': 0.01, 'max_depth': 7, 'n_estimators': 5}\n",
      "0.817 (+/-0.027) for {'learning_rate': 0.01, 'max_depth': 7, 'n_estimators': 50}\n",
      "0.807 (+/-0.013) for {'learning_rate': 0.01, 'max_depth': 7, 'n_estimators': 250}\n",
      "0.794 (+/-0.012) for {'learning_rate': 0.01, 'max_depth': 7, 'n_estimators': 500}\n",
      "0.624 (+/-0.004) for {'learning_rate': 0.01, 'max_depth': 9, 'n_estimators': 5}\n",
      "0.794 (+/-0.026) for {'learning_rate': 0.01, 'max_depth': 9, 'n_estimators': 50}\n",
      "0.787 (+/-0.018) for {'learning_rate': 0.01, 'max_depth': 9, 'n_estimators': 250}\n",
      "0.768 (+/-0.012) for {'learning_rate': 0.01, 'max_depth': 9, 'n_estimators': 500}\n",
      "0.818 (+/-0.049) for {'learning_rate': 1, 'max_depth': 1, 'n_estimators': 5}\n",
      "0.818 (+/-0.057) for {'learning_rate': 1, 'max_depth': 1, 'n_estimators': 50}\n",
      "0.815 (+/-0.034) for {'learning_rate': 1, 'max_depth': 1, 'n_estimators': 250}\n",
      "0.79 (+/-0.04) for {'learning_rate': 1, 'max_depth': 1, 'n_estimators': 500}\n",
      "0.813 (+/-0.032) for {'learning_rate': 1, 'max_depth': 3, 'n_estimators': 5}\n",
      "0.798 (+/-0.021) for {'learning_rate': 1, 'max_depth': 3, 'n_estimators': 50}\n",
      "0.805 (+/-0.019) for {'learning_rate': 1, 'max_depth': 3, 'n_estimators': 250}\n",
      "0.805 (+/-0.029) for {'learning_rate': 1, 'max_depth': 3, 'n_estimators': 500}\n",
      "0.777 (+/-0.022) for {'learning_rate': 1, 'max_depth': 5, 'n_estimators': 5}\n",
      "0.794 (+/-0.034) for {'learning_rate': 1, 'max_depth': 5, 'n_estimators': 50}\n",
      "0.817 (+/-0.035) for {'learning_rate': 1, 'max_depth': 5, 'n_estimators': 250}\n",
      "0.798 (+/-0.024) for {'learning_rate': 1, 'max_depth': 5, 'n_estimators': 500}\n",
      "0.764 (+/-0.039) for {'learning_rate': 1, 'max_depth': 7, 'n_estimators': 5}\n",
      "0.79 (+/-0.017) for {'learning_rate': 1, 'max_depth': 7, 'n_estimators': 50}\n",
      "0.787 (+/-0.026) for {'learning_rate': 1, 'max_depth': 7, 'n_estimators': 250}\n",
      "0.77 (+/-0.021) for {'learning_rate': 1, 'max_depth': 7, 'n_estimators': 500}\n",
      "0.766 (+/-0.019) for {'learning_rate': 1, 'max_depth': 9, 'n_estimators': 5}\n",
      "0.79 (+/-0.03) for {'learning_rate': 1, 'max_depth': 9, 'n_estimators': 50}\n",
      "0.783 (+/-0.015) for {'learning_rate': 1, 'max_depth': 9, 'n_estimators': 250}\n",
      "0.768 (+/-0.025) for {'learning_rate': 1, 'max_depth': 9, 'n_estimators': 500}\n",
      "0.204 (+/-0.058) for {'learning_rate': 10, 'max_depth': 1, 'n_estimators': 5}\n",
      "0.204 (+/-0.058) for {'learning_rate': 10, 'max_depth': 1, 'n_estimators': 50}\n",
      "0.204 (+/-0.058) for {'learning_rate': 10, 'max_depth': 1, 'n_estimators': 250}\n",
      "0.204 (+/-0.058) for {'learning_rate': 10, 'max_depth': 1, 'n_estimators': 500}\n",
      "0.369 (+/-0.187) for {'learning_rate': 10, 'max_depth': 3, 'n_estimators': 5}\n",
      "0.369 (+/-0.187) for {'learning_rate': 10, 'max_depth': 3, 'n_estimators': 50}\n",
      "0.369 (+/-0.187) for {'learning_rate': 10, 'max_depth': 3, 'n_estimators': 250}\n",
      "0.369 (+/-0.187) for {'learning_rate': 10, 'max_depth': 3, 'n_estimators': 500}\n",
      "0.492 (+/-0.076) for {'learning_rate': 10, 'max_depth': 5, 'n_estimators': 5}\n",
      "0.492 (+/-0.076) for {'learning_rate': 10, 'max_depth': 5, 'n_estimators': 50}\n",
      "0.487 (+/-0.076) for {'learning_rate': 10, 'max_depth': 5, 'n_estimators': 250}\n",
      "0.489 (+/-0.078) for {'learning_rate': 10, 'max_depth': 5, 'n_estimators': 500}\n",
      "0.601 (+/-0.086) for {'learning_rate': 10, 'max_depth': 7, 'n_estimators': 5}\n",
      "0.601 (+/-0.082) for {'learning_rate': 10, 'max_depth': 7, 'n_estimators': 50}\n",
      "0.608 (+/-0.08) for {'learning_rate': 10, 'max_depth': 7, 'n_estimators': 250}\n",
      "0.593 (+/-0.076) for {'learning_rate': 10, 'max_depth': 7, 'n_estimators': 500}\n",
      "0.717 (+/-0.07) for {'learning_rate': 10, 'max_depth': 9, 'n_estimators': 5}\n",
      "0.714 (+/-0.064) for {'learning_rate': 10, 'max_depth': 9, 'n_estimators': 50}\n",
      "0.729 (+/-0.076) for {'learning_rate': 10, 'max_depth': 9, 'n_estimators': 250}\n",
      "0.719 (+/-0.068) for {'learning_rate': 10, 'max_depth': 9, 'n_estimators': 500}\n",
      "0.376 (+/-0.004) for {'learning_rate': 100, 'max_depth': 1, 'n_estimators': 5}\n",
      "0.376 (+/-0.004) for {'learning_rate': 100, 'max_depth': 1, 'n_estimators': 50}\n",
      "0.376 (+/-0.004) for {'learning_rate': 100, 'max_depth': 1, 'n_estimators': 250}\n",
      "0.376 (+/-0.004) for {'learning_rate': 100, 'max_depth': 1, 'n_estimators': 500}\n",
      "0.281 (+/-0.059) for {'learning_rate': 100, 'max_depth': 3, 'n_estimators': 5}\n",
      "0.281 (+/-0.059) for {'learning_rate': 100, 'max_depth': 3, 'n_estimators': 50}\n",
      "0.281 (+/-0.059) for {'learning_rate': 100, 'max_depth': 3, 'n_estimators': 250}\n",
      "0.281 (+/-0.059) for {'learning_rate': 100, 'max_depth': 3, 'n_estimators': 500}\n",
      "0.462 (+/-0.08) for {'learning_rate': 100, 'max_depth': 5, 'n_estimators': 5}\n",
      "0.461 (+/-0.087) for {'learning_rate': 100, 'max_depth': 5, 'n_estimators': 50}\n",
      "0.462 (+/-0.08) for {'learning_rate': 100, 'max_depth': 5, 'n_estimators': 250}\n",
      "0.462 (+/-0.089) for {'learning_rate': 100, 'max_depth': 5, 'n_estimators': 500}\n",
      "0.612 (+/-0.089) for {'learning_rate': 100, 'max_depth': 7, 'n_estimators': 5}\n",
      "0.573 (+/-0.063) for {'learning_rate': 100, 'max_depth': 7, 'n_estimators': 50}\n",
      "0.584 (+/-0.08) for {'learning_rate': 100, 'max_depth': 7, 'n_estimators': 250}\n",
      "0.58 (+/-0.071) for {'learning_rate': 100, 'max_depth': 7, 'n_estimators': 500}\n",
      "0.607 (+/-0.077) for {'learning_rate': 100, 'max_depth': 9, 'n_estimators': 5}\n",
      "0.659 (+/-0.063) for {'learning_rate': 100, 'max_depth': 9, 'n_estimators': 50}\n",
      "0.652 (+/-0.052) for {'learning_rate': 100, 'max_depth': 9, 'n_estimators': 250}\n",
      "0.609 (+/-0.065) for {'learning_rate': 100, 'max_depth': 9, 'n_estimators': 500}\n"
     ]
    }
   ],
   "source": [
    "gb = GradientBoostingClassifier()\n",
    "parameters = {\n",
    "    'n_estimators': [5, 50, 250, 500],\n",
    "    'max_depth': [1, 3, 5, 7, 9],\n",
    "    'learning_rate': [0.01, 0.01, 1, 10, 100]\n",
    "}\n",
    "\n",
    "cv = GridSearchCV(gb, parameters, cv=5)\n",
    "cv.fit(tr_features, tr_labels.values.ravel())\n",
    "\n",
    "print_results(cv)"
   ]
  },
  {
   "cell_type": "code",
   "execution_count": 9,
   "metadata": {},
   "outputs": [
    {
     "data": {
      "text/plain": [
       "GradientBoostingClassifier(learning_rate=0.01, n_estimators=500)"
      ]
     },
     "execution_count": 9,
     "metadata": {},
     "output_type": "execute_result"
    }
   ],
   "source": [
    "cv.best_estimator_"
   ]
  },
  {
   "cell_type": "markdown",
   "metadata": {},
   "source": [
    "### Write out pickled model"
   ]
  },
  {
   "cell_type": "code",
   "execution_count": 11,
   "metadata": {},
   "outputs": [
    {
     "data": {
      "text/plain": [
       "['../Pickled_Models/GB_model.pkl']"
      ]
     },
     "execution_count": 11,
     "metadata": {},
     "output_type": "execute_result"
    }
   ],
   "source": [
    "joblib.dump(cv.best_estimator_, '../Pickled_Models/GB_model.pkl')"
   ]
  }
 ],
 "metadata": {
  "kernelspec": {
   "display_name": "Python 3",
   "language": "python",
   "name": "python3"
  },
  "language_info": {
   "codemirror_mode": {
    "name": "ipython",
    "version": 3
   },
   "file_extension": ".py",
   "mimetype": "text/x-python",
   "name": "python",
   "nbconvert_exporter": "python",
   "pygments_lexer": "ipython3",
   "version": "3.8.5"
  }
 },
 "nbformat": 4,
 "nbformat_minor": 2
}
