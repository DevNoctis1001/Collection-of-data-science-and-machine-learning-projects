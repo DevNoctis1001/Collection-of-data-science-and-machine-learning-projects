{
 "cells": [
  {
   "cell_type": "code",
   "execution_count": 3,
   "metadata": {},
   "outputs": [],
   "source": [
    "# to enable auto completion\n",
    "%config IPCompleter.greedy=True"
   ]
  },
  {
   "cell_type": "code",
   "execution_count": 4,
   "metadata": {},
   "outputs": [],
   "source": [
    "import PIL.Image\n",
    "import PIL.ImageDraw\n",
    "import face_recognition"
   ]
  },
  {
   "cell_type": "code",
   "execution_count": 5,
   "metadata": {},
   "outputs": [],
   "source": [
    "# Load the jpg file into numpy array\n",
    "image = face_recognition.load_image_file('img/people.jpg')"
   ]
  },
  {
   "cell_type": "code",
   "execution_count": 9,
   "metadata": {},
   "outputs": [
    {
     "data": {
      "text/plain": [
       "[(163, 605, 271, 497),\n",
       " (186, 364, 275, 275),\n",
       " (211, 175, 319, 67),\n",
       " (295, 760, 402, 653),\n",
       " (271, 474, 378, 366),\n",
       " (152, 832, 259, 724)]"
      ]
     },
     "execution_count": 9,
     "metadata": {},
     "output_type": "execute_result"
    }
   ],
   "source": [
    "# Find all faces in the image\n",
    "face_locations = face_recognition.face_locations(image)\n",
    "\n",
    "face_locations # these 4 cordinates are Top, Left, Right and bottom of each face"
   ]
  },
  {
   "cell_type": "code",
   "execution_count": 8,
   "metadata": {},
   "outputs": [
    {
     "name": "stdout",
     "output_type": "stream",
     "text": [
      "Found 6 face(s) in this photograph.\n"
     ]
    }
   ],
   "source": [
    "# check the found images\n",
    "number_of_faces = len(face_locations)\n",
    "print('Found {} face(s) in this photograph.'.format(number_of_faces))"
   ]
  },
  {
   "cell_type": "code",
   "execution_count": 10,
   "metadata": {},
   "outputs": [],
   "source": [
    "# Load the image into a Python Image Library object so that we can draw on top of it and display it\n",
    "pil_image = PIL.Image.fromarray(image)"
   ]
  },
  {
   "cell_type": "code",
   "execution_count": 12,
   "metadata": {},
   "outputs": [
    {
     "name": "stdout",
     "output_type": "stream",
     "text": [
      "A face is located at pixel location Top: 163, Left: 497, Bottom: 271, Right: 605\n",
      "A face is located at pixel location Top: 186, Left: 275, Bottom: 275, Right: 364\n",
      "A face is located at pixel location Top: 211, Left: 67, Bottom: 319, Right: 175\n",
      "A face is located at pixel location Top: 295, Left: 653, Bottom: 402, Right: 760\n",
      "A face is located at pixel location Top: 271, Left: 366, Bottom: 378, Right: 474\n",
      "A face is located at pixel location Top: 152, Left: 724, Bottom: 259, Right: 832\n"
     ]
    }
   ],
   "source": [
    "for face_location in face_locations:\n",
    "    \n",
    "    # Print the location of each face in this image. Each face is a list of co-ordinates in (top, right, bottom, left) order.\n",
    "    top, right, bottom, left = face_location\n",
    "    print(\"A face is located at pixel location Top: {}, Left: {}, Bottom: {}, Right: {}\".format(top, left, bottom, right))\n",
    "    \n",
    "    # Let's draw a box around the face\n",
    "    draw = PIL.ImageDraw.Draw(pil_image)\n",
    "    \n",
    "    # draw the rectangle box around the face\n",
    "    draw.rectangle([left, top, right, bottom], outline='red')\n",
    "    \n",
    "# Display the image on screen\n",
    "pil_image.show()"
   ]
  },
  {
   "cell_type": "code",
   "execution_count": null,
   "metadata": {},
   "outputs": [],
   "source": []
  }
 ],
 "metadata": {
  "kernelspec": {
   "display_name": "venv-datascience",
   "language": "python",
   "name": "venv-datascience"
  },
  "language_info": {
   "codemirror_mode": {
    "name": "ipython",
    "version": 3
   },
   "file_extension": ".py",
   "mimetype": "text/x-python",
   "name": "python",
   "nbconvert_exporter": "python",
   "pygments_lexer": "ipython3",
   "version": "3.8.5"
  }
 },
 "nbformat": 4,
 "nbformat_minor": 4
}
