{
 "cells": [
  {
   "cell_type": "markdown",
   "metadata": {
    "id": "hJkCULI2kqU_"
   },
   "source": [
    "<img src=\"https://prismic-io.s3.amazonaws.com/plotly-marketing-website/bd1f702a-b623-48ab-a459-3ee92a7499b4_logo-plotly.svg\">\n",
    "\n",
    "# 3D Plotting with Plotly"
   ]
  },
  {
   "cell_type": "code",
   "execution_count": 1,
   "metadata": {},
   "outputs": [],
   "source": [
    "import plotly.express as px"
   ]
  },
  {
   "cell_type": "code",
   "execution_count": 2,
   "metadata": {},
   "outputs": [
    {
     "data": {
      "text/html": [
       "<div>\n",
       "<style scoped>\n",
       "    .dataframe tbody tr th:only-of-type {\n",
       "        vertical-align: middle;\n",
       "    }\n",
       "\n",
       "    .dataframe tbody tr th {\n",
       "        vertical-align: top;\n",
       "    }\n",
       "\n",
       "    .dataframe thead th {\n",
       "        text-align: right;\n",
       "    }\n",
       "</style>\n",
       "<table border=\"1\" class=\"dataframe\">\n",
       "  <thead>\n",
       "    <tr style=\"text-align: right;\">\n",
       "      <th></th>\n",
       "      <th>country</th>\n",
       "      <th>continent</th>\n",
       "      <th>year</th>\n",
       "      <th>lifeExp</th>\n",
       "      <th>pop</th>\n",
       "      <th>gdpPercap</th>\n",
       "      <th>iso_alpha</th>\n",
       "      <th>iso_num</th>\n",
       "    </tr>\n",
       "  </thead>\n",
       "  <tbody>\n",
       "    <tr>\n",
       "      <th>0</th>\n",
       "      <td>Afghanistan</td>\n",
       "      <td>Asia</td>\n",
       "      <td>1952</td>\n",
       "      <td>28.801</td>\n",
       "      <td>8425333</td>\n",
       "      <td>779.445314</td>\n",
       "      <td>AFG</td>\n",
       "      <td>4</td>\n",
       "    </tr>\n",
       "    <tr>\n",
       "      <th>1</th>\n",
       "      <td>Afghanistan</td>\n",
       "      <td>Asia</td>\n",
       "      <td>1957</td>\n",
       "      <td>30.332</td>\n",
       "      <td>9240934</td>\n",
       "      <td>820.853030</td>\n",
       "      <td>AFG</td>\n",
       "      <td>4</td>\n",
       "    </tr>\n",
       "    <tr>\n",
       "      <th>2</th>\n",
       "      <td>Afghanistan</td>\n",
       "      <td>Asia</td>\n",
       "      <td>1962</td>\n",
       "      <td>31.997</td>\n",
       "      <td>10267083</td>\n",
       "      <td>853.100710</td>\n",
       "      <td>AFG</td>\n",
       "      <td>4</td>\n",
       "    </tr>\n",
       "    <tr>\n",
       "      <th>3</th>\n",
       "      <td>Afghanistan</td>\n",
       "      <td>Asia</td>\n",
       "      <td>1967</td>\n",
       "      <td>34.020</td>\n",
       "      <td>11537966</td>\n",
       "      <td>836.197138</td>\n",
       "      <td>AFG</td>\n",
       "      <td>4</td>\n",
       "    </tr>\n",
       "    <tr>\n",
       "      <th>4</th>\n",
       "      <td>Afghanistan</td>\n",
       "      <td>Asia</td>\n",
       "      <td>1972</td>\n",
       "      <td>36.088</td>\n",
       "      <td>13079460</td>\n",
       "      <td>739.981106</td>\n",
       "      <td>AFG</td>\n",
       "      <td>4</td>\n",
       "    </tr>\n",
       "  </tbody>\n",
       "</table>\n",
       "</div>"
      ],
      "text/plain": [
       "       country continent  year  lifeExp       pop   gdpPercap iso_alpha  \\\n",
       "0  Afghanistan      Asia  1952   28.801   8425333  779.445314       AFG   \n",
       "1  Afghanistan      Asia  1957   30.332   9240934  820.853030       AFG   \n",
       "2  Afghanistan      Asia  1962   31.997  10267083  853.100710       AFG   \n",
       "3  Afghanistan      Asia  1967   34.020  11537966  836.197138       AFG   \n",
       "4  Afghanistan      Asia  1972   36.088  13079460  739.981106       AFG   \n",
       "\n",
       "   iso_num  \n",
       "0        4  \n",
       "1        4  \n",
       "2        4  \n",
       "3        4  \n",
       "4        4  "
      ]
     },
     "execution_count": 2,
     "metadata": {},
     "output_type": "execute_result"
    }
   ],
   "source": [
    "df = px.data.gapminder()\n",
    "df.head()"
   ]
  },
  {
   "cell_type": "markdown",
   "metadata": {
    "id": "R6b2lvD6zbc_"
   },
   "source": [
    "# 3D Scatterplot"
   ]
  },
  {
   "cell_type": "code",
   "execution_count": 19,
   "metadata": {},
   "outputs": [
    {
     "data": {
      "application/vnd.plotly.v1+json": {
       "config": {
        "plotlyServerURL": "https://plotly.com"
       },
       "data": [
        {
         "hovertemplate": "country=Albania<br>lifeExp=%{x}<br>year=%{y}<br>gdpPercap=%{z}<extra></extra>",
         "legendgroup": "Albania",
         "marker": {
          "color": "#636efa",
          "symbol": "circle"
         },
         "mode": "markers",
         "name": "Albania",
         "scene": "scene",
         "showlegend": true,
         "type": "scatter3d",
         "x": [
          55.23,
          59.28,
          64.82,
          66.22,
          67.69,
          68.93,
          70.42,
          72,
          71.581,
          72.95,
          75.65100000000001,
          76.423
         ],
         "y": [
          1952,
          1957,
          1962,
          1967,
          1972,
          1977,
          1982,
          1987,
          1992,
          1997,
          2002,
          2007
         ],
         "z": [
          1601.056136,
          1942.2842440000002,
          2312.888958,
          2760.196931,
          3313.422188,
          3533.0039100000004,
          3630.880722,
          3738.9327350000003,
          2497.4379010000002,
          3193.054604,
          4604.211737,
          5937.029525999999
         ]
        },
        {
         "hovertemplate": "country=Austria<br>lifeExp=%{x}<br>year=%{y}<br>gdpPercap=%{z}<extra></extra>",
         "legendgroup": "Austria",
         "marker": {
          "color": "#EF553B",
          "symbol": "circle"
         },
         "mode": "markers",
         "name": "Austria",
         "scene": "scene",
         "showlegend": true,
         "type": "scatter3d",
         "x": [
          66.8,
          67.48,
          69.54,
          70.14,
          70.63,
          72.17,
          73.18,
          74.94,
          76.04,
          77.51,
          78.98,
          79.829
         ],
         "y": [
          1952,
          1957,
          1962,
          1967,
          1972,
          1977,
          1982,
          1987,
          1992,
          1997,
          2002,
          2007
         ],
         "z": [
          6137.076492,
          8842.59803,
          10750.721109999999,
          12834.6024,
          16661.6256,
          19749.4223,
          21597.083619999998,
          23687.82607,
          27042.01868,
          29095.920660000003,
          32417.607689999997,
          36126.4927
         ]
        },
        {
         "hovertemplate": "country=Belgium<br>lifeExp=%{x}<br>year=%{y}<br>gdpPercap=%{z}<extra></extra>",
         "legendgroup": "Belgium",
         "marker": {
          "color": "#00cc96",
          "symbol": "circle"
         },
         "mode": "markers",
         "name": "Belgium",
         "scene": "scene",
         "showlegend": true,
         "type": "scatter3d",
         "x": [
          68,
          69.24,
          70.25,
          70.94,
          71.44,
          72.8,
          73.93,
          75.35,
          76.46,
          77.53,
          78.32,
          79.441
         ],
         "y": [
          1952,
          1957,
          1962,
          1967,
          1972,
          1977,
          1982,
          1987,
          1992,
          1997,
          2002,
          2007
         ],
         "z": [
          8343.105126999999,
          9714.960623,
          10991.20676,
          13149.04119,
          16672.14356,
          19117.97448,
          20979.84589,
          22525.56308,
          25575.57069,
          27561.196630000002,
          30485.88375,
          33692.60508
         ]
        },
        {
         "hovertemplate": "country=Bosnia and Herzegovina<br>lifeExp=%{x}<br>year=%{y}<br>gdpPercap=%{z}<extra></extra>",
         "legendgroup": "Bosnia and Herzegovina",
         "marker": {
          "color": "#ab63fa",
          "symbol": "circle"
         },
         "mode": "markers",
         "name": "Bosnia and Herzegovina",
         "scene": "scene",
         "showlegend": true,
         "type": "scatter3d",
         "x": [
          53.82,
          58.45,
          61.93,
          64.79,
          67.45,
          69.86,
          70.69,
          71.14,
          72.178,
          73.244,
          74.09,
          74.852
         ],
         "y": [
          1952,
          1957,
          1962,
          1967,
          1972,
          1977,
          1982,
          1987,
          1992,
          1997,
          2002,
          2007
         ],
         "z": [
          973.5331947999999,
          1353.989176,
          1709.683679,
          2172.3524230000003,
          2860.16975,
          3528.481305,
          4126.613157,
          4314.114757,
          2546.781445,
          4766.355904,
          6018.975239,
          7446.298803
         ]
        },
        {
         "hovertemplate": "country=Bulgaria<br>lifeExp=%{x}<br>year=%{y}<br>gdpPercap=%{z}<extra></extra>",
         "legendgroup": "Bulgaria",
         "marker": {
          "color": "#FFA15A",
          "symbol": "circle"
         },
         "mode": "markers",
         "name": "Bulgaria",
         "scene": "scene",
         "showlegend": true,
         "type": "scatter3d",
         "x": [
          59.6,
          66.61,
          69.51,
          70.42,
          70.9,
          70.81,
          71.08,
          71.34,
          71.19,
          70.32,
          72.14,
          73.005
         ],
         "y": [
          1952,
          1957,
          1962,
          1967,
          1972,
          1977,
          1982,
          1987,
          1992,
          1997,
          2002,
          2007
         ],
         "z": [
          2444.2866480000002,
          3008.670727,
          4254.337839,
          5577.0028,
          6597.494398,
          7612.240438,
          8224.191647,
          8239.854824,
          6302.6234380000005,
          5970.38876,
          7696.777725,
          10680.79282
         ]
        },
        {
         "hovertemplate": "country=Croatia<br>lifeExp=%{x}<br>year=%{y}<br>gdpPercap=%{z}<extra></extra>",
         "legendgroup": "Croatia",
         "marker": {
          "color": "#19d3f3",
          "symbol": "circle"
         },
         "mode": "markers",
         "name": "Croatia",
         "scene": "scene",
         "showlegend": true,
         "type": "scatter3d",
         "x": [
          61.21,
          64.77,
          67.13,
          68.5,
          69.61,
          70.64,
          70.46,
          71.52,
          72.527,
          73.68,
          74.876,
          75.748
         ],
         "y": [
          1952,
          1957,
          1962,
          1967,
          1972,
          1977,
          1982,
          1987,
          1992,
          1997,
          2002,
          2007
         ],
         "z": [
          3119.23652,
          4338.231617,
          5477.890018,
          6960.297861,
          9164.090127,
          11305.38517,
          13221.82184,
          13822.58394,
          8447.794873,
          9875.604515,
          11628.38895,
          14619.222719999998
         ]
        },
        {
         "hovertemplate": "country=Czech Republic<br>lifeExp=%{x}<br>year=%{y}<br>gdpPercap=%{z}<extra></extra>",
         "legendgroup": "Czech Republic",
         "marker": {
          "color": "#FF6692",
          "symbol": "circle"
         },
         "mode": "markers",
         "name": "Czech Republic",
         "scene": "scene",
         "showlegend": true,
         "type": "scatter3d",
         "x": [
          66.87,
          69.03,
          69.9,
          70.38,
          70.29,
          70.71,
          70.96,
          71.58,
          72.4,
          74.01,
          75.51,
          76.486
         ],
         "y": [
          1952,
          1957,
          1962,
          1967,
          1972,
          1977,
          1982,
          1987,
          1992,
          1997,
          2002,
          2007
         ],
         "z": [
          6876.14025,
          8256.343918,
          10136.86713,
          11399.44489,
          13108.4536,
          14800.160619999999,
          15377.22855,
          16310.4434,
          14297.021219999999,
          16048.51424,
          17596.210219999997,
          22833.30851
         ]
        },
        {
         "hovertemplate": "country=Denmark<br>lifeExp=%{x}<br>year=%{y}<br>gdpPercap=%{z}<extra></extra>",
         "legendgroup": "Denmark",
         "marker": {
          "color": "#B6E880",
          "symbol": "circle"
         },
         "mode": "markers",
         "name": "Denmark",
         "scene": "scene",
         "showlegend": true,
         "type": "scatter3d",
         "x": [
          70.78,
          71.81,
          72.35,
          72.96,
          73.47,
          74.69,
          74.63,
          74.8,
          75.33,
          76.11,
          77.18,
          78.332
         ],
         "y": [
          1952,
          1957,
          1962,
          1967,
          1972,
          1977,
          1982,
          1987,
          1992,
          1997,
          2002,
          2007
         ],
         "z": [
          9692.385245,
          11099.65935,
          13583.31351,
          15937.21123,
          18866.20721,
          20422.9015,
          21688.04048,
          25116.17581,
          26406.73985,
          29804.34567,
          32166.500060000002,
          35278.41874
         ]
        },
        {
         "hovertemplate": "country=Finland<br>lifeExp=%{x}<br>year=%{y}<br>gdpPercap=%{z}<extra></extra>",
         "legendgroup": "Finland",
         "marker": {
          "color": "#FF97FF",
          "symbol": "circle"
         },
         "mode": "markers",
         "name": "Finland",
         "scene": "scene",
         "showlegend": true,
         "type": "scatter3d",
         "x": [
          66.55,
          67.49,
          68.75,
          69.83,
          70.87,
          72.52,
          74.55,
          74.83,
          75.7,
          77.13,
          78.37,
          79.313
         ],
         "y": [
          1952,
          1957,
          1962,
          1967,
          1972,
          1977,
          1982,
          1987,
          1992,
          1997,
          2002,
          2007
         ],
         "z": [
          6424.519071,
          7545.415386,
          9371.842561,
          10921.63626,
          14358.8759,
          15605.422830000001,
          18533.15761,
          21141.01223,
          20647.16499,
          23723.9502,
          28204.59057,
          33207.0844
         ]
        },
        {
         "hovertemplate": "country=France<br>lifeExp=%{x}<br>year=%{y}<br>gdpPercap=%{z}<extra></extra>",
         "legendgroup": "France",
         "marker": {
          "color": "#FECB52",
          "symbol": "circle"
         },
         "mode": "markers",
         "name": "France",
         "scene": "scene",
         "showlegend": true,
         "type": "scatter3d",
         "x": [
          67.41,
          68.93,
          70.51,
          71.55,
          72.38,
          73.83,
          74.89,
          76.34,
          77.46,
          78.64,
          79.59,
          80.657
         ],
         "y": [
          1952,
          1957,
          1962,
          1967,
          1972,
          1977,
          1982,
          1987,
          1992,
          1997,
          2002,
          2007
         ],
         "z": [
          7029.809327,
          8662.834898000001,
          10560.48553,
          12999.91766,
          16107.19171,
          18292.635140000002,
          20293.89746,
          22066.44214,
          24703.79615,
          25889.78487,
          28926.032339999998,
          30470.0167
         ]
        },
        {
         "hovertemplate": "country=Germany<br>lifeExp=%{x}<br>year=%{y}<br>gdpPercap=%{z}<extra></extra>",
         "legendgroup": "Germany",
         "marker": {
          "color": "#636efa",
          "symbol": "circle"
         },
         "mode": "markers",
         "name": "Germany",
         "scene": "scene",
         "showlegend": true,
         "type": "scatter3d",
         "x": [
          67.5,
          69.1,
          70.3,
          70.8,
          71,
          72.5,
          73.8,
          74.847,
          76.07,
          77.34,
          78.67,
          79.406
         ],
         "y": [
          1952,
          1957,
          1962,
          1967,
          1972,
          1977,
          1982,
          1987,
          1992,
          1997,
          2002,
          2007
         ],
         "z": [
          7144.114393000001,
          10187.82665,
          12902.46291,
          14745.62561,
          18016.180269999997,
          20512.92123,
          22031.532740000002,
          24639.18566,
          26505.30317,
          27788.88416,
          30035.80198,
          32170.37442
         ]
        },
        {
         "hovertemplate": "country=Greece<br>lifeExp=%{x}<br>year=%{y}<br>gdpPercap=%{z}<extra></extra>",
         "legendgroup": "Greece",
         "marker": {
          "color": "#EF553B",
          "symbol": "circle"
         },
         "mode": "markers",
         "name": "Greece",
         "scene": "scene",
         "showlegend": true,
         "type": "scatter3d",
         "x": [
          65.86,
          67.86,
          69.51,
          71,
          72.34,
          73.68,
          75.24,
          76.67,
          77.03,
          77.869,
          78.256,
          79.483
         ],
         "y": [
          1952,
          1957,
          1962,
          1967,
          1972,
          1977,
          1982,
          1987,
          1992,
          1997,
          2002,
          2007
         ],
         "z": [
          3530.690067,
          4916.299889,
          6017.190732999999,
          8513.097016,
          12724.82957,
          14195.524280000001,
          15268.420890000001,
          16120.528390000001,
          17541.49634,
          18747.69814,
          22514.2548,
          27538.41188
         ]
        },
        {
         "hovertemplate": "country=Hungary<br>lifeExp=%{x}<br>year=%{y}<br>gdpPercap=%{z}<extra></extra>",
         "legendgroup": "Hungary",
         "marker": {
          "color": "#00cc96",
          "symbol": "circle"
         },
         "mode": "markers",
         "name": "Hungary",
         "scene": "scene",
         "showlegend": true,
         "type": "scatter3d",
         "x": [
          64.03,
          66.41,
          67.96,
          69.5,
          69.76,
          69.95,
          69.39,
          69.58,
          69.17,
          71.04,
          72.59,
          73.33800000000001
         ],
         "y": [
          1952,
          1957,
          1962,
          1967,
          1972,
          1977,
          1982,
          1987,
          1992,
          1997,
          2002,
          2007
         ],
         "z": [
          5263.6738159999995,
          6040.180011,
          7550.359877,
          9326.64467,
          10168.65611,
          11674.837370000001,
          12545.99066,
          12986.47998,
          10535.62855,
          11712.7768,
          14843.93556,
          18008.94444
         ]
        },
        {
         "hovertemplate": "country=Iceland<br>lifeExp=%{x}<br>year=%{y}<br>gdpPercap=%{z}<extra></extra>",
         "legendgroup": "Iceland",
         "marker": {
          "color": "#ab63fa",
          "symbol": "circle"
         },
         "mode": "markers",
         "name": "Iceland",
         "scene": "scene",
         "showlegend": true,
         "type": "scatter3d",
         "x": [
          72.49,
          73.47,
          73.68,
          73.73,
          74.46,
          76.11,
          76.99,
          77.23,
          78.77,
          78.95,
          80.5,
          81.757
         ],
         "y": [
          1952,
          1957,
          1962,
          1967,
          1972,
          1977,
          1982,
          1987,
          1992,
          1997,
          2002,
          2007
         ],
         "z": [
          7267.688428,
          9244.001412,
          10350.15906,
          13319.89568,
          15798.063619999999,
          19654.96247,
          23269.6075,
          26923.206280000002,
          25144.39201,
          28061.099660000003,
          31163.201960000002,
          36180.789189999996
         ]
        },
        {
         "hovertemplate": "country=Ireland<br>lifeExp=%{x}<br>year=%{y}<br>gdpPercap=%{z}<extra></extra>",
         "legendgroup": "Ireland",
         "marker": {
          "color": "#FFA15A",
          "symbol": "circle"
         },
         "mode": "markers",
         "name": "Ireland",
         "scene": "scene",
         "showlegend": true,
         "type": "scatter3d",
         "x": [
          66.91,
          68.9,
          70.29,
          71.08,
          71.28,
          72.03,
          73.1,
          74.36,
          75.467,
          76.122,
          77.783,
          78.885
         ],
         "y": [
          1952,
          1957,
          1962,
          1967,
          1972,
          1977,
          1982,
          1987,
          1992,
          1997,
          2002,
          2007
         ],
         "z": [
          5210.280328,
          5599.077872,
          6631.597314,
          7655.568963,
          9530.772895999999,
          11150.98113,
          12618.321409999999,
          13872.86652,
          17558.81555,
          24521.94713,
          34077.04939,
          40675.99635
         ]
        },
        {
         "hovertemplate": "country=Italy<br>lifeExp=%{x}<br>year=%{y}<br>gdpPercap=%{z}<extra></extra>",
         "legendgroup": "Italy",
         "marker": {
          "color": "#19d3f3",
          "symbol": "circle"
         },
         "mode": "markers",
         "name": "Italy",
         "scene": "scene",
         "showlegend": true,
         "type": "scatter3d",
         "x": [
          65.94,
          67.81,
          69.24,
          71.06,
          72.19,
          73.48,
          74.98,
          76.42,
          77.44,
          78.82,
          80.24,
          80.546
         ],
         "y": [
          1952,
          1957,
          1962,
          1967,
          1972,
          1977,
          1982,
          1987,
          1992,
          1997,
          2002,
          2007
         ],
         "z": [
          4931.404154999999,
          6248.656232,
          8243.58234,
          10022.40131,
          12269.27378,
          14255.98475,
          16537.4835,
          19207.234819999998,
          22013.64486,
          24675.02446,
          27968.098169999997,
          28569.7197
         ]
        },
        {
         "hovertemplate": "country=Montenegro<br>lifeExp=%{x}<br>year=%{y}<br>gdpPercap=%{z}<extra></extra>",
         "legendgroup": "Montenegro",
         "marker": {
          "color": "#FF6692",
          "symbol": "circle"
         },
         "mode": "markers",
         "name": "Montenegro",
         "scene": "scene",
         "showlegend": true,
         "type": "scatter3d",
         "x": [
          59.163999999999994,
          61.448,
          63.728,
          67.178,
          70.63600000000001,
          73.066,
          74.101,
          74.865,
          75.435,
          75.445,
          73.98100000000001,
          74.543
         ],
         "y": [
          1952,
          1957,
          1962,
          1967,
          1972,
          1977,
          1982,
          1987,
          1992,
          1997,
          2002,
          2007
         ],
         "z": [
          2647.585601,
          3682.259903,
          4649.593785,
          5907.850937,
          7778.414017,
          9595.929904999999,
          11222.58762,
          11732.51017,
          7003.339037000001,
          6465.613349,
          6557.194282,
          9253.896111
         ]
        },
        {
         "hovertemplate": "country=Netherlands<br>lifeExp=%{x}<br>year=%{y}<br>gdpPercap=%{z}<extra></extra>",
         "legendgroup": "Netherlands",
         "marker": {
          "color": "#B6E880",
          "symbol": "circle"
         },
         "mode": "markers",
         "name": "Netherlands",
         "scene": "scene",
         "showlegend": true,
         "type": "scatter3d",
         "x": [
          72.13,
          72.99,
          73.23,
          73.82,
          73.75,
          75.24,
          76.05,
          76.83,
          77.42,
          78.03,
          78.53,
          79.762
         ],
         "y": [
          1952,
          1957,
          1962,
          1967,
          1972,
          1977,
          1982,
          1987,
          1992,
          1997,
          2002,
          2007
         ],
         "z": [
          8941.571858,
          11276.193440000001,
          12790.849559999999,
          15363.25136,
          18794.74567,
          21209.0592,
          21399.46046,
          23651.32361,
          26790.94961,
          30246.13063,
          33724.75778,
          36797.93332
         ]
        },
        {
         "hovertemplate": "country=Norway<br>lifeExp=%{x}<br>year=%{y}<br>gdpPercap=%{z}<extra></extra>",
         "legendgroup": "Norway",
         "marker": {
          "color": "#FF97FF",
          "symbol": "circle"
         },
         "mode": "markers",
         "name": "Norway",
         "scene": "scene",
         "showlegend": true,
         "type": "scatter3d",
         "x": [
          72.67,
          73.44,
          73.47,
          74.08,
          74.34,
          75.37,
          75.97,
          75.89,
          77.32,
          78.32,
          79.05,
          80.196
         ],
         "y": [
          1952,
          1957,
          1962,
          1967,
          1972,
          1977,
          1982,
          1987,
          1992,
          1997,
          2002,
          2007
         ],
         "z": [
          10095.42172,
          11653.97304,
          13450.40151,
          16361.87647,
          18965.05551,
          23311.34939,
          26298.635309999998,
          31540.9748,
          33965.66115,
          41283.16433,
          44683.97525,
          49357.19017
         ]
        },
        {
         "hovertemplate": "country=Poland<br>lifeExp=%{x}<br>year=%{y}<br>gdpPercap=%{z}<extra></extra>",
         "legendgroup": "Poland",
         "marker": {
          "color": "#FECB52",
          "symbol": "circle"
         },
         "mode": "markers",
         "name": "Poland",
         "scene": "scene",
         "showlegend": true,
         "type": "scatter3d",
         "x": [
          61.31,
          65.77,
          67.64,
          69.61,
          70.85,
          70.67,
          71.32,
          70.98,
          70.99,
          72.75,
          74.67,
          75.563
         ],
         "y": [
          1952,
          1957,
          1962,
          1967,
          1972,
          1977,
          1982,
          1987,
          1992,
          1997,
          2002,
          2007
         ],
         "z": [
          4029.3296990000003,
          4734.253019,
          5338.752143,
          6557.152776,
          8006.506993000001,
          9508.141454,
          8451.531004,
          9082.351172,
          7738.881247,
          10159.58368,
          12002.23908,
          15389.924680000002
         ]
        },
        {
         "hovertemplate": "country=Portugal<br>lifeExp=%{x}<br>year=%{y}<br>gdpPercap=%{z}<extra></extra>",
         "legendgroup": "Portugal",
         "marker": {
          "color": "#636efa",
          "symbol": "circle"
         },
         "mode": "markers",
         "name": "Portugal",
         "scene": "scene",
         "showlegend": true,
         "type": "scatter3d",
         "x": [
          59.82,
          61.51,
          64.39,
          66.6,
          69.26,
          70.41,
          72.77,
          74.06,
          74.86,
          75.97,
          77.29,
          78.098
         ],
         "y": [
          1952,
          1957,
          1962,
          1967,
          1972,
          1977,
          1982,
          1987,
          1992,
          1997,
          2002,
          2007
         ],
         "z": [
          3068.319867,
          3774.571743,
          4727.954889,
          6361.517993,
          9022.247417,
          10172.48572,
          11753.84291,
          13039.30876,
          16207.266630000002,
          17641.03156,
          19970.90787,
          20509.64777
         ]
        },
        {
         "hovertemplate": "country=Romania<br>lifeExp=%{x}<br>year=%{y}<br>gdpPercap=%{z}<extra></extra>",
         "legendgroup": "Romania",
         "marker": {
          "color": "#EF553B",
          "symbol": "circle"
         },
         "mode": "markers",
         "name": "Romania",
         "scene": "scene",
         "showlegend": true,
         "type": "scatter3d",
         "x": [
          61.05,
          64.1,
          66.8,
          66.8,
          69.21,
          69.46,
          69.66,
          69.53,
          69.36,
          69.72,
          71.322,
          72.476
         ],
         "y": [
          1952,
          1957,
          1962,
          1967,
          1972,
          1977,
          1982,
          1987,
          1992,
          1997,
          2002,
          2007
         ],
         "z": [
          3144.613186,
          3943.370225,
          4734.9975859999995,
          6470.866545,
          8011.414401999999,
          9356.39724,
          9605.314053,
          9696.273295,
          6598.409903,
          7346.547556999999,
          7885.360081,
          10808.47561
         ]
        },
        {
         "hovertemplate": "country=Serbia<br>lifeExp=%{x}<br>year=%{y}<br>gdpPercap=%{z}<extra></extra>",
         "legendgroup": "Serbia",
         "marker": {
          "color": "#00cc96",
          "symbol": "circle"
         },
         "mode": "markers",
         "name": "Serbia",
         "scene": "scene",
         "showlegend": true,
         "type": "scatter3d",
         "x": [
          57.996,
          61.685,
          64.531,
          66.914,
          68.7,
          70.3,
          70.16199999999999,
          71.218,
          71.65899999999999,
          72.232,
          73.21300000000001,
          74.002
         ],
         "y": [
          1952,
          1957,
          1962,
          1967,
          1972,
          1977,
          1982,
          1987,
          1992,
          1997,
          2002,
          2007
         ],
         "z": [
          3581.4594479999996,
          4981.090891,
          6289.629157,
          7991.707066,
          10522.067490000001,
          12980.66956,
          15181.0927,
          15870.878509999999,
          9325.068238,
          7914.320304000001,
          7236.075251,
          9786.534714
         ]
        },
        {
         "hovertemplate": "country=Slovak Republic<br>lifeExp=%{x}<br>year=%{y}<br>gdpPercap=%{z}<extra></extra>",
         "legendgroup": "Slovak Republic",
         "marker": {
          "color": "#ab63fa",
          "symbol": "circle"
         },
         "mode": "markers",
         "name": "Slovak Republic",
         "scene": "scene",
         "showlegend": true,
         "type": "scatter3d",
         "x": [
          64.36,
          67.45,
          70.33,
          70.98,
          70.35,
          70.45,
          70.8,
          71.08,
          71.38,
          72.71,
          73.8,
          74.663
         ],
         "y": [
          1952,
          1957,
          1962,
          1967,
          1972,
          1977,
          1982,
          1987,
          1992,
          1997,
          2002,
          2007
         ],
         "z": [
          5074.659104,
          6093.2629799999995,
          7481.1075980000005,
          8412.902397,
          9674.167626,
          10922.664040000001,
          11348.54585,
          12037.26758,
          9498.467723,
          12126.23065,
          13638.778369999998,
          18678.31435
         ]
        },
        {
         "hovertemplate": "country=Slovenia<br>lifeExp=%{x}<br>year=%{y}<br>gdpPercap=%{z}<extra></extra>",
         "legendgroup": "Slovenia",
         "marker": {
          "color": "#FFA15A",
          "symbol": "circle"
         },
         "mode": "markers",
         "name": "Slovenia",
         "scene": "scene",
         "showlegend": true,
         "type": "scatter3d",
         "x": [
          65.57,
          67.85,
          69.15,
          69.18,
          69.82,
          70.97,
          71.063,
          72.25,
          73.64,
          75.13,
          76.66,
          77.926
         ],
         "y": [
          1952,
          1957,
          1962,
          1967,
          1972,
          1977,
          1982,
          1987,
          1992,
          1997,
          2002,
          2007
         ],
         "z": [
          4215.041741,
          5862.276629,
          7402.303395,
          9405.489397,
          12383.4862,
          15277.030169999998,
          17866.72175,
          18678.53492,
          14214.71681,
          17161.10735,
          20660.01936,
          25768.25759
         ]
        },
        {
         "hovertemplate": "country=Spain<br>lifeExp=%{x}<br>year=%{y}<br>gdpPercap=%{z}<extra></extra>",
         "legendgroup": "Spain",
         "marker": {
          "color": "#19d3f3",
          "symbol": "circle"
         },
         "mode": "markers",
         "name": "Spain",
         "scene": "scene",
         "showlegend": true,
         "type": "scatter3d",
         "x": [
          64.94,
          66.66,
          69.69,
          71.44,
          73.06,
          74.39,
          76.3,
          76.9,
          77.57,
          78.77,
          79.78,
          80.941
         ],
         "y": [
          1952,
          1957,
          1962,
          1967,
          1972,
          1977,
          1982,
          1987,
          1992,
          1997,
          2002,
          2007
         ],
         "z": [
          3834.0347420000003,
          4564.80241,
          5693.843879,
          7993.512294,
          10638.75131,
          13236.92117,
          13926.169969999999,
          15764.98313,
          18603.06452,
          20445.29896,
          24835.47166,
          28821.0637
         ]
        },
        {
         "hovertemplate": "country=Sweden<br>lifeExp=%{x}<br>year=%{y}<br>gdpPercap=%{z}<extra></extra>",
         "legendgroup": "Sweden",
         "marker": {
          "color": "#FF6692",
          "symbol": "circle"
         },
         "mode": "markers",
         "name": "Sweden",
         "scene": "scene",
         "showlegend": true,
         "type": "scatter3d",
         "x": [
          71.86,
          72.49,
          73.37,
          74.16,
          74.72,
          75.44,
          76.42,
          77.19,
          78.16,
          79.39,
          80.04,
          80.884
         ],
         "y": [
          1952,
          1957,
          1962,
          1967,
          1972,
          1977,
          1982,
          1987,
          1992,
          1997,
          2002,
          2007
         ],
         "z": [
          8527.844662000001,
          9911.878226,
          12329.441920000001,
          15258.29697,
          17832.02464,
          18855.72521,
          20667.38125,
          23586.92927,
          23880.01683,
          25266.59499,
          29341.630930000003,
          33859.74835
         ]
        },
        {
         "hovertemplate": "country=Switzerland<br>lifeExp=%{x}<br>year=%{y}<br>gdpPercap=%{z}<extra></extra>",
         "legendgroup": "Switzerland",
         "marker": {
          "color": "#B6E880",
          "symbol": "circle"
         },
         "mode": "markers",
         "name": "Switzerland",
         "scene": "scene",
         "showlegend": true,
         "type": "scatter3d",
         "x": [
          69.62,
          70.56,
          71.32,
          72.77,
          73.78,
          75.39,
          76.21,
          77.41,
          78.03,
          79.37,
          80.62,
          81.70100000000001
         ],
         "y": [
          1952,
          1957,
          1962,
          1967,
          1972,
          1977,
          1982,
          1987,
          1992,
          1997,
          2002,
          2007
         ],
         "z": [
          14734.23275,
          17909.48973,
          20431.0927,
          22966.14432,
          27195.113039999997,
          26982.29052,
          28397.715119999997,
          30281.704589999998,
          31871.5303,
          32135.323010000004,
          34480.95771,
          37506.419069999996
         ]
        },
        {
         "hovertemplate": "country=Turkey<br>lifeExp=%{x}<br>year=%{y}<br>gdpPercap=%{z}<extra></extra>",
         "legendgroup": "Turkey",
         "marker": {
          "color": "#FF97FF",
          "symbol": "circle"
         },
         "mode": "markers",
         "name": "Turkey",
         "scene": "scene",
         "showlegend": true,
         "type": "scatter3d",
         "x": [
          43.585,
          48.07899999999999,
          52.098,
          54.336000000000006,
          57.005,
          59.507,
          61.036,
          63.108000000000004,
          66.146,
          68.835,
          70.845,
          71.777
         ],
         "y": [
          1952,
          1957,
          1962,
          1967,
          1972,
          1977,
          1982,
          1987,
          1992,
          1997,
          2002,
          2007
         ],
         "z": [
          1969.1009800000002,
          2218.754257,
          2322.8699079999997,
          2826.3563870000003,
          3450.69638,
          4269.122326,
          4241.356344,
          5089.043686,
          5678.348271,
          6601.429915,
          6508.085718,
          8458.276384
         ]
        },
        {
         "hovertemplate": "country=United Kingdom<br>lifeExp=%{x}<br>year=%{y}<br>gdpPercap=%{z}<extra></extra>",
         "legendgroup": "United Kingdom",
         "marker": {
          "color": "#FECB52",
          "symbol": "circle"
         },
         "mode": "markers",
         "name": "United Kingdom",
         "scene": "scene",
         "showlegend": true,
         "type": "scatter3d",
         "x": [
          69.18,
          70.42,
          70.76,
          71.36,
          72.01,
          72.76,
          74.04,
          75.007,
          76.42,
          77.218,
          78.471,
          79.425
         ],
         "y": [
          1952,
          1957,
          1962,
          1967,
          1972,
          1977,
          1982,
          1987,
          1992,
          1997,
          2002,
          2007
         ],
         "z": [
          9979.508487000001,
          11283.17795,
          12477.17707,
          14142.85089,
          15895.116409999999,
          17428.74846,
          18232.42452,
          21664.787669999998,
          22705.09254,
          26074.53136,
          29478.99919,
          33203.26128
         ]
        }
       ],
       "layout": {
        "legend": {
         "title": {
          "text": "country"
         },
         "tracegroupgap": 0
        },
        "margin": {
         "t": 60
        },
        "scene": {
         "domain": {
          "x": [
           0,
           1
          ],
          "y": [
           0,
           1
          ]
         },
         "xaxis": {
          "title": {
           "text": "lifeExp"
          }
         },
         "yaxis": {
          "title": {
           "text": "year"
          }
         },
         "zaxis": {
          "title": {
           "text": "gdpPercap"
          }
         }
        },
        "template": {
         "data": {
          "bar": [
           {
            "error_x": {
             "color": "#2a3f5f"
            },
            "error_y": {
             "color": "#2a3f5f"
            },
            "marker": {
             "line": {
              "color": "#E5ECF6",
              "width": 0.5
             }
            },
            "type": "bar"
           }
          ],
          "barpolar": [
           {
            "marker": {
             "line": {
              "color": "#E5ECF6",
              "width": 0.5
             }
            },
            "type": "barpolar"
           }
          ],
          "carpet": [
           {
            "aaxis": {
             "endlinecolor": "#2a3f5f",
             "gridcolor": "white",
             "linecolor": "white",
             "minorgridcolor": "white",
             "startlinecolor": "#2a3f5f"
            },
            "baxis": {
             "endlinecolor": "#2a3f5f",
             "gridcolor": "white",
             "linecolor": "white",
             "minorgridcolor": "white",
             "startlinecolor": "#2a3f5f"
            },
            "type": "carpet"
           }
          ],
          "choropleth": [
           {
            "colorbar": {
             "outlinewidth": 0,
             "ticks": ""
            },
            "type": "choropleth"
           }
          ],
          "contour": [
           {
            "colorbar": {
             "outlinewidth": 0,
             "ticks": ""
            },
            "colorscale": [
             [
              0,
              "#0d0887"
             ],
             [
              0.1111111111111111,
              "#46039f"
             ],
             [
              0.2222222222222222,
              "#7201a8"
             ],
             [
              0.3333333333333333,
              "#9c179e"
             ],
             [
              0.4444444444444444,
              "#bd3786"
             ],
             [
              0.5555555555555556,
              "#d8576b"
             ],
             [
              0.6666666666666666,
              "#ed7953"
             ],
             [
              0.7777777777777778,
              "#fb9f3a"
             ],
             [
              0.8888888888888888,
              "#fdca26"
             ],
             [
              1,
              "#f0f921"
             ]
            ],
            "type": "contour"
           }
          ],
          "contourcarpet": [
           {
            "colorbar": {
             "outlinewidth": 0,
             "ticks": ""
            },
            "type": "contourcarpet"
           }
          ],
          "heatmap": [
           {
            "colorbar": {
             "outlinewidth": 0,
             "ticks": ""
            },
            "colorscale": [
             [
              0,
              "#0d0887"
             ],
             [
              0.1111111111111111,
              "#46039f"
             ],
             [
              0.2222222222222222,
              "#7201a8"
             ],
             [
              0.3333333333333333,
              "#9c179e"
             ],
             [
              0.4444444444444444,
              "#bd3786"
             ],
             [
              0.5555555555555556,
              "#d8576b"
             ],
             [
              0.6666666666666666,
              "#ed7953"
             ],
             [
              0.7777777777777778,
              "#fb9f3a"
             ],
             [
              0.8888888888888888,
              "#fdca26"
             ],
             [
              1,
              "#f0f921"
             ]
            ],
            "type": "heatmap"
           }
          ],
          "heatmapgl": [
           {
            "colorbar": {
             "outlinewidth": 0,
             "ticks": ""
            },
            "colorscale": [
             [
              0,
              "#0d0887"
             ],
             [
              0.1111111111111111,
              "#46039f"
             ],
             [
              0.2222222222222222,
              "#7201a8"
             ],
             [
              0.3333333333333333,
              "#9c179e"
             ],
             [
              0.4444444444444444,
              "#bd3786"
             ],
             [
              0.5555555555555556,
              "#d8576b"
             ],
             [
              0.6666666666666666,
              "#ed7953"
             ],
             [
              0.7777777777777778,
              "#fb9f3a"
             ],
             [
              0.8888888888888888,
              "#fdca26"
             ],
             [
              1,
              "#f0f921"
             ]
            ],
            "type": "heatmapgl"
           }
          ],
          "histogram": [
           {
            "marker": {
             "colorbar": {
              "outlinewidth": 0,
              "ticks": ""
             }
            },
            "type": "histogram"
           }
          ],
          "histogram2d": [
           {
            "colorbar": {
             "outlinewidth": 0,
             "ticks": ""
            },
            "colorscale": [
             [
              0,
              "#0d0887"
             ],
             [
              0.1111111111111111,
              "#46039f"
             ],
             [
              0.2222222222222222,
              "#7201a8"
             ],
             [
              0.3333333333333333,
              "#9c179e"
             ],
             [
              0.4444444444444444,
              "#bd3786"
             ],
             [
              0.5555555555555556,
              "#d8576b"
             ],
             [
              0.6666666666666666,
              "#ed7953"
             ],
             [
              0.7777777777777778,
              "#fb9f3a"
             ],
             [
              0.8888888888888888,
              "#fdca26"
             ],
             [
              1,
              "#f0f921"
             ]
            ],
            "type": "histogram2d"
           }
          ],
          "histogram2dcontour": [
           {
            "colorbar": {
             "outlinewidth": 0,
             "ticks": ""
            },
            "colorscale": [
             [
              0,
              "#0d0887"
             ],
             [
              0.1111111111111111,
              "#46039f"
             ],
             [
              0.2222222222222222,
              "#7201a8"
             ],
             [
              0.3333333333333333,
              "#9c179e"
             ],
             [
              0.4444444444444444,
              "#bd3786"
             ],
             [
              0.5555555555555556,
              "#d8576b"
             ],
             [
              0.6666666666666666,
              "#ed7953"
             ],
             [
              0.7777777777777778,
              "#fb9f3a"
             ],
             [
              0.8888888888888888,
              "#fdca26"
             ],
             [
              1,
              "#f0f921"
             ]
            ],
            "type": "histogram2dcontour"
           }
          ],
          "mesh3d": [
           {
            "colorbar": {
             "outlinewidth": 0,
             "ticks": ""
            },
            "type": "mesh3d"
           }
          ],
          "parcoords": [
           {
            "line": {
             "colorbar": {
              "outlinewidth": 0,
              "ticks": ""
             }
            },
            "type": "parcoords"
           }
          ],
          "pie": [
           {
            "automargin": true,
            "type": "pie"
           }
          ],
          "scatter": [
           {
            "marker": {
             "colorbar": {
              "outlinewidth": 0,
              "ticks": ""
             }
            },
            "type": "scatter"
           }
          ],
          "scatter3d": [
           {
            "line": {
             "colorbar": {
              "outlinewidth": 0,
              "ticks": ""
             }
            },
            "marker": {
             "colorbar": {
              "outlinewidth": 0,
              "ticks": ""
             }
            },
            "type": "scatter3d"
           }
          ],
          "scattercarpet": [
           {
            "marker": {
             "colorbar": {
              "outlinewidth": 0,
              "ticks": ""
             }
            },
            "type": "scattercarpet"
           }
          ],
          "scattergeo": [
           {
            "marker": {
             "colorbar": {
              "outlinewidth": 0,
              "ticks": ""
             }
            },
            "type": "scattergeo"
           }
          ],
          "scattergl": [
           {
            "marker": {
             "colorbar": {
              "outlinewidth": 0,
              "ticks": ""
             }
            },
            "type": "scattergl"
           }
          ],
          "scattermapbox": [
           {
            "marker": {
             "colorbar": {
              "outlinewidth": 0,
              "ticks": ""
             }
            },
            "type": "scattermapbox"
           }
          ],
          "scatterpolar": [
           {
            "marker": {
             "colorbar": {
              "outlinewidth": 0,
              "ticks": ""
             }
            },
            "type": "scatterpolar"
           }
          ],
          "scatterpolargl": [
           {
            "marker": {
             "colorbar": {
              "outlinewidth": 0,
              "ticks": ""
             }
            },
            "type": "scatterpolargl"
           }
          ],
          "scatterternary": [
           {
            "marker": {
             "colorbar": {
              "outlinewidth": 0,
              "ticks": ""
             }
            },
            "type": "scatterternary"
           }
          ],
          "surface": [
           {
            "colorbar": {
             "outlinewidth": 0,
             "ticks": ""
            },
            "colorscale": [
             [
              0,
              "#0d0887"
             ],
             [
              0.1111111111111111,
              "#46039f"
             ],
             [
              0.2222222222222222,
              "#7201a8"
             ],
             [
              0.3333333333333333,
              "#9c179e"
             ],
             [
              0.4444444444444444,
              "#bd3786"
             ],
             [
              0.5555555555555556,
              "#d8576b"
             ],
             [
              0.6666666666666666,
              "#ed7953"
             ],
             [
              0.7777777777777778,
              "#fb9f3a"
             ],
             [
              0.8888888888888888,
              "#fdca26"
             ],
             [
              1,
              "#f0f921"
             ]
            ],
            "type": "surface"
           }
          ],
          "table": [
           {
            "cells": {
             "fill": {
              "color": "#EBF0F8"
             },
             "line": {
              "color": "white"
             }
            },
            "header": {
             "fill": {
              "color": "#C8D4E3"
             },
             "line": {
              "color": "white"
             }
            },
            "type": "table"
           }
          ]
         },
         "layout": {
          "annotationdefaults": {
           "arrowcolor": "#2a3f5f",
           "arrowhead": 0,
           "arrowwidth": 1
          },
          "autotypenumbers": "strict",
          "coloraxis": {
           "colorbar": {
            "outlinewidth": 0,
            "ticks": ""
           }
          },
          "colorscale": {
           "diverging": [
            [
             0,
             "#8e0152"
            ],
            [
             0.1,
             "#c51b7d"
            ],
            [
             0.2,
             "#de77ae"
            ],
            [
             0.3,
             "#f1b6da"
            ],
            [
             0.4,
             "#fde0ef"
            ],
            [
             0.5,
             "#f7f7f7"
            ],
            [
             0.6,
             "#e6f5d0"
            ],
            [
             0.7,
             "#b8e186"
            ],
            [
             0.8,
             "#7fbc41"
            ],
            [
             0.9,
             "#4d9221"
            ],
            [
             1,
             "#276419"
            ]
           ],
           "sequential": [
            [
             0,
             "#0d0887"
            ],
            [
             0.1111111111111111,
             "#46039f"
            ],
            [
             0.2222222222222222,
             "#7201a8"
            ],
            [
             0.3333333333333333,
             "#9c179e"
            ],
            [
             0.4444444444444444,
             "#bd3786"
            ],
            [
             0.5555555555555556,
             "#d8576b"
            ],
            [
             0.6666666666666666,
             "#ed7953"
            ],
            [
             0.7777777777777778,
             "#fb9f3a"
            ],
            [
             0.8888888888888888,
             "#fdca26"
            ],
            [
             1,
             "#f0f921"
            ]
           ],
           "sequentialminus": [
            [
             0,
             "#0d0887"
            ],
            [
             0.1111111111111111,
             "#46039f"
            ],
            [
             0.2222222222222222,
             "#7201a8"
            ],
            [
             0.3333333333333333,
             "#9c179e"
            ],
            [
             0.4444444444444444,
             "#bd3786"
            ],
            [
             0.5555555555555556,
             "#d8576b"
            ],
            [
             0.6666666666666666,
             "#ed7953"
            ],
            [
             0.7777777777777778,
             "#fb9f3a"
            ],
            [
             0.8888888888888888,
             "#fdca26"
            ],
            [
             1,
             "#f0f921"
            ]
           ]
          },
          "colorway": [
           "#636efa",
           "#EF553B",
           "#00cc96",
           "#ab63fa",
           "#FFA15A",
           "#19d3f3",
           "#FF6692",
           "#B6E880",
           "#FF97FF",
           "#FECB52"
          ],
          "font": {
           "color": "#2a3f5f"
          },
          "geo": {
           "bgcolor": "white",
           "lakecolor": "white",
           "landcolor": "#E5ECF6",
           "showlakes": true,
           "showland": true,
           "subunitcolor": "white"
          },
          "hoverlabel": {
           "align": "left"
          },
          "hovermode": "closest",
          "mapbox": {
           "style": "light"
          },
          "paper_bgcolor": "white",
          "plot_bgcolor": "#E5ECF6",
          "polar": {
           "angularaxis": {
            "gridcolor": "white",
            "linecolor": "white",
            "ticks": ""
           },
           "bgcolor": "#E5ECF6",
           "radialaxis": {
            "gridcolor": "white",
            "linecolor": "white",
            "ticks": ""
           }
          },
          "scene": {
           "xaxis": {
            "backgroundcolor": "#E5ECF6",
            "gridcolor": "white",
            "gridwidth": 2,
            "linecolor": "white",
            "showbackground": true,
            "ticks": "",
            "zerolinecolor": "white"
           },
           "yaxis": {
            "backgroundcolor": "#E5ECF6",
            "gridcolor": "white",
            "gridwidth": 2,
            "linecolor": "white",
            "showbackground": true,
            "ticks": "",
            "zerolinecolor": "white"
           },
           "zaxis": {
            "backgroundcolor": "#E5ECF6",
            "gridcolor": "white",
            "gridwidth": 2,
            "linecolor": "white",
            "showbackground": true,
            "ticks": "",
            "zerolinecolor": "white"
           }
          },
          "shapedefaults": {
           "line": {
            "color": "#2a3f5f"
           }
          },
          "ternary": {
           "aaxis": {
            "gridcolor": "white",
            "linecolor": "white",
            "ticks": ""
           },
           "baxis": {
            "gridcolor": "white",
            "linecolor": "white",
            "ticks": ""
           },
           "bgcolor": "#E5ECF6",
           "caxis": {
            "gridcolor": "white",
            "linecolor": "white",
            "ticks": ""
           }
          },
          "title": {
           "x": 0.05
          },
          "xaxis": {
           "automargin": true,
           "gridcolor": "white",
           "linecolor": "white",
           "ticks": "",
           "title": {
            "standoff": 15
           },
           "zerolinecolor": "white",
           "zerolinewidth": 2
          },
          "yaxis": {
           "automargin": true,
           "gridcolor": "white",
           "linecolor": "white",
           "ticks": "",
           "title": {
            "standoff": 15
           },
           "zerolinecolor": "white",
           "zerolinewidth": 2
          }
         }
        }
       }
      },
      "text/html": [
       "<div>                            <div id=\"e669c9bc-6782-4253-82f9-514addcc7550\" class=\"plotly-graph-div\" style=\"height:525px; width:100%;\"></div>            <script type=\"text/javascript\">                require([\"plotly\"], function(Plotly) {                    window.PLOTLYENV=window.PLOTLYENV || {};                                    if (document.getElementById(\"e669c9bc-6782-4253-82f9-514addcc7550\")) {                    Plotly.newPlot(                        \"e669c9bc-6782-4253-82f9-514addcc7550\",                        [{\"hovertemplate\": \"country=Albania<br>lifeExp=%{x}<br>year=%{y}<br>gdpPercap=%{z}<extra></extra>\", \"legendgroup\": \"Albania\", \"marker\": {\"color\": \"#636efa\", \"symbol\": \"circle\"}, \"mode\": \"markers\", \"name\": \"Albania\", \"scene\": \"scene\", \"showlegend\": true, \"type\": \"scatter3d\", \"x\": [55.23, 59.28, 64.82, 66.22, 67.69, 68.93, 70.42, 72.0, 71.581, 72.95, 75.65100000000001, 76.423], \"y\": [1952, 1957, 1962, 1967, 1972, 1977, 1982, 1987, 1992, 1997, 2002, 2007], \"z\": [1601.056136, 1942.2842440000002, 2312.888958, 2760.196931, 3313.422188, 3533.0039100000004, 3630.880722, 3738.9327350000003, 2497.4379010000002, 3193.054604, 4604.211737, 5937.029525999999]}, {\"hovertemplate\": \"country=Austria<br>lifeExp=%{x}<br>year=%{y}<br>gdpPercap=%{z}<extra></extra>\", \"legendgroup\": \"Austria\", \"marker\": {\"color\": \"#EF553B\", \"symbol\": \"circle\"}, \"mode\": \"markers\", \"name\": \"Austria\", \"scene\": \"scene\", \"showlegend\": true, \"type\": \"scatter3d\", \"x\": [66.8, 67.48, 69.54, 70.14, 70.63, 72.17, 73.18, 74.94, 76.04, 77.51, 78.98, 79.829], \"y\": [1952, 1957, 1962, 1967, 1972, 1977, 1982, 1987, 1992, 1997, 2002, 2007], \"z\": [6137.076492, 8842.59803, 10750.721109999999, 12834.6024, 16661.6256, 19749.4223, 21597.083619999998, 23687.82607, 27042.01868, 29095.920660000003, 32417.607689999997, 36126.4927]}, {\"hovertemplate\": \"country=Belgium<br>lifeExp=%{x}<br>year=%{y}<br>gdpPercap=%{z}<extra></extra>\", \"legendgroup\": \"Belgium\", \"marker\": {\"color\": \"#00cc96\", \"symbol\": \"circle\"}, \"mode\": \"markers\", \"name\": \"Belgium\", \"scene\": \"scene\", \"showlegend\": true, \"type\": \"scatter3d\", \"x\": [68.0, 69.24, 70.25, 70.94, 71.44, 72.8, 73.93, 75.35, 76.46, 77.53, 78.32, 79.441], \"y\": [1952, 1957, 1962, 1967, 1972, 1977, 1982, 1987, 1992, 1997, 2002, 2007], \"z\": [8343.105126999999, 9714.960623, 10991.20676, 13149.04119, 16672.14356, 19117.97448, 20979.84589, 22525.56308, 25575.57069, 27561.196630000002, 30485.88375, 33692.60508]}, {\"hovertemplate\": \"country=Bosnia and Herzegovina<br>lifeExp=%{x}<br>year=%{y}<br>gdpPercap=%{z}<extra></extra>\", \"legendgroup\": \"Bosnia and Herzegovina\", \"marker\": {\"color\": \"#ab63fa\", \"symbol\": \"circle\"}, \"mode\": \"markers\", \"name\": \"Bosnia and Herzegovina\", \"scene\": \"scene\", \"showlegend\": true, \"type\": \"scatter3d\", \"x\": [53.82, 58.45, 61.93, 64.79, 67.45, 69.86, 70.69, 71.14, 72.178, 73.244, 74.09, 74.852], \"y\": [1952, 1957, 1962, 1967, 1972, 1977, 1982, 1987, 1992, 1997, 2002, 2007], \"z\": [973.5331947999999, 1353.989176, 1709.683679, 2172.3524230000003, 2860.16975, 3528.481305, 4126.613157, 4314.114757, 2546.781445, 4766.355904, 6018.975239, 7446.298803]}, {\"hovertemplate\": \"country=Bulgaria<br>lifeExp=%{x}<br>year=%{y}<br>gdpPercap=%{z}<extra></extra>\", \"legendgroup\": \"Bulgaria\", \"marker\": {\"color\": \"#FFA15A\", \"symbol\": \"circle\"}, \"mode\": \"markers\", \"name\": \"Bulgaria\", \"scene\": \"scene\", \"showlegend\": true, \"type\": \"scatter3d\", \"x\": [59.6, 66.61, 69.51, 70.42, 70.9, 70.81, 71.08, 71.34, 71.19, 70.32, 72.14, 73.005], \"y\": [1952, 1957, 1962, 1967, 1972, 1977, 1982, 1987, 1992, 1997, 2002, 2007], \"z\": [2444.2866480000002, 3008.670727, 4254.337839, 5577.0028, 6597.494398, 7612.240438, 8224.191647, 8239.854824, 6302.6234380000005, 5970.38876, 7696.777725, 10680.79282]}, {\"hovertemplate\": \"country=Croatia<br>lifeExp=%{x}<br>year=%{y}<br>gdpPercap=%{z}<extra></extra>\", \"legendgroup\": \"Croatia\", \"marker\": {\"color\": \"#19d3f3\", \"symbol\": \"circle\"}, \"mode\": \"markers\", \"name\": \"Croatia\", \"scene\": \"scene\", \"showlegend\": true, \"type\": \"scatter3d\", \"x\": [61.21, 64.77, 67.13, 68.5, 69.61, 70.64, 70.46, 71.52, 72.527, 73.68, 74.876, 75.748], \"y\": [1952, 1957, 1962, 1967, 1972, 1977, 1982, 1987, 1992, 1997, 2002, 2007], \"z\": [3119.23652, 4338.231617, 5477.890018, 6960.297861, 9164.090127, 11305.38517, 13221.82184, 13822.58394, 8447.794873, 9875.604515, 11628.38895, 14619.222719999998]}, {\"hovertemplate\": \"country=Czech Republic<br>lifeExp=%{x}<br>year=%{y}<br>gdpPercap=%{z}<extra></extra>\", \"legendgroup\": \"Czech Republic\", \"marker\": {\"color\": \"#FF6692\", \"symbol\": \"circle\"}, \"mode\": \"markers\", \"name\": \"Czech Republic\", \"scene\": \"scene\", \"showlegend\": true, \"type\": \"scatter3d\", \"x\": [66.87, 69.03, 69.9, 70.38, 70.29, 70.71, 70.96, 71.58, 72.4, 74.01, 75.51, 76.486], \"y\": [1952, 1957, 1962, 1967, 1972, 1977, 1982, 1987, 1992, 1997, 2002, 2007], \"z\": [6876.14025, 8256.343918, 10136.86713, 11399.44489, 13108.4536, 14800.160619999999, 15377.22855, 16310.4434, 14297.021219999999, 16048.51424, 17596.210219999997, 22833.30851]}, {\"hovertemplate\": \"country=Denmark<br>lifeExp=%{x}<br>year=%{y}<br>gdpPercap=%{z}<extra></extra>\", \"legendgroup\": \"Denmark\", \"marker\": {\"color\": \"#B6E880\", \"symbol\": \"circle\"}, \"mode\": \"markers\", \"name\": \"Denmark\", \"scene\": \"scene\", \"showlegend\": true, \"type\": \"scatter3d\", \"x\": [70.78, 71.81, 72.35, 72.96, 73.47, 74.69, 74.63, 74.8, 75.33, 76.11, 77.18, 78.332], \"y\": [1952, 1957, 1962, 1967, 1972, 1977, 1982, 1987, 1992, 1997, 2002, 2007], \"z\": [9692.385245, 11099.65935, 13583.31351, 15937.21123, 18866.20721, 20422.9015, 21688.04048, 25116.17581, 26406.73985, 29804.34567, 32166.500060000002, 35278.41874]}, {\"hovertemplate\": \"country=Finland<br>lifeExp=%{x}<br>year=%{y}<br>gdpPercap=%{z}<extra></extra>\", \"legendgroup\": \"Finland\", \"marker\": {\"color\": \"#FF97FF\", \"symbol\": \"circle\"}, \"mode\": \"markers\", \"name\": \"Finland\", \"scene\": \"scene\", \"showlegend\": true, \"type\": \"scatter3d\", \"x\": [66.55, 67.49, 68.75, 69.83, 70.87, 72.52, 74.55, 74.83, 75.7, 77.13, 78.37, 79.313], \"y\": [1952, 1957, 1962, 1967, 1972, 1977, 1982, 1987, 1992, 1997, 2002, 2007], \"z\": [6424.519071, 7545.415386, 9371.842561, 10921.63626, 14358.8759, 15605.422830000001, 18533.15761, 21141.01223, 20647.16499, 23723.9502, 28204.59057, 33207.0844]}, {\"hovertemplate\": \"country=France<br>lifeExp=%{x}<br>year=%{y}<br>gdpPercap=%{z}<extra></extra>\", \"legendgroup\": \"France\", \"marker\": {\"color\": \"#FECB52\", \"symbol\": \"circle\"}, \"mode\": \"markers\", \"name\": \"France\", \"scene\": \"scene\", \"showlegend\": true, \"type\": \"scatter3d\", \"x\": [67.41, 68.93, 70.51, 71.55, 72.38, 73.83, 74.89, 76.34, 77.46, 78.64, 79.59, 80.657], \"y\": [1952, 1957, 1962, 1967, 1972, 1977, 1982, 1987, 1992, 1997, 2002, 2007], \"z\": [7029.809327, 8662.834898000001, 10560.48553, 12999.91766, 16107.19171, 18292.635140000002, 20293.89746, 22066.44214, 24703.79615, 25889.78487, 28926.032339999998, 30470.0167]}, {\"hovertemplate\": \"country=Germany<br>lifeExp=%{x}<br>year=%{y}<br>gdpPercap=%{z}<extra></extra>\", \"legendgroup\": \"Germany\", \"marker\": {\"color\": \"#636efa\", \"symbol\": \"circle\"}, \"mode\": \"markers\", \"name\": \"Germany\", \"scene\": \"scene\", \"showlegend\": true, \"type\": \"scatter3d\", \"x\": [67.5, 69.1, 70.3, 70.8, 71.0, 72.5, 73.8, 74.847, 76.07, 77.34, 78.67, 79.406], \"y\": [1952, 1957, 1962, 1967, 1972, 1977, 1982, 1987, 1992, 1997, 2002, 2007], \"z\": [7144.114393000001, 10187.82665, 12902.46291, 14745.62561, 18016.180269999997, 20512.92123, 22031.532740000002, 24639.18566, 26505.30317, 27788.88416, 30035.80198, 32170.37442]}, {\"hovertemplate\": \"country=Greece<br>lifeExp=%{x}<br>year=%{y}<br>gdpPercap=%{z}<extra></extra>\", \"legendgroup\": \"Greece\", \"marker\": {\"color\": \"#EF553B\", \"symbol\": \"circle\"}, \"mode\": \"markers\", \"name\": \"Greece\", \"scene\": \"scene\", \"showlegend\": true, \"type\": \"scatter3d\", \"x\": [65.86, 67.86, 69.51, 71.0, 72.34, 73.68, 75.24, 76.67, 77.03, 77.869, 78.256, 79.483], \"y\": [1952, 1957, 1962, 1967, 1972, 1977, 1982, 1987, 1992, 1997, 2002, 2007], \"z\": [3530.690067, 4916.299889, 6017.190732999999, 8513.097016, 12724.82957, 14195.524280000001, 15268.420890000001, 16120.528390000001, 17541.49634, 18747.69814, 22514.2548, 27538.41188]}, {\"hovertemplate\": \"country=Hungary<br>lifeExp=%{x}<br>year=%{y}<br>gdpPercap=%{z}<extra></extra>\", \"legendgroup\": \"Hungary\", \"marker\": {\"color\": \"#00cc96\", \"symbol\": \"circle\"}, \"mode\": \"markers\", \"name\": \"Hungary\", \"scene\": \"scene\", \"showlegend\": true, \"type\": \"scatter3d\", \"x\": [64.03, 66.41, 67.96, 69.5, 69.76, 69.95, 69.39, 69.58, 69.17, 71.04, 72.59, 73.33800000000001], \"y\": [1952, 1957, 1962, 1967, 1972, 1977, 1982, 1987, 1992, 1997, 2002, 2007], \"z\": [5263.6738159999995, 6040.180011, 7550.359877, 9326.64467, 10168.65611, 11674.837370000001, 12545.99066, 12986.47998, 10535.62855, 11712.7768, 14843.93556, 18008.94444]}, {\"hovertemplate\": \"country=Iceland<br>lifeExp=%{x}<br>year=%{y}<br>gdpPercap=%{z}<extra></extra>\", \"legendgroup\": \"Iceland\", \"marker\": {\"color\": \"#ab63fa\", \"symbol\": \"circle\"}, \"mode\": \"markers\", \"name\": \"Iceland\", \"scene\": \"scene\", \"showlegend\": true, \"type\": \"scatter3d\", \"x\": [72.49, 73.47, 73.68, 73.73, 74.46, 76.11, 76.99, 77.23, 78.77, 78.95, 80.5, 81.757], \"y\": [1952, 1957, 1962, 1967, 1972, 1977, 1982, 1987, 1992, 1997, 2002, 2007], \"z\": [7267.688428, 9244.001412, 10350.15906, 13319.89568, 15798.063619999999, 19654.96247, 23269.6075, 26923.206280000002, 25144.39201, 28061.099660000003, 31163.201960000002, 36180.789189999996]}, {\"hovertemplate\": \"country=Ireland<br>lifeExp=%{x}<br>year=%{y}<br>gdpPercap=%{z}<extra></extra>\", \"legendgroup\": \"Ireland\", \"marker\": {\"color\": \"#FFA15A\", \"symbol\": \"circle\"}, \"mode\": \"markers\", \"name\": \"Ireland\", \"scene\": \"scene\", \"showlegend\": true, \"type\": \"scatter3d\", \"x\": [66.91, 68.9, 70.29, 71.08, 71.28, 72.03, 73.1, 74.36, 75.467, 76.122, 77.783, 78.885], \"y\": [1952, 1957, 1962, 1967, 1972, 1977, 1982, 1987, 1992, 1997, 2002, 2007], \"z\": [5210.280328, 5599.077872, 6631.597314, 7655.568963, 9530.772895999999, 11150.98113, 12618.321409999999, 13872.86652, 17558.81555, 24521.94713, 34077.04939, 40675.99635]}, {\"hovertemplate\": \"country=Italy<br>lifeExp=%{x}<br>year=%{y}<br>gdpPercap=%{z}<extra></extra>\", \"legendgroup\": \"Italy\", \"marker\": {\"color\": \"#19d3f3\", \"symbol\": \"circle\"}, \"mode\": \"markers\", \"name\": \"Italy\", \"scene\": \"scene\", \"showlegend\": true, \"type\": \"scatter3d\", \"x\": [65.94, 67.81, 69.24, 71.06, 72.19, 73.48, 74.98, 76.42, 77.44, 78.82, 80.24, 80.546], \"y\": [1952, 1957, 1962, 1967, 1972, 1977, 1982, 1987, 1992, 1997, 2002, 2007], \"z\": [4931.404154999999, 6248.656232, 8243.58234, 10022.40131, 12269.27378, 14255.98475, 16537.4835, 19207.234819999998, 22013.64486, 24675.02446, 27968.098169999997, 28569.7197]}, {\"hovertemplate\": \"country=Montenegro<br>lifeExp=%{x}<br>year=%{y}<br>gdpPercap=%{z}<extra></extra>\", \"legendgroup\": \"Montenegro\", \"marker\": {\"color\": \"#FF6692\", \"symbol\": \"circle\"}, \"mode\": \"markers\", \"name\": \"Montenegro\", \"scene\": \"scene\", \"showlegend\": true, \"type\": \"scatter3d\", \"x\": [59.163999999999994, 61.448, 63.728, 67.178, 70.63600000000001, 73.066, 74.101, 74.865, 75.435, 75.445, 73.98100000000001, 74.543], \"y\": [1952, 1957, 1962, 1967, 1972, 1977, 1982, 1987, 1992, 1997, 2002, 2007], \"z\": [2647.585601, 3682.259903, 4649.593785, 5907.850937, 7778.414017, 9595.929904999999, 11222.58762, 11732.51017, 7003.339037000001, 6465.613349, 6557.194282, 9253.896111]}, {\"hovertemplate\": \"country=Netherlands<br>lifeExp=%{x}<br>year=%{y}<br>gdpPercap=%{z}<extra></extra>\", \"legendgroup\": \"Netherlands\", \"marker\": {\"color\": \"#B6E880\", \"symbol\": \"circle\"}, \"mode\": \"markers\", \"name\": \"Netherlands\", \"scene\": \"scene\", \"showlegend\": true, \"type\": \"scatter3d\", \"x\": [72.13, 72.99, 73.23, 73.82, 73.75, 75.24, 76.05, 76.83, 77.42, 78.03, 78.53, 79.762], \"y\": [1952, 1957, 1962, 1967, 1972, 1977, 1982, 1987, 1992, 1997, 2002, 2007], \"z\": [8941.571858, 11276.193440000001, 12790.849559999999, 15363.25136, 18794.74567, 21209.0592, 21399.46046, 23651.32361, 26790.94961, 30246.13063, 33724.75778, 36797.93332]}, {\"hovertemplate\": \"country=Norway<br>lifeExp=%{x}<br>year=%{y}<br>gdpPercap=%{z}<extra></extra>\", \"legendgroup\": \"Norway\", \"marker\": {\"color\": \"#FF97FF\", \"symbol\": \"circle\"}, \"mode\": \"markers\", \"name\": \"Norway\", \"scene\": \"scene\", \"showlegend\": true, \"type\": \"scatter3d\", \"x\": [72.67, 73.44, 73.47, 74.08, 74.34, 75.37, 75.97, 75.89, 77.32, 78.32, 79.05, 80.196], \"y\": [1952, 1957, 1962, 1967, 1972, 1977, 1982, 1987, 1992, 1997, 2002, 2007], \"z\": [10095.42172, 11653.97304, 13450.40151, 16361.87647, 18965.05551, 23311.34939, 26298.635309999998, 31540.9748, 33965.66115, 41283.16433, 44683.97525, 49357.19017]}, {\"hovertemplate\": \"country=Poland<br>lifeExp=%{x}<br>year=%{y}<br>gdpPercap=%{z}<extra></extra>\", \"legendgroup\": \"Poland\", \"marker\": {\"color\": \"#FECB52\", \"symbol\": \"circle\"}, \"mode\": \"markers\", \"name\": \"Poland\", \"scene\": \"scene\", \"showlegend\": true, \"type\": \"scatter3d\", \"x\": [61.31, 65.77, 67.64, 69.61, 70.85, 70.67, 71.32, 70.98, 70.99, 72.75, 74.67, 75.563], \"y\": [1952, 1957, 1962, 1967, 1972, 1977, 1982, 1987, 1992, 1997, 2002, 2007], \"z\": [4029.3296990000003, 4734.253019, 5338.752143, 6557.152776, 8006.506993000001, 9508.141454, 8451.531004, 9082.351172, 7738.881247, 10159.58368, 12002.23908, 15389.924680000002]}, {\"hovertemplate\": \"country=Portugal<br>lifeExp=%{x}<br>year=%{y}<br>gdpPercap=%{z}<extra></extra>\", \"legendgroup\": \"Portugal\", \"marker\": {\"color\": \"#636efa\", \"symbol\": \"circle\"}, \"mode\": \"markers\", \"name\": \"Portugal\", \"scene\": \"scene\", \"showlegend\": true, \"type\": \"scatter3d\", \"x\": [59.82, 61.51, 64.39, 66.6, 69.26, 70.41, 72.77, 74.06, 74.86, 75.97, 77.29, 78.098], \"y\": [1952, 1957, 1962, 1967, 1972, 1977, 1982, 1987, 1992, 1997, 2002, 2007], \"z\": [3068.319867, 3774.571743, 4727.954889, 6361.517993, 9022.247417, 10172.48572, 11753.84291, 13039.30876, 16207.266630000002, 17641.03156, 19970.90787, 20509.64777]}, {\"hovertemplate\": \"country=Romania<br>lifeExp=%{x}<br>year=%{y}<br>gdpPercap=%{z}<extra></extra>\", \"legendgroup\": \"Romania\", \"marker\": {\"color\": \"#EF553B\", \"symbol\": \"circle\"}, \"mode\": \"markers\", \"name\": \"Romania\", \"scene\": \"scene\", \"showlegend\": true, \"type\": \"scatter3d\", \"x\": [61.05, 64.1, 66.8, 66.8, 69.21, 69.46, 69.66, 69.53, 69.36, 69.72, 71.322, 72.476], \"y\": [1952, 1957, 1962, 1967, 1972, 1977, 1982, 1987, 1992, 1997, 2002, 2007], \"z\": [3144.613186, 3943.370225, 4734.9975859999995, 6470.866545, 8011.414401999999, 9356.39724, 9605.314053, 9696.273295, 6598.409903, 7346.547556999999, 7885.360081, 10808.47561]}, {\"hovertemplate\": \"country=Serbia<br>lifeExp=%{x}<br>year=%{y}<br>gdpPercap=%{z}<extra></extra>\", \"legendgroup\": \"Serbia\", \"marker\": {\"color\": \"#00cc96\", \"symbol\": \"circle\"}, \"mode\": \"markers\", \"name\": \"Serbia\", \"scene\": \"scene\", \"showlegend\": true, \"type\": \"scatter3d\", \"x\": [57.996, 61.685, 64.531, 66.914, 68.7, 70.3, 70.16199999999999, 71.218, 71.65899999999999, 72.232, 73.21300000000001, 74.002], \"y\": [1952, 1957, 1962, 1967, 1972, 1977, 1982, 1987, 1992, 1997, 2002, 2007], \"z\": [3581.4594479999996, 4981.090891, 6289.629157, 7991.707066, 10522.067490000001, 12980.66956, 15181.0927, 15870.878509999999, 9325.068238, 7914.320304000001, 7236.075251, 9786.534714]}, {\"hovertemplate\": \"country=Slovak Republic<br>lifeExp=%{x}<br>year=%{y}<br>gdpPercap=%{z}<extra></extra>\", \"legendgroup\": \"Slovak Republic\", \"marker\": {\"color\": \"#ab63fa\", \"symbol\": \"circle\"}, \"mode\": \"markers\", \"name\": \"Slovak Republic\", \"scene\": \"scene\", \"showlegend\": true, \"type\": \"scatter3d\", \"x\": [64.36, 67.45, 70.33, 70.98, 70.35, 70.45, 70.8, 71.08, 71.38, 72.71, 73.8, 74.663], \"y\": [1952, 1957, 1962, 1967, 1972, 1977, 1982, 1987, 1992, 1997, 2002, 2007], \"z\": [5074.659104, 6093.2629799999995, 7481.1075980000005, 8412.902397, 9674.167626, 10922.664040000001, 11348.54585, 12037.26758, 9498.467723, 12126.23065, 13638.778369999998, 18678.31435]}, {\"hovertemplate\": \"country=Slovenia<br>lifeExp=%{x}<br>year=%{y}<br>gdpPercap=%{z}<extra></extra>\", \"legendgroup\": \"Slovenia\", \"marker\": {\"color\": \"#FFA15A\", \"symbol\": \"circle\"}, \"mode\": \"markers\", \"name\": \"Slovenia\", \"scene\": \"scene\", \"showlegend\": true, \"type\": \"scatter3d\", \"x\": [65.57, 67.85, 69.15, 69.18, 69.82, 70.97, 71.063, 72.25, 73.64, 75.13, 76.66, 77.926], \"y\": [1952, 1957, 1962, 1967, 1972, 1977, 1982, 1987, 1992, 1997, 2002, 2007], \"z\": [4215.041741, 5862.276629, 7402.303395, 9405.489397, 12383.4862, 15277.030169999998, 17866.72175, 18678.53492, 14214.71681, 17161.10735, 20660.01936, 25768.25759]}, {\"hovertemplate\": \"country=Spain<br>lifeExp=%{x}<br>year=%{y}<br>gdpPercap=%{z}<extra></extra>\", \"legendgroup\": \"Spain\", \"marker\": {\"color\": \"#19d3f3\", \"symbol\": \"circle\"}, \"mode\": \"markers\", \"name\": \"Spain\", \"scene\": \"scene\", \"showlegend\": true, \"type\": \"scatter3d\", \"x\": [64.94, 66.66, 69.69, 71.44, 73.06, 74.39, 76.3, 76.9, 77.57, 78.77, 79.78, 80.941], \"y\": [1952, 1957, 1962, 1967, 1972, 1977, 1982, 1987, 1992, 1997, 2002, 2007], \"z\": [3834.0347420000003, 4564.80241, 5693.843879, 7993.512294, 10638.75131, 13236.92117, 13926.169969999999, 15764.98313, 18603.06452, 20445.29896, 24835.47166, 28821.0637]}, {\"hovertemplate\": \"country=Sweden<br>lifeExp=%{x}<br>year=%{y}<br>gdpPercap=%{z}<extra></extra>\", \"legendgroup\": \"Sweden\", \"marker\": {\"color\": \"#FF6692\", \"symbol\": \"circle\"}, \"mode\": \"markers\", \"name\": \"Sweden\", \"scene\": \"scene\", \"showlegend\": true, \"type\": \"scatter3d\", \"x\": [71.86, 72.49, 73.37, 74.16, 74.72, 75.44, 76.42, 77.19, 78.16, 79.39, 80.04, 80.884], \"y\": [1952, 1957, 1962, 1967, 1972, 1977, 1982, 1987, 1992, 1997, 2002, 2007], \"z\": [8527.844662000001, 9911.878226, 12329.441920000001, 15258.29697, 17832.02464, 18855.72521, 20667.38125, 23586.92927, 23880.01683, 25266.59499, 29341.630930000003, 33859.74835]}, {\"hovertemplate\": \"country=Switzerland<br>lifeExp=%{x}<br>year=%{y}<br>gdpPercap=%{z}<extra></extra>\", \"legendgroup\": \"Switzerland\", \"marker\": {\"color\": \"#B6E880\", \"symbol\": \"circle\"}, \"mode\": \"markers\", \"name\": \"Switzerland\", \"scene\": \"scene\", \"showlegend\": true, \"type\": \"scatter3d\", \"x\": [69.62, 70.56, 71.32, 72.77, 73.78, 75.39, 76.21, 77.41, 78.03, 79.37, 80.62, 81.70100000000001], \"y\": [1952, 1957, 1962, 1967, 1972, 1977, 1982, 1987, 1992, 1997, 2002, 2007], \"z\": [14734.23275, 17909.48973, 20431.0927, 22966.14432, 27195.113039999997, 26982.29052, 28397.715119999997, 30281.704589999998, 31871.5303, 32135.323010000004, 34480.95771, 37506.419069999996]}, {\"hovertemplate\": \"country=Turkey<br>lifeExp=%{x}<br>year=%{y}<br>gdpPercap=%{z}<extra></extra>\", \"legendgroup\": \"Turkey\", \"marker\": {\"color\": \"#FF97FF\", \"symbol\": \"circle\"}, \"mode\": \"markers\", \"name\": \"Turkey\", \"scene\": \"scene\", \"showlegend\": true, \"type\": \"scatter3d\", \"x\": [43.585, 48.07899999999999, 52.098, 54.336000000000006, 57.005, 59.507, 61.036, 63.108000000000004, 66.146, 68.835, 70.845, 71.777], \"y\": [1952, 1957, 1962, 1967, 1972, 1977, 1982, 1987, 1992, 1997, 2002, 2007], \"z\": [1969.1009800000002, 2218.754257, 2322.8699079999997, 2826.3563870000003, 3450.69638, 4269.122326, 4241.356344, 5089.043686, 5678.348271, 6601.429915, 6508.085718, 8458.276384]}, {\"hovertemplate\": \"country=United Kingdom<br>lifeExp=%{x}<br>year=%{y}<br>gdpPercap=%{z}<extra></extra>\", \"legendgroup\": \"United Kingdom\", \"marker\": {\"color\": \"#FECB52\", \"symbol\": \"circle\"}, \"mode\": \"markers\", \"name\": \"United Kingdom\", \"scene\": \"scene\", \"showlegend\": true, \"type\": \"scatter3d\", \"x\": [69.18, 70.42, 70.76, 71.36, 72.01, 72.76, 74.04, 75.007, 76.42, 77.218, 78.471, 79.425], \"y\": [1952, 1957, 1962, 1967, 1972, 1977, 1982, 1987, 1992, 1997, 2002, 2007], \"z\": [9979.508487000001, 11283.17795, 12477.17707, 14142.85089, 15895.116409999999, 17428.74846, 18232.42452, 21664.787669999998, 22705.09254, 26074.53136, 29478.99919, 33203.26128]}],                        {\"legend\": {\"title\": {\"text\": \"country\"}, \"tracegroupgap\": 0}, \"margin\": {\"t\": 60}, \"scene\": {\"domain\": {\"x\": [0.0, 1.0], \"y\": [0.0, 1.0]}, \"xaxis\": {\"title\": {\"text\": \"lifeExp\"}}, \"yaxis\": {\"title\": {\"text\": \"year\"}}, \"zaxis\": {\"title\": {\"text\": \"gdpPercap\"}}}, \"template\": {\"data\": {\"bar\": [{\"error_x\": {\"color\": \"#2a3f5f\"}, \"error_y\": {\"color\": \"#2a3f5f\"}, \"marker\": {\"line\": {\"color\": \"#E5ECF6\", \"width\": 0.5}}, \"type\": \"bar\"}], \"barpolar\": [{\"marker\": {\"line\": {\"color\": \"#E5ECF6\", \"width\": 0.5}}, \"type\": \"barpolar\"}], \"carpet\": [{\"aaxis\": {\"endlinecolor\": \"#2a3f5f\", \"gridcolor\": \"white\", \"linecolor\": \"white\", \"minorgridcolor\": \"white\", \"startlinecolor\": \"#2a3f5f\"}, \"baxis\": {\"endlinecolor\": \"#2a3f5f\", \"gridcolor\": \"white\", \"linecolor\": \"white\", \"minorgridcolor\": \"white\", \"startlinecolor\": \"#2a3f5f\"}, \"type\": \"carpet\"}], \"choropleth\": [{\"colorbar\": {\"outlinewidth\": 0, \"ticks\": \"\"}, \"type\": \"choropleth\"}], \"contour\": [{\"colorbar\": {\"outlinewidth\": 0, \"ticks\": \"\"}, \"colorscale\": [[0.0, \"#0d0887\"], [0.1111111111111111, \"#46039f\"], [0.2222222222222222, \"#7201a8\"], [0.3333333333333333, \"#9c179e\"], [0.4444444444444444, \"#bd3786\"], [0.5555555555555556, \"#d8576b\"], [0.6666666666666666, \"#ed7953\"], [0.7777777777777778, \"#fb9f3a\"], [0.8888888888888888, \"#fdca26\"], [1.0, \"#f0f921\"]], \"type\": \"contour\"}], \"contourcarpet\": [{\"colorbar\": {\"outlinewidth\": 0, \"ticks\": \"\"}, \"type\": \"contourcarpet\"}], \"heatmap\": [{\"colorbar\": {\"outlinewidth\": 0, \"ticks\": \"\"}, \"colorscale\": [[0.0, \"#0d0887\"], [0.1111111111111111, \"#46039f\"], [0.2222222222222222, \"#7201a8\"], [0.3333333333333333, \"#9c179e\"], [0.4444444444444444, \"#bd3786\"], [0.5555555555555556, \"#d8576b\"], [0.6666666666666666, \"#ed7953\"], [0.7777777777777778, \"#fb9f3a\"], [0.8888888888888888, \"#fdca26\"], [1.0, \"#f0f921\"]], \"type\": \"heatmap\"}], \"heatmapgl\": [{\"colorbar\": {\"outlinewidth\": 0, \"ticks\": \"\"}, \"colorscale\": [[0.0, \"#0d0887\"], [0.1111111111111111, \"#46039f\"], [0.2222222222222222, \"#7201a8\"], [0.3333333333333333, \"#9c179e\"], [0.4444444444444444, \"#bd3786\"], [0.5555555555555556, \"#d8576b\"], [0.6666666666666666, \"#ed7953\"], [0.7777777777777778, \"#fb9f3a\"], [0.8888888888888888, \"#fdca26\"], [1.0, \"#f0f921\"]], \"type\": \"heatmapgl\"}], \"histogram\": [{\"marker\": {\"colorbar\": {\"outlinewidth\": 0, \"ticks\": \"\"}}, \"type\": \"histogram\"}], \"histogram2d\": [{\"colorbar\": {\"outlinewidth\": 0, \"ticks\": \"\"}, \"colorscale\": [[0.0, \"#0d0887\"], [0.1111111111111111, \"#46039f\"], [0.2222222222222222, \"#7201a8\"], [0.3333333333333333, \"#9c179e\"], [0.4444444444444444, \"#bd3786\"], [0.5555555555555556, \"#d8576b\"], [0.6666666666666666, \"#ed7953\"], [0.7777777777777778, \"#fb9f3a\"], [0.8888888888888888, \"#fdca26\"], [1.0, \"#f0f921\"]], \"type\": \"histogram2d\"}], \"histogram2dcontour\": [{\"colorbar\": {\"outlinewidth\": 0, \"ticks\": \"\"}, \"colorscale\": [[0.0, \"#0d0887\"], [0.1111111111111111, \"#46039f\"], [0.2222222222222222, \"#7201a8\"], [0.3333333333333333, \"#9c179e\"], [0.4444444444444444, \"#bd3786\"], [0.5555555555555556, \"#d8576b\"], [0.6666666666666666, \"#ed7953\"], [0.7777777777777778, \"#fb9f3a\"], [0.8888888888888888, \"#fdca26\"], [1.0, \"#f0f921\"]], \"type\": \"histogram2dcontour\"}], \"mesh3d\": [{\"colorbar\": {\"outlinewidth\": 0, \"ticks\": \"\"}, \"type\": \"mesh3d\"}], \"parcoords\": [{\"line\": {\"colorbar\": {\"outlinewidth\": 0, \"ticks\": \"\"}}, \"type\": \"parcoords\"}], \"pie\": [{\"automargin\": true, \"type\": \"pie\"}], \"scatter\": [{\"marker\": {\"colorbar\": {\"outlinewidth\": 0, \"ticks\": \"\"}}, \"type\": \"scatter\"}], \"scatter3d\": [{\"line\": {\"colorbar\": {\"outlinewidth\": 0, \"ticks\": \"\"}}, \"marker\": {\"colorbar\": {\"outlinewidth\": 0, \"ticks\": \"\"}}, \"type\": \"scatter3d\"}], \"scattercarpet\": [{\"marker\": {\"colorbar\": {\"outlinewidth\": 0, \"ticks\": \"\"}}, \"type\": \"scattercarpet\"}], \"scattergeo\": [{\"marker\": {\"colorbar\": {\"outlinewidth\": 0, \"ticks\": \"\"}}, \"type\": \"scattergeo\"}], \"scattergl\": [{\"marker\": {\"colorbar\": {\"outlinewidth\": 0, \"ticks\": \"\"}}, \"type\": \"scattergl\"}], \"scattermapbox\": [{\"marker\": {\"colorbar\": {\"outlinewidth\": 0, \"ticks\": \"\"}}, \"type\": \"scattermapbox\"}], \"scatterpolar\": [{\"marker\": {\"colorbar\": {\"outlinewidth\": 0, \"ticks\": \"\"}}, \"type\": \"scatterpolar\"}], \"scatterpolargl\": [{\"marker\": {\"colorbar\": {\"outlinewidth\": 0, \"ticks\": \"\"}}, \"type\": \"scatterpolargl\"}], \"scatterternary\": [{\"marker\": {\"colorbar\": {\"outlinewidth\": 0, \"ticks\": \"\"}}, \"type\": \"scatterternary\"}], \"surface\": [{\"colorbar\": {\"outlinewidth\": 0, \"ticks\": \"\"}, \"colorscale\": [[0.0, \"#0d0887\"], [0.1111111111111111, \"#46039f\"], [0.2222222222222222, \"#7201a8\"], [0.3333333333333333, \"#9c179e\"], [0.4444444444444444, \"#bd3786\"], [0.5555555555555556, \"#d8576b\"], [0.6666666666666666, \"#ed7953\"], [0.7777777777777778, \"#fb9f3a\"], [0.8888888888888888, \"#fdca26\"], [1.0, \"#f0f921\"]], \"type\": \"surface\"}], \"table\": [{\"cells\": {\"fill\": {\"color\": \"#EBF0F8\"}, \"line\": {\"color\": \"white\"}}, \"header\": {\"fill\": {\"color\": \"#C8D4E3\"}, \"line\": {\"color\": \"white\"}}, \"type\": \"table\"}]}, \"layout\": {\"annotationdefaults\": {\"arrowcolor\": \"#2a3f5f\", \"arrowhead\": 0, \"arrowwidth\": 1}, \"autotypenumbers\": \"strict\", \"coloraxis\": {\"colorbar\": {\"outlinewidth\": 0, \"ticks\": \"\"}}, \"colorscale\": {\"diverging\": [[0, \"#8e0152\"], [0.1, \"#c51b7d\"], [0.2, \"#de77ae\"], [0.3, \"#f1b6da\"], [0.4, \"#fde0ef\"], [0.5, \"#f7f7f7\"], [0.6, \"#e6f5d0\"], [0.7, \"#b8e186\"], [0.8, \"#7fbc41\"], [0.9, \"#4d9221\"], [1, \"#276419\"]], \"sequential\": [[0.0, \"#0d0887\"], [0.1111111111111111, \"#46039f\"], [0.2222222222222222, \"#7201a8\"], [0.3333333333333333, \"#9c179e\"], [0.4444444444444444, \"#bd3786\"], [0.5555555555555556, \"#d8576b\"], [0.6666666666666666, \"#ed7953\"], [0.7777777777777778, \"#fb9f3a\"], [0.8888888888888888, \"#fdca26\"], [1.0, \"#f0f921\"]], \"sequentialminus\": [[0.0, \"#0d0887\"], [0.1111111111111111, \"#46039f\"], [0.2222222222222222, \"#7201a8\"], [0.3333333333333333, \"#9c179e\"], [0.4444444444444444, \"#bd3786\"], [0.5555555555555556, \"#d8576b\"], [0.6666666666666666, \"#ed7953\"], [0.7777777777777778, \"#fb9f3a\"], [0.8888888888888888, \"#fdca26\"], [1.0, \"#f0f921\"]]}, \"colorway\": [\"#636efa\", \"#EF553B\", \"#00cc96\", \"#ab63fa\", \"#FFA15A\", \"#19d3f3\", \"#FF6692\", \"#B6E880\", \"#FF97FF\", \"#FECB52\"], \"font\": {\"color\": \"#2a3f5f\"}, \"geo\": {\"bgcolor\": \"white\", \"lakecolor\": \"white\", \"landcolor\": \"#E5ECF6\", \"showlakes\": true, \"showland\": true, \"subunitcolor\": \"white\"}, \"hoverlabel\": {\"align\": \"left\"}, \"hovermode\": \"closest\", \"mapbox\": {\"style\": \"light\"}, \"paper_bgcolor\": \"white\", \"plot_bgcolor\": \"#E5ECF6\", \"polar\": {\"angularaxis\": {\"gridcolor\": \"white\", \"linecolor\": \"white\", \"ticks\": \"\"}, \"bgcolor\": \"#E5ECF6\", \"radialaxis\": {\"gridcolor\": \"white\", \"linecolor\": \"white\", \"ticks\": \"\"}}, \"scene\": {\"xaxis\": {\"backgroundcolor\": \"#E5ECF6\", \"gridcolor\": \"white\", \"gridwidth\": 2, \"linecolor\": \"white\", \"showbackground\": true, \"ticks\": \"\", \"zerolinecolor\": \"white\"}, \"yaxis\": {\"backgroundcolor\": \"#E5ECF6\", \"gridcolor\": \"white\", \"gridwidth\": 2, \"linecolor\": \"white\", \"showbackground\": true, \"ticks\": \"\", \"zerolinecolor\": \"white\"}, \"zaxis\": {\"backgroundcolor\": \"#E5ECF6\", \"gridcolor\": \"white\", \"gridwidth\": 2, \"linecolor\": \"white\", \"showbackground\": true, \"ticks\": \"\", \"zerolinecolor\": \"white\"}}, \"shapedefaults\": {\"line\": {\"color\": \"#2a3f5f\"}}, \"ternary\": {\"aaxis\": {\"gridcolor\": \"white\", \"linecolor\": \"white\", \"ticks\": \"\"}, \"baxis\": {\"gridcolor\": \"white\", \"linecolor\": \"white\", \"ticks\": \"\"}, \"bgcolor\": \"#E5ECF6\", \"caxis\": {\"gridcolor\": \"white\", \"linecolor\": \"white\", \"ticks\": \"\"}}, \"title\": {\"x\": 0.05}, \"xaxis\": {\"automargin\": true, \"gridcolor\": \"white\", \"linecolor\": \"white\", \"ticks\": \"\", \"title\": {\"standoff\": 15}, \"zerolinecolor\": \"white\", \"zerolinewidth\": 2}, \"yaxis\": {\"automargin\": true, \"gridcolor\": \"white\", \"linecolor\": \"white\", \"ticks\": \"\", \"title\": {\"standoff\": 15}, \"zerolinecolor\": \"white\", \"zerolinewidth\": 2}}}},                        {\"responsive\": true}                    ).then(function(){\n",
       "                            \n",
       "var gd = document.getElementById('e669c9bc-6782-4253-82f9-514addcc7550');\n",
       "var x = new MutationObserver(function (mutations, observer) {{\n",
       "        var display = window.getComputedStyle(gd).display;\n",
       "        if (!display || display === 'none') {{\n",
       "            console.log([gd, 'removed!']);\n",
       "            Plotly.purge(gd);\n",
       "            observer.disconnect();\n",
       "        }}\n",
       "}});\n",
       "\n",
       "// Listen for the removal of the full notebook cells\n",
       "var notebookContainer = gd.closest('#notebook-container');\n",
       "if (notebookContainer) {{\n",
       "    x.observe(notebookContainer, {childList: true});\n",
       "}}\n",
       "\n",
       "// Listen for the clearing of the current output cell\n",
       "var outputEl = gd.closest('.output');\n",
       "if (outputEl) {{\n",
       "    x.observe(outputEl, {childList: true});\n",
       "}}\n",
       "\n",
       "                        })                };                });            </script>        </div>"
      ]
     },
     "metadata": {},
     "output_type": "display_data"
    }
   ],
   "source": [
    "euro_countries = df[df['continent'] == \"Europe\"]\n",
    "\n",
    "fig = px.scatter_3d(euro_countries, x='lifeExp', y='year', z='gdpPercap', color='country')\n",
    "fig.show()"
   ]
  },
  {
   "cell_type": "markdown",
   "metadata": {},
   "source": [
    "----"
   ]
  },
  {
   "cell_type": "code",
   "execution_count": null,
   "metadata": {},
   "outputs": [],
   "source": []
  },
  {
   "cell_type": "markdown",
   "metadata": {},
   "source": [
    "# 3d plot to 3d bubble chart\n",
    "* `size` parameter"
   ]
  },
  {
   "cell_type": "code",
   "execution_count": 20,
   "metadata": {},
   "outputs": [
    {
     "data": {
      "application/vnd.plotly.v1+json": {
       "config": {
        "plotlyServerURL": "https://plotly.com"
       },
       "data": [
        {
         "hovertemplate": "country=Albania<br>lifeExp=%{x}<br>year=%{y}<br>gdpPercap=%{z}<br>pop=%{marker.size}<extra></extra>",
         "legendgroup": "Albania",
         "marker": {
          "color": "#636efa",
          "size": [
           1282697,
           1476505,
           1728137,
           1984060,
           2263554,
           2509048,
           2780097,
           3075321,
           3326498,
           3428038,
           3508512,
           3600523
          ],
          "sizemode": "area",
          "sizeref": 206002.49,
          "symbol": "circle"
         },
         "mode": "markers",
         "name": "Albania",
         "scene": "scene",
         "showlegend": true,
         "type": "scatter3d",
         "x": [
          55.23,
          59.28,
          64.82,
          66.22,
          67.69,
          68.93,
          70.42,
          72,
          71.581,
          72.95,
          75.65100000000001,
          76.423
         ],
         "y": [
          1952,
          1957,
          1962,
          1967,
          1972,
          1977,
          1982,
          1987,
          1992,
          1997,
          2002,
          2007
         ],
         "z": [
          1601.056136,
          1942.2842440000002,
          2312.888958,
          2760.196931,
          3313.422188,
          3533.0039100000004,
          3630.880722,
          3738.9327350000003,
          2497.4379010000002,
          3193.054604,
          4604.211737,
          5937.029525999999
         ]
        },
        {
         "hovertemplate": "country=Austria<br>lifeExp=%{x}<br>year=%{y}<br>gdpPercap=%{z}<br>pop=%{marker.size}<extra></extra>",
         "legendgroup": "Austria",
         "marker": {
          "color": "#EF553B",
          "size": [
           6927772,
           6965860,
           7129864,
           7376998,
           7544201,
           7568430,
           7574613,
           7578903,
           7914969,
           8069876,
           8148312,
           8199783
          ],
          "sizemode": "area",
          "sizeref": 206002.49,
          "symbol": "circle"
         },
         "mode": "markers",
         "name": "Austria",
         "scene": "scene",
         "showlegend": true,
         "type": "scatter3d",
         "x": [
          66.8,
          67.48,
          69.54,
          70.14,
          70.63,
          72.17,
          73.18,
          74.94,
          76.04,
          77.51,
          78.98,
          79.829
         ],
         "y": [
          1952,
          1957,
          1962,
          1967,
          1972,
          1977,
          1982,
          1987,
          1992,
          1997,
          2002,
          2007
         ],
         "z": [
          6137.076492,
          8842.59803,
          10750.721109999999,
          12834.6024,
          16661.6256,
          19749.4223,
          21597.083619999998,
          23687.82607,
          27042.01868,
          29095.920660000003,
          32417.607689999997,
          36126.4927
         ]
        },
        {
         "hovertemplate": "country=Belgium<br>lifeExp=%{x}<br>year=%{y}<br>gdpPercap=%{z}<br>pop=%{marker.size}<extra></extra>",
         "legendgroup": "Belgium",
         "marker": {
          "color": "#00cc96",
          "size": [
           8730405,
           8989111,
           9218400,
           9556500,
           9709100,
           9821800,
           9856303,
           9870200,
           10045622,
           10199787,
           10311970,
           10392226
          ],
          "sizemode": "area",
          "sizeref": 206002.49,
          "symbol": "circle"
         },
         "mode": "markers",
         "name": "Belgium",
         "scene": "scene",
         "showlegend": true,
         "type": "scatter3d",
         "x": [
          68,
          69.24,
          70.25,
          70.94,
          71.44,
          72.8,
          73.93,
          75.35,
          76.46,
          77.53,
          78.32,
          79.441
         ],
         "y": [
          1952,
          1957,
          1962,
          1967,
          1972,
          1977,
          1982,
          1987,
          1992,
          1997,
          2002,
          2007
         ],
         "z": [
          8343.105126999999,
          9714.960623,
          10991.20676,
          13149.04119,
          16672.14356,
          19117.97448,
          20979.84589,
          22525.56308,
          25575.57069,
          27561.196630000002,
          30485.88375,
          33692.60508
         ]
        },
        {
         "hovertemplate": "country=Bosnia and Herzegovina<br>lifeExp=%{x}<br>year=%{y}<br>gdpPercap=%{z}<br>pop=%{marker.size}<extra></extra>",
         "legendgroup": "Bosnia and Herzegovina",
         "marker": {
          "color": "#ab63fa",
          "size": [
           2791000,
           3076000,
           3349000,
           3585000,
           3819000,
           4086000,
           4172693,
           4338977,
           4256013,
           3607000,
           4165416,
           4552198
          ],
          "sizemode": "area",
          "sizeref": 206002.49,
          "symbol": "circle"
         },
         "mode": "markers",
         "name": "Bosnia and Herzegovina",
         "scene": "scene",
         "showlegend": true,
         "type": "scatter3d",
         "x": [
          53.82,
          58.45,
          61.93,
          64.79,
          67.45,
          69.86,
          70.69,
          71.14,
          72.178,
          73.244,
          74.09,
          74.852
         ],
         "y": [
          1952,
          1957,
          1962,
          1967,
          1972,
          1977,
          1982,
          1987,
          1992,
          1997,
          2002,
          2007
         ],
         "z": [
          973.5331947999999,
          1353.989176,
          1709.683679,
          2172.3524230000003,
          2860.16975,
          3528.481305,
          4126.613157,
          4314.114757,
          2546.781445,
          4766.355904,
          6018.975239,
          7446.298803
         ]
        },
        {
         "hovertemplate": "country=Bulgaria<br>lifeExp=%{x}<br>year=%{y}<br>gdpPercap=%{z}<br>pop=%{marker.size}<extra></extra>",
         "legendgroup": "Bulgaria",
         "marker": {
          "color": "#FFA15A",
          "size": [
           7274900,
           7651254,
           8012946,
           8310226,
           8576200,
           8797022,
           8892098,
           8971958,
           8658506,
           8066057,
           7661799,
           7322858
          ],
          "sizemode": "area",
          "sizeref": 206002.49,
          "symbol": "circle"
         },
         "mode": "markers",
         "name": "Bulgaria",
         "scene": "scene",
         "showlegend": true,
         "type": "scatter3d",
         "x": [
          59.6,
          66.61,
          69.51,
          70.42,
          70.9,
          70.81,
          71.08,
          71.34,
          71.19,
          70.32,
          72.14,
          73.005
         ],
         "y": [
          1952,
          1957,
          1962,
          1967,
          1972,
          1977,
          1982,
          1987,
          1992,
          1997,
          2002,
          2007
         ],
         "z": [
          2444.2866480000002,
          3008.670727,
          4254.337839,
          5577.0028,
          6597.494398,
          7612.240438,
          8224.191647,
          8239.854824,
          6302.6234380000005,
          5970.38876,
          7696.777725,
          10680.79282
         ]
        },
        {
         "hovertemplate": "country=Croatia<br>lifeExp=%{x}<br>year=%{y}<br>gdpPercap=%{z}<br>pop=%{marker.size}<extra></extra>",
         "legendgroup": "Croatia",
         "marker": {
          "color": "#19d3f3",
          "size": [
           3882229,
           3991242,
           4076557,
           4174366,
           4225310,
           4318673,
           4413368,
           4484310,
           4494013,
           4444595,
           4481020,
           4493312
          ],
          "sizemode": "area",
          "sizeref": 206002.49,
          "symbol": "circle"
         },
         "mode": "markers",
         "name": "Croatia",
         "scene": "scene",
         "showlegend": true,
         "type": "scatter3d",
         "x": [
          61.21,
          64.77,
          67.13,
          68.5,
          69.61,
          70.64,
          70.46,
          71.52,
          72.527,
          73.68,
          74.876,
          75.748
         ],
         "y": [
          1952,
          1957,
          1962,
          1967,
          1972,
          1977,
          1982,
          1987,
          1992,
          1997,
          2002,
          2007
         ],
         "z": [
          3119.23652,
          4338.231617,
          5477.890018,
          6960.297861,
          9164.090127,
          11305.38517,
          13221.82184,
          13822.58394,
          8447.794873,
          9875.604515,
          11628.38895,
          14619.222719999998
         ]
        },
        {
         "hovertemplate": "country=Czech Republic<br>lifeExp=%{x}<br>year=%{y}<br>gdpPercap=%{z}<br>pop=%{marker.size}<extra></extra>",
         "legendgroup": "Czech Republic",
         "marker": {
          "color": "#FF6692",
          "size": [
           9125183,
           9513758,
           9620282,
           9835109,
           9862158,
           10161915,
           10303704,
           10311597,
           10315702,
           10300707,
           10256295,
           10228744
          ],
          "sizemode": "area",
          "sizeref": 206002.49,
          "symbol": "circle"
         },
         "mode": "markers",
         "name": "Czech Republic",
         "scene": "scene",
         "showlegend": true,
         "type": "scatter3d",
         "x": [
          66.87,
          69.03,
          69.9,
          70.38,
          70.29,
          70.71,
          70.96,
          71.58,
          72.4,
          74.01,
          75.51,
          76.486
         ],
         "y": [
          1952,
          1957,
          1962,
          1967,
          1972,
          1977,
          1982,
          1987,
          1992,
          1997,
          2002,
          2007
         ],
         "z": [
          6876.14025,
          8256.343918,
          10136.86713,
          11399.44489,
          13108.4536,
          14800.160619999999,
          15377.22855,
          16310.4434,
          14297.021219999999,
          16048.51424,
          17596.210219999997,
          22833.30851
         ]
        },
        {
         "hovertemplate": "country=Denmark<br>lifeExp=%{x}<br>year=%{y}<br>gdpPercap=%{z}<br>pop=%{marker.size}<extra></extra>",
         "legendgroup": "Denmark",
         "marker": {
          "color": "#B6E880",
          "size": [
           4334000,
           4487831,
           4646899,
           4838800,
           4991596,
           5088419,
           5117810,
           5127024,
           5171393,
           5283663,
           5374693,
           5468120
          ],
          "sizemode": "area",
          "sizeref": 206002.49,
          "symbol": "circle"
         },
         "mode": "markers",
         "name": "Denmark",
         "scene": "scene",
         "showlegend": true,
         "type": "scatter3d",
         "x": [
          70.78,
          71.81,
          72.35,
          72.96,
          73.47,
          74.69,
          74.63,
          74.8,
          75.33,
          76.11,
          77.18,
          78.332
         ],
         "y": [
          1952,
          1957,
          1962,
          1967,
          1972,
          1977,
          1982,
          1987,
          1992,
          1997,
          2002,
          2007
         ],
         "z": [
          9692.385245,
          11099.65935,
          13583.31351,
          15937.21123,
          18866.20721,
          20422.9015,
          21688.04048,
          25116.17581,
          26406.73985,
          29804.34567,
          32166.500060000002,
          35278.41874
         ]
        },
        {
         "hovertemplate": "country=Finland<br>lifeExp=%{x}<br>year=%{y}<br>gdpPercap=%{z}<br>pop=%{marker.size}<extra></extra>",
         "legendgroup": "Finland",
         "marker": {
          "color": "#FF97FF",
          "size": [
           4090500,
           4324000,
           4491443,
           4605744,
           4639657,
           4738902,
           4826933,
           4931729,
           5041039,
           5134406,
           5193039,
           5238460
          ],
          "sizemode": "area",
          "sizeref": 206002.49,
          "symbol": "circle"
         },
         "mode": "markers",
         "name": "Finland",
         "scene": "scene",
         "showlegend": true,
         "type": "scatter3d",
         "x": [
          66.55,
          67.49,
          68.75,
          69.83,
          70.87,
          72.52,
          74.55,
          74.83,
          75.7,
          77.13,
          78.37,
          79.313
         ],
         "y": [
          1952,
          1957,
          1962,
          1967,
          1972,
          1977,
          1982,
          1987,
          1992,
          1997,
          2002,
          2007
         ],
         "z": [
          6424.519071,
          7545.415386,
          9371.842561,
          10921.63626,
          14358.8759,
          15605.422830000001,
          18533.15761,
          21141.01223,
          20647.16499,
          23723.9502,
          28204.59057,
          33207.0844
         ]
        },
        {
         "hovertemplate": "country=France<br>lifeExp=%{x}<br>year=%{y}<br>gdpPercap=%{z}<br>pop=%{marker.size}<extra></extra>",
         "legendgroup": "France",
         "marker": {
          "color": "#FECB52",
          "size": [
           42459667,
           44310863,
           47124000,
           49569000,
           51732000,
           53165019,
           54433565,
           55630100,
           57374179,
           58623428,
           59925035,
           61083916
          ],
          "sizemode": "area",
          "sizeref": 206002.49,
          "symbol": "circle"
         },
         "mode": "markers",
         "name": "France",
         "scene": "scene",
         "showlegend": true,
         "type": "scatter3d",
         "x": [
          67.41,
          68.93,
          70.51,
          71.55,
          72.38,
          73.83,
          74.89,
          76.34,
          77.46,
          78.64,
          79.59,
          80.657
         ],
         "y": [
          1952,
          1957,
          1962,
          1967,
          1972,
          1977,
          1982,
          1987,
          1992,
          1997,
          2002,
          2007
         ],
         "z": [
          7029.809327,
          8662.834898000001,
          10560.48553,
          12999.91766,
          16107.19171,
          18292.635140000002,
          20293.89746,
          22066.44214,
          24703.79615,
          25889.78487,
          28926.032339999998,
          30470.0167
         ]
        },
        {
         "hovertemplate": "country=Germany<br>lifeExp=%{x}<br>year=%{y}<br>gdpPercap=%{z}<br>pop=%{marker.size}<extra></extra>",
         "legendgroup": "Germany",
         "marker": {
          "color": "#636efa",
          "size": [
           69145952,
           71019069,
           73739117,
           76368453,
           78717088,
           78160773,
           78335266,
           77718298,
           80597764,
           82011073,
           82350671,
           82400996
          ],
          "sizemode": "area",
          "sizeref": 206002.49,
          "symbol": "circle"
         },
         "mode": "markers",
         "name": "Germany",
         "scene": "scene",
         "showlegend": true,
         "type": "scatter3d",
         "x": [
          67.5,
          69.1,
          70.3,
          70.8,
          71,
          72.5,
          73.8,
          74.847,
          76.07,
          77.34,
          78.67,
          79.406
         ],
         "y": [
          1952,
          1957,
          1962,
          1967,
          1972,
          1977,
          1982,
          1987,
          1992,
          1997,
          2002,
          2007
         ],
         "z": [
          7144.114393000001,
          10187.82665,
          12902.46291,
          14745.62561,
          18016.180269999997,
          20512.92123,
          22031.532740000002,
          24639.18566,
          26505.30317,
          27788.88416,
          30035.80198,
          32170.37442
         ]
        },
        {
         "hovertemplate": "country=Greece<br>lifeExp=%{x}<br>year=%{y}<br>gdpPercap=%{z}<br>pop=%{marker.size}<extra></extra>",
         "legendgroup": "Greece",
         "marker": {
          "color": "#EF553B",
          "size": [
           7733250,
           8096218,
           8448233,
           8716441,
           8888628,
           9308479,
           9786480,
           9974490,
           10325429,
           10502372,
           10603863,
           10706290
          ],
          "sizemode": "area",
          "sizeref": 206002.49,
          "symbol": "circle"
         },
         "mode": "markers",
         "name": "Greece",
         "scene": "scene",
         "showlegend": true,
         "type": "scatter3d",
         "x": [
          65.86,
          67.86,
          69.51,
          71,
          72.34,
          73.68,
          75.24,
          76.67,
          77.03,
          77.869,
          78.256,
          79.483
         ],
         "y": [
          1952,
          1957,
          1962,
          1967,
          1972,
          1977,
          1982,
          1987,
          1992,
          1997,
          2002,
          2007
         ],
         "z": [
          3530.690067,
          4916.299889,
          6017.190732999999,
          8513.097016,
          12724.82957,
          14195.524280000001,
          15268.420890000001,
          16120.528390000001,
          17541.49634,
          18747.69814,
          22514.2548,
          27538.41188
         ]
        },
        {
         "hovertemplate": "country=Hungary<br>lifeExp=%{x}<br>year=%{y}<br>gdpPercap=%{z}<br>pop=%{marker.size}<extra></extra>",
         "legendgroup": "Hungary",
         "marker": {
          "color": "#00cc96",
          "size": [
           9504000,
           9839000,
           10063000,
           10223422,
           10394091,
           10637171,
           10705535,
           10612740,
           10348684,
           10244684,
           10083313,
           9956108
          ],
          "sizemode": "area",
          "sizeref": 206002.49,
          "symbol": "circle"
         },
         "mode": "markers",
         "name": "Hungary",
         "scene": "scene",
         "showlegend": true,
         "type": "scatter3d",
         "x": [
          64.03,
          66.41,
          67.96,
          69.5,
          69.76,
          69.95,
          69.39,
          69.58,
          69.17,
          71.04,
          72.59,
          73.33800000000001
         ],
         "y": [
          1952,
          1957,
          1962,
          1967,
          1972,
          1977,
          1982,
          1987,
          1992,
          1997,
          2002,
          2007
         ],
         "z": [
          5263.6738159999995,
          6040.180011,
          7550.359877,
          9326.64467,
          10168.65611,
          11674.837370000001,
          12545.99066,
          12986.47998,
          10535.62855,
          11712.7768,
          14843.93556,
          18008.94444
         ]
        },
        {
         "hovertemplate": "country=Iceland<br>lifeExp=%{x}<br>year=%{y}<br>gdpPercap=%{z}<br>pop=%{marker.size}<extra></extra>",
         "legendgroup": "Iceland",
         "marker": {
          "color": "#ab63fa",
          "size": [
           147962,
           165110,
           182053,
           198676,
           209275,
           221823,
           233997,
           244676,
           259012,
           271192,
           288030,
           301931
          ],
          "sizemode": "area",
          "sizeref": 206002.49,
          "symbol": "circle"
         },
         "mode": "markers",
         "name": "Iceland",
         "scene": "scene",
         "showlegend": true,
         "type": "scatter3d",
         "x": [
          72.49,
          73.47,
          73.68,
          73.73,
          74.46,
          76.11,
          76.99,
          77.23,
          78.77,
          78.95,
          80.5,
          81.757
         ],
         "y": [
          1952,
          1957,
          1962,
          1967,
          1972,
          1977,
          1982,
          1987,
          1992,
          1997,
          2002,
          2007
         ],
         "z": [
          7267.688428,
          9244.001412,
          10350.15906,
          13319.89568,
          15798.063619999999,
          19654.96247,
          23269.6075,
          26923.206280000002,
          25144.39201,
          28061.099660000003,
          31163.201960000002,
          36180.789189999996
         ]
        },
        {
         "hovertemplate": "country=Ireland<br>lifeExp=%{x}<br>year=%{y}<br>gdpPercap=%{z}<br>pop=%{marker.size}<extra></extra>",
         "legendgroup": "Ireland",
         "marker": {
          "color": "#FFA15A",
          "size": [
           2952156,
           2878220,
           2830000,
           2900100,
           3024400,
           3271900,
           3480000,
           3539900,
           3557761,
           3667233,
           3879155,
           4109086
          ],
          "sizemode": "area",
          "sizeref": 206002.49,
          "symbol": "circle"
         },
         "mode": "markers",
         "name": "Ireland",
         "scene": "scene",
         "showlegend": true,
         "type": "scatter3d",
         "x": [
          66.91,
          68.9,
          70.29,
          71.08,
          71.28,
          72.03,
          73.1,
          74.36,
          75.467,
          76.122,
          77.783,
          78.885
         ],
         "y": [
          1952,
          1957,
          1962,
          1967,
          1972,
          1977,
          1982,
          1987,
          1992,
          1997,
          2002,
          2007
         ],
         "z": [
          5210.280328,
          5599.077872,
          6631.597314,
          7655.568963,
          9530.772895999999,
          11150.98113,
          12618.321409999999,
          13872.86652,
          17558.81555,
          24521.94713,
          34077.04939,
          40675.99635
         ]
        },
        {
         "hovertemplate": "country=Italy<br>lifeExp=%{x}<br>year=%{y}<br>gdpPercap=%{z}<br>pop=%{marker.size}<extra></extra>",
         "legendgroup": "Italy",
         "marker": {
          "color": "#19d3f3",
          "size": [
           47666000,
           49182000,
           50843200,
           52667100,
           54365564,
           56059245,
           56535636,
           56729703,
           56840847,
           57479469,
           57926999,
           58147733
          ],
          "sizemode": "area",
          "sizeref": 206002.49,
          "symbol": "circle"
         },
         "mode": "markers",
         "name": "Italy",
         "scene": "scene",
         "showlegend": true,
         "type": "scatter3d",
         "x": [
          65.94,
          67.81,
          69.24,
          71.06,
          72.19,
          73.48,
          74.98,
          76.42,
          77.44,
          78.82,
          80.24,
          80.546
         ],
         "y": [
          1952,
          1957,
          1962,
          1967,
          1972,
          1977,
          1982,
          1987,
          1992,
          1997,
          2002,
          2007
         ],
         "z": [
          4931.404154999999,
          6248.656232,
          8243.58234,
          10022.40131,
          12269.27378,
          14255.98475,
          16537.4835,
          19207.234819999998,
          22013.64486,
          24675.02446,
          27968.098169999997,
          28569.7197
         ]
        },
        {
         "hovertemplate": "country=Montenegro<br>lifeExp=%{x}<br>year=%{y}<br>gdpPercap=%{z}<br>pop=%{marker.size}<extra></extra>",
         "legendgroup": "Montenegro",
         "marker": {
          "color": "#FF6692",
          "size": [
           413834,
           442829,
           474528,
           501035,
           527678,
           560073,
           562548,
           569473,
           621621,
           692651,
           720230,
           684736
          ],
          "sizemode": "area",
          "sizeref": 206002.49,
          "symbol": "circle"
         },
         "mode": "markers",
         "name": "Montenegro",
         "scene": "scene",
         "showlegend": true,
         "type": "scatter3d",
         "x": [
          59.163999999999994,
          61.448,
          63.728,
          67.178,
          70.63600000000001,
          73.066,
          74.101,
          74.865,
          75.435,
          75.445,
          73.98100000000001,
          74.543
         ],
         "y": [
          1952,
          1957,
          1962,
          1967,
          1972,
          1977,
          1982,
          1987,
          1992,
          1997,
          2002,
          2007
         ],
         "z": [
          2647.585601,
          3682.259903,
          4649.593785,
          5907.850937,
          7778.414017,
          9595.929904999999,
          11222.58762,
          11732.51017,
          7003.339037000001,
          6465.613349,
          6557.194282,
          9253.896111
         ]
        },
        {
         "hovertemplate": "country=Netherlands<br>lifeExp=%{x}<br>year=%{y}<br>gdpPercap=%{z}<br>pop=%{marker.size}<extra></extra>",
         "legendgroup": "Netherlands",
         "marker": {
          "color": "#B6E880",
          "size": [
           10381988,
           11026383,
           11805689,
           12596822,
           13329874,
           13852989,
           14310401,
           14665278,
           15174244,
           15604464,
           16122830,
           16570613
          ],
          "sizemode": "area",
          "sizeref": 206002.49,
          "symbol": "circle"
         },
         "mode": "markers",
         "name": "Netherlands",
         "scene": "scene",
         "showlegend": true,
         "type": "scatter3d",
         "x": [
          72.13,
          72.99,
          73.23,
          73.82,
          73.75,
          75.24,
          76.05,
          76.83,
          77.42,
          78.03,
          78.53,
          79.762
         ],
         "y": [
          1952,
          1957,
          1962,
          1967,
          1972,
          1977,
          1982,
          1987,
          1992,
          1997,
          2002,
          2007
         ],
         "z": [
          8941.571858,
          11276.193440000001,
          12790.849559999999,
          15363.25136,
          18794.74567,
          21209.0592,
          21399.46046,
          23651.32361,
          26790.94961,
          30246.13063,
          33724.75778,
          36797.93332
         ]
        },
        {
         "hovertemplate": "country=Norway<br>lifeExp=%{x}<br>year=%{y}<br>gdpPercap=%{z}<br>pop=%{marker.size}<extra></extra>",
         "legendgroup": "Norway",
         "marker": {
          "color": "#FF97FF",
          "size": [
           3327728,
           3491938,
           3638919,
           3786019,
           3933004,
           4043205,
           4114787,
           4186147,
           4286357,
           4405672,
           4535591,
           4627926
          ],
          "sizemode": "area",
          "sizeref": 206002.49,
          "symbol": "circle"
         },
         "mode": "markers",
         "name": "Norway",
         "scene": "scene",
         "showlegend": true,
         "type": "scatter3d",
         "x": [
          72.67,
          73.44,
          73.47,
          74.08,
          74.34,
          75.37,
          75.97,
          75.89,
          77.32,
          78.32,
          79.05,
          80.196
         ],
         "y": [
          1952,
          1957,
          1962,
          1967,
          1972,
          1977,
          1982,
          1987,
          1992,
          1997,
          2002,
          2007
         ],
         "z": [
          10095.42172,
          11653.97304,
          13450.40151,
          16361.87647,
          18965.05551,
          23311.34939,
          26298.635309999998,
          31540.9748,
          33965.66115,
          41283.16433,
          44683.97525,
          49357.19017
         ]
        },
        {
         "hovertemplate": "country=Poland<br>lifeExp=%{x}<br>year=%{y}<br>gdpPercap=%{z}<br>pop=%{marker.size}<extra></extra>",
         "legendgroup": "Poland",
         "marker": {
          "color": "#FECB52",
          "size": [
           25730551,
           28235346,
           30329617,
           31785378,
           33039545,
           34621254,
           36227381,
           37740710,
           38370697,
           38654957,
           38625976,
           38518241
          ],
          "sizemode": "area",
          "sizeref": 206002.49,
          "symbol": "circle"
         },
         "mode": "markers",
         "name": "Poland",
         "scene": "scene",
         "showlegend": true,
         "type": "scatter3d",
         "x": [
          61.31,
          65.77,
          67.64,
          69.61,
          70.85,
          70.67,
          71.32,
          70.98,
          70.99,
          72.75,
          74.67,
          75.563
         ],
         "y": [
          1952,
          1957,
          1962,
          1967,
          1972,
          1977,
          1982,
          1987,
          1992,
          1997,
          2002,
          2007
         ],
         "z": [
          4029.3296990000003,
          4734.253019,
          5338.752143,
          6557.152776,
          8006.506993000001,
          9508.141454,
          8451.531004,
          9082.351172,
          7738.881247,
          10159.58368,
          12002.23908,
          15389.924680000002
         ]
        },
        {
         "hovertemplate": "country=Portugal<br>lifeExp=%{x}<br>year=%{y}<br>gdpPercap=%{z}<br>pop=%{marker.size}<extra></extra>",
         "legendgroup": "Portugal",
         "marker": {
          "color": "#636efa",
          "size": [
           8526050,
           8817650,
           9019800,
           9103000,
           8970450,
           9662600,
           9859650,
           9915289,
           9927680,
           10156415,
           10433867,
           10642836
          ],
          "sizemode": "area",
          "sizeref": 206002.49,
          "symbol": "circle"
         },
         "mode": "markers",
         "name": "Portugal",
         "scene": "scene",
         "showlegend": true,
         "type": "scatter3d",
         "x": [
          59.82,
          61.51,
          64.39,
          66.6,
          69.26,
          70.41,
          72.77,
          74.06,
          74.86,
          75.97,
          77.29,
          78.098
         ],
         "y": [
          1952,
          1957,
          1962,
          1967,
          1972,
          1977,
          1982,
          1987,
          1992,
          1997,
          2002,
          2007
         ],
         "z": [
          3068.319867,
          3774.571743,
          4727.954889,
          6361.517993,
          9022.247417,
          10172.48572,
          11753.84291,
          13039.30876,
          16207.266630000002,
          17641.03156,
          19970.90787,
          20509.64777
         ]
        },
        {
         "hovertemplate": "country=Romania<br>lifeExp=%{x}<br>year=%{y}<br>gdpPercap=%{z}<br>pop=%{marker.size}<extra></extra>",
         "legendgroup": "Romania",
         "marker": {
          "color": "#EF553B",
          "size": [
           16630000,
           17829327,
           18680721,
           19284814,
           20662648,
           21658597,
           22356726,
           22686371,
           22797027,
           22562458,
           22404337,
           22276056
          ],
          "sizemode": "area",
          "sizeref": 206002.49,
          "symbol": "circle"
         },
         "mode": "markers",
         "name": "Romania",
         "scene": "scene",
         "showlegend": true,
         "type": "scatter3d",
         "x": [
          61.05,
          64.1,
          66.8,
          66.8,
          69.21,
          69.46,
          69.66,
          69.53,
          69.36,
          69.72,
          71.322,
          72.476
         ],
         "y": [
          1952,
          1957,
          1962,
          1967,
          1972,
          1977,
          1982,
          1987,
          1992,
          1997,
          2002,
          2007
         ],
         "z": [
          3144.613186,
          3943.370225,
          4734.9975859999995,
          6470.866545,
          8011.414401999999,
          9356.39724,
          9605.314053,
          9696.273295,
          6598.409903,
          7346.547556999999,
          7885.360081,
          10808.47561
         ]
        },
        {
         "hovertemplate": "country=Serbia<br>lifeExp=%{x}<br>year=%{y}<br>gdpPercap=%{z}<br>pop=%{marker.size}<extra></extra>",
         "legendgroup": "Serbia",
         "marker": {
          "color": "#00cc96",
          "size": [
           6860147,
           7271135,
           7616060,
           7971222,
           8313288,
           8686367,
           9032824,
           9230783,
           9826397,
           10336594,
           10111559,
           10150265
          ],
          "sizemode": "area",
          "sizeref": 206002.49,
          "symbol": "circle"
         },
         "mode": "markers",
         "name": "Serbia",
         "scene": "scene",
         "showlegend": true,
         "type": "scatter3d",
         "x": [
          57.996,
          61.685,
          64.531,
          66.914,
          68.7,
          70.3,
          70.16199999999999,
          71.218,
          71.65899999999999,
          72.232,
          73.21300000000001,
          74.002
         ],
         "y": [
          1952,
          1957,
          1962,
          1967,
          1972,
          1977,
          1982,
          1987,
          1992,
          1997,
          2002,
          2007
         ],
         "z": [
          3581.4594479999996,
          4981.090891,
          6289.629157,
          7991.707066,
          10522.067490000001,
          12980.66956,
          15181.0927,
          15870.878509999999,
          9325.068238,
          7914.320304000001,
          7236.075251,
          9786.534714
         ]
        },
        {
         "hovertemplate": "country=Slovak Republic<br>lifeExp=%{x}<br>year=%{y}<br>gdpPercap=%{z}<br>pop=%{marker.size}<extra></extra>",
         "legendgroup": "Slovak Republic",
         "marker": {
          "color": "#ab63fa",
          "size": [
           3558137,
           3844277,
           4237384,
           4442238,
           4593433,
           4827803,
           5048043,
           5199318,
           5302888,
           5383010,
           5410052,
           5447502
          ],
          "sizemode": "area",
          "sizeref": 206002.49,
          "symbol": "circle"
         },
         "mode": "markers",
         "name": "Slovak Republic",
         "scene": "scene",
         "showlegend": true,
         "type": "scatter3d",
         "x": [
          64.36,
          67.45,
          70.33,
          70.98,
          70.35,
          70.45,
          70.8,
          71.08,
          71.38,
          72.71,
          73.8,
          74.663
         ],
         "y": [
          1952,
          1957,
          1962,
          1967,
          1972,
          1977,
          1982,
          1987,
          1992,
          1997,
          2002,
          2007
         ],
         "z": [
          5074.659104,
          6093.2629799999995,
          7481.1075980000005,
          8412.902397,
          9674.167626,
          10922.664040000001,
          11348.54585,
          12037.26758,
          9498.467723,
          12126.23065,
          13638.778369999998,
          18678.31435
         ]
        },
        {
         "hovertemplate": "country=Slovenia<br>lifeExp=%{x}<br>year=%{y}<br>gdpPercap=%{z}<br>pop=%{marker.size}<extra></extra>",
         "legendgroup": "Slovenia",
         "marker": {
          "color": "#FFA15A",
          "size": [
           1489518,
           1533070,
           1582962,
           1646912,
           1694510,
           1746919,
           1861252,
           1945870,
           1999210,
           2011612,
           2011497,
           2009245
          ],
          "sizemode": "area",
          "sizeref": 206002.49,
          "symbol": "circle"
         },
         "mode": "markers",
         "name": "Slovenia",
         "scene": "scene",
         "showlegend": true,
         "type": "scatter3d",
         "x": [
          65.57,
          67.85,
          69.15,
          69.18,
          69.82,
          70.97,
          71.063,
          72.25,
          73.64,
          75.13,
          76.66,
          77.926
         ],
         "y": [
          1952,
          1957,
          1962,
          1967,
          1972,
          1977,
          1982,
          1987,
          1992,
          1997,
          2002,
          2007
         ],
         "z": [
          4215.041741,
          5862.276629,
          7402.303395,
          9405.489397,
          12383.4862,
          15277.030169999998,
          17866.72175,
          18678.53492,
          14214.71681,
          17161.10735,
          20660.01936,
          25768.25759
         ]
        },
        {
         "hovertemplate": "country=Spain<br>lifeExp=%{x}<br>year=%{y}<br>gdpPercap=%{z}<br>pop=%{marker.size}<extra></extra>",
         "legendgroup": "Spain",
         "marker": {
          "color": "#19d3f3",
          "size": [
           28549870,
           29841614,
           31158061,
           32850275,
           34513161,
           36439000,
           37983310,
           38880702,
           39549438,
           39855442,
           40152517,
           40448191
          ],
          "sizemode": "area",
          "sizeref": 206002.49,
          "symbol": "circle"
         },
         "mode": "markers",
         "name": "Spain",
         "scene": "scene",
         "showlegend": true,
         "type": "scatter3d",
         "x": [
          64.94,
          66.66,
          69.69,
          71.44,
          73.06,
          74.39,
          76.3,
          76.9,
          77.57,
          78.77,
          79.78,
          80.941
         ],
         "y": [
          1952,
          1957,
          1962,
          1967,
          1972,
          1977,
          1982,
          1987,
          1992,
          1997,
          2002,
          2007
         ],
         "z": [
          3834.0347420000003,
          4564.80241,
          5693.843879,
          7993.512294,
          10638.75131,
          13236.92117,
          13926.169969999999,
          15764.98313,
          18603.06452,
          20445.29896,
          24835.47166,
          28821.0637
         ]
        },
        {
         "hovertemplate": "country=Sweden<br>lifeExp=%{x}<br>year=%{y}<br>gdpPercap=%{z}<br>pop=%{marker.size}<extra></extra>",
         "legendgroup": "Sweden",
         "marker": {
          "color": "#FF6692",
          "size": [
           7124673,
           7363802,
           7561588,
           7867931,
           8122293,
           8251648,
           8325260,
           8421403,
           8718867,
           8897619,
           8954175,
           9031088
          ],
          "sizemode": "area",
          "sizeref": 206002.49,
          "symbol": "circle"
         },
         "mode": "markers",
         "name": "Sweden",
         "scene": "scene",
         "showlegend": true,
         "type": "scatter3d",
         "x": [
          71.86,
          72.49,
          73.37,
          74.16,
          74.72,
          75.44,
          76.42,
          77.19,
          78.16,
          79.39,
          80.04,
          80.884
         ],
         "y": [
          1952,
          1957,
          1962,
          1967,
          1972,
          1977,
          1982,
          1987,
          1992,
          1997,
          2002,
          2007
         ],
         "z": [
          8527.844662000001,
          9911.878226,
          12329.441920000001,
          15258.29697,
          17832.02464,
          18855.72521,
          20667.38125,
          23586.92927,
          23880.01683,
          25266.59499,
          29341.630930000003,
          33859.74835
         ]
        },
        {
         "hovertemplate": "country=Switzerland<br>lifeExp=%{x}<br>year=%{y}<br>gdpPercap=%{z}<br>pop=%{marker.size}<extra></extra>",
         "legendgroup": "Switzerland",
         "marker": {
          "color": "#B6E880",
          "size": [
           4815000,
           5126000,
           5666000,
           6063000,
           6401400,
           6316424,
           6468126,
           6649942,
           6995447,
           7193761,
           7361757,
           7554661
          ],
          "sizemode": "area",
          "sizeref": 206002.49,
          "symbol": "circle"
         },
         "mode": "markers",
         "name": "Switzerland",
         "scene": "scene",
         "showlegend": true,
         "type": "scatter3d",
         "x": [
          69.62,
          70.56,
          71.32,
          72.77,
          73.78,
          75.39,
          76.21,
          77.41,
          78.03,
          79.37,
          80.62,
          81.70100000000001
         ],
         "y": [
          1952,
          1957,
          1962,
          1967,
          1972,
          1977,
          1982,
          1987,
          1992,
          1997,
          2002,
          2007
         ],
         "z": [
          14734.23275,
          17909.48973,
          20431.0927,
          22966.14432,
          27195.113039999997,
          26982.29052,
          28397.715119999997,
          30281.704589999998,
          31871.5303,
          32135.323010000004,
          34480.95771,
          37506.419069999996
         ]
        },
        {
         "hovertemplate": "country=Turkey<br>lifeExp=%{x}<br>year=%{y}<br>gdpPercap=%{z}<br>pop=%{marker.size}<extra></extra>",
         "legendgroup": "Turkey",
         "marker": {
          "color": "#FF97FF",
          "size": [
           22235677,
           25670939,
           29788695,
           33411317,
           37492953,
           42404033,
           47328791,
           52881328,
           58179144,
           63047647,
           67308928,
           71158647
          ],
          "sizemode": "area",
          "sizeref": 206002.49,
          "symbol": "circle"
         },
         "mode": "markers",
         "name": "Turkey",
         "scene": "scene",
         "showlegend": true,
         "type": "scatter3d",
         "x": [
          43.585,
          48.07899999999999,
          52.098,
          54.336000000000006,
          57.005,
          59.507,
          61.036,
          63.108000000000004,
          66.146,
          68.835,
          70.845,
          71.777
         ],
         "y": [
          1952,
          1957,
          1962,
          1967,
          1972,
          1977,
          1982,
          1987,
          1992,
          1997,
          2002,
          2007
         ],
         "z": [
          1969.1009800000002,
          2218.754257,
          2322.8699079999997,
          2826.3563870000003,
          3450.69638,
          4269.122326,
          4241.356344,
          5089.043686,
          5678.348271,
          6601.429915,
          6508.085718,
          8458.276384
         ]
        },
        {
         "hovertemplate": "country=United Kingdom<br>lifeExp=%{x}<br>year=%{y}<br>gdpPercap=%{z}<br>pop=%{marker.size}<extra></extra>",
         "legendgroup": "United Kingdom",
         "marker": {
          "color": "#FECB52",
          "size": [
           50430000,
           51430000,
           53292000,
           54959000,
           56079000,
           56179000,
           56339704,
           56981620,
           57866349,
           58808266,
           59912431,
           60776238
          ],
          "sizemode": "area",
          "sizeref": 206002.49,
          "symbol": "circle"
         },
         "mode": "markers",
         "name": "United Kingdom",
         "scene": "scene",
         "showlegend": true,
         "type": "scatter3d",
         "x": [
          69.18,
          70.42,
          70.76,
          71.36,
          72.01,
          72.76,
          74.04,
          75.007,
          76.42,
          77.218,
          78.471,
          79.425
         ],
         "y": [
          1952,
          1957,
          1962,
          1967,
          1972,
          1977,
          1982,
          1987,
          1992,
          1997,
          2002,
          2007
         ],
         "z": [
          9979.508487000001,
          11283.17795,
          12477.17707,
          14142.85089,
          15895.116409999999,
          17428.74846,
          18232.42452,
          21664.787669999998,
          22705.09254,
          26074.53136,
          29478.99919,
          33203.26128
         ]
        }
       ],
       "layout": {
        "legend": {
         "itemsizing": "constant",
         "title": {
          "text": "country"
         },
         "tracegroupgap": 0
        },
        "margin": {
         "t": 60
        },
        "scene": {
         "domain": {
          "x": [
           0,
           1
          ],
          "y": [
           0,
           1
          ]
         },
         "xaxis": {
          "title": {
           "text": "lifeExp"
          }
         },
         "yaxis": {
          "title": {
           "text": "year"
          }
         },
         "zaxis": {
          "title": {
           "text": "gdpPercap"
          }
         }
        },
        "template": {
         "data": {
          "bar": [
           {
            "error_x": {
             "color": "#2a3f5f"
            },
            "error_y": {
             "color": "#2a3f5f"
            },
            "marker": {
             "line": {
              "color": "#E5ECF6",
              "width": 0.5
             }
            },
            "type": "bar"
           }
          ],
          "barpolar": [
           {
            "marker": {
             "line": {
              "color": "#E5ECF6",
              "width": 0.5
             }
            },
            "type": "barpolar"
           }
          ],
          "carpet": [
           {
            "aaxis": {
             "endlinecolor": "#2a3f5f",
             "gridcolor": "white",
             "linecolor": "white",
             "minorgridcolor": "white",
             "startlinecolor": "#2a3f5f"
            },
            "baxis": {
             "endlinecolor": "#2a3f5f",
             "gridcolor": "white",
             "linecolor": "white",
             "minorgridcolor": "white",
             "startlinecolor": "#2a3f5f"
            },
            "type": "carpet"
           }
          ],
          "choropleth": [
           {
            "colorbar": {
             "outlinewidth": 0,
             "ticks": ""
            },
            "type": "choropleth"
           }
          ],
          "contour": [
           {
            "colorbar": {
             "outlinewidth": 0,
             "ticks": ""
            },
            "colorscale": [
             [
              0,
              "#0d0887"
             ],
             [
              0.1111111111111111,
              "#46039f"
             ],
             [
              0.2222222222222222,
              "#7201a8"
             ],
             [
              0.3333333333333333,
              "#9c179e"
             ],
             [
              0.4444444444444444,
              "#bd3786"
             ],
             [
              0.5555555555555556,
              "#d8576b"
             ],
             [
              0.6666666666666666,
              "#ed7953"
             ],
             [
              0.7777777777777778,
              "#fb9f3a"
             ],
             [
              0.8888888888888888,
              "#fdca26"
             ],
             [
              1,
              "#f0f921"
             ]
            ],
            "type": "contour"
           }
          ],
          "contourcarpet": [
           {
            "colorbar": {
             "outlinewidth": 0,
             "ticks": ""
            },
            "type": "contourcarpet"
           }
          ],
          "heatmap": [
           {
            "colorbar": {
             "outlinewidth": 0,
             "ticks": ""
            },
            "colorscale": [
             [
              0,
              "#0d0887"
             ],
             [
              0.1111111111111111,
              "#46039f"
             ],
             [
              0.2222222222222222,
              "#7201a8"
             ],
             [
              0.3333333333333333,
              "#9c179e"
             ],
             [
              0.4444444444444444,
              "#bd3786"
             ],
             [
              0.5555555555555556,
              "#d8576b"
             ],
             [
              0.6666666666666666,
              "#ed7953"
             ],
             [
              0.7777777777777778,
              "#fb9f3a"
             ],
             [
              0.8888888888888888,
              "#fdca26"
             ],
             [
              1,
              "#f0f921"
             ]
            ],
            "type": "heatmap"
           }
          ],
          "heatmapgl": [
           {
            "colorbar": {
             "outlinewidth": 0,
             "ticks": ""
            },
            "colorscale": [
             [
              0,
              "#0d0887"
             ],
             [
              0.1111111111111111,
              "#46039f"
             ],
             [
              0.2222222222222222,
              "#7201a8"
             ],
             [
              0.3333333333333333,
              "#9c179e"
             ],
             [
              0.4444444444444444,
              "#bd3786"
             ],
             [
              0.5555555555555556,
              "#d8576b"
             ],
             [
              0.6666666666666666,
              "#ed7953"
             ],
             [
              0.7777777777777778,
              "#fb9f3a"
             ],
             [
              0.8888888888888888,
              "#fdca26"
             ],
             [
              1,
              "#f0f921"
             ]
            ],
            "type": "heatmapgl"
           }
          ],
          "histogram": [
           {
            "marker": {
             "colorbar": {
              "outlinewidth": 0,
              "ticks": ""
             }
            },
            "type": "histogram"
           }
          ],
          "histogram2d": [
           {
            "colorbar": {
             "outlinewidth": 0,
             "ticks": ""
            },
            "colorscale": [
             [
              0,
              "#0d0887"
             ],
             [
              0.1111111111111111,
              "#46039f"
             ],
             [
              0.2222222222222222,
              "#7201a8"
             ],
             [
              0.3333333333333333,
              "#9c179e"
             ],
             [
              0.4444444444444444,
              "#bd3786"
             ],
             [
              0.5555555555555556,
              "#d8576b"
             ],
             [
              0.6666666666666666,
              "#ed7953"
             ],
             [
              0.7777777777777778,
              "#fb9f3a"
             ],
             [
              0.8888888888888888,
              "#fdca26"
             ],
             [
              1,
              "#f0f921"
             ]
            ],
            "type": "histogram2d"
           }
          ],
          "histogram2dcontour": [
           {
            "colorbar": {
             "outlinewidth": 0,
             "ticks": ""
            },
            "colorscale": [
             [
              0,
              "#0d0887"
             ],
             [
              0.1111111111111111,
              "#46039f"
             ],
             [
              0.2222222222222222,
              "#7201a8"
             ],
             [
              0.3333333333333333,
              "#9c179e"
             ],
             [
              0.4444444444444444,
              "#bd3786"
             ],
             [
              0.5555555555555556,
              "#d8576b"
             ],
             [
              0.6666666666666666,
              "#ed7953"
             ],
             [
              0.7777777777777778,
              "#fb9f3a"
             ],
             [
              0.8888888888888888,
              "#fdca26"
             ],
             [
              1,
              "#f0f921"
             ]
            ],
            "type": "histogram2dcontour"
           }
          ],
          "mesh3d": [
           {
            "colorbar": {
             "outlinewidth": 0,
             "ticks": ""
            },
            "type": "mesh3d"
           }
          ],
          "parcoords": [
           {
            "line": {
             "colorbar": {
              "outlinewidth": 0,
              "ticks": ""
             }
            },
            "type": "parcoords"
           }
          ],
          "pie": [
           {
            "automargin": true,
            "type": "pie"
           }
          ],
          "scatter": [
           {
            "marker": {
             "colorbar": {
              "outlinewidth": 0,
              "ticks": ""
             }
            },
            "type": "scatter"
           }
          ],
          "scatter3d": [
           {
            "line": {
             "colorbar": {
              "outlinewidth": 0,
              "ticks": ""
             }
            },
            "marker": {
             "colorbar": {
              "outlinewidth": 0,
              "ticks": ""
             }
            },
            "type": "scatter3d"
           }
          ],
          "scattercarpet": [
           {
            "marker": {
             "colorbar": {
              "outlinewidth": 0,
              "ticks": ""
             }
            },
            "type": "scattercarpet"
           }
          ],
          "scattergeo": [
           {
            "marker": {
             "colorbar": {
              "outlinewidth": 0,
              "ticks": ""
             }
            },
            "type": "scattergeo"
           }
          ],
          "scattergl": [
           {
            "marker": {
             "colorbar": {
              "outlinewidth": 0,
              "ticks": ""
             }
            },
            "type": "scattergl"
           }
          ],
          "scattermapbox": [
           {
            "marker": {
             "colorbar": {
              "outlinewidth": 0,
              "ticks": ""
             }
            },
            "type": "scattermapbox"
           }
          ],
          "scatterpolar": [
           {
            "marker": {
             "colorbar": {
              "outlinewidth": 0,
              "ticks": ""
             }
            },
            "type": "scatterpolar"
           }
          ],
          "scatterpolargl": [
           {
            "marker": {
             "colorbar": {
              "outlinewidth": 0,
              "ticks": ""
             }
            },
            "type": "scatterpolargl"
           }
          ],
          "scatterternary": [
           {
            "marker": {
             "colorbar": {
              "outlinewidth": 0,
              "ticks": ""
             }
            },
            "type": "scatterternary"
           }
          ],
          "surface": [
           {
            "colorbar": {
             "outlinewidth": 0,
             "ticks": ""
            },
            "colorscale": [
             [
              0,
              "#0d0887"
             ],
             [
              0.1111111111111111,
              "#46039f"
             ],
             [
              0.2222222222222222,
              "#7201a8"
             ],
             [
              0.3333333333333333,
              "#9c179e"
             ],
             [
              0.4444444444444444,
              "#bd3786"
             ],
             [
              0.5555555555555556,
              "#d8576b"
             ],
             [
              0.6666666666666666,
              "#ed7953"
             ],
             [
              0.7777777777777778,
              "#fb9f3a"
             ],
             [
              0.8888888888888888,
              "#fdca26"
             ],
             [
              1,
              "#f0f921"
             ]
            ],
            "type": "surface"
           }
          ],
          "table": [
           {
            "cells": {
             "fill": {
              "color": "#EBF0F8"
             },
             "line": {
              "color": "white"
             }
            },
            "header": {
             "fill": {
              "color": "#C8D4E3"
             },
             "line": {
              "color": "white"
             }
            },
            "type": "table"
           }
          ]
         },
         "layout": {
          "annotationdefaults": {
           "arrowcolor": "#2a3f5f",
           "arrowhead": 0,
           "arrowwidth": 1
          },
          "autotypenumbers": "strict",
          "coloraxis": {
           "colorbar": {
            "outlinewidth": 0,
            "ticks": ""
           }
          },
          "colorscale": {
           "diverging": [
            [
             0,
             "#8e0152"
            ],
            [
             0.1,
             "#c51b7d"
            ],
            [
             0.2,
             "#de77ae"
            ],
            [
             0.3,
             "#f1b6da"
            ],
            [
             0.4,
             "#fde0ef"
            ],
            [
             0.5,
             "#f7f7f7"
            ],
            [
             0.6,
             "#e6f5d0"
            ],
            [
             0.7,
             "#b8e186"
            ],
            [
             0.8,
             "#7fbc41"
            ],
            [
             0.9,
             "#4d9221"
            ],
            [
             1,
             "#276419"
            ]
           ],
           "sequential": [
            [
             0,
             "#0d0887"
            ],
            [
             0.1111111111111111,
             "#46039f"
            ],
            [
             0.2222222222222222,
             "#7201a8"
            ],
            [
             0.3333333333333333,
             "#9c179e"
            ],
            [
             0.4444444444444444,
             "#bd3786"
            ],
            [
             0.5555555555555556,
             "#d8576b"
            ],
            [
             0.6666666666666666,
             "#ed7953"
            ],
            [
             0.7777777777777778,
             "#fb9f3a"
            ],
            [
             0.8888888888888888,
             "#fdca26"
            ],
            [
             1,
             "#f0f921"
            ]
           ],
           "sequentialminus": [
            [
             0,
             "#0d0887"
            ],
            [
             0.1111111111111111,
             "#46039f"
            ],
            [
             0.2222222222222222,
             "#7201a8"
            ],
            [
             0.3333333333333333,
             "#9c179e"
            ],
            [
             0.4444444444444444,
             "#bd3786"
            ],
            [
             0.5555555555555556,
             "#d8576b"
            ],
            [
             0.6666666666666666,
             "#ed7953"
            ],
            [
             0.7777777777777778,
             "#fb9f3a"
            ],
            [
             0.8888888888888888,
             "#fdca26"
            ],
            [
             1,
             "#f0f921"
            ]
           ]
          },
          "colorway": [
           "#636efa",
           "#EF553B",
           "#00cc96",
           "#ab63fa",
           "#FFA15A",
           "#19d3f3",
           "#FF6692",
           "#B6E880",
           "#FF97FF",
           "#FECB52"
          ],
          "font": {
           "color": "#2a3f5f"
          },
          "geo": {
           "bgcolor": "white",
           "lakecolor": "white",
           "landcolor": "#E5ECF6",
           "showlakes": true,
           "showland": true,
           "subunitcolor": "white"
          },
          "hoverlabel": {
           "align": "left"
          },
          "hovermode": "closest",
          "mapbox": {
           "style": "light"
          },
          "paper_bgcolor": "white",
          "plot_bgcolor": "#E5ECF6",
          "polar": {
           "angularaxis": {
            "gridcolor": "white",
            "linecolor": "white",
            "ticks": ""
           },
           "bgcolor": "#E5ECF6",
           "radialaxis": {
            "gridcolor": "white",
            "linecolor": "white",
            "ticks": ""
           }
          },
          "scene": {
           "xaxis": {
            "backgroundcolor": "#E5ECF6",
            "gridcolor": "white",
            "gridwidth": 2,
            "linecolor": "white",
            "showbackground": true,
            "ticks": "",
            "zerolinecolor": "white"
           },
           "yaxis": {
            "backgroundcolor": "#E5ECF6",
            "gridcolor": "white",
            "gridwidth": 2,
            "linecolor": "white",
            "showbackground": true,
            "ticks": "",
            "zerolinecolor": "white"
           },
           "zaxis": {
            "backgroundcolor": "#E5ECF6",
            "gridcolor": "white",
            "gridwidth": 2,
            "linecolor": "white",
            "showbackground": true,
            "ticks": "",
            "zerolinecolor": "white"
           }
          },
          "shapedefaults": {
           "line": {
            "color": "#2a3f5f"
           }
          },
          "ternary": {
           "aaxis": {
            "gridcolor": "white",
            "linecolor": "white",
            "ticks": ""
           },
           "baxis": {
            "gridcolor": "white",
            "linecolor": "white",
            "ticks": ""
           },
           "bgcolor": "#E5ECF6",
           "caxis": {
            "gridcolor": "white",
            "linecolor": "white",
            "ticks": ""
           }
          },
          "title": {
           "x": 0.05
          },
          "xaxis": {
           "automargin": true,
           "gridcolor": "white",
           "linecolor": "white",
           "ticks": "",
           "title": {
            "standoff": 15
           },
           "zerolinecolor": "white",
           "zerolinewidth": 2
          },
          "yaxis": {
           "automargin": true,
           "gridcolor": "white",
           "linecolor": "white",
           "ticks": "",
           "title": {
            "standoff": 15
           },
           "zerolinecolor": "white",
           "zerolinewidth": 2
          }
         }
        }
       }
      },
      "text/html": [
       "<div>                            <div id=\"b2e87ad8-629b-4bb7-8801-29812f02b3b2\" class=\"plotly-graph-div\" style=\"height:525px; width:100%;\"></div>            <script type=\"text/javascript\">                require([\"plotly\"], function(Plotly) {                    window.PLOTLYENV=window.PLOTLYENV || {};                                    if (document.getElementById(\"b2e87ad8-629b-4bb7-8801-29812f02b3b2\")) {                    Plotly.newPlot(                        \"b2e87ad8-629b-4bb7-8801-29812f02b3b2\",                        [{\"hovertemplate\": \"country=Albania<br>lifeExp=%{x}<br>year=%{y}<br>gdpPercap=%{z}<br>pop=%{marker.size}<extra></extra>\", \"legendgroup\": \"Albania\", \"marker\": {\"color\": \"#636efa\", \"size\": [1282697, 1476505, 1728137, 1984060, 2263554, 2509048, 2780097, 3075321, 3326498, 3428038, 3508512, 3600523], \"sizemode\": \"area\", \"sizeref\": 206002.49, \"symbol\": \"circle\"}, \"mode\": \"markers\", \"name\": \"Albania\", \"scene\": \"scene\", \"showlegend\": true, \"type\": \"scatter3d\", \"x\": [55.23, 59.28, 64.82, 66.22, 67.69, 68.93, 70.42, 72.0, 71.581, 72.95, 75.65100000000001, 76.423], \"y\": [1952, 1957, 1962, 1967, 1972, 1977, 1982, 1987, 1992, 1997, 2002, 2007], \"z\": [1601.056136, 1942.2842440000002, 2312.888958, 2760.196931, 3313.422188, 3533.0039100000004, 3630.880722, 3738.9327350000003, 2497.4379010000002, 3193.054604, 4604.211737, 5937.029525999999]}, {\"hovertemplate\": \"country=Austria<br>lifeExp=%{x}<br>year=%{y}<br>gdpPercap=%{z}<br>pop=%{marker.size}<extra></extra>\", \"legendgroup\": \"Austria\", \"marker\": {\"color\": \"#EF553B\", \"size\": [6927772, 6965860, 7129864, 7376998, 7544201, 7568430, 7574613, 7578903, 7914969, 8069876, 8148312, 8199783], \"sizemode\": \"area\", \"sizeref\": 206002.49, \"symbol\": \"circle\"}, \"mode\": \"markers\", \"name\": \"Austria\", \"scene\": \"scene\", \"showlegend\": true, \"type\": \"scatter3d\", \"x\": [66.8, 67.48, 69.54, 70.14, 70.63, 72.17, 73.18, 74.94, 76.04, 77.51, 78.98, 79.829], \"y\": [1952, 1957, 1962, 1967, 1972, 1977, 1982, 1987, 1992, 1997, 2002, 2007], \"z\": [6137.076492, 8842.59803, 10750.721109999999, 12834.6024, 16661.6256, 19749.4223, 21597.083619999998, 23687.82607, 27042.01868, 29095.920660000003, 32417.607689999997, 36126.4927]}, {\"hovertemplate\": \"country=Belgium<br>lifeExp=%{x}<br>year=%{y}<br>gdpPercap=%{z}<br>pop=%{marker.size}<extra></extra>\", \"legendgroup\": \"Belgium\", \"marker\": {\"color\": \"#00cc96\", \"size\": [8730405, 8989111, 9218400, 9556500, 9709100, 9821800, 9856303, 9870200, 10045622, 10199787, 10311970, 10392226], \"sizemode\": \"area\", \"sizeref\": 206002.49, \"symbol\": \"circle\"}, \"mode\": \"markers\", \"name\": \"Belgium\", \"scene\": \"scene\", \"showlegend\": true, \"type\": \"scatter3d\", \"x\": [68.0, 69.24, 70.25, 70.94, 71.44, 72.8, 73.93, 75.35, 76.46, 77.53, 78.32, 79.441], \"y\": [1952, 1957, 1962, 1967, 1972, 1977, 1982, 1987, 1992, 1997, 2002, 2007], \"z\": [8343.105126999999, 9714.960623, 10991.20676, 13149.04119, 16672.14356, 19117.97448, 20979.84589, 22525.56308, 25575.57069, 27561.196630000002, 30485.88375, 33692.60508]}, {\"hovertemplate\": \"country=Bosnia and Herzegovina<br>lifeExp=%{x}<br>year=%{y}<br>gdpPercap=%{z}<br>pop=%{marker.size}<extra></extra>\", \"legendgroup\": \"Bosnia and Herzegovina\", \"marker\": {\"color\": \"#ab63fa\", \"size\": [2791000, 3076000, 3349000, 3585000, 3819000, 4086000, 4172693, 4338977, 4256013, 3607000, 4165416, 4552198], \"sizemode\": \"area\", \"sizeref\": 206002.49, \"symbol\": \"circle\"}, \"mode\": \"markers\", \"name\": \"Bosnia and Herzegovina\", \"scene\": \"scene\", \"showlegend\": true, \"type\": \"scatter3d\", \"x\": [53.82, 58.45, 61.93, 64.79, 67.45, 69.86, 70.69, 71.14, 72.178, 73.244, 74.09, 74.852], \"y\": [1952, 1957, 1962, 1967, 1972, 1977, 1982, 1987, 1992, 1997, 2002, 2007], \"z\": [973.5331947999999, 1353.989176, 1709.683679, 2172.3524230000003, 2860.16975, 3528.481305, 4126.613157, 4314.114757, 2546.781445, 4766.355904, 6018.975239, 7446.298803]}, {\"hovertemplate\": \"country=Bulgaria<br>lifeExp=%{x}<br>year=%{y}<br>gdpPercap=%{z}<br>pop=%{marker.size}<extra></extra>\", \"legendgroup\": \"Bulgaria\", \"marker\": {\"color\": \"#FFA15A\", \"size\": [7274900, 7651254, 8012946, 8310226, 8576200, 8797022, 8892098, 8971958, 8658506, 8066057, 7661799, 7322858], \"sizemode\": \"area\", \"sizeref\": 206002.49, \"symbol\": \"circle\"}, \"mode\": \"markers\", \"name\": \"Bulgaria\", \"scene\": \"scene\", \"showlegend\": true, \"type\": \"scatter3d\", \"x\": [59.6, 66.61, 69.51, 70.42, 70.9, 70.81, 71.08, 71.34, 71.19, 70.32, 72.14, 73.005], \"y\": [1952, 1957, 1962, 1967, 1972, 1977, 1982, 1987, 1992, 1997, 2002, 2007], \"z\": [2444.2866480000002, 3008.670727, 4254.337839, 5577.0028, 6597.494398, 7612.240438, 8224.191647, 8239.854824, 6302.6234380000005, 5970.38876, 7696.777725, 10680.79282]}, {\"hovertemplate\": \"country=Croatia<br>lifeExp=%{x}<br>year=%{y}<br>gdpPercap=%{z}<br>pop=%{marker.size}<extra></extra>\", \"legendgroup\": \"Croatia\", \"marker\": {\"color\": \"#19d3f3\", \"size\": [3882229, 3991242, 4076557, 4174366, 4225310, 4318673, 4413368, 4484310, 4494013, 4444595, 4481020, 4493312], \"sizemode\": \"area\", \"sizeref\": 206002.49, \"symbol\": \"circle\"}, \"mode\": \"markers\", \"name\": \"Croatia\", \"scene\": \"scene\", \"showlegend\": true, \"type\": \"scatter3d\", \"x\": [61.21, 64.77, 67.13, 68.5, 69.61, 70.64, 70.46, 71.52, 72.527, 73.68, 74.876, 75.748], \"y\": [1952, 1957, 1962, 1967, 1972, 1977, 1982, 1987, 1992, 1997, 2002, 2007], \"z\": [3119.23652, 4338.231617, 5477.890018, 6960.297861, 9164.090127, 11305.38517, 13221.82184, 13822.58394, 8447.794873, 9875.604515, 11628.38895, 14619.222719999998]}, {\"hovertemplate\": \"country=Czech Republic<br>lifeExp=%{x}<br>year=%{y}<br>gdpPercap=%{z}<br>pop=%{marker.size}<extra></extra>\", \"legendgroup\": \"Czech Republic\", \"marker\": {\"color\": \"#FF6692\", \"size\": [9125183, 9513758, 9620282, 9835109, 9862158, 10161915, 10303704, 10311597, 10315702, 10300707, 10256295, 10228744], \"sizemode\": \"area\", \"sizeref\": 206002.49, \"symbol\": \"circle\"}, \"mode\": \"markers\", \"name\": \"Czech Republic\", \"scene\": \"scene\", \"showlegend\": true, \"type\": \"scatter3d\", \"x\": [66.87, 69.03, 69.9, 70.38, 70.29, 70.71, 70.96, 71.58, 72.4, 74.01, 75.51, 76.486], \"y\": [1952, 1957, 1962, 1967, 1972, 1977, 1982, 1987, 1992, 1997, 2002, 2007], \"z\": [6876.14025, 8256.343918, 10136.86713, 11399.44489, 13108.4536, 14800.160619999999, 15377.22855, 16310.4434, 14297.021219999999, 16048.51424, 17596.210219999997, 22833.30851]}, {\"hovertemplate\": \"country=Denmark<br>lifeExp=%{x}<br>year=%{y}<br>gdpPercap=%{z}<br>pop=%{marker.size}<extra></extra>\", \"legendgroup\": \"Denmark\", \"marker\": {\"color\": \"#B6E880\", \"size\": [4334000, 4487831, 4646899, 4838800, 4991596, 5088419, 5117810, 5127024, 5171393, 5283663, 5374693, 5468120], \"sizemode\": \"area\", \"sizeref\": 206002.49, \"symbol\": \"circle\"}, \"mode\": \"markers\", \"name\": \"Denmark\", \"scene\": \"scene\", \"showlegend\": true, \"type\": \"scatter3d\", \"x\": [70.78, 71.81, 72.35, 72.96, 73.47, 74.69, 74.63, 74.8, 75.33, 76.11, 77.18, 78.332], \"y\": [1952, 1957, 1962, 1967, 1972, 1977, 1982, 1987, 1992, 1997, 2002, 2007], \"z\": [9692.385245, 11099.65935, 13583.31351, 15937.21123, 18866.20721, 20422.9015, 21688.04048, 25116.17581, 26406.73985, 29804.34567, 32166.500060000002, 35278.41874]}, {\"hovertemplate\": \"country=Finland<br>lifeExp=%{x}<br>year=%{y}<br>gdpPercap=%{z}<br>pop=%{marker.size}<extra></extra>\", \"legendgroup\": \"Finland\", \"marker\": {\"color\": \"#FF97FF\", \"size\": [4090500, 4324000, 4491443, 4605744, 4639657, 4738902, 4826933, 4931729, 5041039, 5134406, 5193039, 5238460], \"sizemode\": \"area\", \"sizeref\": 206002.49, \"symbol\": \"circle\"}, \"mode\": \"markers\", \"name\": \"Finland\", \"scene\": \"scene\", \"showlegend\": true, \"type\": \"scatter3d\", \"x\": [66.55, 67.49, 68.75, 69.83, 70.87, 72.52, 74.55, 74.83, 75.7, 77.13, 78.37, 79.313], \"y\": [1952, 1957, 1962, 1967, 1972, 1977, 1982, 1987, 1992, 1997, 2002, 2007], \"z\": [6424.519071, 7545.415386, 9371.842561, 10921.63626, 14358.8759, 15605.422830000001, 18533.15761, 21141.01223, 20647.16499, 23723.9502, 28204.59057, 33207.0844]}, {\"hovertemplate\": \"country=France<br>lifeExp=%{x}<br>year=%{y}<br>gdpPercap=%{z}<br>pop=%{marker.size}<extra></extra>\", \"legendgroup\": \"France\", \"marker\": {\"color\": \"#FECB52\", \"size\": [42459667, 44310863, 47124000, 49569000, 51732000, 53165019, 54433565, 55630100, 57374179, 58623428, 59925035, 61083916], \"sizemode\": \"area\", \"sizeref\": 206002.49, \"symbol\": \"circle\"}, \"mode\": \"markers\", \"name\": \"France\", \"scene\": \"scene\", \"showlegend\": true, \"type\": \"scatter3d\", \"x\": [67.41, 68.93, 70.51, 71.55, 72.38, 73.83, 74.89, 76.34, 77.46, 78.64, 79.59, 80.657], \"y\": [1952, 1957, 1962, 1967, 1972, 1977, 1982, 1987, 1992, 1997, 2002, 2007], \"z\": [7029.809327, 8662.834898000001, 10560.48553, 12999.91766, 16107.19171, 18292.635140000002, 20293.89746, 22066.44214, 24703.79615, 25889.78487, 28926.032339999998, 30470.0167]}, {\"hovertemplate\": \"country=Germany<br>lifeExp=%{x}<br>year=%{y}<br>gdpPercap=%{z}<br>pop=%{marker.size}<extra></extra>\", \"legendgroup\": \"Germany\", \"marker\": {\"color\": \"#636efa\", \"size\": [69145952, 71019069, 73739117, 76368453, 78717088, 78160773, 78335266, 77718298, 80597764, 82011073, 82350671, 82400996], \"sizemode\": \"area\", \"sizeref\": 206002.49, \"symbol\": \"circle\"}, \"mode\": \"markers\", \"name\": \"Germany\", \"scene\": \"scene\", \"showlegend\": true, \"type\": \"scatter3d\", \"x\": [67.5, 69.1, 70.3, 70.8, 71.0, 72.5, 73.8, 74.847, 76.07, 77.34, 78.67, 79.406], \"y\": [1952, 1957, 1962, 1967, 1972, 1977, 1982, 1987, 1992, 1997, 2002, 2007], \"z\": [7144.114393000001, 10187.82665, 12902.46291, 14745.62561, 18016.180269999997, 20512.92123, 22031.532740000002, 24639.18566, 26505.30317, 27788.88416, 30035.80198, 32170.37442]}, {\"hovertemplate\": \"country=Greece<br>lifeExp=%{x}<br>year=%{y}<br>gdpPercap=%{z}<br>pop=%{marker.size}<extra></extra>\", \"legendgroup\": \"Greece\", \"marker\": {\"color\": \"#EF553B\", \"size\": [7733250, 8096218, 8448233, 8716441, 8888628, 9308479, 9786480, 9974490, 10325429, 10502372, 10603863, 10706290], \"sizemode\": \"area\", \"sizeref\": 206002.49, \"symbol\": \"circle\"}, \"mode\": \"markers\", \"name\": \"Greece\", \"scene\": \"scene\", \"showlegend\": true, \"type\": \"scatter3d\", \"x\": [65.86, 67.86, 69.51, 71.0, 72.34, 73.68, 75.24, 76.67, 77.03, 77.869, 78.256, 79.483], \"y\": [1952, 1957, 1962, 1967, 1972, 1977, 1982, 1987, 1992, 1997, 2002, 2007], \"z\": [3530.690067, 4916.299889, 6017.190732999999, 8513.097016, 12724.82957, 14195.524280000001, 15268.420890000001, 16120.528390000001, 17541.49634, 18747.69814, 22514.2548, 27538.41188]}, {\"hovertemplate\": \"country=Hungary<br>lifeExp=%{x}<br>year=%{y}<br>gdpPercap=%{z}<br>pop=%{marker.size}<extra></extra>\", \"legendgroup\": \"Hungary\", \"marker\": {\"color\": \"#00cc96\", \"size\": [9504000, 9839000, 10063000, 10223422, 10394091, 10637171, 10705535, 10612740, 10348684, 10244684, 10083313, 9956108], \"sizemode\": \"area\", \"sizeref\": 206002.49, \"symbol\": \"circle\"}, \"mode\": \"markers\", \"name\": \"Hungary\", \"scene\": \"scene\", \"showlegend\": true, \"type\": \"scatter3d\", \"x\": [64.03, 66.41, 67.96, 69.5, 69.76, 69.95, 69.39, 69.58, 69.17, 71.04, 72.59, 73.33800000000001], \"y\": [1952, 1957, 1962, 1967, 1972, 1977, 1982, 1987, 1992, 1997, 2002, 2007], \"z\": [5263.6738159999995, 6040.180011, 7550.359877, 9326.64467, 10168.65611, 11674.837370000001, 12545.99066, 12986.47998, 10535.62855, 11712.7768, 14843.93556, 18008.94444]}, {\"hovertemplate\": \"country=Iceland<br>lifeExp=%{x}<br>year=%{y}<br>gdpPercap=%{z}<br>pop=%{marker.size}<extra></extra>\", \"legendgroup\": \"Iceland\", \"marker\": {\"color\": \"#ab63fa\", \"size\": [147962, 165110, 182053, 198676, 209275, 221823, 233997, 244676, 259012, 271192, 288030, 301931], \"sizemode\": \"area\", \"sizeref\": 206002.49, \"symbol\": \"circle\"}, \"mode\": \"markers\", \"name\": \"Iceland\", \"scene\": \"scene\", \"showlegend\": true, \"type\": \"scatter3d\", \"x\": [72.49, 73.47, 73.68, 73.73, 74.46, 76.11, 76.99, 77.23, 78.77, 78.95, 80.5, 81.757], \"y\": [1952, 1957, 1962, 1967, 1972, 1977, 1982, 1987, 1992, 1997, 2002, 2007], \"z\": [7267.688428, 9244.001412, 10350.15906, 13319.89568, 15798.063619999999, 19654.96247, 23269.6075, 26923.206280000002, 25144.39201, 28061.099660000003, 31163.201960000002, 36180.789189999996]}, {\"hovertemplate\": \"country=Ireland<br>lifeExp=%{x}<br>year=%{y}<br>gdpPercap=%{z}<br>pop=%{marker.size}<extra></extra>\", \"legendgroup\": \"Ireland\", \"marker\": {\"color\": \"#FFA15A\", \"size\": [2952156, 2878220, 2830000, 2900100, 3024400, 3271900, 3480000, 3539900, 3557761, 3667233, 3879155, 4109086], \"sizemode\": \"area\", \"sizeref\": 206002.49, \"symbol\": \"circle\"}, \"mode\": \"markers\", \"name\": \"Ireland\", \"scene\": \"scene\", \"showlegend\": true, \"type\": \"scatter3d\", \"x\": [66.91, 68.9, 70.29, 71.08, 71.28, 72.03, 73.1, 74.36, 75.467, 76.122, 77.783, 78.885], \"y\": [1952, 1957, 1962, 1967, 1972, 1977, 1982, 1987, 1992, 1997, 2002, 2007], \"z\": [5210.280328, 5599.077872, 6631.597314, 7655.568963, 9530.772895999999, 11150.98113, 12618.321409999999, 13872.86652, 17558.81555, 24521.94713, 34077.04939, 40675.99635]}, {\"hovertemplate\": \"country=Italy<br>lifeExp=%{x}<br>year=%{y}<br>gdpPercap=%{z}<br>pop=%{marker.size}<extra></extra>\", \"legendgroup\": \"Italy\", \"marker\": {\"color\": \"#19d3f3\", \"size\": [47666000, 49182000, 50843200, 52667100, 54365564, 56059245, 56535636, 56729703, 56840847, 57479469, 57926999, 58147733], \"sizemode\": \"area\", \"sizeref\": 206002.49, \"symbol\": \"circle\"}, \"mode\": \"markers\", \"name\": \"Italy\", \"scene\": \"scene\", \"showlegend\": true, \"type\": \"scatter3d\", \"x\": [65.94, 67.81, 69.24, 71.06, 72.19, 73.48, 74.98, 76.42, 77.44, 78.82, 80.24, 80.546], \"y\": [1952, 1957, 1962, 1967, 1972, 1977, 1982, 1987, 1992, 1997, 2002, 2007], \"z\": [4931.404154999999, 6248.656232, 8243.58234, 10022.40131, 12269.27378, 14255.98475, 16537.4835, 19207.234819999998, 22013.64486, 24675.02446, 27968.098169999997, 28569.7197]}, {\"hovertemplate\": \"country=Montenegro<br>lifeExp=%{x}<br>year=%{y}<br>gdpPercap=%{z}<br>pop=%{marker.size}<extra></extra>\", \"legendgroup\": \"Montenegro\", \"marker\": {\"color\": \"#FF6692\", \"size\": [413834, 442829, 474528, 501035, 527678, 560073, 562548, 569473, 621621, 692651, 720230, 684736], \"sizemode\": \"area\", \"sizeref\": 206002.49, \"symbol\": \"circle\"}, \"mode\": \"markers\", \"name\": \"Montenegro\", \"scene\": \"scene\", \"showlegend\": true, \"type\": \"scatter3d\", \"x\": [59.163999999999994, 61.448, 63.728, 67.178, 70.63600000000001, 73.066, 74.101, 74.865, 75.435, 75.445, 73.98100000000001, 74.543], \"y\": [1952, 1957, 1962, 1967, 1972, 1977, 1982, 1987, 1992, 1997, 2002, 2007], \"z\": [2647.585601, 3682.259903, 4649.593785, 5907.850937, 7778.414017, 9595.929904999999, 11222.58762, 11732.51017, 7003.339037000001, 6465.613349, 6557.194282, 9253.896111]}, {\"hovertemplate\": \"country=Netherlands<br>lifeExp=%{x}<br>year=%{y}<br>gdpPercap=%{z}<br>pop=%{marker.size}<extra></extra>\", \"legendgroup\": \"Netherlands\", \"marker\": {\"color\": \"#B6E880\", \"size\": [10381988, 11026383, 11805689, 12596822, 13329874, 13852989, 14310401, 14665278, 15174244, 15604464, 16122830, 16570613], \"sizemode\": \"area\", \"sizeref\": 206002.49, \"symbol\": \"circle\"}, \"mode\": \"markers\", \"name\": \"Netherlands\", \"scene\": \"scene\", \"showlegend\": true, \"type\": \"scatter3d\", \"x\": [72.13, 72.99, 73.23, 73.82, 73.75, 75.24, 76.05, 76.83, 77.42, 78.03, 78.53, 79.762], \"y\": [1952, 1957, 1962, 1967, 1972, 1977, 1982, 1987, 1992, 1997, 2002, 2007], \"z\": [8941.571858, 11276.193440000001, 12790.849559999999, 15363.25136, 18794.74567, 21209.0592, 21399.46046, 23651.32361, 26790.94961, 30246.13063, 33724.75778, 36797.93332]}, {\"hovertemplate\": \"country=Norway<br>lifeExp=%{x}<br>year=%{y}<br>gdpPercap=%{z}<br>pop=%{marker.size}<extra></extra>\", \"legendgroup\": \"Norway\", \"marker\": {\"color\": \"#FF97FF\", \"size\": [3327728, 3491938, 3638919, 3786019, 3933004, 4043205, 4114787, 4186147, 4286357, 4405672, 4535591, 4627926], \"sizemode\": \"area\", \"sizeref\": 206002.49, \"symbol\": \"circle\"}, \"mode\": \"markers\", \"name\": \"Norway\", \"scene\": \"scene\", \"showlegend\": true, \"type\": \"scatter3d\", \"x\": [72.67, 73.44, 73.47, 74.08, 74.34, 75.37, 75.97, 75.89, 77.32, 78.32, 79.05, 80.196], \"y\": [1952, 1957, 1962, 1967, 1972, 1977, 1982, 1987, 1992, 1997, 2002, 2007], \"z\": [10095.42172, 11653.97304, 13450.40151, 16361.87647, 18965.05551, 23311.34939, 26298.635309999998, 31540.9748, 33965.66115, 41283.16433, 44683.97525, 49357.19017]}, {\"hovertemplate\": \"country=Poland<br>lifeExp=%{x}<br>year=%{y}<br>gdpPercap=%{z}<br>pop=%{marker.size}<extra></extra>\", \"legendgroup\": \"Poland\", \"marker\": {\"color\": \"#FECB52\", \"size\": [25730551, 28235346, 30329617, 31785378, 33039545, 34621254, 36227381, 37740710, 38370697, 38654957, 38625976, 38518241], \"sizemode\": \"area\", \"sizeref\": 206002.49, \"symbol\": \"circle\"}, \"mode\": \"markers\", \"name\": \"Poland\", \"scene\": \"scene\", \"showlegend\": true, \"type\": \"scatter3d\", \"x\": [61.31, 65.77, 67.64, 69.61, 70.85, 70.67, 71.32, 70.98, 70.99, 72.75, 74.67, 75.563], \"y\": [1952, 1957, 1962, 1967, 1972, 1977, 1982, 1987, 1992, 1997, 2002, 2007], \"z\": [4029.3296990000003, 4734.253019, 5338.752143, 6557.152776, 8006.506993000001, 9508.141454, 8451.531004, 9082.351172, 7738.881247, 10159.58368, 12002.23908, 15389.924680000002]}, {\"hovertemplate\": \"country=Portugal<br>lifeExp=%{x}<br>year=%{y}<br>gdpPercap=%{z}<br>pop=%{marker.size}<extra></extra>\", \"legendgroup\": \"Portugal\", \"marker\": {\"color\": \"#636efa\", \"size\": [8526050, 8817650, 9019800, 9103000, 8970450, 9662600, 9859650, 9915289, 9927680, 10156415, 10433867, 10642836], \"sizemode\": \"area\", \"sizeref\": 206002.49, \"symbol\": \"circle\"}, \"mode\": \"markers\", \"name\": \"Portugal\", \"scene\": \"scene\", \"showlegend\": true, \"type\": \"scatter3d\", \"x\": [59.82, 61.51, 64.39, 66.6, 69.26, 70.41, 72.77, 74.06, 74.86, 75.97, 77.29, 78.098], \"y\": [1952, 1957, 1962, 1967, 1972, 1977, 1982, 1987, 1992, 1997, 2002, 2007], \"z\": [3068.319867, 3774.571743, 4727.954889, 6361.517993, 9022.247417, 10172.48572, 11753.84291, 13039.30876, 16207.266630000002, 17641.03156, 19970.90787, 20509.64777]}, {\"hovertemplate\": \"country=Romania<br>lifeExp=%{x}<br>year=%{y}<br>gdpPercap=%{z}<br>pop=%{marker.size}<extra></extra>\", \"legendgroup\": \"Romania\", \"marker\": {\"color\": \"#EF553B\", \"size\": [16630000, 17829327, 18680721, 19284814, 20662648, 21658597, 22356726, 22686371, 22797027, 22562458, 22404337, 22276056], \"sizemode\": \"area\", \"sizeref\": 206002.49, \"symbol\": \"circle\"}, \"mode\": \"markers\", \"name\": \"Romania\", \"scene\": \"scene\", \"showlegend\": true, \"type\": \"scatter3d\", \"x\": [61.05, 64.1, 66.8, 66.8, 69.21, 69.46, 69.66, 69.53, 69.36, 69.72, 71.322, 72.476], \"y\": [1952, 1957, 1962, 1967, 1972, 1977, 1982, 1987, 1992, 1997, 2002, 2007], \"z\": [3144.613186, 3943.370225, 4734.9975859999995, 6470.866545, 8011.414401999999, 9356.39724, 9605.314053, 9696.273295, 6598.409903, 7346.547556999999, 7885.360081, 10808.47561]}, {\"hovertemplate\": \"country=Serbia<br>lifeExp=%{x}<br>year=%{y}<br>gdpPercap=%{z}<br>pop=%{marker.size}<extra></extra>\", \"legendgroup\": \"Serbia\", \"marker\": {\"color\": \"#00cc96\", \"size\": [6860147, 7271135, 7616060, 7971222, 8313288, 8686367, 9032824, 9230783, 9826397, 10336594, 10111559, 10150265], \"sizemode\": \"area\", \"sizeref\": 206002.49, \"symbol\": \"circle\"}, \"mode\": \"markers\", \"name\": \"Serbia\", \"scene\": \"scene\", \"showlegend\": true, \"type\": \"scatter3d\", \"x\": [57.996, 61.685, 64.531, 66.914, 68.7, 70.3, 70.16199999999999, 71.218, 71.65899999999999, 72.232, 73.21300000000001, 74.002], \"y\": [1952, 1957, 1962, 1967, 1972, 1977, 1982, 1987, 1992, 1997, 2002, 2007], \"z\": [3581.4594479999996, 4981.090891, 6289.629157, 7991.707066, 10522.067490000001, 12980.66956, 15181.0927, 15870.878509999999, 9325.068238, 7914.320304000001, 7236.075251, 9786.534714]}, {\"hovertemplate\": \"country=Slovak Republic<br>lifeExp=%{x}<br>year=%{y}<br>gdpPercap=%{z}<br>pop=%{marker.size}<extra></extra>\", \"legendgroup\": \"Slovak Republic\", \"marker\": {\"color\": \"#ab63fa\", \"size\": [3558137, 3844277, 4237384, 4442238, 4593433, 4827803, 5048043, 5199318, 5302888, 5383010, 5410052, 5447502], \"sizemode\": \"area\", \"sizeref\": 206002.49, \"symbol\": \"circle\"}, \"mode\": \"markers\", \"name\": \"Slovak Republic\", \"scene\": \"scene\", \"showlegend\": true, \"type\": \"scatter3d\", \"x\": [64.36, 67.45, 70.33, 70.98, 70.35, 70.45, 70.8, 71.08, 71.38, 72.71, 73.8, 74.663], \"y\": [1952, 1957, 1962, 1967, 1972, 1977, 1982, 1987, 1992, 1997, 2002, 2007], \"z\": [5074.659104, 6093.2629799999995, 7481.1075980000005, 8412.902397, 9674.167626, 10922.664040000001, 11348.54585, 12037.26758, 9498.467723, 12126.23065, 13638.778369999998, 18678.31435]}, {\"hovertemplate\": \"country=Slovenia<br>lifeExp=%{x}<br>year=%{y}<br>gdpPercap=%{z}<br>pop=%{marker.size}<extra></extra>\", \"legendgroup\": \"Slovenia\", \"marker\": {\"color\": \"#FFA15A\", \"size\": [1489518, 1533070, 1582962, 1646912, 1694510, 1746919, 1861252, 1945870, 1999210, 2011612, 2011497, 2009245], \"sizemode\": \"area\", \"sizeref\": 206002.49, \"symbol\": \"circle\"}, \"mode\": \"markers\", \"name\": \"Slovenia\", \"scene\": \"scene\", \"showlegend\": true, \"type\": \"scatter3d\", \"x\": [65.57, 67.85, 69.15, 69.18, 69.82, 70.97, 71.063, 72.25, 73.64, 75.13, 76.66, 77.926], \"y\": [1952, 1957, 1962, 1967, 1972, 1977, 1982, 1987, 1992, 1997, 2002, 2007], \"z\": [4215.041741, 5862.276629, 7402.303395, 9405.489397, 12383.4862, 15277.030169999998, 17866.72175, 18678.53492, 14214.71681, 17161.10735, 20660.01936, 25768.25759]}, {\"hovertemplate\": \"country=Spain<br>lifeExp=%{x}<br>year=%{y}<br>gdpPercap=%{z}<br>pop=%{marker.size}<extra></extra>\", \"legendgroup\": \"Spain\", \"marker\": {\"color\": \"#19d3f3\", \"size\": [28549870, 29841614, 31158061, 32850275, 34513161, 36439000, 37983310, 38880702, 39549438, 39855442, 40152517, 40448191], \"sizemode\": \"area\", \"sizeref\": 206002.49, \"symbol\": \"circle\"}, \"mode\": \"markers\", \"name\": \"Spain\", \"scene\": \"scene\", \"showlegend\": true, \"type\": \"scatter3d\", \"x\": [64.94, 66.66, 69.69, 71.44, 73.06, 74.39, 76.3, 76.9, 77.57, 78.77, 79.78, 80.941], \"y\": [1952, 1957, 1962, 1967, 1972, 1977, 1982, 1987, 1992, 1997, 2002, 2007], \"z\": [3834.0347420000003, 4564.80241, 5693.843879, 7993.512294, 10638.75131, 13236.92117, 13926.169969999999, 15764.98313, 18603.06452, 20445.29896, 24835.47166, 28821.0637]}, {\"hovertemplate\": \"country=Sweden<br>lifeExp=%{x}<br>year=%{y}<br>gdpPercap=%{z}<br>pop=%{marker.size}<extra></extra>\", \"legendgroup\": \"Sweden\", \"marker\": {\"color\": \"#FF6692\", \"size\": [7124673, 7363802, 7561588, 7867931, 8122293, 8251648, 8325260, 8421403, 8718867, 8897619, 8954175, 9031088], \"sizemode\": \"area\", \"sizeref\": 206002.49, \"symbol\": \"circle\"}, \"mode\": \"markers\", \"name\": \"Sweden\", \"scene\": \"scene\", \"showlegend\": true, \"type\": \"scatter3d\", \"x\": [71.86, 72.49, 73.37, 74.16, 74.72, 75.44, 76.42, 77.19, 78.16, 79.39, 80.04, 80.884], \"y\": [1952, 1957, 1962, 1967, 1972, 1977, 1982, 1987, 1992, 1997, 2002, 2007], \"z\": [8527.844662000001, 9911.878226, 12329.441920000001, 15258.29697, 17832.02464, 18855.72521, 20667.38125, 23586.92927, 23880.01683, 25266.59499, 29341.630930000003, 33859.74835]}, {\"hovertemplate\": \"country=Switzerland<br>lifeExp=%{x}<br>year=%{y}<br>gdpPercap=%{z}<br>pop=%{marker.size}<extra></extra>\", \"legendgroup\": \"Switzerland\", \"marker\": {\"color\": \"#B6E880\", \"size\": [4815000, 5126000, 5666000, 6063000, 6401400, 6316424, 6468126, 6649942, 6995447, 7193761, 7361757, 7554661], \"sizemode\": \"area\", \"sizeref\": 206002.49, \"symbol\": \"circle\"}, \"mode\": \"markers\", \"name\": \"Switzerland\", \"scene\": \"scene\", \"showlegend\": true, \"type\": \"scatter3d\", \"x\": [69.62, 70.56, 71.32, 72.77, 73.78, 75.39, 76.21, 77.41, 78.03, 79.37, 80.62, 81.70100000000001], \"y\": [1952, 1957, 1962, 1967, 1972, 1977, 1982, 1987, 1992, 1997, 2002, 2007], \"z\": [14734.23275, 17909.48973, 20431.0927, 22966.14432, 27195.113039999997, 26982.29052, 28397.715119999997, 30281.704589999998, 31871.5303, 32135.323010000004, 34480.95771, 37506.419069999996]}, {\"hovertemplate\": \"country=Turkey<br>lifeExp=%{x}<br>year=%{y}<br>gdpPercap=%{z}<br>pop=%{marker.size}<extra></extra>\", \"legendgroup\": \"Turkey\", \"marker\": {\"color\": \"#FF97FF\", \"size\": [22235677, 25670939, 29788695, 33411317, 37492953, 42404033, 47328791, 52881328, 58179144, 63047647, 67308928, 71158647], \"sizemode\": \"area\", \"sizeref\": 206002.49, \"symbol\": \"circle\"}, \"mode\": \"markers\", \"name\": \"Turkey\", \"scene\": \"scene\", \"showlegend\": true, \"type\": \"scatter3d\", \"x\": [43.585, 48.07899999999999, 52.098, 54.336000000000006, 57.005, 59.507, 61.036, 63.108000000000004, 66.146, 68.835, 70.845, 71.777], \"y\": [1952, 1957, 1962, 1967, 1972, 1977, 1982, 1987, 1992, 1997, 2002, 2007], \"z\": [1969.1009800000002, 2218.754257, 2322.8699079999997, 2826.3563870000003, 3450.69638, 4269.122326, 4241.356344, 5089.043686, 5678.348271, 6601.429915, 6508.085718, 8458.276384]}, {\"hovertemplate\": \"country=United Kingdom<br>lifeExp=%{x}<br>year=%{y}<br>gdpPercap=%{z}<br>pop=%{marker.size}<extra></extra>\", \"legendgroup\": \"United Kingdom\", \"marker\": {\"color\": \"#FECB52\", \"size\": [50430000, 51430000, 53292000, 54959000, 56079000, 56179000, 56339704, 56981620, 57866349, 58808266, 59912431, 60776238], \"sizemode\": \"area\", \"sizeref\": 206002.49, \"symbol\": \"circle\"}, \"mode\": \"markers\", \"name\": \"United Kingdom\", \"scene\": \"scene\", \"showlegend\": true, \"type\": \"scatter3d\", \"x\": [69.18, 70.42, 70.76, 71.36, 72.01, 72.76, 74.04, 75.007, 76.42, 77.218, 78.471, 79.425], \"y\": [1952, 1957, 1962, 1967, 1972, 1977, 1982, 1987, 1992, 1997, 2002, 2007], \"z\": [9979.508487000001, 11283.17795, 12477.17707, 14142.85089, 15895.116409999999, 17428.74846, 18232.42452, 21664.787669999998, 22705.09254, 26074.53136, 29478.99919, 33203.26128]}],                        {\"legend\": {\"itemsizing\": \"constant\", \"title\": {\"text\": \"country\"}, \"tracegroupgap\": 0}, \"margin\": {\"t\": 60}, \"scene\": {\"domain\": {\"x\": [0.0, 1.0], \"y\": [0.0, 1.0]}, \"xaxis\": {\"title\": {\"text\": \"lifeExp\"}}, \"yaxis\": {\"title\": {\"text\": \"year\"}}, \"zaxis\": {\"title\": {\"text\": \"gdpPercap\"}}}, \"template\": {\"data\": {\"bar\": [{\"error_x\": {\"color\": \"#2a3f5f\"}, \"error_y\": {\"color\": \"#2a3f5f\"}, \"marker\": {\"line\": {\"color\": \"#E5ECF6\", \"width\": 0.5}}, \"type\": \"bar\"}], \"barpolar\": [{\"marker\": {\"line\": {\"color\": \"#E5ECF6\", \"width\": 0.5}}, \"type\": \"barpolar\"}], \"carpet\": [{\"aaxis\": {\"endlinecolor\": \"#2a3f5f\", \"gridcolor\": \"white\", \"linecolor\": \"white\", \"minorgridcolor\": \"white\", \"startlinecolor\": \"#2a3f5f\"}, \"baxis\": {\"endlinecolor\": \"#2a3f5f\", \"gridcolor\": \"white\", \"linecolor\": \"white\", \"minorgridcolor\": \"white\", \"startlinecolor\": \"#2a3f5f\"}, \"type\": \"carpet\"}], \"choropleth\": [{\"colorbar\": {\"outlinewidth\": 0, \"ticks\": \"\"}, \"type\": \"choropleth\"}], \"contour\": [{\"colorbar\": {\"outlinewidth\": 0, \"ticks\": \"\"}, \"colorscale\": [[0.0, \"#0d0887\"], [0.1111111111111111, \"#46039f\"], [0.2222222222222222, \"#7201a8\"], [0.3333333333333333, \"#9c179e\"], [0.4444444444444444, \"#bd3786\"], [0.5555555555555556, \"#d8576b\"], [0.6666666666666666, \"#ed7953\"], [0.7777777777777778, \"#fb9f3a\"], [0.8888888888888888, \"#fdca26\"], [1.0, \"#f0f921\"]], \"type\": \"contour\"}], \"contourcarpet\": [{\"colorbar\": {\"outlinewidth\": 0, \"ticks\": \"\"}, \"type\": \"contourcarpet\"}], \"heatmap\": [{\"colorbar\": {\"outlinewidth\": 0, \"ticks\": \"\"}, \"colorscale\": [[0.0, \"#0d0887\"], [0.1111111111111111, \"#46039f\"], [0.2222222222222222, \"#7201a8\"], [0.3333333333333333, \"#9c179e\"], [0.4444444444444444, \"#bd3786\"], [0.5555555555555556, \"#d8576b\"], [0.6666666666666666, \"#ed7953\"], [0.7777777777777778, \"#fb9f3a\"], [0.8888888888888888, \"#fdca26\"], [1.0, \"#f0f921\"]], \"type\": \"heatmap\"}], \"heatmapgl\": [{\"colorbar\": {\"outlinewidth\": 0, \"ticks\": \"\"}, \"colorscale\": [[0.0, \"#0d0887\"], [0.1111111111111111, \"#46039f\"], [0.2222222222222222, \"#7201a8\"], [0.3333333333333333, \"#9c179e\"], [0.4444444444444444, \"#bd3786\"], [0.5555555555555556, \"#d8576b\"], [0.6666666666666666, \"#ed7953\"], [0.7777777777777778, \"#fb9f3a\"], [0.8888888888888888, \"#fdca26\"], [1.0, \"#f0f921\"]], \"type\": \"heatmapgl\"}], \"histogram\": [{\"marker\": {\"colorbar\": {\"outlinewidth\": 0, \"ticks\": \"\"}}, \"type\": \"histogram\"}], \"histogram2d\": [{\"colorbar\": {\"outlinewidth\": 0, \"ticks\": \"\"}, \"colorscale\": [[0.0, \"#0d0887\"], [0.1111111111111111, \"#46039f\"], [0.2222222222222222, \"#7201a8\"], [0.3333333333333333, \"#9c179e\"], [0.4444444444444444, \"#bd3786\"], [0.5555555555555556, \"#d8576b\"], [0.6666666666666666, \"#ed7953\"], [0.7777777777777778, \"#fb9f3a\"], [0.8888888888888888, \"#fdca26\"], [1.0, \"#f0f921\"]], \"type\": \"histogram2d\"}], \"histogram2dcontour\": [{\"colorbar\": {\"outlinewidth\": 0, \"ticks\": \"\"}, \"colorscale\": [[0.0, \"#0d0887\"], [0.1111111111111111, \"#46039f\"], [0.2222222222222222, \"#7201a8\"], [0.3333333333333333, \"#9c179e\"], [0.4444444444444444, \"#bd3786\"], [0.5555555555555556, \"#d8576b\"], [0.6666666666666666, \"#ed7953\"], [0.7777777777777778, \"#fb9f3a\"], [0.8888888888888888, \"#fdca26\"], [1.0, \"#f0f921\"]], \"type\": \"histogram2dcontour\"}], \"mesh3d\": [{\"colorbar\": {\"outlinewidth\": 0, \"ticks\": \"\"}, \"type\": \"mesh3d\"}], \"parcoords\": [{\"line\": {\"colorbar\": {\"outlinewidth\": 0, \"ticks\": \"\"}}, \"type\": \"parcoords\"}], \"pie\": [{\"automargin\": true, \"type\": \"pie\"}], \"scatter\": [{\"marker\": {\"colorbar\": {\"outlinewidth\": 0, \"ticks\": \"\"}}, \"type\": \"scatter\"}], \"scatter3d\": [{\"line\": {\"colorbar\": {\"outlinewidth\": 0, \"ticks\": \"\"}}, \"marker\": {\"colorbar\": {\"outlinewidth\": 0, \"ticks\": \"\"}}, \"type\": \"scatter3d\"}], \"scattercarpet\": [{\"marker\": {\"colorbar\": {\"outlinewidth\": 0, \"ticks\": \"\"}}, \"type\": \"scattercarpet\"}], \"scattergeo\": [{\"marker\": {\"colorbar\": {\"outlinewidth\": 0, \"ticks\": \"\"}}, \"type\": \"scattergeo\"}], \"scattergl\": [{\"marker\": {\"colorbar\": {\"outlinewidth\": 0, \"ticks\": \"\"}}, \"type\": \"scattergl\"}], \"scattermapbox\": [{\"marker\": {\"colorbar\": {\"outlinewidth\": 0, \"ticks\": \"\"}}, \"type\": \"scattermapbox\"}], \"scatterpolar\": [{\"marker\": {\"colorbar\": {\"outlinewidth\": 0, \"ticks\": \"\"}}, \"type\": \"scatterpolar\"}], \"scatterpolargl\": [{\"marker\": {\"colorbar\": {\"outlinewidth\": 0, \"ticks\": \"\"}}, \"type\": \"scatterpolargl\"}], \"scatterternary\": [{\"marker\": {\"colorbar\": {\"outlinewidth\": 0, \"ticks\": \"\"}}, \"type\": \"scatterternary\"}], \"surface\": [{\"colorbar\": {\"outlinewidth\": 0, \"ticks\": \"\"}, \"colorscale\": [[0.0, \"#0d0887\"], [0.1111111111111111, \"#46039f\"], [0.2222222222222222, \"#7201a8\"], [0.3333333333333333, \"#9c179e\"], [0.4444444444444444, \"#bd3786\"], [0.5555555555555556, \"#d8576b\"], [0.6666666666666666, \"#ed7953\"], [0.7777777777777778, \"#fb9f3a\"], [0.8888888888888888, \"#fdca26\"], [1.0, \"#f0f921\"]], \"type\": \"surface\"}], \"table\": [{\"cells\": {\"fill\": {\"color\": \"#EBF0F8\"}, \"line\": {\"color\": \"white\"}}, \"header\": {\"fill\": {\"color\": \"#C8D4E3\"}, \"line\": {\"color\": \"white\"}}, \"type\": \"table\"}]}, \"layout\": {\"annotationdefaults\": {\"arrowcolor\": \"#2a3f5f\", \"arrowhead\": 0, \"arrowwidth\": 1}, \"autotypenumbers\": \"strict\", \"coloraxis\": {\"colorbar\": {\"outlinewidth\": 0, \"ticks\": \"\"}}, \"colorscale\": {\"diverging\": [[0, \"#8e0152\"], [0.1, \"#c51b7d\"], [0.2, \"#de77ae\"], [0.3, \"#f1b6da\"], [0.4, \"#fde0ef\"], [0.5, \"#f7f7f7\"], [0.6, \"#e6f5d0\"], [0.7, \"#b8e186\"], [0.8, \"#7fbc41\"], [0.9, \"#4d9221\"], [1, \"#276419\"]], \"sequential\": [[0.0, \"#0d0887\"], [0.1111111111111111, \"#46039f\"], [0.2222222222222222, \"#7201a8\"], [0.3333333333333333, \"#9c179e\"], [0.4444444444444444, \"#bd3786\"], [0.5555555555555556, \"#d8576b\"], [0.6666666666666666, \"#ed7953\"], [0.7777777777777778, \"#fb9f3a\"], [0.8888888888888888, \"#fdca26\"], [1.0, \"#f0f921\"]], \"sequentialminus\": [[0.0, \"#0d0887\"], [0.1111111111111111, \"#46039f\"], [0.2222222222222222, \"#7201a8\"], [0.3333333333333333, \"#9c179e\"], [0.4444444444444444, \"#bd3786\"], [0.5555555555555556, \"#d8576b\"], [0.6666666666666666, \"#ed7953\"], [0.7777777777777778, \"#fb9f3a\"], [0.8888888888888888, \"#fdca26\"], [1.0, \"#f0f921\"]]}, \"colorway\": [\"#636efa\", \"#EF553B\", \"#00cc96\", \"#ab63fa\", \"#FFA15A\", \"#19d3f3\", \"#FF6692\", \"#B6E880\", \"#FF97FF\", \"#FECB52\"], \"font\": {\"color\": \"#2a3f5f\"}, \"geo\": {\"bgcolor\": \"white\", \"lakecolor\": \"white\", \"landcolor\": \"#E5ECF6\", \"showlakes\": true, \"showland\": true, \"subunitcolor\": \"white\"}, \"hoverlabel\": {\"align\": \"left\"}, \"hovermode\": \"closest\", \"mapbox\": {\"style\": \"light\"}, \"paper_bgcolor\": \"white\", \"plot_bgcolor\": \"#E5ECF6\", \"polar\": {\"angularaxis\": {\"gridcolor\": \"white\", \"linecolor\": \"white\", \"ticks\": \"\"}, \"bgcolor\": \"#E5ECF6\", \"radialaxis\": {\"gridcolor\": \"white\", \"linecolor\": \"white\", \"ticks\": \"\"}}, \"scene\": {\"xaxis\": {\"backgroundcolor\": \"#E5ECF6\", \"gridcolor\": \"white\", \"gridwidth\": 2, \"linecolor\": \"white\", \"showbackground\": true, \"ticks\": \"\", \"zerolinecolor\": \"white\"}, \"yaxis\": {\"backgroundcolor\": \"#E5ECF6\", \"gridcolor\": \"white\", \"gridwidth\": 2, \"linecolor\": \"white\", \"showbackground\": true, \"ticks\": \"\", \"zerolinecolor\": \"white\"}, \"zaxis\": {\"backgroundcolor\": \"#E5ECF6\", \"gridcolor\": \"white\", \"gridwidth\": 2, \"linecolor\": \"white\", \"showbackground\": true, \"ticks\": \"\", \"zerolinecolor\": \"white\"}}, \"shapedefaults\": {\"line\": {\"color\": \"#2a3f5f\"}}, \"ternary\": {\"aaxis\": {\"gridcolor\": \"white\", \"linecolor\": \"white\", \"ticks\": \"\"}, \"baxis\": {\"gridcolor\": \"white\", \"linecolor\": \"white\", \"ticks\": \"\"}, \"bgcolor\": \"#E5ECF6\", \"caxis\": {\"gridcolor\": \"white\", \"linecolor\": \"white\", \"ticks\": \"\"}}, \"title\": {\"x\": 0.05}, \"xaxis\": {\"automargin\": true, \"gridcolor\": \"white\", \"linecolor\": \"white\", \"ticks\": \"\", \"title\": {\"standoff\": 15}, \"zerolinecolor\": \"white\", \"zerolinewidth\": 2}, \"yaxis\": {\"automargin\": true, \"gridcolor\": \"white\", \"linecolor\": \"white\", \"ticks\": \"\", \"title\": {\"standoff\": 15}, \"zerolinecolor\": \"white\", \"zerolinewidth\": 2}}}},                        {\"responsive\": true}                    ).then(function(){\n",
       "                            \n",
       "var gd = document.getElementById('b2e87ad8-629b-4bb7-8801-29812f02b3b2');\n",
       "var x = new MutationObserver(function (mutations, observer) {{\n",
       "        var display = window.getComputedStyle(gd).display;\n",
       "        if (!display || display === 'none') {{\n",
       "            console.log([gd, 'removed!']);\n",
       "            Plotly.purge(gd);\n",
       "            observer.disconnect();\n",
       "        }}\n",
       "}});\n",
       "\n",
       "// Listen for the removal of the full notebook cells\n",
       "var notebookContainer = gd.closest('#notebook-container');\n",
       "if (notebookContainer) {{\n",
       "    x.observe(notebookContainer, {childList: true});\n",
       "}}\n",
       "\n",
       "// Listen for the clearing of the current output cell\n",
       "var outputEl = gd.closest('.output');\n",
       "if (outputEl) {{\n",
       "    x.observe(outputEl, {childList: true});\n",
       "}}\n",
       "\n",
       "                        })                };                });            </script>        </div>"
      ]
     },
     "metadata": {},
     "output_type": "display_data"
    }
   ],
   "source": [
    "fig = px.scatter_3d(euro_countries, x='lifeExp', y='year', z='gdpPercap', color='country', size='pop')\n",
    "fig.show()"
   ]
  },
  {
   "cell_type": "markdown",
   "metadata": {},
   "source": [
    "------"
   ]
  },
  {
   "cell_type": "markdown",
   "metadata": {
    "id": "UMUo_Zft27e9"
   },
   "source": [
    "# 3d Line Chart"
   ]
  },
  {
   "cell_type": "code",
   "execution_count": 21,
   "metadata": {},
   "outputs": [
    {
     "data": {
      "application/vnd.plotly.v1+json": {
       "config": {
        "plotlyServerURL": "https://plotly.com"
       },
       "data": [
        {
         "hovertemplate": "country=Albania<br>lifeExp=%{x}<br>year=%{y}<br>gdpPercap=%{z}<extra></extra>",
         "legendgroup": "Albania",
         "line": {
          "color": "#636efa",
          "dash": "solid"
         },
         "mode": "lines",
         "name": "Albania",
         "scene": "scene",
         "showlegend": true,
         "type": "scatter3d",
         "x": [
          55.23,
          59.28,
          64.82,
          66.22,
          67.69,
          68.93,
          70.42,
          72,
          71.581,
          72.95,
          75.65100000000001,
          76.423
         ],
         "y": [
          1952,
          1957,
          1962,
          1967,
          1972,
          1977,
          1982,
          1987,
          1992,
          1997,
          2002,
          2007
         ],
         "z": [
          1601.056136,
          1942.2842440000002,
          2312.888958,
          2760.196931,
          3313.422188,
          3533.0039100000004,
          3630.880722,
          3738.9327350000003,
          2497.4379010000002,
          3193.054604,
          4604.211737,
          5937.029525999999
         ]
        },
        {
         "hovertemplate": "country=Austria<br>lifeExp=%{x}<br>year=%{y}<br>gdpPercap=%{z}<extra></extra>",
         "legendgroup": "Austria",
         "line": {
          "color": "#EF553B",
          "dash": "solid"
         },
         "mode": "lines",
         "name": "Austria",
         "scene": "scene",
         "showlegend": true,
         "type": "scatter3d",
         "x": [
          66.8,
          67.48,
          69.54,
          70.14,
          70.63,
          72.17,
          73.18,
          74.94,
          76.04,
          77.51,
          78.98,
          79.829
         ],
         "y": [
          1952,
          1957,
          1962,
          1967,
          1972,
          1977,
          1982,
          1987,
          1992,
          1997,
          2002,
          2007
         ],
         "z": [
          6137.076492,
          8842.59803,
          10750.721109999999,
          12834.6024,
          16661.6256,
          19749.4223,
          21597.083619999998,
          23687.82607,
          27042.01868,
          29095.920660000003,
          32417.607689999997,
          36126.4927
         ]
        },
        {
         "hovertemplate": "country=Belgium<br>lifeExp=%{x}<br>year=%{y}<br>gdpPercap=%{z}<extra></extra>",
         "legendgroup": "Belgium",
         "line": {
          "color": "#00cc96",
          "dash": "solid"
         },
         "mode": "lines",
         "name": "Belgium",
         "scene": "scene",
         "showlegend": true,
         "type": "scatter3d",
         "x": [
          68,
          69.24,
          70.25,
          70.94,
          71.44,
          72.8,
          73.93,
          75.35,
          76.46,
          77.53,
          78.32,
          79.441
         ],
         "y": [
          1952,
          1957,
          1962,
          1967,
          1972,
          1977,
          1982,
          1987,
          1992,
          1997,
          2002,
          2007
         ],
         "z": [
          8343.105126999999,
          9714.960623,
          10991.20676,
          13149.04119,
          16672.14356,
          19117.97448,
          20979.84589,
          22525.56308,
          25575.57069,
          27561.196630000002,
          30485.88375,
          33692.60508
         ]
        },
        {
         "hovertemplate": "country=Bosnia and Herzegovina<br>lifeExp=%{x}<br>year=%{y}<br>gdpPercap=%{z}<extra></extra>",
         "legendgroup": "Bosnia and Herzegovina",
         "line": {
          "color": "#ab63fa",
          "dash": "solid"
         },
         "mode": "lines",
         "name": "Bosnia and Herzegovina",
         "scene": "scene",
         "showlegend": true,
         "type": "scatter3d",
         "x": [
          53.82,
          58.45,
          61.93,
          64.79,
          67.45,
          69.86,
          70.69,
          71.14,
          72.178,
          73.244,
          74.09,
          74.852
         ],
         "y": [
          1952,
          1957,
          1962,
          1967,
          1972,
          1977,
          1982,
          1987,
          1992,
          1997,
          2002,
          2007
         ],
         "z": [
          973.5331947999999,
          1353.989176,
          1709.683679,
          2172.3524230000003,
          2860.16975,
          3528.481305,
          4126.613157,
          4314.114757,
          2546.781445,
          4766.355904,
          6018.975239,
          7446.298803
         ]
        },
        {
         "hovertemplate": "country=Bulgaria<br>lifeExp=%{x}<br>year=%{y}<br>gdpPercap=%{z}<extra></extra>",
         "legendgroup": "Bulgaria",
         "line": {
          "color": "#FFA15A",
          "dash": "solid"
         },
         "mode": "lines",
         "name": "Bulgaria",
         "scene": "scene",
         "showlegend": true,
         "type": "scatter3d",
         "x": [
          59.6,
          66.61,
          69.51,
          70.42,
          70.9,
          70.81,
          71.08,
          71.34,
          71.19,
          70.32,
          72.14,
          73.005
         ],
         "y": [
          1952,
          1957,
          1962,
          1967,
          1972,
          1977,
          1982,
          1987,
          1992,
          1997,
          2002,
          2007
         ],
         "z": [
          2444.2866480000002,
          3008.670727,
          4254.337839,
          5577.0028,
          6597.494398,
          7612.240438,
          8224.191647,
          8239.854824,
          6302.6234380000005,
          5970.38876,
          7696.777725,
          10680.79282
         ]
        },
        {
         "hovertemplate": "country=Croatia<br>lifeExp=%{x}<br>year=%{y}<br>gdpPercap=%{z}<extra></extra>",
         "legendgroup": "Croatia",
         "line": {
          "color": "#19d3f3",
          "dash": "solid"
         },
         "mode": "lines",
         "name": "Croatia",
         "scene": "scene",
         "showlegend": true,
         "type": "scatter3d",
         "x": [
          61.21,
          64.77,
          67.13,
          68.5,
          69.61,
          70.64,
          70.46,
          71.52,
          72.527,
          73.68,
          74.876,
          75.748
         ],
         "y": [
          1952,
          1957,
          1962,
          1967,
          1972,
          1977,
          1982,
          1987,
          1992,
          1997,
          2002,
          2007
         ],
         "z": [
          3119.23652,
          4338.231617,
          5477.890018,
          6960.297861,
          9164.090127,
          11305.38517,
          13221.82184,
          13822.58394,
          8447.794873,
          9875.604515,
          11628.38895,
          14619.222719999998
         ]
        },
        {
         "hovertemplate": "country=Czech Republic<br>lifeExp=%{x}<br>year=%{y}<br>gdpPercap=%{z}<extra></extra>",
         "legendgroup": "Czech Republic",
         "line": {
          "color": "#FF6692",
          "dash": "solid"
         },
         "mode": "lines",
         "name": "Czech Republic",
         "scene": "scene",
         "showlegend": true,
         "type": "scatter3d",
         "x": [
          66.87,
          69.03,
          69.9,
          70.38,
          70.29,
          70.71,
          70.96,
          71.58,
          72.4,
          74.01,
          75.51,
          76.486
         ],
         "y": [
          1952,
          1957,
          1962,
          1967,
          1972,
          1977,
          1982,
          1987,
          1992,
          1997,
          2002,
          2007
         ],
         "z": [
          6876.14025,
          8256.343918,
          10136.86713,
          11399.44489,
          13108.4536,
          14800.160619999999,
          15377.22855,
          16310.4434,
          14297.021219999999,
          16048.51424,
          17596.210219999997,
          22833.30851
         ]
        },
        {
         "hovertemplate": "country=Denmark<br>lifeExp=%{x}<br>year=%{y}<br>gdpPercap=%{z}<extra></extra>",
         "legendgroup": "Denmark",
         "line": {
          "color": "#B6E880",
          "dash": "solid"
         },
         "mode": "lines",
         "name": "Denmark",
         "scene": "scene",
         "showlegend": true,
         "type": "scatter3d",
         "x": [
          70.78,
          71.81,
          72.35,
          72.96,
          73.47,
          74.69,
          74.63,
          74.8,
          75.33,
          76.11,
          77.18,
          78.332
         ],
         "y": [
          1952,
          1957,
          1962,
          1967,
          1972,
          1977,
          1982,
          1987,
          1992,
          1997,
          2002,
          2007
         ],
         "z": [
          9692.385245,
          11099.65935,
          13583.31351,
          15937.21123,
          18866.20721,
          20422.9015,
          21688.04048,
          25116.17581,
          26406.73985,
          29804.34567,
          32166.500060000002,
          35278.41874
         ]
        },
        {
         "hovertemplate": "country=Finland<br>lifeExp=%{x}<br>year=%{y}<br>gdpPercap=%{z}<extra></extra>",
         "legendgroup": "Finland",
         "line": {
          "color": "#FF97FF",
          "dash": "solid"
         },
         "mode": "lines",
         "name": "Finland",
         "scene": "scene",
         "showlegend": true,
         "type": "scatter3d",
         "x": [
          66.55,
          67.49,
          68.75,
          69.83,
          70.87,
          72.52,
          74.55,
          74.83,
          75.7,
          77.13,
          78.37,
          79.313
         ],
         "y": [
          1952,
          1957,
          1962,
          1967,
          1972,
          1977,
          1982,
          1987,
          1992,
          1997,
          2002,
          2007
         ],
         "z": [
          6424.519071,
          7545.415386,
          9371.842561,
          10921.63626,
          14358.8759,
          15605.422830000001,
          18533.15761,
          21141.01223,
          20647.16499,
          23723.9502,
          28204.59057,
          33207.0844
         ]
        },
        {
         "hovertemplate": "country=France<br>lifeExp=%{x}<br>year=%{y}<br>gdpPercap=%{z}<extra></extra>",
         "legendgroup": "France",
         "line": {
          "color": "#FECB52",
          "dash": "solid"
         },
         "mode": "lines",
         "name": "France",
         "scene": "scene",
         "showlegend": true,
         "type": "scatter3d",
         "x": [
          67.41,
          68.93,
          70.51,
          71.55,
          72.38,
          73.83,
          74.89,
          76.34,
          77.46,
          78.64,
          79.59,
          80.657
         ],
         "y": [
          1952,
          1957,
          1962,
          1967,
          1972,
          1977,
          1982,
          1987,
          1992,
          1997,
          2002,
          2007
         ],
         "z": [
          7029.809327,
          8662.834898000001,
          10560.48553,
          12999.91766,
          16107.19171,
          18292.635140000002,
          20293.89746,
          22066.44214,
          24703.79615,
          25889.78487,
          28926.032339999998,
          30470.0167
         ]
        },
        {
         "hovertemplate": "country=Germany<br>lifeExp=%{x}<br>year=%{y}<br>gdpPercap=%{z}<extra></extra>",
         "legendgroup": "Germany",
         "line": {
          "color": "#636efa",
          "dash": "solid"
         },
         "mode": "lines",
         "name": "Germany",
         "scene": "scene",
         "showlegend": true,
         "type": "scatter3d",
         "x": [
          67.5,
          69.1,
          70.3,
          70.8,
          71,
          72.5,
          73.8,
          74.847,
          76.07,
          77.34,
          78.67,
          79.406
         ],
         "y": [
          1952,
          1957,
          1962,
          1967,
          1972,
          1977,
          1982,
          1987,
          1992,
          1997,
          2002,
          2007
         ],
         "z": [
          7144.114393000001,
          10187.82665,
          12902.46291,
          14745.62561,
          18016.180269999997,
          20512.92123,
          22031.532740000002,
          24639.18566,
          26505.30317,
          27788.88416,
          30035.80198,
          32170.37442
         ]
        },
        {
         "hovertemplate": "country=Greece<br>lifeExp=%{x}<br>year=%{y}<br>gdpPercap=%{z}<extra></extra>",
         "legendgroup": "Greece",
         "line": {
          "color": "#EF553B",
          "dash": "solid"
         },
         "mode": "lines",
         "name": "Greece",
         "scene": "scene",
         "showlegend": true,
         "type": "scatter3d",
         "x": [
          65.86,
          67.86,
          69.51,
          71,
          72.34,
          73.68,
          75.24,
          76.67,
          77.03,
          77.869,
          78.256,
          79.483
         ],
         "y": [
          1952,
          1957,
          1962,
          1967,
          1972,
          1977,
          1982,
          1987,
          1992,
          1997,
          2002,
          2007
         ],
         "z": [
          3530.690067,
          4916.299889,
          6017.190732999999,
          8513.097016,
          12724.82957,
          14195.524280000001,
          15268.420890000001,
          16120.528390000001,
          17541.49634,
          18747.69814,
          22514.2548,
          27538.41188
         ]
        },
        {
         "hovertemplate": "country=Hungary<br>lifeExp=%{x}<br>year=%{y}<br>gdpPercap=%{z}<extra></extra>",
         "legendgroup": "Hungary",
         "line": {
          "color": "#00cc96",
          "dash": "solid"
         },
         "mode": "lines",
         "name": "Hungary",
         "scene": "scene",
         "showlegend": true,
         "type": "scatter3d",
         "x": [
          64.03,
          66.41,
          67.96,
          69.5,
          69.76,
          69.95,
          69.39,
          69.58,
          69.17,
          71.04,
          72.59,
          73.33800000000001
         ],
         "y": [
          1952,
          1957,
          1962,
          1967,
          1972,
          1977,
          1982,
          1987,
          1992,
          1997,
          2002,
          2007
         ],
         "z": [
          5263.6738159999995,
          6040.180011,
          7550.359877,
          9326.64467,
          10168.65611,
          11674.837370000001,
          12545.99066,
          12986.47998,
          10535.62855,
          11712.7768,
          14843.93556,
          18008.94444
         ]
        },
        {
         "hovertemplate": "country=Iceland<br>lifeExp=%{x}<br>year=%{y}<br>gdpPercap=%{z}<extra></extra>",
         "legendgroup": "Iceland",
         "line": {
          "color": "#ab63fa",
          "dash": "solid"
         },
         "mode": "lines",
         "name": "Iceland",
         "scene": "scene",
         "showlegend": true,
         "type": "scatter3d",
         "x": [
          72.49,
          73.47,
          73.68,
          73.73,
          74.46,
          76.11,
          76.99,
          77.23,
          78.77,
          78.95,
          80.5,
          81.757
         ],
         "y": [
          1952,
          1957,
          1962,
          1967,
          1972,
          1977,
          1982,
          1987,
          1992,
          1997,
          2002,
          2007
         ],
         "z": [
          7267.688428,
          9244.001412,
          10350.15906,
          13319.89568,
          15798.063619999999,
          19654.96247,
          23269.6075,
          26923.206280000002,
          25144.39201,
          28061.099660000003,
          31163.201960000002,
          36180.789189999996
         ]
        },
        {
         "hovertemplate": "country=Ireland<br>lifeExp=%{x}<br>year=%{y}<br>gdpPercap=%{z}<extra></extra>",
         "legendgroup": "Ireland",
         "line": {
          "color": "#FFA15A",
          "dash": "solid"
         },
         "mode": "lines",
         "name": "Ireland",
         "scene": "scene",
         "showlegend": true,
         "type": "scatter3d",
         "x": [
          66.91,
          68.9,
          70.29,
          71.08,
          71.28,
          72.03,
          73.1,
          74.36,
          75.467,
          76.122,
          77.783,
          78.885
         ],
         "y": [
          1952,
          1957,
          1962,
          1967,
          1972,
          1977,
          1982,
          1987,
          1992,
          1997,
          2002,
          2007
         ],
         "z": [
          5210.280328,
          5599.077872,
          6631.597314,
          7655.568963,
          9530.772895999999,
          11150.98113,
          12618.321409999999,
          13872.86652,
          17558.81555,
          24521.94713,
          34077.04939,
          40675.99635
         ]
        },
        {
         "hovertemplate": "country=Italy<br>lifeExp=%{x}<br>year=%{y}<br>gdpPercap=%{z}<extra></extra>",
         "legendgroup": "Italy",
         "line": {
          "color": "#19d3f3",
          "dash": "solid"
         },
         "mode": "lines",
         "name": "Italy",
         "scene": "scene",
         "showlegend": true,
         "type": "scatter3d",
         "x": [
          65.94,
          67.81,
          69.24,
          71.06,
          72.19,
          73.48,
          74.98,
          76.42,
          77.44,
          78.82,
          80.24,
          80.546
         ],
         "y": [
          1952,
          1957,
          1962,
          1967,
          1972,
          1977,
          1982,
          1987,
          1992,
          1997,
          2002,
          2007
         ],
         "z": [
          4931.404154999999,
          6248.656232,
          8243.58234,
          10022.40131,
          12269.27378,
          14255.98475,
          16537.4835,
          19207.234819999998,
          22013.64486,
          24675.02446,
          27968.098169999997,
          28569.7197
         ]
        },
        {
         "hovertemplate": "country=Montenegro<br>lifeExp=%{x}<br>year=%{y}<br>gdpPercap=%{z}<extra></extra>",
         "legendgroup": "Montenegro",
         "line": {
          "color": "#FF6692",
          "dash": "solid"
         },
         "mode": "lines",
         "name": "Montenegro",
         "scene": "scene",
         "showlegend": true,
         "type": "scatter3d",
         "x": [
          59.163999999999994,
          61.448,
          63.728,
          67.178,
          70.63600000000001,
          73.066,
          74.101,
          74.865,
          75.435,
          75.445,
          73.98100000000001,
          74.543
         ],
         "y": [
          1952,
          1957,
          1962,
          1967,
          1972,
          1977,
          1982,
          1987,
          1992,
          1997,
          2002,
          2007
         ],
         "z": [
          2647.585601,
          3682.259903,
          4649.593785,
          5907.850937,
          7778.414017,
          9595.929904999999,
          11222.58762,
          11732.51017,
          7003.339037000001,
          6465.613349,
          6557.194282,
          9253.896111
         ]
        },
        {
         "hovertemplate": "country=Netherlands<br>lifeExp=%{x}<br>year=%{y}<br>gdpPercap=%{z}<extra></extra>",
         "legendgroup": "Netherlands",
         "line": {
          "color": "#B6E880",
          "dash": "solid"
         },
         "mode": "lines",
         "name": "Netherlands",
         "scene": "scene",
         "showlegend": true,
         "type": "scatter3d",
         "x": [
          72.13,
          72.99,
          73.23,
          73.82,
          73.75,
          75.24,
          76.05,
          76.83,
          77.42,
          78.03,
          78.53,
          79.762
         ],
         "y": [
          1952,
          1957,
          1962,
          1967,
          1972,
          1977,
          1982,
          1987,
          1992,
          1997,
          2002,
          2007
         ],
         "z": [
          8941.571858,
          11276.193440000001,
          12790.849559999999,
          15363.25136,
          18794.74567,
          21209.0592,
          21399.46046,
          23651.32361,
          26790.94961,
          30246.13063,
          33724.75778,
          36797.93332
         ]
        },
        {
         "hovertemplate": "country=Norway<br>lifeExp=%{x}<br>year=%{y}<br>gdpPercap=%{z}<extra></extra>",
         "legendgroup": "Norway",
         "line": {
          "color": "#FF97FF",
          "dash": "solid"
         },
         "mode": "lines",
         "name": "Norway",
         "scene": "scene",
         "showlegend": true,
         "type": "scatter3d",
         "x": [
          72.67,
          73.44,
          73.47,
          74.08,
          74.34,
          75.37,
          75.97,
          75.89,
          77.32,
          78.32,
          79.05,
          80.196
         ],
         "y": [
          1952,
          1957,
          1962,
          1967,
          1972,
          1977,
          1982,
          1987,
          1992,
          1997,
          2002,
          2007
         ],
         "z": [
          10095.42172,
          11653.97304,
          13450.40151,
          16361.87647,
          18965.05551,
          23311.34939,
          26298.635309999998,
          31540.9748,
          33965.66115,
          41283.16433,
          44683.97525,
          49357.19017
         ]
        },
        {
         "hovertemplate": "country=Poland<br>lifeExp=%{x}<br>year=%{y}<br>gdpPercap=%{z}<extra></extra>",
         "legendgroup": "Poland",
         "line": {
          "color": "#FECB52",
          "dash": "solid"
         },
         "mode": "lines",
         "name": "Poland",
         "scene": "scene",
         "showlegend": true,
         "type": "scatter3d",
         "x": [
          61.31,
          65.77,
          67.64,
          69.61,
          70.85,
          70.67,
          71.32,
          70.98,
          70.99,
          72.75,
          74.67,
          75.563
         ],
         "y": [
          1952,
          1957,
          1962,
          1967,
          1972,
          1977,
          1982,
          1987,
          1992,
          1997,
          2002,
          2007
         ],
         "z": [
          4029.3296990000003,
          4734.253019,
          5338.752143,
          6557.152776,
          8006.506993000001,
          9508.141454,
          8451.531004,
          9082.351172,
          7738.881247,
          10159.58368,
          12002.23908,
          15389.924680000002
         ]
        },
        {
         "hovertemplate": "country=Portugal<br>lifeExp=%{x}<br>year=%{y}<br>gdpPercap=%{z}<extra></extra>",
         "legendgroup": "Portugal",
         "line": {
          "color": "#636efa",
          "dash": "solid"
         },
         "mode": "lines",
         "name": "Portugal",
         "scene": "scene",
         "showlegend": true,
         "type": "scatter3d",
         "x": [
          59.82,
          61.51,
          64.39,
          66.6,
          69.26,
          70.41,
          72.77,
          74.06,
          74.86,
          75.97,
          77.29,
          78.098
         ],
         "y": [
          1952,
          1957,
          1962,
          1967,
          1972,
          1977,
          1982,
          1987,
          1992,
          1997,
          2002,
          2007
         ],
         "z": [
          3068.319867,
          3774.571743,
          4727.954889,
          6361.517993,
          9022.247417,
          10172.48572,
          11753.84291,
          13039.30876,
          16207.266630000002,
          17641.03156,
          19970.90787,
          20509.64777
         ]
        },
        {
         "hovertemplate": "country=Romania<br>lifeExp=%{x}<br>year=%{y}<br>gdpPercap=%{z}<extra></extra>",
         "legendgroup": "Romania",
         "line": {
          "color": "#EF553B",
          "dash": "solid"
         },
         "mode": "lines",
         "name": "Romania",
         "scene": "scene",
         "showlegend": true,
         "type": "scatter3d",
         "x": [
          61.05,
          64.1,
          66.8,
          66.8,
          69.21,
          69.46,
          69.66,
          69.53,
          69.36,
          69.72,
          71.322,
          72.476
         ],
         "y": [
          1952,
          1957,
          1962,
          1967,
          1972,
          1977,
          1982,
          1987,
          1992,
          1997,
          2002,
          2007
         ],
         "z": [
          3144.613186,
          3943.370225,
          4734.9975859999995,
          6470.866545,
          8011.414401999999,
          9356.39724,
          9605.314053,
          9696.273295,
          6598.409903,
          7346.547556999999,
          7885.360081,
          10808.47561
         ]
        },
        {
         "hovertemplate": "country=Serbia<br>lifeExp=%{x}<br>year=%{y}<br>gdpPercap=%{z}<extra></extra>",
         "legendgroup": "Serbia",
         "line": {
          "color": "#00cc96",
          "dash": "solid"
         },
         "mode": "lines",
         "name": "Serbia",
         "scene": "scene",
         "showlegend": true,
         "type": "scatter3d",
         "x": [
          57.996,
          61.685,
          64.531,
          66.914,
          68.7,
          70.3,
          70.16199999999999,
          71.218,
          71.65899999999999,
          72.232,
          73.21300000000001,
          74.002
         ],
         "y": [
          1952,
          1957,
          1962,
          1967,
          1972,
          1977,
          1982,
          1987,
          1992,
          1997,
          2002,
          2007
         ],
         "z": [
          3581.4594479999996,
          4981.090891,
          6289.629157,
          7991.707066,
          10522.067490000001,
          12980.66956,
          15181.0927,
          15870.878509999999,
          9325.068238,
          7914.320304000001,
          7236.075251,
          9786.534714
         ]
        },
        {
         "hovertemplate": "country=Slovak Republic<br>lifeExp=%{x}<br>year=%{y}<br>gdpPercap=%{z}<extra></extra>",
         "legendgroup": "Slovak Republic",
         "line": {
          "color": "#ab63fa",
          "dash": "solid"
         },
         "mode": "lines",
         "name": "Slovak Republic",
         "scene": "scene",
         "showlegend": true,
         "type": "scatter3d",
         "x": [
          64.36,
          67.45,
          70.33,
          70.98,
          70.35,
          70.45,
          70.8,
          71.08,
          71.38,
          72.71,
          73.8,
          74.663
         ],
         "y": [
          1952,
          1957,
          1962,
          1967,
          1972,
          1977,
          1982,
          1987,
          1992,
          1997,
          2002,
          2007
         ],
         "z": [
          5074.659104,
          6093.2629799999995,
          7481.1075980000005,
          8412.902397,
          9674.167626,
          10922.664040000001,
          11348.54585,
          12037.26758,
          9498.467723,
          12126.23065,
          13638.778369999998,
          18678.31435
         ]
        },
        {
         "hovertemplate": "country=Slovenia<br>lifeExp=%{x}<br>year=%{y}<br>gdpPercap=%{z}<extra></extra>",
         "legendgroup": "Slovenia",
         "line": {
          "color": "#FFA15A",
          "dash": "solid"
         },
         "mode": "lines",
         "name": "Slovenia",
         "scene": "scene",
         "showlegend": true,
         "type": "scatter3d",
         "x": [
          65.57,
          67.85,
          69.15,
          69.18,
          69.82,
          70.97,
          71.063,
          72.25,
          73.64,
          75.13,
          76.66,
          77.926
         ],
         "y": [
          1952,
          1957,
          1962,
          1967,
          1972,
          1977,
          1982,
          1987,
          1992,
          1997,
          2002,
          2007
         ],
         "z": [
          4215.041741,
          5862.276629,
          7402.303395,
          9405.489397,
          12383.4862,
          15277.030169999998,
          17866.72175,
          18678.53492,
          14214.71681,
          17161.10735,
          20660.01936,
          25768.25759
         ]
        },
        {
         "hovertemplate": "country=Spain<br>lifeExp=%{x}<br>year=%{y}<br>gdpPercap=%{z}<extra></extra>",
         "legendgroup": "Spain",
         "line": {
          "color": "#19d3f3",
          "dash": "solid"
         },
         "mode": "lines",
         "name": "Spain",
         "scene": "scene",
         "showlegend": true,
         "type": "scatter3d",
         "x": [
          64.94,
          66.66,
          69.69,
          71.44,
          73.06,
          74.39,
          76.3,
          76.9,
          77.57,
          78.77,
          79.78,
          80.941
         ],
         "y": [
          1952,
          1957,
          1962,
          1967,
          1972,
          1977,
          1982,
          1987,
          1992,
          1997,
          2002,
          2007
         ],
         "z": [
          3834.0347420000003,
          4564.80241,
          5693.843879,
          7993.512294,
          10638.75131,
          13236.92117,
          13926.169969999999,
          15764.98313,
          18603.06452,
          20445.29896,
          24835.47166,
          28821.0637
         ]
        },
        {
         "hovertemplate": "country=Sweden<br>lifeExp=%{x}<br>year=%{y}<br>gdpPercap=%{z}<extra></extra>",
         "legendgroup": "Sweden",
         "line": {
          "color": "#FF6692",
          "dash": "solid"
         },
         "mode": "lines",
         "name": "Sweden",
         "scene": "scene",
         "showlegend": true,
         "type": "scatter3d",
         "x": [
          71.86,
          72.49,
          73.37,
          74.16,
          74.72,
          75.44,
          76.42,
          77.19,
          78.16,
          79.39,
          80.04,
          80.884
         ],
         "y": [
          1952,
          1957,
          1962,
          1967,
          1972,
          1977,
          1982,
          1987,
          1992,
          1997,
          2002,
          2007
         ],
         "z": [
          8527.844662000001,
          9911.878226,
          12329.441920000001,
          15258.29697,
          17832.02464,
          18855.72521,
          20667.38125,
          23586.92927,
          23880.01683,
          25266.59499,
          29341.630930000003,
          33859.74835
         ]
        },
        {
         "hovertemplate": "country=Switzerland<br>lifeExp=%{x}<br>year=%{y}<br>gdpPercap=%{z}<extra></extra>",
         "legendgroup": "Switzerland",
         "line": {
          "color": "#B6E880",
          "dash": "solid"
         },
         "mode": "lines",
         "name": "Switzerland",
         "scene": "scene",
         "showlegend": true,
         "type": "scatter3d",
         "x": [
          69.62,
          70.56,
          71.32,
          72.77,
          73.78,
          75.39,
          76.21,
          77.41,
          78.03,
          79.37,
          80.62,
          81.70100000000001
         ],
         "y": [
          1952,
          1957,
          1962,
          1967,
          1972,
          1977,
          1982,
          1987,
          1992,
          1997,
          2002,
          2007
         ],
         "z": [
          14734.23275,
          17909.48973,
          20431.0927,
          22966.14432,
          27195.113039999997,
          26982.29052,
          28397.715119999997,
          30281.704589999998,
          31871.5303,
          32135.323010000004,
          34480.95771,
          37506.419069999996
         ]
        },
        {
         "hovertemplate": "country=Turkey<br>lifeExp=%{x}<br>year=%{y}<br>gdpPercap=%{z}<extra></extra>",
         "legendgroup": "Turkey",
         "line": {
          "color": "#FF97FF",
          "dash": "solid"
         },
         "mode": "lines",
         "name": "Turkey",
         "scene": "scene",
         "showlegend": true,
         "type": "scatter3d",
         "x": [
          43.585,
          48.07899999999999,
          52.098,
          54.336000000000006,
          57.005,
          59.507,
          61.036,
          63.108000000000004,
          66.146,
          68.835,
          70.845,
          71.777
         ],
         "y": [
          1952,
          1957,
          1962,
          1967,
          1972,
          1977,
          1982,
          1987,
          1992,
          1997,
          2002,
          2007
         ],
         "z": [
          1969.1009800000002,
          2218.754257,
          2322.8699079999997,
          2826.3563870000003,
          3450.69638,
          4269.122326,
          4241.356344,
          5089.043686,
          5678.348271,
          6601.429915,
          6508.085718,
          8458.276384
         ]
        },
        {
         "hovertemplate": "country=United Kingdom<br>lifeExp=%{x}<br>year=%{y}<br>gdpPercap=%{z}<extra></extra>",
         "legendgroup": "United Kingdom",
         "line": {
          "color": "#FECB52",
          "dash": "solid"
         },
         "mode": "lines",
         "name": "United Kingdom",
         "scene": "scene",
         "showlegend": true,
         "type": "scatter3d",
         "x": [
          69.18,
          70.42,
          70.76,
          71.36,
          72.01,
          72.76,
          74.04,
          75.007,
          76.42,
          77.218,
          78.471,
          79.425
         ],
         "y": [
          1952,
          1957,
          1962,
          1967,
          1972,
          1977,
          1982,
          1987,
          1992,
          1997,
          2002,
          2007
         ],
         "z": [
          9979.508487000001,
          11283.17795,
          12477.17707,
          14142.85089,
          15895.116409999999,
          17428.74846,
          18232.42452,
          21664.787669999998,
          22705.09254,
          26074.53136,
          29478.99919,
          33203.26128
         ]
        }
       ],
       "layout": {
        "legend": {
         "title": {
          "text": "country"
         },
         "tracegroupgap": 0
        },
        "margin": {
         "t": 60
        },
        "scene": {
         "domain": {
          "x": [
           0,
           1
          ],
          "y": [
           0,
           1
          ]
         },
         "xaxis": {
          "title": {
           "text": "lifeExp"
          }
         },
         "yaxis": {
          "title": {
           "text": "year"
          }
         },
         "zaxis": {
          "title": {
           "text": "gdpPercap"
          }
         }
        },
        "template": {
         "data": {
          "bar": [
           {
            "error_x": {
             "color": "#2a3f5f"
            },
            "error_y": {
             "color": "#2a3f5f"
            },
            "marker": {
             "line": {
              "color": "#E5ECF6",
              "width": 0.5
             }
            },
            "type": "bar"
           }
          ],
          "barpolar": [
           {
            "marker": {
             "line": {
              "color": "#E5ECF6",
              "width": 0.5
             }
            },
            "type": "barpolar"
           }
          ],
          "carpet": [
           {
            "aaxis": {
             "endlinecolor": "#2a3f5f",
             "gridcolor": "white",
             "linecolor": "white",
             "minorgridcolor": "white",
             "startlinecolor": "#2a3f5f"
            },
            "baxis": {
             "endlinecolor": "#2a3f5f",
             "gridcolor": "white",
             "linecolor": "white",
             "minorgridcolor": "white",
             "startlinecolor": "#2a3f5f"
            },
            "type": "carpet"
           }
          ],
          "choropleth": [
           {
            "colorbar": {
             "outlinewidth": 0,
             "ticks": ""
            },
            "type": "choropleth"
           }
          ],
          "contour": [
           {
            "colorbar": {
             "outlinewidth": 0,
             "ticks": ""
            },
            "colorscale": [
             [
              0,
              "#0d0887"
             ],
             [
              0.1111111111111111,
              "#46039f"
             ],
             [
              0.2222222222222222,
              "#7201a8"
             ],
             [
              0.3333333333333333,
              "#9c179e"
             ],
             [
              0.4444444444444444,
              "#bd3786"
             ],
             [
              0.5555555555555556,
              "#d8576b"
             ],
             [
              0.6666666666666666,
              "#ed7953"
             ],
             [
              0.7777777777777778,
              "#fb9f3a"
             ],
             [
              0.8888888888888888,
              "#fdca26"
             ],
             [
              1,
              "#f0f921"
             ]
            ],
            "type": "contour"
           }
          ],
          "contourcarpet": [
           {
            "colorbar": {
             "outlinewidth": 0,
             "ticks": ""
            },
            "type": "contourcarpet"
           }
          ],
          "heatmap": [
           {
            "colorbar": {
             "outlinewidth": 0,
             "ticks": ""
            },
            "colorscale": [
             [
              0,
              "#0d0887"
             ],
             [
              0.1111111111111111,
              "#46039f"
             ],
             [
              0.2222222222222222,
              "#7201a8"
             ],
             [
              0.3333333333333333,
              "#9c179e"
             ],
             [
              0.4444444444444444,
              "#bd3786"
             ],
             [
              0.5555555555555556,
              "#d8576b"
             ],
             [
              0.6666666666666666,
              "#ed7953"
             ],
             [
              0.7777777777777778,
              "#fb9f3a"
             ],
             [
              0.8888888888888888,
              "#fdca26"
             ],
             [
              1,
              "#f0f921"
             ]
            ],
            "type": "heatmap"
           }
          ],
          "heatmapgl": [
           {
            "colorbar": {
             "outlinewidth": 0,
             "ticks": ""
            },
            "colorscale": [
             [
              0,
              "#0d0887"
             ],
             [
              0.1111111111111111,
              "#46039f"
             ],
             [
              0.2222222222222222,
              "#7201a8"
             ],
             [
              0.3333333333333333,
              "#9c179e"
             ],
             [
              0.4444444444444444,
              "#bd3786"
             ],
             [
              0.5555555555555556,
              "#d8576b"
             ],
             [
              0.6666666666666666,
              "#ed7953"
             ],
             [
              0.7777777777777778,
              "#fb9f3a"
             ],
             [
              0.8888888888888888,
              "#fdca26"
             ],
             [
              1,
              "#f0f921"
             ]
            ],
            "type": "heatmapgl"
           }
          ],
          "histogram": [
           {
            "marker": {
             "colorbar": {
              "outlinewidth": 0,
              "ticks": ""
             }
            },
            "type": "histogram"
           }
          ],
          "histogram2d": [
           {
            "colorbar": {
             "outlinewidth": 0,
             "ticks": ""
            },
            "colorscale": [
             [
              0,
              "#0d0887"
             ],
             [
              0.1111111111111111,
              "#46039f"
             ],
             [
              0.2222222222222222,
              "#7201a8"
             ],
             [
              0.3333333333333333,
              "#9c179e"
             ],
             [
              0.4444444444444444,
              "#bd3786"
             ],
             [
              0.5555555555555556,
              "#d8576b"
             ],
             [
              0.6666666666666666,
              "#ed7953"
             ],
             [
              0.7777777777777778,
              "#fb9f3a"
             ],
             [
              0.8888888888888888,
              "#fdca26"
             ],
             [
              1,
              "#f0f921"
             ]
            ],
            "type": "histogram2d"
           }
          ],
          "histogram2dcontour": [
           {
            "colorbar": {
             "outlinewidth": 0,
             "ticks": ""
            },
            "colorscale": [
             [
              0,
              "#0d0887"
             ],
             [
              0.1111111111111111,
              "#46039f"
             ],
             [
              0.2222222222222222,
              "#7201a8"
             ],
             [
              0.3333333333333333,
              "#9c179e"
             ],
             [
              0.4444444444444444,
              "#bd3786"
             ],
             [
              0.5555555555555556,
              "#d8576b"
             ],
             [
              0.6666666666666666,
              "#ed7953"
             ],
             [
              0.7777777777777778,
              "#fb9f3a"
             ],
             [
              0.8888888888888888,
              "#fdca26"
             ],
             [
              1,
              "#f0f921"
             ]
            ],
            "type": "histogram2dcontour"
           }
          ],
          "mesh3d": [
           {
            "colorbar": {
             "outlinewidth": 0,
             "ticks": ""
            },
            "type": "mesh3d"
           }
          ],
          "parcoords": [
           {
            "line": {
             "colorbar": {
              "outlinewidth": 0,
              "ticks": ""
             }
            },
            "type": "parcoords"
           }
          ],
          "pie": [
           {
            "automargin": true,
            "type": "pie"
           }
          ],
          "scatter": [
           {
            "marker": {
             "colorbar": {
              "outlinewidth": 0,
              "ticks": ""
             }
            },
            "type": "scatter"
           }
          ],
          "scatter3d": [
           {
            "line": {
             "colorbar": {
              "outlinewidth": 0,
              "ticks": ""
             }
            },
            "marker": {
             "colorbar": {
              "outlinewidth": 0,
              "ticks": ""
             }
            },
            "type": "scatter3d"
           }
          ],
          "scattercarpet": [
           {
            "marker": {
             "colorbar": {
              "outlinewidth": 0,
              "ticks": ""
             }
            },
            "type": "scattercarpet"
           }
          ],
          "scattergeo": [
           {
            "marker": {
             "colorbar": {
              "outlinewidth": 0,
              "ticks": ""
             }
            },
            "type": "scattergeo"
           }
          ],
          "scattergl": [
           {
            "marker": {
             "colorbar": {
              "outlinewidth": 0,
              "ticks": ""
             }
            },
            "type": "scattergl"
           }
          ],
          "scattermapbox": [
           {
            "marker": {
             "colorbar": {
              "outlinewidth": 0,
              "ticks": ""
             }
            },
            "type": "scattermapbox"
           }
          ],
          "scatterpolar": [
           {
            "marker": {
             "colorbar": {
              "outlinewidth": 0,
              "ticks": ""
             }
            },
            "type": "scatterpolar"
           }
          ],
          "scatterpolargl": [
           {
            "marker": {
             "colorbar": {
              "outlinewidth": 0,
              "ticks": ""
             }
            },
            "type": "scatterpolargl"
           }
          ],
          "scatterternary": [
           {
            "marker": {
             "colorbar": {
              "outlinewidth": 0,
              "ticks": ""
             }
            },
            "type": "scatterternary"
           }
          ],
          "surface": [
           {
            "colorbar": {
             "outlinewidth": 0,
             "ticks": ""
            },
            "colorscale": [
             [
              0,
              "#0d0887"
             ],
             [
              0.1111111111111111,
              "#46039f"
             ],
             [
              0.2222222222222222,
              "#7201a8"
             ],
             [
              0.3333333333333333,
              "#9c179e"
             ],
             [
              0.4444444444444444,
              "#bd3786"
             ],
             [
              0.5555555555555556,
              "#d8576b"
             ],
             [
              0.6666666666666666,
              "#ed7953"
             ],
             [
              0.7777777777777778,
              "#fb9f3a"
             ],
             [
              0.8888888888888888,
              "#fdca26"
             ],
             [
              1,
              "#f0f921"
             ]
            ],
            "type": "surface"
           }
          ],
          "table": [
           {
            "cells": {
             "fill": {
              "color": "#EBF0F8"
             },
             "line": {
              "color": "white"
             }
            },
            "header": {
             "fill": {
              "color": "#C8D4E3"
             },
             "line": {
              "color": "white"
             }
            },
            "type": "table"
           }
          ]
         },
         "layout": {
          "annotationdefaults": {
           "arrowcolor": "#2a3f5f",
           "arrowhead": 0,
           "arrowwidth": 1
          },
          "autotypenumbers": "strict",
          "coloraxis": {
           "colorbar": {
            "outlinewidth": 0,
            "ticks": ""
           }
          },
          "colorscale": {
           "diverging": [
            [
             0,
             "#8e0152"
            ],
            [
             0.1,
             "#c51b7d"
            ],
            [
             0.2,
             "#de77ae"
            ],
            [
             0.3,
             "#f1b6da"
            ],
            [
             0.4,
             "#fde0ef"
            ],
            [
             0.5,
             "#f7f7f7"
            ],
            [
             0.6,
             "#e6f5d0"
            ],
            [
             0.7,
             "#b8e186"
            ],
            [
             0.8,
             "#7fbc41"
            ],
            [
             0.9,
             "#4d9221"
            ],
            [
             1,
             "#276419"
            ]
           ],
           "sequential": [
            [
             0,
             "#0d0887"
            ],
            [
             0.1111111111111111,
             "#46039f"
            ],
            [
             0.2222222222222222,
             "#7201a8"
            ],
            [
             0.3333333333333333,
             "#9c179e"
            ],
            [
             0.4444444444444444,
             "#bd3786"
            ],
            [
             0.5555555555555556,
             "#d8576b"
            ],
            [
             0.6666666666666666,
             "#ed7953"
            ],
            [
             0.7777777777777778,
             "#fb9f3a"
            ],
            [
             0.8888888888888888,
             "#fdca26"
            ],
            [
             1,
             "#f0f921"
            ]
           ],
           "sequentialminus": [
            [
             0,
             "#0d0887"
            ],
            [
             0.1111111111111111,
             "#46039f"
            ],
            [
             0.2222222222222222,
             "#7201a8"
            ],
            [
             0.3333333333333333,
             "#9c179e"
            ],
            [
             0.4444444444444444,
             "#bd3786"
            ],
            [
             0.5555555555555556,
             "#d8576b"
            ],
            [
             0.6666666666666666,
             "#ed7953"
            ],
            [
             0.7777777777777778,
             "#fb9f3a"
            ],
            [
             0.8888888888888888,
             "#fdca26"
            ],
            [
             1,
             "#f0f921"
            ]
           ]
          },
          "colorway": [
           "#636efa",
           "#EF553B",
           "#00cc96",
           "#ab63fa",
           "#FFA15A",
           "#19d3f3",
           "#FF6692",
           "#B6E880",
           "#FF97FF",
           "#FECB52"
          ],
          "font": {
           "color": "#2a3f5f"
          },
          "geo": {
           "bgcolor": "white",
           "lakecolor": "white",
           "landcolor": "#E5ECF6",
           "showlakes": true,
           "showland": true,
           "subunitcolor": "white"
          },
          "hoverlabel": {
           "align": "left"
          },
          "hovermode": "closest",
          "mapbox": {
           "style": "light"
          },
          "paper_bgcolor": "white",
          "plot_bgcolor": "#E5ECF6",
          "polar": {
           "angularaxis": {
            "gridcolor": "white",
            "linecolor": "white",
            "ticks": ""
           },
           "bgcolor": "#E5ECF6",
           "radialaxis": {
            "gridcolor": "white",
            "linecolor": "white",
            "ticks": ""
           }
          },
          "scene": {
           "xaxis": {
            "backgroundcolor": "#E5ECF6",
            "gridcolor": "white",
            "gridwidth": 2,
            "linecolor": "white",
            "showbackground": true,
            "ticks": "",
            "zerolinecolor": "white"
           },
           "yaxis": {
            "backgroundcolor": "#E5ECF6",
            "gridcolor": "white",
            "gridwidth": 2,
            "linecolor": "white",
            "showbackground": true,
            "ticks": "",
            "zerolinecolor": "white"
           },
           "zaxis": {
            "backgroundcolor": "#E5ECF6",
            "gridcolor": "white",
            "gridwidth": 2,
            "linecolor": "white",
            "showbackground": true,
            "ticks": "",
            "zerolinecolor": "white"
           }
          },
          "shapedefaults": {
           "line": {
            "color": "#2a3f5f"
           }
          },
          "ternary": {
           "aaxis": {
            "gridcolor": "white",
            "linecolor": "white",
            "ticks": ""
           },
           "baxis": {
            "gridcolor": "white",
            "linecolor": "white",
            "ticks": ""
           },
           "bgcolor": "#E5ECF6",
           "caxis": {
            "gridcolor": "white",
            "linecolor": "white",
            "ticks": ""
           }
          },
          "title": {
           "x": 0.05
          },
          "xaxis": {
           "automargin": true,
           "gridcolor": "white",
           "linecolor": "white",
           "ticks": "",
           "title": {
            "standoff": 15
           },
           "zerolinecolor": "white",
           "zerolinewidth": 2
          },
          "yaxis": {
           "automargin": true,
           "gridcolor": "white",
           "linecolor": "white",
           "ticks": "",
           "title": {
            "standoff": 15
           },
           "zerolinecolor": "white",
           "zerolinewidth": 2
          }
         }
        }
       }
      },
      "text/html": [
       "<div>                            <div id=\"8e84fa89-3bf7-4731-8baa-3cba0af6abe2\" class=\"plotly-graph-div\" style=\"height:525px; width:100%;\"></div>            <script type=\"text/javascript\">                require([\"plotly\"], function(Plotly) {                    window.PLOTLYENV=window.PLOTLYENV || {};                                    if (document.getElementById(\"8e84fa89-3bf7-4731-8baa-3cba0af6abe2\")) {                    Plotly.newPlot(                        \"8e84fa89-3bf7-4731-8baa-3cba0af6abe2\",                        [{\"hovertemplate\": \"country=Albania<br>lifeExp=%{x}<br>year=%{y}<br>gdpPercap=%{z}<extra></extra>\", \"legendgroup\": \"Albania\", \"line\": {\"color\": \"#636efa\", \"dash\": \"solid\"}, \"mode\": \"lines\", \"name\": \"Albania\", \"scene\": \"scene\", \"showlegend\": true, \"type\": \"scatter3d\", \"x\": [55.23, 59.28, 64.82, 66.22, 67.69, 68.93, 70.42, 72.0, 71.581, 72.95, 75.65100000000001, 76.423], \"y\": [1952, 1957, 1962, 1967, 1972, 1977, 1982, 1987, 1992, 1997, 2002, 2007], \"z\": [1601.056136, 1942.2842440000002, 2312.888958, 2760.196931, 3313.422188, 3533.0039100000004, 3630.880722, 3738.9327350000003, 2497.4379010000002, 3193.054604, 4604.211737, 5937.029525999999]}, {\"hovertemplate\": \"country=Austria<br>lifeExp=%{x}<br>year=%{y}<br>gdpPercap=%{z}<extra></extra>\", \"legendgroup\": \"Austria\", \"line\": {\"color\": \"#EF553B\", \"dash\": \"solid\"}, \"mode\": \"lines\", \"name\": \"Austria\", \"scene\": \"scene\", \"showlegend\": true, \"type\": \"scatter3d\", \"x\": [66.8, 67.48, 69.54, 70.14, 70.63, 72.17, 73.18, 74.94, 76.04, 77.51, 78.98, 79.829], \"y\": [1952, 1957, 1962, 1967, 1972, 1977, 1982, 1987, 1992, 1997, 2002, 2007], \"z\": [6137.076492, 8842.59803, 10750.721109999999, 12834.6024, 16661.6256, 19749.4223, 21597.083619999998, 23687.82607, 27042.01868, 29095.920660000003, 32417.607689999997, 36126.4927]}, {\"hovertemplate\": \"country=Belgium<br>lifeExp=%{x}<br>year=%{y}<br>gdpPercap=%{z}<extra></extra>\", \"legendgroup\": \"Belgium\", \"line\": {\"color\": \"#00cc96\", \"dash\": \"solid\"}, \"mode\": \"lines\", \"name\": \"Belgium\", \"scene\": \"scene\", \"showlegend\": true, \"type\": \"scatter3d\", \"x\": [68.0, 69.24, 70.25, 70.94, 71.44, 72.8, 73.93, 75.35, 76.46, 77.53, 78.32, 79.441], \"y\": [1952, 1957, 1962, 1967, 1972, 1977, 1982, 1987, 1992, 1997, 2002, 2007], \"z\": [8343.105126999999, 9714.960623, 10991.20676, 13149.04119, 16672.14356, 19117.97448, 20979.84589, 22525.56308, 25575.57069, 27561.196630000002, 30485.88375, 33692.60508]}, {\"hovertemplate\": \"country=Bosnia and Herzegovina<br>lifeExp=%{x}<br>year=%{y}<br>gdpPercap=%{z}<extra></extra>\", \"legendgroup\": \"Bosnia and Herzegovina\", \"line\": {\"color\": \"#ab63fa\", \"dash\": \"solid\"}, \"mode\": \"lines\", \"name\": \"Bosnia and Herzegovina\", \"scene\": \"scene\", \"showlegend\": true, \"type\": \"scatter3d\", \"x\": [53.82, 58.45, 61.93, 64.79, 67.45, 69.86, 70.69, 71.14, 72.178, 73.244, 74.09, 74.852], \"y\": [1952, 1957, 1962, 1967, 1972, 1977, 1982, 1987, 1992, 1997, 2002, 2007], \"z\": [973.5331947999999, 1353.989176, 1709.683679, 2172.3524230000003, 2860.16975, 3528.481305, 4126.613157, 4314.114757, 2546.781445, 4766.355904, 6018.975239, 7446.298803]}, {\"hovertemplate\": \"country=Bulgaria<br>lifeExp=%{x}<br>year=%{y}<br>gdpPercap=%{z}<extra></extra>\", \"legendgroup\": \"Bulgaria\", \"line\": {\"color\": \"#FFA15A\", \"dash\": \"solid\"}, \"mode\": \"lines\", \"name\": \"Bulgaria\", \"scene\": \"scene\", \"showlegend\": true, \"type\": \"scatter3d\", \"x\": [59.6, 66.61, 69.51, 70.42, 70.9, 70.81, 71.08, 71.34, 71.19, 70.32, 72.14, 73.005], \"y\": [1952, 1957, 1962, 1967, 1972, 1977, 1982, 1987, 1992, 1997, 2002, 2007], \"z\": [2444.2866480000002, 3008.670727, 4254.337839, 5577.0028, 6597.494398, 7612.240438, 8224.191647, 8239.854824, 6302.6234380000005, 5970.38876, 7696.777725, 10680.79282]}, {\"hovertemplate\": \"country=Croatia<br>lifeExp=%{x}<br>year=%{y}<br>gdpPercap=%{z}<extra></extra>\", \"legendgroup\": \"Croatia\", \"line\": {\"color\": \"#19d3f3\", \"dash\": \"solid\"}, \"mode\": \"lines\", \"name\": \"Croatia\", \"scene\": \"scene\", \"showlegend\": true, \"type\": \"scatter3d\", \"x\": [61.21, 64.77, 67.13, 68.5, 69.61, 70.64, 70.46, 71.52, 72.527, 73.68, 74.876, 75.748], \"y\": [1952, 1957, 1962, 1967, 1972, 1977, 1982, 1987, 1992, 1997, 2002, 2007], \"z\": [3119.23652, 4338.231617, 5477.890018, 6960.297861, 9164.090127, 11305.38517, 13221.82184, 13822.58394, 8447.794873, 9875.604515, 11628.38895, 14619.222719999998]}, {\"hovertemplate\": \"country=Czech Republic<br>lifeExp=%{x}<br>year=%{y}<br>gdpPercap=%{z}<extra></extra>\", \"legendgroup\": \"Czech Republic\", \"line\": {\"color\": \"#FF6692\", \"dash\": \"solid\"}, \"mode\": \"lines\", \"name\": \"Czech Republic\", \"scene\": \"scene\", \"showlegend\": true, \"type\": \"scatter3d\", \"x\": [66.87, 69.03, 69.9, 70.38, 70.29, 70.71, 70.96, 71.58, 72.4, 74.01, 75.51, 76.486], \"y\": [1952, 1957, 1962, 1967, 1972, 1977, 1982, 1987, 1992, 1997, 2002, 2007], \"z\": [6876.14025, 8256.343918, 10136.86713, 11399.44489, 13108.4536, 14800.160619999999, 15377.22855, 16310.4434, 14297.021219999999, 16048.51424, 17596.210219999997, 22833.30851]}, {\"hovertemplate\": \"country=Denmark<br>lifeExp=%{x}<br>year=%{y}<br>gdpPercap=%{z}<extra></extra>\", \"legendgroup\": \"Denmark\", \"line\": {\"color\": \"#B6E880\", \"dash\": \"solid\"}, \"mode\": \"lines\", \"name\": \"Denmark\", \"scene\": \"scene\", \"showlegend\": true, \"type\": \"scatter3d\", \"x\": [70.78, 71.81, 72.35, 72.96, 73.47, 74.69, 74.63, 74.8, 75.33, 76.11, 77.18, 78.332], \"y\": [1952, 1957, 1962, 1967, 1972, 1977, 1982, 1987, 1992, 1997, 2002, 2007], \"z\": [9692.385245, 11099.65935, 13583.31351, 15937.21123, 18866.20721, 20422.9015, 21688.04048, 25116.17581, 26406.73985, 29804.34567, 32166.500060000002, 35278.41874]}, {\"hovertemplate\": \"country=Finland<br>lifeExp=%{x}<br>year=%{y}<br>gdpPercap=%{z}<extra></extra>\", \"legendgroup\": \"Finland\", \"line\": {\"color\": \"#FF97FF\", \"dash\": \"solid\"}, \"mode\": \"lines\", \"name\": \"Finland\", \"scene\": \"scene\", \"showlegend\": true, \"type\": \"scatter3d\", \"x\": [66.55, 67.49, 68.75, 69.83, 70.87, 72.52, 74.55, 74.83, 75.7, 77.13, 78.37, 79.313], \"y\": [1952, 1957, 1962, 1967, 1972, 1977, 1982, 1987, 1992, 1997, 2002, 2007], \"z\": [6424.519071, 7545.415386, 9371.842561, 10921.63626, 14358.8759, 15605.422830000001, 18533.15761, 21141.01223, 20647.16499, 23723.9502, 28204.59057, 33207.0844]}, {\"hovertemplate\": \"country=France<br>lifeExp=%{x}<br>year=%{y}<br>gdpPercap=%{z}<extra></extra>\", \"legendgroup\": \"France\", \"line\": {\"color\": \"#FECB52\", \"dash\": \"solid\"}, \"mode\": \"lines\", \"name\": \"France\", \"scene\": \"scene\", \"showlegend\": true, \"type\": \"scatter3d\", \"x\": [67.41, 68.93, 70.51, 71.55, 72.38, 73.83, 74.89, 76.34, 77.46, 78.64, 79.59, 80.657], \"y\": [1952, 1957, 1962, 1967, 1972, 1977, 1982, 1987, 1992, 1997, 2002, 2007], \"z\": [7029.809327, 8662.834898000001, 10560.48553, 12999.91766, 16107.19171, 18292.635140000002, 20293.89746, 22066.44214, 24703.79615, 25889.78487, 28926.032339999998, 30470.0167]}, {\"hovertemplate\": \"country=Germany<br>lifeExp=%{x}<br>year=%{y}<br>gdpPercap=%{z}<extra></extra>\", \"legendgroup\": \"Germany\", \"line\": {\"color\": \"#636efa\", \"dash\": \"solid\"}, \"mode\": \"lines\", \"name\": \"Germany\", \"scene\": \"scene\", \"showlegend\": true, \"type\": \"scatter3d\", \"x\": [67.5, 69.1, 70.3, 70.8, 71.0, 72.5, 73.8, 74.847, 76.07, 77.34, 78.67, 79.406], \"y\": [1952, 1957, 1962, 1967, 1972, 1977, 1982, 1987, 1992, 1997, 2002, 2007], \"z\": [7144.114393000001, 10187.82665, 12902.46291, 14745.62561, 18016.180269999997, 20512.92123, 22031.532740000002, 24639.18566, 26505.30317, 27788.88416, 30035.80198, 32170.37442]}, {\"hovertemplate\": \"country=Greece<br>lifeExp=%{x}<br>year=%{y}<br>gdpPercap=%{z}<extra></extra>\", \"legendgroup\": \"Greece\", \"line\": {\"color\": \"#EF553B\", \"dash\": \"solid\"}, \"mode\": \"lines\", \"name\": \"Greece\", \"scene\": \"scene\", \"showlegend\": true, \"type\": \"scatter3d\", \"x\": [65.86, 67.86, 69.51, 71.0, 72.34, 73.68, 75.24, 76.67, 77.03, 77.869, 78.256, 79.483], \"y\": [1952, 1957, 1962, 1967, 1972, 1977, 1982, 1987, 1992, 1997, 2002, 2007], \"z\": [3530.690067, 4916.299889, 6017.190732999999, 8513.097016, 12724.82957, 14195.524280000001, 15268.420890000001, 16120.528390000001, 17541.49634, 18747.69814, 22514.2548, 27538.41188]}, {\"hovertemplate\": \"country=Hungary<br>lifeExp=%{x}<br>year=%{y}<br>gdpPercap=%{z}<extra></extra>\", \"legendgroup\": \"Hungary\", \"line\": {\"color\": \"#00cc96\", \"dash\": \"solid\"}, \"mode\": \"lines\", \"name\": \"Hungary\", \"scene\": \"scene\", \"showlegend\": true, \"type\": \"scatter3d\", \"x\": [64.03, 66.41, 67.96, 69.5, 69.76, 69.95, 69.39, 69.58, 69.17, 71.04, 72.59, 73.33800000000001], \"y\": [1952, 1957, 1962, 1967, 1972, 1977, 1982, 1987, 1992, 1997, 2002, 2007], \"z\": [5263.6738159999995, 6040.180011, 7550.359877, 9326.64467, 10168.65611, 11674.837370000001, 12545.99066, 12986.47998, 10535.62855, 11712.7768, 14843.93556, 18008.94444]}, {\"hovertemplate\": \"country=Iceland<br>lifeExp=%{x}<br>year=%{y}<br>gdpPercap=%{z}<extra></extra>\", \"legendgroup\": \"Iceland\", \"line\": {\"color\": \"#ab63fa\", \"dash\": \"solid\"}, \"mode\": \"lines\", \"name\": \"Iceland\", \"scene\": \"scene\", \"showlegend\": true, \"type\": \"scatter3d\", \"x\": [72.49, 73.47, 73.68, 73.73, 74.46, 76.11, 76.99, 77.23, 78.77, 78.95, 80.5, 81.757], \"y\": [1952, 1957, 1962, 1967, 1972, 1977, 1982, 1987, 1992, 1997, 2002, 2007], \"z\": [7267.688428, 9244.001412, 10350.15906, 13319.89568, 15798.063619999999, 19654.96247, 23269.6075, 26923.206280000002, 25144.39201, 28061.099660000003, 31163.201960000002, 36180.789189999996]}, {\"hovertemplate\": \"country=Ireland<br>lifeExp=%{x}<br>year=%{y}<br>gdpPercap=%{z}<extra></extra>\", \"legendgroup\": \"Ireland\", \"line\": {\"color\": \"#FFA15A\", \"dash\": \"solid\"}, \"mode\": \"lines\", \"name\": \"Ireland\", \"scene\": \"scene\", \"showlegend\": true, \"type\": \"scatter3d\", \"x\": [66.91, 68.9, 70.29, 71.08, 71.28, 72.03, 73.1, 74.36, 75.467, 76.122, 77.783, 78.885], \"y\": [1952, 1957, 1962, 1967, 1972, 1977, 1982, 1987, 1992, 1997, 2002, 2007], \"z\": [5210.280328, 5599.077872, 6631.597314, 7655.568963, 9530.772895999999, 11150.98113, 12618.321409999999, 13872.86652, 17558.81555, 24521.94713, 34077.04939, 40675.99635]}, {\"hovertemplate\": \"country=Italy<br>lifeExp=%{x}<br>year=%{y}<br>gdpPercap=%{z}<extra></extra>\", \"legendgroup\": \"Italy\", \"line\": {\"color\": \"#19d3f3\", \"dash\": \"solid\"}, \"mode\": \"lines\", \"name\": \"Italy\", \"scene\": \"scene\", \"showlegend\": true, \"type\": \"scatter3d\", \"x\": [65.94, 67.81, 69.24, 71.06, 72.19, 73.48, 74.98, 76.42, 77.44, 78.82, 80.24, 80.546], \"y\": [1952, 1957, 1962, 1967, 1972, 1977, 1982, 1987, 1992, 1997, 2002, 2007], \"z\": [4931.404154999999, 6248.656232, 8243.58234, 10022.40131, 12269.27378, 14255.98475, 16537.4835, 19207.234819999998, 22013.64486, 24675.02446, 27968.098169999997, 28569.7197]}, {\"hovertemplate\": \"country=Montenegro<br>lifeExp=%{x}<br>year=%{y}<br>gdpPercap=%{z}<extra></extra>\", \"legendgroup\": \"Montenegro\", \"line\": {\"color\": \"#FF6692\", \"dash\": \"solid\"}, \"mode\": \"lines\", \"name\": \"Montenegro\", \"scene\": \"scene\", \"showlegend\": true, \"type\": \"scatter3d\", \"x\": [59.163999999999994, 61.448, 63.728, 67.178, 70.63600000000001, 73.066, 74.101, 74.865, 75.435, 75.445, 73.98100000000001, 74.543], \"y\": [1952, 1957, 1962, 1967, 1972, 1977, 1982, 1987, 1992, 1997, 2002, 2007], \"z\": [2647.585601, 3682.259903, 4649.593785, 5907.850937, 7778.414017, 9595.929904999999, 11222.58762, 11732.51017, 7003.339037000001, 6465.613349, 6557.194282, 9253.896111]}, {\"hovertemplate\": \"country=Netherlands<br>lifeExp=%{x}<br>year=%{y}<br>gdpPercap=%{z}<extra></extra>\", \"legendgroup\": \"Netherlands\", \"line\": {\"color\": \"#B6E880\", \"dash\": \"solid\"}, \"mode\": \"lines\", \"name\": \"Netherlands\", \"scene\": \"scene\", \"showlegend\": true, \"type\": \"scatter3d\", \"x\": [72.13, 72.99, 73.23, 73.82, 73.75, 75.24, 76.05, 76.83, 77.42, 78.03, 78.53, 79.762], \"y\": [1952, 1957, 1962, 1967, 1972, 1977, 1982, 1987, 1992, 1997, 2002, 2007], \"z\": [8941.571858, 11276.193440000001, 12790.849559999999, 15363.25136, 18794.74567, 21209.0592, 21399.46046, 23651.32361, 26790.94961, 30246.13063, 33724.75778, 36797.93332]}, {\"hovertemplate\": \"country=Norway<br>lifeExp=%{x}<br>year=%{y}<br>gdpPercap=%{z}<extra></extra>\", \"legendgroup\": \"Norway\", \"line\": {\"color\": \"#FF97FF\", \"dash\": \"solid\"}, \"mode\": \"lines\", \"name\": \"Norway\", \"scene\": \"scene\", \"showlegend\": true, \"type\": \"scatter3d\", \"x\": [72.67, 73.44, 73.47, 74.08, 74.34, 75.37, 75.97, 75.89, 77.32, 78.32, 79.05, 80.196], \"y\": [1952, 1957, 1962, 1967, 1972, 1977, 1982, 1987, 1992, 1997, 2002, 2007], \"z\": [10095.42172, 11653.97304, 13450.40151, 16361.87647, 18965.05551, 23311.34939, 26298.635309999998, 31540.9748, 33965.66115, 41283.16433, 44683.97525, 49357.19017]}, {\"hovertemplate\": \"country=Poland<br>lifeExp=%{x}<br>year=%{y}<br>gdpPercap=%{z}<extra></extra>\", \"legendgroup\": \"Poland\", \"line\": {\"color\": \"#FECB52\", \"dash\": \"solid\"}, \"mode\": \"lines\", \"name\": \"Poland\", \"scene\": \"scene\", \"showlegend\": true, \"type\": \"scatter3d\", \"x\": [61.31, 65.77, 67.64, 69.61, 70.85, 70.67, 71.32, 70.98, 70.99, 72.75, 74.67, 75.563], \"y\": [1952, 1957, 1962, 1967, 1972, 1977, 1982, 1987, 1992, 1997, 2002, 2007], \"z\": [4029.3296990000003, 4734.253019, 5338.752143, 6557.152776, 8006.506993000001, 9508.141454, 8451.531004, 9082.351172, 7738.881247, 10159.58368, 12002.23908, 15389.924680000002]}, {\"hovertemplate\": \"country=Portugal<br>lifeExp=%{x}<br>year=%{y}<br>gdpPercap=%{z}<extra></extra>\", \"legendgroup\": \"Portugal\", \"line\": {\"color\": \"#636efa\", \"dash\": \"solid\"}, \"mode\": \"lines\", \"name\": \"Portugal\", \"scene\": \"scene\", \"showlegend\": true, \"type\": \"scatter3d\", \"x\": [59.82, 61.51, 64.39, 66.6, 69.26, 70.41, 72.77, 74.06, 74.86, 75.97, 77.29, 78.098], \"y\": [1952, 1957, 1962, 1967, 1972, 1977, 1982, 1987, 1992, 1997, 2002, 2007], \"z\": [3068.319867, 3774.571743, 4727.954889, 6361.517993, 9022.247417, 10172.48572, 11753.84291, 13039.30876, 16207.266630000002, 17641.03156, 19970.90787, 20509.64777]}, {\"hovertemplate\": \"country=Romania<br>lifeExp=%{x}<br>year=%{y}<br>gdpPercap=%{z}<extra></extra>\", \"legendgroup\": \"Romania\", \"line\": {\"color\": \"#EF553B\", \"dash\": \"solid\"}, \"mode\": \"lines\", \"name\": \"Romania\", \"scene\": \"scene\", \"showlegend\": true, \"type\": \"scatter3d\", \"x\": [61.05, 64.1, 66.8, 66.8, 69.21, 69.46, 69.66, 69.53, 69.36, 69.72, 71.322, 72.476], \"y\": [1952, 1957, 1962, 1967, 1972, 1977, 1982, 1987, 1992, 1997, 2002, 2007], \"z\": [3144.613186, 3943.370225, 4734.9975859999995, 6470.866545, 8011.414401999999, 9356.39724, 9605.314053, 9696.273295, 6598.409903, 7346.547556999999, 7885.360081, 10808.47561]}, {\"hovertemplate\": \"country=Serbia<br>lifeExp=%{x}<br>year=%{y}<br>gdpPercap=%{z}<extra></extra>\", \"legendgroup\": \"Serbia\", \"line\": {\"color\": \"#00cc96\", \"dash\": \"solid\"}, \"mode\": \"lines\", \"name\": \"Serbia\", \"scene\": \"scene\", \"showlegend\": true, \"type\": \"scatter3d\", \"x\": [57.996, 61.685, 64.531, 66.914, 68.7, 70.3, 70.16199999999999, 71.218, 71.65899999999999, 72.232, 73.21300000000001, 74.002], \"y\": [1952, 1957, 1962, 1967, 1972, 1977, 1982, 1987, 1992, 1997, 2002, 2007], \"z\": [3581.4594479999996, 4981.090891, 6289.629157, 7991.707066, 10522.067490000001, 12980.66956, 15181.0927, 15870.878509999999, 9325.068238, 7914.320304000001, 7236.075251, 9786.534714]}, {\"hovertemplate\": \"country=Slovak Republic<br>lifeExp=%{x}<br>year=%{y}<br>gdpPercap=%{z}<extra></extra>\", \"legendgroup\": \"Slovak Republic\", \"line\": {\"color\": \"#ab63fa\", \"dash\": \"solid\"}, \"mode\": \"lines\", \"name\": \"Slovak Republic\", \"scene\": \"scene\", \"showlegend\": true, \"type\": \"scatter3d\", \"x\": [64.36, 67.45, 70.33, 70.98, 70.35, 70.45, 70.8, 71.08, 71.38, 72.71, 73.8, 74.663], \"y\": [1952, 1957, 1962, 1967, 1972, 1977, 1982, 1987, 1992, 1997, 2002, 2007], \"z\": [5074.659104, 6093.2629799999995, 7481.1075980000005, 8412.902397, 9674.167626, 10922.664040000001, 11348.54585, 12037.26758, 9498.467723, 12126.23065, 13638.778369999998, 18678.31435]}, {\"hovertemplate\": \"country=Slovenia<br>lifeExp=%{x}<br>year=%{y}<br>gdpPercap=%{z}<extra></extra>\", \"legendgroup\": \"Slovenia\", \"line\": {\"color\": \"#FFA15A\", \"dash\": \"solid\"}, \"mode\": \"lines\", \"name\": \"Slovenia\", \"scene\": \"scene\", \"showlegend\": true, \"type\": \"scatter3d\", \"x\": [65.57, 67.85, 69.15, 69.18, 69.82, 70.97, 71.063, 72.25, 73.64, 75.13, 76.66, 77.926], \"y\": [1952, 1957, 1962, 1967, 1972, 1977, 1982, 1987, 1992, 1997, 2002, 2007], \"z\": [4215.041741, 5862.276629, 7402.303395, 9405.489397, 12383.4862, 15277.030169999998, 17866.72175, 18678.53492, 14214.71681, 17161.10735, 20660.01936, 25768.25759]}, {\"hovertemplate\": \"country=Spain<br>lifeExp=%{x}<br>year=%{y}<br>gdpPercap=%{z}<extra></extra>\", \"legendgroup\": \"Spain\", \"line\": {\"color\": \"#19d3f3\", \"dash\": \"solid\"}, \"mode\": \"lines\", \"name\": \"Spain\", \"scene\": \"scene\", \"showlegend\": true, \"type\": \"scatter3d\", \"x\": [64.94, 66.66, 69.69, 71.44, 73.06, 74.39, 76.3, 76.9, 77.57, 78.77, 79.78, 80.941], \"y\": [1952, 1957, 1962, 1967, 1972, 1977, 1982, 1987, 1992, 1997, 2002, 2007], \"z\": [3834.0347420000003, 4564.80241, 5693.843879, 7993.512294, 10638.75131, 13236.92117, 13926.169969999999, 15764.98313, 18603.06452, 20445.29896, 24835.47166, 28821.0637]}, {\"hovertemplate\": \"country=Sweden<br>lifeExp=%{x}<br>year=%{y}<br>gdpPercap=%{z}<extra></extra>\", \"legendgroup\": \"Sweden\", \"line\": {\"color\": \"#FF6692\", \"dash\": \"solid\"}, \"mode\": \"lines\", \"name\": \"Sweden\", \"scene\": \"scene\", \"showlegend\": true, \"type\": \"scatter3d\", \"x\": [71.86, 72.49, 73.37, 74.16, 74.72, 75.44, 76.42, 77.19, 78.16, 79.39, 80.04, 80.884], \"y\": [1952, 1957, 1962, 1967, 1972, 1977, 1982, 1987, 1992, 1997, 2002, 2007], \"z\": [8527.844662000001, 9911.878226, 12329.441920000001, 15258.29697, 17832.02464, 18855.72521, 20667.38125, 23586.92927, 23880.01683, 25266.59499, 29341.630930000003, 33859.74835]}, {\"hovertemplate\": \"country=Switzerland<br>lifeExp=%{x}<br>year=%{y}<br>gdpPercap=%{z}<extra></extra>\", \"legendgroup\": \"Switzerland\", \"line\": {\"color\": \"#B6E880\", \"dash\": \"solid\"}, \"mode\": \"lines\", \"name\": \"Switzerland\", \"scene\": \"scene\", \"showlegend\": true, \"type\": \"scatter3d\", \"x\": [69.62, 70.56, 71.32, 72.77, 73.78, 75.39, 76.21, 77.41, 78.03, 79.37, 80.62, 81.70100000000001], \"y\": [1952, 1957, 1962, 1967, 1972, 1977, 1982, 1987, 1992, 1997, 2002, 2007], \"z\": [14734.23275, 17909.48973, 20431.0927, 22966.14432, 27195.113039999997, 26982.29052, 28397.715119999997, 30281.704589999998, 31871.5303, 32135.323010000004, 34480.95771, 37506.419069999996]}, {\"hovertemplate\": \"country=Turkey<br>lifeExp=%{x}<br>year=%{y}<br>gdpPercap=%{z}<extra></extra>\", \"legendgroup\": \"Turkey\", \"line\": {\"color\": \"#FF97FF\", \"dash\": \"solid\"}, \"mode\": \"lines\", \"name\": \"Turkey\", \"scene\": \"scene\", \"showlegend\": true, \"type\": \"scatter3d\", \"x\": [43.585, 48.07899999999999, 52.098, 54.336000000000006, 57.005, 59.507, 61.036, 63.108000000000004, 66.146, 68.835, 70.845, 71.777], \"y\": [1952, 1957, 1962, 1967, 1972, 1977, 1982, 1987, 1992, 1997, 2002, 2007], \"z\": [1969.1009800000002, 2218.754257, 2322.8699079999997, 2826.3563870000003, 3450.69638, 4269.122326, 4241.356344, 5089.043686, 5678.348271, 6601.429915, 6508.085718, 8458.276384]}, {\"hovertemplate\": \"country=United Kingdom<br>lifeExp=%{x}<br>year=%{y}<br>gdpPercap=%{z}<extra></extra>\", \"legendgroup\": \"United Kingdom\", \"line\": {\"color\": \"#FECB52\", \"dash\": \"solid\"}, \"mode\": \"lines\", \"name\": \"United Kingdom\", \"scene\": \"scene\", \"showlegend\": true, \"type\": \"scatter3d\", \"x\": [69.18, 70.42, 70.76, 71.36, 72.01, 72.76, 74.04, 75.007, 76.42, 77.218, 78.471, 79.425], \"y\": [1952, 1957, 1962, 1967, 1972, 1977, 1982, 1987, 1992, 1997, 2002, 2007], \"z\": [9979.508487000001, 11283.17795, 12477.17707, 14142.85089, 15895.116409999999, 17428.74846, 18232.42452, 21664.787669999998, 22705.09254, 26074.53136, 29478.99919, 33203.26128]}],                        {\"legend\": {\"title\": {\"text\": \"country\"}, \"tracegroupgap\": 0}, \"margin\": {\"t\": 60}, \"scene\": {\"domain\": {\"x\": [0.0, 1.0], \"y\": [0.0, 1.0]}, \"xaxis\": {\"title\": {\"text\": \"lifeExp\"}}, \"yaxis\": {\"title\": {\"text\": \"year\"}}, \"zaxis\": {\"title\": {\"text\": \"gdpPercap\"}}}, \"template\": {\"data\": {\"bar\": [{\"error_x\": {\"color\": \"#2a3f5f\"}, \"error_y\": {\"color\": \"#2a3f5f\"}, \"marker\": {\"line\": {\"color\": \"#E5ECF6\", \"width\": 0.5}}, \"type\": \"bar\"}], \"barpolar\": [{\"marker\": {\"line\": {\"color\": \"#E5ECF6\", \"width\": 0.5}}, \"type\": \"barpolar\"}], \"carpet\": [{\"aaxis\": {\"endlinecolor\": \"#2a3f5f\", \"gridcolor\": \"white\", \"linecolor\": \"white\", \"minorgridcolor\": \"white\", \"startlinecolor\": \"#2a3f5f\"}, \"baxis\": {\"endlinecolor\": \"#2a3f5f\", \"gridcolor\": \"white\", \"linecolor\": \"white\", \"minorgridcolor\": \"white\", \"startlinecolor\": \"#2a3f5f\"}, \"type\": \"carpet\"}], \"choropleth\": [{\"colorbar\": {\"outlinewidth\": 0, \"ticks\": \"\"}, \"type\": \"choropleth\"}], \"contour\": [{\"colorbar\": {\"outlinewidth\": 0, \"ticks\": \"\"}, \"colorscale\": [[0.0, \"#0d0887\"], [0.1111111111111111, \"#46039f\"], [0.2222222222222222, \"#7201a8\"], [0.3333333333333333, \"#9c179e\"], [0.4444444444444444, \"#bd3786\"], [0.5555555555555556, \"#d8576b\"], [0.6666666666666666, \"#ed7953\"], [0.7777777777777778, \"#fb9f3a\"], [0.8888888888888888, \"#fdca26\"], [1.0, \"#f0f921\"]], \"type\": \"contour\"}], \"contourcarpet\": [{\"colorbar\": {\"outlinewidth\": 0, \"ticks\": \"\"}, \"type\": \"contourcarpet\"}], \"heatmap\": [{\"colorbar\": {\"outlinewidth\": 0, \"ticks\": \"\"}, \"colorscale\": [[0.0, \"#0d0887\"], [0.1111111111111111, \"#46039f\"], [0.2222222222222222, \"#7201a8\"], [0.3333333333333333, \"#9c179e\"], [0.4444444444444444, \"#bd3786\"], [0.5555555555555556, \"#d8576b\"], [0.6666666666666666, \"#ed7953\"], [0.7777777777777778, \"#fb9f3a\"], [0.8888888888888888, \"#fdca26\"], [1.0, \"#f0f921\"]], \"type\": \"heatmap\"}], \"heatmapgl\": [{\"colorbar\": {\"outlinewidth\": 0, \"ticks\": \"\"}, \"colorscale\": [[0.0, \"#0d0887\"], [0.1111111111111111, \"#46039f\"], [0.2222222222222222, \"#7201a8\"], [0.3333333333333333, \"#9c179e\"], [0.4444444444444444, \"#bd3786\"], [0.5555555555555556, \"#d8576b\"], [0.6666666666666666, \"#ed7953\"], [0.7777777777777778, \"#fb9f3a\"], [0.8888888888888888, \"#fdca26\"], [1.0, \"#f0f921\"]], \"type\": \"heatmapgl\"}], \"histogram\": [{\"marker\": {\"colorbar\": {\"outlinewidth\": 0, \"ticks\": \"\"}}, \"type\": \"histogram\"}], \"histogram2d\": [{\"colorbar\": {\"outlinewidth\": 0, \"ticks\": \"\"}, \"colorscale\": [[0.0, \"#0d0887\"], [0.1111111111111111, \"#46039f\"], [0.2222222222222222, \"#7201a8\"], [0.3333333333333333, \"#9c179e\"], [0.4444444444444444, \"#bd3786\"], [0.5555555555555556, \"#d8576b\"], [0.6666666666666666, \"#ed7953\"], [0.7777777777777778, \"#fb9f3a\"], [0.8888888888888888, \"#fdca26\"], [1.0, \"#f0f921\"]], \"type\": \"histogram2d\"}], \"histogram2dcontour\": [{\"colorbar\": {\"outlinewidth\": 0, \"ticks\": \"\"}, \"colorscale\": [[0.0, \"#0d0887\"], [0.1111111111111111, \"#46039f\"], [0.2222222222222222, \"#7201a8\"], [0.3333333333333333, \"#9c179e\"], [0.4444444444444444, \"#bd3786\"], [0.5555555555555556, \"#d8576b\"], [0.6666666666666666, \"#ed7953\"], [0.7777777777777778, \"#fb9f3a\"], [0.8888888888888888, \"#fdca26\"], [1.0, \"#f0f921\"]], \"type\": \"histogram2dcontour\"}], \"mesh3d\": [{\"colorbar\": {\"outlinewidth\": 0, \"ticks\": \"\"}, \"type\": \"mesh3d\"}], \"parcoords\": [{\"line\": {\"colorbar\": {\"outlinewidth\": 0, \"ticks\": \"\"}}, \"type\": \"parcoords\"}], \"pie\": [{\"automargin\": true, \"type\": \"pie\"}], \"scatter\": [{\"marker\": {\"colorbar\": {\"outlinewidth\": 0, \"ticks\": \"\"}}, \"type\": \"scatter\"}], \"scatter3d\": [{\"line\": {\"colorbar\": {\"outlinewidth\": 0, \"ticks\": \"\"}}, \"marker\": {\"colorbar\": {\"outlinewidth\": 0, \"ticks\": \"\"}}, \"type\": \"scatter3d\"}], \"scattercarpet\": [{\"marker\": {\"colorbar\": {\"outlinewidth\": 0, \"ticks\": \"\"}}, \"type\": \"scattercarpet\"}], \"scattergeo\": [{\"marker\": {\"colorbar\": {\"outlinewidth\": 0, \"ticks\": \"\"}}, \"type\": \"scattergeo\"}], \"scattergl\": [{\"marker\": {\"colorbar\": {\"outlinewidth\": 0, \"ticks\": \"\"}}, \"type\": \"scattergl\"}], \"scattermapbox\": [{\"marker\": {\"colorbar\": {\"outlinewidth\": 0, \"ticks\": \"\"}}, \"type\": \"scattermapbox\"}], \"scatterpolar\": [{\"marker\": {\"colorbar\": {\"outlinewidth\": 0, \"ticks\": \"\"}}, \"type\": \"scatterpolar\"}], \"scatterpolargl\": [{\"marker\": {\"colorbar\": {\"outlinewidth\": 0, \"ticks\": \"\"}}, \"type\": \"scatterpolargl\"}], \"scatterternary\": [{\"marker\": {\"colorbar\": {\"outlinewidth\": 0, \"ticks\": \"\"}}, \"type\": \"scatterternary\"}], \"surface\": [{\"colorbar\": {\"outlinewidth\": 0, \"ticks\": \"\"}, \"colorscale\": [[0.0, \"#0d0887\"], [0.1111111111111111, \"#46039f\"], [0.2222222222222222, \"#7201a8\"], [0.3333333333333333, \"#9c179e\"], [0.4444444444444444, \"#bd3786\"], [0.5555555555555556, \"#d8576b\"], [0.6666666666666666, \"#ed7953\"], [0.7777777777777778, \"#fb9f3a\"], [0.8888888888888888, \"#fdca26\"], [1.0, \"#f0f921\"]], \"type\": \"surface\"}], \"table\": [{\"cells\": {\"fill\": {\"color\": \"#EBF0F8\"}, \"line\": {\"color\": \"white\"}}, \"header\": {\"fill\": {\"color\": \"#C8D4E3\"}, \"line\": {\"color\": \"white\"}}, \"type\": \"table\"}]}, \"layout\": {\"annotationdefaults\": {\"arrowcolor\": \"#2a3f5f\", \"arrowhead\": 0, \"arrowwidth\": 1}, \"autotypenumbers\": \"strict\", \"coloraxis\": {\"colorbar\": {\"outlinewidth\": 0, \"ticks\": \"\"}}, \"colorscale\": {\"diverging\": [[0, \"#8e0152\"], [0.1, \"#c51b7d\"], [0.2, \"#de77ae\"], [0.3, \"#f1b6da\"], [0.4, \"#fde0ef\"], [0.5, \"#f7f7f7\"], [0.6, \"#e6f5d0\"], [0.7, \"#b8e186\"], [0.8, \"#7fbc41\"], [0.9, \"#4d9221\"], [1, \"#276419\"]], \"sequential\": [[0.0, \"#0d0887\"], [0.1111111111111111, \"#46039f\"], [0.2222222222222222, \"#7201a8\"], [0.3333333333333333, \"#9c179e\"], [0.4444444444444444, \"#bd3786\"], [0.5555555555555556, \"#d8576b\"], [0.6666666666666666, \"#ed7953\"], [0.7777777777777778, \"#fb9f3a\"], [0.8888888888888888, \"#fdca26\"], [1.0, \"#f0f921\"]], \"sequentialminus\": [[0.0, \"#0d0887\"], [0.1111111111111111, \"#46039f\"], [0.2222222222222222, \"#7201a8\"], [0.3333333333333333, \"#9c179e\"], [0.4444444444444444, \"#bd3786\"], [0.5555555555555556, \"#d8576b\"], [0.6666666666666666, \"#ed7953\"], [0.7777777777777778, \"#fb9f3a\"], [0.8888888888888888, \"#fdca26\"], [1.0, \"#f0f921\"]]}, \"colorway\": [\"#636efa\", \"#EF553B\", \"#00cc96\", \"#ab63fa\", \"#FFA15A\", \"#19d3f3\", \"#FF6692\", \"#B6E880\", \"#FF97FF\", \"#FECB52\"], \"font\": {\"color\": \"#2a3f5f\"}, \"geo\": {\"bgcolor\": \"white\", \"lakecolor\": \"white\", \"landcolor\": \"#E5ECF6\", \"showlakes\": true, \"showland\": true, \"subunitcolor\": \"white\"}, \"hoverlabel\": {\"align\": \"left\"}, \"hovermode\": \"closest\", \"mapbox\": {\"style\": \"light\"}, \"paper_bgcolor\": \"white\", \"plot_bgcolor\": \"#E5ECF6\", \"polar\": {\"angularaxis\": {\"gridcolor\": \"white\", \"linecolor\": \"white\", \"ticks\": \"\"}, \"bgcolor\": \"#E5ECF6\", \"radialaxis\": {\"gridcolor\": \"white\", \"linecolor\": \"white\", \"ticks\": \"\"}}, \"scene\": {\"xaxis\": {\"backgroundcolor\": \"#E5ECF6\", \"gridcolor\": \"white\", \"gridwidth\": 2, \"linecolor\": \"white\", \"showbackground\": true, \"ticks\": \"\", \"zerolinecolor\": \"white\"}, \"yaxis\": {\"backgroundcolor\": \"#E5ECF6\", \"gridcolor\": \"white\", \"gridwidth\": 2, \"linecolor\": \"white\", \"showbackground\": true, \"ticks\": \"\", \"zerolinecolor\": \"white\"}, \"zaxis\": {\"backgroundcolor\": \"#E5ECF6\", \"gridcolor\": \"white\", \"gridwidth\": 2, \"linecolor\": \"white\", \"showbackground\": true, \"ticks\": \"\", \"zerolinecolor\": \"white\"}}, \"shapedefaults\": {\"line\": {\"color\": \"#2a3f5f\"}}, \"ternary\": {\"aaxis\": {\"gridcolor\": \"white\", \"linecolor\": \"white\", \"ticks\": \"\"}, \"baxis\": {\"gridcolor\": \"white\", \"linecolor\": \"white\", \"ticks\": \"\"}, \"bgcolor\": \"#E5ECF6\", \"caxis\": {\"gridcolor\": \"white\", \"linecolor\": \"white\", \"ticks\": \"\"}}, \"title\": {\"x\": 0.05}, \"xaxis\": {\"automargin\": true, \"gridcolor\": \"white\", \"linecolor\": \"white\", \"ticks\": \"\", \"title\": {\"standoff\": 15}, \"zerolinecolor\": \"white\", \"zerolinewidth\": 2}, \"yaxis\": {\"automargin\": true, \"gridcolor\": \"white\", \"linecolor\": \"white\", \"ticks\": \"\", \"title\": {\"standoff\": 15}, \"zerolinecolor\": \"white\", \"zerolinewidth\": 2}}}},                        {\"responsive\": true}                    ).then(function(){\n",
       "                            \n",
       "var gd = document.getElementById('8e84fa89-3bf7-4731-8baa-3cba0af6abe2');\n",
       "var x = new MutationObserver(function (mutations, observer) {{\n",
       "        var display = window.getComputedStyle(gd).display;\n",
       "        if (!display || display === 'none') {{\n",
       "            console.log([gd, 'removed!']);\n",
       "            Plotly.purge(gd);\n",
       "            observer.disconnect();\n",
       "        }}\n",
       "}});\n",
       "\n",
       "// Listen for the removal of the full notebook cells\n",
       "var notebookContainer = gd.closest('#notebook-container');\n",
       "if (notebookContainer) {{\n",
       "    x.observe(notebookContainer, {childList: true});\n",
       "}}\n",
       "\n",
       "// Listen for the clearing of the current output cell\n",
       "var outputEl = gd.closest('.output');\n",
       "if (outputEl) {{\n",
       "    x.observe(outputEl, {childList: true});\n",
       "}}\n",
       "\n",
       "                        })                };                });            </script>        </div>"
      ]
     },
     "metadata": {},
     "output_type": "display_data"
    }
   ],
   "source": [
    "fig = px.line_3d(euro_countries, x='lifeExp', y='year', z='gdpPercap', color='country')\n",
    "fig.show()"
   ]
  },
  {
   "cell_type": "markdown",
   "metadata": {},
   "source": [
    "-----"
   ]
  },
  {
   "cell_type": "markdown",
   "metadata": {
    "id": "Vhz_N2oFzjBE"
   },
   "source": [
    "# 3D Surface Plot"
   ]
  },
  {
   "cell_type": "code",
   "execution_count": 25,
   "metadata": {},
   "outputs": [
    {
     "data": {
      "text/html": [
       "<div>\n",
       "<style scoped>\n",
       "    .dataframe tbody tr th:only-of-type {\n",
       "        vertical-align: middle;\n",
       "    }\n",
       "\n",
       "    .dataframe tbody tr th {\n",
       "        vertical-align: top;\n",
       "    }\n",
       "\n",
       "    .dataframe thead th {\n",
       "        text-align: right;\n",
       "    }\n",
       "</style>\n",
       "<table border=\"1\" class=\"dataframe\">\n",
       "  <thead>\n",
       "    <tr style=\"text-align: right;\">\n",
       "      <th></th>\n",
       "      <th>0</th>\n",
       "      <th>1</th>\n",
       "      <th>2</th>\n",
       "      <th>3</th>\n",
       "      <th>4</th>\n",
       "      <th>5</th>\n",
       "      <th>6</th>\n",
       "      <th>7</th>\n",
       "      <th>8</th>\n",
       "      <th>9</th>\n",
       "      <th>...</th>\n",
       "      <th>14</th>\n",
       "      <th>15</th>\n",
       "      <th>16</th>\n",
       "      <th>17</th>\n",
       "      <th>18</th>\n",
       "      <th>19</th>\n",
       "      <th>20</th>\n",
       "      <th>21</th>\n",
       "      <th>22</th>\n",
       "      <th>23</th>\n",
       "    </tr>\n",
       "    <tr>\n",
       "      <th>Unnamed: 0</th>\n",
       "      <th></th>\n",
       "      <th></th>\n",
       "      <th></th>\n",
       "      <th></th>\n",
       "      <th></th>\n",
       "      <th></th>\n",
       "      <th></th>\n",
       "      <th></th>\n",
       "      <th></th>\n",
       "      <th></th>\n",
       "      <th></th>\n",
       "      <th></th>\n",
       "      <th></th>\n",
       "      <th></th>\n",
       "      <th></th>\n",
       "      <th></th>\n",
       "      <th></th>\n",
       "      <th></th>\n",
       "      <th></th>\n",
       "      <th></th>\n",
       "      <th></th>\n",
       "    </tr>\n",
       "  </thead>\n",
       "  <tbody>\n",
       "    <tr>\n",
       "      <th>0</th>\n",
       "      <td>27.809850</td>\n",
       "      <td>49.61936</td>\n",
       "      <td>83.080670</td>\n",
       "      <td>116.66320</td>\n",
       "      <td>130.41400</td>\n",
       "      <td>150.72060</td>\n",
       "      <td>220.1871</td>\n",
       "      <td>156.1536</td>\n",
       "      <td>148.6416</td>\n",
       "      <td>203.7845</td>\n",
       "      <td>...</td>\n",
       "      <td>49.96142</td>\n",
       "      <td>21.89279</td>\n",
       "      <td>17.02552</td>\n",
       "      <td>11.743170</td>\n",
       "      <td>14.752260</td>\n",
       "      <td>13.667100</td>\n",
       "      <td>5.677561</td>\n",
       "      <td>3.312340</td>\n",
       "      <td>1.156517</td>\n",
       "      <td>-0.147662</td>\n",
       "    </tr>\n",
       "    <tr>\n",
       "      <th>1</th>\n",
       "      <td>27.719660</td>\n",
       "      <td>48.55022</td>\n",
       "      <td>65.213740</td>\n",
       "      <td>95.27666</td>\n",
       "      <td>116.99640</td>\n",
       "      <td>133.90560</td>\n",
       "      <td>152.3412</td>\n",
       "      <td>151.9340</td>\n",
       "      <td>160.1139</td>\n",
       "      <td>179.5327</td>\n",
       "      <td>...</td>\n",
       "      <td>33.08871</td>\n",
       "      <td>38.40972</td>\n",
       "      <td>44.24843</td>\n",
       "      <td>69.578600</td>\n",
       "      <td>4.019351</td>\n",
       "      <td>3.050024</td>\n",
       "      <td>3.039719</td>\n",
       "      <td>2.996142</td>\n",
       "      <td>2.967954</td>\n",
       "      <td>1.999594</td>\n",
       "    </tr>\n",
       "    <tr>\n",
       "      <th>2</th>\n",
       "      <td>30.426700</td>\n",
       "      <td>33.47752</td>\n",
       "      <td>44.809530</td>\n",
       "      <td>62.47495</td>\n",
       "      <td>77.43523</td>\n",
       "      <td>104.21530</td>\n",
       "      <td>102.7393</td>\n",
       "      <td>137.0004</td>\n",
       "      <td>186.0706</td>\n",
       "      <td>219.3173</td>\n",
       "      <td>...</td>\n",
       "      <td>48.47132</td>\n",
       "      <td>74.71461</td>\n",
       "      <td>60.09090</td>\n",
       "      <td>7.073525</td>\n",
       "      <td>6.089851</td>\n",
       "      <td>6.537450</td>\n",
       "      <td>6.666096</td>\n",
       "      <td>7.306965</td>\n",
       "      <td>5.736840</td>\n",
       "      <td>3.625628</td>\n",
       "    </tr>\n",
       "    <tr>\n",
       "      <th>3</th>\n",
       "      <td>16.665490</td>\n",
       "      <td>30.10860</td>\n",
       "      <td>39.969520</td>\n",
       "      <td>44.12225</td>\n",
       "      <td>59.57512</td>\n",
       "      <td>77.56929</td>\n",
       "      <td>106.8925</td>\n",
       "      <td>166.5539</td>\n",
       "      <td>175.2381</td>\n",
       "      <td>185.2815</td>\n",
       "      <td>...</td>\n",
       "      <td>60.55916</td>\n",
       "      <td>55.92124</td>\n",
       "      <td>15.17284</td>\n",
       "      <td>8.248324</td>\n",
       "      <td>36.680870</td>\n",
       "      <td>61.934130</td>\n",
       "      <td>20.268670</td>\n",
       "      <td>68.588190</td>\n",
       "      <td>46.498120</td>\n",
       "      <td>0.236010</td>\n",
       "    </tr>\n",
       "    <tr>\n",
       "      <th>4</th>\n",
       "      <td>8.815617</td>\n",
       "      <td>18.35160</td>\n",
       "      <td>8.658275</td>\n",
       "      <td>27.58590</td>\n",
       "      <td>48.62691</td>\n",
       "      <td>60.18013</td>\n",
       "      <td>91.3286</td>\n",
       "      <td>145.7109</td>\n",
       "      <td>116.0653</td>\n",
       "      <td>106.2662</td>\n",
       "      <td>...</td>\n",
       "      <td>47.42691</td>\n",
       "      <td>69.20731</td>\n",
       "      <td>44.95468</td>\n",
       "      <td>29.171970</td>\n",
       "      <td>17.916740</td>\n",
       "      <td>16.255150</td>\n",
       "      <td>14.655590</td>\n",
       "      <td>17.260480</td>\n",
       "      <td>31.222450</td>\n",
       "      <td>46.717040</td>\n",
       "    </tr>\n",
       "  </tbody>\n",
       "</table>\n",
       "<p>5 rows × 24 columns</p>\n",
       "</div>"
      ],
      "text/plain": [
       "                    0         1          2          3          4          5  \\\n",
       "Unnamed: 0                                                                    \n",
       "0           27.809850  49.61936  83.080670  116.66320  130.41400  150.72060   \n",
       "1           27.719660  48.55022  65.213740   95.27666  116.99640  133.90560   \n",
       "2           30.426700  33.47752  44.809530   62.47495   77.43523  104.21530   \n",
       "3           16.665490  30.10860  39.969520   44.12225   59.57512   77.56929   \n",
       "4            8.815617  18.35160   8.658275   27.58590   48.62691   60.18013   \n",
       "\n",
       "                   6         7         8         9  ...        14        15  \\\n",
       "Unnamed: 0                                          ...                       \n",
       "0           220.1871  156.1536  148.6416  203.7845  ...  49.96142  21.89279   \n",
       "1           152.3412  151.9340  160.1139  179.5327  ...  33.08871  38.40972   \n",
       "2           102.7393  137.0004  186.0706  219.3173  ...  48.47132  74.71461   \n",
       "3           106.8925  166.5539  175.2381  185.2815  ...  60.55916  55.92124   \n",
       "4            91.3286  145.7109  116.0653  106.2662  ...  47.42691  69.20731   \n",
       "\n",
       "                  16         17         18         19         20         21  \\\n",
       "Unnamed: 0                                                                    \n",
       "0           17.02552  11.743170  14.752260  13.667100   5.677561   3.312340   \n",
       "1           44.24843  69.578600   4.019351   3.050024   3.039719   2.996142   \n",
       "2           60.09090   7.073525   6.089851   6.537450   6.666096   7.306965   \n",
       "3           15.17284   8.248324  36.680870  61.934130  20.268670  68.588190   \n",
       "4           44.95468  29.171970  17.916740  16.255150  14.655590  17.260480   \n",
       "\n",
       "                   22         23  \n",
       "Unnamed: 0                        \n",
       "0            1.156517  -0.147662  \n",
       "1            2.967954   1.999594  \n",
       "2            5.736840   3.625628  \n",
       "3           46.498120   0.236010  \n",
       "4           31.222450  46.717040  \n",
       "\n",
       "[5 rows x 24 columns]"
      ]
     },
     "execution_count": 25,
     "metadata": {},
     "output_type": "execute_result"
    }
   ],
   "source": [
    "import pandas as pd\n",
    "\n",
    "elev = pd.read_csv('mt_bruno_elevation.csv', index_col=0)\n",
    "elev.head()"
   ]
  },
  {
   "cell_type": "code",
   "execution_count": 26,
   "metadata": {},
   "outputs": [],
   "source": [
    "import plotly.graph_objects as go"
   ]
  },
  {
   "cell_type": "code",
   "execution_count": 27,
   "metadata": {},
   "outputs": [
    {
     "data": {
      "application/vnd.plotly.v1+json": {
       "config": {
        "plotlyServerURL": "https://plotly.com"
       },
       "data": [
        {
         "colorscale": [
          [
           0,
           "rgb(161, 105, 40)"
          ],
          [
           0.16666666666666666,
           "rgb(189, 146, 90)"
          ],
          [
           0.3333333333333333,
           "rgb(214, 189, 141)"
          ],
          [
           0.5,
           "rgb(237, 234, 194)"
          ],
          [
           0.6666666666666666,
           "rgb(181, 200, 184)"
          ],
          [
           0.8333333333333334,
           "rgb(121, 167, 172)"
          ],
          [
           1,
           "rgb(40, 135, 161)"
          ]
         ],
         "type": "surface",
         "z": [
          [
           27.80985,
           49.61936,
           83.08067,
           116.6632,
           130.414,
           150.7206,
           220.1871,
           156.1536,
           148.6416,
           203.7845,
           206.0386,
           107.1618,
           68.36975,
           45.3359,
           49.96142,
           21.89279,
           17.02552,
           11.74317,
           14.75226,
           13.6671,
           5.677561,
           3.3123400000000003,
           1.156517,
           -0.147662
          ],
          [
           27.71966,
           48.55022,
           65.21374,
           95.27666,
           116.9964,
           133.9056,
           152.3412,
           151.934,
           160.1139,
           179.5327,
           147.6184,
           170.3943,
           121.8194,
           52.58537,
           33.08871,
           38.40972,
           44.24843,
           69.5786,
           4.019351,
           3.050024,
           3.039719,
           2.996142,
           2.967954,
           1.999594
          ],
          [
           30.4267,
           33.47752,
           44.80953,
           62.47495,
           77.43523,
           104.2153,
           102.7393,
           137.0004,
           186.0706,
           219.3173,
           181.7615,
           120.9154,
           143.1835,
           82.40501,
           48.47132,
           74.71461,
           60.0909,
           7.073525,
           6.089851,
           6.53745,
           6.6660960000000005,
           7.306964999999999,
           5.73684,
           3.625628
          ],
          [
           16.66549,
           30.1086,
           39.96952,
           44.12225,
           59.57512,
           77.56929000000002,
           106.8925,
           166.5539,
           175.2381,
           185.2815,
           154.5056,
           83.0433,
           62.61731999999999,
           62.33167,
           60.55916,
           55.92124,
           15.17284,
           8.248324,
           36.68087,
           61.93413,
           20.26867,
           68.58819,
           46.49812,
           0.2360095
          ],
          [
           8.815617,
           18.3516,
           8.658275,
           27.5859,
           48.62691,
           60.18013000000001,
           91.3286,
           145.7109,
           116.0653,
           106.2662,
           68.69447,
           53.10596,
           37.92797,
           47.95942,
           47.42691,
           69.20730999999999,
           44.95468,
           29.17197,
           17.91674,
           16.25515,
           14.65559,
           17.260479999999998,
           31.22245,
           46.71704
          ],
          [
           6.628881,
           10.41339,
           24.81939,
           26.08952,
           30.1605,
           52.30802,
           64.71007,
           76.30823000000002,
           84.63686,
           99.4324,
           62.52132,
           46.81647,
           55.76606,
           82.4099,
           140.2647,
           81.26501,
           56.45756,
           30.421640000000004,
           17.28782,
           8.302431,
           2.981626,
           2.6985360000000003,
           5.886086,
           5.268358
          ],
          [
           21.83975,
           6.63927,
           18.97085,
           32.89204,
           43.15014,
           62.86014,
           104.6657,
           130.2294,
           114.8494,
           106.9873,
           61.89647,
           55.55682,
           86.80986,
           89.27802,
           122.4221,
           123.9698,
           109.0952,
           98.41956,
           77.61374,
           32.49031,
           14.67344,
           7.370775,
           0.03711011,
           0.6423392
          ],
          [
           53.34303000000001,
           26.79797,
           6.63927,
           10.88787,
           17.2044,
           56.18116,
           79.70141,
           90.8453,
           98.27675,
           80.87243000000002,
           74.7931,
           75.54661,
           73.4373,
           74.11694,
           68.1749,
           46.24076,
           39.93857,
           31.21653,
           36.88335,
           40.02525,
           117.4297,
           12.70328,
           1.729771,
           0
          ],
          [
           25.66785,
           63.05716999999999,
           22.1414,
           17.074,
           41.74483,
           60.27226999999999,
           81.42432,
           114.444,
           102.3234,
           101.7878,
           111.031,
           119.2309,
           114.0777,
           110.5296,
           59.19355,
           42.47175,
           14.635979999999998,
           6.9440740000000005,
           6.944075,
           27.74936,
           0,
           0,
           0.09449376,
           0.07732264
          ],
          [
           12.827,
           69.20554,
           46.76293,
           13.96517,
           33.887440000000005,
           61.826130000000006,
           84.74799,
           121.122,
           145.2741,
           153.1797,
           204.786,
           227.9242,
           236.3038,
           228.3655,
           79.34425,
           25.93483,
           6.9440740000000005,
           6.9440740000000005,
           6.944075,
           7.553681,
           0,
           0,
           0,
           0
          ],
          [
           0,
           68.66396,
           59.0435,
           33.357620000000004,
           47.45282,
           57.8355,
           78.91689000000002,
           107.8275,
           168.0053,
           130.9597,
           212.5541,
           165.8122,
           210.2429,
           181.1713,
           189.7617,
           137.3378,
           84.65395,
           8.677168,
           6.956575999999999,
           8.468093,
           0,
           0,
           0,
           0
          ],
          [
           0,
           95.17499,
           80.03818000000003,
           59.89862,
           39.58476,
           50.28058,
           63.81641,
           80.61301999999998,
           66.37824,
           198.7651,
           244.3467,
           294.2474,
           264.3517,
           176.4082,
           60.21856999999999,
           77.41475,
           53.16981,
           56.16393000000001,
           6.949235000000002,
           7.531059,
           3.780177,
           0,
           0,
           0
          ],
          [
           0,
           134.9879,
           130.3696,
           96.86325,
           75.70494000000002,
           58.86466,
           57.20374,
           55.18836999999999,
           78.128,
           108.5582,
           154.3774,
           319.1686,
           372.8826,
           275.4655,
           130.2632,
           54.93822,
           25.49719,
           8.047439,
           8.084392999999999,
           5.115252,
           5.678269,
           0,
           0,
           0
          ],
          [
           0,
           48.08919,
           142.5558,
           140.3777,
           154.7261,
           87.9361,
           58.11091999999999,
           52.83869,
           67.14822,
           83.66798,
           118.9242,
           150.0681,
           272.9709,
           341.1366,
           238.664,
           190.2,
           116.8943,
           91.48672,
           14.0157,
           42.29277,
           5.115252,
           0,
           0,
           0
          ],
          [
           0,
           54.1941,
           146.3839,
           99.48143,
           96.19411,
           102.9473,
           76.14089,
           57.7844,
           47.0402,
           64.36799,
           84.23767,
           162.7181,
           121.3275,
           213.1646,
           328.482,
           285.4489,
           283.8319,
           212.815,
           164.549,
           92.29631,
           7.244014999999999,
           1.167,
           0,
           0
          ],
          [
           0,
           6.9196589999999984,
           195.1709,
           132.5253,
           135.2341,
           89.85069,
           89.45549,
           60.29966999999999,
           50.33806,
           39.17583,
           59.06854000000001,
           74.52159,
           84.93401999999998,
           187.1219,
           123.9673,
           103.7027,
           128.986,
           165.1283,
           249.7054,
           95.39966,
           10.00284,
           2.39255,
           0,
           0
          ],
          [
           0,
           21.73871,
           123.1339,
           176.7414,
           158.2698,
           137.235,
           105.3089,
           86.63255,
           53.11591,
           29.03865,
           30.40539,
           39.04902,
           49.23405,
           63.27853,
           111.4215,
           101.1956,
           40.00962,
           59.84565,
           74.51253,
           17.06316,
           2.435141,
           2.287471,
           -0.0003636982,
           0
          ],
          [
           0,
           0,
           62.04671999999999,
           136.3122,
           201.7952,
           168.1343,
           95.2046,
           58.90624,
           46.94091,
           49.27053,
           37.10416,
           17.970110000000005,
           30.93697,
           33.39257,
           44.03077,
           55.64542,
           78.22423,
           14.42782,
           9.954997,
           7.768213,
           13.0254,
           21.73166,
           2.156372,
           0.5317867
          ],
          [
           0,
           0,
           79.62993,
           139.6978,
           173.167,
           192.8718,
           196.3499,
           144.6611,
           106.5424,
           57.16653,
           41.16107,
           32.12764,
           13.8566,
           10.91772,
           12.07177,
           22.38254,
           24.72105,
           6.8036660000000015,
           4.2008410000000005,
           16.46857,
           15.70744,
           33.96221,
           7.575688,
           -0.04880907
          ],
          [
           0,
           0,
           33.2664,
           57.53643,
           167.2241,
           196.4833,
           194.7966,
           182.1884,
           119.6961,
           73.02113,
           48.36549,
           33.746520000000004,
           26.2379,
           16.3578,
           6.811292999999999,
           6.63927,
           6.639271000000001,
           8.468093,
           6.194273,
           3.5912330000000003,
           3.81486,
           8.600739,
           5.21889,
           0
          ],
          [
           0,
           0,
           29.77937,
           54.97282,
           144.7995,
           207.4904,
           165.3432,
           171.4047,
           174.9216,
           100.2733,
           61.46441,
           50.19171,
           26.08209,
           17.18218,
           8.468093,
           6.63927,
           6.334467,
           6.334467,
           5.6666870000000005,
           4.272203,
           0,
           0,
           0,
           0
          ],
          [
           0,
           0,
           31.409,
           132.7418,
           185.5796,
           121.8299,
           185.3841,
           160.6566,
           116.1478,
           118.1078,
           141.7946,
           65.56351,
           48.84066,
           23.13864,
           18.12932,
           10.28531,
           6.029662999999998,
           6.044626999999998,
           5.694764,
           3.739085,
           3.896037,
           0,
           0,
           0
          ],
          [
           0,
           0,
           19.58994,
           42.30355,
           96.26777,
           187.1207,
           179.6626,
           221.3898,
           154.2617,
           142.1604,
           148.5737,
           67.17936999999999,
           40.69044,
           39.74512,
           26.10166,
           14.48469,
           8.65873,
           3.896037,
           3.571392,
           3.896037,
           3.896037,
           3.896037,
           1.077756,
           0
          ],
          [
           0.001229679,
           3.008948,
           5.909858,
           33.50574,
           104.3341,
           152.2165,
           198.1988,
           191.841,
           228.7349,
           168.1041,
           144.2759,
           110.7436,
           57.65214,
           42.63504,
           27.91891,
           15.410520000000002,
           8.056102000000001,
           3.90283,
           3.879774,
           3.936718,
           3.968634,
           0.1236256,
           3.985531,
           -0.1835741
          ],
          [
           0,
           5.6261410000000005,
           7.676255999999999,
           63.16226,
           45.99762,
           79.56688,
           227.311,
           203.9287,
           172.5618,
           177.1462,
           140.4554,
           123.9905,
           110.346,
           65.12319000000001,
           34.318870000000004,
           24.5278,
           9.561069,
           3.3349910000000005,
           5.590495,
           5.487353,
           5.9094989999999985,
           5.868994,
           5.833817,
           3.5681769999999995
          ]
         ]
        }
       ],
       "layout": {
        "template": {
         "data": {
          "bar": [
           {
            "error_x": {
             "color": "#2a3f5f"
            },
            "error_y": {
             "color": "#2a3f5f"
            },
            "marker": {
             "line": {
              "color": "#E5ECF6",
              "width": 0.5
             }
            },
            "type": "bar"
           }
          ],
          "barpolar": [
           {
            "marker": {
             "line": {
              "color": "#E5ECF6",
              "width": 0.5
             }
            },
            "type": "barpolar"
           }
          ],
          "carpet": [
           {
            "aaxis": {
             "endlinecolor": "#2a3f5f",
             "gridcolor": "white",
             "linecolor": "white",
             "minorgridcolor": "white",
             "startlinecolor": "#2a3f5f"
            },
            "baxis": {
             "endlinecolor": "#2a3f5f",
             "gridcolor": "white",
             "linecolor": "white",
             "minorgridcolor": "white",
             "startlinecolor": "#2a3f5f"
            },
            "type": "carpet"
           }
          ],
          "choropleth": [
           {
            "colorbar": {
             "outlinewidth": 0,
             "ticks": ""
            },
            "type": "choropleth"
           }
          ],
          "contour": [
           {
            "colorbar": {
             "outlinewidth": 0,
             "ticks": ""
            },
            "colorscale": [
             [
              0,
              "#0d0887"
             ],
             [
              0.1111111111111111,
              "#46039f"
             ],
             [
              0.2222222222222222,
              "#7201a8"
             ],
             [
              0.3333333333333333,
              "#9c179e"
             ],
             [
              0.4444444444444444,
              "#bd3786"
             ],
             [
              0.5555555555555556,
              "#d8576b"
             ],
             [
              0.6666666666666666,
              "#ed7953"
             ],
             [
              0.7777777777777778,
              "#fb9f3a"
             ],
             [
              0.8888888888888888,
              "#fdca26"
             ],
             [
              1,
              "#f0f921"
             ]
            ],
            "type": "contour"
           }
          ],
          "contourcarpet": [
           {
            "colorbar": {
             "outlinewidth": 0,
             "ticks": ""
            },
            "type": "contourcarpet"
           }
          ],
          "heatmap": [
           {
            "colorbar": {
             "outlinewidth": 0,
             "ticks": ""
            },
            "colorscale": [
             [
              0,
              "#0d0887"
             ],
             [
              0.1111111111111111,
              "#46039f"
             ],
             [
              0.2222222222222222,
              "#7201a8"
             ],
             [
              0.3333333333333333,
              "#9c179e"
             ],
             [
              0.4444444444444444,
              "#bd3786"
             ],
             [
              0.5555555555555556,
              "#d8576b"
             ],
             [
              0.6666666666666666,
              "#ed7953"
             ],
             [
              0.7777777777777778,
              "#fb9f3a"
             ],
             [
              0.8888888888888888,
              "#fdca26"
             ],
             [
              1,
              "#f0f921"
             ]
            ],
            "type": "heatmap"
           }
          ],
          "heatmapgl": [
           {
            "colorbar": {
             "outlinewidth": 0,
             "ticks": ""
            },
            "colorscale": [
             [
              0,
              "#0d0887"
             ],
             [
              0.1111111111111111,
              "#46039f"
             ],
             [
              0.2222222222222222,
              "#7201a8"
             ],
             [
              0.3333333333333333,
              "#9c179e"
             ],
             [
              0.4444444444444444,
              "#bd3786"
             ],
             [
              0.5555555555555556,
              "#d8576b"
             ],
             [
              0.6666666666666666,
              "#ed7953"
             ],
             [
              0.7777777777777778,
              "#fb9f3a"
             ],
             [
              0.8888888888888888,
              "#fdca26"
             ],
             [
              1,
              "#f0f921"
             ]
            ],
            "type": "heatmapgl"
           }
          ],
          "histogram": [
           {
            "marker": {
             "colorbar": {
              "outlinewidth": 0,
              "ticks": ""
             }
            },
            "type": "histogram"
           }
          ],
          "histogram2d": [
           {
            "colorbar": {
             "outlinewidth": 0,
             "ticks": ""
            },
            "colorscale": [
             [
              0,
              "#0d0887"
             ],
             [
              0.1111111111111111,
              "#46039f"
             ],
             [
              0.2222222222222222,
              "#7201a8"
             ],
             [
              0.3333333333333333,
              "#9c179e"
             ],
             [
              0.4444444444444444,
              "#bd3786"
             ],
             [
              0.5555555555555556,
              "#d8576b"
             ],
             [
              0.6666666666666666,
              "#ed7953"
             ],
             [
              0.7777777777777778,
              "#fb9f3a"
             ],
             [
              0.8888888888888888,
              "#fdca26"
             ],
             [
              1,
              "#f0f921"
             ]
            ],
            "type": "histogram2d"
           }
          ],
          "histogram2dcontour": [
           {
            "colorbar": {
             "outlinewidth": 0,
             "ticks": ""
            },
            "colorscale": [
             [
              0,
              "#0d0887"
             ],
             [
              0.1111111111111111,
              "#46039f"
             ],
             [
              0.2222222222222222,
              "#7201a8"
             ],
             [
              0.3333333333333333,
              "#9c179e"
             ],
             [
              0.4444444444444444,
              "#bd3786"
             ],
             [
              0.5555555555555556,
              "#d8576b"
             ],
             [
              0.6666666666666666,
              "#ed7953"
             ],
             [
              0.7777777777777778,
              "#fb9f3a"
             ],
             [
              0.8888888888888888,
              "#fdca26"
             ],
             [
              1,
              "#f0f921"
             ]
            ],
            "type": "histogram2dcontour"
           }
          ],
          "mesh3d": [
           {
            "colorbar": {
             "outlinewidth": 0,
             "ticks": ""
            },
            "type": "mesh3d"
           }
          ],
          "parcoords": [
           {
            "line": {
             "colorbar": {
              "outlinewidth": 0,
              "ticks": ""
             }
            },
            "type": "parcoords"
           }
          ],
          "pie": [
           {
            "automargin": true,
            "type": "pie"
           }
          ],
          "scatter": [
           {
            "marker": {
             "colorbar": {
              "outlinewidth": 0,
              "ticks": ""
             }
            },
            "type": "scatter"
           }
          ],
          "scatter3d": [
           {
            "line": {
             "colorbar": {
              "outlinewidth": 0,
              "ticks": ""
             }
            },
            "marker": {
             "colorbar": {
              "outlinewidth": 0,
              "ticks": ""
             }
            },
            "type": "scatter3d"
           }
          ],
          "scattercarpet": [
           {
            "marker": {
             "colorbar": {
              "outlinewidth": 0,
              "ticks": ""
             }
            },
            "type": "scattercarpet"
           }
          ],
          "scattergeo": [
           {
            "marker": {
             "colorbar": {
              "outlinewidth": 0,
              "ticks": ""
             }
            },
            "type": "scattergeo"
           }
          ],
          "scattergl": [
           {
            "marker": {
             "colorbar": {
              "outlinewidth": 0,
              "ticks": ""
             }
            },
            "type": "scattergl"
           }
          ],
          "scattermapbox": [
           {
            "marker": {
             "colorbar": {
              "outlinewidth": 0,
              "ticks": ""
             }
            },
            "type": "scattermapbox"
           }
          ],
          "scatterpolar": [
           {
            "marker": {
             "colorbar": {
              "outlinewidth": 0,
              "ticks": ""
             }
            },
            "type": "scatterpolar"
           }
          ],
          "scatterpolargl": [
           {
            "marker": {
             "colorbar": {
              "outlinewidth": 0,
              "ticks": ""
             }
            },
            "type": "scatterpolargl"
           }
          ],
          "scatterternary": [
           {
            "marker": {
             "colorbar": {
              "outlinewidth": 0,
              "ticks": ""
             }
            },
            "type": "scatterternary"
           }
          ],
          "surface": [
           {
            "colorbar": {
             "outlinewidth": 0,
             "ticks": ""
            },
            "colorscale": [
             [
              0,
              "#0d0887"
             ],
             [
              0.1111111111111111,
              "#46039f"
             ],
             [
              0.2222222222222222,
              "#7201a8"
             ],
             [
              0.3333333333333333,
              "#9c179e"
             ],
             [
              0.4444444444444444,
              "#bd3786"
             ],
             [
              0.5555555555555556,
              "#d8576b"
             ],
             [
              0.6666666666666666,
              "#ed7953"
             ],
             [
              0.7777777777777778,
              "#fb9f3a"
             ],
             [
              0.8888888888888888,
              "#fdca26"
             ],
             [
              1,
              "#f0f921"
             ]
            ],
            "type": "surface"
           }
          ],
          "table": [
           {
            "cells": {
             "fill": {
              "color": "#EBF0F8"
             },
             "line": {
              "color": "white"
             }
            },
            "header": {
             "fill": {
              "color": "#C8D4E3"
             },
             "line": {
              "color": "white"
             }
            },
            "type": "table"
           }
          ]
         },
         "layout": {
          "annotationdefaults": {
           "arrowcolor": "#2a3f5f",
           "arrowhead": 0,
           "arrowwidth": 1
          },
          "autotypenumbers": "strict",
          "coloraxis": {
           "colorbar": {
            "outlinewidth": 0,
            "ticks": ""
           }
          },
          "colorscale": {
           "diverging": [
            [
             0,
             "#8e0152"
            ],
            [
             0.1,
             "#c51b7d"
            ],
            [
             0.2,
             "#de77ae"
            ],
            [
             0.3,
             "#f1b6da"
            ],
            [
             0.4,
             "#fde0ef"
            ],
            [
             0.5,
             "#f7f7f7"
            ],
            [
             0.6,
             "#e6f5d0"
            ],
            [
             0.7,
             "#b8e186"
            ],
            [
             0.8,
             "#7fbc41"
            ],
            [
             0.9,
             "#4d9221"
            ],
            [
             1,
             "#276419"
            ]
           ],
           "sequential": [
            [
             0,
             "#0d0887"
            ],
            [
             0.1111111111111111,
             "#46039f"
            ],
            [
             0.2222222222222222,
             "#7201a8"
            ],
            [
             0.3333333333333333,
             "#9c179e"
            ],
            [
             0.4444444444444444,
             "#bd3786"
            ],
            [
             0.5555555555555556,
             "#d8576b"
            ],
            [
             0.6666666666666666,
             "#ed7953"
            ],
            [
             0.7777777777777778,
             "#fb9f3a"
            ],
            [
             0.8888888888888888,
             "#fdca26"
            ],
            [
             1,
             "#f0f921"
            ]
           ],
           "sequentialminus": [
            [
             0,
             "#0d0887"
            ],
            [
             0.1111111111111111,
             "#46039f"
            ],
            [
             0.2222222222222222,
             "#7201a8"
            ],
            [
             0.3333333333333333,
             "#9c179e"
            ],
            [
             0.4444444444444444,
             "#bd3786"
            ],
            [
             0.5555555555555556,
             "#d8576b"
            ],
            [
             0.6666666666666666,
             "#ed7953"
            ],
            [
             0.7777777777777778,
             "#fb9f3a"
            ],
            [
             0.8888888888888888,
             "#fdca26"
            ],
            [
             1,
             "#f0f921"
            ]
           ]
          },
          "colorway": [
           "#636efa",
           "#EF553B",
           "#00cc96",
           "#ab63fa",
           "#FFA15A",
           "#19d3f3",
           "#FF6692",
           "#B6E880",
           "#FF97FF",
           "#FECB52"
          ],
          "font": {
           "color": "#2a3f5f"
          },
          "geo": {
           "bgcolor": "white",
           "lakecolor": "white",
           "landcolor": "#E5ECF6",
           "showlakes": true,
           "showland": true,
           "subunitcolor": "white"
          },
          "hoverlabel": {
           "align": "left"
          },
          "hovermode": "closest",
          "mapbox": {
           "style": "light"
          },
          "paper_bgcolor": "white",
          "plot_bgcolor": "#E5ECF6",
          "polar": {
           "angularaxis": {
            "gridcolor": "white",
            "linecolor": "white",
            "ticks": ""
           },
           "bgcolor": "#E5ECF6",
           "radialaxis": {
            "gridcolor": "white",
            "linecolor": "white",
            "ticks": ""
           }
          },
          "scene": {
           "xaxis": {
            "backgroundcolor": "#E5ECF6",
            "gridcolor": "white",
            "gridwidth": 2,
            "linecolor": "white",
            "showbackground": true,
            "ticks": "",
            "zerolinecolor": "white"
           },
           "yaxis": {
            "backgroundcolor": "#E5ECF6",
            "gridcolor": "white",
            "gridwidth": 2,
            "linecolor": "white",
            "showbackground": true,
            "ticks": "",
            "zerolinecolor": "white"
           },
           "zaxis": {
            "backgroundcolor": "#E5ECF6",
            "gridcolor": "white",
            "gridwidth": 2,
            "linecolor": "white",
            "showbackground": true,
            "ticks": "",
            "zerolinecolor": "white"
           }
          },
          "shapedefaults": {
           "line": {
            "color": "#2a3f5f"
           }
          },
          "ternary": {
           "aaxis": {
            "gridcolor": "white",
            "linecolor": "white",
            "ticks": ""
           },
           "baxis": {
            "gridcolor": "white",
            "linecolor": "white",
            "ticks": ""
           },
           "bgcolor": "#E5ECF6",
           "caxis": {
            "gridcolor": "white",
            "linecolor": "white",
            "ticks": ""
           }
          },
          "title": {
           "x": 0.05
          },
          "xaxis": {
           "automargin": true,
           "gridcolor": "white",
           "linecolor": "white",
           "ticks": "",
           "title": {
            "standoff": 15
           },
           "zerolinecolor": "white",
           "zerolinewidth": 2
          },
          "yaxis": {
           "automargin": true,
           "gridcolor": "white",
           "linecolor": "white",
           "ticks": "",
           "title": {
            "standoff": 15
           },
           "zerolinecolor": "white",
           "zerolinewidth": 2
          }
         }
        }
       }
      },
      "text/html": [
       "<div>                            <div id=\"58b83dd9-3e67-4c68-84c0-40dd1b844bbf\" class=\"plotly-graph-div\" style=\"height:525px; width:100%;\"></div>            <script type=\"text/javascript\">                require([\"plotly\"], function(Plotly) {                    window.PLOTLYENV=window.PLOTLYENV || {};                                    if (document.getElementById(\"58b83dd9-3e67-4c68-84c0-40dd1b844bbf\")) {                    Plotly.newPlot(                        \"58b83dd9-3e67-4c68-84c0-40dd1b844bbf\",                        [{\"colorscale\": [[0.0, \"rgb(161, 105, 40)\"], [0.16666666666666666, \"rgb(189, 146, 90)\"], [0.3333333333333333, \"rgb(214, 189, 141)\"], [0.5, \"rgb(237, 234, 194)\"], [0.6666666666666666, \"rgb(181, 200, 184)\"], [0.8333333333333334, \"rgb(121, 167, 172)\"], [1.0, \"rgb(40, 135, 161)\"]], \"type\": \"surface\", \"z\": [[27.80985, 49.61936, 83.08067, 116.6632, 130.414, 150.7206, 220.1871, 156.1536, 148.6416, 203.7845, 206.0386, 107.1618, 68.36975, 45.3359, 49.96142, 21.89279, 17.02552, 11.74317, 14.75226, 13.6671, 5.677561, 3.3123400000000003, 1.156517, -0.147662], [27.71966, 48.55022, 65.21374, 95.27666, 116.9964, 133.9056, 152.3412, 151.934, 160.1139, 179.5327, 147.6184, 170.3943, 121.8194, 52.58537, 33.08871, 38.40972, 44.24843, 69.5786, 4.019351, 3.050024, 3.039719, 2.996142, 2.967954, 1.999594], [30.4267, 33.47752, 44.80953, 62.47495, 77.43523, 104.2153, 102.7393, 137.0004, 186.0706, 219.3173, 181.7615, 120.9154, 143.1835, 82.40501, 48.47132, 74.71461, 60.0909, 7.073525, 6.089851, 6.53745, 6.6660960000000005, 7.306964999999999, 5.73684, 3.625628], [16.66549, 30.1086, 39.96952, 44.12225, 59.57512, 77.56929000000002, 106.8925, 166.5539, 175.2381, 185.2815, 154.5056, 83.0433, 62.61731999999999, 62.33167, 60.55916, 55.92124, 15.17284, 8.248324, 36.68087, 61.93413, 20.26867, 68.58819, 46.49812, 0.2360095], [8.815617, 18.3516, 8.658275, 27.5859, 48.62691, 60.18013000000001, 91.3286, 145.7109, 116.0653, 106.2662, 68.69447, 53.10596, 37.92797, 47.95942, 47.42691, 69.20730999999999, 44.95468, 29.17197, 17.91674, 16.25515, 14.65559, 17.260479999999998, 31.22245, 46.71704], [6.628881, 10.41339, 24.81939, 26.08952, 30.1605, 52.30802, 64.71007, 76.30823000000002, 84.63686, 99.4324, 62.52132, 46.81647, 55.76606, 82.4099, 140.2647, 81.26501, 56.45756, 30.421640000000004, 17.28782, 8.302431, 2.981626, 2.6985360000000003, 5.886086, 5.268358], [21.83975, 6.63927, 18.97085, 32.89204, 43.15014, 62.86014, 104.6657, 130.2294, 114.8494, 106.9873, 61.89647, 55.55682, 86.80986, 89.27802, 122.4221, 123.9698, 109.0952, 98.41956, 77.61374, 32.49031, 14.67344, 7.370775, 0.03711011, 0.6423392], [53.34303000000001, 26.79797, 6.63927, 10.88787, 17.2044, 56.18116, 79.70141, 90.8453, 98.27675, 80.87243000000002, 74.7931, 75.54661, 73.4373, 74.11694, 68.1749, 46.24076, 39.93857, 31.21653, 36.88335, 40.02525, 117.4297, 12.70328, 1.729771, 0.0], [25.66785, 63.05716999999999, 22.1414, 17.074, 41.74483, 60.27226999999999, 81.42432, 114.444, 102.3234, 101.7878, 111.031, 119.2309, 114.0777, 110.5296, 59.19355, 42.47175, 14.635979999999998, 6.9440740000000005, 6.944075, 27.74936, 0.0, 0.0, 0.09449376, 0.07732264], [12.827, 69.20554, 46.76293, 13.96517, 33.887440000000005, 61.826130000000006, 84.74799, 121.122, 145.2741, 153.1797, 204.786, 227.9242, 236.3038, 228.3655, 79.34425, 25.93483, 6.9440740000000005, 6.9440740000000005, 6.944075, 7.553681, 0.0, 0.0, 0.0, 0.0], [0.0, 68.66396, 59.0435, 33.357620000000004, 47.45282, 57.8355, 78.91689000000002, 107.8275, 168.0053, 130.9597, 212.5541, 165.8122, 210.2429, 181.1713, 189.7617, 137.3378, 84.65395, 8.677168, 6.956575999999999, 8.468093, 0.0, 0.0, 0.0, 0.0], [0.0, 95.17499, 80.03818000000003, 59.89862, 39.58476, 50.28058, 63.81641, 80.61301999999998, 66.37824, 198.7651, 244.3467, 294.2474, 264.3517, 176.4082, 60.21856999999999, 77.41475, 53.16981, 56.16393000000001, 6.949235000000002, 7.531059, 3.780177, 0.0, 0.0, 0.0], [0.0, 134.9879, 130.3696, 96.86325, 75.70494000000002, 58.86466, 57.20374, 55.18836999999999, 78.128, 108.5582, 154.3774, 319.1686, 372.8826, 275.4655, 130.2632, 54.93822, 25.49719, 8.047439, 8.084392999999999, 5.115252, 5.678269, 0.0, 0.0, 0.0], [0.0, 48.08919, 142.5558, 140.3777, 154.7261, 87.9361, 58.11091999999999, 52.83869, 67.14822, 83.66798, 118.9242, 150.0681, 272.9709, 341.1366, 238.664, 190.2, 116.8943, 91.48672, 14.0157, 42.29277, 5.115252, 0.0, 0.0, 0.0], [0.0, 54.1941, 146.3839, 99.48143, 96.19411, 102.9473, 76.14089, 57.7844, 47.0402, 64.36799, 84.23767, 162.7181, 121.3275, 213.1646, 328.482, 285.4489, 283.8319, 212.815, 164.549, 92.29631, 7.244014999999999, 1.167, 0.0, 0.0], [0.0, 6.9196589999999984, 195.1709, 132.5253, 135.2341, 89.85069, 89.45549, 60.29966999999999, 50.33806, 39.17583, 59.06854000000001, 74.52159, 84.93401999999998, 187.1219, 123.9673, 103.7027, 128.986, 165.1283, 249.7054, 95.39966, 10.00284, 2.39255, 0.0, 0.0], [0.0, 21.73871, 123.1339, 176.7414, 158.2698, 137.235, 105.3089, 86.63255, 53.11591, 29.03865, 30.40539, 39.04902, 49.23405, 63.27853, 111.4215, 101.1956, 40.00962, 59.84565, 74.51253, 17.06316, 2.435141, 2.287471, -0.0003636982, 0.0], [0.0, 0.0, 62.04671999999999, 136.3122, 201.7952, 168.1343, 95.2046, 58.90624, 46.94091, 49.27053, 37.10416, 17.970110000000005, 30.93697, 33.39257, 44.03077, 55.64542, 78.22423, 14.42782, 9.954997, 7.768213, 13.0254, 21.73166, 2.156372, 0.5317867], [0.0, 0.0, 79.62993, 139.6978, 173.167, 192.8718, 196.3499, 144.6611, 106.5424, 57.16653, 41.16107, 32.12764, 13.8566, 10.91772, 12.07177, 22.38254, 24.72105, 6.8036660000000015, 4.2008410000000005, 16.46857, 15.70744, 33.96221, 7.575688, -0.04880907], [0.0, 0.0, 33.2664, 57.53643, 167.2241, 196.4833, 194.7966, 182.1884, 119.6961, 73.02113, 48.36549, 33.746520000000004, 26.2379, 16.3578, 6.811292999999999, 6.63927, 6.639271000000001, 8.468093, 6.194273, 3.5912330000000003, 3.81486, 8.600739, 5.21889, 0.0], [0.0, 0.0, 29.77937, 54.97282, 144.7995, 207.4904, 165.3432, 171.4047, 174.9216, 100.2733, 61.46441, 50.19171, 26.08209, 17.18218, 8.468093, 6.63927, 6.334467, 6.334467, 5.6666870000000005, 4.272203, 0.0, 0.0, 0.0, 0.0], [0.0, 0.0, 31.409, 132.7418, 185.5796, 121.8299, 185.3841, 160.6566, 116.1478, 118.1078, 141.7946, 65.56351, 48.84066, 23.13864, 18.12932, 10.28531, 6.029662999999998, 6.044626999999998, 5.694764, 3.739085, 3.896037, 0.0, 0.0, 0.0], [0.0, 0.0, 19.58994, 42.30355, 96.26777, 187.1207, 179.6626, 221.3898, 154.2617, 142.1604, 148.5737, 67.17936999999999, 40.69044, 39.74512, 26.10166, 14.48469, 8.65873, 3.896037, 3.571392, 3.896037, 3.896037, 3.896037, 1.077756, 0.0], [0.001229679, 3.008948, 5.909858, 33.50574, 104.3341, 152.2165, 198.1988, 191.841, 228.7349, 168.1041, 144.2759, 110.7436, 57.65214, 42.63504, 27.91891, 15.410520000000002, 8.056102000000001, 3.90283, 3.879774, 3.936718, 3.968634, 0.1236256, 3.985531, -0.1835741], [0.0, 5.6261410000000005, 7.676255999999999, 63.16226, 45.99762, 79.56688, 227.311, 203.9287, 172.5618, 177.1462, 140.4554, 123.9905, 110.346, 65.12319000000001, 34.318870000000004, 24.5278, 9.561069, 3.3349910000000005, 5.590495, 5.487353, 5.9094989999999985, 5.868994, 5.833817, 3.5681769999999995]]}],                        {\"template\": {\"data\": {\"bar\": [{\"error_x\": {\"color\": \"#2a3f5f\"}, \"error_y\": {\"color\": \"#2a3f5f\"}, \"marker\": {\"line\": {\"color\": \"#E5ECF6\", \"width\": 0.5}}, \"type\": \"bar\"}], \"barpolar\": [{\"marker\": {\"line\": {\"color\": \"#E5ECF6\", \"width\": 0.5}}, \"type\": \"barpolar\"}], \"carpet\": [{\"aaxis\": {\"endlinecolor\": \"#2a3f5f\", \"gridcolor\": \"white\", \"linecolor\": \"white\", \"minorgridcolor\": \"white\", \"startlinecolor\": \"#2a3f5f\"}, \"baxis\": {\"endlinecolor\": \"#2a3f5f\", \"gridcolor\": \"white\", \"linecolor\": \"white\", \"minorgridcolor\": \"white\", \"startlinecolor\": \"#2a3f5f\"}, \"type\": \"carpet\"}], \"choropleth\": [{\"colorbar\": {\"outlinewidth\": 0, \"ticks\": \"\"}, \"type\": \"choropleth\"}], \"contour\": [{\"colorbar\": {\"outlinewidth\": 0, \"ticks\": \"\"}, \"colorscale\": [[0.0, \"#0d0887\"], [0.1111111111111111, \"#46039f\"], [0.2222222222222222, \"#7201a8\"], [0.3333333333333333, \"#9c179e\"], [0.4444444444444444, \"#bd3786\"], [0.5555555555555556, \"#d8576b\"], [0.6666666666666666, \"#ed7953\"], [0.7777777777777778, \"#fb9f3a\"], [0.8888888888888888, \"#fdca26\"], [1.0, \"#f0f921\"]], \"type\": \"contour\"}], \"contourcarpet\": [{\"colorbar\": {\"outlinewidth\": 0, \"ticks\": \"\"}, \"type\": \"contourcarpet\"}], \"heatmap\": [{\"colorbar\": {\"outlinewidth\": 0, \"ticks\": \"\"}, \"colorscale\": [[0.0, \"#0d0887\"], [0.1111111111111111, \"#46039f\"], [0.2222222222222222, \"#7201a8\"], [0.3333333333333333, \"#9c179e\"], [0.4444444444444444, \"#bd3786\"], [0.5555555555555556, \"#d8576b\"], [0.6666666666666666, \"#ed7953\"], [0.7777777777777778, \"#fb9f3a\"], [0.8888888888888888, \"#fdca26\"], [1.0, \"#f0f921\"]], \"type\": \"heatmap\"}], \"heatmapgl\": [{\"colorbar\": {\"outlinewidth\": 0, \"ticks\": \"\"}, \"colorscale\": [[0.0, \"#0d0887\"], [0.1111111111111111, \"#46039f\"], [0.2222222222222222, \"#7201a8\"], [0.3333333333333333, \"#9c179e\"], [0.4444444444444444, \"#bd3786\"], [0.5555555555555556, \"#d8576b\"], [0.6666666666666666, \"#ed7953\"], [0.7777777777777778, \"#fb9f3a\"], [0.8888888888888888, \"#fdca26\"], [1.0, \"#f0f921\"]], \"type\": \"heatmapgl\"}], \"histogram\": [{\"marker\": {\"colorbar\": {\"outlinewidth\": 0, \"ticks\": \"\"}}, \"type\": \"histogram\"}], \"histogram2d\": [{\"colorbar\": {\"outlinewidth\": 0, \"ticks\": \"\"}, \"colorscale\": [[0.0, \"#0d0887\"], [0.1111111111111111, \"#46039f\"], [0.2222222222222222, \"#7201a8\"], [0.3333333333333333, \"#9c179e\"], [0.4444444444444444, \"#bd3786\"], [0.5555555555555556, \"#d8576b\"], [0.6666666666666666, \"#ed7953\"], [0.7777777777777778, \"#fb9f3a\"], [0.8888888888888888, \"#fdca26\"], [1.0, \"#f0f921\"]], \"type\": \"histogram2d\"}], \"histogram2dcontour\": [{\"colorbar\": {\"outlinewidth\": 0, \"ticks\": \"\"}, \"colorscale\": [[0.0, \"#0d0887\"], [0.1111111111111111, \"#46039f\"], [0.2222222222222222, \"#7201a8\"], [0.3333333333333333, \"#9c179e\"], [0.4444444444444444, \"#bd3786\"], [0.5555555555555556, \"#d8576b\"], [0.6666666666666666, \"#ed7953\"], [0.7777777777777778, \"#fb9f3a\"], [0.8888888888888888, \"#fdca26\"], [1.0, \"#f0f921\"]], \"type\": \"histogram2dcontour\"}], \"mesh3d\": [{\"colorbar\": {\"outlinewidth\": 0, \"ticks\": \"\"}, \"type\": \"mesh3d\"}], \"parcoords\": [{\"line\": {\"colorbar\": {\"outlinewidth\": 0, \"ticks\": \"\"}}, \"type\": \"parcoords\"}], \"pie\": [{\"automargin\": true, \"type\": \"pie\"}], \"scatter\": [{\"marker\": {\"colorbar\": {\"outlinewidth\": 0, \"ticks\": \"\"}}, \"type\": \"scatter\"}], \"scatter3d\": [{\"line\": {\"colorbar\": {\"outlinewidth\": 0, \"ticks\": \"\"}}, \"marker\": {\"colorbar\": {\"outlinewidth\": 0, \"ticks\": \"\"}}, \"type\": \"scatter3d\"}], \"scattercarpet\": [{\"marker\": {\"colorbar\": {\"outlinewidth\": 0, \"ticks\": \"\"}}, \"type\": \"scattercarpet\"}], \"scattergeo\": [{\"marker\": {\"colorbar\": {\"outlinewidth\": 0, \"ticks\": \"\"}}, \"type\": \"scattergeo\"}], \"scattergl\": [{\"marker\": {\"colorbar\": {\"outlinewidth\": 0, \"ticks\": \"\"}}, \"type\": \"scattergl\"}], \"scattermapbox\": [{\"marker\": {\"colorbar\": {\"outlinewidth\": 0, \"ticks\": \"\"}}, \"type\": \"scattermapbox\"}], \"scatterpolar\": [{\"marker\": {\"colorbar\": {\"outlinewidth\": 0, \"ticks\": \"\"}}, \"type\": \"scatterpolar\"}], \"scatterpolargl\": [{\"marker\": {\"colorbar\": {\"outlinewidth\": 0, \"ticks\": \"\"}}, \"type\": \"scatterpolargl\"}], \"scatterternary\": [{\"marker\": {\"colorbar\": {\"outlinewidth\": 0, \"ticks\": \"\"}}, \"type\": \"scatterternary\"}], \"surface\": [{\"colorbar\": {\"outlinewidth\": 0, \"ticks\": \"\"}, \"colorscale\": [[0.0, \"#0d0887\"], [0.1111111111111111, \"#46039f\"], [0.2222222222222222, \"#7201a8\"], [0.3333333333333333, \"#9c179e\"], [0.4444444444444444, \"#bd3786\"], [0.5555555555555556, \"#d8576b\"], [0.6666666666666666, \"#ed7953\"], [0.7777777777777778, \"#fb9f3a\"], [0.8888888888888888, \"#fdca26\"], [1.0, \"#f0f921\"]], \"type\": \"surface\"}], \"table\": [{\"cells\": {\"fill\": {\"color\": \"#EBF0F8\"}, \"line\": {\"color\": \"white\"}}, \"header\": {\"fill\": {\"color\": \"#C8D4E3\"}, \"line\": {\"color\": \"white\"}}, \"type\": \"table\"}]}, \"layout\": {\"annotationdefaults\": {\"arrowcolor\": \"#2a3f5f\", \"arrowhead\": 0, \"arrowwidth\": 1}, \"autotypenumbers\": \"strict\", \"coloraxis\": {\"colorbar\": {\"outlinewidth\": 0, \"ticks\": \"\"}}, \"colorscale\": {\"diverging\": [[0, \"#8e0152\"], [0.1, \"#c51b7d\"], [0.2, \"#de77ae\"], [0.3, \"#f1b6da\"], [0.4, \"#fde0ef\"], [0.5, \"#f7f7f7\"], [0.6, \"#e6f5d0\"], [0.7, \"#b8e186\"], [0.8, \"#7fbc41\"], [0.9, \"#4d9221\"], [1, \"#276419\"]], \"sequential\": [[0.0, \"#0d0887\"], [0.1111111111111111, \"#46039f\"], [0.2222222222222222, \"#7201a8\"], [0.3333333333333333, \"#9c179e\"], [0.4444444444444444, \"#bd3786\"], [0.5555555555555556, \"#d8576b\"], [0.6666666666666666, \"#ed7953\"], [0.7777777777777778, \"#fb9f3a\"], [0.8888888888888888, \"#fdca26\"], [1.0, \"#f0f921\"]], \"sequentialminus\": [[0.0, \"#0d0887\"], [0.1111111111111111, \"#46039f\"], [0.2222222222222222, \"#7201a8\"], [0.3333333333333333, \"#9c179e\"], [0.4444444444444444, \"#bd3786\"], [0.5555555555555556, \"#d8576b\"], [0.6666666666666666, \"#ed7953\"], [0.7777777777777778, \"#fb9f3a\"], [0.8888888888888888, \"#fdca26\"], [1.0, \"#f0f921\"]]}, \"colorway\": [\"#636efa\", \"#EF553B\", \"#00cc96\", \"#ab63fa\", \"#FFA15A\", \"#19d3f3\", \"#FF6692\", \"#B6E880\", \"#FF97FF\", \"#FECB52\"], \"font\": {\"color\": \"#2a3f5f\"}, \"geo\": {\"bgcolor\": \"white\", \"lakecolor\": \"white\", \"landcolor\": \"#E5ECF6\", \"showlakes\": true, \"showland\": true, \"subunitcolor\": \"white\"}, \"hoverlabel\": {\"align\": \"left\"}, \"hovermode\": \"closest\", \"mapbox\": {\"style\": \"light\"}, \"paper_bgcolor\": \"white\", \"plot_bgcolor\": \"#E5ECF6\", \"polar\": {\"angularaxis\": {\"gridcolor\": \"white\", \"linecolor\": \"white\", \"ticks\": \"\"}, \"bgcolor\": \"#E5ECF6\", \"radialaxis\": {\"gridcolor\": \"white\", \"linecolor\": \"white\", \"ticks\": \"\"}}, \"scene\": {\"xaxis\": {\"backgroundcolor\": \"#E5ECF6\", \"gridcolor\": \"white\", \"gridwidth\": 2, \"linecolor\": \"white\", \"showbackground\": true, \"ticks\": \"\", \"zerolinecolor\": \"white\"}, \"yaxis\": {\"backgroundcolor\": \"#E5ECF6\", \"gridcolor\": \"white\", \"gridwidth\": 2, \"linecolor\": \"white\", \"showbackground\": true, \"ticks\": \"\", \"zerolinecolor\": \"white\"}, \"zaxis\": {\"backgroundcolor\": \"#E5ECF6\", \"gridcolor\": \"white\", \"gridwidth\": 2, \"linecolor\": \"white\", \"showbackground\": true, \"ticks\": \"\", \"zerolinecolor\": \"white\"}}, \"shapedefaults\": {\"line\": {\"color\": \"#2a3f5f\"}}, \"ternary\": {\"aaxis\": {\"gridcolor\": \"white\", \"linecolor\": \"white\", \"ticks\": \"\"}, \"baxis\": {\"gridcolor\": \"white\", \"linecolor\": \"white\", \"ticks\": \"\"}, \"bgcolor\": \"#E5ECF6\", \"caxis\": {\"gridcolor\": \"white\", \"linecolor\": \"white\", \"ticks\": \"\"}}, \"title\": {\"x\": 0.05}, \"xaxis\": {\"automargin\": true, \"gridcolor\": \"white\", \"linecolor\": \"white\", \"ticks\": \"\", \"title\": {\"standoff\": 15}, \"zerolinecolor\": \"white\", \"zerolinewidth\": 2}, \"yaxis\": {\"automargin\": true, \"gridcolor\": \"white\", \"linecolor\": \"white\", \"ticks\": \"\", \"title\": {\"standoff\": 15}, \"zerolinecolor\": \"white\", \"zerolinewidth\": 2}}}},                        {\"responsive\": true}                    ).then(function(){\n",
       "                            \n",
       "var gd = document.getElementById('58b83dd9-3e67-4c68-84c0-40dd1b844bbf');\n",
       "var x = new MutationObserver(function (mutations, observer) {{\n",
       "        var display = window.getComputedStyle(gd).display;\n",
       "        if (!display || display === 'none') {{\n",
       "            console.log([gd, 'removed!']);\n",
       "            Plotly.purge(gd);\n",
       "            observer.disconnect();\n",
       "        }}\n",
       "}});\n",
       "\n",
       "// Listen for the removal of the full notebook cells\n",
       "var notebookContainer = gd.closest('#notebook-container');\n",
       "if (notebookContainer) {{\n",
       "    x.observe(notebookContainer, {childList: true});\n",
       "}}\n",
       "\n",
       "// Listen for the clearing of the current output cell\n",
       "var outputEl = gd.closest('.output');\n",
       "if (outputEl) {{\n",
       "    x.observe(outputEl, {childList: true});\n",
       "}}\n",
       "\n",
       "                        })                };                });            </script>        </div>"
      ]
     },
     "metadata": {},
     "output_type": "display_data"
    }
   ],
   "source": [
    "fig = go.Figure(data=go.Surface(z=elev.values, colorscale='Earth'))\n",
    "fig.show()"
   ]
  }
 ],
 "metadata": {
  "colab": {
   "authorship_tag": "ABX9TyPg8b09UbgN3ky4GO/JPZP+",
   "collapsed_sections": [],
   "name": "03-03-3D.ipynb",
   "provenance": []
  },
  "kernelspec": {
   "display_name": "Python 3",
   "language": "python",
   "name": "python3"
  },
  "language_info": {
   "codemirror_mode": {
    "name": "ipython",
    "version": 3
   },
   "file_extension": ".py",
   "mimetype": "text/x-python",
   "name": "python",
   "nbconvert_exporter": "python",
   "pygments_lexer": "ipython3",
   "version": "3.8.5"
  }
 },
 "nbformat": 4,
 "nbformat_minor": 1
}
