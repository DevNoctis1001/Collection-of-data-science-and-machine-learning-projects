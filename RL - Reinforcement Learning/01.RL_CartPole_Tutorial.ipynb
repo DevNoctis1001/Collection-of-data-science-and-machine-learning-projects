{
 "cells": [
  {
   "cell_type": "markdown",
   "id": "42614ff1",
   "metadata": {},
   "source": [
    "[Deep Reinforcement Learning Tutorial for Python in 20 Minutes](https://www.youtube.com/watch?v=cO5g5qLrLSo&list=PLgNJO2hghbmjlE6cuKMws2ejC54BTAaWV&index=1)"
   ]
  },
  {
   "cell_type": "markdown",
   "id": "082b3b78",
   "metadata": {},
   "source": [
    "# 0. Install Dependencies"
   ]
  },
  {
   "cell_type": "code",
   "execution_count": 6,
   "id": "44ae197a",
   "metadata": {},
   "outputs": [],
   "source": [
    "# !pip install tensorflow\n",
    "# !pip install gym\n",
    "# !pip install keras\n",
    "# !pip install keras-rl2"
   ]
  },
  {
   "cell_type": "markdown",
   "id": "dc9de95e",
   "metadata": {},
   "source": [
    "# 1. Test Random Environment with Open AI Gym"
   ]
  },
  {
   "cell_type": "code",
   "execution_count": 7,
   "id": "30043e6b",
   "metadata": {},
   "outputs": [],
   "source": [
    "import gym\n",
    "import random"
   ]
  },
  {
   "cell_type": "code",
   "execution_count": 8,
   "id": "80819c39",
   "metadata": {},
   "outputs": [],
   "source": [
    "env_name = 'CartPole-v1'\n",
    "\n",
    "env = gym.make(env_name)"
   ]
  },
  {
   "cell_type": "markdown",
   "id": "3b450f96",
   "metadata": {},
   "source": [
    "  ### Observation Space\n",
    "    The observation is a `ndarray` with shape `(4,)` with the values corresponding to the following positions and velocities:\n",
    "    | Num | Observation           | Min                  | Max                |\n",
    "    |-----|-----------------------|----------------------|--------------------|\n",
    "    | 0   | Cart Position         | -4.8                 | 4.8                |\n",
    "    | 1   | Cart Velocity         | -Inf                 | Inf                |\n",
    "    | 2   | Pole Angle            | ~ -0.418 rad (-24°)  | ~ 0.418 rad (24°)  |\n",
    "    | 3   | Pole Angular Velocity | -Inf                 | Inf                |"
   ]
  },
  {
   "cell_type": "code",
   "execution_count": 9,
   "id": "6bc56832",
   "metadata": {},
   "outputs": [
    {
     "data": {
      "text/plain": [
       "(4,)"
      ]
     },
     "execution_count": 9,
     "metadata": {},
     "output_type": "execute_result"
    }
   ],
   "source": [
    "env.observation_space.shape"
   ]
  },
  {
   "cell_type": "markdown",
   "id": "e10138e2",
   "metadata": {},
   "source": [
    "   ### Action Space\n",
    "    The action is a `ndarray` with shape `(1,)` which can take values `{0, 1}` indicating the direction of the fixed force the cart is pushed with.\n",
    "    | Num | Action                 |\n",
    "    |-----|------------------------|\n",
    "    | 0   | Push cart to the left  |\n",
    "    | 1   | Push cart to the right |"
   ]
  },
  {
   "cell_type": "code",
   "execution_count": 10,
   "id": "2f4c4571",
   "metadata": {},
   "outputs": [
    {
     "data": {
      "text/plain": [
       "Discrete(2)"
      ]
     },
     "execution_count": 10,
     "metadata": {},
     "output_type": "execute_result"
    }
   ],
   "source": [
    "env.action_space"
   ]
  },
  {
   "cell_type": "code",
   "execution_count": 11,
   "id": "c4cb4909",
   "metadata": {},
   "outputs": [
    {
     "data": {
      "text/plain": [
       "2"
      ]
     },
     "execution_count": 11,
     "metadata": {},
     "output_type": "execute_result"
    }
   ],
   "source": [
    "env.action_space.n"
   ]
  },
  {
   "cell_type": "code",
   "execution_count": 12,
   "id": "eb0db88b",
   "metadata": {},
   "outputs": [],
   "source": [
    "# get the states and actions\n",
    "states = env.observation_space.shape[0]\n",
    "actions = env.action_space.n # for this one is left and right => 2 total actions"
   ]
  },
  {
   "cell_type": "code",
   "execution_count": 13,
   "id": "78b6c930",
   "metadata": {},
   "outputs": [
    {
     "name": "stdout",
     "output_type": "stream",
     "text": [
      "Episode: 1, Score: 41.0\n",
      "Episode: 2, Score: 13.0\n",
      "Episode: 3, Score: 26.0\n",
      "Episode: 4, Score: 12.0\n",
      "Episode: 5, Score: 25.0\n",
      "Episode: 6, Score: 27.0\n",
      "Episode: 7, Score: 10.0\n",
      "Episode: 8, Score: 45.0\n",
      "Episode: 9, Score: 24.0\n",
      "Episode: 10, Score: 26.0\n",
      "Episode: 11, Score: 35.0\n",
      "Episode: 12, Score: 36.0\n",
      "Episode: 13, Score: 21.0\n",
      "Episode: 14, Score: 18.0\n",
      "Episode: 15, Score: 58.0\n"
     ]
    }
   ],
   "source": [
    "episodes = 15\n",
    "\n",
    "for episode in range(1, episodes+1):\n",
    "    state = env.reset()\n",
    "    done = False\n",
    "    score = 0\n",
    "    \n",
    "    while not done:\n",
    "        env.render()\n",
    "        action = random.choice([0,1]) # left or right\n",
    "        n_state, reward, done, info = env.step(action)\n",
    "        score += reward\n",
    "        \n",
    "    print(f'Episode: {episode}, Score: {score}')"
   ]
  },
  {
   "cell_type": "code",
   "execution_count": 14,
   "id": "f59c6255",
   "metadata": {},
   "outputs": [],
   "source": [
    "env.close()"
   ]
  },
  {
   "cell_type": "markdown",
   "id": "6b110100",
   "metadata": {},
   "source": [
    "We can see that our maximum score is 58. That's where deep learning comes in to maximize the value."
   ]
  },
  {
   "cell_type": "markdown",
   "id": "984328b7",
   "metadata": {},
   "source": [
    "# 2. Create Deep Learning Model with Keras"
   ]
  },
  {
   "cell_type": "code",
   "execution_count": 18,
   "id": "7047b3d7",
   "metadata": {},
   "outputs": [],
   "source": [
    "import numpy as np\n",
    "from tensorflow.keras.models import Sequential\n",
    "from tensorflow.keras.layers import Dense, Flatten\n",
    "from tensorflow.keras.optimizers import Adam"
   ]
  },
  {
   "cell_type": "code",
   "execution_count": 19,
   "id": "8611fa2f",
   "metadata": {},
   "outputs": [],
   "source": [
    "def build_model(states, actions):\n",
    "    model = Sequential()\n",
    "    model.add(Flatten(input_shape=(1,states)))\n",
    "    model.add(Dense(units=24, activation='relu'))\n",
    "    model.add(Dense(units=24, activation='relu'))\n",
    "    model.add(Dense(units=actions, activation='linear'))\n",
    "    return model"
   ]
  },
  {
   "cell_type": "code",
   "execution_count": 25,
   "id": "514508ff",
   "metadata": {},
   "outputs": [],
   "source": [
    "# if the following error occurs, delete the model and rebuild it.\n",
    "# AttributeError: 'Sequential' object has no attribute '_compile_time_distribution_strategy'\n",
    "del model"
   ]
  },
  {
   "cell_type": "code",
   "execution_count": 26,
   "id": "c9207d82",
   "metadata": {},
   "outputs": [],
   "source": [
    "model = build_model(states, actions)"
   ]
  },
  {
   "cell_type": "code",
   "execution_count": 27,
   "id": "b5563417",
   "metadata": {},
   "outputs": [
    {
     "name": "stdout",
     "output_type": "stream",
     "text": [
      "Model: \"sequential_1\"\n",
      "_________________________________________________________________\n",
      " Layer (type)                Output Shape              Param #   \n",
      "=================================================================\n",
      " flatten_1 (Flatten)         (None, 4)                 0         \n",
      "                                                                 \n",
      " dense_3 (Dense)             (None, 24)                120       \n",
      "                                                                 \n",
      " dense_4 (Dense)             (None, 24)                600       \n",
      "                                                                 \n",
      " dense_5 (Dense)             (None, 2)                 50        \n",
      "                                                                 \n",
      "=================================================================\n",
      "Total params: 770\n",
      "Trainable params: 770\n",
      "Non-trainable params: 0\n",
      "_________________________________________________________________\n"
     ]
    }
   ],
   "source": [
    "model.summary()"
   ]
  },
  {
   "cell_type": "markdown",
   "id": "226e25fb",
   "metadata": {},
   "source": [
    "# 3. Build Agent with Keras-RL"
   ]
  },
  {
   "cell_type": "code",
   "execution_count": 28,
   "id": "ee645441",
   "metadata": {},
   "outputs": [],
   "source": [
    "from rl.agents import DQNAgent\n",
    "from rl.policy import BoltzmannQPolicy\n",
    "from rl.memory import SequentialMemory"
   ]
  },
  {
   "cell_type": "code",
   "execution_count": 29,
   "id": "df138f6e",
   "metadata": {},
   "outputs": [],
   "source": [
    "def build_agent(model, actions):\n",
    "    policy = BoltzmannQPolicy()\n",
    "    memory = SequentialMemory(limit=50000, window_length=1)\n",
    "    dqn = DQNAgent(model=model, policy=policy, memory=memory,\n",
    "                              nb_actions=actions, nb_steps_warmup=10, target_model_update=1e-2)\n",
    "    return dqn"
   ]
  },
  {
   "cell_type": "code",
   "execution_count": 30,
   "id": "554fad69",
   "metadata": {},
   "outputs": [
    {
     "name": "stdout",
     "output_type": "stream",
     "text": [
      "Training for 10000 steps ...\n",
      "Interval 1 (0 steps performed)\n",
      "\r",
      "    1/10000 [..............................] - ETA: 7:48 - reward: 1.0000"
     ]
    },
    {
     "name": "stderr",
     "output_type": "stream",
     "text": [
      "C:\\Users\\Phone Thiri Yadana\\.conda\\envs\\venv-rf\\lib\\site-packages\\keras\\engine\\training_v1.py:2079: UserWarning: `Model.state_updates` will be removed in a future version. This property should not be used in TensorFlow 2.0, as `updates` are applied automatically.\n",
      "  updates=self.state_updates,\n",
      "C:\\Users\\Phone Thiri Yadana\\.conda\\envs\\venv-rf\\lib\\site-packages\\rl\\memory.py:37: UserWarning: Not enough entries to sample without replacement. Consider increasing your warm-up phase to avoid oversampling!\n",
      "  warnings.warn('Not enough entries to sample without replacement. Consider increasing your warm-up phase to avoid oversampling!')\n"
     ]
    },
    {
     "name": "stdout",
     "output_type": "stream",
     "text": [
      "10000/10000 [==============================] - 87s 9ms/step - reward: 1.0000\n",
      "done, took 87.413 seconds\n"
     ]
    },
    {
     "data": {
      "text/plain": [
       "<keras.callbacks.History at 0x84693375c8>"
      ]
     },
     "execution_count": 30,
     "metadata": {},
     "output_type": "execute_result"
    }
   ],
   "source": [
    "dqn = build_agent(model, actions)\n",
    "dqn.compile(Adam(learning_rate=1e-3), metrics=['mae'])\n",
    "dqn.fit(env, nb_steps=10000, visualize=False, verbose=1)"
   ]
  },
  {
   "cell_type": "code",
   "execution_count": 31,
   "id": "810209a6",
   "metadata": {},
   "outputs": [
    {
     "name": "stdout",
     "output_type": "stream",
     "text": [
      "Testing for 10 episodes ...\n",
      "Episode 1: reward: 187.000, steps: 187\n",
      "Episode 2: reward: 187.000, steps: 187\n",
      "Episode 3: reward: 266.000, steps: 266\n",
      "Episode 4: reward: 202.000, steps: 202\n",
      "Episode 5: reward: 201.000, steps: 201\n",
      "Episode 6: reward: 190.000, steps: 190\n",
      "Episode 7: reward: 174.000, steps: 174\n",
      "Episode 8: reward: 283.000, steps: 283\n",
      "Episode 9: reward: 257.000, steps: 257\n",
      "Episode 10: reward: 185.000, steps: 185\n",
      "213.2\n"
     ]
    }
   ],
   "source": [
    "scores = dqn.test(env, nb_episodes=10, visualize=False)\n",
    "print(np.mean(scores.history['episode_reward']))"
   ]
  },
  {
   "cell_type": "code",
   "execution_count": 32,
   "id": "dcd1f235",
   "metadata": {},
   "outputs": [
    {
     "name": "stdout",
     "output_type": "stream",
     "text": [
      "Testing for 10 episodes ...\n",
      "Episode 1: reward: 190.000, steps: 190\n",
      "Episode 2: reward: 184.000, steps: 184\n",
      "Episode 3: reward: 205.000, steps: 205\n",
      "Episode 4: reward: 180.000, steps: 180\n",
      "Episode 5: reward: 176.000, steps: 176\n",
      "Episode 6: reward: 174.000, steps: 174\n",
      "Episode 7: reward: 243.000, steps: 243\n",
      "Episode 8: reward: 213.000, steps: 213\n",
      "Episode 9: reward: 168.000, steps: 168\n",
      "Episode 10: reward: 216.000, steps: 216\n"
     ]
    }
   ],
   "source": [
    "_ = dqn.test(env, nb_episodes=10, visualize=True)"
   ]
  },
  {
   "cell_type": "code",
   "execution_count": 33,
   "id": "359b56a3",
   "metadata": {},
   "outputs": [],
   "source": [
    "env.close()"
   ]
  },
  {
   "cell_type": "markdown",
   "id": "31de1f74",
   "metadata": {},
   "source": [
    "# 4. Reloading Agent From Memory"
   ]
  },
  {
   "cell_type": "code",
   "execution_count": 34,
   "id": "8e6e9d44",
   "metadata": {},
   "outputs": [],
   "source": [
    "dqn.save_weights('./Models/dqn_weights.h5f', overwrite=True)"
   ]
  },
  {
   "cell_type": "code",
   "execution_count": 35,
   "id": "71d04170",
   "metadata": {},
   "outputs": [],
   "source": [
    "# delete the current ones\n",
    "del model\n",
    "del dqn\n",
    "del env"
   ]
  },
  {
   "cell_type": "code",
   "execution_count": 38,
   "id": "1bb40de9",
   "metadata": {},
   "outputs": [],
   "source": [
    "# recreate the env, model, dqn\n",
    "env = gym.make(env_name)\n",
    "states = env.observation_space.shape[0]\n",
    "actions = env.action_space.n\n",
    "model = build_model(states, actions)\n",
    "dqn = build_agent(model, actions )\n",
    "dqn.compile(Adam(lr=1e-3), metrics=['mae'])"
   ]
  },
  {
   "cell_type": "code",
   "execution_count": 40,
   "id": "cd7926e0",
   "metadata": {},
   "outputs": [],
   "source": [
    "dqn.load_weights('./Models/dqn_weights.h5f')"
   ]
  },
  {
   "cell_type": "code",
   "execution_count": 41,
   "id": "de9969ce",
   "metadata": {},
   "outputs": [
    {
     "name": "stdout",
     "output_type": "stream",
     "text": [
      "Testing for 5 episodes ...\n",
      "Episode 1: reward: 185.000, steps: 185\n",
      "Episode 2: reward: 206.000, steps: 206\n",
      "Episode 3: reward: 186.000, steps: 186\n",
      "Episode 4: reward: 179.000, steps: 179\n",
      "Episode 5: reward: 189.000, steps: 189\n"
     ]
    },
    {
     "data": {
      "text/plain": [
       "<keras.callbacks.History at 0x846a92c148>"
      ]
     },
     "execution_count": 41,
     "metadata": {},
     "output_type": "execute_result"
    }
   ],
   "source": [
    "_ = dqn.test(env=env, nb_episodes=5, visualize=True)"
   ]
  },
  {
   "cell_type": "code",
   "execution_count": 42,
   "id": "3ace0407",
   "metadata": {},
   "outputs": [],
   "source": [
    "env.close()"
   ]
  }
 ],
 "metadata": {
  "kernelspec": {
   "display_name": "venv-rf",
   "language": "python",
   "name": "venv-rf"
  },
  "language_info": {
   "codemirror_mode": {
    "name": "ipython",
    "version": 3
   },
   "file_extension": ".py",
   "mimetype": "text/x-python",
   "name": "python",
   "nbconvert_exporter": "python",
   "pygments_lexer": "ipython3",
   "version": "3.7.13"
  }
 },
 "nbformat": 4,
 "nbformat_minor": 5
}
