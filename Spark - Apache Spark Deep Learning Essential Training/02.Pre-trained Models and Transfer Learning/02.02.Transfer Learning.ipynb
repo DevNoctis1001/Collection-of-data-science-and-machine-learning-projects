{
 "cells": [
  {
   "cell_type": "markdown",
   "metadata": {
    "application/vnd.databricks.v1+cell": {
     "inputWidgets": {},
     "nuid": "8359c100-8af8-48af-8e2f-4db44b66dd38",
     "showTitle": false,
     "title": ""
    }
   },
   "source": [
    "# Transfer learning"
   ]
  },
  {
   "cell_type": "code",
   "execution_count": 0,
   "metadata": {
    "application/vnd.databricks.v1+cell": {
     "inputWidgets": {},
     "nuid": "21ec6370-f9ab-4112-884a-8afaaa678bfb",
     "showTitle": false,
     "title": ""
    }
   },
   "outputs": [
    {
     "data": {
      "text/html": [
       "<style scoped>\n",
       "  .ansiout {\n",
       "    display: block;\n",
       "    unicode-bidi: embed;\n",
       "    white-space: pre-wrap;\n",
       "    word-wrap: break-word;\n",
       "    word-break: break-all;\n",
       "    font-family: \"Source Code Pro\", \"Menlo\", monospace;;\n",
       "    font-size: 13px;\n",
       "    color: #555;\n",
       "    margin-left: 4px;\n",
       "    line-height: 19px;\n",
       "  }\n",
       "</style>\n",
       "<div class=\"ansiout\"></div>"
      ]
     },
     "metadata": {
      "application/vnd.databricks.v1+output": {
       "addedWidgets": {},
       "arguments": {},
       "data": "<div class=\"ansiout\"></div>",
       "datasetInfos": [],
       "removedWidgets": [],
       "type": "html"
      }
     },
     "output_type": "display_data"
    }
   ],
   "source": [
    "import tensorflow\n",
    "import keras\n",
    "import h5py"
   ]
  },
  {
   "cell_type": "markdown",
   "metadata": {
    "application/vnd.databricks.v1+cell": {
     "inputWidgets": {},
     "nuid": "b4f01377-6939-46af-8133-a39588243da4",
     "showTitle": false,
     "title": ""
    }
   },
   "source": [
    "## Download the flower dataset"
   ]
  },
  {
   "cell_type": "code",
   "execution_count": 0,
   "metadata": {
    "application/vnd.databricks.v1+cell": {
     "inputWidgets": {},
     "nuid": "3728c16a-60d2-4423-a91e-051e9f7dbd16",
     "showTitle": false,
     "title": ""
    }
   },
   "outputs": [
    {
     "data": {
      "text/html": [
       "<style scoped>\n",
       "  .ansiout {\n",
       "    display: block;\n",
       "    unicode-bidi: embed;\n",
       "    white-space: pre-wrap;\n",
       "    word-wrap: break-word;\n",
       "    word-break: break-all;\n",
       "    font-family: \"Source Code Pro\", \"Menlo\", monospace;;\n",
       "    font-size: 13px;\n",
       "    color: #555;\n",
       "    margin-left: 4px;\n",
       "    line-height: 19px;\n",
       "  }\n",
       "</style>\n",
       "<div class=\"ansiout\">  % Total    % Received % Xferd  Average Speed   Time    Time     Time  Current\n",
       "                                 Dload  Upload   Total   Spent    Left  Speed\n",
       "\n",
       "  0     0    0     0    0     0      0      0 --:--:-- --:--:-- --:--:--     0\n",
       "  0  218M    0  495k    0     0   776k      0  0:04:47 --:--:--  0:04:47  775k\n",
       "  2  218M    2 4530k    0     0  2766k      0  0:01:20  0:00:01  0:01:19 2765k\n",
       "  3  218M    3 8845k    0     0  3353k      0  0:01:06  0:00:02  0:01:04 3352k\n",
       " 14  218M   14 31.7M    0     0  8929k      0  0:00:25  0:00:03  0:00:22 8929k\n",
       " 36  218M   36 80.0M    0     0  16.8M      0  0:00:12  0:00:04  0:00:08 16.8M\n",
       " 68  218M   68  149M    0     0  26.5M      0  0:00:08  0:00:05  0:00:03 29.7M\n",
       " 92  218M   92  201M    0     0  30.3M      0  0:00:07  0:00:06  0:00:01 39.4M\n",
       "100  218M  100  218M    0     0  31.1M      0  0:00:06  0:00:06 --:--:-- 48.0M\n",
       "LICENSE.txt\n",
       "daisy\n",
       "dandelion\n",
       "roses\n",
       "sunflowers\n",
       "tulips\n",
       "/databricks/driver/flower_photos\n",
       "</div>"
      ]
     },
     "metadata": {
      "application/vnd.databricks.v1+output": {
       "addedWidgets": {},
       "arguments": {},
       "data": "<div class=\"ansiout\">  % Total    % Received % Xferd  Average Speed   Time    Time     Time  Current\n                                 Dload  Upload   Total   Spent    Left  Speed\n\n  0     0    0     0    0     0      0      0 --:--:-- --:--:-- --:--:--     0\n  0  218M    0  495k    0     0   776k      0  0:04:47 --:--:--  0:04:47  775k\n  2  218M    2 4530k    0     0  2766k      0  0:01:20  0:00:01  0:01:19 2765k\n  3  218M    3 8845k    0     0  3353k      0  0:01:06  0:00:02  0:01:04 3352k\n 14  218M   14 31.7M    0     0  8929k      0  0:00:25  0:00:03  0:00:22 8929k\n 36  218M   36 80.0M    0     0  16.8M      0  0:00:12  0:00:04  0:00:08 16.8M\n 68  218M   68  149M    0     0  26.5M      0  0:00:08  0:00:05  0:00:03 29.7M\n 92  218M   92  201M    0     0  30.3M      0  0:00:07  0:00:06  0:00:01 39.4M\n100  218M  100  218M    0     0  31.1M      0  0:00:06  0:00:06 --:--:-- 48.0M\nLICENSE.txt\ndaisy\ndandelion\nroses\nsunflowers\ntulips\n/databricks/driver/flower_photos\n</div>",
       "datasetInfos": [],
       "removedWidgets": [],
       "type": "html"
      }
     },
     "output_type": "display_data"
    }
   ],
   "source": [
    "%sh\n",
    "curl -O http://download.tensorflow.org/example_images/flower_photos.tgz\n",
    "tar xzf flower_photos.tgz &>/dev/null\n",
    "cd flower_photos\n",
    "ls\n",
    "pwd"
   ]
  },
  {
   "cell_type": "code",
   "execution_count": 0,
   "metadata": {
    "application/vnd.databricks.v1+cell": {
     "inputWidgets": {},
     "nuid": "9e7d76c8-cb8b-4dcc-b10d-b842bb854ecc",
     "showTitle": false,
     "title": ""
    }
   },
   "outputs": [
    {
     "data": {
      "text/html": [
       "<style scoped>\n",
       "  .ansiout {\n",
       "    display: block;\n",
       "    unicode-bidi: embed;\n",
       "    white-space: pre-wrap;\n",
       "    word-wrap: break-word;\n",
       "    word-break: break-all;\n",
       "    font-family: \"Source Code Pro\", \"Menlo\", monospace;;\n",
       "    font-size: 13px;\n",
       "    color: #555;\n",
       "    margin-left: 4px;\n",
       "    line-height: 19px;\n",
       "  }\n",
       "</style>\n",
       "<div class=\"ansiout\"></div>"
      ]
     },
     "metadata": {
      "application/vnd.databricks.v1+output": {
       "addedWidgets": {},
       "arguments": {},
       "data": "<div class=\"ansiout\"></div>",
       "datasetInfos": [],
       "removedWidgets": [],
       "type": "html"
      }
     },
     "output_type": "display_data"
    }
   ],
   "source": [
    "img_dir = 'file:/databricks/driver/flower_photos'"
   ]
  },
  {
   "cell_type": "markdown",
   "metadata": {
    "application/vnd.databricks.v1+cell": {
     "inputWidgets": {},
     "nuid": "bb25ca4a-6589-423b-a9a3-7dde28938bef",
     "showTitle": false,
     "title": ""
    }
   },
   "source": [
    "## Load images into Dataframe"
   ]
  },
  {
   "cell_type": "code",
   "execution_count": 0,
   "metadata": {
    "application/vnd.databricks.v1+cell": {
     "inputWidgets": {},
     "nuid": "8af47edf-2f6f-45c4-b875-ffe219b8b179",
     "showTitle": false,
     "title": ""
    }
   },
   "outputs": [
    {
     "data": {
      "text/html": [
       "<style scoped>\n",
       "  .ansiout {\n",
       "    display: block;\n",
       "    unicode-bidi: embed;\n",
       "    white-space: pre-wrap;\n",
       "    word-wrap: break-word;\n",
       "    word-break: break-all;\n",
       "    font-family: \"Source Code Pro\", \"Menlo\", monospace;;\n",
       "    font-size: 13px;\n",
       "    color: #555;\n",
       "    margin-left: 4px;\n",
       "    line-height: 19px;\n",
       "  }\n",
       "</style>\n",
       "<div class=\"ansiout\">+--------------------+\n",
       "               image|\n",
       "+--------------------+\n",
       "[file:/databricks...|\n",
       "+--------------------+\n",
       "\n",
       "root\n",
       "-- image: struct (nullable = true)\n",
       "    |-- origin: string (nullable = true)\n",
       "    |-- height: integer (nullable = true)\n",
       "    |-- width: integer (nullable = true)\n",
       "    |-- nChannels: integer (nullable = true)\n",
       "    |-- mode: integer (nullable = true)\n",
       "    |-- data: binary (nullable = true)\n",
       "\n",
       "</div>"
      ]
     },
     "metadata": {
      "application/vnd.databricks.v1+output": {
       "addedWidgets": {},
       "arguments": {},
       "data": "<div class=\"ansiout\">+--------------------+\n|               image|\n+--------------------+\n|[file:/databricks...|\n+--------------------+\n\nroot\n |-- image: struct (nullable = true)\n |    |-- origin: string (nullable = true)\n |    |-- height: integer (nullable = true)\n |    |-- width: integer (nullable = true)\n |    |-- nChannels: integer (nullable = true)\n |    |-- mode: integer (nullable = true)\n |    |-- data: binary (nullable = true)\n\n</div>",
       "datasetInfos": [
        {
         "name": "df",
         "schema": {
          "fields": [
           {
            "metadata": {},
            "name": "image",
            "nullable": true,
            "type": {
             "fields": [
              {
               "metadata": {},
               "name": "origin",
               "nullable": true,
               "type": "string"
              },
              {
               "metadata": {},
               "name": "height",
               "nullable": true,
               "type": "integer"
              },
              {
               "metadata": {},
               "name": "width",
               "nullable": true,
               "type": "integer"
              },
              {
               "metadata": {},
               "name": "nChannels",
               "nullable": true,
               "type": "integer"
              },
              {
               "metadata": {},
               "name": "mode",
               "nullable": true,
               "type": "integer"
              },
              {
               "metadata": {},
               "name": "data",
               "nullable": true,
               "type": "binary"
              }
             ],
             "type": "struct"
            }
           }
          ],
          "type": "struct"
         },
         "tableIdentifier": null,
         "typeStr": "pyspark.sql.dataframe.DataFrame"
        }
       ],
       "removedWidgets": [],
       "type": "html"
      }
     },
     "output_type": "display_data"
    }
   ],
   "source": [
    "df = spark.read.format('image').load(img_dir)\n",
    "df.show()\n",
    "df.printSchema()"
   ]
  },
  {
   "cell_type": "markdown",
   "metadata": {
    "application/vnd.databricks.v1+cell": {
     "inputWidgets": {},
     "nuid": "53174843-c569-4f9b-9213-101aecebc977",
     "showTitle": false,
     "title": ""
    }
   },
   "source": [
    "## Create the train and test class"
   ]
  },
  {
   "cell_type": "code",
   "execution_count": 0,
   "metadata": {
    "application/vnd.databricks.v1+cell": {
     "inputWidgets": {},
     "nuid": "bbce02b9-c24e-402f-ba73-4cbc97fb172b",
     "showTitle": false,
     "title": ""
    }
   },
   "outputs": [
    {
     "data": {
      "text/html": [
       "<style scoped>\n",
       "  .ansiout {\n",
       "    display: block;\n",
       "    unicode-bidi: embed;\n",
       "    white-space: pre-wrap;\n",
       "    word-wrap: break-word;\n",
       "    word-break: break-all;\n",
       "    font-family: \"Source Code Pro\", \"Menlo\", monospace;;\n",
       "    font-size: 13px;\n",
       "    color: #555;\n",
       "    margin-left: 4px;\n",
       "    line-height: 19px;\n",
       "  }\n",
       "</style>\n",
       "<div class=\"ansiout\"></div>"
      ]
     },
     "metadata": {
      "application/vnd.databricks.v1+output": {
       "addedWidgets": {},
       "arguments": {},
       "data": "<div class=\"ansiout\"></div>",
       "datasetInfos": [],
       "removedWidgets": [],
       "type": "html"
      }
     },
     "output_type": "display_data"
    }
   ],
   "source": [
    "from pyspark.sql.functions import lit"
   ]
  },
  {
   "cell_type": "code",
   "execution_count": 0,
   "metadata": {
    "application/vnd.databricks.v1+cell": {
     "inputWidgets": {},
     "nuid": "fdeca9ae-3fa6-4ae8-b310-8bc5c40aaa3e",
     "showTitle": false,
     "title": ""
    }
   },
   "outputs": [
    {
     "data": {
      "text/html": [
       "<style scoped>\n",
       "  .ansiout {\n",
       "    display: block;\n",
       "    unicode-bidi: embed;\n",
       "    white-space: pre-wrap;\n",
       "    word-wrap: break-word;\n",
       "    word-break: break-all;\n",
       "    font-family: \"Source Code Pro\", \"Menlo\", monospace;;\n",
       "    font-size: 13px;\n",
       "    color: #555;\n",
       "    margin-left: 4px;\n",
       "    line-height: 19px;\n",
       "  }\n",
       "</style>\n",
       "<div class=\"ansiout\"></div>"
      ]
     },
     "metadata": {
      "application/vnd.databricks.v1+output": {
       "addedWidgets": {},
       "arguments": {},
       "data": "<div class=\"ansiout\"></div>",
       "datasetInfos": [
        {
         "name": "tulips_df",
         "schema": {
          "fields": [
           {
            "metadata": {},
            "name": "image",
            "nullable": true,
            "type": {
             "fields": [
              {
               "metadata": {},
               "name": "origin",
               "nullable": true,
               "type": "string"
              },
              {
               "metadata": {},
               "name": "height",
               "nullable": true,
               "type": "integer"
              },
              {
               "metadata": {},
               "name": "width",
               "nullable": true,
               "type": "integer"
              },
              {
               "metadata": {},
               "name": "nChannels",
               "nullable": true,
               "type": "integer"
              },
              {
               "metadata": {},
               "name": "mode",
               "nullable": true,
               "type": "integer"
              },
              {
               "metadata": {},
               "name": "data",
               "nullable": true,
               "type": "binary"
              }
             ],
             "type": "struct"
            }
           },
           {
            "metadata": {},
            "name": "label",
            "nullable": false,
            "type": "integer"
           }
          ],
          "type": "struct"
         },
         "tableIdentifier": null,
         "typeStr": "pyspark.sql.dataframe.DataFrame"
        },
        {
         "name": "sunflower_df",
         "schema": {
          "fields": [
           {
            "metadata": {},
            "name": "image",
            "nullable": true,
            "type": {
             "fields": [
              {
               "metadata": {},
               "name": "origin",
               "nullable": true,
               "type": "string"
              },
              {
               "metadata": {},
               "name": "height",
               "nullable": true,
               "type": "integer"
              },
              {
               "metadata": {},
               "name": "width",
               "nullable": true,
               "type": "integer"
              },
              {
               "metadata": {},
               "name": "nChannels",
               "nullable": true,
               "type": "integer"
              },
              {
               "metadata": {},
               "name": "mode",
               "nullable": true,
               "type": "integer"
              },
              {
               "metadata": {},
               "name": "data",
               "nullable": true,
               "type": "binary"
              }
             ],
             "type": "struct"
            }
           },
           {
            "metadata": {},
            "name": "label",
            "nullable": false,
            "type": "integer"
           }
          ],
          "type": "struct"
         },
         "tableIdentifier": null,
         "typeStr": "pyspark.sql.dataframe.DataFrame"
        }
       ],
       "removedWidgets": [],
       "type": "html"
      }
     },
     "output_type": "display_data"
    }
   ],
   "source": [
    "# create Tulips and Sunflowers labels datasets, literally label each value as 0 (tulips) and 1 (sunflower) accordingly.\n",
    "\n",
    "tulips_df = spark.read.format('image').load(img_dir + '/tulips').withColumn('label', lit(0))\n",
    "sunflower_df = spark.read.format('image').load(img_dir + '/sunflowers').withColumn('label', lit(1))"
   ]
  },
  {
   "cell_type": "code",
   "execution_count": 0,
   "metadata": {
    "application/vnd.databricks.v1+cell": {
     "inputWidgets": {},
     "nuid": "1bf902c9-276b-43a4-b891-628cbdba1653",
     "showTitle": false,
     "title": ""
    }
   },
   "outputs": [
    {
     "data": {
      "text/html": [
       "<style scoped>\n",
       "  .ansiout {\n",
       "    display: block;\n",
       "    unicode-bidi: embed;\n",
       "    white-space: pre-wrap;\n",
       "    word-wrap: break-word;\n",
       "    word-break: break-all;\n",
       "    font-family: \"Source Code Pro\", \"Menlo\", monospace;;\n",
       "    font-size: 13px;\n",
       "    color: #555;\n",
       "    margin-left: 4px;\n",
       "    line-height: 19px;\n",
       "  }\n",
       "</style>\n",
       "<div class=\"ansiout\"></div>"
      ]
     },
     "metadata": {
      "application/vnd.databricks.v1+output": {
       "addedWidgets": {},
       "arguments": {},
       "data": "<div class=\"ansiout\"></div>",
       "datasetInfos": [
        {
         "name": "tulips_train",
         "schema": {
          "fields": [
           {
            "metadata": {},
            "name": "image",
            "nullable": true,
            "type": {
             "fields": [
              {
               "metadata": {},
               "name": "origin",
               "nullable": true,
               "type": "string"
              },
              {
               "metadata": {},
               "name": "height",
               "nullable": true,
               "type": "integer"
              },
              {
               "metadata": {},
               "name": "width",
               "nullable": true,
               "type": "integer"
              },
              {
               "metadata": {},
               "name": "nChannels",
               "nullable": true,
               "type": "integer"
              },
              {
               "metadata": {},
               "name": "mode",
               "nullable": true,
               "type": "integer"
              },
              {
               "metadata": {},
               "name": "data",
               "nullable": true,
               "type": "binary"
              }
             ],
             "type": "struct"
            }
           },
           {
            "metadata": {},
            "name": "label",
            "nullable": false,
            "type": "integer"
           }
          ],
          "type": "struct"
         },
         "tableIdentifier": null,
         "typeStr": "pyspark.sql.dataframe.DataFrame"
        },
        {
         "name": "tulips_test",
         "schema": {
          "fields": [
           {
            "metadata": {},
            "name": "image",
            "nullable": true,
            "type": {
             "fields": [
              {
               "metadata": {},
               "name": "origin",
               "nullable": true,
               "type": "string"
              },
              {
               "metadata": {},
               "name": "height",
               "nullable": true,
               "type": "integer"
              },
              {
               "metadata": {},
               "name": "width",
               "nullable": true,
               "type": "integer"
              },
              {
               "metadata": {},
               "name": "nChannels",
               "nullable": true,
               "type": "integer"
              },
              {
               "metadata": {},
               "name": "mode",
               "nullable": true,
               "type": "integer"
              },
              {
               "metadata": {},
               "name": "data",
               "nullable": true,
               "type": "binary"
              }
             ],
             "type": "struct"
            }
           },
           {
            "metadata": {},
            "name": "label",
            "nullable": false,
            "type": "integer"
           }
          ],
          "type": "struct"
         },
         "tableIdentifier": null,
         "typeStr": "pyspark.sql.dataframe.DataFrame"
        },
        {
         "name": "sunflower_train",
         "schema": {
          "fields": [
           {
            "metadata": {},
            "name": "image",
            "nullable": true,
            "type": {
             "fields": [
              {
               "metadata": {},
               "name": "origin",
               "nullable": true,
               "type": "string"
              },
              {
               "metadata": {},
               "name": "height",
               "nullable": true,
               "type": "integer"
              },
              {
               "metadata": {},
               "name": "width",
               "nullable": true,
               "type": "integer"
              },
              {
               "metadata": {},
               "name": "nChannels",
               "nullable": true,
               "type": "integer"
              },
              {
               "metadata": {},
               "name": "mode",
               "nullable": true,
               "type": "integer"
              },
              {
               "metadata": {},
               "name": "data",
               "nullable": true,
               "type": "binary"
              }
             ],
             "type": "struct"
            }
           },
           {
            "metadata": {},
            "name": "label",
            "nullable": false,
            "type": "integer"
           }
          ],
          "type": "struct"
         },
         "tableIdentifier": null,
         "typeStr": "pyspark.sql.dataframe.DataFrame"
        },
        {
         "name": "sunflower_test",
         "schema": {
          "fields": [
           {
            "metadata": {},
            "name": "image",
            "nullable": true,
            "type": {
             "fields": [
              {
               "metadata": {},
               "name": "origin",
               "nullable": true,
               "type": "string"
              },
              {
               "metadata": {},
               "name": "height",
               "nullable": true,
               "type": "integer"
              },
              {
               "metadata": {},
               "name": "width",
               "nullable": true,
               "type": "integer"
              },
              {
               "metadata": {},
               "name": "nChannels",
               "nullable": true,
               "type": "integer"
              },
              {
               "metadata": {},
               "name": "mode",
               "nullable": true,
               "type": "integer"
              },
              {
               "metadata": {},
               "name": "data",
               "nullable": true,
               "type": "binary"
              }
             ],
             "type": "struct"
            }
           },
           {
            "metadata": {},
            "name": "label",
            "nullable": false,
            "type": "integer"
           }
          ],
          "type": "struct"
         },
         "tableIdentifier": null,
         "typeStr": "pyspark.sql.dataframe.DataFrame"
        },
        {
         "name": "train_df",
         "schema": {
          "fields": [
           {
            "metadata": {},
            "name": "image",
            "nullable": true,
            "type": {
             "fields": [
              {
               "metadata": {},
               "name": "origin",
               "nullable": true,
               "type": "string"
              },
              {
               "metadata": {},
               "name": "height",
               "nullable": true,
               "type": "integer"
              },
              {
               "metadata": {},
               "name": "width",
               "nullable": true,
               "type": "integer"
              },
              {
               "metadata": {},
               "name": "nChannels",
               "nullable": true,
               "type": "integer"
              },
              {
               "metadata": {},
               "name": "mode",
               "nullable": true,
               "type": "integer"
              },
              {
               "metadata": {},
               "name": "data",
               "nullable": true,
               "type": "binary"
              }
             ],
             "type": "struct"
            }
           },
           {
            "metadata": {},
            "name": "label",
            "nullable": false,
            "type": "integer"
           }
          ],
          "type": "struct"
         },
         "tableIdentifier": null,
         "typeStr": "pyspark.sql.dataframe.DataFrame"
        },
        {
         "name": "test_df",
         "schema": {
          "fields": [
           {
            "metadata": {},
            "name": "image",
            "nullable": true,
            "type": {
             "fields": [
              {
               "metadata": {},
               "name": "origin",
               "nullable": true,
               "type": "string"
              },
              {
               "metadata": {},
               "name": "height",
               "nullable": true,
               "type": "integer"
              },
              {
               "metadata": {},
               "name": "width",
               "nullable": true,
               "type": "integer"
              },
              {
               "metadata": {},
               "name": "nChannels",
               "nullable": true,
               "type": "integer"
              },
              {
               "metadata": {},
               "name": "mode",
               "nullable": true,
               "type": "integer"
              },
              {
               "metadata": {},
               "name": "data",
               "nullable": true,
               "type": "binary"
              }
             ],
             "type": "struct"
            }
           },
           {
            "metadata": {},
            "name": "label",
            "nullable": false,
            "type": "integer"
           }
          ],
          "type": "struct"
         },
         "tableIdentifier": null,
         "typeStr": "pyspark.sql.dataframe.DataFrame"
        }
       ],
       "removedWidgets": [],
       "type": "html"
      }
     },
     "output_type": "display_data"
    }
   ],
   "source": [
    "# split train, test set\n",
    "# tulips_train, tulips_test, _ = tulips_df.randomSplit([0.08, 0.08, 0.84])\n",
    "# sunflower_train, sunflower_test, _ = sunflower_df.randomSplit([0.08, 0.08, 0.84])\n",
    "\n",
    "tulips_train, tulips_test = tulips_df.randomSplit([0.8, 0.2], 42)\n",
    "sunflower_train, sunflower_test = sunflower_df.randomSplit([0.8, 0.2], 42)\n",
    "\n",
    "# combine those 2 flower types together again as whole train, test datasets\n",
    "train_df = tulips_train.union(sunflower_train)\n",
    "test_df = tulips_test.union(sunflower_test)\n",
    "\n",
    "# as partition is quite expensive, we will re-partition to smaller block\n",
    "train_df = train_df.repartition(100)\n",
    "test_df = test_df.repartition(100)"
   ]
  },
  {
   "cell_type": "markdown",
   "metadata": {
    "application/vnd.databricks.v1+cell": {
     "inputWidgets": {},
     "nuid": "274d95bf-40db-479e-a667-0bbc35abcf97",
     "showTitle": false,
     "title": ""
    }
   },
   "source": [
    "## Create the custom classifier model, using pipeline"
   ]
  },
  {
   "cell_type": "code",
   "execution_count": 0,
   "metadata": {
    "application/vnd.databricks.v1+cell": {
     "inputWidgets": {},
     "nuid": "74705369-a14e-45ad-be9a-3ee23758895d",
     "showTitle": false,
     "title": ""
    }
   },
   "outputs": [
    {
     "data": {
      "text/html": [
       "<style scoped>\n",
       "  .ansiout {\n",
       "    display: block;\n",
       "    unicode-bidi: embed;\n",
       "    white-space: pre-wrap;\n",
       "    word-wrap: break-word;\n",
       "    word-break: break-all;\n",
       "    font-family: \"Source Code Pro\", \"Menlo\", monospace;;\n",
       "    font-size: 13px;\n",
       "    color: #555;\n",
       "    margin-left: 4px;\n",
       "    line-height: 19px;\n",
       "  }\n",
       "</style>\n",
       "<div class=\"ansiout\"></div>"
      ]
     },
     "metadata": {
      "application/vnd.databricks.v1+output": {
       "addedWidgets": {},
       "arguments": {},
       "data": "<div class=\"ansiout\"></div>",
       "datasetInfos": [],
       "removedWidgets": [],
       "type": "html"
      }
     },
     "output_type": "display_data"
    }
   ],
   "source": [
    "from pyspark.ml.classification import LogisticRegression\n",
    "from pyspark.ml import Pipeline\n",
    "from sparkdl import DeepImageFeaturizer"
   ]
  },
  {
   "cell_type": "code",
   "execution_count": 0,
   "metadata": {
    "application/vnd.databricks.v1+cell": {
     "inputWidgets": {},
     "nuid": "e56ae9b1-dd90-454b-914c-335363cb7437",
     "showTitle": false,
     "title": ""
    }
   },
   "outputs": [
    {
     "data": {
      "text/html": [
       "<style scoped>\n",
       "  .ansiout {\n",
       "    display: block;\n",
       "    unicode-bidi: embed;\n",
       "    white-space: pre-wrap;\n",
       "    word-wrap: break-word;\n",
       "    word-break: break-all;\n",
       "    font-family: \"Source Code Pro\", \"Menlo\", monospace;;\n",
       "    font-size: 13px;\n",
       "    color: #555;\n",
       "    margin-left: 4px;\n",
       "    line-height: 19px;\n",
       "  }\n",
       "</style>\n",
       "<div class=\"ansiout\"></div>"
      ]
     },
     "metadata": {
      "application/vnd.databricks.v1+output": {
       "addedWidgets": {},
       "arguments": {},
       "data": "<div class=\"ansiout\"></div>",
       "datasetInfos": [],
       "removedWidgets": [],
       "type": "html"
      }
     },
     "output_type": "display_data"
    }
   ],
   "source": [
    "featurizer = DeepImageFeaturizer(inputCol='image', outputCol='features', modelName='ResNet50')"
   ]
  },
  {
   "cell_type": "code",
   "execution_count": 0,
   "metadata": {
    "application/vnd.databricks.v1+cell": {
     "inputWidgets": {},
     "nuid": "24d5af37-7126-4c98-82cc-9f87b60ce14b",
     "showTitle": false,
     "title": ""
    }
   },
   "outputs": [
    {
     "data": {
      "text/html": [
       "<style scoped>\n",
       "  .ansiout {\n",
       "    display: block;\n",
       "    unicode-bidi: embed;\n",
       "    white-space: pre-wrap;\n",
       "    word-wrap: break-word;\n",
       "    word-break: break-all;\n",
       "    font-family: \"Source Code Pro\", \"Menlo\", monospace;;\n",
       "    font-size: 13px;\n",
       "    color: #555;\n",
       "    margin-left: 4px;\n",
       "    line-height: 19px;\n",
       "  }\n",
       "</style>\n",
       "<div class=\"ansiout\"></div>"
      ]
     },
     "metadata": {
      "application/vnd.databricks.v1+output": {
       "addedWidgets": {},
       "arguments": {},
       "data": "<div class=\"ansiout\"></div>",
       "datasetInfos": [],
       "removedWidgets": [],
       "type": "html"
      }
     },
     "output_type": "display_data"
    }
   ],
   "source": [
    "# we will use logistic regression because we want to classify 2 types of flowers\n",
    "lr = LogisticRegression(maxIter=10, regParam=0.05, elasticNetParam=0.03, labelCol='label')"
   ]
  },
  {
   "cell_type": "code",
   "execution_count": 0,
   "metadata": {
    "application/vnd.databricks.v1+cell": {
     "inputWidgets": {},
     "nuid": "8f7ac474-ead9-4a48-ab9c-418a541d8615",
     "showTitle": false,
     "title": ""
    }
   },
   "outputs": [
    {
     "data": {
      "text/html": [
       "<style scoped>\n",
       "  .ansiout {\n",
       "    display: block;\n",
       "    unicode-bidi: embed;\n",
       "    white-space: pre-wrap;\n",
       "    word-wrap: break-word;\n",
       "    word-break: break-all;\n",
       "    font-family: \"Source Code Pro\", \"Menlo\", monospace;;\n",
       "    font-size: 13px;\n",
       "    color: #555;\n",
       "    margin-left: 4px;\n",
       "    line-height: 19px;\n",
       "  }\n",
       "</style>\n",
       "<div class=\"ansiout\"></div>"
      ]
     },
     "metadata": {
      "application/vnd.databricks.v1+output": {
       "addedWidgets": {},
       "arguments": {},
       "data": "<div class=\"ansiout\"></div>",
       "datasetInfos": [],
       "removedWidgets": [],
       "type": "html"
      }
     },
     "output_type": "display_data"
    }
   ],
   "source": [
    "# we will use Pipeline\n",
    "pipeline = Pipeline(stages=[featurizer, lr])"
   ]
  },
  {
   "cell_type": "markdown",
   "metadata": {
    "application/vnd.databricks.v1+cell": {
     "inputWidgets": {},
     "nuid": "f4aaa6f3-06b2-4003-92b8-b38eb5dc7058",
     "showTitle": false,
     "title": ""
    }
   },
   "source": [
    "## Train the model"
   ]
  },
  {
   "cell_type": "code",
   "execution_count": 0,
   "metadata": {
    "application/vnd.databricks.v1+cell": {
     "inputWidgets": {},
     "nuid": "bf050bf4-db17-46f8-9605-e33f2589e0ce",
     "showTitle": false,
     "title": ""
    }
   },
   "outputs": [
    {
     "data": {
      "text/html": [
       "<style scoped>\n",
       "  .ansiout {\n",
       "    display: block;\n",
       "    unicode-bidi: embed;\n",
       "    white-space: pre-wrap;\n",
       "    word-wrap: break-word;\n",
       "    word-break: break-all;\n",
       "    font-family: \"Source Code Pro\", \"Menlo\", monospace;;\n",
       "    font-size: 13px;\n",
       "    color: #555;\n",
       "    margin-left: 4px;\n",
       "    line-height: 19px;\n",
       "  }\n",
       "</style>\n",
       "<div class=\"ansiout\"></div>"
      ]
     },
     "metadata": {
      "application/vnd.databricks.v1+output": {
       "addedWidgets": {},
       "arguments": {},
       "data": "<div class=\"ansiout\"></div>",
       "datasetInfos": [],
       "removedWidgets": [],
       "type": "html"
      }
     },
     "output_type": "display_data"
    }
   ],
   "source": [
    "flower_model = pipeline.fit(train_df)"
   ]
  },
  {
   "cell_type": "markdown",
   "metadata": {
    "application/vnd.databricks.v1+cell": {
     "inputWidgets": {},
     "nuid": "dd54bea8-cf27-4756-bd0b-7d19edc293a0",
     "showTitle": false,
     "title": ""
    }
   },
   "source": [
    "-----------"
   ]
  },
  {
   "cell_type": "markdown",
   "metadata": {
    "application/vnd.databricks.v1+cell": {
     "inputWidgets": {},
     "nuid": "3ed31422-e5f0-421d-b220-d8ee93904eec",
     "showTitle": false,
     "title": ""
    }
   },
   "source": [
    "## Evaluate the Performance"
   ]
  },
  {
   "cell_type": "code",
   "execution_count": 0,
   "metadata": {
    "application/vnd.databricks.v1+cell": {
     "inputWidgets": {},
     "nuid": "a589bb35-ca0b-4bb8-b415-270a80f1cfd8",
     "showTitle": false,
     "title": ""
    }
   },
   "outputs": [
    {
     "data": {
      "text/html": [
       "<style scoped>\n",
       "  .ansiout {\n",
       "    display: block;\n",
       "    unicode-bidi: embed;\n",
       "    white-space: pre-wrap;\n",
       "    word-wrap: break-word;\n",
       "    word-break: break-all;\n",
       "    font-family: \"Source Code Pro\", \"Menlo\", monospace;;\n",
       "    font-size: 13px;\n",
       "    color: #555;\n",
       "    margin-left: 4px;\n",
       "    line-height: 19px;\n",
       "  }\n",
       "</style>\n",
       "<div class=\"ansiout\"></div>"
      ]
     },
     "metadata": {
      "application/vnd.databricks.v1+output": {
       "addedWidgets": {},
       "arguments": {},
       "data": "<div class=\"ansiout\"></div>",
       "datasetInfos": [],
       "removedWidgets": [],
       "type": "html"
      }
     },
     "output_type": "display_data"
    }
   ],
   "source": [
    "from pyspark.ml.evaluation import MulticlassClassificationEvaluator"
   ]
  },
  {
   "cell_type": "code",
   "execution_count": 0,
   "metadata": {
    "application/vnd.databricks.v1+cell": {
     "inputWidgets": {},
     "nuid": "9f3d4dae-ea70-46d7-88fb-f77cb3ebaa75",
     "showTitle": false,
     "title": ""
    }
   },
   "outputs": [
    {
     "data": {
      "text/html": [
       "<style scoped>\n",
       "  .ansiout {\n",
       "    display: block;\n",
       "    unicode-bidi: embed;\n",
       "    white-space: pre-wrap;\n",
       "    word-wrap: break-word;\n",
       "    word-break: break-all;\n",
       "    font-family: \"Source Code Pro\", \"Menlo\", monospace;;\n",
       "    font-size: 13px;\n",
       "    color: #555;\n",
       "    margin-left: 4px;\n",
       "    line-height: 19px;\n",
       "  }\n",
       "</style>\n",
       "<div class=\"ansiout\"></div>"
      ]
     },
     "metadata": {
      "application/vnd.databricks.v1+output": {
       "addedWidgets": {},
       "arguments": {},
       "data": "<div class=\"ansiout\"></div>",
       "datasetInfos": [
        {
         "name": "pred",
         "schema": {
          "fields": [
           {
            "metadata": {},
            "name": "image",
            "nullable": true,
            "type": {
             "fields": [
              {
               "metadata": {},
               "name": "origin",
               "nullable": true,
               "type": "string"
              },
              {
               "metadata": {},
               "name": "height",
               "nullable": true,
               "type": "integer"
              },
              {
               "metadata": {},
               "name": "width",
               "nullable": true,
               "type": "integer"
              },
              {
               "metadata": {},
               "name": "nChannels",
               "nullable": true,
               "type": "integer"
              },
              {
               "metadata": {},
               "name": "mode",
               "nullable": true,
               "type": "integer"
              },
              {
               "metadata": {},
               "name": "data",
               "nullable": true,
               "type": "binary"
              }
             ],
             "type": "struct"
            }
           },
           {
            "metadata": {},
            "name": "label",
            "nullable": false,
            "type": "integer"
           },
           {
            "metadata": {},
            "name": "features",
            "nullable": true,
            "type": {
             "class": "org.apache.spark.ml.linalg.VectorUDT",
             "pyClass": "pyspark.ml.linalg.VectorUDT",
             "sqlType": {
              "fields": [
               {
                "metadata": {},
                "name": "type",
                "nullable": false,
                "type": "byte"
               },
               {
                "metadata": {},
                "name": "size",
                "nullable": true,
                "type": "integer"
               },
               {
                "metadata": {},
                "name": "indices",
                "nullable": true,
                "type": {
                 "containsNull": false,
                 "elementType": "integer",
                 "type": "array"
                }
               },
               {
                "metadata": {},
                "name": "values",
                "nullable": true,
                "type": {
                 "containsNull": false,
                 "elementType": "double",
                 "type": "array"
                }
               }
              ],
              "type": "struct"
             },
             "type": "udt"
            }
           },
           {
            "metadata": {},
            "name": "rawPrediction",
            "nullable": true,
            "type": {
             "class": "org.apache.spark.ml.linalg.VectorUDT",
             "pyClass": "pyspark.ml.linalg.VectorUDT",
             "sqlType": {
              "fields": [
               {
                "metadata": {},
                "name": "type",
                "nullable": false,
                "type": "byte"
               },
               {
                "metadata": {},
                "name": "size",
                "nullable": true,
                "type": "integer"
               },
               {
                "metadata": {},
                "name": "indices",
                "nullable": true,
                "type": {
                 "containsNull": false,
                 "elementType": "integer",
                 "type": "array"
                }
               },
               {
                "metadata": {},
                "name": "values",
                "nullable": true,
                "type": {
                 "containsNull": false,
                 "elementType": "double",
                 "type": "array"
                }
               }
              ],
              "type": "struct"
             },
             "type": "udt"
            }
           },
           {
            "metadata": {},
            "name": "probability",
            "nullable": true,
            "type": {
             "class": "org.apache.spark.ml.linalg.VectorUDT",
             "pyClass": "pyspark.ml.linalg.VectorUDT",
             "sqlType": {
              "fields": [
               {
                "metadata": {},
                "name": "type",
                "nullable": false,
                "type": "byte"
               },
               {
                "metadata": {},
                "name": "size",
                "nullable": true,
                "type": "integer"
               },
               {
                "metadata": {},
                "name": "indices",
                "nullable": true,
                "type": {
                 "containsNull": false,
                 "elementType": "integer",
                 "type": "array"
                }
               },
               {
                "metadata": {},
                "name": "values",
                "nullable": true,
                "type": {
                 "containsNull": false,
                 "elementType": "double",
                 "type": "array"
                }
               }
              ],
              "type": "struct"
             },
             "type": "udt"
            }
           },
           {
            "metadata": {},
            "name": "prediction",
            "nullable": false,
            "type": "double"
           }
          ],
          "type": "struct"
         },
         "tableIdentifier": null,
         "typeStr": "pyspark.sql.dataframe.DataFrame"
        }
       ],
       "removedWidgets": [],
       "type": "html"
      }
     },
     "output_type": "display_data"
    }
   ],
   "source": [
    "pred = flower_model.transform(test_df)"
   ]
  },
  {
   "cell_type": "code",
   "execution_count": 0,
   "metadata": {
    "application/vnd.databricks.v1+cell": {
     "inputWidgets": {},
     "nuid": "6c537ea7-85e3-4c38-a63d-4e3ed0d5d856",
     "showTitle": false,
     "title": ""
    }
   },
   "outputs": [
    {
     "data": {
      "text/html": [
       "<style scoped>\n",
       "  .ansiout {\n",
       "    display: block;\n",
       "    unicode-bidi: embed;\n",
       "    white-space: pre-wrap;\n",
       "    word-wrap: break-word;\n",
       "    word-break: break-all;\n",
       "    font-family: \"Source Code Pro\", \"Menlo\", monospace;;\n",
       "    font-size: 13px;\n",
       "    color: #555;\n",
       "    margin-left: 4px;\n",
       "    line-height: 19px;\n",
       "  }\n",
       "</style>\n",
       "<div class=\"ansiout\">Test dataset Accuracy: 0.9647435897435898\n",
       "</div>"
      ]
     },
     "metadata": {
      "application/vnd.databricks.v1+output": {
       "addedWidgets": {},
       "arguments": {},
       "data": "<div class=\"ansiout\">Test dataset Accuracy: 0.9647435897435898\n</div>",
       "datasetInfos": [],
       "removedWidgets": [],
       "type": "html"
      }
     },
     "output_type": "display_data"
    }
   ],
   "source": [
    "evaluator = MulticlassClassificationEvaluator(metricName='accuracy')\n",
    "\n",
    "print('Test dataset Accuracy: {}'.format(evaluator.evaluate(pred.select('prediction', 'label'))))"
   ]
  },
  {
   "cell_type": "markdown",
   "metadata": {
    "application/vnd.databricks.v1+cell": {
     "inputWidgets": {},
     "nuid": "65abe5e7-c0f6-4e0d-9fe3-78779da15ebd",
     "showTitle": false,
     "title": ""
    }
   },
   "source": [
    "## Using a test image"
   ]
  },
  {
   "cell_type": "code",
   "execution_count": 0,
   "metadata": {
    "application/vnd.databricks.v1+cell": {
     "inputWidgets": {},
     "nuid": "2e25e74e-ad3f-44ac-8b99-4639faaa9fe1",
     "showTitle": false,
     "title": ""
    }
   },
   "outputs": [
    {
     "data": {
      "text/html": [
       "<style scoped>\n",
       "  .ansiout {\n",
       "    display: block;\n",
       "    unicode-bidi: embed;\n",
       "    white-space: pre-wrap;\n",
       "    word-wrap: break-word;\n",
       "    word-break: break-all;\n",
       "    font-family: \"Source Code Pro\", \"Menlo\", monospace;;\n",
       "    font-size: 13px;\n",
       "    color: #555;\n",
       "    margin-left: 4px;\n",
       "    line-height: 19px;\n",
       "  }\n",
       "</style>\n",
       "<div class=\"ansiout\"></div>"
      ]
     },
     "metadata": {
      "application/vnd.databricks.v1+output": {
       "addedWidgets": {},
       "arguments": {},
       "data": "<div class=\"ansiout\"></div>",
       "datasetInfos": [],
       "removedWidgets": [],
       "type": "html"
      }
     },
     "output_type": "display_data"
    }
   ],
   "source": [
    "t = '/FileStore/tables/tulip.jpg'\n",
    "s = '/FileStore/tables/sunflower.jpg'"
   ]
  },
  {
   "cell_type": "code",
   "execution_count": 0,
   "metadata": {
    "application/vnd.databricks.v1+cell": {
     "inputWidgets": {},
     "nuid": "95d58e1c-b3f0-4be6-9d79-bc101f4fc4e6",
     "showTitle": false,
     "title": ""
    }
   },
   "outputs": [
    {
     "data": {
      "text/html": [
       "<style scoped>\n",
       "  .ansiout {\n",
       "    display: block;\n",
       "    unicode-bidi: embed;\n",
       "    white-space: pre-wrap;\n",
       "    word-wrap: break-word;\n",
       "    word-break: break-all;\n",
       "    font-family: \"Source Code Pro\", \"Menlo\", monospace;;\n",
       "    font-size: 13px;\n",
       "    color: #555;\n",
       "    margin-left: 4px;\n",
       "    line-height: 19px;\n",
       "  }\n",
       "</style>\n",
       "<div class=\"ansiout\">+--------------------+\n",
       "               image|\n",
       "+--------------------+\n",
       "[dbfs:/FileStore/...|\n",
       "+--------------------+\n",
       "\n",
       "</div>"
      ]
     },
     "metadata": {
      "application/vnd.databricks.v1+output": {
       "addedWidgets": {},
       "arguments": {},
       "data": "<div class=\"ansiout\">+--------------------+\n|               image|\n+--------------------+\n|[dbfs:/FileStore/...|\n+--------------------+\n\n</div>",
       "datasetInfos": [
        {
         "name": "df",
         "schema": {
          "fields": [
           {
            "metadata": {},
            "name": "image",
            "nullable": true,
            "type": {
             "fields": [
              {
               "metadata": {},
               "name": "origin",
               "nullable": true,
               "type": "string"
              },
              {
               "metadata": {},
               "name": "height",
               "nullable": true,
               "type": "integer"
              },
              {
               "metadata": {},
               "name": "width",
               "nullable": true,
               "type": "integer"
              },
              {
               "metadata": {},
               "name": "nChannels",
               "nullable": true,
               "type": "integer"
              },
              {
               "metadata": {},
               "name": "mode",
               "nullable": true,
               "type": "integer"
              },
              {
               "metadata": {},
               "name": "data",
               "nullable": true,
               "type": "binary"
              }
             ],
             "type": "struct"
            }
           }
          ],
          "type": "struct"
         },
         "tableIdentifier": null,
         "typeStr": "pyspark.sql.dataframe.DataFrame"
        }
       ],
       "removedWidgets": [],
       "type": "html"
      }
     },
     "output_type": "display_data"
    }
   ],
   "source": [
    "# Load the images for testing\n",
    "\n",
    "# tulips\n",
    "df = spark.read.format('image').load(t)\n",
    "df.show()"
   ]
  },
  {
   "cell_type": "code",
   "execution_count": 0,
   "metadata": {
    "application/vnd.databricks.v1+cell": {
     "inputWidgets": {},
     "nuid": "4f3f71d8-0a33-4a82-9af1-9c28038155d5",
     "showTitle": false,
     "title": ""
    }
   },
   "outputs": [
    {
     "data": {
      "text/html": [
       "<style scoped>\n",
       "  .ansiout {\n",
       "    display: block;\n",
       "    unicode-bidi: embed;\n",
       "    white-space: pre-wrap;\n",
       "    word-wrap: break-word;\n",
       "    word-break: break-all;\n",
       "    font-family: \"Source Code Pro\", \"Menlo\", monospace;;\n",
       "    font-size: 13px;\n",
       "    color: #555;\n",
       "    margin-left: 4px;\n",
       "    line-height: 19px;\n",
       "  }\n",
       "</style>\n",
       "<div class=\"ansiout\">+--------------------+--------------------+--------------------+--------------------+----------+\n",
       "               image|            features|       rawPrediction|         probability|prediction|\n",
       "+--------------------+--------------------+--------------------+--------------------+----------+\n",
       "[dbfs:/FileStore/...|[6.44039964675903...|[7.44890928007499...|[0.99941826246740...|       0.0|\n",
       "+--------------------+--------------------+--------------------+--------------------+----------+\n",
       "\n",
       "</div>"
      ]
     },
     "metadata": {
      "application/vnd.databricks.v1+output": {
       "addedWidgets": {},
       "arguments": {},
       "data": "<div class=\"ansiout\">+--------------------+--------------------+--------------------+--------------------+----------+\n|               image|            features|       rawPrediction|         probability|prediction|\n+--------------------+--------------------+--------------------+--------------------+----------+\n|[dbfs:/FileStore/...|[6.44039964675903...|[7.44890928007499...|[0.99941826246740...|       0.0|\n+--------------------+--------------------+--------------------+--------------------+----------+\n\n</div>",
       "datasetInfos": [],
       "removedWidgets": [],
       "type": "html"
      }
     },
     "output_type": "display_data"
    }
   ],
   "source": [
    "# make the predictions with our model\n",
    "flower_model.transform(df).show()"
   ]
  },
  {
   "cell_type": "markdown",
   "metadata": {
    "application/vnd.databricks.v1+cell": {
     "inputWidgets": {},
     "nuid": "a8045554-ac2f-404c-9ad2-b1dc38eb7789",
     "showTitle": false,
     "title": ""
    }
   },
   "source": [
    "## model predictions result\n",
    "our model has predicted that the image is 99.94% tulips, which is correct."
   ]
  },
  {
   "cell_type": "code",
   "execution_count": 0,
   "metadata": {
    "application/vnd.databricks.v1+cell": {
     "inputWidgets": {},
     "nuid": "25c8a830-1ffd-4684-a504-13955dd582a7",
     "showTitle": false,
     "title": ""
    }
   },
   "outputs": [
    {
     "data": {
      "text/html": [
       "<style scoped>\n",
       "  .ansiout {\n",
       "    display: block;\n",
       "    unicode-bidi: embed;\n",
       "    white-space: pre-wrap;\n",
       "    word-wrap: break-word;\n",
       "    word-break: break-all;\n",
       "    font-family: \"Source Code Pro\", \"Menlo\", monospace;;\n",
       "    font-size: 13px;\n",
       "    color: #555;\n",
       "    margin-left: 4px;\n",
       "    line-height: 19px;\n",
       "  }\n",
       "</style>\n",
       "<div class=\"ansiout\">+--------------------+\n",
       "               image|\n",
       "+--------------------+\n",
       "[dbfs:/FileStore/...|\n",
       "+--------------------+\n",
       "\n",
       "</div>"
      ]
     },
     "metadata": {
      "application/vnd.databricks.v1+output": {
       "addedWidgets": {},
       "arguments": {},
       "data": "<div class=\"ansiout\">+--------------------+\n|               image|\n+--------------------+\n|[dbfs:/FileStore/...|\n+--------------------+\n\n</div>",
       "datasetInfos": [
        {
         "name": "df",
         "schema": {
          "fields": [
           {
            "metadata": {},
            "name": "image",
            "nullable": true,
            "type": {
             "fields": [
              {
               "metadata": {},
               "name": "origin",
               "nullable": true,
               "type": "string"
              },
              {
               "metadata": {},
               "name": "height",
               "nullable": true,
               "type": "integer"
              },
              {
               "metadata": {},
               "name": "width",
               "nullable": true,
               "type": "integer"
              },
              {
               "metadata": {},
               "name": "nChannels",
               "nullable": true,
               "type": "integer"
              },
              {
               "metadata": {},
               "name": "mode",
               "nullable": true,
               "type": "integer"
              },
              {
               "metadata": {},
               "name": "data",
               "nullable": true,
               "type": "binary"
              }
             ],
             "type": "struct"
            }
           }
          ],
          "type": "struct"
         },
         "tableIdentifier": null,
         "typeStr": "pyspark.sql.dataframe.DataFrame"
        }
       ],
       "removedWidgets": [],
       "type": "html"
      }
     },
     "output_type": "display_data"
    }
   ],
   "source": [
    "# sunflower image\n",
    "df = spark.read.format('image').load(s)\n",
    "df.show()"
   ]
  },
  {
   "cell_type": "code",
   "execution_count": 0,
   "metadata": {
    "application/vnd.databricks.v1+cell": {
     "inputWidgets": {},
     "nuid": "f264879b-4433-4c85-a8d7-5a45d615998c",
     "showTitle": false,
     "title": ""
    }
   },
   "outputs": [
    {
     "data": {
      "text/html": [
       "<style scoped>\n",
       "  .ansiout {\n",
       "    display: block;\n",
       "    unicode-bidi: embed;\n",
       "    white-space: pre-wrap;\n",
       "    word-wrap: break-word;\n",
       "    word-break: break-all;\n",
       "    font-family: \"Source Code Pro\", \"Menlo\", monospace;;\n",
       "    font-size: 13px;\n",
       "    color: #555;\n",
       "    margin-left: 4px;\n",
       "    line-height: 19px;\n",
       "  }\n",
       "</style>\n",
       "<div class=\"ansiout\">+--------------------+--------------------+--------------------+--------------------+----------+\n",
       "               image|            features|       rawPrediction|         probability|prediction|\n",
       "+--------------------+--------------------+--------------------+--------------------+----------+\n",
       "[dbfs:/FileStore/...|[0.83528298139572...|[-6.7756860355786...|[0.00113988651217...|       1.0|\n",
       "+--------------------+--------------------+--------------------+--------------------+----------+\n",
       "\n",
       "</div>"
      ]
     },
     "metadata": {
      "application/vnd.databricks.v1+output": {
       "addedWidgets": {},
       "arguments": {},
       "data": "<div class=\"ansiout\">+--------------------+--------------------+--------------------+--------------------+----------+\n|               image|            features|       rawPrediction|         probability|prediction|\n+--------------------+--------------------+--------------------+--------------------+----------+\n|[dbfs:/FileStore/...|[0.83528298139572...|[-6.7756860355786...|[0.00113988651217...|       1.0|\n+--------------------+--------------------+--------------------+--------------------+----------+\n\n</div>",
       "datasetInfos": [],
       "removedWidgets": [],
       "type": "html"
      }
     },
     "output_type": "display_data"
    }
   ],
   "source": [
    "# make the predictions with our model\n",
    "flower_model.transform(df).show()"
   ]
  },
  {
   "cell_type": "markdown",
   "metadata": {
    "application/vnd.databricks.v1+cell": {
     "inputWidgets": {},
     "nuid": "491665ab-9522-48b8-bde2-ac680116d896",
     "showTitle": false,
     "title": ""
    }
   },
   "source": [
    "## model predictions result\n",
    "This time our model predicted that image is sunflower with probability of 0.113%, which is not very confident. but it correctly classfied the flower type though."
   ]
  },
  {
   "cell_type": "code",
   "execution_count": 0,
   "metadata": {
    "application/vnd.databricks.v1+cell": {
     "inputWidgets": {},
     "nuid": "243774d8-07ec-4e05-b322-a21a228c20bb",
     "showTitle": false,
     "title": ""
    }
   },
   "outputs": [],
   "source": []
  }
 ],
 "metadata": {
  "application/vnd.databricks.v1+notebook": {
   "dashboards": [],
   "language": "python",
   "notebookName": "02.02.Transfer Learning",
   "notebookOrigID": 3478567335775674,
   "widgets": {}
  },
  "kernelspec": {
   "display_name": "Python 3",
   "language": "python",
   "name": "python3"
  },
  "language_info": {
   "codemirror_mode": {
    "name": "ipython",
    "version": 3
   },
   "file_extension": ".py",
   "mimetype": "text/x-python",
   "name": "python",
   "nbconvert_exporter": "python",
   "pygments_lexer": "ipython3",
   "version": "3.8.5"
  }
 },
 "nbformat": 4,
 "nbformat_minor": 1
}
