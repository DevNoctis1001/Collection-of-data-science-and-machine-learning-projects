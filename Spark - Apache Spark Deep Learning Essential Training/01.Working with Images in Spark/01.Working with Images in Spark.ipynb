{
 "cells": [
  {
   "cell_type": "code",
   "execution_count": 0,
   "metadata": {
    "application/vnd.databricks.v1+cell": {
     "inputWidgets": {},
     "nuid": "6d4ff5aa-b75a-482e-a582-f1ba031cb11e",
     "showTitle": true,
     "title": "Working with Images"
    }
   },
   "outputs": [
    {
     "data": {
      "text/html": [
       "<style scoped>\n",
       "  .ansiout {\n",
       "    display: block;\n",
       "    unicode-bidi: embed;\n",
       "    white-space: pre-wrap;\n",
       "    word-wrap: break-word;\n",
       "    word-break: break-all;\n",
       "    font-family: \"Source Code Pro\", \"Menlo\", monospace;;\n",
       "    font-size: 13px;\n",
       "    color: #555;\n",
       "    margin-left: 4px;\n",
       "    line-height: 19px;\n",
       "  }\n",
       "</style>\n",
       "<div class=\"ansiout\">Using TensorFlow backend.\n",
       "</div>"
      ]
     },
     "metadata": {
      "application/vnd.databricks.v1+output": {
       "addedWidgets": {},
       "arguments": {},
       "data": "<div class=\"ansiout\">Using TensorFlow backend.\n</div>",
       "datasetInfos": [],
       "removedWidgets": [],
       "type": "html"
      }
     },
     "output_type": "display_data"
    }
   ],
   "source": [
    "# Working with Images\n",
    "import tensorflow\n",
    "import keras\n",
    "import h5py\n",
    "\n",
    "assert(tensorflow.__version__=='1.15.0')\n",
    "assert(keras.__version__=='2.2.5')\n",
    "assert(h5py.__version__=='2.9.0')"
   ]
  },
  {
   "cell_type": "code",
   "execution_count": 0,
   "metadata": {
    "application/vnd.databricks.v1+cell": {
     "inputWidgets": {},
     "nuid": "49670b18-f3e3-4c1c-870a-52d4fa969801",
     "showTitle": true,
     "title": "Import Images to DataFrame"
    }
   },
   "outputs": [
    {
     "data": {
      "text/html": [
       "<style scoped>\n",
       "  .ansiout {\n",
       "    display: block;\n",
       "    unicode-bidi: embed;\n",
       "    white-space: pre-wrap;\n",
       "    word-wrap: break-word;\n",
       "    word-break: break-all;\n",
       "    font-family: \"Source Code Pro\", \"Menlo\", monospace;;\n",
       "    font-size: 13px;\n",
       "    color: #555;\n",
       "    margin-left: 4px;\n",
       "    line-height: 19px;\n",
       "  }\n",
       "</style>\n",
       "<div class=\"ansiout\"></div>"
      ]
     },
     "metadata": {
      "application/vnd.databricks.v1+output": {
       "addedWidgets": {},
       "arguments": {},
       "data": "<div class=\"ansiout\"></div>",
       "datasetInfos": [],
       "removedWidgets": [],
       "type": "html"
      }
     },
     "output_type": "display_data"
    }
   ],
   "source": [
    "# Import Images to DataFrame\n",
    "\n",
    "img_path = '/FileStore/tables/typewriter.jpg'"
   ]
  },
  {
   "cell_type": "code",
   "execution_count": 0,
   "metadata": {
    "application/vnd.databricks.v1+cell": {
     "inputWidgets": {},
     "nuid": "f344a70b-688b-4983-8f1d-b304c2b49a70",
     "showTitle": false,
     "title": ""
    }
   },
   "outputs": [
    {
     "data": {
      "text/html": [
       "<style scoped>\n",
       "  .ansiout {\n",
       "    display: block;\n",
       "    unicode-bidi: embed;\n",
       "    white-space: pre-wrap;\n",
       "    word-wrap: break-word;\n",
       "    word-break: break-all;\n",
       "    font-family: \"Source Code Pro\", \"Menlo\", monospace;;\n",
       "    font-size: 13px;\n",
       "    color: #555;\n",
       "    margin-left: 4px;\n",
       "    line-height: 19px;\n",
       "  }\n",
       "</style>\n",
       "<div class=\"ansiout\"></div>"
      ]
     },
     "metadata": {
      "application/vnd.databricks.v1+output": {
       "addedWidgets": {},
       "arguments": {},
       "data": "<div class=\"ansiout\"></div>",
       "datasetInfos": [],
       "removedWidgets": [],
       "type": "html"
      }
     },
     "output_type": "display_data"
    }
   ],
   "source": [
    "df = spark.read.format('image').load(img_path)"
   ]
  },
  {
   "cell_type": "code",
   "execution_count": 0,
   "metadata": {
    "application/vnd.databricks.v1+cell": {
     "inputWidgets": {},
     "nuid": "46e0e3e0-febd-46dd-a261-d63e43547e29",
     "showTitle": false,
     "title": ""
    }
   },
   "outputs": [
    {
     "data": {
      "text/html": [
       "<style scoped>\n",
       "  .ansiout {\n",
       "    display: block;\n",
       "    unicode-bidi: embed;\n",
       "    white-space: pre-wrap;\n",
       "    word-wrap: break-word;\n",
       "    word-break: break-all;\n",
       "    font-family: \"Source Code Pro\", \"Menlo\", monospace;;\n",
       "    font-size: 13px;\n",
       "    color: #555;\n",
       "    margin-left: 4px;\n",
       "    line-height: 19px;\n",
       "  }\n",
       "</style>\n",
       "<div class=\"ansiout\">+--------------------+\n",
       "               image|\n",
       "+--------------------+\n",
       "[dbfs:/FileStore/...|\n",
       "+--------------------+\n",
       "\n",
       "</div>"
      ]
     },
     "metadata": {
      "application/vnd.databricks.v1+output": {
       "addedWidgets": {},
       "arguments": {},
       "data": "<div class=\"ansiout\">+--------------------+\n|               image|\n+--------------------+\n|[dbfs:/FileStore/...|\n+--------------------+\n\n</div>",
       "datasetInfos": [],
       "removedWidgets": [],
       "type": "html"
      }
     },
     "output_type": "display_data"
    }
   ],
   "source": [
    "df.show()"
   ]
  },
  {
   "cell_type": "code",
   "execution_count": 0,
   "metadata": {
    "application/vnd.databricks.v1+cell": {
     "inputWidgets": {},
     "nuid": "e2edc4cb-69eb-4f14-a72e-c3070f05461f",
     "showTitle": false,
     "title": ""
    }
   },
   "outputs": [
    {
     "data": {
      "text/html": [
       "<style scoped>\n",
       "  .table-result-container {\n",
       "    max-height: 300px;\n",
       "    overflow: auto;\n",
       "  }\n",
       "  table, th, td {\n",
       "    border: 1px solid black;\n",
       "    border-collapse: collapse;\n",
       "  }\n",
       "  th, td {\n",
       "    padding: 5px;\n",
       "  }\n",
       "  th {\n",
       "    text-align: left;\n",
       "  }\n",
       "</style><div class='table-result-container'><table class='table-result'><thead style='background-color: white'><tr><th>image</th></tr></thead><tbody><tr><td>List(dbfs:/FileStore/tables/typewriter.jpg, 2773, 4080, 3, 16, Binary image data placeholder. Access the image data field directly to view raw binary data., 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)</td></tr></tbody></table></div>"
      ]
     },
     "metadata": {
      "application/vnd.databricks.v1+output": {
       "addedWidgets": {},
       "aggData": [],
       "aggError": "",
       "aggOverflow": false,
       "aggSchema": [],
       "aggSeriesLimitReached": false,
       "aggType": "",
       "arguments": {},
       "columnCustomDisplayInfos": {
        "image": {
         "dataType": "image",
         "defaultDisplayFields": [
          "origin",
          "height",
          "width",
          "nChannels",
          "mode",
          "data"
         ],
         "downloadResultsFields": [
          "origin",
          "height",
          "width",
          "nChannels",
          "mode",
          "data"
         ]
        }
       },
       "data": [
        [
         [
          "dbfs:/FileStore/tables/typewriter.jpg",
          2773,
          4080,
          3,
          16,
          "Binary image data placeholder. Access the image data field directly to view raw binary data.",
          "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"
         ]
        ]
       ],
       "datasetInfos": [],
       "dbfsResultPath": null,
       "isJsonSchema": true,
       "overflow": false,
       "plotOptions": {
        "customPlotOptions": {},
        "displayType": "table",
        "pivotAggregation": null,
        "pivotColumns": null,
        "xColumns": null,
        "yColumns": null
       },
       "removedWidgets": [],
       "schema": [
        {
         "metadata": "{}",
         "name": "image",
         "type": "{\"type\":\"struct\",\"fields\":[{\"name\":\"origin\",\"type\":\"string\",\"nullable\":true,\"metadata\":{}},{\"name\":\"height\",\"type\":\"integer\",\"nullable\":false,\"metadata\":{}},{\"name\":\"width\",\"type\":\"integer\",\"nullable\":false,\"metadata\":{}},{\"name\":\"nChannels\",\"type\":\"integer\",\"nullable\":false,\"metadata\":{}},{\"name\":\"mode\",\"type\":\"integer\",\"nullable\":false,\"metadata\":{}},{\"name\":\"data\",\"type\":\"string\",\"nullable\":false,\"metadata\":{}},{\"name\":\"thumbnail\",\"type\":\"binary\",\"nullable\":true,\"metadata\":{}}]}"
        }
       ],
       "type": "table"
      }
     },
     "output_type": "display_data"
    }
   ],
   "source": [
    "display(df)"
   ]
  },
  {
   "cell_type": "code",
   "execution_count": 0,
   "metadata": {
    "application/vnd.databricks.v1+cell": {
     "inputWidgets": {},
     "nuid": "35a3655a-8b22-4c7b-ab93-0c10fabbb7bf",
     "showTitle": false,
     "title": ""
    }
   },
   "outputs": [
    {
     "data": {
      "text/html": [
       "<style scoped>\n",
       "  .ansiout {\n",
       "    display: block;\n",
       "    unicode-bidi: embed;\n",
       "    white-space: pre-wrap;\n",
       "    word-wrap: break-word;\n",
       "    word-break: break-all;\n",
       "    font-family: \"Source Code Pro\", \"Menlo\", monospace;;\n",
       "    font-size: 13px;\n",
       "    color: #555;\n",
       "    margin-left: 4px;\n",
       "    line-height: 19px;\n",
       "  }\n",
       "</style>\n",
       "<div class=\"ansiout\">root\n",
       "-- image: struct (nullable = true)\n",
       "    |-- origin: string (nullable = true)\n",
       "    |-- height: integer (nullable = true)\n",
       "    |-- width: integer (nullable = true)\n",
       "    |-- nChannels: integer (nullable = true)\n",
       "    |-- mode: integer (nullable = true)\n",
       "    |-- data: binary (nullable = true)\n",
       "\n",
       "</div>"
      ]
     },
     "metadata": {
      "application/vnd.databricks.v1+output": {
       "addedWidgets": {},
       "arguments": {},
       "data": "<div class=\"ansiout\">root\n |-- image: struct (nullable = true)\n |    |-- origin: string (nullable = true)\n |    |-- height: integer (nullable = true)\n |    |-- width: integer (nullable = true)\n |    |-- nChannels: integer (nullable = true)\n |    |-- mode: integer (nullable = true)\n |    |-- data: binary (nullable = true)\n\n</div>",
       "datasetInfos": [],
       "removedWidgets": [],
       "type": "html"
      }
     },
     "output_type": "display_data"
    }
   ],
   "source": [
    "df.printSchema()"
   ]
  },
  {
   "cell_type": "code",
   "execution_count": 0,
   "metadata": {
    "application/vnd.databricks.v1+cell": {
     "inputWidgets": {},
     "nuid": "5fba7e16-e035-49ca-a602-618270b819b0",
     "showTitle": false,
     "title": ""
    }
   },
   "outputs": [],
   "source": []
  }
 ],
 "metadata": {
  "application/vnd.databricks.v1+notebook": {
   "dashboards": [],
   "language": "python",
   "notebookName": "02.01.Working with Images in Spark",
   "notebookOrigID": 4339622644197359,
   "widgets": {}
  },
  "kernelspec": {
   "display_name": "Python 3",
   "language": "python",
   "name": "python3"
  },
  "language_info": {
   "codemirror_mode": {
    "name": "ipython",
    "version": 3
   },
   "file_extension": ".py",
   "mimetype": "text/x-python",
   "name": "python",
   "nbconvert_exporter": "python",
   "pygments_lexer": "ipython3",
   "version": "3.8.5"
  }
 },
 "nbformat": 4,
 "nbformat_minor": 1
}
