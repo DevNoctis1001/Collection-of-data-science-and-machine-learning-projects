{
 "cells": [
  {
   "cell_type": "markdown",
   "metadata": {},
   "source": [
    "# Working with Custom Images\n",
    "\n",
    "So far everything we've worked with has been nicely formatted for us already by Keras.\n",
    "\n",
    "Let's explore what its like to work with a more realistic data set.\n",
    "\n",
    "## The Data\n",
    "\n",
    "-----------\n",
    "\n",
    "ORIGINAL DATA SOURCE:\n",
    "\n",
    "The dataset contains 2 folders - Infected - Uninfected\n",
    "\n",
    "And a total of 27,558 images.\n",
    "\n",
    "Acknowledgements\n",
    "This Dataset is taken from the official NIH Website: https://ceb.nlm.nih.gov/repositories/malaria-datasets/ \n",
    "\n",
    "**Note: We will be dealing with real image files, NOT numpy arrays. Which means a large part of this process will be learning how to work with and deal with large groups of image files. This is too much data to fit in memory as a numpy array, so we'll need to feed it into our model in batches.**"
   ]
  },
  {
   "cell_type": "markdown",
   "metadata": {},
   "source": [
    "+ [Data](#data)\n",
    "+ [Visualizing the Data](#Visualizing)\n",
    "    + [Read in Parasitized cell image](#Parasitized)\n",
    "    + [Read in Uninfected cell](#Uninfected)\n",
    "+ [Dimensions Distribution and Finding out Average Dimensions.](#averagediemnsion)\n",
    "    + [Let's find out the average dimensions of these images.](#findout)\n",
    "    + [Visualize the image dimesions distribution](#visualizediemnsion)\n",
    "    + [So why it is important to check the dimensions of the images?](#important)\n",
    "+ [Preparing the Data for the model](#preparingdata)\n",
    "    + [Image Manipulation](#imagemanipulation)\n",
    "        + [Why we want to manipulate the image data?](#whymanipulate)\n",
    "        + [So what is the good value for those random transformation parameters? How much should I rotate, stretch or sequeeze the images?](#howtochoose)\n",
    "       + [Deciding whether we need to rescale the image?](#deciderescale)\n",
    "    + [Image Data Generator](#imagedatagenerator)\n",
    "    + [Image Data Augmentation](#augmentation)\n",
    "    + [Generating many manipulated images from a directory](#manipulateddirectory)\n",
    "+ [Creating the Model](#modelcreation)\n",
    "+ [Training the Model](#training)\n",
    "+ [Evaluating the Model](#evaluation)\n",
    "+ [Predicting on an Imagel](#predictingsingleimage)"
   ]
  },
  {
   "cell_type": "markdown",
   "metadata": {},
   "source": [
    "---------"
   ]
  },
  {
   "cell_type": "markdown",
   "metadata": {},
   "source": [
    "# <a name='data'>Data</a>"
   ]
  },
  {
   "cell_type": "code",
   "execution_count": 3,
   "metadata": {},
   "outputs": [],
   "source": [
    "import os\n",
    "import numpy as np\n",
    "import pandas as pd\n",
    "import matplotlib.pyplot as plt\n",
    "import seaborn as sns"
   ]
  },
  {
   "cell_type": "code",
   "execution_count": 6,
   "metadata": {},
   "outputs": [],
   "source": [
    "from matplotlib.image import imread"
   ]
  },
  {
   "cell_type": "code",
   "execution_count": 4,
   "metadata": {},
   "outputs": [],
   "source": [
    "data_dir = 'C:\\\\Users\\\\Phone Thiri Yadana\\\\Desktop\\\\Dojo - Data Science and Machine Learning\\\\Complete Tensorflow 2 and Keras Deep Learning Bootcamp - JP\\\\04-CNNs\\\\cell_images\\\\'"
   ]
  },
  {
   "cell_type": "code",
   "execution_count": 5,
   "metadata": {},
   "outputs": [
    {
     "data": {
      "text/plain": [
       "['test', 'train']"
      ]
     },
     "execution_count": 5,
     "metadata": {},
     "output_type": "execute_result"
    }
   ],
   "source": [
    "os.listdir(data_dir)"
   ]
  },
  {
   "cell_type": "code",
   "execution_count": 8,
   "metadata": {},
   "outputs": [],
   "source": [
    "train_path = data_dir + '\\\\train\\\\'\n",
    "test_path = data_dir + '\\\\test\\\\'"
   ]
  },
  {
   "cell_type": "code",
   "execution_count": 9,
   "metadata": {},
   "outputs": [
    {
     "data": {
      "text/plain": [
       "['parasitized', 'uninfected']"
      ]
     },
     "execution_count": 9,
     "metadata": {},
     "output_type": "execute_result"
    }
   ],
   "source": [
    "# check which folders are inside this path\n",
    "os.listdir(train_path)"
   ]
  },
  {
   "cell_type": "code",
   "execution_count": 10,
   "metadata": {
    "scrolled": false
   },
   "outputs": [
    {
     "data": {
      "text/plain": [
       "['C100P61ThinF_IMG_20150918_144104_cell_162.png',\n",
       " 'C100P61ThinF_IMG_20150918_144104_cell_163.png',\n",
       " 'C100P61ThinF_IMG_20150918_144104_cell_164.png',\n",
       " 'C100P61ThinF_IMG_20150918_144104_cell_165.png',\n",
       " 'C100P61ThinF_IMG_20150918_144104_cell_166.png',\n",
       " 'C100P61ThinF_IMG_20150918_144104_cell_167.png',\n",
       " 'C100P61ThinF_IMG_20150918_144104_cell_168.png',\n",
       " 'C100P61ThinF_IMG_20150918_144104_cell_169.png',\n",
       " 'C100P61ThinF_IMG_20150918_144104_cell_170.png',\n",
       " 'C100P61ThinF_IMG_20150918_144104_cell_171.png',\n",
       " 'C100P61ThinF_IMG_20150918_144348_cell_138.png',\n",
       " 'C100P61ThinF_IMG_20150918_144348_cell_139.png',\n",
       " 'C100P61ThinF_IMG_20150918_144348_cell_140.png',\n",
       " 'C100P61ThinF_IMG_20150918_144348_cell_141.png',\n",
       " 'C100P61ThinF_IMG_20150918_144348_cell_142.png',\n",
       " 'C100P61ThinF_IMG_20150918_144348_cell_143.png',\n",
       " 'C100P61ThinF_IMG_20150918_144823_cell_157.png',\n",
       " 'C100P61ThinF_IMG_20150918_144823_cell_158.png',\n",
       " 'C100P61ThinF_IMG_20150918_144823_cell_159.png',\n",
       " 'C100P61ThinF_IMG_20150918_144823_cell_160.png',\n",
       " 'C100P61ThinF_IMG_20150918_144823_cell_161.png',\n",
       " 'C100P61ThinF_IMG_20150918_144823_cell_162.png',\n",
       " 'C100P61ThinF_IMG_20150918_145042_cell_162.png',\n",
       " 'C100P61ThinF_IMG_20150918_145042_cell_163.png',\n",
       " 'C100P61ThinF_IMG_20150918_145042_cell_164.png',\n",
       " 'C100P61ThinF_IMG_20150918_145042_cell_165.png',\n",
       " 'C100P61ThinF_IMG_20150918_145042_cell_166.png',\n",
       " 'C100P61ThinF_IMG_20150918_145042_cell_167.png',\n",
       " 'C100P61ThinF_IMG_20150918_145422_cell_163.png',\n",
       " 'C100P61ThinF_IMG_20150918_145422_cell_164.png',\n",
       " 'C100P61ThinF_IMG_20150918_145422_cell_166.png',\n",
       " 'C100P61ThinF_IMG_20150918_145422_cell_167.png',\n",
       " 'C100P61ThinF_IMG_20150918_145422_cell_168.png',\n",
       " 'C100P61ThinF_IMG_20150918_145422_cell_169.png',\n",
       " 'C100P61ThinF_IMG_20150918_145609_cell_144.png',\n",
       " 'C100P61ThinF_IMG_20150918_145609_cell_146.png',\n",
       " 'C100P61ThinF_IMG_20150918_145609_cell_147.png',\n",
       " 'C100P61ThinF_IMG_20150918_145609_cell_148.png',\n",
       " 'C100P61ThinF_IMG_20150918_145609_cell_151.png',\n",
       " 'C100P61ThinF_IMG_20150918_145938_cell_167.png',\n",
       " 'C100P61ThinF_IMG_20150918_145938_cell_168.png',\n",
       " 'C100P61ThinF_IMG_20150918_145938_cell_169.png',\n",
       " 'C100P61ThinF_IMG_20150918_145938_cell_170.png',\n",
       " 'C100P61ThinF_IMG_20150918_145938_cell_171.png',\n",
       " 'C100P61ThinF_IMG_20150918_145938_cell_172.png',\n",
       " 'C100P61ThinF_IMG_20150918_145938_cell_173.png',\n",
       " 'C100P61ThinF_IMG_20150918_145938_cell_174.png',\n",
       " 'C100P61ThinF_IMG_20150918_150041_cell_146.png',\n",
       " 'C100P61ThinF_IMG_20150918_150041_cell_147.png',\n",
       " 'C100P61ThinF_IMG_20150918_150041_cell_149.png',\n",
       " 'C101P62ThinF_IMG_20150918_151006_cell_61.png',\n",
       " 'C101P62ThinF_IMG_20150918_151006_cell_62.png',\n",
       " 'C101P62ThinF_IMG_20150918_151006_cell_63.png',\n",
       " 'C101P62ThinF_IMG_20150918_151006_cell_65.png',\n",
       " 'C101P62ThinF_IMG_20150918_151006_cell_66.png',\n",
       " 'C101P62ThinF_IMG_20150918_151006_cell_67.png',\n",
       " 'C101P62ThinF_IMG_20150918_151006_cell_68.png',\n",
       " 'C101P62ThinF_IMG_20150918_151006_cell_69.png',\n",
       " 'C101P62ThinF_IMG_20150918_151006_cell_70.png',\n",
       " 'C101P62ThinF_IMG_20150918_151006_cell_71.png',\n",
       " 'C101P62ThinF_IMG_20150918_151006_cell_72.png',\n",
       " 'C101P62ThinF_IMG_20150918_151006_cell_73.png',\n",
       " 'C101P62ThinF_IMG_20150918_151006_cell_74.png',\n",
       " 'C101P62ThinF_IMG_20150918_151006_cell_75.png',\n",
       " 'C101P62ThinF_IMG_20150918_151006_cell_76.png',\n",
       " 'C101P62ThinF_IMG_20150918_151006_cell_77.png',\n",
       " 'C101P62ThinF_IMG_20150918_151006_cell_78.png',\n",
       " 'C101P62ThinF_IMG_20150918_151006_cell_79.png',\n",
       " 'C101P62ThinF_IMG_20150918_151006_cell_80.png',\n",
       " 'C101P62ThinF_IMG_20150918_151006_cell_81.png',\n",
       " 'C101P62ThinF_IMG_20150918_151006_cell_82.png',\n",
       " 'C101P62ThinF_IMG_20150918_151006_cell_83.png',\n",
       " 'C101P62ThinF_IMG_20150918_151006_cell_84.png',\n",
       " 'C101P62ThinF_IMG_20150918_151006_cell_85.png',\n",
       " 'C101P62ThinF_IMG_20150918_151006_cell_86.png',\n",
       " 'C101P62ThinF_IMG_20150918_151149_cell_68.png',\n",
       " 'C101P62ThinF_IMG_20150918_151149_cell_69.png',\n",
       " 'C101P62ThinF_IMG_20150918_151149_cell_70.png',\n",
       " 'C101P62ThinF_IMG_20150918_151149_cell_71.png',\n",
       " 'C101P62ThinF_IMG_20150918_151149_cell_72.png',\n",
       " 'C101P62ThinF_IMG_20150918_151149_cell_73.png',\n",
       " 'C101P62ThinF_IMG_20150918_151149_cell_74.png',\n",
       " 'C101P62ThinF_IMG_20150918_151149_cell_75.png',\n",
       " 'C101P62ThinF_IMG_20150918_151149_cell_76.png',\n",
       " 'C101P62ThinF_IMG_20150918_151149_cell_77.png',\n",
       " 'C101P62ThinF_IMG_20150918_151149_cell_78.png',\n",
       " 'C101P62ThinF_IMG_20150918_151149_cell_79.png',\n",
       " 'C101P62ThinF_IMG_20150918_151149_cell_80.png',\n",
       " 'C101P62ThinF_IMG_20150918_151149_cell_81.png',\n",
       " 'C101P62ThinF_IMG_20150918_151149_cell_82.png',\n",
       " 'C101P62ThinF_IMG_20150918_151149_cell_83.png',\n",
       " 'C101P62ThinF_IMG_20150918_151149_cell_84.png',\n",
       " 'C101P62ThinF_IMG_20150918_151149_cell_85.png',\n",
       " 'C101P62ThinF_IMG_20150918_151149_cell_86.png',\n",
       " 'C101P62ThinF_IMG_20150918_151149_cell_87.png',\n",
       " 'C101P62ThinF_IMG_20150918_151149_cell_88.png',\n",
       " 'C101P62ThinF_IMG_20150918_151239_cell_100.png',\n",
       " 'C101P62ThinF_IMG_20150918_151239_cell_74.png',\n",
       " 'C101P62ThinF_IMG_20150918_151239_cell_75.png',\n",
       " 'C101P62ThinF_IMG_20150918_151239_cell_76.png',\n",
       " 'C101P62ThinF_IMG_20150918_151239_cell_77.png',\n",
       " 'C101P62ThinF_IMG_20150918_151239_cell_78.png',\n",
       " 'C101P62ThinF_IMG_20150918_151239_cell_79.png',\n",
       " 'C101P62ThinF_IMG_20150918_151239_cell_81.png',\n",
       " 'C101P62ThinF_IMG_20150918_151239_cell_82.png',\n",
       " 'C101P62ThinF_IMG_20150918_151239_cell_83.png',\n",
       " 'C101P62ThinF_IMG_20150918_151239_cell_84.png',\n",
       " 'C101P62ThinF_IMG_20150918_151239_cell_85.png',\n",
       " 'C101P62ThinF_IMG_20150918_151239_cell_86.png',\n",
       " 'C101P62ThinF_IMG_20150918_151239_cell_87.png',\n",
       " 'C101P62ThinF_IMG_20150918_151239_cell_89.png',\n",
       " 'C101P62ThinF_IMG_20150918_151239_cell_90.png',\n",
       " 'C101P62ThinF_IMG_20150918_151239_cell_91.png',\n",
       " 'C101P62ThinF_IMG_20150918_151239_cell_92.png',\n",
       " 'C101P62ThinF_IMG_20150918_151239_cell_93.png',\n",
       " 'C101P62ThinF_IMG_20150918_151239_cell_94.png',\n",
       " 'C101P62ThinF_IMG_20150918_151239_cell_95.png',\n",
       " 'C101P62ThinF_IMG_20150918_151239_cell_96.png',\n",
       " 'C101P62ThinF_IMG_20150918_151239_cell_97.png',\n",
       " 'C101P62ThinF_IMG_20150918_151239_cell_98.png',\n",
       " 'C101P62ThinF_IMG_20150918_151335_cell_51.png',\n",
       " 'C101P62ThinF_IMG_20150918_151335_cell_52.png',\n",
       " 'C101P62ThinF_IMG_20150918_151335_cell_53.png',\n",
       " 'C101P62ThinF_IMG_20150918_151335_cell_54.png',\n",
       " 'C101P62ThinF_IMG_20150918_151335_cell_55.png',\n",
       " 'C101P62ThinF_IMG_20150918_151335_cell_56.png',\n",
       " 'C101P62ThinF_IMG_20150918_151335_cell_57.png',\n",
       " 'C101P62ThinF_IMG_20150918_151335_cell_59.png',\n",
       " 'C101P62ThinF_IMG_20150918_151335_cell_60.png',\n",
       " 'C101P62ThinF_IMG_20150918_151335_cell_61.png',\n",
       " 'C101P62ThinF_IMG_20150918_151335_cell_62.png',\n",
       " 'C101P62ThinF_IMG_20150918_151335_cell_63.png',\n",
       " 'C101P62ThinF_IMG_20150918_151335_cell_64.png',\n",
       " 'C101P62ThinF_IMG_20150918_151335_cell_65.png',\n",
       " 'C101P62ThinF_IMG_20150918_151335_cell_67.png',\n",
       " 'C101P62ThinF_IMG_20150918_151335_cell_68.png',\n",
       " 'C101P62ThinF_IMG_20150918_151335_cell_69.png',\n",
       " 'C101P62ThinF_IMG_20150918_151335_cell_70.png',\n",
       " 'C101P62ThinF_IMG_20150918_151335_cell_71.png',\n",
       " 'C101P62ThinF_IMG_20150918_151335_cell_72.png',\n",
       " 'C101P62ThinF_IMG_20150918_151335_cell_73.png',\n",
       " 'C101P62ThinF_IMG_20150918_151335_cell_74.png',\n",
       " 'C101P62ThinF_IMG_20150918_151335_cell_75.png',\n",
       " 'C101P62ThinF_IMG_20150918_151335_cell_76.png',\n",
       " 'C101P62ThinF_IMG_20150918_151335_cell_77.png',\n",
       " 'C101P62ThinF_IMG_20150918_151335_cell_78.png',\n",
       " 'C101P62ThinF_IMG_20150918_151507_cell_49.png',\n",
       " 'C101P62ThinF_IMG_20150918_151507_cell_50.png',\n",
       " 'C101P62ThinF_IMG_20150918_151507_cell_51.png',\n",
       " 'C101P62ThinF_IMG_20150918_151507_cell_52.png',\n",
       " 'C101P62ThinF_IMG_20150918_151507_cell_53.png',\n",
       " 'C101P62ThinF_IMG_20150918_151507_cell_54.png',\n",
       " 'C101P62ThinF_IMG_20150918_151507_cell_55.png',\n",
       " 'C101P62ThinF_IMG_20150918_151507_cell_56.png',\n",
       " 'C101P62ThinF_IMG_20150918_151507_cell_57.png',\n",
       " 'C101P62ThinF_IMG_20150918_151507_cell_58.png',\n",
       " 'C101P62ThinF_IMG_20150918_151507_cell_59.png',\n",
       " 'C101P62ThinF_IMG_20150918_151507_cell_61.png',\n",
       " 'C101P62ThinF_IMG_20150918_151507_cell_62.png',\n",
       " 'C101P62ThinF_IMG_20150918_151507_cell_64.png',\n",
       " 'C101P62ThinF_IMG_20150918_151507_cell_66.png',\n",
       " 'C101P62ThinF_IMG_20150918_151507_cell_67.png',\n",
       " 'C101P62ThinF_IMG_20150918_151507_cell_68.png',\n",
       " 'C101P62ThinF_IMG_20150918_151507_cell_69.png',\n",
       " 'C101P62ThinF_IMG_20150918_151507_cell_71.png',\n",
       " 'C101P62ThinF_IMG_20150918_151507_cell_72.png',\n",
       " 'C101P62ThinF_IMG_20150918_151507_cell_74.png',\n",
       " 'C101P62ThinF_IMG_20150918_151507_cell_76.png',\n",
       " 'C101P62ThinF_IMG_20150918_151507_cell_77.png',\n",
       " 'C101P62ThinF_IMG_20150918_151942_cell_58.png',\n",
       " 'C101P62ThinF_IMG_20150918_151942_cell_59.png',\n",
       " 'C101P62ThinF_IMG_20150918_151942_cell_60.png',\n",
       " 'C101P62ThinF_IMG_20150918_151942_cell_61.png',\n",
       " 'C101P62ThinF_IMG_20150918_151942_cell_62.png',\n",
       " 'C101P62ThinF_IMG_20150918_151942_cell_64.png',\n",
       " 'C101P62ThinF_IMG_20150918_151942_cell_66.png',\n",
       " 'C101P62ThinF_IMG_20150918_151942_cell_67.png',\n",
       " 'C101P62ThinF_IMG_20150918_151942_cell_68.png',\n",
       " 'C101P62ThinF_IMG_20150918_151942_cell_69.png',\n",
       " 'C101P62ThinF_IMG_20150918_151942_cell_71.png',\n",
       " 'C101P62ThinF_IMG_20150918_151942_cell_72.png',\n",
       " 'C101P62ThinF_IMG_20150918_151942_cell_73.png',\n",
       " 'C101P62ThinF_IMG_20150918_151942_cell_74.png',\n",
       " 'C101P62ThinF_IMG_20150918_151942_cell_75.png',\n",
       " 'C101P62ThinF_IMG_20150918_151942_cell_76.png',\n",
       " 'C101P62ThinF_IMG_20150918_151942_cell_77.png',\n",
       " 'C101P62ThinF_IMG_20150918_151942_cell_78.png',\n",
       " 'C101P62ThinF_IMG_20150918_151942_cell_79.png',\n",
       " 'C101P62ThinF_IMG_20150918_151942_cell_80.png',\n",
       " 'C101P62ThinF_IMG_20150918_151942_cell_81.png',\n",
       " 'C101P62ThinF_IMG_20150918_151942_cell_82.png',\n",
       " 'C101P62ThinF_IMG_20150918_151942_cell_83.png',\n",
       " 'C101P62ThinF_IMG_20150918_151942_cell_84.png',\n",
       " 'C101P62ThinF_IMG_20150918_151942_cell_85.png',\n",
       " 'C101P62ThinF_IMG_20150918_151942_cell_88.png',\n",
       " 'C101P62ThinF_IMG_20150918_151942_cell_89.png',\n",
       " 'C101P62ThinF_IMG_20150918_151942_cell_90.png',\n",
       " 'C101P62ThinF_IMG_20150918_155026_cell_1.png',\n",
       " 'C101P62ThinF_IMG_20150918_155731_cell_61.png',\n",
       " 'C101P62ThinF_IMG_20150918_155731_cell_63.png',\n",
       " 'C101P62ThinF_IMG_20150918_155731_cell_64.png',\n",
       " 'C101P62ThinF_IMG_20150918_155731_cell_65.png',\n",
       " 'C101P62ThinF_IMG_20150918_155731_cell_68.png',\n",
       " 'C101P62ThinF_IMG_20150918_155731_cell_69.png',\n",
       " 'C101P62ThinF_IMG_20150918_155731_cell_70.png',\n",
       " 'C101P62ThinF_IMG_20150918_155731_cell_71.png',\n",
       " 'C101P62ThinF_IMG_20150918_155731_cell_73.png',\n",
       " 'C101P62ThinF_IMG_20150918_155731_cell_74.png',\n",
       " 'C101P62ThinF_IMG_20150918_155731_cell_75.png',\n",
       " 'C101P62ThinF_IMG_20150918_155731_cell_76.png',\n",
       " 'C101P62ThinF_IMG_20150918_155731_cell_77.png',\n",
       " 'C101P62ThinF_IMG_20150918_155731_cell_78.png',\n",
       " 'C101P62ThinF_IMG_20150918_155731_cell_79.png',\n",
       " 'C101P62ThinF_IMG_20150918_155731_cell_80.png',\n",
       " 'C101P62ThinF_IMG_20150918_155731_cell_81.png',\n",
       " 'C101P62ThinF_IMG_20150918_155731_cell_82.png',\n",
       " 'C101P62ThinF_IMG_20150918_155731_cell_83.png',\n",
       " 'C101P62ThinF_IMG_20150918_155731_cell_84.png',\n",
       " 'C101P62ThinF_IMG_20150923_165215_cell_1.png',\n",
       " 'C101P62ThinF_IMG_20150923_165215_cell_10.png',\n",
       " 'C101P62ThinF_IMG_20150923_165215_cell_11.png',\n",
       " 'C101P62ThinF_IMG_20150923_165215_cell_12.png',\n",
       " 'C101P62ThinF_IMG_20150923_165215_cell_13.png',\n",
       " 'C101P62ThinF_IMG_20150923_165215_cell_14.png',\n",
       " 'C101P62ThinF_IMG_20150923_165215_cell_15.png',\n",
       " 'C101P62ThinF_IMG_20150923_165215_cell_16.png',\n",
       " 'C101P62ThinF_IMG_20150923_165215_cell_17.png',\n",
       " 'C101P62ThinF_IMG_20150923_165215_cell_19.png',\n",
       " 'C101P62ThinF_IMG_20150923_165215_cell_20.png',\n",
       " 'C101P62ThinF_IMG_20150923_165215_cell_21.png',\n",
       " 'C101P62ThinF_IMG_20150923_165215_cell_22.png',\n",
       " 'C101P62ThinF_IMG_20150923_165215_cell_23.png',\n",
       " 'C101P62ThinF_IMG_20150923_165215_cell_24.png',\n",
       " 'C101P62ThinF_IMG_20150923_165215_cell_25.png',\n",
       " 'C101P62ThinF_IMG_20150923_165215_cell_26.png',\n",
       " 'C101P62ThinF_IMG_20150923_165215_cell_27.png',\n",
       " 'C101P62ThinF_IMG_20150923_165215_cell_28.png',\n",
       " 'C101P62ThinF_IMG_20150923_165215_cell_29.png',\n",
       " 'C101P62ThinF_IMG_20150923_165215_cell_3.png',\n",
       " 'C101P62ThinF_IMG_20150923_165215_cell_30.png',\n",
       " 'C101P62ThinF_IMG_20150923_165215_cell_32.png',\n",
       " 'C101P62ThinF_IMG_20150923_165215_cell_33.png',\n",
       " 'C101P62ThinF_IMG_20150923_165215_cell_34.png',\n",
       " 'C101P62ThinF_IMG_20150923_165215_cell_35.png',\n",
       " 'C101P62ThinF_IMG_20150923_165215_cell_37.png',\n",
       " 'C101P62ThinF_IMG_20150923_165215_cell_38.png',\n",
       " 'C101P62ThinF_IMG_20150923_165215_cell_39.png',\n",
       " 'C101P62ThinF_IMG_20150923_165215_cell_4.png',\n",
       " 'C101P62ThinF_IMG_20150923_165215_cell_40.png',\n",
       " 'C101P62ThinF_IMG_20150923_165215_cell_41.png',\n",
       " 'C101P62ThinF_IMG_20150923_165215_cell_5.png',\n",
       " 'C101P62ThinF_IMG_20150923_165215_cell_6.png',\n",
       " 'C101P62ThinF_IMG_20150923_165215_cell_7.png',\n",
       " 'C101P62ThinF_IMG_20150923_165215_cell_8.png',\n",
       " 'C101P62ThinF_IMG_20150923_165215_cell_9.png',\n",
       " 'C101P62ThinF_IMG_20150923_170110_cell_1.png',\n",
       " 'C101P62ThinF_IMG_20150923_170110_cell_10.png',\n",
       " 'C101P62ThinF_IMG_20150923_170110_cell_11.png',\n",
       " 'C101P62ThinF_IMG_20150923_170110_cell_12.png',\n",
       " 'C101P62ThinF_IMG_20150923_170110_cell_14.png',\n",
       " 'C101P62ThinF_IMG_20150923_170110_cell_15.png',\n",
       " 'C101P62ThinF_IMG_20150923_170110_cell_16.png',\n",
       " 'C101P62ThinF_IMG_20150923_170110_cell_17.png',\n",
       " 'C101P62ThinF_IMG_20150923_170110_cell_18.png',\n",
       " 'C101P62ThinF_IMG_20150923_170110_cell_19.png',\n",
       " 'C101P62ThinF_IMG_20150923_170110_cell_2.png',\n",
       " 'C101P62ThinF_IMG_20150923_170110_cell_20.png',\n",
       " 'C101P62ThinF_IMG_20150923_170110_cell_21.png',\n",
       " 'C101P62ThinF_IMG_20150923_170110_cell_22.png',\n",
       " 'C101P62ThinF_IMG_20150923_170110_cell_23.png',\n",
       " 'C101P62ThinF_IMG_20150923_170110_cell_24.png',\n",
       " 'C101P62ThinF_IMG_20150923_170110_cell_3.png',\n",
       " 'C101P62ThinF_IMG_20150923_170110_cell_4.png',\n",
       " 'C101P62ThinF_IMG_20150923_170110_cell_5.png',\n",
       " 'C101P62ThinF_IMG_20150923_170110_cell_6.png',\n",
       " 'C101P62ThinF_IMG_20150923_170110_cell_7.png',\n",
       " 'C101P62ThinF_IMG_20150923_170110_cell_8.png',\n",
       " 'C101P62ThinF_IMG_20150923_170110_cell_9.png',\n",
       " 'C101P62ThinF_IMG_20150923_170246_cell_62.png',\n",
       " 'C101P62ThinF_IMG_20150923_170246_cell_63.png',\n",
       " 'C101P62ThinF_IMG_20150923_170246_cell_64.png',\n",
       " 'C101P62ThinF_IMG_20150923_170246_cell_65.png',\n",
       " 'C101P62ThinF_IMG_20150923_170246_cell_66.png',\n",
       " 'C101P62ThinF_IMG_20150923_170246_cell_67.png',\n",
       " 'C101P62ThinF_IMG_20150923_170246_cell_68.png',\n",
       " 'C101P62ThinF_IMG_20150923_170246_cell_70.png',\n",
       " 'C101P62ThinF_IMG_20150923_170246_cell_71.png',\n",
       " 'C101P62ThinF_IMG_20150923_170246_cell_72.png',\n",
       " 'C101P62ThinF_IMG_20150923_170246_cell_74.png',\n",
       " 'C101P62ThinF_IMG_20150923_170246_cell_75.png',\n",
       " 'C101P62ThinF_IMG_20150923_170246_cell_76.png',\n",
       " 'C101P62ThinF_IMG_20150923_170246_cell_77.png',\n",
       " 'C101P62ThinF_IMG_20150923_170246_cell_78.png',\n",
       " 'C101P62ThinF_IMG_20150923_170246_cell_79.png',\n",
       " 'C101P62ThinF_IMG_20150923_170246_cell_80.png',\n",
       " 'C101P62ThinF_IMG_20150923_170246_cell_81.png',\n",
       " 'C101P62ThinF_IMG_20150923_170246_cell_82.png',\n",
       " 'C101P62ThinF_IMG_20150923_170246_cell_83.png',\n",
       " 'C101P62ThinF_IMG_20150923_170246_cell_84.png',\n",
       " 'C101P62ThinF_IMG_20150923_170246_cell_85.png',\n",
       " 'C101P62ThinF_IMG_20150923_170246_cell_87.png',\n",
       " 'C101P62ThinF_IMG_20150923_170246_cell_88.png',\n",
       " 'C101P62ThinF_IMG_20150923_170246_cell_89.png',\n",
       " 'C101P62ThinF_IMG_20150923_170246_cell_90.png',\n",
       " 'C101P62ThinF_IMG_20150923_170344_cell_100.png',\n",
       " 'C101P62ThinF_IMG_20150923_170344_cell_71.png',\n",
       " 'C101P62ThinF_IMG_20150923_170344_cell_72.png',\n",
       " 'C101P62ThinF_IMG_20150923_170344_cell_73.png',\n",
       " 'C101P62ThinF_IMG_20150923_170344_cell_74.png',\n",
       " 'C101P62ThinF_IMG_20150923_170344_cell_75.png',\n",
       " 'C101P62ThinF_IMG_20150923_170344_cell_76.png',\n",
       " 'C101P62ThinF_IMG_20150923_170344_cell_77.png',\n",
       " 'C101P62ThinF_IMG_20150923_170344_cell_78.png',\n",
       " 'C101P62ThinF_IMG_20150923_170344_cell_79.png',\n",
       " 'C101P62ThinF_IMG_20150923_170344_cell_80.png',\n",
       " 'C101P62ThinF_IMG_20150923_170344_cell_81.png',\n",
       " 'C101P62ThinF_IMG_20150923_170344_cell_82.png',\n",
       " 'C101P62ThinF_IMG_20150923_170344_cell_84.png',\n",
       " 'C101P62ThinF_IMG_20150923_170344_cell_86.png',\n",
       " 'C101P62ThinF_IMG_20150923_170344_cell_87.png',\n",
       " 'C101P62ThinF_IMG_20150923_170344_cell_88.png',\n",
       " 'C101P62ThinF_IMG_20150923_170344_cell_89.png',\n",
       " 'C101P62ThinF_IMG_20150923_170344_cell_90.png',\n",
       " 'C101P62ThinF_IMG_20150923_170344_cell_91.png',\n",
       " 'C101P62ThinF_IMG_20150923_170344_cell_92.png',\n",
       " 'C101P62ThinF_IMG_20150923_170344_cell_93.png',\n",
       " 'C101P62ThinF_IMG_20150923_170344_cell_94.png',\n",
       " 'C101P62ThinF_IMG_20150923_170344_cell_95.png',\n",
       " 'C101P62ThinF_IMG_20150923_170344_cell_97.png',\n",
       " 'C101P62ThinF_IMG_20150923_170344_cell_98.png',\n",
       " 'C102P63ThinF_IMG_20150918_161508_cell_190.png',\n",
       " 'C102P63ThinF_IMG_20150918_161508_cell_191.png',\n",
       " 'C102P63ThinF_IMG_20150918_161508_cell_192.png',\n",
       " 'C102P63ThinF_IMG_20150918_161508_cell_193.png',\n",
       " 'C102P63ThinF_IMG_20150918_161508_cell_194.png',\n",
       " 'C102P63ThinF_IMG_20150918_161508_cell_195.png',\n",
       " 'C102P63ThinF_IMG_20150918_161826_cell_170.png',\n",
       " 'C102P63ThinF_IMG_20150918_161826_cell_171.png',\n",
       " 'C102P63ThinF_IMG_20150918_161826_cell_172.png',\n",
       " 'C102P63ThinF_IMG_20150918_162051_cell_141.png',\n",
       " 'C102P63ThinF_IMG_20150918_162051_cell_142.png',\n",
       " 'C102P63ThinF_IMG_20150918_162051_cell_143.png',\n",
       " 'C102P63ThinF_IMG_20150918_162051_cell_144.png',\n",
       " 'C102P63ThinF_IMG_20150918_162051_cell_145.png',\n",
       " 'C102P63ThinF_IMG_20150918_162051_cell_146.png',\n",
       " 'C102P63ThinF_IMG_20150918_162051_cell_147.png',\n",
       " 'C102P63ThinF_IMG_20150918_162155_cell_132.png',\n",
       " 'C102P63ThinF_IMG_20150918_162155_cell_133.png',\n",
       " 'C102P63ThinF_IMG_20150918_162300_cell_180.png',\n",
       " 'C102P63ThinF_IMG_20150918_162300_cell_181.png',\n",
       " 'C102P63ThinF_IMG_20150918_162300_cell_182.png',\n",
       " 'C102P63ThinF_IMG_20150918_162511_cell_169.png',\n",
       " 'C102P63ThinF_IMG_20150918_162511_cell_170.png',\n",
       " 'C102P63ThinF_IMG_20150918_162511_cell_171.png',\n",
       " 'C102P63ThinF_IMG_20150918_162511_cell_172.png',\n",
       " 'C102P63ThinF_IMG_20150918_162511_cell_173.png',\n",
       " 'C102P63ThinF_IMG_20150918_162927_cell_1.png',\n",
       " 'C102P63ThinF_IMG_20150918_162927_cell_2.png',\n",
       " 'C102P63ThinF_IMG_20150918_162927_cell_3.png',\n",
       " 'C102P63ThinF_IMG_20150918_162927_cell_4.png',\n",
       " 'C102P63ThinF_IMG_20150918_162927_cell_5.png',\n",
       " 'C102P63ThinF_IMG_20150918_163054_cell_167.png',\n",
       " 'C102P63ThinF_IMG_20150918_163054_cell_168.png',\n",
       " 'C102P63ThinF_IMG_20150918_163054_cell_169.png',\n",
       " 'C102P63ThinF_IMG_20150918_163054_cell_170.png',\n",
       " 'C103P64ThinF_IMG_20150918_164250_cell_170.png',\n",
       " 'C103P64ThinF_IMG_20150918_164250_cell_172.png',\n",
       " 'C103P64ThinF_IMG_20150918_164250_cell_173.png',\n",
       " 'C103P64ThinF_IMG_20150918_164250_cell_174.png',\n",
       " 'C103P64ThinF_IMG_20150918_164331_cell_185.png',\n",
       " 'C103P64ThinF_IMG_20150918_164331_cell_186.png',\n",
       " 'C103P64ThinF_IMG_20150918_164331_cell_187.png',\n",
       " 'C103P64ThinF_IMG_20150918_164553_cell_167.png',\n",
       " 'C103P64ThinF_IMG_20150918_164553_cell_168.png',\n",
       " 'C103P64ThinF_IMG_20150918_164553_cell_169.png',\n",
       " 'C103P64ThinF_IMG_20150918_164553_cell_170.png',\n",
       " 'C103P64ThinF_IMG_20150918_164553_cell_172.png',\n",
       " 'C103P64ThinF_IMG_20150918_164553_cell_173.png',\n",
       " 'C103P64ThinF_IMG_20150918_165016_cell_158.png',\n",
       " 'C103P64ThinF_IMG_20150918_165016_cell_159.png',\n",
       " 'C103P64ThinF_IMG_20150918_165016_cell_160.png',\n",
       " 'C103P64ThinF_IMG_20150918_165016_cell_161.png',\n",
       " 'C103P64ThinF_IMG_20150918_165016_cell_162.png',\n",
       " 'C103P64ThinF_IMG_20150918_165125_cell_163.png',\n",
       " 'C103P64ThinF_IMG_20150918_165125_cell_164.png',\n",
       " 'C103P64ThinF_IMG_20150918_165125_cell_165.png',\n",
       " 'C103P64ThinF_IMG_20150918_165125_cell_166.png',\n",
       " 'C103P64ThinF_IMG_20150918_165510_cell_176.png',\n",
       " 'C103P64ThinF_IMG_20150918_165510_cell_177.png',\n",
       " 'C103P64ThinF_IMG_20150918_165510_cell_178.png',\n",
       " 'C103P64ThinF_IMG_20150918_165510_cell_179.png',\n",
       " 'C103P64ThinF_IMG_20150918_165510_cell_180.png',\n",
       " 'C103P64ThinF_IMG_20150918_165510_cell_181.png',\n",
       " 'C103P64ThinF_IMG_20150918_165510_cell_182.png',\n",
       " 'C103P64ThinF_IMG_20150918_165510_cell_183.png',\n",
       " 'C103P64ThinF_IMG_20150918_165510_cell_184.png',\n",
       " 'C103P64ThinF_IMG_20150918_165510_cell_185.png',\n",
       " 'C103P64ThinF_IMG_20150918_165510_cell_186.png',\n",
       " 'C103P64ThinF_IMG_20150918_165510_cell_188.png',\n",
       " 'C104P65ThinF_IMG_20150918_170850_cell_204.png',\n",
       " 'C104P65ThinF_IMG_20150918_171154_cell_212.png',\n",
       " 'C104P65ThinF_IMG_20150918_171154_cell_213.png',\n",
       " 'C104P65ThinF_IMG_20150918_171751_cell_186.png',\n",
       " 'C104P65ThinF_IMG_20150918_171751_cell_187.png',\n",
       " 'C104P65ThinF_IMG_20150918_172053_cell_187.png',\n",
       " 'C104P65ThinF_IMG_20150918_172537_cell_149.png',\n",
       " 'C104P65ThinF_IMG_20150918_172639_cell_182.png',\n",
       " 'C104P65ThinF_IMG_20150918_172639_cell_184.png',\n",
       " 'C105P66ThinF_IMG_20150924_094800_cell_136.png',\n",
       " 'C105P66ThinF_IMG_20150924_094800_cell_137.png',\n",
       " 'C105P66ThinF_IMG_20150924_095034_cell_148.png',\n",
       " 'C105P66ThinF_IMG_20150924_095034_cell_149.png',\n",
       " 'C105P66ThinF_IMG_20150924_095034_cell_150.png',\n",
       " 'C105P66ThinF_IMG_20150924_095130_cell_155.png',\n",
       " 'C105P66ThinF_IMG_20150924_095130_cell_156.png',\n",
       " 'C105P66ThinF_IMG_20150924_095130_cell_157.png',\n",
       " 'C105P66ThinF_IMG_20150924_095130_cell_158.png',\n",
       " 'C105P66ThinF_IMG_20150924_095633_cell_126.png',\n",
       " 'C105P66ThinF_IMG_20150924_095716_cell_113.png',\n",
       " 'C105P66ThinF_IMG_20150924_095716_cell_114.png',\n",
       " 'C105P66ThinF_IMG_20150924_095913_cell_117.png',\n",
       " 'C105P66ThinF_IMG_20150924_095913_cell_118.png',\n",
       " 'C105P66ThinF_IMG_20150924_100655_cell_123.png',\n",
       " 'C105P66ThinF_IMG_20150924_100655_cell_124.png',\n",
       " 'C105P66ThinF_IMG_20150924_100655_cell_125.png',\n",
       " 'C106P67ThinF_IMG_20150924_102245_cell_164.png',\n",
       " 'C106P67ThinF_IMG_20150924_102245_cell_165.png',\n",
       " 'C106P67ThinF_IMG_20150924_102245_cell_166.png',\n",
       " 'C106P67ThinF_IMG_20150924_102413_cell_190.png',\n",
       " 'C106P67ThinF_IMG_20150924_102826_cell_143.png',\n",
       " 'C106P67ThinF_IMG_20150924_103245_cell_143.png',\n",
       " 'C106P67ThinF_IMG_20150924_103811_cell_180.png',\n",
       " 'C106P67ThinF_IMG_20150924_103811_cell_181.png',\n",
       " 'C106P67ThinF_IMG_20150924_103811_cell_182.png',\n",
       " 'C106P67ThinF_IMG_20150924_103811_cell_183.png',\n",
       " 'C106P67ThinF_IMG_20150924_104044_cell_167.png',\n",
       " 'C106P67ThinF_IMG_20150924_104044_cell_168.png',\n",
       " 'C107P68ThinF_IMG_20150924_221632_cell_169.png',\n",
       " 'C107P68ThinF_IMG_20150924_221632_cell_170.png',\n",
       " 'C107P68ThinF_IMG_20150924_221632_cell_172.png',\n",
       " 'C107P68ThinF_IMG_20150924_221632_cell_173.png',\n",
       " 'C107P68ThinF_IMG_20150924_221632_cell_174.png',\n",
       " 'C107P68ThinF_IMG_20150924_221632_cell_175.png',\n",
       " 'C107P68ThinF_IMG_20150924_221632_cell_176.png',\n",
       " 'C107P68ThinF_IMG_20150924_221632_cell_177.png',\n",
       " 'C107P68ThinF_IMG_20150924_221632_cell_178.png',\n",
       " 'C107P68ThinF_IMG_20150924_221632_cell_179.png',\n",
       " 'C107P68ThinF_IMG_20150924_221632_cell_180.png',\n",
       " 'C107P68ThinF_IMG_20150924_221909_cell_156.png',\n",
       " 'C107P68ThinF_IMG_20150924_221909_cell_159.png',\n",
       " 'C107P68ThinF_IMG_20150924_221909_cell_160.png',\n",
       " 'C107P68ThinF_IMG_20150924_221909_cell_161.png',\n",
       " 'C107P68ThinF_IMG_20150924_221909_cell_162.png',\n",
       " 'C107P68ThinF_IMG_20150924_221909_cell_163.png',\n",
       " 'C107P68ThinF_IMG_20150924_222233_cell_150.png',\n",
       " 'C107P68ThinF_IMG_20150924_222233_cell_151.png',\n",
       " 'C107P68ThinF_IMG_20150924_222233_cell_153.png',\n",
       " 'C107P68ThinF_IMG_20150924_222233_cell_154.png',\n",
       " 'C107P68ThinF_IMG_20150924_222233_cell_156.png',\n",
       " 'C107P68ThinF_IMG_20150924_222233_cell_157.png',\n",
       " 'C107P68ThinF_IMG_20150924_222233_cell_158.png',\n",
       " 'C107P68ThinF_IMG_20150924_222233_cell_159.png',\n",
       " 'C107P68ThinF_IMG_20150924_222233_cell_160.png',\n",
       " 'C107P68ThinF_IMG_20150924_222233_cell_161.png',\n",
       " 'C107P68ThinF_IMG_20150924_222233_cell_162.png',\n",
       " 'C107P68ThinF_IMG_20150924_222233_cell_163.png',\n",
       " 'C107P68ThinF_IMG_20150924_222415_cell_172.png',\n",
       " 'C107P68ThinF_IMG_20150924_222415_cell_173.png',\n",
       " 'C107P68ThinF_IMG_20150924_222415_cell_174.png',\n",
       " 'C107P68ThinF_IMG_20150924_222415_cell_175.png',\n",
       " 'C107P68ThinF_IMG_20150924_222415_cell_176.png',\n",
       " 'C107P68ThinF_IMG_20150924_222415_cell_177.png',\n",
       " 'C107P68ThinF_IMG_20150924_222415_cell_178.png',\n",
       " 'C107P68ThinF_IMG_20150924_222415_cell_179.png',\n",
       " 'C107P68ThinF_IMG_20150924_222415_cell_180.png',\n",
       " 'C107P68ThinF_IMG_20150924_222415_cell_181.png',\n",
       " 'C107P68ThinF_IMG_20150924_222415_cell_182.png',\n",
       " 'C107P68ThinF_IMG_20150924_222415_cell_183.png',\n",
       " 'C107P68ThinF_IMG_20150924_222535_cell_139.png',\n",
       " 'C107P68ThinF_IMG_20150924_222535_cell_140.png',\n",
       " 'C107P68ThinF_IMG_20150924_222535_cell_141.png',\n",
       " 'C107P68ThinF_IMG_20150924_222535_cell_142.png',\n",
       " 'C107P68ThinF_IMG_20150924_222535_cell_143.png',\n",
       " 'C107P68ThinF_IMG_20150924_222535_cell_144.png',\n",
       " 'C107P68ThinF_IMG_20150924_222535_cell_145.png',\n",
       " 'C107P68ThinF_IMG_20150924_222535_cell_146.png',\n",
       " 'C107P68ThinF_IMG_20150924_222535_cell_147.png',\n",
       " 'C107P68ThinF_IMG_20150924_222535_cell_148.png',\n",
       " 'C107P68ThinF_IMG_20150924_222630_cell_174.png',\n",
       " 'C107P68ThinF_IMG_20150924_222630_cell_175.png',\n",
       " 'C107P68ThinF_IMG_20150924_222630_cell_176.png',\n",
       " 'C107P68ThinF_IMG_20150924_222630_cell_177.png',\n",
       " 'C108P69ThinF_IMG_20150924_223834_cell_218.png',\n",
       " 'C108P69ThinF_IMG_20150924_223834_cell_219.png',\n",
       " 'C108P69ThinF_IMG_20150924_223834_cell_220.png',\n",
       " 'C108P69ThinF_IMG_20150924_223834_cell_221.png',\n",
       " 'C108P69ThinF_IMG_20150924_224038_cell_188.png',\n",
       " 'C108P69ThinF_IMG_20150924_224038_cell_189.png',\n",
       " 'C108P69ThinF_IMG_20150924_224038_cell_190.png',\n",
       " 'C108P69ThinF_IMG_20150924_224616_cell_195.png',\n",
       " 'C108P69ThinF_IMG_20150924_224616_cell_196.png',\n",
       " 'C108P69ThinF_IMG_20150924_224616_cell_197.png',\n",
       " 'C108P69ThinF_IMG_20150924_224616_cell_198.png',\n",
       " 'C108P69ThinF_IMG_20150924_224909_cell_226.png',\n",
       " 'C108P69ThinF_IMG_20150924_225004_cell_221.png',\n",
       " 'C108P69ThinF_IMG_20150924_225004_cell_222.png',\n",
       " 'C108P69ThinF_IMG_20150924_225004_cell_223.png',\n",
       " 'C108P69ThinF_IMG_20150924_225004_cell_224.png',\n",
       " 'C108P69ThinF_IMG_20150924_225004_cell_225.png',\n",
       " 'C108P69ThinF_IMG_20150924_225511_cell_182.png',\n",
       " 'C108P69ThinF_IMG_20150924_225511_cell_183.png',\n",
       " 'C108P69ThinF_IMG_20150924_225511_cell_184.png',\n",
       " 'C109P70ThinF_IMG_20150930_102716_cell_185.png',\n",
       " 'C109P70ThinF_IMG_20150930_102716_cell_186.png',\n",
       " 'C109P70ThinF_IMG_20150930_102716_cell_187.png',\n",
       " 'C109P70ThinF_IMG_20150930_102944_cell_171.png',\n",
       " 'C109P70ThinF_IMG_20150930_102944_cell_172.png',\n",
       " 'C109P70ThinF_IMG_20150930_103113_cell_160.png',\n",
       " 'C109P70ThinF_IMG_20150930_103113_cell_162.png',\n",
       " 'C109P70ThinF_IMG_20150930_103214_cell_182.png',\n",
       " 'C109P70ThinF_IMG_20150930_103214_cell_183.png',\n",
       " 'C109P70ThinF_IMG_20150930_103214_cell_184.png',\n",
       " 'C109P70ThinF_IMG_20150930_103214_cell_185.png',\n",
       " 'C109P70ThinF_IMG_20150930_103645_cell_172.png',\n",
       " 'C109P70ThinF_IMG_20150930_103645_cell_173.png',\n",
       " 'C109P70ThinF_IMG_20150930_103645_cell_174.png',\n",
       " 'C109P70ThinF_IMG_20150930_103645_cell_175.png',\n",
       " 'C109P70ThinF_IMG_20150930_103811_cell_157.png',\n",
       " 'C109P70ThinF_IMG_20150930_103811_cell_158.png',\n",
       " 'C110P71ThinF_IMG_20150930_105319_cell_185.png',\n",
       " 'C110P71ThinF_IMG_20150930_105319_cell_186.png',\n",
       " 'C110P71ThinF_IMG_20150930_105319_cell_187.png',\n",
       " 'C110P71ThinF_IMG_20150930_105319_cell_188.png',\n",
       " 'C110P71ThinF_IMG_20150930_105319_cell_189.png',\n",
       " 'C110P71ThinF_IMG_20150930_105319_cell_190.png',\n",
       " 'C110P71ThinF_IMG_20150930_105559_cell_199.png',\n",
       " 'C110P71ThinF_IMG_20150930_105559_cell_200.png',\n",
       " 'C110P71ThinF_IMG_20150930_105559_cell_201.png',\n",
       " 'C110P71ThinF_IMG_20150930_105559_cell_202.png',\n",
       " 'C110P71ThinF_IMG_20150930_105729_cell_207.png',\n",
       " 'C110P71ThinF_IMG_20150930_105925_cell_221.png',\n",
       " 'C110P71ThinF_IMG_20150930_110052_cell_238.png',\n",
       " 'C110P71ThinF_IMG_20150930_110052_cell_239.png',\n",
       " 'C110P71ThinF_IMG_20150930_110052_cell_240.png',\n",
       " 'C110P71ThinF_IMG_20150930_110052_cell_241.png',\n",
       " 'C110P71ThinF_IMG_20150930_110052_cell_242.png',\n",
       " 'C110P71ThinF_IMG_20150930_110052_cell_243.png',\n",
       " 'C110P71ThinF_IMG_20150930_110404_cell_157.png',\n",
       " 'C110P71ThinF_IMG_20150930_110404_cell_158.png',\n",
       " 'C110P71ThinF_IMG_20150930_110404_cell_159.png',\n",
       " 'C110P71ThinF_IMG_20150930_110404_cell_160.png',\n",
       " 'C111P72ThinF_IMG_20150930_112430_cell_191.png',\n",
       " 'C111P72ThinF_IMG_20150930_112430_cell_192.png',\n",
       " 'C111P72ThinF_IMG_20150930_112430_cell_193.png',\n",
       " 'C111P72ThinF_IMG_20150930_112609_cell_169.png',\n",
       " 'C111P72ThinF_IMG_20150930_112609_cell_170.png',\n",
       " 'C111P72ThinF_IMG_20150930_112827_cell_176.png',\n",
       " 'C111P72ThinF_IMG_20150930_112827_cell_177.png',\n",
       " 'C111P72ThinF_IMG_20150930_112827_cell_178.png',\n",
       " 'C111P72ThinF_IMG_20150930_112827_cell_179.png',\n",
       " 'C111P72ThinF_IMG_20150930_113003_cell_182.png',\n",
       " 'C111P72ThinF_IMG_20150930_113049_cell_162.png',\n",
       " 'C111P72ThinF_IMG_20150930_113049_cell_163.png',\n",
       " 'C111P72ThinF_IMG_20150930_113049_cell_164.png',\n",
       " 'C111P72ThinF_IMG_20150930_113049_cell_165.png',\n",
       " 'C111P72ThinF_IMG_20150930_113049_cell_166.png',\n",
       " 'C111P72ThinF_IMG_20150930_113210_cell_171.png',\n",
       " 'C111P72ThinF_IMG_20150930_113610_cell_202.png',\n",
       " 'C111P72ThinF_IMG_20150930_113610_cell_203.png',\n",
       " 'C112P73ThinF_IMG_20150930_131254_cell_184.png',\n",
       " 'C112P73ThinF_IMG_20150930_131401_cell_165.png',\n",
       " 'C112P73ThinF_IMG_20150930_131401_cell_166.png',\n",
       " 'C112P73ThinF_IMG_20150930_131401_cell_167.png',\n",
       " 'C112P73ThinF_IMG_20150930_131401_cell_168.png',\n",
       " 'C112P73ThinF_IMG_20150930_131516_cell_177.png',\n",
       " 'C112P73ThinF_IMG_20150930_131516_cell_178.png',\n",
       " 'C112P73ThinF_IMG_20150930_131605_cell_181.png',\n",
       " 'C112P73ThinF_IMG_20150930_131605_cell_182.png',\n",
       " 'C112P73ThinF_IMG_20150930_131605_cell_183.png',\n",
       " 'C112P73ThinF_IMG_20150930_131659_cell_193.png',\n",
       " 'C112P73ThinF_IMG_20150930_131753_cell_167.png',\n",
       " 'C112P73ThinF_IMG_20150930_131900_cell_174.png',\n",
       " 'C112P73ThinF_IMG_20150930_131900_cell_175.png',\n",
       " 'C113P74ThinF_IMG_20150930_134355_cell_165.png',\n",
       " 'C113P74ThinF_IMG_20150930_134355_cell_166.png',\n",
       " 'C113P74ThinF_IMG_20150930_134355_cell_167.png',\n",
       " 'C113P74ThinF_IMG_20150930_134355_cell_168.png',\n",
       " 'C113P74ThinF_IMG_20150930_134355_cell_169.png',\n",
       " 'C113P74ThinF_IMG_20150930_134355_cell_170.png',\n",
       " 'C113P74ThinF_IMG_20150930_134355_cell_171.png',\n",
       " 'C113P74ThinF_IMG_20150930_134429_cell_176.png',\n",
       " 'C113P74ThinF_IMG_20150930_134429_cell_177.png',\n",
       " 'C113P74ThinF_IMG_20150930_134429_cell_178.png',\n",
       " 'C113P74ThinF_IMG_20150930_134429_cell_179.png',\n",
       " 'C113P74ThinF_IMG_20150930_134429_cell_180.png',\n",
       " 'C113P74ThinF_IMG_20150930_134429_cell_181.png',\n",
       " 'C113P74ThinF_IMG_20150930_134429_cell_182.png',\n",
       " 'C113P74ThinF_IMG_20150930_134429_cell_183.png',\n",
       " 'C113P74ThinF_IMG_20150930_134429_cell_184.png',\n",
       " 'C113P74ThinF_IMG_20150930_134614_cell_169.png',\n",
       " 'C113P74ThinF_IMG_20150930_134614_cell_170.png',\n",
       " 'C113P74ThinF_IMG_20150930_134614_cell_171.png',\n",
       " 'C113P74ThinF_IMG_20150930_134614_cell_174.png',\n",
       " 'C113P74ThinF_IMG_20150930_134614_cell_175.png',\n",
       " 'C113P74ThinF_IMG_20150930_134614_cell_176.png',\n",
       " 'C113P74ThinF_IMG_20150930_134751_cell_173.png',\n",
       " 'C113P74ThinF_IMG_20150930_134751_cell_174.png',\n",
       " 'C113P74ThinF_IMG_20150930_134751_cell_176.png',\n",
       " 'C113P74ThinF_IMG_20150930_134751_cell_177.png',\n",
       " 'C113P74ThinF_IMG_20150930_134751_cell_179.png',\n",
       " 'C113P74ThinF_IMG_20150930_134751_cell_180.png',\n",
       " 'C113P74ThinF_IMG_20150930_134751_cell_181.png',\n",
       " 'C113P74ThinF_IMG_20150930_134949_cell_158.png',\n",
       " 'C113P74ThinF_IMG_20150930_134949_cell_159.png',\n",
       " 'C113P74ThinF_IMG_20150930_134949_cell_160.png',\n",
       " 'C113P74ThinF_IMG_20150930_134949_cell_162.png',\n",
       " 'C113P74ThinF_IMG_20150930_135904_cell_180.png',\n",
       " 'C113P74ThinF_IMG_20150930_135904_cell_181.png',\n",
       " 'C113P74ThinF_IMG_20150930_135904_cell_182.png',\n",
       " 'C113P74ThinF_IMG_20150930_135904_cell_183.png',\n",
       " 'C113P74ThinF_IMG_20150930_135904_cell_184.png',\n",
       " 'C113P74ThinF_IMG_20150930_135904_cell_185.png',\n",
       " 'C113P74ThinF_IMG_20150930_135904_cell_187.png',\n",
       " 'C113P74ThinF_IMG_20150930_135904_cell_188.png',\n",
       " 'C113P74ThinF_IMG_20150930_135904_cell_189.png',\n",
       " 'C113P74ThinF_IMG_20150930_140646_cell_181.png',\n",
       " 'C113P74ThinF_IMG_20150930_140646_cell_182.png',\n",
       " 'C113P74ThinF_IMG_20150930_140646_cell_183.png',\n",
       " 'C113P74ThinF_IMG_20150930_140646_cell_184.png',\n",
       " 'C113P74ThinF_IMG_20150930_140646_cell_185.png',\n",
       " 'C113P74ThinF_IMG_20150930_140646_cell_186.png',\n",
       " 'C113P74ThinF_IMG_20150930_140646_cell_187.png',\n",
       " 'C113P74ThinF_IMG_20150930_140646_cell_188.png',\n",
       " 'C113P74ThinF_IMG_20150930_140646_cell_190.png',\n",
       " 'C114P75ThinF_IMG_20150930_150013_cell_195.png',\n",
       " 'C114P75ThinF_IMG_20150930_150013_cell_196.png',\n",
       " 'C114P75ThinF_IMG_20150930_150057_cell_172.png',\n",
       " 'C114P75ThinF_IMG_20150930_150145_cell_159.png',\n",
       " 'C114P75ThinF_IMG_20150930_150145_cell_160.png',\n",
       " 'C114P75ThinF_IMG_20150930_150555_cell_145.png',\n",
       " 'C114P75ThinF_IMG_20150930_150733_cell_149.png',\n",
       " 'C114P75ThinF_IMG_20150930_150733_cell_150.png',\n",
       " 'C114P75ThinF_IMG_20150930_150833_cell_164.png',\n",
       " 'C114P75ThinF_IMG_20150930_150833_cell_165.png',\n",
       " 'C114P75ThinF_IMG_20150930_151150_cell_177.png',\n",
       " 'C114P75ThinF_IMG_20150930_151150_cell_178.png',\n",
       " 'C114P75ThinF_IMG_20150930_151150_cell_179.png',\n",
       " 'C115P76ThinF_IMG_20150930_161825_cell_219.png',\n",
       " 'C115P76ThinF_IMG_20150930_161825_cell_221.png',\n",
       " 'C115P76ThinF_IMG_20150930_162038_cell_206.png',\n",
       " 'C115P76ThinF_IMG_20150930_162038_cell_207.png',\n",
       " 'C115P76ThinF_IMG_20150930_162038_cell_208.png',\n",
       " 'C115P76ThinF_IMG_20150930_162038_cell_209.png',\n",
       " 'C115P76ThinF_IMG_20150930_162038_cell_210.png',\n",
       " 'C115P76ThinF_IMG_20150930_162315_cell_256.png',\n",
       " 'C115P76ThinF_IMG_20150930_162315_cell_257.png',\n",
       " 'C115P76ThinF_IMG_20150930_163018_cell_252.png',\n",
       " 'C115P76ThinF_IMG_20150930_163156_cell_242.png',\n",
       " 'C115P76ThinF_IMG_20150930_163156_cell_243.png',\n",
       " 'C116P77ThinF_IMG_20150930_171219_cell_100.png',\n",
       " 'C116P77ThinF_IMG_20150930_171219_cell_101.png',\n",
       " 'C116P77ThinF_IMG_20150930_171219_cell_102.png',\n",
       " 'C116P77ThinF_IMG_20150930_171219_cell_104.png',\n",
       " 'C116P77ThinF_IMG_20150930_171219_cell_105.png',\n",
       " 'C116P77ThinF_IMG_20150930_171219_cell_106.png',\n",
       " 'C116P77ThinF_IMG_20150930_171219_cell_107.png',\n",
       " 'C116P77ThinF_IMG_20150930_171219_cell_109.png',\n",
       " 'C116P77ThinF_IMG_20150930_171219_cell_110.png',\n",
       " 'C116P77ThinF_IMG_20150930_171219_cell_111.png',\n",
       " 'C116P77ThinF_IMG_20150930_171219_cell_114.png',\n",
       " 'C116P77ThinF_IMG_20150930_171219_cell_76.png',\n",
       " 'C116P77ThinF_IMG_20150930_171219_cell_78.png',\n",
       " 'C116P77ThinF_IMG_20150930_171219_cell_79.png',\n",
       " 'C116P77ThinF_IMG_20150930_171219_cell_80.png',\n",
       " 'C116P77ThinF_IMG_20150930_171219_cell_81.png',\n",
       " 'C116P77ThinF_IMG_20150930_171219_cell_82.png',\n",
       " 'C116P77ThinF_IMG_20150930_171219_cell_83.png',\n",
       " 'C116P77ThinF_IMG_20150930_171219_cell_84.png',\n",
       " 'C116P77ThinF_IMG_20150930_171219_cell_85.png',\n",
       " 'C116P77ThinF_IMG_20150930_171219_cell_86.png',\n",
       " 'C116P77ThinF_IMG_20150930_171219_cell_87.png',\n",
       " 'C116P77ThinF_IMG_20150930_171219_cell_89.png',\n",
       " 'C116P77ThinF_IMG_20150930_171219_cell_90.png',\n",
       " 'C116P77ThinF_IMG_20150930_171219_cell_91.png',\n",
       " 'C116P77ThinF_IMG_20150930_171219_cell_92.png',\n",
       " 'C116P77ThinF_IMG_20150930_171219_cell_93.png',\n",
       " 'C116P77ThinF_IMG_20150930_171219_cell_94.png',\n",
       " 'C116P77ThinF_IMG_20150930_171219_cell_95.png',\n",
       " 'C116P77ThinF_IMG_20150930_171219_cell_96.png',\n",
       " 'C116P77ThinF_IMG_20150930_171219_cell_97.png',\n",
       " 'C116P77ThinF_IMG_20150930_171219_cell_98.png',\n",
       " 'C116P77ThinF_IMG_20150930_171219_cell_99.png',\n",
       " 'C116P77ThinF_IMG_20150930_171448_cell_100.png',\n",
       " 'C116P77ThinF_IMG_20150930_171448_cell_101.png',\n",
       " 'C116P77ThinF_IMG_20150930_171448_cell_102.png',\n",
       " 'C116P77ThinF_IMG_20150930_171448_cell_103.png',\n",
       " 'C116P77ThinF_IMG_20150930_171448_cell_104.png',\n",
       " 'C116P77ThinF_IMG_20150930_171448_cell_105.png',\n",
       " 'C116P77ThinF_IMG_20150930_171448_cell_106.png',\n",
       " 'C116P77ThinF_IMG_20150930_171448_cell_107.png',\n",
       " 'C116P77ThinF_IMG_20150930_171448_cell_108.png',\n",
       " 'C116P77ThinF_IMG_20150930_171448_cell_109.png',\n",
       " 'C116P77ThinF_IMG_20150930_171448_cell_110.png',\n",
       " 'C116P77ThinF_IMG_20150930_171448_cell_111.png',\n",
       " 'C116P77ThinF_IMG_20150930_171448_cell_112.png',\n",
       " 'C116P77ThinF_IMG_20150930_171448_cell_113.png',\n",
       " 'C116P77ThinF_IMG_20150930_171448_cell_115.png',\n",
       " 'C116P77ThinF_IMG_20150930_171448_cell_116.png',\n",
       " 'C116P77ThinF_IMG_20150930_171448_cell_117.png',\n",
       " 'C116P77ThinF_IMG_20150930_171448_cell_118.png',\n",
       " 'C116P77ThinF_IMG_20150930_171448_cell_119.png',\n",
       " 'C116P77ThinF_IMG_20150930_171448_cell_120.png',\n",
       " 'C116P77ThinF_IMG_20150930_171448_cell_121.png',\n",
       " 'C116P77ThinF_IMG_20150930_171448_cell_122.png',\n",
       " 'C116P77ThinF_IMG_20150930_171448_cell_123.png',\n",
       " 'C116P77ThinF_IMG_20150930_171448_cell_124.png',\n",
       " 'C116P77ThinF_IMG_20150930_171448_cell_125.png',\n",
       " 'C116P77ThinF_IMG_20150930_171448_cell_126.png',\n",
       " 'C116P77ThinF_IMG_20150930_171448_cell_127.png',\n",
       " 'C116P77ThinF_IMG_20150930_171448_cell_129.png',\n",
       " 'C116P77ThinF_IMG_20150930_171448_cell_130.png',\n",
       " 'C116P77ThinF_IMG_20150930_171448_cell_131.png',\n",
       " 'C116P77ThinF_IMG_20150930_171448_cell_132.png',\n",
       " 'C116P77ThinF_IMG_20150930_171448_cell_83.png',\n",
       " 'C116P77ThinF_IMG_20150930_171448_cell_84.png',\n",
       " 'C116P77ThinF_IMG_20150930_171448_cell_86.png',\n",
       " 'C116P77ThinF_IMG_20150930_171448_cell_89.png',\n",
       " 'C116P77ThinF_IMG_20150930_171448_cell_90.png',\n",
       " 'C116P77ThinF_IMG_20150930_171448_cell_91.png',\n",
       " 'C116P77ThinF_IMG_20150930_171448_cell_92.png',\n",
       " 'C116P77ThinF_IMG_20150930_171448_cell_93.png',\n",
       " 'C116P77ThinF_IMG_20150930_171448_cell_94.png',\n",
       " 'C116P77ThinF_IMG_20150930_171448_cell_95.png',\n",
       " 'C116P77ThinF_IMG_20150930_171448_cell_96.png',\n",
       " 'C116P77ThinF_IMG_20150930_171448_cell_97.png',\n",
       " 'C116P77ThinF_IMG_20150930_171448_cell_98.png',\n",
       " 'C116P77ThinF_IMG_20150930_171448_cell_99.png',\n",
       " 'C116P77ThinF_IMG_20150930_171558_cell_101.png',\n",
       " 'C116P77ThinF_IMG_20150930_171558_cell_102.png',\n",
       " 'C116P77ThinF_IMG_20150930_171558_cell_104.png',\n",
       " 'C116P77ThinF_IMG_20150930_171558_cell_105.png',\n",
       " 'C116P77ThinF_IMG_20150930_171558_cell_106.png',\n",
       " 'C116P77ThinF_IMG_20150930_171558_cell_107.png',\n",
       " 'C116P77ThinF_IMG_20150930_171558_cell_108.png',\n",
       " 'C116P77ThinF_IMG_20150930_171558_cell_109.png',\n",
       " 'C116P77ThinF_IMG_20150930_171558_cell_110.png',\n",
       " 'C116P77ThinF_IMG_20150930_171558_cell_111.png',\n",
       " 'C116P77ThinF_IMG_20150930_171558_cell_112.png',\n",
       " 'C116P77ThinF_IMG_20150930_171558_cell_115.png',\n",
       " 'C116P77ThinF_IMG_20150930_171558_cell_116.png',\n",
       " 'C116P77ThinF_IMG_20150930_171558_cell_117.png',\n",
       " 'C116P77ThinF_IMG_20150930_171558_cell_118.png',\n",
       " 'C116P77ThinF_IMG_20150930_171558_cell_119.png',\n",
       " 'C116P77ThinF_IMG_20150930_171558_cell_120.png',\n",
       " 'C116P77ThinF_IMG_20150930_171558_cell_121.png',\n",
       " 'C116P77ThinF_IMG_20150930_171558_cell_122.png',\n",
       " 'C116P77ThinF_IMG_20150930_171558_cell_123.png',\n",
       " 'C116P77ThinF_IMG_20150930_171558_cell_126.png',\n",
       " 'C116P77ThinF_IMG_20150930_171558_cell_128.png',\n",
       " 'C116P77ThinF_IMG_20150930_171558_cell_129.png',\n",
       " 'C116P77ThinF_IMG_20150930_171558_cell_130.png',\n",
       " 'C116P77ThinF_IMG_20150930_171558_cell_132.png',\n",
       " 'C116P77ThinF_IMG_20150930_171558_cell_133.png',\n",
       " 'C116P77ThinF_IMG_20150930_171558_cell_134.png',\n",
       " 'C116P77ThinF_IMG_20150930_171558_cell_135.png',\n",
       " 'C116P77ThinF_IMG_20150930_171558_cell_136.png',\n",
       " 'C116P77ThinF_IMG_20150930_171558_cell_137.png',\n",
       " 'C116P77ThinF_IMG_20150930_171558_cell_138.png',\n",
       " 'C116P77ThinF_IMG_20150930_171558_cell_139.png',\n",
       " 'C116P77ThinF_IMG_20150930_171558_cell_140.png',\n",
       " 'C116P77ThinF_IMG_20150930_171558_cell_141.png',\n",
       " 'C116P77ThinF_IMG_20150930_171558_cell_142.png',\n",
       " 'C116P77ThinF_IMG_20150930_171558_cell_144.png',\n",
       " 'C116P77ThinF_IMG_20150930_171558_cell_145.png',\n",
       " 'C116P77ThinF_IMG_20150930_171558_cell_146.png',\n",
       " 'C116P77ThinF_IMG_20150930_171558_cell_147.png',\n",
       " 'C116P77ThinF_IMG_20150930_171558_cell_148.png',\n",
       " 'C116P77ThinF_IMG_20150930_171558_cell_150.png',\n",
       " 'C116P77ThinF_IMG_20150930_171558_cell_151.png',\n",
       " 'C116P77ThinF_IMG_20150930_171558_cell_89.png',\n",
       " 'C116P77ThinF_IMG_20150930_171558_cell_90.png',\n",
       " 'C116P77ThinF_IMG_20150930_171558_cell_91.png',\n",
       " 'C116P77ThinF_IMG_20150930_171558_cell_92.png',\n",
       " 'C116P77ThinF_IMG_20150930_171558_cell_93.png',\n",
       " 'C116P77ThinF_IMG_20150930_171558_cell_95.png',\n",
       " 'C116P77ThinF_IMG_20150930_171558_cell_96.png',\n",
       " 'C116P77ThinF_IMG_20150930_171558_cell_97.png',\n",
       " 'C116P77ThinF_IMG_20150930_171558_cell_98.png',\n",
       " 'C116P77ThinF_IMG_20150930_171635_cell_100.png',\n",
       " 'C116P77ThinF_IMG_20150930_171635_cell_101.png',\n",
       " 'C116P77ThinF_IMG_20150930_171635_cell_102.png',\n",
       " 'C116P77ThinF_IMG_20150930_171635_cell_103.png',\n",
       " 'C116P77ThinF_IMG_20150930_171635_cell_105.png',\n",
       " 'C116P77ThinF_IMG_20150930_171635_cell_106.png',\n",
       " 'C116P77ThinF_IMG_20150930_171635_cell_107.png',\n",
       " 'C116P77ThinF_IMG_20150930_171635_cell_108.png',\n",
       " 'C116P77ThinF_IMG_20150930_171635_cell_109.png',\n",
       " 'C116P77ThinF_IMG_20150930_171635_cell_110.png',\n",
       " 'C116P77ThinF_IMG_20150930_171635_cell_111.png',\n",
       " 'C116P77ThinF_IMG_20150930_171635_cell_112.png',\n",
       " 'C116P77ThinF_IMG_20150930_171635_cell_113.png',\n",
       " 'C116P77ThinF_IMG_20150930_171635_cell_114.png',\n",
       " 'C116P77ThinF_IMG_20150930_171635_cell_115.png',\n",
       " 'C116P77ThinF_IMG_20150930_171635_cell_70.png',\n",
       " 'C116P77ThinF_IMG_20150930_171635_cell_71.png',\n",
       " 'C116P77ThinF_IMG_20150930_171635_cell_72.png',\n",
       " 'C116P77ThinF_IMG_20150930_171635_cell_73.png',\n",
       " 'C116P77ThinF_IMG_20150930_171635_cell_74.png',\n",
       " 'C116P77ThinF_IMG_20150930_171635_cell_75.png',\n",
       " 'C116P77ThinF_IMG_20150930_171635_cell_76.png',\n",
       " 'C116P77ThinF_IMG_20150930_171635_cell_77.png',\n",
       " 'C116P77ThinF_IMG_20150930_171635_cell_78.png',\n",
       " 'C116P77ThinF_IMG_20150930_171635_cell_79.png',\n",
       " 'C116P77ThinF_IMG_20150930_171635_cell_80.png',\n",
       " 'C116P77ThinF_IMG_20150930_171635_cell_81.png',\n",
       " 'C116P77ThinF_IMG_20150930_171635_cell_83.png',\n",
       " 'C116P77ThinF_IMG_20150930_171635_cell_84.png',\n",
       " 'C116P77ThinF_IMG_20150930_171635_cell_85.png',\n",
       " 'C116P77ThinF_IMG_20150930_171635_cell_86.png',\n",
       " 'C116P77ThinF_IMG_20150930_171635_cell_87.png',\n",
       " 'C116P77ThinF_IMG_20150930_171635_cell_89.png',\n",
       " 'C116P77ThinF_IMG_20150930_171635_cell_90.png',\n",
       " 'C116P77ThinF_IMG_20150930_171635_cell_91.png',\n",
       " 'C116P77ThinF_IMG_20150930_171635_cell_92.png',\n",
       " 'C116P77ThinF_IMG_20150930_171635_cell_93.png',\n",
       " 'C116P77ThinF_IMG_20150930_171635_cell_94.png',\n",
       " 'C116P77ThinF_IMG_20150930_171635_cell_95.png',\n",
       " 'C116P77ThinF_IMG_20150930_171635_cell_96.png',\n",
       " 'C116P77ThinF_IMG_20150930_171635_cell_97.png',\n",
       " 'C116P77ThinF_IMG_20150930_171635_cell_98.png',\n",
       " 'C116P77ThinF_IMG_20150930_171635_cell_99.png',\n",
       " 'C116P77ThinF_IMG_20150930_171739_cell_100.png',\n",
       " 'C116P77ThinF_IMG_20150930_171739_cell_101.png',\n",
       " 'C116P77ThinF_IMG_20150930_171739_cell_102.png',\n",
       " 'C116P77ThinF_IMG_20150930_171739_cell_103.png',\n",
       " 'C116P77ThinF_IMG_20150930_171739_cell_104.png',\n",
       " 'C116P77ThinF_IMG_20150930_171739_cell_105.png',\n",
       " 'C116P77ThinF_IMG_20150930_171739_cell_106.png',\n",
       " 'C116P77ThinF_IMG_20150930_171739_cell_107.png',\n",
       " 'C116P77ThinF_IMG_20150930_171739_cell_108.png',\n",
       " 'C116P77ThinF_IMG_20150930_171739_cell_111.png',\n",
       " 'C116P77ThinF_IMG_20150930_171739_cell_112.png',\n",
       " 'C116P77ThinF_IMG_20150930_171739_cell_113.png',\n",
       " 'C116P77ThinF_IMG_20150930_171739_cell_114.png',\n",
       " 'C116P77ThinF_IMG_20150930_171739_cell_115.png',\n",
       " 'C116P77ThinF_IMG_20150930_171739_cell_116.png',\n",
       " 'C116P77ThinF_IMG_20150930_171739_cell_117.png',\n",
       " 'C116P77ThinF_IMG_20150930_171739_cell_118.png',\n",
       " 'C116P77ThinF_IMG_20150930_171739_cell_75.png',\n",
       " 'C116P77ThinF_IMG_20150930_171739_cell_76.png',\n",
       " 'C116P77ThinF_IMG_20150930_171739_cell_77.png',\n",
       " 'C116P77ThinF_IMG_20150930_171739_cell_78.png',\n",
       " 'C116P77ThinF_IMG_20150930_171739_cell_80.png',\n",
       " 'C116P77ThinF_IMG_20150930_171739_cell_81.png',\n",
       " 'C116P77ThinF_IMG_20150930_171739_cell_82.png',\n",
       " 'C116P77ThinF_IMG_20150930_171739_cell_84.png',\n",
       " 'C116P77ThinF_IMG_20150930_171739_cell_86.png',\n",
       " 'C116P77ThinF_IMG_20150930_171739_cell_87.png',\n",
       " 'C116P77ThinF_IMG_20150930_171739_cell_88.png',\n",
       " 'C116P77ThinF_IMG_20150930_171739_cell_90.png',\n",
       " 'C116P77ThinF_IMG_20150930_171739_cell_91.png',\n",
       " 'C116P77ThinF_IMG_20150930_171739_cell_92.png',\n",
       " 'C116P77ThinF_IMG_20150930_171739_cell_93.png',\n",
       " 'C116P77ThinF_IMG_20150930_171739_cell_94.png',\n",
       " 'C116P77ThinF_IMG_20150930_171739_cell_95.png',\n",
       " 'C116P77ThinF_IMG_20150930_171739_cell_96.png',\n",
       " 'C116P77ThinF_IMG_20150930_171739_cell_97.png',\n",
       " 'C116P77ThinF_IMG_20150930_171739_cell_98.png',\n",
       " 'C116P77ThinF_IMG_20150930_171739_cell_99.png',\n",
       " 'C116P77ThinF_IMG_20150930_171809_cell_58.png',\n",
       " 'C116P77ThinF_IMG_20150930_171809_cell_59.png',\n",
       " 'C116P77ThinF_IMG_20150930_171809_cell_60.png',\n",
       " 'C116P77ThinF_IMG_20150930_171809_cell_61.png',\n",
       " 'C116P77ThinF_IMG_20150930_171809_cell_62.png',\n",
       " 'C116P77ThinF_IMG_20150930_171809_cell_64.png',\n",
       " 'C116P77ThinF_IMG_20150930_171809_cell_65.png',\n",
       " 'C116P77ThinF_IMG_20150930_171809_cell_66.png',\n",
       " 'C116P77ThinF_IMG_20150930_171809_cell_67.png',\n",
       " 'C116P77ThinF_IMG_20150930_171809_cell_68.png',\n",
       " 'C116P77ThinF_IMG_20150930_171809_cell_69.png',\n",
       " 'C116P77ThinF_IMG_20150930_171809_cell_70.png',\n",
       " 'C116P77ThinF_IMG_20150930_171809_cell_71.png',\n",
       " 'C116P77ThinF_IMG_20150930_171809_cell_72.png',\n",
       " 'C116P77ThinF_IMG_20150930_171809_cell_73.png',\n",
       " 'C116P77ThinF_IMG_20150930_171809_cell_74.png',\n",
       " 'C116P77ThinF_IMG_20150930_171809_cell_75.png',\n",
       " 'C116P77ThinF_IMG_20150930_171809_cell_76.png',\n",
       " 'C116P77ThinF_IMG_20150930_171809_cell_77.png',\n",
       " 'C116P77ThinF_IMG_20150930_171809_cell_78.png',\n",
       " 'C116P77ThinF_IMG_20150930_171809_cell_79.png',\n",
       " 'C116P77ThinF_IMG_20150930_171809_cell_80.png',\n",
       " 'C116P77ThinF_IMG_20150930_171809_cell_81.png',\n",
       " 'C116P77ThinF_IMG_20150930_171809_cell_82.png',\n",
       " 'C116P77ThinF_IMG_20150930_171809_cell_83.png',\n",
       " 'C116P77ThinF_IMG_20150930_171809_cell_84.png',\n",
       " 'C116P77ThinF_IMG_20150930_171809_cell_85.png',\n",
       " 'C116P77ThinF_IMG_20150930_171809_cell_86.png',\n",
       " 'C116P77ThinF_IMG_20150930_171809_cell_87.png',\n",
       " 'C116P77ThinF_IMG_20150930_171844_cell_100.png',\n",
       " 'C116P77ThinF_IMG_20150930_171844_cell_101.png',\n",
       " 'C116P77ThinF_IMG_20150930_171844_cell_102.png',\n",
       " 'C116P77ThinF_IMG_20150930_171844_cell_103.png',\n",
       " 'C116P77ThinF_IMG_20150930_171844_cell_104.png',\n",
       " 'C116P77ThinF_IMG_20150930_171844_cell_105.png',\n",
       " 'C116P77ThinF_IMG_20150930_171844_cell_106.png',\n",
       " 'C116P77ThinF_IMG_20150930_171844_cell_107.png',\n",
       " 'C116P77ThinF_IMG_20150930_171844_cell_108.png',\n",
       " 'C116P77ThinF_IMG_20150930_171844_cell_109.png',\n",
       " 'C116P77ThinF_IMG_20150930_171844_cell_110.png',\n",
       " 'C116P77ThinF_IMG_20150930_171844_cell_111.png',\n",
       " 'C116P77ThinF_IMG_20150930_171844_cell_112.png',\n",
       " 'C116P77ThinF_IMG_20150930_171844_cell_113.png',\n",
       " 'C116P77ThinF_IMG_20150930_171844_cell_114.png',\n",
       " 'C116P77ThinF_IMG_20150930_171844_cell_115.png',\n",
       " 'C116P77ThinF_IMG_20150930_171844_cell_116.png',\n",
       " 'C116P77ThinF_IMG_20150930_171844_cell_117.png',\n",
       " 'C116P77ThinF_IMG_20150930_171844_cell_118.png',\n",
       " 'C116P77ThinF_IMG_20150930_171844_cell_119.png',\n",
       " 'C116P77ThinF_IMG_20150930_171844_cell_120.png',\n",
       " 'C116P77ThinF_IMG_20150930_171844_cell_121.png',\n",
       " 'C116P77ThinF_IMG_20150930_171844_cell_122.png',\n",
       " 'C116P77ThinF_IMG_20150930_171844_cell_123.png',\n",
       " 'C116P77ThinF_IMG_20150930_171844_cell_124.png',\n",
       " 'C116P77ThinF_IMG_20150930_171844_cell_126.png',\n",
       " 'C116P77ThinF_IMG_20150930_171844_cell_127.png',\n",
       " 'C116P77ThinF_IMG_20150930_171844_cell_128.png',\n",
       " 'C116P77ThinF_IMG_20150930_171844_cell_82.png',\n",
       " 'C116P77ThinF_IMG_20150930_171844_cell_83.png',\n",
       " 'C116P77ThinF_IMG_20150930_171844_cell_84.png',\n",
       " 'C116P77ThinF_IMG_20150930_171844_cell_85.png',\n",
       " 'C116P77ThinF_IMG_20150930_171844_cell_86.png',\n",
       " 'C116P77ThinF_IMG_20150930_171844_cell_87.png',\n",
       " 'C116P77ThinF_IMG_20150930_171844_cell_88.png',\n",
       " 'C116P77ThinF_IMG_20150930_171844_cell_89.png',\n",
       " 'C116P77ThinF_IMG_20150930_171844_cell_90.png',\n",
       " 'C116P77ThinF_IMG_20150930_171844_cell_91.png',\n",
       " 'C116P77ThinF_IMG_20150930_171844_cell_93.png',\n",
       " 'C116P77ThinF_IMG_20150930_171844_cell_94.png',\n",
       " 'C116P77ThinF_IMG_20150930_171844_cell_95.png',\n",
       " 'C116P77ThinF_IMG_20150930_171844_cell_96.png',\n",
       " 'C116P77ThinF_IMG_20150930_171844_cell_97.png',\n",
       " 'C116P77ThinF_IMG_20150930_171844_cell_98.png',\n",
       " 'C116P77ThinF_IMG_20150930_171844_cell_99.png',\n",
       " 'C116P77ThinF_IMG_20150930_171954_cell_100.png',\n",
       " 'C116P77ThinF_IMG_20150930_171954_cell_101.png',\n",
       " 'C116P77ThinF_IMG_20150930_171954_cell_102.png',\n",
       " 'C116P77ThinF_IMG_20150930_171954_cell_103.png',\n",
       " 'C116P77ThinF_IMG_20150930_171954_cell_104.png',\n",
       " 'C116P77ThinF_IMG_20150930_171954_cell_105.png',\n",
       " 'C116P77ThinF_IMG_20150930_171954_cell_107.png',\n",
       " 'C116P77ThinF_IMG_20150930_171954_cell_108.png',\n",
       " 'C116P77ThinF_IMG_20150930_171954_cell_109.png',\n",
       " 'C116P77ThinF_IMG_20150930_171954_cell_111.png',\n",
       " 'C116P77ThinF_IMG_20150930_171954_cell_112.png',\n",
       " 'C116P77ThinF_IMG_20150930_171954_cell_113.png',\n",
       " 'C116P77ThinF_IMG_20150930_171954_cell_115.png',\n",
       " 'C116P77ThinF_IMG_20150930_171954_cell_73.png',\n",
       " 'C116P77ThinF_IMG_20150930_171954_cell_74.png',\n",
       " 'C116P77ThinF_IMG_20150930_171954_cell_75.png',\n",
       " 'C116P77ThinF_IMG_20150930_171954_cell_76.png',\n",
       " 'C116P77ThinF_IMG_20150930_171954_cell_77.png',\n",
       " 'C116P77ThinF_IMG_20150930_171954_cell_78.png',\n",
       " 'C116P77ThinF_IMG_20150930_171954_cell_79.png',\n",
       " 'C116P77ThinF_IMG_20150930_171954_cell_80.png',\n",
       " 'C116P77ThinF_IMG_20150930_171954_cell_81.png',\n",
       " 'C116P77ThinF_IMG_20150930_171954_cell_82.png',\n",
       " 'C116P77ThinF_IMG_20150930_171954_cell_83.png',\n",
       " 'C116P77ThinF_IMG_20150930_171954_cell_84.png',\n",
       " 'C116P77ThinF_IMG_20150930_171954_cell_85.png',\n",
       " 'C116P77ThinF_IMG_20150930_171954_cell_86.png',\n",
       " 'C116P77ThinF_IMG_20150930_171954_cell_87.png',\n",
       " 'C116P77ThinF_IMG_20150930_171954_cell_88.png',\n",
       " 'C116P77ThinF_IMG_20150930_171954_cell_90.png',\n",
       " 'C116P77ThinF_IMG_20150930_171954_cell_91.png',\n",
       " 'C116P77ThinF_IMG_20150930_171954_cell_92.png',\n",
       " 'C116P77ThinF_IMG_20150930_171954_cell_93.png',\n",
       " 'C116P77ThinF_IMG_20150930_171954_cell_94.png',\n",
       " 'C116P77ThinF_IMG_20150930_171954_cell_95.png',\n",
       " 'C116P77ThinF_IMG_20150930_171954_cell_96.png',\n",
       " 'C116P77ThinF_IMG_20150930_171954_cell_97.png',\n",
       " 'C116P77ThinF_IMG_20150930_171954_cell_98.png',\n",
       " 'C116P77ThinF_IMG_20150930_171954_cell_99.png',\n",
       " 'C116P77ThinF_IMG_20150930_172112_cell_100.png',\n",
       " 'C116P77ThinF_IMG_20150930_172112_cell_101.png',\n",
       " 'C116P77ThinF_IMG_20150930_172112_cell_102.png',\n",
       " 'C116P77ThinF_IMG_20150930_172112_cell_103.png',\n",
       " 'C116P77ThinF_IMG_20150930_172112_cell_104.png',\n",
       " 'C116P77ThinF_IMG_20150930_172112_cell_105.png',\n",
       " 'C116P77ThinF_IMG_20150930_172112_cell_106.png',\n",
       " 'C116P77ThinF_IMG_20150930_172112_cell_107.png',\n",
       " 'C116P77ThinF_IMG_20150930_172112_cell_109.png',\n",
       " 'C116P77ThinF_IMG_20150930_172112_cell_111.png',\n",
       " 'C116P77ThinF_IMG_20150930_172112_cell_112.png',\n",
       " 'C116P77ThinF_IMG_20150930_172112_cell_113.png',\n",
       " 'C116P77ThinF_IMG_20150930_172112_cell_114.png',\n",
       " 'C116P77ThinF_IMG_20150930_172112_cell_115.png',\n",
       " 'C116P77ThinF_IMG_20150930_172112_cell_65.png',\n",
       " 'C116P77ThinF_IMG_20150930_172112_cell_66.png',\n",
       " 'C116P77ThinF_IMG_20150930_172112_cell_67.png',\n",
       " 'C116P77ThinF_IMG_20150930_172112_cell_68.png',\n",
       " ...]"
      ]
     },
     "execution_count": 10,
     "metadata": {},
     "output_type": "execute_result"
    }
   ],
   "source": [
    "os.listdir(train_path+'/parasitized/')"
   ]
  },
  {
   "cell_type": "markdown",
   "metadata": {},
   "source": [
    "# <a name='Visualizing'>Visualizing the Data</a>"
   ]
  },
  {
   "cell_type": "code",
   "execution_count": 14,
   "metadata": {},
   "outputs": [
    {
     "data": {
      "text/plain": [
       "'C100P61ThinF_IMG_20150918_144104_cell_162.png'"
      ]
     },
     "execution_count": 14,
     "metadata": {},
     "output_type": "execute_result"
    }
   ],
   "source": [
    "os.listdir(train_path+'/parasitized')[0]"
   ]
  },
  {
   "cell_type": "code",
   "execution_count": 16,
   "metadata": {},
   "outputs": [],
   "source": [
    "para_cell = train_path + '/parasitized/' + 'C100P61ThinF_IMG_20150918_144104_cell_162.png'"
   ]
  },
  {
   "cell_type": "markdown",
   "metadata": {},
   "source": [
    "## <a name='Parasitized'>Read in Parasitized cell image</a>"
   ]
  },
  {
   "cell_type": "code",
   "execution_count": 17,
   "metadata": {},
   "outputs": [
    {
     "data": {
      "text/plain": [
       "array([[[0., 0., 0.],\n",
       "        [0., 0., 0.],\n",
       "        [0., 0., 0.],\n",
       "        ...,\n",
       "        [0., 0., 0.],\n",
       "        [0., 0., 0.],\n",
       "        [0., 0., 0.]],\n",
       "\n",
       "       [[0., 0., 0.],\n",
       "        [0., 0., 0.],\n",
       "        [0., 0., 0.],\n",
       "        ...,\n",
       "        [0., 0., 0.],\n",
       "        [0., 0., 0.],\n",
       "        [0., 0., 0.]],\n",
       "\n",
       "       [[0., 0., 0.],\n",
       "        [0., 0., 0.],\n",
       "        [0., 0., 0.],\n",
       "        ...,\n",
       "        [0., 0., 0.],\n",
       "        [0., 0., 0.],\n",
       "        [0., 0., 0.]],\n",
       "\n",
       "       ...,\n",
       "\n",
       "       [[0., 0., 0.],\n",
       "        [0., 0., 0.],\n",
       "        [0., 0., 0.],\n",
       "        ...,\n",
       "        [0., 0., 0.],\n",
       "        [0., 0., 0.],\n",
       "        [0., 0., 0.]],\n",
       "\n",
       "       [[0., 0., 0.],\n",
       "        [0., 0., 0.],\n",
       "        [0., 0., 0.],\n",
       "        ...,\n",
       "        [0., 0., 0.],\n",
       "        [0., 0., 0.],\n",
       "        [0., 0., 0.]],\n",
       "\n",
       "       [[0., 0., 0.],\n",
       "        [0., 0., 0.],\n",
       "        [0., 0., 0.],\n",
       "        ...,\n",
       "        [0., 0., 0.],\n",
       "        [0., 0., 0.],\n",
       "        [0., 0., 0.]]], dtype=float32)"
      ]
     },
     "execution_count": 17,
     "metadata": {},
     "output_type": "execute_result"
    }
   ],
   "source": [
    "imread(para_cell)"
   ]
  },
  {
   "cell_type": "code",
   "execution_count": 70,
   "metadata": {},
   "outputs": [
    {
     "data": {
      "text/plain": [
       "(148, 142, 3)"
      ]
     },
     "execution_count": 70,
     "metadata": {},
     "output_type": "execute_result"
    }
   ],
   "source": [
    "parasitized_cell = imread(para_cell)\n",
    "parasitized_cell.shape"
   ]
  },
  {
   "cell_type": "code",
   "execution_count": 72,
   "metadata": {},
   "outputs": [
    {
     "data": {
      "image/png": "[encoded data removed]",
      "text/plain": [
       "<Figure size 432x288 with 1 Axes>"
      ]
     },
     "metadata": {
      "needs_background": "light"
     },
     "output_type": "display_data"
    }
   ],
   "source": [
    "plt.imshow(parasitized_cell);"
   ]
  },
  {
   "cell_type": "markdown",
   "metadata": {},
   "source": [
    "## <a name='Uninfected'>Read in Uninfected cell</a>"
   ]
  },
  {
   "cell_type": "code",
   "execution_count": 22,
   "metadata": {},
   "outputs": [
    {
     "data": {
      "text/plain": [
       "['parasitized', 'uninfected']"
      ]
     },
     "execution_count": 22,
     "metadata": {},
     "output_type": "execute_result"
    }
   ],
   "source": [
    "os.listdir(train_path)"
   ]
  },
  {
   "cell_type": "code",
   "execution_count": 23,
   "metadata": {},
   "outputs": [
    {
     "data": {
      "text/plain": [
       "'C100P61ThinF_IMG_20150918_144104_cell_128.png'"
      ]
     },
     "execution_count": 23,
     "metadata": {},
     "output_type": "execute_result"
    }
   ],
   "source": [
    "os.listdir(train_path + '/uninfected')[0]"
   ]
  },
  {
   "cell_type": "code",
   "execution_count": 37,
   "metadata": {},
   "outputs": [],
   "source": [
    "uninfected_cell_path = train_path + '/uninfected/C100P61ThinF_IMG_20150918_144104_cell_128.png' \n",
    "unifected_cell = imread(uninfected_cell_path)"
   ]
  },
  {
   "cell_type": "code",
   "execution_count": 38,
   "metadata": {},
   "outputs": [
    {
     "data": {
      "image/png": "[encoded data removed]",
      "text/plain": [
       "<Figure size 432x288 with 1 Axes>"
      ]
     },
     "metadata": {
      "needs_background": "light"
     },
     "output_type": "display_data"
    }
   ],
   "source": [
    "plt.imshow(imread(uninfected_cell_path));"
   ]
  },
  {
   "cell_type": "markdown",
   "metadata": {},
   "source": [
    "-----"
   ]
  },
  {
   "cell_type": "markdown",
   "metadata": {},
   "source": [
    "### Let's check how many images there are."
   ]
  },
  {
   "cell_type": "code",
   "execution_count": 28,
   "metadata": {},
   "outputs": [
    {
     "data": {
      "text/plain": [
       "12480"
      ]
     },
     "execution_count": 28,
     "metadata": {},
     "output_type": "execute_result"
    }
   ],
   "source": [
    "len(os.listdir(train_path+'parasitized'))"
   ]
  },
  {
   "cell_type": "code",
   "execution_count": 29,
   "metadata": {},
   "outputs": [
    {
     "data": {
      "text/plain": [
       "12480"
      ]
     },
     "execution_count": 29,
     "metadata": {},
     "output_type": "execute_result"
    }
   ],
   "source": [
    "len(os.listdir(train_path+'uninfected'))"
   ]
  },
  {
   "cell_type": "code",
   "execution_count": 31,
   "metadata": {},
   "outputs": [
    {
     "data": {
      "text/plain": [
       "1300"
      ]
     },
     "execution_count": 31,
     "metadata": {},
     "output_type": "execute_result"
    }
   ],
   "source": [
    "len(os.listdir(test_path+'parasitized'))"
   ]
  },
  {
   "cell_type": "code",
   "execution_count": 32,
   "metadata": {},
   "outputs": [
    {
     "data": {
      "text/plain": [
       "1300"
      ]
     },
     "execution_count": 32,
     "metadata": {},
     "output_type": "execute_result"
    }
   ],
   "source": [
    "len(os.listdir(test_path+'uninfected'))"
   ]
  },
  {
   "cell_type": "markdown",
   "metadata": {},
   "source": [
    "------"
   ]
  },
  {
   "cell_type": "markdown",
   "metadata": {},
   "source": [
    "# <a name='averagediemnsion'>Dimensions Distribution and Finding out Average Dimensions.</a>\n",
    "\n",
    "## <a name='findout'>Let's find out the average dimensions of these images.</a>"
   ]
  },
  {
   "cell_type": "markdown",
   "metadata": {},
   "source": [
    "In real life datasets, the images can come in difference shape and dimensions."
   ]
  },
  {
   "cell_type": "code",
   "execution_count": 39,
   "metadata": {},
   "outputs": [
    {
     "data": {
      "text/plain": [
       "(139, 160, 3)"
      ]
     },
     "execution_count": 39,
     "metadata": {},
     "output_type": "execute_result"
    }
   ],
   "source": [
    "unifected_cell.shape"
   ]
  },
  {
   "cell_type": "code",
   "execution_count": 40,
   "metadata": {},
   "outputs": [],
   "source": [
    "# loop through every images of uninfected images to find out average dimensions\n",
    "dim1 = []\n",
    "dim2 = []\n",
    "\n",
    "for img_filename in os.listdir(test_path+'uninfected'):\n",
    "    img = imread(test_path + '/uninfected/' + img_filename)\n",
    "    d1,d2,colors = img.shape\n",
    "    \n",
    "    dim1.append(d1)\n",
    "    dim2.append(d2)"
   ]
  },
  {
   "cell_type": "code",
   "execution_count": 41,
   "metadata": {},
   "outputs": [
    {
     "data": {
      "text/plain": [
       "[118,\n",
       " 172,\n",
       " 130,\n",
       " 163,\n",
       " 172,\n",
       " 139,\n",
       " 151,\n",
       " 160,\n",
       " 145,\n",
       " 127,\n",
       " 121,\n",
       " 154,\n",
       " 145,\n",
       " 127,\n",
       " 154,\n",
       " 151,\n",
       " 148,\n",
       " 130,\n",
       " 160,\n",
       " 136,\n",
       " 139,\n",
       " 190,\n",
       " 127,\n",
       " 133,\n",
       " 136,\n",
       " 124,\n",
       " 151,\n",
       " 151,\n",
       " 151,\n",
       " 160,\n",
       " 118,\n",
       " 154,\n",
       " 154,\n",
       " 121,\n",
       " 127,\n",
       " 118,\n",
       " 130,\n",
       " 124,\n",
       " 163,\n",
       " 88,\n",
       " 139,\n",
       " 127,\n",
       " 121,\n",
       " 139,\n",
       " 166,\n",
       " 133,\n",
       " 124,\n",
       " 154,\n",
       " 139,\n",
       " 127,\n",
       " 124,\n",
       " 136,\n",
       " 166,\n",
       " 133,\n",
       " 145,\n",
       " 157,\n",
       " 181,\n",
       " 148,\n",
       " 112,\n",
       " 124,\n",
       " 112,\n",
       " 106,\n",
       " 121,\n",
       " 148,\n",
       " 148,\n",
       " 112,\n",
       " 121,\n",
       " 148,\n",
       " 97,\n",
       " 112,\n",
       " 142,\n",
       " 118,\n",
       " 130,\n",
       " 151,\n",
       " 133,\n",
       " 136,\n",
       " 115,\n",
       " 145,\n",
       " 115,\n",
       " 142,\n",
       " 136,\n",
       " 130,\n",
       " 142,\n",
       " 124,\n",
       " 142,\n",
       " 136,\n",
       " 166,\n",
       " 148,\n",
       " 136,\n",
       " 142,\n",
       " 133,\n",
       " 130,\n",
       " 139,\n",
       " 124,\n",
       " 139,\n",
       " 121,\n",
       " 130,\n",
       " 142,\n",
       " 133,\n",
       " 118,\n",
       " 157,\n",
       " 127,\n",
       " 109,\n",
       " 112,\n",
       " 139,\n",
       " 142,\n",
       " 142,\n",
       " 112,\n",
       " 118,\n",
       " 100,\n",
       " 127,\n",
       " 145,\n",
       " 136,\n",
       " 160,\n",
       " 187,\n",
       " 130,\n",
       " 130,\n",
       " 157,\n",
       " 130,\n",
       " 130,\n",
       " 151,\n",
       " 175,\n",
       " 145,\n",
       " 136,\n",
       " 157,\n",
       " 133,\n",
       " 127,\n",
       " 154,\n",
       " 133,\n",
       " 151,\n",
       " 130,\n",
       " 136,\n",
       " 160,\n",
       " 130,\n",
       " 139,\n",
       " 145,\n",
       " 145,\n",
       " 145,\n",
       " 154,\n",
       " 133,\n",
       " 160,\n",
       " 142,\n",
       " 157,\n",
       " 145,\n",
       " 136,\n",
       " 121,\n",
       " 115,\n",
       " 121,\n",
       " 121,\n",
       " 127,\n",
       " 145,\n",
       " 130,\n",
       " 133,\n",
       " 142,\n",
       " 127,\n",
       " 121,\n",
       " 139,\n",
       " 118,\n",
       " 118,\n",
       " 148,\n",
       " 121,\n",
       " 145,\n",
       " 130,\n",
       " 169,\n",
       " 142,\n",
       " 136,\n",
       " 148,\n",
       " 142,\n",
       " 169,\n",
       " 115,\n",
       " 109,\n",
       " 166,\n",
       " 145,\n",
       " 127,\n",
       " 124,\n",
       " 124,\n",
       " 130,\n",
       " 196,\n",
       " 97,\n",
       " 115,\n",
       " 133,\n",
       " 139,\n",
       " 148,\n",
       " 109,\n",
       " 127,\n",
       " 175,\n",
       " 148,\n",
       " 136,\n",
       " 175,\n",
       " 151,\n",
       " 154,\n",
       " 133,\n",
       " 145,\n",
       " 115,\n",
       " 130,\n",
       " 121,\n",
       " 133,\n",
       " 142,\n",
       " 121,\n",
       " 136,\n",
       " 142,\n",
       " 136,\n",
       " 145,\n",
       " 127,\n",
       " 151,\n",
       " 136,\n",
       " 145,\n",
       " 166,\n",
       " 139,\n",
       " 151,\n",
       " 127,\n",
       " 136,\n",
       " 142,\n",
       " 118,\n",
       " 145,\n",
       " 127,\n",
       " 127,\n",
       " 118,\n",
       " 121,\n",
       " 121,\n",
       " 121,\n",
       " 106,\n",
       " 88,\n",
       " 136,\n",
       " 151,\n",
       " 133,\n",
       " 88,\n",
       " 142,\n",
       " 103,\n",
       " 124,\n",
       " 148,\n",
       " 151,\n",
       " 139,\n",
       " 157,\n",
       " 148,\n",
       " 154,\n",
       " 115,\n",
       " 115,\n",
       " 136,\n",
       " 133,\n",
       " 130,\n",
       " 136,\n",
       " 112,\n",
       " 115,\n",
       " 136,\n",
       " 109,\n",
       " 145,\n",
       " 133,\n",
       " 136,\n",
       " 112,\n",
       " 124,\n",
       " 115,\n",
       " 100,\n",
       " 118,\n",
       " 148,\n",
       " 118,\n",
       " 94,\n",
       " 145,\n",
       " 115,\n",
       " 136,\n",
       " 103,\n",
       " 172,\n",
       " 154,\n",
       " 151,\n",
       " 172,\n",
       " 124,\n",
       " 133,\n",
       " 181,\n",
       " 142,\n",
       " 136,\n",
       " 148,\n",
       " 136,\n",
       " 115,\n",
       " 103,\n",
       " 118,\n",
       " 121,\n",
       " 136,\n",
       " 130,\n",
       " 154,\n",
       " 115,\n",
       " 127,\n",
       " 130,\n",
       " 133,\n",
       " 130,\n",
       " 133,\n",
       " 136,\n",
       " 172,\n",
       " 157,\n",
       " 145,\n",
       " 133,\n",
       " 109,\n",
       " 154,\n",
       " 130,\n",
       " 142,\n",
       " 121,\n",
       " 118,\n",
       " 130,\n",
       " 127,\n",
       " 106,\n",
       " 133,\n",
       " 112,\n",
       " 118,\n",
       " 76,\n",
       " 118,\n",
       " 115,\n",
       " 163,\n",
       " 145,\n",
       " 154,\n",
       " 121,\n",
       " 127,\n",
       " 130,\n",
       " 148,\n",
       " 118,\n",
       " 115,\n",
       " 127,\n",
       " 121,\n",
       " 109,\n",
       " 118,\n",
       " 124,\n",
       " 145,\n",
       " 166,\n",
       " 142,\n",
       " 136,\n",
       " 130,\n",
       " 145,\n",
       " 142,\n",
       " 148,\n",
       " 106,\n",
       " 124,\n",
       " 106,\n",
       " 115,\n",
       " 115,\n",
       " 127,\n",
       " 124,\n",
       " 163,\n",
       " 139,\n",
       " 124,\n",
       " 106,\n",
       " 130,\n",
       " 106,\n",
       " 103,\n",
       " 121,\n",
       " 130,\n",
       " 127,\n",
       " 127,\n",
       " 121,\n",
       " 121,\n",
       " 127,\n",
       " 124,\n",
       " 136,\n",
       " 118,\n",
       " 127,\n",
       " 115,\n",
       " 124,\n",
       " 112,\n",
       " 115,\n",
       " 124,\n",
       " 121,\n",
       " 121,\n",
       " 133,\n",
       " 133,\n",
       " 103,\n",
       " 118,\n",
       " 124,\n",
       " 154,\n",
       " 109,\n",
       " 133,\n",
       " 145,\n",
       " 124,\n",
       " 115,\n",
       " 127,\n",
       " 115,\n",
       " 115,\n",
       " 103,\n",
       " 136,\n",
       " 118,\n",
       " 109,\n",
       " 124,\n",
       " 118,\n",
       " 127,\n",
       " 124,\n",
       " 124,\n",
       " 112,\n",
       " 115,\n",
       " 124,\n",
       " 109,\n",
       " 130,\n",
       " 112,\n",
       " 127,\n",
       " 121,\n",
       " 112,\n",
       " 142,\n",
       " 130,\n",
       " 127,\n",
       " 127,\n",
       " 130,\n",
       " 148,\n",
       " 100,\n",
       " 127,\n",
       " 118,\n",
       " 112,\n",
       " 112,\n",
       " 121,\n",
       " 118,\n",
       " 121,\n",
       " 121,\n",
       " 112,\n",
       " 121,\n",
       " 121,\n",
       " 100,\n",
       " 130,\n",
       " 127,\n",
       " 130,\n",
       " 127,\n",
       " 124,\n",
       " 127,\n",
       " 118,\n",
       " 106,\n",
       " 127,\n",
       " 103,\n",
       " 106,\n",
       " 109,\n",
       " 118,\n",
       " 151,\n",
       " 121,\n",
       " 100,\n",
       " 139,\n",
       " 118,\n",
       " 133,\n",
       " 127,\n",
       " 145,\n",
       " 127,\n",
       " 127,\n",
       " 106,\n",
       " 109,\n",
       " 97,\n",
       " 175,\n",
       " 118,\n",
       " 127,\n",
       " 145,\n",
       " 121,\n",
       " 136,\n",
       " 124,\n",
       " 175,\n",
       " 172,\n",
       " 172,\n",
       " 130,\n",
       " 130,\n",
       " 130,\n",
       " 127,\n",
       " 142,\n",
       " 121,\n",
       " 112,\n",
       " 145,\n",
       " 115,\n",
       " 133,\n",
       " 121,\n",
       " 109,\n",
       " 106,\n",
       " 136,\n",
       " 103,\n",
       " 130,\n",
       " 124,\n",
       " 124,\n",
       " 124,\n",
       " 130,\n",
       " 139,\n",
       " 145,\n",
       " 97,\n",
       " 133,\n",
       " 103,\n",
       " 115,\n",
       " 130,\n",
       " 106,\n",
       " 133,\n",
       " 124,\n",
       " 118,\n",
       " 118,\n",
       " 109,\n",
       " 124,\n",
       " 118,\n",
       " 160,\n",
       " 91,\n",
       " 118,\n",
       " 130,\n",
       " 112,\n",
       " 124,\n",
       " 190,\n",
       " 121,\n",
       " 115,\n",
       " 136,\n",
       " 175,\n",
       " 127,\n",
       " 130,\n",
       " 118,\n",
       " 109,\n",
       " 94,\n",
       " 157,\n",
       " 100,\n",
       " 106,\n",
       " 148,\n",
       " 130,\n",
       " 133,\n",
       " 109,\n",
       " 91,\n",
       " 97,\n",
       " 85,\n",
       " 97,\n",
       " 97,\n",
       " 118,\n",
       " 115,\n",
       " 130,\n",
       " 124,\n",
       " 109,\n",
       " 97,\n",
       " 109,\n",
       " 136,\n",
       " 166,\n",
       " 139,\n",
       " 130,\n",
       " 163,\n",
       " 136,\n",
       " 136,\n",
       " 94,\n",
       " 160,\n",
       " 118,\n",
       " 112,\n",
       " 124,\n",
       " 94,\n",
       " 100,\n",
       " 91,\n",
       " 88,\n",
       " 112,\n",
       " 130,\n",
       " 133,\n",
       " 112,\n",
       " 109,\n",
       " 112,\n",
       " 118,\n",
       " 154,\n",
       " 136,\n",
       " 142,\n",
       " 130,\n",
       " 148,\n",
       " 166,\n",
       " 121,\n",
       " 115,\n",
       " 115,\n",
       " 136,\n",
       " 130,\n",
       " 127,\n",
       " 124,\n",
       " 145,\n",
       " 139,\n",
       " 136,\n",
       " 136,\n",
       " 112,\n",
       " 142,\n",
       " 130,\n",
       " 112,\n",
       " 118,\n",
       " 133,\n",
       " 121,\n",
       " 118,\n",
       " 154,\n",
       " 133,\n",
       " 124,\n",
       " 124,\n",
       " 148,\n",
       " 97,\n",
       " 109,\n",
       " 106,\n",
       " 112,\n",
       " 127,\n",
       " 88,\n",
       " 103,\n",
       " 94,\n",
       " 124,\n",
       " 85,\n",
       " 142,\n",
       " 136,\n",
       " 142,\n",
       " 127,\n",
       " 115,\n",
       " 130,\n",
       " 124,\n",
       " 142,\n",
       " 124,\n",
       " 124,\n",
       " 124,\n",
       " 148,\n",
       " 136,\n",
       " 130,\n",
       " 148,\n",
       " 115,\n",
       " 124,\n",
       " 136,\n",
       " 118,\n",
       " 142,\n",
       " 127,\n",
       " 154,\n",
       " 121,\n",
       " 178,\n",
       " 127,\n",
       " 130,\n",
       " 136,\n",
       " 145,\n",
       " 133,\n",
       " 106,\n",
       " 169,\n",
       " 133,\n",
       " 154,\n",
       " 118,\n",
       " 106,\n",
       " 133,\n",
       " 130,\n",
       " 142,\n",
       " 130,\n",
       " 148,\n",
       " 133,\n",
       " 145,\n",
       " 121,\n",
       " 121,\n",
       " 133,\n",
       " 154,\n",
       " 163,\n",
       " 130,\n",
       " 151,\n",
       " 139,\n",
       " 124,\n",
       " 118,\n",
       " 136,\n",
       " 115,\n",
       " 145,\n",
       " 127,\n",
       " 124,\n",
       " 139,\n",
       " 160,\n",
       " 148,\n",
       " 121,\n",
       " 154,\n",
       " 127,\n",
       " 124,\n",
       " 145,\n",
       " 124,\n",
       " 127,\n",
       " 136,\n",
       " 124,\n",
       " 115,\n",
       " 118,\n",
       " 133,\n",
       " 118,\n",
       " 106,\n",
       " 127,\n",
       " 121,\n",
       " 130,\n",
       " 103,\n",
       " 130,\n",
       " 172,\n",
       " 136,\n",
       " 139,\n",
       " 130,\n",
       " 148,\n",
       " 145,\n",
       " 115,\n",
       " 130,\n",
       " 118,\n",
       " 148,\n",
       " 127,\n",
       " 142,\n",
       " 121,\n",
       " 136,\n",
       " 130,\n",
       " 118,\n",
       " 133,\n",
       " 127,\n",
       " 136,\n",
       " 145,\n",
       " 136,\n",
       " 136,\n",
       " 118,\n",
       " 136,\n",
       " 124,\n",
       " 127,\n",
       " 121,\n",
       " 151,\n",
       " 142,\n",
       " 133,\n",
       " 133,\n",
       " 139,\n",
       " 136,\n",
       " 148,\n",
       " 142,\n",
       " 142,\n",
       " 109,\n",
       " 124,\n",
       " 121,\n",
       " 121,\n",
       " 130,\n",
       " 142,\n",
       " 139,\n",
       " 148,\n",
       " 136,\n",
       " 139,\n",
       " 118,\n",
       " 145,\n",
       " 121,\n",
       " 130,\n",
       " 124,\n",
       " 121,\n",
       " 109,\n",
       " 130,\n",
       " 136,\n",
       " 148,\n",
       " 127,\n",
       " 130,\n",
       " 142,\n",
       " 178,\n",
       " 121,\n",
       " 127,\n",
       " 136,\n",
       " 151,\n",
       " 121,\n",
       " 115,\n",
       " 115,\n",
       " 148,\n",
       " 124,\n",
       " 112,\n",
       " 118,\n",
       " 130,\n",
       " 124,\n",
       " 136,\n",
       " 160,\n",
       " 133,\n",
       " 145,\n",
       " 133,\n",
       " 133,\n",
       " 133,\n",
       " 136,\n",
       " 136,\n",
       " 139,\n",
       " 136,\n",
       " 160,\n",
       " 124,\n",
       " 103,\n",
       " 124,\n",
       " 130,\n",
       " 112,\n",
       " 154,\n",
       " 139,\n",
       " 139,\n",
       " 124,\n",
       " 142,\n",
       " 121,\n",
       " 145,\n",
       " 124,\n",
       " 145,\n",
       " 142,\n",
       " 133,\n",
       " 118,\n",
       " 151,\n",
       " 142,\n",
       " 133,\n",
       " 154,\n",
       " 124,\n",
       " 163,\n",
       " 139,\n",
       " 178,\n",
       " 115,\n",
       " 136,\n",
       " 142,\n",
       " 142,\n",
       " 145,\n",
       " 154,\n",
       " 115,\n",
       " 118,\n",
       " 124,\n",
       " 121,\n",
       " 136,\n",
       " 127,\n",
       " 124,\n",
       " 127,\n",
       " 106,\n",
       " 121,\n",
       " 127,\n",
       " 136,\n",
       " 109,\n",
       " 112,\n",
       " 124,\n",
       " 103,\n",
       " 139,\n",
       " 115,\n",
       " 136,\n",
       " 106,\n",
       " 127,\n",
       " 121,\n",
       " 130,\n",
       " 136,\n",
       " 136,\n",
       " 124,\n",
       " 115,\n",
       " 124,\n",
       " 121,\n",
       " 136,\n",
       " 121,\n",
       " 142,\n",
       " 124,\n",
       " 133,\n",
       " 124,\n",
       " 130,\n",
       " 127,\n",
       " 109,\n",
       " 157,\n",
       " 133,\n",
       " 124,\n",
       " 130,\n",
       " 145,\n",
       " 127,\n",
       " 118,\n",
       " 130,\n",
       " 157,\n",
       " 142,\n",
       " 139,\n",
       " 124,\n",
       " 139,\n",
       " 139,\n",
       " 136,\n",
       " 160,\n",
       " 97,\n",
       " 139,\n",
       " 133,\n",
       " 136,\n",
       " 136,\n",
       " 139,\n",
       " 142,\n",
       " 127,\n",
       " 112,\n",
       " 118,\n",
       " 118,\n",
       " 115,\n",
       " 106,\n",
       " 97,\n",
       " 130,\n",
       " 115,\n",
       " 136,\n",
       " 127,\n",
       " 103,\n",
       " 106,\n",
       " 118,\n",
       " 136,\n",
       " 133,\n",
       " 115,\n",
       " 133,\n",
       " 124,\n",
       " 133,\n",
       " 133,\n",
       " 118,\n",
       " 157,\n",
       " 112,\n",
       " 142,\n",
       " 151,\n",
       " 154,\n",
       " 169,\n",
       " 136,\n",
       " 130,\n",
       " 142,\n",
       " 121,\n",
       " 121,\n",
       " 148,\n",
       " 136,\n",
       " 142,\n",
       " 127,\n",
       " 142,\n",
       " 127,\n",
       " 118,\n",
       " 148,\n",
       " 154,\n",
       " 154,\n",
       " 166,\n",
       " 118,\n",
       " 142,\n",
       " 154,\n",
       " 139,\n",
       " 124,\n",
       " 127,\n",
       " 145,\n",
       " 115,\n",
       " 109,\n",
       " 121,\n",
       " 106,\n",
       " 130,\n",
       " 106,\n",
       " 148,\n",
       " 139,\n",
       " 127,\n",
       " 112,\n",
       " 136,\n",
       " 142,\n",
       " 112,\n",
       " 133,\n",
       " 130,\n",
       " 112,\n",
       " 118,\n",
       " 121,\n",
       " 112,\n",
       " 136,\n",
       " 121,\n",
       " 127,\n",
       " 124,\n",
       " 124,\n",
       " 124,\n",
       " 124,\n",
       " 118,\n",
       " 130,\n",
       " 112,\n",
       " 115,\n",
       " 118,\n",
       " 154,\n",
       " 109,\n",
       " 112,\n",
       " 136,\n",
       " 121,\n",
       " 121,\n",
       " 139,\n",
       " 115,\n",
       " 133,\n",
       " 160,\n",
       " 127,\n",
       " 133,\n",
       " 142,\n",
       " 109,\n",
       " 139,\n",
       " 133,\n",
       " 121,\n",
       " 100,\n",
       " 130,\n",
       " 145,\n",
       " 130,\n",
       " 103,\n",
       " 118,\n",
       " 115,\n",
       " 94,\n",
       " 124,\n",
       " 133,\n",
       " 136,\n",
       " 121,\n",
       " 85,\n",
       " 121,\n",
       " 103,\n",
       " 139,\n",
       " 124,\n",
       " 61,\n",
       " 106,\n",
       " 121,\n",
       " 124,\n",
       " 127,\n",
       " 118,\n",
       " 130,\n",
       " 154,\n",
       " 142,\n",
       " 130,\n",
       " 124,\n",
       " 157,\n",
       " 124,\n",
       " 127,\n",
       " 133,\n",
       " 133,\n",
       " 130,\n",
       " 199,\n",
       " 127,\n",
       " 121,\n",
       " 127,\n",
       " 139,\n",
       " 121,\n",
       " 118,\n",
       " 124,\n",
       " 112,\n",
       " 160,\n",
       " 127,\n",
       " 139,\n",
       " 124,\n",
       " 118,\n",
       " 115,\n",
       " 127,\n",
       " 118,\n",
       " 115,\n",
       " 130,\n",
       " 160,\n",
       " 103,\n",
       " 151,\n",
       " 118,\n",
       " 109,\n",
       " 118,\n",
       " 103,\n",
       " 121,\n",
       " 130,\n",
       " 127,\n",
       " 121,\n",
       " 103,\n",
       " 130,\n",
       " ...]"
      ]
     },
     "execution_count": 41,
     "metadata": {},
     "output_type": "execute_result"
    }
   ],
   "source": [
    "dim1"
   ]
  },
  {
   "cell_type": "markdown",
   "metadata": {},
   "source": [
    "## <a name='visualizediemnsion'> Visualize the image dimesions distribution</a>"
   ]
  },
  {
   "cell_type": "code",
   "execution_count": 43,
   "metadata": {},
   "outputs": [
    {
     "data": {
      "image/png": "[encoded data removed]",
      "text/plain": [
       "<Figure size 432x432 with 3 Axes>"
      ]
     },
     "metadata": {
      "needs_background": "light"
     },
     "output_type": "display_data"
    }
   ],
   "source": [
    "sns.jointplot(x=dim1, y=dim2);"
   ]
  },
  {
   "cell_type": "markdown",
   "metadata": {},
   "source": [
    "We can see the smallest image is 60x50 and the largest one is by 220x221(around).\n",
    "\n",
    "Most of the images are between 100x100 and 180x175."
   ]
  },
  {
   "cell_type": "markdown",
   "metadata": {},
   "source": [
    "## <a name='important'> So why it is important to check the dimensions of the images?</a>\n",
    "\n",
    "+ Convolutional Neural Network isn't going to be able train on images of various sizes. So we need to make sure to resize all the images to be the same size.\n",
    "+ So we have to choose what actual dimensions should I resize everything to.\n",
    "+ What we should choose is the `average size` of dimensions."
   ]
  },
  {
   "cell_type": "code",
   "execution_count": 44,
   "metadata": {},
   "outputs": [
    {
     "data": {
      "text/plain": [
       "130.92538461538462"
      ]
     },
     "execution_count": 44,
     "metadata": {},
     "output_type": "execute_result"
    }
   ],
   "source": [
    "np.mean(dim1)"
   ]
  },
  {
   "cell_type": "code",
   "execution_count": 45,
   "metadata": {},
   "outputs": [
    {
     "data": {
      "text/plain": [
       "130.75"
      ]
     },
     "execution_count": 45,
     "metadata": {},
     "output_type": "execute_result"
    }
   ],
   "source": [
    "np.mean(dim2)"
   ]
  },
  {
   "cell_type": "markdown",
   "metadata": {},
   "source": [
    "So we dediced to use mean dimension size to resize all the images."
   ]
  },
  {
   "cell_type": "code",
   "execution_count": 89,
   "metadata": {},
   "outputs": [],
   "source": [
    "image_shape = (130, 130, 3)"
   ]
  },
  {
   "cell_type": "markdown",
   "metadata": {},
   "source": [
    "--------"
   ]
  },
  {
   "cell_type": "markdown",
   "metadata": {},
   "source": [
    "# <a name='preparingdata'> Preparing the Data for the model</a>\n",
    "\n",
    "There is too much data for us to read all at once in memory. We can use some built in functions in Keras to automatically process the data, generate a flow of batches from a directory, and also manipulate the images.\n",
    "\n",
    "## <a name='imagemanipulation'> Image Manipulation</a>\n",
    "\n",
    "Its usually a good idea to manipulate the images with rotation, resizing, and scaling so the model becomes more robust to different images that our data set doesn't have. We can use the **ImageDataGenerator** to do this automatically for us. Check out the documentation for a full list of all the parameters you can use here!"
   ]
  },
  {
   "cell_type": "code",
   "execution_count": 49,
   "metadata": {},
   "outputs": [
    {
     "data": {
      "text/plain": [
       "50700"
      ]
     },
     "execution_count": 49,
     "metadata": {},
     "output_type": "execute_result"
    }
   ],
   "source": [
    "130*130*3"
   ]
  },
  {
   "cell_type": "markdown",
   "metadata": {},
   "source": [
    "Now we will be dealing with 50,700 data points for every image."
   ]
  },
  {
   "cell_type": "markdown",
   "metadata": {},
   "source": [
    "### <a name='whymanipulate'>Why we want to manipulate the image data?</a>\n",
    "\n",
    "+ Currently we have total training images of 24960 and we want to expand our training data.\n",
    "+ One way we can do is rotation, resizing, and scaling so the model becomes more robust to different images that our data set doesn't have.\n",
    "\n",
    "### <a name='howtochoose'>So what is the good value for those random transformation parameters? How much should I rotate, stretch or sequeeze the images?</a>\n",
    "\n",
    "+ It all depends on the images that we are dealing with\n",
    "+ In our cell image, lucky that cells are kinda round in nature and we expect that future image will follow the same shape. However we can expect the images can be in stretched or sequeezed , based on the data source.\n",
    "+ for other use case like we are trying to detect the person image, we normally don't want to rotate the image 180 degree. Because it doesn't helpful for camera to detect upside down images unless someone is walking to that camera upside down."
   ]
  },
  {
   "cell_type": "code",
   "execution_count": 57,
   "metadata": {},
   "outputs": [
    {
     "data": {
      "text/plain": [
       "12480"
      ]
     },
     "execution_count": 57,
     "metadata": {},
     "output_type": "execute_result"
    }
   ],
   "source": [
    "os.listdir(train_path+'/parasitized/')"
   ]
  },
  {
   "cell_type": "code",
   "execution_count": 59,
   "metadata": {},
   "outputs": [
    {
     "data": {
      "text/plain": [
       "12480"
      ]
     },
     "execution_count": 59,
     "metadata": {},
     "output_type": "execute_result"
    }
   ],
   "source": [
    "len(os.listdir(train_path+'/uninfected'))"
   ]
  },
  {
   "cell_type": "code",
   "execution_count": 60,
   "metadata": {},
   "outputs": [
    {
     "data": {
      "text/plain": [
       "24960"
      ]
     },
     "execution_count": 60,
     "metadata": {},
     "output_type": "execute_result"
    }
   ],
   "source": [
    "12480 *2 "
   ]
  },
  {
   "cell_type": "markdown",
   "metadata": {},
   "source": [
    "### <a name='deciderescale'>Deciding whether we need to rescale the image?</a>\n",
    "+ It seems like our image are already in scale (between 0 and 1). So we don't need to use `rescale` parameter.\n",
    "+ In the case of we need to rescale the image, we need to use `rescale=1/255`\n"
   ]
  },
  {
   "cell_type": "code",
   "execution_count": 65,
   "metadata": {},
   "outputs": [
    {
     "data": {
      "text/plain": [
       "(0.0, 0.88235295)"
      ]
     },
     "execution_count": 65,
     "metadata": {},
     "output_type": "execute_result"
    }
   ],
   "source": [
    "unifected_cell.min(), unifected_cell.max()"
   ]
  },
  {
   "cell_type": "code",
   "execution_count": 73,
   "metadata": {},
   "outputs": [
    {
     "data": {
      "text/plain": [
       "(0.0, 0.9098039)"
      ]
     },
     "execution_count": 73,
     "metadata": {},
     "output_type": "execute_result"
    }
   ],
   "source": [
    "parasitized_cell.min(), parasitized_cell.max()"
   ]
  },
  {
   "cell_type": "markdown",
   "metadata": {},
   "source": [
    "-----"
   ]
  },
  {
   "cell_type": "markdown",
   "metadata": {},
   "source": [
    "## <a name='imagedatagenerator'>Image Data Generator</a>\n",
    "+ `rotation_range`\n",
    "+ `width_shift_range`\n",
    "+ `height_shift_range`\n",
    "+ `rescale`\n",
    "+ `shear_range` : how much we cut off the image\n",
    "+ `zoom_range`\n",
    "+ `horizontal_flip`\n",
    "+ `fill_mode`: `nearest` => tell where we want to get the image data to fill in the missing parts, after we cut off the image."
   ]
  },
  {
   "cell_type": "code",
   "execution_count": 51,
   "metadata": {},
   "outputs": [],
   "source": [
    "from tensorflow.keras.preprocessing.image import ImageDataGenerator"
   ]
  },
  {
   "cell_type": "code",
   "execution_count": 55,
   "metadata": {},
   "outputs": [
    {
     "name": "stdout",
     "output_type": "stream",
     "text": [
      "Help on class ImageDataGenerator in module tensorflow.python.keras.preprocessing.image:\n",
      "\n",
      "class ImageDataGenerator(keras_preprocessing.image.image_data_generator.ImageDataGenerator)\n",
      " |  ImageDataGenerator(featurewise_center=False, samplewise_center=False, featurewise_std_normalization=False, samplewise_std_normalization=False, zca_whitening=False, zca_epsilon=1e-06, rotation_range=0, width_shift_range=0.0, height_shift_range=0.0, brightness_range=None, shear_range=0.0, zoom_range=0.0, channel_shift_range=0.0, fill_mode='nearest', cval=0.0, horizontal_flip=False, vertical_flip=False, rescale=None, preprocessing_function=None, data_format=None, validation_split=0.0, dtype=None)\n",
      " |  \n",
      " |  Generate batches of tensor image data with real-time data augmentation.\n",
      " |  \n",
      " |   The data will be looped over (in batches).\n",
      " |  \n",
      " |  Arguments:\n",
      " |      featurewise_center: Boolean.\n",
      " |          Set input mean to 0 over the dataset, feature-wise.\n",
      " |      samplewise_center: Boolean. Set each sample mean to 0.\n",
      " |      featurewise_std_normalization: Boolean.\n",
      " |          Divide inputs by std of the dataset, feature-wise.\n",
      " |      samplewise_std_normalization: Boolean. Divide each input by its std.\n",
      " |      zca_epsilon: epsilon for ZCA whitening. Default is 1e-6.\n",
      " |      zca_whitening: Boolean. Apply ZCA whitening.\n",
      " |      rotation_range: Int. Degree range for random rotations.\n",
      " |      width_shift_range: Float, 1-D array-like or int\n",
      " |          - float: fraction of total width, if < 1, or pixels if >= 1.\n",
      " |          - 1-D array-like: random elements from the array.\n",
      " |          - int: integer number of pixels from interval\n",
      " |              `(-width_shift_range, +width_shift_range)`\n",
      " |          - With `width_shift_range=2` possible values\n",
      " |              are integers `[-1, 0, +1]`,\n",
      " |              same as with `width_shift_range=[-1, 0, +1]`,\n",
      " |              while with `width_shift_range=1.0` possible values are floats\n",
      " |              in the interval [-1.0, +1.0).\n",
      " |      height_shift_range: Float, 1-D array-like or int\n",
      " |          - float: fraction of total height, if < 1, or pixels if >= 1.\n",
      " |          - 1-D array-like: random elements from the array.\n",
      " |          - int: integer number of pixels from interval\n",
      " |              `(-height_shift_range, +height_shift_range)`\n",
      " |          - With `height_shift_range=2` possible values\n",
      " |              are integers `[-1, 0, +1]`,\n",
      " |              same as with `height_shift_range=[-1, 0, +1]`,\n",
      " |              while with `height_shift_range=1.0` possible values are floats\n",
      " |              in the interval [-1.0, +1.0).\n",
      " |      brightness_range: Tuple or list of two floats. Range for picking\n",
      " |          a brightness shift value from.\n",
      " |      shear_range: Float. Shear Intensity\n",
      " |          (Shear angle in counter-clockwise direction in degrees)\n",
      " |      zoom_range: Float or [lower, upper]. Range for random zoom.\n",
      " |          If a float, `[lower, upper] = [1-zoom_range, 1+zoom_range]`.\n",
      " |      channel_shift_range: Float. Range for random channel shifts.\n",
      " |      fill_mode: One of {\"constant\", \"nearest\", \"reflect\" or \"wrap\"}.\n",
      " |          Default is 'nearest'.\n",
      " |          Points outside the boundaries of the input are filled\n",
      " |          according to the given mode:\n",
      " |          - 'constant': kkkkkkkk|abcd|kkkkkkkk (cval=k)\n",
      " |          - 'nearest':  aaaaaaaa|abcd|dddddddd\n",
      " |          - 'reflect':  abcddcba|abcd|dcbaabcd\n",
      " |          - 'wrap':  abcdabcd|abcd|abcdabcd\n",
      " |      cval: Float or Int.\n",
      " |          Value used for points outside the boundaries\n",
      " |          when `fill_mode = \"constant\"`.\n",
      " |      horizontal_flip: Boolean. Randomly flip inputs horizontally.\n",
      " |      vertical_flip: Boolean. Randomly flip inputs vertically.\n",
      " |      rescale: rescaling factor. Defaults to None.\n",
      " |          If None or 0, no rescaling is applied,\n",
      " |          otherwise we multiply the data by the value provided\n",
      " |          (after applying all other transformations).\n",
      " |      preprocessing_function: function that will be applied on each input.\n",
      " |          The function will run after the image is resized and augmented.\n",
      " |          The function should take one argument:\n",
      " |          one image (Numpy tensor with rank 3),\n",
      " |          and should output a Numpy tensor with the same shape.\n",
      " |      data_format: Image data format,\n",
      " |          either \"channels_first\" or \"channels_last\".\n",
      " |          \"channels_last\" mode means that the images should have shape\n",
      " |          `(samples, height, width, channels)`,\n",
      " |          \"channels_first\" mode means that the images should have shape\n",
      " |          `(samples, channels, height, width)`.\n",
      " |          It defaults to the `image_data_format` value found in your\n",
      " |          Keras config file at `~/.keras/keras.json`.\n",
      " |          If you never set it, then it will be \"channels_last\".\n",
      " |      validation_split: Float. Fraction of images reserved for validation\n",
      " |          (strictly between 0 and 1).\n",
      " |      dtype: Dtype to use for the generated arrays.\n",
      " |  \n",
      " |  Examples:\n",
      " |  \n",
      " |  Example of using `.flow(x, y)`:\n",
      " |  \n",
      " |  ```python\n",
      " |  (x_train, y_train), (x_test, y_test) = cifar10.load_data()\n",
      " |  y_train = np_utils.to_categorical(y_train, num_classes)\n",
      " |  y_test = np_utils.to_categorical(y_test, num_classes)\n",
      " |  datagen = ImageDataGenerator(\n",
      " |      featurewise_center=True,\n",
      " |      featurewise_std_normalization=True,\n",
      " |      rotation_range=20,\n",
      " |      width_shift_range=0.2,\n",
      " |      height_shift_range=0.2,\n",
      " |      horizontal_flip=True)\n",
      " |  # compute quantities required for featurewise normalization\n",
      " |  # (std, mean, and principal components if ZCA whitening is applied)\n",
      " |  datagen.fit(x_train)\n",
      " |  # fits the model on batches with real-time data augmentation:\n",
      " |  model.fit(datagen.flow(x_train, y_train, batch_size=32),\n",
      " |            steps_per_epoch=len(x_train) / 32, epochs=epochs)\n",
      " |  # here's a more \"manual\" example\n",
      " |  for e in range(epochs):\n",
      " |      print('Epoch', e)\n",
      " |      batches = 0\n",
      " |      for x_batch, y_batch in datagen.flow(x_train, y_train, batch_size=32):\n",
      " |          model.fit(x_batch, y_batch)\n",
      " |          batches += 1\n",
      " |          if batches >= len(x_train) / 32:\n",
      " |              # we need to break the loop by hand because\n",
      " |              # the generator loops indefinitely\n",
      " |              break\n",
      " |  ```\n",
      " |  \n",
      " |  Example of using `.flow_from_directory(directory)`:\n",
      " |  \n",
      " |  ```python\n",
      " |  train_datagen = ImageDataGenerator(\n",
      " |          rescale=1./255,\n",
      " |          shear_range=0.2,\n",
      " |          zoom_range=0.2,\n",
      " |          horizontal_flip=True)\n",
      " |  test_datagen = ImageDataGenerator(rescale=1./255)\n",
      " |  train_generator = train_datagen.flow_from_directory(\n",
      " |          'data/train',\n",
      " |          target_size=(150, 150),\n",
      " |          batch_size=32,\n",
      " |          class_mode='binary')\n",
      " |  validation_generator = test_datagen.flow_from_directory(\n",
      " |          'data/validation',\n",
      " |          target_size=(150, 150),\n",
      " |          batch_size=32,\n",
      " |          class_mode='binary')\n",
      " |  model.fit(\n",
      " |          train_generator,\n",
      " |          steps_per_epoch=2000,\n",
      " |          epochs=50,\n",
      " |          validation_data=validation_generator,\n",
      " |          validation_steps=800)\n",
      " |  ```\n",
      " |  \n",
      " |  Example of transforming images and masks together.\n",
      " |  \n",
      " |  ```python\n",
      " |  # we create two instances with the same arguments\n",
      " |  data_gen_args = dict(featurewise_center=True,\n",
      " |                       featurewise_std_normalization=True,\n",
      " |                       rotation_range=90,\n",
      " |                       width_shift_range=0.1,\n",
      " |                       height_shift_range=0.1,\n",
      " |                       zoom_range=0.2)\n",
      " |  image_datagen = ImageDataGenerator(**data_gen_args)\n",
      " |  mask_datagen = ImageDataGenerator(**data_gen_args)\n",
      " |  # Provide the same seed and keyword arguments to the fit and flow methods\n",
      " |  seed = 1\n",
      " |  image_datagen.fit(images, augment=True, seed=seed)\n",
      " |  mask_datagen.fit(masks, augment=True, seed=seed)\n",
      " |  image_generator = image_datagen.flow_from_directory(\n",
      " |      'data/images',\n",
      " |      class_mode=None,\n",
      " |      seed=seed)\n",
      " |  mask_generator = mask_datagen.flow_from_directory(\n",
      " |      'data/masks',\n",
      " |      class_mode=None,\n",
      " |      seed=seed)\n",
      " |  # combine generators into one which yields image and masks\n",
      " |  train_generator = zip(image_generator, mask_generator)\n",
      " |  model.fit_generator(\n",
      " |      train_generator,\n",
      " |      steps_per_epoch=2000,\n",
      " |      epochs=50)\n",
      " |  ```\n",
      " |  \n",
      " |  Method resolution order:\n",
      " |      ImageDataGenerator\n",
      " |      keras_preprocessing.image.image_data_generator.ImageDataGenerator\n",
      " |      builtins.object\n",
      " |  \n",
      " |  Methods defined here:\n",
      " |  \n",
      " |  __init__(self, featurewise_center=False, samplewise_center=False, featurewise_std_normalization=False, samplewise_std_normalization=False, zca_whitening=False, zca_epsilon=1e-06, rotation_range=0, width_shift_range=0.0, height_shift_range=0.0, brightness_range=None, shear_range=0.0, zoom_range=0.0, channel_shift_range=0.0, fill_mode='nearest', cval=0.0, horizontal_flip=False, vertical_flip=False, rescale=None, preprocessing_function=None, data_format=None, validation_split=0.0, dtype=None)\n",
      " |      Initialize self.  See help(type(self)) for accurate signature.\n",
      " |  \n",
      " |  flow(self, x, y=None, batch_size=32, shuffle=True, sample_weight=None, seed=None, save_to_dir=None, save_prefix='', save_format='png', subset=None)\n",
      " |      Takes data & label arrays, generates batches of augmented data.\n",
      " |      \n",
      " |      Arguments:\n",
      " |          x: Input data. Numpy array of rank 4 or a tuple. If tuple, the first\n",
      " |            element should contain the images and the second element another numpy\n",
      " |            array or a list of numpy arrays that gets passed to the output without\n",
      " |            any modifications. Can be used to feed the model miscellaneous data\n",
      " |            along with the images. In case of grayscale data, the channels axis of\n",
      " |            the image array should have value 1, in case of RGB data, it should\n",
      " |            have value 3, and in case of RGBA data, it should have value 4.\n",
      " |          y: Labels.\n",
      " |          batch_size: Int (default: 32).\n",
      " |          shuffle: Boolean (default: True).\n",
      " |          sample_weight: Sample weights.\n",
      " |          seed: Int (default: None).\n",
      " |          save_to_dir: None or str (default: None). This allows you to optionally\n",
      " |            specify a directory to which to save the augmented pictures being\n",
      " |            generated (useful for visualizing what you are doing).\n",
      " |          save_prefix: Str (default: `''`). Prefix to use for filenames of saved\n",
      " |            pictures (only relevant if `save_to_dir` is set).\n",
      " |          save_format: one of \"png\", \"jpeg\"\n",
      " |              (only relevant if `save_to_dir` is set). Default: \"png\".\n",
      " |          subset: Subset of data (`\"training\"` or `\"validation\"`) if\n",
      " |            `validation_split` is set in `ImageDataGenerator`.\n",
      " |      \n",
      " |      Returns:\n",
      " |          An `Iterator` yielding tuples of `(x, y)`\n",
      " |              where `x` is a numpy array of image data\n",
      " |              (in the case of a single image input) or a list\n",
      " |              of numpy arrays (in the case with\n",
      " |              additional inputs) and `y` is a numpy array\n",
      " |              of corresponding labels. If 'sample_weight' is not None,\n",
      " |              the yielded tuples are of the form `(x, y, sample_weight)`.\n",
      " |              If `y` is None, only the numpy array `x` is returned.\n",
      " |  \n",
      " |  flow_from_dataframe(self, dataframe, directory=None, x_col='filename', y_col='class', weight_col=None, target_size=(256, 256), color_mode='rgb', classes=None, class_mode='categorical', batch_size=32, shuffle=True, seed=None, save_to_dir=None, save_prefix='', save_format='png', subset=None, interpolation='nearest', validate_filenames=True, **kwargs)\n",
      " |      Takes the dataframe and the path to a directory + generates batches.\n",
      " |      \n",
      " |       The generated batches contain augmented/normalized data.\n",
      " |      \n",
      " |      **A simple tutorial can be found **[here](\n",
      " |                                  http://bit.ly/keras_flow_from_dataframe).\n",
      " |      \n",
      " |      Arguments:\n",
      " |          dataframe: Pandas dataframe containing the filepaths relative to\n",
      " |            `directory` (or absolute paths if `directory` is None) of the images\n",
      " |            in a string column. It should include other column/s\n",
      " |              depending on the `class_mode`: - if `class_mode` is `\"categorical\"`\n",
      " |                (default value) it must include the `y_col` column with the\n",
      " |                class/es of each image. Values in column can be string/list/tuple\n",
      " |                if a single class or list/tuple if multiple classes. - if\n",
      " |                `class_mode` is `\"binary\"` or `\"sparse\"` it must include the given\n",
      " |                `y_col` column with class values as strings. - if `class_mode` is\n",
      " |                `\"raw\"` or `\"multi_output\"` it should contain the columns\n",
      " |                specified in `y_col`. - if `class_mode` is `\"input\"` or `None` no\n",
      " |                extra column is needed.\n",
      " |          directory: string, path to the directory to read images from. If `None`,\n",
      " |            data in `x_col` column should be absolute paths.\n",
      " |          x_col: string, column in `dataframe` that contains the filenames (or\n",
      " |            absolute paths if `directory` is `None`).\n",
      " |          y_col: string or list, column/s in `dataframe` that has the target data.\n",
      " |          weight_col: string, column in `dataframe` that contains the sample\n",
      " |              weights. Default: `None`.\n",
      " |          target_size: tuple of integers `(height, width)`, default: `(256, 256)`.\n",
      " |            The dimensions to which all images found will be resized.\n",
      " |          color_mode: one of \"grayscale\", \"rgb\", \"rgba\". Default: \"rgb\". Whether\n",
      " |            the images will be converted to have 1 or 3 color channels.\n",
      " |          classes: optional list of classes (e.g. `['dogs', 'cats']`). Default is\n",
      " |            None. If not provided, the list of classes will be automatically\n",
      " |            inferred from the `y_col`, which will map to the label indices, will\n",
      " |            be alphanumeric). The dictionary containing the mapping from class\n",
      " |            names to class indices can be obtained via the attribute\n",
      " |            `class_indices`.\n",
      " |          class_mode: one of \"binary\", \"categorical\", \"input\", \"multi_output\",\n",
      " |              \"raw\", sparse\" or None. Default: \"categorical\".\n",
      " |              Mode for yielding the targets:\n",
      " |              - `\"binary\"`: 1D numpy array of binary labels,\n",
      " |              - `\"categorical\"`: 2D numpy array of one-hot encoded labels.\n",
      " |                Supports multi-label output.\n",
      " |              - `\"input\"`: images identical to input images (mainly used to work\n",
      " |                with autoencoders),\n",
      " |              - `\"multi_output\"`: list with the values of the different columns,\n",
      " |              - `\"raw\"`: numpy array of values in `y_col` column(s),\n",
      " |              - `\"sparse\"`: 1D numpy array of integer labels, - `None`, no targets\n",
      " |                are returned (the generator will only yield batches of image data,\n",
      " |                which is useful to use in `model.predict_generator()`).\n",
      " |          batch_size: size of the batches of data (default: 32).\n",
      " |          shuffle: whether to shuffle the data (default: True)\n",
      " |          seed: optional random seed for shuffling and transformations.\n",
      " |          save_to_dir: None or str (default: None). This allows you to optionally\n",
      " |            specify a directory to which to save the augmented pictures being\n",
      " |            generated (useful for visualizing what you are doing).\n",
      " |          save_prefix: str. Prefix to use for filenames of saved pictures (only\n",
      " |            relevant if `save_to_dir` is set).\n",
      " |          save_format: one of \"png\", \"jpeg\"\n",
      " |              (only relevant if `save_to_dir` is set). Default: \"png\".\n",
      " |          subset: Subset of data (`\"training\"` or `\"validation\"`) if\n",
      " |            `validation_split` is set in `ImageDataGenerator`.\n",
      " |          interpolation: Interpolation method used to resample the image if the\n",
      " |            target size is different from that of the loaded image. Supported\n",
      " |            methods are `\"nearest\"`, `\"bilinear\"`, and `\"bicubic\"`. If PIL version\n",
      " |            1.1.3 or newer is installed, `\"lanczos\"` is also supported. If PIL\n",
      " |            version 3.4.0 or newer is installed, `\"box\"` and `\"hamming\"` are also\n",
      " |            supported. By default, `\"nearest\"` is used.\n",
      " |          validate_filenames: Boolean, whether to validate image filenames in\n",
      " |            `x_col`. If `True`, invalid images will be ignored. Disabling this\n",
      " |            option can lead to speed-up in the execution of this function.\n",
      " |            Defaults to `True`.\n",
      " |          **kwargs: legacy arguments for raising deprecation warnings.\n",
      " |      \n",
      " |      Returns:\n",
      " |          A `DataFrameIterator` yielding tuples of `(x, y)`\n",
      " |          where `x` is a numpy array containing a batch\n",
      " |          of images with shape `(batch_size, *target_size, channels)`\n",
      " |          and `y` is a numpy array of corresponding labels.\n",
      " |  \n",
      " |  flow_from_directory(self, directory, target_size=(256, 256), color_mode='rgb', classes=None, class_mode='categorical', batch_size=32, shuffle=True, seed=None, save_to_dir=None, save_prefix='', save_format='png', follow_links=False, subset=None, interpolation='nearest')\n",
      " |      Takes the path to a directory & generates batches of augmented data.\n",
      " |      \n",
      " |      Arguments:\n",
      " |          directory: string, path to the target directory. It should contain one\n",
      " |            subdirectory per class. Any PNG, JPG, BMP, PPM or TIF images inside\n",
      " |            each of the subdirectories directory tree will be included in the\n",
      " |            generator. See [this script](\n",
      " |              https://gist.github.com/fchollet/0830affa1f7f19fd47b06d4cf89ed44d)\n",
      " |                for more details.\n",
      " |          target_size: Tuple of integers `(height, width)`, defaults to `(256,\n",
      " |            256)`. The dimensions to which all images found will be resized.\n",
      " |          color_mode: One of \"grayscale\", \"rgb\", \"rgba\". Default: \"rgb\". Whether\n",
      " |            the images will be converted to have 1, 3, or 4 channels.\n",
      " |          classes: Optional list of class subdirectories\n",
      " |              (e.g. `['dogs', 'cats']`). Default: None. If not provided, the list\n",
      " |                of classes will be automatically inferred from the subdirectory\n",
      " |                names/structure under `directory`, where each subdirectory will be\n",
      " |                treated as a different class (and the order of the classes, which\n",
      " |                will map to the label indices, will be alphanumeric). The\n",
      " |                dictionary containing the mapping from class names to class\n",
      " |                indices can be obtained via the attribute `class_indices`.\n",
      " |          class_mode: One of \"categorical\", \"binary\", \"sparse\",\n",
      " |              \"input\", or None. Default: \"categorical\".\n",
      " |              Determines the type of label arrays that are returned: -\n",
      " |                \"categorical\" will be 2D one-hot encoded labels, - \"binary\" will\n",
      " |                be 1D binary labels, \"sparse\" will be 1D integer labels, - \"input\"\n",
      " |                will be images identical to input images (mainly used to work with\n",
      " |                autoencoders). - If None, no labels are returned (the generator\n",
      " |                will only yield batches of image data, which is useful to use with\n",
      " |                `model.predict_generator()`). Please note that in case of\n",
      " |                class_mode None, the data still needs to reside in a subdirectory\n",
      " |                of `directory` for it to work correctly.\n",
      " |          batch_size: Size of the batches of data (default: 32).\n",
      " |          shuffle: Whether to shuffle the data (default: True) If set to False,\n",
      " |            sorts the data in alphanumeric order.\n",
      " |          seed: Optional random seed for shuffling and transformations.\n",
      " |          save_to_dir: None or str (default: None). This allows you to optionally\n",
      " |            specify a directory to which to save the augmented pictures being\n",
      " |            generated (useful for visualizing what you are doing).\n",
      " |          save_prefix: Str. Prefix to use for filenames of saved pictures (only\n",
      " |            relevant if `save_to_dir` is set).\n",
      " |          save_format: One of \"png\", \"jpeg\"\n",
      " |              (only relevant if `save_to_dir` is set). Default: \"png\".\n",
      " |          follow_links: Whether to follow symlinks inside\n",
      " |              class subdirectories (default: False).\n",
      " |          subset: Subset of data (`\"training\"` or `\"validation\"`) if\n",
      " |            `validation_split` is set in `ImageDataGenerator`.\n",
      " |          interpolation: Interpolation method used to resample the image if the\n",
      " |            target size is different from that of the loaded image. Supported\n",
      " |            methods are `\"nearest\"`, `\"bilinear\"`, and `\"bicubic\"`. If PIL version\n",
      " |            1.1.3 or newer is installed, `\"lanczos\"` is also supported. If PIL\n",
      " |            version 3.4.0 or newer is installed, `\"box\"` and `\"hamming\"` are also\n",
      " |            supported. By default, `\"nearest\"` is used.\n",
      " |      \n",
      " |      Returns:\n",
      " |          A `DirectoryIterator` yielding tuples of `(x, y)`\n",
      " |              where `x` is a numpy array containing a batch\n",
      " |              of images with shape `(batch_size, *target_size, channels)`\n",
      " |              and `y` is a numpy array of corresponding labels.\n",
      " |  \n",
      " |  ----------------------------------------------------------------------\n",
      " |  Methods inherited from keras_preprocessing.image.image_data_generator.ImageDataGenerator:\n",
      " |  \n",
      " |  apply_transform(self, x, transform_parameters)\n",
      " |      Applies a transformation to an image according to given parameters.\n",
      " |      \n",
      " |      # Arguments\n",
      " |          x: 3D tensor, single image.\n",
      " |          transform_parameters: Dictionary with string - parameter pairs\n",
      " |              describing the transformation.\n",
      " |              Currently, the following parameters\n",
      " |              from the dictionary are used:\n",
      " |              - `'theta'`: Float. Rotation angle in degrees.\n",
      " |              - `'tx'`: Float. Shift in the x direction.\n",
      " |              - `'ty'`: Float. Shift in the y direction.\n",
      " |              - `'shear'`: Float. Shear angle in degrees.\n",
      " |              - `'zx'`: Float. Zoom in the x direction.\n",
      " |              - `'zy'`: Float. Zoom in the y direction.\n",
      " |              - `'flip_horizontal'`: Boolean. Horizontal flip.\n",
      " |              - `'flip_vertical'`: Boolean. Vertical flip.\n",
      " |              - `'channel_shift_intencity'`: Float. Channel shift intensity.\n",
      " |              - `'brightness'`: Float. Brightness shift intensity.\n",
      " |      \n",
      " |      # Returns\n",
      " |          A transformed version of the input (same shape).\n",
      " |  \n",
      " |  fit(self, x, augment=False, rounds=1, seed=None)\n",
      " |      Fits the data generator to some sample data.\n",
      " |      \n",
      " |      This computes the internal data stats related to the\n",
      " |      data-dependent transformations, based on an array of sample data.\n",
      " |      \n",
      " |      Only required if `featurewise_center` or\n",
      " |      `featurewise_std_normalization` or `zca_whitening` are set to True.\n",
      " |      \n",
      " |      # Arguments\n",
      " |          x: Sample data. Should have rank 4.\n",
      " |           In case of grayscale data,\n",
      " |           the channels axis should have value 1, in case\n",
      " |           of RGB data, it should have value 3, and in case\n",
      " |           of RGBA data, it should have value 4.\n",
      " |          augment: Boolean (default: False).\n",
      " |              Whether to fit on randomly augmented samples.\n",
      " |          rounds: Int (default: 1).\n",
      " |              If using data augmentation (`augment=True`),\n",
      " |              this is how many augmentation passes over the data to use.\n",
      " |          seed: Int (default: None). Random seed.\n",
      " |  \n",
      " |  get_random_transform(self, img_shape, seed=None)\n",
      " |      Generates random parameters for a transformation.\n",
      " |      \n",
      " |      # Arguments\n",
      " |          seed: Random seed.\n",
      " |          img_shape: Tuple of integers.\n",
      " |              Shape of the image that is transformed.\n",
      " |      \n",
      " |      # Returns\n",
      " |          A dictionary containing randomly chosen parameters describing the\n",
      " |          transformation.\n",
      " |  \n",
      " |  random_transform(self, x, seed=None)\n",
      " |      Applies a random transformation to an image.\n",
      " |      \n",
      " |      # Arguments\n",
      " |          x: 3D tensor, single image.\n",
      " |          seed: Random seed.\n",
      " |      \n",
      " |      # Returns\n",
      " |          A randomly transformed version of the input (same shape).\n",
      " |  \n",
      " |  standardize(self, x)\n",
      " |      Applies the normalization configuration in-place to a batch of inputs.\n",
      " |      \n",
      " |      `x` is changed in-place since the function is mainly used internally\n",
      " |      to standarize images and feed them to your network. If a copy of `x`\n",
      " |      would be created instead it would have a significant performance cost.\n",
      " |      If you want to apply this method without changing the input in-place\n",
      " |      you can call the method creating a copy before:\n",
      " |      \n",
      " |      standarize(np.copy(x))\n",
      " |      \n",
      " |      # Arguments\n",
      " |          x: Batch of inputs to be normalized.\n",
      " |      \n",
      " |      # Returns\n",
      " |          The inputs, normalized.\n",
      " |  \n",
      " |  ----------------------------------------------------------------------\n",
      " |  Data descriptors inherited from keras_preprocessing.image.image_data_generator.ImageDataGenerator:\n",
      " |  \n",
      " |  __dict__\n",
      " |      dictionary for instance variables (if defined)\n",
      " |  \n",
      " |  __weakref__\n",
      " |      list of weak references to the object (if defined)\n",
      "\n"
     ]
    }
   ],
   "source": [
    "help(ImageDataGenerator)"
   ]
  },
  {
   "cell_type": "code",
   "execution_count": 157,
   "metadata": {},
   "outputs": [],
   "source": [
    "image_gen = ImageDataGenerator(rotation_range=20, # rotate the image 20 degrees\n",
    "                               width_shift_range=0.10, # Shift the pic width by a max of 5%\n",
    "                               height_shift_range=0.10, # Shift the pic height by a max of 5%\n",
    "                               rescale=1/255, # Rescale the image by normalzing it.\n",
    "                               shear_range=0.1, # Shear means cutting away part of the image (max 10%)\n",
    "                               zoom_range=0.1, # Zoom in by 10% max\n",
    "                               horizontal_flip=True, # Allo horizontal flipping\n",
    "                               fill_mode='nearest' # Fill in missing pixels with the nearest filled value\n",
    "                              )\n",
    "\n",
    "# We can play around those values to do random transformation."
   ]
  },
  {
   "cell_type": "markdown",
   "metadata": {},
   "source": [
    "#### Before manipulation,"
   ]
  },
  {
   "cell_type": "code",
   "execution_count": 158,
   "metadata": {},
   "outputs": [
    {
     "data": {
      "image/png": "[encoded data removed]",
      "text/plain": [
       "<Figure size 432x288 with 1 Axes>"
      ]
     },
     "metadata": {
      "needs_background": "light"
     },
     "output_type": "display_data"
    }
   ],
   "source": [
    "plt.imshow(parasitized_cell);"
   ]
  },
  {
   "cell_type": "markdown",
   "metadata": {},
   "source": [
    "#### After manipulation using ImageDataGenerator's random transformation,"
   ]
  },
  {
   "cell_type": "code",
   "execution_count": 159,
   "metadata": {},
   "outputs": [
    {
     "data": {
      "image/png": "[encoded data removed]",
      "text/plain": [
       "<Figure size 432x288 with 1 Axes>"
      ]
     },
     "metadata": {
      "needs_background": "light"
     },
     "output_type": "display_data"
    }
   ],
   "source": [
    "plt.imshow(image_gen.random_transform(parasitized_cell));"
   ]
  },
  {
   "cell_type": "markdown",
   "metadata": {},
   "source": [
    "------"
   ]
  },
  {
   "cell_type": "markdown",
   "metadata": {},
   "source": [
    "## <a name='augmentation'>Image Data Augmentation</a>\n",
    "\n",
    "Now we are not limited by the size of the existing images. Using ImageDataGenerator, we can randomized the images and can expand our datasets.\n",
    "\n",
    "In convoluational neural networks, it is important to have a large dataset to cover images with different sizes, shapes, etc."
   ]
  },
  {
   "cell_type": "markdown",
   "metadata": {},
   "source": [
    "### <a name='manipulateddirectory'>Generating many manipulated images from a directory</a>\n",
    "\n",
    "\n",
    "In order to use `.flow_from_directory`, you must organize the images in **sub-directories**. This is an absolute requirement, otherwise the method won't work. The directories should only contain images of one class, so one folder per class of images.\n",
    "\n",
    "Structure Needed:\n",
    "\n",
    "* Image Data Folder\n",
    "    * Class 1\n",
    "        * 0.jpg\n",
    "        * 1.jpg\n",
    "        * ...\n",
    "    * Class 2\n",
    "        * 0.jpg\n",
    "        * 1.jpg\n",
    "        * ...\n",
    "    * ...\n",
    "    * Class n"
   ]
  },
  {
   "cell_type": "markdown",
   "metadata": {},
   "source": [
    "#### Setting up directory to flow images from,"
   ]
  },
  {
   "cell_type": "code",
   "execution_count": 160,
   "metadata": {},
   "outputs": [
    {
     "name": "stdout",
     "output_type": "stream",
     "text": [
      "Found 24958 images belonging to 2 classes.\n"
     ]
    },
    {
     "data": {
      "text/plain": [
       "<tensorflow.python.keras.preprocessing.image.DirectoryIterator at 0xb947b952b0>"
      ]
     },
     "execution_count": 160,
     "metadata": {},
     "output_type": "execute_result"
    }
   ],
   "source": [
    "image_gen.flow_from_directory(train_path)"
   ]
  },
  {
   "cell_type": "code",
   "execution_count": 161,
   "metadata": {},
   "outputs": [
    {
     "name": "stdout",
     "output_type": "stream",
     "text": [
      "Found 2600 images belonging to 2 classes.\n"
     ]
    },
    {
     "data": {
      "text/plain": [
       "<tensorflow.python.keras.preprocessing.image.DirectoryIterator at 0xb947c166d0>"
      ]
     },
     "execution_count": 161,
     "metadata": {},
     "output_type": "execute_result"
    }
   ],
   "source": [
    "image_gen.flow_from_directory(test_path)"
   ]
  },
  {
   "cell_type": "markdown",
   "metadata": {},
   "source": [
    "-------"
   ]
  },
  {
   "cell_type": "markdown",
   "metadata": {},
   "source": [
    "# <a name='modelcreation'>Creating the Model</a>\n",
    "\n",
    "https://stats.stackexchange.com/questions/148139/rules-for-selecting-convolutional-neural-network-hyperparameters"
   ]
  },
  {
   "cell_type": "code",
   "execution_count": 162,
   "metadata": {},
   "outputs": [],
   "source": [
    "from tensorflow.keras.models import Sequential\n",
    "from tensorflow.keras.layers import Conv2D, MaxPool2D, Dense, Flatten, Dropout\n",
    "from tensorflow.keras. callbacks import EarlyStopping"
   ]
  },
  {
   "cell_type": "code",
   "execution_count": 163,
   "metadata": {},
   "outputs": [],
   "source": [
    "model = Sequential()\n",
    "\n",
    "# Convoluntional Layers\n",
    "model.add(Conv2D(filters=32, \n",
    "                 kernel_size=(3,3), \n",
    "                 input_shape=image_shape, #image_shape = (130, 130, 3)\n",
    "                 activation='relu'))\n",
    "model.add(MaxPool2D(pool_size=(2,2)))\n",
    "\n",
    "model.add(Conv2D(filters=64, \n",
    "                 kernel_size=(3,3), \n",
    "                 input_shape=image_shape,\n",
    "                 activation='relu'))\n",
    "model.add(MaxPool2D(pool_size=(2,2)))\n",
    "\n",
    "model.add(Conv2D(filters=64, \n",
    "                 kernel_size=(3,3), \n",
    "                 input_shape=image_shape, \n",
    "                 activation='relu'))\n",
    "model.add(MaxPool2D(pool_size=(2,2)))\n",
    "\n",
    "# flatten out the layers\n",
    "model.add(Flatten())\n",
    "\n",
    "# Dense layer\n",
    "model.add(Dense(128, activation='relu'))\n",
    "\n",
    "# Dropout layer\n",
    "# Dropouts help reduce overfitting by randomly turning neurons off during training.\n",
    "# Here we say randomly turn off 50% of neurons.\n",
    "model.add(Dropout(0.5))\n",
    "\n",
    "# Output lyaer\n",
    "model.add(Dense(1, activation='sigmoid'))\n",
    "\n",
    "# compile the model\n",
    "model.compile(loss='binary_crossentropy', optimizer='adam',\n",
    "                         metrics=['accuracy'])"
   ]
  },
  {
   "cell_type": "markdown",
   "metadata": {},
   "source": [
    "#### Model Summary"
   ]
  },
  {
   "cell_type": "code",
   "execution_count": 164,
   "metadata": {},
   "outputs": [
    {
     "name": "stdout",
     "output_type": "stream",
     "text": [
      "Model: \"sequential_4\"\n",
      "_________________________________________________________________\n",
      "Layer (type)                 Output Shape              Param #   \n",
      "=================================================================\n",
      "conv2d_6 (Conv2D)            (None, 128, 128, 32)      896       \n",
      "_________________________________________________________________\n",
      "max_pooling2d_6 (MaxPooling2 (None, 64, 64, 32)        0         \n",
      "_________________________________________________________________\n",
      "conv2d_7 (Conv2D)            (None, 62, 62, 64)        18496     \n",
      "_________________________________________________________________\n",
      "max_pooling2d_7 (MaxPooling2 (None, 31, 31, 64)        0         \n",
      "_________________________________________________________________\n",
      "conv2d_8 (Conv2D)            (None, 29, 29, 64)        36928     \n",
      "_________________________________________________________________\n",
      "max_pooling2d_8 (MaxPooling2 (None, 14, 14, 64)        0         \n",
      "_________________________________________________________________\n",
      "flatten_2 (Flatten)          (None, 12544)             0         \n",
      "_________________________________________________________________\n",
      "dense_3 (Dense)              (None, 128)               1605760   \n",
      "_________________________________________________________________\n",
      "dropout_1 (Dropout)          (None, 128)               0         \n",
      "_________________________________________________________________\n",
      "dense_4 (Dense)              (None, 1)                 129       \n",
      "=================================================================\n",
      "Total params: 1,662,209\n",
      "Trainable params: 1,662,209\n",
      "Non-trainable params: 0\n",
      "_________________________________________________________________\n"
     ]
    }
   ],
   "source": [
    "model.summary()"
   ]
  },
  {
   "cell_type": "markdown",
   "metadata": {},
   "source": [
    "### Early Stopping"
   ]
  },
  {
   "cell_type": "code",
   "execution_count": 166,
   "metadata": {},
   "outputs": [],
   "source": [
    "early_stopping = EarlyStopping(monitor='val_loss', patience=2, verbose=1)"
   ]
  },
  {
   "cell_type": "markdown",
   "metadata": {},
   "source": [
    "### Batch Size\n",
    "+ typical to use power of 2 as batch size.\n",
    "+ depends on your hardward, choose a larger size.\n",
    "+ the smaller the batch size, the longer it takes to train as you are passing multiple small sizes."
   ]
  },
  {
   "cell_type": "code",
   "execution_count": 167,
   "metadata": {},
   "outputs": [],
   "source": [
    "batch_size = 16 # 16 images at a time"
   ]
  },
  {
   "cell_type": "markdown",
   "metadata": {},
   "source": [
    "------"
   ]
  },
  {
   "cell_type": "markdown",
   "metadata": {},
   "source": [
    "# <a name='training'>Training the Model</a>"
   ]
  },
  {
   "cell_type": "markdown",
   "metadata": {},
   "source": [
    "#### Training and Test Image Generator\n",
    "+ for the training, we want to shuffle the images\n",
    "+ however for the test image we don't want to shuffle the images."
   ]
  },
  {
   "cell_type": "code",
   "execution_count": 168,
   "metadata": {},
   "outputs": [
    {
     "name": "stdout",
     "output_type": "stream",
     "text": [
      "Found 24958 images belonging to 2 classes.\n"
     ]
    }
   ],
   "source": [
    "train_image_gen = image_gen.flow_from_directory(train_path, \n",
    "                                                                               target_size=image_shape[:2], #only care about width and height of image\n",
    "                                                                               color_mode='rgb',\n",
    "                                                                               batch_size=batch_size,\n",
    "                                                                               class_mode='binary')"
   ]
  },
  {
   "cell_type": "code",
   "execution_count": 169,
   "metadata": {},
   "outputs": [
    {
     "name": "stdout",
     "output_type": "stream",
     "text": [
      "Found 2600 images belonging to 2 classes.\n"
     ]
    }
   ],
   "source": [
    "test_image_gen = image_gen.flow_from_directory(test_path,\n",
    "                                                                              target_size=image_shape[:2],\n",
    "                                                                              color_mode='rgb',\n",
    "                                                                              batch_size=batch_size,\n",
    "                                                                              class_mode='binary',\n",
    "                                                                              shuffle=False) # shuffle false"
   ]
  },
  {
   "cell_type": "code",
   "execution_count": 170,
   "metadata": {},
   "outputs": [
    {
     "data": {
      "text/plain": [
       "{'parasitized': 0, 'uninfected': 1}"
      ]
     },
     "execution_count": 170,
     "metadata": {},
     "output_type": "execute_result"
    }
   ],
   "source": [
    "# we can check the classes\n",
    "train_image_gen.class_indices"
   ]
  },
  {
   "cell_type": "code",
   "execution_count": 171,
   "metadata": {},
   "outputs": [
    {
     "data": {
      "text/plain": [
       "{'parasitized': 0, 'uninfected': 1}"
      ]
     },
     "execution_count": 171,
     "metadata": {},
     "output_type": "execute_result"
    }
   ],
   "source": [
    "test_image_gen.class_indices"
   ]
  },
  {
   "cell_type": "markdown",
   "metadata": {},
   "source": [
    "### Actual Training"
   ]
  },
  {
   "cell_type": "code",
   "execution_count": null,
   "metadata": {},
   "outputs": [],
   "source": [
    "results = model.fit(train_image_gen, \n",
    "                            validation_data=test_image_gen,\n",
    "                            callbacks=[early_stopping],\n",
    "                            epochs=20,\n",
    "                            verbose=1)"
   ]
  },
  {
   "cell_type": "markdown",
   "metadata": {},
   "source": [
    "### Loading the pre-trained model (if we skip the actual training)"
   ]
  },
  {
   "cell_type": "code",
   "execution_count": 172,
   "metadata": {},
   "outputs": [],
   "source": [
    "from tensorflow.keras.models import load_model"
   ]
  },
  {
   "cell_type": "code",
   "execution_count": 176,
   "metadata": {},
   "outputs": [],
   "source": [
    "model = load_model('models/malaria_detector.h5')"
   ]
  },
  {
   "cell_type": "markdown",
   "metadata": {},
   "source": [
    "--------"
   ]
  },
  {
   "cell_type": "markdown",
   "metadata": {},
   "source": [
    "# <a name='evaluation'>Evaluating the Model</a>"
   ]
  },
  {
   "cell_type": "markdown",
   "metadata": {},
   "source": [
    "As we have skipped actual training, we can run model.history. Otherwise, history visualization should be here."
   ]
  },
  {
   "cell_type": "markdown",
   "metadata": {},
   "source": [
    "## Model Metrics and Evaluate"
   ]
  },
  {
   "cell_type": "code",
   "execution_count": 177,
   "metadata": {},
   "outputs": [
    {
     "data": {
      "text/plain": [
       "['loss', 'accuracy']"
      ]
     },
     "execution_count": 177,
     "metadata": {},
     "output_type": "execute_result"
    }
   ],
   "source": [
    "model.metrics_names"
   ]
  },
  {
   "cell_type": "code",
   "execution_count": 179,
   "metadata": {},
   "outputs": [
    {
     "name": "stdout",
     "output_type": "stream",
     "text": [
      "163/163 [==============================] - 35s 215ms/step - loss: 0.1403 - accuracy: 0.9531\n"
     ]
    },
    {
     "data": {
      "text/plain": [
       "[0.1402682214975357, 0.9530768990516663]"
      ]
     },
     "execution_count": 179,
     "metadata": {},
     "output_type": "execute_result"
    }
   ],
   "source": [
    "model.evaluate(test_image_gen)"
   ]
  },
  {
   "cell_type": "markdown",
   "metadata": {},
   "source": [
    "## Prediction\n",
    "\n",
    "https://datascience.stackexchange.com/questions/13894/how-to-get-predictions-with-predict-generator-on-streaming-test-data-in-keras"
   ]
  },
  {
   "cell_type": "markdown",
   "metadata": {},
   "source": [
    "### Prediction Probabilities"
   ]
  },
  {
   "cell_type": "code",
   "execution_count": 180,
   "metadata": {},
   "outputs": [],
   "source": [
    "pred_probabilities = model.predict(test_image_gen)"
   ]
  },
  {
   "cell_type": "code",
   "execution_count": 181,
   "metadata": {},
   "outputs": [
    {
     "data": {
      "text/plain": [
       "array([[1.4360905e-02],\n",
       "       [1.1797619e-04],\n",
       "       [2.5177896e-03],\n",
       "       ...,\n",
       "       [9.7454494e-01],\n",
       "       [9.9452138e-01],\n",
       "       [8.2132727e-01]], dtype=float32)"
      ]
     },
     "execution_count": 181,
     "metadata": {},
     "output_type": "execute_result"
    }
   ],
   "source": [
    "pred_probabilities"
   ]
  },
  {
   "cell_type": "markdown",
   "metadata": {},
   "source": [
    "### Get Predictions based on prediction probabilities,\n",
    "\n",
    "`IMPORTANT: In here we want to consider accuracy-precision-recall trade off and adjust the number.`\n",
    "\n",
    "+ **Use Case: We can use ML model to make preliniary predictions and alert the doctor if accurcy is greater than 80% , 70%, etc.**\n",
    "\n",
    "+ **Like which one is more important for our real life use case: Type I error, Type II error , etc**"
   ]
  },
  {
   "cell_type": "code",
   "execution_count": 182,
   "metadata": {},
   "outputs": [],
   "source": [
    "predictions = pred_probabilities > 0.5 # can change this number based on our decision"
   ]
  },
  {
   "cell_type": "code",
   "execution_count": 183,
   "metadata": {},
   "outputs": [
    {
     "data": {
      "text/plain": [
       "2600"
      ]
     },
     "execution_count": 183,
     "metadata": {},
     "output_type": "execute_result"
    }
   ],
   "source": [
    "len(predictions)"
   ]
  },
  {
   "cell_type": "code",
   "execution_count": 184,
   "metadata": {},
   "outputs": [
    {
     "data": {
      "text/plain": [
       "array([[False],\n",
       "       [False],\n",
       "       [False],\n",
       "       ...,\n",
       "       [ True],\n",
       "       [ True],\n",
       "       [ True]])"
      ]
     },
     "execution_count": 184,
     "metadata": {},
     "output_type": "execute_result"
    }
   ],
   "source": [
    "predictions"
   ]
  },
  {
   "cell_type": "markdown",
   "metadata": {},
   "source": [
    "### Classification Report and Confusion Matrix"
   ]
  },
  {
   "cell_type": "code",
   "execution_count": 185,
   "metadata": {},
   "outputs": [],
   "source": [
    "from sklearn.metrics import classification_report, confusion_matrix"
   ]
  },
  {
   "cell_type": "code",
   "execution_count": 186,
   "metadata": {},
   "outputs": [
    {
     "data": {
      "text/plain": [
       "array([0, 0, 0, ..., 1, 1, 1])"
      ]
     },
     "execution_count": 186,
     "metadata": {},
     "output_type": "execute_result"
    }
   ],
   "source": [
    "test_image_gen.classes # can get the acutal classes "
   ]
  },
  {
   "cell_type": "code",
   "execution_count": 187,
   "metadata": {},
   "outputs": [
    {
     "name": "stdout",
     "output_type": "stream",
     "text": [
      "              precision    recall  f1-score   support\n",
      "\n",
      "           0       0.96      0.94      0.95      1300\n",
      "           1       0.94      0.96      0.95      1300\n",
      "\n",
      "    accuracy                           0.95      2600\n",
      "   macro avg       0.95      0.95      0.95      2600\n",
      "weighted avg       0.95      0.95      0.95      2600\n",
      "\n"
     ]
    }
   ],
   "source": [
    "print(classification_report(test_image_gen.classes, predictions))"
   ]
  },
  {
   "cell_type": "code",
   "execution_count": 188,
   "metadata": {},
   "outputs": [
    {
     "data": {
      "text/plain": [
       "array([[1219,   81],\n",
       "       [  48, 1252]], dtype=int64)"
      ]
     },
     "execution_count": 188,
     "metadata": {},
     "output_type": "execute_result"
    }
   ],
   "source": [
    "confusion_matrix(test_image_gen.classes, predictions)"
   ]
  },
  {
   "cell_type": "code",
   "execution_count": 189,
   "metadata": {},
   "outputs": [
    {
     "data": {
      "image/png": "[encoded data removed]",
      "text/plain": [
       "<Figure size 432x288 with 2 Axes>"
      ]
     },
     "metadata": {
      "needs_background": "light"
     },
     "output_type": "display_data"
    }
   ],
   "source": [
    "sns.heatmap(confusion_matrix(test_image_gen.classes, predictions), annot=True, fmt='.0f', annot_kws={\"size\": 15});\n",
    "\n",
    "#how to customize seaborn heatmap annot format\n",
    "#https://stackoverflow.com/questions/54506626/how-to-understand-seaborns-heatmap-annotation-format"
   ]
  },
  {
   "cell_type": "markdown",
   "metadata": {},
   "source": [
    "-------"
   ]
  },
  {
   "cell_type": "markdown",
   "metadata": {},
   "source": [
    "# <a name='predictingsingleimage'>Predicting on an Image</a>"
   ]
  },
  {
   "cell_type": "code",
   "execution_count": 190,
   "metadata": {},
   "outputs": [
    {
     "data": {
      "text/plain": [
       "'C:\\\\Users\\\\Phone Thiri Yadana\\\\Desktop\\\\Dojo - Data Science and Machine Learning\\\\Complete Tensorflow 2 and Keras Deep Learning Bootcamp - JP\\\\04-CNNs\\\\cell_images\\\\\\\\train\\\\/parasitized/C100P61ThinF_IMG_20150918_144104_cell_162.png'"
      ]
     },
     "execution_count": 190,
     "metadata": {},
     "output_type": "execute_result"
    }
   ],
   "source": [
    "para_cell"
   ]
  },
  {
   "cell_type": "markdown",
   "metadata": {},
   "source": [
    "## Load and Resize the image"
   ]
  },
  {
   "cell_type": "code",
   "execution_count": 191,
   "metadata": {},
   "outputs": [],
   "source": [
    "from tensorflow.keras.preprocessing import image"
   ]
  },
  {
   "cell_type": "code",
   "execution_count": 192,
   "metadata": {},
   "outputs": [],
   "source": [
    "# resize it to desired shape\n",
    "singel_image = image.load_img(para_cell, target_size=image_shape)"
   ]
  },
  {
   "cell_type": "code",
   "execution_count": 193,
   "metadata": {},
   "outputs": [
    {
     "data": {
      "image/png": "[encoded data removed]",
      "text/plain": [
       "<PIL.Image.Image image mode=RGB size=130x130 at 0xB94A7FEAC0>"
      ]
     },
     "execution_count": 193,
     "metadata": {},
     "output_type": "execute_result"
    }
   ],
   "source": [
    "singel_image"
   ]
  },
  {
   "cell_type": "markdown",
   "metadata": {},
   "source": [
    "## Converting to Array"
   ]
  },
  {
   "cell_type": "code",
   "execution_count": 194,
   "metadata": {},
   "outputs": [],
   "source": [
    "singel_image_array = image.img_to_array(singel_image)"
   ]
  },
  {
   "cell_type": "code",
   "execution_count": 195,
   "metadata": {},
   "outputs": [
    {
     "data": {
      "text/plain": [
       "array([[[0., 0., 0.],\n",
       "        [0., 0., 0.],\n",
       "        [0., 0., 0.],\n",
       "        ...,\n",
       "        [0., 0., 0.],\n",
       "        [0., 0., 0.],\n",
       "        [0., 0., 0.]],\n",
       "\n",
       "       [[0., 0., 0.],\n",
       "        [0., 0., 0.],\n",
       "        [0., 0., 0.],\n",
       "        ...,\n",
       "        [0., 0., 0.],\n",
       "        [0., 0., 0.],\n",
       "        [0., 0., 0.]],\n",
       "\n",
       "       [[0., 0., 0.],\n",
       "        [0., 0., 0.],\n",
       "        [0., 0., 0.],\n",
       "        ...,\n",
       "        [0., 0., 0.],\n",
       "        [0., 0., 0.],\n",
       "        [0., 0., 0.]],\n",
       "\n",
       "       ...,\n",
       "\n",
       "       [[0., 0., 0.],\n",
       "        [0., 0., 0.],\n",
       "        [0., 0., 0.],\n",
       "        ...,\n",
       "        [0., 0., 0.],\n",
       "        [0., 0., 0.],\n",
       "        [0., 0., 0.]],\n",
       "\n",
       "       [[0., 0., 0.],\n",
       "        [0., 0., 0.],\n",
       "        [0., 0., 0.],\n",
       "        ...,\n",
       "        [0., 0., 0.],\n",
       "        [0., 0., 0.],\n",
       "        [0., 0., 0.]],\n",
       "\n",
       "       [[0., 0., 0.],\n",
       "        [0., 0., 0.],\n",
       "        [0., 0., 0.],\n",
       "        ...,\n",
       "        [0., 0., 0.],\n",
       "        [0., 0., 0.],\n",
       "        [0., 0., 0.]]], dtype=float32)"
      ]
     },
     "execution_count": 195,
     "metadata": {},
     "output_type": "execute_result"
    }
   ],
   "source": [
    "singel_image_array"
   ]
  },
  {
   "cell_type": "code",
   "execution_count": 196,
   "metadata": {},
   "outputs": [
    {
     "data": {
      "text/plain": [
       "(130, 130, 3)"
      ]
     },
     "execution_count": 196,
     "metadata": {},
     "output_type": "execute_result"
    }
   ],
   "source": [
    "singel_image_array.shape"
   ]
  },
  {
   "cell_type": "markdown",
   "metadata": {},
   "source": [
    "## Changing Shape Dimensions \n",
    "As our model expects the image to be in (1, 130, 130, 3) \n",
    "+ batch_size : even if a singel image, it needs to know how many\n",
    "+ width\n",
    "+ height\n",
    "+ color channels"
   ]
  },
  {
   "cell_type": "code",
   "execution_count": 197,
   "metadata": {},
   "outputs": [],
   "source": [
    "singel_image_array = np.expand_dims(singel_image_array, axis=0)"
   ]
  },
  {
   "cell_type": "code",
   "execution_count": 198,
   "metadata": {},
   "outputs": [
    {
     "data": {
      "text/plain": [
       "(1, 130, 130, 3)"
      ]
     },
     "execution_count": 198,
     "metadata": {},
     "output_type": "execute_result"
    }
   ],
   "source": [
    "singel_image_array.shape"
   ]
  },
  {
   "cell_type": "markdown",
   "metadata": {},
   "source": [
    "## Make Predictions"
   ]
  },
  {
   "cell_type": "code",
   "execution_count": 199,
   "metadata": {},
   "outputs": [
    {
     "data": {
      "text/plain": [
       "{'parasitized': 0, 'uninfected': 1}"
      ]
     },
     "execution_count": 199,
     "metadata": {},
     "output_type": "execute_result"
    }
   ],
   "source": [
    "test_image_gen.class_indices"
   ]
  },
  {
   "cell_type": "code",
   "execution_count": 200,
   "metadata": {},
   "outputs": [
    {
     "data": {
      "text/plain": [
       "array([[0.]], dtype=float32)"
      ]
     },
     "execution_count": 200,
     "metadata": {},
     "output_type": "execute_result"
    }
   ],
   "source": [
    "model.predict(singel_image_array)"
   ]
  },
  {
   "cell_type": "markdown",
   "metadata": {},
   "source": [
    "As we see our model predicted cell as `parasitized: 0`"
   ]
  }
 ],
 "metadata": {
  "kernelspec": {
   "display_name": "venv-datascience",
   "language": "python",
   "name": "venv-datascience"
  },
  "language_info": {
   "codemirror_mode": {
    "name": "ipython",
    "version": 3
   },
   "file_extension": ".py",
   "mimetype": "text/x-python",
   "name": "python",
   "nbconvert_exporter": "python",
   "pygments_lexer": "ipython3",
   "version": "3.8.5"
  }
 },
 "nbformat": 4,
 "nbformat_minor": 4
}
