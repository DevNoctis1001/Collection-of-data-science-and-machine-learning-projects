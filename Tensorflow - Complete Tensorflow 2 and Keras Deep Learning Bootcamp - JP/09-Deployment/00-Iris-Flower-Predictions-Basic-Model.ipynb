{
 "cells": [
  {
   "cell_type": "markdown",
   "metadata": {},
   "source": [
    "# Iris Flower Predictions Project\n",
    "\n",
    "This project is trying to create a Machine Learning Model which can accept features of a flower and can predict the species that flower belonged to.\n",
    "\n",
    "+ [Data](#data)\n",
    "+ [Data Processing](#dataprocessing)\n",
    "    + [Split Features and Labels](#split)\n",
    "    + [Categorical Encoding](#catencoding)\n",
    "+ [Train Test Split](#traintestsplit)\n",
    "+ [Scaling](#scaling)\n",
    "+ [Model Building](#modelbuilding)\n",
    "+ [Model Training](#modeltraining)\n",
    "+ [Model Evaluation](#modelevaluation)\n",
    "    + [Model History Metrics](#modelhistory)\n",
    "    + [Model Evaluate on Test Data](#modelevaluation)\n",
    " -----------\n",
    "+ [Preparing Model for Deployment](#prepdep)\n",
    "    + [Deployment Prep - Scale the full features dataset](#prepdepscaled)\n",
    "    + [Deployment Prep - Model Building](#prepdepmodelbuilding)\n",
    "    + [Deployment Prep - Model Training](#prepdepmodeltraining)\n",
    "    + [Deployment Prep - Save Model and Scaler](#prepdepsavemodel)\n",
    "+ [Predicting a Single New Flower](#prepdepsavemodel)\n",
    "+ [Prediction Function](#predfunc)\n",
    "----------\n",
    "+ [CODE FOR DEPLOYMENT](#codefordep)"
   ]
  },
  {
   "cell_type": "markdown",
   "metadata": {},
   "source": [
    "-------"
   ]
  },
  {
   "cell_type": "markdown",
   "metadata": {},
   "source": [
    "# <a name=data>Data</a>\n",
    "\n",
    "For this example we use the very common data set: [iris dataset](https://en.wikipedia.org/wiki/Iris_flower_data_set), which is about flowers. \n",
    "\n",
    "From Wikipedia:\n",
    "The Iris flower data set or Fisher's Iris data set is a multivariate data set introduced by the British statistician and biologist Ronald Fisher in his 1936 paper The use of multiple measurements in taxonomic problems as an example of linear discriminant analysis.[1] It is sometimes called Anderson's Iris data set because Edgar Anderson collected the data to quantify the morphologic variation of Iris flowers of three related species.[2] Two of the three species were collected in the Gaspé Peninsula \"all from the same pasture, and picked on the same day and measured at the same time by the same person with the same apparatus\".[3]\n",
    "\n",
    "The data set consists of 50 samples from each of three species of Iris (Iris setosa, Iris virginica and Iris versicolor). Four features were measured from each sample: the length and the width of the sepals and petals, in centimeters. "
   ]
  },
  {
   "cell_type": "code",
   "execution_count": 1,
   "metadata": {},
   "outputs": [],
   "source": [
    "import numpy as np\n",
    "import pandas as pd\n",
    "import matplotlib.pyplot as plt"
   ]
  },
  {
   "cell_type": "code",
   "execution_count": 2,
   "metadata": {},
   "outputs": [],
   "source": [
    "df = pd.read_csv('../Data/iris.csv')"
   ]
  },
  {
   "cell_type": "code",
   "execution_count": 3,
   "metadata": {},
   "outputs": [
    {
     "data": {
      "text/html": [
       "<div>\n",
       "<style scoped>\n",
       "    .dataframe tbody tr th:only-of-type {\n",
       "        vertical-align: middle;\n",
       "    }\n",
       "\n",
       "    .dataframe tbody tr th {\n",
       "        vertical-align: top;\n",
       "    }\n",
       "\n",
       "    .dataframe thead th {\n",
       "        text-align: right;\n",
       "    }\n",
       "</style>\n",
       "<table border=\"1\" class=\"dataframe\">\n",
       "  <thead>\n",
       "    <tr style=\"text-align: right;\">\n",
       "      <th></th>\n",
       "      <th>sepal_length</th>\n",
       "      <th>sepal_width</th>\n",
       "      <th>petal_length</th>\n",
       "      <th>petal_width</th>\n",
       "      <th>species</th>\n",
       "    </tr>\n",
       "  </thead>\n",
       "  <tbody>\n",
       "    <tr>\n",
       "      <th>0</th>\n",
       "      <td>5.1</td>\n",
       "      <td>3.5</td>\n",
       "      <td>1.4</td>\n",
       "      <td>0.2</td>\n",
       "      <td>setosa</td>\n",
       "    </tr>\n",
       "    <tr>\n",
       "      <th>1</th>\n",
       "      <td>4.9</td>\n",
       "      <td>3.0</td>\n",
       "      <td>1.4</td>\n",
       "      <td>0.2</td>\n",
       "      <td>setosa</td>\n",
       "    </tr>\n",
       "    <tr>\n",
       "      <th>2</th>\n",
       "      <td>4.7</td>\n",
       "      <td>3.2</td>\n",
       "      <td>1.3</td>\n",
       "      <td>0.2</td>\n",
       "      <td>setosa</td>\n",
       "    </tr>\n",
       "    <tr>\n",
       "      <th>3</th>\n",
       "      <td>4.6</td>\n",
       "      <td>3.1</td>\n",
       "      <td>1.5</td>\n",
       "      <td>0.2</td>\n",
       "      <td>setosa</td>\n",
       "    </tr>\n",
       "    <tr>\n",
       "      <th>4</th>\n",
       "      <td>5.0</td>\n",
       "      <td>3.6</td>\n",
       "      <td>1.4</td>\n",
       "      <td>0.2</td>\n",
       "      <td>setosa</td>\n",
       "    </tr>\n",
       "  </tbody>\n",
       "</table>\n",
       "</div>"
      ],
      "text/plain": [
       "   sepal_length  sepal_width  petal_length  petal_width species\n",
       "0           5.1          3.5           1.4          0.2  setosa\n",
       "1           4.9          3.0           1.4          0.2  setosa\n",
       "2           4.7          3.2           1.3          0.2  setosa\n",
       "3           4.6          3.1           1.5          0.2  setosa\n",
       "4           5.0          3.6           1.4          0.2  setosa"
      ]
     },
     "execution_count": 3,
     "metadata": {},
     "output_type": "execute_result"
    }
   ],
   "source": [
    "df.head()"
   ]
  },
  {
   "cell_type": "code",
   "execution_count": 4,
   "metadata": {},
   "outputs": [
    {
     "name": "stdout",
     "output_type": "stream",
     "text": [
      "<class 'pandas.core.frame.DataFrame'>\n",
      "RangeIndex: 150 entries, 0 to 149\n",
      "Data columns (total 5 columns):\n",
      " #   Column        Non-Null Count  Dtype  \n",
      "---  ------        --------------  -----  \n",
      " 0   sepal_length  150 non-null    float64\n",
      " 1   sepal_width   150 non-null    float64\n",
      " 2   petal_length  150 non-null    float64\n",
      " 3   petal_width   150 non-null    float64\n",
      " 4   species       150 non-null    object \n",
      "dtypes: float64(4), object(1)\n",
      "memory usage: 6.0+ KB\n"
     ]
    }
   ],
   "source": [
    "df.info()"
   ]
  },
  {
   "cell_type": "code",
   "execution_count": 6,
   "metadata": {},
   "outputs": [
    {
     "data": {
      "text/html": [
       "<div>\n",
       "<style scoped>\n",
       "    .dataframe tbody tr th:only-of-type {\n",
       "        vertical-align: middle;\n",
       "    }\n",
       "\n",
       "    .dataframe tbody tr th {\n",
       "        vertical-align: top;\n",
       "    }\n",
       "\n",
       "    .dataframe thead th {\n",
       "        text-align: right;\n",
       "    }\n",
       "</style>\n",
       "<table border=\"1\" class=\"dataframe\">\n",
       "  <thead>\n",
       "    <tr style=\"text-align: right;\">\n",
       "      <th></th>\n",
       "      <th>count</th>\n",
       "      <th>mean</th>\n",
       "      <th>std</th>\n",
       "      <th>min</th>\n",
       "      <th>25%</th>\n",
       "      <th>50%</th>\n",
       "      <th>75%</th>\n",
       "      <th>max</th>\n",
       "    </tr>\n",
       "  </thead>\n",
       "  <tbody>\n",
       "    <tr>\n",
       "      <th>sepal_length</th>\n",
       "      <td>150.0</td>\n",
       "      <td>5.843333</td>\n",
       "      <td>0.828066</td>\n",
       "      <td>4.3</td>\n",
       "      <td>5.1</td>\n",
       "      <td>5.80</td>\n",
       "      <td>6.4</td>\n",
       "      <td>7.9</td>\n",
       "    </tr>\n",
       "    <tr>\n",
       "      <th>sepal_width</th>\n",
       "      <td>150.0</td>\n",
       "      <td>3.057333</td>\n",
       "      <td>0.435866</td>\n",
       "      <td>2.0</td>\n",
       "      <td>2.8</td>\n",
       "      <td>3.00</td>\n",
       "      <td>3.3</td>\n",
       "      <td>4.4</td>\n",
       "    </tr>\n",
       "    <tr>\n",
       "      <th>petal_length</th>\n",
       "      <td>150.0</td>\n",
       "      <td>3.758000</td>\n",
       "      <td>1.765298</td>\n",
       "      <td>1.0</td>\n",
       "      <td>1.6</td>\n",
       "      <td>4.35</td>\n",
       "      <td>5.1</td>\n",
       "      <td>6.9</td>\n",
       "    </tr>\n",
       "    <tr>\n",
       "      <th>petal_width</th>\n",
       "      <td>150.0</td>\n",
       "      <td>1.199333</td>\n",
       "      <td>0.762238</td>\n",
       "      <td>0.1</td>\n",
       "      <td>0.3</td>\n",
       "      <td>1.30</td>\n",
       "      <td>1.8</td>\n",
       "      <td>2.5</td>\n",
       "    </tr>\n",
       "  </tbody>\n",
       "</table>\n",
       "</div>"
      ],
      "text/plain": [
       "              count      mean       std  min  25%   50%  75%  max\n",
       "sepal_length  150.0  5.843333  0.828066  4.3  5.1  5.80  6.4  7.9\n",
       "sepal_width   150.0  3.057333  0.435866  2.0  2.8  3.00  3.3  4.4\n",
       "petal_length  150.0  3.758000  1.765298  1.0  1.6  4.35  5.1  6.9\n",
       "petal_width   150.0  1.199333  0.762238  0.1  0.3  1.30  1.8  2.5"
      ]
     },
     "execution_count": 6,
     "metadata": {},
     "output_type": "execute_result"
    }
   ],
   "source": [
    "df.describe().transpose()"
   ]
  },
  {
   "cell_type": "markdown",
   "metadata": {},
   "source": [
    "------"
   ]
  },
  {
   "cell_type": "markdown",
   "metadata": {},
   "source": [
    "# <a name=dataprocessing>Data Processing</a>"
   ]
  },
  {
   "cell_type": "markdown",
   "metadata": {},
   "source": [
    "##  <a name=split>Split Features and Labels</a>"
   ]
  },
  {
   "cell_type": "code",
   "execution_count": 7,
   "metadata": {},
   "outputs": [],
   "source": [
    "X = df.drop('species', axis=1)\n",
    "y = df['species']"
   ]
  },
  {
   "cell_type": "code",
   "execution_count": 8,
   "metadata": {},
   "outputs": [
    {
     "data": {
      "text/plain": [
       "((150, 4), (150,))"
      ]
     },
     "execution_count": 8,
     "metadata": {},
     "output_type": "execute_result"
    }
   ],
   "source": [
    "X.shape, y.shape"
   ]
  },
  {
   "cell_type": "markdown",
   "metadata": {},
   "source": [
    "##  <a name=catencoding>Categorical Encoding</a>\n",
    "+ As our label has 3 different values and the problem we are trying to solve is multi categorical problem. So we need to encode those values first.\n",
    "\n",
    "### There are multiple ways to do one-hot-encoding\n",
    "+ https://stackoverflow.com/questions/47573293/unable-to-transform-string-column-to-categorical-matrix-using-keras-and-sklearn\n",
    "+ https://stackoverflow.com/questions/35107559/one-hot-encoding-of-string-categorical-features"
   ]
  },
  {
   "cell_type": "code",
   "execution_count": 10,
   "metadata": {},
   "outputs": [
    {
     "data": {
      "text/plain": [
       "array(['setosa', 'versicolor', 'virginica'], dtype=object)"
      ]
     },
     "execution_count": 10,
     "metadata": {},
     "output_type": "execute_result"
    }
   ],
   "source": [
    "y.unique()"
   ]
  },
  {
   "cell_type": "code",
   "execution_count": 13,
   "metadata": {},
   "outputs": [],
   "source": [
    "from sklearn.preprocessing import LabelBinarizer"
   ]
  },
  {
   "cell_type": "code",
   "execution_count": 14,
   "metadata": {},
   "outputs": [],
   "source": [
    "encoder = LabelBinarizer()"
   ]
  },
  {
   "cell_type": "code",
   "execution_count": 15,
   "metadata": {},
   "outputs": [],
   "source": [
    "y = encoder.fit_transform(y)"
   ]
  },
  {
   "cell_type": "code",
   "execution_count": 16,
   "metadata": {},
   "outputs": [
    {
     "data": {
      "text/plain": [
       "array([[1, 0, 0],\n",
       "       [1, 0, 0],\n",
       "       [1, 0, 0],\n",
       "       [1, 0, 0],\n",
       "       [1, 0, 0],\n",
       "       [1, 0, 0],\n",
       "       [1, 0, 0],\n",
       "       [1, 0, 0],\n",
       "       [1, 0, 0],\n",
       "       [1, 0, 0],\n",
       "       [1, 0, 0],\n",
       "       [1, 0, 0],\n",
       "       [1, 0, 0],\n",
       "       [1, 0, 0],\n",
       "       [1, 0, 0],\n",
       "       [1, 0, 0],\n",
       "       [1, 0, 0],\n",
       "       [1, 0, 0],\n",
       "       [1, 0, 0],\n",
       "       [1, 0, 0],\n",
       "       [1, 0, 0],\n",
       "       [1, 0, 0],\n",
       "       [1, 0, 0],\n",
       "       [1, 0, 0],\n",
       "       [1, 0, 0],\n",
       "       [1, 0, 0],\n",
       "       [1, 0, 0],\n",
       "       [1, 0, 0],\n",
       "       [1, 0, 0],\n",
       "       [1, 0, 0],\n",
       "       [1, 0, 0],\n",
       "       [1, 0, 0],\n",
       "       [1, 0, 0],\n",
       "       [1, 0, 0],\n",
       "       [1, 0, 0],\n",
       "       [1, 0, 0],\n",
       "       [1, 0, 0],\n",
       "       [1, 0, 0],\n",
       "       [1, 0, 0],\n",
       "       [1, 0, 0],\n",
       "       [1, 0, 0],\n",
       "       [1, 0, 0],\n",
       "       [1, 0, 0],\n",
       "       [1, 0, 0],\n",
       "       [1, 0, 0],\n",
       "       [1, 0, 0],\n",
       "       [1, 0, 0],\n",
       "       [1, 0, 0],\n",
       "       [1, 0, 0],\n",
       "       [1, 0, 0],\n",
       "       [0, 1, 0],\n",
       "       [0, 1, 0],\n",
       "       [0, 1, 0],\n",
       "       [0, 1, 0],\n",
       "       [0, 1, 0],\n",
       "       [0, 1, 0],\n",
       "       [0, 1, 0],\n",
       "       [0, 1, 0],\n",
       "       [0, 1, 0],\n",
       "       [0, 1, 0],\n",
       "       [0, 1, 0],\n",
       "       [0, 1, 0],\n",
       "       [0, 1, 0],\n",
       "       [0, 1, 0],\n",
       "       [0, 1, 0],\n",
       "       [0, 1, 0],\n",
       "       [0, 1, 0],\n",
       "       [0, 1, 0],\n",
       "       [0, 1, 0],\n",
       "       [0, 1, 0],\n",
       "       [0, 1, 0],\n",
       "       [0, 1, 0],\n",
       "       [0, 1, 0],\n",
       "       [0, 1, 0],\n",
       "       [0, 1, 0],\n",
       "       [0, 1, 0],\n",
       "       [0, 1, 0],\n",
       "       [0, 1, 0],\n",
       "       [0, 1, 0],\n",
       "       [0, 1, 0],\n",
       "       [0, 1, 0],\n",
       "       [0, 1, 0],\n",
       "       [0, 1, 0],\n",
       "       [0, 1, 0],\n",
       "       [0, 1, 0],\n",
       "       [0, 1, 0],\n",
       "       [0, 1, 0],\n",
       "       [0, 1, 0],\n",
       "       [0, 1, 0],\n",
       "       [0, 1, 0],\n",
       "       [0, 1, 0],\n",
       "       [0, 1, 0],\n",
       "       [0, 1, 0],\n",
       "       [0, 1, 0],\n",
       "       [0, 1, 0],\n",
       "       [0, 1, 0],\n",
       "       [0, 1, 0],\n",
       "       [0, 1, 0],\n",
       "       [0, 1, 0],\n",
       "       [0, 1, 0],\n",
       "       [0, 0, 1],\n",
       "       [0, 0, 1],\n",
       "       [0, 0, 1],\n",
       "       [0, 0, 1],\n",
       "       [0, 0, 1],\n",
       "       [0, 0, 1],\n",
       "       [0, 0, 1],\n",
       "       [0, 0, 1],\n",
       "       [0, 0, 1],\n",
       "       [0, 0, 1],\n",
       "       [0, 0, 1],\n",
       "       [0, 0, 1],\n",
       "       [0, 0, 1],\n",
       "       [0, 0, 1],\n",
       "       [0, 0, 1],\n",
       "       [0, 0, 1],\n",
       "       [0, 0, 1],\n",
       "       [0, 0, 1],\n",
       "       [0, 0, 1],\n",
       "       [0, 0, 1],\n",
       "       [0, 0, 1],\n",
       "       [0, 0, 1],\n",
       "       [0, 0, 1],\n",
       "       [0, 0, 1],\n",
       "       [0, 0, 1],\n",
       "       [0, 0, 1],\n",
       "       [0, 0, 1],\n",
       "       [0, 0, 1],\n",
       "       [0, 0, 1],\n",
       "       [0, 0, 1],\n",
       "       [0, 0, 1],\n",
       "       [0, 0, 1],\n",
       "       [0, 0, 1],\n",
       "       [0, 0, 1],\n",
       "       [0, 0, 1],\n",
       "       [0, 0, 1],\n",
       "       [0, 0, 1],\n",
       "       [0, 0, 1],\n",
       "       [0, 0, 1],\n",
       "       [0, 0, 1],\n",
       "       [0, 0, 1],\n",
       "       [0, 0, 1],\n",
       "       [0, 0, 1],\n",
       "       [0, 0, 1],\n",
       "       [0, 0, 1],\n",
       "       [0, 0, 1],\n",
       "       [0, 0, 1],\n",
       "       [0, 0, 1],\n",
       "       [0, 0, 1],\n",
       "       [0, 0, 1]])"
      ]
     },
     "execution_count": 16,
     "metadata": {},
     "output_type": "execute_result"
    }
   ],
   "source": [
    "# y is now one-hot-encoded\n",
    "y"
   ]
  },
  {
   "cell_type": "markdown",
   "metadata": {},
   "source": [
    "------"
   ]
  },
  {
   "cell_type": "markdown",
   "metadata": {},
   "source": [
    "# <a name=traintestsplit>Train Test Split</a>"
   ]
  },
  {
   "cell_type": "code",
   "execution_count": 21,
   "metadata": {},
   "outputs": [],
   "source": [
    "from sklearn.model_selection import train_test_split"
   ]
  },
  {
   "cell_type": "code",
   "execution_count": 22,
   "metadata": {},
   "outputs": [],
   "source": [
    "X_train, X_test, y_train, y_test = train_test_split(X, y, test_size=0.2, random_state=101)"
   ]
  },
  {
   "cell_type": "markdown",
   "metadata": {},
   "source": [
    "# <a name=scaling>Scaling</a>"
   ]
  },
  {
   "cell_type": "code",
   "execution_count": 23,
   "metadata": {},
   "outputs": [],
   "source": [
    "from sklearn.preprocessing import MinMaxScaler"
   ]
  },
  {
   "cell_type": "code",
   "execution_count": 24,
   "metadata": {},
   "outputs": [],
   "source": [
    "scaler = MinMaxScaler()"
   ]
  },
  {
   "cell_type": "code",
   "execution_count": 25,
   "metadata": {},
   "outputs": [],
   "source": [
    "scaled_X_train = scaler.fit_transform(X_train)\n",
    "scaled_X_test = scaler.transform(X_test)"
   ]
  },
  {
   "cell_type": "markdown",
   "metadata": {},
   "source": [
    "-------"
   ]
  },
  {
   "cell_type": "markdown",
   "metadata": {},
   "source": [
    "\n",
    "# <a name=modelbuilding>Model Building</a>"
   ]
  },
  {
   "cell_type": "code",
   "execution_count": 26,
   "metadata": {},
   "outputs": [],
   "source": [
    "from tensorflow.keras.models import Sequential\n",
    "from tensorflow.keras.layers import Dense"
   ]
  },
  {
   "cell_type": "code",
   "execution_count": 29,
   "metadata": {},
   "outputs": [
    {
     "data": {
      "text/plain": [
       "(120, 4)"
      ]
     },
     "execution_count": 29,
     "metadata": {},
     "output_type": "execute_result"
    }
   ],
   "source": [
    "X_train.shape"
   ]
  },
  {
   "cell_type": "code",
   "execution_count": 31,
   "metadata": {},
   "outputs": [],
   "source": [
    "model = Sequential()\n",
    "\n",
    "model.add(Dense(units=4, activation='relu', input_shape=[4,]))\n",
    "\n",
    "model.add(Dense(units=3, activation='softmax')) # multi classification for 3 classes\n",
    "\n",
    "model.compile(optimizer='adam', loss='categorical_crossentropy', metrics=['accuracy'])"
   ]
  },
  {
   "cell_type": "markdown",
   "metadata": {},
   "source": [
    "------"
   ]
  },
  {
   "cell_type": "markdown",
   "metadata": {},
   "source": [
    "# <a name=modeltraining>Model Training</a>"
   ]
  },
  {
   "cell_type": "code",
   "execution_count": 32,
   "metadata": {},
   "outputs": [],
   "source": [
    "from tensorflow.keras.callbacks import EarlyStopping"
   ]
  },
  {
   "cell_type": "code",
   "execution_count": 33,
   "metadata": {},
   "outputs": [],
   "source": [
    "early_stopping = EarlyStopping(monitor='val_loss',\n",
    "                                                  patience=10,\n",
    "                                                  verbose=1)"
   ]
  },
  {
   "cell_type": "code",
   "execution_count": 34,
   "metadata": {},
   "outputs": [
    {
     "name": "stdout",
     "output_type": "stream",
     "text": [
      "Epoch 1/300\n",
      "4/4 [==============================] - 3s 603ms/step - loss: 1.0779 - accuracy: 0.3046 - val_loss: 1.0913 - val_accuracy: 0.2667\n",
      "Epoch 2/300\n",
      "4/4 [==============================] - 0s 23ms/step - loss: 1.0656 - accuracy: 0.3390 - val_loss: 1.0905 - val_accuracy: 0.2667\n",
      "Epoch 3/300\n",
      "4/4 [==============================] - 0s 24ms/step - loss: 1.0615 - accuracy: 0.3452 - val_loss: 1.0897 - val_accuracy: 0.2667\n",
      "Epoch 4/300\n",
      "4/4 [==============================] - 0s 22ms/step - loss: 1.0585 - accuracy: 0.3546 - val_loss: 1.0887 - val_accuracy: 0.2667\n",
      "Epoch 5/300\n",
      "4/4 [==============================] - 0s 23ms/step - loss: 1.0537 - accuracy: 0.3546 - val_loss: 1.0879 - val_accuracy: 0.2667\n",
      "Epoch 6/300\n",
      "4/4 [==============================] - 0s 24ms/step - loss: 1.0457 - accuracy: 0.3796 - val_loss: 1.0872 - val_accuracy: 0.2667\n",
      "Epoch 7/300\n",
      "4/4 [==============================] - 0s 20ms/step - loss: 1.0538 - accuracy: 0.3400 - val_loss: 1.0865 - val_accuracy: 0.2667\n",
      "Epoch 8/300\n",
      "4/4 [==============================] - 0s 19ms/step - loss: 1.0549 - accuracy: 0.3390 - val_loss: 1.0856 - val_accuracy: 0.2667\n",
      "Epoch 9/300\n",
      "4/4 [==============================] - 0s 19ms/step - loss: 1.0528 - accuracy: 0.3358 - val_loss: 1.0845 - val_accuracy: 0.2667\n",
      "Epoch 10/300\n",
      "4/4 [==============================] - 0s 21ms/step - loss: 1.0395 - accuracy: 0.3567 - val_loss: 1.0835 - val_accuracy: 0.2667\n",
      "Epoch 11/300\n",
      "4/4 [==============================] - 0s 19ms/step - loss: 1.0471 - accuracy: 0.3410 - val_loss: 1.0824 - val_accuracy: 0.2667\n",
      "Epoch 12/300\n",
      "4/4 [==============================] - 0s 19ms/step - loss: 1.0527 - accuracy: 0.3265 - val_loss: 1.0813 - val_accuracy: 0.2667\n",
      "Epoch 13/300\n",
      "4/4 [==============================] - 0s 21ms/step - loss: 1.0354 - accuracy: 0.3462 - val_loss: 1.0803 - val_accuracy: 0.2667\n",
      "Epoch 14/300\n",
      "4/4 [==============================] - 0s 22ms/step - loss: 1.0278 - accuracy: 0.3629 - val_loss: 1.0793 - val_accuracy: 0.2667\n",
      "Epoch 15/300\n",
      "4/4 [==============================] - 0s 21ms/step - loss: 1.0282 - accuracy: 0.3650 - val_loss: 1.0782 - val_accuracy: 0.2667\n",
      "Epoch 16/300\n",
      "4/4 [==============================] - 0s 19ms/step - loss: 1.0388 - accuracy: 0.3254 - val_loss: 1.0770 - val_accuracy: 0.2667\n",
      "Epoch 17/300\n",
      "4/4 [==============================] - 0s 21ms/step - loss: 1.0276 - accuracy: 0.3527 - val_loss: 1.0759 - val_accuracy: 0.2667\n",
      "Epoch 18/300\n",
      "4/4 [==============================] - 0s 21ms/step - loss: 1.0128 - accuracy: 0.4008 - val_loss: 1.0749 - val_accuracy: 0.2667\n",
      "Epoch 19/300\n",
      "4/4 [==============================] - 0s 20ms/step - loss: 1.0244 - accuracy: 0.3656 - val_loss: 1.0737 - val_accuracy: 0.2667\n",
      "Epoch 20/300\n",
      "4/4 [==============================] - 0s 20ms/step - loss: 1.0221 - accuracy: 0.3688 - val_loss: 1.0726 - val_accuracy: 0.3000\n",
      "Epoch 21/300\n",
      "4/4 [==============================] - 0s 22ms/step - loss: 1.0197 - accuracy: 0.3971 - val_loss: 1.0714 - val_accuracy: 0.3000\n",
      "Epoch 22/300\n",
      "4/4 [==============================] - 0s 19ms/step - loss: 1.0337 - accuracy: 0.3735 - val_loss: 1.0701 - val_accuracy: 0.3333\n",
      "Epoch 23/300\n",
      "4/4 [==============================] - 0s 21ms/step - loss: 1.0122 - accuracy: 0.4463 - val_loss: 1.0689 - val_accuracy: 0.3667\n",
      "Epoch 24/300\n",
      "4/4 [==============================] - 0s 22ms/step - loss: 0.9988 - accuracy: 0.4592 - val_loss: 1.0678 - val_accuracy: 0.3667\n",
      "Epoch 25/300\n",
      "4/4 [==============================] - 0s 22ms/step - loss: 1.0300 - accuracy: 0.3992 - val_loss: 1.0665 - val_accuracy: 0.3667\n",
      "Epoch 26/300\n",
      "4/4 [==============================] - 0s 21ms/step - loss: 1.0072 - accuracy: 0.4863 - val_loss: 1.0654 - val_accuracy: 0.3667\n",
      "Epoch 27/300\n",
      "4/4 [==============================] - 0s 20ms/step - loss: 1.0238 - accuracy: 0.5135 - val_loss: 1.0641 - val_accuracy: 0.3667\n",
      "Epoch 28/300\n",
      "4/4 [==============================] - 0s 21ms/step - loss: 0.9943 - accuracy: 0.5954 - val_loss: 1.0630 - val_accuracy: 0.3667\n",
      "Epoch 29/300\n",
      "4/4 [==============================] - 0s 22ms/step - loss: 1.0015 - accuracy: 0.5844 - val_loss: 1.0617 - val_accuracy: 0.4000\n",
      "Epoch 30/300\n",
      "4/4 [==============================] - 0s 20ms/step - loss: 1.0027 - accuracy: 0.5894 - val_loss: 1.0604 - val_accuracy: 0.4000\n",
      "Epoch 31/300\n",
      "4/4 [==============================] - 0s 20ms/step - loss: 1.0044 - accuracy: 0.5967 - val_loss: 1.0590 - val_accuracy: 0.4000\n",
      "Epoch 32/300\n",
      "4/4 [==============================] - 0s 25ms/step - loss: 0.9872 - accuracy: 0.6240 - val_loss: 1.0576 - val_accuracy: 0.4333\n",
      "Epoch 33/300\n",
      "4/4 [==============================] - 0s 23ms/step - loss: 0.9851 - accuracy: 0.6521 - val_loss: 1.0561 - val_accuracy: 0.4667\n",
      "Epoch 34/300\n",
      "4/4 [==============================] - 0s 22ms/step - loss: 0.9772 - accuracy: 0.6492 - val_loss: 1.0546 - val_accuracy: 0.4667\n",
      "Epoch 35/300\n",
      "4/4 [==============================] - 0s 22ms/step - loss: 0.9978 - accuracy: 0.6238 - val_loss: 1.0528 - val_accuracy: 0.4667\n",
      "Epoch 36/300\n",
      "4/4 [==============================] - 0s 20ms/step - loss: 0.9882 - accuracy: 0.6625 - val_loss: 1.0511 - val_accuracy: 0.4667\n",
      "Epoch 37/300\n",
      "4/4 [==============================] - 0s 20ms/step - loss: 0.9851 - accuracy: 0.6679 - val_loss: 1.0493 - val_accuracy: 0.4667\n",
      "Epoch 38/300\n",
      "4/4 [==============================] - 0s 25ms/step - loss: 0.9886 - accuracy: 0.6950 - val_loss: 1.0475 - val_accuracy: 0.4667\n",
      "Epoch 39/300\n",
      "4/4 [==============================] - 0s 23ms/step - loss: 0.9976 - accuracy: 0.6356 - val_loss: 1.0457 - val_accuracy: 0.4667\n",
      "Epoch 40/300\n",
      "4/4 [==============================] - 0s 20ms/step - loss: 0.9864 - accuracy: 0.6617 - val_loss: 1.0440 - val_accuracy: 0.4667\n",
      "Epoch 41/300\n",
      "4/4 [==============================] - 0s 20ms/step - loss: 0.9853 - accuracy: 0.6721 - val_loss: 1.0423 - val_accuracy: 0.4667\n",
      "Epoch 42/300\n",
      "4/4 [==============================] - 0s 20ms/step - loss: 0.9731 - accuracy: 0.6825 - val_loss: 1.0405 - val_accuracy: 0.5000\n",
      "Epoch 43/300\n",
      "4/4 [==============================] - 0s 24ms/step - loss: 0.9608 - accuracy: 0.6867 - val_loss: 1.0388 - val_accuracy: 0.5000\n",
      "Epoch 44/300\n",
      "4/4 [==============================] - 0s 22ms/step - loss: 0.9593 - accuracy: 0.7002 - val_loss: 1.0372 - val_accuracy: 0.5000\n",
      "Epoch 45/300\n",
      "4/4 [==============================] - 0s 22ms/step - loss: 0.9488 - accuracy: 0.7127 - val_loss: 1.0356 - val_accuracy: 0.5000\n",
      "Epoch 46/300\n",
      "4/4 [==============================] - 0s 23ms/step - loss: 0.9664 - accuracy: 0.6763 - val_loss: 1.0336 - val_accuracy: 0.5000\n",
      "Epoch 47/300\n",
      "4/4 [==============================] - 0s 22ms/step - loss: 0.9515 - accuracy: 0.7044 - val_loss: 1.0317 - val_accuracy: 0.5000\n",
      "Epoch 48/300\n",
      "4/4 [==============================] - 0s 20ms/step - loss: 0.9658 - accuracy: 0.7023 - val_loss: 1.0296 - val_accuracy: 0.5000\n",
      "Epoch 49/300\n",
      "4/4 [==============================] - 0s 21ms/step - loss: 0.9756 - accuracy: 0.6523 - val_loss: 1.0275 - val_accuracy: 0.5000\n",
      "Epoch 50/300\n",
      "4/4 [==============================] - 0s 21ms/step - loss: 0.9663 - accuracy: 0.6513 - val_loss: 1.0254 - val_accuracy: 0.5000\n",
      "Epoch 51/300\n",
      "4/4 [==============================] - 0s 20ms/step - loss: 0.9488 - accuracy: 0.6867 - val_loss: 1.0235 - val_accuracy: 0.5000\n",
      "Epoch 52/300\n",
      "4/4 [==============================] - 0s 19ms/step - loss: 0.9678 - accuracy: 0.6367 - val_loss: 1.0215 - val_accuracy: 0.5000\n",
      "Epoch 53/300\n",
      "4/4 [==============================] - 0s 22ms/step - loss: 0.9554 - accuracy: 0.6744 - val_loss: 1.0195 - val_accuracy: 0.5333\n",
      "Epoch 54/300\n",
      "4/4 [==============================] - 0s 21ms/step - loss: 0.9414 - accuracy: 0.6681 - val_loss: 1.0176 - val_accuracy: 0.5333\n",
      "Epoch 55/300\n",
      "4/4 [==============================] - 0s 21ms/step - loss: 0.9467 - accuracy: 0.6733 - val_loss: 1.0157 - val_accuracy: 0.5333\n",
      "Epoch 56/300\n",
      "4/4 [==============================] - 0s 20ms/step - loss: 0.9528 - accuracy: 0.6723 - val_loss: 1.0137 - val_accuracy: 0.5667\n",
      "Epoch 57/300\n",
      "4/4 [==============================] - 0s 22ms/step - loss: 0.9681 - accuracy: 0.6473 - val_loss: 1.0115 - val_accuracy: 0.5667\n",
      "Epoch 58/300\n",
      "4/4 [==============================] - 0s 21ms/step - loss: 0.9470 - accuracy: 0.6608 - val_loss: 1.0096 - val_accuracy: 0.5667\n",
      "Epoch 59/300\n"
     ]
    },
    {
     "name": "stdout",
     "output_type": "stream",
     "text": [
      "4/4 [==============================] - 0s 20ms/step - loss: 0.9325 - accuracy: 0.6827 - val_loss: 1.0077 - val_accuracy: 0.5667\n",
      "Epoch 60/300\n",
      "4/4 [==============================] - 0s 20ms/step - loss: 0.9517 - accuracy: 0.6598 - val_loss: 1.0055 - val_accuracy: 0.5667\n",
      "Epoch 61/300\n",
      "4/4 [==============================] - 0s 22ms/step - loss: 0.9118 - accuracy: 0.7181 - val_loss: 1.0037 - val_accuracy: 0.5667\n",
      "Epoch 62/300\n",
      "4/4 [==============================] - 0s 20ms/step - loss: 0.9342 - accuracy: 0.6775 - val_loss: 1.0017 - val_accuracy: 0.5667\n",
      "Epoch 63/300\n",
      "4/4 [==============================] - 0s 20ms/step - loss: 0.9245 - accuracy: 0.6806 - val_loss: 0.9996 - val_accuracy: 0.5667\n",
      "Epoch 64/300\n",
      "4/4 [==============================] - 0s 20ms/step - loss: 0.9356 - accuracy: 0.6462 - val_loss: 0.9974 - val_accuracy: 0.5667\n",
      "Epoch 65/300\n",
      "4/4 [==============================] - 0s 20ms/step - loss: 0.9524 - accuracy: 0.6317 - val_loss: 0.9951 - val_accuracy: 0.5667\n",
      "Epoch 66/300\n",
      "4/4 [==============================] - 0s 19ms/step - loss: 0.9167 - accuracy: 0.6806 - val_loss: 0.9931 - val_accuracy: 0.5667\n",
      "Epoch 67/300\n",
      "4/4 [==============================] - 0s 20ms/step - loss: 0.9158 - accuracy: 0.6817 - val_loss: 0.9911 - val_accuracy: 0.5667\n",
      "Epoch 68/300\n",
      "4/4 [==============================] - 0s 18ms/step - loss: 0.9081 - accuracy: 0.6942 - val_loss: 0.9890 - val_accuracy: 0.5667\n",
      "Epoch 69/300\n",
      "4/4 [==============================] - 0s 19ms/step - loss: 0.9204 - accuracy: 0.6660 - val_loss: 0.9868 - val_accuracy: 0.5667\n",
      "Epoch 70/300\n",
      "4/4 [==============================] - 0s 18ms/step - loss: 0.9111 - accuracy: 0.7067 - val_loss: 0.9847 - val_accuracy: 0.5667\n",
      "Epoch 71/300\n",
      "4/4 [==============================] - 0s 19ms/step - loss: 0.9180 - accuracy: 0.6681 - val_loss: 0.9825 - val_accuracy: 0.5667\n",
      "Epoch 72/300\n",
      "4/4 [==============================] - 0s 19ms/step - loss: 0.8924 - accuracy: 0.7244 - val_loss: 0.9804 - val_accuracy: 0.5667\n",
      "Epoch 73/300\n",
      "4/4 [==============================] - 0s 20ms/step - loss: 0.9274 - accuracy: 0.6869 - val_loss: 0.9780 - val_accuracy: 0.5667\n",
      "Epoch 74/300\n",
      "4/4 [==============================] - 0s 19ms/step - loss: 0.9124 - accuracy: 0.6692 - val_loss: 0.9758 - val_accuracy: 0.5667\n",
      "Epoch 75/300\n",
      "4/4 [==============================] - 0s 19ms/step - loss: 0.9211 - accuracy: 0.6671 - val_loss: 0.9735 - val_accuracy: 0.5667\n",
      "Epoch 76/300\n",
      "4/4 [==============================] - 0s 18ms/step - loss: 0.8912 - accuracy: 0.7025 - val_loss: 0.9714 - val_accuracy: 0.5667\n",
      "Epoch 77/300\n",
      "4/4 [==============================] - 0s 21ms/step - loss: 0.8929 - accuracy: 0.6837 - val_loss: 0.9691 - val_accuracy: 0.5667\n",
      "Epoch 78/300\n",
      "4/4 [==============================] - 0s 19ms/step - loss: 0.9066 - accuracy: 0.6546 - val_loss: 0.9667 - val_accuracy: 0.5667\n",
      "Epoch 79/300\n",
      "4/4 [==============================] - 0s 19ms/step - loss: 0.8773 - accuracy: 0.6879 - val_loss: 0.9644 - val_accuracy: 0.5667\n",
      "Epoch 80/300\n",
      "4/4 [==============================] - 0s 20ms/step - loss: 0.8846 - accuracy: 0.6890 - val_loss: 0.9619 - val_accuracy: 0.5667\n",
      "Epoch 81/300\n",
      "4/4 [==============================] - 0s 22ms/step - loss: 0.9039 - accuracy: 0.6650 - val_loss: 0.9594 - val_accuracy: 0.5667\n",
      "Epoch 82/300\n",
      "4/4 [==============================] - 0s 20ms/step - loss: 0.8785 - accuracy: 0.7015 - val_loss: 0.9571 - val_accuracy: 0.5667\n",
      "Epoch 83/300\n",
      "4/4 [==============================] - 0s 19ms/step - loss: 0.8909 - accuracy: 0.6567 - val_loss: 0.9546 - val_accuracy: 0.5667\n",
      "Epoch 84/300\n",
      "4/4 [==============================] - 0s 19ms/step - loss: 0.8642 - accuracy: 0.7035 - val_loss: 0.9521 - val_accuracy: 0.5667\n",
      "Epoch 85/300\n",
      "4/4 [==============================] - 0s 20ms/step - loss: 0.8765 - accuracy: 0.6890 - val_loss: 0.9495 - val_accuracy: 0.5667\n",
      "Epoch 86/300\n",
      "4/4 [==============================] - 0s 20ms/step - loss: 0.8855 - accuracy: 0.6827 - val_loss: 0.9468 - val_accuracy: 0.5667\n",
      "Epoch 87/300\n",
      "4/4 [==============================] - 0s 18ms/step - loss: 0.8769 - accuracy: 0.6765 - val_loss: 0.9442 - val_accuracy: 0.5667\n",
      "Epoch 88/300\n",
      "4/4 [==============================] - 0s 19ms/step - loss: 0.8900 - accuracy: 0.6712 - val_loss: 0.9416 - val_accuracy: 0.5667\n",
      "Epoch 89/300\n",
      "4/4 [==============================] - 0s 19ms/step - loss: 0.8674 - accuracy: 0.6754 - val_loss: 0.9391 - val_accuracy: 0.5667\n",
      "Epoch 90/300\n",
      "4/4 [==============================] - 0s 21ms/step - loss: 0.8434 - accuracy: 0.7192 - val_loss: 0.9366 - val_accuracy: 0.5667\n",
      "Epoch 91/300\n",
      "4/4 [==============================] - 0s 19ms/step - loss: 0.8614 - accuracy: 0.6879 - val_loss: 0.9339 - val_accuracy: 0.5667\n",
      "Epoch 92/300\n",
      "4/4 [==============================] - 0s 20ms/step - loss: 0.8583 - accuracy: 0.6910 - val_loss: 0.9312 - val_accuracy: 0.5667\n",
      "Epoch 93/300\n",
      "4/4 [==============================] - 0s 20ms/step - loss: 0.8442 - accuracy: 0.6921 - val_loss: 0.9284 - val_accuracy: 0.5667\n",
      "Epoch 94/300\n",
      "4/4 [==============================] - 0s 20ms/step - loss: 0.8578 - accuracy: 0.6723 - val_loss: 0.9256 - val_accuracy: 0.5667\n",
      "Epoch 95/300\n",
      "4/4 [==============================] - 0s 20ms/step - loss: 0.8568 - accuracy: 0.6858 - val_loss: 0.9227 - val_accuracy: 0.5667\n",
      "Epoch 96/300\n",
      "4/4 [==============================] - 0s 21ms/step - loss: 0.8465 - accuracy: 0.6931 - val_loss: 0.9198 - val_accuracy: 0.5667\n",
      "Epoch 97/300\n",
      "4/4 [==============================] - 0s 19ms/step - loss: 0.8361 - accuracy: 0.6910 - val_loss: 0.9171 - val_accuracy: 0.5667\n",
      "Epoch 98/300\n",
      "4/4 [==============================] - 0s 19ms/step - loss: 0.8533 - accuracy: 0.6744 - val_loss: 0.9142 - val_accuracy: 0.5667\n",
      "Epoch 99/300\n",
      "4/4 [==============================] - ETA: 0s - loss: 0.8430 - accuracy: 0.68 - 0s 19ms/step - loss: 0.8386 - accuracy: 0.6900 - val_loss: 0.9115 - val_accuracy: 0.5667\n",
      "Epoch 100/300\n",
      "4/4 [==============================] - 0s 21ms/step - loss: 0.8307 - accuracy: 0.6837 - val_loss: 0.9088 - val_accuracy: 0.5667\n",
      "Epoch 101/300\n",
      "4/4 [==============================] - 0s 19ms/step - loss: 0.8531 - accuracy: 0.6483 - val_loss: 0.9058 - val_accuracy: 0.5667\n",
      "Epoch 102/300\n",
      "4/4 [==============================] - 0s 20ms/step - loss: 0.8143 - accuracy: 0.7067 - val_loss: 0.9032 - val_accuracy: 0.5667\n",
      "Epoch 103/300\n",
      "4/4 [==============================] - 0s 18ms/step - loss: 0.8061 - accuracy: 0.7265 - val_loss: 0.9003 - val_accuracy: 0.5667\n",
      "Epoch 104/300\n",
      "4/4 [==============================] - 0s 21ms/step - loss: 0.7933 - accuracy: 0.7244 - val_loss: 0.8974 - val_accuracy: 0.5667\n",
      "Epoch 105/300\n",
      "4/4 [==============================] - 0s 20ms/step - loss: 0.8264 - accuracy: 0.6785 - val_loss: 0.8943 - val_accuracy: 0.5667\n",
      "Epoch 106/300\n",
      "4/4 [==============================] - 0s 19ms/step - loss: 0.8157 - accuracy: 0.6890 - val_loss: 0.8913 - val_accuracy: 0.5667\n",
      "Epoch 107/300\n",
      "4/4 [==============================] - 0s 22ms/step - loss: 0.8316 - accuracy: 0.6400 - val_loss: 0.8881 - val_accuracy: 0.5667\n",
      "Epoch 108/300\n",
      "4/4 [==============================] - 0s 22ms/step - loss: 0.8034 - accuracy: 0.6837 - val_loss: 0.8851 - val_accuracy: 0.5667\n",
      "Epoch 109/300\n",
      "4/4 [==============================] - 0s 19ms/step - loss: 0.8216 - accuracy: 0.6733 - val_loss: 0.8818 - val_accuracy: 0.5667\n",
      "Epoch 110/300\n",
      "4/4 [==============================] - 0s 21ms/step - loss: 0.8007 - accuracy: 0.6848 - val_loss: 0.8787 - val_accuracy: 0.5667\n",
      "Epoch 111/300\n",
      "4/4 [==============================] - 0s 19ms/step - loss: 0.7900 - accuracy: 0.7067 - val_loss: 0.8755 - val_accuracy: 0.6000\n",
      "Epoch 112/300\n",
      "4/4 [==============================] - 0s 20ms/step - loss: 0.8031 - accuracy: 0.6806 - val_loss: 0.8722 - val_accuracy: 0.6000\n",
      "Epoch 113/300\n",
      "4/4 [==============================] - 0s 18ms/step - loss: 0.8130 - accuracy: 0.6671 - val_loss: 0.8688 - val_accuracy: 0.6000\n",
      "Epoch 114/300\n",
      "4/4 [==============================] - 0s 20ms/step - loss: 0.8041 - accuracy: 0.6712 - val_loss: 0.8655 - val_accuracy: 0.6000\n",
      "Epoch 115/300\n",
      "4/4 [==============================] - 0s 22ms/step - loss: 0.7833 - accuracy: 0.7077 - val_loss: 0.8623 - val_accuracy: 0.6000\n",
      "Epoch 116/300\n",
      "4/4 [==============================] - 0s 24ms/step - loss: 0.8032 - accuracy: 0.6515 - val_loss: 0.8590 - val_accuracy: 0.6000\n"
     ]
    },
    {
     "name": "stdout",
     "output_type": "stream",
     "text": [
      "Epoch 117/300\n",
      "4/4 [==============================] - 0s 32ms/step - loss: 0.7745 - accuracy: 0.6879 - val_loss: 0.8558 - val_accuracy: 0.6000\n",
      "Epoch 118/300\n",
      "4/4 [==============================] - 0s 22ms/step - loss: 0.7927 - accuracy: 0.6660 - val_loss: 0.8525 - val_accuracy: 0.6000\n",
      "Epoch 119/300\n",
      "4/4 [==============================] - 0s 21ms/step - loss: 0.7633 - accuracy: 0.6837 - val_loss: 0.8494 - val_accuracy: 0.6000\n",
      "Epoch 120/300\n",
      "4/4 [==============================] - 0s 24ms/step - loss: 0.7562 - accuracy: 0.7265 - val_loss: 0.8460 - val_accuracy: 0.6000\n",
      "Epoch 121/300\n",
      "4/4 [==============================] - 0s 23ms/step - loss: 0.7677 - accuracy: 0.7056 - val_loss: 0.8425 - val_accuracy: 0.6000\n",
      "Epoch 122/300\n",
      "4/4 [==============================] - 0s 20ms/step - loss: 0.7891 - accuracy: 0.6598 - val_loss: 0.8388 - val_accuracy: 0.6000\n",
      "Epoch 123/300\n",
      "4/4 [==============================] - 0s 19ms/step - loss: 0.7467 - accuracy: 0.7056 - val_loss: 0.8357 - val_accuracy: 0.6000\n",
      "Epoch 124/300\n",
      "4/4 [==============================] - 0s 20ms/step - loss: 0.7495 - accuracy: 0.6858 - val_loss: 0.8323 - val_accuracy: 0.6000\n",
      "Epoch 125/300\n",
      "4/4 [==============================] - 0s 18ms/step - loss: 0.7531 - accuracy: 0.6775 - val_loss: 0.8289 - val_accuracy: 0.6000\n",
      "Epoch 126/300\n",
      "4/4 [==============================] - 0s 18ms/step - loss: 0.7612 - accuracy: 0.6702 - val_loss: 0.8254 - val_accuracy: 0.6000\n",
      "Epoch 127/300\n",
      "4/4 [==============================] - 0s 17ms/step - loss: 0.7620 - accuracy: 0.6587 - val_loss: 0.8221 - val_accuracy: 0.6000\n",
      "Epoch 128/300\n",
      "4/4 [==============================] - 0s 19ms/step - loss: 0.7395 - accuracy: 0.7004 - val_loss: 0.8188 - val_accuracy: 0.6000\n",
      "Epoch 129/300\n",
      "4/4 [==============================] - 0s 17ms/step - loss: 0.7339 - accuracy: 0.6962 - val_loss: 0.8155 - val_accuracy: 0.6000\n",
      "Epoch 130/300\n",
      "4/4 [==============================] - 0s 20ms/step - loss: 0.7234 - accuracy: 0.7077 - val_loss: 0.8122 - val_accuracy: 0.6000\n",
      "Epoch 131/300\n",
      "4/4 [==============================] - 0s 18ms/step - loss: 0.7315 - accuracy: 0.6942 - val_loss: 0.8087 - val_accuracy: 0.6000\n",
      "Epoch 132/300\n",
      "4/4 [==============================] - 0s 19ms/step - loss: 0.7227 - accuracy: 0.6983 - val_loss: 0.8052 - val_accuracy: 0.6000\n",
      "Epoch 133/300\n",
      "4/4 [==============================] - 0s 21ms/step - loss: 0.7458 - accuracy: 0.6556 - val_loss: 0.8017 - val_accuracy: 0.6000\n",
      "Epoch 134/300\n",
      "4/4 [==============================] - 0s 20ms/step - loss: 0.7168 - accuracy: 0.6910 - val_loss: 0.7983 - val_accuracy: 0.6000\n",
      "Epoch 135/300\n",
      "4/4 [==============================] - 0s 17ms/step - loss: 0.7108 - accuracy: 0.7015 - val_loss: 0.7948 - val_accuracy: 0.6000\n",
      "Epoch 136/300\n",
      "4/4 [==============================] - 0s 18ms/step - loss: 0.7011 - accuracy: 0.7129 - val_loss: 0.7915 - val_accuracy: 0.6000\n",
      "Epoch 137/300\n",
      "4/4 [==============================] - 0s 19ms/step - loss: 0.7286 - accuracy: 0.6569 - val_loss: 0.7880 - val_accuracy: 0.6000\n",
      "Epoch 138/300\n",
      "4/4 [==============================] - 0s 20ms/step - loss: 0.7086 - accuracy: 0.6829 - val_loss: 0.7847 - val_accuracy: 0.6000\n",
      "Epoch 139/300\n",
      "4/4 [==============================] - 0s 18ms/step - loss: 0.7209 - accuracy: 0.6715 - val_loss: 0.7811 - val_accuracy: 0.6000\n",
      "Epoch 140/300\n",
      "4/4 [==============================] - 0s 17ms/step - loss: 0.6947 - accuracy: 0.7100 - val_loss: 0.7778 - val_accuracy: 0.6000\n",
      "Epoch 141/300\n",
      "4/4 [==============================] - 0s 17ms/step - loss: 0.7050 - accuracy: 0.6975 - val_loss: 0.7744 - val_accuracy: 0.6000\n",
      "Epoch 142/300\n",
      "4/4 [==============================] - 0s 20ms/step - loss: 0.6792 - accuracy: 0.7204 - val_loss: 0.7710 - val_accuracy: 0.6000\n",
      "Epoch 143/300\n",
      "4/4 [==============================] - 0s 19ms/step - loss: 0.6775 - accuracy: 0.7194 - val_loss: 0.7676 - val_accuracy: 0.6000\n",
      "Epoch 144/300\n",
      "4/4 [==============================] - 0s 18ms/step - loss: 0.6790 - accuracy: 0.7204 - val_loss: 0.7642 - val_accuracy: 0.6000\n",
      "Epoch 145/300\n",
      "4/4 [==============================] - 0s 17ms/step - loss: 0.6914 - accuracy: 0.6933 - val_loss: 0.7607 - val_accuracy: 0.6000\n",
      "Epoch 146/300\n",
      "4/4 [==============================] - 0s 20ms/step - loss: 0.6806 - accuracy: 0.6892 - val_loss: 0.7573 - val_accuracy: 0.6000\n",
      "Epoch 147/300\n",
      "4/4 [==============================] - 0s 18ms/step - loss: 0.6591 - accuracy: 0.7142 - val_loss: 0.7541 - val_accuracy: 0.6000\n",
      "Epoch 148/300\n",
      "4/4 [==============================] - 0s 18ms/step - loss: 0.6729 - accuracy: 0.6850 - val_loss: 0.7507 - val_accuracy: 0.6000\n",
      "Epoch 149/300\n",
      "4/4 [==============================] - ETA: 0s - loss: 0.6992 - accuracy: 0.65 - 0s 18ms/step - loss: 0.6717 - accuracy: 0.6902 - val_loss: 0.7474 - val_accuracy: 0.6000\n",
      "Epoch 150/300\n",
      "4/4 [==============================] - 0s 19ms/step - loss: 0.6765 - accuracy: 0.6902 - val_loss: 0.7439 - val_accuracy: 0.6000\n",
      "Epoch 151/300\n",
      "4/4 [==============================] - 0s 18ms/step - loss: 0.6488 - accuracy: 0.7235 - val_loss: 0.7406 - val_accuracy: 0.6000\n",
      "Epoch 152/300\n",
      "4/4 [==============================] - 0s 23ms/step - loss: 0.6711 - accuracy: 0.6975 - val_loss: 0.7373 - val_accuracy: 0.6333\n",
      "Epoch 153/300\n",
      "4/4 [==============================] - 0s 23ms/step - loss: 0.6629 - accuracy: 0.6767 - val_loss: 0.7340 - val_accuracy: 0.6333\n",
      "Epoch 154/300\n",
      "4/4 [==============================] - 0s 21ms/step - loss: 0.6360 - accuracy: 0.7204 - val_loss: 0.7308 - val_accuracy: 0.6333\n",
      "Epoch 155/300\n",
      "4/4 [==============================] - 0s 23ms/step - loss: 0.6624 - accuracy: 0.6767 - val_loss: 0.7276 - val_accuracy: 0.6333\n",
      "Epoch 156/300\n",
      "4/4 [==============================] - 0s 20ms/step - loss: 0.6530 - accuracy: 0.6860 - val_loss: 0.7244 - val_accuracy: 0.6333\n",
      "Epoch 157/300\n",
      "4/4 [==============================] - 0s 19ms/step - loss: 0.6301 - accuracy: 0.7319 - val_loss: 0.7213 - val_accuracy: 0.6333\n",
      "Epoch 158/300\n",
      "4/4 [==============================] - 0s 19ms/step - loss: 0.6512 - accuracy: 0.6860 - val_loss: 0.7181 - val_accuracy: 0.6333\n",
      "Epoch 159/300\n",
      "4/4 [==============================] - 0s 20ms/step - loss: 0.6386 - accuracy: 0.6913 - val_loss: 0.7151 - val_accuracy: 0.6333\n",
      "Epoch 160/300\n",
      "4/4 [==============================] - 0s 19ms/step - loss: 0.6282 - accuracy: 0.7027 - val_loss: 0.7120 - val_accuracy: 0.6333\n",
      "Epoch 161/300\n",
      "4/4 [==============================] - 0s 23ms/step - loss: 0.6752 - accuracy: 0.6329 - val_loss: 0.7087 - val_accuracy: 0.6333\n",
      "Epoch 162/300\n",
      "4/4 [==============================] - 0s 20ms/step - loss: 0.6347 - accuracy: 0.6871 - val_loss: 0.7056 - val_accuracy: 0.6333\n",
      "Epoch 163/300\n",
      "4/4 [==============================] - 0s 21ms/step - loss: 0.6552 - accuracy: 0.6496 - val_loss: 0.7026 - val_accuracy: 0.6333\n",
      "Epoch 164/300\n",
      "4/4 [==============================] - 0s 20ms/step - loss: 0.5958 - accuracy: 0.7340 - val_loss: 0.6998 - val_accuracy: 0.6333\n",
      "Epoch 165/300\n",
      "4/4 [==============================] - 0s 23ms/step - loss: 0.6118 - accuracy: 0.7058 - val_loss: 0.6968 - val_accuracy: 0.6333\n",
      "Epoch 166/300\n",
      "4/4 [==============================] - 0s 21ms/step - loss: 0.6127 - accuracy: 0.7100 - val_loss: 0.6938 - val_accuracy: 0.6333\n",
      "Epoch 167/300\n",
      "4/4 [==============================] - 0s 20ms/step - loss: 0.6341 - accuracy: 0.6694 - val_loss: 0.6908 - val_accuracy: 0.6333\n",
      "Epoch 168/300\n",
      "4/4 [==============================] - 0s 18ms/step - loss: 0.6010 - accuracy: 0.7142 - val_loss: 0.6879 - val_accuracy: 0.6333\n",
      "Epoch 169/300\n",
      "4/4 [==============================] - 0s 19ms/step - loss: 0.6008 - accuracy: 0.7027 - val_loss: 0.6850 - val_accuracy: 0.6333\n",
      "Epoch 170/300\n",
      "4/4 [==============================] - 0s 17ms/step - loss: 0.6138 - accuracy: 0.6777 - val_loss: 0.6821 - val_accuracy: 0.6333\n",
      "Epoch 171/300\n",
      "4/4 [==============================] - 0s 18ms/step - loss: 0.5875 - accuracy: 0.7194 - val_loss: 0.6793 - val_accuracy: 0.6333\n",
      "Epoch 172/300\n",
      "4/4 [==============================] - 0s 18ms/step - loss: 0.5975 - accuracy: 0.7100 - val_loss: 0.6764 - val_accuracy: 0.6333\n",
      "Epoch 173/300\n",
      "4/4 [==============================] - 0s 21ms/step - loss: 0.6235 - accuracy: 0.6612 - val_loss: 0.6734 - val_accuracy: 0.6333\n",
      "Epoch 174/300\n"
     ]
    },
    {
     "name": "stdout",
     "output_type": "stream",
     "text": [
      "4/4 [==============================] - 0s 18ms/step - loss: 0.5993 - accuracy: 0.6925 - val_loss: 0.6706 - val_accuracy: 0.6333\n",
      "Epoch 175/300\n",
      "4/4 [==============================] - 0s 17ms/step - loss: 0.5777 - accuracy: 0.7206 - val_loss: 0.6679 - val_accuracy: 0.6333\n",
      "Epoch 176/300\n",
      "4/4 [==============================] - 0s 18ms/step - loss: 0.5846 - accuracy: 0.7198 - val_loss: 0.6653 - val_accuracy: 0.6333\n",
      "Epoch 177/300\n",
      "4/4 [==============================] - 0s 20ms/step - loss: 0.6307 - accuracy: 0.6448 - val_loss: 0.6625 - val_accuracy: 0.6333\n",
      "Epoch 178/300\n",
      "4/4 [==============================] - 0s 18ms/step - loss: 0.5769 - accuracy: 0.7146 - val_loss: 0.6599 - val_accuracy: 0.6333\n",
      "Epoch 179/300\n",
      "4/4 [==============================] - 0s 28ms/step - loss: 0.6085 - accuracy: 0.6917 - val_loss: 0.6572 - val_accuracy: 0.6333\n",
      "Epoch 180/300\n",
      "4/4 [==============================] - 0s 29ms/step - loss: 0.5958 - accuracy: 0.6844 - val_loss: 0.6547 - val_accuracy: 0.6333\n",
      "Epoch 181/300\n",
      "4/4 [==============================] - 0s 25ms/step - loss: 0.5793 - accuracy: 0.6917 - val_loss: 0.6521 - val_accuracy: 0.6333\n",
      "Epoch 182/300\n",
      "4/4 [==============================] - 0s 23ms/step - loss: 0.5937 - accuracy: 0.6844 - val_loss: 0.6494 - val_accuracy: 0.6333\n",
      "Epoch 183/300\n",
      "4/4 [==============================] - 0s 20ms/step - loss: 0.5662 - accuracy: 0.7271 - val_loss: 0.6469 - val_accuracy: 0.6333\n",
      "Epoch 184/300\n",
      "4/4 [==============================] - 0s 22ms/step - loss: 0.5811 - accuracy: 0.6885 - val_loss: 0.6442 - val_accuracy: 0.6333\n",
      "Epoch 185/300\n",
      "4/4 [==============================] - 0s 21ms/step - loss: 0.5819 - accuracy: 0.6856 - val_loss: 0.6416 - val_accuracy: 0.6333\n",
      "Epoch 186/300\n",
      "4/4 [==============================] - 0s 21ms/step - loss: 0.5585 - accuracy: 0.7335 - val_loss: 0.6393 - val_accuracy: 0.6333\n",
      "Epoch 187/300\n",
      "4/4 [==============================] - 0s 22ms/step - loss: 0.5559 - accuracy: 0.7190 - val_loss: 0.6369 - val_accuracy: 0.6333\n",
      "Epoch 188/300\n",
      "4/4 [==============================] - 0s 20ms/step - loss: 0.5899 - accuracy: 0.6783 - val_loss: 0.6343 - val_accuracy: 0.6333\n",
      "Epoch 189/300\n",
      "4/4 [==============================] - 0s 21ms/step - loss: 0.5734 - accuracy: 0.7044 - val_loss: 0.6318 - val_accuracy: 0.6333\n",
      "Epoch 190/300\n",
      "4/4 [==============================] - 0s 19ms/step - loss: 0.5564 - accuracy: 0.7179 - val_loss: 0.6293 - val_accuracy: 0.6333\n",
      "Epoch 191/300\n",
      "4/4 [==============================] - 0s 21ms/step - loss: 0.5676 - accuracy: 0.7117 - val_loss: 0.6269 - val_accuracy: 0.6333\n",
      "Epoch 192/300\n",
      "4/4 [==============================] - 0s 20ms/step - loss: 0.5482 - accuracy: 0.7262 - val_loss: 0.6246 - val_accuracy: 0.6333\n",
      "Epoch 193/300\n",
      "4/4 [==============================] - 0s 21ms/step - loss: 0.5309 - accuracy: 0.7471 - val_loss: 0.6223 - val_accuracy: 0.6333\n",
      "Epoch 194/300\n",
      "4/4 [==============================] - 0s 21ms/step - loss: 0.5501 - accuracy: 0.7075 - val_loss: 0.6200 - val_accuracy: 0.6333\n",
      "Epoch 195/300\n",
      "4/4 [==============================] - 0s 21ms/step - loss: 0.5415 - accuracy: 0.7408 - val_loss: 0.6177 - val_accuracy: 0.6333\n",
      "Epoch 196/300\n",
      "4/4 [==============================] - 0s 19ms/step - loss: 0.5328 - accuracy: 0.7548 - val_loss: 0.6154 - val_accuracy: 0.6333\n",
      "Epoch 197/300\n",
      "4/4 [==============================] - 0s 20ms/step - loss: 0.5569 - accuracy: 0.7319 - val_loss: 0.6133 - val_accuracy: 0.6333\n",
      "Epoch 198/300\n",
      "4/4 [==============================] - 0s 25ms/step - loss: 0.5370 - accuracy: 0.7392 - val_loss: 0.6110 - val_accuracy: 0.6333\n",
      "Epoch 199/300\n",
      "4/4 [==============================] - 0s 22ms/step - loss: 0.5193 - accuracy: 0.7475 - val_loss: 0.6088 - val_accuracy: 0.6333\n",
      "Epoch 200/300\n",
      "4/4 [==============================] - 0s 23ms/step - loss: 0.5541 - accuracy: 0.7058 - val_loss: 0.6065 - val_accuracy: 0.6333\n",
      "Epoch 201/300\n",
      "4/4 [==============================] - 0s 21ms/step - loss: 0.5430 - accuracy: 0.7163 - val_loss: 0.6044 - val_accuracy: 0.6333\n",
      "Epoch 202/300\n",
      "4/4 [==============================] - 0s 21ms/step - loss: 0.5097 - accuracy: 0.7704 - val_loss: 0.6024 - val_accuracy: 0.6333\n",
      "Epoch 203/300\n",
      "4/4 [==============================] - 0s 20ms/step - loss: 0.5487 - accuracy: 0.7058 - val_loss: 0.6001 - val_accuracy: 0.6333\n",
      "Epoch 204/300\n",
      "4/4 [==============================] - 0s 22ms/step - loss: 0.5180 - accuracy: 0.7631 - val_loss: 0.5979 - val_accuracy: 0.6333\n",
      "Epoch 205/300\n",
      "4/4 [==============================] - 0s 21ms/step - loss: 0.5164 - accuracy: 0.7517 - val_loss: 0.5957 - val_accuracy: 0.6333\n",
      "Epoch 206/300\n",
      "4/4 [==============================] - 0s 22ms/step - loss: 0.5453 - accuracy: 0.7038 - val_loss: 0.5934 - val_accuracy: 0.6333\n",
      "Epoch 207/300\n",
      "4/4 [==============================] - 0s 23ms/step - loss: 0.5180 - accuracy: 0.7288 - val_loss: 0.5914 - val_accuracy: 0.6667\n",
      "Epoch 208/300\n",
      "4/4 [==============================] - 0s 24ms/step - loss: 0.5071 - accuracy: 0.7621 - val_loss: 0.5895 - val_accuracy: 0.6667\n",
      "Epoch 209/300\n",
      "4/4 [==============================] - 0s 24ms/step - loss: 0.5075 - accuracy: 0.7558 - val_loss: 0.5875 - val_accuracy: 0.6667\n",
      "Epoch 210/300\n",
      "4/4 [==============================] - 0s 25ms/step - loss: 0.5222 - accuracy: 0.7165 - val_loss: 0.5854 - val_accuracy: 0.6667\n",
      "Epoch 211/300\n",
      "4/4 [==============================] - 0s 25ms/step - loss: 0.5367 - accuracy: 0.7071 - val_loss: 0.5834 - val_accuracy: 0.6667\n",
      "Epoch 212/300\n",
      "4/4 [==============================] - 0s 30ms/step - loss: 0.5154 - accuracy: 0.7425 - val_loss: 0.5815 - val_accuracy: 0.6667\n",
      "Epoch 213/300\n",
      "4/4 [==============================] - 0s 27ms/step - loss: 0.5167 - accuracy: 0.7394 - val_loss: 0.5797 - val_accuracy: 0.6667\n",
      "Epoch 214/300\n",
      "4/4 [==============================] - 0s 28ms/step - loss: 0.5130 - accuracy: 0.7312 - val_loss: 0.5779 - val_accuracy: 0.6667\n",
      "Epoch 215/300\n",
      "4/4 [==============================] - 0s 29ms/step - loss: 0.4931 - accuracy: 0.7542 - val_loss: 0.5763 - val_accuracy: 0.6667\n",
      "Epoch 216/300\n",
      "4/4 [==============================] - 0s 24ms/step - loss: 0.5019 - accuracy: 0.7635 - val_loss: 0.5746 - val_accuracy: 0.6667\n",
      "Epoch 217/300\n",
      "4/4 [==============================] - 0s 24ms/step - loss: 0.4933 - accuracy: 0.7875 - val_loss: 0.5729 - val_accuracy: 0.6667\n",
      "Epoch 218/300\n",
      "4/4 [==============================] - 0s 24ms/step - loss: 0.4959 - accuracy: 0.7750 - val_loss: 0.5713 - val_accuracy: 0.6667\n",
      "Epoch 219/300\n",
      "4/4 [==============================] - 0s 28ms/step - loss: 0.5251 - accuracy: 0.7010 - val_loss: 0.5692 - val_accuracy: 0.7000\n",
      "Epoch 220/300\n",
      "4/4 [==============================] - 0s 27ms/step - loss: 0.4699 - accuracy: 0.8052 - val_loss: 0.5676 - val_accuracy: 0.7000\n",
      "Epoch 221/300\n",
      "4/4 [==============================] - 0s 20ms/step - loss: 0.4972 - accuracy: 0.7656 - val_loss: 0.5657 - val_accuracy: 0.7000\n",
      "Epoch 222/300\n",
      "4/4 [==============================] - 0s 21ms/step - loss: 0.5149 - accuracy: 0.7125 - val_loss: 0.5638 - val_accuracy: 0.7000\n",
      "Epoch 223/300\n",
      "4/4 [==============================] - 0s 20ms/step - loss: 0.4874 - accuracy: 0.7677 - val_loss: 0.5621 - val_accuracy: 0.7000\n",
      "Epoch 224/300\n",
      "4/4 [==============================] - 0s 23ms/step - loss: 0.4754 - accuracy: 0.7823 - val_loss: 0.5604 - val_accuracy: 0.7000\n",
      "Epoch 225/300\n",
      "4/4 [==============================] - 0s 22ms/step - loss: 0.4992 - accuracy: 0.7417 - val_loss: 0.5586 - val_accuracy: 0.7000\n",
      "Epoch 226/300\n",
      "4/4 [==============================] - 0s 19ms/step - loss: 0.4927 - accuracy: 0.7573 - val_loss: 0.5570 - val_accuracy: 0.7000\n",
      "Epoch 227/300\n",
      "4/4 [==============================] - 0s 21ms/step - loss: 0.5000 - accuracy: 0.7417 - val_loss: 0.5553 - val_accuracy: 0.7000\n",
      "Epoch 228/300\n",
      "4/4 [==============================] - 0s 21ms/step - loss: 0.5014 - accuracy: 0.7271 - val_loss: 0.5534 - val_accuracy: 0.7333\n",
      "Epoch 229/300\n",
      "4/4 [==============================] - 0s 19ms/step - loss: 0.4884 - accuracy: 0.7281 - val_loss: 0.5517 - val_accuracy: 0.7333\n",
      "Epoch 230/300\n",
      "4/4 [==============================] - 0s 19ms/step - loss: 0.4807 - accuracy: 0.7615 - val_loss: 0.5503 - val_accuracy: 0.7333\n",
      "Epoch 231/300\n",
      "4/4 [==============================] - 0s 23ms/step - loss: 0.4706 - accuracy: 0.7646 - val_loss: 0.5487 - val_accuracy: 0.7333\n"
     ]
    },
    {
     "name": "stdout",
     "output_type": "stream",
     "text": [
      "Epoch 232/300\n",
      "4/4 [==============================] - 0s 24ms/step - loss: 0.4799 - accuracy: 0.7606 - val_loss: 0.5472 - val_accuracy: 0.7333\n",
      "Epoch 233/300\n",
      "4/4 [==============================] - 0s 23ms/step - loss: 0.4884 - accuracy: 0.7304 - val_loss: 0.5456 - val_accuracy: 0.7333\n",
      "Epoch 234/300\n",
      "4/4 [==============================] - 0s 22ms/step - loss: 0.4690 - accuracy: 0.7669 - val_loss: 0.5443 - val_accuracy: 0.7333\n",
      "Epoch 235/300\n",
      "4/4 [==============================] - 0s 24ms/step - loss: 0.4870 - accuracy: 0.7460 - val_loss: 0.5427 - val_accuracy: 0.7333\n",
      "Epoch 236/300\n",
      "4/4 [==============================] - 0s 22ms/step - loss: 0.4827 - accuracy: 0.7471 - val_loss: 0.5411 - val_accuracy: 0.7667\n",
      "Epoch 237/300\n",
      "4/4 [==============================] - 0s 21ms/step - loss: 0.4776 - accuracy: 0.7648 - val_loss: 0.5398 - val_accuracy: 0.7667\n",
      "Epoch 238/300\n",
      "4/4 [==============================] - 0s 22ms/step - loss: 0.5020 - accuracy: 0.7148 - val_loss: 0.5383 - val_accuracy: 0.7667\n",
      "Epoch 239/300\n",
      "4/4 [==============================] - 0s 20ms/step - loss: 0.4693 - accuracy: 0.7585 - val_loss: 0.5369 - val_accuracy: 0.7667\n",
      "Epoch 240/300\n",
      "4/4 [==============================] - 0s 20ms/step - loss: 0.4791 - accuracy: 0.7429 - val_loss: 0.5356 - val_accuracy: 0.7667\n",
      "Epoch 241/300\n",
      "4/4 [==============================] - 0s 21ms/step - loss: 0.4762 - accuracy: 0.7471 - val_loss: 0.5343 - val_accuracy: 0.7667\n",
      "Epoch 242/300\n",
      "4/4 [==============================] - 0s 21ms/step - loss: 0.4695 - accuracy: 0.7617 - val_loss: 0.5331 - val_accuracy: 0.7667\n",
      "Epoch 243/300\n",
      "4/4 [==============================] - 0s 19ms/step - loss: 0.4753 - accuracy: 0.7304 - val_loss: 0.5318 - val_accuracy: 0.7667\n",
      "Epoch 244/300\n",
      "4/4 [==============================] - 0s 21ms/step - loss: 0.4570 - accuracy: 0.7648 - val_loss: 0.5305 - val_accuracy: 0.7667\n",
      "Epoch 245/300\n",
      "4/4 [==============================] - 0s 21ms/step - loss: 0.4794 - accuracy: 0.7335 - val_loss: 0.5291 - val_accuracy: 0.7667\n",
      "Epoch 246/300\n",
      "4/4 [==============================] - 0s 21ms/step - loss: 0.4428 - accuracy: 0.7815 - val_loss: 0.5280 - val_accuracy: 0.7667\n",
      "Epoch 247/300\n",
      "4/4 [==============================] - 0s 20ms/step - loss: 0.4765 - accuracy: 0.7408 - val_loss: 0.5265 - val_accuracy: 0.7667\n",
      "Epoch 248/300\n",
      "4/4 [==============================] - 0s 20ms/step - loss: 0.4647 - accuracy: 0.7660 - val_loss: 0.5251 - val_accuracy: 0.7667\n",
      "Epoch 249/300\n",
      "4/4 [==============================] - 0s 20ms/step - loss: 0.4668 - accuracy: 0.7692 - val_loss: 0.5238 - val_accuracy: 0.7667\n",
      "Epoch 250/300\n",
      "4/4 [==============================] - 0s 19ms/step - loss: 0.4828 - accuracy: 0.7410 - val_loss: 0.5223 - val_accuracy: 0.8000\n",
      "Epoch 251/300\n",
      "4/4 [==============================] - 0s 20ms/step - loss: 0.4853 - accuracy: 0.7500 - val_loss: 0.5210 - val_accuracy: 0.8000\n",
      "Epoch 252/300\n",
      "4/4 [==============================] - 0s 21ms/step - loss: 0.4721 - accuracy: 0.7781 - val_loss: 0.5197 - val_accuracy: 0.8000\n",
      "Epoch 253/300\n",
      "4/4 [==============================] - 0s 38ms/step - loss: 0.4738 - accuracy: 0.7771 - val_loss: 0.5184 - val_accuracy: 0.8000\n",
      "Epoch 254/300\n",
      "4/4 [==============================] - 0s 21ms/step - loss: 0.4744 - accuracy: 0.7708 - val_loss: 0.5174 - val_accuracy: 0.8000\n",
      "Epoch 255/300\n",
      "4/4 [==============================] - 0s 22ms/step - loss: 0.4393 - accuracy: 0.7969 - val_loss: 0.5164 - val_accuracy: 0.8000\n",
      "Epoch 256/300\n",
      "4/4 [==============================] - 0s 22ms/step - loss: 0.4326 - accuracy: 0.8302 - val_loss: 0.5154 - val_accuracy: 0.8000\n",
      "Epoch 257/300\n",
      "4/4 [==============================] - 0s 23ms/step - loss: 0.4430 - accuracy: 0.7792 - val_loss: 0.5140 - val_accuracy: 0.8000\n",
      "Epoch 258/300\n",
      "4/4 [==============================] - 0s 18ms/step - loss: 0.4427 - accuracy: 0.7958 - val_loss: 0.5128 - val_accuracy: 0.8000\n",
      "Epoch 259/300\n",
      "4/4 [==============================] - 0s 18ms/step - loss: 0.4662 - accuracy: 0.7877 - val_loss: 0.5115 - val_accuracy: 0.8000\n",
      "Epoch 260/300\n",
      "4/4 [==============================] - 0s 21ms/step - loss: 0.4569 - accuracy: 0.7806 - val_loss: 0.5102 - val_accuracy: 0.8000\n",
      "Epoch 261/300\n",
      "4/4 [==============================] - 0s 20ms/step - loss: 0.4636 - accuracy: 0.8110 - val_loss: 0.5091 - val_accuracy: 0.8000\n",
      "Epoch 262/300\n",
      "4/4 [==============================] - 0s 20ms/step - loss: 0.4474 - accuracy: 0.8173 - val_loss: 0.5079 - val_accuracy: 0.8000\n",
      "Epoch 263/300\n",
      "4/4 [==============================] - 0s 36ms/step - loss: 0.4501 - accuracy: 0.8340 - val_loss: 0.5068 - val_accuracy: 0.8000\n",
      "Epoch 264/300\n",
      "4/4 [==============================] - 0s 24ms/step - loss: 0.4494 - accuracy: 0.7777 - val_loss: 0.5055 - val_accuracy: 0.8000\n",
      "Epoch 265/300\n",
      "4/4 [==============================] - 0s 23ms/step - loss: 0.4455 - accuracy: 0.8163 - val_loss: 0.5042 - val_accuracy: 0.8000\n",
      "Epoch 266/300\n",
      "4/4 [==============================] - 0s 19ms/step - loss: 0.4446 - accuracy: 0.8183 - val_loss: 0.5030 - val_accuracy: 0.8000\n",
      "Epoch 267/300\n",
      "4/4 [==============================] - 0s 18ms/step - loss: 0.4557 - accuracy: 0.8008 - val_loss: 0.5019 - val_accuracy: 0.8000\n",
      "Epoch 268/300\n",
      "4/4 [==============================] - 0s 18ms/step - loss: 0.4421 - accuracy: 0.8342 - val_loss: 0.5009 - val_accuracy: 0.8000\n",
      "Epoch 269/300\n",
      "4/4 [==============================] - 0s 18ms/step - loss: 0.4435 - accuracy: 0.8352 - val_loss: 0.4998 - val_accuracy: 0.8000\n",
      "Epoch 270/300\n",
      "4/4 [==============================] - 0s 18ms/step - loss: 0.4356 - accuracy: 0.8477 - val_loss: 0.4988 - val_accuracy: 0.8000\n",
      "Epoch 271/300\n",
      "4/4 [==============================] - 0s 18ms/step - loss: 0.4506 - accuracy: 0.8175 - val_loss: 0.4976 - val_accuracy: 0.8000\n",
      "Epoch 272/300\n",
      "4/4 [==============================] - 0s 19ms/step - loss: 0.4307 - accuracy: 0.8456 - val_loss: 0.4965 - val_accuracy: 0.8000\n",
      "Epoch 273/300\n",
      "4/4 [==============================] - 0s 18ms/step - loss: 0.4417 - accuracy: 0.8321 - val_loss: 0.4954 - val_accuracy: 0.8000\n",
      "Epoch 274/300\n",
      "4/4 [==============================] - 0s 18ms/step - loss: 0.4433 - accuracy: 0.8071 - val_loss: 0.4943 - val_accuracy: 0.8000\n",
      "Epoch 275/300\n",
      "4/4 [==============================] - 0s 18ms/step - loss: 0.4569 - accuracy: 0.8040 - val_loss: 0.4932 - val_accuracy: 0.8000\n",
      "Epoch 276/300\n",
      "4/4 [==============================] - 0s 18ms/step - loss: 0.4307 - accuracy: 0.8279 - val_loss: 0.4921 - val_accuracy: 0.8000\n",
      "Epoch 277/300\n",
      "4/4 [==============================] - 0s 19ms/step - loss: 0.4588 - accuracy: 0.8208 - val_loss: 0.4910 - val_accuracy: 0.8000\n",
      "Epoch 278/300\n",
      "4/4 [==============================] - 0s 18ms/step - loss: 0.4555 - accuracy: 0.8198 - val_loss: 0.4900 - val_accuracy: 0.8000\n",
      "Epoch 279/300\n",
      "4/4 [==============================] - 0s 20ms/step - loss: 0.4319 - accuracy: 0.8406 - val_loss: 0.4892 - val_accuracy: 0.8000\n",
      "Epoch 280/300\n",
      "4/4 [==============================] - 0s 18ms/step - loss: 0.4149 - accuracy: 0.8635 - val_loss: 0.4883 - val_accuracy: 0.8000\n",
      "Epoch 281/300\n",
      "4/4 [==============================] - 0s 18ms/step - loss: 0.4414 - accuracy: 0.8146 - val_loss: 0.4872 - val_accuracy: 0.8333\n",
      "Epoch 282/300\n",
      "4/4 [==============================] - 0s 21ms/step - loss: 0.4142 - accuracy: 0.8437 - val_loss: 0.4862 - val_accuracy: 0.8333\n",
      "Epoch 283/300\n",
      "4/4 [==============================] - 0s 24ms/step - loss: 0.4346 - accuracy: 0.8177 - val_loss: 0.4852 - val_accuracy: 0.8333\n",
      "Epoch 284/300\n",
      "4/4 [==============================] - 0s 19ms/step - loss: 0.4202 - accuracy: 0.8375 - val_loss: 0.4843 - val_accuracy: 0.8333\n",
      "Epoch 285/300\n",
      "4/4 [==============================] - 0s 21ms/step - loss: 0.3967 - accuracy: 0.8427 - val_loss: 0.4834 - val_accuracy: 0.8333\n",
      "Epoch 286/300\n",
      "4/4 [==============================] - 0s 21ms/step - loss: 0.4471 - accuracy: 0.8198 - val_loss: 0.4823 - val_accuracy: 0.8333\n",
      "Epoch 287/300\n",
      "4/4 [==============================] - 0s 20ms/step - loss: 0.4261 - accuracy: 0.8271 - val_loss: 0.4814 - val_accuracy: 0.8333\n",
      "Epoch 288/300\n",
      "4/4 [==============================] - 0s 22ms/step - loss: 0.4255 - accuracy: 0.8427 - val_loss: 0.4805 - val_accuracy: 0.8333\n",
      "Epoch 289/300\n",
      "4/4 [==============================] - 0s 23ms/step - loss: 0.4353 - accuracy: 0.8406 - val_loss: 0.4796 - val_accuracy: 0.8333\n"
     ]
    },
    {
     "name": "stdout",
     "output_type": "stream",
     "text": [
      "Epoch 290/300\n",
      "4/4 [==============================] - 0s 23ms/step - loss: 0.4299 - accuracy: 0.8469 - val_loss: 0.4787 - val_accuracy: 0.8333\n",
      "Epoch 291/300\n",
      "4/4 [==============================] - 0s 22ms/step - loss: 0.4153 - accuracy: 0.8740 - val_loss: 0.4781 - val_accuracy: 0.8333\n",
      "Epoch 292/300\n",
      "4/4 [==============================] - 0s 18ms/step - loss: 0.3984 - accuracy: 0.8687 - val_loss: 0.4774 - val_accuracy: 0.8333\n",
      "Epoch 293/300\n",
      "4/4 [==============================] - 0s 19ms/step - loss: 0.4152 - accuracy: 0.8354 - val_loss: 0.4764 - val_accuracy: 0.8333\n",
      "Epoch 294/300\n",
      "4/4 [==============================] - 0s 19ms/step - loss: 0.3980 - accuracy: 0.8521 - val_loss: 0.4755 - val_accuracy: 0.8333\n",
      "Epoch 295/300\n",
      "4/4 [==============================] - 0s 19ms/step - loss: 0.4043 - accuracy: 0.8490 - val_loss: 0.4744 - val_accuracy: 0.8333\n",
      "Epoch 296/300\n",
      "4/4 [==============================] - 0s 21ms/step - loss: 0.4248 - accuracy: 0.8146 - val_loss: 0.4733 - val_accuracy: 0.8333\n",
      "Epoch 297/300\n",
      "4/4 [==============================] - 0s 21ms/step - loss: 0.4275 - accuracy: 0.8219 - val_loss: 0.4724 - val_accuracy: 0.8333\n",
      "Epoch 298/300\n",
      "4/4 [==============================] - 0s 25ms/step - loss: 0.4386 - accuracy: 0.8398 - val_loss: 0.4716 - val_accuracy: 0.8333\n",
      "Epoch 299/300\n",
      "4/4 [==============================] - 0s 22ms/step - loss: 0.4154 - accuracy: 0.8398 - val_loss: 0.4708 - val_accuracy: 0.8333\n",
      "Epoch 300/300\n",
      "4/4 [==============================] - 0s 22ms/step - loss: 0.4301 - accuracy: 0.8127 - val_loss: 0.4700 - val_accuracy: 0.8333\n"
     ]
    },
    {
     "data": {
      "text/plain": [
       "<tensorflow.python.keras.callbacks.History at 0xc6c68cdf40>"
      ]
     },
     "execution_count": 34,
     "metadata": {},
     "output_type": "execute_result"
    }
   ],
   "source": [
    "model.fit(x=scaled_X_train, y=y_train,\n",
    "             validation_data=(scaled_X_test, y_test),\n",
    "             epochs=300,\n",
    "             callbacks=[early_stopping])"
   ]
  },
  {
   "cell_type": "markdown",
   "metadata": {},
   "source": [
    "-----"
   ]
  },
  {
   "cell_type": "markdown",
   "metadata": {},
   "source": [
    "# <a name=modelevaluation>Model Evaluation</a>"
   ]
  },
  {
   "cell_type": "markdown",
   "metadata": {},
   "source": [
    "## <a name=modelhistory>Model History Metrics</a>"
   ]
  },
  {
   "cell_type": "code",
   "execution_count": 36,
   "metadata": {},
   "outputs": [],
   "source": [
    "metrics = pd.DataFrame(model.history.history)"
   ]
  },
  {
   "cell_type": "code",
   "execution_count": 38,
   "metadata": {},
   "outputs": [
    {
     "data": {
      "text/html": [
       "<div>\n",
       "<style scoped>\n",
       "    .dataframe tbody tr th:only-of-type {\n",
       "        vertical-align: middle;\n",
       "    }\n",
       "\n",
       "    .dataframe tbody tr th {\n",
       "        vertical-align: top;\n",
       "    }\n",
       "\n",
       "    .dataframe thead th {\n",
       "        text-align: right;\n",
       "    }\n",
       "</style>\n",
       "<table border=\"1\" class=\"dataframe\">\n",
       "  <thead>\n",
       "    <tr style=\"text-align: right;\">\n",
       "      <th></th>\n",
       "      <th>loss</th>\n",
       "      <th>accuracy</th>\n",
       "      <th>val_loss</th>\n",
       "      <th>val_accuracy</th>\n",
       "    </tr>\n",
       "  </thead>\n",
       "  <tbody>\n",
       "    <tr>\n",
       "      <th>0</th>\n",
       "      <td>1.066882</td>\n",
       "      <td>0.35</td>\n",
       "      <td>1.091250</td>\n",
       "      <td>0.266667</td>\n",
       "    </tr>\n",
       "    <tr>\n",
       "      <th>1</th>\n",
       "      <td>1.064567</td>\n",
       "      <td>0.35</td>\n",
       "      <td>1.090540</td>\n",
       "      <td>0.266667</td>\n",
       "    </tr>\n",
       "    <tr>\n",
       "      <th>2</th>\n",
       "      <td>1.061760</td>\n",
       "      <td>0.35</td>\n",
       "      <td>1.089653</td>\n",
       "      <td>0.266667</td>\n",
       "    </tr>\n",
       "    <tr>\n",
       "      <th>3</th>\n",
       "      <td>1.059447</td>\n",
       "      <td>0.35</td>\n",
       "      <td>1.088720</td>\n",
       "      <td>0.266667</td>\n",
       "    </tr>\n",
       "    <tr>\n",
       "      <th>4</th>\n",
       "      <td>1.056945</td>\n",
       "      <td>0.35</td>\n",
       "      <td>1.087869</td>\n",
       "      <td>0.266667</td>\n",
       "    </tr>\n",
       "  </tbody>\n",
       "</table>\n",
       "</div>"
      ],
      "text/plain": [
       "       loss  accuracy  val_loss  val_accuracy\n",
       "0  1.066882      0.35  1.091250      0.266667\n",
       "1  1.064567      0.35  1.090540      0.266667\n",
       "2  1.061760      0.35  1.089653      0.266667\n",
       "3  1.059447      0.35  1.088720      0.266667\n",
       "4  1.056945      0.35  1.087869      0.266667"
      ]
     },
     "execution_count": 38,
     "metadata": {},
     "output_type": "execute_result"
    }
   ],
   "source": [
    "metrics.head()"
   ]
  },
  {
   "cell_type": "code",
   "execution_count": 39,
   "metadata": {},
   "outputs": [
    {
     "data": {
      "image/png": "[encoded data removed]",
      "text/plain": [
       "<Figure size 432x288 with 1 Axes>"
      ]
     },
     "metadata": {
      "needs_background": "light"
     },
     "output_type": "display_data"
    }
   ],
   "source": [
    "metrics[['loss', 'val_loss']].plot();"
   ]
  },
  {
   "cell_type": "code",
   "execution_count": 40,
   "metadata": {},
   "outputs": [
    {
     "data": {
      "image/png": "[encoded data removed]",
      "text/plain": [
       "<Figure size 432x288 with 1 Axes>"
      ]
     },
     "metadata": {
      "needs_background": "light"
     },
     "output_type": "display_data"
    }
   ],
   "source": [
    "metrics[['accuracy', 'val_accuracy']].plot();"
   ]
  },
  {
   "cell_type": "markdown",
   "metadata": {},
   "source": [
    "## <a name=modelevaluation>Model Evaluate on Test Data/a>"
   ]
  },
  {
   "cell_type": "code",
   "execution_count": 41,
   "metadata": {},
   "outputs": [
    {
     "data": {
      "text/plain": [
       "[0.470024973154068, 0.8333333134651184]"
      ]
     },
     "execution_count": 41,
     "metadata": {},
     "output_type": "execute_result"
    }
   ],
   "source": [
    "model.evaluate(scaled_X_test, y_test, verbose=0) # final loss , final accuracy"
   ]
  },
  {
   "cell_type": "markdown",
   "metadata": {},
   "source": [
    "--------\n",
    "------\n",
    "----"
   ]
  },
  {
   "cell_type": "markdown",
   "metadata": {},
   "source": [
    "# <a name=prepdep>Preparing Model for Deployment</a>\n",
    "+ Once we satsify with our model, we need to prepare model deployment for real world.\n",
    "+ In this case, we might want to the best of our model and we need to retrain our model on full dataset."
   ]
  },
  {
   "cell_type": "code",
   "execution_count": 42,
   "metadata": {},
   "outputs": [
    {
     "data": {
      "text/plain": [
       "300"
      ]
     },
     "execution_count": 42,
     "metadata": {},
     "output_type": "execute_result"
    }
   ],
   "source": [
    "epochs = len(metrics)\n",
    "\n",
    "epochs"
   ]
  },
  {
   "cell_type": "markdown",
   "metadata": {},
   "source": [
    "## <a name=prepdepscaled>Deployment Prep - Scale the full features dataset</a>"
   ]
  },
  {
   "cell_type": "code",
   "execution_count": 43,
   "metadata": {},
   "outputs": [],
   "source": [
    "scaled_X = scaler.fit_transform(X)"
   ]
  },
  {
   "cell_type": "markdown",
   "metadata": {},
   "source": [
    "## <a name=prepdepmodelbuilding>Deployment Prep - Model Building</a>"
   ]
  },
  {
   "cell_type": "code",
   "execution_count": 44,
   "metadata": {},
   "outputs": [
    {
     "data": {
      "text/plain": [
       "(150, 4)"
      ]
     },
     "execution_count": 44,
     "metadata": {},
     "output_type": "execute_result"
    }
   ],
   "source": [
    "scaled_X.shape"
   ]
  },
  {
   "cell_type": "code",
   "execution_count": 45,
   "metadata": {},
   "outputs": [],
   "source": [
    "model = Sequential()\n",
    "\n",
    "model.add(Dense(4, activation='relu', input_shape=[4,]))\n",
    "\n",
    "model.add(Dense(3, activation='softmax'))\n",
    "\n",
    "model.compile(optimizer='adam', loss='categorical_crossentropy', metrics=['accuracy'])"
   ]
  },
  {
   "cell_type": "markdown",
   "metadata": {},
   "source": [
    "## <a name=prepdepmodeltraining>Deployment Prep - Model Training</a>"
   ]
  },
  {
   "cell_type": "code",
   "execution_count": 46,
   "metadata": {},
   "outputs": [
    {
     "name": "stdout",
     "output_type": "stream",
     "text": [
      "Epoch 1/300\n",
      "5/5 [==============================] - 1s 4ms/step - loss: 1.1752 - accuracy: 0.3574\n",
      "Epoch 2/300\n",
      "5/5 [==============================] - 0s 2ms/step - loss: 1.1419 - accuracy: 0.3677\n",
      "Epoch 3/300\n",
      "5/5 [==============================] - 0s 2ms/step - loss: 1.1605 - accuracy: 0.3251\n",
      "Epoch 4/300\n",
      "5/5 [==============================] - 0s 2ms/step - loss: 1.1518 - accuracy: 0.3190\n",
      "Epoch 5/300\n",
      "5/5 [==============================] - 0s 2ms/step - loss: 1.1431 - accuracy: 0.3550\n",
      "Epoch 6/300\n",
      "5/5 [==============================] - 0s 2ms/step - loss: 1.1315 - accuracy: 0.3659\n",
      "Epoch 7/300\n",
      "5/5 [==============================] - 0s 2ms/step - loss: 1.1343 - accuracy: 0.3533\n",
      "Epoch 8/300\n",
      "5/5 [==============================] - 0s 2ms/step - loss: 1.1423 - accuracy: 0.3077\n",
      "Epoch 9/300\n",
      "5/5 [==============================] - 0s 2ms/step - loss: 1.1332 - accuracy: 0.3429\n",
      "Epoch 10/300\n",
      "5/5 [==============================] - 0s 2ms/step - loss: 1.1290 - accuracy: 0.3468\n",
      "Epoch 11/300\n",
      "5/5 [==============================] - 0s 2ms/step - loss: 1.1293 - accuracy: 0.3155\n",
      "Epoch 12/300\n",
      "5/5 [==============================] - 0s 2ms/step - loss: 1.1364 - accuracy: 0.3355\n",
      "Epoch 13/300\n",
      "5/5 [==============================] - 0s 2ms/step - loss: 1.1277 - accuracy: 0.3121\n",
      "Epoch 14/300\n",
      "5/5 [==============================] - 0s 2ms/step - loss: 1.1276 - accuracy: 0.3464\n",
      "Epoch 15/300\n",
      "5/5 [==============================] - 0s 2ms/step - loss: 1.1346 - accuracy: 0.3151\n",
      "Epoch 16/300\n",
      "5/5 [==============================] - 0s 2ms/step - loss: 1.1274 - accuracy: 0.3372\n",
      "Epoch 17/300\n",
      "5/5 [==============================] - 0s 2ms/step - loss: 1.1242 - accuracy: 0.3359\n",
      "Epoch 18/300\n",
      "5/5 [==============================] - 0s 2ms/step - loss: 1.1272 - accuracy: 0.3038\n",
      "Epoch 19/300\n",
      "5/5 [==============================] - 0s 2ms/step - loss: 1.1225 - accuracy: 0.3273\n",
      "Epoch 20/300\n",
      "5/5 [==============================] - 0s 2ms/step - loss: 1.1193 - accuracy: 0.3459\n",
      "Epoch 21/300\n",
      "5/5 [==============================] - 0s 2ms/step - loss: 1.1288 - accuracy: 0.3094\n",
      "Epoch 22/300\n",
      "5/5 [==============================] - 0s 2ms/step - loss: 1.1226 - accuracy: 0.3285\n",
      "Epoch 23/300\n",
      "5/5 [==============================] - 0s 2ms/step - loss: 1.1203 - accuracy: 0.2981\n",
      "Epoch 24/300\n",
      "5/5 [==============================] - 0s 2ms/step - loss: 1.1215 - accuracy: 0.3089\n",
      "Epoch 25/300\n",
      "5/5 [==============================] - 0s 2ms/step - loss: 1.1150 - accuracy: 0.3232\n",
      "Epoch 26/300\n",
      "5/5 [==============================] - 0s 2ms/step - loss: 1.1201 - accuracy: 0.3023\n",
      "Epoch 27/300\n",
      "5/5 [==============================] - 0s 2ms/step - loss: 1.1150 - accuracy: 0.2970\n",
      "Epoch 28/300\n",
      "5/5 [==============================] - 0s 2ms/step - loss: 1.1157 - accuracy: 0.2974\n",
      "Epoch 29/300\n",
      "5/5 [==============================] - 0s 2ms/step - loss: 1.1123 - accuracy: 0.3077\n",
      "Epoch 30/300\n",
      "5/5 [==============================] - 0s 2ms/step - loss: 1.1151 - accuracy: 0.2583\n",
      "Epoch 31/300\n",
      "5/5 [==============================] - 0s 2ms/step - loss: 1.1139 - accuracy: 0.2573\n",
      "Epoch 32/300\n",
      "5/5 [==============================] - 0s 2ms/step - loss: 1.1153 - accuracy: 0.2320\n",
      "Epoch 33/300\n",
      "5/5 [==============================] - 0s 2ms/step - loss: 1.1151 - accuracy: 0.2110\n",
      "Epoch 34/300\n",
      "5/5 [==============================] - 0s 2ms/step - loss: 1.1106 - accuracy: 0.2340\n",
      "Epoch 35/300\n",
      "5/5 [==============================] - 0s 2ms/step - loss: 1.1110 - accuracy: 0.2096\n",
      "Epoch 36/300\n",
      "5/5 [==============================] - 0s 2ms/step - loss: 1.1149 - accuracy: 0.2051\n",
      "Epoch 37/300\n",
      "5/5 [==============================] - 0s 2ms/step - loss: 1.1106 - accuracy: 0.1951\n",
      "Epoch 38/300\n",
      "5/5 [==============================] - 0s 2ms/step - loss: 1.1117 - accuracy: 0.1955\n",
      "Epoch 39/300\n",
      "5/5 [==============================] - 0s 2ms/step - loss: 1.1107 - accuracy: 0.2055\n",
      "Epoch 40/300\n",
      "5/5 [==============================] - 0s 2ms/step - loss: 1.1096 - accuracy: 0.2046\n",
      "Epoch 41/300\n",
      "5/5 [==============================] - ETA: 0s - loss: 1.1063 - accuracy: 0.21 - 0s 2ms/step - loss: 1.1088 - accuracy: 0.1858\n",
      "Epoch 42/300\n",
      "5/5 [==============================] - 0s 2ms/step - loss: 1.1089 - accuracy: 0.1376\n",
      "Epoch 43/300\n",
      "5/5 [==============================] - 0s 2ms/step - loss: 1.1085 - accuracy: 0.2040\n",
      "Epoch 44/300\n",
      "5/5 [==============================] - 0s 2ms/step - loss: 1.1066 - accuracy: 0.1767\n",
      "Epoch 45/300\n",
      "5/5 [==============================] - 0s 2ms/step - loss: 1.1064 - accuracy: 0.1924\n",
      "Epoch 46/300\n",
      "5/5 [==============================] - 0s 2ms/step - loss: 1.1095 - accuracy: 0.1689\n",
      "Epoch 47/300\n",
      "5/5 [==============================] - 0s 2ms/step - loss: 1.1075 - accuracy: 0.1889\n",
      "Epoch 48/300\n",
      "5/5 [==============================] - 0s 2ms/step - loss: 1.1081 - accuracy: 0.1616\n",
      "Epoch 49/300\n",
      "5/5 [==============================] - 0s 2ms/step - loss: 1.1054 - accuracy: 0.1893\n",
      "Epoch 50/300\n",
      "5/5 [==============================] - 0s 2ms/step - loss: 1.1038 - accuracy: 0.2123\n",
      "Epoch 51/300\n",
      "5/5 [==============================] - 0s 2ms/step - loss: 1.1044 - accuracy: 0.1732\n",
      "Epoch 52/300\n",
      "5/5 [==============================] - 0s 2ms/step - loss: 1.1060 - accuracy: 0.1507\n",
      "Epoch 53/300\n",
      "5/5 [==============================] - 0s 2ms/step - loss: 1.1008 - accuracy: 0.1745\n",
      "Epoch 54/300\n",
      "5/5 [==============================] - 0s 2ms/step - loss: 1.1012 - accuracy: 0.1945\n",
      "Epoch 55/300\n",
      "5/5 [==============================] - 0s 2ms/step - loss: 1.1036 - accuracy: 0.1902\n",
      "Epoch 56/300\n",
      "5/5 [==============================] - 0s 2ms/step - loss: 1.1038 - accuracy: 0.1763\n",
      "Epoch 57/300\n",
      "5/5 [==============================] - 0s 2ms/step - loss: 1.1014 - accuracy: 0.1929\n",
      "Epoch 58/300\n",
      "5/5 [==============================] - 0s 2ms/step - loss: 1.1031 - accuracy: 0.1655\n",
      "Epoch 59/300\n",
      "5/5 [==============================] - 0s 2ms/step - loss: 1.1031 - accuracy: 0.1790\n",
      "Epoch 60/300\n",
      "5/5 [==============================] - 0s 2ms/step - loss: 1.0998 - accuracy: 0.2203\n",
      "Epoch 61/300\n",
      "5/5 [==============================] - 0s 3ms/step - loss: 1.1021 - accuracy: 0.1973\n",
      "Epoch 62/300\n",
      "5/5 [==============================] - 0s 2ms/step - loss: 1.0992 - accuracy: 0.2282\n",
      "Epoch 63/300\n",
      "5/5 [==============================] - 0s 2ms/step - loss: 1.0987 - accuracy: 0.2475\n",
      "Epoch 64/300\n",
      "5/5 [==============================] - 0s 2ms/step - loss: 1.1022 - accuracy: 0.2064\n",
      "Epoch 65/300\n",
      "5/5 [==============================] - 0s 2ms/step - loss: 1.0984 - accuracy: 0.2480\n",
      "Epoch 66/300\n",
      "5/5 [==============================] - 0s 2ms/step - loss: 1.0985 - accuracy: 0.2202\n",
      "Epoch 67/300\n",
      "5/5 [==============================] - 0s 2ms/step - loss: 1.0994 - accuracy: 0.2469\n",
      "Epoch 68/300\n",
      "5/5 [==============================] - 0s 2ms/step - loss: 1.0949 - accuracy: 0.2917\n",
      "Epoch 69/300\n",
      "5/5 [==============================] - 0s 2ms/step - loss: 1.0935 - accuracy: 0.3049\n",
      "Epoch 70/300\n",
      "5/5 [==============================] - 0s 2ms/step - loss: 1.0964 - accuracy: 0.2706\n",
      "Epoch 71/300\n",
      "5/5 [==============================] - 0s 2ms/step - loss: 1.0929 - accuracy: 0.3114\n",
      "Epoch 72/300\n",
      "5/5 [==============================] - 0s 2ms/step - loss: 1.0921 - accuracy: 0.3489\n",
      "Epoch 73/300\n",
      "5/5 [==============================] - 0s 2ms/step - loss: 1.0935 - accuracy: 0.2612\n",
      "Epoch 74/300\n",
      "5/5 [==============================] - 0s 2ms/step - loss: 1.0902 - accuracy: 0.3215\n",
      "Epoch 75/300\n",
      "5/5 [==============================] - 0s 2ms/step - loss: 1.0893 - accuracy: 0.3355\n",
      "Epoch 76/300\n",
      "5/5 [==============================] - 0s 3ms/step - loss: 1.0896 - accuracy: 0.3289\n",
      "Epoch 77/300\n",
      "5/5 [==============================] - 0s 2ms/step - loss: 1.0875 - accuracy: 0.3069\n",
      "Epoch 78/300\n",
      "5/5 [==============================] - 0s 2ms/step - loss: 1.0870 - accuracy: 0.3125\n",
      "Epoch 79/300\n",
      "5/5 [==============================] - 0s 3ms/step - loss: 1.0845 - accuracy: 0.3542\n",
      "Epoch 80/300\n",
      "5/5 [==============================] - 0s 3ms/step - loss: 1.0822 - accuracy: 0.3641\n",
      "Epoch 81/300\n",
      "5/5 [==============================] - 0s 4ms/step - loss: 1.0825 - accuracy: 0.3529\n",
      "Epoch 82/300\n",
      "5/5 [==============================] - 0s 2ms/step - loss: 1.0840 - accuracy: 0.3038\n",
      "Epoch 83/300\n",
      "5/5 [==============================] - 0s 2ms/step - loss: 1.0807 - accuracy: 0.3394\n",
      "Epoch 84/300\n"
     ]
    },
    {
     "name": "stdout",
     "output_type": "stream",
     "text": [
      "5/5 [==============================] - 0s 2ms/step - loss: 1.0786 - accuracy: 0.3385\n",
      "Epoch 85/300\n",
      "5/5 [==============================] - 0s 2ms/step - loss: 1.0767 - accuracy: 0.3255\n",
      "Epoch 86/300\n",
      "5/5 [==============================] - 0s 2ms/step - loss: 1.0760 - accuracy: 0.3424\n",
      "Epoch 87/300\n",
      "5/5 [==============================] - 0s 2ms/step - loss: 1.0779 - accuracy: 0.3307\n",
      "Epoch 88/300\n",
      "5/5 [==============================] - 0s 2ms/step - loss: 1.0711 - accuracy: 0.3438\n",
      "Epoch 89/300\n",
      "5/5 [==============================] - 0s 2ms/step - loss: 1.0683 - accuracy: 0.3555\n",
      "Epoch 90/300\n",
      "5/5 [==============================] - 0s 2ms/step - loss: 1.0710 - accuracy: 0.3498\n",
      "Epoch 91/300\n",
      "5/5 [==============================] - 0s 2ms/step - loss: 1.0710 - accuracy: 0.3368\n",
      "Epoch 92/300\n",
      "5/5 [==============================] - 0s 2ms/step - loss: 1.0699 - accuracy: 0.3490\n",
      "Epoch 93/300\n",
      "5/5 [==============================] - 0s 2ms/step - loss: 1.0693 - accuracy: 0.3147\n",
      "Epoch 94/300\n",
      "5/5 [==============================] - 0s 2ms/step - loss: 1.0696 - accuracy: 0.3090\n",
      "Epoch 95/300\n",
      "5/5 [==============================] - 0s 2ms/step - loss: 1.0632 - accuracy: 0.3904\n",
      "Epoch 96/300\n",
      "5/5 [==============================] - 0s 2ms/step - loss: 1.0642 - accuracy: 0.4607\n",
      "Epoch 97/300\n",
      "5/5 [==============================] - 0s 2ms/step - loss: 1.0650 - accuracy: 0.4578\n",
      "Epoch 98/300\n",
      "5/5 [==============================] - 0s 2ms/step - loss: 1.0575 - accuracy: 0.5169\n",
      "Epoch 99/300\n",
      "5/5 [==============================] - 0s 2ms/step - loss: 1.0575 - accuracy: 0.5392\n",
      "Epoch 100/300\n",
      "5/5 [==============================] - 0s 2ms/step - loss: 1.0618 - accuracy: 0.5046\n",
      "Epoch 101/300\n",
      "5/5 [==============================] - 0s 3ms/step - loss: 1.0584 - accuracy: 0.5095\n",
      "Epoch 102/300\n",
      "5/5 [==============================] - 0s 2ms/step - loss: 1.0524 - accuracy: 0.5847\n",
      "Epoch 103/300\n",
      "5/5 [==============================] - 0s 2ms/step - loss: 1.0566 - accuracy: 0.5426\n",
      "Epoch 104/300\n",
      "5/5 [==============================] - 0s 2ms/step - loss: 1.0515 - accuracy: 0.6035\n",
      "Epoch 105/300\n",
      "5/5 [==============================] - 0s 2ms/step - loss: 1.0488 - accuracy: 0.6035\n",
      "Epoch 106/300\n",
      "5/5 [==============================] - 0s 2ms/step - loss: 1.0501 - accuracy: 0.5732\n",
      "Epoch 107/300\n",
      "5/5 [==============================] - 0s 2ms/step - loss: 1.0452 - accuracy: 0.5806\n",
      "Epoch 108/300\n",
      "5/5 [==============================] - 0s 2ms/step - loss: 1.0426 - accuracy: 0.6180\n",
      "Epoch 109/300\n",
      "5/5 [==============================] - 0s 2ms/step - loss: 1.0421 - accuracy: 0.6020\n",
      "Epoch 110/300\n",
      "5/5 [==============================] - 0s 2ms/step - loss: 1.0403 - accuracy: 0.6215\n",
      "Epoch 111/300\n",
      "5/5 [==============================] - 0s 2ms/step - loss: 1.0365 - accuracy: 0.6221\n",
      "Epoch 112/300\n",
      "5/5 [==============================] - 0s 2ms/step - loss: 1.0345 - accuracy: 0.6512\n",
      "Epoch 113/300\n",
      "5/5 [==============================] - 0s 2ms/step - loss: 1.0351 - accuracy: 0.6456\n",
      "Epoch 114/300\n",
      "5/5 [==============================] - 0s 2ms/step - loss: 1.0328 - accuracy: 0.6435\n",
      "Epoch 115/300\n",
      "5/5 [==============================] - 0s 2ms/step - loss: 1.0316 - accuracy: 0.6044\n",
      "Epoch 116/300\n",
      "5/5 [==============================] - 0s 2ms/step - loss: 1.0240 - accuracy: 0.6721\n",
      "Epoch 117/300\n",
      "5/5 [==============================] - 0s 2ms/step - loss: 1.0302 - accuracy: 0.6166\n",
      "Epoch 118/300\n",
      "5/5 [==============================] - 0s 2ms/step - loss: 1.0218 - accuracy: 0.6535\n",
      "Epoch 119/300\n",
      "5/5 [==============================] - 0s 2ms/step - loss: 1.0210 - accuracy: 0.6509\n",
      "Epoch 120/300\n",
      "5/5 [==============================] - 0s 2ms/step - loss: 1.0181 - accuracy: 0.6253\n",
      "Epoch 121/300\n",
      "5/5 [==============================] - 0s 2ms/step - loss: 1.0160 - accuracy: 0.6088\n",
      "Epoch 122/300\n",
      "5/5 [==============================] - 0s 2ms/step - loss: 1.0135 - accuracy: 0.6335\n",
      "Epoch 123/300\n",
      "5/5 [==============================] - 0s 2ms/step - loss: 1.0111 - accuracy: 0.6439\n",
      "Epoch 124/300\n",
      "5/5 [==============================] - 0s 2ms/step - loss: 1.0070 - accuracy: 0.6431\n",
      "Epoch 125/300\n",
      "5/5 [==============================] - 0s 1ms/step - loss: 1.0026 - accuracy: 0.6613\n",
      "Epoch 126/300\n",
      "5/5 [==============================] - 0s 2ms/step - loss: 1.0012 - accuracy: 0.6699\n",
      "Epoch 127/300\n",
      "5/5 [==============================] - 0s 1ms/step - loss: 1.0015 - accuracy: 0.6626\n",
      "Epoch 128/300\n",
      "5/5 [==============================] - 0s 308us/step - loss: 0.9987 - accuracy: 0.6323\n",
      "Epoch 129/300\n",
      "5/5 [==============================] - 0s 2ms/step - loss: 0.9933 - accuracy: 0.6826\n",
      "Epoch 130/300\n",
      "5/5 [==============================] - 0s 2ms/step - loss: 0.9925 - accuracy: 0.6375\n",
      "Epoch 131/300\n",
      "5/5 [==============================] - 0s 1ms/step - loss: 0.9872 - accuracy: 0.6513\n",
      "Epoch 132/300\n",
      "5/5 [==============================] - 0s 2ms/step - loss: 0.9866 - accuracy: 0.6109\n",
      "Epoch 133/300\n",
      "5/5 [==============================] - 0s 2ms/step - loss: 0.9816 - accuracy: 0.6322\n",
      "Epoch 134/300\n",
      "5/5 [==============================] - 0s 2ms/step - loss: 0.9807 - accuracy: 0.6365\n",
      "Epoch 135/300\n",
      "5/5 [==============================] - 0s 1ms/step - loss: 0.9762 - accuracy: 0.6013\n",
      "Epoch 136/300\n",
      "5/5 [==============================] - 0s 2ms/step - loss: 0.9742 - accuracy: 0.6004\n",
      "Epoch 137/300\n",
      "5/5 [==============================] - 0s 3ms/step - loss: 0.9696 - accuracy: 0.6276\n",
      "Epoch 138/300\n",
      "5/5 [==============================] - 0s 2ms/step - loss: 0.9674 - accuracy: 0.6194\n",
      "Epoch 139/300\n",
      "5/5 [==============================] - 0s 2ms/step - loss: 0.9648 - accuracy: 0.6005\n",
      "Epoch 140/300\n",
      "5/5 [==============================] - 0s 823us/step - loss: 0.9624 - accuracy: 0.5631\n",
      "Epoch 141/300\n",
      "5/5 [==============================] - 0s 3ms/step - loss: 0.9607 - accuracy: 0.5837\n",
      "Epoch 142/300\n",
      "5/5 [==============================] - 0s 2ms/step - loss: 0.9558 - accuracy: 0.4880\n",
      "Epoch 143/300\n",
      "5/5 [==============================] - 0s 3ms/step - loss: 0.9510 - accuracy: 0.4940\n",
      "Epoch 144/300\n",
      "5/5 [==============================] - 0s 3ms/step - loss: 0.9495 - accuracy: 0.4947\n",
      "Epoch 145/300\n",
      "5/5 [==============================] - 0s 2ms/step - loss: 0.9473 - accuracy: 0.4716\n",
      "Epoch 146/300\n",
      "5/5 [==============================] - 0s 2ms/step - loss: 0.9430 - accuracy: 0.4750\n",
      "Epoch 147/300\n",
      "5/5 [==============================] - 0s 3ms/step - loss: 0.9393 - accuracy: 0.4527\n",
      "Epoch 148/300\n",
      "5/5 [==============================] - 0s 2ms/step - loss: 0.9356 - accuracy: 0.4568\n",
      "Epoch 149/300\n",
      "5/5 [==============================] - 0s 2ms/step - loss: 0.9327 - accuracy: 0.3640\n",
      "Epoch 150/300\n",
      "5/5 [==============================] - 0s 2ms/step - loss: 0.9316 - accuracy: 0.4425\n",
      "Epoch 151/300\n",
      "5/5 [==============================] - 0s 2ms/step - loss: 0.9297 - accuracy: 0.3847\n",
      "Epoch 152/300\n",
      "5/5 [==============================] - 0s 2ms/step - loss: 0.9280 - accuracy: 0.4157\n",
      "Epoch 153/300\n",
      "5/5 [==============================] - 0s 2ms/step - loss: 0.9218 - accuracy: 0.3982\n",
      "Epoch 154/300\n",
      "5/5 [==============================] - 0s 2ms/step - loss: 0.9197 - accuracy: 0.4286\n",
      "Epoch 155/300\n",
      "5/5 [==============================] - 0s 2ms/step - loss: 0.9134 - accuracy: 0.4265\n",
      "Epoch 156/300\n",
      "5/5 [==============================] - 0s 2ms/step - loss: 0.9106 - accuracy: 0.4141\n",
      "Epoch 157/300\n",
      "5/5 [==============================] - 0s 2ms/step - loss: 0.9045 - accuracy: 0.4701\n",
      "Epoch 158/300\n",
      "5/5 [==============================] - 0s 2ms/step - loss: 0.9025 - accuracy: 0.4790\n",
      "Epoch 159/300\n",
      "5/5 [==============================] - 0s 1ms/step - loss: 0.9009 - accuracy: 0.4996\n",
      "Epoch 160/300\n",
      "5/5 [==============================] - 0s 2ms/step - loss: 0.8966 - accuracy: 0.4825\n",
      "Epoch 161/300\n",
      "5/5 [==============================] - 0s 2ms/step - loss: 0.8928 - accuracy: 0.5783\n",
      "Epoch 162/300\n",
      "5/5 [==============================] - 0s 2ms/step - loss: 0.8887 - accuracy: 0.6672\n",
      "Epoch 163/300\n",
      "5/5 [==============================] - 0s 2ms/step - loss: 0.8905 - accuracy: 0.5922\n",
      "Epoch 164/300\n",
      "5/5 [==============================] - 0s 2ms/step - loss: 0.8917 - accuracy: 0.6222\n",
      "Epoch 165/300\n",
      "5/5 [==============================] - 0s 2ms/step - loss: 0.8864 - accuracy: 0.6314\n",
      "Epoch 166/300\n",
      "5/5 [==============================] - 0s 2ms/step - loss: 0.8826 - accuracy: 0.6419\n",
      "Epoch 167/300\n"
     ]
    },
    {
     "name": "stdout",
     "output_type": "stream",
     "text": [
      "5/5 [==============================] - 0s 2ms/step - loss: 0.8747 - accuracy: 0.6463\n",
      "Epoch 168/300\n",
      "5/5 [==============================] - 0s 1ms/step - loss: 0.8714 - accuracy: 0.7092\n",
      "Epoch 169/300\n",
      "5/5 [==============================] - 0s 1ms/step - loss: 0.8670 - accuracy: 0.6866\n",
      "Epoch 170/300\n",
      "5/5 [==============================] - 0s 2ms/step - loss: 0.8682 - accuracy: 0.6480\n",
      "Epoch 171/300\n",
      "5/5 [==============================] - 0s 2ms/step - loss: 0.8629 - accuracy: 0.6437\n",
      "Epoch 172/300\n",
      "5/5 [==============================] - 0s 2ms/step - loss: 0.8607 - accuracy: 0.6832\n",
      "Epoch 173/300\n",
      "5/5 [==============================] - 0s 2ms/step - loss: 0.8609 - accuracy: 0.6563\n",
      "Epoch 174/300\n",
      "5/5 [==============================] - 0s 2ms/step - loss: 0.8564 - accuracy: 0.6758\n",
      "Epoch 175/300\n",
      "5/5 [==============================] - 0s 1ms/step - loss: 0.8518 - accuracy: 0.7005\n",
      "Epoch 176/300\n",
      "5/5 [==============================] - 0s 2ms/step - loss: 0.8458 - accuracy: 0.6918\n",
      "Epoch 177/300\n",
      "5/5 [==============================] - 0s 2ms/step - loss: 0.8501 - accuracy: 0.6641\n",
      "Epoch 178/300\n",
      "5/5 [==============================] - 0s 2ms/step - loss: 0.8415 - accuracy: 0.6589\n",
      "Epoch 179/300\n",
      "5/5 [==============================] - 0s 2ms/step - loss: 0.8437 - accuracy: 0.6602\n",
      "Epoch 180/300\n",
      "5/5 [==============================] - 0s 2ms/step - loss: 0.8399 - accuracy: 0.6398\n",
      "Epoch 181/300\n",
      "5/5 [==============================] - 0s 2ms/step - loss: 0.8391 - accuracy: 0.6502\n",
      "Epoch 182/300\n",
      "5/5 [==============================] - 0s 1ms/step - loss: 0.8351 - accuracy: 0.6558\n",
      "Epoch 183/300\n",
      "5/5 [==============================] - 0s 2ms/step - loss: 0.8341 - accuracy: 0.6649\n",
      "Epoch 184/300\n",
      "5/5 [==============================] - 0s 1ms/step - loss: 0.8203 - accuracy: 0.6793\n",
      "Epoch 185/300\n",
      "5/5 [==============================] - 0s 2ms/step - loss: 0.8276 - accuracy: 0.6549\n",
      "Epoch 186/300\n",
      "5/5 [==============================] - 0s 2ms/step - loss: 0.8202 - accuracy: 0.6645\n",
      "Epoch 187/300\n",
      "5/5 [==============================] - 0s 2ms/step - loss: 0.8162 - accuracy: 0.6832\n",
      "Epoch 188/300\n",
      "5/5 [==============================] - 0s 2ms/step - loss: 0.8184 - accuracy: 0.6437\n",
      "Epoch 189/300\n",
      "5/5 [==============================] - 0s 2ms/step - loss: 0.8095 - accuracy: 0.6636\n",
      "Epoch 190/300\n",
      "5/5 [==============================] - 0s 2ms/step - loss: 0.8095 - accuracy: 0.6727\n",
      "Epoch 191/300\n",
      "5/5 [==============================] - 0s 2ms/step - loss: 0.8038 - accuracy: 0.6701\n",
      "Epoch 192/300\n",
      "5/5 [==============================] - 0s 2ms/step - loss: 0.8098 - accuracy: 0.6454\n",
      "Epoch 193/300\n",
      "5/5 [==============================] - 0s 2ms/step - loss: 0.8027 - accuracy: 0.6541\n",
      "Epoch 194/300\n",
      "5/5 [==============================] - 0s 1ms/step - loss: 0.8001 - accuracy: 0.6584\n",
      "Epoch 195/300\n",
      "5/5 [==============================] - 0s 1ms/step - loss: 0.7918 - accuracy: 0.6797\n",
      "Epoch 196/300\n",
      "5/5 [==============================] - 0s 2ms/step - loss: 0.7891 - accuracy: 0.6979\n",
      "Epoch 197/300\n",
      "5/5 [==============================] - 0s 1ms/step - loss: 0.7923 - accuracy: 0.6697\n",
      "Epoch 198/300\n",
      "5/5 [==============================] - 0s 2ms/step - loss: 0.7811 - accuracy: 0.6866\n",
      "Epoch 199/300\n",
      "5/5 [==============================] - 0s 2ms/step - loss: 0.7825 - accuracy: 0.6840\n",
      "Epoch 200/300\n",
      "5/5 [==============================] - 0s 2ms/step - loss: 0.7810 - accuracy: 0.6758\n",
      "Epoch 201/300\n",
      "5/5 [==============================] - 0s 2ms/step - loss: 0.7762 - accuracy: 0.6944\n",
      "Epoch 202/300\n",
      "5/5 [==============================] - 0s 2ms/step - loss: 0.7682 - accuracy: 0.6923\n",
      "Epoch 203/300\n",
      "5/5 [==============================] - 0s 2ms/step - loss: 0.7752 - accuracy: 0.6558\n",
      "Epoch 204/300\n",
      "5/5 [==============================] - 0s 2ms/step - loss: 0.7704 - accuracy: 0.6797\n",
      "Epoch 205/300\n",
      "5/5 [==============================] - 0s 2ms/step - loss: 0.7795 - accuracy: 0.6424\n",
      "Epoch 206/300\n",
      "5/5 [==============================] - 0s 1ms/step - loss: 0.7747 - accuracy: 0.6545\n",
      "Epoch 207/300\n",
      "5/5 [==============================] - 0s 2ms/step - loss: 0.7587 - accuracy: 0.6884\n",
      "Epoch 208/300\n",
      "5/5 [==============================] - 0s 2ms/step - loss: 0.7682 - accuracy: 0.6445\n",
      "Epoch 209/300\n",
      "5/5 [==============================] - 0s 2ms/step - loss: 0.7594 - accuracy: 0.6788\n",
      "Epoch 210/300\n",
      "5/5 [==============================] - 0s 2ms/step - loss: 0.7559 - accuracy: 0.6719\n",
      "Epoch 211/300\n",
      "5/5 [==============================] - 0s 2ms/step - loss: 0.7646 - accuracy: 0.6523\n",
      "Epoch 212/300\n",
      "5/5 [==============================] - 0s 2ms/step - loss: 0.7564 - accuracy: 0.6536\n",
      "Epoch 213/300\n",
      "5/5 [==============================] - 0s 2ms/step - loss: 0.7540 - accuracy: 0.6623\n",
      "Epoch 214/300\n",
      "5/5 [==============================] - 0s 1ms/step - loss: 0.7602 - accuracy: 0.6163\n",
      "Epoch 215/300\n",
      "5/5 [==============================] - 0s 2ms/step - loss: 0.7388 - accuracy: 0.6884\n",
      "Epoch 216/300\n",
      "5/5 [==============================] - 0s 2ms/step - loss: 0.7517 - accuracy: 0.6454\n",
      "Epoch 217/300\n",
      "5/5 [==============================] - 0s 2ms/step - loss: 0.7553 - accuracy: 0.6237\n",
      "Epoch 218/300\n",
      "5/5 [==============================] - 0s 2ms/step - loss: 0.7316 - accuracy: 0.6914\n",
      "Epoch 219/300\n",
      "5/5 [==============================] - 0s 2ms/step - loss: 0.7379 - accuracy: 0.6589\n",
      "Epoch 220/300\n",
      "5/5 [==============================] - 0s 2ms/step - loss: 0.7328 - accuracy: 0.6693\n",
      "Epoch 221/300\n",
      "5/5 [==============================] - 0s 2ms/step - loss: 0.7320 - accuracy: 0.6645\n",
      "Epoch 222/300\n",
      "5/5 [==============================] - 0s 2ms/step - loss: 0.7368 - accuracy: 0.6424\n",
      "Epoch 223/300\n",
      "5/5 [==============================] - 0s 2ms/step - loss: 0.7358 - accuracy: 0.6497\n",
      "Epoch 224/300\n",
      "5/5 [==============================] - 0s 2ms/step - loss: 0.7345 - accuracy: 0.6367\n",
      "Epoch 225/300\n",
      "5/5 [==============================] - 0s 2ms/step - loss: 0.7191 - accuracy: 0.6879\n",
      "Epoch 226/300\n",
      "5/5 [==============================] - 0s 2ms/step - loss: 0.7152 - accuracy: 0.6827\n",
      "Epoch 227/300\n",
      "5/5 [==============================] - 0s 2ms/step - loss: 0.7052 - accuracy: 0.7161\n",
      "Epoch 228/300\n",
      "5/5 [==============================] - 0s 2ms/step - loss: 0.7090 - accuracy: 0.6888\n",
      "Epoch 229/300\n",
      "5/5 [==============================] - 0s 2ms/step - loss: 0.7254 - accuracy: 0.6345\n",
      "Epoch 230/300\n",
      "5/5 [==============================] - 0s 2ms/step - loss: 0.7291 - accuracy: 0.6241\n",
      "Epoch 231/300\n",
      "5/5 [==============================] - 0s 2ms/step - loss: 0.7089 - accuracy: 0.6736\n",
      "Epoch 232/300\n",
      "5/5 [==============================] - 0s 2ms/step - loss: 0.7064 - accuracy: 0.6766\n",
      "Epoch 233/300\n",
      "5/5 [==============================] - 0s 2ms/step - loss: 0.7220 - accuracy: 0.6250\n",
      "Epoch 234/300\n",
      "5/5 [==============================] - 0s 2ms/step - loss: 0.7027 - accuracy: 0.6658\n",
      "Epoch 235/300\n",
      "5/5 [==============================] - 0s 2ms/step - loss: 0.7069 - accuracy: 0.6567\n",
      "Epoch 236/300\n",
      "5/5 [==============================] - 0s 2ms/step - loss: 0.6920 - accuracy: 0.6931\n",
      "Epoch 237/300\n",
      "5/5 [==============================] - 0s 2ms/step - loss: 0.7008 - accuracy: 0.6680\n",
      "Epoch 238/300\n",
      "5/5 [==============================] - 0s 2ms/step - loss: 0.7087 - accuracy: 0.6376\n",
      "Epoch 239/300\n",
      "5/5 [==============================] - 0s 2ms/step - loss: 0.6964 - accuracy: 0.6662\n",
      "Epoch 240/300\n",
      "5/5 [==============================] - 0s 2ms/step - loss: 0.6955 - accuracy: 0.6632\n",
      "Epoch 241/300\n",
      "5/5 [==============================] - 0s 2ms/step - loss: 0.6964 - accuracy: 0.6684\n",
      "Epoch 242/300\n",
      "5/5 [==============================] - 0s 2ms/step - loss: 0.6910 - accuracy: 0.6623\n",
      "Epoch 243/300\n",
      "5/5 [==============================] - 0s 2ms/step - loss: 0.7045 - accuracy: 0.6133\n",
      "Epoch 244/300\n",
      "5/5 [==============================] - 0s 2ms/step - loss: 0.6805 - accuracy: 0.6905\n",
      "Epoch 245/300\n",
      "5/5 [==============================] - 0s 2ms/step - loss: 0.6855 - accuracy: 0.6632\n",
      "Epoch 246/300\n",
      "5/5 [==============================] - 0s 2ms/step - loss: 0.6858 - accuracy: 0.6662\n",
      "Epoch 247/300\n",
      "5/5 [==============================] - 0s 2ms/step - loss: 0.6813 - accuracy: 0.6788\n",
      "Epoch 248/300\n",
      "5/5 [==============================] - 0s 2ms/step - loss: 0.6814 - accuracy: 0.6654\n",
      "Epoch 249/300\n"
     ]
    },
    {
     "name": "stdout",
     "output_type": "stream",
     "text": [
      "5/5 [==============================] - 0s 2ms/step - loss: 0.6760 - accuracy: 0.6719\n",
      "Epoch 250/300\n",
      "5/5 [==============================] - 0s 2ms/step - loss: 0.6588 - accuracy: 0.7118\n",
      "Epoch 251/300\n",
      "5/5 [==============================] - 0s 2ms/step - loss: 0.6709 - accuracy: 0.6771\n",
      "Epoch 252/300\n",
      "5/5 [==============================] - 0s 2ms/step - loss: 0.6748 - accuracy: 0.6693\n",
      "Epoch 253/300\n",
      "5/5 [==============================] - 0s 2ms/step - loss: 0.6570 - accuracy: 0.7153\n",
      "Epoch 254/300\n",
      "5/5 [==============================] - 0s 2ms/step - loss: 0.6666 - accuracy: 0.6910\n",
      "Epoch 255/300\n",
      "5/5 [==============================] - 0s 2ms/step - loss: 0.6845 - accuracy: 0.6311\n",
      "Epoch 256/300\n",
      "5/5 [==============================] - 0s 3ms/step - loss: 0.6622 - accuracy: 0.6810\n",
      "Epoch 257/300\n",
      "5/5 [==============================] - 0s 2ms/step - loss: 0.6722 - accuracy: 0.6363\n",
      "Epoch 258/300\n",
      "5/5 [==============================] - 0s 2ms/step - loss: 0.6628 - accuracy: 0.6736\n",
      "Epoch 259/300\n",
      "5/5 [==============================] - 0s 2ms/step - loss: 0.6643 - accuracy: 0.6684\n",
      "Epoch 260/300\n",
      "5/5 [==============================] - 0s 2ms/step - loss: 0.6569 - accuracy: 0.6771\n",
      "Epoch 261/300\n",
      "5/5 [==============================] - 0s 2ms/step - loss: 0.6640 - accuracy: 0.6641\n",
      "Epoch 262/300\n",
      "5/5 [==============================] - 0s 2ms/step - loss: 0.6411 - accuracy: 0.7031\n",
      "Epoch 263/300\n",
      "5/5 [==============================] - 0s 2ms/step - loss: 0.6571 - accuracy: 0.6593\n",
      "Epoch 264/300\n",
      "5/5 [==============================] - 0s 2ms/step - loss: 0.6600 - accuracy: 0.6558\n",
      "Epoch 265/300\n",
      "5/5 [==============================] - 0s 2ms/step - loss: 0.6731 - accuracy: 0.6107\n",
      "Epoch 266/300\n",
      "5/5 [==============================] - 0s 2ms/step - loss: 0.6488 - accuracy: 0.6793\n",
      "Epoch 267/300\n",
      "5/5 [==============================] - 0s 1ms/step - loss: 0.6490 - accuracy: 0.6684\n",
      "Epoch 268/300\n",
      "5/5 [==============================] - 0s 2ms/step - loss: 0.6406 - accuracy: 0.6979\n",
      "Epoch 269/300\n",
      "5/5 [==============================] - 0s 2ms/step - loss: 0.6551 - accuracy: 0.6484\n",
      "Epoch 270/300\n",
      "5/5 [==============================] - 0s 2ms/step - loss: 0.6456 - accuracy: 0.6671\n",
      "Epoch 271/300\n",
      "5/5 [==============================] - 0s 2ms/step - loss: 0.6516 - accuracy: 0.6484\n",
      "Epoch 272/300\n",
      "5/5 [==============================] - 0s 2ms/step - loss: 0.6324 - accuracy: 0.6997\n",
      "Epoch 273/300\n",
      "5/5 [==============================] - 0s 2ms/step - loss: 0.6314 - accuracy: 0.7001\n",
      "Epoch 274/300\n",
      "5/5 [==============================] - 0s 2ms/step - loss: 0.6426 - accuracy: 0.6558\n",
      "Epoch 275/300\n",
      "5/5 [==============================] - 0s 2ms/step - loss: 0.6330 - accuracy: 0.6849\n",
      "Epoch 276/300\n",
      "5/5 [==============================] - 0s 2ms/step - loss: 0.6529 - accuracy: 0.6263\n",
      "Epoch 277/300\n",
      "5/5 [==============================] - 0s 2ms/step - loss: 0.6272 - accuracy: 0.6797\n",
      "Epoch 278/300\n",
      "5/5 [==============================] - 0s 2ms/step - loss: 0.6369 - accuracy: 0.6732\n",
      "Epoch 279/300\n",
      "5/5 [==============================] - 0s 2ms/step - loss: 0.6342 - accuracy: 0.6584\n",
      "Epoch 280/300\n",
      "5/5 [==============================] - 0s 2ms/step - loss: 0.6239 - accuracy: 0.6871\n",
      "Epoch 281/300\n",
      "5/5 [==============================] - 0s 2ms/step - loss: 0.6251 - accuracy: 0.6697\n",
      "Epoch 282/300\n",
      "5/5 [==============================] - 0s 2ms/step - loss: 0.6325 - accuracy: 0.6602\n",
      "Epoch 283/300\n",
      "5/5 [==============================] - 0s 2ms/step - loss: 0.6357 - accuracy: 0.6493\n",
      "Epoch 284/300\n",
      "5/5 [==============================] - 0s 2ms/step - loss: 0.6351 - accuracy: 0.6471\n",
      "Epoch 285/300\n",
      "5/5 [==============================] - 0s 2ms/step - loss: 0.6240 - accuracy: 0.6636\n",
      "Epoch 286/300\n",
      "5/5 [==============================] - 0s 2ms/step - loss: 0.6274 - accuracy: 0.6480\n",
      "Epoch 287/300\n",
      "5/5 [==============================] - 0s 2ms/step - loss: 0.6170 - accuracy: 0.6766\n",
      "Epoch 288/300\n",
      "5/5 [==============================] - 0s 2ms/step - loss: 0.6110 - accuracy: 0.6875\n",
      "Epoch 289/300\n",
      "5/5 [==============================] - 0s 2ms/step - loss: 0.6165 - accuracy: 0.6749\n",
      "Epoch 290/300\n",
      "5/5 [==============================] - 0s 2ms/step - loss: 0.6260 - accuracy: 0.6532\n",
      "Epoch 291/300\n",
      "5/5 [==============================] - 0s 2ms/step - loss: 0.6092 - accuracy: 0.6879\n",
      "Epoch 292/300\n",
      "5/5 [==============================] - 0s 2ms/step - loss: 0.6048 - accuracy: 0.6975\n",
      "Epoch 293/300\n",
      "5/5 [==============================] - 0s 2ms/step - loss: 0.6237 - accuracy: 0.6515\n",
      "Epoch 294/300\n",
      "5/5 [==============================] - 0s 2ms/step - loss: 0.6135 - accuracy: 0.6645\n",
      "Epoch 295/300\n",
      "5/5 [==============================] - 0s 2ms/step - loss: 0.6117 - accuracy: 0.6593\n",
      "Epoch 296/300\n",
      "5/5 [==============================] - 0s 2ms/step - loss: 0.6047 - accuracy: 0.6684\n",
      "Epoch 297/300\n",
      "5/5 [==============================] - 0s 3ms/step - loss: 0.6291 - accuracy: 0.6194\n",
      "Epoch 298/300\n",
      "5/5 [==============================] - 0s 2ms/step - loss: 0.6084 - accuracy: 0.6710\n",
      "Epoch 299/300\n",
      "5/5 [==============================] - 0s 2ms/step - loss: 0.6018 - accuracy: 0.6801\n",
      "Epoch 300/300\n",
      "5/5 [==============================] - 0s 2ms/step - loss: 0.5905 - accuracy: 0.7105\n"
     ]
    },
    {
     "data": {
      "text/plain": [
       "<tensorflow.python.keras.callbacks.History at 0xc6c70c2100>"
      ]
     },
     "execution_count": 46,
     "metadata": {},
     "output_type": "execute_result"
    }
   ],
   "source": [
    "model.fit(x=scaled_X, y=y,\n",
    "             epochs=epochs,\n",
    "             verbose=1)"
   ]
  },
  {
   "cell_type": "markdown",
   "metadata": {},
   "source": [
    "## <a name=prepdepsavemodel>Deployment Prep - Save Model and Scaler</a>"
   ]
  },
  {
   "cell_type": "code",
   "execution_count": 47,
   "metadata": {},
   "outputs": [],
   "source": [
    "model.save('../Models/final_iris_model.h5')"
   ]
  },
  {
   "cell_type": "code",
   "execution_count": 48,
   "metadata": {},
   "outputs": [],
   "source": [
    "import joblib"
   ]
  },
  {
   "cell_type": "code",
   "execution_count": 49,
   "metadata": {},
   "outputs": [
    {
     "data": {
      "text/plain": [
       "['../Models/iris_scaler.pkl']"
      ]
     },
     "execution_count": 49,
     "metadata": {},
     "output_type": "execute_result"
    }
   ],
   "source": [
    "joblib.dump(scaler, '../Models/iris_scaler.pkl')"
   ]
  },
  {
   "cell_type": "markdown",
   "metadata": {},
   "source": [
    "---------\n",
    "--------\n",
    "-------"
   ]
  },
  {
   "cell_type": "markdown",
   "metadata": {},
   "source": [
    "# <a name=prepdepsavemodel>Predicting a Single New Flower</a>"
   ]
  },
  {
   "cell_type": "markdown",
   "metadata": {},
   "source": [
    "### Load model and scaler (just for testing purpose)"
   ]
  },
  {
   "cell_type": "code",
   "execution_count": 50,
   "metadata": {},
   "outputs": [],
   "source": [
    "from tensorflow.keras.models import load_model"
   ]
  },
  {
   "cell_type": "code",
   "execution_count": 51,
   "metadata": {},
   "outputs": [],
   "source": [
    "iris_model = load_model('../Models/final_iris_model.h5')"
   ]
  },
  {
   "cell_type": "code",
   "execution_count": 52,
   "metadata": {},
   "outputs": [],
   "source": [
    "iris_scaler = joblib.load('../Models/iris_scaler.pkl')"
   ]
  },
  {
   "cell_type": "markdown",
   "metadata": {},
   "source": [
    "-----"
   ]
  },
  {
   "cell_type": "markdown",
   "metadata": {},
   "source": [
    "### Dummy Test Flower"
   ]
  },
  {
   "cell_type": "code",
   "execution_count": 53,
   "metadata": {},
   "outputs": [
    {
     "data": {
      "text/html": [
       "<div>\n",
       "<style scoped>\n",
       "    .dataframe tbody tr th:only-of-type {\n",
       "        vertical-align: middle;\n",
       "    }\n",
       "\n",
       "    .dataframe tbody tr th {\n",
       "        vertical-align: top;\n",
       "    }\n",
       "\n",
       "    .dataframe thead th {\n",
       "        text-align: right;\n",
       "    }\n",
       "</style>\n",
       "<table border=\"1\" class=\"dataframe\">\n",
       "  <thead>\n",
       "    <tr style=\"text-align: right;\">\n",
       "      <th></th>\n",
       "      <th>sepal_length</th>\n",
       "      <th>sepal_width</th>\n",
       "      <th>petal_length</th>\n",
       "      <th>petal_width</th>\n",
       "      <th>species</th>\n",
       "    </tr>\n",
       "  </thead>\n",
       "  <tbody>\n",
       "    <tr>\n",
       "      <th>0</th>\n",
       "      <td>5.1</td>\n",
       "      <td>3.5</td>\n",
       "      <td>1.4</td>\n",
       "      <td>0.2</td>\n",
       "      <td>setosa</td>\n",
       "    </tr>\n",
       "  </tbody>\n",
       "</table>\n",
       "</div>"
      ],
      "text/plain": [
       "   sepal_length  sepal_width  petal_length  petal_width species\n",
       "0           5.1          3.5           1.4          0.2  setosa"
      ]
     },
     "execution_count": 53,
     "metadata": {},
     "output_type": "execute_result"
    }
   ],
   "source": [
    "df.head(1)"
   ]
  },
  {
   "cell_type": "code",
   "execution_count": 56,
   "metadata": {},
   "outputs": [],
   "source": [
    "flower_example = {\n",
    "    'sepal_length': 5.1,\n",
    "    'sepal_width': 3.5,\n",
    "    'petal_length': 1.4,\n",
    "    'petal_width': 0.2, \n",
    "}"
   ]
  },
  {
   "cell_type": "code",
   "execution_count": 57,
   "metadata": {},
   "outputs": [
    {
     "data": {
      "text/plain": [
       "dict_keys(['sepal_length', 'sepal_width', 'petal_length', 'petal_width'])"
      ]
     },
     "execution_count": 57,
     "metadata": {},
     "output_type": "execute_result"
    }
   ],
   "source": [
    "flower_example.keys()"
   ]
  },
  {
   "cell_type": "markdown",
   "metadata": {},
   "source": [
    "### our encoder has classes of species with related index\n",
    "+ setosa at index 0, versicolor at index 1, virginica at index 2\n",
    "+ if flower is belonged to that class, their related index value will be lighted up with 1 (one-hot-encoded)"
   ]
  },
  {
   "cell_type": "code",
   "execution_count": 61,
   "metadata": {},
   "outputs": [
    {
     "data": {
      "text/plain": [
       "array(['setosa', 'versicolor', 'virginica'], dtype='<U10')"
      ]
     },
     "execution_count": 61,
     "metadata": {},
     "output_type": "execute_result"
    }
   ],
   "source": [
    "encoder.classes_"
   ]
  },
  {
   "cell_type": "markdown",
   "metadata": {},
   "source": [
    "# <a name=predfunc>Prediction Function</a>\n",
    "\n",
    "Resource why we use axis=-1 in predict() method: https://numpy.astrotech.io/array-axis.html"
   ]
  },
  {
   "cell_type": "code",
   "execution_count": 78,
   "metadata": {},
   "outputs": [],
   "source": [
    "def return_prediction(model, scaler, sample_json):\n",
    "    \n",
    "    sepal_length = sample_json['sepal_length']\n",
    "    sepal_width = sample_json['sepal_width']\n",
    "    petal_length = sample_json['petal_length']\n",
    "    petal_width = sample_json['petal_width']\n",
    "    \n",
    "    flower = [[sepal_length, sepal_width, petal_length, petal_width]]\n",
    "    \n",
    "    classes = np.array(['setosa', 'versicolor', 'virginica'])\n",
    "    \n",
    "    flower = scaler.transform(flower)\n",
    "    \n",
    "    class_index = np.argmax(model.predict(flower), axis=-1)[0]\n",
    "    \n",
    "    return classes[class_index]"
   ]
  },
  {
   "cell_type": "code",
   "execution_count": 79,
   "metadata": {},
   "outputs": [
    {
     "data": {
      "text/plain": [
       "'setosa'"
      ]
     },
     "execution_count": 79,
     "metadata": {},
     "output_type": "execute_result"
    }
   ],
   "source": [
    "# call the function for predictions\n",
    "return_prediction(iris_model, iris_scaler, flower_example)"
   ]
  },
  {
   "cell_type": "markdown",
   "metadata": {},
   "source": [
    "----------"
   ]
  },
  {
   "cell_type": "markdown",
   "metadata": {},
   "source": [
    "# <a name=codefordep>CODE FOR DEPLOYMENT</a>"
   ]
  },
  {
   "cell_type": "code",
   "execution_count": 80,
   "metadata": {},
   "outputs": [],
   "source": [
    "import numpy as np\n",
    "from tensorflow.keras.models import load_model\n",
    "import joblib\n",
    "\n",
    "iris_model = load_model('../Models/final_iris_model.h5')\n",
    "iris_scaler = joblib.load('../Models/iris_scaler.pkl')\n",
    "\n",
    "def return_prediction(model, scaler, sample_json):\n",
    "    \n",
    "    sepal_length = sample_json['sepal_length']\n",
    "    sepal_width = sample_json['sepal_width']\n",
    "    petal_length = sample_json['petal_length']\n",
    "    petal_width = sample_json['petal_width']\n",
    "    \n",
    "    flower = [[sepal_length, sepal_width, petal_length, petal_width]]\n",
    "    \n",
    "    classes = np.array(['setosa', 'versicolor', 'virginica'])\n",
    "    \n",
    "    flower = scaler.transform(flower)\n",
    "    \n",
    "    class_index = np.argmax(model.predict(flower), axis=-1)[0]\n",
    "    \n",
    "    return classes[class_index]"
   ]
  }
 ],
 "metadata": {
  "kernelspec": {
   "display_name": "venv-datascience",
   "language": "python",
   "name": "venv-datascience"
  },
  "language_info": {
   "codemirror_mode": {
    "name": "ipython",
    "version": 3
   },
   "file_extension": ".py",
   "mimetype": "text/x-python",
   "name": "python",
   "nbconvert_exporter": "python",
   "pygments_lexer": "ipython3",
   "version": "3.8.5"
  }
 },
 "nbformat": 4,
 "nbformat_minor": 4
}
