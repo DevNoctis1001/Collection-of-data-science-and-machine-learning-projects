{
 "cells": [
  {
   "cell_type": "markdown",
   "metadata": {},
   "source": [
    "# Multivariate Time Series with RNN\n",
    "\n",
    "\n",
    "## NOTE: In general, it is very difficult to get good performance from an LSTM based RNN model for multivariate series. We highly recommend using SARIMAX based methods if you have a real-world situation requiring multi-variate time series data.\n",
    "\n",
    "---\n",
    "Appliance Energy Usage: A Multivariate Time Series Forecasting Example\n",
    "\n",
    "Experimental data used to create regression models of appliances energy use in a low energy building.\n",
    "Data Set Information:\n",
    "\n",
    "The data set is at 10 min for about 4.5 months. The house temperature and humidity conditions were monitored with a ZigBee wireless sensor network. Each wireless node transmitted the temperature and humidity conditions around 3.3 min. Then, the wireless data was averaged for 10 minutes periods. The energy data was logged every 10 minutes with m-bus energy meters. Weather from the nearest airport weather station (Chievres Airport, Belgium) was downloaded from a public data set from Reliable Prognosis (rp5.ru), and merged together with the experimental data sets using the date and time column. Two random variables have been included in the data set for testing the regression models and to filter out non predictive attributes (parameters).\n",
    "Original source of the dataset:\n",
    "\n",
    "http://archive.ics.uci.edu/ml/datasets/Appliances+energy+prediction\n",
    "---"
   ]
  },
  {
   "cell_type": "code",
   "execution_count": 1,
   "metadata": {},
   "outputs": [],
   "source": [
    "import numpy as np\n",
    "import pandas as pd\n",
    "import matplotlib.pyplot as plt\n",
    "import seaborn as sns"
   ]
  },
  {
   "cell_type": "markdown",
   "metadata": {},
   "source": [
    "# Data"
   ]
  },
  {
   "cell_type": "code",
   "execution_count": 7,
   "metadata": {},
   "outputs": [],
   "source": [
    "df = pd.read_csv('../Data/energydata_complete.csv', index_col='date', infer_datetime_format=True)"
   ]
  },
  {
   "cell_type": "code",
   "execution_count": 8,
   "metadata": {},
   "outputs": [
    {
     "data": {
      "text/html": [
       "<div>\n",
       "<style scoped>\n",
       "    .dataframe tbody tr th:only-of-type {\n",
       "        vertical-align: middle;\n",
       "    }\n",
       "\n",
       "    .dataframe tbody tr th {\n",
       "        vertical-align: top;\n",
       "    }\n",
       "\n",
       "    .dataframe thead th {\n",
       "        text-align: right;\n",
       "    }\n",
       "</style>\n",
       "<table border=\"1\" class=\"dataframe\">\n",
       "  <thead>\n",
       "    <tr style=\"text-align: right;\">\n",
       "      <th></th>\n",
       "      <th>Appliances</th>\n",
       "      <th>lights</th>\n",
       "      <th>T1</th>\n",
       "      <th>RH_1</th>\n",
       "      <th>T2</th>\n",
       "      <th>RH_2</th>\n",
       "      <th>T3</th>\n",
       "      <th>RH_3</th>\n",
       "      <th>T4</th>\n",
       "      <th>RH_4</th>\n",
       "      <th>...</th>\n",
       "      <th>T9</th>\n",
       "      <th>RH_9</th>\n",
       "      <th>T_out</th>\n",
       "      <th>Press_mm_hg</th>\n",
       "      <th>RH_out</th>\n",
       "      <th>Windspeed</th>\n",
       "      <th>Visibility</th>\n",
       "      <th>Tdewpoint</th>\n",
       "      <th>rv1</th>\n",
       "      <th>rv2</th>\n",
       "    </tr>\n",
       "    <tr>\n",
       "      <th>date</th>\n",
       "      <th></th>\n",
       "      <th></th>\n",
       "      <th></th>\n",
       "      <th></th>\n",
       "      <th></th>\n",
       "      <th></th>\n",
       "      <th></th>\n",
       "      <th></th>\n",
       "      <th></th>\n",
       "      <th></th>\n",
       "      <th></th>\n",
       "      <th></th>\n",
       "      <th></th>\n",
       "      <th></th>\n",
       "      <th></th>\n",
       "      <th></th>\n",
       "      <th></th>\n",
       "      <th></th>\n",
       "      <th></th>\n",
       "      <th></th>\n",
       "      <th></th>\n",
       "    </tr>\n",
       "  </thead>\n",
       "  <tbody>\n",
       "    <tr>\n",
       "      <th>2016-01-11 17:00:00</th>\n",
       "      <td>60</td>\n",
       "      <td>30</td>\n",
       "      <td>19.89</td>\n",
       "      <td>47.596667</td>\n",
       "      <td>19.2</td>\n",
       "      <td>44.790000</td>\n",
       "      <td>19.79</td>\n",
       "      <td>44.730000</td>\n",
       "      <td>19.000000</td>\n",
       "      <td>45.566667</td>\n",
       "      <td>...</td>\n",
       "      <td>17.033333</td>\n",
       "      <td>45.53</td>\n",
       "      <td>6.600000</td>\n",
       "      <td>733.5</td>\n",
       "      <td>92.0</td>\n",
       "      <td>7.000000</td>\n",
       "      <td>63.000000</td>\n",
       "      <td>5.3</td>\n",
       "      <td>13.275433</td>\n",
       "      <td>13.275433</td>\n",
       "    </tr>\n",
       "    <tr>\n",
       "      <th>2016-01-11 17:10:00</th>\n",
       "      <td>60</td>\n",
       "      <td>30</td>\n",
       "      <td>19.89</td>\n",
       "      <td>46.693333</td>\n",
       "      <td>19.2</td>\n",
       "      <td>44.722500</td>\n",
       "      <td>19.79</td>\n",
       "      <td>44.790000</td>\n",
       "      <td>19.000000</td>\n",
       "      <td>45.992500</td>\n",
       "      <td>...</td>\n",
       "      <td>17.066667</td>\n",
       "      <td>45.56</td>\n",
       "      <td>6.483333</td>\n",
       "      <td>733.6</td>\n",
       "      <td>92.0</td>\n",
       "      <td>6.666667</td>\n",
       "      <td>59.166667</td>\n",
       "      <td>5.2</td>\n",
       "      <td>18.606195</td>\n",
       "      <td>18.606195</td>\n",
       "    </tr>\n",
       "    <tr>\n",
       "      <th>2016-01-11 17:20:00</th>\n",
       "      <td>50</td>\n",
       "      <td>30</td>\n",
       "      <td>19.89</td>\n",
       "      <td>46.300000</td>\n",
       "      <td>19.2</td>\n",
       "      <td>44.626667</td>\n",
       "      <td>19.79</td>\n",
       "      <td>44.933333</td>\n",
       "      <td>18.926667</td>\n",
       "      <td>45.890000</td>\n",
       "      <td>...</td>\n",
       "      <td>17.000000</td>\n",
       "      <td>45.50</td>\n",
       "      <td>6.366667</td>\n",
       "      <td>733.7</td>\n",
       "      <td>92.0</td>\n",
       "      <td>6.333333</td>\n",
       "      <td>55.333333</td>\n",
       "      <td>5.1</td>\n",
       "      <td>28.642668</td>\n",
       "      <td>28.642668</td>\n",
       "    </tr>\n",
       "    <tr>\n",
       "      <th>2016-01-11 17:30:00</th>\n",
       "      <td>50</td>\n",
       "      <td>40</td>\n",
       "      <td>19.89</td>\n",
       "      <td>46.066667</td>\n",
       "      <td>19.2</td>\n",
       "      <td>44.590000</td>\n",
       "      <td>19.79</td>\n",
       "      <td>45.000000</td>\n",
       "      <td>18.890000</td>\n",
       "      <td>45.723333</td>\n",
       "      <td>...</td>\n",
       "      <td>17.000000</td>\n",
       "      <td>45.40</td>\n",
       "      <td>6.250000</td>\n",
       "      <td>733.8</td>\n",
       "      <td>92.0</td>\n",
       "      <td>6.000000</td>\n",
       "      <td>51.500000</td>\n",
       "      <td>5.0</td>\n",
       "      <td>45.410389</td>\n",
       "      <td>45.410389</td>\n",
       "    </tr>\n",
       "    <tr>\n",
       "      <th>2016-01-11 17:40:00</th>\n",
       "      <td>60</td>\n",
       "      <td>40</td>\n",
       "      <td>19.89</td>\n",
       "      <td>46.333333</td>\n",
       "      <td>19.2</td>\n",
       "      <td>44.530000</td>\n",
       "      <td>19.79</td>\n",
       "      <td>45.000000</td>\n",
       "      <td>18.890000</td>\n",
       "      <td>45.530000</td>\n",
       "      <td>...</td>\n",
       "      <td>17.000000</td>\n",
       "      <td>45.40</td>\n",
       "      <td>6.133333</td>\n",
       "      <td>733.9</td>\n",
       "      <td>92.0</td>\n",
       "      <td>5.666667</td>\n",
       "      <td>47.666667</td>\n",
       "      <td>4.9</td>\n",
       "      <td>10.084097</td>\n",
       "      <td>10.084097</td>\n",
       "    </tr>\n",
       "  </tbody>\n",
       "</table>\n",
       "<p>5 rows × 28 columns</p>\n",
       "</div>"
      ],
      "text/plain": [
       "                     Appliances  lights     T1       RH_1    T2       RH_2  \\\n",
       "date                                                                         \n",
       "2016-01-11 17:00:00          60      30  19.89  47.596667  19.2  44.790000   \n",
       "2016-01-11 17:10:00          60      30  19.89  46.693333  19.2  44.722500   \n",
       "2016-01-11 17:20:00          50      30  19.89  46.300000  19.2  44.626667   \n",
       "2016-01-11 17:30:00          50      40  19.89  46.066667  19.2  44.590000   \n",
       "2016-01-11 17:40:00          60      40  19.89  46.333333  19.2  44.530000   \n",
       "\n",
       "                        T3       RH_3         T4       RH_4  ...         T9  \\\n",
       "date                                                         ...              \n",
       "2016-01-11 17:00:00  19.79  44.730000  19.000000  45.566667  ...  17.033333   \n",
       "2016-01-11 17:10:00  19.79  44.790000  19.000000  45.992500  ...  17.066667   \n",
       "2016-01-11 17:20:00  19.79  44.933333  18.926667  45.890000  ...  17.000000   \n",
       "2016-01-11 17:30:00  19.79  45.000000  18.890000  45.723333  ...  17.000000   \n",
       "2016-01-11 17:40:00  19.79  45.000000  18.890000  45.530000  ...  17.000000   \n",
       "\n",
       "                      RH_9     T_out  Press_mm_hg  RH_out  Windspeed  \\\n",
       "date                                                                   \n",
       "2016-01-11 17:00:00  45.53  6.600000        733.5    92.0   7.000000   \n",
       "2016-01-11 17:10:00  45.56  6.483333        733.6    92.0   6.666667   \n",
       "2016-01-11 17:20:00  45.50  6.366667        733.7    92.0   6.333333   \n",
       "2016-01-11 17:30:00  45.40  6.250000        733.8    92.0   6.000000   \n",
       "2016-01-11 17:40:00  45.40  6.133333        733.9    92.0   5.666667   \n",
       "\n",
       "                     Visibility  Tdewpoint        rv1        rv2  \n",
       "date                                                              \n",
       "2016-01-11 17:00:00   63.000000        5.3  13.275433  13.275433  \n",
       "2016-01-11 17:10:00   59.166667        5.2  18.606195  18.606195  \n",
       "2016-01-11 17:20:00   55.333333        5.1  28.642668  28.642668  \n",
       "2016-01-11 17:30:00   51.500000        5.0  45.410389  45.410389  \n",
       "2016-01-11 17:40:00   47.666667        4.9  10.084097  10.084097  \n",
       "\n",
       "[5 rows x 28 columns]"
      ]
     },
     "execution_count": 8,
     "metadata": {},
     "output_type": "execute_result"
    }
   ],
   "source": [
    "df.head()"
   ]
  },
  {
   "cell_type": "code",
   "execution_count": 9,
   "metadata": {},
   "outputs": [
    {
     "name": "stdout",
     "output_type": "stream",
     "text": [
      "<class 'pandas.core.frame.DataFrame'>\n",
      "Index: 19735 entries, 2016-01-11 17:00:00 to 2016-05-27 18:00:00\n",
      "Data columns (total 28 columns):\n",
      " #   Column       Non-Null Count  Dtype  \n",
      "---  ------       --------------  -----  \n",
      " 0   Appliances   19735 non-null  int64  \n",
      " 1   lights       19735 non-null  int64  \n",
      " 2   T1           19735 non-null  float64\n",
      " 3   RH_1         19735 non-null  float64\n",
      " 4   T2           19735 non-null  float64\n",
      " 5   RH_2         19735 non-null  float64\n",
      " 6   T3           19735 non-null  float64\n",
      " 7   RH_3         19735 non-null  float64\n",
      " 8   T4           19735 non-null  float64\n",
      " 9   RH_4         19735 non-null  float64\n",
      " 10  T5           19735 non-null  float64\n",
      " 11  RH_5         19735 non-null  float64\n",
      " 12  T6           19735 non-null  float64\n",
      " 13  RH_6         19735 non-null  float64\n",
      " 14  T7           19735 non-null  float64\n",
      " 15  RH_7         19735 non-null  float64\n",
      " 16  T8           19735 non-null  float64\n",
      " 17  RH_8         19735 non-null  float64\n",
      " 18  T9           19735 non-null  float64\n",
      " 19  RH_9         19735 non-null  float64\n",
      " 20  T_out        19735 non-null  float64\n",
      " 21  Press_mm_hg  19735 non-null  float64\n",
      " 22  RH_out       19735 non-null  float64\n",
      " 23  Windspeed    19735 non-null  float64\n",
      " 24  Visibility   19735 non-null  float64\n",
      " 25  Tdewpoint    19735 non-null  float64\n",
      " 26  rv1          19735 non-null  float64\n",
      " 27  rv2          19735 non-null  float64\n",
      "dtypes: float64(26), int64(2)\n",
      "memory usage: 4.4+ MB\n"
     ]
    }
   ],
   "source": [
    "df.info()"
   ]
  },
  {
   "cell_type": "markdown",
   "metadata": {},
   "source": [
    "-------"
   ]
  },
  {
   "cell_type": "markdown",
   "metadata": {},
   "source": [
    "# Quick EDA"
   ]
  },
  {
   "cell_type": "code",
   "execution_count": 10,
   "metadata": {},
   "outputs": [
    {
     "data": {
      "text/plain": [
       "Index(['Appliances', 'lights', 'T1', 'RH_1', 'T2', 'RH_2', 'T3', 'RH_3', 'T4',\n",
       "       'RH_4', 'T5', 'RH_5', 'T6', 'RH_6', 'T7', 'RH_7', 'T8', 'RH_8', 'T9',\n",
       "       'RH_9', 'T_out', 'Press_mm_hg', 'RH_out', 'Windspeed', 'Visibility',\n",
       "       'Tdewpoint', 'rv1', 'rv2'],\n",
       "      dtype='object')"
      ]
     },
     "execution_count": 10,
     "metadata": {},
     "output_type": "execute_result"
    }
   ],
   "source": [
    "df.columns"
   ]
  },
  {
   "cell_type": "code",
   "execution_count": 15,
   "metadata": {},
   "outputs": [
    {
     "data": {
      "image/png": "[encoded data removed]",
      "text/plain": [
       "<Figure size 864x576 with 1 Axes>"
      ]
     },
     "metadata": {
      "needs_background": "light"
     },
     "output_type": "display_data"
    }
   ],
   "source": [
    "df['Windspeed'].plot(figsize=(12,8));\n",
    "plt.xticks(rotation=30);"
   ]
  },
  {
   "cell_type": "code",
   "execution_count": 17,
   "metadata": {},
   "outputs": [
    {
     "data": {
      "image/png": "[encoded data removed]",
      "text/plain": [
       "<Figure size 864x648 with 1 Axes>"
      ]
     },
     "metadata": {
      "needs_background": "light"
     },
     "output_type": "display_data"
    }
   ],
   "source": [
    "df['Appliances'].plot(figsize=(12,9));\n",
    "plt.xticks(rotation=30);"
   ]
  },
  {
   "cell_type": "markdown",
   "metadata": {},
   "source": [
    "-----"
   ]
  },
  {
   "cell_type": "markdown",
   "metadata": {},
   "source": [
    "# Train Test Split"
   ]
  },
  {
   "cell_type": "code",
   "execution_count": 18,
   "metadata": {},
   "outputs": [
    {
     "data": {
      "text/plain": [
       "19735"
      ]
     },
     "execution_count": 18,
     "metadata": {},
     "output_type": "execute_result"
    }
   ],
   "source": [
    "len(df)"
   ]
  },
  {
   "cell_type": "markdown",
   "metadata": {},
   "source": [
    "#### Let's imagine we want to predict just 24 hours into the future, we don't need 3 months of data for that, so let's save some training time and only select the last months data."
   ]
  },
  {
   "cell_type": "code",
   "execution_count": 19,
   "metadata": {},
   "outputs": [
    {
     "data": {
      "text/html": [
       "<div>\n",
       "<style scoped>\n",
       "    .dataframe tbody tr th:only-of-type {\n",
       "        vertical-align: middle;\n",
       "    }\n",
       "\n",
       "    .dataframe tbody tr th {\n",
       "        vertical-align: top;\n",
       "    }\n",
       "\n",
       "    .dataframe thead th {\n",
       "        text-align: right;\n",
       "    }\n",
       "</style>\n",
       "<table border=\"1\" class=\"dataframe\">\n",
       "  <thead>\n",
       "    <tr style=\"text-align: right;\">\n",
       "      <th></th>\n",
       "      <th>Appliances</th>\n",
       "      <th>lights</th>\n",
       "      <th>T1</th>\n",
       "      <th>RH_1</th>\n",
       "      <th>T2</th>\n",
       "      <th>RH_2</th>\n",
       "      <th>T3</th>\n",
       "      <th>RH_3</th>\n",
       "      <th>T4</th>\n",
       "      <th>RH_4</th>\n",
       "      <th>...</th>\n",
       "      <th>T9</th>\n",
       "      <th>RH_9</th>\n",
       "      <th>T_out</th>\n",
       "      <th>Press_mm_hg</th>\n",
       "      <th>RH_out</th>\n",
       "      <th>Windspeed</th>\n",
       "      <th>Visibility</th>\n",
       "      <th>Tdewpoint</th>\n",
       "      <th>rv1</th>\n",
       "      <th>rv2</th>\n",
       "    </tr>\n",
       "    <tr>\n",
       "      <th>date</th>\n",
       "      <th></th>\n",
       "      <th></th>\n",
       "      <th></th>\n",
       "      <th></th>\n",
       "      <th></th>\n",
       "      <th></th>\n",
       "      <th></th>\n",
       "      <th></th>\n",
       "      <th></th>\n",
       "      <th></th>\n",
       "      <th></th>\n",
       "      <th></th>\n",
       "      <th></th>\n",
       "      <th></th>\n",
       "      <th></th>\n",
       "      <th></th>\n",
       "      <th></th>\n",
       "      <th></th>\n",
       "      <th></th>\n",
       "      <th></th>\n",
       "      <th></th>\n",
       "    </tr>\n",
       "  </thead>\n",
       "  <tbody>\n",
       "    <tr>\n",
       "      <th>2016-05-27 17:20:00</th>\n",
       "      <td>100</td>\n",
       "      <td>0</td>\n",
       "      <td>25.566667</td>\n",
       "      <td>46.560000</td>\n",
       "      <td>25.890000</td>\n",
       "      <td>42.025714</td>\n",
       "      <td>27.200000</td>\n",
       "      <td>41.163333</td>\n",
       "      <td>24.7</td>\n",
       "      <td>45.590000</td>\n",
       "      <td>...</td>\n",
       "      <td>23.2</td>\n",
       "      <td>46.7900</td>\n",
       "      <td>22.733333</td>\n",
       "      <td>755.2</td>\n",
       "      <td>55.666667</td>\n",
       "      <td>3.333333</td>\n",
       "      <td>23.666667</td>\n",
       "      <td>13.333333</td>\n",
       "      <td>43.096812</td>\n",
       "      <td>43.096812</td>\n",
       "    </tr>\n",
       "    <tr>\n",
       "      <th>2016-05-27 17:30:00</th>\n",
       "      <td>90</td>\n",
       "      <td>0</td>\n",
       "      <td>25.500000</td>\n",
       "      <td>46.500000</td>\n",
       "      <td>25.754000</td>\n",
       "      <td>42.080000</td>\n",
       "      <td>27.133333</td>\n",
       "      <td>41.223333</td>\n",
       "      <td>24.7</td>\n",
       "      <td>45.590000</td>\n",
       "      <td>...</td>\n",
       "      <td>23.2</td>\n",
       "      <td>46.7900</td>\n",
       "      <td>22.600000</td>\n",
       "      <td>755.2</td>\n",
       "      <td>56.000000</td>\n",
       "      <td>3.500000</td>\n",
       "      <td>24.500000</td>\n",
       "      <td>13.300000</td>\n",
       "      <td>49.282940</td>\n",
       "      <td>49.282940</td>\n",
       "    </tr>\n",
       "    <tr>\n",
       "      <th>2016-05-27 17:40:00</th>\n",
       "      <td>270</td>\n",
       "      <td>10</td>\n",
       "      <td>25.500000</td>\n",
       "      <td>46.596667</td>\n",
       "      <td>25.628571</td>\n",
       "      <td>42.768571</td>\n",
       "      <td>27.050000</td>\n",
       "      <td>41.690000</td>\n",
       "      <td>24.7</td>\n",
       "      <td>45.730000</td>\n",
       "      <td>...</td>\n",
       "      <td>23.2</td>\n",
       "      <td>46.7900</td>\n",
       "      <td>22.466667</td>\n",
       "      <td>755.2</td>\n",
       "      <td>56.333333</td>\n",
       "      <td>3.666667</td>\n",
       "      <td>25.333333</td>\n",
       "      <td>13.266667</td>\n",
       "      <td>29.199117</td>\n",
       "      <td>29.199117</td>\n",
       "    </tr>\n",
       "    <tr>\n",
       "      <th>2016-05-27 17:50:00</th>\n",
       "      <td>420</td>\n",
       "      <td>10</td>\n",
       "      <td>25.500000</td>\n",
       "      <td>46.990000</td>\n",
       "      <td>25.414000</td>\n",
       "      <td>43.036000</td>\n",
       "      <td>26.890000</td>\n",
       "      <td>41.290000</td>\n",
       "      <td>24.7</td>\n",
       "      <td>45.790000</td>\n",
       "      <td>...</td>\n",
       "      <td>23.2</td>\n",
       "      <td>46.8175</td>\n",
       "      <td>22.333333</td>\n",
       "      <td>755.2</td>\n",
       "      <td>56.666667</td>\n",
       "      <td>3.833333</td>\n",
       "      <td>26.166667</td>\n",
       "      <td>13.233333</td>\n",
       "      <td>6.322784</td>\n",
       "      <td>6.322784</td>\n",
       "    </tr>\n",
       "    <tr>\n",
       "      <th>2016-05-27 18:00:00</th>\n",
       "      <td>430</td>\n",
       "      <td>10</td>\n",
       "      <td>25.500000</td>\n",
       "      <td>46.600000</td>\n",
       "      <td>25.264286</td>\n",
       "      <td>42.971429</td>\n",
       "      <td>26.823333</td>\n",
       "      <td>41.156667</td>\n",
       "      <td>24.7</td>\n",
       "      <td>45.963333</td>\n",
       "      <td>...</td>\n",
       "      <td>23.2</td>\n",
       "      <td>46.8450</td>\n",
       "      <td>22.200000</td>\n",
       "      <td>755.2</td>\n",
       "      <td>57.000000</td>\n",
       "      <td>4.000000</td>\n",
       "      <td>27.000000</td>\n",
       "      <td>13.200000</td>\n",
       "      <td>34.118851</td>\n",
       "      <td>34.118851</td>\n",
       "    </tr>\n",
       "  </tbody>\n",
       "</table>\n",
       "<p>5 rows × 28 columns</p>\n",
       "</div>"
      ],
      "text/plain": [
       "                     Appliances  lights         T1       RH_1         T2  \\\n",
       "date                                                                       \n",
       "2016-05-27 17:20:00         100       0  25.566667  46.560000  25.890000   \n",
       "2016-05-27 17:30:00          90       0  25.500000  46.500000  25.754000   \n",
       "2016-05-27 17:40:00         270      10  25.500000  46.596667  25.628571   \n",
       "2016-05-27 17:50:00         420      10  25.500000  46.990000  25.414000   \n",
       "2016-05-27 18:00:00         430      10  25.500000  46.600000  25.264286   \n",
       "\n",
       "                          RH_2         T3       RH_3    T4       RH_4  ...  \\\n",
       "date                                                                   ...   \n",
       "2016-05-27 17:20:00  42.025714  27.200000  41.163333  24.7  45.590000  ...   \n",
       "2016-05-27 17:30:00  42.080000  27.133333  41.223333  24.7  45.590000  ...   \n",
       "2016-05-27 17:40:00  42.768571  27.050000  41.690000  24.7  45.730000  ...   \n",
       "2016-05-27 17:50:00  43.036000  26.890000  41.290000  24.7  45.790000  ...   \n",
       "2016-05-27 18:00:00  42.971429  26.823333  41.156667  24.7  45.963333  ...   \n",
       "\n",
       "                       T9     RH_9      T_out  Press_mm_hg     RH_out  \\\n",
       "date                                                                    \n",
       "2016-05-27 17:20:00  23.2  46.7900  22.733333        755.2  55.666667   \n",
       "2016-05-27 17:30:00  23.2  46.7900  22.600000        755.2  56.000000   \n",
       "2016-05-27 17:40:00  23.2  46.7900  22.466667        755.2  56.333333   \n",
       "2016-05-27 17:50:00  23.2  46.8175  22.333333        755.2  56.666667   \n",
       "2016-05-27 18:00:00  23.2  46.8450  22.200000        755.2  57.000000   \n",
       "\n",
       "                     Windspeed  Visibility  Tdewpoint        rv1        rv2  \n",
       "date                                                                         \n",
       "2016-05-27 17:20:00   3.333333   23.666667  13.333333  43.096812  43.096812  \n",
       "2016-05-27 17:30:00   3.500000   24.500000  13.300000  49.282940  49.282940  \n",
       "2016-05-27 17:40:00   3.666667   25.333333  13.266667  29.199117  29.199117  \n",
       "2016-05-27 17:50:00   3.833333   26.166667  13.233333   6.322784   6.322784  \n",
       "2016-05-27 18:00:00   4.000000   27.000000  13.200000  34.118851  34.118851  \n",
       "\n",
       "[5 rows x 28 columns]"
      ]
     },
     "execution_count": 19,
     "metadata": {},
     "output_type": "execute_result"
    }
   ],
   "source": [
    "df.tail()"
   ]
  },
  {
   "cell_type": "code",
   "execution_count": 21,
   "metadata": {},
   "outputs": [
    {
     "data": {
      "text/html": [
       "<div>\n",
       "<style scoped>\n",
       "    .dataframe tbody tr th:only-of-type {\n",
       "        vertical-align: middle;\n",
       "    }\n",
       "\n",
       "    .dataframe tbody tr th {\n",
       "        vertical-align: top;\n",
       "    }\n",
       "\n",
       "    .dataframe thead th {\n",
       "        text-align: right;\n",
       "    }\n",
       "</style>\n",
       "<table border=\"1\" class=\"dataframe\">\n",
       "  <thead>\n",
       "    <tr style=\"text-align: right;\">\n",
       "      <th></th>\n",
       "      <th>Appliances</th>\n",
       "      <th>lights</th>\n",
       "      <th>T1</th>\n",
       "      <th>RH_1</th>\n",
       "      <th>T2</th>\n",
       "      <th>RH_2</th>\n",
       "      <th>T3</th>\n",
       "      <th>RH_3</th>\n",
       "      <th>T4</th>\n",
       "      <th>RH_4</th>\n",
       "      <th>...</th>\n",
       "      <th>T9</th>\n",
       "      <th>RH_9</th>\n",
       "      <th>T_out</th>\n",
       "      <th>Press_mm_hg</th>\n",
       "      <th>RH_out</th>\n",
       "      <th>Windspeed</th>\n",
       "      <th>Visibility</th>\n",
       "      <th>Tdewpoint</th>\n",
       "      <th>rv1</th>\n",
       "      <th>rv2</th>\n",
       "    </tr>\n",
       "    <tr>\n",
       "      <th>date</th>\n",
       "      <th></th>\n",
       "      <th></th>\n",
       "      <th></th>\n",
       "      <th></th>\n",
       "      <th></th>\n",
       "      <th></th>\n",
       "      <th></th>\n",
       "      <th></th>\n",
       "      <th></th>\n",
       "      <th></th>\n",
       "      <th></th>\n",
       "      <th></th>\n",
       "      <th></th>\n",
       "      <th></th>\n",
       "      <th></th>\n",
       "      <th></th>\n",
       "      <th></th>\n",
       "      <th></th>\n",
       "      <th></th>\n",
       "      <th></th>\n",
       "      <th></th>\n",
       "    </tr>\n",
       "  </thead>\n",
       "  <tbody>\n",
       "    <tr>\n",
       "      <th>2016-05-01 00:00:00</th>\n",
       "      <td>50</td>\n",
       "      <td>0</td>\n",
       "      <td>21.200000</td>\n",
       "      <td>38.200000</td>\n",
       "      <td>18.390000</td>\n",
       "      <td>41.400000</td>\n",
       "      <td>23.200000</td>\n",
       "      <td>36.400000</td>\n",
       "      <td>19.73</td>\n",
       "      <td>37.730000</td>\n",
       "      <td>...</td>\n",
       "      <td>19.166667</td>\n",
       "      <td>38.200000</td>\n",
       "      <td>4.300000</td>\n",
       "      <td>763.700000</td>\n",
       "      <td>86.000000</td>\n",
       "      <td>2.000000</td>\n",
       "      <td>40.000000</td>\n",
       "      <td>2.200000</td>\n",
       "      <td>15.310003</td>\n",
       "      <td>15.310003</td>\n",
       "    </tr>\n",
       "    <tr>\n",
       "      <th>2016-05-01 00:10:00</th>\n",
       "      <td>60</td>\n",
       "      <td>0</td>\n",
       "      <td>21.150000</td>\n",
       "      <td>38.172500</td>\n",
       "      <td>18.390000</td>\n",
       "      <td>41.500000</td>\n",
       "      <td>23.133333</td>\n",
       "      <td>36.466667</td>\n",
       "      <td>19.70</td>\n",
       "      <td>37.663333</td>\n",
       "      <td>...</td>\n",
       "      <td>19.133333</td>\n",
       "      <td>38.290000</td>\n",
       "      <td>4.283333</td>\n",
       "      <td>763.716667</td>\n",
       "      <td>86.333333</td>\n",
       "      <td>2.166667</td>\n",
       "      <td>38.166667</td>\n",
       "      <td>2.216667</td>\n",
       "      <td>11.240067</td>\n",
       "      <td>11.240067</td>\n",
       "    </tr>\n",
       "    <tr>\n",
       "      <th>2016-05-01 00:20:00</th>\n",
       "      <td>50</td>\n",
       "      <td>0</td>\n",
       "      <td>21.133333</td>\n",
       "      <td>38.090000</td>\n",
       "      <td>18.323333</td>\n",
       "      <td>41.500000</td>\n",
       "      <td>23.200000</td>\n",
       "      <td>36.500000</td>\n",
       "      <td>19.70</td>\n",
       "      <td>37.590000</td>\n",
       "      <td>...</td>\n",
       "      <td>19.133333</td>\n",
       "      <td>38.363333</td>\n",
       "      <td>4.266667</td>\n",
       "      <td>763.733333</td>\n",
       "      <td>86.666667</td>\n",
       "      <td>2.333333</td>\n",
       "      <td>36.333333</td>\n",
       "      <td>2.233333</td>\n",
       "      <td>21.808814</td>\n",
       "      <td>21.808814</td>\n",
       "    </tr>\n",
       "    <tr>\n",
       "      <th>2016-05-01 00:30:00</th>\n",
       "      <td>50</td>\n",
       "      <td>0</td>\n",
       "      <td>21.100000</td>\n",
       "      <td>38.090000</td>\n",
       "      <td>18.290000</td>\n",
       "      <td>41.500000</td>\n",
       "      <td>23.200000</td>\n",
       "      <td>36.500000</td>\n",
       "      <td>19.70</td>\n",
       "      <td>37.500000</td>\n",
       "      <td>...</td>\n",
       "      <td>19.166667</td>\n",
       "      <td>38.500000</td>\n",
       "      <td>4.250000</td>\n",
       "      <td>763.750000</td>\n",
       "      <td>87.000000</td>\n",
       "      <td>2.500000</td>\n",
       "      <td>34.500000</td>\n",
       "      <td>2.250000</td>\n",
       "      <td>47.000534</td>\n",
       "      <td>47.000534</td>\n",
       "    </tr>\n",
       "    <tr>\n",
       "      <th>2016-05-01 00:40:00</th>\n",
       "      <td>60</td>\n",
       "      <td>0</td>\n",
       "      <td>21.100000</td>\n",
       "      <td>38.030000</td>\n",
       "      <td>18.290000</td>\n",
       "      <td>41.560000</td>\n",
       "      <td>23.200000</td>\n",
       "      <td>36.500000</td>\n",
       "      <td>19.70</td>\n",
       "      <td>37.500000</td>\n",
       "      <td>...</td>\n",
       "      <td>19.166667</td>\n",
       "      <td>38.633333</td>\n",
       "      <td>4.233333</td>\n",
       "      <td>763.766667</td>\n",
       "      <td>87.333333</td>\n",
       "      <td>2.666667</td>\n",
       "      <td>32.666667</td>\n",
       "      <td>2.266667</td>\n",
       "      <td>8.059441</td>\n",
       "      <td>8.059441</td>\n",
       "    </tr>\n",
       "    <tr>\n",
       "      <th>...</th>\n",
       "      <td>...</td>\n",
       "      <td>...</td>\n",
       "      <td>...</td>\n",
       "      <td>...</td>\n",
       "      <td>...</td>\n",
       "      <td>...</td>\n",
       "      <td>...</td>\n",
       "      <td>...</td>\n",
       "      <td>...</td>\n",
       "      <td>...</td>\n",
       "      <td>...</td>\n",
       "      <td>...</td>\n",
       "      <td>...</td>\n",
       "      <td>...</td>\n",
       "      <td>...</td>\n",
       "      <td>...</td>\n",
       "      <td>...</td>\n",
       "      <td>...</td>\n",
       "      <td>...</td>\n",
       "      <td>...</td>\n",
       "      <td>...</td>\n",
       "    </tr>\n",
       "    <tr>\n",
       "      <th>2016-05-27 17:20:00</th>\n",
       "      <td>100</td>\n",
       "      <td>0</td>\n",
       "      <td>25.566667</td>\n",
       "      <td>46.560000</td>\n",
       "      <td>25.890000</td>\n",
       "      <td>42.025714</td>\n",
       "      <td>27.200000</td>\n",
       "      <td>41.163333</td>\n",
       "      <td>24.70</td>\n",
       "      <td>45.590000</td>\n",
       "      <td>...</td>\n",
       "      <td>23.200000</td>\n",
       "      <td>46.790000</td>\n",
       "      <td>22.733333</td>\n",
       "      <td>755.200000</td>\n",
       "      <td>55.666667</td>\n",
       "      <td>3.333333</td>\n",
       "      <td>23.666667</td>\n",
       "      <td>13.333333</td>\n",
       "      <td>43.096812</td>\n",
       "      <td>43.096812</td>\n",
       "    </tr>\n",
       "    <tr>\n",
       "      <th>2016-05-27 17:30:00</th>\n",
       "      <td>90</td>\n",
       "      <td>0</td>\n",
       "      <td>25.500000</td>\n",
       "      <td>46.500000</td>\n",
       "      <td>25.754000</td>\n",
       "      <td>42.080000</td>\n",
       "      <td>27.133333</td>\n",
       "      <td>41.223333</td>\n",
       "      <td>24.70</td>\n",
       "      <td>45.590000</td>\n",
       "      <td>...</td>\n",
       "      <td>23.200000</td>\n",
       "      <td>46.790000</td>\n",
       "      <td>22.600000</td>\n",
       "      <td>755.200000</td>\n",
       "      <td>56.000000</td>\n",
       "      <td>3.500000</td>\n",
       "      <td>24.500000</td>\n",
       "      <td>13.300000</td>\n",
       "      <td>49.282940</td>\n",
       "      <td>49.282940</td>\n",
       "    </tr>\n",
       "    <tr>\n",
       "      <th>2016-05-27 17:40:00</th>\n",
       "      <td>270</td>\n",
       "      <td>10</td>\n",
       "      <td>25.500000</td>\n",
       "      <td>46.596667</td>\n",
       "      <td>25.628571</td>\n",
       "      <td>42.768571</td>\n",
       "      <td>27.050000</td>\n",
       "      <td>41.690000</td>\n",
       "      <td>24.70</td>\n",
       "      <td>45.730000</td>\n",
       "      <td>...</td>\n",
       "      <td>23.200000</td>\n",
       "      <td>46.790000</td>\n",
       "      <td>22.466667</td>\n",
       "      <td>755.200000</td>\n",
       "      <td>56.333333</td>\n",
       "      <td>3.666667</td>\n",
       "      <td>25.333333</td>\n",
       "      <td>13.266667</td>\n",
       "      <td>29.199117</td>\n",
       "      <td>29.199117</td>\n",
       "    </tr>\n",
       "    <tr>\n",
       "      <th>2016-05-27 17:50:00</th>\n",
       "      <td>420</td>\n",
       "      <td>10</td>\n",
       "      <td>25.500000</td>\n",
       "      <td>46.990000</td>\n",
       "      <td>25.414000</td>\n",
       "      <td>43.036000</td>\n",
       "      <td>26.890000</td>\n",
       "      <td>41.290000</td>\n",
       "      <td>24.70</td>\n",
       "      <td>45.790000</td>\n",
       "      <td>...</td>\n",
       "      <td>23.200000</td>\n",
       "      <td>46.817500</td>\n",
       "      <td>22.333333</td>\n",
       "      <td>755.200000</td>\n",
       "      <td>56.666667</td>\n",
       "      <td>3.833333</td>\n",
       "      <td>26.166667</td>\n",
       "      <td>13.233333</td>\n",
       "      <td>6.322784</td>\n",
       "      <td>6.322784</td>\n",
       "    </tr>\n",
       "    <tr>\n",
       "      <th>2016-05-27 18:00:00</th>\n",
       "      <td>430</td>\n",
       "      <td>10</td>\n",
       "      <td>25.500000</td>\n",
       "      <td>46.600000</td>\n",
       "      <td>25.264286</td>\n",
       "      <td>42.971429</td>\n",
       "      <td>26.823333</td>\n",
       "      <td>41.156667</td>\n",
       "      <td>24.70</td>\n",
       "      <td>45.963333</td>\n",
       "      <td>...</td>\n",
       "      <td>23.200000</td>\n",
       "      <td>46.845000</td>\n",
       "      <td>22.200000</td>\n",
       "      <td>755.200000</td>\n",
       "      <td>57.000000</td>\n",
       "      <td>4.000000</td>\n",
       "      <td>27.000000</td>\n",
       "      <td>13.200000</td>\n",
       "      <td>34.118851</td>\n",
       "      <td>34.118851</td>\n",
       "    </tr>\n",
       "  </tbody>\n",
       "</table>\n",
       "<p>3853 rows × 28 columns</p>\n",
       "</div>"
      ],
      "text/plain": [
       "                     Appliances  lights         T1       RH_1         T2  \\\n",
       "date                                                                       \n",
       "2016-05-01 00:00:00          50       0  21.200000  38.200000  18.390000   \n",
       "2016-05-01 00:10:00          60       0  21.150000  38.172500  18.390000   \n",
       "2016-05-01 00:20:00          50       0  21.133333  38.090000  18.323333   \n",
       "2016-05-01 00:30:00          50       0  21.100000  38.090000  18.290000   \n",
       "2016-05-01 00:40:00          60       0  21.100000  38.030000  18.290000   \n",
       "...                         ...     ...        ...        ...        ...   \n",
       "2016-05-27 17:20:00         100       0  25.566667  46.560000  25.890000   \n",
       "2016-05-27 17:30:00          90       0  25.500000  46.500000  25.754000   \n",
       "2016-05-27 17:40:00         270      10  25.500000  46.596667  25.628571   \n",
       "2016-05-27 17:50:00         420      10  25.500000  46.990000  25.414000   \n",
       "2016-05-27 18:00:00         430      10  25.500000  46.600000  25.264286   \n",
       "\n",
       "                          RH_2         T3       RH_3     T4       RH_4  ...  \\\n",
       "date                                                                    ...   \n",
       "2016-05-01 00:00:00  41.400000  23.200000  36.400000  19.73  37.730000  ...   \n",
       "2016-05-01 00:10:00  41.500000  23.133333  36.466667  19.70  37.663333  ...   \n",
       "2016-05-01 00:20:00  41.500000  23.200000  36.500000  19.70  37.590000  ...   \n",
       "2016-05-01 00:30:00  41.500000  23.200000  36.500000  19.70  37.500000  ...   \n",
       "2016-05-01 00:40:00  41.560000  23.200000  36.500000  19.70  37.500000  ...   \n",
       "...                        ...        ...        ...    ...        ...  ...   \n",
       "2016-05-27 17:20:00  42.025714  27.200000  41.163333  24.70  45.590000  ...   \n",
       "2016-05-27 17:30:00  42.080000  27.133333  41.223333  24.70  45.590000  ...   \n",
       "2016-05-27 17:40:00  42.768571  27.050000  41.690000  24.70  45.730000  ...   \n",
       "2016-05-27 17:50:00  43.036000  26.890000  41.290000  24.70  45.790000  ...   \n",
       "2016-05-27 18:00:00  42.971429  26.823333  41.156667  24.70  45.963333  ...   \n",
       "\n",
       "                            T9       RH_9      T_out  Press_mm_hg     RH_out  \\\n",
       "date                                                                           \n",
       "2016-05-01 00:00:00  19.166667  38.200000   4.300000   763.700000  86.000000   \n",
       "2016-05-01 00:10:00  19.133333  38.290000   4.283333   763.716667  86.333333   \n",
       "2016-05-01 00:20:00  19.133333  38.363333   4.266667   763.733333  86.666667   \n",
       "2016-05-01 00:30:00  19.166667  38.500000   4.250000   763.750000  87.000000   \n",
       "2016-05-01 00:40:00  19.166667  38.633333   4.233333   763.766667  87.333333   \n",
       "...                        ...        ...        ...          ...        ...   \n",
       "2016-05-27 17:20:00  23.200000  46.790000  22.733333   755.200000  55.666667   \n",
       "2016-05-27 17:30:00  23.200000  46.790000  22.600000   755.200000  56.000000   \n",
       "2016-05-27 17:40:00  23.200000  46.790000  22.466667   755.200000  56.333333   \n",
       "2016-05-27 17:50:00  23.200000  46.817500  22.333333   755.200000  56.666667   \n",
       "2016-05-27 18:00:00  23.200000  46.845000  22.200000   755.200000  57.000000   \n",
       "\n",
       "                     Windspeed  Visibility  Tdewpoint        rv1        rv2  \n",
       "date                                                                         \n",
       "2016-05-01 00:00:00   2.000000   40.000000   2.200000  15.310003  15.310003  \n",
       "2016-05-01 00:10:00   2.166667   38.166667   2.216667  11.240067  11.240067  \n",
       "2016-05-01 00:20:00   2.333333   36.333333   2.233333  21.808814  21.808814  \n",
       "2016-05-01 00:30:00   2.500000   34.500000   2.250000  47.000534  47.000534  \n",
       "2016-05-01 00:40:00   2.666667   32.666667   2.266667   8.059441   8.059441  \n",
       "...                        ...         ...        ...        ...        ...  \n",
       "2016-05-27 17:20:00   3.333333   23.666667  13.333333  43.096812  43.096812  \n",
       "2016-05-27 17:30:00   3.500000   24.500000  13.300000  49.282940  49.282940  \n",
       "2016-05-27 17:40:00   3.666667   25.333333  13.266667  29.199117  29.199117  \n",
       "2016-05-27 17:50:00   3.833333   26.166667  13.233333   6.322784   6.322784  \n",
       "2016-05-27 18:00:00   4.000000   27.000000  13.200000  34.118851  34.118851  \n",
       "\n",
       "[3853 rows x 28 columns]"
      ]
     },
     "execution_count": 21,
     "metadata": {},
     "output_type": "execute_result"
    }
   ],
   "source": [
    "df.loc['2016-05-01':]"
   ]
  },
  {
   "cell_type": "code",
   "execution_count": 23,
   "metadata": {},
   "outputs": [],
   "source": [
    "df = df.loc['2016-05-01':]"
   ]
  },
  {
   "cell_type": "markdown",
   "metadata": {},
   "source": [
    "If we look at the data such as `T1`, we can see there are so many precision for each values.\n",
    "\n",
    "Let's also round off the data, to one decimal point precision, otherwise this may cause issues with our network (we will also normalize the data anyways, so this level of precision isn't useful to us)"
   ]
  },
  {
   "cell_type": "code",
   "execution_count": 24,
   "metadata": {},
   "outputs": [],
   "source": [
    "df = df.round(2)"
   ]
  },
  {
   "cell_type": "code",
   "execution_count": 26,
   "metadata": {},
   "outputs": [
    {
     "data": {
      "text/html": [
       "<div>\n",
       "<style scoped>\n",
       "    .dataframe tbody tr th:only-of-type {\n",
       "        vertical-align: middle;\n",
       "    }\n",
       "\n",
       "    .dataframe tbody tr th {\n",
       "        vertical-align: top;\n",
       "    }\n",
       "\n",
       "    .dataframe thead th {\n",
       "        text-align: right;\n",
       "    }\n",
       "</style>\n",
       "<table border=\"1\" class=\"dataframe\">\n",
       "  <thead>\n",
       "    <tr style=\"text-align: right;\">\n",
       "      <th></th>\n",
       "      <th>Appliances</th>\n",
       "      <th>lights</th>\n",
       "      <th>T1</th>\n",
       "      <th>RH_1</th>\n",
       "      <th>T2</th>\n",
       "      <th>RH_2</th>\n",
       "      <th>T3</th>\n",
       "      <th>RH_3</th>\n",
       "      <th>T4</th>\n",
       "      <th>RH_4</th>\n",
       "      <th>...</th>\n",
       "      <th>T9</th>\n",
       "      <th>RH_9</th>\n",
       "      <th>T_out</th>\n",
       "      <th>Press_mm_hg</th>\n",
       "      <th>RH_out</th>\n",
       "      <th>Windspeed</th>\n",
       "      <th>Visibility</th>\n",
       "      <th>Tdewpoint</th>\n",
       "      <th>rv1</th>\n",
       "      <th>rv2</th>\n",
       "    </tr>\n",
       "    <tr>\n",
       "      <th>date</th>\n",
       "      <th></th>\n",
       "      <th></th>\n",
       "      <th></th>\n",
       "      <th></th>\n",
       "      <th></th>\n",
       "      <th></th>\n",
       "      <th></th>\n",
       "      <th></th>\n",
       "      <th></th>\n",
       "      <th></th>\n",
       "      <th></th>\n",
       "      <th></th>\n",
       "      <th></th>\n",
       "      <th></th>\n",
       "      <th></th>\n",
       "      <th></th>\n",
       "      <th></th>\n",
       "      <th></th>\n",
       "      <th></th>\n",
       "      <th></th>\n",
       "      <th></th>\n",
       "    </tr>\n",
       "  </thead>\n",
       "  <tbody>\n",
       "    <tr>\n",
       "      <th>2016-05-01 00:00:00</th>\n",
       "      <td>50</td>\n",
       "      <td>0</td>\n",
       "      <td>21.20</td>\n",
       "      <td>38.20</td>\n",
       "      <td>18.39</td>\n",
       "      <td>41.4</td>\n",
       "      <td>23.20</td>\n",
       "      <td>36.40</td>\n",
       "      <td>19.73</td>\n",
       "      <td>37.73</td>\n",
       "      <td>...</td>\n",
       "      <td>19.17</td>\n",
       "      <td>38.20</td>\n",
       "      <td>4.30</td>\n",
       "      <td>763.70</td>\n",
       "      <td>86.00</td>\n",
       "      <td>2.00</td>\n",
       "      <td>40.00</td>\n",
       "      <td>2.20</td>\n",
       "      <td>15.31</td>\n",
       "      <td>15.31</td>\n",
       "    </tr>\n",
       "    <tr>\n",
       "      <th>2016-05-01 00:10:00</th>\n",
       "      <td>60</td>\n",
       "      <td>0</td>\n",
       "      <td>21.15</td>\n",
       "      <td>38.17</td>\n",
       "      <td>18.39</td>\n",
       "      <td>41.5</td>\n",
       "      <td>23.13</td>\n",
       "      <td>36.47</td>\n",
       "      <td>19.70</td>\n",
       "      <td>37.66</td>\n",
       "      <td>...</td>\n",
       "      <td>19.13</td>\n",
       "      <td>38.29</td>\n",
       "      <td>4.28</td>\n",
       "      <td>763.72</td>\n",
       "      <td>86.33</td>\n",
       "      <td>2.17</td>\n",
       "      <td>38.17</td>\n",
       "      <td>2.22</td>\n",
       "      <td>11.24</td>\n",
       "      <td>11.24</td>\n",
       "    </tr>\n",
       "  </tbody>\n",
       "</table>\n",
       "<p>2 rows × 28 columns</p>\n",
       "</div>"
      ],
      "text/plain": [
       "                     Appliances  lights     T1   RH_1     T2  RH_2     T3  \\\n",
       "date                                                                        \n",
       "2016-05-01 00:00:00          50       0  21.20  38.20  18.39  41.4  23.20   \n",
       "2016-05-01 00:10:00          60       0  21.15  38.17  18.39  41.5  23.13   \n",
       "\n",
       "                      RH_3     T4   RH_4  ...     T9   RH_9  T_out  \\\n",
       "date                                      ...                        \n",
       "2016-05-01 00:00:00  36.40  19.73  37.73  ...  19.17  38.20   4.30   \n",
       "2016-05-01 00:10:00  36.47  19.70  37.66  ...  19.13  38.29   4.28   \n",
       "\n",
       "                     Press_mm_hg  RH_out  Windspeed  Visibility  Tdewpoint  \\\n",
       "date                                                                         \n",
       "2016-05-01 00:00:00       763.70   86.00       2.00       40.00       2.20   \n",
       "2016-05-01 00:10:00       763.72   86.33       2.17       38.17       2.22   \n",
       "\n",
       "                       rv1    rv2  \n",
       "date                               \n",
       "2016-05-01 00:00:00  15.31  15.31  \n",
       "2016-05-01 00:10:00  11.24  11.24  \n",
       "\n",
       "[2 rows x 28 columns]"
      ]
     },
     "execution_count": 26,
     "metadata": {},
     "output_type": "execute_result"
    }
   ],
   "source": [
    "df.head(2)"
   ]
  },
  {
   "cell_type": "markdown",
   "metadata": {},
   "source": [
    "## Check how batch size for sequence will be looked like.\n",
    "\n",
    "As data are recorded per 10 mintues, we need to calculate how to set up for each batch size."
   ]
  },
  {
   "cell_type": "code",
   "execution_count": 27,
   "metadata": {},
   "outputs": [
    {
     "data": {
      "text/plain": [
       "3853"
      ]
     },
     "execution_count": 27,
     "metadata": {},
     "output_type": "execute_result"
    }
   ],
   "source": [
    "len(df)"
   ]
  },
  {
   "cell_type": "code",
   "execution_count": 28,
   "metadata": {},
   "outputs": [
    {
     "data": {
      "text/plain": [
       "144.0"
      ]
     },
     "execution_count": 28,
     "metadata": {},
     "output_type": "execute_result"
    }
   ],
   "source": [
    "# How many rows per day? We know its every 10 min\n",
    "# total minutes per day / frequency of 10 minutes => total records per day\n",
    "24 * 60 / 10"
   ]
  },
  {
   "cell_type": "code",
   "execution_count": 29,
   "metadata": {},
   "outputs": [],
   "source": [
    "test_days = 2 # we want to use 2 days of data as testing data"
   ]
  },
  {
   "cell_type": "code",
   "execution_count": 32,
   "metadata": {},
   "outputs": [
    {
     "data": {
      "text/plain": [
       "288"
      ]
     },
     "execution_count": 32,
     "metadata": {},
     "output_type": "execute_result"
    }
   ],
   "source": [
    "test_index_starting_point = test_days * 144\n",
    "test_index_starting_point"
   ]
  },
  {
   "cell_type": "code",
   "execution_count": 33,
   "metadata": {},
   "outputs": [],
   "source": [
    "# Actual Splitting\n",
    "# Take note of - minus sign in indexing, we need to leave 288 rows as test data\n",
    "train = df.iloc[:-test_index_starting_point]\n",
    "test = df.iloc[-test_index_starting_point: ]\n"
   ]
  },
  {
   "cell_type": "code",
   "execution_count": 34,
   "metadata": {},
   "outputs": [
    {
     "data": {
      "text/plain": [
       "((3565, 28), (288, 28))"
      ]
     },
     "execution_count": 34,
     "metadata": {},
     "output_type": "execute_result"
    }
   ],
   "source": [
    "train.shape, test.shape"
   ]
  },
  {
   "cell_type": "code",
   "execution_count": 35,
   "metadata": {},
   "outputs": [
    {
     "data": {
      "text/html": [
       "<div>\n",
       "<style scoped>\n",
       "    .dataframe tbody tr th:only-of-type {\n",
       "        vertical-align: middle;\n",
       "    }\n",
       "\n",
       "    .dataframe tbody tr th {\n",
       "        vertical-align: top;\n",
       "    }\n",
       "\n",
       "    .dataframe thead th {\n",
       "        text-align: right;\n",
       "    }\n",
       "</style>\n",
       "<table border=\"1\" class=\"dataframe\">\n",
       "  <thead>\n",
       "    <tr style=\"text-align: right;\">\n",
       "      <th></th>\n",
       "      <th>Appliances</th>\n",
       "      <th>lights</th>\n",
       "      <th>T1</th>\n",
       "      <th>RH_1</th>\n",
       "      <th>T2</th>\n",
       "      <th>RH_2</th>\n",
       "      <th>T3</th>\n",
       "      <th>RH_3</th>\n",
       "      <th>T4</th>\n",
       "      <th>RH_4</th>\n",
       "      <th>...</th>\n",
       "      <th>T9</th>\n",
       "      <th>RH_9</th>\n",
       "      <th>T_out</th>\n",
       "      <th>Press_mm_hg</th>\n",
       "      <th>RH_out</th>\n",
       "      <th>Windspeed</th>\n",
       "      <th>Visibility</th>\n",
       "      <th>Tdewpoint</th>\n",
       "      <th>rv1</th>\n",
       "      <th>rv2</th>\n",
       "    </tr>\n",
       "    <tr>\n",
       "      <th>date</th>\n",
       "      <th></th>\n",
       "      <th></th>\n",
       "      <th></th>\n",
       "      <th></th>\n",
       "      <th></th>\n",
       "      <th></th>\n",
       "      <th></th>\n",
       "      <th></th>\n",
       "      <th></th>\n",
       "      <th></th>\n",
       "      <th></th>\n",
       "      <th></th>\n",
       "      <th></th>\n",
       "      <th></th>\n",
       "      <th></th>\n",
       "      <th></th>\n",
       "      <th></th>\n",
       "      <th></th>\n",
       "      <th></th>\n",
       "      <th></th>\n",
       "      <th></th>\n",
       "    </tr>\n",
       "  </thead>\n",
       "  <tbody>\n",
       "    <tr>\n",
       "      <th>2016-05-25 17:50:00</th>\n",
       "      <td>90</td>\n",
       "      <td>0</td>\n",
       "      <td>24.5</td>\n",
       "      <td>37.63</td>\n",
       "      <td>24.03</td>\n",
       "      <td>34.43</td>\n",
       "      <td>25.1</td>\n",
       "      <td>36.99</td>\n",
       "      <td>24.29</td>\n",
       "      <td>37.93</td>\n",
       "      <td>...</td>\n",
       "      <td>22.0</td>\n",
       "      <td>37.36</td>\n",
       "      <td>16.42</td>\n",
       "      <td>756.12</td>\n",
       "      <td>55.17</td>\n",
       "      <td>1.83</td>\n",
       "      <td>37.83</td>\n",
       "      <td>7.38</td>\n",
       "      <td>39.36</td>\n",
       "      <td>39.36</td>\n",
       "    </tr>\n",
       "    <tr>\n",
       "      <th>2016-05-25 18:00:00</th>\n",
       "      <td>100</td>\n",
       "      <td>0</td>\n",
       "      <td>24.5</td>\n",
       "      <td>38.00</td>\n",
       "      <td>24.00</td>\n",
       "      <td>34.40</td>\n",
       "      <td>25.1</td>\n",
       "      <td>36.73</td>\n",
       "      <td>24.29</td>\n",
       "      <td>37.86</td>\n",
       "      <td>...</td>\n",
       "      <td>22.0</td>\n",
       "      <td>37.36</td>\n",
       "      <td>16.50</td>\n",
       "      <td>756.10</td>\n",
       "      <td>56.00</td>\n",
       "      <td>2.00</td>\n",
       "      <td>40.00</td>\n",
       "      <td>7.70</td>\n",
       "      <td>38.63</td>\n",
       "      <td>38.63</td>\n",
       "    </tr>\n",
       "  </tbody>\n",
       "</table>\n",
       "<p>2 rows × 28 columns</p>\n",
       "</div>"
      ],
      "text/plain": [
       "                     Appliances  lights    T1   RH_1     T2   RH_2    T3  \\\n",
       "date                                                                       \n",
       "2016-05-25 17:50:00          90       0  24.5  37.63  24.03  34.43  25.1   \n",
       "2016-05-25 18:00:00         100       0  24.5  38.00  24.00  34.40  25.1   \n",
       "\n",
       "                      RH_3     T4   RH_4  ...    T9   RH_9  T_out  \\\n",
       "date                                      ...                       \n",
       "2016-05-25 17:50:00  36.99  24.29  37.93  ...  22.0  37.36  16.42   \n",
       "2016-05-25 18:00:00  36.73  24.29  37.86  ...  22.0  37.36  16.50   \n",
       "\n",
       "                     Press_mm_hg  RH_out  Windspeed  Visibility  Tdewpoint  \\\n",
       "date                                                                         \n",
       "2016-05-25 17:50:00       756.12   55.17       1.83       37.83       7.38   \n",
       "2016-05-25 18:00:00       756.10   56.00       2.00       40.00       7.70   \n",
       "\n",
       "                       rv1    rv2  \n",
       "date                               \n",
       "2016-05-25 17:50:00  39.36  39.36  \n",
       "2016-05-25 18:00:00  38.63  38.63  \n",
       "\n",
       "[2 rows x 28 columns]"
      ]
     },
     "execution_count": 35,
     "metadata": {},
     "output_type": "execute_result"
    }
   ],
   "source": [
    "train.tail(2)"
   ]
  },
  {
   "cell_type": "code",
   "execution_count": 36,
   "metadata": {},
   "outputs": [
    {
     "data": {
      "text/html": [
       "<div>\n",
       "<style scoped>\n",
       "    .dataframe tbody tr th:only-of-type {\n",
       "        vertical-align: middle;\n",
       "    }\n",
       "\n",
       "    .dataframe tbody tr th {\n",
       "        vertical-align: top;\n",
       "    }\n",
       "\n",
       "    .dataframe thead th {\n",
       "        text-align: right;\n",
       "    }\n",
       "</style>\n",
       "<table border=\"1\" class=\"dataframe\">\n",
       "  <thead>\n",
       "    <tr style=\"text-align: right;\">\n",
       "      <th></th>\n",
       "      <th>Appliances</th>\n",
       "      <th>lights</th>\n",
       "      <th>T1</th>\n",
       "      <th>RH_1</th>\n",
       "      <th>T2</th>\n",
       "      <th>RH_2</th>\n",
       "      <th>T3</th>\n",
       "      <th>RH_3</th>\n",
       "      <th>T4</th>\n",
       "      <th>RH_4</th>\n",
       "      <th>...</th>\n",
       "      <th>T9</th>\n",
       "      <th>RH_9</th>\n",
       "      <th>T_out</th>\n",
       "      <th>Press_mm_hg</th>\n",
       "      <th>RH_out</th>\n",
       "      <th>Windspeed</th>\n",
       "      <th>Visibility</th>\n",
       "      <th>Tdewpoint</th>\n",
       "      <th>rv1</th>\n",
       "      <th>rv2</th>\n",
       "    </tr>\n",
       "    <tr>\n",
       "      <th>date</th>\n",
       "      <th></th>\n",
       "      <th></th>\n",
       "      <th></th>\n",
       "      <th></th>\n",
       "      <th></th>\n",
       "      <th></th>\n",
       "      <th></th>\n",
       "      <th></th>\n",
       "      <th></th>\n",
       "      <th></th>\n",
       "      <th></th>\n",
       "      <th></th>\n",
       "      <th></th>\n",
       "      <th></th>\n",
       "      <th></th>\n",
       "      <th></th>\n",
       "      <th></th>\n",
       "      <th></th>\n",
       "      <th></th>\n",
       "      <th></th>\n",
       "      <th></th>\n",
       "    </tr>\n",
       "  </thead>\n",
       "  <tbody>\n",
       "    <tr>\n",
       "      <th>2016-05-25 18:10:00</th>\n",
       "      <td>170</td>\n",
       "      <td>0</td>\n",
       "      <td>24.5</td>\n",
       "      <td>37.86</td>\n",
       "      <td>24.00</td>\n",
       "      <td>34.27</td>\n",
       "      <td>25.00</td>\n",
       "      <td>36.70</td>\n",
       "      <td>24.29</td>\n",
       "      <td>37.79</td>\n",
       "      <td>...</td>\n",
       "      <td>22.0</td>\n",
       "      <td>37.23</td>\n",
       "      <td>16.48</td>\n",
       "      <td>756.1</td>\n",
       "      <td>55.83</td>\n",
       "      <td>2.0</td>\n",
       "      <td>38.17</td>\n",
       "      <td>7.62</td>\n",
       "      <td>38.14</td>\n",
       "      <td>38.14</td>\n",
       "    </tr>\n",
       "    <tr>\n",
       "      <th>2016-05-25 18:20:00</th>\n",
       "      <td>310</td>\n",
       "      <td>0</td>\n",
       "      <td>24.5</td>\n",
       "      <td>37.30</td>\n",
       "      <td>23.86</td>\n",
       "      <td>34.33</td>\n",
       "      <td>24.94</td>\n",
       "      <td>36.67</td>\n",
       "      <td>24.29</td>\n",
       "      <td>37.79</td>\n",
       "      <td>...</td>\n",
       "      <td>22.0</td>\n",
       "      <td>37.36</td>\n",
       "      <td>16.47</td>\n",
       "      <td>756.1</td>\n",
       "      <td>55.67</td>\n",
       "      <td>2.0</td>\n",
       "      <td>36.33</td>\n",
       "      <td>7.53</td>\n",
       "      <td>31.16</td>\n",
       "      <td>31.16</td>\n",
       "    </tr>\n",
       "  </tbody>\n",
       "</table>\n",
       "<p>2 rows × 28 columns</p>\n",
       "</div>"
      ],
      "text/plain": [
       "                     Appliances  lights    T1   RH_1     T2   RH_2     T3  \\\n",
       "date                                                                        \n",
       "2016-05-25 18:10:00         170       0  24.5  37.86  24.00  34.27  25.00   \n",
       "2016-05-25 18:20:00         310       0  24.5  37.30  23.86  34.33  24.94   \n",
       "\n",
       "                      RH_3     T4   RH_4  ...    T9   RH_9  T_out  \\\n",
       "date                                      ...                       \n",
       "2016-05-25 18:10:00  36.70  24.29  37.79  ...  22.0  37.23  16.48   \n",
       "2016-05-25 18:20:00  36.67  24.29  37.79  ...  22.0  37.36  16.47   \n",
       "\n",
       "                     Press_mm_hg  RH_out  Windspeed  Visibility  Tdewpoint  \\\n",
       "date                                                                         \n",
       "2016-05-25 18:10:00        756.1   55.83        2.0       38.17       7.62   \n",
       "2016-05-25 18:20:00        756.1   55.67        2.0       36.33       7.53   \n",
       "\n",
       "                       rv1    rv2  \n",
       "date                               \n",
       "2016-05-25 18:10:00  38.14  38.14  \n",
       "2016-05-25 18:20:00  31.16  31.16  \n",
       "\n",
       "[2 rows x 28 columns]"
      ]
     },
     "execution_count": 36,
     "metadata": {},
     "output_type": "execute_result"
    }
   ],
   "source": [
    "test.head(2)"
   ]
  },
  {
   "cell_type": "markdown",
   "metadata": {},
   "source": [
    "---------"
   ]
  },
  {
   "cell_type": "markdown",
   "metadata": {},
   "source": [
    "# Scale Data"
   ]
  },
  {
   "cell_type": "code",
   "execution_count": 37,
   "metadata": {},
   "outputs": [],
   "source": [
    "from sklearn.preprocessing import MinMaxScaler"
   ]
  },
  {
   "cell_type": "code",
   "execution_count": 38,
   "metadata": {},
   "outputs": [],
   "source": [
    "scaler = MinMaxScaler()"
   ]
  },
  {
   "cell_type": "code",
   "execution_count": 39,
   "metadata": {},
   "outputs": [],
   "source": [
    "scaled_train = scaler.fit_transform(train)\n",
    "scaled_test = scaler.transform(test)"
   ]
  },
  {
   "cell_type": "markdown",
   "metadata": {},
   "source": [
    "------"
   ]
  },
  {
   "cell_type": "markdown",
   "metadata": {},
   "source": [
    "# Time Series Generator\n",
    "\n",
    "This class takes in a sequence of data-points gathered at\n",
    "equal intervals, along with time series parameters such as\n",
    "stride, length of history, etc., to produce batches for\n",
    "training/validation.\n",
    "\n",
    "#### Arguments\n",
    "    data: Indexable generator (such as list or Numpy array)\n",
    "        containing consecutive data points (timesteps).\n",
    "        The data should be at 2D, and axis 0 is expected\n",
    "        to be the time dimension.\n",
    "    targets: Targets corresponding to timesteps in `data`.\n",
    "        It should have same length as `data`.\n",
    "    length: Length of the output sequences (in number of timesteps).\n",
    "    sampling_rate: Period between successive individual timesteps\n",
    "        within sequences. For rate `r`, timesteps\n",
    "        `data[i]`, `data[i-r]`, ... `data[i - length]`\n",
    "        are used for create a sample sequence.\n",
    "    stride: Period between successive output sequences.\n",
    "        For stride `s`, consecutive output samples would\n",
    "        be centered around `data[i]`, `data[i+s]`, `data[i+2*s]`, etc.\n",
    "    start_index: Data points earlier than `start_index` will not be used\n",
    "        in the output sequences. This is useful to reserve part of the\n",
    "        data for test or validation.\n",
    "    end_index: Data points later than `end_index` will not be used\n",
    "        in the output sequences. This is useful to reserve part of the\n",
    "        data for test or validation.\n",
    "    shuffle: Whether to shuffle output samples,\n",
    "        or instead draw them in chronological order.\n",
    "    reverse: Boolean: if `true`, timesteps in each output sample will be\n",
    "        in reverse chronological order.\n",
    "    batch_size: Number of timeseries samples in each batch\n",
    "        (except maybe the last one)."
   ]
  },
  {
   "cell_type": "code",
   "execution_count": 44,
   "metadata": {},
   "outputs": [],
   "source": [
    "from tensorflow.keras.preprocessing.sequence import TimeseriesGenerator"
   ]
  },
  {
   "cell_type": "markdown",
   "metadata": {},
   "source": [
    "**NOTE: edit the length so that it makes sense for your time series!**"
   ]
  },
  {
   "cell_type": "code",
   "execution_count": 45,
   "metadata": {},
   "outputs": [],
   "source": [
    "length = 144 # for one day full daily cycle\n",
    "batch_size = 1"
   ]
  },
  {
   "cell_type": "code",
   "execution_count": 47,
   "metadata": {},
   "outputs": [],
   "source": [
    "generator = TimeseriesGenerator(data=scaled_train, targets=scaled_train,\n",
    "                                                   length=length, batch_size=1)"
   ]
  },
  {
   "cell_type": "code",
   "execution_count": 50,
   "metadata": {},
   "outputs": [
    {
     "name": "stdout",
     "output_type": "stream",
     "text": [
      "Given the Array: \n",
      "[0.03896104 0.         0.13798978 ... 0.14319527 0.75185111 0.75185111]\n",
      "\n",
      "Predict this y: \n",
      " [[0.03896104 0.         0.30834753 0.29439421 0.16038492 0.49182278\n",
      "  0.0140056  0.36627907 0.24142857 0.24364791 0.12650602 0.36276002\n",
      "  0.12       0.28205572 0.06169297 0.15759185 0.34582624 0.39585974\n",
      "  0.09259259 0.39649608 0.18852459 0.96052632 0.59210526 0.1\n",
      "  0.58333333 0.13609467 0.4576746  0.4576746 ]]\n"
     ]
    }
   ],
   "source": [
    "# What does the first batch look like?\n",
    "X,y = generator[0]\n",
    "\n",
    "print(f'Given the Array: \\n{X.flatten()}')\n",
    "print(f'\\nPredict this y: \\n {y}')"
   ]
  },
  {
   "cell_type": "markdown",
   "metadata": {},
   "source": [
    "-------"
   ]
  },
  {
   "cell_type": "markdown",
   "metadata": {},
   "source": [
    "# Model Building"
   ]
  },
  {
   "cell_type": "code",
   "execution_count": 49,
   "metadata": {},
   "outputs": [],
   "source": [
    "from tensorflow.keras.models import Sequential\n",
    "from tensorflow.keras.layers import Dense, LSTM"
   ]
  },
  {
   "cell_type": "markdown",
   "metadata": {},
   "source": [
    "### Reflect the mulitvariate features for number of features "
   ]
  },
  {
   "cell_type": "code",
   "execution_count": 51,
   "metadata": {},
   "outputs": [
    {
     "data": {
      "text/plain": [
       "(3565, 28)"
      ]
     },
     "execution_count": 51,
     "metadata": {},
     "output_type": "execute_result"
    }
   ],
   "source": [
    "scaled_train.shape"
   ]
  },
  {
   "cell_type": "code",
   "execution_count": 53,
   "metadata": {},
   "outputs": [
    {
     "data": {
      "text/plain": [
       "28"
      ]
     },
     "execution_count": 53,
     "metadata": {},
     "output_type": "execute_result"
    }
   ],
   "source": [
    "n_features = scaled_train.shape[1]\n",
    "n_features"
   ]
  },
  {
   "cell_type": "code",
   "execution_count": 56,
   "metadata": {},
   "outputs": [],
   "source": [
    "model = Sequential()\n",
    "\n",
    "# Simple RNN Layer\n",
    "model.add(LSTM(100, input_shape=(length, n_features)))\n",
    "\n",
    "# Final Prediction (one neuron per feature)\n",
    "model.add(Dense(n_features))\n",
    "          \n",
    "model.compile(optimizer='adam', loss='mse')"
   ]
  },
  {
   "cell_type": "code",
   "execution_count": 57,
   "metadata": {},
   "outputs": [
    {
     "name": "stdout",
     "output_type": "stream",
     "text": [
      "Model: \"sequential\"\n",
      "_________________________________________________________________\n",
      "Layer (type)                 Output Shape              Param #   \n",
      "=================================================================\n",
      "lstm (LSTM)                  (None, 100)               51600     \n",
      "_________________________________________________________________\n",
      "dense (Dense)                (None, 28)                2828      \n",
      "=================================================================\n",
      "Total params: 54,428\n",
      "Trainable params: 54,428\n",
      "Non-trainable params: 0\n",
      "_________________________________________________________________\n"
     ]
    }
   ],
   "source": [
    "model.summary()"
   ]
  },
  {
   "cell_type": "markdown",
   "metadata": {},
   "source": [
    "-----"
   ]
  },
  {
   "cell_type": "markdown",
   "metadata": {},
   "source": [
    "# EarlyStopping and Validation Generator"
   ]
  },
  {
   "cell_type": "code",
   "execution_count": 59,
   "metadata": {},
   "outputs": [],
   "source": [
    "from tensorflow.keras.callbacks import EarlyStopping"
   ]
  },
  {
   "cell_type": "code",
   "execution_count": 60,
   "metadata": {},
   "outputs": [],
   "source": [
    "early_stopping = EarlyStopping(monitor='val_loss', patience=2, verbose=2)"
   ]
  },
  {
   "cell_type": "code",
   "execution_count": 61,
   "metadata": {},
   "outputs": [],
   "source": [
    "validation_generator = TimeseriesGenerator(data=scaled_test, targets=scaled_test,\n",
    "                                                                      length=length, batch_size=batch_size)"
   ]
  },
  {
   "cell_type": "markdown",
   "metadata": {},
   "source": [
    "-----"
   ]
  },
  {
   "cell_type": "markdown",
   "metadata": {},
   "source": [
    "# Model Training"
   ]
  },
  {
   "cell_type": "markdown",
   "metadata": {},
   "source": [
    "#### As we are now dealing with Multivariate Timeseries and there are a lot of features, we need to consider lower number of epochs to train on."
   ]
  },
  {
   "cell_type": "code",
   "execution_count": 62,
   "metadata": {},
   "outputs": [
    {
     "name": "stdout",
     "output_type": "stream",
     "text": [
      "Epoch 1/2\n",
      "3421/3421 [==============================] - 152s 44ms/step - loss: 0.0116 - val_loss: 0.0112\n",
      "Epoch 2/2\n",
      "3421/3421 [==============================] - 157s 46ms/step - loss: 0.0079 - val_loss: 0.0092\n"
     ]
    },
    {
     "data": {
      "text/plain": [
       "<tensorflow.python.keras.callbacks.History at 0x27ef391dc0>"
      ]
     },
     "execution_count": 62,
     "metadata": {},
     "output_type": "execute_result"
    }
   ],
   "source": [
    "model.fit(generator, \n",
    "             epochs=2,\n",
    "             validation_data = validation_generator,\n",
    "             callbacks=[early_stopping],\n",
    "             verbose=1)"
   ]
  },
  {
   "cell_type": "code",
   "execution_count": 63,
   "metadata": {},
   "outputs": [
    {
     "data": {
      "image/png": "[encoded data removed]",
      "text/plain": [
       "<Figure size 432x288 with 1 Axes>"
      ]
     },
     "metadata": {
      "needs_background": "light"
     },
     "output_type": "display_data"
    }
   ],
   "source": [
    "losses = pd.DataFrame(model.history.history)\n",
    "losses.plot();"
   ]
  },
  {
   "cell_type": "markdown",
   "metadata": {},
   "source": [
    "----------"
   ]
  },
  {
   "cell_type": "markdown",
   "metadata": {},
   "source": [
    "# Evaluate on Test Data"
   ]
  },
  {
   "cell_type": "code",
   "execution_count": 64,
   "metadata": {},
   "outputs": [],
   "source": [
    "test_predictions = []\n",
    "\n",
    "first_evaluation_batch = scaled_train[-length: ]\n",
    "current_batch = first_evaluation_batch.reshape((1, length, n_features))\n",
    "\n",
    "for i in range(len(test)):\n",
    "    current_prediction = model.predict(current_batch)[0]\n",
    "    \n",
    "    test_predictions.append(current_prediction)\n",
    "    \n",
    "    current_batch = np.append(current_batch[:, 1:, :], [[current_prediction]], axis=1)"
   ]
  },
  {
   "cell_type": "markdown",
   "metadata": {},
   "source": [
    "# Inverse Transformations and Compare"
   ]
  },
  {
   "cell_type": "code",
   "execution_count": 65,
   "metadata": {},
   "outputs": [],
   "source": [
    "true_predictions = scaler.inverse_transform(test_predictions)"
   ]
  },
  {
   "cell_type": "code",
   "execution_count": 66,
   "metadata": {},
   "outputs": [],
   "source": [
    "true_predictions_df = pd.DataFrame(data=true_predictions, columns=test.columns)"
   ]
  },
  {
   "cell_type": "code",
   "execution_count": 67,
   "metadata": {},
   "outputs": [
    {
     "data": {
      "text/html": [
       "<div>\n",
       "<style scoped>\n",
       "    .dataframe tbody tr th:only-of-type {\n",
       "        vertical-align: middle;\n",
       "    }\n",
       "\n",
       "    .dataframe tbody tr th {\n",
       "        vertical-align: top;\n",
       "    }\n",
       "\n",
       "    .dataframe thead th {\n",
       "        text-align: right;\n",
       "    }\n",
       "</style>\n",
       "<table border=\"1\" class=\"dataframe\">\n",
       "  <thead>\n",
       "    <tr style=\"text-align: right;\">\n",
       "      <th></th>\n",
       "      <th>Appliances</th>\n",
       "      <th>lights</th>\n",
       "      <th>T1</th>\n",
       "      <th>RH_1</th>\n",
       "      <th>T2</th>\n",
       "      <th>RH_2</th>\n",
       "      <th>T3</th>\n",
       "      <th>RH_3</th>\n",
       "      <th>T4</th>\n",
       "      <th>RH_4</th>\n",
       "      <th>...</th>\n",
       "      <th>T9</th>\n",
       "      <th>RH_9</th>\n",
       "      <th>T_out</th>\n",
       "      <th>Press_mm_hg</th>\n",
       "      <th>RH_out</th>\n",
       "      <th>Windspeed</th>\n",
       "      <th>Visibility</th>\n",
       "      <th>Tdewpoint</th>\n",
       "      <th>rv1</th>\n",
       "      <th>rv2</th>\n",
       "    </tr>\n",
       "  </thead>\n",
       "  <tbody>\n",
       "    <tr>\n",
       "      <th>0</th>\n",
       "      <td>105.513212</td>\n",
       "      <td>3.320100</td>\n",
       "      <td>24.434543</td>\n",
       "      <td>38.031104</td>\n",
       "      <td>24.277211</td>\n",
       "      <td>35.276308</td>\n",
       "      <td>25.079605</td>\n",
       "      <td>37.023892</td>\n",
       "      <td>23.952222</td>\n",
       "      <td>37.022506</td>\n",
       "      <td>...</td>\n",
       "      <td>22.072506</td>\n",
       "      <td>38.023030</td>\n",
       "      <td>16.795420</td>\n",
       "      <td>756.066685</td>\n",
       "      <td>57.700998</td>\n",
       "      <td>2.230769</td>\n",
       "      <td>36.865144</td>\n",
       "      <td>7.569594</td>\n",
       "      <td>23.760460</td>\n",
       "      <td>25.647860</td>\n",
       "    </tr>\n",
       "    <tr>\n",
       "      <th>1</th>\n",
       "      <td>111.244663</td>\n",
       "      <td>4.528213</td>\n",
       "      <td>24.435531</td>\n",
       "      <td>38.172667</td>\n",
       "      <td>24.231856</td>\n",
       "      <td>35.853338</td>\n",
       "      <td>25.067250</td>\n",
       "      <td>37.070755</td>\n",
       "      <td>23.903068</td>\n",
       "      <td>37.137094</td>\n",
       "      <td>...</td>\n",
       "      <td>22.105541</td>\n",
       "      <td>38.337015</td>\n",
       "      <td>17.017254</td>\n",
       "      <td>756.027694</td>\n",
       "      <td>58.103538</td>\n",
       "      <td>2.426337</td>\n",
       "      <td>35.476775</td>\n",
       "      <td>7.815580</td>\n",
       "      <td>24.569094</td>\n",
       "      <td>26.158112</td>\n",
       "    </tr>\n",
       "    <tr>\n",
       "      <th>2</th>\n",
       "      <td>113.741887</td>\n",
       "      <td>5.332637</td>\n",
       "      <td>24.428873</td>\n",
       "      <td>38.248952</td>\n",
       "      <td>24.185040</td>\n",
       "      <td>36.153335</td>\n",
       "      <td>25.045987</td>\n",
       "      <td>37.103238</td>\n",
       "      <td>23.873696</td>\n",
       "      <td>37.235559</td>\n",
       "      <td>...</td>\n",
       "      <td>22.141369</td>\n",
       "      <td>38.639513</td>\n",
       "      <td>17.058367</td>\n",
       "      <td>755.921104</td>\n",
       "      <td>58.251036</td>\n",
       "      <td>2.572959</td>\n",
       "      <td>33.787146</td>\n",
       "      <td>7.942222</td>\n",
       "      <td>25.304431</td>\n",
       "      <td>26.955495</td>\n",
       "    </tr>\n",
       "    <tr>\n",
       "      <th>3</th>\n",
       "      <td>115.238806</td>\n",
       "      <td>5.907305</td>\n",
       "      <td>24.416213</td>\n",
       "      <td>38.305367</td>\n",
       "      <td>24.134080</td>\n",
       "      <td>36.391396</td>\n",
       "      <td>25.012960</td>\n",
       "      <td>37.126821</td>\n",
       "      <td>23.844445</td>\n",
       "      <td>37.307714</td>\n",
       "      <td>...</td>\n",
       "      <td>22.167315</td>\n",
       "      <td>38.912531</td>\n",
       "      <td>17.087300</td>\n",
       "      <td>755.845158</td>\n",
       "      <td>58.390923</td>\n",
       "      <td>2.697640</td>\n",
       "      <td>31.992881</td>\n",
       "      <td>8.011880</td>\n",
       "      <td>25.983915</td>\n",
       "      <td>27.645032</td>\n",
       "    </tr>\n",
       "    <tr>\n",
       "      <th>4</th>\n",
       "      <td>115.925140</td>\n",
       "      <td>6.326018</td>\n",
       "      <td>24.399831</td>\n",
       "      <td>38.343268</td>\n",
       "      <td>24.077480</td>\n",
       "      <td>36.598237</td>\n",
       "      <td>24.970189</td>\n",
       "      <td>37.140067</td>\n",
       "      <td>23.810039</td>\n",
       "      <td>37.360640</td>\n",
       "      <td>...</td>\n",
       "      <td>22.183287</td>\n",
       "      <td>39.152409</td>\n",
       "      <td>17.109250</td>\n",
       "      <td>755.805311</td>\n",
       "      <td>58.549426</td>\n",
       "      <td>2.817962</td>\n",
       "      <td>30.234244</td>\n",
       "      <td>8.048265</td>\n",
       "      <td>26.617117</td>\n",
       "      <td>28.266177</td>\n",
       "    </tr>\n",
       "  </tbody>\n",
       "</table>\n",
       "<p>5 rows × 28 columns</p>\n",
       "</div>"
      ],
      "text/plain": [
       "   Appliances    lights         T1       RH_1         T2       RH_2  \\\n",
       "0  105.513212  3.320100  24.434543  38.031104  24.277211  35.276308   \n",
       "1  111.244663  4.528213  24.435531  38.172667  24.231856  35.853338   \n",
       "2  113.741887  5.332637  24.428873  38.248952  24.185040  36.153335   \n",
       "3  115.238806  5.907305  24.416213  38.305367  24.134080  36.391396   \n",
       "4  115.925140  6.326018  24.399831  38.343268  24.077480  36.598237   \n",
       "\n",
       "          T3       RH_3         T4       RH_4  ...         T9       RH_9  \\\n",
       "0  25.079605  37.023892  23.952222  37.022506  ...  22.072506  38.023030   \n",
       "1  25.067250  37.070755  23.903068  37.137094  ...  22.105541  38.337015   \n",
       "2  25.045987  37.103238  23.873696  37.235559  ...  22.141369  38.639513   \n",
       "3  25.012960  37.126821  23.844445  37.307714  ...  22.167315  38.912531   \n",
       "4  24.970189  37.140067  23.810039  37.360640  ...  22.183287  39.152409   \n",
       "\n",
       "       T_out  Press_mm_hg     RH_out  Windspeed  Visibility  Tdewpoint  \\\n",
       "0  16.795420   756.066685  57.700998   2.230769   36.865144   7.569594   \n",
       "1  17.017254   756.027694  58.103538   2.426337   35.476775   7.815580   \n",
       "2  17.058367   755.921104  58.251036   2.572959   33.787146   7.942222   \n",
       "3  17.087300   755.845158  58.390923   2.697640   31.992881   8.011880   \n",
       "4  17.109250   755.805311  58.549426   2.817962   30.234244   8.048265   \n",
       "\n",
       "         rv1        rv2  \n",
       "0  23.760460  25.647860  \n",
       "1  24.569094  26.158112  \n",
       "2  25.304431  26.955495  \n",
       "3  25.983915  27.645032  \n",
       "4  26.617117  28.266177  \n",
       "\n",
       "[5 rows x 28 columns]"
      ]
     },
     "execution_count": 67,
     "metadata": {},
     "output_type": "execute_result"
    }
   ],
   "source": [
    "true_predictions_df.head()"
   ]
  },
  {
   "cell_type": "markdown",
   "metadata": {},
   "source": [
    "# Evaluation"
   ]
  },
  {
   "cell_type": "markdown",
   "metadata": {},
   "source": [
    "+ If we want to evaluate our model predictions, we can compare RMSE on features that we consider important.\n",
    "+ Or if we want the RMSE as a whole for every features, we can cosider weight average\n",
    "+ However we need to take note that every features scale are different, we might want to use scaled version values to compare againt each other."
   ]
  },
  {
   "cell_type": "markdown",
   "metadata": {},
   "source": [
    "# Save Model"
   ]
  },
  {
   "cell_type": "code",
   "execution_count": 68,
   "metadata": {},
   "outputs": [],
   "source": [
    "from tensorflow.keras.models import load_model"
   ]
  },
  {
   "cell_type": "code",
   "execution_count": 69,
   "metadata": {},
   "outputs": [],
   "source": [
    "model.save('../Models/multivariate.h5')"
   ]
  }
 ],
 "metadata": {
  "kernelspec": {
   "display_name": "venv-datascience",
   "language": "python",
   "name": "venv-datascience"
  },
  "language_info": {
   "codemirror_mode": {
    "name": "ipython",
    "version": 3
   },
   "file_extension": ".py",
   "mimetype": "text/x-python",
   "name": "python",
   "nbconvert_exporter": "python",
   "pygments_lexer": "ipython3",
   "version": "3.8.5"
  }
 },
 "nbformat": 4,
 "nbformat_minor": 4
}
