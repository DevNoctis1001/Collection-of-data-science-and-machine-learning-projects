{
 "cells": [
  {
   "cell_type": "markdown",
   "metadata": {},
   "source": [
    "# Functions\n",
    "\n",
    "+ <a href=\"#functions\">1.Built In Functions</a>\n",
    "    + <a href=\"#string\">String Functions</a>\n",
    "    + <a href=\"#numeric\">Numeric Functions</a>\n",
    "    + <a href=\"#date\">Date Functions</a>\n",
    "+ <a href=\"#dates\">2.Working with Dates</a>\n",
    "+ <a href=\"#user\">3.User Defined Functions</a>\n",
    "+ <a href=\"#join\">4.Working with Joins</a>\n",
    "+ <a href=\"#challenges\">5.Challenges</a>\n",
    "----"
   ]
  },
  {
   "cell_type": "markdown",
   "metadata": {},
   "source": [
    "# Set up"
   ]
  },
  {
   "cell_type": "code",
   "execution_count": 1,
   "metadata": {},
   "outputs": [],
   "source": [
    "from pyspark.sql import SparkSession\n",
    "spark = SparkSession.builder.getOrCreate()"
   ]
  },
  {
   "cell_type": "code",
   "execution_count": 2,
   "metadata": {},
   "outputs": [
    {
     "data": {
      "text/html": [
       "\n",
       "            <div>\n",
       "                <p><b>SparkSession - in-memory</b></p>\n",
       "                \n",
       "        <div>\n",
       "            <p><b>SparkContext</b></p>\n",
       "\n",
       "            <p><a href=\"http://Lenovo-PC:4040\">Spark UI</a></p>\n",
       "\n",
       "            <dl>\n",
       "              <dt>Version</dt>\n",
       "                <dd><code>v3.0.1</code></dd>\n",
       "              <dt>Master</dt>\n",
       "                <dd><code>local[*]</code></dd>\n",
       "              <dt>AppName</dt>\n",
       "                <dd><code>pyspark-shell</code></dd>\n",
       "            </dl>\n",
       "        </div>\n",
       "        \n",
       "            </div>\n",
       "        "
      ],
      "text/plain": [
       "<pyspark.sql.session.SparkSession at 0x72061feb20>"
      ]
     },
     "execution_count": 2,
     "metadata": {},
     "output_type": "execute_result"
    }
   ],
   "source": [
    "spark"
   ]
  },
  {
   "cell_type": "markdown",
   "metadata": {},
   "source": [
    "---"
   ]
  },
  {
   "cell_type": "code",
   "execution_count": 3,
   "metadata": {},
   "outputs": [],
   "source": [
    "# preprocessed crimes data\n",
    "from pyspark.sql.functions import to_timestamp, col, lit"
   ]
  },
  {
   "cell_type": "code",
   "execution_count": 4,
   "metadata": {},
   "outputs": [
    {
     "name": "stdout",
     "output_type": "stream",
     "text": [
      "+--------+-----------+-------------------+--------------------+----+------------+--------------------+--------------------+------+--------+----+--------+----+--------------+--------+------------+------------+----+--------------------+------------+-------------+--------------------+\n",
      "|      ID|Case Number|               Date|               Block|IUCR|Primary Type|         Description|Location Description|Arrest|Domestic|Beat|District|Ward|Community Area|FBI Code|X Coordinate|Y Coordinate|Year|          Updated On|    Latitude|    Longitude|            Location|\n",
      "+--------+-----------+-------------------+--------------------+----+------------+--------------------+--------------------+------+--------+----+--------+----+--------------+--------+------------+------------+----+--------------------+------------+-------------+--------------------+\n",
      "|10224738|   HY411648|2015-09-05 13:30:00|     043XX S WOOD ST|0486|     BATTERY|DOMESTIC BATTERY ...|           RESIDENCE| false|    true|0924|     009|  12|            61|     08B|     1165074|     1875917|2015|02/10/2018 03:50:...|41.815117282|-87.669999562|(41.815117282, -8...|\n",
      "|10224739|   HY411615|2015-09-04 11:30:00| 008XX N CENTRAL AVE|0870|       THEFT|      POCKET-PICKING|             CTA BUS| false|   false|1511|     015|  29|            25|      06|     1138875|     1904869|2015|02/10/2018 03:50:...|41.895080471|-87.765400451|(41.895080471, -8...|\n",
      "|11646166|   JC213529|2018-09-01 00:01:00|082XX S INGLESIDE...|0810|       THEFT|           OVER $500|           RESIDENCE| false|    true|0631|     006|   8|            44|      06|        null|        null|2018|04/06/2019 04:04:...|        null|         null|                null|\n",
      "|10224740|   HY411595|2015-09-05 12:45:00|   035XX W BARRY AVE|2023|   NARCOTICS|POSS: HEROIN(BRN/...|            SIDEWALK|  true|   false|1412|     014|  35|            21|      18|     1152037|     1920384|2015|02/10/2018 03:50:...|41.937405765|-87.716649687|(41.937405765, -8...|\n",
      "|10224741|   HY411610|2015-09-05 13:00:00| 0000X N LARAMIE AVE|0560|     ASSAULT|              SIMPLE|           APARTMENT| false|    true|1522|     015|  28|            25|     08A|     1141706|     1900086|2015|02/10/2018 03:50:...|41.881903443|-87.755121152|(41.881903443, -8...|\n",
      "+--------+-----------+-------------------+--------------------+----+------------+--------------------+--------------------+------+--------+----+--------+----+--------------+--------+------------+------------+----+--------------------+------------+-------------+--------------------+\n",
      "only showing top 5 rows\n",
      "\n"
     ]
    }
   ],
   "source": [
    "rc = spark.read.csv('../data/chicago_crimes.csv', header=True).withColumn('Date', to_timestamp(col('Date'),'MM/dd/yyyy hh:mm:ss a')).filter(col('Date') <= lit('2018-11-11'))\n",
    "rc.show(5)"
   ]
  },
  {
   "cell_type": "markdown",
   "metadata": {},
   "source": [
    "------"
   ]
  },
  {
   "cell_type": "markdown",
   "metadata": {},
   "source": [
    "<p id=\"functions\"></p>\n",
    "\n",
    "# 1) Built In Functions"
   ]
  },
  {
   "cell_type": "code",
   "execution_count": 5,
   "metadata": {},
   "outputs": [],
   "source": [
    "from pyspark.sql import functions"
   ]
  },
  {
   "cell_type": "code",
   "execution_count": 8,
   "metadata": {},
   "outputs": [
    {
     "data": {
      "text/plain": [
       "['Column',\n",
       " 'DataFrame',\n",
       " 'DataType',\n",
       " 'PandasUDFType',\n",
       " 'PythonEvalType',\n",
       " 'SparkContext',\n",
       " 'StringType',\n",
       " 'UserDefinedFunction',\n",
       " '__all__',\n",
       " '__builtins__',\n",
       " '__cached__',\n",
       " '__doc__',\n",
       " '__file__',\n",
       " '__loader__',\n",
       " '__name__',\n",
       " '__package__',\n",
       " '__spec__',\n",
       " '_binary_mathfunctions',\n",
       " '_collect_list_doc',\n",
       " '_collect_set_doc',\n",
       " '_create_binary_mathfunction',\n",
       " '_create_column_from_literal',\n",
       " '_create_column_from_name',\n",
       " '_create_function',\n",
       " '_create_function_over_column',\n",
       " '_create_udf',\n",
       " '_create_window_function',\n",
       " '_functions',\n",
       " '_functions_1_4_over_column',\n",
       " '_functions_1_6_over_column',\n",
       " '_functions_2_1_over_column',\n",
       " '_functions_2_4',\n",
       " '_functions_deprecated',\n",
       " '_functions_over_column',\n",
       " '_lit_doc',\n",
       " '_message',\n",
       " '_options_to_str',\n",
       " '_string_functions',\n",
       " '_test',\n",
       " '_to_java_column',\n",
       " '_to_seq',\n",
       " '_window_functions',\n",
       " '_wrap_deprecated_function',\n",
       " 'abs',\n",
       " 'acos',\n",
       " 'add_months',\n",
       " 'approxCountDistinct',\n",
       " 'approx_count_distinct',\n",
       " 'array',\n",
       " 'array_contains',\n",
       " 'array_distinct',\n",
       " 'array_except',\n",
       " 'array_intersect',\n",
       " 'array_join',\n",
       " 'array_max',\n",
       " 'array_min',\n",
       " 'array_position',\n",
       " 'array_remove',\n",
       " 'array_repeat',\n",
       " 'array_sort',\n",
       " 'array_union',\n",
       " 'arrays_overlap',\n",
       " 'arrays_zip',\n",
       " 'asc',\n",
       " 'asc_nulls_first',\n",
       " 'asc_nulls_last',\n",
       " 'ascii',\n",
       " 'asin',\n",
       " 'atan',\n",
       " 'atan2',\n",
       " 'avg',\n",
       " 'base64',\n",
       " 'basestring',\n",
       " 'bin',\n",
       " 'bitwiseNOT',\n",
       " 'blacklist',\n",
       " 'broadcast',\n",
       " 'bround',\n",
       " 'cbrt',\n",
       " 'ceil',\n",
       " 'coalesce',\n",
       " 'col',\n",
       " 'collect_list',\n",
       " 'collect_set',\n",
       " 'column',\n",
       " 'concat',\n",
       " 'concat_ws',\n",
       " 'conv',\n",
       " 'corr',\n",
       " 'cos',\n",
       " 'cosh',\n",
       " 'count',\n",
       " 'countDistinct',\n",
       " 'covar_pop',\n",
       " 'covar_samp',\n",
       " 'crc32',\n",
       " 'create_map',\n",
       " 'cume_dist',\n",
       " 'current_date',\n",
       " 'current_timestamp',\n",
       " 'date_add',\n",
       " 'date_format',\n",
       " 'date_sub',\n",
       " 'date_trunc',\n",
       " 'datediff',\n",
       " 'dayofmonth',\n",
       " 'dayofweek',\n",
       " 'dayofyear',\n",
       " 'decode',\n",
       " 'degrees',\n",
       " 'dense_rank',\n",
       " 'desc',\n",
       " 'desc_nulls_first',\n",
       " 'desc_nulls_last',\n",
       " 'element_at',\n",
       " 'encode',\n",
       " 'exp',\n",
       " 'explode',\n",
       " 'explode_outer',\n",
       " 'expm1',\n",
       " 'expr',\n",
       " 'factorial',\n",
       " 'first',\n",
       " 'flatten',\n",
       " 'floor',\n",
       " 'format_number',\n",
       " 'format_string',\n",
       " 'from_csv',\n",
       " 'from_json',\n",
       " 'from_unixtime',\n",
       " 'from_utc_timestamp',\n",
       " 'functools',\n",
       " 'get_json_object',\n",
       " 'greatest',\n",
       " 'grouping',\n",
       " 'grouping_id',\n",
       " 'hash',\n",
       " 'hex',\n",
       " 'hour',\n",
       " 'hypot',\n",
       " 'ignore_unicode_prefix',\n",
       " 'initcap',\n",
       " 'input_file_name',\n",
       " 'instr',\n",
       " 'isnan',\n",
       " 'isnull',\n",
       " 'json_tuple',\n",
       " 'kurtosis',\n",
       " 'lag',\n",
       " 'last',\n",
       " 'last_day',\n",
       " 'lead',\n",
       " 'least',\n",
       " 'length',\n",
       " 'levenshtein',\n",
       " 'lit',\n",
       " 'locate',\n",
       " 'log',\n",
       " 'log10',\n",
       " 'log1p',\n",
       " 'log2',\n",
       " 'lower',\n",
       " 'lpad',\n",
       " 'ltrim',\n",
       " 'map_concat',\n",
       " 'map_entries',\n",
       " 'map_from_arrays',\n",
       " 'map_from_entries',\n",
       " 'map_keys',\n",
       " 'map_values',\n",
       " 'max',\n",
       " 'md5',\n",
       " 'mean',\n",
       " 'min',\n",
       " 'minute',\n",
       " 'monotonically_increasing_id',\n",
       " 'month',\n",
       " 'months_between',\n",
       " 'nanvl',\n",
       " 'next_day',\n",
       " 'ntile',\n",
       " 'overlay',\n",
       " 'pandas_udf',\n",
       " 'percent_rank',\n",
       " 'posexplode',\n",
       " 'posexplode_outer',\n",
       " 'pow',\n",
       " 'quarter',\n",
       " 'radians',\n",
       " 'rand',\n",
       " 'randn',\n",
       " 'rank',\n",
       " 'regexp_extract',\n",
       " 'regexp_replace',\n",
       " 'repeat',\n",
       " 'reverse',\n",
       " 'rint',\n",
       " 'round',\n",
       " 'row_number',\n",
       " 'rpad',\n",
       " 'rtrim',\n",
       " 'schema_of_csv',\n",
       " 'schema_of_json',\n",
       " 'second',\n",
       " 'sequence',\n",
       " 'sha1',\n",
       " 'sha2',\n",
       " 'shiftLeft',\n",
       " 'shiftRight',\n",
       " 'shiftRightUnsigned',\n",
       " 'shuffle',\n",
       " 'signum',\n",
       " 'sin',\n",
       " 'since',\n",
       " 'sinh',\n",
       " 'size',\n",
       " 'skewness',\n",
       " 'slice',\n",
       " 'sort_array',\n",
       " 'soundex',\n",
       " 'spark_partition_id',\n",
       " 'split',\n",
       " 'sqrt',\n",
       " 'stddev',\n",
       " 'stddev_pop',\n",
       " 'stddev_samp',\n",
       " 'struct',\n",
       " 'substring',\n",
       " 'substring_index',\n",
       " 'sum',\n",
       " 'sumDistinct',\n",
       " 'sys',\n",
       " 'tan',\n",
       " 'tanh',\n",
       " 'toDegrees',\n",
       " 'toRadians',\n",
       " 'to_csv',\n",
       " 'to_date',\n",
       " 'to_json',\n",
       " 'to_str',\n",
       " 'to_timestamp',\n",
       " 'to_utc_timestamp',\n",
       " 'translate',\n",
       " 'trim',\n",
       " 'trunc',\n",
       " 'udf',\n",
       " 'unbase64',\n",
       " 'unhex',\n",
       " 'unix_timestamp',\n",
       " 'upper',\n",
       " 'var_pop',\n",
       " 'var_samp',\n",
       " 'variance',\n",
       " 'warnings',\n",
       " 'weekofyear',\n",
       " 'when',\n",
       " 'window',\n",
       " 'xxhash64',\n",
       " 'year']"
      ]
     },
     "execution_count": 8,
     "metadata": {},
     "output_type": "execute_result"
    }
   ],
   "source": [
    "# all available buit in functions\n",
    "dir(functions)"
   ]
  },
  {
   "cell_type": "markdown",
   "metadata": {},
   "source": [
    "-------"
   ]
  },
  {
   "cell_type": "markdown",
   "metadata": {},
   "source": [
    "<p id=\"string\"></p>\n",
    "\n",
    "## String Functions"
   ]
  },
  {
   "cell_type": "markdown",
   "metadata": {},
   "source": [
    "### Display the Primary Type column in lower and upper characters, and the first 4 characters of the column"
   ]
  },
  {
   "cell_type": "code",
   "execution_count": 11,
   "metadata": {},
   "outputs": [],
   "source": [
    "from pyspark.sql.functions import lower, upper, substring"
   ]
  },
  {
   "cell_type": "markdown",
   "metadata": {},
   "source": [
    "**NOTE: for substring Position is 1 based, not 0 based (not start from 0 like other languages)**"
   ]
  },
  {
   "cell_type": "code",
   "execution_count": 12,
   "metadata": {},
   "outputs": [
    {
     "name": "stdout",
     "output_type": "stream",
     "text": [
      "Help on function substring in module pyspark.sql.functions:\n",
      "\n",
      "substring(str, pos, len)\n",
      "    Substring starts at `pos` and is of length `len` when str is String type or\n",
      "    returns the slice of byte array that starts at `pos` in byte and is of length `len`\n",
      "    when str is Binary type.\n",
      "    \n",
      "    .. note:: The position is not zero based, but 1 based index.\n",
      "    \n",
      "    >>> df = spark.createDataFrame([('abcd',)], ['s',])\n",
      "    >>> df.select(substring(df.s, 1, 2).alias('s')).collect()\n",
      "    [Row(s='ab')]\n",
      "    \n",
      "    .. versionadded:: 1.5\n",
      "\n"
     ]
    }
   ],
   "source": [
    "# help(substring)"
   ]
  },
  {
   "cell_type": "code",
   "execution_count": 14,
   "metadata": {},
   "outputs": [
    {
     "name": "stdout",
     "output_type": "stream",
     "text": [
      "root\n",
      " |-- ID: string (nullable = true)\n",
      " |-- Case Number: string (nullable = true)\n",
      " |-- Date: timestamp (nullable = true)\n",
      " |-- Block: string (nullable = true)\n",
      " |-- IUCR: string (nullable = true)\n",
      " |-- Primary Type: string (nullable = true)\n",
      " |-- Description: string (nullable = true)\n",
      " |-- Location Description: string (nullable = true)\n",
      " |-- Arrest: string (nullable = true)\n",
      " |-- Domestic: string (nullable = true)\n",
      " |-- Beat: string (nullable = true)\n",
      " |-- District: string (nullable = true)\n",
      " |-- Ward: string (nullable = true)\n",
      " |-- Community Area: string (nullable = true)\n",
      " |-- FBI Code: string (nullable = true)\n",
      " |-- X Coordinate: string (nullable = true)\n",
      " |-- Y Coordinate: string (nullable = true)\n",
      " |-- Year: string (nullable = true)\n",
      " |-- Updated On: string (nullable = true)\n",
      " |-- Latitude: string (nullable = true)\n",
      " |-- Longitude: string (nullable = true)\n",
      " |-- Location: string (nullable = true)\n",
      "\n"
     ]
    }
   ],
   "source": [
    "# first, check Primary Type column is String or not\n",
    "rc.printSchema()"
   ]
  },
  {
   "cell_type": "code",
   "execution_count": 24,
   "metadata": {},
   "outputs": [
    {
     "name": "stdout",
     "output_type": "stream",
     "text": [
      "+-------------------+-------------------+-----------------------------+\n",
      "|lower(Primary Type)|upper(Primary Type)|substring(Primary Type, 1, 4)|\n",
      "+-------------------+-------------------+-----------------------------+\n",
      "|            battery|            BATTERY|                         BATT|\n",
      "|              theft|              THEFT|                         THEF|\n",
      "|              theft|              THEFT|                         THEF|\n",
      "|          narcotics|          NARCOTICS|                         NARC|\n",
      "|            assault|            ASSAULT|                         ASSA|\n",
      "+-------------------+-------------------+-----------------------------+\n",
      "only showing top 5 rows\n",
      "\n"
     ]
    }
   ],
   "source": [
    "rc.select(lower(col('Primary Type')), upper(col('Primary Type')), substring(col('Primary Type'), 1, 4)).show(5)"
   ]
  },
  {
   "cell_type": "markdown",
   "metadata": {},
   "source": [
    "------"
   ]
  },
  {
   "cell_type": "markdown",
   "metadata": {},
   "source": [
    "<p id=\"numeric\"></p>\n",
    "\n",
    "## Numeric Functions"
   ]
  },
  {
   "cell_type": "markdown",
   "metadata": {},
   "source": [
    "### Show the oldest date and most recent date"
   ]
  },
  {
   "cell_type": "code",
   "execution_count": 25,
   "metadata": {},
   "outputs": [],
   "source": [
    "from pyspark.sql.functions import min, max"
   ]
  },
  {
   "cell_type": "code",
   "execution_count": 27,
   "metadata": {},
   "outputs": [
    {
     "name": "stdout",
     "output_type": "stream",
     "text": [
      "+-------------------+\n",
      "|          min(Date)|\n",
      "+-------------------+\n",
      "|2001-01-01 00:00:00|\n",
      "+-------------------+\n",
      "\n"
     ]
    }
   ],
   "source": [
    "rc.select(min(col('Date'))).show(1)"
   ]
  },
  {
   "cell_type": "code",
   "execution_count": 28,
   "metadata": {},
   "outputs": [
    {
     "name": "stdout",
     "output_type": "stream",
     "text": [
      "+-------------------+\n",
      "|          max(Date)|\n",
      "+-------------------+\n",
      "|2018-11-11 00:00:00|\n",
      "+-------------------+\n",
      "\n"
     ]
    }
   ],
   "source": [
    "rc.select(max(col('Date'))).show(1)"
   ]
  },
  {
   "cell_type": "markdown",
   "metadata": {},
   "source": [
    "-------"
   ]
  },
  {
   "cell_type": "markdown",
   "metadata": {},
   "source": [
    "### What is 3 days earlier than the oldest date and 3 days later than the most recent date?"
   ]
  },
  {
   "cell_type": "code",
   "execution_count": 29,
   "metadata": {},
   "outputs": [],
   "source": [
    "from pyspark.sql.functions import date_add, date_sub"
   ]
  },
  {
   "cell_type": "code",
   "execution_count": 30,
   "metadata": {},
   "outputs": [
    {
     "name": "stdout",
     "output_type": "stream",
     "text": [
      "Help on function date_add in module pyspark.sql.functions:\n",
      "\n",
      "date_add(start, days)\n",
      "    Returns the date that is `days` days after `start`\n",
      "    \n",
      "    >>> df = spark.createDataFrame([('2015-04-08',)], ['dt'])\n",
      "    >>> df.select(date_add(df.dt, 1).alias('next_date')).collect()\n",
      "    [Row(next_date=datetime.date(2015, 4, 9))]\n",
      "    \n",
      "    .. versionadded:: 1.5\n",
      "\n"
     ]
    }
   ],
   "source": [
    "help(date_add)"
   ]
  },
  {
   "cell_type": "code",
   "execution_count": null,
   "metadata": {},
   "outputs": [],
   "source": [
    "# 3 days earlier than the oldest date\n",
    "rc.select(date_sub(min(col('Date')), 3)).show(1)"
   ]
  },
  {
   "cell_type": "code",
   "execution_count": null,
   "metadata": {},
   "outputs": [],
   "source": [
    "# 3 days later than the recent date\n",
    "rc.select(date_add(max(col('Date')), 3)).show(1)"
   ]
  },
  {
   "cell_type": "markdown",
   "metadata": {},
   "source": [
    "------"
   ]
  },
  {
   "cell_type": "markdown",
   "metadata": {},
   "source": [
    "<p id=\"dates\"></p>\n",
    "\n",
    "# 2) Working with Dates"
   ]
  },
  {
   "cell_type": "code",
   "execution_count": 5,
   "metadata": {},
   "outputs": [],
   "source": [
    "from pyspark.sql.functions import to_date, to_timestamp, lit"
   ]
  },
  {
   "cell_type": "markdown",
   "metadata": {},
   "source": [
    "### Parsing different strings to Date and Timestamp"
   ]
  },
  {
   "cell_type": "markdown",
   "metadata": {},
   "source": [
    "### 2019-12-25 13:30:00"
   ]
  },
  {
   "cell_type": "code",
   "execution_count": 7,
   "metadata": {},
   "outputs": [],
   "source": [
    "df = spark.createDataFrame([('2019-12-25 13:30:00', )], ['Christmas']) #value, column name"
   ]
  },
  {
   "cell_type": "code",
   "execution_count": 8,
   "metadata": {},
   "outputs": [
    {
     "name": "stdout",
     "output_type": "stream",
     "text": [
      "+-------------------+\n",
      "|          Christmas|\n",
      "+-------------------+\n",
      "|2019-12-25 13:30:00|\n",
      "+-------------------+\n",
      "\n"
     ]
    }
   ],
   "source": [
    "df.show(1)"
   ]
  },
  {
   "cell_type": "code",
   "execution_count": 10,
   "metadata": {},
   "outputs": [
    {
     "name": "stdout",
     "output_type": "stream",
     "text": [
      "+-------------------------------------------+\n",
      "|to_date(`Christmas`, 'yyyy-MM-dd HH:mm:ss')|\n",
      "+-------------------------------------------+\n",
      "|                                 2019-12-25|\n",
      "+-------------------------------------------+\n",
      "\n"
     ]
    }
   ],
   "source": [
    "# parse to date and timestamp\n",
    "df.select(to_date(col('Christmas'), 'yyyy-MM-dd HH:mm:ss')).show()"
   ]
  },
  {
   "cell_type": "code",
   "execution_count": 11,
   "metadata": {},
   "outputs": [
    {
     "name": "stdout",
     "output_type": "stream",
     "text": [
      "+------------------------------------------------+\n",
      "|to_timestamp(`Christmas`, 'yyyy-MM-dd HH:mm:ss')|\n",
      "+------------------------------------------------+\n",
      "|                             2019-12-25 13:30:00|\n",
      "+------------------------------------------------+\n",
      "\n"
     ]
    }
   ],
   "source": [
    "df.select(to_timestamp(col('Christmas'),  'yyyy-MM-dd HH:mm:ss')).show()"
   ]
  },
  {
   "cell_type": "markdown",
   "metadata": {},
   "source": [
    "### 25/Dec/2019 13:30:00"
   ]
  },
  {
   "cell_type": "code",
   "execution_count": 13,
   "metadata": {},
   "outputs": [],
   "source": [
    "df = spark.createDataFrame([('25/Dec/2019 13:30:00', )], ['Christmas'])"
   ]
  },
  {
   "cell_type": "code",
   "execution_count": 14,
   "metadata": {},
   "outputs": [
    {
     "name": "stdout",
     "output_type": "stream",
     "text": [
      "+--------------------+\n",
      "|           Christmas|\n",
      "+--------------------+\n",
      "|25/Dec/2019 13:30:00|\n",
      "+--------------------+\n",
      "\n"
     ]
    }
   ],
   "source": [
    "df.show()"
   ]
  },
  {
   "cell_type": "code",
   "execution_count": 15,
   "metadata": {},
   "outputs": [],
   "source": [
    "# parse to date and timestamp"
   ]
  },
  {
   "cell_type": "code",
   "execution_count": 18,
   "metadata": {},
   "outputs": [
    {
     "name": "stdout",
     "output_type": "stream",
     "text": [
      "+--------------------------------------------+\n",
      "|to_date(`Christmas`, 'dd/MMM/yyyy HH:mm:ss')|\n",
      "+--------------------------------------------+\n",
      "|                                  2019-12-25|\n",
      "+--------------------------------------------+\n",
      "\n"
     ]
    }
   ],
   "source": [
    "df.select(to_date(col('Christmas'), 'dd/MMM/yyyy HH:mm:ss')).show()"
   ]
  },
  {
   "cell_type": "code",
   "execution_count": 19,
   "metadata": {},
   "outputs": [
    {
     "name": "stdout",
     "output_type": "stream",
     "text": [
      "+-------------------------------------------------+\n",
      "|to_timestamp(`Christmas`, 'dd/MMM/yyyy HH:mm:ss')|\n",
      "+-------------------------------------------------+\n",
      "|                              2019-12-25 13:30:00|\n",
      "+-------------------------------------------------+\n",
      "\n"
     ]
    }
   ],
   "source": [
    "df.select(to_timestamp(col('Christmas'), 'dd/MMM/yyyy HH:mm:ss')).show()"
   ]
  },
  {
   "cell_type": "markdown",
   "metadata": {},
   "source": [
    "### 12/25/2019 01:30:00 PM"
   ]
  },
  {
   "cell_type": "code",
   "execution_count": 23,
   "metadata": {},
   "outputs": [
    {
     "name": "stdout",
     "output_type": "stream",
     "text": [
      "+----------------------+\n",
      "|Christmas             |\n",
      "+----------------------+\n",
      "|12/25/2019 01:30:00 PM|\n",
      "+----------------------+\n",
      "\n"
     ]
    }
   ],
   "source": [
    "df = spark.createDataFrame([('12/25/2019 01:30:00 PM' ,)], ['Christmas'])\n",
    "df.show(1, truncate=False)"
   ]
  },
  {
   "cell_type": "code",
   "execution_count": 21,
   "metadata": {},
   "outputs": [],
   "source": [
    "# parse to date and timestamp"
   ]
  },
  {
   "cell_type": "code",
   "execution_count": 25,
   "metadata": {},
   "outputs": [
    {
     "name": "stdout",
     "output_type": "stream",
     "text": [
      "+---------------------------------------------+\n",
      "|to_date(`Christmas`, 'MM/dd/yyyy hh:mm:ss a')|\n",
      "+---------------------------------------------+\n",
      "|                                   2019-12-25|\n",
      "+---------------------------------------------+\n",
      "\n"
     ]
    }
   ],
   "source": [
    "df.select(to_date(col('Christmas'), 'MM/dd/yyyy hh:mm:ss a')).show()"
   ]
  },
  {
   "cell_type": "code",
   "execution_count": 26,
   "metadata": {},
   "outputs": [
    {
     "name": "stdout",
     "output_type": "stream",
     "text": [
      "+--------------------------------------------------+\n",
      "|to_timestamp(`Christmas`, 'MM/dd/yyyy hh:mm:ss a')|\n",
      "+--------------------------------------------------+\n",
      "|                               2019-12-25 13:30:00|\n",
      "+--------------------------------------------------+\n",
      "\n"
     ]
    }
   ],
   "source": [
    "df.select(to_timestamp(col('Christmas'), 'MM/dd/yyyy hh:mm:ss a')).show()"
   ]
  },
  {
   "cell_type": "markdown",
   "metadata": {},
   "source": [
    "------"
   ]
  },
  {
   "cell_type": "code",
   "execution_count": 27,
   "metadata": {},
   "outputs": [],
   "source": [
    "new_rc = spark.read.csv('../data/chicago_crimes.csv', header=True)"
   ]
  },
  {
   "cell_type": "code",
   "execution_count": 29,
   "metadata": {},
   "outputs": [
    {
     "name": "stdout",
     "output_type": "stream",
     "text": [
      "+--------+-----------+----------------------+-------------------+----+------------+-----------------------+--------------------+------+--------+----+--------+----+--------------+--------+------------+------------+----+----------------------+------------+-------------+-----------------------------+\n",
      "|ID      |Case Number|Date                  |Block              |IUCR|Primary Type|Description            |Location Description|Arrest|Domestic|Beat|District|Ward|Community Area|FBI Code|X Coordinate|Y Coordinate|Year|Updated On            |Latitude    |Longitude    |Location                     |\n",
      "+--------+-----------+----------------------+-------------------+----+------------+-----------------------+--------------------+------+--------+----+--------+----+--------------+--------+------------+------------+----+----------------------+------------+-------------+-----------------------------+\n",
      "|10224738|HY411648   |09/05/2015 01:30:00 PM|043XX S WOOD ST    |0486|BATTERY     |DOMESTIC BATTERY SIMPLE|RESIDENCE           |false |true    |0924|009     |12  |61            |08B     |1165074     |1875917     |2015|02/10/2018 03:50:01 PM|41.815117282|-87.669999562|(41.815117282, -87.669999562)|\n",
      "|10224739|HY411615   |09/04/2015 11:30:00 AM|008XX N CENTRAL AVE|0870|THEFT       |POCKET-PICKING         |CTA BUS             |false |false   |1511|015     |29  |25            |06      |1138875     |1904869     |2015|02/10/2018 03:50:01 PM|41.895080471|-87.765400451|(41.895080471, -87.765400451)|\n",
      "+--------+-----------+----------------------+-------------------+----+------------+-----------------------+--------------------+------+--------+----+--------+----+--------------+--------+------------+------------+----+----------------------+------------+-------------+-----------------------------+\n",
      "only showing top 2 rows\n",
      "\n"
     ]
    }
   ],
   "source": [
    "new_rc.show(2, truncate=False)"
   ]
  },
  {
   "cell_type": "markdown",
   "metadata": {},
   "source": [
    "---------"
   ]
  },
  {
   "cell_type": "markdown",
   "metadata": {},
   "source": [
    "<p id=\"user\"></p>\n",
    "\n",
    "# 3) User Defined Functions\n",
    "\n",
    "- can create functions in Java, Scala, Python and R\n",
    "- For performance, write functions in Java or Scala\n",
    "- we can still access those functions from Python"
   ]
  },
  {
   "cell_type": "markdown",
   "metadata": {},
   "source": [
    "-------"
   ]
  },
  {
   "cell_type": "markdown",
   "metadata": {},
   "source": [
    "<p id=\"join\"></p>\n",
    "\n",
    "# 4) Working with Joins"
   ]
  },
  {
   "cell_type": "markdown",
   "metadata": {},
   "source": [
    "- Police Stations Data set\n",
    "\n",
    "https://data.cityofchicago.org/Public-Safety/Police-Stations/z8bn-74gv"
   ]
  },
  {
   "cell_type": "code",
   "execution_count": 31,
   "metadata": {},
   "outputs": [
    {
     "name": "stdout",
     "output_type": "stream",
     "text": [
      "+--------+-----------+-------------------+-------------------+----+------------+--------------------+--------------------+------+--------+----+--------+----+--------------+--------+------------+------------+----+--------------------+------------+-------------+--------------------+\n",
      "|      ID|Case Number|               Date|              Block|IUCR|Primary Type|         Description|Location Description|Arrest|Domestic|Beat|District|Ward|Community Area|FBI Code|X Coordinate|Y Coordinate|Year|          Updated On|    Latitude|    Longitude|            Location|\n",
      "+--------+-----------+-------------------+-------------------+----+------------+--------------------+--------------------+------+--------+----+--------+----+--------------+--------+------------+------------+----+--------------------+------------+-------------+--------------------+\n",
      "|10224738|   HY411648|2015-09-05 13:30:00|    043XX S WOOD ST|0486|     BATTERY|DOMESTIC BATTERY ...|           RESIDENCE| false|    true|0924|     009|  12|            61|     08B|     1165074|     1875917|2015|02/10/2018 03:50:...|41.815117282|-87.669999562|(41.815117282, -8...|\n",
      "|10224739|   HY411615|2015-09-04 11:30:00|008XX N CENTRAL AVE|0870|       THEFT|      POCKET-PICKING|             CTA BUS| false|   false|1511|     015|  29|            25|      06|     1138875|     1904869|2015|02/10/2018 03:50:...|41.895080471|-87.765400451|(41.895080471, -8...|\n",
      "+--------+-----------+-------------------+-------------------+----+------------+--------------------+--------------------+------+--------+----+--------+----+--------------+--------+------------+------------+----+--------------------+------------+-------------+--------------------+\n",
      "only showing top 2 rows\n",
      "\n"
     ]
    }
   ],
   "source": [
    "rc = spark.read.csv('../data/chicago_crimes.csv', header=True).withColumn('Date', to_timestamp(col('Date'),'MM/dd/yyyy hh:mm:ss a')).filter(col('Date') <= lit('2018-11-11'))\n",
    "rc.show(2)"
   ]
  },
  {
   "cell_type": "markdown",
   "metadata": {},
   "source": [
    "###  download police stations dataset"
   ]
  },
  {
   "cell_type": "code",
   "execution_count": 32,
   "metadata": {},
   "outputs": [],
   "source": [
    "# !wget -0 police-station.csv https://data.cityofchicago.org/api/views/z8bn-74gv/rows.csv?accessType=DOWNLOAD\n",
    "\n",
    "# !ls -l"
   ]
  },
  {
   "cell_type": "code",
   "execution_count": 33,
   "metadata": {},
   "outputs": [
    {
     "name": "stdout",
     "output_type": "stream",
     "text": [
      "+------------+-------------+-------------------+-------+-----+-----+--------------------+------------+------------+------------+------------+------------+-----------+------------+--------------------+\n",
      "|    DISTRICT|DISTRICT NAME|            ADDRESS|   CITY|STATE|  ZIP|             WEBSITE|       PHONE|         FAX|         TTY|X COORDINATE|Y COORDINATE|   LATITUDE|   LONGITUDE|            LOCATION|\n",
      "+------------+-------------+-------------------+-------+-----+-----+--------------------+------------+------------+------------+------------+------------+-----------+------------+--------------------+\n",
      "|Headquarters| Headquarters|3510 S Michigan Ave|Chicago|   IL|60653|http://home.chica...|        null|        null|        null| 1177731.401| 1881697.404|41.83070169|-87.62339535|(41.8307016873, -...|\n",
      "|          18|   Near North| 1160 N Larrabee St|Chicago|   IL|60610|http://home.chica...|312-742-5870|312-742-5771|312-742-5773| 1172080.029| 1908086.527|41.90324165|-87.64335214|(41.9032416531, -...|\n",
      "+------------+-------------+-------------------+-------+-----+-----+--------------------+------------+------------+------------+------------+------------+-----------+------------+--------------------+\n",
      "only showing top 2 rows\n",
      "\n"
     ]
    }
   ],
   "source": [
    "ps = spark.read.csv('../data/Police_Stations.csv', header=True)\n",
    "ps.show(2)"
   ]
  },
  {
   "cell_type": "markdown",
   "metadata": {},
   "source": [
    "# Joins\n",
    "\n",
    "### The reported crimes datasets has only district numbers. Add the district name by joining with police station dataset."
   ]
  },
  {
   "cell_type": "markdown",
   "metadata": {},
   "source": [
    "### Caching data\n",
    "- as Report Crimes data set is very big, we will cache it to speed things up during joining\n",
    "- Since Cache command or Caching function is lazily evaluated, using Action Function (such as count) to get that Data Frame into cache as soon as possible."
   ]
  },
  {
   "cell_type": "code",
   "execution_count": 34,
   "metadata": {},
   "outputs": [
    {
     "data": {
      "text/plain": [
       "6753787"
      ]
     },
     "execution_count": 34,
     "metadata": {},
     "output_type": "execute_result"
    }
   ],
   "source": [
    "rc.cache()\n",
    "rc.count()"
   ]
  },
  {
   "cell_type": "code",
   "execution_count": 35,
   "metadata": {},
   "outputs": [
    {
     "name": "stdout",
     "output_type": "stream",
     "text": [
      "+--------------------+\n",
      "|            DISTRICT|\n",
      "+--------------------+\n",
      "|                   7|\n",
      "|                  15|\n",
      "|                  11|\n",
      "|                   3|\n",
      "|                   8|\n",
      "|                  22|\n",
      "|                  16|\n",
      "|                   5|\n",
      "|                  18|\n",
      "|                  17|\n",
      "|                   6|\n",
      "|                  19|\n",
      "|                  25|\n",
      "|        Headquarters|\n",
      "|                  24|\n",
      "|                   9|\n",
      "|                   1|\n",
      "|                  20|\n",
      "|                  10|\n",
      "|                   4|\n",
      "|                  12|\n",
      "|                  14|\n",
      "|                   2|\n",
      "|\",Chicago,IL,6060...|\n",
      "+--------------------+\n",
      "\n"
     ]
    }
   ],
   "source": [
    "# get the distinct values of distrct names from police station dataset\n",
    "ps.select(col('DISTRICT')).distinct().show(30)"
   ]
  },
  {
   "cell_type": "code",
   "execution_count": 36,
   "metadata": {},
   "outputs": [
    {
     "name": "stdout",
     "output_type": "stream",
     "text": [
      "+--------+\n",
      "|District|\n",
      "+--------+\n",
      "|     009|\n",
      "|     012|\n",
      "|     024|\n",
      "|    null|\n",
      "|     031|\n",
      "|     015|\n",
      "|     006|\n",
      "|     019|\n",
      "|     020|\n",
      "|     011|\n",
      "|     025|\n",
      "|     005|\n",
      "|     003|\n",
      "|     016|\n",
      "|     018|\n",
      "|     008|\n",
      "|     022|\n",
      "|     001|\n",
      "|     014|\n",
      "|     010|\n",
      "|     004|\n",
      "|     017|\n",
      "|     007|\n",
      "|     021|\n",
      "|     002|\n",
      "+--------+\n",
      "\n"
     ]
    }
   ],
   "source": [
    "# also get distinct values of distrct names from reported crimes dataset\n",
    "rc.select(col('District')).distinct().show(30)"
   ]
  },
  {
   "cell_type": "markdown",
   "metadata": {},
   "source": [
    "As we can see from the data, District Number from Police Station doesn't have leading Zero. But Reported Crimes's District Number have leading Zero. So we need to manipulate those data."
   ]
  },
  {
   "cell_type": "markdown",
   "metadata": {},
   "source": [
    "#### Put lpad on police station's District Number so that format can be same as Reporte Crime's one"
   ]
  },
  {
   "cell_type": "code",
   "execution_count": 37,
   "metadata": {},
   "outputs": [],
   "source": [
    "from pyspark.sql.functions import lpad"
   ]
  },
  {
   "cell_type": "code",
   "execution_count": 38,
   "metadata": {},
   "outputs": [
    {
     "name": "stdout",
     "output_type": "stream",
     "text": [
      "Help on function lpad in module pyspark.sql.functions:\n",
      "\n",
      "lpad(col, len, pad)\n",
      "    Left-pad the string column to width `len` with `pad`.\n",
      "    \n",
      "    >>> df = spark.createDataFrame([('abcd',)], ['s',])\n",
      "    >>> df.select(lpad(df.s, 6, '#').alias('s')).collect()\n",
      "    [Row(s='##abcd')]\n",
      "    \n",
      "    .. versionadded:: 1.5\n",
      "\n"
     ]
    }
   ],
   "source": [
    "help(lpad)"
   ]
  },
  {
   "cell_type": "code",
   "execution_count": 39,
   "metadata": {},
   "outputs": [
    {
     "name": "stdout",
     "output_type": "stream",
     "text": [
      "+--------------------+\n",
      "|lpad(DISTRICT, 3, 0)|\n",
      "+--------------------+\n",
      "|                 Hea|\n",
      "|                 018|\n",
      "|                 019|\n",
      "|                 020|\n",
      "|                 022|\n",
      "+--------------------+\n",
      "only showing top 5 rows\n",
      "\n"
     ]
    }
   ],
   "source": [
    "ps.select(lpad(col('DISTRICT'), 3, '0')).show(5)"
   ]
  },
  {
   "cell_type": "markdown",
   "metadata": {},
   "source": [
    "#### create new column in police station for new padded value"
   ]
  },
  {
   "cell_type": "code",
   "execution_count": 40,
   "metadata": {},
   "outputs": [],
   "source": [
    "\n",
    "ps = ps.withColumn('Format_district', lpad(col('DISTRICT'), 3, '0'))"
   ]
  },
  {
   "cell_type": "code",
   "execution_count": 42,
   "metadata": {},
   "outputs": [
    {
     "name": "stdout",
     "output_type": "stream",
     "text": [
      "+------------+-------------+-------------------+-------+-----+-----+----------------------------------------------------------------------------+------------+------------+------------+------------+------------+-----------+------------+-------------------------------+---------------+\n",
      "|DISTRICT    |DISTRICT NAME|ADDRESS            |CITY   |STATE|ZIP  |WEBSITE                                                                     |PHONE       |FAX         |TTY         |X COORDINATE|Y COORDINATE|LATITUDE   |LONGITUDE   |LOCATION                       |Format_district|\n",
      "+------------+-------------+-------------------+-------+-----+-----+----------------------------------------------------------------------------+------------+------------+------------+------------+------------+-----------+------------+-------------------------------+---------------+\n",
      "|Headquarters|Headquarters |3510 S Michigan Ave|Chicago|IL   |60653|http://home.chicagopolice.org                                               |null        |null        |null        |1177731.401 |1881697.404 |41.83070169|-87.62339535|(41.8307016873, -87.6233953459)|Hea            |\n",
      "|18          |Near North   |1160 N Larrabee St |Chicago|IL   |60610|http://home.chicagopolice.org/community/districts/18th-district-near-north/ |312-742-5870|312-742-5771|312-742-5773|1172080.029 |1908086.527 |41.90324165|-87.64335214|(41.9032416531, -87.6433521393)|018            |\n",
      "|19          |Town Hall    |850 W Addison St   |Chicago|IL   |60613|http://home.chicagopolice.org/community/districts/19th-district-town-hall/  |312-744-8320|312-744-4481|312-744-8011|1169730.744 |1924160.317 |41.94740046|-87.65151202|(41.9474004564, -87.651512018) |019            |\n",
      "|20          |Lincoln      |5400 N Lincoln Ave |Chicago|IL   |60625|http://home.chicagopolice.org/community/districts/20th-district-lincoln/    |312-742-8714|312-742-8803|312-742-8841|1158399.146 |1935788.826 |41.97954951|-87.69284451|(41.9795495131, -87.6928445094)|020            |\n",
      "|22          |Morgan Park  |1900 W Monterey Ave|Chicago|IL   |60643|http://home.chicagopolice.org/community/districts/22nd-district-morgan-park/|312-745-0710|312-745-0814|312-745-0569|1165825.476 |1830851.333 |41.69143478|-87.66852039|(41.6914347795, -87.6685203937)|022            |\n",
      "+------------+-------------+-------------------+-------+-----+-----+----------------------------------------------------------------------------+------------+------------+------------+------------+------------+-----------+------------+-------------------------------+---------------+\n",
      "only showing top 5 rows\n",
      "\n"
     ]
    }
   ],
   "source": [
    "ps.show(5, truncate=False)"
   ]
  },
  {
   "cell_type": "markdown",
   "metadata": {},
   "source": [
    "### join with Left Outer Join"
   ]
  },
  {
   "cell_type": "code",
   "execution_count": 44,
   "metadata": {},
   "outputs": [
    {
     "name": "stdout",
     "output_type": "stream",
     "text": [
      "+--------+-----------+-------------------+-------------------+----+------------+-----------------------+--------------------+------+--------+----+--------+----+--------------+--------+------------+------------+----+----------------------+------------+-------------+-----------------------------+--------+-------------+-----------------+-------+-----+-----+-----------------------------------------------------------------------+------------+------------+------------+------------+------------+-----------+------------+-------------------------------+---------------+\n",
      "|ID      |Case Number|Date               |Block              |IUCR|Primary Type|Description            |Location Description|Arrest|Domestic|Beat|District|Ward|Community Area|FBI Code|X Coordinate|Y Coordinate|Year|Updated On            |Latitude    |Longitude    |Location                     |DISTRICT|DISTRICT NAME|ADDRESS          |CITY   |STATE|ZIP  |WEBSITE                                                                |PHONE       |FAX         |TTY         |X COORDINATE|Y COORDINATE|LATITUDE   |LONGITUDE   |LOCATION                       |Format_district|\n",
      "+--------+-----------+-------------------+-------------------+----+------------+-----------------------+--------------------+------+--------+----+--------+----+--------------+--------+------------+------------+----+----------------------+------------+-------------+-----------------------------+--------+-------------+-----------------+-------+-----+-----+-----------------------------------------------------------------------+------------+------------+------------+------------+------------+-----------+------------+-------------------------------+---------------+\n",
      "|10224738|HY411648   |2015-09-05 13:30:00|043XX S WOOD ST    |0486|BATTERY     |DOMESTIC BATTERY SIMPLE|RESIDENCE           |false |true    |0924|009     |12  |61            |08B     |1165074     |1875917     |2015|02/10/2018 03:50:01 PM|41.815117282|-87.669999562|(41.815117282, -87.669999562)|9       |Deering      |3120 S Halsted St|Chicago|IL   |60608|http://home.chicagopolice.org/community/districts/9th-district-deering/|312-747-8227|312-747-5329|312-747-9172|1171440.24  |1884085.224 |41.83739443|-87.64640771|(41.8373944311, -87.6464077068)|009            |\n",
      "|10224739|HY411615   |2015-09-04 11:30:00|008XX N CENTRAL AVE|0870|THEFT       |POCKET-PICKING         |CTA BUS             |false |false   |1511|015     |29  |25            |06      |1138875     |1904869     |2015|02/10/2018 03:50:01 PM|41.895080471|-87.765400451|(41.895080471, -87.765400451)|15      |Austin       |5701 W Madison St|Chicago|IL   |60644|http://home.chicagopolice.org/community/districts/15th-district-austin/|312-743-1440|312-743-1366|312-743-1485|1138148.815 |1899399.078 |41.88008346|-87.76819989|(41.8800834614, -87.768199889) |015            |\n",
      "+--------+-----------+-------------------+-------------------+----+------------+-----------------------+--------------------+------+--------+----+--------+----+--------------+--------+------------+------------+----+----------------------+------------+-------------+-----------------------------+--------+-------------+-----------------+-------+-----+-----+-----------------------------------------------------------------------+------------+------------+------------+------------+------------+-----------+------------+-------------------------------+---------------+\n",
      "only showing top 2 rows\n",
      "\n"
     ]
    }
   ],
   "source": [
    "rc.join(ps, rc.District == ps.Format_district, 'left_outer').show(2, truncate=False)"
   ]
  },
  {
   "cell_type": "markdown",
   "metadata": {},
   "source": [
    "#### As joined data looks a bit messy, we will clean up dropping unecessary columns from police stataion dataset When JOINING"
   ]
  },
  {
   "cell_type": "code",
   "execution_count": 46,
   "metadata": {},
   "outputs": [
    {
     "data": {
      "text/plain": [
       "['DISTRICT',\n",
       " 'DISTRICT NAME',\n",
       " 'ADDRESS',\n",
       " 'CITY',\n",
       " 'STATE',\n",
       " 'ZIP',\n",
       " 'WEBSITE',\n",
       " 'PHONE',\n",
       " 'FAX',\n",
       " 'TTY',\n",
       " 'X COORDINATE',\n",
       " 'Y COORDINATE',\n",
       " 'LATITUDE',\n",
       " 'LONGITUDE',\n",
       " 'LOCATION',\n",
       " 'Format_district']"
      ]
     },
     "execution_count": 46,
     "metadata": {},
     "output_type": "execute_result"
    }
   ],
   "source": [
    "ps.columns"
   ]
  },
  {
   "cell_type": "code",
   "execution_count": 49,
   "metadata": {},
   "outputs": [
    {
     "name": "stdout",
     "output_type": "stream",
     "text": [
      "+--------+-----------+-------------------+-------------------+----+------------+-----------------------+--------------------+------+--------+----+--------+----+--------------+--------+----+----------------------+--------+-------------+-----------------+---------------+\n",
      "|ID      |Case Number|Date               |Block              |IUCR|Primary Type|Description            |Location Description|Arrest|Domestic|Beat|District|Ward|Community Area|FBI Code|Year|Updated On            |DISTRICT|DISTRICT NAME|ADDRESS          |Format_district|\n",
      "+--------+-----------+-------------------+-------------------+----+------------+-----------------------+--------------------+------+--------+----+--------+----+--------------+--------+----+----------------------+--------+-------------+-----------------+---------------+\n",
      "|10224738|HY411648   |2015-09-05 13:30:00|043XX S WOOD ST    |0486|BATTERY     |DOMESTIC BATTERY SIMPLE|RESIDENCE           |false |true    |0924|009     |12  |61            |08B     |2015|02/10/2018 03:50:01 PM|9       |Deering      |3120 S Halsted St|009            |\n",
      "|10224739|HY411615   |2015-09-04 11:30:00|008XX N CENTRAL AVE|0870|THEFT       |POCKET-PICKING         |CTA BUS             |false |false   |1511|015     |29  |25            |06      |2015|02/10/2018 03:50:01 PM|15      |Austin       |5701 W Madison St|015            |\n",
      "+--------+-----------+-------------------+-------------------+----+------------+-----------------------+--------------------+------+--------+----+--------+----+--------------+--------+----+----------------------+--------+-------------+-----------------+---------------+\n",
      "only showing top 2 rows\n",
      "\n"
     ]
    }
   ],
   "source": [
    "rc.join(ps, rc.District == ps.Format_district, 'left_outer').drop(\n",
    "' ADDRESS',\n",
    " 'CITY',\n",
    " 'STATE',\n",
    " 'ZIP',\n",
    " 'WEBSITE',\n",
    " 'PHONE',\n",
    " 'FAX',\n",
    " 'TTY',\n",
    " 'X COORDINATE',\n",
    " 'Y COORDINATE',\n",
    " 'LATITUDE',\n",
    " 'LONGITUDE',\n",
    " 'LOCATION',\n",
    ").show(2, truncate=False)"
   ]
  },
  {
   "cell_type": "markdown",
   "metadata": {},
   "source": [
    "-------"
   ]
  },
  {
   "cell_type": "markdown",
   "metadata": {},
   "source": [
    "<p id=\"challenges\"></p>\n",
    "\n",
    "# 5) Challenges\n",
    "\n",
    "- What is the most frequently reported non-criminal activity?\n",
    "- Which day of the week has the most crimes reported?"
   ]
  },
  {
   "cell_type": "markdown",
   "metadata": {},
   "source": [
    "### What is the most frequently reported non-criminal activity?"
   ]
  },
  {
   "cell_type": "code",
   "execution_count": 50,
   "metadata": {},
   "outputs": [
    {
     "name": "stdout",
     "output_type": "stream",
     "text": [
      "+--------+-----------+-------------------+-------------------+----+------------+-----------------------+--------------------+------+--------+----+--------+----+--------------+--------+------------+------------+----+----------------------+------------+-------------+-----------------------------+\n",
      "|ID      |Case Number|Date               |Block              |IUCR|Primary Type|Description            |Location Description|Arrest|Domestic|Beat|District|Ward|Community Area|FBI Code|X Coordinate|Y Coordinate|Year|Updated On            |Latitude    |Longitude    |Location                     |\n",
      "+--------+-----------+-------------------+-------------------+----+------------+-----------------------+--------------------+------+--------+----+--------+----+--------------+--------+------------+------------+----+----------------------+------------+-------------+-----------------------------+\n",
      "|10224738|HY411648   |2015-09-05 13:30:00|043XX S WOOD ST    |0486|BATTERY     |DOMESTIC BATTERY SIMPLE|RESIDENCE           |false |true    |0924|009     |12  |61            |08B     |1165074     |1875917     |2015|02/10/2018 03:50:01 PM|41.815117282|-87.669999562|(41.815117282, -87.669999562)|\n",
      "|10224739|HY411615   |2015-09-04 11:30:00|008XX N CENTRAL AVE|0870|THEFT       |POCKET-PICKING         |CTA BUS             |false |false   |1511|015     |29  |25            |06      |1138875     |1904869     |2015|02/10/2018 03:50:01 PM|41.895080471|-87.765400451|(41.895080471, -87.765400451)|\n",
      "+--------+-----------+-------------------+-------------------+----+------------+-----------------------+--------------------+------+--------+----+--------+----+--------------+--------+------------+------------+----+----------------------+------------+-------------+-----------------------------+\n",
      "only showing top 2 rows\n",
      "\n"
     ]
    }
   ],
   "source": [
    "rc.show(2, truncate=False)"
   ]
  },
  {
   "cell_type": "markdown",
   "metadata": {},
   "source": [
    "**How to classify non criminal activity?**"
   ]
  },
  {
   "cell_type": "markdown",
   "metadata": {},
   "source": [
    "First we wil check Primary Type column."
   ]
  },
  {
   "cell_type": "code",
   "execution_count": 52,
   "metadata": {},
   "outputs": [
    {
     "data": {
      "text/plain": [
       "36"
      ]
     },
     "execution_count": 52,
     "metadata": {},
     "output_type": "execute_result"
    }
   ],
   "source": [
    "rc.select(col('Primary Type')).distinct().count()"
   ]
  },
  {
   "cell_type": "code",
   "execution_count": 55,
   "metadata": {},
   "outputs": [
    {
     "name": "stdout",
     "output_type": "stream",
     "text": [
      "+---------------------------------+\n",
      "|Primary Type                     |\n",
      "+---------------------------------+\n",
      "|ARSON                            |\n",
      "|ASSAULT                          |\n",
      "|BATTERY                          |\n",
      "|BURGLARY                         |\n",
      "|CONCEALED CARRY LICENSE VIOLATION|\n",
      "|CRIM SEXUAL ASSAULT              |\n",
      "|CRIMINAL DAMAGE                  |\n",
      "|CRIMINAL SEXUAL ASSAULT          |\n",
      "|CRIMINAL TRESPASS                |\n",
      "|DECEPTIVE PRACTICE               |\n",
      "|DOMESTIC VIOLENCE                |\n",
      "|GAMBLING                         |\n",
      "|HOMICIDE                         |\n",
      "|HUMAN TRAFFICKING                |\n",
      "|INTERFERENCE WITH PUBLIC OFFICER |\n",
      "|INTIMIDATION                     |\n",
      "|KIDNAPPING                       |\n",
      "|LIQUOR LAW VIOLATION             |\n",
      "|MOTOR VEHICLE THEFT              |\n",
      "|NARCOTICS                        |\n",
      "|NON - CRIMINAL                   |\n",
      "|NON-CRIMINAL                     |\n",
      "|NON-CRIMINAL (SUBJECT SPECIFIED) |\n",
      "|OBSCENITY                        |\n",
      "|OFFENSE INVOLVING CHILDREN       |\n",
      "|OTHER NARCOTIC VIOLATION         |\n",
      "|OTHER OFFENSE                    |\n",
      "|PROSTITUTION                     |\n",
      "|PUBLIC INDECENCY                 |\n",
      "|PUBLIC PEACE VIOLATION           |\n",
      "|RITUALISM                        |\n",
      "|ROBBERY                          |\n",
      "|SEX OFFENSE                      |\n",
      "|STALKING                         |\n",
      "|THEFT                            |\n",
      "|WEAPONS VIOLATION                |\n",
      "+---------------------------------+\n",
      "\n"
     ]
    }
   ],
   "source": [
    "rc.select(col('Primary Type')).distinct().orderBy(col('Primary Type')).show(36, truncate=False)"
   ]
  },
  {
   "cell_type": "markdown",
   "metadata": {},
   "source": [
    "We can see from the above result, there are 3 types of NON-CRIMINAL ones."
   ]
  },
  {
   "cell_type": "markdown",
   "metadata": {},
   "source": [
    "So we will get the filtered non criminal new dataset using those 3 conditions."
   ]
  },
  {
   "cell_type": "code",
   "execution_count": 57,
   "metadata": {},
   "outputs": [],
   "source": [
    "nc = rc.filter((col('Primary Type') == 'NON - CRIMINAL') | (col('Primary Type') == 'NON-CRIMINAL') | (col('Primary Type') == 'NON-CRIMINAL (SUBJECT SPECIFIED)'))"
   ]
  },
  {
   "cell_type": "code",
   "execution_count": 60,
   "metadata": {},
   "outputs": [
    {
     "name": "stdout",
     "output_type": "stream",
     "text": [
      "+--------+-----------+-------------------+---------------------+----+--------------+-----------------+-------------------------------+------+--------+----+--------+----+--------------+--------+------------+------------+----+----------------------+------------+-------------+-----------------------------+\n",
      "|ID      |Case Number|Date               |Block                |IUCR|Primary Type  |Description      |Location Description           |Arrest|Domestic|Beat|District|Ward|Community Area|FBI Code|X Coordinate|Y Coordinate|Year|Updated On            |Latitude    |Longitude    |Location                     |\n",
      "+--------+-----------+-------------------+---------------------+----+--------------+-----------------+-------------------------------+------+--------+----+--------+----+--------------+--------+------------+------------+----+----------------------+------------+-------------+-----------------------------+\n",
      "|10233370|HY421530   |2015-09-13 10:45:00|010XX S MENARD AVE   |5114|NON - CRIMINAL|FOID - REVOCATION|RESIDENCE                      |true  |false   |1513|015     |29  |25            |26      |1137869     |1895239     |2015|02/10/2018 03:50:01 PM|41.868672696|-87.769327726|(41.868672696, -87.769327726)|\n",
      "|10241515|HY429346   |2015-09-19 07:45:00|051XX N MILWAUKEE AVE|5114|NON - CRIMINAL|FOID - REVOCATION|POLICE FACILITY/VEH PARKING LOT|true  |false   |1623|016     |45  |11            |26      |1138424     |1933673     |2015|02/10/2018 03:50:01 PM|41.974129858|-87.766357256|(41.974129858, -87.766357256)|\n",
      "|10277370|HY465290   |2015-10-16 20:00:00|100XX W OHARE ST     |5093|NON-CRIMINAL  |LOST PASSPORT    |AIRCRAFT                       |false |false   |1651|016     |41  |76            |26      |1100658     |1934241     |2015|02/10/2018 03:50:01 PM|41.976290414|-87.905227221|(41.976290414, -87.905227221)|\n",
      "|10280097|HY468448   |2015-10-19 18:50:00|033XX W OGDEN AVE    |5114|NON - CRIMINAL|FOID - REVOCATION|POLICE FACILITY/VEH PARKING LOT|false |false   |1024|010     |24  |29            |26      |1154489     |1891024     |2015|02/10/2018 03:50:01 PM|41.856790413|-87.708424071|(41.856790413, -87.708424071)|\n",
      "|10290745|HY478502   |2015-10-26 16:00:00|004XX W DIVERSEY PKWY|5093|NON-CRIMINAL  |LOST PASSPORT    |SIDEWALK                       |false |false   |1934|019     |44  |6             |26      |1172533     |1918887     |2015|02/10/2018 03:50:01 PM|41.932868651|-87.641368196|(41.932868651, -87.641368196)|\n",
      "+--------+-----------+-------------------+---------------------+----+--------------+-----------------+-------------------------------+------+--------+----+--------+----+--------------+--------+------------+------------+----+----------------------+------------+-------------+-----------------------------+\n",
      "only showing top 5 rows\n",
      "\n"
     ]
    }
   ],
   "source": [
    "nc.show(5, truncate=False)"
   ]
  },
  {
   "cell_type": "markdown",
   "metadata": {},
   "source": [
    "Then we will groupby Description column.\n"
   ]
  },
  {
   "cell_type": "code",
   "execution_count": 62,
   "metadata": {},
   "outputs": [
    {
     "name": "stdout",
     "output_type": "stream",
     "text": [
      "+-------------------------------------------+-----+\n",
      "|Description                                |count|\n",
      "+-------------------------------------------+-----+\n",
      "|LOST PASSPORT                              |107  |\n",
      "|FOID - REVOCATION                          |75   |\n",
      "|NOTIFICATION OF CIVIL NO CONTACT ORDER     |9    |\n",
      "|NOTIFICATION OF STALKING - NO CONTACT ORDER|8    |\n",
      "|CONCEALED CARRY LICENSE REVOCATION         |5    |\n",
      "|FOUND PASSPORT                             |4    |\n",
      "|GUN OFFENDER NOTIFICATION-NO CONTACT       |3    |\n",
      "+-------------------------------------------+-----+\n",
      "\n"
     ]
    }
   ],
   "source": [
    "nc.groupBy(col('Description')).count().orderBy('count', ascending=False).show(truncate=False)"
   ]
  },
  {
   "cell_type": "markdown",
   "metadata": {},
   "source": [
    "It seem like LOST PASSPORT is the most frequent Non criminal related reported cases."
   ]
  },
  {
   "cell_type": "markdown",
   "metadata": {},
   "source": [
    "-----------------------\n",
    "\n",
    "----------------------"
   ]
  },
  {
   "cell_type": "markdown",
   "metadata": {},
   "source": [
    "### Which day of the week has the most crimes reported?\n",
    "\n",
    "https://spark.apache.org/docs/latest/sql-ref-datetime-pattern.html"
   ]
  },
  {
   "cell_type": "code",
   "execution_count": 63,
   "metadata": {},
   "outputs": [],
   "source": [
    "from pyspark.sql.functions import dayofweek"
   ]
  },
  {
   "cell_type": "code",
   "execution_count": 64,
   "metadata": {},
   "outputs": [
    {
     "name": "stdout",
     "output_type": "stream",
     "text": [
      "Help on function dayofweek in module pyspark.sql.functions:\n",
      "\n",
      "dayofweek(col)\n",
      "    Extract the day of the week of a given date as integer.\n",
      "    \n",
      "    >>> df = spark.createDataFrame([('2015-04-08',)], ['dt'])\n",
      "    >>> df.select(dayofweek('dt').alias('day')).collect()\n",
      "    [Row(day=4)]\n",
      "    \n",
      "    .. versionadded:: 2.3\n",
      "\n"
     ]
    }
   ],
   "source": [
    "help(dayofweek)"
   ]
  },
  {
   "cell_type": "code",
   "execution_count": 66,
   "metadata": {},
   "outputs": [
    {
     "name": "stdout",
     "output_type": "stream",
     "text": [
      "+--------+-----------+-------------------+---------------+----+------------+-----------------------+--------------------+------+--------+----+--------+----+--------------+--------+------------+------------+----+----------------------+------------+-------------+-----------------------------+\n",
      "|ID      |Case Number|Date               |Block          |IUCR|Primary Type|Description            |Location Description|Arrest|Domestic|Beat|District|Ward|Community Area|FBI Code|X Coordinate|Y Coordinate|Year|Updated On            |Latitude    |Longitude    |Location                     |\n",
      "+--------+-----------+-------------------+---------------+----+------------+-----------------------+--------------------+------+--------+----+--------+----+--------------+--------+------------+------------+----+----------------------+------------+-------------+-----------------------------+\n",
      "|10224738|HY411648   |2015-09-05 13:30:00|043XX S WOOD ST|0486|BATTERY     |DOMESTIC BATTERY SIMPLE|RESIDENCE           |false |true    |0924|009     |12  |61            |08B     |1165074     |1875917     |2015|02/10/2018 03:50:01 PM|41.815117282|-87.669999562|(41.815117282, -87.669999562)|\n",
      "+--------+-----------+-------------------+---------------+----+------------+-----------------------+--------------------+------+--------+----+--------+----+--------------+--------+------------+------------+----+----------------------+------------+-------------+-----------------------------+\n",
      "only showing top 1 row\n",
      "\n"
     ]
    }
   ],
   "source": [
    "rc.show(1, truncate=False)"
   ]
  },
  {
   "cell_type": "code",
   "execution_count": 67,
   "metadata": {},
   "outputs": [
    {
     "name": "stdout",
     "output_type": "stream",
     "text": [
      "+-------------------+---------------+\n",
      "|               Date|dayofweek(Date)|\n",
      "+-------------------+---------------+\n",
      "|2015-09-05 13:30:00|              7|\n",
      "|2015-09-04 11:30:00|              6|\n",
      "+-------------------+---------------+\n",
      "only showing top 2 rows\n",
      "\n"
     ]
    }
   ],
   "source": [
    "# get the day of the weeks\n",
    "rc.select(col('Date'), dayofweek(col('Date'))).show(2)"
   ]
  },
  {
   "cell_type": "markdown",
   "metadata": {},
   "source": [
    "Now we get the day of the week as integer value. but we want to format it as Monday, Tuesday, etc."
   ]
  },
  {
   "cell_type": "code",
   "execution_count": 68,
   "metadata": {},
   "outputs": [],
   "source": [
    "from pyspark.sql.functions import date_format"
   ]
  },
  {
   "cell_type": "code",
   "execution_count": 69,
   "metadata": {},
   "outputs": [
    {
     "name": "stdout",
     "output_type": "stream",
     "text": [
      "Help on function date_format in module pyspark.sql.functions:\n",
      "\n",
      "date_format(date, format)\n",
      "    Converts a date/timestamp/string to a value of string in the format specified by the date\n",
      "    format given by the second argument.\n",
      "    \n",
      "    A pattern could be for instance `dd.MM.yyyy` and could return a string like '18.03.1993'. All\n",
      "    pattern letters of `datetime pattern`_. can be used.\n",
      "    \n",
      "    .. _datetime pattern: https://spark.apache.org/docs/latest/sql-ref-datetime-pattern.html\n",
      "    .. note:: Use when ever possible specialized functions like `year`. These benefit from a\n",
      "        specialized implementation.\n",
      "    \n",
      "    >>> df = spark.createDataFrame([('2015-04-08',)], ['dt'])\n",
      "    >>> df.select(date_format('dt', 'MM/dd/yyy').alias('date')).collect()\n",
      "    [Row(date='04/08/2015')]\n",
      "    \n",
      "    .. versionadded:: 1.5\n",
      "\n"
     ]
    }
   ],
   "source": [
    "help(date_format)"
   ]
  },
  {
   "cell_type": "code",
   "execution_count": 71,
   "metadata": {},
   "outputs": [
    {
     "name": "stdout",
     "output_type": "stream",
     "text": [
      "+-------------------+---------------+--------------------+\n",
      "|               Date|dayofweek(Date)|date_format(Date, E)|\n",
      "+-------------------+---------------+--------------------+\n",
      "|2015-09-05 13:30:00|              7|                 Sat|\n",
      "|2015-09-04 11:30:00|              6|                 Fri|\n",
      "|2018-09-01 00:01:00|              7|                 Sat|\n",
      "|2015-09-05 12:45:00|              7|                 Sat|\n",
      "|2015-09-05 13:00:00|              7|                 Sat|\n",
      "+-------------------+---------------+--------------------+\n",
      "only showing top 5 rows\n",
      "\n"
     ]
    }
   ],
   "source": [
    "rc.select(col('Date'), dayofweek(col('Date')), date_format(col('Date'), 'E')).show(5)"
   ]
  },
  {
   "cell_type": "code",
   "execution_count": 72,
   "metadata": {},
   "outputs": [
    {
     "name": "stdout",
     "output_type": "stream",
     "text": [
      "+--------------------+-------+\n",
      "|date_format(Date, E)|  count|\n",
      "+--------------------+-------+\n",
      "|                 Fri|1017037|\n",
      "|                 Wed| 973964|\n",
      "|                 Tue| 968103|\n",
      "|                 Sat| 965232|\n",
      "|                 Thu| 964625|\n",
      "|                 Mon| 952805|\n",
      "|                 Sun| 912021|\n",
      "+--------------------+-------+\n",
      "\n"
     ]
    }
   ],
   "source": [
    "rc.groupBy(date_format(col('Date'), 'E')).count().orderBy('count', ascending=False).show()"
   ]
  },
  {
   "cell_type": "markdown",
   "metadata": {},
   "source": [
    "We can see that \"Friday\" has the highest reported crimes. Prehaps people tend to go out on friday."
   ]
  },
  {
   "cell_type": "markdown",
   "metadata": {},
   "source": [
    "### Plotting the results"
   ]
  },
  {
   "cell_type": "code",
   "execution_count": 80,
   "metadata": {},
   "outputs": [],
   "source": [
    "import pandas as pd\n",
    "import matplotlib.pyplot as plt\n",
    "import seaborn as sns"
   ]
  },
  {
   "cell_type": "code",
   "execution_count": 74,
   "metadata": {},
   "outputs": [
    {
     "data": {
      "text/plain": [
       "[Row(date_format(Date, E)='Sun', count=912021),\n",
       " Row(date_format(Date, E)='Mon', count=952805),\n",
       " Row(date_format(Date, E)='Thu', count=964625),\n",
       " Row(date_format(Date, E)='Sat', count=965232),\n",
       " Row(date_format(Date, E)='Tue', count=968103),\n",
       " Row(date_format(Date, E)='Wed', count=973964),\n",
       " Row(date_format(Date, E)='Fri', count=1017037)]"
      ]
     },
     "execution_count": 74,
     "metadata": {},
     "output_type": "execute_result"
    }
   ],
   "source": [
    "# collect the row objects\n",
    "results = rc.groupBy(date_format(col('Date'), 'E')).count().orderBy('count').collect()\n",
    "\n",
    "results"
   ]
  },
  {
   "cell_type": "code",
   "execution_count": 75,
   "metadata": {},
   "outputs": [
    {
     "data": {
      "text/plain": [
       "['Sun', 'Mon', 'Thu', 'Sat', 'Tue', 'Wed', 'Fri']"
      ]
     },
     "execution_count": 75,
     "metadata": {},
     "output_type": "execute_result"
    }
   ],
   "source": [
    "day_of_week = [col[0] for col in results]\n",
    "\n",
    "day_of_week"
   ]
  },
  {
   "cell_type": "code",
   "execution_count": 76,
   "metadata": {},
   "outputs": [
    {
     "data": {
      "text/plain": [
       "[912021, 952805, 964625, 965232, 968103, 973964, 1017037]"
      ]
     },
     "execution_count": 76,
     "metadata": {},
     "output_type": "execute_result"
    }
   ],
   "source": [
    "reported_counts = [col[1] for col in results]\n",
    "\n",
    "reported_counts"
   ]
  },
  {
   "cell_type": "code",
   "execution_count": 78,
   "metadata": {},
   "outputs": [],
   "source": [
    "df = pd.DataFrame({'Day Of Week': day_of_week, 'Count': reported_counts})"
   ]
  },
  {
   "cell_type": "code",
   "execution_count": 79,
   "metadata": {},
   "outputs": [
    {
     "data": {
      "text/html": [
       "<div>\n",
       "<style scoped>\n",
       "    .dataframe tbody tr th:only-of-type {\n",
       "        vertical-align: middle;\n",
       "    }\n",
       "\n",
       "    .dataframe tbody tr th {\n",
       "        vertical-align: top;\n",
       "    }\n",
       "\n",
       "    .dataframe thead th {\n",
       "        text-align: right;\n",
       "    }\n",
       "</style>\n",
       "<table border=\"1\" class=\"dataframe\">\n",
       "  <thead>\n",
       "    <tr style=\"text-align: right;\">\n",
       "      <th></th>\n",
       "      <th>Day Of Week</th>\n",
       "      <th>Count</th>\n",
       "    </tr>\n",
       "  </thead>\n",
       "  <tbody>\n",
       "    <tr>\n",
       "      <th>0</th>\n",
       "      <td>Sun</td>\n",
       "      <td>912021</td>\n",
       "    </tr>\n",
       "    <tr>\n",
       "      <th>1</th>\n",
       "      <td>Mon</td>\n",
       "      <td>952805</td>\n",
       "    </tr>\n",
       "    <tr>\n",
       "      <th>2</th>\n",
       "      <td>Thu</td>\n",
       "      <td>964625</td>\n",
       "    </tr>\n",
       "    <tr>\n",
       "      <th>3</th>\n",
       "      <td>Sat</td>\n",
       "      <td>965232</td>\n",
       "    </tr>\n",
       "    <tr>\n",
       "      <th>4</th>\n",
       "      <td>Tue</td>\n",
       "      <td>968103</td>\n",
       "    </tr>\n",
       "  </tbody>\n",
       "</table>\n",
       "</div>"
      ],
      "text/plain": [
       "  Day Of Week   Count\n",
       "0         Sun  912021\n",
       "1         Mon  952805\n",
       "2         Thu  964625\n",
       "3         Sat  965232\n",
       "4         Tue  968103"
      ]
     },
     "execution_count": 79,
     "metadata": {},
     "output_type": "execute_result"
    }
   ],
   "source": [
    "df.head()"
   ]
  },
  {
   "cell_type": "code",
   "execution_count": 85,
   "metadata": {},
   "outputs": [],
   "source": [
    "df = df.sort_values(by='Count', ascending=False)"
   ]
  },
  {
   "cell_type": "code",
   "execution_count": 93,
   "metadata": {},
   "outputs": [
    {
     "data": {
      "image/png": "[encoded data removed]",
      "text/plain": [
       "<Figure size 1500x750 with 1 Axes>"
      ]
     },
     "metadata": {
      "needs_background": "light"
     },
     "output_type": "display_data"
    }
   ],
   "source": [
    "base_color = sns.color_palette()[0]\n",
    "\n",
    "plt.figure(figsize=(10, 5), dpi=150)\n",
    "sns.barplot(data=df, x='Day Of Week', y='Count', color=base_color);\n",
    "\n",
    "plt.ylabel('Number of Reported Crimes')\n",
    "plt.title('Which day of the week has the most crimes reported? (2001 to present)');"
   ]
  },
  {
   "cell_type": "code",
   "execution_count": null,
   "metadata": {},
   "outputs": [],
   "source": []
  }
 ],
 "metadata": {
  "kernelspec": {
   "display_name": "venv-datascience",
   "language": "python",
   "name": "venv-datascience"
  },
  "language_info": {
   "codemirror_mode": {
    "name": "ipython",
    "version": 3
   },
   "file_extension": ".py",
   "mimetype": "text/x-python",
   "name": "python",
   "nbconvert_exporter": "python",
   "pygments_lexer": "ipython3",
   "version": "3.8.5"
  }
 },
 "nbformat": 4,
 "nbformat_minor": 4
}
