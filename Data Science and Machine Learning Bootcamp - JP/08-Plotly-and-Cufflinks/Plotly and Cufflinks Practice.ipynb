{
 "cells": [
  {
   "cell_type": "code",
   "execution_count": 1,
   "metadata": {},
   "outputs": [],
   "source": [
    "import pandas as pd\n",
    "import numpy as np"
   ]
  },
  {
   "cell_type": "code",
   "execution_count": 15,
   "metadata": {},
   "outputs": [
    {
     "name": "stdout",
     "output_type": "stream",
     "text": [
      "4.9.0\n"
     ]
    }
   ],
   "source": [
    "from plotly import __version__\n",
    "from plotly.offline import download_plotlyjs, init_notebook_mode, plot, iplot\n",
    "\n",
    "print(__version__)"
   ]
  },
  {
   "cell_type": "code",
   "execution_count": 5,
   "metadata": {},
   "outputs": [],
   "source": [
    "import cufflinks as cf"
   ]
  },
  {
   "cell_type": "code",
   "execution_count": 7,
   "metadata": {},
   "outputs": [
    {
     "data": {
      "text/html": [
       "        <script type=\"text/javascript\">\n",
       "        window.PlotlyConfig = {MathJaxConfig: 'local'};\n",
       "        if (window.MathJax) {MathJax.Hub.Config({SVG: {font: \"STIX-Web\"}});}\n",
       "        if (typeof require !== 'undefined') {\n",
       "        require.undef(\"plotly\");\n",
       "        requirejs.config({\n",
       "            paths: {\n",
       "                'plotly': ['https://cdn.plot.ly/plotly-latest.min']\n",
       "            }\n",
       "        });\n",
       "        require(['plotly'], function(Plotly) {\n",
       "            window._Plotly = Plotly;\n",
       "        });\n",
       "        }\n",
       "        </script>\n",
       "        "
      ]
     },
     "metadata": {},
     "output_type": "display_data"
    }
   ],
   "source": [
    "# For Notebooks\n",
    "init_notebook_mode(connected = True)"
   ]
  },
  {
   "cell_type": "code",
   "execution_count": 8,
   "metadata": {},
   "outputs": [
    {
     "data": {
      "text/html": [
       "        <script type=\"text/javascript\">\n",
       "        window.PlotlyConfig = {MathJaxConfig: 'local'};\n",
       "        if (window.MathJax) {MathJax.Hub.Config({SVG: {font: \"STIX-Web\"}});}\n",
       "        if (typeof require !== 'undefined') {\n",
       "        require.undef(\"plotly\");\n",
       "        requirejs.config({\n",
       "            paths: {\n",
       "                'plotly': ['https://cdn.plot.ly/plotly-latest.min']\n",
       "            }\n",
       "        });\n",
       "        require(['plotly'], function(Plotly) {\n",
       "            window._Plotly = Plotly;\n",
       "        });\n",
       "        }\n",
       "        </script>\n",
       "        "
      ]
     },
     "metadata": {},
     "output_type": "display_data"
    }
   ],
   "source": [
    "# For offline use\n",
    "cf.go_offline()"
   ]
  },
  {
   "cell_type": "markdown",
   "metadata": {},
   "source": [
    "---------"
   ]
  },
  {
   "cell_type": "code",
   "execution_count": 9,
   "metadata": {},
   "outputs": [
    {
     "data": {
      "text/html": [
       "<div>\n",
       "<style scoped>\n",
       "    .dataframe tbody tr th:only-of-type {\n",
       "        vertical-align: middle;\n",
       "    }\n",
       "\n",
       "    .dataframe tbody tr th {\n",
       "        vertical-align: top;\n",
       "    }\n",
       "\n",
       "    .dataframe thead th {\n",
       "        text-align: right;\n",
       "    }\n",
       "</style>\n",
       "<table border=\"1\" class=\"dataframe\">\n",
       "  <thead>\n",
       "    <tr style=\"text-align: right;\">\n",
       "      <th></th>\n",
       "      <th>a</th>\n",
       "      <th>b</th>\n",
       "      <th>c</th>\n",
       "      <th>d</th>\n",
       "    </tr>\n",
       "  </thead>\n",
       "  <tbody>\n",
       "    <tr>\n",
       "      <th>0</th>\n",
       "      <td>0.292974</td>\n",
       "      <td>-0.716754</td>\n",
       "      <td>-1.457452</td>\n",
       "      <td>2.316827</td>\n",
       "    </tr>\n",
       "    <tr>\n",
       "      <th>1</th>\n",
       "      <td>-1.186247</td>\n",
       "      <td>0.146628</td>\n",
       "      <td>1.616926</td>\n",
       "      <td>0.394583</td>\n",
       "    </tr>\n",
       "    <tr>\n",
       "      <th>2</th>\n",
       "      <td>-0.850192</td>\n",
       "      <td>-0.600652</td>\n",
       "      <td>-1.554079</td>\n",
       "      <td>-0.465103</td>\n",
       "    </tr>\n",
       "    <tr>\n",
       "      <th>3</th>\n",
       "      <td>0.911115</td>\n",
       "      <td>-0.541558</td>\n",
       "      <td>-1.316560</td>\n",
       "      <td>-0.201727</td>\n",
       "    </tr>\n",
       "    <tr>\n",
       "      <th>4</th>\n",
       "      <td>1.236573</td>\n",
       "      <td>-1.740032</td>\n",
       "      <td>-0.580299</td>\n",
       "      <td>-0.241891</td>\n",
       "    </tr>\n",
       "  </tbody>\n",
       "</table>\n",
       "</div>"
      ],
      "text/plain": [
       "          a         b         c         d\n",
       "0  0.292974 -0.716754 -1.457452  2.316827\n",
       "1 -1.186247  0.146628  1.616926  0.394583\n",
       "2 -0.850192 -0.600652 -1.554079 -0.465103\n",
       "3  0.911115 -0.541558 -1.316560 -0.201727\n",
       "4  1.236573 -1.740032 -0.580299 -0.241891"
      ]
     },
     "execution_count": 9,
     "metadata": {},
     "output_type": "execute_result"
    }
   ],
   "source": [
    "# data\n",
    "df = pd.DataFrame(np.random.randn(100, 4), columns = [\"a\", \"b\", \"c\", \"d\"])\n",
    "df.head()"
   ]
  },
  {
   "cell_type": "code",
   "execution_count": 11,
   "metadata": {},
   "outputs": [
    {
     "data": {
      "text/html": [
       "<div>\n",
       "<style scoped>\n",
       "    .dataframe tbody tr th:only-of-type {\n",
       "        vertical-align: middle;\n",
       "    }\n",
       "\n",
       "    .dataframe tbody tr th {\n",
       "        vertical-align: top;\n",
       "    }\n",
       "\n",
       "    .dataframe thead th {\n",
       "        text-align: right;\n",
       "    }\n",
       "</style>\n",
       "<table border=\"1\" class=\"dataframe\">\n",
       "  <thead>\n",
       "    <tr style=\"text-align: right;\">\n",
       "      <th></th>\n",
       "      <th>Category</th>\n",
       "      <th>Values</th>\n",
       "    </tr>\n",
       "  </thead>\n",
       "  <tbody>\n",
       "    <tr>\n",
       "      <th>0</th>\n",
       "      <td>a</td>\n",
       "      <td>32</td>\n",
       "    </tr>\n",
       "    <tr>\n",
       "      <th>1</th>\n",
       "      <td>b</td>\n",
       "      <td>43</td>\n",
       "    </tr>\n",
       "    <tr>\n",
       "      <th>2</th>\n",
       "      <td>c</td>\n",
       "      <td>50</td>\n",
       "    </tr>\n",
       "  </tbody>\n",
       "</table>\n",
       "</div>"
      ],
      "text/plain": [
       "  Category  Values\n",
       "0        a      32\n",
       "1        b      43\n",
       "2        c      50"
      ]
     },
     "execution_count": 11,
     "metadata": {},
     "output_type": "execute_result"
    }
   ],
   "source": [
    "df2 = pd.DataFrame({\"Category\": [\"a\", \"b\", \"c\"], \"Values\": [32, 43, 50]})\n",
    "df2.head()"
   ]
  },
  {
   "cell_type": "code",
   "execution_count": 13,
   "metadata": {},
   "outputs": [
    {
     "data": {
      "image/png": "[encoded data removed]",
      "text/plain": [
       "<Figure size 432x288 with 1 Axes>"
      ]
     },
     "metadata": {
      "needs_background": "light"
     },
     "output_type": "display_data"
    }
   ],
   "source": [
    "df.plot();"
   ]
  },
  {
   "cell_type": "code",
   "execution_count": 14,
   "metadata": {},
   "outputs": [
    {
     "data": {
      "application/vnd.plotly.v1+json": {
       "config": {
        "linkText": "Export to plot.ly",
        "plotlyServerURL": "https://plot.ly",
        "showLink": true
       },
       "data": [
        {
         "line": {
          "color": "rgba(255, 153, 51, 1.0)",
          "dash": "solid",
          "shape": "linear",
          "width": 1.3
         },
         "mode": "lines",
         "name": "a",
         "text": "",
         "type": "scatter",
         "x": [
          0,
          1,
          2,
          3,
          4,
          5,
          6,
          7,
          8,
          9,
          10,
          11,
          12,
          13,
          14,
          15,
          16,
          17,
          18,
          19,
          20,
          21,
          22,
          23,
          24,
          25,
          26,
          27,
          28,
          29,
          30,
          31,
          32,
          33,
          34,
          35,
          36,
          37,
          38,
          39,
          40,
          41,
          42,
          43,
          44,
          45,
          46,
          47,
          48,
          49,
          50,
          51,
          52,
          53,
          54,
          55,
          56,
          57,
          58,
          59,
          60,
          61,
          62,
          63,
          64,
          65,
          66,
          67,
          68,
          69,
          70,
          71,
          72,
          73,
          74,
          75,
          76,
          77,
          78,
          79,
          80,
          81,
          82,
          83,
          84,
          85,
          86,
          87,
          88,
          89,
          90,
          91,
          92,
          93,
          94,
          95,
          96,
          97,
          98,
          99
         ],
         "y": [
          0.292974139252864,
          -1.1862472468463803,
          -0.8501922428907918,
          0.9111150495629899,
          1.2365734664393244,
          -0.30040599005249846,
          1.2105765633744126,
          0.14329654371470976,
          0.4816690203269885,
          -0.7188786553096995,
          0.29107117981780284,
          -0.3401912914972917,
          -0.18610532625705425,
          1.8934182437838603,
          0.9927287463728656,
          1.168165311884389,
          1.2111889751775067,
          0.19395059226497616,
          0.28144601088500154,
          0.2929306980738659,
          1.1101162910982343,
          -0.20882608286556142,
          -0.14537398933595616,
          -0.6074017425049224,
          -0.45238438838097095,
          -0.36610343319996314,
          0.26477062314585953,
          0.14515091806317906,
          0.7803251454516109,
          0.608549950958882,
          -0.4026053747294526,
          -1.2321271511876488,
          0.29910009937757676,
          -0.18539593485926428,
          -1.28945619590427,
          0.39696306959178446,
          0.694370207176139,
          -0.2679532057619806,
          0.6478464445330818,
          -0.4988282383343721,
          -1.6079546032861718,
          1.7507638766258602,
          0.005242884837819096,
          0.25125359691177257,
          -0.23229482042008281,
          -0.9157632735360842,
          0.19640311609892663,
          -1.3062721849837655,
          0.4339583497922634,
          -1.229079058345127,
          -1.115240077344917,
          0.12379795927408499,
          2.6290620243327067,
          0.3998538531848044,
          0.45893027219882326,
          -0.7086162503195204,
          0.057001724806481205,
          0.029529428385691656,
          -0.1534944558163816,
          0.8870271703734542,
          -1.8295512441698598,
          0.9303258214684024,
          -1.3794435848247562,
          -0.07751135502855382,
          0.22194716382883783,
          -0.9513732804851377,
          0.6170642625680876,
          1.174827368853181,
          -1.7776866913199962,
          -1.690521991664963,
          0.3160827137707872,
          0.8005986394539232,
          -1.6980350094685637,
          -1.2304179781414055,
          -0.901279065228436,
          0.22598156079956105,
          0.3232752239225913,
          0.29907964573518026,
          -0.16176374150177283,
          0.6745298559739035,
          -1.4039829245790993,
          -0.7949168861300312,
          0.8842730651829632,
          -0.7882189620982454,
          -0.7676887445502899,
          -0.6083321443906384,
          1.6090599247918695,
          -0.5152246440526308,
          -0.3464353213483669,
          -0.28668138720437186,
          0.8387664451015886,
          0.7879805141342737,
          1.0128081521957695,
          1.4073545183039107,
          -0.838922259663184,
          -1.559188829826368,
          -0.10949875615111043,
          0.5570685284421174,
          -0.5377441150506823,
          0.7886033547968465
         ]
        },
        {
         "line": {
          "color": "rgba(55, 128, 191, 1.0)",
          "dash": "solid",
          "shape": "linear",
          "width": 1.3
         },
         "mode": "lines",
         "name": "b",
         "text": "",
         "type": "scatter",
         "x": [
          0,
          1,
          2,
          3,
          4,
          5,
          6,
          7,
          8,
          9,
          10,
          11,
          12,
          13,
          14,
          15,
          16,
          17,
          18,
          19,
          20,
          21,
          22,
          23,
          24,
          25,
          26,
          27,
          28,
          29,
          30,
          31,
          32,
          33,
          34,
          35,
          36,
          37,
          38,
          39,
          40,
          41,
          42,
          43,
          44,
          45,
          46,
          47,
          48,
          49,
          50,
          51,
          52,
          53,
          54,
          55,
          56,
          57,
          58,
          59,
          60,
          61,
          62,
          63,
          64,
          65,
          66,
          67,
          68,
          69,
          70,
          71,
          72,
          73,
          74,
          75,
          76,
          77,
          78,
          79,
          80,
          81,
          82,
          83,
          84,
          85,
          86,
          87,
          88,
          89,
          90,
          91,
          92,
          93,
          94,
          95,
          96,
          97,
          98,
          99
         ],
         "y": [
          -0.716753785541702,
          0.1466280511998309,
          -0.6006519808735739,
          -0.5415580708273,
          -1.7400320426706721,
          0.06483281643880595,
          0.9267383919456018,
          0.2754962391363442,
          -0.06963639112657052,
          0.43293104058293036,
          -0.13165251266138508,
          0.3688569256553953,
          1.101879648066124,
          1.0069678548545076,
          -1.0246405999495924,
          -0.037202033114178676,
          0.259486510387421,
          -0.05785681071930317,
          -1.4405479471178548,
          -0.8243764549033302,
          -0.1175958470954889,
          -1.1981943378901034,
          0.1487120785832584,
          1.0764514860316108,
          -0.1310759686583265,
          0.7870838978756679,
          0.09754672432005959,
          -1.4826931311691334,
          1.0793655584203048,
          0.9233239197538965,
          1.3166320867203176,
          0.18222042165689503,
          -0.06256287722059806,
          1.1043295807781548,
          -0.6150240875265599,
          0.790514023860243,
          -2.0799884828014936,
          0.5008675581779642,
          -0.6810354084403812,
          -1.2386481384626733,
          -1.2911154417873516,
          -0.5154920168362496,
          -0.4031392471329243,
          0.9983704720180332,
          -1.0160075337650878,
          1.886243651028083,
          -0.5715465786042008,
          -1.2679931356019523,
          1.6614338951907,
          -0.17792785850635345,
          1.4745507719444697,
          1.1776871716912736,
          -1.2561713012470577,
          -0.24638872835020778,
          1.4670954437869548,
          -0.189173117161535,
          -0.3527437302423633,
          -1.7117404210798368,
          0.048457522093129965,
          0.9007265389917656,
          -0.42341732249635067,
          0.0816182553248051,
          -0.21089804096281775,
          1.6556331387431482,
          -0.13153184493536688,
          1.181944111964066,
          2.5830824420534,
          0.4106671915172332,
          -1.266706022491882,
          0.3949972411593756,
          -0.5686340208377227,
          -1.6296276350686436,
          -0.47748567224339156,
          -0.13072699147207864,
          0.4200392298325099,
          -0.7813031954177223,
          -1.9529817674828185,
          0.866984811466902,
          -1.734427964729059,
          -1.2781840402669344,
          -1.2910708778295,
          -0.3989670450326166,
          0.8745687117774343,
          -1.2311660756455374,
          0.6089849716765106,
          1.048143379954883,
          0.3721709975994528,
          -1.1576133027199618,
          -0.34453151051109965,
          -1.0338932199109123,
          -0.9460628162322431,
          -0.04923179092455275,
          -1.0520628606997837,
          0.1852383456745756,
          -1.0632232978375835,
          -0.09162384543826531,
          0.6831550325518608,
          0.9278729993391939,
          -0.47421170746718716,
          -2.1165065532109923
         ]
        },
        {
         "line": {
          "color": "rgba(50, 171, 96, 1.0)",
          "dash": "solid",
          "shape": "linear",
          "width": 1.3
         },
         "mode": "lines",
         "name": "c",
         "text": "",
         "type": "scatter",
         "x": [
          0,
          1,
          2,
          3,
          4,
          5,
          6,
          7,
          8,
          9,
          10,
          11,
          12,
          13,
          14,
          15,
          16,
          17,
          18,
          19,
          20,
          21,
          22,
          23,
          24,
          25,
          26,
          27,
          28,
          29,
          30,
          31,
          32,
          33,
          34,
          35,
          36,
          37,
          38,
          39,
          40,
          41,
          42,
          43,
          44,
          45,
          46,
          47,
          48,
          49,
          50,
          51,
          52,
          53,
          54,
          55,
          56,
          57,
          58,
          59,
          60,
          61,
          62,
          63,
          64,
          65,
          66,
          67,
          68,
          69,
          70,
          71,
          72,
          73,
          74,
          75,
          76,
          77,
          78,
          79,
          80,
          81,
          82,
          83,
          84,
          85,
          86,
          87,
          88,
          89,
          90,
          91,
          92,
          93,
          94,
          95,
          96,
          97,
          98,
          99
         ],
         "y": [
          -1.4574517012520272,
          1.616925654315569,
          -1.554079012755402,
          -1.3165598564774106,
          -0.580298637975121,
          -1.6622341146471158,
          0.0039029501057902772,
          0.8855012353492825,
          -1.1843262679473314,
          -0.8762274816520518,
          -2.4646576366704944,
          -0.11414376769157988,
          -1.1574256893431913,
          -0.28131202269853645,
          1.6284928461930106,
          -1.1270331276821361,
          -1.344704448640053,
          1.1875302280251283,
          0.15559218997485583,
          -0.694260078532112,
          -0.29230645832071095,
          -0.4992558232676912,
          2.2688498517230893,
          0.8712707377838431,
          -1.8036431447735157,
          -0.7676519683585615,
          -1.2829084489005982,
          -0.5016259466438856,
          -0.184038073037974,
          -0.6806145366236737,
          1.3825998331661564,
          0.5558087648980298,
          0.4674027907247537,
          -0.1549875719036628,
          -0.7654380083742985,
          -0.4334620098771487,
          -0.6188327405333642,
          0.5113328091437372,
          -0.2408638527363929,
          -0.5205996360579126,
          1.0248637764154853,
          0.2991721298703997,
          0.45632859815423865,
          -0.9165600624818021,
          -0.44150693650391165,
          0.42136716310207434,
          -1.2432181110372378,
          1.0761841766878144,
          0.7271372108552653,
          0.15546762147580842,
          0.6033910326548694,
          -2.044292625815654,
          -0.9504839369270148,
          0.38448091998306994,
          0.15621297799152092,
          0.8973509172710784,
          0.026233284321891336,
          0.9054939180728044,
          0.10031640150414387,
          -2.566416680691887,
          0.8578496553772357,
          0.04616710992563474,
          -0.4143519451742939,
          0.8982911790569463,
          -0.05048697730085292,
          -0.6385282870452667,
          -1.0250444618637682,
          0.689639711080981,
          1.8719098341594118,
          -0.5409850552157894,
          -0.01957191723265198,
          1.716922728791775,
          0.6554178012225307,
          -0.5570779687502161,
          -0.2421632594089551,
          -0.5900055298173724,
          0.7918831028021635,
          1.1758606862114478,
          -0.12566303634482529,
          -2.9377823589005674,
          -0.4739948397669631,
          0.2360822009977156,
          0.3880072625953246,
          1.0820181968440927,
          -1.2042895773888243,
          -0.7307572670679031,
          -0.9011519959149107,
          0.5032055368961691,
          0.8620177087655849,
          -0.11785406490076067,
          1.9448207551672967,
          -1.6170836002097697,
          0.24263889685777973,
          -1.0640079092624295,
          2.0609860331539123,
          -0.0027704454288980614,
          2.3348516223314975,
          0.9078533647685604,
          -1.4074955229616364,
          0.3569938923431798
         ]
        },
        {
         "line": {
          "color": "rgba(128, 0, 128, 1.0)",
          "dash": "solid",
          "shape": "linear",
          "width": 1.3
         },
         "mode": "lines",
         "name": "d",
         "text": "",
         "type": "scatter",
         "x": [
          0,
          1,
          2,
          3,
          4,
          5,
          6,
          7,
          8,
          9,
          10,
          11,
          12,
          13,
          14,
          15,
          16,
          17,
          18,
          19,
          20,
          21,
          22,
          23,
          24,
          25,
          26,
          27,
          28,
          29,
          30,
          31,
          32,
          33,
          34,
          35,
          36,
          37,
          38,
          39,
          40,
          41,
          42,
          43,
          44,
          45,
          46,
          47,
          48,
          49,
          50,
          51,
          52,
          53,
          54,
          55,
          56,
          57,
          58,
          59,
          60,
          61,
          62,
          63,
          64,
          65,
          66,
          67,
          68,
          69,
          70,
          71,
          72,
          73,
          74,
          75,
          76,
          77,
          78,
          79,
          80,
          81,
          82,
          83,
          84,
          85,
          86,
          87,
          88,
          89,
          90,
          91,
          92,
          93,
          94,
          95,
          96,
          97,
          98,
          99
         ],
         "y": [
          2.3168273884694734,
          0.39458319641642464,
          -0.46510318054608163,
          -0.20172718202204393,
          -0.24189053063818983,
          -0.792642437428442,
          -0.7401698295328846,
          -1.6801107382717764,
          -0.4817563971652019,
          1.5451818928436343,
          -0.22888853476448212,
          1.4780655993868645,
          -0.767531470835622,
          -0.6532088894241367,
          -0.8514192088845505,
          -1.5254673915519978,
          -1.4537449170569778,
          -0.6320374135597754,
          -0.8111518709770245,
          0.861081336229097,
          1.398138867193178,
          1.6404486362786317,
          0.6573956893296753,
          0.22476108022847083,
          -0.2913070574236847,
          1.5958957556512083,
          0.1601336724116086,
          -1.3320058902909229,
          1.0081466141810744,
          0.32324195296946145,
          -0.7879628462741596,
          -0.8374729790360113,
          -0.6381494389997875,
          0.31177265196395976,
          -1.1812845002923689,
          -0.0032961040756202963,
          -1.4025396209387575,
          -0.6452642332947516,
          0.10767114802755778,
          -1.7139180836635397,
          0.776903516254839,
          0.08644358216921927,
          -1.1838441134944493,
          -0.6951559872484373,
          0.7020684612347757,
          -0.09257493287535283,
          -1.220722643372712,
          -0.7187472041161967,
          -0.017343737356023715,
          0.09737197968014913,
          -1.014912564771148,
          0.9485883343880211,
          -1.4700120494045807,
          0.527090124873511,
          0.981897523303843,
          -0.3729055802591033,
          -1.6546241743330667,
          1.0030031251048521,
          -0.10009683865690405,
          0.6562216961141715,
          -0.743623457689815,
          -1.2941608938560312,
          -0.3990600877641281,
          -0.43141935572373885,
          0.7232784352637682,
          -0.48702320351926975,
          -1.4411058137972361,
          -0.07500513796421322,
          0.23258225057884316,
          -0.009442055362124542,
          -1.1299073084348996,
          2.305132922619832,
          1.151453310017223,
          -1.7161278508924651,
          -0.10216223260372957,
          -1.5974074792176651,
          -0.7634211473180553,
          0.7452180047870218,
          -0.1850689346138391,
          0.08824655821509114,
          -1.1552205198591217,
          -0.3679056931079725,
          1.141413950342741,
          -1.218427511084178,
          0.022191477204873092,
          -0.5097153447922266,
          -0.547101576777799,
          -0.006209405227791605,
          -0.8802870712850492,
          1.5497504397861899,
          -1.5625590276124781,
          -0.3461301297115325,
          -0.5852204321669262,
          -0.4967761599657341,
          1.1677411209788946,
          1.7802429315922845,
          0.4907884854912572,
          -1.0585976439081948,
          -0.6230413266517936,
          -1.2962820739344532
         ]
        }
       ],
       "layout": {
        "legend": {
         "bgcolor": "#F5F6F9",
         "font": {
          "color": "#4D5663"
         }
        },
        "paper_bgcolor": "#F5F6F9",
        "plot_bgcolor": "#F5F6F9",
        "template": {
         "data": {
          "bar": [
           {
            "error_x": {
             "color": "#2a3f5f"
            },
            "error_y": {
             "color": "#2a3f5f"
            },
            "marker": {
             "line": {
              "color": "#E5ECF6",
              "width": 0.5
             }
            },
            "type": "bar"
           }
          ],
          "barpolar": [
           {
            "marker": {
             "line": {
              "color": "#E5ECF6",
              "width": 0.5
             }
            },
            "type": "barpolar"
           }
          ],
          "carpet": [
           {
            "aaxis": {
             "endlinecolor": "#2a3f5f",
             "gridcolor": "white",
             "linecolor": "white",
             "minorgridcolor": "white",
             "startlinecolor": "#2a3f5f"
            },
            "baxis": {
             "endlinecolor": "#2a3f5f",
             "gridcolor": "white",
             "linecolor": "white",
             "minorgridcolor": "white",
             "startlinecolor": "#2a3f5f"
            },
            "type": "carpet"
           }
          ],
          "choropleth": [
           {
            "colorbar": {
             "outlinewidth": 0,
             "ticks": ""
            },
            "type": "choropleth"
           }
          ],
          "contour": [
           {
            "colorbar": {
             "outlinewidth": 0,
             "ticks": ""
            },
            "colorscale": [
             [
              0,
              "#0d0887"
             ],
             [
              0.1111111111111111,
              "#46039f"
             ],
             [
              0.2222222222222222,
              "#7201a8"
             ],
             [
              0.3333333333333333,
              "#9c179e"
             ],
             [
              0.4444444444444444,
              "#bd3786"
             ],
             [
              0.5555555555555556,
              "#d8576b"
             ],
             [
              0.6666666666666666,
              "#ed7953"
             ],
             [
              0.7777777777777778,
              "#fb9f3a"
             ],
             [
              0.8888888888888888,
              "#fdca26"
             ],
             [
              1,
              "#f0f921"
             ]
            ],
            "type": "contour"
           }
          ],
          "contourcarpet": [
           {
            "colorbar": {
             "outlinewidth": 0,
             "ticks": ""
            },
            "type": "contourcarpet"
           }
          ],
          "heatmap": [
           {
            "colorbar": {
             "outlinewidth": 0,
             "ticks": ""
            },
            "colorscale": [
             [
              0,
              "#0d0887"
             ],
             [
              0.1111111111111111,
              "#46039f"
             ],
             [
              0.2222222222222222,
              "#7201a8"
             ],
             [
              0.3333333333333333,
              "#9c179e"
             ],
             [
              0.4444444444444444,
              "#bd3786"
             ],
             [
              0.5555555555555556,
              "#d8576b"
             ],
             [
              0.6666666666666666,
              "#ed7953"
             ],
             [
              0.7777777777777778,
              "#fb9f3a"
             ],
             [
              0.8888888888888888,
              "#fdca26"
             ],
             [
              1,
              "#f0f921"
             ]
            ],
            "type": "heatmap"
           }
          ],
          "heatmapgl": [
           {
            "colorbar": {
             "outlinewidth": 0,
             "ticks": ""
            },
            "colorscale": [
             [
              0,
              "#0d0887"
             ],
             [
              0.1111111111111111,
              "#46039f"
             ],
             [
              0.2222222222222222,
              "#7201a8"
             ],
             [
              0.3333333333333333,
              "#9c179e"
             ],
             [
              0.4444444444444444,
              "#bd3786"
             ],
             [
              0.5555555555555556,
              "#d8576b"
             ],
             [
              0.6666666666666666,
              "#ed7953"
             ],
             [
              0.7777777777777778,
              "#fb9f3a"
             ],
             [
              0.8888888888888888,
              "#fdca26"
             ],
             [
              1,
              "#f0f921"
             ]
            ],
            "type": "heatmapgl"
           }
          ],
          "histogram": [
           {
            "marker": {
             "colorbar": {
              "outlinewidth": 0,
              "ticks": ""
             }
            },
            "type": "histogram"
           }
          ],
          "histogram2d": [
           {
            "colorbar": {
             "outlinewidth": 0,
             "ticks": ""
            },
            "colorscale": [
             [
              0,
              "#0d0887"
             ],
             [
              0.1111111111111111,
              "#46039f"
             ],
             [
              0.2222222222222222,
              "#7201a8"
             ],
             [
              0.3333333333333333,
              "#9c179e"
             ],
             [
              0.4444444444444444,
              "#bd3786"
             ],
             [
              0.5555555555555556,
              "#d8576b"
             ],
             [
              0.6666666666666666,
              "#ed7953"
             ],
             [
              0.7777777777777778,
              "#fb9f3a"
             ],
             [
              0.8888888888888888,
              "#fdca26"
             ],
             [
              1,
              "#f0f921"
             ]
            ],
            "type": "histogram2d"
           }
          ],
          "histogram2dcontour": [
           {
            "colorbar": {
             "outlinewidth": 0,
             "ticks": ""
            },
            "colorscale": [
             [
              0,
              "#0d0887"
             ],
             [
              0.1111111111111111,
              "#46039f"
             ],
             [
              0.2222222222222222,
              "#7201a8"
             ],
             [
              0.3333333333333333,
              "#9c179e"
             ],
             [
              0.4444444444444444,
              "#bd3786"
             ],
             [
              0.5555555555555556,
              "#d8576b"
             ],
             [
              0.6666666666666666,
              "#ed7953"
             ],
             [
              0.7777777777777778,
              "#fb9f3a"
             ],
             [
              0.8888888888888888,
              "#fdca26"
             ],
             [
              1,
              "#f0f921"
             ]
            ],
            "type": "histogram2dcontour"
           }
          ],
          "mesh3d": [
           {
            "colorbar": {
             "outlinewidth": 0,
             "ticks": ""
            },
            "type": "mesh3d"
           }
          ],
          "parcoords": [
           {
            "line": {
             "colorbar": {
              "outlinewidth": 0,
              "ticks": ""
             }
            },
            "type": "parcoords"
           }
          ],
          "pie": [
           {
            "automargin": true,
            "type": "pie"
           }
          ],
          "scatter": [
           {
            "marker": {
             "colorbar": {
              "outlinewidth": 0,
              "ticks": ""
             }
            },
            "type": "scatter"
           }
          ],
          "scatter3d": [
           {
            "line": {
             "colorbar": {
              "outlinewidth": 0,
              "ticks": ""
             }
            },
            "marker": {
             "colorbar": {
              "outlinewidth": 0,
              "ticks": ""
             }
            },
            "type": "scatter3d"
           }
          ],
          "scattercarpet": [
           {
            "marker": {
             "colorbar": {
              "outlinewidth": 0,
              "ticks": ""
             }
            },
            "type": "scattercarpet"
           }
          ],
          "scattergeo": [
           {
            "marker": {
             "colorbar": {
              "outlinewidth": 0,
              "ticks": ""
             }
            },
            "type": "scattergeo"
           }
          ],
          "scattergl": [
           {
            "marker": {
             "colorbar": {
              "outlinewidth": 0,
              "ticks": ""
             }
            },
            "type": "scattergl"
           }
          ],
          "scattermapbox": [
           {
            "marker": {
             "colorbar": {
              "outlinewidth": 0,
              "ticks": ""
             }
            },
            "type": "scattermapbox"
           }
          ],
          "scatterpolar": [
           {
            "marker": {
             "colorbar": {
              "outlinewidth": 0,
              "ticks": ""
             }
            },
            "type": "scatterpolar"
           }
          ],
          "scatterpolargl": [
           {
            "marker": {
             "colorbar": {
              "outlinewidth": 0,
              "ticks": ""
             }
            },
            "type": "scatterpolargl"
           }
          ],
          "scatterternary": [
           {
            "marker": {
             "colorbar": {
              "outlinewidth": 0,
              "ticks": ""
             }
            },
            "type": "scatterternary"
           }
          ],
          "surface": [
           {
            "colorbar": {
             "outlinewidth": 0,
             "ticks": ""
            },
            "colorscale": [
             [
              0,
              "#0d0887"
             ],
             [
              0.1111111111111111,
              "#46039f"
             ],
             [
              0.2222222222222222,
              "#7201a8"
             ],
             [
              0.3333333333333333,
              "#9c179e"
             ],
             [
              0.4444444444444444,
              "#bd3786"
             ],
             [
              0.5555555555555556,
              "#d8576b"
             ],
             [
              0.6666666666666666,
              "#ed7953"
             ],
             [
              0.7777777777777778,
              "#fb9f3a"
             ],
             [
              0.8888888888888888,
              "#fdca26"
             ],
             [
              1,
              "#f0f921"
             ]
            ],
            "type": "surface"
           }
          ],
          "table": [
           {
            "cells": {
             "fill": {
              "color": "#EBF0F8"
             },
             "line": {
              "color": "white"
             }
            },
            "header": {
             "fill": {
              "color": "#C8D4E3"
             },
             "line": {
              "color": "white"
             }
            },
            "type": "table"
           }
          ]
         },
         "layout": {
          "annotationdefaults": {
           "arrowcolor": "#2a3f5f",
           "arrowhead": 0,
           "arrowwidth": 1
          },
          "coloraxis": {
           "colorbar": {
            "outlinewidth": 0,
            "ticks": ""
           }
          },
          "colorscale": {
           "diverging": [
            [
             0,
             "#8e0152"
            ],
            [
             0.1,
             "#c51b7d"
            ],
            [
             0.2,
             "#de77ae"
            ],
            [
             0.3,
             "#f1b6da"
            ],
            [
             0.4,
             "#fde0ef"
            ],
            [
             0.5,
             "#f7f7f7"
            ],
            [
             0.6,
             "#e6f5d0"
            ],
            [
             0.7,
             "#b8e186"
            ],
            [
             0.8,
             "#7fbc41"
            ],
            [
             0.9,
             "#4d9221"
            ],
            [
             1,
             "#276419"
            ]
           ],
           "sequential": [
            [
             0,
             "#0d0887"
            ],
            [
             0.1111111111111111,
             "#46039f"
            ],
            [
             0.2222222222222222,
             "#7201a8"
            ],
            [
             0.3333333333333333,
             "#9c179e"
            ],
            [
             0.4444444444444444,
             "#bd3786"
            ],
            [
             0.5555555555555556,
             "#d8576b"
            ],
            [
             0.6666666666666666,
             "#ed7953"
            ],
            [
             0.7777777777777778,
             "#fb9f3a"
            ],
            [
             0.8888888888888888,
             "#fdca26"
            ],
            [
             1,
             "#f0f921"
            ]
           ],
           "sequentialminus": [
            [
             0,
             "#0d0887"
            ],
            [
             0.1111111111111111,
             "#46039f"
            ],
            [
             0.2222222222222222,
             "#7201a8"
            ],
            [
             0.3333333333333333,
             "#9c179e"
            ],
            [
             0.4444444444444444,
             "#bd3786"
            ],
            [
             0.5555555555555556,
             "#d8576b"
            ],
            [
             0.6666666666666666,
             "#ed7953"
            ],
            [
             0.7777777777777778,
             "#fb9f3a"
            ],
            [
             0.8888888888888888,
             "#fdca26"
            ],
            [
             1,
             "#f0f921"
            ]
           ]
          },
          "colorway": [
           "#636efa",
           "#EF553B",
           "#00cc96",
           "#ab63fa",
           "#FFA15A",
           "#19d3f3",
           "#FF6692",
           "#B6E880",
           "#FF97FF",
           "#FECB52"
          ],
          "font": {
           "color": "#2a3f5f"
          },
          "geo": {
           "bgcolor": "white",
           "lakecolor": "white",
           "landcolor": "#E5ECF6",
           "showlakes": true,
           "showland": true,
           "subunitcolor": "white"
          },
          "hoverlabel": {
           "align": "left"
          },
          "hovermode": "closest",
          "mapbox": {
           "style": "light"
          },
          "paper_bgcolor": "white",
          "plot_bgcolor": "#E5ECF6",
          "polar": {
           "angularaxis": {
            "gridcolor": "white",
            "linecolor": "white",
            "ticks": ""
           },
           "bgcolor": "#E5ECF6",
           "radialaxis": {
            "gridcolor": "white",
            "linecolor": "white",
            "ticks": ""
           }
          },
          "scene": {
           "xaxis": {
            "backgroundcolor": "#E5ECF6",
            "gridcolor": "white",
            "gridwidth": 2,
            "linecolor": "white",
            "showbackground": true,
            "ticks": "",
            "zerolinecolor": "white"
           },
           "yaxis": {
            "backgroundcolor": "#E5ECF6",
            "gridcolor": "white",
            "gridwidth": 2,
            "linecolor": "white",
            "showbackground": true,
            "ticks": "",
            "zerolinecolor": "white"
           },
           "zaxis": {
            "backgroundcolor": "#E5ECF6",
            "gridcolor": "white",
            "gridwidth": 2,
            "linecolor": "white",
            "showbackground": true,
            "ticks": "",
            "zerolinecolor": "white"
           }
          },
          "shapedefaults": {
           "line": {
            "color": "#2a3f5f"
           }
          },
          "ternary": {
           "aaxis": {
            "gridcolor": "white",
            "linecolor": "white",
            "ticks": ""
           },
           "baxis": {
            "gridcolor": "white",
            "linecolor": "white",
            "ticks": ""
           },
           "bgcolor": "#E5ECF6",
           "caxis": {
            "gridcolor": "white",
            "linecolor": "white",
            "ticks": ""
           }
          },
          "title": {
           "x": 0.05
          },
          "xaxis": {
           "automargin": true,
           "gridcolor": "white",
           "linecolor": "white",
           "ticks": "",
           "title": {
            "standoff": 15
           },
           "zerolinecolor": "white",
           "zerolinewidth": 2
          },
          "yaxis": {
           "automargin": true,
           "gridcolor": "white",
           "linecolor": "white",
           "ticks": "",
           "title": {
            "standoff": 15
           },
           "zerolinecolor": "white",
           "zerolinewidth": 2
          }
         }
        },
        "title": {
         "font": {
          "color": "#4D5663"
         }
        },
        "xaxis": {
         "gridcolor": "#E1E5ED",
         "showgrid": true,
         "tickfont": {
          "color": "#4D5663"
         },
         "title": {
          "font": {
           "color": "#4D5663"
          },
          "text": ""
         },
         "zerolinecolor": "#E1E5ED"
        },
        "yaxis": {
         "gridcolor": "#E1E5ED",
         "showgrid": true,
         "tickfont": {
          "color": "#4D5663"
         },
         "title": {
          "font": {
           "color": "#4D5663"
          },
          "text": ""
         },
         "zerolinecolor": "#E1E5ED"
        }
       }
      },
      "text/html": [
       "<div>\n",
       "        \n",
       "        \n",
       "            <div id=\"ba0f2d26-7c8c-414b-8f8c-8c7dbb0e6303\" class=\"plotly-graph-div\" style=\"height:525px; width:100%;\"></div>\n",
       "            <script type=\"text/javascript\">\n",
       "                require([\"plotly\"], function(Plotly) {\n",
       "                    window.PLOTLYENV=window.PLOTLYENV || {};\n",
       "                    window.PLOTLYENV.BASE_URL='https://plot.ly';\n",
       "                    \n",
       "                if (document.getElementById(\"ba0f2d26-7c8c-414b-8f8c-8c7dbb0e6303\")) {\n",
       "                    Plotly.newPlot(\n",
       "                        'ba0f2d26-7c8c-414b-8f8c-8c7dbb0e6303',\n",
       "                        [{\"line\": {\"color\": \"rgba(255, 153, 51, 1.0)\", \"dash\": \"solid\", \"shape\": \"linear\", \"width\": 1.3}, \"mode\": \"lines\", \"name\": \"a\", \"text\": \"\", \"type\": \"scatter\", \"x\": [0, 1, 2, 3, 4, 5, 6, 7, 8, 9, 10, 11, 12, 13, 14, 15, 16, 17, 18, 19, 20, 21, 22, 23, 24, 25, 26, 27, 28, 29, 30, 31, 32, 33, 34, 35, 36, 37, 38, 39, 40, 41, 42, 43, 44, 45, 46, 47, 48, 49, 50, 51, 52, 53, 54, 55, 56, 57, 58, 59, 60, 61, 62, 63, 64, 65, 66, 67, 68, 69, 70, 71, 72, 73, 74, 75, 76, 77, 78, 79, 80, 81, 82, 83, 84, 85, 86, 87, 88, 89, 90, 91, 92, 93, 94, 95, 96, 97, 98, 99], \"y\": [0.292974139252864, -1.1862472468463803, -0.8501922428907918, 0.9111150495629899, 1.2365734664393244, -0.30040599005249846, 1.2105765633744126, 0.14329654371470976, 0.4816690203269885, -0.7188786553096995, 0.29107117981780284, -0.3401912914972917, -0.18610532625705425, 1.8934182437838603, 0.9927287463728656, 1.168165311884389, 1.2111889751775067, 0.19395059226497616, 0.28144601088500154, 0.2929306980738659, 1.1101162910982343, -0.20882608286556142, -0.14537398933595616, -0.6074017425049224, -0.45238438838097095, -0.36610343319996314, 0.26477062314585953, 0.14515091806317906, 0.7803251454516109, 0.608549950958882, -0.4026053747294526, -1.2321271511876488, 0.29910009937757676, -0.18539593485926428, -1.28945619590427, 0.39696306959178446, 0.694370207176139, -0.2679532057619806, 0.6478464445330818, -0.4988282383343721, -1.6079546032861718, 1.7507638766258602, 0.005242884837819096, 0.25125359691177257, -0.23229482042008281, -0.9157632735360842, 0.19640311609892663, -1.3062721849837655, 0.4339583497922634, -1.229079058345127, -1.115240077344917, 0.12379795927408499, 2.6290620243327067, 0.3998538531848044, 0.45893027219882326, -0.7086162503195204, 0.057001724806481205, 0.029529428385691656, -0.1534944558163816, 0.8870271703734542, -1.8295512441698598, 0.9303258214684024, -1.3794435848247562, -0.07751135502855382, 0.22194716382883783, -0.9513732804851377, 0.6170642625680876, 1.174827368853181, -1.7776866913199962, -1.690521991664963, 0.3160827137707872, 0.8005986394539232, -1.6980350094685637, -1.2304179781414055, -0.901279065228436, 0.22598156079956105, 0.3232752239225913, 0.29907964573518026, -0.16176374150177283, 0.6745298559739035, -1.4039829245790993, -0.7949168861300312, 0.8842730651829632, -0.7882189620982454, -0.7676887445502899, -0.6083321443906384, 1.6090599247918695, -0.5152246440526308, -0.3464353213483669, -0.28668138720437186, 0.8387664451015886, 0.7879805141342737, 1.0128081521957695, 1.4073545183039107, -0.838922259663184, -1.559188829826368, -0.10949875615111043, 0.5570685284421174, -0.5377441150506823, 0.7886033547968465]}, {\"line\": {\"color\": \"rgba(55, 128, 191, 1.0)\", \"dash\": \"solid\", \"shape\": \"linear\", \"width\": 1.3}, \"mode\": \"lines\", \"name\": \"b\", \"text\": \"\", \"type\": \"scatter\", \"x\": [0, 1, 2, 3, 4, 5, 6, 7, 8, 9, 10, 11, 12, 13, 14, 15, 16, 17, 18, 19, 20, 21, 22, 23, 24, 25, 26, 27, 28, 29, 30, 31, 32, 33, 34, 35, 36, 37, 38, 39, 40, 41, 42, 43, 44, 45, 46, 47, 48, 49, 50, 51, 52, 53, 54, 55, 56, 57, 58, 59, 60, 61, 62, 63, 64, 65, 66, 67, 68, 69, 70, 71, 72, 73, 74, 75, 76, 77, 78, 79, 80, 81, 82, 83, 84, 85, 86, 87, 88, 89, 90, 91, 92, 93, 94, 95, 96, 97, 98, 99], \"y\": [-0.716753785541702, 0.1466280511998309, -0.6006519808735739, -0.5415580708273, -1.7400320426706721, 0.06483281643880595, 0.9267383919456018, 0.2754962391363442, -0.06963639112657052, 0.43293104058293036, -0.13165251266138508, 0.3688569256553953, 1.101879648066124, 1.0069678548545076, -1.0246405999495924, -0.037202033114178676, 0.259486510387421, -0.05785681071930317, -1.4405479471178548, -0.8243764549033302, -0.1175958470954889, -1.1981943378901034, 0.1487120785832584, 1.0764514860316108, -0.1310759686583265, 0.7870838978756679, 0.09754672432005959, -1.4826931311691334, 1.0793655584203048, 0.9233239197538965, 1.3166320867203176, 0.18222042165689503, -0.06256287722059806, 1.1043295807781548, -0.6150240875265599, 0.790514023860243, -2.0799884828014936, 0.5008675581779642, -0.6810354084403812, -1.2386481384626733, -1.2911154417873516, -0.5154920168362496, -0.4031392471329243, 0.9983704720180332, -1.0160075337650878, 1.886243651028083, -0.5715465786042008, -1.2679931356019523, 1.6614338951907, -0.17792785850635345, 1.4745507719444697, 1.1776871716912736, -1.2561713012470577, -0.24638872835020778, 1.4670954437869548, -0.189173117161535, -0.3527437302423633, -1.7117404210798368, 0.048457522093129965, 0.9007265389917656, -0.42341732249635067, 0.0816182553248051, -0.21089804096281775, 1.6556331387431482, -0.13153184493536688, 1.181944111964066, 2.5830824420534, 0.4106671915172332, -1.266706022491882, 0.3949972411593756, -0.5686340208377227, -1.6296276350686436, -0.47748567224339156, -0.13072699147207864, 0.4200392298325099, -0.7813031954177223, -1.9529817674828185, 0.866984811466902, -1.734427964729059, -1.2781840402669344, -1.2910708778295, -0.3989670450326166, 0.8745687117774343, -1.2311660756455374, 0.6089849716765106, 1.048143379954883, 0.3721709975994528, -1.1576133027199618, -0.34453151051109965, -1.0338932199109123, -0.9460628162322431, -0.04923179092455275, -1.0520628606997837, 0.1852383456745756, -1.0632232978375835, -0.09162384543826531, 0.6831550325518608, 0.9278729993391939, -0.47421170746718716, -2.1165065532109923]}, {\"line\": {\"color\": \"rgba(50, 171, 96, 1.0)\", \"dash\": \"solid\", \"shape\": \"linear\", \"width\": 1.3}, \"mode\": \"lines\", \"name\": \"c\", \"text\": \"\", \"type\": \"scatter\", \"x\": [0, 1, 2, 3, 4, 5, 6, 7, 8, 9, 10, 11, 12, 13, 14, 15, 16, 17, 18, 19, 20, 21, 22, 23, 24, 25, 26, 27, 28, 29, 30, 31, 32, 33, 34, 35, 36, 37, 38, 39, 40, 41, 42, 43, 44, 45, 46, 47, 48, 49, 50, 51, 52, 53, 54, 55, 56, 57, 58, 59, 60, 61, 62, 63, 64, 65, 66, 67, 68, 69, 70, 71, 72, 73, 74, 75, 76, 77, 78, 79, 80, 81, 82, 83, 84, 85, 86, 87, 88, 89, 90, 91, 92, 93, 94, 95, 96, 97, 98, 99], \"y\": [-1.4574517012520272, 1.616925654315569, -1.554079012755402, -1.3165598564774106, -0.580298637975121, -1.6622341146471158, 0.0039029501057902772, 0.8855012353492825, -1.1843262679473314, -0.8762274816520518, -2.4646576366704944, -0.11414376769157988, -1.1574256893431913, -0.28131202269853645, 1.6284928461930106, -1.1270331276821361, -1.344704448640053, 1.1875302280251283, 0.15559218997485583, -0.694260078532112, -0.29230645832071095, -0.4992558232676912, 2.2688498517230893, 0.8712707377838431, -1.8036431447735157, -0.7676519683585615, -1.2829084489005982, -0.5016259466438856, -0.184038073037974, -0.6806145366236737, 1.3825998331661564, 0.5558087648980298, 0.4674027907247537, -0.1549875719036628, -0.7654380083742985, -0.4334620098771487, -0.6188327405333642, 0.5113328091437372, -0.2408638527363929, -0.5205996360579126, 1.0248637764154853, 0.2991721298703997, 0.45632859815423865, -0.9165600624818021, -0.44150693650391165, 0.42136716310207434, -1.2432181110372378, 1.0761841766878144, 0.7271372108552653, 0.15546762147580842, 0.6033910326548694, -2.044292625815654, -0.9504839369270148, 0.38448091998306994, 0.15621297799152092, 0.8973509172710784, 0.026233284321891336, 0.9054939180728044, 0.10031640150414387, -2.566416680691887, 0.8578496553772357, 0.04616710992563474, -0.4143519451742939, 0.8982911790569463, -0.05048697730085292, -0.6385282870452667, -1.0250444618637682, 0.689639711080981, 1.8719098341594118, -0.5409850552157894, -0.01957191723265198, 1.716922728791775, 0.6554178012225307, -0.5570779687502161, -0.2421632594089551, -0.5900055298173724, 0.7918831028021635, 1.1758606862114478, -0.12566303634482529, -2.9377823589005674, -0.4739948397669631, 0.2360822009977156, 0.3880072625953246, 1.0820181968440927, -1.2042895773888243, -0.7307572670679031, -0.9011519959149107, 0.5032055368961691, 0.8620177087655849, -0.11785406490076067, 1.9448207551672967, -1.6170836002097697, 0.24263889685777973, -1.0640079092624295, 2.0609860331539123, -0.0027704454288980614, 2.3348516223314975, 0.9078533647685604, -1.4074955229616364, 0.3569938923431798]}, {\"line\": {\"color\": \"rgba(128, 0, 128, 1.0)\", \"dash\": \"solid\", \"shape\": \"linear\", \"width\": 1.3}, \"mode\": \"lines\", \"name\": \"d\", \"text\": \"\", \"type\": \"scatter\", \"x\": [0, 1, 2, 3, 4, 5, 6, 7, 8, 9, 10, 11, 12, 13, 14, 15, 16, 17, 18, 19, 20, 21, 22, 23, 24, 25, 26, 27, 28, 29, 30, 31, 32, 33, 34, 35, 36, 37, 38, 39, 40, 41, 42, 43, 44, 45, 46, 47, 48, 49, 50, 51, 52, 53, 54, 55, 56, 57, 58, 59, 60, 61, 62, 63, 64, 65, 66, 67, 68, 69, 70, 71, 72, 73, 74, 75, 76, 77, 78, 79, 80, 81, 82, 83, 84, 85, 86, 87, 88, 89, 90, 91, 92, 93, 94, 95, 96, 97, 98, 99], \"y\": [2.3168273884694734, 0.39458319641642464, -0.46510318054608163, -0.20172718202204393, -0.24189053063818983, -0.792642437428442, -0.7401698295328846, -1.6801107382717764, -0.4817563971652019, 1.5451818928436343, -0.22888853476448212, 1.4780655993868645, -0.767531470835622, -0.6532088894241367, -0.8514192088845505, -1.5254673915519978, -1.4537449170569778, -0.6320374135597754, -0.8111518709770245, 0.861081336229097, 1.398138867193178, 1.6404486362786317, 0.6573956893296753, 0.22476108022847083, -0.2913070574236847, 1.5958957556512083, 0.1601336724116086, -1.3320058902909229, 1.0081466141810744, 0.32324195296946145, -0.7879628462741596, -0.8374729790360113, -0.6381494389997875, 0.31177265196395976, -1.1812845002923689, -0.0032961040756202963, -1.4025396209387575, -0.6452642332947516, 0.10767114802755778, -1.7139180836635397, 0.776903516254839, 0.08644358216921927, -1.1838441134944493, -0.6951559872484373, 0.7020684612347757, -0.09257493287535283, -1.220722643372712, -0.7187472041161967, -0.017343737356023715, 0.09737197968014913, -1.014912564771148, 0.9485883343880211, -1.4700120494045807, 0.527090124873511, 0.981897523303843, -0.3729055802591033, -1.6546241743330667, 1.0030031251048521, -0.10009683865690405, 0.6562216961141715, -0.743623457689815, -1.2941608938560312, -0.3990600877641281, -0.43141935572373885, 0.7232784352637682, -0.48702320351926975, -1.4411058137972361, -0.07500513796421322, 0.23258225057884316, -0.009442055362124542, -1.1299073084348996, 2.305132922619832, 1.151453310017223, -1.7161278508924651, -0.10216223260372957, -1.5974074792176651, -0.7634211473180553, 0.7452180047870218, -0.1850689346138391, 0.08824655821509114, -1.1552205198591217, -0.3679056931079725, 1.141413950342741, -1.218427511084178, 0.022191477204873092, -0.5097153447922266, -0.547101576777799, -0.006209405227791605, -0.8802870712850492, 1.5497504397861899, -1.5625590276124781, -0.3461301297115325, -0.5852204321669262, -0.4967761599657341, 1.1677411209788946, 1.7802429315922845, 0.4907884854912572, -1.0585976439081948, -0.6230413266517936, -1.2962820739344532]}],\n",
       "                        {\"legend\": {\"bgcolor\": \"#F5F6F9\", \"font\": {\"color\": \"#4D5663\"}}, \"paper_bgcolor\": \"#F5F6F9\", \"plot_bgcolor\": \"#F5F6F9\", \"template\": {\"data\": {\"bar\": [{\"error_x\": {\"color\": \"#2a3f5f\"}, \"error_y\": {\"color\": \"#2a3f5f\"}, \"marker\": {\"line\": {\"color\": \"#E5ECF6\", \"width\": 0.5}}, \"type\": \"bar\"}], \"barpolar\": [{\"marker\": {\"line\": {\"color\": \"#E5ECF6\", \"width\": 0.5}}, \"type\": \"barpolar\"}], \"carpet\": [{\"aaxis\": {\"endlinecolor\": \"#2a3f5f\", \"gridcolor\": \"white\", \"linecolor\": \"white\", \"minorgridcolor\": \"white\", \"startlinecolor\": \"#2a3f5f\"}, \"baxis\": {\"endlinecolor\": \"#2a3f5f\", \"gridcolor\": \"white\", \"linecolor\": \"white\", \"minorgridcolor\": \"white\", \"startlinecolor\": \"#2a3f5f\"}, \"type\": \"carpet\"}], \"choropleth\": [{\"colorbar\": {\"outlinewidth\": 0, \"ticks\": \"\"}, \"type\": \"choropleth\"}], \"contour\": [{\"colorbar\": {\"outlinewidth\": 0, \"ticks\": \"\"}, \"colorscale\": [[0.0, \"#0d0887\"], [0.1111111111111111, \"#46039f\"], [0.2222222222222222, \"#7201a8\"], [0.3333333333333333, \"#9c179e\"], [0.4444444444444444, \"#bd3786\"], [0.5555555555555556, \"#d8576b\"], [0.6666666666666666, \"#ed7953\"], [0.7777777777777778, \"#fb9f3a\"], [0.8888888888888888, \"#fdca26\"], [1.0, \"#f0f921\"]], \"type\": \"contour\"}], \"contourcarpet\": [{\"colorbar\": {\"outlinewidth\": 0, \"ticks\": \"\"}, \"type\": \"contourcarpet\"}], \"heatmap\": [{\"colorbar\": {\"outlinewidth\": 0, \"ticks\": \"\"}, \"colorscale\": [[0.0, \"#0d0887\"], [0.1111111111111111, \"#46039f\"], [0.2222222222222222, \"#7201a8\"], [0.3333333333333333, \"#9c179e\"], [0.4444444444444444, \"#bd3786\"], [0.5555555555555556, \"#d8576b\"], [0.6666666666666666, \"#ed7953\"], [0.7777777777777778, \"#fb9f3a\"], [0.8888888888888888, \"#fdca26\"], [1.0, \"#f0f921\"]], \"type\": \"heatmap\"}], \"heatmapgl\": [{\"colorbar\": {\"outlinewidth\": 0, \"ticks\": \"\"}, \"colorscale\": [[0.0, \"#0d0887\"], [0.1111111111111111, \"#46039f\"], [0.2222222222222222, \"#7201a8\"], [0.3333333333333333, \"#9c179e\"], [0.4444444444444444, \"#bd3786\"], [0.5555555555555556, \"#d8576b\"], [0.6666666666666666, \"#ed7953\"], [0.7777777777777778, \"#fb9f3a\"], [0.8888888888888888, \"#fdca26\"], [1.0, \"#f0f921\"]], \"type\": \"heatmapgl\"}], \"histogram\": [{\"marker\": {\"colorbar\": {\"outlinewidth\": 0, \"ticks\": \"\"}}, \"type\": \"histogram\"}], \"histogram2d\": [{\"colorbar\": {\"outlinewidth\": 0, \"ticks\": \"\"}, \"colorscale\": [[0.0, \"#0d0887\"], [0.1111111111111111, \"#46039f\"], [0.2222222222222222, \"#7201a8\"], [0.3333333333333333, \"#9c179e\"], [0.4444444444444444, \"#bd3786\"], [0.5555555555555556, \"#d8576b\"], [0.6666666666666666, \"#ed7953\"], [0.7777777777777778, \"#fb9f3a\"], [0.8888888888888888, \"#fdca26\"], [1.0, \"#f0f921\"]], \"type\": \"histogram2d\"}], \"histogram2dcontour\": [{\"colorbar\": {\"outlinewidth\": 0, \"ticks\": \"\"}, \"colorscale\": [[0.0, \"#0d0887\"], [0.1111111111111111, \"#46039f\"], [0.2222222222222222, \"#7201a8\"], [0.3333333333333333, \"#9c179e\"], [0.4444444444444444, \"#bd3786\"], [0.5555555555555556, \"#d8576b\"], [0.6666666666666666, \"#ed7953\"], [0.7777777777777778, \"#fb9f3a\"], [0.8888888888888888, \"#fdca26\"], [1.0, \"#f0f921\"]], \"type\": \"histogram2dcontour\"}], \"mesh3d\": [{\"colorbar\": {\"outlinewidth\": 0, \"ticks\": \"\"}, \"type\": \"mesh3d\"}], \"parcoords\": [{\"line\": {\"colorbar\": {\"outlinewidth\": 0, \"ticks\": \"\"}}, \"type\": \"parcoords\"}], \"pie\": [{\"automargin\": true, \"type\": \"pie\"}], \"scatter\": [{\"marker\": {\"colorbar\": {\"outlinewidth\": 0, \"ticks\": \"\"}}, \"type\": \"scatter\"}], \"scatter3d\": [{\"line\": {\"colorbar\": {\"outlinewidth\": 0, \"ticks\": \"\"}}, \"marker\": {\"colorbar\": {\"outlinewidth\": 0, \"ticks\": \"\"}}, \"type\": \"scatter3d\"}], \"scattercarpet\": [{\"marker\": {\"colorbar\": {\"outlinewidth\": 0, \"ticks\": \"\"}}, \"type\": \"scattercarpet\"}], \"scattergeo\": [{\"marker\": {\"colorbar\": {\"outlinewidth\": 0, \"ticks\": \"\"}}, \"type\": \"scattergeo\"}], \"scattergl\": [{\"marker\": {\"colorbar\": {\"outlinewidth\": 0, \"ticks\": \"\"}}, \"type\": \"scattergl\"}], \"scattermapbox\": [{\"marker\": {\"colorbar\": {\"outlinewidth\": 0, \"ticks\": \"\"}}, \"type\": \"scattermapbox\"}], \"scatterpolar\": [{\"marker\": {\"colorbar\": {\"outlinewidth\": 0, \"ticks\": \"\"}}, \"type\": \"scatterpolar\"}], \"scatterpolargl\": [{\"marker\": {\"colorbar\": {\"outlinewidth\": 0, \"ticks\": \"\"}}, \"type\": \"scatterpolargl\"}], \"scatterternary\": [{\"marker\": {\"colorbar\": {\"outlinewidth\": 0, \"ticks\": \"\"}}, \"type\": \"scatterternary\"}], \"surface\": [{\"colorbar\": {\"outlinewidth\": 0, \"ticks\": \"\"}, \"colorscale\": [[0.0, \"#0d0887\"], [0.1111111111111111, \"#46039f\"], [0.2222222222222222, \"#7201a8\"], [0.3333333333333333, \"#9c179e\"], [0.4444444444444444, \"#bd3786\"], [0.5555555555555556, \"#d8576b\"], [0.6666666666666666, \"#ed7953\"], [0.7777777777777778, \"#fb9f3a\"], [0.8888888888888888, \"#fdca26\"], [1.0, \"#f0f921\"]], \"type\": \"surface\"}], \"table\": [{\"cells\": {\"fill\": {\"color\": \"#EBF0F8\"}, \"line\": {\"color\": \"white\"}}, \"header\": {\"fill\": {\"color\": \"#C8D4E3\"}, \"line\": {\"color\": \"white\"}}, \"type\": \"table\"}]}, \"layout\": {\"annotationdefaults\": {\"arrowcolor\": \"#2a3f5f\", \"arrowhead\": 0, \"arrowwidth\": 1}, \"coloraxis\": {\"colorbar\": {\"outlinewidth\": 0, \"ticks\": \"\"}}, \"colorscale\": {\"diverging\": [[0, \"#8e0152\"], [0.1, \"#c51b7d\"], [0.2, \"#de77ae\"], [0.3, \"#f1b6da\"], [0.4, \"#fde0ef\"], [0.5, \"#f7f7f7\"], [0.6, \"#e6f5d0\"], [0.7, \"#b8e186\"], [0.8, \"#7fbc41\"], [0.9, \"#4d9221\"], [1, \"#276419\"]], \"sequential\": [[0.0, \"#0d0887\"], [0.1111111111111111, \"#46039f\"], [0.2222222222222222, \"#7201a8\"], [0.3333333333333333, \"#9c179e\"], [0.4444444444444444, \"#bd3786\"], [0.5555555555555556, \"#d8576b\"], [0.6666666666666666, \"#ed7953\"], [0.7777777777777778, \"#fb9f3a\"], [0.8888888888888888, \"#fdca26\"], [1.0, \"#f0f921\"]], \"sequentialminus\": [[0.0, \"#0d0887\"], [0.1111111111111111, \"#46039f\"], [0.2222222222222222, \"#7201a8\"], [0.3333333333333333, \"#9c179e\"], [0.4444444444444444, \"#bd3786\"], [0.5555555555555556, \"#d8576b\"], [0.6666666666666666, \"#ed7953\"], [0.7777777777777778, \"#fb9f3a\"], [0.8888888888888888, \"#fdca26\"], [1.0, \"#f0f921\"]]}, \"colorway\": [\"#636efa\", \"#EF553B\", \"#00cc96\", \"#ab63fa\", \"#FFA15A\", \"#19d3f3\", \"#FF6692\", \"#B6E880\", \"#FF97FF\", \"#FECB52\"], \"font\": {\"color\": \"#2a3f5f\"}, \"geo\": {\"bgcolor\": \"white\", \"lakecolor\": \"white\", \"landcolor\": \"#E5ECF6\", \"showlakes\": true, \"showland\": true, \"subunitcolor\": \"white\"}, \"hoverlabel\": {\"align\": \"left\"}, \"hovermode\": \"closest\", \"mapbox\": {\"style\": \"light\"}, \"paper_bgcolor\": \"white\", \"plot_bgcolor\": \"#E5ECF6\", \"polar\": {\"angularaxis\": {\"gridcolor\": \"white\", \"linecolor\": \"white\", \"ticks\": \"\"}, \"bgcolor\": \"#E5ECF6\", \"radialaxis\": {\"gridcolor\": \"white\", \"linecolor\": \"white\", \"ticks\": \"\"}}, \"scene\": {\"xaxis\": {\"backgroundcolor\": \"#E5ECF6\", \"gridcolor\": \"white\", \"gridwidth\": 2, \"linecolor\": \"white\", \"showbackground\": true, \"ticks\": \"\", \"zerolinecolor\": \"white\"}, \"yaxis\": {\"backgroundcolor\": \"#E5ECF6\", \"gridcolor\": \"white\", \"gridwidth\": 2, \"linecolor\": \"white\", \"showbackground\": true, \"ticks\": \"\", \"zerolinecolor\": \"white\"}, \"zaxis\": {\"backgroundcolor\": \"#E5ECF6\", \"gridcolor\": \"white\", \"gridwidth\": 2, \"linecolor\": \"white\", \"showbackground\": true, \"ticks\": \"\", \"zerolinecolor\": \"white\"}}, \"shapedefaults\": {\"line\": {\"color\": \"#2a3f5f\"}}, \"ternary\": {\"aaxis\": {\"gridcolor\": \"white\", \"linecolor\": \"white\", \"ticks\": \"\"}, \"baxis\": {\"gridcolor\": \"white\", \"linecolor\": \"white\", \"ticks\": \"\"}, \"bgcolor\": \"#E5ECF6\", \"caxis\": {\"gridcolor\": \"white\", \"linecolor\": \"white\", \"ticks\": \"\"}}, \"title\": {\"x\": 0.05}, \"xaxis\": {\"automargin\": true, \"gridcolor\": \"white\", \"linecolor\": \"white\", \"ticks\": \"\", \"title\": {\"standoff\": 15}, \"zerolinecolor\": \"white\", \"zerolinewidth\": 2}, \"yaxis\": {\"automargin\": true, \"gridcolor\": \"white\", \"linecolor\": \"white\", \"ticks\": \"\", \"title\": {\"standoff\": 15}, \"zerolinecolor\": \"white\", \"zerolinewidth\": 2}}}, \"title\": {\"font\": {\"color\": \"#4D5663\"}}, \"xaxis\": {\"gridcolor\": \"#E1E5ED\", \"showgrid\": true, \"tickfont\": {\"color\": \"#4D5663\"}, \"title\": {\"font\": {\"color\": \"#4D5663\"}, \"text\": \"\"}, \"zerolinecolor\": \"#E1E5ED\"}, \"yaxis\": {\"gridcolor\": \"#E1E5ED\", \"showgrid\": true, \"tickfont\": {\"color\": \"#4D5663\"}, \"title\": {\"font\": {\"color\": \"#4D5663\"}, \"text\": \"\"}, \"zerolinecolor\": \"#E1E5ED\"}},\n",
       "                        {\"showLink\": true, \"linkText\": \"Export to plot.ly\", \"plotlyServerURL\": \"https://plot.ly\", \"responsive\": true}\n",
       "                    ).then(function(){\n",
       "                            \n",
       "var gd = document.getElementById('ba0f2d26-7c8c-414b-8f8c-8c7dbb0e6303');\n",
       "var x = new MutationObserver(function (mutations, observer) {{\n",
       "        var display = window.getComputedStyle(gd).display;\n",
       "        if (!display || display === 'none') {{\n",
       "            console.log([gd, 'removed!']);\n",
       "            Plotly.purge(gd);\n",
       "            observer.disconnect();\n",
       "        }}\n",
       "}});\n",
       "\n",
       "// Listen for the removal of the full notebook cells\n",
       "var notebookContainer = gd.closest('#notebook-container');\n",
       "if (notebookContainer) {{\n",
       "    x.observe(notebookContainer, {childList: true});\n",
       "}}\n",
       "\n",
       "// Listen for the clearing of the current output cell\n",
       "var outputEl = gd.closest('.output');\n",
       "if (outputEl) {{\n",
       "    x.observe(outputEl, {childList: true});\n",
       "}}\n",
       "\n",
       "                        })\n",
       "                };\n",
       "                });\n",
       "            </script>\n",
       "        </div>"
      ]
     },
     "metadata": {},
     "output_type": "display_data"
    }
   ],
   "source": [
    "df.iplot();"
   ]
  },
  {
   "cell_type": "markdown",
   "metadata": {},
   "source": [
    "---------"
   ]
  },
  {
   "cell_type": "markdown",
   "metadata": {},
   "source": [
    "# Using Cufflinks and iplot()\n",
    "- scatter\n",
    "- bar\n",
    "- box\n",
    "- spread\n",
    "- ratio\n",
    "- heatmap\n",
    "- surface\n",
    "- histogram\n",
    "- bubble"
   ]
  },
  {
   "cell_type": "markdown",
   "metadata": {},
   "source": [
    "## Scatter"
   ]
  },
  {
   "cell_type": "code",
   "execution_count": 17,
   "metadata": {},
   "outputs": [
    {
     "data": {
      "application/vnd.plotly.v1+json": {
       "config": {
        "linkText": "Export to plot.ly",
        "plotlyServerURL": "https://plot.ly",
        "showLink": true
       },
       "data": [
        {
         "line": {
          "color": "rgba(255, 153, 51, 1.0)",
          "dash": "solid",
          "shape": "linear",
          "width": 1.3
         },
         "marker": {
          "size": 12,
          "symbol": "circle"
         },
         "mode": "markers",
         "name": "b",
         "text": "",
         "type": "scatter",
         "x": [
          0.292974139252864,
          -1.1862472468463803,
          -0.8501922428907918,
          0.9111150495629899,
          1.2365734664393244,
          -0.30040599005249846,
          1.2105765633744126,
          0.14329654371470976,
          0.4816690203269885,
          -0.7188786553096995,
          0.29107117981780284,
          -0.3401912914972917,
          -0.18610532625705425,
          1.8934182437838603,
          0.9927287463728656,
          1.168165311884389,
          1.2111889751775067,
          0.19395059226497616,
          0.28144601088500154,
          0.2929306980738659,
          1.1101162910982343,
          -0.20882608286556142,
          -0.14537398933595616,
          -0.6074017425049224,
          -0.45238438838097095,
          -0.36610343319996314,
          0.26477062314585953,
          0.14515091806317906,
          0.7803251454516109,
          0.608549950958882,
          -0.4026053747294526,
          -1.2321271511876488,
          0.29910009937757676,
          -0.18539593485926428,
          -1.28945619590427,
          0.39696306959178446,
          0.694370207176139,
          -0.2679532057619806,
          0.6478464445330818,
          -0.4988282383343721,
          -1.6079546032861718,
          1.7507638766258602,
          0.005242884837819096,
          0.25125359691177257,
          -0.23229482042008281,
          -0.9157632735360842,
          0.19640311609892663,
          -1.3062721849837655,
          0.4339583497922634,
          -1.229079058345127,
          -1.115240077344917,
          0.12379795927408499,
          2.6290620243327067,
          0.3998538531848044,
          0.45893027219882326,
          -0.7086162503195204,
          0.057001724806481205,
          0.029529428385691656,
          -0.1534944558163816,
          0.8870271703734542,
          -1.8295512441698598,
          0.9303258214684024,
          -1.3794435848247562,
          -0.07751135502855382,
          0.22194716382883783,
          -0.9513732804851377,
          0.6170642625680876,
          1.174827368853181,
          -1.7776866913199962,
          -1.690521991664963,
          0.3160827137707872,
          0.8005986394539232,
          -1.6980350094685637,
          -1.2304179781414055,
          -0.901279065228436,
          0.22598156079956105,
          0.3232752239225913,
          0.29907964573518026,
          -0.16176374150177283,
          0.6745298559739035,
          -1.4039829245790993,
          -0.7949168861300312,
          0.8842730651829632,
          -0.7882189620982454,
          -0.7676887445502899,
          -0.6083321443906384,
          1.6090599247918695,
          -0.5152246440526308,
          -0.3464353213483669,
          -0.28668138720437186,
          0.8387664451015886,
          0.7879805141342737,
          1.0128081521957695,
          1.4073545183039107,
          -0.838922259663184,
          -1.559188829826368,
          -0.10949875615111043,
          0.5570685284421174,
          -0.5377441150506823,
          0.7886033547968465
         ],
         "y": [
          -0.716753785541702,
          0.1466280511998309,
          -0.6006519808735739,
          -0.5415580708273,
          -1.7400320426706721,
          0.06483281643880595,
          0.9267383919456018,
          0.2754962391363442,
          -0.06963639112657052,
          0.43293104058293036,
          -0.13165251266138508,
          0.3688569256553953,
          1.101879648066124,
          1.0069678548545076,
          -1.0246405999495924,
          -0.037202033114178676,
          0.259486510387421,
          -0.05785681071930317,
          -1.4405479471178548,
          -0.8243764549033302,
          -0.1175958470954889,
          -1.1981943378901034,
          0.1487120785832584,
          1.0764514860316108,
          -0.1310759686583265,
          0.7870838978756679,
          0.09754672432005959,
          -1.4826931311691334,
          1.0793655584203048,
          0.9233239197538965,
          1.3166320867203176,
          0.18222042165689503,
          -0.06256287722059806,
          1.1043295807781548,
          -0.6150240875265599,
          0.790514023860243,
          -2.0799884828014936,
          0.5008675581779642,
          -0.6810354084403812,
          -1.2386481384626733,
          -1.2911154417873516,
          -0.5154920168362496,
          -0.4031392471329243,
          0.9983704720180332,
          -1.0160075337650878,
          1.886243651028083,
          -0.5715465786042008,
          -1.2679931356019523,
          1.6614338951907,
          -0.17792785850635345,
          1.4745507719444697,
          1.1776871716912736,
          -1.2561713012470577,
          -0.24638872835020778,
          1.4670954437869548,
          -0.189173117161535,
          -0.3527437302423633,
          -1.7117404210798368,
          0.048457522093129965,
          0.9007265389917656,
          -0.42341732249635067,
          0.0816182553248051,
          -0.21089804096281775,
          1.6556331387431482,
          -0.13153184493536688,
          1.181944111964066,
          2.5830824420534,
          0.4106671915172332,
          -1.266706022491882,
          0.3949972411593756,
          -0.5686340208377227,
          -1.6296276350686436,
          -0.47748567224339156,
          -0.13072699147207864,
          0.4200392298325099,
          -0.7813031954177223,
          -1.9529817674828185,
          0.866984811466902,
          -1.734427964729059,
          -1.2781840402669344,
          -1.2910708778295,
          -0.3989670450326166,
          0.8745687117774343,
          -1.2311660756455374,
          0.6089849716765106,
          1.048143379954883,
          0.3721709975994528,
          -1.1576133027199618,
          -0.34453151051109965,
          -1.0338932199109123,
          -0.9460628162322431,
          -0.04923179092455275,
          -1.0520628606997837,
          0.1852383456745756,
          -1.0632232978375835,
          -0.09162384543826531,
          0.6831550325518608,
          0.9278729993391939,
          -0.47421170746718716,
          -2.1165065532109923
         ]
        }
       ],
       "layout": {
        "legend": {
         "bgcolor": "#F5F6F9",
         "font": {
          "color": "#4D5663"
         }
        },
        "paper_bgcolor": "#F5F6F9",
        "plot_bgcolor": "#F5F6F9",
        "template": {
         "data": {
          "bar": [
           {
            "error_x": {
             "color": "#2a3f5f"
            },
            "error_y": {
             "color": "#2a3f5f"
            },
            "marker": {
             "line": {
              "color": "#E5ECF6",
              "width": 0.5
             }
            },
            "type": "bar"
           }
          ],
          "barpolar": [
           {
            "marker": {
             "line": {
              "color": "#E5ECF6",
              "width": 0.5
             }
            },
            "type": "barpolar"
           }
          ],
          "carpet": [
           {
            "aaxis": {
             "endlinecolor": "#2a3f5f",
             "gridcolor": "white",
             "linecolor": "white",
             "minorgridcolor": "white",
             "startlinecolor": "#2a3f5f"
            },
            "baxis": {
             "endlinecolor": "#2a3f5f",
             "gridcolor": "white",
             "linecolor": "white",
             "minorgridcolor": "white",
             "startlinecolor": "#2a3f5f"
            },
            "type": "carpet"
           }
          ],
          "choropleth": [
           {
            "colorbar": {
             "outlinewidth": 0,
             "ticks": ""
            },
            "type": "choropleth"
           }
          ],
          "contour": [
           {
            "colorbar": {
             "outlinewidth": 0,
             "ticks": ""
            },
            "colorscale": [
             [
              0,
              "#0d0887"
             ],
             [
              0.1111111111111111,
              "#46039f"
             ],
             [
              0.2222222222222222,
              "#7201a8"
             ],
             [
              0.3333333333333333,
              "#9c179e"
             ],
             [
              0.4444444444444444,
              "#bd3786"
             ],
             [
              0.5555555555555556,
              "#d8576b"
             ],
             [
              0.6666666666666666,
              "#ed7953"
             ],
             [
              0.7777777777777778,
              "#fb9f3a"
             ],
             [
              0.8888888888888888,
              "#fdca26"
             ],
             [
              1,
              "#f0f921"
             ]
            ],
            "type": "contour"
           }
          ],
          "contourcarpet": [
           {
            "colorbar": {
             "outlinewidth": 0,
             "ticks": ""
            },
            "type": "contourcarpet"
           }
          ],
          "heatmap": [
           {
            "colorbar": {
             "outlinewidth": 0,
             "ticks": ""
            },
            "colorscale": [
             [
              0,
              "#0d0887"
             ],
             [
              0.1111111111111111,
              "#46039f"
             ],
             [
              0.2222222222222222,
              "#7201a8"
             ],
             [
              0.3333333333333333,
              "#9c179e"
             ],
             [
              0.4444444444444444,
              "#bd3786"
             ],
             [
              0.5555555555555556,
              "#d8576b"
             ],
             [
              0.6666666666666666,
              "#ed7953"
             ],
             [
              0.7777777777777778,
              "#fb9f3a"
             ],
             [
              0.8888888888888888,
              "#fdca26"
             ],
             [
              1,
              "#f0f921"
             ]
            ],
            "type": "heatmap"
           }
          ],
          "heatmapgl": [
           {
            "colorbar": {
             "outlinewidth": 0,
             "ticks": ""
            },
            "colorscale": [
             [
              0,
              "#0d0887"
             ],
             [
              0.1111111111111111,
              "#46039f"
             ],
             [
              0.2222222222222222,
              "#7201a8"
             ],
             [
              0.3333333333333333,
              "#9c179e"
             ],
             [
              0.4444444444444444,
              "#bd3786"
             ],
             [
              0.5555555555555556,
              "#d8576b"
             ],
             [
              0.6666666666666666,
              "#ed7953"
             ],
             [
              0.7777777777777778,
              "#fb9f3a"
             ],
             [
              0.8888888888888888,
              "#fdca26"
             ],
             [
              1,
              "#f0f921"
             ]
            ],
            "type": "heatmapgl"
           }
          ],
          "histogram": [
           {
            "marker": {
             "colorbar": {
              "outlinewidth": 0,
              "ticks": ""
             }
            },
            "type": "histogram"
           }
          ],
          "histogram2d": [
           {
            "colorbar": {
             "outlinewidth": 0,
             "ticks": ""
            },
            "colorscale": [
             [
              0,
              "#0d0887"
             ],
             [
              0.1111111111111111,
              "#46039f"
             ],
             [
              0.2222222222222222,
              "#7201a8"
             ],
             [
              0.3333333333333333,
              "#9c179e"
             ],
             [
              0.4444444444444444,
              "#bd3786"
             ],
             [
              0.5555555555555556,
              "#d8576b"
             ],
             [
              0.6666666666666666,
              "#ed7953"
             ],
             [
              0.7777777777777778,
              "#fb9f3a"
             ],
             [
              0.8888888888888888,
              "#fdca26"
             ],
             [
              1,
              "#f0f921"
             ]
            ],
            "type": "histogram2d"
           }
          ],
          "histogram2dcontour": [
           {
            "colorbar": {
             "outlinewidth": 0,
             "ticks": ""
            },
            "colorscale": [
             [
              0,
              "#0d0887"
             ],
             [
              0.1111111111111111,
              "#46039f"
             ],
             [
              0.2222222222222222,
              "#7201a8"
             ],
             [
              0.3333333333333333,
              "#9c179e"
             ],
             [
              0.4444444444444444,
              "#bd3786"
             ],
             [
              0.5555555555555556,
              "#d8576b"
             ],
             [
              0.6666666666666666,
              "#ed7953"
             ],
             [
              0.7777777777777778,
              "#fb9f3a"
             ],
             [
              0.8888888888888888,
              "#fdca26"
             ],
             [
              1,
              "#f0f921"
             ]
            ],
            "type": "histogram2dcontour"
           }
          ],
          "mesh3d": [
           {
            "colorbar": {
             "outlinewidth": 0,
             "ticks": ""
            },
            "type": "mesh3d"
           }
          ],
          "parcoords": [
           {
            "line": {
             "colorbar": {
              "outlinewidth": 0,
              "ticks": ""
             }
            },
            "type": "parcoords"
           }
          ],
          "pie": [
           {
            "automargin": true,
            "type": "pie"
           }
          ],
          "scatter": [
           {
            "marker": {
             "colorbar": {
              "outlinewidth": 0,
              "ticks": ""
             }
            },
            "type": "scatter"
           }
          ],
          "scatter3d": [
           {
            "line": {
             "colorbar": {
              "outlinewidth": 0,
              "ticks": ""
             }
            },
            "marker": {
             "colorbar": {
              "outlinewidth": 0,
              "ticks": ""
             }
            },
            "type": "scatter3d"
           }
          ],
          "scattercarpet": [
           {
            "marker": {
             "colorbar": {
              "outlinewidth": 0,
              "ticks": ""
             }
            },
            "type": "scattercarpet"
           }
          ],
          "scattergeo": [
           {
            "marker": {
             "colorbar": {
              "outlinewidth": 0,
              "ticks": ""
             }
            },
            "type": "scattergeo"
           }
          ],
          "scattergl": [
           {
            "marker": {
             "colorbar": {
              "outlinewidth": 0,
              "ticks": ""
             }
            },
            "type": "scattergl"
           }
          ],
          "scattermapbox": [
           {
            "marker": {
             "colorbar": {
              "outlinewidth": 0,
              "ticks": ""
             }
            },
            "type": "scattermapbox"
           }
          ],
          "scatterpolar": [
           {
            "marker": {
             "colorbar": {
              "outlinewidth": 0,
              "ticks": ""
             }
            },
            "type": "scatterpolar"
           }
          ],
          "scatterpolargl": [
           {
            "marker": {
             "colorbar": {
              "outlinewidth": 0,
              "ticks": ""
             }
            },
            "type": "scatterpolargl"
           }
          ],
          "scatterternary": [
           {
            "marker": {
             "colorbar": {
              "outlinewidth": 0,
              "ticks": ""
             }
            },
            "type": "scatterternary"
           }
          ],
          "surface": [
           {
            "colorbar": {
             "outlinewidth": 0,
             "ticks": ""
            },
            "colorscale": [
             [
              0,
              "#0d0887"
             ],
             [
              0.1111111111111111,
              "#46039f"
             ],
             [
              0.2222222222222222,
              "#7201a8"
             ],
             [
              0.3333333333333333,
              "#9c179e"
             ],
             [
              0.4444444444444444,
              "#bd3786"
             ],
             [
              0.5555555555555556,
              "#d8576b"
             ],
             [
              0.6666666666666666,
              "#ed7953"
             ],
             [
              0.7777777777777778,
              "#fb9f3a"
             ],
             [
              0.8888888888888888,
              "#fdca26"
             ],
             [
              1,
              "#f0f921"
             ]
            ],
            "type": "surface"
           }
          ],
          "table": [
           {
            "cells": {
             "fill": {
              "color": "#EBF0F8"
             },
             "line": {
              "color": "white"
             }
            },
            "header": {
             "fill": {
              "color": "#C8D4E3"
             },
             "line": {
              "color": "white"
             }
            },
            "type": "table"
           }
          ]
         },
         "layout": {
          "annotationdefaults": {
           "arrowcolor": "#2a3f5f",
           "arrowhead": 0,
           "arrowwidth": 1
          },
          "coloraxis": {
           "colorbar": {
            "outlinewidth": 0,
            "ticks": ""
           }
          },
          "colorscale": {
           "diverging": [
            [
             0,
             "#8e0152"
            ],
            [
             0.1,
             "#c51b7d"
            ],
            [
             0.2,
             "#de77ae"
            ],
            [
             0.3,
             "#f1b6da"
            ],
            [
             0.4,
             "#fde0ef"
            ],
            [
             0.5,
             "#f7f7f7"
            ],
            [
             0.6,
             "#e6f5d0"
            ],
            [
             0.7,
             "#b8e186"
            ],
            [
             0.8,
             "#7fbc41"
            ],
            [
             0.9,
             "#4d9221"
            ],
            [
             1,
             "#276419"
            ]
           ],
           "sequential": [
            [
             0,
             "#0d0887"
            ],
            [
             0.1111111111111111,
             "#46039f"
            ],
            [
             0.2222222222222222,
             "#7201a8"
            ],
            [
             0.3333333333333333,
             "#9c179e"
            ],
            [
             0.4444444444444444,
             "#bd3786"
            ],
            [
             0.5555555555555556,
             "#d8576b"
            ],
            [
             0.6666666666666666,
             "#ed7953"
            ],
            [
             0.7777777777777778,
             "#fb9f3a"
            ],
            [
             0.8888888888888888,
             "#fdca26"
            ],
            [
             1,
             "#f0f921"
            ]
           ],
           "sequentialminus": [
            [
             0,
             "#0d0887"
            ],
            [
             0.1111111111111111,
             "#46039f"
            ],
            [
             0.2222222222222222,
             "#7201a8"
            ],
            [
             0.3333333333333333,
             "#9c179e"
            ],
            [
             0.4444444444444444,
             "#bd3786"
            ],
            [
             0.5555555555555556,
             "#d8576b"
            ],
            [
             0.6666666666666666,
             "#ed7953"
            ],
            [
             0.7777777777777778,
             "#fb9f3a"
            ],
            [
             0.8888888888888888,
             "#fdca26"
            ],
            [
             1,
             "#f0f921"
            ]
           ]
          },
          "colorway": [
           "#636efa",
           "#EF553B",
           "#00cc96",
           "#ab63fa",
           "#FFA15A",
           "#19d3f3",
           "#FF6692",
           "#B6E880",
           "#FF97FF",
           "#FECB52"
          ],
          "font": {
           "color": "#2a3f5f"
          },
          "geo": {
           "bgcolor": "white",
           "lakecolor": "white",
           "landcolor": "#E5ECF6",
           "showlakes": true,
           "showland": true,
           "subunitcolor": "white"
          },
          "hoverlabel": {
           "align": "left"
          },
          "hovermode": "closest",
          "mapbox": {
           "style": "light"
          },
          "paper_bgcolor": "white",
          "plot_bgcolor": "#E5ECF6",
          "polar": {
           "angularaxis": {
            "gridcolor": "white",
            "linecolor": "white",
            "ticks": ""
           },
           "bgcolor": "#E5ECF6",
           "radialaxis": {
            "gridcolor": "white",
            "linecolor": "white",
            "ticks": ""
           }
          },
          "scene": {
           "xaxis": {
            "backgroundcolor": "#E5ECF6",
            "gridcolor": "white",
            "gridwidth": 2,
            "linecolor": "white",
            "showbackground": true,
            "ticks": "",
            "zerolinecolor": "white"
           },
           "yaxis": {
            "backgroundcolor": "#E5ECF6",
            "gridcolor": "white",
            "gridwidth": 2,
            "linecolor": "white",
            "showbackground": true,
            "ticks": "",
            "zerolinecolor": "white"
           },
           "zaxis": {
            "backgroundcolor": "#E5ECF6",
            "gridcolor": "white",
            "gridwidth": 2,
            "linecolor": "white",
            "showbackground": true,
            "ticks": "",
            "zerolinecolor": "white"
           }
          },
          "shapedefaults": {
           "line": {
            "color": "#2a3f5f"
           }
          },
          "ternary": {
           "aaxis": {
            "gridcolor": "white",
            "linecolor": "white",
            "ticks": ""
           },
           "baxis": {
            "gridcolor": "white",
            "linecolor": "white",
            "ticks": ""
           },
           "bgcolor": "#E5ECF6",
           "caxis": {
            "gridcolor": "white",
            "linecolor": "white",
            "ticks": ""
           }
          },
          "title": {
           "x": 0.05
          },
          "xaxis": {
           "automargin": true,
           "gridcolor": "white",
           "linecolor": "white",
           "ticks": "",
           "title": {
            "standoff": 15
           },
           "zerolinecolor": "white",
           "zerolinewidth": 2
          },
          "yaxis": {
           "automargin": true,
           "gridcolor": "white",
           "linecolor": "white",
           "ticks": "",
           "title": {
            "standoff": 15
           },
           "zerolinecolor": "white",
           "zerolinewidth": 2
          }
         }
        },
        "title": {
         "font": {
          "color": "#4D5663"
         }
        },
        "xaxis": {
         "gridcolor": "#E1E5ED",
         "showgrid": true,
         "tickfont": {
          "color": "#4D5663"
         },
         "title": {
          "font": {
           "color": "#4D5663"
          },
          "text": ""
         },
         "zerolinecolor": "#E1E5ED"
        },
        "yaxis": {
         "gridcolor": "#E1E5ED",
         "showgrid": true,
         "tickfont": {
          "color": "#4D5663"
         },
         "title": {
          "font": {
           "color": "#4D5663"
          },
          "text": ""
         },
         "zerolinecolor": "#E1E5ED"
        }
       }
      },
      "text/html": [
       "<div>\n",
       "        \n",
       "        \n",
       "            <div id=\"f72de2f6-4933-42fd-aa2a-1990f1af54c3\" class=\"plotly-graph-div\" style=\"height:525px; width:100%;\"></div>\n",
       "            <script type=\"text/javascript\">\n",
       "                require([\"plotly\"], function(Plotly) {\n",
       "                    window.PLOTLYENV=window.PLOTLYENV || {};\n",
       "                    window.PLOTLYENV.BASE_URL='https://plot.ly';\n",
       "                    \n",
       "                if (document.getElementById(\"f72de2f6-4933-42fd-aa2a-1990f1af54c3\")) {\n",
       "                    Plotly.newPlot(\n",
       "                        'f72de2f6-4933-42fd-aa2a-1990f1af54c3',\n",
       "                        [{\"line\": {\"color\": \"rgba(255, 153, 51, 1.0)\", \"dash\": \"solid\", \"shape\": \"linear\", \"width\": 1.3}, \"marker\": {\"size\": 12, \"symbol\": \"circle\"}, \"mode\": \"markers\", \"name\": \"b\", \"text\": \"\", \"type\": \"scatter\", \"x\": [0.292974139252864, -1.1862472468463803, -0.8501922428907918, 0.9111150495629899, 1.2365734664393244, -0.30040599005249846, 1.2105765633744126, 0.14329654371470976, 0.4816690203269885, -0.7188786553096995, 0.29107117981780284, -0.3401912914972917, -0.18610532625705425, 1.8934182437838603, 0.9927287463728656, 1.168165311884389, 1.2111889751775067, 0.19395059226497616, 0.28144601088500154, 0.2929306980738659, 1.1101162910982343, -0.20882608286556142, -0.14537398933595616, -0.6074017425049224, -0.45238438838097095, -0.36610343319996314, 0.26477062314585953, 0.14515091806317906, 0.7803251454516109, 0.608549950958882, -0.4026053747294526, -1.2321271511876488, 0.29910009937757676, -0.18539593485926428, -1.28945619590427, 0.39696306959178446, 0.694370207176139, -0.2679532057619806, 0.6478464445330818, -0.4988282383343721, -1.6079546032861718, 1.7507638766258602, 0.005242884837819096, 0.25125359691177257, -0.23229482042008281, -0.9157632735360842, 0.19640311609892663, -1.3062721849837655, 0.4339583497922634, -1.229079058345127, -1.115240077344917, 0.12379795927408499, 2.6290620243327067, 0.3998538531848044, 0.45893027219882326, -0.7086162503195204, 0.057001724806481205, 0.029529428385691656, -0.1534944558163816, 0.8870271703734542, -1.8295512441698598, 0.9303258214684024, -1.3794435848247562, -0.07751135502855382, 0.22194716382883783, -0.9513732804851377, 0.6170642625680876, 1.174827368853181, -1.7776866913199962, -1.690521991664963, 0.3160827137707872, 0.8005986394539232, -1.6980350094685637, -1.2304179781414055, -0.901279065228436, 0.22598156079956105, 0.3232752239225913, 0.29907964573518026, -0.16176374150177283, 0.6745298559739035, -1.4039829245790993, -0.7949168861300312, 0.8842730651829632, -0.7882189620982454, -0.7676887445502899, -0.6083321443906384, 1.6090599247918695, -0.5152246440526308, -0.3464353213483669, -0.28668138720437186, 0.8387664451015886, 0.7879805141342737, 1.0128081521957695, 1.4073545183039107, -0.838922259663184, -1.559188829826368, -0.10949875615111043, 0.5570685284421174, -0.5377441150506823, 0.7886033547968465], \"y\": [-0.716753785541702, 0.1466280511998309, -0.6006519808735739, -0.5415580708273, -1.7400320426706721, 0.06483281643880595, 0.9267383919456018, 0.2754962391363442, -0.06963639112657052, 0.43293104058293036, -0.13165251266138508, 0.3688569256553953, 1.101879648066124, 1.0069678548545076, -1.0246405999495924, -0.037202033114178676, 0.259486510387421, -0.05785681071930317, -1.4405479471178548, -0.8243764549033302, -0.1175958470954889, -1.1981943378901034, 0.1487120785832584, 1.0764514860316108, -0.1310759686583265, 0.7870838978756679, 0.09754672432005959, -1.4826931311691334, 1.0793655584203048, 0.9233239197538965, 1.3166320867203176, 0.18222042165689503, -0.06256287722059806, 1.1043295807781548, -0.6150240875265599, 0.790514023860243, -2.0799884828014936, 0.5008675581779642, -0.6810354084403812, -1.2386481384626733, -1.2911154417873516, -0.5154920168362496, -0.4031392471329243, 0.9983704720180332, -1.0160075337650878, 1.886243651028083, -0.5715465786042008, -1.2679931356019523, 1.6614338951907, -0.17792785850635345, 1.4745507719444697, 1.1776871716912736, -1.2561713012470577, -0.24638872835020778, 1.4670954437869548, -0.189173117161535, -0.3527437302423633, -1.7117404210798368, 0.048457522093129965, 0.9007265389917656, -0.42341732249635067, 0.0816182553248051, -0.21089804096281775, 1.6556331387431482, -0.13153184493536688, 1.181944111964066, 2.5830824420534, 0.4106671915172332, -1.266706022491882, 0.3949972411593756, -0.5686340208377227, -1.6296276350686436, -0.47748567224339156, -0.13072699147207864, 0.4200392298325099, -0.7813031954177223, -1.9529817674828185, 0.866984811466902, -1.734427964729059, -1.2781840402669344, -1.2910708778295, -0.3989670450326166, 0.8745687117774343, -1.2311660756455374, 0.6089849716765106, 1.048143379954883, 0.3721709975994528, -1.1576133027199618, -0.34453151051109965, -1.0338932199109123, -0.9460628162322431, -0.04923179092455275, -1.0520628606997837, 0.1852383456745756, -1.0632232978375835, -0.09162384543826531, 0.6831550325518608, 0.9278729993391939, -0.47421170746718716, -2.1165065532109923]}],\n",
       "                        {\"legend\": {\"bgcolor\": \"#F5F6F9\", \"font\": {\"color\": \"#4D5663\"}}, \"paper_bgcolor\": \"#F5F6F9\", \"plot_bgcolor\": \"#F5F6F9\", \"template\": {\"data\": {\"bar\": [{\"error_x\": {\"color\": \"#2a3f5f\"}, \"error_y\": {\"color\": \"#2a3f5f\"}, \"marker\": {\"line\": {\"color\": \"#E5ECF6\", \"width\": 0.5}}, \"type\": \"bar\"}], \"barpolar\": [{\"marker\": {\"line\": {\"color\": \"#E5ECF6\", \"width\": 0.5}}, \"type\": \"barpolar\"}], \"carpet\": [{\"aaxis\": {\"endlinecolor\": \"#2a3f5f\", \"gridcolor\": \"white\", \"linecolor\": \"white\", \"minorgridcolor\": \"white\", \"startlinecolor\": \"#2a3f5f\"}, \"baxis\": {\"endlinecolor\": \"#2a3f5f\", \"gridcolor\": \"white\", \"linecolor\": \"white\", \"minorgridcolor\": \"white\", \"startlinecolor\": \"#2a3f5f\"}, \"type\": \"carpet\"}], \"choropleth\": [{\"colorbar\": {\"outlinewidth\": 0, \"ticks\": \"\"}, \"type\": \"choropleth\"}], \"contour\": [{\"colorbar\": {\"outlinewidth\": 0, \"ticks\": \"\"}, \"colorscale\": [[0.0, \"#0d0887\"], [0.1111111111111111, \"#46039f\"], [0.2222222222222222, \"#7201a8\"], [0.3333333333333333, \"#9c179e\"], [0.4444444444444444, \"#bd3786\"], [0.5555555555555556, \"#d8576b\"], [0.6666666666666666, \"#ed7953\"], [0.7777777777777778, \"#fb9f3a\"], [0.8888888888888888, \"#fdca26\"], [1.0, \"#f0f921\"]], \"type\": \"contour\"}], \"contourcarpet\": [{\"colorbar\": {\"outlinewidth\": 0, \"ticks\": \"\"}, \"type\": \"contourcarpet\"}], \"heatmap\": [{\"colorbar\": {\"outlinewidth\": 0, \"ticks\": \"\"}, \"colorscale\": [[0.0, \"#0d0887\"], [0.1111111111111111, \"#46039f\"], [0.2222222222222222, \"#7201a8\"], [0.3333333333333333, \"#9c179e\"], [0.4444444444444444, \"#bd3786\"], [0.5555555555555556, \"#d8576b\"], [0.6666666666666666, \"#ed7953\"], [0.7777777777777778, \"#fb9f3a\"], [0.8888888888888888, \"#fdca26\"], [1.0, \"#f0f921\"]], \"type\": \"heatmap\"}], \"heatmapgl\": [{\"colorbar\": {\"outlinewidth\": 0, \"ticks\": \"\"}, \"colorscale\": [[0.0, \"#0d0887\"], [0.1111111111111111, \"#46039f\"], [0.2222222222222222, \"#7201a8\"], [0.3333333333333333, \"#9c179e\"], [0.4444444444444444, \"#bd3786\"], [0.5555555555555556, \"#d8576b\"], [0.6666666666666666, \"#ed7953\"], [0.7777777777777778, \"#fb9f3a\"], [0.8888888888888888, \"#fdca26\"], [1.0, \"#f0f921\"]], \"type\": \"heatmapgl\"}], \"histogram\": [{\"marker\": {\"colorbar\": {\"outlinewidth\": 0, \"ticks\": \"\"}}, \"type\": \"histogram\"}], \"histogram2d\": [{\"colorbar\": {\"outlinewidth\": 0, \"ticks\": \"\"}, \"colorscale\": [[0.0, \"#0d0887\"], [0.1111111111111111, \"#46039f\"], [0.2222222222222222, \"#7201a8\"], [0.3333333333333333, \"#9c179e\"], [0.4444444444444444, \"#bd3786\"], [0.5555555555555556, \"#d8576b\"], [0.6666666666666666, \"#ed7953\"], [0.7777777777777778, \"#fb9f3a\"], [0.8888888888888888, \"#fdca26\"], [1.0, \"#f0f921\"]], \"type\": \"histogram2d\"}], \"histogram2dcontour\": [{\"colorbar\": {\"outlinewidth\": 0, \"ticks\": \"\"}, \"colorscale\": [[0.0, \"#0d0887\"], [0.1111111111111111, \"#46039f\"], [0.2222222222222222, \"#7201a8\"], [0.3333333333333333, \"#9c179e\"], [0.4444444444444444, \"#bd3786\"], [0.5555555555555556, \"#d8576b\"], [0.6666666666666666, \"#ed7953\"], [0.7777777777777778, \"#fb9f3a\"], [0.8888888888888888, \"#fdca26\"], [1.0, \"#f0f921\"]], \"type\": \"histogram2dcontour\"}], \"mesh3d\": [{\"colorbar\": {\"outlinewidth\": 0, \"ticks\": \"\"}, \"type\": \"mesh3d\"}], \"parcoords\": [{\"line\": {\"colorbar\": {\"outlinewidth\": 0, \"ticks\": \"\"}}, \"type\": \"parcoords\"}], \"pie\": [{\"automargin\": true, \"type\": \"pie\"}], \"scatter\": [{\"marker\": {\"colorbar\": {\"outlinewidth\": 0, \"ticks\": \"\"}}, \"type\": \"scatter\"}], \"scatter3d\": [{\"line\": {\"colorbar\": {\"outlinewidth\": 0, \"ticks\": \"\"}}, \"marker\": {\"colorbar\": {\"outlinewidth\": 0, \"ticks\": \"\"}}, \"type\": \"scatter3d\"}], \"scattercarpet\": [{\"marker\": {\"colorbar\": {\"outlinewidth\": 0, \"ticks\": \"\"}}, \"type\": \"scattercarpet\"}], \"scattergeo\": [{\"marker\": {\"colorbar\": {\"outlinewidth\": 0, \"ticks\": \"\"}}, \"type\": \"scattergeo\"}], \"scattergl\": [{\"marker\": {\"colorbar\": {\"outlinewidth\": 0, \"ticks\": \"\"}}, \"type\": \"scattergl\"}], \"scattermapbox\": [{\"marker\": {\"colorbar\": {\"outlinewidth\": 0, \"ticks\": \"\"}}, \"type\": \"scattermapbox\"}], \"scatterpolar\": [{\"marker\": {\"colorbar\": {\"outlinewidth\": 0, \"ticks\": \"\"}}, \"type\": \"scatterpolar\"}], \"scatterpolargl\": [{\"marker\": {\"colorbar\": {\"outlinewidth\": 0, \"ticks\": \"\"}}, \"type\": \"scatterpolargl\"}], \"scatterternary\": [{\"marker\": {\"colorbar\": {\"outlinewidth\": 0, \"ticks\": \"\"}}, \"type\": \"scatterternary\"}], \"surface\": [{\"colorbar\": {\"outlinewidth\": 0, \"ticks\": \"\"}, \"colorscale\": [[0.0, \"#0d0887\"], [0.1111111111111111, \"#46039f\"], [0.2222222222222222, \"#7201a8\"], [0.3333333333333333, \"#9c179e\"], [0.4444444444444444, \"#bd3786\"], [0.5555555555555556, \"#d8576b\"], [0.6666666666666666, \"#ed7953\"], [0.7777777777777778, \"#fb9f3a\"], [0.8888888888888888, \"#fdca26\"], [1.0, \"#f0f921\"]], \"type\": \"surface\"}], \"table\": [{\"cells\": {\"fill\": {\"color\": \"#EBF0F8\"}, \"line\": {\"color\": \"white\"}}, \"header\": {\"fill\": {\"color\": \"#C8D4E3\"}, \"line\": {\"color\": \"white\"}}, \"type\": \"table\"}]}, \"layout\": {\"annotationdefaults\": {\"arrowcolor\": \"#2a3f5f\", \"arrowhead\": 0, \"arrowwidth\": 1}, \"coloraxis\": {\"colorbar\": {\"outlinewidth\": 0, \"ticks\": \"\"}}, \"colorscale\": {\"diverging\": [[0, \"#8e0152\"], [0.1, \"#c51b7d\"], [0.2, \"#de77ae\"], [0.3, \"#f1b6da\"], [0.4, \"#fde0ef\"], [0.5, \"#f7f7f7\"], [0.6, \"#e6f5d0\"], [0.7, \"#b8e186\"], [0.8, \"#7fbc41\"], [0.9, \"#4d9221\"], [1, \"#276419\"]], \"sequential\": [[0.0, \"#0d0887\"], [0.1111111111111111, \"#46039f\"], [0.2222222222222222, \"#7201a8\"], [0.3333333333333333, \"#9c179e\"], [0.4444444444444444, \"#bd3786\"], [0.5555555555555556, \"#d8576b\"], [0.6666666666666666, \"#ed7953\"], [0.7777777777777778, \"#fb9f3a\"], [0.8888888888888888, \"#fdca26\"], [1.0, \"#f0f921\"]], \"sequentialminus\": [[0.0, \"#0d0887\"], [0.1111111111111111, \"#46039f\"], [0.2222222222222222, \"#7201a8\"], [0.3333333333333333, \"#9c179e\"], [0.4444444444444444, \"#bd3786\"], [0.5555555555555556, \"#d8576b\"], [0.6666666666666666, \"#ed7953\"], [0.7777777777777778, \"#fb9f3a\"], [0.8888888888888888, \"#fdca26\"], [1.0, \"#f0f921\"]]}, \"colorway\": [\"#636efa\", \"#EF553B\", \"#00cc96\", \"#ab63fa\", \"#FFA15A\", \"#19d3f3\", \"#FF6692\", \"#B6E880\", \"#FF97FF\", \"#FECB52\"], \"font\": {\"color\": \"#2a3f5f\"}, \"geo\": {\"bgcolor\": \"white\", \"lakecolor\": \"white\", \"landcolor\": \"#E5ECF6\", \"showlakes\": true, \"showland\": true, \"subunitcolor\": \"white\"}, \"hoverlabel\": {\"align\": \"left\"}, \"hovermode\": \"closest\", \"mapbox\": {\"style\": \"light\"}, \"paper_bgcolor\": \"white\", \"plot_bgcolor\": \"#E5ECF6\", \"polar\": {\"angularaxis\": {\"gridcolor\": \"white\", \"linecolor\": \"white\", \"ticks\": \"\"}, \"bgcolor\": \"#E5ECF6\", \"radialaxis\": {\"gridcolor\": \"white\", \"linecolor\": \"white\", \"ticks\": \"\"}}, \"scene\": {\"xaxis\": {\"backgroundcolor\": \"#E5ECF6\", \"gridcolor\": \"white\", \"gridwidth\": 2, \"linecolor\": \"white\", \"showbackground\": true, \"ticks\": \"\", \"zerolinecolor\": \"white\"}, \"yaxis\": {\"backgroundcolor\": \"#E5ECF6\", \"gridcolor\": \"white\", \"gridwidth\": 2, \"linecolor\": \"white\", \"showbackground\": true, \"ticks\": \"\", \"zerolinecolor\": \"white\"}, \"zaxis\": {\"backgroundcolor\": \"#E5ECF6\", \"gridcolor\": \"white\", \"gridwidth\": 2, \"linecolor\": \"white\", \"showbackground\": true, \"ticks\": \"\", \"zerolinecolor\": \"white\"}}, \"shapedefaults\": {\"line\": {\"color\": \"#2a3f5f\"}}, \"ternary\": {\"aaxis\": {\"gridcolor\": \"white\", \"linecolor\": \"white\", \"ticks\": \"\"}, \"baxis\": {\"gridcolor\": \"white\", \"linecolor\": \"white\", \"ticks\": \"\"}, \"bgcolor\": \"#E5ECF6\", \"caxis\": {\"gridcolor\": \"white\", \"linecolor\": \"white\", \"ticks\": \"\"}}, \"title\": {\"x\": 0.05}, \"xaxis\": {\"automargin\": true, \"gridcolor\": \"white\", \"linecolor\": \"white\", \"ticks\": \"\", \"title\": {\"standoff\": 15}, \"zerolinecolor\": \"white\", \"zerolinewidth\": 2}, \"yaxis\": {\"automargin\": true, \"gridcolor\": \"white\", \"linecolor\": \"white\", \"ticks\": \"\", \"title\": {\"standoff\": 15}, \"zerolinecolor\": \"white\", \"zerolinewidth\": 2}}}, \"title\": {\"font\": {\"color\": \"#4D5663\"}}, \"xaxis\": {\"gridcolor\": \"#E1E5ED\", \"showgrid\": true, \"tickfont\": {\"color\": \"#4D5663\"}, \"title\": {\"font\": {\"color\": \"#4D5663\"}, \"text\": \"\"}, \"zerolinecolor\": \"#E1E5ED\"}, \"yaxis\": {\"gridcolor\": \"#E1E5ED\", \"showgrid\": true, \"tickfont\": {\"color\": \"#4D5663\"}, \"title\": {\"font\": {\"color\": \"#4D5663\"}, \"text\": \"\"}, \"zerolinecolor\": \"#E1E5ED\"}},\n",
       "                        {\"showLink\": true, \"linkText\": \"Export to plot.ly\", \"plotlyServerURL\": \"https://plot.ly\", \"responsive\": true}\n",
       "                    ).then(function(){\n",
       "                            \n",
       "var gd = document.getElementById('f72de2f6-4933-42fd-aa2a-1990f1af54c3');\n",
       "var x = new MutationObserver(function (mutations, observer) {{\n",
       "        var display = window.getComputedStyle(gd).display;\n",
       "        if (!display || display === 'none') {{\n",
       "            console.log([gd, 'removed!']);\n",
       "            Plotly.purge(gd);\n",
       "            observer.disconnect();\n",
       "        }}\n",
       "}});\n",
       "\n",
       "// Listen for the removal of the full notebook cells\n",
       "var notebookContainer = gd.closest('#notebook-container');\n",
       "if (notebookContainer) {{\n",
       "    x.observe(notebookContainer, {childList: true});\n",
       "}}\n",
       "\n",
       "// Listen for the clearing of the current output cell\n",
       "var outputEl = gd.closest('.output');\n",
       "if (outputEl) {{\n",
       "    x.observe(outputEl, {childList: true});\n",
       "}}\n",
       "\n",
       "                        })\n",
       "                };\n",
       "                });\n",
       "            </script>\n",
       "        </div>"
      ]
     },
     "metadata": {},
     "output_type": "display_data"
    }
   ],
   "source": [
    "df.iplot(kind = \"scatter\", x = \"a\", y = \"b\", mode = \"markers\");"
   ]
  },
  {
   "cell_type": "code",
   "execution_count": 20,
   "metadata": {},
   "outputs": [
    {
     "data": {
      "application/vnd.plotly.v1+json": {
       "config": {
        "linkText": "Export to plot.ly",
        "plotlyServerURL": "https://plot.ly",
        "showLink": true
       },
       "data": [
        {
         "line": {
          "color": "rgba(255, 153, 51, 1.0)",
          "dash": "solid",
          "shape": "linear",
          "width": 1.3
         },
         "marker": {
          "size": 5,
          "symbol": "circle"
         },
         "mode": "markers",
         "name": "b",
         "text": "",
         "type": "scatter",
         "x": [
          0.292974139252864,
          -1.1862472468463803,
          -0.8501922428907918,
          0.9111150495629899,
          1.2365734664393244,
          -0.30040599005249846,
          1.2105765633744126,
          0.14329654371470976,
          0.4816690203269885,
          -0.7188786553096995,
          0.29107117981780284,
          -0.3401912914972917,
          -0.18610532625705425,
          1.8934182437838603,
          0.9927287463728656,
          1.168165311884389,
          1.2111889751775067,
          0.19395059226497616,
          0.28144601088500154,
          0.2929306980738659,
          1.1101162910982343,
          -0.20882608286556142,
          -0.14537398933595616,
          -0.6074017425049224,
          -0.45238438838097095,
          -0.36610343319996314,
          0.26477062314585953,
          0.14515091806317906,
          0.7803251454516109,
          0.608549950958882,
          -0.4026053747294526,
          -1.2321271511876488,
          0.29910009937757676,
          -0.18539593485926428,
          -1.28945619590427,
          0.39696306959178446,
          0.694370207176139,
          -0.2679532057619806,
          0.6478464445330818,
          -0.4988282383343721,
          -1.6079546032861718,
          1.7507638766258602,
          0.005242884837819096,
          0.25125359691177257,
          -0.23229482042008281,
          -0.9157632735360842,
          0.19640311609892663,
          -1.3062721849837655,
          0.4339583497922634,
          -1.229079058345127,
          -1.115240077344917,
          0.12379795927408499,
          2.6290620243327067,
          0.3998538531848044,
          0.45893027219882326,
          -0.7086162503195204,
          0.057001724806481205,
          0.029529428385691656,
          -0.1534944558163816,
          0.8870271703734542,
          -1.8295512441698598,
          0.9303258214684024,
          -1.3794435848247562,
          -0.07751135502855382,
          0.22194716382883783,
          -0.9513732804851377,
          0.6170642625680876,
          1.174827368853181,
          -1.7776866913199962,
          -1.690521991664963,
          0.3160827137707872,
          0.8005986394539232,
          -1.6980350094685637,
          -1.2304179781414055,
          -0.901279065228436,
          0.22598156079956105,
          0.3232752239225913,
          0.29907964573518026,
          -0.16176374150177283,
          0.6745298559739035,
          -1.4039829245790993,
          -0.7949168861300312,
          0.8842730651829632,
          -0.7882189620982454,
          -0.7676887445502899,
          -0.6083321443906384,
          1.6090599247918695,
          -0.5152246440526308,
          -0.3464353213483669,
          -0.28668138720437186,
          0.8387664451015886,
          0.7879805141342737,
          1.0128081521957695,
          1.4073545183039107,
          -0.838922259663184,
          -1.559188829826368,
          -0.10949875615111043,
          0.5570685284421174,
          -0.5377441150506823,
          0.7886033547968465
         ],
         "y": [
          -0.716753785541702,
          0.1466280511998309,
          -0.6006519808735739,
          -0.5415580708273,
          -1.7400320426706721,
          0.06483281643880595,
          0.9267383919456018,
          0.2754962391363442,
          -0.06963639112657052,
          0.43293104058293036,
          -0.13165251266138508,
          0.3688569256553953,
          1.101879648066124,
          1.0069678548545076,
          -1.0246405999495924,
          -0.037202033114178676,
          0.259486510387421,
          -0.05785681071930317,
          -1.4405479471178548,
          -0.8243764549033302,
          -0.1175958470954889,
          -1.1981943378901034,
          0.1487120785832584,
          1.0764514860316108,
          -0.1310759686583265,
          0.7870838978756679,
          0.09754672432005959,
          -1.4826931311691334,
          1.0793655584203048,
          0.9233239197538965,
          1.3166320867203176,
          0.18222042165689503,
          -0.06256287722059806,
          1.1043295807781548,
          -0.6150240875265599,
          0.790514023860243,
          -2.0799884828014936,
          0.5008675581779642,
          -0.6810354084403812,
          -1.2386481384626733,
          -1.2911154417873516,
          -0.5154920168362496,
          -0.4031392471329243,
          0.9983704720180332,
          -1.0160075337650878,
          1.886243651028083,
          -0.5715465786042008,
          -1.2679931356019523,
          1.6614338951907,
          -0.17792785850635345,
          1.4745507719444697,
          1.1776871716912736,
          -1.2561713012470577,
          -0.24638872835020778,
          1.4670954437869548,
          -0.189173117161535,
          -0.3527437302423633,
          -1.7117404210798368,
          0.048457522093129965,
          0.9007265389917656,
          -0.42341732249635067,
          0.0816182553248051,
          -0.21089804096281775,
          1.6556331387431482,
          -0.13153184493536688,
          1.181944111964066,
          2.5830824420534,
          0.4106671915172332,
          -1.266706022491882,
          0.3949972411593756,
          -0.5686340208377227,
          -1.6296276350686436,
          -0.47748567224339156,
          -0.13072699147207864,
          0.4200392298325099,
          -0.7813031954177223,
          -1.9529817674828185,
          0.866984811466902,
          -1.734427964729059,
          -1.2781840402669344,
          -1.2910708778295,
          -0.3989670450326166,
          0.8745687117774343,
          -1.2311660756455374,
          0.6089849716765106,
          1.048143379954883,
          0.3721709975994528,
          -1.1576133027199618,
          -0.34453151051109965,
          -1.0338932199109123,
          -0.9460628162322431,
          -0.04923179092455275,
          -1.0520628606997837,
          0.1852383456745756,
          -1.0632232978375835,
          -0.09162384543826531,
          0.6831550325518608,
          0.9278729993391939,
          -0.47421170746718716,
          -2.1165065532109923
         ]
        }
       ],
       "layout": {
        "legend": {
         "bgcolor": "#F5F6F9",
         "font": {
          "color": "#4D5663"
         }
        },
        "paper_bgcolor": "#F5F6F9",
        "plot_bgcolor": "#F5F6F9",
        "template": {
         "data": {
          "bar": [
           {
            "error_x": {
             "color": "#2a3f5f"
            },
            "error_y": {
             "color": "#2a3f5f"
            },
            "marker": {
             "line": {
              "color": "#E5ECF6",
              "width": 0.5
             }
            },
            "type": "bar"
           }
          ],
          "barpolar": [
           {
            "marker": {
             "line": {
              "color": "#E5ECF6",
              "width": 0.5
             }
            },
            "type": "barpolar"
           }
          ],
          "carpet": [
           {
            "aaxis": {
             "endlinecolor": "#2a3f5f",
             "gridcolor": "white",
             "linecolor": "white",
             "minorgridcolor": "white",
             "startlinecolor": "#2a3f5f"
            },
            "baxis": {
             "endlinecolor": "#2a3f5f",
             "gridcolor": "white",
             "linecolor": "white",
             "minorgridcolor": "white",
             "startlinecolor": "#2a3f5f"
            },
            "type": "carpet"
           }
          ],
          "choropleth": [
           {
            "colorbar": {
             "outlinewidth": 0,
             "ticks": ""
            },
            "type": "choropleth"
           }
          ],
          "contour": [
           {
            "colorbar": {
             "outlinewidth": 0,
             "ticks": ""
            },
            "colorscale": [
             [
              0,
              "#0d0887"
             ],
             [
              0.1111111111111111,
              "#46039f"
             ],
             [
              0.2222222222222222,
              "#7201a8"
             ],
             [
              0.3333333333333333,
              "#9c179e"
             ],
             [
              0.4444444444444444,
              "#bd3786"
             ],
             [
              0.5555555555555556,
              "#d8576b"
             ],
             [
              0.6666666666666666,
              "#ed7953"
             ],
             [
              0.7777777777777778,
              "#fb9f3a"
             ],
             [
              0.8888888888888888,
              "#fdca26"
             ],
             [
              1,
              "#f0f921"
             ]
            ],
            "type": "contour"
           }
          ],
          "contourcarpet": [
           {
            "colorbar": {
             "outlinewidth": 0,
             "ticks": ""
            },
            "type": "contourcarpet"
           }
          ],
          "heatmap": [
           {
            "colorbar": {
             "outlinewidth": 0,
             "ticks": ""
            },
            "colorscale": [
             [
              0,
              "#0d0887"
             ],
             [
              0.1111111111111111,
              "#46039f"
             ],
             [
              0.2222222222222222,
              "#7201a8"
             ],
             [
              0.3333333333333333,
              "#9c179e"
             ],
             [
              0.4444444444444444,
              "#bd3786"
             ],
             [
              0.5555555555555556,
              "#d8576b"
             ],
             [
              0.6666666666666666,
              "#ed7953"
             ],
             [
              0.7777777777777778,
              "#fb9f3a"
             ],
             [
              0.8888888888888888,
              "#fdca26"
             ],
             [
              1,
              "#f0f921"
             ]
            ],
            "type": "heatmap"
           }
          ],
          "heatmapgl": [
           {
            "colorbar": {
             "outlinewidth": 0,
             "ticks": ""
            },
            "colorscale": [
             [
              0,
              "#0d0887"
             ],
             [
              0.1111111111111111,
              "#46039f"
             ],
             [
              0.2222222222222222,
              "#7201a8"
             ],
             [
              0.3333333333333333,
              "#9c179e"
             ],
             [
              0.4444444444444444,
              "#bd3786"
             ],
             [
              0.5555555555555556,
              "#d8576b"
             ],
             [
              0.6666666666666666,
              "#ed7953"
             ],
             [
              0.7777777777777778,
              "#fb9f3a"
             ],
             [
              0.8888888888888888,
              "#fdca26"
             ],
             [
              1,
              "#f0f921"
             ]
            ],
            "type": "heatmapgl"
           }
          ],
          "histogram": [
           {
            "marker": {
             "colorbar": {
              "outlinewidth": 0,
              "ticks": ""
             }
            },
            "type": "histogram"
           }
          ],
          "histogram2d": [
           {
            "colorbar": {
             "outlinewidth": 0,
             "ticks": ""
            },
            "colorscale": [
             [
              0,
              "#0d0887"
             ],
             [
              0.1111111111111111,
              "#46039f"
             ],
             [
              0.2222222222222222,
              "#7201a8"
             ],
             [
              0.3333333333333333,
              "#9c179e"
             ],
             [
              0.4444444444444444,
              "#bd3786"
             ],
             [
              0.5555555555555556,
              "#d8576b"
             ],
             [
              0.6666666666666666,
              "#ed7953"
             ],
             [
              0.7777777777777778,
              "#fb9f3a"
             ],
             [
              0.8888888888888888,
              "#fdca26"
             ],
             [
              1,
              "#f0f921"
             ]
            ],
            "type": "histogram2d"
           }
          ],
          "histogram2dcontour": [
           {
            "colorbar": {
             "outlinewidth": 0,
             "ticks": ""
            },
            "colorscale": [
             [
              0,
              "#0d0887"
             ],
             [
              0.1111111111111111,
              "#46039f"
             ],
             [
              0.2222222222222222,
              "#7201a8"
             ],
             [
              0.3333333333333333,
              "#9c179e"
             ],
             [
              0.4444444444444444,
              "#bd3786"
             ],
             [
              0.5555555555555556,
              "#d8576b"
             ],
             [
              0.6666666666666666,
              "#ed7953"
             ],
             [
              0.7777777777777778,
              "#fb9f3a"
             ],
             [
              0.8888888888888888,
              "#fdca26"
             ],
             [
              1,
              "#f0f921"
             ]
            ],
            "type": "histogram2dcontour"
           }
          ],
          "mesh3d": [
           {
            "colorbar": {
             "outlinewidth": 0,
             "ticks": ""
            },
            "type": "mesh3d"
           }
          ],
          "parcoords": [
           {
            "line": {
             "colorbar": {
              "outlinewidth": 0,
              "ticks": ""
             }
            },
            "type": "parcoords"
           }
          ],
          "pie": [
           {
            "automargin": true,
            "type": "pie"
           }
          ],
          "scatter": [
           {
            "marker": {
             "colorbar": {
              "outlinewidth": 0,
              "ticks": ""
             }
            },
            "type": "scatter"
           }
          ],
          "scatter3d": [
           {
            "line": {
             "colorbar": {
              "outlinewidth": 0,
              "ticks": ""
             }
            },
            "marker": {
             "colorbar": {
              "outlinewidth": 0,
              "ticks": ""
             }
            },
            "type": "scatter3d"
           }
          ],
          "scattercarpet": [
           {
            "marker": {
             "colorbar": {
              "outlinewidth": 0,
              "ticks": ""
             }
            },
            "type": "scattercarpet"
           }
          ],
          "scattergeo": [
           {
            "marker": {
             "colorbar": {
              "outlinewidth": 0,
              "ticks": ""
             }
            },
            "type": "scattergeo"
           }
          ],
          "scattergl": [
           {
            "marker": {
             "colorbar": {
              "outlinewidth": 0,
              "ticks": ""
             }
            },
            "type": "scattergl"
           }
          ],
          "scattermapbox": [
           {
            "marker": {
             "colorbar": {
              "outlinewidth": 0,
              "ticks": ""
             }
            },
            "type": "scattermapbox"
           }
          ],
          "scatterpolar": [
           {
            "marker": {
             "colorbar": {
              "outlinewidth": 0,
              "ticks": ""
             }
            },
            "type": "scatterpolar"
           }
          ],
          "scatterpolargl": [
           {
            "marker": {
             "colorbar": {
              "outlinewidth": 0,
              "ticks": ""
             }
            },
            "type": "scatterpolargl"
           }
          ],
          "scatterternary": [
           {
            "marker": {
             "colorbar": {
              "outlinewidth": 0,
              "ticks": ""
             }
            },
            "type": "scatterternary"
           }
          ],
          "surface": [
           {
            "colorbar": {
             "outlinewidth": 0,
             "ticks": ""
            },
            "colorscale": [
             [
              0,
              "#0d0887"
             ],
             [
              0.1111111111111111,
              "#46039f"
             ],
             [
              0.2222222222222222,
              "#7201a8"
             ],
             [
              0.3333333333333333,
              "#9c179e"
             ],
             [
              0.4444444444444444,
              "#bd3786"
             ],
             [
              0.5555555555555556,
              "#d8576b"
             ],
             [
              0.6666666666666666,
              "#ed7953"
             ],
             [
              0.7777777777777778,
              "#fb9f3a"
             ],
             [
              0.8888888888888888,
              "#fdca26"
             ],
             [
              1,
              "#f0f921"
             ]
            ],
            "type": "surface"
           }
          ],
          "table": [
           {
            "cells": {
             "fill": {
              "color": "#EBF0F8"
             },
             "line": {
              "color": "white"
             }
            },
            "header": {
             "fill": {
              "color": "#C8D4E3"
             },
             "line": {
              "color": "white"
             }
            },
            "type": "table"
           }
          ]
         },
         "layout": {
          "annotationdefaults": {
           "arrowcolor": "#2a3f5f",
           "arrowhead": 0,
           "arrowwidth": 1
          },
          "coloraxis": {
           "colorbar": {
            "outlinewidth": 0,
            "ticks": ""
           }
          },
          "colorscale": {
           "diverging": [
            [
             0,
             "#8e0152"
            ],
            [
             0.1,
             "#c51b7d"
            ],
            [
             0.2,
             "#de77ae"
            ],
            [
             0.3,
             "#f1b6da"
            ],
            [
             0.4,
             "#fde0ef"
            ],
            [
             0.5,
             "#f7f7f7"
            ],
            [
             0.6,
             "#e6f5d0"
            ],
            [
             0.7,
             "#b8e186"
            ],
            [
             0.8,
             "#7fbc41"
            ],
            [
             0.9,
             "#4d9221"
            ],
            [
             1,
             "#276419"
            ]
           ],
           "sequential": [
            [
             0,
             "#0d0887"
            ],
            [
             0.1111111111111111,
             "#46039f"
            ],
            [
             0.2222222222222222,
             "#7201a8"
            ],
            [
             0.3333333333333333,
             "#9c179e"
            ],
            [
             0.4444444444444444,
             "#bd3786"
            ],
            [
             0.5555555555555556,
             "#d8576b"
            ],
            [
             0.6666666666666666,
             "#ed7953"
            ],
            [
             0.7777777777777778,
             "#fb9f3a"
            ],
            [
             0.8888888888888888,
             "#fdca26"
            ],
            [
             1,
             "#f0f921"
            ]
           ],
           "sequentialminus": [
            [
             0,
             "#0d0887"
            ],
            [
             0.1111111111111111,
             "#46039f"
            ],
            [
             0.2222222222222222,
             "#7201a8"
            ],
            [
             0.3333333333333333,
             "#9c179e"
            ],
            [
             0.4444444444444444,
             "#bd3786"
            ],
            [
             0.5555555555555556,
             "#d8576b"
            ],
            [
             0.6666666666666666,
             "#ed7953"
            ],
            [
             0.7777777777777778,
             "#fb9f3a"
            ],
            [
             0.8888888888888888,
             "#fdca26"
            ],
            [
             1,
             "#f0f921"
            ]
           ]
          },
          "colorway": [
           "#636efa",
           "#EF553B",
           "#00cc96",
           "#ab63fa",
           "#FFA15A",
           "#19d3f3",
           "#FF6692",
           "#B6E880",
           "#FF97FF",
           "#FECB52"
          ],
          "font": {
           "color": "#2a3f5f"
          },
          "geo": {
           "bgcolor": "white",
           "lakecolor": "white",
           "landcolor": "#E5ECF6",
           "showlakes": true,
           "showland": true,
           "subunitcolor": "white"
          },
          "hoverlabel": {
           "align": "left"
          },
          "hovermode": "closest",
          "mapbox": {
           "style": "light"
          },
          "paper_bgcolor": "white",
          "plot_bgcolor": "#E5ECF6",
          "polar": {
           "angularaxis": {
            "gridcolor": "white",
            "linecolor": "white",
            "ticks": ""
           },
           "bgcolor": "#E5ECF6",
           "radialaxis": {
            "gridcolor": "white",
            "linecolor": "white",
            "ticks": ""
           }
          },
          "scene": {
           "xaxis": {
            "backgroundcolor": "#E5ECF6",
            "gridcolor": "white",
            "gridwidth": 2,
            "linecolor": "white",
            "showbackground": true,
            "ticks": "",
            "zerolinecolor": "white"
           },
           "yaxis": {
            "backgroundcolor": "#E5ECF6",
            "gridcolor": "white",
            "gridwidth": 2,
            "linecolor": "white",
            "showbackground": true,
            "ticks": "",
            "zerolinecolor": "white"
           },
           "zaxis": {
            "backgroundcolor": "#E5ECF6",
            "gridcolor": "white",
            "gridwidth": 2,
            "linecolor": "white",
            "showbackground": true,
            "ticks": "",
            "zerolinecolor": "white"
           }
          },
          "shapedefaults": {
           "line": {
            "color": "#2a3f5f"
           }
          },
          "ternary": {
           "aaxis": {
            "gridcolor": "white",
            "linecolor": "white",
            "ticks": ""
           },
           "baxis": {
            "gridcolor": "white",
            "linecolor": "white",
            "ticks": ""
           },
           "bgcolor": "#E5ECF6",
           "caxis": {
            "gridcolor": "white",
            "linecolor": "white",
            "ticks": ""
           }
          },
          "title": {
           "x": 0.05
          },
          "xaxis": {
           "automargin": true,
           "gridcolor": "white",
           "linecolor": "white",
           "ticks": "",
           "title": {
            "standoff": 15
           },
           "zerolinecolor": "white",
           "zerolinewidth": 2
          },
          "yaxis": {
           "automargin": true,
           "gridcolor": "white",
           "linecolor": "white",
           "ticks": "",
           "title": {
            "standoff": 15
           },
           "zerolinecolor": "white",
           "zerolinewidth": 2
          }
         }
        },
        "title": {
         "font": {
          "color": "#4D5663"
         }
        },
        "xaxis": {
         "gridcolor": "#E1E5ED",
         "showgrid": true,
         "tickfont": {
          "color": "#4D5663"
         },
         "title": {
          "font": {
           "color": "#4D5663"
          },
          "text": ""
         },
         "zerolinecolor": "#E1E5ED"
        },
        "yaxis": {
         "gridcolor": "#E1E5ED",
         "showgrid": true,
         "tickfont": {
          "color": "#4D5663"
         },
         "title": {
          "font": {
           "color": "#4D5663"
          },
          "text": ""
         },
         "zerolinecolor": "#E1E5ED"
        }
       }
      },
      "text/html": [
       "<div>\n",
       "        \n",
       "        \n",
       "            <div id=\"b64963ba-f5d2-4ed2-ae07-91865cb739f8\" class=\"plotly-graph-div\" style=\"height:525px; width:100%;\"></div>\n",
       "            <script type=\"text/javascript\">\n",
       "                require([\"plotly\"], function(Plotly) {\n",
       "                    window.PLOTLYENV=window.PLOTLYENV || {};\n",
       "                    window.PLOTLYENV.BASE_URL='https://plot.ly';\n",
       "                    \n",
       "                if (document.getElementById(\"b64963ba-f5d2-4ed2-ae07-91865cb739f8\")) {\n",
       "                    Plotly.newPlot(\n",
       "                        'b64963ba-f5d2-4ed2-ae07-91865cb739f8',\n",
       "                        [{\"line\": {\"color\": \"rgba(255, 153, 51, 1.0)\", \"dash\": \"solid\", \"shape\": \"linear\", \"width\": 1.3}, \"marker\": {\"size\": 5, \"symbol\": \"circle\"}, \"mode\": \"markers\", \"name\": \"b\", \"text\": \"\", \"type\": \"scatter\", \"x\": [0.292974139252864, -1.1862472468463803, -0.8501922428907918, 0.9111150495629899, 1.2365734664393244, -0.30040599005249846, 1.2105765633744126, 0.14329654371470976, 0.4816690203269885, -0.7188786553096995, 0.29107117981780284, -0.3401912914972917, -0.18610532625705425, 1.8934182437838603, 0.9927287463728656, 1.168165311884389, 1.2111889751775067, 0.19395059226497616, 0.28144601088500154, 0.2929306980738659, 1.1101162910982343, -0.20882608286556142, -0.14537398933595616, -0.6074017425049224, -0.45238438838097095, -0.36610343319996314, 0.26477062314585953, 0.14515091806317906, 0.7803251454516109, 0.608549950958882, -0.4026053747294526, -1.2321271511876488, 0.29910009937757676, -0.18539593485926428, -1.28945619590427, 0.39696306959178446, 0.694370207176139, -0.2679532057619806, 0.6478464445330818, -0.4988282383343721, -1.6079546032861718, 1.7507638766258602, 0.005242884837819096, 0.25125359691177257, -0.23229482042008281, -0.9157632735360842, 0.19640311609892663, -1.3062721849837655, 0.4339583497922634, -1.229079058345127, -1.115240077344917, 0.12379795927408499, 2.6290620243327067, 0.3998538531848044, 0.45893027219882326, -0.7086162503195204, 0.057001724806481205, 0.029529428385691656, -0.1534944558163816, 0.8870271703734542, -1.8295512441698598, 0.9303258214684024, -1.3794435848247562, -0.07751135502855382, 0.22194716382883783, -0.9513732804851377, 0.6170642625680876, 1.174827368853181, -1.7776866913199962, -1.690521991664963, 0.3160827137707872, 0.8005986394539232, -1.6980350094685637, -1.2304179781414055, -0.901279065228436, 0.22598156079956105, 0.3232752239225913, 0.29907964573518026, -0.16176374150177283, 0.6745298559739035, -1.4039829245790993, -0.7949168861300312, 0.8842730651829632, -0.7882189620982454, -0.7676887445502899, -0.6083321443906384, 1.6090599247918695, -0.5152246440526308, -0.3464353213483669, -0.28668138720437186, 0.8387664451015886, 0.7879805141342737, 1.0128081521957695, 1.4073545183039107, -0.838922259663184, -1.559188829826368, -0.10949875615111043, 0.5570685284421174, -0.5377441150506823, 0.7886033547968465], \"y\": [-0.716753785541702, 0.1466280511998309, -0.6006519808735739, -0.5415580708273, -1.7400320426706721, 0.06483281643880595, 0.9267383919456018, 0.2754962391363442, -0.06963639112657052, 0.43293104058293036, -0.13165251266138508, 0.3688569256553953, 1.101879648066124, 1.0069678548545076, -1.0246405999495924, -0.037202033114178676, 0.259486510387421, -0.05785681071930317, -1.4405479471178548, -0.8243764549033302, -0.1175958470954889, -1.1981943378901034, 0.1487120785832584, 1.0764514860316108, -0.1310759686583265, 0.7870838978756679, 0.09754672432005959, -1.4826931311691334, 1.0793655584203048, 0.9233239197538965, 1.3166320867203176, 0.18222042165689503, -0.06256287722059806, 1.1043295807781548, -0.6150240875265599, 0.790514023860243, -2.0799884828014936, 0.5008675581779642, -0.6810354084403812, -1.2386481384626733, -1.2911154417873516, -0.5154920168362496, -0.4031392471329243, 0.9983704720180332, -1.0160075337650878, 1.886243651028083, -0.5715465786042008, -1.2679931356019523, 1.6614338951907, -0.17792785850635345, 1.4745507719444697, 1.1776871716912736, -1.2561713012470577, -0.24638872835020778, 1.4670954437869548, -0.189173117161535, -0.3527437302423633, -1.7117404210798368, 0.048457522093129965, 0.9007265389917656, -0.42341732249635067, 0.0816182553248051, -0.21089804096281775, 1.6556331387431482, -0.13153184493536688, 1.181944111964066, 2.5830824420534, 0.4106671915172332, -1.266706022491882, 0.3949972411593756, -0.5686340208377227, -1.6296276350686436, -0.47748567224339156, -0.13072699147207864, 0.4200392298325099, -0.7813031954177223, -1.9529817674828185, 0.866984811466902, -1.734427964729059, -1.2781840402669344, -1.2910708778295, -0.3989670450326166, 0.8745687117774343, -1.2311660756455374, 0.6089849716765106, 1.048143379954883, 0.3721709975994528, -1.1576133027199618, -0.34453151051109965, -1.0338932199109123, -0.9460628162322431, -0.04923179092455275, -1.0520628606997837, 0.1852383456745756, -1.0632232978375835, -0.09162384543826531, 0.6831550325518608, 0.9278729993391939, -0.47421170746718716, -2.1165065532109923]}],\n",
       "                        {\"legend\": {\"bgcolor\": \"#F5F6F9\", \"font\": {\"color\": \"#4D5663\"}}, \"paper_bgcolor\": \"#F5F6F9\", \"plot_bgcolor\": \"#F5F6F9\", \"template\": {\"data\": {\"bar\": [{\"error_x\": {\"color\": \"#2a3f5f\"}, \"error_y\": {\"color\": \"#2a3f5f\"}, \"marker\": {\"line\": {\"color\": \"#E5ECF6\", \"width\": 0.5}}, \"type\": \"bar\"}], \"barpolar\": [{\"marker\": {\"line\": {\"color\": \"#E5ECF6\", \"width\": 0.5}}, \"type\": \"barpolar\"}], \"carpet\": [{\"aaxis\": {\"endlinecolor\": \"#2a3f5f\", \"gridcolor\": \"white\", \"linecolor\": \"white\", \"minorgridcolor\": \"white\", \"startlinecolor\": \"#2a3f5f\"}, \"baxis\": {\"endlinecolor\": \"#2a3f5f\", \"gridcolor\": \"white\", \"linecolor\": \"white\", \"minorgridcolor\": \"white\", \"startlinecolor\": \"#2a3f5f\"}, \"type\": \"carpet\"}], \"choropleth\": [{\"colorbar\": {\"outlinewidth\": 0, \"ticks\": \"\"}, \"type\": \"choropleth\"}], \"contour\": [{\"colorbar\": {\"outlinewidth\": 0, \"ticks\": \"\"}, \"colorscale\": [[0.0, \"#0d0887\"], [0.1111111111111111, \"#46039f\"], [0.2222222222222222, \"#7201a8\"], [0.3333333333333333, \"#9c179e\"], [0.4444444444444444, \"#bd3786\"], [0.5555555555555556, \"#d8576b\"], [0.6666666666666666, \"#ed7953\"], [0.7777777777777778, \"#fb9f3a\"], [0.8888888888888888, \"#fdca26\"], [1.0, \"#f0f921\"]], \"type\": \"contour\"}], \"contourcarpet\": [{\"colorbar\": {\"outlinewidth\": 0, \"ticks\": \"\"}, \"type\": \"contourcarpet\"}], \"heatmap\": [{\"colorbar\": {\"outlinewidth\": 0, \"ticks\": \"\"}, \"colorscale\": [[0.0, \"#0d0887\"], [0.1111111111111111, \"#46039f\"], [0.2222222222222222, \"#7201a8\"], [0.3333333333333333, \"#9c179e\"], [0.4444444444444444, \"#bd3786\"], [0.5555555555555556, \"#d8576b\"], [0.6666666666666666, \"#ed7953\"], [0.7777777777777778, \"#fb9f3a\"], [0.8888888888888888, \"#fdca26\"], [1.0, \"#f0f921\"]], \"type\": \"heatmap\"}], \"heatmapgl\": [{\"colorbar\": {\"outlinewidth\": 0, \"ticks\": \"\"}, \"colorscale\": [[0.0, \"#0d0887\"], [0.1111111111111111, \"#46039f\"], [0.2222222222222222, \"#7201a8\"], [0.3333333333333333, \"#9c179e\"], [0.4444444444444444, \"#bd3786\"], [0.5555555555555556, \"#d8576b\"], [0.6666666666666666, \"#ed7953\"], [0.7777777777777778, \"#fb9f3a\"], [0.8888888888888888, \"#fdca26\"], [1.0, \"#f0f921\"]], \"type\": \"heatmapgl\"}], \"histogram\": [{\"marker\": {\"colorbar\": {\"outlinewidth\": 0, \"ticks\": \"\"}}, \"type\": \"histogram\"}], \"histogram2d\": [{\"colorbar\": {\"outlinewidth\": 0, \"ticks\": \"\"}, \"colorscale\": [[0.0, \"#0d0887\"], [0.1111111111111111, \"#46039f\"], [0.2222222222222222, \"#7201a8\"], [0.3333333333333333, \"#9c179e\"], [0.4444444444444444, \"#bd3786\"], [0.5555555555555556, \"#d8576b\"], [0.6666666666666666, \"#ed7953\"], [0.7777777777777778, \"#fb9f3a\"], [0.8888888888888888, \"#fdca26\"], [1.0, \"#f0f921\"]], \"type\": \"histogram2d\"}], \"histogram2dcontour\": [{\"colorbar\": {\"outlinewidth\": 0, \"ticks\": \"\"}, \"colorscale\": [[0.0, \"#0d0887\"], [0.1111111111111111, \"#46039f\"], [0.2222222222222222, \"#7201a8\"], [0.3333333333333333, \"#9c179e\"], [0.4444444444444444, \"#bd3786\"], [0.5555555555555556, \"#d8576b\"], [0.6666666666666666, \"#ed7953\"], [0.7777777777777778, \"#fb9f3a\"], [0.8888888888888888, \"#fdca26\"], [1.0, \"#f0f921\"]], \"type\": \"histogram2dcontour\"}], \"mesh3d\": [{\"colorbar\": {\"outlinewidth\": 0, \"ticks\": \"\"}, \"type\": \"mesh3d\"}], \"parcoords\": [{\"line\": {\"colorbar\": {\"outlinewidth\": 0, \"ticks\": \"\"}}, \"type\": \"parcoords\"}], \"pie\": [{\"automargin\": true, \"type\": \"pie\"}], \"scatter\": [{\"marker\": {\"colorbar\": {\"outlinewidth\": 0, \"ticks\": \"\"}}, \"type\": \"scatter\"}], \"scatter3d\": [{\"line\": {\"colorbar\": {\"outlinewidth\": 0, \"ticks\": \"\"}}, \"marker\": {\"colorbar\": {\"outlinewidth\": 0, \"ticks\": \"\"}}, \"type\": \"scatter3d\"}], \"scattercarpet\": [{\"marker\": {\"colorbar\": {\"outlinewidth\": 0, \"ticks\": \"\"}}, \"type\": \"scattercarpet\"}], \"scattergeo\": [{\"marker\": {\"colorbar\": {\"outlinewidth\": 0, \"ticks\": \"\"}}, \"type\": \"scattergeo\"}], \"scattergl\": [{\"marker\": {\"colorbar\": {\"outlinewidth\": 0, \"ticks\": \"\"}}, \"type\": \"scattergl\"}], \"scattermapbox\": [{\"marker\": {\"colorbar\": {\"outlinewidth\": 0, \"ticks\": \"\"}}, \"type\": \"scattermapbox\"}], \"scatterpolar\": [{\"marker\": {\"colorbar\": {\"outlinewidth\": 0, \"ticks\": \"\"}}, \"type\": \"scatterpolar\"}], \"scatterpolargl\": [{\"marker\": {\"colorbar\": {\"outlinewidth\": 0, \"ticks\": \"\"}}, \"type\": \"scatterpolargl\"}], \"scatterternary\": [{\"marker\": {\"colorbar\": {\"outlinewidth\": 0, \"ticks\": \"\"}}, \"type\": \"scatterternary\"}], \"surface\": [{\"colorbar\": {\"outlinewidth\": 0, \"ticks\": \"\"}, \"colorscale\": [[0.0, \"#0d0887\"], [0.1111111111111111, \"#46039f\"], [0.2222222222222222, \"#7201a8\"], [0.3333333333333333, \"#9c179e\"], [0.4444444444444444, \"#bd3786\"], [0.5555555555555556, \"#d8576b\"], [0.6666666666666666, \"#ed7953\"], [0.7777777777777778, \"#fb9f3a\"], [0.8888888888888888, \"#fdca26\"], [1.0, \"#f0f921\"]], \"type\": \"surface\"}], \"table\": [{\"cells\": {\"fill\": {\"color\": \"#EBF0F8\"}, \"line\": {\"color\": \"white\"}}, \"header\": {\"fill\": {\"color\": \"#C8D4E3\"}, \"line\": {\"color\": \"white\"}}, \"type\": \"table\"}]}, \"layout\": {\"annotationdefaults\": {\"arrowcolor\": \"#2a3f5f\", \"arrowhead\": 0, \"arrowwidth\": 1}, \"coloraxis\": {\"colorbar\": {\"outlinewidth\": 0, \"ticks\": \"\"}}, \"colorscale\": {\"diverging\": [[0, \"#8e0152\"], [0.1, \"#c51b7d\"], [0.2, \"#de77ae\"], [0.3, \"#f1b6da\"], [0.4, \"#fde0ef\"], [0.5, \"#f7f7f7\"], [0.6, \"#e6f5d0\"], [0.7, \"#b8e186\"], [0.8, \"#7fbc41\"], [0.9, \"#4d9221\"], [1, \"#276419\"]], \"sequential\": [[0.0, \"#0d0887\"], [0.1111111111111111, \"#46039f\"], [0.2222222222222222, \"#7201a8\"], [0.3333333333333333, \"#9c179e\"], [0.4444444444444444, \"#bd3786\"], [0.5555555555555556, \"#d8576b\"], [0.6666666666666666, \"#ed7953\"], [0.7777777777777778, \"#fb9f3a\"], [0.8888888888888888, \"#fdca26\"], [1.0, \"#f0f921\"]], \"sequentialminus\": [[0.0, \"#0d0887\"], [0.1111111111111111, \"#46039f\"], [0.2222222222222222, \"#7201a8\"], [0.3333333333333333, \"#9c179e\"], [0.4444444444444444, \"#bd3786\"], [0.5555555555555556, \"#d8576b\"], [0.6666666666666666, \"#ed7953\"], [0.7777777777777778, \"#fb9f3a\"], [0.8888888888888888, \"#fdca26\"], [1.0, \"#f0f921\"]]}, \"colorway\": [\"#636efa\", \"#EF553B\", \"#00cc96\", \"#ab63fa\", \"#FFA15A\", \"#19d3f3\", \"#FF6692\", \"#B6E880\", \"#FF97FF\", \"#FECB52\"], \"font\": {\"color\": \"#2a3f5f\"}, \"geo\": {\"bgcolor\": \"white\", \"lakecolor\": \"white\", \"landcolor\": \"#E5ECF6\", \"showlakes\": true, \"showland\": true, \"subunitcolor\": \"white\"}, \"hoverlabel\": {\"align\": \"left\"}, \"hovermode\": \"closest\", \"mapbox\": {\"style\": \"light\"}, \"paper_bgcolor\": \"white\", \"plot_bgcolor\": \"#E5ECF6\", \"polar\": {\"angularaxis\": {\"gridcolor\": \"white\", \"linecolor\": \"white\", \"ticks\": \"\"}, \"bgcolor\": \"#E5ECF6\", \"radialaxis\": {\"gridcolor\": \"white\", \"linecolor\": \"white\", \"ticks\": \"\"}}, \"scene\": {\"xaxis\": {\"backgroundcolor\": \"#E5ECF6\", \"gridcolor\": \"white\", \"gridwidth\": 2, \"linecolor\": \"white\", \"showbackground\": true, \"ticks\": \"\", \"zerolinecolor\": \"white\"}, \"yaxis\": {\"backgroundcolor\": \"#E5ECF6\", \"gridcolor\": \"white\", \"gridwidth\": 2, \"linecolor\": \"white\", \"showbackground\": true, \"ticks\": \"\", \"zerolinecolor\": \"white\"}, \"zaxis\": {\"backgroundcolor\": \"#E5ECF6\", \"gridcolor\": \"white\", \"gridwidth\": 2, \"linecolor\": \"white\", \"showbackground\": true, \"ticks\": \"\", \"zerolinecolor\": \"white\"}}, \"shapedefaults\": {\"line\": {\"color\": \"#2a3f5f\"}}, \"ternary\": {\"aaxis\": {\"gridcolor\": \"white\", \"linecolor\": \"white\", \"ticks\": \"\"}, \"baxis\": {\"gridcolor\": \"white\", \"linecolor\": \"white\", \"ticks\": \"\"}, \"bgcolor\": \"#E5ECF6\", \"caxis\": {\"gridcolor\": \"white\", \"linecolor\": \"white\", \"ticks\": \"\"}}, \"title\": {\"x\": 0.05}, \"xaxis\": {\"automargin\": true, \"gridcolor\": \"white\", \"linecolor\": \"white\", \"ticks\": \"\", \"title\": {\"standoff\": 15}, \"zerolinecolor\": \"white\", \"zerolinewidth\": 2}, \"yaxis\": {\"automargin\": true, \"gridcolor\": \"white\", \"linecolor\": \"white\", \"ticks\": \"\", \"title\": {\"standoff\": 15}, \"zerolinecolor\": \"white\", \"zerolinewidth\": 2}}}, \"title\": {\"font\": {\"color\": \"#4D5663\"}}, \"xaxis\": {\"gridcolor\": \"#E1E5ED\", \"showgrid\": true, \"tickfont\": {\"color\": \"#4D5663\"}, \"title\": {\"font\": {\"color\": \"#4D5663\"}, \"text\": \"\"}, \"zerolinecolor\": \"#E1E5ED\"}, \"yaxis\": {\"gridcolor\": \"#E1E5ED\", \"showgrid\": true, \"tickfont\": {\"color\": \"#4D5663\"}, \"title\": {\"font\": {\"color\": \"#4D5663\"}, \"text\": \"\"}, \"zerolinecolor\": \"#E1E5ED\"}},\n",
       "                        {\"showLink\": true, \"linkText\": \"Export to plot.ly\", \"plotlyServerURL\": \"https://plot.ly\", \"responsive\": true}\n",
       "                    ).then(function(){\n",
       "                            \n",
       "var gd = document.getElementById('b64963ba-f5d2-4ed2-ae07-91865cb739f8');\n",
       "var x = new MutationObserver(function (mutations, observer) {{\n",
       "        var display = window.getComputedStyle(gd).display;\n",
       "        if (!display || display === 'none') {{\n",
       "            console.log([gd, 'removed!']);\n",
       "            Plotly.purge(gd);\n",
       "            observer.disconnect();\n",
       "        }}\n",
       "}});\n",
       "\n",
       "// Listen for the removal of the full notebook cells\n",
       "var notebookContainer = gd.closest('#notebook-container');\n",
       "if (notebookContainer) {{\n",
       "    x.observe(notebookContainer, {childList: true});\n",
       "}}\n",
       "\n",
       "// Listen for the clearing of the current output cell\n",
       "var outputEl = gd.closest('.output');\n",
       "if (outputEl) {{\n",
       "    x.observe(outputEl, {childList: true});\n",
       "}}\n",
       "\n",
       "                        })\n",
       "                };\n",
       "                });\n",
       "            </script>\n",
       "        </div>"
      ]
     },
     "metadata": {},
     "output_type": "display_data"
    }
   ],
   "source": [
    "df.iplot(kind = \"scatter\", x = \"a\", y = \"b\", mode = \"markers\", size = 5);"
   ]
  },
  {
   "cell_type": "markdown",
   "metadata": {},
   "source": [
    "## Bar chart"
   ]
  },
  {
   "cell_type": "code",
   "execution_count": 22,
   "metadata": {},
   "outputs": [
    {
     "data": {
      "application/vnd.plotly.v1+json": {
       "config": {
        "linkText": "Export to plot.ly",
        "plotlyServerURL": "https://plot.ly",
        "showLink": true
       },
       "data": [
        {
         "marker": {
          "color": "rgba(255, 153, 51, 0.6)",
          "line": {
           "color": "rgba(255, 153, 51, 1.0)",
           "width": 1
          }
         },
         "name": "Values",
         "orientation": "v",
         "text": "",
         "type": "bar",
         "x": [
          "a",
          "b",
          "c"
         ],
         "y": [
          32,
          43,
          50
         ]
        }
       ],
       "layout": {
        "legend": {
         "bgcolor": "#F5F6F9",
         "font": {
          "color": "#4D5663"
         }
        },
        "paper_bgcolor": "#F5F6F9",
        "plot_bgcolor": "#F5F6F9",
        "template": {
         "data": {
          "bar": [
           {
            "error_x": {
             "color": "#2a3f5f"
            },
            "error_y": {
             "color": "#2a3f5f"
            },
            "marker": {
             "line": {
              "color": "#E5ECF6",
              "width": 0.5
             }
            },
            "type": "bar"
           }
          ],
          "barpolar": [
           {
            "marker": {
             "line": {
              "color": "#E5ECF6",
              "width": 0.5
             }
            },
            "type": "barpolar"
           }
          ],
          "carpet": [
           {
            "aaxis": {
             "endlinecolor": "#2a3f5f",
             "gridcolor": "white",
             "linecolor": "white",
             "minorgridcolor": "white",
             "startlinecolor": "#2a3f5f"
            },
            "baxis": {
             "endlinecolor": "#2a3f5f",
             "gridcolor": "white",
             "linecolor": "white",
             "minorgridcolor": "white",
             "startlinecolor": "#2a3f5f"
            },
            "type": "carpet"
           }
          ],
          "choropleth": [
           {
            "colorbar": {
             "outlinewidth": 0,
             "ticks": ""
            },
            "type": "choropleth"
           }
          ],
          "contour": [
           {
            "colorbar": {
             "outlinewidth": 0,
             "ticks": ""
            },
            "colorscale": [
             [
              0,
              "#0d0887"
             ],
             [
              0.1111111111111111,
              "#46039f"
             ],
             [
              0.2222222222222222,
              "#7201a8"
             ],
             [
              0.3333333333333333,
              "#9c179e"
             ],
             [
              0.4444444444444444,
              "#bd3786"
             ],
             [
              0.5555555555555556,
              "#d8576b"
             ],
             [
              0.6666666666666666,
              "#ed7953"
             ],
             [
              0.7777777777777778,
              "#fb9f3a"
             ],
             [
              0.8888888888888888,
              "#fdca26"
             ],
             [
              1,
              "#f0f921"
             ]
            ],
            "type": "contour"
           }
          ],
          "contourcarpet": [
           {
            "colorbar": {
             "outlinewidth": 0,
             "ticks": ""
            },
            "type": "contourcarpet"
           }
          ],
          "heatmap": [
           {
            "colorbar": {
             "outlinewidth": 0,
             "ticks": ""
            },
            "colorscale": [
             [
              0,
              "#0d0887"
             ],
             [
              0.1111111111111111,
              "#46039f"
             ],
             [
              0.2222222222222222,
              "#7201a8"
             ],
             [
              0.3333333333333333,
              "#9c179e"
             ],
             [
              0.4444444444444444,
              "#bd3786"
             ],
             [
              0.5555555555555556,
              "#d8576b"
             ],
             [
              0.6666666666666666,
              "#ed7953"
             ],
             [
              0.7777777777777778,
              "#fb9f3a"
             ],
             [
              0.8888888888888888,
              "#fdca26"
             ],
             [
              1,
              "#f0f921"
             ]
            ],
            "type": "heatmap"
           }
          ],
          "heatmapgl": [
           {
            "colorbar": {
             "outlinewidth": 0,
             "ticks": ""
            },
            "colorscale": [
             [
              0,
              "#0d0887"
             ],
             [
              0.1111111111111111,
              "#46039f"
             ],
             [
              0.2222222222222222,
              "#7201a8"
             ],
             [
              0.3333333333333333,
              "#9c179e"
             ],
             [
              0.4444444444444444,
              "#bd3786"
             ],
             [
              0.5555555555555556,
              "#d8576b"
             ],
             [
              0.6666666666666666,
              "#ed7953"
             ],
             [
              0.7777777777777778,
              "#fb9f3a"
             ],
             [
              0.8888888888888888,
              "#fdca26"
             ],
             [
              1,
              "#f0f921"
             ]
            ],
            "type": "heatmapgl"
           }
          ],
          "histogram": [
           {
            "marker": {
             "colorbar": {
              "outlinewidth": 0,
              "ticks": ""
             }
            },
            "type": "histogram"
           }
          ],
          "histogram2d": [
           {
            "colorbar": {
             "outlinewidth": 0,
             "ticks": ""
            },
            "colorscale": [
             [
              0,
              "#0d0887"
             ],
             [
              0.1111111111111111,
              "#46039f"
             ],
             [
              0.2222222222222222,
              "#7201a8"
             ],
             [
              0.3333333333333333,
              "#9c179e"
             ],
             [
              0.4444444444444444,
              "#bd3786"
             ],
             [
              0.5555555555555556,
              "#d8576b"
             ],
             [
              0.6666666666666666,
              "#ed7953"
             ],
             [
              0.7777777777777778,
              "#fb9f3a"
             ],
             [
              0.8888888888888888,
              "#fdca26"
             ],
             [
              1,
              "#f0f921"
             ]
            ],
            "type": "histogram2d"
           }
          ],
          "histogram2dcontour": [
           {
            "colorbar": {
             "outlinewidth": 0,
             "ticks": ""
            },
            "colorscale": [
             [
              0,
              "#0d0887"
             ],
             [
              0.1111111111111111,
              "#46039f"
             ],
             [
              0.2222222222222222,
              "#7201a8"
             ],
             [
              0.3333333333333333,
              "#9c179e"
             ],
             [
              0.4444444444444444,
              "#bd3786"
             ],
             [
              0.5555555555555556,
              "#d8576b"
             ],
             [
              0.6666666666666666,
              "#ed7953"
             ],
             [
              0.7777777777777778,
              "#fb9f3a"
             ],
             [
              0.8888888888888888,
              "#fdca26"
             ],
             [
              1,
              "#f0f921"
             ]
            ],
            "type": "histogram2dcontour"
           }
          ],
          "mesh3d": [
           {
            "colorbar": {
             "outlinewidth": 0,
             "ticks": ""
            },
            "type": "mesh3d"
           }
          ],
          "parcoords": [
           {
            "line": {
             "colorbar": {
              "outlinewidth": 0,
              "ticks": ""
             }
            },
            "type": "parcoords"
           }
          ],
          "pie": [
           {
            "automargin": true,
            "type": "pie"
           }
          ],
          "scatter": [
           {
            "marker": {
             "colorbar": {
              "outlinewidth": 0,
              "ticks": ""
             }
            },
            "type": "scatter"
           }
          ],
          "scatter3d": [
           {
            "line": {
             "colorbar": {
              "outlinewidth": 0,
              "ticks": ""
             }
            },
            "marker": {
             "colorbar": {
              "outlinewidth": 0,
              "ticks": ""
             }
            },
            "type": "scatter3d"
           }
          ],
          "scattercarpet": [
           {
            "marker": {
             "colorbar": {
              "outlinewidth": 0,
              "ticks": ""
             }
            },
            "type": "scattercarpet"
           }
          ],
          "scattergeo": [
           {
            "marker": {
             "colorbar": {
              "outlinewidth": 0,
              "ticks": ""
             }
            },
            "type": "scattergeo"
           }
          ],
          "scattergl": [
           {
            "marker": {
             "colorbar": {
              "outlinewidth": 0,
              "ticks": ""
             }
            },
            "type": "scattergl"
           }
          ],
          "scattermapbox": [
           {
            "marker": {
             "colorbar": {
              "outlinewidth": 0,
              "ticks": ""
             }
            },
            "type": "scattermapbox"
           }
          ],
          "scatterpolar": [
           {
            "marker": {
             "colorbar": {
              "outlinewidth": 0,
              "ticks": ""
             }
            },
            "type": "scatterpolar"
           }
          ],
          "scatterpolargl": [
           {
            "marker": {
             "colorbar": {
              "outlinewidth": 0,
              "ticks": ""
             }
            },
            "type": "scatterpolargl"
           }
          ],
          "scatterternary": [
           {
            "marker": {
             "colorbar": {
              "outlinewidth": 0,
              "ticks": ""
             }
            },
            "type": "scatterternary"
           }
          ],
          "surface": [
           {
            "colorbar": {
             "outlinewidth": 0,
             "ticks": ""
            },
            "colorscale": [
             [
              0,
              "#0d0887"
             ],
             [
              0.1111111111111111,
              "#46039f"
             ],
             [
              0.2222222222222222,
              "#7201a8"
             ],
             [
              0.3333333333333333,
              "#9c179e"
             ],
             [
              0.4444444444444444,
              "#bd3786"
             ],
             [
              0.5555555555555556,
              "#d8576b"
             ],
             [
              0.6666666666666666,
              "#ed7953"
             ],
             [
              0.7777777777777778,
              "#fb9f3a"
             ],
             [
              0.8888888888888888,
              "#fdca26"
             ],
             [
              1,
              "#f0f921"
             ]
            ],
            "type": "surface"
           }
          ],
          "table": [
           {
            "cells": {
             "fill": {
              "color": "#EBF0F8"
             },
             "line": {
              "color": "white"
             }
            },
            "header": {
             "fill": {
              "color": "#C8D4E3"
             },
             "line": {
              "color": "white"
             }
            },
            "type": "table"
           }
          ]
         },
         "layout": {
          "annotationdefaults": {
           "arrowcolor": "#2a3f5f",
           "arrowhead": 0,
           "arrowwidth": 1
          },
          "coloraxis": {
           "colorbar": {
            "outlinewidth": 0,
            "ticks": ""
           }
          },
          "colorscale": {
           "diverging": [
            [
             0,
             "#8e0152"
            ],
            [
             0.1,
             "#c51b7d"
            ],
            [
             0.2,
             "#de77ae"
            ],
            [
             0.3,
             "#f1b6da"
            ],
            [
             0.4,
             "#fde0ef"
            ],
            [
             0.5,
             "#f7f7f7"
            ],
            [
             0.6,
             "#e6f5d0"
            ],
            [
             0.7,
             "#b8e186"
            ],
            [
             0.8,
             "#7fbc41"
            ],
            [
             0.9,
             "#4d9221"
            ],
            [
             1,
             "#276419"
            ]
           ],
           "sequential": [
            [
             0,
             "#0d0887"
            ],
            [
             0.1111111111111111,
             "#46039f"
            ],
            [
             0.2222222222222222,
             "#7201a8"
            ],
            [
             0.3333333333333333,
             "#9c179e"
            ],
            [
             0.4444444444444444,
             "#bd3786"
            ],
            [
             0.5555555555555556,
             "#d8576b"
            ],
            [
             0.6666666666666666,
             "#ed7953"
            ],
            [
             0.7777777777777778,
             "#fb9f3a"
            ],
            [
             0.8888888888888888,
             "#fdca26"
            ],
            [
             1,
             "#f0f921"
            ]
           ],
           "sequentialminus": [
            [
             0,
             "#0d0887"
            ],
            [
             0.1111111111111111,
             "#46039f"
            ],
            [
             0.2222222222222222,
             "#7201a8"
            ],
            [
             0.3333333333333333,
             "#9c179e"
            ],
            [
             0.4444444444444444,
             "#bd3786"
            ],
            [
             0.5555555555555556,
             "#d8576b"
            ],
            [
             0.6666666666666666,
             "#ed7953"
            ],
            [
             0.7777777777777778,
             "#fb9f3a"
            ],
            [
             0.8888888888888888,
             "#fdca26"
            ],
            [
             1,
             "#f0f921"
            ]
           ]
          },
          "colorway": [
           "#636efa",
           "#EF553B",
           "#00cc96",
           "#ab63fa",
           "#FFA15A",
           "#19d3f3",
           "#FF6692",
           "#B6E880",
           "#FF97FF",
           "#FECB52"
          ],
          "font": {
           "color": "#2a3f5f"
          },
          "geo": {
           "bgcolor": "white",
           "lakecolor": "white",
           "landcolor": "#E5ECF6",
           "showlakes": true,
           "showland": true,
           "subunitcolor": "white"
          },
          "hoverlabel": {
           "align": "left"
          },
          "hovermode": "closest",
          "mapbox": {
           "style": "light"
          },
          "paper_bgcolor": "white",
          "plot_bgcolor": "#E5ECF6",
          "polar": {
           "angularaxis": {
            "gridcolor": "white",
            "linecolor": "white",
            "ticks": ""
           },
           "bgcolor": "#E5ECF6",
           "radialaxis": {
            "gridcolor": "white",
            "linecolor": "white",
            "ticks": ""
           }
          },
          "scene": {
           "xaxis": {
            "backgroundcolor": "#E5ECF6",
            "gridcolor": "white",
            "gridwidth": 2,
            "linecolor": "white",
            "showbackground": true,
            "ticks": "",
            "zerolinecolor": "white"
           },
           "yaxis": {
            "backgroundcolor": "#E5ECF6",
            "gridcolor": "white",
            "gridwidth": 2,
            "linecolor": "white",
            "showbackground": true,
            "ticks": "",
            "zerolinecolor": "white"
           },
           "zaxis": {
            "backgroundcolor": "#E5ECF6",
            "gridcolor": "white",
            "gridwidth": 2,
            "linecolor": "white",
            "showbackground": true,
            "ticks": "",
            "zerolinecolor": "white"
           }
          },
          "shapedefaults": {
           "line": {
            "color": "#2a3f5f"
           }
          },
          "ternary": {
           "aaxis": {
            "gridcolor": "white",
            "linecolor": "white",
            "ticks": ""
           },
           "baxis": {
            "gridcolor": "white",
            "linecolor": "white",
            "ticks": ""
           },
           "bgcolor": "#E5ECF6",
           "caxis": {
            "gridcolor": "white",
            "linecolor": "white",
            "ticks": ""
           }
          },
          "title": {
           "x": 0.05
          },
          "xaxis": {
           "automargin": true,
           "gridcolor": "white",
           "linecolor": "white",
           "ticks": "",
           "title": {
            "standoff": 15
           },
           "zerolinecolor": "white",
           "zerolinewidth": 2
          },
          "yaxis": {
           "automargin": true,
           "gridcolor": "white",
           "linecolor": "white",
           "ticks": "",
           "title": {
            "standoff": 15
           },
           "zerolinecolor": "white",
           "zerolinewidth": 2
          }
         }
        },
        "title": {
         "font": {
          "color": "#4D5663"
         }
        },
        "xaxis": {
         "gridcolor": "#E1E5ED",
         "showgrid": true,
         "tickfont": {
          "color": "#4D5663"
         },
         "title": {
          "font": {
           "color": "#4D5663"
          },
          "text": ""
         },
         "zerolinecolor": "#E1E5ED"
        },
        "yaxis": {
         "gridcolor": "#E1E5ED",
         "showgrid": true,
         "tickfont": {
          "color": "#4D5663"
         },
         "title": {
          "font": {
           "color": "#4D5663"
          },
          "text": ""
         },
         "zerolinecolor": "#E1E5ED"
        }
       }
      },
      "text/html": [
       "<div>\n",
       "        \n",
       "        \n",
       "            <div id=\"2c96f175-e51b-4c00-986b-3d3657344b14\" class=\"plotly-graph-div\" style=\"height:525px; width:100%;\"></div>\n",
       "            <script type=\"text/javascript\">\n",
       "                require([\"plotly\"], function(Plotly) {\n",
       "                    window.PLOTLYENV=window.PLOTLYENV || {};\n",
       "                    window.PLOTLYENV.BASE_URL='https://plot.ly';\n",
       "                    \n",
       "                if (document.getElementById(\"2c96f175-e51b-4c00-986b-3d3657344b14\")) {\n",
       "                    Plotly.newPlot(\n",
       "                        '2c96f175-e51b-4c00-986b-3d3657344b14',\n",
       "                        [{\"marker\": {\"color\": \"rgba(255, 153, 51, 0.6)\", \"line\": {\"color\": \"rgba(255, 153, 51, 1.0)\", \"width\": 1}}, \"name\": \"Values\", \"orientation\": \"v\", \"text\": \"\", \"type\": \"bar\", \"x\": [\"a\", \"b\", \"c\"], \"y\": [32, 43, 50]}],\n",
       "                        {\"legend\": {\"bgcolor\": \"#F5F6F9\", \"font\": {\"color\": \"#4D5663\"}}, \"paper_bgcolor\": \"#F5F6F9\", \"plot_bgcolor\": \"#F5F6F9\", \"template\": {\"data\": {\"bar\": [{\"error_x\": {\"color\": \"#2a3f5f\"}, \"error_y\": {\"color\": \"#2a3f5f\"}, \"marker\": {\"line\": {\"color\": \"#E5ECF6\", \"width\": 0.5}}, \"type\": \"bar\"}], \"barpolar\": [{\"marker\": {\"line\": {\"color\": \"#E5ECF6\", \"width\": 0.5}}, \"type\": \"barpolar\"}], \"carpet\": [{\"aaxis\": {\"endlinecolor\": \"#2a3f5f\", \"gridcolor\": \"white\", \"linecolor\": \"white\", \"minorgridcolor\": \"white\", \"startlinecolor\": \"#2a3f5f\"}, \"baxis\": {\"endlinecolor\": \"#2a3f5f\", \"gridcolor\": \"white\", \"linecolor\": \"white\", \"minorgridcolor\": \"white\", \"startlinecolor\": \"#2a3f5f\"}, \"type\": \"carpet\"}], \"choropleth\": [{\"colorbar\": {\"outlinewidth\": 0, \"ticks\": \"\"}, \"type\": \"choropleth\"}], \"contour\": [{\"colorbar\": {\"outlinewidth\": 0, \"ticks\": \"\"}, \"colorscale\": [[0.0, \"#0d0887\"], [0.1111111111111111, \"#46039f\"], [0.2222222222222222, \"#7201a8\"], [0.3333333333333333, \"#9c179e\"], [0.4444444444444444, \"#bd3786\"], [0.5555555555555556, \"#d8576b\"], [0.6666666666666666, \"#ed7953\"], [0.7777777777777778, \"#fb9f3a\"], [0.8888888888888888, \"#fdca26\"], [1.0, \"#f0f921\"]], \"type\": \"contour\"}], \"contourcarpet\": [{\"colorbar\": {\"outlinewidth\": 0, \"ticks\": \"\"}, \"type\": \"contourcarpet\"}], \"heatmap\": [{\"colorbar\": {\"outlinewidth\": 0, \"ticks\": \"\"}, \"colorscale\": [[0.0, \"#0d0887\"], [0.1111111111111111, \"#46039f\"], [0.2222222222222222, \"#7201a8\"], [0.3333333333333333, \"#9c179e\"], [0.4444444444444444, \"#bd3786\"], [0.5555555555555556, \"#d8576b\"], [0.6666666666666666, \"#ed7953\"], [0.7777777777777778, \"#fb9f3a\"], [0.8888888888888888, \"#fdca26\"], [1.0, \"#f0f921\"]], \"type\": \"heatmap\"}], \"heatmapgl\": [{\"colorbar\": {\"outlinewidth\": 0, \"ticks\": \"\"}, \"colorscale\": [[0.0, \"#0d0887\"], [0.1111111111111111, \"#46039f\"], [0.2222222222222222, \"#7201a8\"], [0.3333333333333333, \"#9c179e\"], [0.4444444444444444, \"#bd3786\"], [0.5555555555555556, \"#d8576b\"], [0.6666666666666666, \"#ed7953\"], [0.7777777777777778, \"#fb9f3a\"], [0.8888888888888888, \"#fdca26\"], [1.0, \"#f0f921\"]], \"type\": \"heatmapgl\"}], \"histogram\": [{\"marker\": {\"colorbar\": {\"outlinewidth\": 0, \"ticks\": \"\"}}, \"type\": \"histogram\"}], \"histogram2d\": [{\"colorbar\": {\"outlinewidth\": 0, \"ticks\": \"\"}, \"colorscale\": [[0.0, \"#0d0887\"], [0.1111111111111111, \"#46039f\"], [0.2222222222222222, \"#7201a8\"], [0.3333333333333333, \"#9c179e\"], [0.4444444444444444, \"#bd3786\"], [0.5555555555555556, \"#d8576b\"], [0.6666666666666666, \"#ed7953\"], [0.7777777777777778, \"#fb9f3a\"], [0.8888888888888888, \"#fdca26\"], [1.0, \"#f0f921\"]], \"type\": \"histogram2d\"}], \"histogram2dcontour\": [{\"colorbar\": {\"outlinewidth\": 0, \"ticks\": \"\"}, \"colorscale\": [[0.0, \"#0d0887\"], [0.1111111111111111, \"#46039f\"], [0.2222222222222222, \"#7201a8\"], [0.3333333333333333, \"#9c179e\"], [0.4444444444444444, \"#bd3786\"], [0.5555555555555556, \"#d8576b\"], [0.6666666666666666, \"#ed7953\"], [0.7777777777777778, \"#fb9f3a\"], [0.8888888888888888, \"#fdca26\"], [1.0, \"#f0f921\"]], \"type\": \"histogram2dcontour\"}], \"mesh3d\": [{\"colorbar\": {\"outlinewidth\": 0, \"ticks\": \"\"}, \"type\": \"mesh3d\"}], \"parcoords\": [{\"line\": {\"colorbar\": {\"outlinewidth\": 0, \"ticks\": \"\"}}, \"type\": \"parcoords\"}], \"pie\": [{\"automargin\": true, \"type\": \"pie\"}], \"scatter\": [{\"marker\": {\"colorbar\": {\"outlinewidth\": 0, \"ticks\": \"\"}}, \"type\": \"scatter\"}], \"scatter3d\": [{\"line\": {\"colorbar\": {\"outlinewidth\": 0, \"ticks\": \"\"}}, \"marker\": {\"colorbar\": {\"outlinewidth\": 0, \"ticks\": \"\"}}, \"type\": \"scatter3d\"}], \"scattercarpet\": [{\"marker\": {\"colorbar\": {\"outlinewidth\": 0, \"ticks\": \"\"}}, \"type\": \"scattercarpet\"}], \"scattergeo\": [{\"marker\": {\"colorbar\": {\"outlinewidth\": 0, \"ticks\": \"\"}}, \"type\": \"scattergeo\"}], \"scattergl\": [{\"marker\": {\"colorbar\": {\"outlinewidth\": 0, \"ticks\": \"\"}}, \"type\": \"scattergl\"}], \"scattermapbox\": [{\"marker\": {\"colorbar\": {\"outlinewidth\": 0, \"ticks\": \"\"}}, \"type\": \"scattermapbox\"}], \"scatterpolar\": [{\"marker\": {\"colorbar\": {\"outlinewidth\": 0, \"ticks\": \"\"}}, \"type\": \"scatterpolar\"}], \"scatterpolargl\": [{\"marker\": {\"colorbar\": {\"outlinewidth\": 0, \"ticks\": \"\"}}, \"type\": \"scatterpolargl\"}], \"scatterternary\": [{\"marker\": {\"colorbar\": {\"outlinewidth\": 0, \"ticks\": \"\"}}, \"type\": \"scatterternary\"}], \"surface\": [{\"colorbar\": {\"outlinewidth\": 0, \"ticks\": \"\"}, \"colorscale\": [[0.0, \"#0d0887\"], [0.1111111111111111, \"#46039f\"], [0.2222222222222222, \"#7201a8\"], [0.3333333333333333, \"#9c179e\"], [0.4444444444444444, \"#bd3786\"], [0.5555555555555556, \"#d8576b\"], [0.6666666666666666, \"#ed7953\"], [0.7777777777777778, \"#fb9f3a\"], [0.8888888888888888, \"#fdca26\"], [1.0, \"#f0f921\"]], \"type\": \"surface\"}], \"table\": [{\"cells\": {\"fill\": {\"color\": \"#EBF0F8\"}, \"line\": {\"color\": \"white\"}}, \"header\": {\"fill\": {\"color\": \"#C8D4E3\"}, \"line\": {\"color\": \"white\"}}, \"type\": \"table\"}]}, \"layout\": {\"annotationdefaults\": {\"arrowcolor\": \"#2a3f5f\", \"arrowhead\": 0, \"arrowwidth\": 1}, \"coloraxis\": {\"colorbar\": {\"outlinewidth\": 0, \"ticks\": \"\"}}, \"colorscale\": {\"diverging\": [[0, \"#8e0152\"], [0.1, \"#c51b7d\"], [0.2, \"#de77ae\"], [0.3, \"#f1b6da\"], [0.4, \"#fde0ef\"], [0.5, \"#f7f7f7\"], [0.6, \"#e6f5d0\"], [0.7, \"#b8e186\"], [0.8, \"#7fbc41\"], [0.9, \"#4d9221\"], [1, \"#276419\"]], \"sequential\": [[0.0, \"#0d0887\"], [0.1111111111111111, \"#46039f\"], [0.2222222222222222, \"#7201a8\"], [0.3333333333333333, \"#9c179e\"], [0.4444444444444444, \"#bd3786\"], [0.5555555555555556, \"#d8576b\"], [0.6666666666666666, \"#ed7953\"], [0.7777777777777778, \"#fb9f3a\"], [0.8888888888888888, \"#fdca26\"], [1.0, \"#f0f921\"]], \"sequentialminus\": [[0.0, \"#0d0887\"], [0.1111111111111111, \"#46039f\"], [0.2222222222222222, \"#7201a8\"], [0.3333333333333333, \"#9c179e\"], [0.4444444444444444, \"#bd3786\"], [0.5555555555555556, \"#d8576b\"], [0.6666666666666666, \"#ed7953\"], [0.7777777777777778, \"#fb9f3a\"], [0.8888888888888888, \"#fdca26\"], [1.0, \"#f0f921\"]]}, \"colorway\": [\"#636efa\", \"#EF553B\", \"#00cc96\", \"#ab63fa\", \"#FFA15A\", \"#19d3f3\", \"#FF6692\", \"#B6E880\", \"#FF97FF\", \"#FECB52\"], \"font\": {\"color\": \"#2a3f5f\"}, \"geo\": {\"bgcolor\": \"white\", \"lakecolor\": \"white\", \"landcolor\": \"#E5ECF6\", \"showlakes\": true, \"showland\": true, \"subunitcolor\": \"white\"}, \"hoverlabel\": {\"align\": \"left\"}, \"hovermode\": \"closest\", \"mapbox\": {\"style\": \"light\"}, \"paper_bgcolor\": \"white\", \"plot_bgcolor\": \"#E5ECF6\", \"polar\": {\"angularaxis\": {\"gridcolor\": \"white\", \"linecolor\": \"white\", \"ticks\": \"\"}, \"bgcolor\": \"#E5ECF6\", \"radialaxis\": {\"gridcolor\": \"white\", \"linecolor\": \"white\", \"ticks\": \"\"}}, \"scene\": {\"xaxis\": {\"backgroundcolor\": \"#E5ECF6\", \"gridcolor\": \"white\", \"gridwidth\": 2, \"linecolor\": \"white\", \"showbackground\": true, \"ticks\": \"\", \"zerolinecolor\": \"white\"}, \"yaxis\": {\"backgroundcolor\": \"#E5ECF6\", \"gridcolor\": \"white\", \"gridwidth\": 2, \"linecolor\": \"white\", \"showbackground\": true, \"ticks\": \"\", \"zerolinecolor\": \"white\"}, \"zaxis\": {\"backgroundcolor\": \"#E5ECF6\", \"gridcolor\": \"white\", \"gridwidth\": 2, \"linecolor\": \"white\", \"showbackground\": true, \"ticks\": \"\", \"zerolinecolor\": \"white\"}}, \"shapedefaults\": {\"line\": {\"color\": \"#2a3f5f\"}}, \"ternary\": {\"aaxis\": {\"gridcolor\": \"white\", \"linecolor\": \"white\", \"ticks\": \"\"}, \"baxis\": {\"gridcolor\": \"white\", \"linecolor\": \"white\", \"ticks\": \"\"}, \"bgcolor\": \"#E5ECF6\", \"caxis\": {\"gridcolor\": \"white\", \"linecolor\": \"white\", \"ticks\": \"\"}}, \"title\": {\"x\": 0.05}, \"xaxis\": {\"automargin\": true, \"gridcolor\": \"white\", \"linecolor\": \"white\", \"ticks\": \"\", \"title\": {\"standoff\": 15}, \"zerolinecolor\": \"white\", \"zerolinewidth\": 2}, \"yaxis\": {\"automargin\": true, \"gridcolor\": \"white\", \"linecolor\": \"white\", \"ticks\": \"\", \"title\": {\"standoff\": 15}, \"zerolinecolor\": \"white\", \"zerolinewidth\": 2}}}, \"title\": {\"font\": {\"color\": \"#4D5663\"}}, \"xaxis\": {\"gridcolor\": \"#E1E5ED\", \"showgrid\": true, \"tickfont\": {\"color\": \"#4D5663\"}, \"title\": {\"font\": {\"color\": \"#4D5663\"}, \"text\": \"\"}, \"zerolinecolor\": \"#E1E5ED\"}, \"yaxis\": {\"gridcolor\": \"#E1E5ED\", \"showgrid\": true, \"tickfont\": {\"color\": \"#4D5663\"}, \"title\": {\"font\": {\"color\": \"#4D5663\"}, \"text\": \"\"}, \"zerolinecolor\": \"#E1E5ED\"}},\n",
       "                        {\"showLink\": true, \"linkText\": \"Export to plot.ly\", \"plotlyServerURL\": \"https://plot.ly\", \"responsive\": true}\n",
       "                    ).then(function(){\n",
       "                            \n",
       "var gd = document.getElementById('2c96f175-e51b-4c00-986b-3d3657344b14');\n",
       "var x = new MutationObserver(function (mutations, observer) {{\n",
       "        var display = window.getComputedStyle(gd).display;\n",
       "        if (!display || display === 'none') {{\n",
       "            console.log([gd, 'removed!']);\n",
       "            Plotly.purge(gd);\n",
       "            observer.disconnect();\n",
       "        }}\n",
       "}});\n",
       "\n",
       "// Listen for the removal of the full notebook cells\n",
       "var notebookContainer = gd.closest('#notebook-container');\n",
       "if (notebookContainer) {{\n",
       "    x.observe(notebookContainer, {childList: true});\n",
       "}}\n",
       "\n",
       "// Listen for the clearing of the current output cell\n",
       "var outputEl = gd.closest('.output');\n",
       "if (outputEl) {{\n",
       "    x.observe(outputEl, {childList: true});\n",
       "}}\n",
       "\n",
       "                        })\n",
       "                };\n",
       "                });\n",
       "            </script>\n",
       "        </div>"
      ]
     },
     "metadata": {},
     "output_type": "display_data"
    }
   ],
   "source": [
    "df2.iplot(kind = \"bar\", x = \"Category\", y = \"Values\");"
   ]
  },
  {
   "cell_type": "code",
   "execution_count": 24,
   "metadata": {},
   "outputs": [
    {
     "data": {
      "text/html": [
       "<div>\n",
       "<style scoped>\n",
       "    .dataframe tbody tr th:only-of-type {\n",
       "        vertical-align: middle;\n",
       "    }\n",
       "\n",
       "    .dataframe tbody tr th {\n",
       "        vertical-align: top;\n",
       "    }\n",
       "\n",
       "    .dataframe thead th {\n",
       "        text-align: right;\n",
       "    }\n",
       "</style>\n",
       "<table border=\"1\" class=\"dataframe\">\n",
       "  <thead>\n",
       "    <tr style=\"text-align: right;\">\n",
       "      <th></th>\n",
       "      <th>a</th>\n",
       "      <th>b</th>\n",
       "      <th>c</th>\n",
       "      <th>d</th>\n",
       "    </tr>\n",
       "  </thead>\n",
       "  <tbody>\n",
       "    <tr>\n",
       "      <th>0</th>\n",
       "      <td>0.292974</td>\n",
       "      <td>-0.716754</td>\n",
       "      <td>-1.457452</td>\n",
       "      <td>2.316827</td>\n",
       "    </tr>\n",
       "    <tr>\n",
       "      <th>1</th>\n",
       "      <td>-1.186247</td>\n",
       "      <td>0.146628</td>\n",
       "      <td>1.616926</td>\n",
       "      <td>0.394583</td>\n",
       "    </tr>\n",
       "    <tr>\n",
       "      <th>2</th>\n",
       "      <td>-0.850192</td>\n",
       "      <td>-0.600652</td>\n",
       "      <td>-1.554079</td>\n",
       "      <td>-0.465103</td>\n",
       "    </tr>\n",
       "    <tr>\n",
       "      <th>3</th>\n",
       "      <td>0.911115</td>\n",
       "      <td>-0.541558</td>\n",
       "      <td>-1.316560</td>\n",
       "      <td>-0.201727</td>\n",
       "    </tr>\n",
       "    <tr>\n",
       "      <th>4</th>\n",
       "      <td>1.236573</td>\n",
       "      <td>-1.740032</td>\n",
       "      <td>-0.580299</td>\n",
       "      <td>-0.241891</td>\n",
       "    </tr>\n",
       "  </tbody>\n",
       "</table>\n",
       "</div>"
      ],
      "text/plain": [
       "          a         b         c         d\n",
       "0  0.292974 -0.716754 -1.457452  2.316827\n",
       "1 -1.186247  0.146628  1.616926  0.394583\n",
       "2 -0.850192 -0.600652 -1.554079 -0.465103\n",
       "3  0.911115 -0.541558 -1.316560 -0.201727\n",
       "4  1.236573 -1.740032 -0.580299 -0.241891"
      ]
     },
     "execution_count": 24,
     "metadata": {},
     "output_type": "execute_result"
    }
   ],
   "source": [
    "df.head()"
   ]
  },
  {
   "cell_type": "code",
   "execution_count": 26,
   "metadata": {},
   "outputs": [
    {
     "data": {
      "application/vnd.plotly.v1+json": {
       "config": {
        "linkText": "Export to plot.ly",
        "plotlyServerURL": "https://plot.ly",
        "showLink": true
       },
       "data": [
        {
         "marker": {
          "color": "rgba(255, 153, 51, 0.6)",
          "line": {
           "color": "rgba(255, 153, 51, 1.0)",
           "width": 1
          }
         },
         "name": "None",
         "orientation": "v",
         "text": "",
         "type": "bar",
         "x": [
          "a",
          "b",
          "c",
          "d"
         ],
         "y": [
          100,
          100,
          100,
          100
         ]
        }
       ],
       "layout": {
        "legend": {
         "bgcolor": "#F5F6F9",
         "font": {
          "color": "#4D5663"
         }
        },
        "paper_bgcolor": "#F5F6F9",
        "plot_bgcolor": "#F5F6F9",
        "template": {
         "data": {
          "bar": [
           {
            "error_x": {
             "color": "#2a3f5f"
            },
            "error_y": {
             "color": "#2a3f5f"
            },
            "marker": {
             "line": {
              "color": "#E5ECF6",
              "width": 0.5
             }
            },
            "type": "bar"
           }
          ],
          "barpolar": [
           {
            "marker": {
             "line": {
              "color": "#E5ECF6",
              "width": 0.5
             }
            },
            "type": "barpolar"
           }
          ],
          "carpet": [
           {
            "aaxis": {
             "endlinecolor": "#2a3f5f",
             "gridcolor": "white",
             "linecolor": "white",
             "minorgridcolor": "white",
             "startlinecolor": "#2a3f5f"
            },
            "baxis": {
             "endlinecolor": "#2a3f5f",
             "gridcolor": "white",
             "linecolor": "white",
             "minorgridcolor": "white",
             "startlinecolor": "#2a3f5f"
            },
            "type": "carpet"
           }
          ],
          "choropleth": [
           {
            "colorbar": {
             "outlinewidth": 0,
             "ticks": ""
            },
            "type": "choropleth"
           }
          ],
          "contour": [
           {
            "colorbar": {
             "outlinewidth": 0,
             "ticks": ""
            },
            "colorscale": [
             [
              0,
              "#0d0887"
             ],
             [
              0.1111111111111111,
              "#46039f"
             ],
             [
              0.2222222222222222,
              "#7201a8"
             ],
             [
              0.3333333333333333,
              "#9c179e"
             ],
             [
              0.4444444444444444,
              "#bd3786"
             ],
             [
              0.5555555555555556,
              "#d8576b"
             ],
             [
              0.6666666666666666,
              "#ed7953"
             ],
             [
              0.7777777777777778,
              "#fb9f3a"
             ],
             [
              0.8888888888888888,
              "#fdca26"
             ],
             [
              1,
              "#f0f921"
             ]
            ],
            "type": "contour"
           }
          ],
          "contourcarpet": [
           {
            "colorbar": {
             "outlinewidth": 0,
             "ticks": ""
            },
            "type": "contourcarpet"
           }
          ],
          "heatmap": [
           {
            "colorbar": {
             "outlinewidth": 0,
             "ticks": ""
            },
            "colorscale": [
             [
              0,
              "#0d0887"
             ],
             [
              0.1111111111111111,
              "#46039f"
             ],
             [
              0.2222222222222222,
              "#7201a8"
             ],
             [
              0.3333333333333333,
              "#9c179e"
             ],
             [
              0.4444444444444444,
              "#bd3786"
             ],
             [
              0.5555555555555556,
              "#d8576b"
             ],
             [
              0.6666666666666666,
              "#ed7953"
             ],
             [
              0.7777777777777778,
              "#fb9f3a"
             ],
             [
              0.8888888888888888,
              "#fdca26"
             ],
             [
              1,
              "#f0f921"
             ]
            ],
            "type": "heatmap"
           }
          ],
          "heatmapgl": [
           {
            "colorbar": {
             "outlinewidth": 0,
             "ticks": ""
            },
            "colorscale": [
             [
              0,
              "#0d0887"
             ],
             [
              0.1111111111111111,
              "#46039f"
             ],
             [
              0.2222222222222222,
              "#7201a8"
             ],
             [
              0.3333333333333333,
              "#9c179e"
             ],
             [
              0.4444444444444444,
              "#bd3786"
             ],
             [
              0.5555555555555556,
              "#d8576b"
             ],
             [
              0.6666666666666666,
              "#ed7953"
             ],
             [
              0.7777777777777778,
              "#fb9f3a"
             ],
             [
              0.8888888888888888,
              "#fdca26"
             ],
             [
              1,
              "#f0f921"
             ]
            ],
            "type": "heatmapgl"
           }
          ],
          "histogram": [
           {
            "marker": {
             "colorbar": {
              "outlinewidth": 0,
              "ticks": ""
             }
            },
            "type": "histogram"
           }
          ],
          "histogram2d": [
           {
            "colorbar": {
             "outlinewidth": 0,
             "ticks": ""
            },
            "colorscale": [
             [
              0,
              "#0d0887"
             ],
             [
              0.1111111111111111,
              "#46039f"
             ],
             [
              0.2222222222222222,
              "#7201a8"
             ],
             [
              0.3333333333333333,
              "#9c179e"
             ],
             [
              0.4444444444444444,
              "#bd3786"
             ],
             [
              0.5555555555555556,
              "#d8576b"
             ],
             [
              0.6666666666666666,
              "#ed7953"
             ],
             [
              0.7777777777777778,
              "#fb9f3a"
             ],
             [
              0.8888888888888888,
              "#fdca26"
             ],
             [
              1,
              "#f0f921"
             ]
            ],
            "type": "histogram2d"
           }
          ],
          "histogram2dcontour": [
           {
            "colorbar": {
             "outlinewidth": 0,
             "ticks": ""
            },
            "colorscale": [
             [
              0,
              "#0d0887"
             ],
             [
              0.1111111111111111,
              "#46039f"
             ],
             [
              0.2222222222222222,
              "#7201a8"
             ],
             [
              0.3333333333333333,
              "#9c179e"
             ],
             [
              0.4444444444444444,
              "#bd3786"
             ],
             [
              0.5555555555555556,
              "#d8576b"
             ],
             [
              0.6666666666666666,
              "#ed7953"
             ],
             [
              0.7777777777777778,
              "#fb9f3a"
             ],
             [
              0.8888888888888888,
              "#fdca26"
             ],
             [
              1,
              "#f0f921"
             ]
            ],
            "type": "histogram2dcontour"
           }
          ],
          "mesh3d": [
           {
            "colorbar": {
             "outlinewidth": 0,
             "ticks": ""
            },
            "type": "mesh3d"
           }
          ],
          "parcoords": [
           {
            "line": {
             "colorbar": {
              "outlinewidth": 0,
              "ticks": ""
             }
            },
            "type": "parcoords"
           }
          ],
          "pie": [
           {
            "automargin": true,
            "type": "pie"
           }
          ],
          "scatter": [
           {
            "marker": {
             "colorbar": {
              "outlinewidth": 0,
              "ticks": ""
             }
            },
            "type": "scatter"
           }
          ],
          "scatter3d": [
           {
            "line": {
             "colorbar": {
              "outlinewidth": 0,
              "ticks": ""
             }
            },
            "marker": {
             "colorbar": {
              "outlinewidth": 0,
              "ticks": ""
             }
            },
            "type": "scatter3d"
           }
          ],
          "scattercarpet": [
           {
            "marker": {
             "colorbar": {
              "outlinewidth": 0,
              "ticks": ""
             }
            },
            "type": "scattercarpet"
           }
          ],
          "scattergeo": [
           {
            "marker": {
             "colorbar": {
              "outlinewidth": 0,
              "ticks": ""
             }
            },
            "type": "scattergeo"
           }
          ],
          "scattergl": [
           {
            "marker": {
             "colorbar": {
              "outlinewidth": 0,
              "ticks": ""
             }
            },
            "type": "scattergl"
           }
          ],
          "scattermapbox": [
           {
            "marker": {
             "colorbar": {
              "outlinewidth": 0,
              "ticks": ""
             }
            },
            "type": "scattermapbox"
           }
          ],
          "scatterpolar": [
           {
            "marker": {
             "colorbar": {
              "outlinewidth": 0,
              "ticks": ""
             }
            },
            "type": "scatterpolar"
           }
          ],
          "scatterpolargl": [
           {
            "marker": {
             "colorbar": {
              "outlinewidth": 0,
              "ticks": ""
             }
            },
            "type": "scatterpolargl"
           }
          ],
          "scatterternary": [
           {
            "marker": {
             "colorbar": {
              "outlinewidth": 0,
              "ticks": ""
             }
            },
            "type": "scatterternary"
           }
          ],
          "surface": [
           {
            "colorbar": {
             "outlinewidth": 0,
             "ticks": ""
            },
            "colorscale": [
             [
              0,
              "#0d0887"
             ],
             [
              0.1111111111111111,
              "#46039f"
             ],
             [
              0.2222222222222222,
              "#7201a8"
             ],
             [
              0.3333333333333333,
              "#9c179e"
             ],
             [
              0.4444444444444444,
              "#bd3786"
             ],
             [
              0.5555555555555556,
              "#d8576b"
             ],
             [
              0.6666666666666666,
              "#ed7953"
             ],
             [
              0.7777777777777778,
              "#fb9f3a"
             ],
             [
              0.8888888888888888,
              "#fdca26"
             ],
             [
              1,
              "#f0f921"
             ]
            ],
            "type": "surface"
           }
          ],
          "table": [
           {
            "cells": {
             "fill": {
              "color": "#EBF0F8"
             },
             "line": {
              "color": "white"
             }
            },
            "header": {
             "fill": {
              "color": "#C8D4E3"
             },
             "line": {
              "color": "white"
             }
            },
            "type": "table"
           }
          ]
         },
         "layout": {
          "annotationdefaults": {
           "arrowcolor": "#2a3f5f",
           "arrowhead": 0,
           "arrowwidth": 1
          },
          "coloraxis": {
           "colorbar": {
            "outlinewidth": 0,
            "ticks": ""
           }
          },
          "colorscale": {
           "diverging": [
            [
             0,
             "#8e0152"
            ],
            [
             0.1,
             "#c51b7d"
            ],
            [
             0.2,
             "#de77ae"
            ],
            [
             0.3,
             "#f1b6da"
            ],
            [
             0.4,
             "#fde0ef"
            ],
            [
             0.5,
             "#f7f7f7"
            ],
            [
             0.6,
             "#e6f5d0"
            ],
            [
             0.7,
             "#b8e186"
            ],
            [
             0.8,
             "#7fbc41"
            ],
            [
             0.9,
             "#4d9221"
            ],
            [
             1,
             "#276419"
            ]
           ],
           "sequential": [
            [
             0,
             "#0d0887"
            ],
            [
             0.1111111111111111,
             "#46039f"
            ],
            [
             0.2222222222222222,
             "#7201a8"
            ],
            [
             0.3333333333333333,
             "#9c179e"
            ],
            [
             0.4444444444444444,
             "#bd3786"
            ],
            [
             0.5555555555555556,
             "#d8576b"
            ],
            [
             0.6666666666666666,
             "#ed7953"
            ],
            [
             0.7777777777777778,
             "#fb9f3a"
            ],
            [
             0.8888888888888888,
             "#fdca26"
            ],
            [
             1,
             "#f0f921"
            ]
           ],
           "sequentialminus": [
            [
             0,
             "#0d0887"
            ],
            [
             0.1111111111111111,
             "#46039f"
            ],
            [
             0.2222222222222222,
             "#7201a8"
            ],
            [
             0.3333333333333333,
             "#9c179e"
            ],
            [
             0.4444444444444444,
             "#bd3786"
            ],
            [
             0.5555555555555556,
             "#d8576b"
            ],
            [
             0.6666666666666666,
             "#ed7953"
            ],
            [
             0.7777777777777778,
             "#fb9f3a"
            ],
            [
             0.8888888888888888,
             "#fdca26"
            ],
            [
             1,
             "#f0f921"
            ]
           ]
          },
          "colorway": [
           "#636efa",
           "#EF553B",
           "#00cc96",
           "#ab63fa",
           "#FFA15A",
           "#19d3f3",
           "#FF6692",
           "#B6E880",
           "#FF97FF",
           "#FECB52"
          ],
          "font": {
           "color": "#2a3f5f"
          },
          "geo": {
           "bgcolor": "white",
           "lakecolor": "white",
           "landcolor": "#E5ECF6",
           "showlakes": true,
           "showland": true,
           "subunitcolor": "white"
          },
          "hoverlabel": {
           "align": "left"
          },
          "hovermode": "closest",
          "mapbox": {
           "style": "light"
          },
          "paper_bgcolor": "white",
          "plot_bgcolor": "#E5ECF6",
          "polar": {
           "angularaxis": {
            "gridcolor": "white",
            "linecolor": "white",
            "ticks": ""
           },
           "bgcolor": "#E5ECF6",
           "radialaxis": {
            "gridcolor": "white",
            "linecolor": "white",
            "ticks": ""
           }
          },
          "scene": {
           "xaxis": {
            "backgroundcolor": "#E5ECF6",
            "gridcolor": "white",
            "gridwidth": 2,
            "linecolor": "white",
            "showbackground": true,
            "ticks": "",
            "zerolinecolor": "white"
           },
           "yaxis": {
            "backgroundcolor": "#E5ECF6",
            "gridcolor": "white",
            "gridwidth": 2,
            "linecolor": "white",
            "showbackground": true,
            "ticks": "",
            "zerolinecolor": "white"
           },
           "zaxis": {
            "backgroundcolor": "#E5ECF6",
            "gridcolor": "white",
            "gridwidth": 2,
            "linecolor": "white",
            "showbackground": true,
            "ticks": "",
            "zerolinecolor": "white"
           }
          },
          "shapedefaults": {
           "line": {
            "color": "#2a3f5f"
           }
          },
          "ternary": {
           "aaxis": {
            "gridcolor": "white",
            "linecolor": "white",
            "ticks": ""
           },
           "baxis": {
            "gridcolor": "white",
            "linecolor": "white",
            "ticks": ""
           },
           "bgcolor": "#E5ECF6",
           "caxis": {
            "gridcolor": "white",
            "linecolor": "white",
            "ticks": ""
           }
          },
          "title": {
           "x": 0.05
          },
          "xaxis": {
           "automargin": true,
           "gridcolor": "white",
           "linecolor": "white",
           "ticks": "",
           "title": {
            "standoff": 15
           },
           "zerolinecolor": "white",
           "zerolinewidth": 2
          },
          "yaxis": {
           "automargin": true,
           "gridcolor": "white",
           "linecolor": "white",
           "ticks": "",
           "title": {
            "standoff": 15
           },
           "zerolinecolor": "white",
           "zerolinewidth": 2
          }
         }
        },
        "title": {
         "font": {
          "color": "#4D5663"
         }
        },
        "xaxis": {
         "gridcolor": "#E1E5ED",
         "showgrid": true,
         "tickfont": {
          "color": "#4D5663"
         },
         "title": {
          "font": {
           "color": "#4D5663"
          },
          "text": ""
         },
         "zerolinecolor": "#E1E5ED"
        },
        "yaxis": {
         "gridcolor": "#E1E5ED",
         "showgrid": true,
         "tickfont": {
          "color": "#4D5663"
         },
         "title": {
          "font": {
           "color": "#4D5663"
          },
          "text": ""
         },
         "zerolinecolor": "#E1E5ED"
        }
       }
      },
      "text/html": [
       "<div>\n",
       "        \n",
       "        \n",
       "            <div id=\"fec8bf32-4db3-4618-8681-063f6a817948\" class=\"plotly-graph-div\" style=\"height:525px; width:100%;\"></div>\n",
       "            <script type=\"text/javascript\">\n",
       "                require([\"plotly\"], function(Plotly) {\n",
       "                    window.PLOTLYENV=window.PLOTLYENV || {};\n",
       "                    window.PLOTLYENV.BASE_URL='https://plot.ly';\n",
       "                    \n",
       "                if (document.getElementById(\"fec8bf32-4db3-4618-8681-063f6a817948\")) {\n",
       "                    Plotly.newPlot(\n",
       "                        'fec8bf32-4db3-4618-8681-063f6a817948',\n",
       "                        [{\"marker\": {\"color\": \"rgba(255, 153, 51, 0.6)\", \"line\": {\"color\": \"rgba(255, 153, 51, 1.0)\", \"width\": 1}}, \"name\": \"None\", \"orientation\": \"v\", \"text\": \"\", \"type\": \"bar\", \"x\": [\"a\", \"b\", \"c\", \"d\"], \"y\": [100, 100, 100, 100]}],\n",
       "                        {\"legend\": {\"bgcolor\": \"#F5F6F9\", \"font\": {\"color\": \"#4D5663\"}}, \"paper_bgcolor\": \"#F5F6F9\", \"plot_bgcolor\": \"#F5F6F9\", \"template\": {\"data\": {\"bar\": [{\"error_x\": {\"color\": \"#2a3f5f\"}, \"error_y\": {\"color\": \"#2a3f5f\"}, \"marker\": {\"line\": {\"color\": \"#E5ECF6\", \"width\": 0.5}}, \"type\": \"bar\"}], \"barpolar\": [{\"marker\": {\"line\": {\"color\": \"#E5ECF6\", \"width\": 0.5}}, \"type\": \"barpolar\"}], \"carpet\": [{\"aaxis\": {\"endlinecolor\": \"#2a3f5f\", \"gridcolor\": \"white\", \"linecolor\": \"white\", \"minorgridcolor\": \"white\", \"startlinecolor\": \"#2a3f5f\"}, \"baxis\": {\"endlinecolor\": \"#2a3f5f\", \"gridcolor\": \"white\", \"linecolor\": \"white\", \"minorgridcolor\": \"white\", \"startlinecolor\": \"#2a3f5f\"}, \"type\": \"carpet\"}], \"choropleth\": [{\"colorbar\": {\"outlinewidth\": 0, \"ticks\": \"\"}, \"type\": \"choropleth\"}], \"contour\": [{\"colorbar\": {\"outlinewidth\": 0, \"ticks\": \"\"}, \"colorscale\": [[0.0, \"#0d0887\"], [0.1111111111111111, \"#46039f\"], [0.2222222222222222, \"#7201a8\"], [0.3333333333333333, \"#9c179e\"], [0.4444444444444444, \"#bd3786\"], [0.5555555555555556, \"#d8576b\"], [0.6666666666666666, \"#ed7953\"], [0.7777777777777778, \"#fb9f3a\"], [0.8888888888888888, \"#fdca26\"], [1.0, \"#f0f921\"]], \"type\": \"contour\"}], \"contourcarpet\": [{\"colorbar\": {\"outlinewidth\": 0, \"ticks\": \"\"}, \"type\": \"contourcarpet\"}], \"heatmap\": [{\"colorbar\": {\"outlinewidth\": 0, \"ticks\": \"\"}, \"colorscale\": [[0.0, \"#0d0887\"], [0.1111111111111111, \"#46039f\"], [0.2222222222222222, \"#7201a8\"], [0.3333333333333333, \"#9c179e\"], [0.4444444444444444, \"#bd3786\"], [0.5555555555555556, \"#d8576b\"], [0.6666666666666666, \"#ed7953\"], [0.7777777777777778, \"#fb9f3a\"], [0.8888888888888888, \"#fdca26\"], [1.0, \"#f0f921\"]], \"type\": \"heatmap\"}], \"heatmapgl\": [{\"colorbar\": {\"outlinewidth\": 0, \"ticks\": \"\"}, \"colorscale\": [[0.0, \"#0d0887\"], [0.1111111111111111, \"#46039f\"], [0.2222222222222222, \"#7201a8\"], [0.3333333333333333, \"#9c179e\"], [0.4444444444444444, \"#bd3786\"], [0.5555555555555556, \"#d8576b\"], [0.6666666666666666, \"#ed7953\"], [0.7777777777777778, \"#fb9f3a\"], [0.8888888888888888, \"#fdca26\"], [1.0, \"#f0f921\"]], \"type\": \"heatmapgl\"}], \"histogram\": [{\"marker\": {\"colorbar\": {\"outlinewidth\": 0, \"ticks\": \"\"}}, \"type\": \"histogram\"}], \"histogram2d\": [{\"colorbar\": {\"outlinewidth\": 0, \"ticks\": \"\"}, \"colorscale\": [[0.0, \"#0d0887\"], [0.1111111111111111, \"#46039f\"], [0.2222222222222222, \"#7201a8\"], [0.3333333333333333, \"#9c179e\"], [0.4444444444444444, \"#bd3786\"], [0.5555555555555556, \"#d8576b\"], [0.6666666666666666, \"#ed7953\"], [0.7777777777777778, \"#fb9f3a\"], [0.8888888888888888, \"#fdca26\"], [1.0, \"#f0f921\"]], \"type\": \"histogram2d\"}], \"histogram2dcontour\": [{\"colorbar\": {\"outlinewidth\": 0, \"ticks\": \"\"}, \"colorscale\": [[0.0, \"#0d0887\"], [0.1111111111111111, \"#46039f\"], [0.2222222222222222, \"#7201a8\"], [0.3333333333333333, \"#9c179e\"], [0.4444444444444444, \"#bd3786\"], [0.5555555555555556, \"#d8576b\"], [0.6666666666666666, \"#ed7953\"], [0.7777777777777778, \"#fb9f3a\"], [0.8888888888888888, \"#fdca26\"], [1.0, \"#f0f921\"]], \"type\": \"histogram2dcontour\"}], \"mesh3d\": [{\"colorbar\": {\"outlinewidth\": 0, \"ticks\": \"\"}, \"type\": \"mesh3d\"}], \"parcoords\": [{\"line\": {\"colorbar\": {\"outlinewidth\": 0, \"ticks\": \"\"}}, \"type\": \"parcoords\"}], \"pie\": [{\"automargin\": true, \"type\": \"pie\"}], \"scatter\": [{\"marker\": {\"colorbar\": {\"outlinewidth\": 0, \"ticks\": \"\"}}, \"type\": \"scatter\"}], \"scatter3d\": [{\"line\": {\"colorbar\": {\"outlinewidth\": 0, \"ticks\": \"\"}}, \"marker\": {\"colorbar\": {\"outlinewidth\": 0, \"ticks\": \"\"}}, \"type\": \"scatter3d\"}], \"scattercarpet\": [{\"marker\": {\"colorbar\": {\"outlinewidth\": 0, \"ticks\": \"\"}}, \"type\": \"scattercarpet\"}], \"scattergeo\": [{\"marker\": {\"colorbar\": {\"outlinewidth\": 0, \"ticks\": \"\"}}, \"type\": \"scattergeo\"}], \"scattergl\": [{\"marker\": {\"colorbar\": {\"outlinewidth\": 0, \"ticks\": \"\"}}, \"type\": \"scattergl\"}], \"scattermapbox\": [{\"marker\": {\"colorbar\": {\"outlinewidth\": 0, \"ticks\": \"\"}}, \"type\": \"scattermapbox\"}], \"scatterpolar\": [{\"marker\": {\"colorbar\": {\"outlinewidth\": 0, \"ticks\": \"\"}}, \"type\": \"scatterpolar\"}], \"scatterpolargl\": [{\"marker\": {\"colorbar\": {\"outlinewidth\": 0, \"ticks\": \"\"}}, \"type\": \"scatterpolargl\"}], \"scatterternary\": [{\"marker\": {\"colorbar\": {\"outlinewidth\": 0, \"ticks\": \"\"}}, \"type\": \"scatterternary\"}], \"surface\": [{\"colorbar\": {\"outlinewidth\": 0, \"ticks\": \"\"}, \"colorscale\": [[0.0, \"#0d0887\"], [0.1111111111111111, \"#46039f\"], [0.2222222222222222, \"#7201a8\"], [0.3333333333333333, \"#9c179e\"], [0.4444444444444444, \"#bd3786\"], [0.5555555555555556, \"#d8576b\"], [0.6666666666666666, \"#ed7953\"], [0.7777777777777778, \"#fb9f3a\"], [0.8888888888888888, \"#fdca26\"], [1.0, \"#f0f921\"]], \"type\": \"surface\"}], \"table\": [{\"cells\": {\"fill\": {\"color\": \"#EBF0F8\"}, \"line\": {\"color\": \"white\"}}, \"header\": {\"fill\": {\"color\": \"#C8D4E3\"}, \"line\": {\"color\": \"white\"}}, \"type\": \"table\"}]}, \"layout\": {\"annotationdefaults\": {\"arrowcolor\": \"#2a3f5f\", \"arrowhead\": 0, \"arrowwidth\": 1}, \"coloraxis\": {\"colorbar\": {\"outlinewidth\": 0, \"ticks\": \"\"}}, \"colorscale\": {\"diverging\": [[0, \"#8e0152\"], [0.1, \"#c51b7d\"], [0.2, \"#de77ae\"], [0.3, \"#f1b6da\"], [0.4, \"#fde0ef\"], [0.5, \"#f7f7f7\"], [0.6, \"#e6f5d0\"], [0.7, \"#b8e186\"], [0.8, \"#7fbc41\"], [0.9, \"#4d9221\"], [1, \"#276419\"]], \"sequential\": [[0.0, \"#0d0887\"], [0.1111111111111111, \"#46039f\"], [0.2222222222222222, \"#7201a8\"], [0.3333333333333333, \"#9c179e\"], [0.4444444444444444, \"#bd3786\"], [0.5555555555555556, \"#d8576b\"], [0.6666666666666666, \"#ed7953\"], [0.7777777777777778, \"#fb9f3a\"], [0.8888888888888888, \"#fdca26\"], [1.0, \"#f0f921\"]], \"sequentialminus\": [[0.0, \"#0d0887\"], [0.1111111111111111, \"#46039f\"], [0.2222222222222222, \"#7201a8\"], [0.3333333333333333, \"#9c179e\"], [0.4444444444444444, \"#bd3786\"], [0.5555555555555556, \"#d8576b\"], [0.6666666666666666, \"#ed7953\"], [0.7777777777777778, \"#fb9f3a\"], [0.8888888888888888, \"#fdca26\"], [1.0, \"#f0f921\"]]}, \"colorway\": [\"#636efa\", \"#EF553B\", \"#00cc96\", \"#ab63fa\", \"#FFA15A\", \"#19d3f3\", \"#FF6692\", \"#B6E880\", \"#FF97FF\", \"#FECB52\"], \"font\": {\"color\": \"#2a3f5f\"}, \"geo\": {\"bgcolor\": \"white\", \"lakecolor\": \"white\", \"landcolor\": \"#E5ECF6\", \"showlakes\": true, \"showland\": true, \"subunitcolor\": \"white\"}, \"hoverlabel\": {\"align\": \"left\"}, \"hovermode\": \"closest\", \"mapbox\": {\"style\": \"light\"}, \"paper_bgcolor\": \"white\", \"plot_bgcolor\": \"#E5ECF6\", \"polar\": {\"angularaxis\": {\"gridcolor\": \"white\", \"linecolor\": \"white\", \"ticks\": \"\"}, \"bgcolor\": \"#E5ECF6\", \"radialaxis\": {\"gridcolor\": \"white\", \"linecolor\": \"white\", \"ticks\": \"\"}}, \"scene\": {\"xaxis\": {\"backgroundcolor\": \"#E5ECF6\", \"gridcolor\": \"white\", \"gridwidth\": 2, \"linecolor\": \"white\", \"showbackground\": true, \"ticks\": \"\", \"zerolinecolor\": \"white\"}, \"yaxis\": {\"backgroundcolor\": \"#E5ECF6\", \"gridcolor\": \"white\", \"gridwidth\": 2, \"linecolor\": \"white\", \"showbackground\": true, \"ticks\": \"\", \"zerolinecolor\": \"white\"}, \"zaxis\": {\"backgroundcolor\": \"#E5ECF6\", \"gridcolor\": \"white\", \"gridwidth\": 2, \"linecolor\": \"white\", \"showbackground\": true, \"ticks\": \"\", \"zerolinecolor\": \"white\"}}, \"shapedefaults\": {\"line\": {\"color\": \"#2a3f5f\"}}, \"ternary\": {\"aaxis\": {\"gridcolor\": \"white\", \"linecolor\": \"white\", \"ticks\": \"\"}, \"baxis\": {\"gridcolor\": \"white\", \"linecolor\": \"white\", \"ticks\": \"\"}, \"bgcolor\": \"#E5ECF6\", \"caxis\": {\"gridcolor\": \"white\", \"linecolor\": \"white\", \"ticks\": \"\"}}, \"title\": {\"x\": 0.05}, \"xaxis\": {\"automargin\": true, \"gridcolor\": \"white\", \"linecolor\": \"white\", \"ticks\": \"\", \"title\": {\"standoff\": 15}, \"zerolinecolor\": \"white\", \"zerolinewidth\": 2}, \"yaxis\": {\"automargin\": true, \"gridcolor\": \"white\", \"linecolor\": \"white\", \"ticks\": \"\", \"title\": {\"standoff\": 15}, \"zerolinecolor\": \"white\", \"zerolinewidth\": 2}}}, \"title\": {\"font\": {\"color\": \"#4D5663\"}}, \"xaxis\": {\"gridcolor\": \"#E1E5ED\", \"showgrid\": true, \"tickfont\": {\"color\": \"#4D5663\"}, \"title\": {\"font\": {\"color\": \"#4D5663\"}, \"text\": \"\"}, \"zerolinecolor\": \"#E1E5ED\"}, \"yaxis\": {\"gridcolor\": \"#E1E5ED\", \"showgrid\": true, \"tickfont\": {\"color\": \"#4D5663\"}, \"title\": {\"font\": {\"color\": \"#4D5663\"}, \"text\": \"\"}, \"zerolinecolor\": \"#E1E5ED\"}},\n",
       "                        {\"showLink\": true, \"linkText\": \"Export to plot.ly\", \"plotlyServerURL\": \"https://plot.ly\", \"responsive\": true}\n",
       "                    ).then(function(){\n",
       "                            \n",
       "var gd = document.getElementById('fec8bf32-4db3-4618-8681-063f6a817948');\n",
       "var x = new MutationObserver(function (mutations, observer) {{\n",
       "        var display = window.getComputedStyle(gd).display;\n",
       "        if (!display || display === 'none') {{\n",
       "            console.log([gd, 'removed!']);\n",
       "            Plotly.purge(gd);\n",
       "            observer.disconnect();\n",
       "        }}\n",
       "}});\n",
       "\n",
       "// Listen for the removal of the full notebook cells\n",
       "var notebookContainer = gd.closest('#notebook-container');\n",
       "if (notebookContainer) {{\n",
       "    x.observe(notebookContainer, {childList: true});\n",
       "}}\n",
       "\n",
       "// Listen for the clearing of the current output cell\n",
       "var outputEl = gd.closest('.output');\n",
       "if (outputEl) {{\n",
       "    x.observe(outputEl, {childList: true});\n",
       "}}\n",
       "\n",
       "                        })\n",
       "                };\n",
       "                });\n",
       "            </script>\n",
       "        </div>"
      ]
     },
     "metadata": {},
     "output_type": "display_data"
    }
   ],
   "source": [
    "df.count().iplot(kind = \"bar\");"
   ]
  },
  {
   "cell_type": "code",
   "execution_count": 27,
   "metadata": {},
   "outputs": [
    {
     "data": {
      "application/vnd.plotly.v1+json": {
       "config": {
        "linkText": "Export to plot.ly",
        "plotlyServerURL": "https://plot.ly",
        "showLink": true
       },
       "data": [
        {
         "marker": {
          "color": "rgba(255, 153, 51, 0.6)",
          "line": {
           "color": "rgba(255, 153, 51, 1.0)",
           "width": 1
          }
         },
         "name": "None",
         "orientation": "v",
         "text": "",
         "type": "bar",
         "x": [
          "a",
          "b",
          "c",
          "d"
         ],
         "y": [
          -0.520861824374206,
          -11.126724299125272,
          -8.991859137675165,
          -18.728425736097506
         ]
        }
       ],
       "layout": {
        "legend": {
         "bgcolor": "#F5F6F9",
         "font": {
          "color": "#4D5663"
         }
        },
        "paper_bgcolor": "#F5F6F9",
        "plot_bgcolor": "#F5F6F9",
        "template": {
         "data": {
          "bar": [
           {
            "error_x": {
             "color": "#2a3f5f"
            },
            "error_y": {
             "color": "#2a3f5f"
            },
            "marker": {
             "line": {
              "color": "#E5ECF6",
              "width": 0.5
             }
            },
            "type": "bar"
           }
          ],
          "barpolar": [
           {
            "marker": {
             "line": {
              "color": "#E5ECF6",
              "width": 0.5
             }
            },
            "type": "barpolar"
           }
          ],
          "carpet": [
           {
            "aaxis": {
             "endlinecolor": "#2a3f5f",
             "gridcolor": "white",
             "linecolor": "white",
             "minorgridcolor": "white",
             "startlinecolor": "#2a3f5f"
            },
            "baxis": {
             "endlinecolor": "#2a3f5f",
             "gridcolor": "white",
             "linecolor": "white",
             "minorgridcolor": "white",
             "startlinecolor": "#2a3f5f"
            },
            "type": "carpet"
           }
          ],
          "choropleth": [
           {
            "colorbar": {
             "outlinewidth": 0,
             "ticks": ""
            },
            "type": "choropleth"
           }
          ],
          "contour": [
           {
            "colorbar": {
             "outlinewidth": 0,
             "ticks": ""
            },
            "colorscale": [
             [
              0,
              "#0d0887"
             ],
             [
              0.1111111111111111,
              "#46039f"
             ],
             [
              0.2222222222222222,
              "#7201a8"
             ],
             [
              0.3333333333333333,
              "#9c179e"
             ],
             [
              0.4444444444444444,
              "#bd3786"
             ],
             [
              0.5555555555555556,
              "#d8576b"
             ],
             [
              0.6666666666666666,
              "#ed7953"
             ],
             [
              0.7777777777777778,
              "#fb9f3a"
             ],
             [
              0.8888888888888888,
              "#fdca26"
             ],
             [
              1,
              "#f0f921"
             ]
            ],
            "type": "contour"
           }
          ],
          "contourcarpet": [
           {
            "colorbar": {
             "outlinewidth": 0,
             "ticks": ""
            },
            "type": "contourcarpet"
           }
          ],
          "heatmap": [
           {
            "colorbar": {
             "outlinewidth": 0,
             "ticks": ""
            },
            "colorscale": [
             [
              0,
              "#0d0887"
             ],
             [
              0.1111111111111111,
              "#46039f"
             ],
             [
              0.2222222222222222,
              "#7201a8"
             ],
             [
              0.3333333333333333,
              "#9c179e"
             ],
             [
              0.4444444444444444,
              "#bd3786"
             ],
             [
              0.5555555555555556,
              "#d8576b"
             ],
             [
              0.6666666666666666,
              "#ed7953"
             ],
             [
              0.7777777777777778,
              "#fb9f3a"
             ],
             [
              0.8888888888888888,
              "#fdca26"
             ],
             [
              1,
              "#f0f921"
             ]
            ],
            "type": "heatmap"
           }
          ],
          "heatmapgl": [
           {
            "colorbar": {
             "outlinewidth": 0,
             "ticks": ""
            },
            "colorscale": [
             [
              0,
              "#0d0887"
             ],
             [
              0.1111111111111111,
              "#46039f"
             ],
             [
              0.2222222222222222,
              "#7201a8"
             ],
             [
              0.3333333333333333,
              "#9c179e"
             ],
             [
              0.4444444444444444,
              "#bd3786"
             ],
             [
              0.5555555555555556,
              "#d8576b"
             ],
             [
              0.6666666666666666,
              "#ed7953"
             ],
             [
              0.7777777777777778,
              "#fb9f3a"
             ],
             [
              0.8888888888888888,
              "#fdca26"
             ],
             [
              1,
              "#f0f921"
             ]
            ],
            "type": "heatmapgl"
           }
          ],
          "histogram": [
           {
            "marker": {
             "colorbar": {
              "outlinewidth": 0,
              "ticks": ""
             }
            },
            "type": "histogram"
           }
          ],
          "histogram2d": [
           {
            "colorbar": {
             "outlinewidth": 0,
             "ticks": ""
            },
            "colorscale": [
             [
              0,
              "#0d0887"
             ],
             [
              0.1111111111111111,
              "#46039f"
             ],
             [
              0.2222222222222222,
              "#7201a8"
             ],
             [
              0.3333333333333333,
              "#9c179e"
             ],
             [
              0.4444444444444444,
              "#bd3786"
             ],
             [
              0.5555555555555556,
              "#d8576b"
             ],
             [
              0.6666666666666666,
              "#ed7953"
             ],
             [
              0.7777777777777778,
              "#fb9f3a"
             ],
             [
              0.8888888888888888,
              "#fdca26"
             ],
             [
              1,
              "#f0f921"
             ]
            ],
            "type": "histogram2d"
           }
          ],
          "histogram2dcontour": [
           {
            "colorbar": {
             "outlinewidth": 0,
             "ticks": ""
            },
            "colorscale": [
             [
              0,
              "#0d0887"
             ],
             [
              0.1111111111111111,
              "#46039f"
             ],
             [
              0.2222222222222222,
              "#7201a8"
             ],
             [
              0.3333333333333333,
              "#9c179e"
             ],
             [
              0.4444444444444444,
              "#bd3786"
             ],
             [
              0.5555555555555556,
              "#d8576b"
             ],
             [
              0.6666666666666666,
              "#ed7953"
             ],
             [
              0.7777777777777778,
              "#fb9f3a"
             ],
             [
              0.8888888888888888,
              "#fdca26"
             ],
             [
              1,
              "#f0f921"
             ]
            ],
            "type": "histogram2dcontour"
           }
          ],
          "mesh3d": [
           {
            "colorbar": {
             "outlinewidth": 0,
             "ticks": ""
            },
            "type": "mesh3d"
           }
          ],
          "parcoords": [
           {
            "line": {
             "colorbar": {
              "outlinewidth": 0,
              "ticks": ""
             }
            },
            "type": "parcoords"
           }
          ],
          "pie": [
           {
            "automargin": true,
            "type": "pie"
           }
          ],
          "scatter": [
           {
            "marker": {
             "colorbar": {
              "outlinewidth": 0,
              "ticks": ""
             }
            },
            "type": "scatter"
           }
          ],
          "scatter3d": [
           {
            "line": {
             "colorbar": {
              "outlinewidth": 0,
              "ticks": ""
             }
            },
            "marker": {
             "colorbar": {
              "outlinewidth": 0,
              "ticks": ""
             }
            },
            "type": "scatter3d"
           }
          ],
          "scattercarpet": [
           {
            "marker": {
             "colorbar": {
              "outlinewidth": 0,
              "ticks": ""
             }
            },
            "type": "scattercarpet"
           }
          ],
          "scattergeo": [
           {
            "marker": {
             "colorbar": {
              "outlinewidth": 0,
              "ticks": ""
             }
            },
            "type": "scattergeo"
           }
          ],
          "scattergl": [
           {
            "marker": {
             "colorbar": {
              "outlinewidth": 0,
              "ticks": ""
             }
            },
            "type": "scattergl"
           }
          ],
          "scattermapbox": [
           {
            "marker": {
             "colorbar": {
              "outlinewidth": 0,
              "ticks": ""
             }
            },
            "type": "scattermapbox"
           }
          ],
          "scatterpolar": [
           {
            "marker": {
             "colorbar": {
              "outlinewidth": 0,
              "ticks": ""
             }
            },
            "type": "scatterpolar"
           }
          ],
          "scatterpolargl": [
           {
            "marker": {
             "colorbar": {
              "outlinewidth": 0,
              "ticks": ""
             }
            },
            "type": "scatterpolargl"
           }
          ],
          "scatterternary": [
           {
            "marker": {
             "colorbar": {
              "outlinewidth": 0,
              "ticks": ""
             }
            },
            "type": "scatterternary"
           }
          ],
          "surface": [
           {
            "colorbar": {
             "outlinewidth": 0,
             "ticks": ""
            },
            "colorscale": [
             [
              0,
              "#0d0887"
             ],
             [
              0.1111111111111111,
              "#46039f"
             ],
             [
              0.2222222222222222,
              "#7201a8"
             ],
             [
              0.3333333333333333,
              "#9c179e"
             ],
             [
              0.4444444444444444,
              "#bd3786"
             ],
             [
              0.5555555555555556,
              "#d8576b"
             ],
             [
              0.6666666666666666,
              "#ed7953"
             ],
             [
              0.7777777777777778,
              "#fb9f3a"
             ],
             [
              0.8888888888888888,
              "#fdca26"
             ],
             [
              1,
              "#f0f921"
             ]
            ],
            "type": "surface"
           }
          ],
          "table": [
           {
            "cells": {
             "fill": {
              "color": "#EBF0F8"
             },
             "line": {
              "color": "white"
             }
            },
            "header": {
             "fill": {
              "color": "#C8D4E3"
             },
             "line": {
              "color": "white"
             }
            },
            "type": "table"
           }
          ]
         },
         "layout": {
          "annotationdefaults": {
           "arrowcolor": "#2a3f5f",
           "arrowhead": 0,
           "arrowwidth": 1
          },
          "coloraxis": {
           "colorbar": {
            "outlinewidth": 0,
            "ticks": ""
           }
          },
          "colorscale": {
           "diverging": [
            [
             0,
             "#8e0152"
            ],
            [
             0.1,
             "#c51b7d"
            ],
            [
             0.2,
             "#de77ae"
            ],
            [
             0.3,
             "#f1b6da"
            ],
            [
             0.4,
             "#fde0ef"
            ],
            [
             0.5,
             "#f7f7f7"
            ],
            [
             0.6,
             "#e6f5d0"
            ],
            [
             0.7,
             "#b8e186"
            ],
            [
             0.8,
             "#7fbc41"
            ],
            [
             0.9,
             "#4d9221"
            ],
            [
             1,
             "#276419"
            ]
           ],
           "sequential": [
            [
             0,
             "#0d0887"
            ],
            [
             0.1111111111111111,
             "#46039f"
            ],
            [
             0.2222222222222222,
             "#7201a8"
            ],
            [
             0.3333333333333333,
             "#9c179e"
            ],
            [
             0.4444444444444444,
             "#bd3786"
            ],
            [
             0.5555555555555556,
             "#d8576b"
            ],
            [
             0.6666666666666666,
             "#ed7953"
            ],
            [
             0.7777777777777778,
             "#fb9f3a"
            ],
            [
             0.8888888888888888,
             "#fdca26"
            ],
            [
             1,
             "#f0f921"
            ]
           ],
           "sequentialminus": [
            [
             0,
             "#0d0887"
            ],
            [
             0.1111111111111111,
             "#46039f"
            ],
            [
             0.2222222222222222,
             "#7201a8"
            ],
            [
             0.3333333333333333,
             "#9c179e"
            ],
            [
             0.4444444444444444,
             "#bd3786"
            ],
            [
             0.5555555555555556,
             "#d8576b"
            ],
            [
             0.6666666666666666,
             "#ed7953"
            ],
            [
             0.7777777777777778,
             "#fb9f3a"
            ],
            [
             0.8888888888888888,
             "#fdca26"
            ],
            [
             1,
             "#f0f921"
            ]
           ]
          },
          "colorway": [
           "#636efa",
           "#EF553B",
           "#00cc96",
           "#ab63fa",
           "#FFA15A",
           "#19d3f3",
           "#FF6692",
           "#B6E880",
           "#FF97FF",
           "#FECB52"
          ],
          "font": {
           "color": "#2a3f5f"
          },
          "geo": {
           "bgcolor": "white",
           "lakecolor": "white",
           "landcolor": "#E5ECF6",
           "showlakes": true,
           "showland": true,
           "subunitcolor": "white"
          },
          "hoverlabel": {
           "align": "left"
          },
          "hovermode": "closest",
          "mapbox": {
           "style": "light"
          },
          "paper_bgcolor": "white",
          "plot_bgcolor": "#E5ECF6",
          "polar": {
           "angularaxis": {
            "gridcolor": "white",
            "linecolor": "white",
            "ticks": ""
           },
           "bgcolor": "#E5ECF6",
           "radialaxis": {
            "gridcolor": "white",
            "linecolor": "white",
            "ticks": ""
           }
          },
          "scene": {
           "xaxis": {
            "backgroundcolor": "#E5ECF6",
            "gridcolor": "white",
            "gridwidth": 2,
            "linecolor": "white",
            "showbackground": true,
            "ticks": "",
            "zerolinecolor": "white"
           },
           "yaxis": {
            "backgroundcolor": "#E5ECF6",
            "gridcolor": "white",
            "gridwidth": 2,
            "linecolor": "white",
            "showbackground": true,
            "ticks": "",
            "zerolinecolor": "white"
           },
           "zaxis": {
            "backgroundcolor": "#E5ECF6",
            "gridcolor": "white",
            "gridwidth": 2,
            "linecolor": "white",
            "showbackground": true,
            "ticks": "",
            "zerolinecolor": "white"
           }
          },
          "shapedefaults": {
           "line": {
            "color": "#2a3f5f"
           }
          },
          "ternary": {
           "aaxis": {
            "gridcolor": "white",
            "linecolor": "white",
            "ticks": ""
           },
           "baxis": {
            "gridcolor": "white",
            "linecolor": "white",
            "ticks": ""
           },
           "bgcolor": "#E5ECF6",
           "caxis": {
            "gridcolor": "white",
            "linecolor": "white",
            "ticks": ""
           }
          },
          "title": {
           "x": 0.05
          },
          "xaxis": {
           "automargin": true,
           "gridcolor": "white",
           "linecolor": "white",
           "ticks": "",
           "title": {
            "standoff": 15
           },
           "zerolinecolor": "white",
           "zerolinewidth": 2
          },
          "yaxis": {
           "automargin": true,
           "gridcolor": "white",
           "linecolor": "white",
           "ticks": "",
           "title": {
            "standoff": 15
           },
           "zerolinecolor": "white",
           "zerolinewidth": 2
          }
         }
        },
        "title": {
         "font": {
          "color": "#4D5663"
         }
        },
        "xaxis": {
         "gridcolor": "#E1E5ED",
         "showgrid": true,
         "tickfont": {
          "color": "#4D5663"
         },
         "title": {
          "font": {
           "color": "#4D5663"
          },
          "text": ""
         },
         "zerolinecolor": "#E1E5ED"
        },
        "yaxis": {
         "gridcolor": "#E1E5ED",
         "showgrid": true,
         "tickfont": {
          "color": "#4D5663"
         },
         "title": {
          "font": {
           "color": "#4D5663"
          },
          "text": ""
         },
         "zerolinecolor": "#E1E5ED"
        }
       }
      },
      "text/html": [
       "<div>\n",
       "        \n",
       "        \n",
       "            <div id=\"d64f583f-34d6-4e42-9ea4-5a9c6406381f\" class=\"plotly-graph-div\" style=\"height:525px; width:100%;\"></div>\n",
       "            <script type=\"text/javascript\">\n",
       "                require([\"plotly\"], function(Plotly) {\n",
       "                    window.PLOTLYENV=window.PLOTLYENV || {};\n",
       "                    window.PLOTLYENV.BASE_URL='https://plot.ly';\n",
       "                    \n",
       "                if (document.getElementById(\"d64f583f-34d6-4e42-9ea4-5a9c6406381f\")) {\n",
       "                    Plotly.newPlot(\n",
       "                        'd64f583f-34d6-4e42-9ea4-5a9c6406381f',\n",
       "                        [{\"marker\": {\"color\": \"rgba(255, 153, 51, 0.6)\", \"line\": {\"color\": \"rgba(255, 153, 51, 1.0)\", \"width\": 1}}, \"name\": \"None\", \"orientation\": \"v\", \"text\": \"\", \"type\": \"bar\", \"x\": [\"a\", \"b\", \"c\", \"d\"], \"y\": [-0.520861824374206, -11.126724299125272, -8.991859137675165, -18.728425736097506]}],\n",
       "                        {\"legend\": {\"bgcolor\": \"#F5F6F9\", \"font\": {\"color\": \"#4D5663\"}}, \"paper_bgcolor\": \"#F5F6F9\", \"plot_bgcolor\": \"#F5F6F9\", \"template\": {\"data\": {\"bar\": [{\"error_x\": {\"color\": \"#2a3f5f\"}, \"error_y\": {\"color\": \"#2a3f5f\"}, \"marker\": {\"line\": {\"color\": \"#E5ECF6\", \"width\": 0.5}}, \"type\": \"bar\"}], \"barpolar\": [{\"marker\": {\"line\": {\"color\": \"#E5ECF6\", \"width\": 0.5}}, \"type\": \"barpolar\"}], \"carpet\": [{\"aaxis\": {\"endlinecolor\": \"#2a3f5f\", \"gridcolor\": \"white\", \"linecolor\": \"white\", \"minorgridcolor\": \"white\", \"startlinecolor\": \"#2a3f5f\"}, \"baxis\": {\"endlinecolor\": \"#2a3f5f\", \"gridcolor\": \"white\", \"linecolor\": \"white\", \"minorgridcolor\": \"white\", \"startlinecolor\": \"#2a3f5f\"}, \"type\": \"carpet\"}], \"choropleth\": [{\"colorbar\": {\"outlinewidth\": 0, \"ticks\": \"\"}, \"type\": \"choropleth\"}], \"contour\": [{\"colorbar\": {\"outlinewidth\": 0, \"ticks\": \"\"}, \"colorscale\": [[0.0, \"#0d0887\"], [0.1111111111111111, \"#46039f\"], [0.2222222222222222, \"#7201a8\"], [0.3333333333333333, \"#9c179e\"], [0.4444444444444444, \"#bd3786\"], [0.5555555555555556, \"#d8576b\"], [0.6666666666666666, \"#ed7953\"], [0.7777777777777778, \"#fb9f3a\"], [0.8888888888888888, \"#fdca26\"], [1.0, \"#f0f921\"]], \"type\": \"contour\"}], \"contourcarpet\": [{\"colorbar\": {\"outlinewidth\": 0, \"ticks\": \"\"}, \"type\": \"contourcarpet\"}], \"heatmap\": [{\"colorbar\": {\"outlinewidth\": 0, \"ticks\": \"\"}, \"colorscale\": [[0.0, \"#0d0887\"], [0.1111111111111111, \"#46039f\"], [0.2222222222222222, \"#7201a8\"], [0.3333333333333333, \"#9c179e\"], [0.4444444444444444, \"#bd3786\"], [0.5555555555555556, \"#d8576b\"], [0.6666666666666666, \"#ed7953\"], [0.7777777777777778, \"#fb9f3a\"], [0.8888888888888888, \"#fdca26\"], [1.0, \"#f0f921\"]], \"type\": \"heatmap\"}], \"heatmapgl\": [{\"colorbar\": {\"outlinewidth\": 0, \"ticks\": \"\"}, \"colorscale\": [[0.0, \"#0d0887\"], [0.1111111111111111, \"#46039f\"], [0.2222222222222222, \"#7201a8\"], [0.3333333333333333, \"#9c179e\"], [0.4444444444444444, \"#bd3786\"], [0.5555555555555556, \"#d8576b\"], [0.6666666666666666, \"#ed7953\"], [0.7777777777777778, \"#fb9f3a\"], [0.8888888888888888, \"#fdca26\"], [1.0, \"#f0f921\"]], \"type\": \"heatmapgl\"}], \"histogram\": [{\"marker\": {\"colorbar\": {\"outlinewidth\": 0, \"ticks\": \"\"}}, \"type\": \"histogram\"}], \"histogram2d\": [{\"colorbar\": {\"outlinewidth\": 0, \"ticks\": \"\"}, \"colorscale\": [[0.0, \"#0d0887\"], [0.1111111111111111, \"#46039f\"], [0.2222222222222222, \"#7201a8\"], [0.3333333333333333, \"#9c179e\"], [0.4444444444444444, \"#bd3786\"], [0.5555555555555556, \"#d8576b\"], [0.6666666666666666, \"#ed7953\"], [0.7777777777777778, \"#fb9f3a\"], [0.8888888888888888, \"#fdca26\"], [1.0, \"#f0f921\"]], \"type\": \"histogram2d\"}], \"histogram2dcontour\": [{\"colorbar\": {\"outlinewidth\": 0, \"ticks\": \"\"}, \"colorscale\": [[0.0, \"#0d0887\"], [0.1111111111111111, \"#46039f\"], [0.2222222222222222, \"#7201a8\"], [0.3333333333333333, \"#9c179e\"], [0.4444444444444444, \"#bd3786\"], [0.5555555555555556, \"#d8576b\"], [0.6666666666666666, \"#ed7953\"], [0.7777777777777778, \"#fb9f3a\"], [0.8888888888888888, \"#fdca26\"], [1.0, \"#f0f921\"]], \"type\": \"histogram2dcontour\"}], \"mesh3d\": [{\"colorbar\": {\"outlinewidth\": 0, \"ticks\": \"\"}, \"type\": \"mesh3d\"}], \"parcoords\": [{\"line\": {\"colorbar\": {\"outlinewidth\": 0, \"ticks\": \"\"}}, \"type\": \"parcoords\"}], \"pie\": [{\"automargin\": true, \"type\": \"pie\"}], \"scatter\": [{\"marker\": {\"colorbar\": {\"outlinewidth\": 0, \"ticks\": \"\"}}, \"type\": \"scatter\"}], \"scatter3d\": [{\"line\": {\"colorbar\": {\"outlinewidth\": 0, \"ticks\": \"\"}}, \"marker\": {\"colorbar\": {\"outlinewidth\": 0, \"ticks\": \"\"}}, \"type\": \"scatter3d\"}], \"scattercarpet\": [{\"marker\": {\"colorbar\": {\"outlinewidth\": 0, \"ticks\": \"\"}}, \"type\": \"scattercarpet\"}], \"scattergeo\": [{\"marker\": {\"colorbar\": {\"outlinewidth\": 0, \"ticks\": \"\"}}, \"type\": \"scattergeo\"}], \"scattergl\": [{\"marker\": {\"colorbar\": {\"outlinewidth\": 0, \"ticks\": \"\"}}, \"type\": \"scattergl\"}], \"scattermapbox\": [{\"marker\": {\"colorbar\": {\"outlinewidth\": 0, \"ticks\": \"\"}}, \"type\": \"scattermapbox\"}], \"scatterpolar\": [{\"marker\": {\"colorbar\": {\"outlinewidth\": 0, \"ticks\": \"\"}}, \"type\": \"scatterpolar\"}], \"scatterpolargl\": [{\"marker\": {\"colorbar\": {\"outlinewidth\": 0, \"ticks\": \"\"}}, \"type\": \"scatterpolargl\"}], \"scatterternary\": [{\"marker\": {\"colorbar\": {\"outlinewidth\": 0, \"ticks\": \"\"}}, \"type\": \"scatterternary\"}], \"surface\": [{\"colorbar\": {\"outlinewidth\": 0, \"ticks\": \"\"}, \"colorscale\": [[0.0, \"#0d0887\"], [0.1111111111111111, \"#46039f\"], [0.2222222222222222, \"#7201a8\"], [0.3333333333333333, \"#9c179e\"], [0.4444444444444444, \"#bd3786\"], [0.5555555555555556, \"#d8576b\"], [0.6666666666666666, \"#ed7953\"], [0.7777777777777778, \"#fb9f3a\"], [0.8888888888888888, \"#fdca26\"], [1.0, \"#f0f921\"]], \"type\": \"surface\"}], \"table\": [{\"cells\": {\"fill\": {\"color\": \"#EBF0F8\"}, \"line\": {\"color\": \"white\"}}, \"header\": {\"fill\": {\"color\": \"#C8D4E3\"}, \"line\": {\"color\": \"white\"}}, \"type\": \"table\"}]}, \"layout\": {\"annotationdefaults\": {\"arrowcolor\": \"#2a3f5f\", \"arrowhead\": 0, \"arrowwidth\": 1}, \"coloraxis\": {\"colorbar\": {\"outlinewidth\": 0, \"ticks\": \"\"}}, \"colorscale\": {\"diverging\": [[0, \"#8e0152\"], [0.1, \"#c51b7d\"], [0.2, \"#de77ae\"], [0.3, \"#f1b6da\"], [0.4, \"#fde0ef\"], [0.5, \"#f7f7f7\"], [0.6, \"#e6f5d0\"], [0.7, \"#b8e186\"], [0.8, \"#7fbc41\"], [0.9, \"#4d9221\"], [1, \"#276419\"]], \"sequential\": [[0.0, \"#0d0887\"], [0.1111111111111111, \"#46039f\"], [0.2222222222222222, \"#7201a8\"], [0.3333333333333333, \"#9c179e\"], [0.4444444444444444, \"#bd3786\"], [0.5555555555555556, \"#d8576b\"], [0.6666666666666666, \"#ed7953\"], [0.7777777777777778, \"#fb9f3a\"], [0.8888888888888888, \"#fdca26\"], [1.0, \"#f0f921\"]], \"sequentialminus\": [[0.0, \"#0d0887\"], [0.1111111111111111, \"#46039f\"], [0.2222222222222222, \"#7201a8\"], [0.3333333333333333, \"#9c179e\"], [0.4444444444444444, \"#bd3786\"], [0.5555555555555556, \"#d8576b\"], [0.6666666666666666, \"#ed7953\"], [0.7777777777777778, \"#fb9f3a\"], [0.8888888888888888, \"#fdca26\"], [1.0, \"#f0f921\"]]}, \"colorway\": [\"#636efa\", \"#EF553B\", \"#00cc96\", \"#ab63fa\", \"#FFA15A\", \"#19d3f3\", \"#FF6692\", \"#B6E880\", \"#FF97FF\", \"#FECB52\"], \"font\": {\"color\": \"#2a3f5f\"}, \"geo\": {\"bgcolor\": \"white\", \"lakecolor\": \"white\", \"landcolor\": \"#E5ECF6\", \"showlakes\": true, \"showland\": true, \"subunitcolor\": \"white\"}, \"hoverlabel\": {\"align\": \"left\"}, \"hovermode\": \"closest\", \"mapbox\": {\"style\": \"light\"}, \"paper_bgcolor\": \"white\", \"plot_bgcolor\": \"#E5ECF6\", \"polar\": {\"angularaxis\": {\"gridcolor\": \"white\", \"linecolor\": \"white\", \"ticks\": \"\"}, \"bgcolor\": \"#E5ECF6\", \"radialaxis\": {\"gridcolor\": \"white\", \"linecolor\": \"white\", \"ticks\": \"\"}}, \"scene\": {\"xaxis\": {\"backgroundcolor\": \"#E5ECF6\", \"gridcolor\": \"white\", \"gridwidth\": 2, \"linecolor\": \"white\", \"showbackground\": true, \"ticks\": \"\", \"zerolinecolor\": \"white\"}, \"yaxis\": {\"backgroundcolor\": \"#E5ECF6\", \"gridcolor\": \"white\", \"gridwidth\": 2, \"linecolor\": \"white\", \"showbackground\": true, \"ticks\": \"\", \"zerolinecolor\": \"white\"}, \"zaxis\": {\"backgroundcolor\": \"#E5ECF6\", \"gridcolor\": \"white\", \"gridwidth\": 2, \"linecolor\": \"white\", \"showbackground\": true, \"ticks\": \"\", \"zerolinecolor\": \"white\"}}, \"shapedefaults\": {\"line\": {\"color\": \"#2a3f5f\"}}, \"ternary\": {\"aaxis\": {\"gridcolor\": \"white\", \"linecolor\": \"white\", \"ticks\": \"\"}, \"baxis\": {\"gridcolor\": \"white\", \"linecolor\": \"white\", \"ticks\": \"\"}, \"bgcolor\": \"#E5ECF6\", \"caxis\": {\"gridcolor\": \"white\", \"linecolor\": \"white\", \"ticks\": \"\"}}, \"title\": {\"x\": 0.05}, \"xaxis\": {\"automargin\": true, \"gridcolor\": \"white\", \"linecolor\": \"white\", \"ticks\": \"\", \"title\": {\"standoff\": 15}, \"zerolinecolor\": \"white\", \"zerolinewidth\": 2}, \"yaxis\": {\"automargin\": true, \"gridcolor\": \"white\", \"linecolor\": \"white\", \"ticks\": \"\", \"title\": {\"standoff\": 15}, \"zerolinecolor\": \"white\", \"zerolinewidth\": 2}}}, \"title\": {\"font\": {\"color\": \"#4D5663\"}}, \"xaxis\": {\"gridcolor\": \"#E1E5ED\", \"showgrid\": true, \"tickfont\": {\"color\": \"#4D5663\"}, \"title\": {\"font\": {\"color\": \"#4D5663\"}, \"text\": \"\"}, \"zerolinecolor\": \"#E1E5ED\"}, \"yaxis\": {\"gridcolor\": \"#E1E5ED\", \"showgrid\": true, \"tickfont\": {\"color\": \"#4D5663\"}, \"title\": {\"font\": {\"color\": \"#4D5663\"}, \"text\": \"\"}, \"zerolinecolor\": \"#E1E5ED\"}},\n",
       "                        {\"showLink\": true, \"linkText\": \"Export to plot.ly\", \"plotlyServerURL\": \"https://plot.ly\", \"responsive\": true}\n",
       "                    ).then(function(){\n",
       "                            \n",
       "var gd = document.getElementById('d64f583f-34d6-4e42-9ea4-5a9c6406381f');\n",
       "var x = new MutationObserver(function (mutations, observer) {{\n",
       "        var display = window.getComputedStyle(gd).display;\n",
       "        if (!display || display === 'none') {{\n",
       "            console.log([gd, 'removed!']);\n",
       "            Plotly.purge(gd);\n",
       "            observer.disconnect();\n",
       "        }}\n",
       "}});\n",
       "\n",
       "// Listen for the removal of the full notebook cells\n",
       "var notebookContainer = gd.closest('#notebook-container');\n",
       "if (notebookContainer) {{\n",
       "    x.observe(notebookContainer, {childList: true});\n",
       "}}\n",
       "\n",
       "// Listen for the clearing of the current output cell\n",
       "var outputEl = gd.closest('.output');\n",
       "if (outputEl) {{\n",
       "    x.observe(outputEl, {childList: true});\n",
       "}}\n",
       "\n",
       "                        })\n",
       "                };\n",
       "                });\n",
       "            </script>\n",
       "        </div>"
      ]
     },
     "metadata": {},
     "output_type": "display_data"
    }
   ],
   "source": [
    "df.sum().iplot(kind = \"bar\");"
   ]
  },
  {
   "cell_type": "markdown",
   "metadata": {},
   "source": [
    "## Boxplot"
   ]
  },
  {
   "cell_type": "code",
   "execution_count": 28,
   "metadata": {},
   "outputs": [
    {
     "data": {
      "application/vnd.plotly.v1+json": {
       "config": {
        "linkText": "Export to plot.ly",
        "plotlyServerURL": "https://plot.ly",
        "showLink": true
       },
       "data": [
        {
         "boxpoints": false,
         "line": {
          "width": 1.3
         },
         "marker": {
          "color": "rgba(255, 153, 51, 1.0)"
         },
         "name": "a",
         "orientation": "v",
         "type": "box",
         "y": [
          0.292974139252864,
          -1.1862472468463803,
          -0.8501922428907918,
          0.9111150495629899,
          1.2365734664393244,
          -0.30040599005249846,
          1.2105765633744126,
          0.14329654371470976,
          0.4816690203269885,
          -0.7188786553096995,
          0.29107117981780284,
          -0.3401912914972917,
          -0.18610532625705425,
          1.8934182437838603,
          0.9927287463728656,
          1.168165311884389,
          1.2111889751775067,
          0.19395059226497616,
          0.28144601088500154,
          0.2929306980738659,
          1.1101162910982343,
          -0.20882608286556142,
          -0.14537398933595616,
          -0.6074017425049224,
          -0.45238438838097095,
          -0.36610343319996314,
          0.26477062314585953,
          0.14515091806317906,
          0.7803251454516109,
          0.608549950958882,
          -0.4026053747294526,
          -1.2321271511876488,
          0.29910009937757676,
          -0.18539593485926428,
          -1.28945619590427,
          0.39696306959178446,
          0.694370207176139,
          -0.2679532057619806,
          0.6478464445330818,
          -0.4988282383343721,
          -1.6079546032861718,
          1.7507638766258602,
          0.005242884837819096,
          0.25125359691177257,
          -0.23229482042008281,
          -0.9157632735360842,
          0.19640311609892663,
          -1.3062721849837655,
          0.4339583497922634,
          -1.229079058345127,
          -1.115240077344917,
          0.12379795927408499,
          2.6290620243327067,
          0.3998538531848044,
          0.45893027219882326,
          -0.7086162503195204,
          0.057001724806481205,
          0.029529428385691656,
          -0.1534944558163816,
          0.8870271703734542,
          -1.8295512441698598,
          0.9303258214684024,
          -1.3794435848247562,
          -0.07751135502855382,
          0.22194716382883783,
          -0.9513732804851377,
          0.6170642625680876,
          1.174827368853181,
          -1.7776866913199962,
          -1.690521991664963,
          0.3160827137707872,
          0.8005986394539232,
          -1.6980350094685637,
          -1.2304179781414055,
          -0.901279065228436,
          0.22598156079956105,
          0.3232752239225913,
          0.29907964573518026,
          -0.16176374150177283,
          0.6745298559739035,
          -1.4039829245790993,
          -0.7949168861300312,
          0.8842730651829632,
          -0.7882189620982454,
          -0.7676887445502899,
          -0.6083321443906384,
          1.6090599247918695,
          -0.5152246440526308,
          -0.3464353213483669,
          -0.28668138720437186,
          0.8387664451015886,
          0.7879805141342737,
          1.0128081521957695,
          1.4073545183039107,
          -0.838922259663184,
          -1.559188829826368,
          -0.10949875615111043,
          0.5570685284421174,
          -0.5377441150506823,
          0.7886033547968465
         ]
        },
        {
         "boxpoints": false,
         "line": {
          "width": 1.3
         },
         "marker": {
          "color": "rgba(55, 128, 191, 1.0)"
         },
         "name": "b",
         "orientation": "v",
         "type": "box",
         "y": [
          -0.716753785541702,
          0.1466280511998309,
          -0.6006519808735739,
          -0.5415580708273,
          -1.7400320426706721,
          0.06483281643880595,
          0.9267383919456018,
          0.2754962391363442,
          -0.06963639112657052,
          0.43293104058293036,
          -0.13165251266138508,
          0.3688569256553953,
          1.101879648066124,
          1.0069678548545076,
          -1.0246405999495924,
          -0.037202033114178676,
          0.259486510387421,
          -0.05785681071930317,
          -1.4405479471178548,
          -0.8243764549033302,
          -0.1175958470954889,
          -1.1981943378901034,
          0.1487120785832584,
          1.0764514860316108,
          -0.1310759686583265,
          0.7870838978756679,
          0.09754672432005959,
          -1.4826931311691334,
          1.0793655584203048,
          0.9233239197538965,
          1.3166320867203176,
          0.18222042165689503,
          -0.06256287722059806,
          1.1043295807781548,
          -0.6150240875265599,
          0.790514023860243,
          -2.0799884828014936,
          0.5008675581779642,
          -0.6810354084403812,
          -1.2386481384626733,
          -1.2911154417873516,
          -0.5154920168362496,
          -0.4031392471329243,
          0.9983704720180332,
          -1.0160075337650878,
          1.886243651028083,
          -0.5715465786042008,
          -1.2679931356019523,
          1.6614338951907,
          -0.17792785850635345,
          1.4745507719444697,
          1.1776871716912736,
          -1.2561713012470577,
          -0.24638872835020778,
          1.4670954437869548,
          -0.189173117161535,
          -0.3527437302423633,
          -1.7117404210798368,
          0.048457522093129965,
          0.9007265389917656,
          -0.42341732249635067,
          0.0816182553248051,
          -0.21089804096281775,
          1.6556331387431482,
          -0.13153184493536688,
          1.181944111964066,
          2.5830824420534,
          0.4106671915172332,
          -1.266706022491882,
          0.3949972411593756,
          -0.5686340208377227,
          -1.6296276350686436,
          -0.47748567224339156,
          -0.13072699147207864,
          0.4200392298325099,
          -0.7813031954177223,
          -1.9529817674828185,
          0.866984811466902,
          -1.734427964729059,
          -1.2781840402669344,
          -1.2910708778295,
          -0.3989670450326166,
          0.8745687117774343,
          -1.2311660756455374,
          0.6089849716765106,
          1.048143379954883,
          0.3721709975994528,
          -1.1576133027199618,
          -0.34453151051109965,
          -1.0338932199109123,
          -0.9460628162322431,
          -0.04923179092455275,
          -1.0520628606997837,
          0.1852383456745756,
          -1.0632232978375835,
          -0.09162384543826531,
          0.6831550325518608,
          0.9278729993391939,
          -0.47421170746718716,
          -2.1165065532109923
         ]
        },
        {
         "boxpoints": false,
         "line": {
          "width": 1.3
         },
         "marker": {
          "color": "rgba(50, 171, 96, 1.0)"
         },
         "name": "c",
         "orientation": "v",
         "type": "box",
         "y": [
          -1.4574517012520272,
          1.616925654315569,
          -1.554079012755402,
          -1.3165598564774106,
          -0.580298637975121,
          -1.6622341146471158,
          0.0039029501057902772,
          0.8855012353492825,
          -1.1843262679473314,
          -0.8762274816520518,
          -2.4646576366704944,
          -0.11414376769157988,
          -1.1574256893431913,
          -0.28131202269853645,
          1.6284928461930106,
          -1.1270331276821361,
          -1.344704448640053,
          1.1875302280251283,
          0.15559218997485583,
          -0.694260078532112,
          -0.29230645832071095,
          -0.4992558232676912,
          2.2688498517230893,
          0.8712707377838431,
          -1.8036431447735157,
          -0.7676519683585615,
          -1.2829084489005982,
          -0.5016259466438856,
          -0.184038073037974,
          -0.6806145366236737,
          1.3825998331661564,
          0.5558087648980298,
          0.4674027907247537,
          -0.1549875719036628,
          -0.7654380083742985,
          -0.4334620098771487,
          -0.6188327405333642,
          0.5113328091437372,
          -0.2408638527363929,
          -0.5205996360579126,
          1.0248637764154853,
          0.2991721298703997,
          0.45632859815423865,
          -0.9165600624818021,
          -0.44150693650391165,
          0.42136716310207434,
          -1.2432181110372378,
          1.0761841766878144,
          0.7271372108552653,
          0.15546762147580842,
          0.6033910326548694,
          -2.044292625815654,
          -0.9504839369270148,
          0.38448091998306994,
          0.15621297799152092,
          0.8973509172710784,
          0.026233284321891336,
          0.9054939180728044,
          0.10031640150414387,
          -2.566416680691887,
          0.8578496553772357,
          0.04616710992563474,
          -0.4143519451742939,
          0.8982911790569463,
          -0.05048697730085292,
          -0.6385282870452667,
          -1.0250444618637682,
          0.689639711080981,
          1.8719098341594118,
          -0.5409850552157894,
          -0.01957191723265198,
          1.716922728791775,
          0.6554178012225307,
          -0.5570779687502161,
          -0.2421632594089551,
          -0.5900055298173724,
          0.7918831028021635,
          1.1758606862114478,
          -0.12566303634482529,
          -2.9377823589005674,
          -0.4739948397669631,
          0.2360822009977156,
          0.3880072625953246,
          1.0820181968440927,
          -1.2042895773888243,
          -0.7307572670679031,
          -0.9011519959149107,
          0.5032055368961691,
          0.8620177087655849,
          -0.11785406490076067,
          1.9448207551672967,
          -1.6170836002097697,
          0.24263889685777973,
          -1.0640079092624295,
          2.0609860331539123,
          -0.0027704454288980614,
          2.3348516223314975,
          0.9078533647685604,
          -1.4074955229616364,
          0.3569938923431798
         ]
        },
        {
         "boxpoints": false,
         "line": {
          "width": 1.3
         },
         "marker": {
          "color": "rgba(128, 0, 128, 1.0)"
         },
         "name": "d",
         "orientation": "v",
         "type": "box",
         "y": [
          2.3168273884694734,
          0.39458319641642464,
          -0.46510318054608163,
          -0.20172718202204393,
          -0.24189053063818983,
          -0.792642437428442,
          -0.7401698295328846,
          -1.6801107382717764,
          -0.4817563971652019,
          1.5451818928436343,
          -0.22888853476448212,
          1.4780655993868645,
          -0.767531470835622,
          -0.6532088894241367,
          -0.8514192088845505,
          -1.5254673915519978,
          -1.4537449170569778,
          -0.6320374135597754,
          -0.8111518709770245,
          0.861081336229097,
          1.398138867193178,
          1.6404486362786317,
          0.6573956893296753,
          0.22476108022847083,
          -0.2913070574236847,
          1.5958957556512083,
          0.1601336724116086,
          -1.3320058902909229,
          1.0081466141810744,
          0.32324195296946145,
          -0.7879628462741596,
          -0.8374729790360113,
          -0.6381494389997875,
          0.31177265196395976,
          -1.1812845002923689,
          -0.0032961040756202963,
          -1.4025396209387575,
          -0.6452642332947516,
          0.10767114802755778,
          -1.7139180836635397,
          0.776903516254839,
          0.08644358216921927,
          -1.1838441134944493,
          -0.6951559872484373,
          0.7020684612347757,
          -0.09257493287535283,
          -1.220722643372712,
          -0.7187472041161967,
          -0.017343737356023715,
          0.09737197968014913,
          -1.014912564771148,
          0.9485883343880211,
          -1.4700120494045807,
          0.527090124873511,
          0.981897523303843,
          -0.3729055802591033,
          -1.6546241743330667,
          1.0030031251048521,
          -0.10009683865690405,
          0.6562216961141715,
          -0.743623457689815,
          -1.2941608938560312,
          -0.3990600877641281,
          -0.43141935572373885,
          0.7232784352637682,
          -0.48702320351926975,
          -1.4411058137972361,
          -0.07500513796421322,
          0.23258225057884316,
          -0.009442055362124542,
          -1.1299073084348996,
          2.305132922619832,
          1.151453310017223,
          -1.7161278508924651,
          -0.10216223260372957,
          -1.5974074792176651,
          -0.7634211473180553,
          0.7452180047870218,
          -0.1850689346138391,
          0.08824655821509114,
          -1.1552205198591217,
          -0.3679056931079725,
          1.141413950342741,
          -1.218427511084178,
          0.022191477204873092,
          -0.5097153447922266,
          -0.547101576777799,
          -0.006209405227791605,
          -0.8802870712850492,
          1.5497504397861899,
          -1.5625590276124781,
          -0.3461301297115325,
          -0.5852204321669262,
          -0.4967761599657341,
          1.1677411209788946,
          1.7802429315922845,
          0.4907884854912572,
          -1.0585976439081948,
          -0.6230413266517936,
          -1.2962820739344532
         ]
        }
       ],
       "layout": {
        "legend": {
         "bgcolor": "#F5F6F9",
         "font": {
          "color": "#4D5663"
         }
        },
        "paper_bgcolor": "#F5F6F9",
        "plot_bgcolor": "#F5F6F9",
        "template": {
         "data": {
          "bar": [
           {
            "error_x": {
             "color": "#2a3f5f"
            },
            "error_y": {
             "color": "#2a3f5f"
            },
            "marker": {
             "line": {
              "color": "#E5ECF6",
              "width": 0.5
             }
            },
            "type": "bar"
           }
          ],
          "barpolar": [
           {
            "marker": {
             "line": {
              "color": "#E5ECF6",
              "width": 0.5
             }
            },
            "type": "barpolar"
           }
          ],
          "carpet": [
           {
            "aaxis": {
             "endlinecolor": "#2a3f5f",
             "gridcolor": "white",
             "linecolor": "white",
             "minorgridcolor": "white",
             "startlinecolor": "#2a3f5f"
            },
            "baxis": {
             "endlinecolor": "#2a3f5f",
             "gridcolor": "white",
             "linecolor": "white",
             "minorgridcolor": "white",
             "startlinecolor": "#2a3f5f"
            },
            "type": "carpet"
           }
          ],
          "choropleth": [
           {
            "colorbar": {
             "outlinewidth": 0,
             "ticks": ""
            },
            "type": "choropleth"
           }
          ],
          "contour": [
           {
            "colorbar": {
             "outlinewidth": 0,
             "ticks": ""
            },
            "colorscale": [
             [
              0,
              "#0d0887"
             ],
             [
              0.1111111111111111,
              "#46039f"
             ],
             [
              0.2222222222222222,
              "#7201a8"
             ],
             [
              0.3333333333333333,
              "#9c179e"
             ],
             [
              0.4444444444444444,
              "#bd3786"
             ],
             [
              0.5555555555555556,
              "#d8576b"
             ],
             [
              0.6666666666666666,
              "#ed7953"
             ],
             [
              0.7777777777777778,
              "#fb9f3a"
             ],
             [
              0.8888888888888888,
              "#fdca26"
             ],
             [
              1,
              "#f0f921"
             ]
            ],
            "type": "contour"
           }
          ],
          "contourcarpet": [
           {
            "colorbar": {
             "outlinewidth": 0,
             "ticks": ""
            },
            "type": "contourcarpet"
           }
          ],
          "heatmap": [
           {
            "colorbar": {
             "outlinewidth": 0,
             "ticks": ""
            },
            "colorscale": [
             [
              0,
              "#0d0887"
             ],
             [
              0.1111111111111111,
              "#46039f"
             ],
             [
              0.2222222222222222,
              "#7201a8"
             ],
             [
              0.3333333333333333,
              "#9c179e"
             ],
             [
              0.4444444444444444,
              "#bd3786"
             ],
             [
              0.5555555555555556,
              "#d8576b"
             ],
             [
              0.6666666666666666,
              "#ed7953"
             ],
             [
              0.7777777777777778,
              "#fb9f3a"
             ],
             [
              0.8888888888888888,
              "#fdca26"
             ],
             [
              1,
              "#f0f921"
             ]
            ],
            "type": "heatmap"
           }
          ],
          "heatmapgl": [
           {
            "colorbar": {
             "outlinewidth": 0,
             "ticks": ""
            },
            "colorscale": [
             [
              0,
              "#0d0887"
             ],
             [
              0.1111111111111111,
              "#46039f"
             ],
             [
              0.2222222222222222,
              "#7201a8"
             ],
             [
              0.3333333333333333,
              "#9c179e"
             ],
             [
              0.4444444444444444,
              "#bd3786"
             ],
             [
              0.5555555555555556,
              "#d8576b"
             ],
             [
              0.6666666666666666,
              "#ed7953"
             ],
             [
              0.7777777777777778,
              "#fb9f3a"
             ],
             [
              0.8888888888888888,
              "#fdca26"
             ],
             [
              1,
              "#f0f921"
             ]
            ],
            "type": "heatmapgl"
           }
          ],
          "histogram": [
           {
            "marker": {
             "colorbar": {
              "outlinewidth": 0,
              "ticks": ""
             }
            },
            "type": "histogram"
           }
          ],
          "histogram2d": [
           {
            "colorbar": {
             "outlinewidth": 0,
             "ticks": ""
            },
            "colorscale": [
             [
              0,
              "#0d0887"
             ],
             [
              0.1111111111111111,
              "#46039f"
             ],
             [
              0.2222222222222222,
              "#7201a8"
             ],
             [
              0.3333333333333333,
              "#9c179e"
             ],
             [
              0.4444444444444444,
              "#bd3786"
             ],
             [
              0.5555555555555556,
              "#d8576b"
             ],
             [
              0.6666666666666666,
              "#ed7953"
             ],
             [
              0.7777777777777778,
              "#fb9f3a"
             ],
             [
              0.8888888888888888,
              "#fdca26"
             ],
             [
              1,
              "#f0f921"
             ]
            ],
            "type": "histogram2d"
           }
          ],
          "histogram2dcontour": [
           {
            "colorbar": {
             "outlinewidth": 0,
             "ticks": ""
            },
            "colorscale": [
             [
              0,
              "#0d0887"
             ],
             [
              0.1111111111111111,
              "#46039f"
             ],
             [
              0.2222222222222222,
              "#7201a8"
             ],
             [
              0.3333333333333333,
              "#9c179e"
             ],
             [
              0.4444444444444444,
              "#bd3786"
             ],
             [
              0.5555555555555556,
              "#d8576b"
             ],
             [
              0.6666666666666666,
              "#ed7953"
             ],
             [
              0.7777777777777778,
              "#fb9f3a"
             ],
             [
              0.8888888888888888,
              "#fdca26"
             ],
             [
              1,
              "#f0f921"
             ]
            ],
            "type": "histogram2dcontour"
           }
          ],
          "mesh3d": [
           {
            "colorbar": {
             "outlinewidth": 0,
             "ticks": ""
            },
            "type": "mesh3d"
           }
          ],
          "parcoords": [
           {
            "line": {
             "colorbar": {
              "outlinewidth": 0,
              "ticks": ""
             }
            },
            "type": "parcoords"
           }
          ],
          "pie": [
           {
            "automargin": true,
            "type": "pie"
           }
          ],
          "scatter": [
           {
            "marker": {
             "colorbar": {
              "outlinewidth": 0,
              "ticks": ""
             }
            },
            "type": "scatter"
           }
          ],
          "scatter3d": [
           {
            "line": {
             "colorbar": {
              "outlinewidth": 0,
              "ticks": ""
             }
            },
            "marker": {
             "colorbar": {
              "outlinewidth": 0,
              "ticks": ""
             }
            },
            "type": "scatter3d"
           }
          ],
          "scattercarpet": [
           {
            "marker": {
             "colorbar": {
              "outlinewidth": 0,
              "ticks": ""
             }
            },
            "type": "scattercarpet"
           }
          ],
          "scattergeo": [
           {
            "marker": {
             "colorbar": {
              "outlinewidth": 0,
              "ticks": ""
             }
            },
            "type": "scattergeo"
           }
          ],
          "scattergl": [
           {
            "marker": {
             "colorbar": {
              "outlinewidth": 0,
              "ticks": ""
             }
            },
            "type": "scattergl"
           }
          ],
          "scattermapbox": [
           {
            "marker": {
             "colorbar": {
              "outlinewidth": 0,
              "ticks": ""
             }
            },
            "type": "scattermapbox"
           }
          ],
          "scatterpolar": [
           {
            "marker": {
             "colorbar": {
              "outlinewidth": 0,
              "ticks": ""
             }
            },
            "type": "scatterpolar"
           }
          ],
          "scatterpolargl": [
           {
            "marker": {
             "colorbar": {
              "outlinewidth": 0,
              "ticks": ""
             }
            },
            "type": "scatterpolargl"
           }
          ],
          "scatterternary": [
           {
            "marker": {
             "colorbar": {
              "outlinewidth": 0,
              "ticks": ""
             }
            },
            "type": "scatterternary"
           }
          ],
          "surface": [
           {
            "colorbar": {
             "outlinewidth": 0,
             "ticks": ""
            },
            "colorscale": [
             [
              0,
              "#0d0887"
             ],
             [
              0.1111111111111111,
              "#46039f"
             ],
             [
              0.2222222222222222,
              "#7201a8"
             ],
             [
              0.3333333333333333,
              "#9c179e"
             ],
             [
              0.4444444444444444,
              "#bd3786"
             ],
             [
              0.5555555555555556,
              "#d8576b"
             ],
             [
              0.6666666666666666,
              "#ed7953"
             ],
             [
              0.7777777777777778,
              "#fb9f3a"
             ],
             [
              0.8888888888888888,
              "#fdca26"
             ],
             [
              1,
              "#f0f921"
             ]
            ],
            "type": "surface"
           }
          ],
          "table": [
           {
            "cells": {
             "fill": {
              "color": "#EBF0F8"
             },
             "line": {
              "color": "white"
             }
            },
            "header": {
             "fill": {
              "color": "#C8D4E3"
             },
             "line": {
              "color": "white"
             }
            },
            "type": "table"
           }
          ]
         },
         "layout": {
          "annotationdefaults": {
           "arrowcolor": "#2a3f5f",
           "arrowhead": 0,
           "arrowwidth": 1
          },
          "coloraxis": {
           "colorbar": {
            "outlinewidth": 0,
            "ticks": ""
           }
          },
          "colorscale": {
           "diverging": [
            [
             0,
             "#8e0152"
            ],
            [
             0.1,
             "#c51b7d"
            ],
            [
             0.2,
             "#de77ae"
            ],
            [
             0.3,
             "#f1b6da"
            ],
            [
             0.4,
             "#fde0ef"
            ],
            [
             0.5,
             "#f7f7f7"
            ],
            [
             0.6,
             "#e6f5d0"
            ],
            [
             0.7,
             "#b8e186"
            ],
            [
             0.8,
             "#7fbc41"
            ],
            [
             0.9,
             "#4d9221"
            ],
            [
             1,
             "#276419"
            ]
           ],
           "sequential": [
            [
             0,
             "#0d0887"
            ],
            [
             0.1111111111111111,
             "#46039f"
            ],
            [
             0.2222222222222222,
             "#7201a8"
            ],
            [
             0.3333333333333333,
             "#9c179e"
            ],
            [
             0.4444444444444444,
             "#bd3786"
            ],
            [
             0.5555555555555556,
             "#d8576b"
            ],
            [
             0.6666666666666666,
             "#ed7953"
            ],
            [
             0.7777777777777778,
             "#fb9f3a"
            ],
            [
             0.8888888888888888,
             "#fdca26"
            ],
            [
             1,
             "#f0f921"
            ]
           ],
           "sequentialminus": [
            [
             0,
             "#0d0887"
            ],
            [
             0.1111111111111111,
             "#46039f"
            ],
            [
             0.2222222222222222,
             "#7201a8"
            ],
            [
             0.3333333333333333,
             "#9c179e"
            ],
            [
             0.4444444444444444,
             "#bd3786"
            ],
            [
             0.5555555555555556,
             "#d8576b"
            ],
            [
             0.6666666666666666,
             "#ed7953"
            ],
            [
             0.7777777777777778,
             "#fb9f3a"
            ],
            [
             0.8888888888888888,
             "#fdca26"
            ],
            [
             1,
             "#f0f921"
            ]
           ]
          },
          "colorway": [
           "#636efa",
           "#EF553B",
           "#00cc96",
           "#ab63fa",
           "#FFA15A",
           "#19d3f3",
           "#FF6692",
           "#B6E880",
           "#FF97FF",
           "#FECB52"
          ],
          "font": {
           "color": "#2a3f5f"
          },
          "geo": {
           "bgcolor": "white",
           "lakecolor": "white",
           "landcolor": "#E5ECF6",
           "showlakes": true,
           "showland": true,
           "subunitcolor": "white"
          },
          "hoverlabel": {
           "align": "left"
          },
          "hovermode": "closest",
          "mapbox": {
           "style": "light"
          },
          "paper_bgcolor": "white",
          "plot_bgcolor": "#E5ECF6",
          "polar": {
           "angularaxis": {
            "gridcolor": "white",
            "linecolor": "white",
            "ticks": ""
           },
           "bgcolor": "#E5ECF6",
           "radialaxis": {
            "gridcolor": "white",
            "linecolor": "white",
            "ticks": ""
           }
          },
          "scene": {
           "xaxis": {
            "backgroundcolor": "#E5ECF6",
            "gridcolor": "white",
            "gridwidth": 2,
            "linecolor": "white",
            "showbackground": true,
            "ticks": "",
            "zerolinecolor": "white"
           },
           "yaxis": {
            "backgroundcolor": "#E5ECF6",
            "gridcolor": "white",
            "gridwidth": 2,
            "linecolor": "white",
            "showbackground": true,
            "ticks": "",
            "zerolinecolor": "white"
           },
           "zaxis": {
            "backgroundcolor": "#E5ECF6",
            "gridcolor": "white",
            "gridwidth": 2,
            "linecolor": "white",
            "showbackground": true,
            "ticks": "",
            "zerolinecolor": "white"
           }
          },
          "shapedefaults": {
           "line": {
            "color": "#2a3f5f"
           }
          },
          "ternary": {
           "aaxis": {
            "gridcolor": "white",
            "linecolor": "white",
            "ticks": ""
           },
           "baxis": {
            "gridcolor": "white",
            "linecolor": "white",
            "ticks": ""
           },
           "bgcolor": "#E5ECF6",
           "caxis": {
            "gridcolor": "white",
            "linecolor": "white",
            "ticks": ""
           }
          },
          "title": {
           "x": 0.05
          },
          "xaxis": {
           "automargin": true,
           "gridcolor": "white",
           "linecolor": "white",
           "ticks": "",
           "title": {
            "standoff": 15
           },
           "zerolinecolor": "white",
           "zerolinewidth": 2
          },
          "yaxis": {
           "automargin": true,
           "gridcolor": "white",
           "linecolor": "white",
           "ticks": "",
           "title": {
            "standoff": 15
           },
           "zerolinecolor": "white",
           "zerolinewidth": 2
          }
         }
        },
        "title": {
         "font": {
          "color": "#4D5663"
         }
        },
        "xaxis": {
         "gridcolor": "#E1E5ED",
         "showgrid": true,
         "tickfont": {
          "color": "#4D5663"
         },
         "title": {
          "font": {
           "color": "#4D5663"
          },
          "text": ""
         },
         "zerolinecolor": "#E1E5ED"
        },
        "yaxis": {
         "gridcolor": "#E1E5ED",
         "showgrid": true,
         "tickfont": {
          "color": "#4D5663"
         },
         "title": {
          "font": {
           "color": "#4D5663"
          },
          "text": ""
         },
         "zerolinecolor": "#E1E5ED"
        }
       }
      },
      "text/html": [
       "<div>\n",
       "        \n",
       "        \n",
       "            <div id=\"13f46823-6fc4-45d1-a2a3-84f141457f81\" class=\"plotly-graph-div\" style=\"height:525px; width:100%;\"></div>\n",
       "            <script type=\"text/javascript\">\n",
       "                require([\"plotly\"], function(Plotly) {\n",
       "                    window.PLOTLYENV=window.PLOTLYENV || {};\n",
       "                    window.PLOTLYENV.BASE_URL='https://plot.ly';\n",
       "                    \n",
       "                if (document.getElementById(\"13f46823-6fc4-45d1-a2a3-84f141457f81\")) {\n",
       "                    Plotly.newPlot(\n",
       "                        '13f46823-6fc4-45d1-a2a3-84f141457f81',\n",
       "                        [{\"boxpoints\": false, \"line\": {\"width\": 1.3}, \"marker\": {\"color\": \"rgba(255, 153, 51, 1.0)\"}, \"name\": \"a\", \"orientation\": \"v\", \"type\": \"box\", \"y\": [0.292974139252864, -1.1862472468463803, -0.8501922428907918, 0.9111150495629899, 1.2365734664393244, -0.30040599005249846, 1.2105765633744126, 0.14329654371470976, 0.4816690203269885, -0.7188786553096995, 0.29107117981780284, -0.3401912914972917, -0.18610532625705425, 1.8934182437838603, 0.9927287463728656, 1.168165311884389, 1.2111889751775067, 0.19395059226497616, 0.28144601088500154, 0.2929306980738659, 1.1101162910982343, -0.20882608286556142, -0.14537398933595616, -0.6074017425049224, -0.45238438838097095, -0.36610343319996314, 0.26477062314585953, 0.14515091806317906, 0.7803251454516109, 0.608549950958882, -0.4026053747294526, -1.2321271511876488, 0.29910009937757676, -0.18539593485926428, -1.28945619590427, 0.39696306959178446, 0.694370207176139, -0.2679532057619806, 0.6478464445330818, -0.4988282383343721, -1.6079546032861718, 1.7507638766258602, 0.005242884837819096, 0.25125359691177257, -0.23229482042008281, -0.9157632735360842, 0.19640311609892663, -1.3062721849837655, 0.4339583497922634, -1.229079058345127, -1.115240077344917, 0.12379795927408499, 2.6290620243327067, 0.3998538531848044, 0.45893027219882326, -0.7086162503195204, 0.057001724806481205, 0.029529428385691656, -0.1534944558163816, 0.8870271703734542, -1.8295512441698598, 0.9303258214684024, -1.3794435848247562, -0.07751135502855382, 0.22194716382883783, -0.9513732804851377, 0.6170642625680876, 1.174827368853181, -1.7776866913199962, -1.690521991664963, 0.3160827137707872, 0.8005986394539232, -1.6980350094685637, -1.2304179781414055, -0.901279065228436, 0.22598156079956105, 0.3232752239225913, 0.29907964573518026, -0.16176374150177283, 0.6745298559739035, -1.4039829245790993, -0.7949168861300312, 0.8842730651829632, -0.7882189620982454, -0.7676887445502899, -0.6083321443906384, 1.6090599247918695, -0.5152246440526308, -0.3464353213483669, -0.28668138720437186, 0.8387664451015886, 0.7879805141342737, 1.0128081521957695, 1.4073545183039107, -0.838922259663184, -1.559188829826368, -0.10949875615111043, 0.5570685284421174, -0.5377441150506823, 0.7886033547968465]}, {\"boxpoints\": false, \"line\": {\"width\": 1.3}, \"marker\": {\"color\": \"rgba(55, 128, 191, 1.0)\"}, \"name\": \"b\", \"orientation\": \"v\", \"type\": \"box\", \"y\": [-0.716753785541702, 0.1466280511998309, -0.6006519808735739, -0.5415580708273, -1.7400320426706721, 0.06483281643880595, 0.9267383919456018, 0.2754962391363442, -0.06963639112657052, 0.43293104058293036, -0.13165251266138508, 0.3688569256553953, 1.101879648066124, 1.0069678548545076, -1.0246405999495924, -0.037202033114178676, 0.259486510387421, -0.05785681071930317, -1.4405479471178548, -0.8243764549033302, -0.1175958470954889, -1.1981943378901034, 0.1487120785832584, 1.0764514860316108, -0.1310759686583265, 0.7870838978756679, 0.09754672432005959, -1.4826931311691334, 1.0793655584203048, 0.9233239197538965, 1.3166320867203176, 0.18222042165689503, -0.06256287722059806, 1.1043295807781548, -0.6150240875265599, 0.790514023860243, -2.0799884828014936, 0.5008675581779642, -0.6810354084403812, -1.2386481384626733, -1.2911154417873516, -0.5154920168362496, -0.4031392471329243, 0.9983704720180332, -1.0160075337650878, 1.886243651028083, -0.5715465786042008, -1.2679931356019523, 1.6614338951907, -0.17792785850635345, 1.4745507719444697, 1.1776871716912736, -1.2561713012470577, -0.24638872835020778, 1.4670954437869548, -0.189173117161535, -0.3527437302423633, -1.7117404210798368, 0.048457522093129965, 0.9007265389917656, -0.42341732249635067, 0.0816182553248051, -0.21089804096281775, 1.6556331387431482, -0.13153184493536688, 1.181944111964066, 2.5830824420534, 0.4106671915172332, -1.266706022491882, 0.3949972411593756, -0.5686340208377227, -1.6296276350686436, -0.47748567224339156, -0.13072699147207864, 0.4200392298325099, -0.7813031954177223, -1.9529817674828185, 0.866984811466902, -1.734427964729059, -1.2781840402669344, -1.2910708778295, -0.3989670450326166, 0.8745687117774343, -1.2311660756455374, 0.6089849716765106, 1.048143379954883, 0.3721709975994528, -1.1576133027199618, -0.34453151051109965, -1.0338932199109123, -0.9460628162322431, -0.04923179092455275, -1.0520628606997837, 0.1852383456745756, -1.0632232978375835, -0.09162384543826531, 0.6831550325518608, 0.9278729993391939, -0.47421170746718716, -2.1165065532109923]}, {\"boxpoints\": false, \"line\": {\"width\": 1.3}, \"marker\": {\"color\": \"rgba(50, 171, 96, 1.0)\"}, \"name\": \"c\", \"orientation\": \"v\", \"type\": \"box\", \"y\": [-1.4574517012520272, 1.616925654315569, -1.554079012755402, -1.3165598564774106, -0.580298637975121, -1.6622341146471158, 0.0039029501057902772, 0.8855012353492825, -1.1843262679473314, -0.8762274816520518, -2.4646576366704944, -0.11414376769157988, -1.1574256893431913, -0.28131202269853645, 1.6284928461930106, -1.1270331276821361, -1.344704448640053, 1.1875302280251283, 0.15559218997485583, -0.694260078532112, -0.29230645832071095, -0.4992558232676912, 2.2688498517230893, 0.8712707377838431, -1.8036431447735157, -0.7676519683585615, -1.2829084489005982, -0.5016259466438856, -0.184038073037974, -0.6806145366236737, 1.3825998331661564, 0.5558087648980298, 0.4674027907247537, -0.1549875719036628, -0.7654380083742985, -0.4334620098771487, -0.6188327405333642, 0.5113328091437372, -0.2408638527363929, -0.5205996360579126, 1.0248637764154853, 0.2991721298703997, 0.45632859815423865, -0.9165600624818021, -0.44150693650391165, 0.42136716310207434, -1.2432181110372378, 1.0761841766878144, 0.7271372108552653, 0.15546762147580842, 0.6033910326548694, -2.044292625815654, -0.9504839369270148, 0.38448091998306994, 0.15621297799152092, 0.8973509172710784, 0.026233284321891336, 0.9054939180728044, 0.10031640150414387, -2.566416680691887, 0.8578496553772357, 0.04616710992563474, -0.4143519451742939, 0.8982911790569463, -0.05048697730085292, -0.6385282870452667, -1.0250444618637682, 0.689639711080981, 1.8719098341594118, -0.5409850552157894, -0.01957191723265198, 1.716922728791775, 0.6554178012225307, -0.5570779687502161, -0.2421632594089551, -0.5900055298173724, 0.7918831028021635, 1.1758606862114478, -0.12566303634482529, -2.9377823589005674, -0.4739948397669631, 0.2360822009977156, 0.3880072625953246, 1.0820181968440927, -1.2042895773888243, -0.7307572670679031, -0.9011519959149107, 0.5032055368961691, 0.8620177087655849, -0.11785406490076067, 1.9448207551672967, -1.6170836002097697, 0.24263889685777973, -1.0640079092624295, 2.0609860331539123, -0.0027704454288980614, 2.3348516223314975, 0.9078533647685604, -1.4074955229616364, 0.3569938923431798]}, {\"boxpoints\": false, \"line\": {\"width\": 1.3}, \"marker\": {\"color\": \"rgba(128, 0, 128, 1.0)\"}, \"name\": \"d\", \"orientation\": \"v\", \"type\": \"box\", \"y\": [2.3168273884694734, 0.39458319641642464, -0.46510318054608163, -0.20172718202204393, -0.24189053063818983, -0.792642437428442, -0.7401698295328846, -1.6801107382717764, -0.4817563971652019, 1.5451818928436343, -0.22888853476448212, 1.4780655993868645, -0.767531470835622, -0.6532088894241367, -0.8514192088845505, -1.5254673915519978, -1.4537449170569778, -0.6320374135597754, -0.8111518709770245, 0.861081336229097, 1.398138867193178, 1.6404486362786317, 0.6573956893296753, 0.22476108022847083, -0.2913070574236847, 1.5958957556512083, 0.1601336724116086, -1.3320058902909229, 1.0081466141810744, 0.32324195296946145, -0.7879628462741596, -0.8374729790360113, -0.6381494389997875, 0.31177265196395976, -1.1812845002923689, -0.0032961040756202963, -1.4025396209387575, -0.6452642332947516, 0.10767114802755778, -1.7139180836635397, 0.776903516254839, 0.08644358216921927, -1.1838441134944493, -0.6951559872484373, 0.7020684612347757, -0.09257493287535283, -1.220722643372712, -0.7187472041161967, -0.017343737356023715, 0.09737197968014913, -1.014912564771148, 0.9485883343880211, -1.4700120494045807, 0.527090124873511, 0.981897523303843, -0.3729055802591033, -1.6546241743330667, 1.0030031251048521, -0.10009683865690405, 0.6562216961141715, -0.743623457689815, -1.2941608938560312, -0.3990600877641281, -0.43141935572373885, 0.7232784352637682, -0.48702320351926975, -1.4411058137972361, -0.07500513796421322, 0.23258225057884316, -0.009442055362124542, -1.1299073084348996, 2.305132922619832, 1.151453310017223, -1.7161278508924651, -0.10216223260372957, -1.5974074792176651, -0.7634211473180553, 0.7452180047870218, -0.1850689346138391, 0.08824655821509114, -1.1552205198591217, -0.3679056931079725, 1.141413950342741, -1.218427511084178, 0.022191477204873092, -0.5097153447922266, -0.547101576777799, -0.006209405227791605, -0.8802870712850492, 1.5497504397861899, -1.5625590276124781, -0.3461301297115325, -0.5852204321669262, -0.4967761599657341, 1.1677411209788946, 1.7802429315922845, 0.4907884854912572, -1.0585976439081948, -0.6230413266517936, -1.2962820739344532]}],\n",
       "                        {\"legend\": {\"bgcolor\": \"#F5F6F9\", \"font\": {\"color\": \"#4D5663\"}}, \"paper_bgcolor\": \"#F5F6F9\", \"plot_bgcolor\": \"#F5F6F9\", \"template\": {\"data\": {\"bar\": [{\"error_x\": {\"color\": \"#2a3f5f\"}, \"error_y\": {\"color\": \"#2a3f5f\"}, \"marker\": {\"line\": {\"color\": \"#E5ECF6\", \"width\": 0.5}}, \"type\": \"bar\"}], \"barpolar\": [{\"marker\": {\"line\": {\"color\": \"#E5ECF6\", \"width\": 0.5}}, \"type\": \"barpolar\"}], \"carpet\": [{\"aaxis\": {\"endlinecolor\": \"#2a3f5f\", \"gridcolor\": \"white\", \"linecolor\": \"white\", \"minorgridcolor\": \"white\", \"startlinecolor\": \"#2a3f5f\"}, \"baxis\": {\"endlinecolor\": \"#2a3f5f\", \"gridcolor\": \"white\", \"linecolor\": \"white\", \"minorgridcolor\": \"white\", \"startlinecolor\": \"#2a3f5f\"}, \"type\": \"carpet\"}], \"choropleth\": [{\"colorbar\": {\"outlinewidth\": 0, \"ticks\": \"\"}, \"type\": \"choropleth\"}], \"contour\": [{\"colorbar\": {\"outlinewidth\": 0, \"ticks\": \"\"}, \"colorscale\": [[0.0, \"#0d0887\"], [0.1111111111111111, \"#46039f\"], [0.2222222222222222, \"#7201a8\"], [0.3333333333333333, \"#9c179e\"], [0.4444444444444444, \"#bd3786\"], [0.5555555555555556, \"#d8576b\"], [0.6666666666666666, \"#ed7953\"], [0.7777777777777778, \"#fb9f3a\"], [0.8888888888888888, \"#fdca26\"], [1.0, \"#f0f921\"]], \"type\": \"contour\"}], \"contourcarpet\": [{\"colorbar\": {\"outlinewidth\": 0, \"ticks\": \"\"}, \"type\": \"contourcarpet\"}], \"heatmap\": [{\"colorbar\": {\"outlinewidth\": 0, \"ticks\": \"\"}, \"colorscale\": [[0.0, \"#0d0887\"], [0.1111111111111111, \"#46039f\"], [0.2222222222222222, \"#7201a8\"], [0.3333333333333333, \"#9c179e\"], [0.4444444444444444, \"#bd3786\"], [0.5555555555555556, \"#d8576b\"], [0.6666666666666666, \"#ed7953\"], [0.7777777777777778, \"#fb9f3a\"], [0.8888888888888888, \"#fdca26\"], [1.0, \"#f0f921\"]], \"type\": \"heatmap\"}], \"heatmapgl\": [{\"colorbar\": {\"outlinewidth\": 0, \"ticks\": \"\"}, \"colorscale\": [[0.0, \"#0d0887\"], [0.1111111111111111, \"#46039f\"], [0.2222222222222222, \"#7201a8\"], [0.3333333333333333, \"#9c179e\"], [0.4444444444444444, \"#bd3786\"], [0.5555555555555556, \"#d8576b\"], [0.6666666666666666, \"#ed7953\"], [0.7777777777777778, \"#fb9f3a\"], [0.8888888888888888, \"#fdca26\"], [1.0, \"#f0f921\"]], \"type\": \"heatmapgl\"}], \"histogram\": [{\"marker\": {\"colorbar\": {\"outlinewidth\": 0, \"ticks\": \"\"}}, \"type\": \"histogram\"}], \"histogram2d\": [{\"colorbar\": {\"outlinewidth\": 0, \"ticks\": \"\"}, \"colorscale\": [[0.0, \"#0d0887\"], [0.1111111111111111, \"#46039f\"], [0.2222222222222222, \"#7201a8\"], [0.3333333333333333, \"#9c179e\"], [0.4444444444444444, \"#bd3786\"], [0.5555555555555556, \"#d8576b\"], [0.6666666666666666, \"#ed7953\"], [0.7777777777777778, \"#fb9f3a\"], [0.8888888888888888, \"#fdca26\"], [1.0, \"#f0f921\"]], \"type\": \"histogram2d\"}], \"histogram2dcontour\": [{\"colorbar\": {\"outlinewidth\": 0, \"ticks\": \"\"}, \"colorscale\": [[0.0, \"#0d0887\"], [0.1111111111111111, \"#46039f\"], [0.2222222222222222, \"#7201a8\"], [0.3333333333333333, \"#9c179e\"], [0.4444444444444444, \"#bd3786\"], [0.5555555555555556, \"#d8576b\"], [0.6666666666666666, \"#ed7953\"], [0.7777777777777778, \"#fb9f3a\"], [0.8888888888888888, \"#fdca26\"], [1.0, \"#f0f921\"]], \"type\": \"histogram2dcontour\"}], \"mesh3d\": [{\"colorbar\": {\"outlinewidth\": 0, \"ticks\": \"\"}, \"type\": \"mesh3d\"}], \"parcoords\": [{\"line\": {\"colorbar\": {\"outlinewidth\": 0, \"ticks\": \"\"}}, \"type\": \"parcoords\"}], \"pie\": [{\"automargin\": true, \"type\": \"pie\"}], \"scatter\": [{\"marker\": {\"colorbar\": {\"outlinewidth\": 0, \"ticks\": \"\"}}, \"type\": \"scatter\"}], \"scatter3d\": [{\"line\": {\"colorbar\": {\"outlinewidth\": 0, \"ticks\": \"\"}}, \"marker\": {\"colorbar\": {\"outlinewidth\": 0, \"ticks\": \"\"}}, \"type\": \"scatter3d\"}], \"scattercarpet\": [{\"marker\": {\"colorbar\": {\"outlinewidth\": 0, \"ticks\": \"\"}}, \"type\": \"scattercarpet\"}], \"scattergeo\": [{\"marker\": {\"colorbar\": {\"outlinewidth\": 0, \"ticks\": \"\"}}, \"type\": \"scattergeo\"}], \"scattergl\": [{\"marker\": {\"colorbar\": {\"outlinewidth\": 0, \"ticks\": \"\"}}, \"type\": \"scattergl\"}], \"scattermapbox\": [{\"marker\": {\"colorbar\": {\"outlinewidth\": 0, \"ticks\": \"\"}}, \"type\": \"scattermapbox\"}], \"scatterpolar\": [{\"marker\": {\"colorbar\": {\"outlinewidth\": 0, \"ticks\": \"\"}}, \"type\": \"scatterpolar\"}], \"scatterpolargl\": [{\"marker\": {\"colorbar\": {\"outlinewidth\": 0, \"ticks\": \"\"}}, \"type\": \"scatterpolargl\"}], \"scatterternary\": [{\"marker\": {\"colorbar\": {\"outlinewidth\": 0, \"ticks\": \"\"}}, \"type\": \"scatterternary\"}], \"surface\": [{\"colorbar\": {\"outlinewidth\": 0, \"ticks\": \"\"}, \"colorscale\": [[0.0, \"#0d0887\"], [0.1111111111111111, \"#46039f\"], [0.2222222222222222, \"#7201a8\"], [0.3333333333333333, \"#9c179e\"], [0.4444444444444444, \"#bd3786\"], [0.5555555555555556, \"#d8576b\"], [0.6666666666666666, \"#ed7953\"], [0.7777777777777778, \"#fb9f3a\"], [0.8888888888888888, \"#fdca26\"], [1.0, \"#f0f921\"]], \"type\": \"surface\"}], \"table\": [{\"cells\": {\"fill\": {\"color\": \"#EBF0F8\"}, \"line\": {\"color\": \"white\"}}, \"header\": {\"fill\": {\"color\": \"#C8D4E3\"}, \"line\": {\"color\": \"white\"}}, \"type\": \"table\"}]}, \"layout\": {\"annotationdefaults\": {\"arrowcolor\": \"#2a3f5f\", \"arrowhead\": 0, \"arrowwidth\": 1}, \"coloraxis\": {\"colorbar\": {\"outlinewidth\": 0, \"ticks\": \"\"}}, \"colorscale\": {\"diverging\": [[0, \"#8e0152\"], [0.1, \"#c51b7d\"], [0.2, \"#de77ae\"], [0.3, \"#f1b6da\"], [0.4, \"#fde0ef\"], [0.5, \"#f7f7f7\"], [0.6, \"#e6f5d0\"], [0.7, \"#b8e186\"], [0.8, \"#7fbc41\"], [0.9, \"#4d9221\"], [1, \"#276419\"]], \"sequential\": [[0.0, \"#0d0887\"], [0.1111111111111111, \"#46039f\"], [0.2222222222222222, \"#7201a8\"], [0.3333333333333333, \"#9c179e\"], [0.4444444444444444, \"#bd3786\"], [0.5555555555555556, \"#d8576b\"], [0.6666666666666666, \"#ed7953\"], [0.7777777777777778, \"#fb9f3a\"], [0.8888888888888888, \"#fdca26\"], [1.0, \"#f0f921\"]], \"sequentialminus\": [[0.0, \"#0d0887\"], [0.1111111111111111, \"#46039f\"], [0.2222222222222222, \"#7201a8\"], [0.3333333333333333, \"#9c179e\"], [0.4444444444444444, \"#bd3786\"], [0.5555555555555556, \"#d8576b\"], [0.6666666666666666, \"#ed7953\"], [0.7777777777777778, \"#fb9f3a\"], [0.8888888888888888, \"#fdca26\"], [1.0, \"#f0f921\"]]}, \"colorway\": [\"#636efa\", \"#EF553B\", \"#00cc96\", \"#ab63fa\", \"#FFA15A\", \"#19d3f3\", \"#FF6692\", \"#B6E880\", \"#FF97FF\", \"#FECB52\"], \"font\": {\"color\": \"#2a3f5f\"}, \"geo\": {\"bgcolor\": \"white\", \"lakecolor\": \"white\", \"landcolor\": \"#E5ECF6\", \"showlakes\": true, \"showland\": true, \"subunitcolor\": \"white\"}, \"hoverlabel\": {\"align\": \"left\"}, \"hovermode\": \"closest\", \"mapbox\": {\"style\": \"light\"}, \"paper_bgcolor\": \"white\", \"plot_bgcolor\": \"#E5ECF6\", \"polar\": {\"angularaxis\": {\"gridcolor\": \"white\", \"linecolor\": \"white\", \"ticks\": \"\"}, \"bgcolor\": \"#E5ECF6\", \"radialaxis\": {\"gridcolor\": \"white\", \"linecolor\": \"white\", \"ticks\": \"\"}}, \"scene\": {\"xaxis\": {\"backgroundcolor\": \"#E5ECF6\", \"gridcolor\": \"white\", \"gridwidth\": 2, \"linecolor\": \"white\", \"showbackground\": true, \"ticks\": \"\", \"zerolinecolor\": \"white\"}, \"yaxis\": {\"backgroundcolor\": \"#E5ECF6\", \"gridcolor\": \"white\", \"gridwidth\": 2, \"linecolor\": \"white\", \"showbackground\": true, \"ticks\": \"\", \"zerolinecolor\": \"white\"}, \"zaxis\": {\"backgroundcolor\": \"#E5ECF6\", \"gridcolor\": \"white\", \"gridwidth\": 2, \"linecolor\": \"white\", \"showbackground\": true, \"ticks\": \"\", \"zerolinecolor\": \"white\"}}, \"shapedefaults\": {\"line\": {\"color\": \"#2a3f5f\"}}, \"ternary\": {\"aaxis\": {\"gridcolor\": \"white\", \"linecolor\": \"white\", \"ticks\": \"\"}, \"baxis\": {\"gridcolor\": \"white\", \"linecolor\": \"white\", \"ticks\": \"\"}, \"bgcolor\": \"#E5ECF6\", \"caxis\": {\"gridcolor\": \"white\", \"linecolor\": \"white\", \"ticks\": \"\"}}, \"title\": {\"x\": 0.05}, \"xaxis\": {\"automargin\": true, \"gridcolor\": \"white\", \"linecolor\": \"white\", \"ticks\": \"\", \"title\": {\"standoff\": 15}, \"zerolinecolor\": \"white\", \"zerolinewidth\": 2}, \"yaxis\": {\"automargin\": true, \"gridcolor\": \"white\", \"linecolor\": \"white\", \"ticks\": \"\", \"title\": {\"standoff\": 15}, \"zerolinecolor\": \"white\", \"zerolinewidth\": 2}}}, \"title\": {\"font\": {\"color\": \"#4D5663\"}}, \"xaxis\": {\"gridcolor\": \"#E1E5ED\", \"showgrid\": true, \"tickfont\": {\"color\": \"#4D5663\"}, \"title\": {\"font\": {\"color\": \"#4D5663\"}, \"text\": \"\"}, \"zerolinecolor\": \"#E1E5ED\"}, \"yaxis\": {\"gridcolor\": \"#E1E5ED\", \"showgrid\": true, \"tickfont\": {\"color\": \"#4D5663\"}, \"title\": {\"font\": {\"color\": \"#4D5663\"}, \"text\": \"\"}, \"zerolinecolor\": \"#E1E5ED\"}},\n",
       "                        {\"showLink\": true, \"linkText\": \"Export to plot.ly\", \"plotlyServerURL\": \"https://plot.ly\", \"responsive\": true}\n",
       "                    ).then(function(){\n",
       "                            \n",
       "var gd = document.getElementById('13f46823-6fc4-45d1-a2a3-84f141457f81');\n",
       "var x = new MutationObserver(function (mutations, observer) {{\n",
       "        var display = window.getComputedStyle(gd).display;\n",
       "        if (!display || display === 'none') {{\n",
       "            console.log([gd, 'removed!']);\n",
       "            Plotly.purge(gd);\n",
       "            observer.disconnect();\n",
       "        }}\n",
       "}});\n",
       "\n",
       "// Listen for the removal of the full notebook cells\n",
       "var notebookContainer = gd.closest('#notebook-container');\n",
       "if (notebookContainer) {{\n",
       "    x.observe(notebookContainer, {childList: true});\n",
       "}}\n",
       "\n",
       "// Listen for the clearing of the current output cell\n",
       "var outputEl = gd.closest('.output');\n",
       "if (outputEl) {{\n",
       "    x.observe(outputEl, {childList: true});\n",
       "}}\n",
       "\n",
       "                        })\n",
       "                };\n",
       "                });\n",
       "            </script>\n",
       "        </div>"
      ]
     },
     "metadata": {},
     "output_type": "display_data"
    }
   ],
   "source": [
    "df.iplot(kind = \"box\");"
   ]
  },
  {
   "cell_type": "markdown",
   "metadata": {},
   "source": [
    "## 3D surface plot"
   ]
  },
  {
   "cell_type": "code",
   "execution_count": 29,
   "metadata": {},
   "outputs": [
    {
     "data": {
      "text/html": [
       "<div>\n",
       "<style scoped>\n",
       "    .dataframe tbody tr th:only-of-type {\n",
       "        vertical-align: middle;\n",
       "    }\n",
       "\n",
       "    .dataframe tbody tr th {\n",
       "        vertical-align: top;\n",
       "    }\n",
       "\n",
       "    .dataframe thead th {\n",
       "        text-align: right;\n",
       "    }\n",
       "</style>\n",
       "<table border=\"1\" class=\"dataframe\">\n",
       "  <thead>\n",
       "    <tr style=\"text-align: right;\">\n",
       "      <th></th>\n",
       "      <th>x</th>\n",
       "      <th>y</th>\n",
       "      <th>z</th>\n",
       "    </tr>\n",
       "  </thead>\n",
       "  <tbody>\n",
       "    <tr>\n",
       "      <th>0</th>\n",
       "      <td>1</td>\n",
       "      <td>10</td>\n",
       "      <td>500</td>\n",
       "    </tr>\n",
       "    <tr>\n",
       "      <th>1</th>\n",
       "      <td>2</td>\n",
       "      <td>20</td>\n",
       "      <td>400</td>\n",
       "    </tr>\n",
       "    <tr>\n",
       "      <th>2</th>\n",
       "      <td>3</td>\n",
       "      <td>30</td>\n",
       "      <td>300</td>\n",
       "    </tr>\n",
       "    <tr>\n",
       "      <th>3</th>\n",
       "      <td>4</td>\n",
       "      <td>20</td>\n",
       "      <td>200</td>\n",
       "    </tr>\n",
       "    <tr>\n",
       "      <th>4</th>\n",
       "      <td>5</td>\n",
       "      <td>10</td>\n",
       "      <td>100</td>\n",
       "    </tr>\n",
       "  </tbody>\n",
       "</table>\n",
       "</div>"
      ],
      "text/plain": [
       "   x   y    z\n",
       "0  1  10  500\n",
       "1  2  20  400\n",
       "2  3  30  300\n",
       "3  4  20  200\n",
       "4  5  10  100"
      ]
     },
     "execution_count": 29,
     "metadata": {},
     "output_type": "execute_result"
    }
   ],
   "source": [
    "df3 = pd.DataFrame({\"x\": [1,2,3,4,5], \"y\": [10,20,30,20,10], \"z\": [500, 400, 300, 200, 100]})\n",
    "\n",
    "df3.head()"
   ]
  },
  {
   "cell_type": "code",
   "execution_count": 31,
   "metadata": {},
   "outputs": [
    {
     "data": {
      "application/vnd.plotly.v1+json": {
       "config": {
        "linkText": "Export to plot.ly",
        "plotlyServerURL": "https://plot.ly",
        "showLink": true
       },
       "data": [
        {
         "colorscale": [
          [
           0,
           "rgb(165,0,38)"
          ],
          [
           0.1,
           "rgb(215,48,39)"
          ],
          [
           0.2,
           "rgb(244,109,67)"
          ],
          [
           0.3,
           "rgb(253,174,97)"
          ],
          [
           0.4,
           "rgb(254,224,144)"
          ],
          [
           0.5,
           "rgb(255,255,191)"
          ],
          [
           0.6,
           "rgb(224,243,248)"
          ],
          [
           0.7,
           "rgb(171,217,233)"
          ],
          [
           0.8,
           "rgb(116,173,209)"
          ],
          [
           0.9,
           "rgb(69,117,180)"
          ],
          [
           1,
           "rgb(49,54,149)"
          ]
         ],
         "type": "surface",
         "x": [
          0,
          1,
          2,
          3,
          4
         ],
         "y": [
          "x",
          "y",
          "z"
         ],
         "z": [
          [
           1,
           2,
           3,
           4,
           5
          ],
          [
           10,
           20,
           30,
           20,
           10
          ],
          [
           500,
           400,
           300,
           200,
           100
          ]
         ]
        }
       ],
       "layout": {
        "legend": {
         "bgcolor": "#F5F6F9",
         "font": {
          "color": "#4D5663"
         }
        },
        "paper_bgcolor": "#F5F6F9",
        "plot_bgcolor": "#F5F6F9",
        "template": {
         "data": {
          "bar": [
           {
            "error_x": {
             "color": "#2a3f5f"
            },
            "error_y": {
             "color": "#2a3f5f"
            },
            "marker": {
             "line": {
              "color": "#E5ECF6",
              "width": 0.5
             }
            },
            "type": "bar"
           }
          ],
          "barpolar": [
           {
            "marker": {
             "line": {
              "color": "#E5ECF6",
              "width": 0.5
             }
            },
            "type": "barpolar"
           }
          ],
          "carpet": [
           {
            "aaxis": {
             "endlinecolor": "#2a3f5f",
             "gridcolor": "white",
             "linecolor": "white",
             "minorgridcolor": "white",
             "startlinecolor": "#2a3f5f"
            },
            "baxis": {
             "endlinecolor": "#2a3f5f",
             "gridcolor": "white",
             "linecolor": "white",
             "minorgridcolor": "white",
             "startlinecolor": "#2a3f5f"
            },
            "type": "carpet"
           }
          ],
          "choropleth": [
           {
            "colorbar": {
             "outlinewidth": 0,
             "ticks": ""
            },
            "type": "choropleth"
           }
          ],
          "contour": [
           {
            "colorbar": {
             "outlinewidth": 0,
             "ticks": ""
            },
            "colorscale": [
             [
              0,
              "#0d0887"
             ],
             [
              0.1111111111111111,
              "#46039f"
             ],
             [
              0.2222222222222222,
              "#7201a8"
             ],
             [
              0.3333333333333333,
              "#9c179e"
             ],
             [
              0.4444444444444444,
              "#bd3786"
             ],
             [
              0.5555555555555556,
              "#d8576b"
             ],
             [
              0.6666666666666666,
              "#ed7953"
             ],
             [
              0.7777777777777778,
              "#fb9f3a"
             ],
             [
              0.8888888888888888,
              "#fdca26"
             ],
             [
              1,
              "#f0f921"
             ]
            ],
            "type": "contour"
           }
          ],
          "contourcarpet": [
           {
            "colorbar": {
             "outlinewidth": 0,
             "ticks": ""
            },
            "type": "contourcarpet"
           }
          ],
          "heatmap": [
           {
            "colorbar": {
             "outlinewidth": 0,
             "ticks": ""
            },
            "colorscale": [
             [
              0,
              "#0d0887"
             ],
             [
              0.1111111111111111,
              "#46039f"
             ],
             [
              0.2222222222222222,
              "#7201a8"
             ],
             [
              0.3333333333333333,
              "#9c179e"
             ],
             [
              0.4444444444444444,
              "#bd3786"
             ],
             [
              0.5555555555555556,
              "#d8576b"
             ],
             [
              0.6666666666666666,
              "#ed7953"
             ],
             [
              0.7777777777777778,
              "#fb9f3a"
             ],
             [
              0.8888888888888888,
              "#fdca26"
             ],
             [
              1,
              "#f0f921"
             ]
            ],
            "type": "heatmap"
           }
          ],
          "heatmapgl": [
           {
            "colorbar": {
             "outlinewidth": 0,
             "ticks": ""
            },
            "colorscale": [
             [
              0,
              "#0d0887"
             ],
             [
              0.1111111111111111,
              "#46039f"
             ],
             [
              0.2222222222222222,
              "#7201a8"
             ],
             [
              0.3333333333333333,
              "#9c179e"
             ],
             [
              0.4444444444444444,
              "#bd3786"
             ],
             [
              0.5555555555555556,
              "#d8576b"
             ],
             [
              0.6666666666666666,
              "#ed7953"
             ],
             [
              0.7777777777777778,
              "#fb9f3a"
             ],
             [
              0.8888888888888888,
              "#fdca26"
             ],
             [
              1,
              "#f0f921"
             ]
            ],
            "type": "heatmapgl"
           }
          ],
          "histogram": [
           {
            "marker": {
             "colorbar": {
              "outlinewidth": 0,
              "ticks": ""
             }
            },
            "type": "histogram"
           }
          ],
          "histogram2d": [
           {
            "colorbar": {
             "outlinewidth": 0,
             "ticks": ""
            },
            "colorscale": [
             [
              0,
              "#0d0887"
             ],
             [
              0.1111111111111111,
              "#46039f"
             ],
             [
              0.2222222222222222,
              "#7201a8"
             ],
             [
              0.3333333333333333,
              "#9c179e"
             ],
             [
              0.4444444444444444,
              "#bd3786"
             ],
             [
              0.5555555555555556,
              "#d8576b"
             ],
             [
              0.6666666666666666,
              "#ed7953"
             ],
             [
              0.7777777777777778,
              "#fb9f3a"
             ],
             [
              0.8888888888888888,
              "#fdca26"
             ],
             [
              1,
              "#f0f921"
             ]
            ],
            "type": "histogram2d"
           }
          ],
          "histogram2dcontour": [
           {
            "colorbar": {
             "outlinewidth": 0,
             "ticks": ""
            },
            "colorscale": [
             [
              0,
              "#0d0887"
             ],
             [
              0.1111111111111111,
              "#46039f"
             ],
             [
              0.2222222222222222,
              "#7201a8"
             ],
             [
              0.3333333333333333,
              "#9c179e"
             ],
             [
              0.4444444444444444,
              "#bd3786"
             ],
             [
              0.5555555555555556,
              "#d8576b"
             ],
             [
              0.6666666666666666,
              "#ed7953"
             ],
             [
              0.7777777777777778,
              "#fb9f3a"
             ],
             [
              0.8888888888888888,
              "#fdca26"
             ],
             [
              1,
              "#f0f921"
             ]
            ],
            "type": "histogram2dcontour"
           }
          ],
          "mesh3d": [
           {
            "colorbar": {
             "outlinewidth": 0,
             "ticks": ""
            },
            "type": "mesh3d"
           }
          ],
          "parcoords": [
           {
            "line": {
             "colorbar": {
              "outlinewidth": 0,
              "ticks": ""
             }
            },
            "type": "parcoords"
           }
          ],
          "pie": [
           {
            "automargin": true,
            "type": "pie"
           }
          ],
          "scatter": [
           {
            "marker": {
             "colorbar": {
              "outlinewidth": 0,
              "ticks": ""
             }
            },
            "type": "scatter"
           }
          ],
          "scatter3d": [
           {
            "line": {
             "colorbar": {
              "outlinewidth": 0,
              "ticks": ""
             }
            },
            "marker": {
             "colorbar": {
              "outlinewidth": 0,
              "ticks": ""
             }
            },
            "type": "scatter3d"
           }
          ],
          "scattercarpet": [
           {
            "marker": {
             "colorbar": {
              "outlinewidth": 0,
              "ticks": ""
             }
            },
            "type": "scattercarpet"
           }
          ],
          "scattergeo": [
           {
            "marker": {
             "colorbar": {
              "outlinewidth": 0,
              "ticks": ""
             }
            },
            "type": "scattergeo"
           }
          ],
          "scattergl": [
           {
            "marker": {
             "colorbar": {
              "outlinewidth": 0,
              "ticks": ""
             }
            },
            "type": "scattergl"
           }
          ],
          "scattermapbox": [
           {
            "marker": {
             "colorbar": {
              "outlinewidth": 0,
              "ticks": ""
             }
            },
            "type": "scattermapbox"
           }
          ],
          "scatterpolar": [
           {
            "marker": {
             "colorbar": {
              "outlinewidth": 0,
              "ticks": ""
             }
            },
            "type": "scatterpolar"
           }
          ],
          "scatterpolargl": [
           {
            "marker": {
             "colorbar": {
              "outlinewidth": 0,
              "ticks": ""
             }
            },
            "type": "scatterpolargl"
           }
          ],
          "scatterternary": [
           {
            "marker": {
             "colorbar": {
              "outlinewidth": 0,
              "ticks": ""
             }
            },
            "type": "scatterternary"
           }
          ],
          "surface": [
           {
            "colorbar": {
             "outlinewidth": 0,
             "ticks": ""
            },
            "colorscale": [
             [
              0,
              "#0d0887"
             ],
             [
              0.1111111111111111,
              "#46039f"
             ],
             [
              0.2222222222222222,
              "#7201a8"
             ],
             [
              0.3333333333333333,
              "#9c179e"
             ],
             [
              0.4444444444444444,
              "#bd3786"
             ],
             [
              0.5555555555555556,
              "#d8576b"
             ],
             [
              0.6666666666666666,
              "#ed7953"
             ],
             [
              0.7777777777777778,
              "#fb9f3a"
             ],
             [
              0.8888888888888888,
              "#fdca26"
             ],
             [
              1,
              "#f0f921"
             ]
            ],
            "type": "surface"
           }
          ],
          "table": [
           {
            "cells": {
             "fill": {
              "color": "#EBF0F8"
             },
             "line": {
              "color": "white"
             }
            },
            "header": {
             "fill": {
              "color": "#C8D4E3"
             },
             "line": {
              "color": "white"
             }
            },
            "type": "table"
           }
          ]
         },
         "layout": {
          "annotationdefaults": {
           "arrowcolor": "#2a3f5f",
           "arrowhead": 0,
           "arrowwidth": 1
          },
          "coloraxis": {
           "colorbar": {
            "outlinewidth": 0,
            "ticks": ""
           }
          },
          "colorscale": {
           "diverging": [
            [
             0,
             "#8e0152"
            ],
            [
             0.1,
             "#c51b7d"
            ],
            [
             0.2,
             "#de77ae"
            ],
            [
             0.3,
             "#f1b6da"
            ],
            [
             0.4,
             "#fde0ef"
            ],
            [
             0.5,
             "#f7f7f7"
            ],
            [
             0.6,
             "#e6f5d0"
            ],
            [
             0.7,
             "#b8e186"
            ],
            [
             0.8,
             "#7fbc41"
            ],
            [
             0.9,
             "#4d9221"
            ],
            [
             1,
             "#276419"
            ]
           ],
           "sequential": [
            [
             0,
             "#0d0887"
            ],
            [
             0.1111111111111111,
             "#46039f"
            ],
            [
             0.2222222222222222,
             "#7201a8"
            ],
            [
             0.3333333333333333,
             "#9c179e"
            ],
            [
             0.4444444444444444,
             "#bd3786"
            ],
            [
             0.5555555555555556,
             "#d8576b"
            ],
            [
             0.6666666666666666,
             "#ed7953"
            ],
            [
             0.7777777777777778,
             "#fb9f3a"
            ],
            [
             0.8888888888888888,
             "#fdca26"
            ],
            [
             1,
             "#f0f921"
            ]
           ],
           "sequentialminus": [
            [
             0,
             "#0d0887"
            ],
            [
             0.1111111111111111,
             "#46039f"
            ],
            [
             0.2222222222222222,
             "#7201a8"
            ],
            [
             0.3333333333333333,
             "#9c179e"
            ],
            [
             0.4444444444444444,
             "#bd3786"
            ],
            [
             0.5555555555555556,
             "#d8576b"
            ],
            [
             0.6666666666666666,
             "#ed7953"
            ],
            [
             0.7777777777777778,
             "#fb9f3a"
            ],
            [
             0.8888888888888888,
             "#fdca26"
            ],
            [
             1,
             "#f0f921"
            ]
           ]
          },
          "colorway": [
           "#636efa",
           "#EF553B",
           "#00cc96",
           "#ab63fa",
           "#FFA15A",
           "#19d3f3",
           "#FF6692",
           "#B6E880",
           "#FF97FF",
           "#FECB52"
          ],
          "font": {
           "color": "#2a3f5f"
          },
          "geo": {
           "bgcolor": "white",
           "lakecolor": "white",
           "landcolor": "#E5ECF6",
           "showlakes": true,
           "showland": true,
           "subunitcolor": "white"
          },
          "hoverlabel": {
           "align": "left"
          },
          "hovermode": "closest",
          "mapbox": {
           "style": "light"
          },
          "paper_bgcolor": "white",
          "plot_bgcolor": "#E5ECF6",
          "polar": {
           "angularaxis": {
            "gridcolor": "white",
            "linecolor": "white",
            "ticks": ""
           },
           "bgcolor": "#E5ECF6",
           "radialaxis": {
            "gridcolor": "white",
            "linecolor": "white",
            "ticks": ""
           }
          },
          "scene": {
           "xaxis": {
            "backgroundcolor": "#E5ECF6",
            "gridcolor": "white",
            "gridwidth": 2,
            "linecolor": "white",
            "showbackground": true,
            "ticks": "",
            "zerolinecolor": "white"
           },
           "yaxis": {
            "backgroundcolor": "#E5ECF6",
            "gridcolor": "white",
            "gridwidth": 2,
            "linecolor": "white",
            "showbackground": true,
            "ticks": "",
            "zerolinecolor": "white"
           },
           "zaxis": {
            "backgroundcolor": "#E5ECF6",
            "gridcolor": "white",
            "gridwidth": 2,
            "linecolor": "white",
            "showbackground": true,
            "ticks": "",
            "zerolinecolor": "white"
           }
          },
          "shapedefaults": {
           "line": {
            "color": "#2a3f5f"
           }
          },
          "ternary": {
           "aaxis": {
            "gridcolor": "white",
            "linecolor": "white",
            "ticks": ""
           },
           "baxis": {
            "gridcolor": "white",
            "linecolor": "white",
            "ticks": ""
           },
           "bgcolor": "#E5ECF6",
           "caxis": {
            "gridcolor": "white",
            "linecolor": "white",
            "ticks": ""
           }
          },
          "title": {
           "x": 0.05
          },
          "xaxis": {
           "automargin": true,
           "gridcolor": "white",
           "linecolor": "white",
           "ticks": "",
           "title": {
            "standoff": 15
           },
           "zerolinecolor": "white",
           "zerolinewidth": 2
          },
          "yaxis": {
           "automargin": true,
           "gridcolor": "white",
           "linecolor": "white",
           "ticks": "",
           "title": {
            "standoff": 15
           },
           "zerolinecolor": "white",
           "zerolinewidth": 2
          }
         }
        },
        "title": {
         "font": {
          "color": "#4D5663"
         }
        },
        "xaxis": {
         "gridcolor": "#E1E5ED",
         "showgrid": true,
         "tickfont": {
          "color": "#4D5663"
         },
         "title": {
          "font": {
           "color": "#4D5663"
          },
          "text": ""
         },
         "zerolinecolor": "#E1E5ED"
        },
        "yaxis": {
         "gridcolor": "#E1E5ED",
         "showgrid": true,
         "tickfont": {
          "color": "#4D5663"
         },
         "title": {
          "font": {
           "color": "#4D5663"
          },
          "text": ""
         },
         "zerolinecolor": "#E1E5ED"
        }
       }
      },
      "text/html": [
       "<div>\n",
       "        \n",
       "        \n",
       "            <div id=\"010d3b59-1be3-4b45-8a93-312e62b2de2b\" class=\"plotly-graph-div\" style=\"height:525px; width:100%;\"></div>\n",
       "            <script type=\"text/javascript\">\n",
       "                require([\"plotly\"], function(Plotly) {\n",
       "                    window.PLOTLYENV=window.PLOTLYENV || {};\n",
       "                    window.PLOTLYENV.BASE_URL='https://plot.ly';\n",
       "                    \n",
       "                if (document.getElementById(\"010d3b59-1be3-4b45-8a93-312e62b2de2b\")) {\n",
       "                    Plotly.newPlot(\n",
       "                        '010d3b59-1be3-4b45-8a93-312e62b2de2b',\n",
       "                        [{\"colorscale\": [[0.0, \"rgb(165,0,38)\"], [0.1, \"rgb(215,48,39)\"], [0.2, \"rgb(244,109,67)\"], [0.3, \"rgb(253,174,97)\"], [0.4, \"rgb(254,224,144)\"], [0.5, \"rgb(255,255,191)\"], [0.6, \"rgb(224,243,248)\"], [0.7, \"rgb(171,217,233)\"], [0.8, \"rgb(116,173,209)\"], [0.9, \"rgb(69,117,180)\"], [1.0, \"rgb(49,54,149)\"]], \"type\": \"surface\", \"x\": [0, 1, 2, 3, 4], \"y\": [\"x\", \"y\", \"z\"], \"z\": [[1, 2, 3, 4, 5], [10, 20, 30, 20, 10], [500, 400, 300, 200, 100]]}],\n",
       "                        {\"legend\": {\"bgcolor\": \"#F5F6F9\", \"font\": {\"color\": \"#4D5663\"}}, \"paper_bgcolor\": \"#F5F6F9\", \"plot_bgcolor\": \"#F5F6F9\", \"template\": {\"data\": {\"bar\": [{\"error_x\": {\"color\": \"#2a3f5f\"}, \"error_y\": {\"color\": \"#2a3f5f\"}, \"marker\": {\"line\": {\"color\": \"#E5ECF6\", \"width\": 0.5}}, \"type\": \"bar\"}], \"barpolar\": [{\"marker\": {\"line\": {\"color\": \"#E5ECF6\", \"width\": 0.5}}, \"type\": \"barpolar\"}], \"carpet\": [{\"aaxis\": {\"endlinecolor\": \"#2a3f5f\", \"gridcolor\": \"white\", \"linecolor\": \"white\", \"minorgridcolor\": \"white\", \"startlinecolor\": \"#2a3f5f\"}, \"baxis\": {\"endlinecolor\": \"#2a3f5f\", \"gridcolor\": \"white\", \"linecolor\": \"white\", \"minorgridcolor\": \"white\", \"startlinecolor\": \"#2a3f5f\"}, \"type\": \"carpet\"}], \"choropleth\": [{\"colorbar\": {\"outlinewidth\": 0, \"ticks\": \"\"}, \"type\": \"choropleth\"}], \"contour\": [{\"colorbar\": {\"outlinewidth\": 0, \"ticks\": \"\"}, \"colorscale\": [[0.0, \"#0d0887\"], [0.1111111111111111, \"#46039f\"], [0.2222222222222222, \"#7201a8\"], [0.3333333333333333, \"#9c179e\"], [0.4444444444444444, \"#bd3786\"], [0.5555555555555556, \"#d8576b\"], [0.6666666666666666, \"#ed7953\"], [0.7777777777777778, \"#fb9f3a\"], [0.8888888888888888, \"#fdca26\"], [1.0, \"#f0f921\"]], \"type\": \"contour\"}], \"contourcarpet\": [{\"colorbar\": {\"outlinewidth\": 0, \"ticks\": \"\"}, \"type\": \"contourcarpet\"}], \"heatmap\": [{\"colorbar\": {\"outlinewidth\": 0, \"ticks\": \"\"}, \"colorscale\": [[0.0, \"#0d0887\"], [0.1111111111111111, \"#46039f\"], [0.2222222222222222, \"#7201a8\"], [0.3333333333333333, \"#9c179e\"], [0.4444444444444444, \"#bd3786\"], [0.5555555555555556, \"#d8576b\"], [0.6666666666666666, \"#ed7953\"], [0.7777777777777778, \"#fb9f3a\"], [0.8888888888888888, \"#fdca26\"], [1.0, \"#f0f921\"]], \"type\": \"heatmap\"}], \"heatmapgl\": [{\"colorbar\": {\"outlinewidth\": 0, \"ticks\": \"\"}, \"colorscale\": [[0.0, \"#0d0887\"], [0.1111111111111111, \"#46039f\"], [0.2222222222222222, \"#7201a8\"], [0.3333333333333333, \"#9c179e\"], [0.4444444444444444, \"#bd3786\"], [0.5555555555555556, \"#d8576b\"], [0.6666666666666666, \"#ed7953\"], [0.7777777777777778, \"#fb9f3a\"], [0.8888888888888888, \"#fdca26\"], [1.0, \"#f0f921\"]], \"type\": \"heatmapgl\"}], \"histogram\": [{\"marker\": {\"colorbar\": {\"outlinewidth\": 0, \"ticks\": \"\"}}, \"type\": \"histogram\"}], \"histogram2d\": [{\"colorbar\": {\"outlinewidth\": 0, \"ticks\": \"\"}, \"colorscale\": [[0.0, \"#0d0887\"], [0.1111111111111111, \"#46039f\"], [0.2222222222222222, \"#7201a8\"], [0.3333333333333333, \"#9c179e\"], [0.4444444444444444, \"#bd3786\"], [0.5555555555555556, \"#d8576b\"], [0.6666666666666666, \"#ed7953\"], [0.7777777777777778, \"#fb9f3a\"], [0.8888888888888888, \"#fdca26\"], [1.0, \"#f0f921\"]], \"type\": \"histogram2d\"}], \"histogram2dcontour\": [{\"colorbar\": {\"outlinewidth\": 0, \"ticks\": \"\"}, \"colorscale\": [[0.0, \"#0d0887\"], [0.1111111111111111, \"#46039f\"], [0.2222222222222222, \"#7201a8\"], [0.3333333333333333, \"#9c179e\"], [0.4444444444444444, \"#bd3786\"], [0.5555555555555556, \"#d8576b\"], [0.6666666666666666, \"#ed7953\"], [0.7777777777777778, \"#fb9f3a\"], [0.8888888888888888, \"#fdca26\"], [1.0, \"#f0f921\"]], \"type\": \"histogram2dcontour\"}], \"mesh3d\": [{\"colorbar\": {\"outlinewidth\": 0, \"ticks\": \"\"}, \"type\": \"mesh3d\"}], \"parcoords\": [{\"line\": {\"colorbar\": {\"outlinewidth\": 0, \"ticks\": \"\"}}, \"type\": \"parcoords\"}], \"pie\": [{\"automargin\": true, \"type\": \"pie\"}], \"scatter\": [{\"marker\": {\"colorbar\": {\"outlinewidth\": 0, \"ticks\": \"\"}}, \"type\": \"scatter\"}], \"scatter3d\": [{\"line\": {\"colorbar\": {\"outlinewidth\": 0, \"ticks\": \"\"}}, \"marker\": {\"colorbar\": {\"outlinewidth\": 0, \"ticks\": \"\"}}, \"type\": \"scatter3d\"}], \"scattercarpet\": [{\"marker\": {\"colorbar\": {\"outlinewidth\": 0, \"ticks\": \"\"}}, \"type\": \"scattercarpet\"}], \"scattergeo\": [{\"marker\": {\"colorbar\": {\"outlinewidth\": 0, \"ticks\": \"\"}}, \"type\": \"scattergeo\"}], \"scattergl\": [{\"marker\": {\"colorbar\": {\"outlinewidth\": 0, \"ticks\": \"\"}}, \"type\": \"scattergl\"}], \"scattermapbox\": [{\"marker\": {\"colorbar\": {\"outlinewidth\": 0, \"ticks\": \"\"}}, \"type\": \"scattermapbox\"}], \"scatterpolar\": [{\"marker\": {\"colorbar\": {\"outlinewidth\": 0, \"ticks\": \"\"}}, \"type\": \"scatterpolar\"}], \"scatterpolargl\": [{\"marker\": {\"colorbar\": {\"outlinewidth\": 0, \"ticks\": \"\"}}, \"type\": \"scatterpolargl\"}], \"scatterternary\": [{\"marker\": {\"colorbar\": {\"outlinewidth\": 0, \"ticks\": \"\"}}, \"type\": \"scatterternary\"}], \"surface\": [{\"colorbar\": {\"outlinewidth\": 0, \"ticks\": \"\"}, \"colorscale\": [[0.0, \"#0d0887\"], [0.1111111111111111, \"#46039f\"], [0.2222222222222222, \"#7201a8\"], [0.3333333333333333, \"#9c179e\"], [0.4444444444444444, \"#bd3786\"], [0.5555555555555556, \"#d8576b\"], [0.6666666666666666, \"#ed7953\"], [0.7777777777777778, \"#fb9f3a\"], [0.8888888888888888, \"#fdca26\"], [1.0, \"#f0f921\"]], \"type\": \"surface\"}], \"table\": [{\"cells\": {\"fill\": {\"color\": \"#EBF0F8\"}, \"line\": {\"color\": \"white\"}}, \"header\": {\"fill\": {\"color\": \"#C8D4E3\"}, \"line\": {\"color\": \"white\"}}, \"type\": \"table\"}]}, \"layout\": {\"annotationdefaults\": {\"arrowcolor\": \"#2a3f5f\", \"arrowhead\": 0, \"arrowwidth\": 1}, \"coloraxis\": {\"colorbar\": {\"outlinewidth\": 0, \"ticks\": \"\"}}, \"colorscale\": {\"diverging\": [[0, \"#8e0152\"], [0.1, \"#c51b7d\"], [0.2, \"#de77ae\"], [0.3, \"#f1b6da\"], [0.4, \"#fde0ef\"], [0.5, \"#f7f7f7\"], [0.6, \"#e6f5d0\"], [0.7, \"#b8e186\"], [0.8, \"#7fbc41\"], [0.9, \"#4d9221\"], [1, \"#276419\"]], \"sequential\": [[0.0, \"#0d0887\"], [0.1111111111111111, \"#46039f\"], [0.2222222222222222, \"#7201a8\"], [0.3333333333333333, \"#9c179e\"], [0.4444444444444444, \"#bd3786\"], [0.5555555555555556, \"#d8576b\"], [0.6666666666666666, \"#ed7953\"], [0.7777777777777778, \"#fb9f3a\"], [0.8888888888888888, \"#fdca26\"], [1.0, \"#f0f921\"]], \"sequentialminus\": [[0.0, \"#0d0887\"], [0.1111111111111111, \"#46039f\"], [0.2222222222222222, \"#7201a8\"], [0.3333333333333333, \"#9c179e\"], [0.4444444444444444, \"#bd3786\"], [0.5555555555555556, \"#d8576b\"], [0.6666666666666666, \"#ed7953\"], [0.7777777777777778, \"#fb9f3a\"], [0.8888888888888888, \"#fdca26\"], [1.0, \"#f0f921\"]]}, \"colorway\": [\"#636efa\", \"#EF553B\", \"#00cc96\", \"#ab63fa\", \"#FFA15A\", \"#19d3f3\", \"#FF6692\", \"#B6E880\", \"#FF97FF\", \"#FECB52\"], \"font\": {\"color\": \"#2a3f5f\"}, \"geo\": {\"bgcolor\": \"white\", \"lakecolor\": \"white\", \"landcolor\": \"#E5ECF6\", \"showlakes\": true, \"showland\": true, \"subunitcolor\": \"white\"}, \"hoverlabel\": {\"align\": \"left\"}, \"hovermode\": \"closest\", \"mapbox\": {\"style\": \"light\"}, \"paper_bgcolor\": \"white\", \"plot_bgcolor\": \"#E5ECF6\", \"polar\": {\"angularaxis\": {\"gridcolor\": \"white\", \"linecolor\": \"white\", \"ticks\": \"\"}, \"bgcolor\": \"#E5ECF6\", \"radialaxis\": {\"gridcolor\": \"white\", \"linecolor\": \"white\", \"ticks\": \"\"}}, \"scene\": {\"xaxis\": {\"backgroundcolor\": \"#E5ECF6\", \"gridcolor\": \"white\", \"gridwidth\": 2, \"linecolor\": \"white\", \"showbackground\": true, \"ticks\": \"\", \"zerolinecolor\": \"white\"}, \"yaxis\": {\"backgroundcolor\": \"#E5ECF6\", \"gridcolor\": \"white\", \"gridwidth\": 2, \"linecolor\": \"white\", \"showbackground\": true, \"ticks\": \"\", \"zerolinecolor\": \"white\"}, \"zaxis\": {\"backgroundcolor\": \"#E5ECF6\", \"gridcolor\": \"white\", \"gridwidth\": 2, \"linecolor\": \"white\", \"showbackground\": true, \"ticks\": \"\", \"zerolinecolor\": \"white\"}}, \"shapedefaults\": {\"line\": {\"color\": \"#2a3f5f\"}}, \"ternary\": {\"aaxis\": {\"gridcolor\": \"white\", \"linecolor\": \"white\", \"ticks\": \"\"}, \"baxis\": {\"gridcolor\": \"white\", \"linecolor\": \"white\", \"ticks\": \"\"}, \"bgcolor\": \"#E5ECF6\", \"caxis\": {\"gridcolor\": \"white\", \"linecolor\": \"white\", \"ticks\": \"\"}}, \"title\": {\"x\": 0.05}, \"xaxis\": {\"automargin\": true, \"gridcolor\": \"white\", \"linecolor\": \"white\", \"ticks\": \"\", \"title\": {\"standoff\": 15}, \"zerolinecolor\": \"white\", \"zerolinewidth\": 2}, \"yaxis\": {\"automargin\": true, \"gridcolor\": \"white\", \"linecolor\": \"white\", \"ticks\": \"\", \"title\": {\"standoff\": 15}, \"zerolinecolor\": \"white\", \"zerolinewidth\": 2}}}, \"title\": {\"font\": {\"color\": \"#4D5663\"}}, \"xaxis\": {\"gridcolor\": \"#E1E5ED\", \"showgrid\": true, \"tickfont\": {\"color\": \"#4D5663\"}, \"title\": {\"font\": {\"color\": \"#4D5663\"}, \"text\": \"\"}, \"zerolinecolor\": \"#E1E5ED\"}, \"yaxis\": {\"gridcolor\": \"#E1E5ED\", \"showgrid\": true, \"tickfont\": {\"color\": \"#4D5663\"}, \"title\": {\"font\": {\"color\": \"#4D5663\"}, \"text\": \"\"}, \"zerolinecolor\": \"#E1E5ED\"}},\n",
       "                        {\"showLink\": true, \"linkText\": \"Export to plot.ly\", \"plotlyServerURL\": \"https://plot.ly\", \"responsive\": true}\n",
       "                    ).then(function(){\n",
       "                            \n",
       "var gd = document.getElementById('010d3b59-1be3-4b45-8a93-312e62b2de2b');\n",
       "var x = new MutationObserver(function (mutations, observer) {{\n",
       "        var display = window.getComputedStyle(gd).display;\n",
       "        if (!display || display === 'none') {{\n",
       "            console.log([gd, 'removed!']);\n",
       "            Plotly.purge(gd);\n",
       "            observer.disconnect();\n",
       "        }}\n",
       "}});\n",
       "\n",
       "// Listen for the removal of the full notebook cells\n",
       "var notebookContainer = gd.closest('#notebook-container');\n",
       "if (notebookContainer) {{\n",
       "    x.observe(notebookContainer, {childList: true});\n",
       "}}\n",
       "\n",
       "// Listen for the clearing of the current output cell\n",
       "var outputEl = gd.closest('.output');\n",
       "if (outputEl) {{\n",
       "    x.observe(outputEl, {childList: true});\n",
       "}}\n",
       "\n",
       "                        })\n",
       "                };\n",
       "                });\n",
       "            </script>\n",
       "        </div>"
      ]
     },
     "metadata": {},
     "output_type": "display_data"
    }
   ],
   "source": [
    "df3.iplot(kind = \"surface\", colorscale = \"rdylbu\");"
   ]
  },
  {
   "cell_type": "markdown",
   "metadata": {},
   "source": [
    "## Histogram"
   ]
  },
  {
   "cell_type": "code",
   "execution_count": 34,
   "metadata": {},
   "outputs": [
    {
     "data": {
      "application/vnd.plotly.v1+json": {
       "config": {
        "linkText": "Export to plot.ly",
        "plotlyServerURL": "https://plot.ly",
        "showLink": true
       },
       "data": [
        {
         "histfunc": "count",
         "histnorm": "",
         "marker": {
          "color": "rgba(255, 153, 51, 1.0)",
          "line": {
           "color": "#4D5663",
           "width": 1.3
          }
         },
         "name": "a",
         "nbinsx": 50,
         "opacity": 0.8,
         "orientation": "v",
         "type": "histogram",
         "x": [
          0.292974139252864,
          -1.1862472468463803,
          -0.8501922428907918,
          0.9111150495629899,
          1.2365734664393244,
          -0.30040599005249846,
          1.2105765633744126,
          0.14329654371470976,
          0.4816690203269885,
          -0.7188786553096995,
          0.29107117981780284,
          -0.3401912914972917,
          -0.18610532625705425,
          1.8934182437838603,
          0.9927287463728656,
          1.168165311884389,
          1.2111889751775067,
          0.19395059226497616,
          0.28144601088500154,
          0.2929306980738659,
          1.1101162910982343,
          -0.20882608286556142,
          -0.14537398933595616,
          -0.6074017425049224,
          -0.45238438838097095,
          -0.36610343319996314,
          0.26477062314585953,
          0.14515091806317906,
          0.7803251454516109,
          0.608549950958882,
          -0.4026053747294526,
          -1.2321271511876488,
          0.29910009937757676,
          -0.18539593485926428,
          -1.28945619590427,
          0.39696306959178446,
          0.694370207176139,
          -0.2679532057619806,
          0.6478464445330818,
          -0.4988282383343721,
          -1.6079546032861718,
          1.7507638766258602,
          0.005242884837819096,
          0.25125359691177257,
          -0.23229482042008281,
          -0.9157632735360842,
          0.19640311609892663,
          -1.3062721849837655,
          0.4339583497922634,
          -1.229079058345127,
          -1.115240077344917,
          0.12379795927408499,
          2.6290620243327067,
          0.3998538531848044,
          0.45893027219882326,
          -0.7086162503195204,
          0.057001724806481205,
          0.029529428385691656,
          -0.1534944558163816,
          0.8870271703734542,
          -1.8295512441698598,
          0.9303258214684024,
          -1.3794435848247562,
          -0.07751135502855382,
          0.22194716382883783,
          -0.9513732804851377,
          0.6170642625680876,
          1.174827368853181,
          -1.7776866913199962,
          -1.690521991664963,
          0.3160827137707872,
          0.8005986394539232,
          -1.6980350094685637,
          -1.2304179781414055,
          -0.901279065228436,
          0.22598156079956105,
          0.3232752239225913,
          0.29907964573518026,
          -0.16176374150177283,
          0.6745298559739035,
          -1.4039829245790993,
          -0.7949168861300312,
          0.8842730651829632,
          -0.7882189620982454,
          -0.7676887445502899,
          -0.6083321443906384,
          1.6090599247918695,
          -0.5152246440526308,
          -0.3464353213483669,
          -0.28668138720437186,
          0.8387664451015886,
          0.7879805141342737,
          1.0128081521957695,
          1.4073545183039107,
          -0.838922259663184,
          -1.559188829826368,
          -0.10949875615111043,
          0.5570685284421174,
          -0.5377441150506823,
          0.7886033547968465
         ]
        }
       ],
       "layout": {
        "barmode": "overlay",
        "legend": {
         "bgcolor": "#F5F6F9",
         "font": {
          "color": "#4D5663"
         }
        },
        "paper_bgcolor": "#F5F6F9",
        "plot_bgcolor": "#F5F6F9",
        "template": {
         "data": {
          "bar": [
           {
            "error_x": {
             "color": "#2a3f5f"
            },
            "error_y": {
             "color": "#2a3f5f"
            },
            "marker": {
             "line": {
              "color": "#E5ECF6",
              "width": 0.5
             }
            },
            "type": "bar"
           }
          ],
          "barpolar": [
           {
            "marker": {
             "line": {
              "color": "#E5ECF6",
              "width": 0.5
             }
            },
            "type": "barpolar"
           }
          ],
          "carpet": [
           {
            "aaxis": {
             "endlinecolor": "#2a3f5f",
             "gridcolor": "white",
             "linecolor": "white",
             "minorgridcolor": "white",
             "startlinecolor": "#2a3f5f"
            },
            "baxis": {
             "endlinecolor": "#2a3f5f",
             "gridcolor": "white",
             "linecolor": "white",
             "minorgridcolor": "white",
             "startlinecolor": "#2a3f5f"
            },
            "type": "carpet"
           }
          ],
          "choropleth": [
           {
            "colorbar": {
             "outlinewidth": 0,
             "ticks": ""
            },
            "type": "choropleth"
           }
          ],
          "contour": [
           {
            "colorbar": {
             "outlinewidth": 0,
             "ticks": ""
            },
            "colorscale": [
             [
              0,
              "#0d0887"
             ],
             [
              0.1111111111111111,
              "#46039f"
             ],
             [
              0.2222222222222222,
              "#7201a8"
             ],
             [
              0.3333333333333333,
              "#9c179e"
             ],
             [
              0.4444444444444444,
              "#bd3786"
             ],
             [
              0.5555555555555556,
              "#d8576b"
             ],
             [
              0.6666666666666666,
              "#ed7953"
             ],
             [
              0.7777777777777778,
              "#fb9f3a"
             ],
             [
              0.8888888888888888,
              "#fdca26"
             ],
             [
              1,
              "#f0f921"
             ]
            ],
            "type": "contour"
           }
          ],
          "contourcarpet": [
           {
            "colorbar": {
             "outlinewidth": 0,
             "ticks": ""
            },
            "type": "contourcarpet"
           }
          ],
          "heatmap": [
           {
            "colorbar": {
             "outlinewidth": 0,
             "ticks": ""
            },
            "colorscale": [
             [
              0,
              "#0d0887"
             ],
             [
              0.1111111111111111,
              "#46039f"
             ],
             [
              0.2222222222222222,
              "#7201a8"
             ],
             [
              0.3333333333333333,
              "#9c179e"
             ],
             [
              0.4444444444444444,
              "#bd3786"
             ],
             [
              0.5555555555555556,
              "#d8576b"
             ],
             [
              0.6666666666666666,
              "#ed7953"
             ],
             [
              0.7777777777777778,
              "#fb9f3a"
             ],
             [
              0.8888888888888888,
              "#fdca26"
             ],
             [
              1,
              "#f0f921"
             ]
            ],
            "type": "heatmap"
           }
          ],
          "heatmapgl": [
           {
            "colorbar": {
             "outlinewidth": 0,
             "ticks": ""
            },
            "colorscale": [
             [
              0,
              "#0d0887"
             ],
             [
              0.1111111111111111,
              "#46039f"
             ],
             [
              0.2222222222222222,
              "#7201a8"
             ],
             [
              0.3333333333333333,
              "#9c179e"
             ],
             [
              0.4444444444444444,
              "#bd3786"
             ],
             [
              0.5555555555555556,
              "#d8576b"
             ],
             [
              0.6666666666666666,
              "#ed7953"
             ],
             [
              0.7777777777777778,
              "#fb9f3a"
             ],
             [
              0.8888888888888888,
              "#fdca26"
             ],
             [
              1,
              "#f0f921"
             ]
            ],
            "type": "heatmapgl"
           }
          ],
          "histogram": [
           {
            "marker": {
             "colorbar": {
              "outlinewidth": 0,
              "ticks": ""
             }
            },
            "type": "histogram"
           }
          ],
          "histogram2d": [
           {
            "colorbar": {
             "outlinewidth": 0,
             "ticks": ""
            },
            "colorscale": [
             [
              0,
              "#0d0887"
             ],
             [
              0.1111111111111111,
              "#46039f"
             ],
             [
              0.2222222222222222,
              "#7201a8"
             ],
             [
              0.3333333333333333,
              "#9c179e"
             ],
             [
              0.4444444444444444,
              "#bd3786"
             ],
             [
              0.5555555555555556,
              "#d8576b"
             ],
             [
              0.6666666666666666,
              "#ed7953"
             ],
             [
              0.7777777777777778,
              "#fb9f3a"
             ],
             [
              0.8888888888888888,
              "#fdca26"
             ],
             [
              1,
              "#f0f921"
             ]
            ],
            "type": "histogram2d"
           }
          ],
          "histogram2dcontour": [
           {
            "colorbar": {
             "outlinewidth": 0,
             "ticks": ""
            },
            "colorscale": [
             [
              0,
              "#0d0887"
             ],
             [
              0.1111111111111111,
              "#46039f"
             ],
             [
              0.2222222222222222,
              "#7201a8"
             ],
             [
              0.3333333333333333,
              "#9c179e"
             ],
             [
              0.4444444444444444,
              "#bd3786"
             ],
             [
              0.5555555555555556,
              "#d8576b"
             ],
             [
              0.6666666666666666,
              "#ed7953"
             ],
             [
              0.7777777777777778,
              "#fb9f3a"
             ],
             [
              0.8888888888888888,
              "#fdca26"
             ],
             [
              1,
              "#f0f921"
             ]
            ],
            "type": "histogram2dcontour"
           }
          ],
          "mesh3d": [
           {
            "colorbar": {
             "outlinewidth": 0,
             "ticks": ""
            },
            "type": "mesh3d"
           }
          ],
          "parcoords": [
           {
            "line": {
             "colorbar": {
              "outlinewidth": 0,
              "ticks": ""
             }
            },
            "type": "parcoords"
           }
          ],
          "pie": [
           {
            "automargin": true,
            "type": "pie"
           }
          ],
          "scatter": [
           {
            "marker": {
             "colorbar": {
              "outlinewidth": 0,
              "ticks": ""
             }
            },
            "type": "scatter"
           }
          ],
          "scatter3d": [
           {
            "line": {
             "colorbar": {
              "outlinewidth": 0,
              "ticks": ""
             }
            },
            "marker": {
             "colorbar": {
              "outlinewidth": 0,
              "ticks": ""
             }
            },
            "type": "scatter3d"
           }
          ],
          "scattercarpet": [
           {
            "marker": {
             "colorbar": {
              "outlinewidth": 0,
              "ticks": ""
             }
            },
            "type": "scattercarpet"
           }
          ],
          "scattergeo": [
           {
            "marker": {
             "colorbar": {
              "outlinewidth": 0,
              "ticks": ""
             }
            },
            "type": "scattergeo"
           }
          ],
          "scattergl": [
           {
            "marker": {
             "colorbar": {
              "outlinewidth": 0,
              "ticks": ""
             }
            },
            "type": "scattergl"
           }
          ],
          "scattermapbox": [
           {
            "marker": {
             "colorbar": {
              "outlinewidth": 0,
              "ticks": ""
             }
            },
            "type": "scattermapbox"
           }
          ],
          "scatterpolar": [
           {
            "marker": {
             "colorbar": {
              "outlinewidth": 0,
              "ticks": ""
             }
            },
            "type": "scatterpolar"
           }
          ],
          "scatterpolargl": [
           {
            "marker": {
             "colorbar": {
              "outlinewidth": 0,
              "ticks": ""
             }
            },
            "type": "scatterpolargl"
           }
          ],
          "scatterternary": [
           {
            "marker": {
             "colorbar": {
              "outlinewidth": 0,
              "ticks": ""
             }
            },
            "type": "scatterternary"
           }
          ],
          "surface": [
           {
            "colorbar": {
             "outlinewidth": 0,
             "ticks": ""
            },
            "colorscale": [
             [
              0,
              "#0d0887"
             ],
             [
              0.1111111111111111,
              "#46039f"
             ],
             [
              0.2222222222222222,
              "#7201a8"
             ],
             [
              0.3333333333333333,
              "#9c179e"
             ],
             [
              0.4444444444444444,
              "#bd3786"
             ],
             [
              0.5555555555555556,
              "#d8576b"
             ],
             [
              0.6666666666666666,
              "#ed7953"
             ],
             [
              0.7777777777777778,
              "#fb9f3a"
             ],
             [
              0.8888888888888888,
              "#fdca26"
             ],
             [
              1,
              "#f0f921"
             ]
            ],
            "type": "surface"
           }
          ],
          "table": [
           {
            "cells": {
             "fill": {
              "color": "#EBF0F8"
             },
             "line": {
              "color": "white"
             }
            },
            "header": {
             "fill": {
              "color": "#C8D4E3"
             },
             "line": {
              "color": "white"
             }
            },
            "type": "table"
           }
          ]
         },
         "layout": {
          "annotationdefaults": {
           "arrowcolor": "#2a3f5f",
           "arrowhead": 0,
           "arrowwidth": 1
          },
          "coloraxis": {
           "colorbar": {
            "outlinewidth": 0,
            "ticks": ""
           }
          },
          "colorscale": {
           "diverging": [
            [
             0,
             "#8e0152"
            ],
            [
             0.1,
             "#c51b7d"
            ],
            [
             0.2,
             "#de77ae"
            ],
            [
             0.3,
             "#f1b6da"
            ],
            [
             0.4,
             "#fde0ef"
            ],
            [
             0.5,
             "#f7f7f7"
            ],
            [
             0.6,
             "#e6f5d0"
            ],
            [
             0.7,
             "#b8e186"
            ],
            [
             0.8,
             "#7fbc41"
            ],
            [
             0.9,
             "#4d9221"
            ],
            [
             1,
             "#276419"
            ]
           ],
           "sequential": [
            [
             0,
             "#0d0887"
            ],
            [
             0.1111111111111111,
             "#46039f"
            ],
            [
             0.2222222222222222,
             "#7201a8"
            ],
            [
             0.3333333333333333,
             "#9c179e"
            ],
            [
             0.4444444444444444,
             "#bd3786"
            ],
            [
             0.5555555555555556,
             "#d8576b"
            ],
            [
             0.6666666666666666,
             "#ed7953"
            ],
            [
             0.7777777777777778,
             "#fb9f3a"
            ],
            [
             0.8888888888888888,
             "#fdca26"
            ],
            [
             1,
             "#f0f921"
            ]
           ],
           "sequentialminus": [
            [
             0,
             "#0d0887"
            ],
            [
             0.1111111111111111,
             "#46039f"
            ],
            [
             0.2222222222222222,
             "#7201a8"
            ],
            [
             0.3333333333333333,
             "#9c179e"
            ],
            [
             0.4444444444444444,
             "#bd3786"
            ],
            [
             0.5555555555555556,
             "#d8576b"
            ],
            [
             0.6666666666666666,
             "#ed7953"
            ],
            [
             0.7777777777777778,
             "#fb9f3a"
            ],
            [
             0.8888888888888888,
             "#fdca26"
            ],
            [
             1,
             "#f0f921"
            ]
           ]
          },
          "colorway": [
           "#636efa",
           "#EF553B",
           "#00cc96",
           "#ab63fa",
           "#FFA15A",
           "#19d3f3",
           "#FF6692",
           "#B6E880",
           "#FF97FF",
           "#FECB52"
          ],
          "font": {
           "color": "#2a3f5f"
          },
          "geo": {
           "bgcolor": "white",
           "lakecolor": "white",
           "landcolor": "#E5ECF6",
           "showlakes": true,
           "showland": true,
           "subunitcolor": "white"
          },
          "hoverlabel": {
           "align": "left"
          },
          "hovermode": "closest",
          "mapbox": {
           "style": "light"
          },
          "paper_bgcolor": "white",
          "plot_bgcolor": "#E5ECF6",
          "polar": {
           "angularaxis": {
            "gridcolor": "white",
            "linecolor": "white",
            "ticks": ""
           },
           "bgcolor": "#E5ECF6",
           "radialaxis": {
            "gridcolor": "white",
            "linecolor": "white",
            "ticks": ""
           }
          },
          "scene": {
           "xaxis": {
            "backgroundcolor": "#E5ECF6",
            "gridcolor": "white",
            "gridwidth": 2,
            "linecolor": "white",
            "showbackground": true,
            "ticks": "",
            "zerolinecolor": "white"
           },
           "yaxis": {
            "backgroundcolor": "#E5ECF6",
            "gridcolor": "white",
            "gridwidth": 2,
            "linecolor": "white",
            "showbackground": true,
            "ticks": "",
            "zerolinecolor": "white"
           },
           "zaxis": {
            "backgroundcolor": "#E5ECF6",
            "gridcolor": "white",
            "gridwidth": 2,
            "linecolor": "white",
            "showbackground": true,
            "ticks": "",
            "zerolinecolor": "white"
           }
          },
          "shapedefaults": {
           "line": {
            "color": "#2a3f5f"
           }
          },
          "ternary": {
           "aaxis": {
            "gridcolor": "white",
            "linecolor": "white",
            "ticks": ""
           },
           "baxis": {
            "gridcolor": "white",
            "linecolor": "white",
            "ticks": ""
           },
           "bgcolor": "#E5ECF6",
           "caxis": {
            "gridcolor": "white",
            "linecolor": "white",
            "ticks": ""
           }
          },
          "title": {
           "x": 0.05
          },
          "xaxis": {
           "automargin": true,
           "gridcolor": "white",
           "linecolor": "white",
           "ticks": "",
           "title": {
            "standoff": 15
           },
           "zerolinecolor": "white",
           "zerolinewidth": 2
          },
          "yaxis": {
           "automargin": true,
           "gridcolor": "white",
           "linecolor": "white",
           "ticks": "",
           "title": {
            "standoff": 15
           },
           "zerolinecolor": "white",
           "zerolinewidth": 2
          }
         }
        },
        "title": {
         "font": {
          "color": "#4D5663"
         }
        },
        "xaxis": {
         "gridcolor": "#E1E5ED",
         "showgrid": true,
         "tickfont": {
          "color": "#4D5663"
         },
         "title": {
          "font": {
           "color": "#4D5663"
          },
          "text": ""
         },
         "zerolinecolor": "#E1E5ED"
        },
        "yaxis": {
         "gridcolor": "#E1E5ED",
         "showgrid": true,
         "tickfont": {
          "color": "#4D5663"
         },
         "title": {
          "font": {
           "color": "#4D5663"
          },
          "text": ""
         },
         "zerolinecolor": "#E1E5ED"
        }
       }
      },
      "text/html": [
       "<div>\n",
       "        \n",
       "        \n",
       "            <div id=\"987733c2-db6b-4f38-b71d-0122cdac348b\" class=\"plotly-graph-div\" style=\"height:525px; width:100%;\"></div>\n",
       "            <script type=\"text/javascript\">\n",
       "                require([\"plotly\"], function(Plotly) {\n",
       "                    window.PLOTLYENV=window.PLOTLYENV || {};\n",
       "                    window.PLOTLYENV.BASE_URL='https://plot.ly';\n",
       "                    \n",
       "                if (document.getElementById(\"987733c2-db6b-4f38-b71d-0122cdac348b\")) {\n",
       "                    Plotly.newPlot(\n",
       "                        '987733c2-db6b-4f38-b71d-0122cdac348b',\n",
       "                        [{\"histfunc\": \"count\", \"histnorm\": \"\", \"marker\": {\"color\": \"rgba(255, 153, 51, 1.0)\", \"line\": {\"color\": \"#4D5663\", \"width\": 1.3}}, \"name\": \"a\", \"nbinsx\": 50, \"opacity\": 0.8, \"orientation\": \"v\", \"type\": \"histogram\", \"x\": [0.292974139252864, -1.1862472468463803, -0.8501922428907918, 0.9111150495629899, 1.2365734664393244, -0.30040599005249846, 1.2105765633744126, 0.14329654371470976, 0.4816690203269885, -0.7188786553096995, 0.29107117981780284, -0.3401912914972917, -0.18610532625705425, 1.8934182437838603, 0.9927287463728656, 1.168165311884389, 1.2111889751775067, 0.19395059226497616, 0.28144601088500154, 0.2929306980738659, 1.1101162910982343, -0.20882608286556142, -0.14537398933595616, -0.6074017425049224, -0.45238438838097095, -0.36610343319996314, 0.26477062314585953, 0.14515091806317906, 0.7803251454516109, 0.608549950958882, -0.4026053747294526, -1.2321271511876488, 0.29910009937757676, -0.18539593485926428, -1.28945619590427, 0.39696306959178446, 0.694370207176139, -0.2679532057619806, 0.6478464445330818, -0.4988282383343721, -1.6079546032861718, 1.7507638766258602, 0.005242884837819096, 0.25125359691177257, -0.23229482042008281, -0.9157632735360842, 0.19640311609892663, -1.3062721849837655, 0.4339583497922634, -1.229079058345127, -1.115240077344917, 0.12379795927408499, 2.6290620243327067, 0.3998538531848044, 0.45893027219882326, -0.7086162503195204, 0.057001724806481205, 0.029529428385691656, -0.1534944558163816, 0.8870271703734542, -1.8295512441698598, 0.9303258214684024, -1.3794435848247562, -0.07751135502855382, 0.22194716382883783, -0.9513732804851377, 0.6170642625680876, 1.174827368853181, -1.7776866913199962, -1.690521991664963, 0.3160827137707872, 0.8005986394539232, -1.6980350094685637, -1.2304179781414055, -0.901279065228436, 0.22598156079956105, 0.3232752239225913, 0.29907964573518026, -0.16176374150177283, 0.6745298559739035, -1.4039829245790993, -0.7949168861300312, 0.8842730651829632, -0.7882189620982454, -0.7676887445502899, -0.6083321443906384, 1.6090599247918695, -0.5152246440526308, -0.3464353213483669, -0.28668138720437186, 0.8387664451015886, 0.7879805141342737, 1.0128081521957695, 1.4073545183039107, -0.838922259663184, -1.559188829826368, -0.10949875615111043, 0.5570685284421174, -0.5377441150506823, 0.7886033547968465]}],\n",
       "                        {\"barmode\": \"overlay\", \"legend\": {\"bgcolor\": \"#F5F6F9\", \"font\": {\"color\": \"#4D5663\"}}, \"paper_bgcolor\": \"#F5F6F9\", \"plot_bgcolor\": \"#F5F6F9\", \"template\": {\"data\": {\"bar\": [{\"error_x\": {\"color\": \"#2a3f5f\"}, \"error_y\": {\"color\": \"#2a3f5f\"}, \"marker\": {\"line\": {\"color\": \"#E5ECF6\", \"width\": 0.5}}, \"type\": \"bar\"}], \"barpolar\": [{\"marker\": {\"line\": {\"color\": \"#E5ECF6\", \"width\": 0.5}}, \"type\": \"barpolar\"}], \"carpet\": [{\"aaxis\": {\"endlinecolor\": \"#2a3f5f\", \"gridcolor\": \"white\", \"linecolor\": \"white\", \"minorgridcolor\": \"white\", \"startlinecolor\": \"#2a3f5f\"}, \"baxis\": {\"endlinecolor\": \"#2a3f5f\", \"gridcolor\": \"white\", \"linecolor\": \"white\", \"minorgridcolor\": \"white\", \"startlinecolor\": \"#2a3f5f\"}, \"type\": \"carpet\"}], \"choropleth\": [{\"colorbar\": {\"outlinewidth\": 0, \"ticks\": \"\"}, \"type\": \"choropleth\"}], \"contour\": [{\"colorbar\": {\"outlinewidth\": 0, \"ticks\": \"\"}, \"colorscale\": [[0.0, \"#0d0887\"], [0.1111111111111111, \"#46039f\"], [0.2222222222222222, \"#7201a8\"], [0.3333333333333333, \"#9c179e\"], [0.4444444444444444, \"#bd3786\"], [0.5555555555555556, \"#d8576b\"], [0.6666666666666666, \"#ed7953\"], [0.7777777777777778, \"#fb9f3a\"], [0.8888888888888888, \"#fdca26\"], [1.0, \"#f0f921\"]], \"type\": \"contour\"}], \"contourcarpet\": [{\"colorbar\": {\"outlinewidth\": 0, \"ticks\": \"\"}, \"type\": \"contourcarpet\"}], \"heatmap\": [{\"colorbar\": {\"outlinewidth\": 0, \"ticks\": \"\"}, \"colorscale\": [[0.0, \"#0d0887\"], [0.1111111111111111, \"#46039f\"], [0.2222222222222222, \"#7201a8\"], [0.3333333333333333, \"#9c179e\"], [0.4444444444444444, \"#bd3786\"], [0.5555555555555556, \"#d8576b\"], [0.6666666666666666, \"#ed7953\"], [0.7777777777777778, \"#fb9f3a\"], [0.8888888888888888, \"#fdca26\"], [1.0, \"#f0f921\"]], \"type\": \"heatmap\"}], \"heatmapgl\": [{\"colorbar\": {\"outlinewidth\": 0, \"ticks\": \"\"}, \"colorscale\": [[0.0, \"#0d0887\"], [0.1111111111111111, \"#46039f\"], [0.2222222222222222, \"#7201a8\"], [0.3333333333333333, \"#9c179e\"], [0.4444444444444444, \"#bd3786\"], [0.5555555555555556, \"#d8576b\"], [0.6666666666666666, \"#ed7953\"], [0.7777777777777778, \"#fb9f3a\"], [0.8888888888888888, \"#fdca26\"], [1.0, \"#f0f921\"]], \"type\": \"heatmapgl\"}], \"histogram\": [{\"marker\": {\"colorbar\": {\"outlinewidth\": 0, \"ticks\": \"\"}}, \"type\": \"histogram\"}], \"histogram2d\": [{\"colorbar\": {\"outlinewidth\": 0, \"ticks\": \"\"}, \"colorscale\": [[0.0, \"#0d0887\"], [0.1111111111111111, \"#46039f\"], [0.2222222222222222, \"#7201a8\"], [0.3333333333333333, \"#9c179e\"], [0.4444444444444444, \"#bd3786\"], [0.5555555555555556, \"#d8576b\"], [0.6666666666666666, \"#ed7953\"], [0.7777777777777778, \"#fb9f3a\"], [0.8888888888888888, \"#fdca26\"], [1.0, \"#f0f921\"]], \"type\": \"histogram2d\"}], \"histogram2dcontour\": [{\"colorbar\": {\"outlinewidth\": 0, \"ticks\": \"\"}, \"colorscale\": [[0.0, \"#0d0887\"], [0.1111111111111111, \"#46039f\"], [0.2222222222222222, \"#7201a8\"], [0.3333333333333333, \"#9c179e\"], [0.4444444444444444, \"#bd3786\"], [0.5555555555555556, \"#d8576b\"], [0.6666666666666666, \"#ed7953\"], [0.7777777777777778, \"#fb9f3a\"], [0.8888888888888888, \"#fdca26\"], [1.0, \"#f0f921\"]], \"type\": \"histogram2dcontour\"}], \"mesh3d\": [{\"colorbar\": {\"outlinewidth\": 0, \"ticks\": \"\"}, \"type\": \"mesh3d\"}], \"parcoords\": [{\"line\": {\"colorbar\": {\"outlinewidth\": 0, \"ticks\": \"\"}}, \"type\": \"parcoords\"}], \"pie\": [{\"automargin\": true, \"type\": \"pie\"}], \"scatter\": [{\"marker\": {\"colorbar\": {\"outlinewidth\": 0, \"ticks\": \"\"}}, \"type\": \"scatter\"}], \"scatter3d\": [{\"line\": {\"colorbar\": {\"outlinewidth\": 0, \"ticks\": \"\"}}, \"marker\": {\"colorbar\": {\"outlinewidth\": 0, \"ticks\": \"\"}}, \"type\": \"scatter3d\"}], \"scattercarpet\": [{\"marker\": {\"colorbar\": {\"outlinewidth\": 0, \"ticks\": \"\"}}, \"type\": \"scattercarpet\"}], \"scattergeo\": [{\"marker\": {\"colorbar\": {\"outlinewidth\": 0, \"ticks\": \"\"}}, \"type\": \"scattergeo\"}], \"scattergl\": [{\"marker\": {\"colorbar\": {\"outlinewidth\": 0, \"ticks\": \"\"}}, \"type\": \"scattergl\"}], \"scattermapbox\": [{\"marker\": {\"colorbar\": {\"outlinewidth\": 0, \"ticks\": \"\"}}, \"type\": \"scattermapbox\"}], \"scatterpolar\": [{\"marker\": {\"colorbar\": {\"outlinewidth\": 0, \"ticks\": \"\"}}, \"type\": \"scatterpolar\"}], \"scatterpolargl\": [{\"marker\": {\"colorbar\": {\"outlinewidth\": 0, \"ticks\": \"\"}}, \"type\": \"scatterpolargl\"}], \"scatterternary\": [{\"marker\": {\"colorbar\": {\"outlinewidth\": 0, \"ticks\": \"\"}}, \"type\": \"scatterternary\"}], \"surface\": [{\"colorbar\": {\"outlinewidth\": 0, \"ticks\": \"\"}, \"colorscale\": [[0.0, \"#0d0887\"], [0.1111111111111111, \"#46039f\"], [0.2222222222222222, \"#7201a8\"], [0.3333333333333333, \"#9c179e\"], [0.4444444444444444, \"#bd3786\"], [0.5555555555555556, \"#d8576b\"], [0.6666666666666666, \"#ed7953\"], [0.7777777777777778, \"#fb9f3a\"], [0.8888888888888888, \"#fdca26\"], [1.0, \"#f0f921\"]], \"type\": \"surface\"}], \"table\": [{\"cells\": {\"fill\": {\"color\": \"#EBF0F8\"}, \"line\": {\"color\": \"white\"}}, \"header\": {\"fill\": {\"color\": \"#C8D4E3\"}, \"line\": {\"color\": \"white\"}}, \"type\": \"table\"}]}, \"layout\": {\"annotationdefaults\": {\"arrowcolor\": \"#2a3f5f\", \"arrowhead\": 0, \"arrowwidth\": 1}, \"coloraxis\": {\"colorbar\": {\"outlinewidth\": 0, \"ticks\": \"\"}}, \"colorscale\": {\"diverging\": [[0, \"#8e0152\"], [0.1, \"#c51b7d\"], [0.2, \"#de77ae\"], [0.3, \"#f1b6da\"], [0.4, \"#fde0ef\"], [0.5, \"#f7f7f7\"], [0.6, \"#e6f5d0\"], [0.7, \"#b8e186\"], [0.8, \"#7fbc41\"], [0.9, \"#4d9221\"], [1, \"#276419\"]], \"sequential\": [[0.0, \"#0d0887\"], [0.1111111111111111, \"#46039f\"], [0.2222222222222222, \"#7201a8\"], [0.3333333333333333, \"#9c179e\"], [0.4444444444444444, \"#bd3786\"], [0.5555555555555556, \"#d8576b\"], [0.6666666666666666, \"#ed7953\"], [0.7777777777777778, \"#fb9f3a\"], [0.8888888888888888, \"#fdca26\"], [1.0, \"#f0f921\"]], \"sequentialminus\": [[0.0, \"#0d0887\"], [0.1111111111111111, \"#46039f\"], [0.2222222222222222, \"#7201a8\"], [0.3333333333333333, \"#9c179e\"], [0.4444444444444444, \"#bd3786\"], [0.5555555555555556, \"#d8576b\"], [0.6666666666666666, \"#ed7953\"], [0.7777777777777778, \"#fb9f3a\"], [0.8888888888888888, \"#fdca26\"], [1.0, \"#f0f921\"]]}, \"colorway\": [\"#636efa\", \"#EF553B\", \"#00cc96\", \"#ab63fa\", \"#FFA15A\", \"#19d3f3\", \"#FF6692\", \"#B6E880\", \"#FF97FF\", \"#FECB52\"], \"font\": {\"color\": \"#2a3f5f\"}, \"geo\": {\"bgcolor\": \"white\", \"lakecolor\": \"white\", \"landcolor\": \"#E5ECF6\", \"showlakes\": true, \"showland\": true, \"subunitcolor\": \"white\"}, \"hoverlabel\": {\"align\": \"left\"}, \"hovermode\": \"closest\", \"mapbox\": {\"style\": \"light\"}, \"paper_bgcolor\": \"white\", \"plot_bgcolor\": \"#E5ECF6\", \"polar\": {\"angularaxis\": {\"gridcolor\": \"white\", \"linecolor\": \"white\", \"ticks\": \"\"}, \"bgcolor\": \"#E5ECF6\", \"radialaxis\": {\"gridcolor\": \"white\", \"linecolor\": \"white\", \"ticks\": \"\"}}, \"scene\": {\"xaxis\": {\"backgroundcolor\": \"#E5ECF6\", \"gridcolor\": \"white\", \"gridwidth\": 2, \"linecolor\": \"white\", \"showbackground\": true, \"ticks\": \"\", \"zerolinecolor\": \"white\"}, \"yaxis\": {\"backgroundcolor\": \"#E5ECF6\", \"gridcolor\": \"white\", \"gridwidth\": 2, \"linecolor\": \"white\", \"showbackground\": true, \"ticks\": \"\", \"zerolinecolor\": \"white\"}, \"zaxis\": {\"backgroundcolor\": \"#E5ECF6\", \"gridcolor\": \"white\", \"gridwidth\": 2, \"linecolor\": \"white\", \"showbackground\": true, \"ticks\": \"\", \"zerolinecolor\": \"white\"}}, \"shapedefaults\": {\"line\": {\"color\": \"#2a3f5f\"}}, \"ternary\": {\"aaxis\": {\"gridcolor\": \"white\", \"linecolor\": \"white\", \"ticks\": \"\"}, \"baxis\": {\"gridcolor\": \"white\", \"linecolor\": \"white\", \"ticks\": \"\"}, \"bgcolor\": \"#E5ECF6\", \"caxis\": {\"gridcolor\": \"white\", \"linecolor\": \"white\", \"ticks\": \"\"}}, \"title\": {\"x\": 0.05}, \"xaxis\": {\"automargin\": true, \"gridcolor\": \"white\", \"linecolor\": \"white\", \"ticks\": \"\", \"title\": {\"standoff\": 15}, \"zerolinecolor\": \"white\", \"zerolinewidth\": 2}, \"yaxis\": {\"automargin\": true, \"gridcolor\": \"white\", \"linecolor\": \"white\", \"ticks\": \"\", \"title\": {\"standoff\": 15}, \"zerolinecolor\": \"white\", \"zerolinewidth\": 2}}}, \"title\": {\"font\": {\"color\": \"#4D5663\"}}, \"xaxis\": {\"gridcolor\": \"#E1E5ED\", \"showgrid\": true, \"tickfont\": {\"color\": \"#4D5663\"}, \"title\": {\"font\": {\"color\": \"#4D5663\"}, \"text\": \"\"}, \"zerolinecolor\": \"#E1E5ED\"}, \"yaxis\": {\"gridcolor\": \"#E1E5ED\", \"showgrid\": true, \"tickfont\": {\"color\": \"#4D5663\"}, \"title\": {\"font\": {\"color\": \"#4D5663\"}, \"text\": \"\"}, \"zerolinecolor\": \"#E1E5ED\"}},\n",
       "                        {\"showLink\": true, \"linkText\": \"Export to plot.ly\", \"plotlyServerURL\": \"https://plot.ly\", \"responsive\": true}\n",
       "                    ).then(function(){\n",
       "                            \n",
       "var gd = document.getElementById('987733c2-db6b-4f38-b71d-0122cdac348b');\n",
       "var x = new MutationObserver(function (mutations, observer) {{\n",
       "        var display = window.getComputedStyle(gd).display;\n",
       "        if (!display || display === 'none') {{\n",
       "            console.log([gd, 'removed!']);\n",
       "            Plotly.purge(gd);\n",
       "            observer.disconnect();\n",
       "        }}\n",
       "}});\n",
       "\n",
       "// Listen for the removal of the full notebook cells\n",
       "var notebookContainer = gd.closest('#notebook-container');\n",
       "if (notebookContainer) {{\n",
       "    x.observe(notebookContainer, {childList: true});\n",
       "}}\n",
       "\n",
       "// Listen for the clearing of the current output cell\n",
       "var outputEl = gd.closest('.output');\n",
       "if (outputEl) {{\n",
       "    x.observe(outputEl, {childList: true});\n",
       "}}\n",
       "\n",
       "                        })\n",
       "                };\n",
       "                });\n",
       "            </script>\n",
       "        </div>"
      ]
     },
     "metadata": {},
     "output_type": "display_data"
    }
   ],
   "source": [
    "df[\"a\"].iplot(kind = \"hist\", bins = 50);"
   ]
  },
  {
   "cell_type": "code",
   "execution_count": 36,
   "metadata": {},
   "outputs": [
    {
     "data": {
      "application/vnd.plotly.v1+json": {
       "config": {
        "linkText": "Export to plot.ly",
        "plotlyServerURL": "https://plot.ly",
        "showLink": true
       },
       "data": [
        {
         "histfunc": "count",
         "histnorm": "",
         "marker": {
          "color": "rgba(255, 153, 51, 1.0)",
          "line": {
           "color": "#4D5663",
           "width": 1.3
          }
         },
         "name": "a",
         "opacity": 0.8,
         "orientation": "v",
         "type": "histogram",
         "x": [
          0.292974139252864,
          -1.1862472468463803,
          -0.8501922428907918,
          0.9111150495629899,
          1.2365734664393244,
          -0.30040599005249846,
          1.2105765633744126,
          0.14329654371470976,
          0.4816690203269885,
          -0.7188786553096995,
          0.29107117981780284,
          -0.3401912914972917,
          -0.18610532625705425,
          1.8934182437838603,
          0.9927287463728656,
          1.168165311884389,
          1.2111889751775067,
          0.19395059226497616,
          0.28144601088500154,
          0.2929306980738659,
          1.1101162910982343,
          -0.20882608286556142,
          -0.14537398933595616,
          -0.6074017425049224,
          -0.45238438838097095,
          -0.36610343319996314,
          0.26477062314585953,
          0.14515091806317906,
          0.7803251454516109,
          0.608549950958882,
          -0.4026053747294526,
          -1.2321271511876488,
          0.29910009937757676,
          -0.18539593485926428,
          -1.28945619590427,
          0.39696306959178446,
          0.694370207176139,
          -0.2679532057619806,
          0.6478464445330818,
          -0.4988282383343721,
          -1.6079546032861718,
          1.7507638766258602,
          0.005242884837819096,
          0.25125359691177257,
          -0.23229482042008281,
          -0.9157632735360842,
          0.19640311609892663,
          -1.3062721849837655,
          0.4339583497922634,
          -1.229079058345127,
          -1.115240077344917,
          0.12379795927408499,
          2.6290620243327067,
          0.3998538531848044,
          0.45893027219882326,
          -0.7086162503195204,
          0.057001724806481205,
          0.029529428385691656,
          -0.1534944558163816,
          0.8870271703734542,
          -1.8295512441698598,
          0.9303258214684024,
          -1.3794435848247562,
          -0.07751135502855382,
          0.22194716382883783,
          -0.9513732804851377,
          0.6170642625680876,
          1.174827368853181,
          -1.7776866913199962,
          -1.690521991664963,
          0.3160827137707872,
          0.8005986394539232,
          -1.6980350094685637,
          -1.2304179781414055,
          -0.901279065228436,
          0.22598156079956105,
          0.3232752239225913,
          0.29907964573518026,
          -0.16176374150177283,
          0.6745298559739035,
          -1.4039829245790993,
          -0.7949168861300312,
          0.8842730651829632,
          -0.7882189620982454,
          -0.7676887445502899,
          -0.6083321443906384,
          1.6090599247918695,
          -0.5152246440526308,
          -0.3464353213483669,
          -0.28668138720437186,
          0.8387664451015886,
          0.7879805141342737,
          1.0128081521957695,
          1.4073545183039107,
          -0.838922259663184,
          -1.559188829826368,
          -0.10949875615111043,
          0.5570685284421174,
          -0.5377441150506823,
          0.7886033547968465
         ]
        },
        {
         "histfunc": "count",
         "histnorm": "",
         "marker": {
          "color": "rgba(55, 128, 191, 1.0)",
          "line": {
           "color": "#4D5663",
           "width": 1.3
          }
         },
         "name": "b",
         "opacity": 0.8,
         "orientation": "v",
         "type": "histogram",
         "x": [
          -0.716753785541702,
          0.1466280511998309,
          -0.6006519808735739,
          -0.5415580708273,
          -1.7400320426706721,
          0.06483281643880595,
          0.9267383919456018,
          0.2754962391363442,
          -0.06963639112657052,
          0.43293104058293036,
          -0.13165251266138508,
          0.3688569256553953,
          1.101879648066124,
          1.0069678548545076,
          -1.0246405999495924,
          -0.037202033114178676,
          0.259486510387421,
          -0.05785681071930317,
          -1.4405479471178548,
          -0.8243764549033302,
          -0.1175958470954889,
          -1.1981943378901034,
          0.1487120785832584,
          1.0764514860316108,
          -0.1310759686583265,
          0.7870838978756679,
          0.09754672432005959,
          -1.4826931311691334,
          1.0793655584203048,
          0.9233239197538965,
          1.3166320867203176,
          0.18222042165689503,
          -0.06256287722059806,
          1.1043295807781548,
          -0.6150240875265599,
          0.790514023860243,
          -2.0799884828014936,
          0.5008675581779642,
          -0.6810354084403812,
          -1.2386481384626733,
          -1.2911154417873516,
          -0.5154920168362496,
          -0.4031392471329243,
          0.9983704720180332,
          -1.0160075337650878,
          1.886243651028083,
          -0.5715465786042008,
          -1.2679931356019523,
          1.6614338951907,
          -0.17792785850635345,
          1.4745507719444697,
          1.1776871716912736,
          -1.2561713012470577,
          -0.24638872835020778,
          1.4670954437869548,
          -0.189173117161535,
          -0.3527437302423633,
          -1.7117404210798368,
          0.048457522093129965,
          0.9007265389917656,
          -0.42341732249635067,
          0.0816182553248051,
          -0.21089804096281775,
          1.6556331387431482,
          -0.13153184493536688,
          1.181944111964066,
          2.5830824420534,
          0.4106671915172332,
          -1.266706022491882,
          0.3949972411593756,
          -0.5686340208377227,
          -1.6296276350686436,
          -0.47748567224339156,
          -0.13072699147207864,
          0.4200392298325099,
          -0.7813031954177223,
          -1.9529817674828185,
          0.866984811466902,
          -1.734427964729059,
          -1.2781840402669344,
          -1.2910708778295,
          -0.3989670450326166,
          0.8745687117774343,
          -1.2311660756455374,
          0.6089849716765106,
          1.048143379954883,
          0.3721709975994528,
          -1.1576133027199618,
          -0.34453151051109965,
          -1.0338932199109123,
          -0.9460628162322431,
          -0.04923179092455275,
          -1.0520628606997837,
          0.1852383456745756,
          -1.0632232978375835,
          -0.09162384543826531,
          0.6831550325518608,
          0.9278729993391939,
          -0.47421170746718716,
          -2.1165065532109923
         ]
        },
        {
         "histfunc": "count",
         "histnorm": "",
         "marker": {
          "color": "rgba(50, 171, 96, 1.0)",
          "line": {
           "color": "#4D5663",
           "width": 1.3
          }
         },
         "name": "c",
         "opacity": 0.8,
         "orientation": "v",
         "type": "histogram",
         "x": [
          -1.4574517012520272,
          1.616925654315569,
          -1.554079012755402,
          -1.3165598564774106,
          -0.580298637975121,
          -1.6622341146471158,
          0.0039029501057902772,
          0.8855012353492825,
          -1.1843262679473314,
          -0.8762274816520518,
          -2.4646576366704944,
          -0.11414376769157988,
          -1.1574256893431913,
          -0.28131202269853645,
          1.6284928461930106,
          -1.1270331276821361,
          -1.344704448640053,
          1.1875302280251283,
          0.15559218997485583,
          -0.694260078532112,
          -0.29230645832071095,
          -0.4992558232676912,
          2.2688498517230893,
          0.8712707377838431,
          -1.8036431447735157,
          -0.7676519683585615,
          -1.2829084489005982,
          -0.5016259466438856,
          -0.184038073037974,
          -0.6806145366236737,
          1.3825998331661564,
          0.5558087648980298,
          0.4674027907247537,
          -0.1549875719036628,
          -0.7654380083742985,
          -0.4334620098771487,
          -0.6188327405333642,
          0.5113328091437372,
          -0.2408638527363929,
          -0.5205996360579126,
          1.0248637764154853,
          0.2991721298703997,
          0.45632859815423865,
          -0.9165600624818021,
          -0.44150693650391165,
          0.42136716310207434,
          -1.2432181110372378,
          1.0761841766878144,
          0.7271372108552653,
          0.15546762147580842,
          0.6033910326548694,
          -2.044292625815654,
          -0.9504839369270148,
          0.38448091998306994,
          0.15621297799152092,
          0.8973509172710784,
          0.026233284321891336,
          0.9054939180728044,
          0.10031640150414387,
          -2.566416680691887,
          0.8578496553772357,
          0.04616710992563474,
          -0.4143519451742939,
          0.8982911790569463,
          -0.05048697730085292,
          -0.6385282870452667,
          -1.0250444618637682,
          0.689639711080981,
          1.8719098341594118,
          -0.5409850552157894,
          -0.01957191723265198,
          1.716922728791775,
          0.6554178012225307,
          -0.5570779687502161,
          -0.2421632594089551,
          -0.5900055298173724,
          0.7918831028021635,
          1.1758606862114478,
          -0.12566303634482529,
          -2.9377823589005674,
          -0.4739948397669631,
          0.2360822009977156,
          0.3880072625953246,
          1.0820181968440927,
          -1.2042895773888243,
          -0.7307572670679031,
          -0.9011519959149107,
          0.5032055368961691,
          0.8620177087655849,
          -0.11785406490076067,
          1.9448207551672967,
          -1.6170836002097697,
          0.24263889685777973,
          -1.0640079092624295,
          2.0609860331539123,
          -0.0027704454288980614,
          2.3348516223314975,
          0.9078533647685604,
          -1.4074955229616364,
          0.3569938923431798
         ]
        },
        {
         "histfunc": "count",
         "histnorm": "",
         "marker": {
          "color": "rgba(128, 0, 128, 1.0)",
          "line": {
           "color": "#4D5663",
           "width": 1.3
          }
         },
         "name": "d",
         "opacity": 0.8,
         "orientation": "v",
         "type": "histogram",
         "x": [
          2.3168273884694734,
          0.39458319641642464,
          -0.46510318054608163,
          -0.20172718202204393,
          -0.24189053063818983,
          -0.792642437428442,
          -0.7401698295328846,
          -1.6801107382717764,
          -0.4817563971652019,
          1.5451818928436343,
          -0.22888853476448212,
          1.4780655993868645,
          -0.767531470835622,
          -0.6532088894241367,
          -0.8514192088845505,
          -1.5254673915519978,
          -1.4537449170569778,
          -0.6320374135597754,
          -0.8111518709770245,
          0.861081336229097,
          1.398138867193178,
          1.6404486362786317,
          0.6573956893296753,
          0.22476108022847083,
          -0.2913070574236847,
          1.5958957556512083,
          0.1601336724116086,
          -1.3320058902909229,
          1.0081466141810744,
          0.32324195296946145,
          -0.7879628462741596,
          -0.8374729790360113,
          -0.6381494389997875,
          0.31177265196395976,
          -1.1812845002923689,
          -0.0032961040756202963,
          -1.4025396209387575,
          -0.6452642332947516,
          0.10767114802755778,
          -1.7139180836635397,
          0.776903516254839,
          0.08644358216921927,
          -1.1838441134944493,
          -0.6951559872484373,
          0.7020684612347757,
          -0.09257493287535283,
          -1.220722643372712,
          -0.7187472041161967,
          -0.017343737356023715,
          0.09737197968014913,
          -1.014912564771148,
          0.9485883343880211,
          -1.4700120494045807,
          0.527090124873511,
          0.981897523303843,
          -0.3729055802591033,
          -1.6546241743330667,
          1.0030031251048521,
          -0.10009683865690405,
          0.6562216961141715,
          -0.743623457689815,
          -1.2941608938560312,
          -0.3990600877641281,
          -0.43141935572373885,
          0.7232784352637682,
          -0.48702320351926975,
          -1.4411058137972361,
          -0.07500513796421322,
          0.23258225057884316,
          -0.009442055362124542,
          -1.1299073084348996,
          2.305132922619832,
          1.151453310017223,
          -1.7161278508924651,
          -0.10216223260372957,
          -1.5974074792176651,
          -0.7634211473180553,
          0.7452180047870218,
          -0.1850689346138391,
          0.08824655821509114,
          -1.1552205198591217,
          -0.3679056931079725,
          1.141413950342741,
          -1.218427511084178,
          0.022191477204873092,
          -0.5097153447922266,
          -0.547101576777799,
          -0.006209405227791605,
          -0.8802870712850492,
          1.5497504397861899,
          -1.5625590276124781,
          -0.3461301297115325,
          -0.5852204321669262,
          -0.4967761599657341,
          1.1677411209788946,
          1.7802429315922845,
          0.4907884854912572,
          -1.0585976439081948,
          -0.6230413266517936,
          -1.2962820739344532
         ]
        }
       ],
       "layout": {
        "barmode": "overlay",
        "legend": {
         "bgcolor": "#F5F6F9",
         "font": {
          "color": "#4D5663"
         }
        },
        "paper_bgcolor": "#F5F6F9",
        "plot_bgcolor": "#F5F6F9",
        "template": {
         "data": {
          "bar": [
           {
            "error_x": {
             "color": "#2a3f5f"
            },
            "error_y": {
             "color": "#2a3f5f"
            },
            "marker": {
             "line": {
              "color": "#E5ECF6",
              "width": 0.5
             }
            },
            "type": "bar"
           }
          ],
          "barpolar": [
           {
            "marker": {
             "line": {
              "color": "#E5ECF6",
              "width": 0.5
             }
            },
            "type": "barpolar"
           }
          ],
          "carpet": [
           {
            "aaxis": {
             "endlinecolor": "#2a3f5f",
             "gridcolor": "white",
             "linecolor": "white",
             "minorgridcolor": "white",
             "startlinecolor": "#2a3f5f"
            },
            "baxis": {
             "endlinecolor": "#2a3f5f",
             "gridcolor": "white",
             "linecolor": "white",
             "minorgridcolor": "white",
             "startlinecolor": "#2a3f5f"
            },
            "type": "carpet"
           }
          ],
          "choropleth": [
           {
            "colorbar": {
             "outlinewidth": 0,
             "ticks": ""
            },
            "type": "choropleth"
           }
          ],
          "contour": [
           {
            "colorbar": {
             "outlinewidth": 0,
             "ticks": ""
            },
            "colorscale": [
             [
              0,
              "#0d0887"
             ],
             [
              0.1111111111111111,
              "#46039f"
             ],
             [
              0.2222222222222222,
              "#7201a8"
             ],
             [
              0.3333333333333333,
              "#9c179e"
             ],
             [
              0.4444444444444444,
              "#bd3786"
             ],
             [
              0.5555555555555556,
              "#d8576b"
             ],
             [
              0.6666666666666666,
              "#ed7953"
             ],
             [
              0.7777777777777778,
              "#fb9f3a"
             ],
             [
              0.8888888888888888,
              "#fdca26"
             ],
             [
              1,
              "#f0f921"
             ]
            ],
            "type": "contour"
           }
          ],
          "contourcarpet": [
           {
            "colorbar": {
             "outlinewidth": 0,
             "ticks": ""
            },
            "type": "contourcarpet"
           }
          ],
          "heatmap": [
           {
            "colorbar": {
             "outlinewidth": 0,
             "ticks": ""
            },
            "colorscale": [
             [
              0,
              "#0d0887"
             ],
             [
              0.1111111111111111,
              "#46039f"
             ],
             [
              0.2222222222222222,
              "#7201a8"
             ],
             [
              0.3333333333333333,
              "#9c179e"
             ],
             [
              0.4444444444444444,
              "#bd3786"
             ],
             [
              0.5555555555555556,
              "#d8576b"
             ],
             [
              0.6666666666666666,
              "#ed7953"
             ],
             [
              0.7777777777777778,
              "#fb9f3a"
             ],
             [
              0.8888888888888888,
              "#fdca26"
             ],
             [
              1,
              "#f0f921"
             ]
            ],
            "type": "heatmap"
           }
          ],
          "heatmapgl": [
           {
            "colorbar": {
             "outlinewidth": 0,
             "ticks": ""
            },
            "colorscale": [
             [
              0,
              "#0d0887"
             ],
             [
              0.1111111111111111,
              "#46039f"
             ],
             [
              0.2222222222222222,
              "#7201a8"
             ],
             [
              0.3333333333333333,
              "#9c179e"
             ],
             [
              0.4444444444444444,
              "#bd3786"
             ],
             [
              0.5555555555555556,
              "#d8576b"
             ],
             [
              0.6666666666666666,
              "#ed7953"
             ],
             [
              0.7777777777777778,
              "#fb9f3a"
             ],
             [
              0.8888888888888888,
              "#fdca26"
             ],
             [
              1,
              "#f0f921"
             ]
            ],
            "type": "heatmapgl"
           }
          ],
          "histogram": [
           {
            "marker": {
             "colorbar": {
              "outlinewidth": 0,
              "ticks": ""
             }
            },
            "type": "histogram"
           }
          ],
          "histogram2d": [
           {
            "colorbar": {
             "outlinewidth": 0,
             "ticks": ""
            },
            "colorscale": [
             [
              0,
              "#0d0887"
             ],
             [
              0.1111111111111111,
              "#46039f"
             ],
             [
              0.2222222222222222,
              "#7201a8"
             ],
             [
              0.3333333333333333,
              "#9c179e"
             ],
             [
              0.4444444444444444,
              "#bd3786"
             ],
             [
              0.5555555555555556,
              "#d8576b"
             ],
             [
              0.6666666666666666,
              "#ed7953"
             ],
             [
              0.7777777777777778,
              "#fb9f3a"
             ],
             [
              0.8888888888888888,
              "#fdca26"
             ],
             [
              1,
              "#f0f921"
             ]
            ],
            "type": "histogram2d"
           }
          ],
          "histogram2dcontour": [
           {
            "colorbar": {
             "outlinewidth": 0,
             "ticks": ""
            },
            "colorscale": [
             [
              0,
              "#0d0887"
             ],
             [
              0.1111111111111111,
              "#46039f"
             ],
             [
              0.2222222222222222,
              "#7201a8"
             ],
             [
              0.3333333333333333,
              "#9c179e"
             ],
             [
              0.4444444444444444,
              "#bd3786"
             ],
             [
              0.5555555555555556,
              "#d8576b"
             ],
             [
              0.6666666666666666,
              "#ed7953"
             ],
             [
              0.7777777777777778,
              "#fb9f3a"
             ],
             [
              0.8888888888888888,
              "#fdca26"
             ],
             [
              1,
              "#f0f921"
             ]
            ],
            "type": "histogram2dcontour"
           }
          ],
          "mesh3d": [
           {
            "colorbar": {
             "outlinewidth": 0,
             "ticks": ""
            },
            "type": "mesh3d"
           }
          ],
          "parcoords": [
           {
            "line": {
             "colorbar": {
              "outlinewidth": 0,
              "ticks": ""
             }
            },
            "type": "parcoords"
           }
          ],
          "pie": [
           {
            "automargin": true,
            "type": "pie"
           }
          ],
          "scatter": [
           {
            "marker": {
             "colorbar": {
              "outlinewidth": 0,
              "ticks": ""
             }
            },
            "type": "scatter"
           }
          ],
          "scatter3d": [
           {
            "line": {
             "colorbar": {
              "outlinewidth": 0,
              "ticks": ""
             }
            },
            "marker": {
             "colorbar": {
              "outlinewidth": 0,
              "ticks": ""
             }
            },
            "type": "scatter3d"
           }
          ],
          "scattercarpet": [
           {
            "marker": {
             "colorbar": {
              "outlinewidth": 0,
              "ticks": ""
             }
            },
            "type": "scattercarpet"
           }
          ],
          "scattergeo": [
           {
            "marker": {
             "colorbar": {
              "outlinewidth": 0,
              "ticks": ""
             }
            },
            "type": "scattergeo"
           }
          ],
          "scattergl": [
           {
            "marker": {
             "colorbar": {
              "outlinewidth": 0,
              "ticks": ""
             }
            },
            "type": "scattergl"
           }
          ],
          "scattermapbox": [
           {
            "marker": {
             "colorbar": {
              "outlinewidth": 0,
              "ticks": ""
             }
            },
            "type": "scattermapbox"
           }
          ],
          "scatterpolar": [
           {
            "marker": {
             "colorbar": {
              "outlinewidth": 0,
              "ticks": ""
             }
            },
            "type": "scatterpolar"
           }
          ],
          "scatterpolargl": [
           {
            "marker": {
             "colorbar": {
              "outlinewidth": 0,
              "ticks": ""
             }
            },
            "type": "scatterpolargl"
           }
          ],
          "scatterternary": [
           {
            "marker": {
             "colorbar": {
              "outlinewidth": 0,
              "ticks": ""
             }
            },
            "type": "scatterternary"
           }
          ],
          "surface": [
           {
            "colorbar": {
             "outlinewidth": 0,
             "ticks": ""
            },
            "colorscale": [
             [
              0,
              "#0d0887"
             ],
             [
              0.1111111111111111,
              "#46039f"
             ],
             [
              0.2222222222222222,
              "#7201a8"
             ],
             [
              0.3333333333333333,
              "#9c179e"
             ],
             [
              0.4444444444444444,
              "#bd3786"
             ],
             [
              0.5555555555555556,
              "#d8576b"
             ],
             [
              0.6666666666666666,
              "#ed7953"
             ],
             [
              0.7777777777777778,
              "#fb9f3a"
             ],
             [
              0.8888888888888888,
              "#fdca26"
             ],
             [
              1,
              "#f0f921"
             ]
            ],
            "type": "surface"
           }
          ],
          "table": [
           {
            "cells": {
             "fill": {
              "color": "#EBF0F8"
             },
             "line": {
              "color": "white"
             }
            },
            "header": {
             "fill": {
              "color": "#C8D4E3"
             },
             "line": {
              "color": "white"
             }
            },
            "type": "table"
           }
          ]
         },
         "layout": {
          "annotationdefaults": {
           "arrowcolor": "#2a3f5f",
           "arrowhead": 0,
           "arrowwidth": 1
          },
          "coloraxis": {
           "colorbar": {
            "outlinewidth": 0,
            "ticks": ""
           }
          },
          "colorscale": {
           "diverging": [
            [
             0,
             "#8e0152"
            ],
            [
             0.1,
             "#c51b7d"
            ],
            [
             0.2,
             "#de77ae"
            ],
            [
             0.3,
             "#f1b6da"
            ],
            [
             0.4,
             "#fde0ef"
            ],
            [
             0.5,
             "#f7f7f7"
            ],
            [
             0.6,
             "#e6f5d0"
            ],
            [
             0.7,
             "#b8e186"
            ],
            [
             0.8,
             "#7fbc41"
            ],
            [
             0.9,
             "#4d9221"
            ],
            [
             1,
             "#276419"
            ]
           ],
           "sequential": [
            [
             0,
             "#0d0887"
            ],
            [
             0.1111111111111111,
             "#46039f"
            ],
            [
             0.2222222222222222,
             "#7201a8"
            ],
            [
             0.3333333333333333,
             "#9c179e"
            ],
            [
             0.4444444444444444,
             "#bd3786"
            ],
            [
             0.5555555555555556,
             "#d8576b"
            ],
            [
             0.6666666666666666,
             "#ed7953"
            ],
            [
             0.7777777777777778,
             "#fb9f3a"
            ],
            [
             0.8888888888888888,
             "#fdca26"
            ],
            [
             1,
             "#f0f921"
            ]
           ],
           "sequentialminus": [
            [
             0,
             "#0d0887"
            ],
            [
             0.1111111111111111,
             "#46039f"
            ],
            [
             0.2222222222222222,
             "#7201a8"
            ],
            [
             0.3333333333333333,
             "#9c179e"
            ],
            [
             0.4444444444444444,
             "#bd3786"
            ],
            [
             0.5555555555555556,
             "#d8576b"
            ],
            [
             0.6666666666666666,
             "#ed7953"
            ],
            [
             0.7777777777777778,
             "#fb9f3a"
            ],
            [
             0.8888888888888888,
             "#fdca26"
            ],
            [
             1,
             "#f0f921"
            ]
           ]
          },
          "colorway": [
           "#636efa",
           "#EF553B",
           "#00cc96",
           "#ab63fa",
           "#FFA15A",
           "#19d3f3",
           "#FF6692",
           "#B6E880",
           "#FF97FF",
           "#FECB52"
          ],
          "font": {
           "color": "#2a3f5f"
          },
          "geo": {
           "bgcolor": "white",
           "lakecolor": "white",
           "landcolor": "#E5ECF6",
           "showlakes": true,
           "showland": true,
           "subunitcolor": "white"
          },
          "hoverlabel": {
           "align": "left"
          },
          "hovermode": "closest",
          "mapbox": {
           "style": "light"
          },
          "paper_bgcolor": "white",
          "plot_bgcolor": "#E5ECF6",
          "polar": {
           "angularaxis": {
            "gridcolor": "white",
            "linecolor": "white",
            "ticks": ""
           },
           "bgcolor": "#E5ECF6",
           "radialaxis": {
            "gridcolor": "white",
            "linecolor": "white",
            "ticks": ""
           }
          },
          "scene": {
           "xaxis": {
            "backgroundcolor": "#E5ECF6",
            "gridcolor": "white",
            "gridwidth": 2,
            "linecolor": "white",
            "showbackground": true,
            "ticks": "",
            "zerolinecolor": "white"
           },
           "yaxis": {
            "backgroundcolor": "#E5ECF6",
            "gridcolor": "white",
            "gridwidth": 2,
            "linecolor": "white",
            "showbackground": true,
            "ticks": "",
            "zerolinecolor": "white"
           },
           "zaxis": {
            "backgroundcolor": "#E5ECF6",
            "gridcolor": "white",
            "gridwidth": 2,
            "linecolor": "white",
            "showbackground": true,
            "ticks": "",
            "zerolinecolor": "white"
           }
          },
          "shapedefaults": {
           "line": {
            "color": "#2a3f5f"
           }
          },
          "ternary": {
           "aaxis": {
            "gridcolor": "white",
            "linecolor": "white",
            "ticks": ""
           },
           "baxis": {
            "gridcolor": "white",
            "linecolor": "white",
            "ticks": ""
           },
           "bgcolor": "#E5ECF6",
           "caxis": {
            "gridcolor": "white",
            "linecolor": "white",
            "ticks": ""
           }
          },
          "title": {
           "x": 0.05
          },
          "xaxis": {
           "automargin": true,
           "gridcolor": "white",
           "linecolor": "white",
           "ticks": "",
           "title": {
            "standoff": 15
           },
           "zerolinecolor": "white",
           "zerolinewidth": 2
          },
          "yaxis": {
           "automargin": true,
           "gridcolor": "white",
           "linecolor": "white",
           "ticks": "",
           "title": {
            "standoff": 15
           },
           "zerolinecolor": "white",
           "zerolinewidth": 2
          }
         }
        },
        "title": {
         "font": {
          "color": "#4D5663"
         }
        },
        "xaxis": {
         "gridcolor": "#E1E5ED",
         "showgrid": true,
         "tickfont": {
          "color": "#4D5663"
         },
         "title": {
          "font": {
           "color": "#4D5663"
          },
          "text": ""
         },
         "zerolinecolor": "#E1E5ED"
        },
        "yaxis": {
         "gridcolor": "#E1E5ED",
         "showgrid": true,
         "tickfont": {
          "color": "#4D5663"
         },
         "title": {
          "font": {
           "color": "#4D5663"
          },
          "text": ""
         },
         "zerolinecolor": "#E1E5ED"
        }
       }
      },
      "text/html": [
       "<div>\n",
       "        \n",
       "        \n",
       "            <div id=\"4ec18874-f65f-481b-91e8-2247ffd2f9ac\" class=\"plotly-graph-div\" style=\"height:525px; width:100%;\"></div>\n",
       "            <script type=\"text/javascript\">\n",
       "                require([\"plotly\"], function(Plotly) {\n",
       "                    window.PLOTLYENV=window.PLOTLYENV || {};\n",
       "                    window.PLOTLYENV.BASE_URL='https://plot.ly';\n",
       "                    \n",
       "                if (document.getElementById(\"4ec18874-f65f-481b-91e8-2247ffd2f9ac\")) {\n",
       "                    Plotly.newPlot(\n",
       "                        '4ec18874-f65f-481b-91e8-2247ffd2f9ac',\n",
       "                        [{\"histfunc\": \"count\", \"histnorm\": \"\", \"marker\": {\"color\": \"rgba(255, 153, 51, 1.0)\", \"line\": {\"color\": \"#4D5663\", \"width\": 1.3}}, \"name\": \"a\", \"opacity\": 0.8, \"orientation\": \"v\", \"type\": \"histogram\", \"x\": [0.292974139252864, -1.1862472468463803, -0.8501922428907918, 0.9111150495629899, 1.2365734664393244, -0.30040599005249846, 1.2105765633744126, 0.14329654371470976, 0.4816690203269885, -0.7188786553096995, 0.29107117981780284, -0.3401912914972917, -0.18610532625705425, 1.8934182437838603, 0.9927287463728656, 1.168165311884389, 1.2111889751775067, 0.19395059226497616, 0.28144601088500154, 0.2929306980738659, 1.1101162910982343, -0.20882608286556142, -0.14537398933595616, -0.6074017425049224, -0.45238438838097095, -0.36610343319996314, 0.26477062314585953, 0.14515091806317906, 0.7803251454516109, 0.608549950958882, -0.4026053747294526, -1.2321271511876488, 0.29910009937757676, -0.18539593485926428, -1.28945619590427, 0.39696306959178446, 0.694370207176139, -0.2679532057619806, 0.6478464445330818, -0.4988282383343721, -1.6079546032861718, 1.7507638766258602, 0.005242884837819096, 0.25125359691177257, -0.23229482042008281, -0.9157632735360842, 0.19640311609892663, -1.3062721849837655, 0.4339583497922634, -1.229079058345127, -1.115240077344917, 0.12379795927408499, 2.6290620243327067, 0.3998538531848044, 0.45893027219882326, -0.7086162503195204, 0.057001724806481205, 0.029529428385691656, -0.1534944558163816, 0.8870271703734542, -1.8295512441698598, 0.9303258214684024, -1.3794435848247562, -0.07751135502855382, 0.22194716382883783, -0.9513732804851377, 0.6170642625680876, 1.174827368853181, -1.7776866913199962, -1.690521991664963, 0.3160827137707872, 0.8005986394539232, -1.6980350094685637, -1.2304179781414055, -0.901279065228436, 0.22598156079956105, 0.3232752239225913, 0.29907964573518026, -0.16176374150177283, 0.6745298559739035, -1.4039829245790993, -0.7949168861300312, 0.8842730651829632, -0.7882189620982454, -0.7676887445502899, -0.6083321443906384, 1.6090599247918695, -0.5152246440526308, -0.3464353213483669, -0.28668138720437186, 0.8387664451015886, 0.7879805141342737, 1.0128081521957695, 1.4073545183039107, -0.838922259663184, -1.559188829826368, -0.10949875615111043, 0.5570685284421174, -0.5377441150506823, 0.7886033547968465]}, {\"histfunc\": \"count\", \"histnorm\": \"\", \"marker\": {\"color\": \"rgba(55, 128, 191, 1.0)\", \"line\": {\"color\": \"#4D5663\", \"width\": 1.3}}, \"name\": \"b\", \"opacity\": 0.8, \"orientation\": \"v\", \"type\": \"histogram\", \"x\": [-0.716753785541702, 0.1466280511998309, -0.6006519808735739, -0.5415580708273, -1.7400320426706721, 0.06483281643880595, 0.9267383919456018, 0.2754962391363442, -0.06963639112657052, 0.43293104058293036, -0.13165251266138508, 0.3688569256553953, 1.101879648066124, 1.0069678548545076, -1.0246405999495924, -0.037202033114178676, 0.259486510387421, -0.05785681071930317, -1.4405479471178548, -0.8243764549033302, -0.1175958470954889, -1.1981943378901034, 0.1487120785832584, 1.0764514860316108, -0.1310759686583265, 0.7870838978756679, 0.09754672432005959, -1.4826931311691334, 1.0793655584203048, 0.9233239197538965, 1.3166320867203176, 0.18222042165689503, -0.06256287722059806, 1.1043295807781548, -0.6150240875265599, 0.790514023860243, -2.0799884828014936, 0.5008675581779642, -0.6810354084403812, -1.2386481384626733, -1.2911154417873516, -0.5154920168362496, -0.4031392471329243, 0.9983704720180332, -1.0160075337650878, 1.886243651028083, -0.5715465786042008, -1.2679931356019523, 1.6614338951907, -0.17792785850635345, 1.4745507719444697, 1.1776871716912736, -1.2561713012470577, -0.24638872835020778, 1.4670954437869548, -0.189173117161535, -0.3527437302423633, -1.7117404210798368, 0.048457522093129965, 0.9007265389917656, -0.42341732249635067, 0.0816182553248051, -0.21089804096281775, 1.6556331387431482, -0.13153184493536688, 1.181944111964066, 2.5830824420534, 0.4106671915172332, -1.266706022491882, 0.3949972411593756, -0.5686340208377227, -1.6296276350686436, -0.47748567224339156, -0.13072699147207864, 0.4200392298325099, -0.7813031954177223, -1.9529817674828185, 0.866984811466902, -1.734427964729059, -1.2781840402669344, -1.2910708778295, -0.3989670450326166, 0.8745687117774343, -1.2311660756455374, 0.6089849716765106, 1.048143379954883, 0.3721709975994528, -1.1576133027199618, -0.34453151051109965, -1.0338932199109123, -0.9460628162322431, -0.04923179092455275, -1.0520628606997837, 0.1852383456745756, -1.0632232978375835, -0.09162384543826531, 0.6831550325518608, 0.9278729993391939, -0.47421170746718716, -2.1165065532109923]}, {\"histfunc\": \"count\", \"histnorm\": \"\", \"marker\": {\"color\": \"rgba(50, 171, 96, 1.0)\", \"line\": {\"color\": \"#4D5663\", \"width\": 1.3}}, \"name\": \"c\", \"opacity\": 0.8, \"orientation\": \"v\", \"type\": \"histogram\", \"x\": [-1.4574517012520272, 1.616925654315569, -1.554079012755402, -1.3165598564774106, -0.580298637975121, -1.6622341146471158, 0.0039029501057902772, 0.8855012353492825, -1.1843262679473314, -0.8762274816520518, -2.4646576366704944, -0.11414376769157988, -1.1574256893431913, -0.28131202269853645, 1.6284928461930106, -1.1270331276821361, -1.344704448640053, 1.1875302280251283, 0.15559218997485583, -0.694260078532112, -0.29230645832071095, -0.4992558232676912, 2.2688498517230893, 0.8712707377838431, -1.8036431447735157, -0.7676519683585615, -1.2829084489005982, -0.5016259466438856, -0.184038073037974, -0.6806145366236737, 1.3825998331661564, 0.5558087648980298, 0.4674027907247537, -0.1549875719036628, -0.7654380083742985, -0.4334620098771487, -0.6188327405333642, 0.5113328091437372, -0.2408638527363929, -0.5205996360579126, 1.0248637764154853, 0.2991721298703997, 0.45632859815423865, -0.9165600624818021, -0.44150693650391165, 0.42136716310207434, -1.2432181110372378, 1.0761841766878144, 0.7271372108552653, 0.15546762147580842, 0.6033910326548694, -2.044292625815654, -0.9504839369270148, 0.38448091998306994, 0.15621297799152092, 0.8973509172710784, 0.026233284321891336, 0.9054939180728044, 0.10031640150414387, -2.566416680691887, 0.8578496553772357, 0.04616710992563474, -0.4143519451742939, 0.8982911790569463, -0.05048697730085292, -0.6385282870452667, -1.0250444618637682, 0.689639711080981, 1.8719098341594118, -0.5409850552157894, -0.01957191723265198, 1.716922728791775, 0.6554178012225307, -0.5570779687502161, -0.2421632594089551, -0.5900055298173724, 0.7918831028021635, 1.1758606862114478, -0.12566303634482529, -2.9377823589005674, -0.4739948397669631, 0.2360822009977156, 0.3880072625953246, 1.0820181968440927, -1.2042895773888243, -0.7307572670679031, -0.9011519959149107, 0.5032055368961691, 0.8620177087655849, -0.11785406490076067, 1.9448207551672967, -1.6170836002097697, 0.24263889685777973, -1.0640079092624295, 2.0609860331539123, -0.0027704454288980614, 2.3348516223314975, 0.9078533647685604, -1.4074955229616364, 0.3569938923431798]}, {\"histfunc\": \"count\", \"histnorm\": \"\", \"marker\": {\"color\": \"rgba(128, 0, 128, 1.0)\", \"line\": {\"color\": \"#4D5663\", \"width\": 1.3}}, \"name\": \"d\", \"opacity\": 0.8, \"orientation\": \"v\", \"type\": \"histogram\", \"x\": [2.3168273884694734, 0.39458319641642464, -0.46510318054608163, -0.20172718202204393, -0.24189053063818983, -0.792642437428442, -0.7401698295328846, -1.6801107382717764, -0.4817563971652019, 1.5451818928436343, -0.22888853476448212, 1.4780655993868645, -0.767531470835622, -0.6532088894241367, -0.8514192088845505, -1.5254673915519978, -1.4537449170569778, -0.6320374135597754, -0.8111518709770245, 0.861081336229097, 1.398138867193178, 1.6404486362786317, 0.6573956893296753, 0.22476108022847083, -0.2913070574236847, 1.5958957556512083, 0.1601336724116086, -1.3320058902909229, 1.0081466141810744, 0.32324195296946145, -0.7879628462741596, -0.8374729790360113, -0.6381494389997875, 0.31177265196395976, -1.1812845002923689, -0.0032961040756202963, -1.4025396209387575, -0.6452642332947516, 0.10767114802755778, -1.7139180836635397, 0.776903516254839, 0.08644358216921927, -1.1838441134944493, -0.6951559872484373, 0.7020684612347757, -0.09257493287535283, -1.220722643372712, -0.7187472041161967, -0.017343737356023715, 0.09737197968014913, -1.014912564771148, 0.9485883343880211, -1.4700120494045807, 0.527090124873511, 0.981897523303843, -0.3729055802591033, -1.6546241743330667, 1.0030031251048521, -0.10009683865690405, 0.6562216961141715, -0.743623457689815, -1.2941608938560312, -0.3990600877641281, -0.43141935572373885, 0.7232784352637682, -0.48702320351926975, -1.4411058137972361, -0.07500513796421322, 0.23258225057884316, -0.009442055362124542, -1.1299073084348996, 2.305132922619832, 1.151453310017223, -1.7161278508924651, -0.10216223260372957, -1.5974074792176651, -0.7634211473180553, 0.7452180047870218, -0.1850689346138391, 0.08824655821509114, -1.1552205198591217, -0.3679056931079725, 1.141413950342741, -1.218427511084178, 0.022191477204873092, -0.5097153447922266, -0.547101576777799, -0.006209405227791605, -0.8802870712850492, 1.5497504397861899, -1.5625590276124781, -0.3461301297115325, -0.5852204321669262, -0.4967761599657341, 1.1677411209788946, 1.7802429315922845, 0.4907884854912572, -1.0585976439081948, -0.6230413266517936, -1.2962820739344532]}],\n",
       "                        {\"barmode\": \"overlay\", \"legend\": {\"bgcolor\": \"#F5F6F9\", \"font\": {\"color\": \"#4D5663\"}}, \"paper_bgcolor\": \"#F5F6F9\", \"plot_bgcolor\": \"#F5F6F9\", \"template\": {\"data\": {\"bar\": [{\"error_x\": {\"color\": \"#2a3f5f\"}, \"error_y\": {\"color\": \"#2a3f5f\"}, \"marker\": {\"line\": {\"color\": \"#E5ECF6\", \"width\": 0.5}}, \"type\": \"bar\"}], \"barpolar\": [{\"marker\": {\"line\": {\"color\": \"#E5ECF6\", \"width\": 0.5}}, \"type\": \"barpolar\"}], \"carpet\": [{\"aaxis\": {\"endlinecolor\": \"#2a3f5f\", \"gridcolor\": \"white\", \"linecolor\": \"white\", \"minorgridcolor\": \"white\", \"startlinecolor\": \"#2a3f5f\"}, \"baxis\": {\"endlinecolor\": \"#2a3f5f\", \"gridcolor\": \"white\", \"linecolor\": \"white\", \"minorgridcolor\": \"white\", \"startlinecolor\": \"#2a3f5f\"}, \"type\": \"carpet\"}], \"choropleth\": [{\"colorbar\": {\"outlinewidth\": 0, \"ticks\": \"\"}, \"type\": \"choropleth\"}], \"contour\": [{\"colorbar\": {\"outlinewidth\": 0, \"ticks\": \"\"}, \"colorscale\": [[0.0, \"#0d0887\"], [0.1111111111111111, \"#46039f\"], [0.2222222222222222, \"#7201a8\"], [0.3333333333333333, \"#9c179e\"], [0.4444444444444444, \"#bd3786\"], [0.5555555555555556, \"#d8576b\"], [0.6666666666666666, \"#ed7953\"], [0.7777777777777778, \"#fb9f3a\"], [0.8888888888888888, \"#fdca26\"], [1.0, \"#f0f921\"]], \"type\": \"contour\"}], \"contourcarpet\": [{\"colorbar\": {\"outlinewidth\": 0, \"ticks\": \"\"}, \"type\": \"contourcarpet\"}], \"heatmap\": [{\"colorbar\": {\"outlinewidth\": 0, \"ticks\": \"\"}, \"colorscale\": [[0.0, \"#0d0887\"], [0.1111111111111111, \"#46039f\"], [0.2222222222222222, \"#7201a8\"], [0.3333333333333333, \"#9c179e\"], [0.4444444444444444, \"#bd3786\"], [0.5555555555555556, \"#d8576b\"], [0.6666666666666666, \"#ed7953\"], [0.7777777777777778, \"#fb9f3a\"], [0.8888888888888888, \"#fdca26\"], [1.0, \"#f0f921\"]], \"type\": \"heatmap\"}], \"heatmapgl\": [{\"colorbar\": {\"outlinewidth\": 0, \"ticks\": \"\"}, \"colorscale\": [[0.0, \"#0d0887\"], [0.1111111111111111, \"#46039f\"], [0.2222222222222222, \"#7201a8\"], [0.3333333333333333, \"#9c179e\"], [0.4444444444444444, \"#bd3786\"], [0.5555555555555556, \"#d8576b\"], [0.6666666666666666, \"#ed7953\"], [0.7777777777777778, \"#fb9f3a\"], [0.8888888888888888, \"#fdca26\"], [1.0, \"#f0f921\"]], \"type\": \"heatmapgl\"}], \"histogram\": [{\"marker\": {\"colorbar\": {\"outlinewidth\": 0, \"ticks\": \"\"}}, \"type\": \"histogram\"}], \"histogram2d\": [{\"colorbar\": {\"outlinewidth\": 0, \"ticks\": \"\"}, \"colorscale\": [[0.0, \"#0d0887\"], [0.1111111111111111, \"#46039f\"], [0.2222222222222222, \"#7201a8\"], [0.3333333333333333, \"#9c179e\"], [0.4444444444444444, \"#bd3786\"], [0.5555555555555556, \"#d8576b\"], [0.6666666666666666, \"#ed7953\"], [0.7777777777777778, \"#fb9f3a\"], [0.8888888888888888, \"#fdca26\"], [1.0, \"#f0f921\"]], \"type\": \"histogram2d\"}], \"histogram2dcontour\": [{\"colorbar\": {\"outlinewidth\": 0, \"ticks\": \"\"}, \"colorscale\": [[0.0, \"#0d0887\"], [0.1111111111111111, \"#46039f\"], [0.2222222222222222, \"#7201a8\"], [0.3333333333333333, \"#9c179e\"], [0.4444444444444444, \"#bd3786\"], [0.5555555555555556, \"#d8576b\"], [0.6666666666666666, \"#ed7953\"], [0.7777777777777778, \"#fb9f3a\"], [0.8888888888888888, \"#fdca26\"], [1.0, \"#f0f921\"]], \"type\": \"histogram2dcontour\"}], \"mesh3d\": [{\"colorbar\": {\"outlinewidth\": 0, \"ticks\": \"\"}, \"type\": \"mesh3d\"}], \"parcoords\": [{\"line\": {\"colorbar\": {\"outlinewidth\": 0, \"ticks\": \"\"}}, \"type\": \"parcoords\"}], \"pie\": [{\"automargin\": true, \"type\": \"pie\"}], \"scatter\": [{\"marker\": {\"colorbar\": {\"outlinewidth\": 0, \"ticks\": \"\"}}, \"type\": \"scatter\"}], \"scatter3d\": [{\"line\": {\"colorbar\": {\"outlinewidth\": 0, \"ticks\": \"\"}}, \"marker\": {\"colorbar\": {\"outlinewidth\": 0, \"ticks\": \"\"}}, \"type\": \"scatter3d\"}], \"scattercarpet\": [{\"marker\": {\"colorbar\": {\"outlinewidth\": 0, \"ticks\": \"\"}}, \"type\": \"scattercarpet\"}], \"scattergeo\": [{\"marker\": {\"colorbar\": {\"outlinewidth\": 0, \"ticks\": \"\"}}, \"type\": \"scattergeo\"}], \"scattergl\": [{\"marker\": {\"colorbar\": {\"outlinewidth\": 0, \"ticks\": \"\"}}, \"type\": \"scattergl\"}], \"scattermapbox\": [{\"marker\": {\"colorbar\": {\"outlinewidth\": 0, \"ticks\": \"\"}}, \"type\": \"scattermapbox\"}], \"scatterpolar\": [{\"marker\": {\"colorbar\": {\"outlinewidth\": 0, \"ticks\": \"\"}}, \"type\": \"scatterpolar\"}], \"scatterpolargl\": [{\"marker\": {\"colorbar\": {\"outlinewidth\": 0, \"ticks\": \"\"}}, \"type\": \"scatterpolargl\"}], \"scatterternary\": [{\"marker\": {\"colorbar\": {\"outlinewidth\": 0, \"ticks\": \"\"}}, \"type\": \"scatterternary\"}], \"surface\": [{\"colorbar\": {\"outlinewidth\": 0, \"ticks\": \"\"}, \"colorscale\": [[0.0, \"#0d0887\"], [0.1111111111111111, \"#46039f\"], [0.2222222222222222, \"#7201a8\"], [0.3333333333333333, \"#9c179e\"], [0.4444444444444444, \"#bd3786\"], [0.5555555555555556, \"#d8576b\"], [0.6666666666666666, \"#ed7953\"], [0.7777777777777778, \"#fb9f3a\"], [0.8888888888888888, \"#fdca26\"], [1.0, \"#f0f921\"]], \"type\": \"surface\"}], \"table\": [{\"cells\": {\"fill\": {\"color\": \"#EBF0F8\"}, \"line\": {\"color\": \"white\"}}, \"header\": {\"fill\": {\"color\": \"#C8D4E3\"}, \"line\": {\"color\": \"white\"}}, \"type\": \"table\"}]}, \"layout\": {\"annotationdefaults\": {\"arrowcolor\": \"#2a3f5f\", \"arrowhead\": 0, \"arrowwidth\": 1}, \"coloraxis\": {\"colorbar\": {\"outlinewidth\": 0, \"ticks\": \"\"}}, \"colorscale\": {\"diverging\": [[0, \"#8e0152\"], [0.1, \"#c51b7d\"], [0.2, \"#de77ae\"], [0.3, \"#f1b6da\"], [0.4, \"#fde0ef\"], [0.5, \"#f7f7f7\"], [0.6, \"#e6f5d0\"], [0.7, \"#b8e186\"], [0.8, \"#7fbc41\"], [0.9, \"#4d9221\"], [1, \"#276419\"]], \"sequential\": [[0.0, \"#0d0887\"], [0.1111111111111111, \"#46039f\"], [0.2222222222222222, \"#7201a8\"], [0.3333333333333333, \"#9c179e\"], [0.4444444444444444, \"#bd3786\"], [0.5555555555555556, \"#d8576b\"], [0.6666666666666666, \"#ed7953\"], [0.7777777777777778, \"#fb9f3a\"], [0.8888888888888888, \"#fdca26\"], [1.0, \"#f0f921\"]], \"sequentialminus\": [[0.0, \"#0d0887\"], [0.1111111111111111, \"#46039f\"], [0.2222222222222222, \"#7201a8\"], [0.3333333333333333, \"#9c179e\"], [0.4444444444444444, \"#bd3786\"], [0.5555555555555556, \"#d8576b\"], [0.6666666666666666, \"#ed7953\"], [0.7777777777777778, \"#fb9f3a\"], [0.8888888888888888, \"#fdca26\"], [1.0, \"#f0f921\"]]}, \"colorway\": [\"#636efa\", \"#EF553B\", \"#00cc96\", \"#ab63fa\", \"#FFA15A\", \"#19d3f3\", \"#FF6692\", \"#B6E880\", \"#FF97FF\", \"#FECB52\"], \"font\": {\"color\": \"#2a3f5f\"}, \"geo\": {\"bgcolor\": \"white\", \"lakecolor\": \"white\", \"landcolor\": \"#E5ECF6\", \"showlakes\": true, \"showland\": true, \"subunitcolor\": \"white\"}, \"hoverlabel\": {\"align\": \"left\"}, \"hovermode\": \"closest\", \"mapbox\": {\"style\": \"light\"}, \"paper_bgcolor\": \"white\", \"plot_bgcolor\": \"#E5ECF6\", \"polar\": {\"angularaxis\": {\"gridcolor\": \"white\", \"linecolor\": \"white\", \"ticks\": \"\"}, \"bgcolor\": \"#E5ECF6\", \"radialaxis\": {\"gridcolor\": \"white\", \"linecolor\": \"white\", \"ticks\": \"\"}}, \"scene\": {\"xaxis\": {\"backgroundcolor\": \"#E5ECF6\", \"gridcolor\": \"white\", \"gridwidth\": 2, \"linecolor\": \"white\", \"showbackground\": true, \"ticks\": \"\", \"zerolinecolor\": \"white\"}, \"yaxis\": {\"backgroundcolor\": \"#E5ECF6\", \"gridcolor\": \"white\", \"gridwidth\": 2, \"linecolor\": \"white\", \"showbackground\": true, \"ticks\": \"\", \"zerolinecolor\": \"white\"}, \"zaxis\": {\"backgroundcolor\": \"#E5ECF6\", \"gridcolor\": \"white\", \"gridwidth\": 2, \"linecolor\": \"white\", \"showbackground\": true, \"ticks\": \"\", \"zerolinecolor\": \"white\"}}, \"shapedefaults\": {\"line\": {\"color\": \"#2a3f5f\"}}, \"ternary\": {\"aaxis\": {\"gridcolor\": \"white\", \"linecolor\": \"white\", \"ticks\": \"\"}, \"baxis\": {\"gridcolor\": \"white\", \"linecolor\": \"white\", \"ticks\": \"\"}, \"bgcolor\": \"#E5ECF6\", \"caxis\": {\"gridcolor\": \"white\", \"linecolor\": \"white\", \"ticks\": \"\"}}, \"title\": {\"x\": 0.05}, \"xaxis\": {\"automargin\": true, \"gridcolor\": \"white\", \"linecolor\": \"white\", \"ticks\": \"\", \"title\": {\"standoff\": 15}, \"zerolinecolor\": \"white\", \"zerolinewidth\": 2}, \"yaxis\": {\"automargin\": true, \"gridcolor\": \"white\", \"linecolor\": \"white\", \"ticks\": \"\", \"title\": {\"standoff\": 15}, \"zerolinecolor\": \"white\", \"zerolinewidth\": 2}}}, \"title\": {\"font\": {\"color\": \"#4D5663\"}}, \"xaxis\": {\"gridcolor\": \"#E1E5ED\", \"showgrid\": true, \"tickfont\": {\"color\": \"#4D5663\"}, \"title\": {\"font\": {\"color\": \"#4D5663\"}, \"text\": \"\"}, \"zerolinecolor\": \"#E1E5ED\"}, \"yaxis\": {\"gridcolor\": \"#E1E5ED\", \"showgrid\": true, \"tickfont\": {\"color\": \"#4D5663\"}, \"title\": {\"font\": {\"color\": \"#4D5663\"}, \"text\": \"\"}, \"zerolinecolor\": \"#E1E5ED\"}},\n",
       "                        {\"showLink\": true, \"linkText\": \"Export to plot.ly\", \"plotlyServerURL\": \"https://plot.ly\", \"responsive\": true}\n",
       "                    ).then(function(){\n",
       "                            \n",
       "var gd = document.getElementById('4ec18874-f65f-481b-91e8-2247ffd2f9ac');\n",
       "var x = new MutationObserver(function (mutations, observer) {{\n",
       "        var display = window.getComputedStyle(gd).display;\n",
       "        if (!display || display === 'none') {{\n",
       "            console.log([gd, 'removed!']);\n",
       "            Plotly.purge(gd);\n",
       "            observer.disconnect();\n",
       "        }}\n",
       "}});\n",
       "\n",
       "// Listen for the removal of the full notebook cells\n",
       "var notebookContainer = gd.closest('#notebook-container');\n",
       "if (notebookContainer) {{\n",
       "    x.observe(notebookContainer, {childList: true});\n",
       "}}\n",
       "\n",
       "// Listen for the clearing of the current output cell\n",
       "var outputEl = gd.closest('.output');\n",
       "if (outputEl) {{\n",
       "    x.observe(outputEl, {childList: true});\n",
       "}}\n",
       "\n",
       "                        })\n",
       "                };\n",
       "                });\n",
       "            </script>\n",
       "        </div>"
      ]
     },
     "metadata": {},
     "output_type": "display_data"
    }
   ],
   "source": [
    "df.iplot(kind = \"hist\");"
   ]
  },
  {
   "cell_type": "markdown",
   "metadata": {},
   "source": [
    "## Spread"
   ]
  },
  {
   "cell_type": "code",
   "execution_count": 38,
   "metadata": {},
   "outputs": [
    {
     "name": "stderr",
     "output_type": "stream",
     "text": [
      "C:\\Users\\Phone Thiri Yadana\\.conda\\envs\\venv-datascience\\lib\\site-packages\\cufflinks\\plotlytools.py:849: FutureWarning:\n",
      "\n",
      "The pandas.np module is deprecated and will be removed from pandas in a future version. Import numpy directly instead\n",
      "\n",
      "C:\\Users\\Phone Thiri Yadana\\.conda\\envs\\venv-datascience\\lib\\site-packages\\cufflinks\\plotlytools.py:850: FutureWarning:\n",
      "\n",
      "The pandas.np module is deprecated and will be removed from pandas in a future version. Import numpy directly instead\n",
      "\n"
     ]
    },
    {
     "data": {
      "application/vnd.plotly.v1+json": {
       "config": {
        "linkText": "Export to plot.ly",
        "plotlyServerURL": "https://plot.ly",
        "showLink": true
       },
       "data": [
        {
         "line": {
          "color": "rgba(255, 153, 51, 1.0)",
          "dash": "solid",
          "shape": "linear",
          "width": 1.3
         },
         "mode": "lines",
         "name": "a",
         "text": "",
         "type": "scatter",
         "x": [
          0,
          1,
          2,
          3,
          4,
          5,
          6,
          7,
          8,
          9,
          10,
          11,
          12,
          13,
          14,
          15,
          16,
          17,
          18,
          19,
          20,
          21,
          22,
          23,
          24,
          25,
          26,
          27,
          28,
          29,
          30,
          31,
          32,
          33,
          34,
          35,
          36,
          37,
          38,
          39,
          40,
          41,
          42,
          43,
          44,
          45,
          46,
          47,
          48,
          49,
          50,
          51,
          52,
          53,
          54,
          55,
          56,
          57,
          58,
          59,
          60,
          61,
          62,
          63,
          64,
          65,
          66,
          67,
          68,
          69,
          70,
          71,
          72,
          73,
          74,
          75,
          76,
          77,
          78,
          79,
          80,
          81,
          82,
          83,
          84,
          85,
          86,
          87,
          88,
          89,
          90,
          91,
          92,
          93,
          94,
          95,
          96,
          97,
          98,
          99
         ],
         "y": [
          0.292974139252864,
          -1.1862472468463803,
          -0.8501922428907918,
          0.9111150495629899,
          1.2365734664393244,
          -0.30040599005249846,
          1.2105765633744126,
          0.14329654371470976,
          0.4816690203269885,
          -0.7188786553096995,
          0.29107117981780284,
          -0.3401912914972917,
          -0.18610532625705425,
          1.8934182437838603,
          0.9927287463728656,
          1.168165311884389,
          1.2111889751775067,
          0.19395059226497616,
          0.28144601088500154,
          0.2929306980738659,
          1.1101162910982343,
          -0.20882608286556142,
          -0.14537398933595616,
          -0.6074017425049224,
          -0.45238438838097095,
          -0.36610343319996314,
          0.26477062314585953,
          0.14515091806317906,
          0.7803251454516109,
          0.608549950958882,
          -0.4026053747294526,
          -1.2321271511876488,
          0.29910009937757676,
          -0.18539593485926428,
          -1.28945619590427,
          0.39696306959178446,
          0.694370207176139,
          -0.2679532057619806,
          0.6478464445330818,
          -0.4988282383343721,
          -1.6079546032861718,
          1.7507638766258602,
          0.005242884837819096,
          0.25125359691177257,
          -0.23229482042008281,
          -0.9157632735360842,
          0.19640311609892663,
          -1.3062721849837655,
          0.4339583497922634,
          -1.229079058345127,
          -1.115240077344917,
          0.12379795927408499,
          2.6290620243327067,
          0.3998538531848044,
          0.45893027219882326,
          -0.7086162503195204,
          0.057001724806481205,
          0.029529428385691656,
          -0.1534944558163816,
          0.8870271703734542,
          -1.8295512441698598,
          0.9303258214684024,
          -1.3794435848247562,
          -0.07751135502855382,
          0.22194716382883783,
          -0.9513732804851377,
          0.6170642625680876,
          1.174827368853181,
          -1.7776866913199962,
          -1.690521991664963,
          0.3160827137707872,
          0.8005986394539232,
          -1.6980350094685637,
          -1.2304179781414055,
          -0.901279065228436,
          0.22598156079956105,
          0.3232752239225913,
          0.29907964573518026,
          -0.16176374150177283,
          0.6745298559739035,
          -1.4039829245790993,
          -0.7949168861300312,
          0.8842730651829632,
          -0.7882189620982454,
          -0.7676887445502899,
          -0.6083321443906384,
          1.6090599247918695,
          -0.5152246440526308,
          -0.3464353213483669,
          -0.28668138720437186,
          0.8387664451015886,
          0.7879805141342737,
          1.0128081521957695,
          1.4073545183039107,
          -0.838922259663184,
          -1.559188829826368,
          -0.10949875615111043,
          0.5570685284421174,
          -0.5377441150506823,
          0.7886033547968465
         ]
        },
        {
         "line": {
          "color": "rgba(55, 128, 191, 1.0)",
          "dash": "solid",
          "shape": "linear",
          "width": 1.3
         },
         "mode": "lines",
         "name": "b",
         "text": "",
         "type": "scatter",
         "x": [
          0,
          1,
          2,
          3,
          4,
          5,
          6,
          7,
          8,
          9,
          10,
          11,
          12,
          13,
          14,
          15,
          16,
          17,
          18,
          19,
          20,
          21,
          22,
          23,
          24,
          25,
          26,
          27,
          28,
          29,
          30,
          31,
          32,
          33,
          34,
          35,
          36,
          37,
          38,
          39,
          40,
          41,
          42,
          43,
          44,
          45,
          46,
          47,
          48,
          49,
          50,
          51,
          52,
          53,
          54,
          55,
          56,
          57,
          58,
          59,
          60,
          61,
          62,
          63,
          64,
          65,
          66,
          67,
          68,
          69,
          70,
          71,
          72,
          73,
          74,
          75,
          76,
          77,
          78,
          79,
          80,
          81,
          82,
          83,
          84,
          85,
          86,
          87,
          88,
          89,
          90,
          91,
          92,
          93,
          94,
          95,
          96,
          97,
          98,
          99
         ],
         "y": [
          -0.716753785541702,
          0.1466280511998309,
          -0.6006519808735739,
          -0.5415580708273,
          -1.7400320426706721,
          0.06483281643880595,
          0.9267383919456018,
          0.2754962391363442,
          -0.06963639112657052,
          0.43293104058293036,
          -0.13165251266138508,
          0.3688569256553953,
          1.101879648066124,
          1.0069678548545076,
          -1.0246405999495924,
          -0.037202033114178676,
          0.259486510387421,
          -0.05785681071930317,
          -1.4405479471178548,
          -0.8243764549033302,
          -0.1175958470954889,
          -1.1981943378901034,
          0.1487120785832584,
          1.0764514860316108,
          -0.1310759686583265,
          0.7870838978756679,
          0.09754672432005959,
          -1.4826931311691334,
          1.0793655584203048,
          0.9233239197538965,
          1.3166320867203176,
          0.18222042165689503,
          -0.06256287722059806,
          1.1043295807781548,
          -0.6150240875265599,
          0.790514023860243,
          -2.0799884828014936,
          0.5008675581779642,
          -0.6810354084403812,
          -1.2386481384626733,
          -1.2911154417873516,
          -0.5154920168362496,
          -0.4031392471329243,
          0.9983704720180332,
          -1.0160075337650878,
          1.886243651028083,
          -0.5715465786042008,
          -1.2679931356019523,
          1.6614338951907,
          -0.17792785850635345,
          1.4745507719444697,
          1.1776871716912736,
          -1.2561713012470577,
          -0.24638872835020778,
          1.4670954437869548,
          -0.189173117161535,
          -0.3527437302423633,
          -1.7117404210798368,
          0.048457522093129965,
          0.9007265389917656,
          -0.42341732249635067,
          0.0816182553248051,
          -0.21089804096281775,
          1.6556331387431482,
          -0.13153184493536688,
          1.181944111964066,
          2.5830824420534,
          0.4106671915172332,
          -1.266706022491882,
          0.3949972411593756,
          -0.5686340208377227,
          -1.6296276350686436,
          -0.47748567224339156,
          -0.13072699147207864,
          0.4200392298325099,
          -0.7813031954177223,
          -1.9529817674828185,
          0.866984811466902,
          -1.734427964729059,
          -1.2781840402669344,
          -1.2910708778295,
          -0.3989670450326166,
          0.8745687117774343,
          -1.2311660756455374,
          0.6089849716765106,
          1.048143379954883,
          0.3721709975994528,
          -1.1576133027199618,
          -0.34453151051109965,
          -1.0338932199109123,
          -0.9460628162322431,
          -0.04923179092455275,
          -1.0520628606997837,
          0.1852383456745756,
          -1.0632232978375835,
          -0.09162384543826531,
          0.6831550325518608,
          0.9278729993391939,
          -0.47421170746718716,
          -2.1165065532109923
         ]
        },
        {
         "connectgaps": false,
         "fill": "tozeroy",
         "line": {
          "color": "green",
          "dash": "solid",
          "shape": "linear",
          "width": 0.5
         },
         "mode": "lines",
         "name": "Spread",
         "showlegend": false,
         "type": "scatter",
         "x": [
          0,
          1,
          2,
          3,
          4,
          5,
          6,
          7,
          8,
          9,
          10,
          11,
          12,
          13,
          14,
          15,
          16,
          17,
          18,
          19,
          20,
          21,
          22,
          23,
          24,
          25,
          26,
          27,
          28,
          29,
          30,
          31,
          32,
          33,
          34,
          35,
          36,
          37,
          38,
          39,
          40,
          41,
          42,
          43,
          44,
          45,
          46,
          47,
          48,
          49,
          50,
          51,
          52,
          53,
          54,
          55,
          56,
          57,
          58,
          59,
          60,
          61,
          62,
          63,
          64,
          65,
          66,
          67,
          68,
          69,
          70,
          71,
          72,
          73,
          74,
          75,
          76,
          77,
          78,
          79,
          80,
          81,
          82,
          83,
          84,
          85,
          86,
          87,
          88,
          89,
          90,
          91,
          92,
          93,
          94,
          95,
          96,
          97,
          98,
          99
         ],
         "xaxis": "x2",
         "y": [
          1.009727924794566,
          "",
          "",
          1.45267312039029,
          2.9766055091099966,
          "",
          0.28383817142881074,
          "",
          0.551305411453559,
          "",
          0.42272369247918795,
          "",
          "",
          0.8864503889293527,
          2.0173693463224582,
          1.2053673449985678,
          0.9517024647900857,
          0.25180740298427934,
          1.7219939580028565,
          1.117307152977196,
          1.2277121381937233,
          0.989368255024542,
          "",
          "",
          "",
          "",
          0.16722389882579994,
          1.6278440492323125,
          "",
          "",
          "",
          "",
          0.3616629765981748,
          "",
          "",
          "",
          2.7743586899776327,
          "",
          1.328881852973463,
          0.7398199001283012,
          "",
          2.2662558934621098,
          0.4083821319707434,
          "",
          0.783712713345005,
          "",
          0.7679496947031275,
          "",
          "",
          "",
          "",
          "",
          3.8852333255797644,
          0.6462425815350121,
          "",
          "",
          0.40974545504884446,
          1.7412698494655285,
          "",
          "",
          "",
          0.8487075661435972,
          "",
          "",
          0.3534790087642047,
          "",
          "",
          0.7641601773359478,
          "",
          "",
          0.88471673460851,
          2.4302262745225667,
          "",
          "",
          "",
          1.0072847562172833,
          2.27625699140541,
          "",
          1.5726642232272863,
          1.952713896240838,
          "",
          "",
          0.009704353405528887,
          0.442947113547292,
          "",
          "",
          1.2368889271924166,
          0.642388658667331,
          "",
          0.7472118327065405,
          1.7848292613338317,
          0.8372123050588265,
          2.064871012895553,
          1.222116172629335,
          0.2243010381743995,
          "",
          "",
          "",
          "",
          2.905109908007839
         ],
         "yaxis": "y2"
        },
        {
         "connectgaps": false,
         "fill": "tozeroy",
         "line": {
          "color": "red",
          "dash": "solid",
          "shape": "linear",
          "width": 0.5
         },
         "mode": "lines",
         "name": "Spread",
         "showlegend": false,
         "type": "scatter",
         "x": [
          0,
          1,
          2,
          3,
          4,
          5,
          6,
          7,
          8,
          9,
          10,
          11,
          12,
          13,
          14,
          15,
          16,
          17,
          18,
          19,
          20,
          21,
          22,
          23,
          24,
          25,
          26,
          27,
          28,
          29,
          30,
          31,
          32,
          33,
          34,
          35,
          36,
          37,
          38,
          39,
          40,
          41,
          42,
          43,
          44,
          45,
          46,
          47,
          48,
          49,
          50,
          51,
          52,
          53,
          54,
          55,
          56,
          57,
          58,
          59,
          60,
          61,
          62,
          63,
          64,
          65,
          66,
          67,
          68,
          69,
          70,
          71,
          72,
          73,
          74,
          75,
          76,
          77,
          78,
          79,
          80,
          81,
          82,
          83,
          84,
          85,
          86,
          87,
          88,
          89,
          90,
          91,
          92,
          93,
          94,
          95,
          96,
          97,
          98,
          99
         ],
         "xaxis": "x2",
         "y": [
          "",
          -1.3328752980462113,
          -0.2495402620172179,
          "",
          "",
          -0.3652388064913044,
          "",
          -0.13219969542163443,
          "",
          -1.1518096958926298,
          "",
          -0.7090482171526871,
          -1.2879849743231782,
          "",
          "",
          "",
          "",
          "",
          "",
          "",
          "",
          "",
          -0.29408606791921454,
          -1.6838532285365333,
          -0.32130841972264446,
          -1.153187331075631,
          "",
          "",
          -0.2990404129686939,
          -0.3147739687950145,
          -1.7192374614497703,
          -1.4143475728445438,
          "",
          -1.289725515637419,
          -0.6744321083777102,
          -0.3935509542684586,
          "",
          -0.7688207639399449,
          "",
          "",
          -0.3168391614988202,
          "",
          "",
          -0.7471168751062607,
          "",
          -2.802006924564167,
          "",
          -0.03827904938181326,
          -1.2274755453984365,
          -1.0511511998387735,
          -2.5897908492893866,
          -1.0538892124171886,
          "",
          "",
          -1.0081651715881315,
          -0.5194431331579854,
          "",
          "",
          -0.20195197790951158,
          -0.013699368618311336,
          -1.4061339216735091,
          "",
          -1.1685455438619383,
          -1.733144493771702,
          "",
          -2.1333173924492037,
          -1.9660181794853127,
          "",
          -0.5109806688281142,
          -2.0855192328243386,
          "",
          "",
          -1.2205493372251721,
          -1.099690986669327,
          -1.321318295060946,
          "",
          "",
          -0.5679051657317218,
          "",
          "",
          -0.11291204674959943,
          -0.3959498410974146,
          "",
          "",
          -1.3766737162268003,
          -1.6564755243455214,
          "",
          "",
          -0.0019038108372672613,
          "",
          "",
          "",
          "",
          "",
          "",
          -1.4675649843881027,
          -0.7926537887029712,
          -0.37080447089707647,
          -0.06353240758349515,
          ""
         ],
         "yaxis": "y2"
        }
       ],
       "layout": {
        "hovermode": "x",
        "legend": {
         "bgcolor": "#F5F6F9",
         "font": {
          "color": "#4D5663"
         }
        },
        "paper_bgcolor": "#F5F6F9",
        "plot_bgcolor": "#F5F6F9",
        "template": {
         "data": {
          "bar": [
           {
            "error_x": {
             "color": "#2a3f5f"
            },
            "error_y": {
             "color": "#2a3f5f"
            },
            "marker": {
             "line": {
              "color": "#E5ECF6",
              "width": 0.5
             }
            },
            "type": "bar"
           }
          ],
          "barpolar": [
           {
            "marker": {
             "line": {
              "color": "#E5ECF6",
              "width": 0.5
             }
            },
            "type": "barpolar"
           }
          ],
          "carpet": [
           {
            "aaxis": {
             "endlinecolor": "#2a3f5f",
             "gridcolor": "white",
             "linecolor": "white",
             "minorgridcolor": "white",
             "startlinecolor": "#2a3f5f"
            },
            "baxis": {
             "endlinecolor": "#2a3f5f",
             "gridcolor": "white",
             "linecolor": "white",
             "minorgridcolor": "white",
             "startlinecolor": "#2a3f5f"
            },
            "type": "carpet"
           }
          ],
          "choropleth": [
           {
            "colorbar": {
             "outlinewidth": 0,
             "ticks": ""
            },
            "type": "choropleth"
           }
          ],
          "contour": [
           {
            "colorbar": {
             "outlinewidth": 0,
             "ticks": ""
            },
            "colorscale": [
             [
              0,
              "#0d0887"
             ],
             [
              0.1111111111111111,
              "#46039f"
             ],
             [
              0.2222222222222222,
              "#7201a8"
             ],
             [
              0.3333333333333333,
              "#9c179e"
             ],
             [
              0.4444444444444444,
              "#bd3786"
             ],
             [
              0.5555555555555556,
              "#d8576b"
             ],
             [
              0.6666666666666666,
              "#ed7953"
             ],
             [
              0.7777777777777778,
              "#fb9f3a"
             ],
             [
              0.8888888888888888,
              "#fdca26"
             ],
             [
              1,
              "#f0f921"
             ]
            ],
            "type": "contour"
           }
          ],
          "contourcarpet": [
           {
            "colorbar": {
             "outlinewidth": 0,
             "ticks": ""
            },
            "type": "contourcarpet"
           }
          ],
          "heatmap": [
           {
            "colorbar": {
             "outlinewidth": 0,
             "ticks": ""
            },
            "colorscale": [
             [
              0,
              "#0d0887"
             ],
             [
              0.1111111111111111,
              "#46039f"
             ],
             [
              0.2222222222222222,
              "#7201a8"
             ],
             [
              0.3333333333333333,
              "#9c179e"
             ],
             [
              0.4444444444444444,
              "#bd3786"
             ],
             [
              0.5555555555555556,
              "#d8576b"
             ],
             [
              0.6666666666666666,
              "#ed7953"
             ],
             [
              0.7777777777777778,
              "#fb9f3a"
             ],
             [
              0.8888888888888888,
              "#fdca26"
             ],
             [
              1,
              "#f0f921"
             ]
            ],
            "type": "heatmap"
           }
          ],
          "heatmapgl": [
           {
            "colorbar": {
             "outlinewidth": 0,
             "ticks": ""
            },
            "colorscale": [
             [
              0,
              "#0d0887"
             ],
             [
              0.1111111111111111,
              "#46039f"
             ],
             [
              0.2222222222222222,
              "#7201a8"
             ],
             [
              0.3333333333333333,
              "#9c179e"
             ],
             [
              0.4444444444444444,
              "#bd3786"
             ],
             [
              0.5555555555555556,
              "#d8576b"
             ],
             [
              0.6666666666666666,
              "#ed7953"
             ],
             [
              0.7777777777777778,
              "#fb9f3a"
             ],
             [
              0.8888888888888888,
              "#fdca26"
             ],
             [
              1,
              "#f0f921"
             ]
            ],
            "type": "heatmapgl"
           }
          ],
          "histogram": [
           {
            "marker": {
             "colorbar": {
              "outlinewidth": 0,
              "ticks": ""
             }
            },
            "type": "histogram"
           }
          ],
          "histogram2d": [
           {
            "colorbar": {
             "outlinewidth": 0,
             "ticks": ""
            },
            "colorscale": [
             [
              0,
              "#0d0887"
             ],
             [
              0.1111111111111111,
              "#46039f"
             ],
             [
              0.2222222222222222,
              "#7201a8"
             ],
             [
              0.3333333333333333,
              "#9c179e"
             ],
             [
              0.4444444444444444,
              "#bd3786"
             ],
             [
              0.5555555555555556,
              "#d8576b"
             ],
             [
              0.6666666666666666,
              "#ed7953"
             ],
             [
              0.7777777777777778,
              "#fb9f3a"
             ],
             [
              0.8888888888888888,
              "#fdca26"
             ],
             [
              1,
              "#f0f921"
             ]
            ],
            "type": "histogram2d"
           }
          ],
          "histogram2dcontour": [
           {
            "colorbar": {
             "outlinewidth": 0,
             "ticks": ""
            },
            "colorscale": [
             [
              0,
              "#0d0887"
             ],
             [
              0.1111111111111111,
              "#46039f"
             ],
             [
              0.2222222222222222,
              "#7201a8"
             ],
             [
              0.3333333333333333,
              "#9c179e"
             ],
             [
              0.4444444444444444,
              "#bd3786"
             ],
             [
              0.5555555555555556,
              "#d8576b"
             ],
             [
              0.6666666666666666,
              "#ed7953"
             ],
             [
              0.7777777777777778,
              "#fb9f3a"
             ],
             [
              0.8888888888888888,
              "#fdca26"
             ],
             [
              1,
              "#f0f921"
             ]
            ],
            "type": "histogram2dcontour"
           }
          ],
          "mesh3d": [
           {
            "colorbar": {
             "outlinewidth": 0,
             "ticks": ""
            },
            "type": "mesh3d"
           }
          ],
          "parcoords": [
           {
            "line": {
             "colorbar": {
              "outlinewidth": 0,
              "ticks": ""
             }
            },
            "type": "parcoords"
           }
          ],
          "pie": [
           {
            "automargin": true,
            "type": "pie"
           }
          ],
          "scatter": [
           {
            "marker": {
             "colorbar": {
              "outlinewidth": 0,
              "ticks": ""
             }
            },
            "type": "scatter"
           }
          ],
          "scatter3d": [
           {
            "line": {
             "colorbar": {
              "outlinewidth": 0,
              "ticks": ""
             }
            },
            "marker": {
             "colorbar": {
              "outlinewidth": 0,
              "ticks": ""
             }
            },
            "type": "scatter3d"
           }
          ],
          "scattercarpet": [
           {
            "marker": {
             "colorbar": {
              "outlinewidth": 0,
              "ticks": ""
             }
            },
            "type": "scattercarpet"
           }
          ],
          "scattergeo": [
           {
            "marker": {
             "colorbar": {
              "outlinewidth": 0,
              "ticks": ""
             }
            },
            "type": "scattergeo"
           }
          ],
          "scattergl": [
           {
            "marker": {
             "colorbar": {
              "outlinewidth": 0,
              "ticks": ""
             }
            },
            "type": "scattergl"
           }
          ],
          "scattermapbox": [
           {
            "marker": {
             "colorbar": {
              "outlinewidth": 0,
              "ticks": ""
             }
            },
            "type": "scattermapbox"
           }
          ],
          "scatterpolar": [
           {
            "marker": {
             "colorbar": {
              "outlinewidth": 0,
              "ticks": ""
             }
            },
            "type": "scatterpolar"
           }
          ],
          "scatterpolargl": [
           {
            "marker": {
             "colorbar": {
              "outlinewidth": 0,
              "ticks": ""
             }
            },
            "type": "scatterpolargl"
           }
          ],
          "scatterternary": [
           {
            "marker": {
             "colorbar": {
              "outlinewidth": 0,
              "ticks": ""
             }
            },
            "type": "scatterternary"
           }
          ],
          "surface": [
           {
            "colorbar": {
             "outlinewidth": 0,
             "ticks": ""
            },
            "colorscale": [
             [
              0,
              "#0d0887"
             ],
             [
              0.1111111111111111,
              "#46039f"
             ],
             [
              0.2222222222222222,
              "#7201a8"
             ],
             [
              0.3333333333333333,
              "#9c179e"
             ],
             [
              0.4444444444444444,
              "#bd3786"
             ],
             [
              0.5555555555555556,
              "#d8576b"
             ],
             [
              0.6666666666666666,
              "#ed7953"
             ],
             [
              0.7777777777777778,
              "#fb9f3a"
             ],
             [
              0.8888888888888888,
              "#fdca26"
             ],
             [
              1,
              "#f0f921"
             ]
            ],
            "type": "surface"
           }
          ],
          "table": [
           {
            "cells": {
             "fill": {
              "color": "#EBF0F8"
             },
             "line": {
              "color": "white"
             }
            },
            "header": {
             "fill": {
              "color": "#C8D4E3"
             },
             "line": {
              "color": "white"
             }
            },
            "type": "table"
           }
          ]
         },
         "layout": {
          "annotationdefaults": {
           "arrowcolor": "#2a3f5f",
           "arrowhead": 0,
           "arrowwidth": 1
          },
          "coloraxis": {
           "colorbar": {
            "outlinewidth": 0,
            "ticks": ""
           }
          },
          "colorscale": {
           "diverging": [
            [
             0,
             "#8e0152"
            ],
            [
             0.1,
             "#c51b7d"
            ],
            [
             0.2,
             "#de77ae"
            ],
            [
             0.3,
             "#f1b6da"
            ],
            [
             0.4,
             "#fde0ef"
            ],
            [
             0.5,
             "#f7f7f7"
            ],
            [
             0.6,
             "#e6f5d0"
            ],
            [
             0.7,
             "#b8e186"
            ],
            [
             0.8,
             "#7fbc41"
            ],
            [
             0.9,
             "#4d9221"
            ],
            [
             1,
             "#276419"
            ]
           ],
           "sequential": [
            [
             0,
             "#0d0887"
            ],
            [
             0.1111111111111111,
             "#46039f"
            ],
            [
             0.2222222222222222,
             "#7201a8"
            ],
            [
             0.3333333333333333,
             "#9c179e"
            ],
            [
             0.4444444444444444,
             "#bd3786"
            ],
            [
             0.5555555555555556,
             "#d8576b"
            ],
            [
             0.6666666666666666,
             "#ed7953"
            ],
            [
             0.7777777777777778,
             "#fb9f3a"
            ],
            [
             0.8888888888888888,
             "#fdca26"
            ],
            [
             1,
             "#f0f921"
            ]
           ],
           "sequentialminus": [
            [
             0,
             "#0d0887"
            ],
            [
             0.1111111111111111,
             "#46039f"
            ],
            [
             0.2222222222222222,
             "#7201a8"
            ],
            [
             0.3333333333333333,
             "#9c179e"
            ],
            [
             0.4444444444444444,
             "#bd3786"
            ],
            [
             0.5555555555555556,
             "#d8576b"
            ],
            [
             0.6666666666666666,
             "#ed7953"
            ],
            [
             0.7777777777777778,
             "#fb9f3a"
            ],
            [
             0.8888888888888888,
             "#fdca26"
            ],
            [
             1,
             "#f0f921"
            ]
           ]
          },
          "colorway": [
           "#636efa",
           "#EF553B",
           "#00cc96",
           "#ab63fa",
           "#FFA15A",
           "#19d3f3",
           "#FF6692",
           "#B6E880",
           "#FF97FF",
           "#FECB52"
          ],
          "font": {
           "color": "#2a3f5f"
          },
          "geo": {
           "bgcolor": "white",
           "lakecolor": "white",
           "landcolor": "#E5ECF6",
           "showlakes": true,
           "showland": true,
           "subunitcolor": "white"
          },
          "hoverlabel": {
           "align": "left"
          },
          "hovermode": "closest",
          "mapbox": {
           "style": "light"
          },
          "paper_bgcolor": "white",
          "plot_bgcolor": "#E5ECF6",
          "polar": {
           "angularaxis": {
            "gridcolor": "white",
            "linecolor": "white",
            "ticks": ""
           },
           "bgcolor": "#E5ECF6",
           "radialaxis": {
            "gridcolor": "white",
            "linecolor": "white",
            "ticks": ""
           }
          },
          "scene": {
           "xaxis": {
            "backgroundcolor": "#E5ECF6",
            "gridcolor": "white",
            "gridwidth": 2,
            "linecolor": "white",
            "showbackground": true,
            "ticks": "",
            "zerolinecolor": "white"
           },
           "yaxis": {
            "backgroundcolor": "#E5ECF6",
            "gridcolor": "white",
            "gridwidth": 2,
            "linecolor": "white",
            "showbackground": true,
            "ticks": "",
            "zerolinecolor": "white"
           },
           "zaxis": {
            "backgroundcolor": "#E5ECF6",
            "gridcolor": "white",
            "gridwidth": 2,
            "linecolor": "white",
            "showbackground": true,
            "ticks": "",
            "zerolinecolor": "white"
           }
          },
          "shapedefaults": {
           "line": {
            "color": "#2a3f5f"
           }
          },
          "ternary": {
           "aaxis": {
            "gridcolor": "white",
            "linecolor": "white",
            "ticks": ""
           },
           "baxis": {
            "gridcolor": "white",
            "linecolor": "white",
            "ticks": ""
           },
           "bgcolor": "#E5ECF6",
           "caxis": {
            "gridcolor": "white",
            "linecolor": "white",
            "ticks": ""
           }
          },
          "title": {
           "x": 0.05
          },
          "xaxis": {
           "automargin": true,
           "gridcolor": "white",
           "linecolor": "white",
           "ticks": "",
           "title": {
            "standoff": 15
           },
           "zerolinecolor": "white",
           "zerolinewidth": 2
          },
          "yaxis": {
           "automargin": true,
           "gridcolor": "white",
           "linecolor": "white",
           "ticks": "",
           "title": {
            "standoff": 15
           },
           "zerolinecolor": "white",
           "zerolinewidth": 2
          }
         }
        },
        "title": {
         "font": {
          "color": "#4D5663"
         }
        },
        "xaxis": {
         "gridcolor": "#E1E5ED",
         "showgrid": true,
         "tickfont": {
          "color": "#4D5663"
         },
         "title": {
          "font": {
           "color": "#4D5663"
          },
          "text": ""
         },
         "zerolinecolor": "#E1E5ED"
        },
        "xaxis2": {
         "anchor": "y2",
         "gridcolor": "#E1E5ED",
         "showgrid": true,
         "showticklabels": false,
         "tickfont": {
          "color": "#4D5663"
         },
         "title": {
          "font": {
           "color": "#4D5663"
          },
          "text": ""
         },
         "zerolinecolor": "#E1E5ED"
        },
        "yaxis": {
         "domain": [
          0.3,
          1
         ],
         "gridcolor": "#E1E5ED",
         "showgrid": true,
         "tickfont": {
          "color": "#4D5663"
         },
         "title": {
          "font": {
           "color": "#4D5663"
          },
          "text": ""
         },
         "zerolinecolor": "#E1E5ED"
        },
        "yaxis2": {
         "domain": [
          0,
          0.25
         ],
         "gridcolor": "#E1E5ED",
         "showgrid": true,
         "tickfont": {
          "color": "#4D5663"
         },
         "title": {
          "font": {
           "color": "#4D5663"
          },
          "text": "Spread"
         },
         "zerolinecolor": "#E1E5ED"
        }
       }
      },
      "text/html": [
       "<div>\n",
       "        \n",
       "        \n",
       "            <div id=\"b77c0699-b72c-4c41-a224-0af8c8845a58\" class=\"plotly-graph-div\" style=\"height:525px; width:100%;\"></div>\n",
       "            <script type=\"text/javascript\">\n",
       "                require([\"plotly\"], function(Plotly) {\n",
       "                    window.PLOTLYENV=window.PLOTLYENV || {};\n",
       "                    window.PLOTLYENV.BASE_URL='https://plot.ly';\n",
       "                    \n",
       "                if (document.getElementById(\"b77c0699-b72c-4c41-a224-0af8c8845a58\")) {\n",
       "                    Plotly.newPlot(\n",
       "                        'b77c0699-b72c-4c41-a224-0af8c8845a58',\n",
       "                        [{\"line\": {\"color\": \"rgba(255, 153, 51, 1.0)\", \"dash\": \"solid\", \"shape\": \"linear\", \"width\": 1.3}, \"mode\": \"lines\", \"name\": \"a\", \"text\": \"\", \"type\": \"scatter\", \"x\": [0, 1, 2, 3, 4, 5, 6, 7, 8, 9, 10, 11, 12, 13, 14, 15, 16, 17, 18, 19, 20, 21, 22, 23, 24, 25, 26, 27, 28, 29, 30, 31, 32, 33, 34, 35, 36, 37, 38, 39, 40, 41, 42, 43, 44, 45, 46, 47, 48, 49, 50, 51, 52, 53, 54, 55, 56, 57, 58, 59, 60, 61, 62, 63, 64, 65, 66, 67, 68, 69, 70, 71, 72, 73, 74, 75, 76, 77, 78, 79, 80, 81, 82, 83, 84, 85, 86, 87, 88, 89, 90, 91, 92, 93, 94, 95, 96, 97, 98, 99], \"y\": [0.292974139252864, -1.1862472468463803, -0.8501922428907918, 0.9111150495629899, 1.2365734664393244, -0.30040599005249846, 1.2105765633744126, 0.14329654371470976, 0.4816690203269885, -0.7188786553096995, 0.29107117981780284, -0.3401912914972917, -0.18610532625705425, 1.8934182437838603, 0.9927287463728656, 1.168165311884389, 1.2111889751775067, 0.19395059226497616, 0.28144601088500154, 0.2929306980738659, 1.1101162910982343, -0.20882608286556142, -0.14537398933595616, -0.6074017425049224, -0.45238438838097095, -0.36610343319996314, 0.26477062314585953, 0.14515091806317906, 0.7803251454516109, 0.608549950958882, -0.4026053747294526, -1.2321271511876488, 0.29910009937757676, -0.18539593485926428, -1.28945619590427, 0.39696306959178446, 0.694370207176139, -0.2679532057619806, 0.6478464445330818, -0.4988282383343721, -1.6079546032861718, 1.7507638766258602, 0.005242884837819096, 0.25125359691177257, -0.23229482042008281, -0.9157632735360842, 0.19640311609892663, -1.3062721849837655, 0.4339583497922634, -1.229079058345127, -1.115240077344917, 0.12379795927408499, 2.6290620243327067, 0.3998538531848044, 0.45893027219882326, -0.7086162503195204, 0.057001724806481205, 0.029529428385691656, -0.1534944558163816, 0.8870271703734542, -1.8295512441698598, 0.9303258214684024, -1.3794435848247562, -0.07751135502855382, 0.22194716382883783, -0.9513732804851377, 0.6170642625680876, 1.174827368853181, -1.7776866913199962, -1.690521991664963, 0.3160827137707872, 0.8005986394539232, -1.6980350094685637, -1.2304179781414055, -0.901279065228436, 0.22598156079956105, 0.3232752239225913, 0.29907964573518026, -0.16176374150177283, 0.6745298559739035, -1.4039829245790993, -0.7949168861300312, 0.8842730651829632, -0.7882189620982454, -0.7676887445502899, -0.6083321443906384, 1.6090599247918695, -0.5152246440526308, -0.3464353213483669, -0.28668138720437186, 0.8387664451015886, 0.7879805141342737, 1.0128081521957695, 1.4073545183039107, -0.838922259663184, -1.559188829826368, -0.10949875615111043, 0.5570685284421174, -0.5377441150506823, 0.7886033547968465]}, {\"line\": {\"color\": \"rgba(55, 128, 191, 1.0)\", \"dash\": \"solid\", \"shape\": \"linear\", \"width\": 1.3}, \"mode\": \"lines\", \"name\": \"b\", \"text\": \"\", \"type\": \"scatter\", \"x\": [0, 1, 2, 3, 4, 5, 6, 7, 8, 9, 10, 11, 12, 13, 14, 15, 16, 17, 18, 19, 20, 21, 22, 23, 24, 25, 26, 27, 28, 29, 30, 31, 32, 33, 34, 35, 36, 37, 38, 39, 40, 41, 42, 43, 44, 45, 46, 47, 48, 49, 50, 51, 52, 53, 54, 55, 56, 57, 58, 59, 60, 61, 62, 63, 64, 65, 66, 67, 68, 69, 70, 71, 72, 73, 74, 75, 76, 77, 78, 79, 80, 81, 82, 83, 84, 85, 86, 87, 88, 89, 90, 91, 92, 93, 94, 95, 96, 97, 98, 99], \"y\": [-0.716753785541702, 0.1466280511998309, -0.6006519808735739, -0.5415580708273, -1.7400320426706721, 0.06483281643880595, 0.9267383919456018, 0.2754962391363442, -0.06963639112657052, 0.43293104058293036, -0.13165251266138508, 0.3688569256553953, 1.101879648066124, 1.0069678548545076, -1.0246405999495924, -0.037202033114178676, 0.259486510387421, -0.05785681071930317, -1.4405479471178548, -0.8243764549033302, -0.1175958470954889, -1.1981943378901034, 0.1487120785832584, 1.0764514860316108, -0.1310759686583265, 0.7870838978756679, 0.09754672432005959, -1.4826931311691334, 1.0793655584203048, 0.9233239197538965, 1.3166320867203176, 0.18222042165689503, -0.06256287722059806, 1.1043295807781548, -0.6150240875265599, 0.790514023860243, -2.0799884828014936, 0.5008675581779642, -0.6810354084403812, -1.2386481384626733, -1.2911154417873516, -0.5154920168362496, -0.4031392471329243, 0.9983704720180332, -1.0160075337650878, 1.886243651028083, -0.5715465786042008, -1.2679931356019523, 1.6614338951907, -0.17792785850635345, 1.4745507719444697, 1.1776871716912736, -1.2561713012470577, -0.24638872835020778, 1.4670954437869548, -0.189173117161535, -0.3527437302423633, -1.7117404210798368, 0.048457522093129965, 0.9007265389917656, -0.42341732249635067, 0.0816182553248051, -0.21089804096281775, 1.6556331387431482, -0.13153184493536688, 1.181944111964066, 2.5830824420534, 0.4106671915172332, -1.266706022491882, 0.3949972411593756, -0.5686340208377227, -1.6296276350686436, -0.47748567224339156, -0.13072699147207864, 0.4200392298325099, -0.7813031954177223, -1.9529817674828185, 0.866984811466902, -1.734427964729059, -1.2781840402669344, -1.2910708778295, -0.3989670450326166, 0.8745687117774343, -1.2311660756455374, 0.6089849716765106, 1.048143379954883, 0.3721709975994528, -1.1576133027199618, -0.34453151051109965, -1.0338932199109123, -0.9460628162322431, -0.04923179092455275, -1.0520628606997837, 0.1852383456745756, -1.0632232978375835, -0.09162384543826531, 0.6831550325518608, 0.9278729993391939, -0.47421170746718716, -2.1165065532109923]}, {\"connectgaps\": false, \"fill\": \"tozeroy\", \"line\": {\"color\": \"green\", \"dash\": \"solid\", \"shape\": \"linear\", \"width\": 0.5}, \"mode\": \"lines\", \"name\": \"Spread\", \"showlegend\": false, \"type\": \"scatter\", \"x\": [0, 1, 2, 3, 4, 5, 6, 7, 8, 9, 10, 11, 12, 13, 14, 15, 16, 17, 18, 19, 20, 21, 22, 23, 24, 25, 26, 27, 28, 29, 30, 31, 32, 33, 34, 35, 36, 37, 38, 39, 40, 41, 42, 43, 44, 45, 46, 47, 48, 49, 50, 51, 52, 53, 54, 55, 56, 57, 58, 59, 60, 61, 62, 63, 64, 65, 66, 67, 68, 69, 70, 71, 72, 73, 74, 75, 76, 77, 78, 79, 80, 81, 82, 83, 84, 85, 86, 87, 88, 89, 90, 91, 92, 93, 94, 95, 96, 97, 98, 99], \"xaxis\": \"x2\", \"y\": [1.009727924794566, \"\", \"\", 1.45267312039029, 2.9766055091099966, \"\", 0.28383817142881074, \"\", 0.551305411453559, \"\", 0.42272369247918795, \"\", \"\", 0.8864503889293527, 2.0173693463224582, 1.2053673449985678, 0.9517024647900857, 0.25180740298427934, 1.7219939580028565, 1.117307152977196, 1.2277121381937233, 0.989368255024542, \"\", \"\", \"\", \"\", 0.16722389882579994, 1.6278440492323125, \"\", \"\", \"\", \"\", 0.3616629765981748, \"\", \"\", \"\", 2.7743586899776327, \"\", 1.328881852973463, 0.7398199001283012, \"\", 2.2662558934621098, 0.4083821319707434, \"\", 0.783712713345005, \"\", 0.7679496947031275, \"\", \"\", \"\", \"\", \"\", 3.8852333255797644, 0.6462425815350121, \"\", \"\", 0.40974545504884446, 1.7412698494655285, \"\", \"\", \"\", 0.8487075661435972, \"\", \"\", 0.3534790087642047, \"\", \"\", 0.7641601773359478, \"\", \"\", 0.88471673460851, 2.4302262745225667, \"\", \"\", \"\", 1.0072847562172833, 2.27625699140541, \"\", 1.5726642232272863, 1.952713896240838, \"\", \"\", 0.009704353405528887, 0.442947113547292, \"\", \"\", 1.2368889271924166, 0.642388658667331, \"\", 0.7472118327065405, 1.7848292613338317, 0.8372123050588265, 2.064871012895553, 1.222116172629335, 0.2243010381743995, \"\", \"\", \"\", \"\", 2.905109908007839], \"yaxis\": \"y2\"}, {\"connectgaps\": false, \"fill\": \"tozeroy\", \"line\": {\"color\": \"red\", \"dash\": \"solid\", \"shape\": \"linear\", \"width\": 0.5}, \"mode\": \"lines\", \"name\": \"Spread\", \"showlegend\": false, \"type\": \"scatter\", \"x\": [0, 1, 2, 3, 4, 5, 6, 7, 8, 9, 10, 11, 12, 13, 14, 15, 16, 17, 18, 19, 20, 21, 22, 23, 24, 25, 26, 27, 28, 29, 30, 31, 32, 33, 34, 35, 36, 37, 38, 39, 40, 41, 42, 43, 44, 45, 46, 47, 48, 49, 50, 51, 52, 53, 54, 55, 56, 57, 58, 59, 60, 61, 62, 63, 64, 65, 66, 67, 68, 69, 70, 71, 72, 73, 74, 75, 76, 77, 78, 79, 80, 81, 82, 83, 84, 85, 86, 87, 88, 89, 90, 91, 92, 93, 94, 95, 96, 97, 98, 99], \"xaxis\": \"x2\", \"y\": [\"\", -1.3328752980462113, -0.2495402620172179, \"\", \"\", -0.3652388064913044, \"\", -0.13219969542163443, \"\", -1.1518096958926298, \"\", -0.7090482171526871, -1.2879849743231782, \"\", \"\", \"\", \"\", \"\", \"\", \"\", \"\", \"\", -0.29408606791921454, -1.6838532285365333, -0.32130841972264446, -1.153187331075631, \"\", \"\", -0.2990404129686939, -0.3147739687950145, -1.7192374614497703, -1.4143475728445438, \"\", -1.289725515637419, -0.6744321083777102, -0.3935509542684586, \"\", -0.7688207639399449, \"\", \"\", -0.3168391614988202, \"\", \"\", -0.7471168751062607, \"\", -2.802006924564167, \"\", -0.03827904938181326, -1.2274755453984365, -1.0511511998387735, -2.5897908492893866, -1.0538892124171886, \"\", \"\", -1.0081651715881315, -0.5194431331579854, \"\", \"\", -0.20195197790951158, -0.013699368618311336, -1.4061339216735091, \"\", -1.1685455438619383, -1.733144493771702, \"\", -2.1333173924492037, -1.9660181794853127, \"\", -0.5109806688281142, -2.0855192328243386, \"\", \"\", -1.2205493372251721, -1.099690986669327, -1.321318295060946, \"\", \"\", -0.5679051657317218, \"\", \"\", -0.11291204674959943, -0.3959498410974146, \"\", \"\", -1.3766737162268003, -1.6564755243455214, \"\", \"\", -0.0019038108372672613, \"\", \"\", \"\", \"\", \"\", \"\", -1.4675649843881027, -0.7926537887029712, -0.37080447089707647, -0.06353240758349515, \"\"], \"yaxis\": \"y2\"}],\n",
       "                        {\"hovermode\": \"x\", \"legend\": {\"bgcolor\": \"#F5F6F9\", \"font\": {\"color\": \"#4D5663\"}}, \"paper_bgcolor\": \"#F5F6F9\", \"plot_bgcolor\": \"#F5F6F9\", \"template\": {\"data\": {\"bar\": [{\"error_x\": {\"color\": \"#2a3f5f\"}, \"error_y\": {\"color\": \"#2a3f5f\"}, \"marker\": {\"line\": {\"color\": \"#E5ECF6\", \"width\": 0.5}}, \"type\": \"bar\"}], \"barpolar\": [{\"marker\": {\"line\": {\"color\": \"#E5ECF6\", \"width\": 0.5}}, \"type\": \"barpolar\"}], \"carpet\": [{\"aaxis\": {\"endlinecolor\": \"#2a3f5f\", \"gridcolor\": \"white\", \"linecolor\": \"white\", \"minorgridcolor\": \"white\", \"startlinecolor\": \"#2a3f5f\"}, \"baxis\": {\"endlinecolor\": \"#2a3f5f\", \"gridcolor\": \"white\", \"linecolor\": \"white\", \"minorgridcolor\": \"white\", \"startlinecolor\": \"#2a3f5f\"}, \"type\": \"carpet\"}], \"choropleth\": [{\"colorbar\": {\"outlinewidth\": 0, \"ticks\": \"\"}, \"type\": \"choropleth\"}], \"contour\": [{\"colorbar\": {\"outlinewidth\": 0, \"ticks\": \"\"}, \"colorscale\": [[0.0, \"#0d0887\"], [0.1111111111111111, \"#46039f\"], [0.2222222222222222, \"#7201a8\"], [0.3333333333333333, \"#9c179e\"], [0.4444444444444444, \"#bd3786\"], [0.5555555555555556, \"#d8576b\"], [0.6666666666666666, \"#ed7953\"], [0.7777777777777778, \"#fb9f3a\"], [0.8888888888888888, \"#fdca26\"], [1.0, \"#f0f921\"]], \"type\": \"contour\"}], \"contourcarpet\": [{\"colorbar\": {\"outlinewidth\": 0, \"ticks\": \"\"}, \"type\": \"contourcarpet\"}], \"heatmap\": [{\"colorbar\": {\"outlinewidth\": 0, \"ticks\": \"\"}, \"colorscale\": [[0.0, \"#0d0887\"], [0.1111111111111111, \"#46039f\"], [0.2222222222222222, \"#7201a8\"], [0.3333333333333333, \"#9c179e\"], [0.4444444444444444, \"#bd3786\"], [0.5555555555555556, \"#d8576b\"], [0.6666666666666666, \"#ed7953\"], [0.7777777777777778, \"#fb9f3a\"], [0.8888888888888888, \"#fdca26\"], [1.0, \"#f0f921\"]], \"type\": \"heatmap\"}], \"heatmapgl\": [{\"colorbar\": {\"outlinewidth\": 0, \"ticks\": \"\"}, \"colorscale\": [[0.0, \"#0d0887\"], [0.1111111111111111, \"#46039f\"], [0.2222222222222222, \"#7201a8\"], [0.3333333333333333, \"#9c179e\"], [0.4444444444444444, \"#bd3786\"], [0.5555555555555556, \"#d8576b\"], [0.6666666666666666, \"#ed7953\"], [0.7777777777777778, \"#fb9f3a\"], [0.8888888888888888, \"#fdca26\"], [1.0, \"#f0f921\"]], \"type\": \"heatmapgl\"}], \"histogram\": [{\"marker\": {\"colorbar\": {\"outlinewidth\": 0, \"ticks\": \"\"}}, \"type\": \"histogram\"}], \"histogram2d\": [{\"colorbar\": {\"outlinewidth\": 0, \"ticks\": \"\"}, \"colorscale\": [[0.0, \"#0d0887\"], [0.1111111111111111, \"#46039f\"], [0.2222222222222222, \"#7201a8\"], [0.3333333333333333, \"#9c179e\"], [0.4444444444444444, \"#bd3786\"], [0.5555555555555556, \"#d8576b\"], [0.6666666666666666, \"#ed7953\"], [0.7777777777777778, \"#fb9f3a\"], [0.8888888888888888, \"#fdca26\"], [1.0, \"#f0f921\"]], \"type\": \"histogram2d\"}], \"histogram2dcontour\": [{\"colorbar\": {\"outlinewidth\": 0, \"ticks\": \"\"}, \"colorscale\": [[0.0, \"#0d0887\"], [0.1111111111111111, \"#46039f\"], [0.2222222222222222, \"#7201a8\"], [0.3333333333333333, \"#9c179e\"], [0.4444444444444444, \"#bd3786\"], [0.5555555555555556, \"#d8576b\"], [0.6666666666666666, \"#ed7953\"], [0.7777777777777778, \"#fb9f3a\"], [0.8888888888888888, \"#fdca26\"], [1.0, \"#f0f921\"]], \"type\": \"histogram2dcontour\"}], \"mesh3d\": [{\"colorbar\": {\"outlinewidth\": 0, \"ticks\": \"\"}, \"type\": \"mesh3d\"}], \"parcoords\": [{\"line\": {\"colorbar\": {\"outlinewidth\": 0, \"ticks\": \"\"}}, \"type\": \"parcoords\"}], \"pie\": [{\"automargin\": true, \"type\": \"pie\"}], \"scatter\": [{\"marker\": {\"colorbar\": {\"outlinewidth\": 0, \"ticks\": \"\"}}, \"type\": \"scatter\"}], \"scatter3d\": [{\"line\": {\"colorbar\": {\"outlinewidth\": 0, \"ticks\": \"\"}}, \"marker\": {\"colorbar\": {\"outlinewidth\": 0, \"ticks\": \"\"}}, \"type\": \"scatter3d\"}], \"scattercarpet\": [{\"marker\": {\"colorbar\": {\"outlinewidth\": 0, \"ticks\": \"\"}}, \"type\": \"scattercarpet\"}], \"scattergeo\": [{\"marker\": {\"colorbar\": {\"outlinewidth\": 0, \"ticks\": \"\"}}, \"type\": \"scattergeo\"}], \"scattergl\": [{\"marker\": {\"colorbar\": {\"outlinewidth\": 0, \"ticks\": \"\"}}, \"type\": \"scattergl\"}], \"scattermapbox\": [{\"marker\": {\"colorbar\": {\"outlinewidth\": 0, \"ticks\": \"\"}}, \"type\": \"scattermapbox\"}], \"scatterpolar\": [{\"marker\": {\"colorbar\": {\"outlinewidth\": 0, \"ticks\": \"\"}}, \"type\": \"scatterpolar\"}], \"scatterpolargl\": [{\"marker\": {\"colorbar\": {\"outlinewidth\": 0, \"ticks\": \"\"}}, \"type\": \"scatterpolargl\"}], \"scatterternary\": [{\"marker\": {\"colorbar\": {\"outlinewidth\": 0, \"ticks\": \"\"}}, \"type\": \"scatterternary\"}], \"surface\": [{\"colorbar\": {\"outlinewidth\": 0, \"ticks\": \"\"}, \"colorscale\": [[0.0, \"#0d0887\"], [0.1111111111111111, \"#46039f\"], [0.2222222222222222, \"#7201a8\"], [0.3333333333333333, \"#9c179e\"], [0.4444444444444444, \"#bd3786\"], [0.5555555555555556, \"#d8576b\"], [0.6666666666666666, \"#ed7953\"], [0.7777777777777778, \"#fb9f3a\"], [0.8888888888888888, \"#fdca26\"], [1.0, \"#f0f921\"]], \"type\": \"surface\"}], \"table\": [{\"cells\": {\"fill\": {\"color\": \"#EBF0F8\"}, \"line\": {\"color\": \"white\"}}, \"header\": {\"fill\": {\"color\": \"#C8D4E3\"}, \"line\": {\"color\": \"white\"}}, \"type\": \"table\"}]}, \"layout\": {\"annotationdefaults\": {\"arrowcolor\": \"#2a3f5f\", \"arrowhead\": 0, \"arrowwidth\": 1}, \"coloraxis\": {\"colorbar\": {\"outlinewidth\": 0, \"ticks\": \"\"}}, \"colorscale\": {\"diverging\": [[0, \"#8e0152\"], [0.1, \"#c51b7d\"], [0.2, \"#de77ae\"], [0.3, \"#f1b6da\"], [0.4, \"#fde0ef\"], [0.5, \"#f7f7f7\"], [0.6, \"#e6f5d0\"], [0.7, \"#b8e186\"], [0.8, \"#7fbc41\"], [0.9, \"#4d9221\"], [1, \"#276419\"]], \"sequential\": [[0.0, \"#0d0887\"], [0.1111111111111111, \"#46039f\"], [0.2222222222222222, \"#7201a8\"], [0.3333333333333333, \"#9c179e\"], [0.4444444444444444, \"#bd3786\"], [0.5555555555555556, \"#d8576b\"], [0.6666666666666666, \"#ed7953\"], [0.7777777777777778, \"#fb9f3a\"], [0.8888888888888888, \"#fdca26\"], [1.0, \"#f0f921\"]], \"sequentialminus\": [[0.0, \"#0d0887\"], [0.1111111111111111, \"#46039f\"], [0.2222222222222222, \"#7201a8\"], [0.3333333333333333, \"#9c179e\"], [0.4444444444444444, \"#bd3786\"], [0.5555555555555556, \"#d8576b\"], [0.6666666666666666, \"#ed7953\"], [0.7777777777777778, \"#fb9f3a\"], [0.8888888888888888, \"#fdca26\"], [1.0, \"#f0f921\"]]}, \"colorway\": [\"#636efa\", \"#EF553B\", \"#00cc96\", \"#ab63fa\", \"#FFA15A\", \"#19d3f3\", \"#FF6692\", \"#B6E880\", \"#FF97FF\", \"#FECB52\"], \"font\": {\"color\": \"#2a3f5f\"}, \"geo\": {\"bgcolor\": \"white\", \"lakecolor\": \"white\", \"landcolor\": \"#E5ECF6\", \"showlakes\": true, \"showland\": true, \"subunitcolor\": \"white\"}, \"hoverlabel\": {\"align\": \"left\"}, \"hovermode\": \"closest\", \"mapbox\": {\"style\": \"light\"}, \"paper_bgcolor\": \"white\", \"plot_bgcolor\": \"#E5ECF6\", \"polar\": {\"angularaxis\": {\"gridcolor\": \"white\", \"linecolor\": \"white\", \"ticks\": \"\"}, \"bgcolor\": \"#E5ECF6\", \"radialaxis\": {\"gridcolor\": \"white\", \"linecolor\": \"white\", \"ticks\": \"\"}}, \"scene\": {\"xaxis\": {\"backgroundcolor\": \"#E5ECF6\", \"gridcolor\": \"white\", \"gridwidth\": 2, \"linecolor\": \"white\", \"showbackground\": true, \"ticks\": \"\", \"zerolinecolor\": \"white\"}, \"yaxis\": {\"backgroundcolor\": \"#E5ECF6\", \"gridcolor\": \"white\", \"gridwidth\": 2, \"linecolor\": \"white\", \"showbackground\": true, \"ticks\": \"\", \"zerolinecolor\": \"white\"}, \"zaxis\": {\"backgroundcolor\": \"#E5ECF6\", \"gridcolor\": \"white\", \"gridwidth\": 2, \"linecolor\": \"white\", \"showbackground\": true, \"ticks\": \"\", \"zerolinecolor\": \"white\"}}, \"shapedefaults\": {\"line\": {\"color\": \"#2a3f5f\"}}, \"ternary\": {\"aaxis\": {\"gridcolor\": \"white\", \"linecolor\": \"white\", \"ticks\": \"\"}, \"baxis\": {\"gridcolor\": \"white\", \"linecolor\": \"white\", \"ticks\": \"\"}, \"bgcolor\": \"#E5ECF6\", \"caxis\": {\"gridcolor\": \"white\", \"linecolor\": \"white\", \"ticks\": \"\"}}, \"title\": {\"x\": 0.05}, \"xaxis\": {\"automargin\": true, \"gridcolor\": \"white\", \"linecolor\": \"white\", \"ticks\": \"\", \"title\": {\"standoff\": 15}, \"zerolinecolor\": \"white\", \"zerolinewidth\": 2}, \"yaxis\": {\"automargin\": true, \"gridcolor\": \"white\", \"linecolor\": \"white\", \"ticks\": \"\", \"title\": {\"standoff\": 15}, \"zerolinecolor\": \"white\", \"zerolinewidth\": 2}}}, \"title\": {\"font\": {\"color\": \"#4D5663\"}}, \"xaxis\": {\"gridcolor\": \"#E1E5ED\", \"showgrid\": true, \"tickfont\": {\"color\": \"#4D5663\"}, \"title\": {\"font\": {\"color\": \"#4D5663\"}, \"text\": \"\"}, \"zerolinecolor\": \"#E1E5ED\"}, \"xaxis2\": {\"anchor\": \"y2\", \"gridcolor\": \"#E1E5ED\", \"showgrid\": true, \"showticklabels\": false, \"tickfont\": {\"color\": \"#4D5663\"}, \"title\": {\"font\": {\"color\": \"#4D5663\"}, \"text\": \"\"}, \"zerolinecolor\": \"#E1E5ED\"}, \"yaxis\": {\"domain\": [0.3, 1], \"gridcolor\": \"#E1E5ED\", \"showgrid\": true, \"tickfont\": {\"color\": \"#4D5663\"}, \"title\": {\"font\": {\"color\": \"#4D5663\"}, \"text\": \"\"}, \"zerolinecolor\": \"#E1E5ED\"}, \"yaxis2\": {\"domain\": [0, 0.25], \"gridcolor\": \"#E1E5ED\", \"showgrid\": true, \"tickfont\": {\"color\": \"#4D5663\"}, \"title\": {\"font\": {\"color\": \"#4D5663\"}, \"text\": \"Spread\"}, \"zerolinecolor\": \"#E1E5ED\"}},\n",
       "                        {\"showLink\": true, \"linkText\": \"Export to plot.ly\", \"plotlyServerURL\": \"https://plot.ly\", \"responsive\": true}\n",
       "                    ).then(function(){\n",
       "                            \n",
       "var gd = document.getElementById('b77c0699-b72c-4c41-a224-0af8c8845a58');\n",
       "var x = new MutationObserver(function (mutations, observer) {{\n",
       "        var display = window.getComputedStyle(gd).display;\n",
       "        if (!display || display === 'none') {{\n",
       "            console.log([gd, 'removed!']);\n",
       "            Plotly.purge(gd);\n",
       "            observer.disconnect();\n",
       "        }}\n",
       "}});\n",
       "\n",
       "// Listen for the removal of the full notebook cells\n",
       "var notebookContainer = gd.closest('#notebook-container');\n",
       "if (notebookContainer) {{\n",
       "    x.observe(notebookContainer, {childList: true});\n",
       "}}\n",
       "\n",
       "// Listen for the clearing of the current output cell\n",
       "var outputEl = gd.closest('.output');\n",
       "if (outputEl) {{\n",
       "    x.observe(outputEl, {childList: true});\n",
       "}}\n",
       "\n",
       "                        })\n",
       "                };\n",
       "                });\n",
       "            </script>\n",
       "        </div>"
      ]
     },
     "metadata": {},
     "output_type": "display_data"
    }
   ],
   "source": [
    "df[[\"a\", \"b\"]].iplot(kind = \"spread\");"
   ]
  },
  {
   "cell_type": "markdown",
   "metadata": {},
   "source": [
    "## Bubble Plot"
   ]
  },
  {
   "cell_type": "code",
   "execution_count": 40,
   "metadata": {},
   "outputs": [
    {
     "data": {
      "application/vnd.plotly.v1+json": {
       "config": {
        "linkText": "Export to plot.ly",
        "plotlyServerURL": "https://plot.ly",
        "showLink": true
       },
       "data": [
        {
         "marker": {
          "color": [
           "rgb(255, 153, 51)",
           "rgb(55, 128, 191)",
           "rgb(50, 171, 96)",
           "rgb(128, 0, 128)",
           "rgb(219, 64, 82)",
           "rgb(0, 128, 128)",
           "rgb(255, 255, 51)",
           "rgb(128, 128, 0)",
           "rgb(251, 128, 114)",
           "rgb(128, 177, 211)"
          ],
          "line": {
           "width": 1.3
          },
          "size": [
           40,
           98,
           38,
           42,
           56,
           36,
           67,
           84,
           45,
           51,
           20,
           65,
           45,
           62,
           98,
           46,
           42,
           90,
           70,
           54,
           62,
           58,
           110,
           84,
           33,
           53,
           43,
           58,
           64,
           54,
           93,
           78,
           76,
           64,
           53,
           59,
           55,
           77,
           63,
           57,
           87,
           73,
           76,
           50,
           59,
           75,
           44,
           88,
           81,
           70,
           79,
           28,
           49,
           75,
           70,
           84,
           68,
           84,
           69,
           19,
           83,
           68,
           59,
           84,
           66,
           55,
           48,
           80,
           103,
           57,
           67,
           100,
           80,
           57,
           63,
           56,
           82,
           90,
           65,
           12,
           58,
           72,
           75,
           88,
           44,
           53,
           50,
           77,
           84,
           65,
           104,
           37,
           72,
           47,
           106,
           67,
           112,
           84,
           41,
           74
          ],
          "symbol": "circle"
         },
         "mode": "markers",
         "text": "",
         "type": "scatter",
         "x": [
          0.292974139252864,
          -1.1862472468463803,
          -0.8501922428907918,
          0.9111150495629899,
          1.2365734664393244,
          -0.30040599005249846,
          1.2105765633744126,
          0.14329654371470976,
          0.4816690203269885,
          -0.7188786553096995,
          0.29107117981780284,
          -0.3401912914972917,
          -0.18610532625705425,
          1.8934182437838603,
          0.9927287463728656,
          1.168165311884389,
          1.2111889751775067,
          0.19395059226497616,
          0.28144601088500154,
          0.2929306980738659,
          1.1101162910982343,
          -0.20882608286556142,
          -0.14537398933595616,
          -0.6074017425049224,
          -0.45238438838097095,
          -0.36610343319996314,
          0.26477062314585953,
          0.14515091806317906,
          0.7803251454516109,
          0.608549950958882,
          -0.4026053747294526,
          -1.2321271511876488,
          0.29910009937757676,
          -0.18539593485926428,
          -1.28945619590427,
          0.39696306959178446,
          0.694370207176139,
          -0.2679532057619806,
          0.6478464445330818,
          -0.4988282383343721,
          -1.6079546032861718,
          1.7507638766258602,
          0.005242884837819096,
          0.25125359691177257,
          -0.23229482042008281,
          -0.9157632735360842,
          0.19640311609892663,
          -1.3062721849837655,
          0.4339583497922634,
          -1.229079058345127,
          -1.115240077344917,
          0.12379795927408499,
          2.6290620243327067,
          0.3998538531848044,
          0.45893027219882326,
          -0.7086162503195204,
          0.057001724806481205,
          0.029529428385691656,
          -0.1534944558163816,
          0.8870271703734542,
          -1.8295512441698598,
          0.9303258214684024,
          -1.3794435848247562,
          -0.07751135502855382,
          0.22194716382883783,
          -0.9513732804851377,
          0.6170642625680876,
          1.174827368853181,
          -1.7776866913199962,
          -1.690521991664963,
          0.3160827137707872,
          0.8005986394539232,
          -1.6980350094685637,
          -1.2304179781414055,
          -0.901279065228436,
          0.22598156079956105,
          0.3232752239225913,
          0.29907964573518026,
          -0.16176374150177283,
          0.6745298559739035,
          -1.4039829245790993,
          -0.7949168861300312,
          0.8842730651829632,
          -0.7882189620982454,
          -0.7676887445502899,
          -0.6083321443906384,
          1.6090599247918695,
          -0.5152246440526308,
          -0.3464353213483669,
          -0.28668138720437186,
          0.8387664451015886,
          0.7879805141342737,
          1.0128081521957695,
          1.4073545183039107,
          -0.838922259663184,
          -1.559188829826368,
          -0.10949875615111043,
          0.5570685284421174,
          -0.5377441150506823,
          0.7886033547968465
         ],
         "y": [
          -0.716753785541702,
          0.1466280511998309,
          -0.6006519808735739,
          -0.5415580708273,
          -1.7400320426706721,
          0.06483281643880595,
          0.9267383919456018,
          0.2754962391363442,
          -0.06963639112657052,
          0.43293104058293036,
          -0.13165251266138508,
          0.3688569256553953,
          1.101879648066124,
          1.0069678548545076,
          -1.0246405999495924,
          -0.037202033114178676,
          0.259486510387421,
          -0.05785681071930317,
          -1.4405479471178548,
          -0.8243764549033302,
          -0.1175958470954889,
          -1.1981943378901034,
          0.1487120785832584,
          1.0764514860316108,
          -0.1310759686583265,
          0.7870838978756679,
          0.09754672432005959,
          -1.4826931311691334,
          1.0793655584203048,
          0.9233239197538965,
          1.3166320867203176,
          0.18222042165689503,
          -0.06256287722059806,
          1.1043295807781548,
          -0.6150240875265599,
          0.790514023860243,
          -2.0799884828014936,
          0.5008675581779642,
          -0.6810354084403812,
          -1.2386481384626733,
          -1.2911154417873516,
          -0.5154920168362496,
          -0.4031392471329243,
          0.9983704720180332,
          -1.0160075337650878,
          1.886243651028083,
          -0.5715465786042008,
          -1.2679931356019523,
          1.6614338951907,
          -0.17792785850635345,
          1.4745507719444697,
          1.1776871716912736,
          -1.2561713012470577,
          -0.24638872835020778,
          1.4670954437869548,
          -0.189173117161535,
          -0.3527437302423633,
          -1.7117404210798368,
          0.048457522093129965,
          0.9007265389917656,
          -0.42341732249635067,
          0.0816182553248051,
          -0.21089804096281775,
          1.6556331387431482,
          -0.13153184493536688,
          1.181944111964066,
          2.5830824420534,
          0.4106671915172332,
          -1.266706022491882,
          0.3949972411593756,
          -0.5686340208377227,
          -1.6296276350686436,
          -0.47748567224339156,
          -0.13072699147207864,
          0.4200392298325099,
          -0.7813031954177223,
          -1.9529817674828185,
          0.866984811466902,
          -1.734427964729059,
          -1.2781840402669344,
          -1.2910708778295,
          -0.3989670450326166,
          0.8745687117774343,
          -1.2311660756455374,
          0.6089849716765106,
          1.048143379954883,
          0.3721709975994528,
          -1.1576133027199618,
          -0.34453151051109965,
          -1.0338932199109123,
          -0.9460628162322431,
          -0.04923179092455275,
          -1.0520628606997837,
          0.1852383456745756,
          -1.0632232978375835,
          -0.09162384543826531,
          0.6831550325518608,
          0.9278729993391939,
          -0.47421170746718716,
          -2.1165065532109923
         ]
        }
       ],
       "layout": {
        "legend": {
         "bgcolor": "#F5F6F9",
         "font": {
          "color": "#4D5663"
         }
        },
        "paper_bgcolor": "#F5F6F9",
        "plot_bgcolor": "#F5F6F9",
        "template": {
         "data": {
          "bar": [
           {
            "error_x": {
             "color": "#2a3f5f"
            },
            "error_y": {
             "color": "#2a3f5f"
            },
            "marker": {
             "line": {
              "color": "#E5ECF6",
              "width": 0.5
             }
            },
            "type": "bar"
           }
          ],
          "barpolar": [
           {
            "marker": {
             "line": {
              "color": "#E5ECF6",
              "width": 0.5
             }
            },
            "type": "barpolar"
           }
          ],
          "carpet": [
           {
            "aaxis": {
             "endlinecolor": "#2a3f5f",
             "gridcolor": "white",
             "linecolor": "white",
             "minorgridcolor": "white",
             "startlinecolor": "#2a3f5f"
            },
            "baxis": {
             "endlinecolor": "#2a3f5f",
             "gridcolor": "white",
             "linecolor": "white",
             "minorgridcolor": "white",
             "startlinecolor": "#2a3f5f"
            },
            "type": "carpet"
           }
          ],
          "choropleth": [
           {
            "colorbar": {
             "outlinewidth": 0,
             "ticks": ""
            },
            "type": "choropleth"
           }
          ],
          "contour": [
           {
            "colorbar": {
             "outlinewidth": 0,
             "ticks": ""
            },
            "colorscale": [
             [
              0,
              "#0d0887"
             ],
             [
              0.1111111111111111,
              "#46039f"
             ],
             [
              0.2222222222222222,
              "#7201a8"
             ],
             [
              0.3333333333333333,
              "#9c179e"
             ],
             [
              0.4444444444444444,
              "#bd3786"
             ],
             [
              0.5555555555555556,
              "#d8576b"
             ],
             [
              0.6666666666666666,
              "#ed7953"
             ],
             [
              0.7777777777777778,
              "#fb9f3a"
             ],
             [
              0.8888888888888888,
              "#fdca26"
             ],
             [
              1,
              "#f0f921"
             ]
            ],
            "type": "contour"
           }
          ],
          "contourcarpet": [
           {
            "colorbar": {
             "outlinewidth": 0,
             "ticks": ""
            },
            "type": "contourcarpet"
           }
          ],
          "heatmap": [
           {
            "colorbar": {
             "outlinewidth": 0,
             "ticks": ""
            },
            "colorscale": [
             [
              0,
              "#0d0887"
             ],
             [
              0.1111111111111111,
              "#46039f"
             ],
             [
              0.2222222222222222,
              "#7201a8"
             ],
             [
              0.3333333333333333,
              "#9c179e"
             ],
             [
              0.4444444444444444,
              "#bd3786"
             ],
             [
              0.5555555555555556,
              "#d8576b"
             ],
             [
              0.6666666666666666,
              "#ed7953"
             ],
             [
              0.7777777777777778,
              "#fb9f3a"
             ],
             [
              0.8888888888888888,
              "#fdca26"
             ],
             [
              1,
              "#f0f921"
             ]
            ],
            "type": "heatmap"
           }
          ],
          "heatmapgl": [
           {
            "colorbar": {
             "outlinewidth": 0,
             "ticks": ""
            },
            "colorscale": [
             [
              0,
              "#0d0887"
             ],
             [
              0.1111111111111111,
              "#46039f"
             ],
             [
              0.2222222222222222,
              "#7201a8"
             ],
             [
              0.3333333333333333,
              "#9c179e"
             ],
             [
              0.4444444444444444,
              "#bd3786"
             ],
             [
              0.5555555555555556,
              "#d8576b"
             ],
             [
              0.6666666666666666,
              "#ed7953"
             ],
             [
              0.7777777777777778,
              "#fb9f3a"
             ],
             [
              0.8888888888888888,
              "#fdca26"
             ],
             [
              1,
              "#f0f921"
             ]
            ],
            "type": "heatmapgl"
           }
          ],
          "histogram": [
           {
            "marker": {
             "colorbar": {
              "outlinewidth": 0,
              "ticks": ""
             }
            },
            "type": "histogram"
           }
          ],
          "histogram2d": [
           {
            "colorbar": {
             "outlinewidth": 0,
             "ticks": ""
            },
            "colorscale": [
             [
              0,
              "#0d0887"
             ],
             [
              0.1111111111111111,
              "#46039f"
             ],
             [
              0.2222222222222222,
              "#7201a8"
             ],
             [
              0.3333333333333333,
              "#9c179e"
             ],
             [
              0.4444444444444444,
              "#bd3786"
             ],
             [
              0.5555555555555556,
              "#d8576b"
             ],
             [
              0.6666666666666666,
              "#ed7953"
             ],
             [
              0.7777777777777778,
              "#fb9f3a"
             ],
             [
              0.8888888888888888,
              "#fdca26"
             ],
             [
              1,
              "#f0f921"
             ]
            ],
            "type": "histogram2d"
           }
          ],
          "histogram2dcontour": [
           {
            "colorbar": {
             "outlinewidth": 0,
             "ticks": ""
            },
            "colorscale": [
             [
              0,
              "#0d0887"
             ],
             [
              0.1111111111111111,
              "#46039f"
             ],
             [
              0.2222222222222222,
              "#7201a8"
             ],
             [
              0.3333333333333333,
              "#9c179e"
             ],
             [
              0.4444444444444444,
              "#bd3786"
             ],
             [
              0.5555555555555556,
              "#d8576b"
             ],
             [
              0.6666666666666666,
              "#ed7953"
             ],
             [
              0.7777777777777778,
              "#fb9f3a"
             ],
             [
              0.8888888888888888,
              "#fdca26"
             ],
             [
              1,
              "#f0f921"
             ]
            ],
            "type": "histogram2dcontour"
           }
          ],
          "mesh3d": [
           {
            "colorbar": {
             "outlinewidth": 0,
             "ticks": ""
            },
            "type": "mesh3d"
           }
          ],
          "parcoords": [
           {
            "line": {
             "colorbar": {
              "outlinewidth": 0,
              "ticks": ""
             }
            },
            "type": "parcoords"
           }
          ],
          "pie": [
           {
            "automargin": true,
            "type": "pie"
           }
          ],
          "scatter": [
           {
            "marker": {
             "colorbar": {
              "outlinewidth": 0,
              "ticks": ""
             }
            },
            "type": "scatter"
           }
          ],
          "scatter3d": [
           {
            "line": {
             "colorbar": {
              "outlinewidth": 0,
              "ticks": ""
             }
            },
            "marker": {
             "colorbar": {
              "outlinewidth": 0,
              "ticks": ""
             }
            },
            "type": "scatter3d"
           }
          ],
          "scattercarpet": [
           {
            "marker": {
             "colorbar": {
              "outlinewidth": 0,
              "ticks": ""
             }
            },
            "type": "scattercarpet"
           }
          ],
          "scattergeo": [
           {
            "marker": {
             "colorbar": {
              "outlinewidth": 0,
              "ticks": ""
             }
            },
            "type": "scattergeo"
           }
          ],
          "scattergl": [
           {
            "marker": {
             "colorbar": {
              "outlinewidth": 0,
              "ticks": ""
             }
            },
            "type": "scattergl"
           }
          ],
          "scattermapbox": [
           {
            "marker": {
             "colorbar": {
              "outlinewidth": 0,
              "ticks": ""
             }
            },
            "type": "scattermapbox"
           }
          ],
          "scatterpolar": [
           {
            "marker": {
             "colorbar": {
              "outlinewidth": 0,
              "ticks": ""
             }
            },
            "type": "scatterpolar"
           }
          ],
          "scatterpolargl": [
           {
            "marker": {
             "colorbar": {
              "outlinewidth": 0,
              "ticks": ""
             }
            },
            "type": "scatterpolargl"
           }
          ],
          "scatterternary": [
           {
            "marker": {
             "colorbar": {
              "outlinewidth": 0,
              "ticks": ""
             }
            },
            "type": "scatterternary"
           }
          ],
          "surface": [
           {
            "colorbar": {
             "outlinewidth": 0,
             "ticks": ""
            },
            "colorscale": [
             [
              0,
              "#0d0887"
             ],
             [
              0.1111111111111111,
              "#46039f"
             ],
             [
              0.2222222222222222,
              "#7201a8"
             ],
             [
              0.3333333333333333,
              "#9c179e"
             ],
             [
              0.4444444444444444,
              "#bd3786"
             ],
             [
              0.5555555555555556,
              "#d8576b"
             ],
             [
              0.6666666666666666,
              "#ed7953"
             ],
             [
              0.7777777777777778,
              "#fb9f3a"
             ],
             [
              0.8888888888888888,
              "#fdca26"
             ],
             [
              1,
              "#f0f921"
             ]
            ],
            "type": "surface"
           }
          ],
          "table": [
           {
            "cells": {
             "fill": {
              "color": "#EBF0F8"
             },
             "line": {
              "color": "white"
             }
            },
            "header": {
             "fill": {
              "color": "#C8D4E3"
             },
             "line": {
              "color": "white"
             }
            },
            "type": "table"
           }
          ]
         },
         "layout": {
          "annotationdefaults": {
           "arrowcolor": "#2a3f5f",
           "arrowhead": 0,
           "arrowwidth": 1
          },
          "coloraxis": {
           "colorbar": {
            "outlinewidth": 0,
            "ticks": ""
           }
          },
          "colorscale": {
           "diverging": [
            [
             0,
             "#8e0152"
            ],
            [
             0.1,
             "#c51b7d"
            ],
            [
             0.2,
             "#de77ae"
            ],
            [
             0.3,
             "#f1b6da"
            ],
            [
             0.4,
             "#fde0ef"
            ],
            [
             0.5,
             "#f7f7f7"
            ],
            [
             0.6,
             "#e6f5d0"
            ],
            [
             0.7,
             "#b8e186"
            ],
            [
             0.8,
             "#7fbc41"
            ],
            [
             0.9,
             "#4d9221"
            ],
            [
             1,
             "#276419"
            ]
           ],
           "sequential": [
            [
             0,
             "#0d0887"
            ],
            [
             0.1111111111111111,
             "#46039f"
            ],
            [
             0.2222222222222222,
             "#7201a8"
            ],
            [
             0.3333333333333333,
             "#9c179e"
            ],
            [
             0.4444444444444444,
             "#bd3786"
            ],
            [
             0.5555555555555556,
             "#d8576b"
            ],
            [
             0.6666666666666666,
             "#ed7953"
            ],
            [
             0.7777777777777778,
             "#fb9f3a"
            ],
            [
             0.8888888888888888,
             "#fdca26"
            ],
            [
             1,
             "#f0f921"
            ]
           ],
           "sequentialminus": [
            [
             0,
             "#0d0887"
            ],
            [
             0.1111111111111111,
             "#46039f"
            ],
            [
             0.2222222222222222,
             "#7201a8"
            ],
            [
             0.3333333333333333,
             "#9c179e"
            ],
            [
             0.4444444444444444,
             "#bd3786"
            ],
            [
             0.5555555555555556,
             "#d8576b"
            ],
            [
             0.6666666666666666,
             "#ed7953"
            ],
            [
             0.7777777777777778,
             "#fb9f3a"
            ],
            [
             0.8888888888888888,
             "#fdca26"
            ],
            [
             1,
             "#f0f921"
            ]
           ]
          },
          "colorway": [
           "#636efa",
           "#EF553B",
           "#00cc96",
           "#ab63fa",
           "#FFA15A",
           "#19d3f3",
           "#FF6692",
           "#B6E880",
           "#FF97FF",
           "#FECB52"
          ],
          "font": {
           "color": "#2a3f5f"
          },
          "geo": {
           "bgcolor": "white",
           "lakecolor": "white",
           "landcolor": "#E5ECF6",
           "showlakes": true,
           "showland": true,
           "subunitcolor": "white"
          },
          "hoverlabel": {
           "align": "left"
          },
          "hovermode": "closest",
          "mapbox": {
           "style": "light"
          },
          "paper_bgcolor": "white",
          "plot_bgcolor": "#E5ECF6",
          "polar": {
           "angularaxis": {
            "gridcolor": "white",
            "linecolor": "white",
            "ticks": ""
           },
           "bgcolor": "#E5ECF6",
           "radialaxis": {
            "gridcolor": "white",
            "linecolor": "white",
            "ticks": ""
           }
          },
          "scene": {
           "xaxis": {
            "backgroundcolor": "#E5ECF6",
            "gridcolor": "white",
            "gridwidth": 2,
            "linecolor": "white",
            "showbackground": true,
            "ticks": "",
            "zerolinecolor": "white"
           },
           "yaxis": {
            "backgroundcolor": "#E5ECF6",
            "gridcolor": "white",
            "gridwidth": 2,
            "linecolor": "white",
            "showbackground": true,
            "ticks": "",
            "zerolinecolor": "white"
           },
           "zaxis": {
            "backgroundcolor": "#E5ECF6",
            "gridcolor": "white",
            "gridwidth": 2,
            "linecolor": "white",
            "showbackground": true,
            "ticks": "",
            "zerolinecolor": "white"
           }
          },
          "shapedefaults": {
           "line": {
            "color": "#2a3f5f"
           }
          },
          "ternary": {
           "aaxis": {
            "gridcolor": "white",
            "linecolor": "white",
            "ticks": ""
           },
           "baxis": {
            "gridcolor": "white",
            "linecolor": "white",
            "ticks": ""
           },
           "bgcolor": "#E5ECF6",
           "caxis": {
            "gridcolor": "white",
            "linecolor": "white",
            "ticks": ""
           }
          },
          "title": {
           "x": 0.05
          },
          "xaxis": {
           "automargin": true,
           "gridcolor": "white",
           "linecolor": "white",
           "ticks": "",
           "title": {
            "standoff": 15
           },
           "zerolinecolor": "white",
           "zerolinewidth": 2
          },
          "yaxis": {
           "automargin": true,
           "gridcolor": "white",
           "linecolor": "white",
           "ticks": "",
           "title": {
            "standoff": 15
           },
           "zerolinecolor": "white",
           "zerolinewidth": 2
          }
         }
        },
        "title": {
         "font": {
          "color": "#4D5663"
         }
        },
        "xaxis": {
         "gridcolor": "#E1E5ED",
         "showgrid": true,
         "tickfont": {
          "color": "#4D5663"
         },
         "title": {
          "font": {
           "color": "#4D5663"
          },
          "text": ""
         },
         "zerolinecolor": "#E1E5ED"
        },
        "yaxis": {
         "gridcolor": "#E1E5ED",
         "showgrid": true,
         "tickfont": {
          "color": "#4D5663"
         },
         "title": {
          "font": {
           "color": "#4D5663"
          },
          "text": ""
         },
         "zerolinecolor": "#E1E5ED"
        }
       }
      },
      "text/html": [
       "<div>\n",
       "        \n",
       "        \n",
       "            <div id=\"f646d1fe-1232-4941-81fd-77a754fa11a3\" class=\"plotly-graph-div\" style=\"height:525px; width:100%;\"></div>\n",
       "            <script type=\"text/javascript\">\n",
       "                require([\"plotly\"], function(Plotly) {\n",
       "                    window.PLOTLYENV=window.PLOTLYENV || {};\n",
       "                    window.PLOTLYENV.BASE_URL='https://plot.ly';\n",
       "                    \n",
       "                if (document.getElementById(\"f646d1fe-1232-4941-81fd-77a754fa11a3\")) {\n",
       "                    Plotly.newPlot(\n",
       "                        'f646d1fe-1232-4941-81fd-77a754fa11a3',\n",
       "                        [{\"marker\": {\"color\": [\"rgb(255, 153, 51)\", \"rgb(55, 128, 191)\", \"rgb(50, 171, 96)\", \"rgb(128, 0, 128)\", \"rgb(219, 64, 82)\", \"rgb(0, 128, 128)\", \"rgb(255, 255, 51)\", \"rgb(128, 128, 0)\", \"rgb(251, 128, 114)\", \"rgb(128, 177, 211)\"], \"line\": {\"width\": 1.3}, \"size\": [40, 98, 38, 42, 56, 36, 67, 84, 45, 51, 20, 65, 45, 62, 98, 46, 42, 90, 70, 54, 62, 58, 110, 84, 33, 53, 43, 58, 64, 54, 93, 78, 76, 64, 53, 59, 55, 77, 63, 57, 87, 73, 76, 50, 59, 75, 44, 88, 81, 70, 79, 28, 49, 75, 70, 84, 68, 84, 69, 19, 83, 68, 59, 84, 66, 55, 48, 80, 103, 57, 67, 100, 80, 57, 63, 56, 82, 90, 65, 12, 58, 72, 75, 88, 44, 53, 50, 77, 84, 65, 104, 37, 72, 47, 106, 67, 112, 84, 41, 74], \"symbol\": \"circle\"}, \"mode\": \"markers\", \"text\": \"\", \"type\": \"scatter\", \"x\": [0.292974139252864, -1.1862472468463803, -0.8501922428907918, 0.9111150495629899, 1.2365734664393244, -0.30040599005249846, 1.2105765633744126, 0.14329654371470976, 0.4816690203269885, -0.7188786553096995, 0.29107117981780284, -0.3401912914972917, -0.18610532625705425, 1.8934182437838603, 0.9927287463728656, 1.168165311884389, 1.2111889751775067, 0.19395059226497616, 0.28144601088500154, 0.2929306980738659, 1.1101162910982343, -0.20882608286556142, -0.14537398933595616, -0.6074017425049224, -0.45238438838097095, -0.36610343319996314, 0.26477062314585953, 0.14515091806317906, 0.7803251454516109, 0.608549950958882, -0.4026053747294526, -1.2321271511876488, 0.29910009937757676, -0.18539593485926428, -1.28945619590427, 0.39696306959178446, 0.694370207176139, -0.2679532057619806, 0.6478464445330818, -0.4988282383343721, -1.6079546032861718, 1.7507638766258602, 0.005242884837819096, 0.25125359691177257, -0.23229482042008281, -0.9157632735360842, 0.19640311609892663, -1.3062721849837655, 0.4339583497922634, -1.229079058345127, -1.115240077344917, 0.12379795927408499, 2.6290620243327067, 0.3998538531848044, 0.45893027219882326, -0.7086162503195204, 0.057001724806481205, 0.029529428385691656, -0.1534944558163816, 0.8870271703734542, -1.8295512441698598, 0.9303258214684024, -1.3794435848247562, -0.07751135502855382, 0.22194716382883783, -0.9513732804851377, 0.6170642625680876, 1.174827368853181, -1.7776866913199962, -1.690521991664963, 0.3160827137707872, 0.8005986394539232, -1.6980350094685637, -1.2304179781414055, -0.901279065228436, 0.22598156079956105, 0.3232752239225913, 0.29907964573518026, -0.16176374150177283, 0.6745298559739035, -1.4039829245790993, -0.7949168861300312, 0.8842730651829632, -0.7882189620982454, -0.7676887445502899, -0.6083321443906384, 1.6090599247918695, -0.5152246440526308, -0.3464353213483669, -0.28668138720437186, 0.8387664451015886, 0.7879805141342737, 1.0128081521957695, 1.4073545183039107, -0.838922259663184, -1.559188829826368, -0.10949875615111043, 0.5570685284421174, -0.5377441150506823, 0.7886033547968465], \"y\": [-0.716753785541702, 0.1466280511998309, -0.6006519808735739, -0.5415580708273, -1.7400320426706721, 0.06483281643880595, 0.9267383919456018, 0.2754962391363442, -0.06963639112657052, 0.43293104058293036, -0.13165251266138508, 0.3688569256553953, 1.101879648066124, 1.0069678548545076, -1.0246405999495924, -0.037202033114178676, 0.259486510387421, -0.05785681071930317, -1.4405479471178548, -0.8243764549033302, -0.1175958470954889, -1.1981943378901034, 0.1487120785832584, 1.0764514860316108, -0.1310759686583265, 0.7870838978756679, 0.09754672432005959, -1.4826931311691334, 1.0793655584203048, 0.9233239197538965, 1.3166320867203176, 0.18222042165689503, -0.06256287722059806, 1.1043295807781548, -0.6150240875265599, 0.790514023860243, -2.0799884828014936, 0.5008675581779642, -0.6810354084403812, -1.2386481384626733, -1.2911154417873516, -0.5154920168362496, -0.4031392471329243, 0.9983704720180332, -1.0160075337650878, 1.886243651028083, -0.5715465786042008, -1.2679931356019523, 1.6614338951907, -0.17792785850635345, 1.4745507719444697, 1.1776871716912736, -1.2561713012470577, -0.24638872835020778, 1.4670954437869548, -0.189173117161535, -0.3527437302423633, -1.7117404210798368, 0.048457522093129965, 0.9007265389917656, -0.42341732249635067, 0.0816182553248051, -0.21089804096281775, 1.6556331387431482, -0.13153184493536688, 1.181944111964066, 2.5830824420534, 0.4106671915172332, -1.266706022491882, 0.3949972411593756, -0.5686340208377227, -1.6296276350686436, -0.47748567224339156, -0.13072699147207864, 0.4200392298325099, -0.7813031954177223, -1.9529817674828185, 0.866984811466902, -1.734427964729059, -1.2781840402669344, -1.2910708778295, -0.3989670450326166, 0.8745687117774343, -1.2311660756455374, 0.6089849716765106, 1.048143379954883, 0.3721709975994528, -1.1576133027199618, -0.34453151051109965, -1.0338932199109123, -0.9460628162322431, -0.04923179092455275, -1.0520628606997837, 0.1852383456745756, -1.0632232978375835, -0.09162384543826531, 0.6831550325518608, 0.9278729993391939, -0.47421170746718716, -2.1165065532109923]}],\n",
       "                        {\"legend\": {\"bgcolor\": \"#F5F6F9\", \"font\": {\"color\": \"#4D5663\"}}, \"paper_bgcolor\": \"#F5F6F9\", \"plot_bgcolor\": \"#F5F6F9\", \"template\": {\"data\": {\"bar\": [{\"error_x\": {\"color\": \"#2a3f5f\"}, \"error_y\": {\"color\": \"#2a3f5f\"}, \"marker\": {\"line\": {\"color\": \"#E5ECF6\", \"width\": 0.5}}, \"type\": \"bar\"}], \"barpolar\": [{\"marker\": {\"line\": {\"color\": \"#E5ECF6\", \"width\": 0.5}}, \"type\": \"barpolar\"}], \"carpet\": [{\"aaxis\": {\"endlinecolor\": \"#2a3f5f\", \"gridcolor\": \"white\", \"linecolor\": \"white\", \"minorgridcolor\": \"white\", \"startlinecolor\": \"#2a3f5f\"}, \"baxis\": {\"endlinecolor\": \"#2a3f5f\", \"gridcolor\": \"white\", \"linecolor\": \"white\", \"minorgridcolor\": \"white\", \"startlinecolor\": \"#2a3f5f\"}, \"type\": \"carpet\"}], \"choropleth\": [{\"colorbar\": {\"outlinewidth\": 0, \"ticks\": \"\"}, \"type\": \"choropleth\"}], \"contour\": [{\"colorbar\": {\"outlinewidth\": 0, \"ticks\": \"\"}, \"colorscale\": [[0.0, \"#0d0887\"], [0.1111111111111111, \"#46039f\"], [0.2222222222222222, \"#7201a8\"], [0.3333333333333333, \"#9c179e\"], [0.4444444444444444, \"#bd3786\"], [0.5555555555555556, \"#d8576b\"], [0.6666666666666666, \"#ed7953\"], [0.7777777777777778, \"#fb9f3a\"], [0.8888888888888888, \"#fdca26\"], [1.0, \"#f0f921\"]], \"type\": \"contour\"}], \"contourcarpet\": [{\"colorbar\": {\"outlinewidth\": 0, \"ticks\": \"\"}, \"type\": \"contourcarpet\"}], \"heatmap\": [{\"colorbar\": {\"outlinewidth\": 0, \"ticks\": \"\"}, \"colorscale\": [[0.0, \"#0d0887\"], [0.1111111111111111, \"#46039f\"], [0.2222222222222222, \"#7201a8\"], [0.3333333333333333, \"#9c179e\"], [0.4444444444444444, \"#bd3786\"], [0.5555555555555556, \"#d8576b\"], [0.6666666666666666, \"#ed7953\"], [0.7777777777777778, \"#fb9f3a\"], [0.8888888888888888, \"#fdca26\"], [1.0, \"#f0f921\"]], \"type\": \"heatmap\"}], \"heatmapgl\": [{\"colorbar\": {\"outlinewidth\": 0, \"ticks\": \"\"}, \"colorscale\": [[0.0, \"#0d0887\"], [0.1111111111111111, \"#46039f\"], [0.2222222222222222, \"#7201a8\"], [0.3333333333333333, \"#9c179e\"], [0.4444444444444444, \"#bd3786\"], [0.5555555555555556, \"#d8576b\"], [0.6666666666666666, \"#ed7953\"], [0.7777777777777778, \"#fb9f3a\"], [0.8888888888888888, \"#fdca26\"], [1.0, \"#f0f921\"]], \"type\": \"heatmapgl\"}], \"histogram\": [{\"marker\": {\"colorbar\": {\"outlinewidth\": 0, \"ticks\": \"\"}}, \"type\": \"histogram\"}], \"histogram2d\": [{\"colorbar\": {\"outlinewidth\": 0, \"ticks\": \"\"}, \"colorscale\": [[0.0, \"#0d0887\"], [0.1111111111111111, \"#46039f\"], [0.2222222222222222, \"#7201a8\"], [0.3333333333333333, \"#9c179e\"], [0.4444444444444444, \"#bd3786\"], [0.5555555555555556, \"#d8576b\"], [0.6666666666666666, \"#ed7953\"], [0.7777777777777778, \"#fb9f3a\"], [0.8888888888888888, \"#fdca26\"], [1.0, \"#f0f921\"]], \"type\": \"histogram2d\"}], \"histogram2dcontour\": [{\"colorbar\": {\"outlinewidth\": 0, \"ticks\": \"\"}, \"colorscale\": [[0.0, \"#0d0887\"], [0.1111111111111111, \"#46039f\"], [0.2222222222222222, \"#7201a8\"], [0.3333333333333333, \"#9c179e\"], [0.4444444444444444, \"#bd3786\"], [0.5555555555555556, \"#d8576b\"], [0.6666666666666666, \"#ed7953\"], [0.7777777777777778, \"#fb9f3a\"], [0.8888888888888888, \"#fdca26\"], [1.0, \"#f0f921\"]], \"type\": \"histogram2dcontour\"}], \"mesh3d\": [{\"colorbar\": {\"outlinewidth\": 0, \"ticks\": \"\"}, \"type\": \"mesh3d\"}], \"parcoords\": [{\"line\": {\"colorbar\": {\"outlinewidth\": 0, \"ticks\": \"\"}}, \"type\": \"parcoords\"}], \"pie\": [{\"automargin\": true, \"type\": \"pie\"}], \"scatter\": [{\"marker\": {\"colorbar\": {\"outlinewidth\": 0, \"ticks\": \"\"}}, \"type\": \"scatter\"}], \"scatter3d\": [{\"line\": {\"colorbar\": {\"outlinewidth\": 0, \"ticks\": \"\"}}, \"marker\": {\"colorbar\": {\"outlinewidth\": 0, \"ticks\": \"\"}}, \"type\": \"scatter3d\"}], \"scattercarpet\": [{\"marker\": {\"colorbar\": {\"outlinewidth\": 0, \"ticks\": \"\"}}, \"type\": \"scattercarpet\"}], \"scattergeo\": [{\"marker\": {\"colorbar\": {\"outlinewidth\": 0, \"ticks\": \"\"}}, \"type\": \"scattergeo\"}], \"scattergl\": [{\"marker\": {\"colorbar\": {\"outlinewidth\": 0, \"ticks\": \"\"}}, \"type\": \"scattergl\"}], \"scattermapbox\": [{\"marker\": {\"colorbar\": {\"outlinewidth\": 0, \"ticks\": \"\"}}, \"type\": \"scattermapbox\"}], \"scatterpolar\": [{\"marker\": {\"colorbar\": {\"outlinewidth\": 0, \"ticks\": \"\"}}, \"type\": \"scatterpolar\"}], \"scatterpolargl\": [{\"marker\": {\"colorbar\": {\"outlinewidth\": 0, \"ticks\": \"\"}}, \"type\": \"scatterpolargl\"}], \"scatterternary\": [{\"marker\": {\"colorbar\": {\"outlinewidth\": 0, \"ticks\": \"\"}}, \"type\": \"scatterternary\"}], \"surface\": [{\"colorbar\": {\"outlinewidth\": 0, \"ticks\": \"\"}, \"colorscale\": [[0.0, \"#0d0887\"], [0.1111111111111111, \"#46039f\"], [0.2222222222222222, \"#7201a8\"], [0.3333333333333333, \"#9c179e\"], [0.4444444444444444, \"#bd3786\"], [0.5555555555555556, \"#d8576b\"], [0.6666666666666666, \"#ed7953\"], [0.7777777777777778, \"#fb9f3a\"], [0.8888888888888888, \"#fdca26\"], [1.0, \"#f0f921\"]], \"type\": \"surface\"}], \"table\": [{\"cells\": {\"fill\": {\"color\": \"#EBF0F8\"}, \"line\": {\"color\": \"white\"}}, \"header\": {\"fill\": {\"color\": \"#C8D4E3\"}, \"line\": {\"color\": \"white\"}}, \"type\": \"table\"}]}, \"layout\": {\"annotationdefaults\": {\"arrowcolor\": \"#2a3f5f\", \"arrowhead\": 0, \"arrowwidth\": 1}, \"coloraxis\": {\"colorbar\": {\"outlinewidth\": 0, \"ticks\": \"\"}}, \"colorscale\": {\"diverging\": [[0, \"#8e0152\"], [0.1, \"#c51b7d\"], [0.2, \"#de77ae\"], [0.3, \"#f1b6da\"], [0.4, \"#fde0ef\"], [0.5, \"#f7f7f7\"], [0.6, \"#e6f5d0\"], [0.7, \"#b8e186\"], [0.8, \"#7fbc41\"], [0.9, \"#4d9221\"], [1, \"#276419\"]], \"sequential\": [[0.0, \"#0d0887\"], [0.1111111111111111, \"#46039f\"], [0.2222222222222222, \"#7201a8\"], [0.3333333333333333, \"#9c179e\"], [0.4444444444444444, \"#bd3786\"], [0.5555555555555556, \"#d8576b\"], [0.6666666666666666, \"#ed7953\"], [0.7777777777777778, \"#fb9f3a\"], [0.8888888888888888, \"#fdca26\"], [1.0, \"#f0f921\"]], \"sequentialminus\": [[0.0, \"#0d0887\"], [0.1111111111111111, \"#46039f\"], [0.2222222222222222, \"#7201a8\"], [0.3333333333333333, \"#9c179e\"], [0.4444444444444444, \"#bd3786\"], [0.5555555555555556, \"#d8576b\"], [0.6666666666666666, \"#ed7953\"], [0.7777777777777778, \"#fb9f3a\"], [0.8888888888888888, \"#fdca26\"], [1.0, \"#f0f921\"]]}, \"colorway\": [\"#636efa\", \"#EF553B\", \"#00cc96\", \"#ab63fa\", \"#FFA15A\", \"#19d3f3\", \"#FF6692\", \"#B6E880\", \"#FF97FF\", \"#FECB52\"], \"font\": {\"color\": \"#2a3f5f\"}, \"geo\": {\"bgcolor\": \"white\", \"lakecolor\": \"white\", \"landcolor\": \"#E5ECF6\", \"showlakes\": true, \"showland\": true, \"subunitcolor\": \"white\"}, \"hoverlabel\": {\"align\": \"left\"}, \"hovermode\": \"closest\", \"mapbox\": {\"style\": \"light\"}, \"paper_bgcolor\": \"white\", \"plot_bgcolor\": \"#E5ECF6\", \"polar\": {\"angularaxis\": {\"gridcolor\": \"white\", \"linecolor\": \"white\", \"ticks\": \"\"}, \"bgcolor\": \"#E5ECF6\", \"radialaxis\": {\"gridcolor\": \"white\", \"linecolor\": \"white\", \"ticks\": \"\"}}, \"scene\": {\"xaxis\": {\"backgroundcolor\": \"#E5ECF6\", \"gridcolor\": \"white\", \"gridwidth\": 2, \"linecolor\": \"white\", \"showbackground\": true, \"ticks\": \"\", \"zerolinecolor\": \"white\"}, \"yaxis\": {\"backgroundcolor\": \"#E5ECF6\", \"gridcolor\": \"white\", \"gridwidth\": 2, \"linecolor\": \"white\", \"showbackground\": true, \"ticks\": \"\", \"zerolinecolor\": \"white\"}, \"zaxis\": {\"backgroundcolor\": \"#E5ECF6\", \"gridcolor\": \"white\", \"gridwidth\": 2, \"linecolor\": \"white\", \"showbackground\": true, \"ticks\": \"\", \"zerolinecolor\": \"white\"}}, \"shapedefaults\": {\"line\": {\"color\": \"#2a3f5f\"}}, \"ternary\": {\"aaxis\": {\"gridcolor\": \"white\", \"linecolor\": \"white\", \"ticks\": \"\"}, \"baxis\": {\"gridcolor\": \"white\", \"linecolor\": \"white\", \"ticks\": \"\"}, \"bgcolor\": \"#E5ECF6\", \"caxis\": {\"gridcolor\": \"white\", \"linecolor\": \"white\", \"ticks\": \"\"}}, \"title\": {\"x\": 0.05}, \"xaxis\": {\"automargin\": true, \"gridcolor\": \"white\", \"linecolor\": \"white\", \"ticks\": \"\", \"title\": {\"standoff\": 15}, \"zerolinecolor\": \"white\", \"zerolinewidth\": 2}, \"yaxis\": {\"automargin\": true, \"gridcolor\": \"white\", \"linecolor\": \"white\", \"ticks\": \"\", \"title\": {\"standoff\": 15}, \"zerolinecolor\": \"white\", \"zerolinewidth\": 2}}}, \"title\": {\"font\": {\"color\": \"#4D5663\"}}, \"xaxis\": {\"gridcolor\": \"#E1E5ED\", \"showgrid\": true, \"tickfont\": {\"color\": \"#4D5663\"}, \"title\": {\"font\": {\"color\": \"#4D5663\"}, \"text\": \"\"}, \"zerolinecolor\": \"#E1E5ED\"}, \"yaxis\": {\"gridcolor\": \"#E1E5ED\", \"showgrid\": true, \"tickfont\": {\"color\": \"#4D5663\"}, \"title\": {\"font\": {\"color\": \"#4D5663\"}, \"text\": \"\"}, \"zerolinecolor\": \"#E1E5ED\"}},\n",
       "                        {\"showLink\": true, \"linkText\": \"Export to plot.ly\", \"plotlyServerURL\": \"https://plot.ly\", \"responsive\": true}\n",
       "                    ).then(function(){\n",
       "                            \n",
       "var gd = document.getElementById('f646d1fe-1232-4941-81fd-77a754fa11a3');\n",
       "var x = new MutationObserver(function (mutations, observer) {{\n",
       "        var display = window.getComputedStyle(gd).display;\n",
       "        if (!display || display === 'none') {{\n",
       "            console.log([gd, 'removed!']);\n",
       "            Plotly.purge(gd);\n",
       "            observer.disconnect();\n",
       "        }}\n",
       "}});\n",
       "\n",
       "// Listen for the removal of the full notebook cells\n",
       "var notebookContainer = gd.closest('#notebook-container');\n",
       "if (notebookContainer) {{\n",
       "    x.observe(notebookContainer, {childList: true});\n",
       "}}\n",
       "\n",
       "// Listen for the clearing of the current output cell\n",
       "var outputEl = gd.closest('.output');\n",
       "if (outputEl) {{\n",
       "    x.observe(outputEl, {childList: true});\n",
       "}}\n",
       "\n",
       "                        })\n",
       "                };\n",
       "                });\n",
       "            </script>\n",
       "        </div>"
      ]
     },
     "metadata": {},
     "output_type": "display_data"
    }
   ],
   "source": [
    "df.iplot(kind=\"bubble\", x = \"a\", y = \"b\", size= \"c\");"
   ]
  },
  {
   "cell_type": "markdown",
   "metadata": {},
   "source": [
    "## Scatter Matrix Plot"
   ]
  },
  {
   "cell_type": "code",
   "execution_count": 41,
   "metadata": {},
   "outputs": [
    {
     "data": {
      "application/vnd.plotly.v1+json": {
       "config": {
        "linkText": "Export to plot.ly",
        "plotlyServerURL": "https://plot.ly",
        "showLink": true
       },
       "data": [
        {
         "histfunc": "count",
         "histnorm": "",
         "marker": {
          "color": "rgba(255, 153, 51, 1.0)",
          "line": {
           "color": "#4D5663",
           "width": 1.3
          }
         },
         "name": "a",
         "nbinsx": 10,
         "opacity": 0.8,
         "orientation": "v",
         "type": "histogram",
         "x": [
          0.292974139252864,
          -1.1862472468463803,
          -0.8501922428907918,
          0.9111150495629899,
          1.2365734664393244,
          -0.30040599005249846,
          1.2105765633744126,
          0.14329654371470976,
          0.4816690203269885,
          -0.7188786553096995,
          0.29107117981780284,
          -0.3401912914972917,
          -0.18610532625705425,
          1.8934182437838603,
          0.9927287463728656,
          1.168165311884389,
          1.2111889751775067,
          0.19395059226497616,
          0.28144601088500154,
          0.2929306980738659,
          1.1101162910982343,
          -0.20882608286556142,
          -0.14537398933595616,
          -0.6074017425049224,
          -0.45238438838097095,
          -0.36610343319996314,
          0.26477062314585953,
          0.14515091806317906,
          0.7803251454516109,
          0.608549950958882,
          -0.4026053747294526,
          -1.2321271511876488,
          0.29910009937757676,
          -0.18539593485926428,
          -1.28945619590427,
          0.39696306959178446,
          0.694370207176139,
          -0.2679532057619806,
          0.6478464445330818,
          -0.4988282383343721,
          -1.6079546032861718,
          1.7507638766258602,
          0.005242884837819096,
          0.25125359691177257,
          -0.23229482042008281,
          -0.9157632735360842,
          0.19640311609892663,
          -1.3062721849837655,
          0.4339583497922634,
          -1.229079058345127,
          -1.115240077344917,
          0.12379795927408499,
          2.6290620243327067,
          0.3998538531848044,
          0.45893027219882326,
          -0.7086162503195204,
          0.057001724806481205,
          0.029529428385691656,
          -0.1534944558163816,
          0.8870271703734542,
          -1.8295512441698598,
          0.9303258214684024,
          -1.3794435848247562,
          -0.07751135502855382,
          0.22194716382883783,
          -0.9513732804851377,
          0.6170642625680876,
          1.174827368853181,
          -1.7776866913199962,
          -1.690521991664963,
          0.3160827137707872,
          0.8005986394539232,
          -1.6980350094685637,
          -1.2304179781414055,
          -0.901279065228436,
          0.22598156079956105,
          0.3232752239225913,
          0.29907964573518026,
          -0.16176374150177283,
          0.6745298559739035,
          -1.4039829245790993,
          -0.7949168861300312,
          0.8842730651829632,
          -0.7882189620982454,
          -0.7676887445502899,
          -0.6083321443906384,
          1.6090599247918695,
          -0.5152246440526308,
          -0.3464353213483669,
          -0.28668138720437186,
          0.8387664451015886,
          0.7879805141342737,
          1.0128081521957695,
          1.4073545183039107,
          -0.838922259663184,
          -1.559188829826368,
          -0.10949875615111043,
          0.5570685284421174,
          -0.5377441150506823,
          0.7886033547968465
         ],
         "xaxis": "x",
         "yaxis": "y"
        },
        {
         "line": {
          "color": "rgba(128, 128, 128, 1.0)",
          "dash": "solid",
          "shape": "linear",
          "width": 1.3
         },
         "marker": {
          "size": 2,
          "symbol": "circle"
         },
         "mode": "markers",
         "name": "a",
         "text": "",
         "type": "scatter",
         "x": [
          -0.716753785541702,
          0.1466280511998309,
          -0.6006519808735739,
          -0.5415580708273,
          -1.7400320426706721,
          0.06483281643880595,
          0.9267383919456018,
          0.2754962391363442,
          -0.06963639112657052,
          0.43293104058293036,
          -0.13165251266138508,
          0.3688569256553953,
          1.101879648066124,
          1.0069678548545076,
          -1.0246405999495924,
          -0.037202033114178676,
          0.259486510387421,
          -0.05785681071930317,
          -1.4405479471178548,
          -0.8243764549033302,
          -0.1175958470954889,
          -1.1981943378901034,
          0.1487120785832584,
          1.0764514860316108,
          -0.1310759686583265,
          0.7870838978756679,
          0.09754672432005959,
          -1.4826931311691334,
          1.0793655584203048,
          0.9233239197538965,
          1.3166320867203176,
          0.18222042165689503,
          -0.06256287722059806,
          1.1043295807781548,
          -0.6150240875265599,
          0.790514023860243,
          -2.0799884828014936,
          0.5008675581779642,
          -0.6810354084403812,
          -1.2386481384626733,
          -1.2911154417873516,
          -0.5154920168362496,
          -0.4031392471329243,
          0.9983704720180332,
          -1.0160075337650878,
          1.886243651028083,
          -0.5715465786042008,
          -1.2679931356019523,
          1.6614338951907,
          -0.17792785850635345,
          1.4745507719444697,
          1.1776871716912736,
          -1.2561713012470577,
          -0.24638872835020778,
          1.4670954437869548,
          -0.189173117161535,
          -0.3527437302423633,
          -1.7117404210798368,
          0.048457522093129965,
          0.9007265389917656,
          -0.42341732249635067,
          0.0816182553248051,
          -0.21089804096281775,
          1.6556331387431482,
          -0.13153184493536688,
          1.181944111964066,
          2.5830824420534,
          0.4106671915172332,
          -1.266706022491882,
          0.3949972411593756,
          -0.5686340208377227,
          -1.6296276350686436,
          -0.47748567224339156,
          -0.13072699147207864,
          0.4200392298325099,
          -0.7813031954177223,
          -1.9529817674828185,
          0.866984811466902,
          -1.734427964729059,
          -1.2781840402669344,
          -1.2910708778295,
          -0.3989670450326166,
          0.8745687117774343,
          -1.2311660756455374,
          0.6089849716765106,
          1.048143379954883,
          0.3721709975994528,
          -1.1576133027199618,
          -0.34453151051109965,
          -1.0338932199109123,
          -0.9460628162322431,
          -0.04923179092455275,
          -1.0520628606997837,
          0.1852383456745756,
          -1.0632232978375835,
          -0.09162384543826531,
          0.6831550325518608,
          0.9278729993391939,
          -0.47421170746718716,
          -2.1165065532109923
         ],
         "xaxis": "x2",
         "y": [
          0.292974139252864,
          -1.1862472468463803,
          -0.8501922428907918,
          0.9111150495629899,
          1.2365734664393244,
          -0.30040599005249846,
          1.2105765633744126,
          0.14329654371470976,
          0.4816690203269885,
          -0.7188786553096995,
          0.29107117981780284,
          -0.3401912914972917,
          -0.18610532625705425,
          1.8934182437838603,
          0.9927287463728656,
          1.168165311884389,
          1.2111889751775067,
          0.19395059226497616,
          0.28144601088500154,
          0.2929306980738659,
          1.1101162910982343,
          -0.20882608286556142,
          -0.14537398933595616,
          -0.6074017425049224,
          -0.45238438838097095,
          -0.36610343319996314,
          0.26477062314585953,
          0.14515091806317906,
          0.7803251454516109,
          0.608549950958882,
          -0.4026053747294526,
          -1.2321271511876488,
          0.29910009937757676,
          -0.18539593485926428,
          -1.28945619590427,
          0.39696306959178446,
          0.694370207176139,
          -0.2679532057619806,
          0.6478464445330818,
          -0.4988282383343721,
          -1.6079546032861718,
          1.7507638766258602,
          0.005242884837819096,
          0.25125359691177257,
          -0.23229482042008281,
          -0.9157632735360842,
          0.19640311609892663,
          -1.3062721849837655,
          0.4339583497922634,
          -1.229079058345127,
          -1.115240077344917,
          0.12379795927408499,
          2.6290620243327067,
          0.3998538531848044,
          0.45893027219882326,
          -0.7086162503195204,
          0.057001724806481205,
          0.029529428385691656,
          -0.1534944558163816,
          0.8870271703734542,
          -1.8295512441698598,
          0.9303258214684024,
          -1.3794435848247562,
          -0.07751135502855382,
          0.22194716382883783,
          -0.9513732804851377,
          0.6170642625680876,
          1.174827368853181,
          -1.7776866913199962,
          -1.690521991664963,
          0.3160827137707872,
          0.8005986394539232,
          -1.6980350094685637,
          -1.2304179781414055,
          -0.901279065228436,
          0.22598156079956105,
          0.3232752239225913,
          0.29907964573518026,
          -0.16176374150177283,
          0.6745298559739035,
          -1.4039829245790993,
          -0.7949168861300312,
          0.8842730651829632,
          -0.7882189620982454,
          -0.7676887445502899,
          -0.6083321443906384,
          1.6090599247918695,
          -0.5152246440526308,
          -0.3464353213483669,
          -0.28668138720437186,
          0.8387664451015886,
          0.7879805141342737,
          1.0128081521957695,
          1.4073545183039107,
          -0.838922259663184,
          -1.559188829826368,
          -0.10949875615111043,
          0.5570685284421174,
          -0.5377441150506823,
          0.7886033547968465
         ],
         "yaxis": "y2"
        },
        {
         "line": {
          "color": "rgba(128, 128, 128, 1.0)",
          "dash": "solid",
          "shape": "linear",
          "width": 1.3
         },
         "marker": {
          "size": 2,
          "symbol": "circle"
         },
         "mode": "markers",
         "name": "a",
         "text": "",
         "type": "scatter",
         "x": [
          -1.4574517012520272,
          1.616925654315569,
          -1.554079012755402,
          -1.3165598564774106,
          -0.580298637975121,
          -1.6622341146471158,
          0.0039029501057902772,
          0.8855012353492825,
          -1.1843262679473314,
          -0.8762274816520518,
          -2.4646576366704944,
          -0.11414376769157988,
          -1.1574256893431913,
          -0.28131202269853645,
          1.6284928461930106,
          -1.1270331276821361,
          -1.344704448640053,
          1.1875302280251283,
          0.15559218997485583,
          -0.694260078532112,
          -0.29230645832071095,
          -0.4992558232676912,
          2.2688498517230893,
          0.8712707377838431,
          -1.8036431447735157,
          -0.7676519683585615,
          -1.2829084489005982,
          -0.5016259466438856,
          -0.184038073037974,
          -0.6806145366236737,
          1.3825998331661564,
          0.5558087648980298,
          0.4674027907247537,
          -0.1549875719036628,
          -0.7654380083742985,
          -0.4334620098771487,
          -0.6188327405333642,
          0.5113328091437372,
          -0.2408638527363929,
          -0.5205996360579126,
          1.0248637764154853,
          0.2991721298703997,
          0.45632859815423865,
          -0.9165600624818021,
          -0.44150693650391165,
          0.42136716310207434,
          -1.2432181110372378,
          1.0761841766878144,
          0.7271372108552653,
          0.15546762147580842,
          0.6033910326548694,
          -2.044292625815654,
          -0.9504839369270148,
          0.38448091998306994,
          0.15621297799152092,
          0.8973509172710784,
          0.026233284321891336,
          0.9054939180728044,
          0.10031640150414387,
          -2.566416680691887,
          0.8578496553772357,
          0.04616710992563474,
          -0.4143519451742939,
          0.8982911790569463,
          -0.05048697730085292,
          -0.6385282870452667,
          -1.0250444618637682,
          0.689639711080981,
          1.8719098341594118,
          -0.5409850552157894,
          -0.01957191723265198,
          1.716922728791775,
          0.6554178012225307,
          -0.5570779687502161,
          -0.2421632594089551,
          -0.5900055298173724,
          0.7918831028021635,
          1.1758606862114478,
          -0.12566303634482529,
          -2.9377823589005674,
          -0.4739948397669631,
          0.2360822009977156,
          0.3880072625953246,
          1.0820181968440927,
          -1.2042895773888243,
          -0.7307572670679031,
          -0.9011519959149107,
          0.5032055368961691,
          0.8620177087655849,
          -0.11785406490076067,
          1.9448207551672967,
          -1.6170836002097697,
          0.24263889685777973,
          -1.0640079092624295,
          2.0609860331539123,
          -0.0027704454288980614,
          2.3348516223314975,
          0.9078533647685604,
          -1.4074955229616364,
          0.3569938923431798
         ],
         "xaxis": "x3",
         "y": [
          0.292974139252864,
          -1.1862472468463803,
          -0.8501922428907918,
          0.9111150495629899,
          1.2365734664393244,
          -0.30040599005249846,
          1.2105765633744126,
          0.14329654371470976,
          0.4816690203269885,
          -0.7188786553096995,
          0.29107117981780284,
          -0.3401912914972917,
          -0.18610532625705425,
          1.8934182437838603,
          0.9927287463728656,
          1.168165311884389,
          1.2111889751775067,
          0.19395059226497616,
          0.28144601088500154,
          0.2929306980738659,
          1.1101162910982343,
          -0.20882608286556142,
          -0.14537398933595616,
          -0.6074017425049224,
          -0.45238438838097095,
          -0.36610343319996314,
          0.26477062314585953,
          0.14515091806317906,
          0.7803251454516109,
          0.608549950958882,
          -0.4026053747294526,
          -1.2321271511876488,
          0.29910009937757676,
          -0.18539593485926428,
          -1.28945619590427,
          0.39696306959178446,
          0.694370207176139,
          -0.2679532057619806,
          0.6478464445330818,
          -0.4988282383343721,
          -1.6079546032861718,
          1.7507638766258602,
          0.005242884837819096,
          0.25125359691177257,
          -0.23229482042008281,
          -0.9157632735360842,
          0.19640311609892663,
          -1.3062721849837655,
          0.4339583497922634,
          -1.229079058345127,
          -1.115240077344917,
          0.12379795927408499,
          2.6290620243327067,
          0.3998538531848044,
          0.45893027219882326,
          -0.7086162503195204,
          0.057001724806481205,
          0.029529428385691656,
          -0.1534944558163816,
          0.8870271703734542,
          -1.8295512441698598,
          0.9303258214684024,
          -1.3794435848247562,
          -0.07751135502855382,
          0.22194716382883783,
          -0.9513732804851377,
          0.6170642625680876,
          1.174827368853181,
          -1.7776866913199962,
          -1.690521991664963,
          0.3160827137707872,
          0.8005986394539232,
          -1.6980350094685637,
          -1.2304179781414055,
          -0.901279065228436,
          0.22598156079956105,
          0.3232752239225913,
          0.29907964573518026,
          -0.16176374150177283,
          0.6745298559739035,
          -1.4039829245790993,
          -0.7949168861300312,
          0.8842730651829632,
          -0.7882189620982454,
          -0.7676887445502899,
          -0.6083321443906384,
          1.6090599247918695,
          -0.5152246440526308,
          -0.3464353213483669,
          -0.28668138720437186,
          0.8387664451015886,
          0.7879805141342737,
          1.0128081521957695,
          1.4073545183039107,
          -0.838922259663184,
          -1.559188829826368,
          -0.10949875615111043,
          0.5570685284421174,
          -0.5377441150506823,
          0.7886033547968465
         ],
         "yaxis": "y3"
        },
        {
         "line": {
          "color": "rgba(128, 128, 128, 1.0)",
          "dash": "solid",
          "shape": "linear",
          "width": 1.3
         },
         "marker": {
          "size": 2,
          "symbol": "circle"
         },
         "mode": "markers",
         "name": "a",
         "text": "",
         "type": "scatter",
         "x": [
          2.3168273884694734,
          0.39458319641642464,
          -0.46510318054608163,
          -0.20172718202204393,
          -0.24189053063818983,
          -0.792642437428442,
          -0.7401698295328846,
          -1.6801107382717764,
          -0.4817563971652019,
          1.5451818928436343,
          -0.22888853476448212,
          1.4780655993868645,
          -0.767531470835622,
          -0.6532088894241367,
          -0.8514192088845505,
          -1.5254673915519978,
          -1.4537449170569778,
          -0.6320374135597754,
          -0.8111518709770245,
          0.861081336229097,
          1.398138867193178,
          1.6404486362786317,
          0.6573956893296753,
          0.22476108022847083,
          -0.2913070574236847,
          1.5958957556512083,
          0.1601336724116086,
          -1.3320058902909229,
          1.0081466141810744,
          0.32324195296946145,
          -0.7879628462741596,
          -0.8374729790360113,
          -0.6381494389997875,
          0.31177265196395976,
          -1.1812845002923689,
          -0.0032961040756202963,
          -1.4025396209387575,
          -0.6452642332947516,
          0.10767114802755778,
          -1.7139180836635397,
          0.776903516254839,
          0.08644358216921927,
          -1.1838441134944493,
          -0.6951559872484373,
          0.7020684612347757,
          -0.09257493287535283,
          -1.220722643372712,
          -0.7187472041161967,
          -0.017343737356023715,
          0.09737197968014913,
          -1.014912564771148,
          0.9485883343880211,
          -1.4700120494045807,
          0.527090124873511,
          0.981897523303843,
          -0.3729055802591033,
          -1.6546241743330667,
          1.0030031251048521,
          -0.10009683865690405,
          0.6562216961141715,
          -0.743623457689815,
          -1.2941608938560312,
          -0.3990600877641281,
          -0.43141935572373885,
          0.7232784352637682,
          -0.48702320351926975,
          -1.4411058137972361,
          -0.07500513796421322,
          0.23258225057884316,
          -0.009442055362124542,
          -1.1299073084348996,
          2.305132922619832,
          1.151453310017223,
          -1.7161278508924651,
          -0.10216223260372957,
          -1.5974074792176651,
          -0.7634211473180553,
          0.7452180047870218,
          -0.1850689346138391,
          0.08824655821509114,
          -1.1552205198591217,
          -0.3679056931079725,
          1.141413950342741,
          -1.218427511084178,
          0.022191477204873092,
          -0.5097153447922266,
          -0.547101576777799,
          -0.006209405227791605,
          -0.8802870712850492,
          1.5497504397861899,
          -1.5625590276124781,
          -0.3461301297115325,
          -0.5852204321669262,
          -0.4967761599657341,
          1.1677411209788946,
          1.7802429315922845,
          0.4907884854912572,
          -1.0585976439081948,
          -0.6230413266517936,
          -1.2962820739344532
         ],
         "xaxis": "x4",
         "y": [
          0.292974139252864,
          -1.1862472468463803,
          -0.8501922428907918,
          0.9111150495629899,
          1.2365734664393244,
          -0.30040599005249846,
          1.2105765633744126,
          0.14329654371470976,
          0.4816690203269885,
          -0.7188786553096995,
          0.29107117981780284,
          -0.3401912914972917,
          -0.18610532625705425,
          1.8934182437838603,
          0.9927287463728656,
          1.168165311884389,
          1.2111889751775067,
          0.19395059226497616,
          0.28144601088500154,
          0.2929306980738659,
          1.1101162910982343,
          -0.20882608286556142,
          -0.14537398933595616,
          -0.6074017425049224,
          -0.45238438838097095,
          -0.36610343319996314,
          0.26477062314585953,
          0.14515091806317906,
          0.7803251454516109,
          0.608549950958882,
          -0.4026053747294526,
          -1.2321271511876488,
          0.29910009937757676,
          -0.18539593485926428,
          -1.28945619590427,
          0.39696306959178446,
          0.694370207176139,
          -0.2679532057619806,
          0.6478464445330818,
          -0.4988282383343721,
          -1.6079546032861718,
          1.7507638766258602,
          0.005242884837819096,
          0.25125359691177257,
          -0.23229482042008281,
          -0.9157632735360842,
          0.19640311609892663,
          -1.3062721849837655,
          0.4339583497922634,
          -1.229079058345127,
          -1.115240077344917,
          0.12379795927408499,
          2.6290620243327067,
          0.3998538531848044,
          0.45893027219882326,
          -0.7086162503195204,
          0.057001724806481205,
          0.029529428385691656,
          -0.1534944558163816,
          0.8870271703734542,
          -1.8295512441698598,
          0.9303258214684024,
          -1.3794435848247562,
          -0.07751135502855382,
          0.22194716382883783,
          -0.9513732804851377,
          0.6170642625680876,
          1.174827368853181,
          -1.7776866913199962,
          -1.690521991664963,
          0.3160827137707872,
          0.8005986394539232,
          -1.6980350094685637,
          -1.2304179781414055,
          -0.901279065228436,
          0.22598156079956105,
          0.3232752239225913,
          0.29907964573518026,
          -0.16176374150177283,
          0.6745298559739035,
          -1.4039829245790993,
          -0.7949168861300312,
          0.8842730651829632,
          -0.7882189620982454,
          -0.7676887445502899,
          -0.6083321443906384,
          1.6090599247918695,
          -0.5152246440526308,
          -0.3464353213483669,
          -0.28668138720437186,
          0.8387664451015886,
          0.7879805141342737,
          1.0128081521957695,
          1.4073545183039107,
          -0.838922259663184,
          -1.559188829826368,
          -0.10949875615111043,
          0.5570685284421174,
          -0.5377441150506823,
          0.7886033547968465
         ],
         "yaxis": "y4"
        },
        {
         "line": {
          "color": "rgba(128, 128, 128, 1.0)",
          "dash": "solid",
          "shape": "linear",
          "width": 1.3
         },
         "marker": {
          "size": 2,
          "symbol": "circle"
         },
         "mode": "markers",
         "name": "b",
         "text": "",
         "type": "scatter",
         "x": [
          0.292974139252864,
          -1.1862472468463803,
          -0.8501922428907918,
          0.9111150495629899,
          1.2365734664393244,
          -0.30040599005249846,
          1.2105765633744126,
          0.14329654371470976,
          0.4816690203269885,
          -0.7188786553096995,
          0.29107117981780284,
          -0.3401912914972917,
          -0.18610532625705425,
          1.8934182437838603,
          0.9927287463728656,
          1.168165311884389,
          1.2111889751775067,
          0.19395059226497616,
          0.28144601088500154,
          0.2929306980738659,
          1.1101162910982343,
          -0.20882608286556142,
          -0.14537398933595616,
          -0.6074017425049224,
          -0.45238438838097095,
          -0.36610343319996314,
          0.26477062314585953,
          0.14515091806317906,
          0.7803251454516109,
          0.608549950958882,
          -0.4026053747294526,
          -1.2321271511876488,
          0.29910009937757676,
          -0.18539593485926428,
          -1.28945619590427,
          0.39696306959178446,
          0.694370207176139,
          -0.2679532057619806,
          0.6478464445330818,
          -0.4988282383343721,
          -1.6079546032861718,
          1.7507638766258602,
          0.005242884837819096,
          0.25125359691177257,
          -0.23229482042008281,
          -0.9157632735360842,
          0.19640311609892663,
          -1.3062721849837655,
          0.4339583497922634,
          -1.229079058345127,
          -1.115240077344917,
          0.12379795927408499,
          2.6290620243327067,
          0.3998538531848044,
          0.45893027219882326,
          -0.7086162503195204,
          0.057001724806481205,
          0.029529428385691656,
          -0.1534944558163816,
          0.8870271703734542,
          -1.8295512441698598,
          0.9303258214684024,
          -1.3794435848247562,
          -0.07751135502855382,
          0.22194716382883783,
          -0.9513732804851377,
          0.6170642625680876,
          1.174827368853181,
          -1.7776866913199962,
          -1.690521991664963,
          0.3160827137707872,
          0.8005986394539232,
          -1.6980350094685637,
          -1.2304179781414055,
          -0.901279065228436,
          0.22598156079956105,
          0.3232752239225913,
          0.29907964573518026,
          -0.16176374150177283,
          0.6745298559739035,
          -1.4039829245790993,
          -0.7949168861300312,
          0.8842730651829632,
          -0.7882189620982454,
          -0.7676887445502899,
          -0.6083321443906384,
          1.6090599247918695,
          -0.5152246440526308,
          -0.3464353213483669,
          -0.28668138720437186,
          0.8387664451015886,
          0.7879805141342737,
          1.0128081521957695,
          1.4073545183039107,
          -0.838922259663184,
          -1.559188829826368,
          -0.10949875615111043,
          0.5570685284421174,
          -0.5377441150506823,
          0.7886033547968465
         ],
         "xaxis": "x5",
         "y": [
          -0.716753785541702,
          0.1466280511998309,
          -0.6006519808735739,
          -0.5415580708273,
          -1.7400320426706721,
          0.06483281643880595,
          0.9267383919456018,
          0.2754962391363442,
          -0.06963639112657052,
          0.43293104058293036,
          -0.13165251266138508,
          0.3688569256553953,
          1.101879648066124,
          1.0069678548545076,
          -1.0246405999495924,
          -0.037202033114178676,
          0.259486510387421,
          -0.05785681071930317,
          -1.4405479471178548,
          -0.8243764549033302,
          -0.1175958470954889,
          -1.1981943378901034,
          0.1487120785832584,
          1.0764514860316108,
          -0.1310759686583265,
          0.7870838978756679,
          0.09754672432005959,
          -1.4826931311691334,
          1.0793655584203048,
          0.9233239197538965,
          1.3166320867203176,
          0.18222042165689503,
          -0.06256287722059806,
          1.1043295807781548,
          -0.6150240875265599,
          0.790514023860243,
          -2.0799884828014936,
          0.5008675581779642,
          -0.6810354084403812,
          -1.2386481384626733,
          -1.2911154417873516,
          -0.5154920168362496,
          -0.4031392471329243,
          0.9983704720180332,
          -1.0160075337650878,
          1.886243651028083,
          -0.5715465786042008,
          -1.2679931356019523,
          1.6614338951907,
          -0.17792785850635345,
          1.4745507719444697,
          1.1776871716912736,
          -1.2561713012470577,
          -0.24638872835020778,
          1.4670954437869548,
          -0.189173117161535,
          -0.3527437302423633,
          -1.7117404210798368,
          0.048457522093129965,
          0.9007265389917656,
          -0.42341732249635067,
          0.0816182553248051,
          -0.21089804096281775,
          1.6556331387431482,
          -0.13153184493536688,
          1.181944111964066,
          2.5830824420534,
          0.4106671915172332,
          -1.266706022491882,
          0.3949972411593756,
          -0.5686340208377227,
          -1.6296276350686436,
          -0.47748567224339156,
          -0.13072699147207864,
          0.4200392298325099,
          -0.7813031954177223,
          -1.9529817674828185,
          0.866984811466902,
          -1.734427964729059,
          -1.2781840402669344,
          -1.2910708778295,
          -0.3989670450326166,
          0.8745687117774343,
          -1.2311660756455374,
          0.6089849716765106,
          1.048143379954883,
          0.3721709975994528,
          -1.1576133027199618,
          -0.34453151051109965,
          -1.0338932199109123,
          -0.9460628162322431,
          -0.04923179092455275,
          -1.0520628606997837,
          0.1852383456745756,
          -1.0632232978375835,
          -0.09162384543826531,
          0.6831550325518608,
          0.9278729993391939,
          -0.47421170746718716,
          -2.1165065532109923
         ],
         "yaxis": "y5"
        },
        {
         "histfunc": "count",
         "histnorm": "",
         "marker": {
          "color": "rgba(55, 128, 191, 1.0)",
          "line": {
           "color": "#4D5663",
           "width": 1.3
          }
         },
         "name": "b",
         "nbinsx": 10,
         "opacity": 0.8,
         "orientation": "v",
         "type": "histogram",
         "x": [
          -0.716753785541702,
          0.1466280511998309,
          -0.6006519808735739,
          -0.5415580708273,
          -1.7400320426706721,
          0.06483281643880595,
          0.9267383919456018,
          0.2754962391363442,
          -0.06963639112657052,
          0.43293104058293036,
          -0.13165251266138508,
          0.3688569256553953,
          1.101879648066124,
          1.0069678548545076,
          -1.0246405999495924,
          -0.037202033114178676,
          0.259486510387421,
          -0.05785681071930317,
          -1.4405479471178548,
          -0.8243764549033302,
          -0.1175958470954889,
          -1.1981943378901034,
          0.1487120785832584,
          1.0764514860316108,
          -0.1310759686583265,
          0.7870838978756679,
          0.09754672432005959,
          -1.4826931311691334,
          1.0793655584203048,
          0.9233239197538965,
          1.3166320867203176,
          0.18222042165689503,
          -0.06256287722059806,
          1.1043295807781548,
          -0.6150240875265599,
          0.790514023860243,
          -2.0799884828014936,
          0.5008675581779642,
          -0.6810354084403812,
          -1.2386481384626733,
          -1.2911154417873516,
          -0.5154920168362496,
          -0.4031392471329243,
          0.9983704720180332,
          -1.0160075337650878,
          1.886243651028083,
          -0.5715465786042008,
          -1.2679931356019523,
          1.6614338951907,
          -0.17792785850635345,
          1.4745507719444697,
          1.1776871716912736,
          -1.2561713012470577,
          -0.24638872835020778,
          1.4670954437869548,
          -0.189173117161535,
          -0.3527437302423633,
          -1.7117404210798368,
          0.048457522093129965,
          0.9007265389917656,
          -0.42341732249635067,
          0.0816182553248051,
          -0.21089804096281775,
          1.6556331387431482,
          -0.13153184493536688,
          1.181944111964066,
          2.5830824420534,
          0.4106671915172332,
          -1.266706022491882,
          0.3949972411593756,
          -0.5686340208377227,
          -1.6296276350686436,
          -0.47748567224339156,
          -0.13072699147207864,
          0.4200392298325099,
          -0.7813031954177223,
          -1.9529817674828185,
          0.866984811466902,
          -1.734427964729059,
          -1.2781840402669344,
          -1.2910708778295,
          -0.3989670450326166,
          0.8745687117774343,
          -1.2311660756455374,
          0.6089849716765106,
          1.048143379954883,
          0.3721709975994528,
          -1.1576133027199618,
          -0.34453151051109965,
          -1.0338932199109123,
          -0.9460628162322431,
          -0.04923179092455275,
          -1.0520628606997837,
          0.1852383456745756,
          -1.0632232978375835,
          -0.09162384543826531,
          0.6831550325518608,
          0.9278729993391939,
          -0.47421170746718716,
          -2.1165065532109923
         ],
         "xaxis": "x6",
         "yaxis": "y6"
        },
        {
         "line": {
          "color": "rgba(128, 128, 128, 1.0)",
          "dash": "solid",
          "shape": "linear",
          "width": 1.3
         },
         "marker": {
          "size": 2,
          "symbol": "circle"
         },
         "mode": "markers",
         "name": "b",
         "text": "",
         "type": "scatter",
         "x": [
          -1.4574517012520272,
          1.616925654315569,
          -1.554079012755402,
          -1.3165598564774106,
          -0.580298637975121,
          -1.6622341146471158,
          0.0039029501057902772,
          0.8855012353492825,
          -1.1843262679473314,
          -0.8762274816520518,
          -2.4646576366704944,
          -0.11414376769157988,
          -1.1574256893431913,
          -0.28131202269853645,
          1.6284928461930106,
          -1.1270331276821361,
          -1.344704448640053,
          1.1875302280251283,
          0.15559218997485583,
          -0.694260078532112,
          -0.29230645832071095,
          -0.4992558232676912,
          2.2688498517230893,
          0.8712707377838431,
          -1.8036431447735157,
          -0.7676519683585615,
          -1.2829084489005982,
          -0.5016259466438856,
          -0.184038073037974,
          -0.6806145366236737,
          1.3825998331661564,
          0.5558087648980298,
          0.4674027907247537,
          -0.1549875719036628,
          -0.7654380083742985,
          -0.4334620098771487,
          -0.6188327405333642,
          0.5113328091437372,
          -0.2408638527363929,
          -0.5205996360579126,
          1.0248637764154853,
          0.2991721298703997,
          0.45632859815423865,
          -0.9165600624818021,
          -0.44150693650391165,
          0.42136716310207434,
          -1.2432181110372378,
          1.0761841766878144,
          0.7271372108552653,
          0.15546762147580842,
          0.6033910326548694,
          -2.044292625815654,
          -0.9504839369270148,
          0.38448091998306994,
          0.15621297799152092,
          0.8973509172710784,
          0.026233284321891336,
          0.9054939180728044,
          0.10031640150414387,
          -2.566416680691887,
          0.8578496553772357,
          0.04616710992563474,
          -0.4143519451742939,
          0.8982911790569463,
          -0.05048697730085292,
          -0.6385282870452667,
          -1.0250444618637682,
          0.689639711080981,
          1.8719098341594118,
          -0.5409850552157894,
          -0.01957191723265198,
          1.716922728791775,
          0.6554178012225307,
          -0.5570779687502161,
          -0.2421632594089551,
          -0.5900055298173724,
          0.7918831028021635,
          1.1758606862114478,
          -0.12566303634482529,
          -2.9377823589005674,
          -0.4739948397669631,
          0.2360822009977156,
          0.3880072625953246,
          1.0820181968440927,
          -1.2042895773888243,
          -0.7307572670679031,
          -0.9011519959149107,
          0.5032055368961691,
          0.8620177087655849,
          -0.11785406490076067,
          1.9448207551672967,
          -1.6170836002097697,
          0.24263889685777973,
          -1.0640079092624295,
          2.0609860331539123,
          -0.0027704454288980614,
          2.3348516223314975,
          0.9078533647685604,
          -1.4074955229616364,
          0.3569938923431798
         ],
         "xaxis": "x7",
         "y": [
          -0.716753785541702,
          0.1466280511998309,
          -0.6006519808735739,
          -0.5415580708273,
          -1.7400320426706721,
          0.06483281643880595,
          0.9267383919456018,
          0.2754962391363442,
          -0.06963639112657052,
          0.43293104058293036,
          -0.13165251266138508,
          0.3688569256553953,
          1.101879648066124,
          1.0069678548545076,
          -1.0246405999495924,
          -0.037202033114178676,
          0.259486510387421,
          -0.05785681071930317,
          -1.4405479471178548,
          -0.8243764549033302,
          -0.1175958470954889,
          -1.1981943378901034,
          0.1487120785832584,
          1.0764514860316108,
          -0.1310759686583265,
          0.7870838978756679,
          0.09754672432005959,
          -1.4826931311691334,
          1.0793655584203048,
          0.9233239197538965,
          1.3166320867203176,
          0.18222042165689503,
          -0.06256287722059806,
          1.1043295807781548,
          -0.6150240875265599,
          0.790514023860243,
          -2.0799884828014936,
          0.5008675581779642,
          -0.6810354084403812,
          -1.2386481384626733,
          -1.2911154417873516,
          -0.5154920168362496,
          -0.4031392471329243,
          0.9983704720180332,
          -1.0160075337650878,
          1.886243651028083,
          -0.5715465786042008,
          -1.2679931356019523,
          1.6614338951907,
          -0.17792785850635345,
          1.4745507719444697,
          1.1776871716912736,
          -1.2561713012470577,
          -0.24638872835020778,
          1.4670954437869548,
          -0.189173117161535,
          -0.3527437302423633,
          -1.7117404210798368,
          0.048457522093129965,
          0.9007265389917656,
          -0.42341732249635067,
          0.0816182553248051,
          -0.21089804096281775,
          1.6556331387431482,
          -0.13153184493536688,
          1.181944111964066,
          2.5830824420534,
          0.4106671915172332,
          -1.266706022491882,
          0.3949972411593756,
          -0.5686340208377227,
          -1.6296276350686436,
          -0.47748567224339156,
          -0.13072699147207864,
          0.4200392298325099,
          -0.7813031954177223,
          -1.9529817674828185,
          0.866984811466902,
          -1.734427964729059,
          -1.2781840402669344,
          -1.2910708778295,
          -0.3989670450326166,
          0.8745687117774343,
          -1.2311660756455374,
          0.6089849716765106,
          1.048143379954883,
          0.3721709975994528,
          -1.1576133027199618,
          -0.34453151051109965,
          -1.0338932199109123,
          -0.9460628162322431,
          -0.04923179092455275,
          -1.0520628606997837,
          0.1852383456745756,
          -1.0632232978375835,
          -0.09162384543826531,
          0.6831550325518608,
          0.9278729993391939,
          -0.47421170746718716,
          -2.1165065532109923
         ],
         "yaxis": "y7"
        },
        {
         "line": {
          "color": "rgba(128, 128, 128, 1.0)",
          "dash": "solid",
          "shape": "linear",
          "width": 1.3
         },
         "marker": {
          "size": 2,
          "symbol": "circle"
         },
         "mode": "markers",
         "name": "b",
         "text": "",
         "type": "scatter",
         "x": [
          2.3168273884694734,
          0.39458319641642464,
          -0.46510318054608163,
          -0.20172718202204393,
          -0.24189053063818983,
          -0.792642437428442,
          -0.7401698295328846,
          -1.6801107382717764,
          -0.4817563971652019,
          1.5451818928436343,
          -0.22888853476448212,
          1.4780655993868645,
          -0.767531470835622,
          -0.6532088894241367,
          -0.8514192088845505,
          -1.5254673915519978,
          -1.4537449170569778,
          -0.6320374135597754,
          -0.8111518709770245,
          0.861081336229097,
          1.398138867193178,
          1.6404486362786317,
          0.6573956893296753,
          0.22476108022847083,
          -0.2913070574236847,
          1.5958957556512083,
          0.1601336724116086,
          -1.3320058902909229,
          1.0081466141810744,
          0.32324195296946145,
          -0.7879628462741596,
          -0.8374729790360113,
          -0.6381494389997875,
          0.31177265196395976,
          -1.1812845002923689,
          -0.0032961040756202963,
          -1.4025396209387575,
          -0.6452642332947516,
          0.10767114802755778,
          -1.7139180836635397,
          0.776903516254839,
          0.08644358216921927,
          -1.1838441134944493,
          -0.6951559872484373,
          0.7020684612347757,
          -0.09257493287535283,
          -1.220722643372712,
          -0.7187472041161967,
          -0.017343737356023715,
          0.09737197968014913,
          -1.014912564771148,
          0.9485883343880211,
          -1.4700120494045807,
          0.527090124873511,
          0.981897523303843,
          -0.3729055802591033,
          -1.6546241743330667,
          1.0030031251048521,
          -0.10009683865690405,
          0.6562216961141715,
          -0.743623457689815,
          -1.2941608938560312,
          -0.3990600877641281,
          -0.43141935572373885,
          0.7232784352637682,
          -0.48702320351926975,
          -1.4411058137972361,
          -0.07500513796421322,
          0.23258225057884316,
          -0.009442055362124542,
          -1.1299073084348996,
          2.305132922619832,
          1.151453310017223,
          -1.7161278508924651,
          -0.10216223260372957,
          -1.5974074792176651,
          -0.7634211473180553,
          0.7452180047870218,
          -0.1850689346138391,
          0.08824655821509114,
          -1.1552205198591217,
          -0.3679056931079725,
          1.141413950342741,
          -1.218427511084178,
          0.022191477204873092,
          -0.5097153447922266,
          -0.547101576777799,
          -0.006209405227791605,
          -0.8802870712850492,
          1.5497504397861899,
          -1.5625590276124781,
          -0.3461301297115325,
          -0.5852204321669262,
          -0.4967761599657341,
          1.1677411209788946,
          1.7802429315922845,
          0.4907884854912572,
          -1.0585976439081948,
          -0.6230413266517936,
          -1.2962820739344532
         ],
         "xaxis": "x8",
         "y": [
          -0.716753785541702,
          0.1466280511998309,
          -0.6006519808735739,
          -0.5415580708273,
          -1.7400320426706721,
          0.06483281643880595,
          0.9267383919456018,
          0.2754962391363442,
          -0.06963639112657052,
          0.43293104058293036,
          -0.13165251266138508,
          0.3688569256553953,
          1.101879648066124,
          1.0069678548545076,
          -1.0246405999495924,
          -0.037202033114178676,
          0.259486510387421,
          -0.05785681071930317,
          -1.4405479471178548,
          -0.8243764549033302,
          -0.1175958470954889,
          -1.1981943378901034,
          0.1487120785832584,
          1.0764514860316108,
          -0.1310759686583265,
          0.7870838978756679,
          0.09754672432005959,
          -1.4826931311691334,
          1.0793655584203048,
          0.9233239197538965,
          1.3166320867203176,
          0.18222042165689503,
          -0.06256287722059806,
          1.1043295807781548,
          -0.6150240875265599,
          0.790514023860243,
          -2.0799884828014936,
          0.5008675581779642,
          -0.6810354084403812,
          -1.2386481384626733,
          -1.2911154417873516,
          -0.5154920168362496,
          -0.4031392471329243,
          0.9983704720180332,
          -1.0160075337650878,
          1.886243651028083,
          -0.5715465786042008,
          -1.2679931356019523,
          1.6614338951907,
          -0.17792785850635345,
          1.4745507719444697,
          1.1776871716912736,
          -1.2561713012470577,
          -0.24638872835020778,
          1.4670954437869548,
          -0.189173117161535,
          -0.3527437302423633,
          -1.7117404210798368,
          0.048457522093129965,
          0.9007265389917656,
          -0.42341732249635067,
          0.0816182553248051,
          -0.21089804096281775,
          1.6556331387431482,
          -0.13153184493536688,
          1.181944111964066,
          2.5830824420534,
          0.4106671915172332,
          -1.266706022491882,
          0.3949972411593756,
          -0.5686340208377227,
          -1.6296276350686436,
          -0.47748567224339156,
          -0.13072699147207864,
          0.4200392298325099,
          -0.7813031954177223,
          -1.9529817674828185,
          0.866984811466902,
          -1.734427964729059,
          -1.2781840402669344,
          -1.2910708778295,
          -0.3989670450326166,
          0.8745687117774343,
          -1.2311660756455374,
          0.6089849716765106,
          1.048143379954883,
          0.3721709975994528,
          -1.1576133027199618,
          -0.34453151051109965,
          -1.0338932199109123,
          -0.9460628162322431,
          -0.04923179092455275,
          -1.0520628606997837,
          0.1852383456745756,
          -1.0632232978375835,
          -0.09162384543826531,
          0.6831550325518608,
          0.9278729993391939,
          -0.47421170746718716,
          -2.1165065532109923
         ],
         "yaxis": "y8"
        },
        {
         "line": {
          "color": "rgba(128, 128, 128, 1.0)",
          "dash": "solid",
          "shape": "linear",
          "width": 1.3
         },
         "marker": {
          "size": 2,
          "symbol": "circle"
         },
         "mode": "markers",
         "name": "c",
         "text": "",
         "type": "scatter",
         "x": [
          0.292974139252864,
          -1.1862472468463803,
          -0.8501922428907918,
          0.9111150495629899,
          1.2365734664393244,
          -0.30040599005249846,
          1.2105765633744126,
          0.14329654371470976,
          0.4816690203269885,
          -0.7188786553096995,
          0.29107117981780284,
          -0.3401912914972917,
          -0.18610532625705425,
          1.8934182437838603,
          0.9927287463728656,
          1.168165311884389,
          1.2111889751775067,
          0.19395059226497616,
          0.28144601088500154,
          0.2929306980738659,
          1.1101162910982343,
          -0.20882608286556142,
          -0.14537398933595616,
          -0.6074017425049224,
          -0.45238438838097095,
          -0.36610343319996314,
          0.26477062314585953,
          0.14515091806317906,
          0.7803251454516109,
          0.608549950958882,
          -0.4026053747294526,
          -1.2321271511876488,
          0.29910009937757676,
          -0.18539593485926428,
          -1.28945619590427,
          0.39696306959178446,
          0.694370207176139,
          -0.2679532057619806,
          0.6478464445330818,
          -0.4988282383343721,
          -1.6079546032861718,
          1.7507638766258602,
          0.005242884837819096,
          0.25125359691177257,
          -0.23229482042008281,
          -0.9157632735360842,
          0.19640311609892663,
          -1.3062721849837655,
          0.4339583497922634,
          -1.229079058345127,
          -1.115240077344917,
          0.12379795927408499,
          2.6290620243327067,
          0.3998538531848044,
          0.45893027219882326,
          -0.7086162503195204,
          0.057001724806481205,
          0.029529428385691656,
          -0.1534944558163816,
          0.8870271703734542,
          -1.8295512441698598,
          0.9303258214684024,
          -1.3794435848247562,
          -0.07751135502855382,
          0.22194716382883783,
          -0.9513732804851377,
          0.6170642625680876,
          1.174827368853181,
          -1.7776866913199962,
          -1.690521991664963,
          0.3160827137707872,
          0.8005986394539232,
          -1.6980350094685637,
          -1.2304179781414055,
          -0.901279065228436,
          0.22598156079956105,
          0.3232752239225913,
          0.29907964573518026,
          -0.16176374150177283,
          0.6745298559739035,
          -1.4039829245790993,
          -0.7949168861300312,
          0.8842730651829632,
          -0.7882189620982454,
          -0.7676887445502899,
          -0.6083321443906384,
          1.6090599247918695,
          -0.5152246440526308,
          -0.3464353213483669,
          -0.28668138720437186,
          0.8387664451015886,
          0.7879805141342737,
          1.0128081521957695,
          1.4073545183039107,
          -0.838922259663184,
          -1.559188829826368,
          -0.10949875615111043,
          0.5570685284421174,
          -0.5377441150506823,
          0.7886033547968465
         ],
         "xaxis": "x9",
         "y": [
          -1.4574517012520272,
          1.616925654315569,
          -1.554079012755402,
          -1.3165598564774106,
          -0.580298637975121,
          -1.6622341146471158,
          0.0039029501057902772,
          0.8855012353492825,
          -1.1843262679473314,
          -0.8762274816520518,
          -2.4646576366704944,
          -0.11414376769157988,
          -1.1574256893431913,
          -0.28131202269853645,
          1.6284928461930106,
          -1.1270331276821361,
          -1.344704448640053,
          1.1875302280251283,
          0.15559218997485583,
          -0.694260078532112,
          -0.29230645832071095,
          -0.4992558232676912,
          2.2688498517230893,
          0.8712707377838431,
          -1.8036431447735157,
          -0.7676519683585615,
          -1.2829084489005982,
          -0.5016259466438856,
          -0.184038073037974,
          -0.6806145366236737,
          1.3825998331661564,
          0.5558087648980298,
          0.4674027907247537,
          -0.1549875719036628,
          -0.7654380083742985,
          -0.4334620098771487,
          -0.6188327405333642,
          0.5113328091437372,
          -0.2408638527363929,
          -0.5205996360579126,
          1.0248637764154853,
          0.2991721298703997,
          0.45632859815423865,
          -0.9165600624818021,
          -0.44150693650391165,
          0.42136716310207434,
          -1.2432181110372378,
          1.0761841766878144,
          0.7271372108552653,
          0.15546762147580842,
          0.6033910326548694,
          -2.044292625815654,
          -0.9504839369270148,
          0.38448091998306994,
          0.15621297799152092,
          0.8973509172710784,
          0.026233284321891336,
          0.9054939180728044,
          0.10031640150414387,
          -2.566416680691887,
          0.8578496553772357,
          0.04616710992563474,
          -0.4143519451742939,
          0.8982911790569463,
          -0.05048697730085292,
          -0.6385282870452667,
          -1.0250444618637682,
          0.689639711080981,
          1.8719098341594118,
          -0.5409850552157894,
          -0.01957191723265198,
          1.716922728791775,
          0.6554178012225307,
          -0.5570779687502161,
          -0.2421632594089551,
          -0.5900055298173724,
          0.7918831028021635,
          1.1758606862114478,
          -0.12566303634482529,
          -2.9377823589005674,
          -0.4739948397669631,
          0.2360822009977156,
          0.3880072625953246,
          1.0820181968440927,
          -1.2042895773888243,
          -0.7307572670679031,
          -0.9011519959149107,
          0.5032055368961691,
          0.8620177087655849,
          -0.11785406490076067,
          1.9448207551672967,
          -1.6170836002097697,
          0.24263889685777973,
          -1.0640079092624295,
          2.0609860331539123,
          -0.0027704454288980614,
          2.3348516223314975,
          0.9078533647685604,
          -1.4074955229616364,
          0.3569938923431798
         ],
         "yaxis": "y9"
        },
        {
         "line": {
          "color": "rgba(128, 128, 128, 1.0)",
          "dash": "solid",
          "shape": "linear",
          "width": 1.3
         },
         "marker": {
          "size": 2,
          "symbol": "circle"
         },
         "mode": "markers",
         "name": "c",
         "text": "",
         "type": "scatter",
         "x": [
          -0.716753785541702,
          0.1466280511998309,
          -0.6006519808735739,
          -0.5415580708273,
          -1.7400320426706721,
          0.06483281643880595,
          0.9267383919456018,
          0.2754962391363442,
          -0.06963639112657052,
          0.43293104058293036,
          -0.13165251266138508,
          0.3688569256553953,
          1.101879648066124,
          1.0069678548545076,
          -1.0246405999495924,
          -0.037202033114178676,
          0.259486510387421,
          -0.05785681071930317,
          -1.4405479471178548,
          -0.8243764549033302,
          -0.1175958470954889,
          -1.1981943378901034,
          0.1487120785832584,
          1.0764514860316108,
          -0.1310759686583265,
          0.7870838978756679,
          0.09754672432005959,
          -1.4826931311691334,
          1.0793655584203048,
          0.9233239197538965,
          1.3166320867203176,
          0.18222042165689503,
          -0.06256287722059806,
          1.1043295807781548,
          -0.6150240875265599,
          0.790514023860243,
          -2.0799884828014936,
          0.5008675581779642,
          -0.6810354084403812,
          -1.2386481384626733,
          -1.2911154417873516,
          -0.5154920168362496,
          -0.4031392471329243,
          0.9983704720180332,
          -1.0160075337650878,
          1.886243651028083,
          -0.5715465786042008,
          -1.2679931356019523,
          1.6614338951907,
          -0.17792785850635345,
          1.4745507719444697,
          1.1776871716912736,
          -1.2561713012470577,
          -0.24638872835020778,
          1.4670954437869548,
          -0.189173117161535,
          -0.3527437302423633,
          -1.7117404210798368,
          0.048457522093129965,
          0.9007265389917656,
          -0.42341732249635067,
          0.0816182553248051,
          -0.21089804096281775,
          1.6556331387431482,
          -0.13153184493536688,
          1.181944111964066,
          2.5830824420534,
          0.4106671915172332,
          -1.266706022491882,
          0.3949972411593756,
          -0.5686340208377227,
          -1.6296276350686436,
          -0.47748567224339156,
          -0.13072699147207864,
          0.4200392298325099,
          -0.7813031954177223,
          -1.9529817674828185,
          0.866984811466902,
          -1.734427964729059,
          -1.2781840402669344,
          -1.2910708778295,
          -0.3989670450326166,
          0.8745687117774343,
          -1.2311660756455374,
          0.6089849716765106,
          1.048143379954883,
          0.3721709975994528,
          -1.1576133027199618,
          -0.34453151051109965,
          -1.0338932199109123,
          -0.9460628162322431,
          -0.04923179092455275,
          -1.0520628606997837,
          0.1852383456745756,
          -1.0632232978375835,
          -0.09162384543826531,
          0.6831550325518608,
          0.9278729993391939,
          -0.47421170746718716,
          -2.1165065532109923
         ],
         "xaxis": "x10",
         "y": [
          -1.4574517012520272,
          1.616925654315569,
          -1.554079012755402,
          -1.3165598564774106,
          -0.580298637975121,
          -1.6622341146471158,
          0.0039029501057902772,
          0.8855012353492825,
          -1.1843262679473314,
          -0.8762274816520518,
          -2.4646576366704944,
          -0.11414376769157988,
          -1.1574256893431913,
          -0.28131202269853645,
          1.6284928461930106,
          -1.1270331276821361,
          -1.344704448640053,
          1.1875302280251283,
          0.15559218997485583,
          -0.694260078532112,
          -0.29230645832071095,
          -0.4992558232676912,
          2.2688498517230893,
          0.8712707377838431,
          -1.8036431447735157,
          -0.7676519683585615,
          -1.2829084489005982,
          -0.5016259466438856,
          -0.184038073037974,
          -0.6806145366236737,
          1.3825998331661564,
          0.5558087648980298,
          0.4674027907247537,
          -0.1549875719036628,
          -0.7654380083742985,
          -0.4334620098771487,
          -0.6188327405333642,
          0.5113328091437372,
          -0.2408638527363929,
          -0.5205996360579126,
          1.0248637764154853,
          0.2991721298703997,
          0.45632859815423865,
          -0.9165600624818021,
          -0.44150693650391165,
          0.42136716310207434,
          -1.2432181110372378,
          1.0761841766878144,
          0.7271372108552653,
          0.15546762147580842,
          0.6033910326548694,
          -2.044292625815654,
          -0.9504839369270148,
          0.38448091998306994,
          0.15621297799152092,
          0.8973509172710784,
          0.026233284321891336,
          0.9054939180728044,
          0.10031640150414387,
          -2.566416680691887,
          0.8578496553772357,
          0.04616710992563474,
          -0.4143519451742939,
          0.8982911790569463,
          -0.05048697730085292,
          -0.6385282870452667,
          -1.0250444618637682,
          0.689639711080981,
          1.8719098341594118,
          -0.5409850552157894,
          -0.01957191723265198,
          1.716922728791775,
          0.6554178012225307,
          -0.5570779687502161,
          -0.2421632594089551,
          -0.5900055298173724,
          0.7918831028021635,
          1.1758606862114478,
          -0.12566303634482529,
          -2.9377823589005674,
          -0.4739948397669631,
          0.2360822009977156,
          0.3880072625953246,
          1.0820181968440927,
          -1.2042895773888243,
          -0.7307572670679031,
          -0.9011519959149107,
          0.5032055368961691,
          0.8620177087655849,
          -0.11785406490076067,
          1.9448207551672967,
          -1.6170836002097697,
          0.24263889685777973,
          -1.0640079092624295,
          2.0609860331539123,
          -0.0027704454288980614,
          2.3348516223314975,
          0.9078533647685604,
          -1.4074955229616364,
          0.3569938923431798
         ],
         "yaxis": "y10"
        },
        {
         "histfunc": "count",
         "histnorm": "",
         "marker": {
          "color": "rgba(50, 171, 96, 1.0)",
          "line": {
           "color": "#4D5663",
           "width": 1.3
          }
         },
         "name": "c",
         "nbinsx": 10,
         "opacity": 0.8,
         "orientation": "v",
         "type": "histogram",
         "x": [
          -1.4574517012520272,
          1.616925654315569,
          -1.554079012755402,
          -1.3165598564774106,
          -0.580298637975121,
          -1.6622341146471158,
          0.0039029501057902772,
          0.8855012353492825,
          -1.1843262679473314,
          -0.8762274816520518,
          -2.4646576366704944,
          -0.11414376769157988,
          -1.1574256893431913,
          -0.28131202269853645,
          1.6284928461930106,
          -1.1270331276821361,
          -1.344704448640053,
          1.1875302280251283,
          0.15559218997485583,
          -0.694260078532112,
          -0.29230645832071095,
          -0.4992558232676912,
          2.2688498517230893,
          0.8712707377838431,
          -1.8036431447735157,
          -0.7676519683585615,
          -1.2829084489005982,
          -0.5016259466438856,
          -0.184038073037974,
          -0.6806145366236737,
          1.3825998331661564,
          0.5558087648980298,
          0.4674027907247537,
          -0.1549875719036628,
          -0.7654380083742985,
          -0.4334620098771487,
          -0.6188327405333642,
          0.5113328091437372,
          -0.2408638527363929,
          -0.5205996360579126,
          1.0248637764154853,
          0.2991721298703997,
          0.45632859815423865,
          -0.9165600624818021,
          -0.44150693650391165,
          0.42136716310207434,
          -1.2432181110372378,
          1.0761841766878144,
          0.7271372108552653,
          0.15546762147580842,
          0.6033910326548694,
          -2.044292625815654,
          -0.9504839369270148,
          0.38448091998306994,
          0.15621297799152092,
          0.8973509172710784,
          0.026233284321891336,
          0.9054939180728044,
          0.10031640150414387,
          -2.566416680691887,
          0.8578496553772357,
          0.04616710992563474,
          -0.4143519451742939,
          0.8982911790569463,
          -0.05048697730085292,
          -0.6385282870452667,
          -1.0250444618637682,
          0.689639711080981,
          1.8719098341594118,
          -0.5409850552157894,
          -0.01957191723265198,
          1.716922728791775,
          0.6554178012225307,
          -0.5570779687502161,
          -0.2421632594089551,
          -0.5900055298173724,
          0.7918831028021635,
          1.1758606862114478,
          -0.12566303634482529,
          -2.9377823589005674,
          -0.4739948397669631,
          0.2360822009977156,
          0.3880072625953246,
          1.0820181968440927,
          -1.2042895773888243,
          -0.7307572670679031,
          -0.9011519959149107,
          0.5032055368961691,
          0.8620177087655849,
          -0.11785406490076067,
          1.9448207551672967,
          -1.6170836002097697,
          0.24263889685777973,
          -1.0640079092624295,
          2.0609860331539123,
          -0.0027704454288980614,
          2.3348516223314975,
          0.9078533647685604,
          -1.4074955229616364,
          0.3569938923431798
         ],
         "xaxis": "x11",
         "yaxis": "y11"
        },
        {
         "line": {
          "color": "rgba(128, 128, 128, 1.0)",
          "dash": "solid",
          "shape": "linear",
          "width": 1.3
         },
         "marker": {
          "size": 2,
          "symbol": "circle"
         },
         "mode": "markers",
         "name": "c",
         "text": "",
         "type": "scatter",
         "x": [
          2.3168273884694734,
          0.39458319641642464,
          -0.46510318054608163,
          -0.20172718202204393,
          -0.24189053063818983,
          -0.792642437428442,
          -0.7401698295328846,
          -1.6801107382717764,
          -0.4817563971652019,
          1.5451818928436343,
          -0.22888853476448212,
          1.4780655993868645,
          -0.767531470835622,
          -0.6532088894241367,
          -0.8514192088845505,
          -1.5254673915519978,
          -1.4537449170569778,
          -0.6320374135597754,
          -0.8111518709770245,
          0.861081336229097,
          1.398138867193178,
          1.6404486362786317,
          0.6573956893296753,
          0.22476108022847083,
          -0.2913070574236847,
          1.5958957556512083,
          0.1601336724116086,
          -1.3320058902909229,
          1.0081466141810744,
          0.32324195296946145,
          -0.7879628462741596,
          -0.8374729790360113,
          -0.6381494389997875,
          0.31177265196395976,
          -1.1812845002923689,
          -0.0032961040756202963,
          -1.4025396209387575,
          -0.6452642332947516,
          0.10767114802755778,
          -1.7139180836635397,
          0.776903516254839,
          0.08644358216921927,
          -1.1838441134944493,
          -0.6951559872484373,
          0.7020684612347757,
          -0.09257493287535283,
          -1.220722643372712,
          -0.7187472041161967,
          -0.017343737356023715,
          0.09737197968014913,
          -1.014912564771148,
          0.9485883343880211,
          -1.4700120494045807,
          0.527090124873511,
          0.981897523303843,
          -0.3729055802591033,
          -1.6546241743330667,
          1.0030031251048521,
          -0.10009683865690405,
          0.6562216961141715,
          -0.743623457689815,
          -1.2941608938560312,
          -0.3990600877641281,
          -0.43141935572373885,
          0.7232784352637682,
          -0.48702320351926975,
          -1.4411058137972361,
          -0.07500513796421322,
          0.23258225057884316,
          -0.009442055362124542,
          -1.1299073084348996,
          2.305132922619832,
          1.151453310017223,
          -1.7161278508924651,
          -0.10216223260372957,
          -1.5974074792176651,
          -0.7634211473180553,
          0.7452180047870218,
          -0.1850689346138391,
          0.08824655821509114,
          -1.1552205198591217,
          -0.3679056931079725,
          1.141413950342741,
          -1.218427511084178,
          0.022191477204873092,
          -0.5097153447922266,
          -0.547101576777799,
          -0.006209405227791605,
          -0.8802870712850492,
          1.5497504397861899,
          -1.5625590276124781,
          -0.3461301297115325,
          -0.5852204321669262,
          -0.4967761599657341,
          1.1677411209788946,
          1.7802429315922845,
          0.4907884854912572,
          -1.0585976439081948,
          -0.6230413266517936,
          -1.2962820739344532
         ],
         "xaxis": "x12",
         "y": [
          -1.4574517012520272,
          1.616925654315569,
          -1.554079012755402,
          -1.3165598564774106,
          -0.580298637975121,
          -1.6622341146471158,
          0.0039029501057902772,
          0.8855012353492825,
          -1.1843262679473314,
          -0.8762274816520518,
          -2.4646576366704944,
          -0.11414376769157988,
          -1.1574256893431913,
          -0.28131202269853645,
          1.6284928461930106,
          -1.1270331276821361,
          -1.344704448640053,
          1.1875302280251283,
          0.15559218997485583,
          -0.694260078532112,
          -0.29230645832071095,
          -0.4992558232676912,
          2.2688498517230893,
          0.8712707377838431,
          -1.8036431447735157,
          -0.7676519683585615,
          -1.2829084489005982,
          -0.5016259466438856,
          -0.184038073037974,
          -0.6806145366236737,
          1.3825998331661564,
          0.5558087648980298,
          0.4674027907247537,
          -0.1549875719036628,
          -0.7654380083742985,
          -0.4334620098771487,
          -0.6188327405333642,
          0.5113328091437372,
          -0.2408638527363929,
          -0.5205996360579126,
          1.0248637764154853,
          0.2991721298703997,
          0.45632859815423865,
          -0.9165600624818021,
          -0.44150693650391165,
          0.42136716310207434,
          -1.2432181110372378,
          1.0761841766878144,
          0.7271372108552653,
          0.15546762147580842,
          0.6033910326548694,
          -2.044292625815654,
          -0.9504839369270148,
          0.38448091998306994,
          0.15621297799152092,
          0.8973509172710784,
          0.026233284321891336,
          0.9054939180728044,
          0.10031640150414387,
          -2.566416680691887,
          0.8578496553772357,
          0.04616710992563474,
          -0.4143519451742939,
          0.8982911790569463,
          -0.05048697730085292,
          -0.6385282870452667,
          -1.0250444618637682,
          0.689639711080981,
          1.8719098341594118,
          -0.5409850552157894,
          -0.01957191723265198,
          1.716922728791775,
          0.6554178012225307,
          -0.5570779687502161,
          -0.2421632594089551,
          -0.5900055298173724,
          0.7918831028021635,
          1.1758606862114478,
          -0.12566303634482529,
          -2.9377823589005674,
          -0.4739948397669631,
          0.2360822009977156,
          0.3880072625953246,
          1.0820181968440927,
          -1.2042895773888243,
          -0.7307572670679031,
          -0.9011519959149107,
          0.5032055368961691,
          0.8620177087655849,
          -0.11785406490076067,
          1.9448207551672967,
          -1.6170836002097697,
          0.24263889685777973,
          -1.0640079092624295,
          2.0609860331539123,
          -0.0027704454288980614,
          2.3348516223314975,
          0.9078533647685604,
          -1.4074955229616364,
          0.3569938923431798
         ],
         "yaxis": "y12"
        },
        {
         "line": {
          "color": "rgba(128, 128, 128, 1.0)",
          "dash": "solid",
          "shape": "linear",
          "width": 1.3
         },
         "marker": {
          "size": 2,
          "symbol": "circle"
         },
         "mode": "markers",
         "name": "d",
         "text": "",
         "type": "scatter",
         "x": [
          0.292974139252864,
          -1.1862472468463803,
          -0.8501922428907918,
          0.9111150495629899,
          1.2365734664393244,
          -0.30040599005249846,
          1.2105765633744126,
          0.14329654371470976,
          0.4816690203269885,
          -0.7188786553096995,
          0.29107117981780284,
          -0.3401912914972917,
          -0.18610532625705425,
          1.8934182437838603,
          0.9927287463728656,
          1.168165311884389,
          1.2111889751775067,
          0.19395059226497616,
          0.28144601088500154,
          0.2929306980738659,
          1.1101162910982343,
          -0.20882608286556142,
          -0.14537398933595616,
          -0.6074017425049224,
          -0.45238438838097095,
          -0.36610343319996314,
          0.26477062314585953,
          0.14515091806317906,
          0.7803251454516109,
          0.608549950958882,
          -0.4026053747294526,
          -1.2321271511876488,
          0.29910009937757676,
          -0.18539593485926428,
          -1.28945619590427,
          0.39696306959178446,
          0.694370207176139,
          -0.2679532057619806,
          0.6478464445330818,
          -0.4988282383343721,
          -1.6079546032861718,
          1.7507638766258602,
          0.005242884837819096,
          0.25125359691177257,
          -0.23229482042008281,
          -0.9157632735360842,
          0.19640311609892663,
          -1.3062721849837655,
          0.4339583497922634,
          -1.229079058345127,
          -1.115240077344917,
          0.12379795927408499,
          2.6290620243327067,
          0.3998538531848044,
          0.45893027219882326,
          -0.7086162503195204,
          0.057001724806481205,
          0.029529428385691656,
          -0.1534944558163816,
          0.8870271703734542,
          -1.8295512441698598,
          0.9303258214684024,
          -1.3794435848247562,
          -0.07751135502855382,
          0.22194716382883783,
          -0.9513732804851377,
          0.6170642625680876,
          1.174827368853181,
          -1.7776866913199962,
          -1.690521991664963,
          0.3160827137707872,
          0.8005986394539232,
          -1.6980350094685637,
          -1.2304179781414055,
          -0.901279065228436,
          0.22598156079956105,
          0.3232752239225913,
          0.29907964573518026,
          -0.16176374150177283,
          0.6745298559739035,
          -1.4039829245790993,
          -0.7949168861300312,
          0.8842730651829632,
          -0.7882189620982454,
          -0.7676887445502899,
          -0.6083321443906384,
          1.6090599247918695,
          -0.5152246440526308,
          -0.3464353213483669,
          -0.28668138720437186,
          0.8387664451015886,
          0.7879805141342737,
          1.0128081521957695,
          1.4073545183039107,
          -0.838922259663184,
          -1.559188829826368,
          -0.10949875615111043,
          0.5570685284421174,
          -0.5377441150506823,
          0.7886033547968465
         ],
         "xaxis": "x13",
         "y": [
          2.3168273884694734,
          0.39458319641642464,
          -0.46510318054608163,
          -0.20172718202204393,
          -0.24189053063818983,
          -0.792642437428442,
          -0.7401698295328846,
          -1.6801107382717764,
          -0.4817563971652019,
          1.5451818928436343,
          -0.22888853476448212,
          1.4780655993868645,
          -0.767531470835622,
          -0.6532088894241367,
          -0.8514192088845505,
          -1.5254673915519978,
          -1.4537449170569778,
          -0.6320374135597754,
          -0.8111518709770245,
          0.861081336229097,
          1.398138867193178,
          1.6404486362786317,
          0.6573956893296753,
          0.22476108022847083,
          -0.2913070574236847,
          1.5958957556512083,
          0.1601336724116086,
          -1.3320058902909229,
          1.0081466141810744,
          0.32324195296946145,
          -0.7879628462741596,
          -0.8374729790360113,
          -0.6381494389997875,
          0.31177265196395976,
          -1.1812845002923689,
          -0.0032961040756202963,
          -1.4025396209387575,
          -0.6452642332947516,
          0.10767114802755778,
          -1.7139180836635397,
          0.776903516254839,
          0.08644358216921927,
          -1.1838441134944493,
          -0.6951559872484373,
          0.7020684612347757,
          -0.09257493287535283,
          -1.220722643372712,
          -0.7187472041161967,
          -0.017343737356023715,
          0.09737197968014913,
          -1.014912564771148,
          0.9485883343880211,
          -1.4700120494045807,
          0.527090124873511,
          0.981897523303843,
          -0.3729055802591033,
          -1.6546241743330667,
          1.0030031251048521,
          -0.10009683865690405,
          0.6562216961141715,
          -0.743623457689815,
          -1.2941608938560312,
          -0.3990600877641281,
          -0.43141935572373885,
          0.7232784352637682,
          -0.48702320351926975,
          -1.4411058137972361,
          -0.07500513796421322,
          0.23258225057884316,
          -0.009442055362124542,
          -1.1299073084348996,
          2.305132922619832,
          1.151453310017223,
          -1.7161278508924651,
          -0.10216223260372957,
          -1.5974074792176651,
          -0.7634211473180553,
          0.7452180047870218,
          -0.1850689346138391,
          0.08824655821509114,
          -1.1552205198591217,
          -0.3679056931079725,
          1.141413950342741,
          -1.218427511084178,
          0.022191477204873092,
          -0.5097153447922266,
          -0.547101576777799,
          -0.006209405227791605,
          -0.8802870712850492,
          1.5497504397861899,
          -1.5625590276124781,
          -0.3461301297115325,
          -0.5852204321669262,
          -0.4967761599657341,
          1.1677411209788946,
          1.7802429315922845,
          0.4907884854912572,
          -1.0585976439081948,
          -0.6230413266517936,
          -1.2962820739344532
         ],
         "yaxis": "y13"
        },
        {
         "line": {
          "color": "rgba(128, 128, 128, 1.0)",
          "dash": "solid",
          "shape": "linear",
          "width": 1.3
         },
         "marker": {
          "size": 2,
          "symbol": "circle"
         },
         "mode": "markers",
         "name": "d",
         "text": "",
         "type": "scatter",
         "x": [
          -0.716753785541702,
          0.1466280511998309,
          -0.6006519808735739,
          -0.5415580708273,
          -1.7400320426706721,
          0.06483281643880595,
          0.9267383919456018,
          0.2754962391363442,
          -0.06963639112657052,
          0.43293104058293036,
          -0.13165251266138508,
          0.3688569256553953,
          1.101879648066124,
          1.0069678548545076,
          -1.0246405999495924,
          -0.037202033114178676,
          0.259486510387421,
          -0.05785681071930317,
          -1.4405479471178548,
          -0.8243764549033302,
          -0.1175958470954889,
          -1.1981943378901034,
          0.1487120785832584,
          1.0764514860316108,
          -0.1310759686583265,
          0.7870838978756679,
          0.09754672432005959,
          -1.4826931311691334,
          1.0793655584203048,
          0.9233239197538965,
          1.3166320867203176,
          0.18222042165689503,
          -0.06256287722059806,
          1.1043295807781548,
          -0.6150240875265599,
          0.790514023860243,
          -2.0799884828014936,
          0.5008675581779642,
          -0.6810354084403812,
          -1.2386481384626733,
          -1.2911154417873516,
          -0.5154920168362496,
          -0.4031392471329243,
          0.9983704720180332,
          -1.0160075337650878,
          1.886243651028083,
          -0.5715465786042008,
          -1.2679931356019523,
          1.6614338951907,
          -0.17792785850635345,
          1.4745507719444697,
          1.1776871716912736,
          -1.2561713012470577,
          -0.24638872835020778,
          1.4670954437869548,
          -0.189173117161535,
          -0.3527437302423633,
          -1.7117404210798368,
          0.048457522093129965,
          0.9007265389917656,
          -0.42341732249635067,
          0.0816182553248051,
          -0.21089804096281775,
          1.6556331387431482,
          -0.13153184493536688,
          1.181944111964066,
          2.5830824420534,
          0.4106671915172332,
          -1.266706022491882,
          0.3949972411593756,
          -0.5686340208377227,
          -1.6296276350686436,
          -0.47748567224339156,
          -0.13072699147207864,
          0.4200392298325099,
          -0.7813031954177223,
          -1.9529817674828185,
          0.866984811466902,
          -1.734427964729059,
          -1.2781840402669344,
          -1.2910708778295,
          -0.3989670450326166,
          0.8745687117774343,
          -1.2311660756455374,
          0.6089849716765106,
          1.048143379954883,
          0.3721709975994528,
          -1.1576133027199618,
          -0.34453151051109965,
          -1.0338932199109123,
          -0.9460628162322431,
          -0.04923179092455275,
          -1.0520628606997837,
          0.1852383456745756,
          -1.0632232978375835,
          -0.09162384543826531,
          0.6831550325518608,
          0.9278729993391939,
          -0.47421170746718716,
          -2.1165065532109923
         ],
         "xaxis": "x14",
         "y": [
          2.3168273884694734,
          0.39458319641642464,
          -0.46510318054608163,
          -0.20172718202204393,
          -0.24189053063818983,
          -0.792642437428442,
          -0.7401698295328846,
          -1.6801107382717764,
          -0.4817563971652019,
          1.5451818928436343,
          -0.22888853476448212,
          1.4780655993868645,
          -0.767531470835622,
          -0.6532088894241367,
          -0.8514192088845505,
          -1.5254673915519978,
          -1.4537449170569778,
          -0.6320374135597754,
          -0.8111518709770245,
          0.861081336229097,
          1.398138867193178,
          1.6404486362786317,
          0.6573956893296753,
          0.22476108022847083,
          -0.2913070574236847,
          1.5958957556512083,
          0.1601336724116086,
          -1.3320058902909229,
          1.0081466141810744,
          0.32324195296946145,
          -0.7879628462741596,
          -0.8374729790360113,
          -0.6381494389997875,
          0.31177265196395976,
          -1.1812845002923689,
          -0.0032961040756202963,
          -1.4025396209387575,
          -0.6452642332947516,
          0.10767114802755778,
          -1.7139180836635397,
          0.776903516254839,
          0.08644358216921927,
          -1.1838441134944493,
          -0.6951559872484373,
          0.7020684612347757,
          -0.09257493287535283,
          -1.220722643372712,
          -0.7187472041161967,
          -0.017343737356023715,
          0.09737197968014913,
          -1.014912564771148,
          0.9485883343880211,
          -1.4700120494045807,
          0.527090124873511,
          0.981897523303843,
          -0.3729055802591033,
          -1.6546241743330667,
          1.0030031251048521,
          -0.10009683865690405,
          0.6562216961141715,
          -0.743623457689815,
          -1.2941608938560312,
          -0.3990600877641281,
          -0.43141935572373885,
          0.7232784352637682,
          -0.48702320351926975,
          -1.4411058137972361,
          -0.07500513796421322,
          0.23258225057884316,
          -0.009442055362124542,
          -1.1299073084348996,
          2.305132922619832,
          1.151453310017223,
          -1.7161278508924651,
          -0.10216223260372957,
          -1.5974074792176651,
          -0.7634211473180553,
          0.7452180047870218,
          -0.1850689346138391,
          0.08824655821509114,
          -1.1552205198591217,
          -0.3679056931079725,
          1.141413950342741,
          -1.218427511084178,
          0.022191477204873092,
          -0.5097153447922266,
          -0.547101576777799,
          -0.006209405227791605,
          -0.8802870712850492,
          1.5497504397861899,
          -1.5625590276124781,
          -0.3461301297115325,
          -0.5852204321669262,
          -0.4967761599657341,
          1.1677411209788946,
          1.7802429315922845,
          0.4907884854912572,
          -1.0585976439081948,
          -0.6230413266517936,
          -1.2962820739344532
         ],
         "yaxis": "y14"
        },
        {
         "line": {
          "color": "rgba(128, 128, 128, 1.0)",
          "dash": "solid",
          "shape": "linear",
          "width": 1.3
         },
         "marker": {
          "size": 2,
          "symbol": "circle"
         },
         "mode": "markers",
         "name": "d",
         "text": "",
         "type": "scatter",
         "x": [
          -1.4574517012520272,
          1.616925654315569,
          -1.554079012755402,
          -1.3165598564774106,
          -0.580298637975121,
          -1.6622341146471158,
          0.0039029501057902772,
          0.8855012353492825,
          -1.1843262679473314,
          -0.8762274816520518,
          -2.4646576366704944,
          -0.11414376769157988,
          -1.1574256893431913,
          -0.28131202269853645,
          1.6284928461930106,
          -1.1270331276821361,
          -1.344704448640053,
          1.1875302280251283,
          0.15559218997485583,
          -0.694260078532112,
          -0.29230645832071095,
          -0.4992558232676912,
          2.2688498517230893,
          0.8712707377838431,
          -1.8036431447735157,
          -0.7676519683585615,
          -1.2829084489005982,
          -0.5016259466438856,
          -0.184038073037974,
          -0.6806145366236737,
          1.3825998331661564,
          0.5558087648980298,
          0.4674027907247537,
          -0.1549875719036628,
          -0.7654380083742985,
          -0.4334620098771487,
          -0.6188327405333642,
          0.5113328091437372,
          -0.2408638527363929,
          -0.5205996360579126,
          1.0248637764154853,
          0.2991721298703997,
          0.45632859815423865,
          -0.9165600624818021,
          -0.44150693650391165,
          0.42136716310207434,
          -1.2432181110372378,
          1.0761841766878144,
          0.7271372108552653,
          0.15546762147580842,
          0.6033910326548694,
          -2.044292625815654,
          -0.9504839369270148,
          0.38448091998306994,
          0.15621297799152092,
          0.8973509172710784,
          0.026233284321891336,
          0.9054939180728044,
          0.10031640150414387,
          -2.566416680691887,
          0.8578496553772357,
          0.04616710992563474,
          -0.4143519451742939,
          0.8982911790569463,
          -0.05048697730085292,
          -0.6385282870452667,
          -1.0250444618637682,
          0.689639711080981,
          1.8719098341594118,
          -0.5409850552157894,
          -0.01957191723265198,
          1.716922728791775,
          0.6554178012225307,
          -0.5570779687502161,
          -0.2421632594089551,
          -0.5900055298173724,
          0.7918831028021635,
          1.1758606862114478,
          -0.12566303634482529,
          -2.9377823589005674,
          -0.4739948397669631,
          0.2360822009977156,
          0.3880072625953246,
          1.0820181968440927,
          -1.2042895773888243,
          -0.7307572670679031,
          -0.9011519959149107,
          0.5032055368961691,
          0.8620177087655849,
          -0.11785406490076067,
          1.9448207551672967,
          -1.6170836002097697,
          0.24263889685777973,
          -1.0640079092624295,
          2.0609860331539123,
          -0.0027704454288980614,
          2.3348516223314975,
          0.9078533647685604,
          -1.4074955229616364,
          0.3569938923431798
         ],
         "xaxis": "x15",
         "y": [
          2.3168273884694734,
          0.39458319641642464,
          -0.46510318054608163,
          -0.20172718202204393,
          -0.24189053063818983,
          -0.792642437428442,
          -0.7401698295328846,
          -1.6801107382717764,
          -0.4817563971652019,
          1.5451818928436343,
          -0.22888853476448212,
          1.4780655993868645,
          -0.767531470835622,
          -0.6532088894241367,
          -0.8514192088845505,
          -1.5254673915519978,
          -1.4537449170569778,
          -0.6320374135597754,
          -0.8111518709770245,
          0.861081336229097,
          1.398138867193178,
          1.6404486362786317,
          0.6573956893296753,
          0.22476108022847083,
          -0.2913070574236847,
          1.5958957556512083,
          0.1601336724116086,
          -1.3320058902909229,
          1.0081466141810744,
          0.32324195296946145,
          -0.7879628462741596,
          -0.8374729790360113,
          -0.6381494389997875,
          0.31177265196395976,
          -1.1812845002923689,
          -0.0032961040756202963,
          -1.4025396209387575,
          -0.6452642332947516,
          0.10767114802755778,
          -1.7139180836635397,
          0.776903516254839,
          0.08644358216921927,
          -1.1838441134944493,
          -0.6951559872484373,
          0.7020684612347757,
          -0.09257493287535283,
          -1.220722643372712,
          -0.7187472041161967,
          -0.017343737356023715,
          0.09737197968014913,
          -1.014912564771148,
          0.9485883343880211,
          -1.4700120494045807,
          0.527090124873511,
          0.981897523303843,
          -0.3729055802591033,
          -1.6546241743330667,
          1.0030031251048521,
          -0.10009683865690405,
          0.6562216961141715,
          -0.743623457689815,
          -1.2941608938560312,
          -0.3990600877641281,
          -0.43141935572373885,
          0.7232784352637682,
          -0.48702320351926975,
          -1.4411058137972361,
          -0.07500513796421322,
          0.23258225057884316,
          -0.009442055362124542,
          -1.1299073084348996,
          2.305132922619832,
          1.151453310017223,
          -1.7161278508924651,
          -0.10216223260372957,
          -1.5974074792176651,
          -0.7634211473180553,
          0.7452180047870218,
          -0.1850689346138391,
          0.08824655821509114,
          -1.1552205198591217,
          -0.3679056931079725,
          1.141413950342741,
          -1.218427511084178,
          0.022191477204873092,
          -0.5097153447922266,
          -0.547101576777799,
          -0.006209405227791605,
          -0.8802870712850492,
          1.5497504397861899,
          -1.5625590276124781,
          -0.3461301297115325,
          -0.5852204321669262,
          -0.4967761599657341,
          1.1677411209788946,
          1.7802429315922845,
          0.4907884854912572,
          -1.0585976439081948,
          -0.6230413266517936,
          -1.2962820739344532
         ],
         "yaxis": "y15"
        },
        {
         "histfunc": "count",
         "histnorm": "",
         "marker": {
          "color": "rgba(128, 0, 128, 1.0)",
          "line": {
           "color": "#4D5663",
           "width": 1.3
          }
         },
         "name": "d",
         "nbinsx": 10,
         "opacity": 0.8,
         "orientation": "v",
         "type": "histogram",
         "x": [
          2.3168273884694734,
          0.39458319641642464,
          -0.46510318054608163,
          -0.20172718202204393,
          -0.24189053063818983,
          -0.792642437428442,
          -0.7401698295328846,
          -1.6801107382717764,
          -0.4817563971652019,
          1.5451818928436343,
          -0.22888853476448212,
          1.4780655993868645,
          -0.767531470835622,
          -0.6532088894241367,
          -0.8514192088845505,
          -1.5254673915519978,
          -1.4537449170569778,
          -0.6320374135597754,
          -0.8111518709770245,
          0.861081336229097,
          1.398138867193178,
          1.6404486362786317,
          0.6573956893296753,
          0.22476108022847083,
          -0.2913070574236847,
          1.5958957556512083,
          0.1601336724116086,
          -1.3320058902909229,
          1.0081466141810744,
          0.32324195296946145,
          -0.7879628462741596,
          -0.8374729790360113,
          -0.6381494389997875,
          0.31177265196395976,
          -1.1812845002923689,
          -0.0032961040756202963,
          -1.4025396209387575,
          -0.6452642332947516,
          0.10767114802755778,
          -1.7139180836635397,
          0.776903516254839,
          0.08644358216921927,
          -1.1838441134944493,
          -0.6951559872484373,
          0.7020684612347757,
          -0.09257493287535283,
          -1.220722643372712,
          -0.7187472041161967,
          -0.017343737356023715,
          0.09737197968014913,
          -1.014912564771148,
          0.9485883343880211,
          -1.4700120494045807,
          0.527090124873511,
          0.981897523303843,
          -0.3729055802591033,
          -1.6546241743330667,
          1.0030031251048521,
          -0.10009683865690405,
          0.6562216961141715,
          -0.743623457689815,
          -1.2941608938560312,
          -0.3990600877641281,
          -0.43141935572373885,
          0.7232784352637682,
          -0.48702320351926975,
          -1.4411058137972361,
          -0.07500513796421322,
          0.23258225057884316,
          -0.009442055362124542,
          -1.1299073084348996,
          2.305132922619832,
          1.151453310017223,
          -1.7161278508924651,
          -0.10216223260372957,
          -1.5974074792176651,
          -0.7634211473180553,
          0.7452180047870218,
          -0.1850689346138391,
          0.08824655821509114,
          -1.1552205198591217,
          -0.3679056931079725,
          1.141413950342741,
          -1.218427511084178,
          0.022191477204873092,
          -0.5097153447922266,
          -0.547101576777799,
          -0.006209405227791605,
          -0.8802870712850492,
          1.5497504397861899,
          -1.5625590276124781,
          -0.3461301297115325,
          -0.5852204321669262,
          -0.4967761599657341,
          1.1677411209788946,
          1.7802429315922845,
          0.4907884854912572,
          -1.0585976439081948,
          -0.6230413266517936,
          -1.2962820739344532
         ],
         "xaxis": "x16",
         "yaxis": "y16"
        }
       ],
       "layout": {
        "bargap": 0.02,
        "legend": {
         "bgcolor": "#F5F6F9",
         "font": {
          "color": "#4D5663"
         }
        },
        "paper_bgcolor": "#F5F6F9",
        "plot_bgcolor": "#F5F6F9",
        "showlegend": false,
        "template": {
         "data": {
          "bar": [
           {
            "error_x": {
             "color": "#2a3f5f"
            },
            "error_y": {
             "color": "#2a3f5f"
            },
            "marker": {
             "line": {
              "color": "#E5ECF6",
              "width": 0.5
             }
            },
            "type": "bar"
           }
          ],
          "barpolar": [
           {
            "marker": {
             "line": {
              "color": "#E5ECF6",
              "width": 0.5
             }
            },
            "type": "barpolar"
           }
          ],
          "carpet": [
           {
            "aaxis": {
             "endlinecolor": "#2a3f5f",
             "gridcolor": "white",
             "linecolor": "white",
             "minorgridcolor": "white",
             "startlinecolor": "#2a3f5f"
            },
            "baxis": {
             "endlinecolor": "#2a3f5f",
             "gridcolor": "white",
             "linecolor": "white",
             "minorgridcolor": "white",
             "startlinecolor": "#2a3f5f"
            },
            "type": "carpet"
           }
          ],
          "choropleth": [
           {
            "colorbar": {
             "outlinewidth": 0,
             "ticks": ""
            },
            "type": "choropleth"
           }
          ],
          "contour": [
           {
            "colorbar": {
             "outlinewidth": 0,
             "ticks": ""
            },
            "colorscale": [
             [
              0,
              "#0d0887"
             ],
             [
              0.1111111111111111,
              "#46039f"
             ],
             [
              0.2222222222222222,
              "#7201a8"
             ],
             [
              0.3333333333333333,
              "#9c179e"
             ],
             [
              0.4444444444444444,
              "#bd3786"
             ],
             [
              0.5555555555555556,
              "#d8576b"
             ],
             [
              0.6666666666666666,
              "#ed7953"
             ],
             [
              0.7777777777777778,
              "#fb9f3a"
             ],
             [
              0.8888888888888888,
              "#fdca26"
             ],
             [
              1,
              "#f0f921"
             ]
            ],
            "type": "contour"
           }
          ],
          "contourcarpet": [
           {
            "colorbar": {
             "outlinewidth": 0,
             "ticks": ""
            },
            "type": "contourcarpet"
           }
          ],
          "heatmap": [
           {
            "colorbar": {
             "outlinewidth": 0,
             "ticks": ""
            },
            "colorscale": [
             [
              0,
              "#0d0887"
             ],
             [
              0.1111111111111111,
              "#46039f"
             ],
             [
              0.2222222222222222,
              "#7201a8"
             ],
             [
              0.3333333333333333,
              "#9c179e"
             ],
             [
              0.4444444444444444,
              "#bd3786"
             ],
             [
              0.5555555555555556,
              "#d8576b"
             ],
             [
              0.6666666666666666,
              "#ed7953"
             ],
             [
              0.7777777777777778,
              "#fb9f3a"
             ],
             [
              0.8888888888888888,
              "#fdca26"
             ],
             [
              1,
              "#f0f921"
             ]
            ],
            "type": "heatmap"
           }
          ],
          "heatmapgl": [
           {
            "colorbar": {
             "outlinewidth": 0,
             "ticks": ""
            },
            "colorscale": [
             [
              0,
              "#0d0887"
             ],
             [
              0.1111111111111111,
              "#46039f"
             ],
             [
              0.2222222222222222,
              "#7201a8"
             ],
             [
              0.3333333333333333,
              "#9c179e"
             ],
             [
              0.4444444444444444,
              "#bd3786"
             ],
             [
              0.5555555555555556,
              "#d8576b"
             ],
             [
              0.6666666666666666,
              "#ed7953"
             ],
             [
              0.7777777777777778,
              "#fb9f3a"
             ],
             [
              0.8888888888888888,
              "#fdca26"
             ],
             [
              1,
              "#f0f921"
             ]
            ],
            "type": "heatmapgl"
           }
          ],
          "histogram": [
           {
            "marker": {
             "colorbar": {
              "outlinewidth": 0,
              "ticks": ""
             }
            },
            "type": "histogram"
           }
          ],
          "histogram2d": [
           {
            "colorbar": {
             "outlinewidth": 0,
             "ticks": ""
            },
            "colorscale": [
             [
              0,
              "#0d0887"
             ],
             [
              0.1111111111111111,
              "#46039f"
             ],
             [
              0.2222222222222222,
              "#7201a8"
             ],
             [
              0.3333333333333333,
              "#9c179e"
             ],
             [
              0.4444444444444444,
              "#bd3786"
             ],
             [
              0.5555555555555556,
              "#d8576b"
             ],
             [
              0.6666666666666666,
              "#ed7953"
             ],
             [
              0.7777777777777778,
              "#fb9f3a"
             ],
             [
              0.8888888888888888,
              "#fdca26"
             ],
             [
              1,
              "#f0f921"
             ]
            ],
            "type": "histogram2d"
           }
          ],
          "histogram2dcontour": [
           {
            "colorbar": {
             "outlinewidth": 0,
             "ticks": ""
            },
            "colorscale": [
             [
              0,
              "#0d0887"
             ],
             [
              0.1111111111111111,
              "#46039f"
             ],
             [
              0.2222222222222222,
              "#7201a8"
             ],
             [
              0.3333333333333333,
              "#9c179e"
             ],
             [
              0.4444444444444444,
              "#bd3786"
             ],
             [
              0.5555555555555556,
              "#d8576b"
             ],
             [
              0.6666666666666666,
              "#ed7953"
             ],
             [
              0.7777777777777778,
              "#fb9f3a"
             ],
             [
              0.8888888888888888,
              "#fdca26"
             ],
             [
              1,
              "#f0f921"
             ]
            ],
            "type": "histogram2dcontour"
           }
          ],
          "mesh3d": [
           {
            "colorbar": {
             "outlinewidth": 0,
             "ticks": ""
            },
            "type": "mesh3d"
           }
          ],
          "parcoords": [
           {
            "line": {
             "colorbar": {
              "outlinewidth": 0,
              "ticks": ""
             }
            },
            "type": "parcoords"
           }
          ],
          "pie": [
           {
            "automargin": true,
            "type": "pie"
           }
          ],
          "scatter": [
           {
            "marker": {
             "colorbar": {
              "outlinewidth": 0,
              "ticks": ""
             }
            },
            "type": "scatter"
           }
          ],
          "scatter3d": [
           {
            "line": {
             "colorbar": {
              "outlinewidth": 0,
              "ticks": ""
             }
            },
            "marker": {
             "colorbar": {
              "outlinewidth": 0,
              "ticks": ""
             }
            },
            "type": "scatter3d"
           }
          ],
          "scattercarpet": [
           {
            "marker": {
             "colorbar": {
              "outlinewidth": 0,
              "ticks": ""
             }
            },
            "type": "scattercarpet"
           }
          ],
          "scattergeo": [
           {
            "marker": {
             "colorbar": {
              "outlinewidth": 0,
              "ticks": ""
             }
            },
            "type": "scattergeo"
           }
          ],
          "scattergl": [
           {
            "marker": {
             "colorbar": {
              "outlinewidth": 0,
              "ticks": ""
             }
            },
            "type": "scattergl"
           }
          ],
          "scattermapbox": [
           {
            "marker": {
             "colorbar": {
              "outlinewidth": 0,
              "ticks": ""
             }
            },
            "type": "scattermapbox"
           }
          ],
          "scatterpolar": [
           {
            "marker": {
             "colorbar": {
              "outlinewidth": 0,
              "ticks": ""
             }
            },
            "type": "scatterpolar"
           }
          ],
          "scatterpolargl": [
           {
            "marker": {
             "colorbar": {
              "outlinewidth": 0,
              "ticks": ""
             }
            },
            "type": "scatterpolargl"
           }
          ],
          "scatterternary": [
           {
            "marker": {
             "colorbar": {
              "outlinewidth": 0,
              "ticks": ""
             }
            },
            "type": "scatterternary"
           }
          ],
          "surface": [
           {
            "colorbar": {
             "outlinewidth": 0,
             "ticks": ""
            },
            "colorscale": [
             [
              0,
              "#0d0887"
             ],
             [
              0.1111111111111111,
              "#46039f"
             ],
             [
              0.2222222222222222,
              "#7201a8"
             ],
             [
              0.3333333333333333,
              "#9c179e"
             ],
             [
              0.4444444444444444,
              "#bd3786"
             ],
             [
              0.5555555555555556,
              "#d8576b"
             ],
             [
              0.6666666666666666,
              "#ed7953"
             ],
             [
              0.7777777777777778,
              "#fb9f3a"
             ],
             [
              0.8888888888888888,
              "#fdca26"
             ],
             [
              1,
              "#f0f921"
             ]
            ],
            "type": "surface"
           }
          ],
          "table": [
           {
            "cells": {
             "fill": {
              "color": "#EBF0F8"
             },
             "line": {
              "color": "white"
             }
            },
            "header": {
             "fill": {
              "color": "#C8D4E3"
             },
             "line": {
              "color": "white"
             }
            },
            "type": "table"
           }
          ]
         },
         "layout": {
          "annotationdefaults": {
           "arrowcolor": "#2a3f5f",
           "arrowhead": 0,
           "arrowwidth": 1
          },
          "coloraxis": {
           "colorbar": {
            "outlinewidth": 0,
            "ticks": ""
           }
          },
          "colorscale": {
           "diverging": [
            [
             0,
             "#8e0152"
            ],
            [
             0.1,
             "#c51b7d"
            ],
            [
             0.2,
             "#de77ae"
            ],
            [
             0.3,
             "#f1b6da"
            ],
            [
             0.4,
             "#fde0ef"
            ],
            [
             0.5,
             "#f7f7f7"
            ],
            [
             0.6,
             "#e6f5d0"
            ],
            [
             0.7,
             "#b8e186"
            ],
            [
             0.8,
             "#7fbc41"
            ],
            [
             0.9,
             "#4d9221"
            ],
            [
             1,
             "#276419"
            ]
           ],
           "sequential": [
            [
             0,
             "#0d0887"
            ],
            [
             0.1111111111111111,
             "#46039f"
            ],
            [
             0.2222222222222222,
             "#7201a8"
            ],
            [
             0.3333333333333333,
             "#9c179e"
            ],
            [
             0.4444444444444444,
             "#bd3786"
            ],
            [
             0.5555555555555556,
             "#d8576b"
            ],
            [
             0.6666666666666666,
             "#ed7953"
            ],
            [
             0.7777777777777778,
             "#fb9f3a"
            ],
            [
             0.8888888888888888,
             "#fdca26"
            ],
            [
             1,
             "#f0f921"
            ]
           ],
           "sequentialminus": [
            [
             0,
             "#0d0887"
            ],
            [
             0.1111111111111111,
             "#46039f"
            ],
            [
             0.2222222222222222,
             "#7201a8"
            ],
            [
             0.3333333333333333,
             "#9c179e"
            ],
            [
             0.4444444444444444,
             "#bd3786"
            ],
            [
             0.5555555555555556,
             "#d8576b"
            ],
            [
             0.6666666666666666,
             "#ed7953"
            ],
            [
             0.7777777777777778,
             "#fb9f3a"
            ],
            [
             0.8888888888888888,
             "#fdca26"
            ],
            [
             1,
             "#f0f921"
            ]
           ]
          },
          "colorway": [
           "#636efa",
           "#EF553B",
           "#00cc96",
           "#ab63fa",
           "#FFA15A",
           "#19d3f3",
           "#FF6692",
           "#B6E880",
           "#FF97FF",
           "#FECB52"
          ],
          "font": {
           "color": "#2a3f5f"
          },
          "geo": {
           "bgcolor": "white",
           "lakecolor": "white",
           "landcolor": "#E5ECF6",
           "showlakes": true,
           "showland": true,
           "subunitcolor": "white"
          },
          "hoverlabel": {
           "align": "left"
          },
          "hovermode": "closest",
          "mapbox": {
           "style": "light"
          },
          "paper_bgcolor": "white",
          "plot_bgcolor": "#E5ECF6",
          "polar": {
           "angularaxis": {
            "gridcolor": "white",
            "linecolor": "white",
            "ticks": ""
           },
           "bgcolor": "#E5ECF6",
           "radialaxis": {
            "gridcolor": "white",
            "linecolor": "white",
            "ticks": ""
           }
          },
          "scene": {
           "xaxis": {
            "backgroundcolor": "#E5ECF6",
            "gridcolor": "white",
            "gridwidth": 2,
            "linecolor": "white",
            "showbackground": true,
            "ticks": "",
            "zerolinecolor": "white"
           },
           "yaxis": {
            "backgroundcolor": "#E5ECF6",
            "gridcolor": "white",
            "gridwidth": 2,
            "linecolor": "white",
            "showbackground": true,
            "ticks": "",
            "zerolinecolor": "white"
           },
           "zaxis": {
            "backgroundcolor": "#E5ECF6",
            "gridcolor": "white",
            "gridwidth": 2,
            "linecolor": "white",
            "showbackground": true,
            "ticks": "",
            "zerolinecolor": "white"
           }
          },
          "shapedefaults": {
           "line": {
            "color": "#2a3f5f"
           }
          },
          "ternary": {
           "aaxis": {
            "gridcolor": "white",
            "linecolor": "white",
            "ticks": ""
           },
           "baxis": {
            "gridcolor": "white",
            "linecolor": "white",
            "ticks": ""
           },
           "bgcolor": "#E5ECF6",
           "caxis": {
            "gridcolor": "white",
            "linecolor": "white",
            "ticks": ""
           }
          },
          "title": {
           "x": 0.05
          },
          "xaxis": {
           "automargin": true,
           "gridcolor": "white",
           "linecolor": "white",
           "ticks": "",
           "title": {
            "standoff": 15
           },
           "zerolinecolor": "white",
           "zerolinewidth": 2
          },
          "yaxis": {
           "automargin": true,
           "gridcolor": "white",
           "linecolor": "white",
           "ticks": "",
           "title": {
            "standoff": 15
           },
           "zerolinecolor": "white",
           "zerolinewidth": 2
          }
         }
        },
        "title": {
         "font": {
          "color": "#4D5663"
         }
        },
        "xaxis": {
         "anchor": "y",
         "domain": [
          0,
          0.2125
         ],
         "gridcolor": "#E1E5ED",
         "showgrid": false,
         "tickfont": {
          "color": "#4D5663"
         },
         "title": {
          "font": {
           "color": "#4D5663"
          },
          "text": ""
         },
         "zerolinecolor": "#E1E5ED"
        },
        "xaxis10": {
         "anchor": "y10",
         "domain": [
          0.2625,
          0.475
         ],
         "gridcolor": "#E1E5ED",
         "showgrid": false,
         "tickfont": {
          "color": "#4D5663"
         },
         "title": {
          "font": {
           "color": "#4D5663"
          },
          "text": ""
         },
         "zerolinecolor": "#E1E5ED"
        },
        "xaxis11": {
         "anchor": "y11",
         "domain": [
          0.525,
          0.7375
         ],
         "gridcolor": "#E1E5ED",
         "showgrid": false,
         "tickfont": {
          "color": "#4D5663"
         },
         "title": {
          "font": {
           "color": "#4D5663"
          },
          "text": ""
         },
         "zerolinecolor": "#E1E5ED"
        },
        "xaxis12": {
         "anchor": "y12",
         "domain": [
          0.7875,
          1
         ],
         "gridcolor": "#E1E5ED",
         "showgrid": false,
         "tickfont": {
          "color": "#4D5663"
         },
         "title": {
          "font": {
           "color": "#4D5663"
          },
          "text": ""
         },
         "zerolinecolor": "#E1E5ED"
        },
        "xaxis13": {
         "anchor": "y13",
         "domain": [
          0,
          0.2125
         ],
         "gridcolor": "#E1E5ED",
         "showgrid": false,
         "tickfont": {
          "color": "#4D5663"
         },
         "title": {
          "font": {
           "color": "#4D5663"
          },
          "text": ""
         },
         "zerolinecolor": "#E1E5ED"
        },
        "xaxis14": {
         "anchor": "y14",
         "domain": [
          0.2625,
          0.475
         ],
         "gridcolor": "#E1E5ED",
         "showgrid": false,
         "tickfont": {
          "color": "#4D5663"
         },
         "title": {
          "font": {
           "color": "#4D5663"
          },
          "text": ""
         },
         "zerolinecolor": "#E1E5ED"
        },
        "xaxis15": {
         "anchor": "y15",
         "domain": [
          0.525,
          0.7375
         ],
         "gridcolor": "#E1E5ED",
         "showgrid": false,
         "tickfont": {
          "color": "#4D5663"
         },
         "title": {
          "font": {
           "color": "#4D5663"
          },
          "text": ""
         },
         "zerolinecolor": "#E1E5ED"
        },
        "xaxis16": {
         "anchor": "y16",
         "domain": [
          0.7875,
          1
         ],
         "gridcolor": "#E1E5ED",
         "showgrid": false,
         "tickfont": {
          "color": "#4D5663"
         },
         "title": {
          "font": {
           "color": "#4D5663"
          },
          "text": ""
         },
         "zerolinecolor": "#E1E5ED"
        },
        "xaxis2": {
         "anchor": "y2",
         "domain": [
          0.2625,
          0.475
         ],
         "gridcolor": "#E1E5ED",
         "showgrid": false,
         "tickfont": {
          "color": "#4D5663"
         },
         "title": {
          "font": {
           "color": "#4D5663"
          },
          "text": ""
         },
         "zerolinecolor": "#E1E5ED"
        },
        "xaxis3": {
         "anchor": "y3",
         "domain": [
          0.525,
          0.7375
         ],
         "gridcolor": "#E1E5ED",
         "showgrid": false,
         "tickfont": {
          "color": "#4D5663"
         },
         "title": {
          "font": {
           "color": "#4D5663"
          },
          "text": ""
         },
         "zerolinecolor": "#E1E5ED"
        },
        "xaxis4": {
         "anchor": "y4",
         "domain": [
          0.7875,
          1
         ],
         "gridcolor": "#E1E5ED",
         "showgrid": false,
         "tickfont": {
          "color": "#4D5663"
         },
         "title": {
          "font": {
           "color": "#4D5663"
          },
          "text": ""
         },
         "zerolinecolor": "#E1E5ED"
        },
        "xaxis5": {
         "anchor": "y5",
         "domain": [
          0,
          0.2125
         ],
         "gridcolor": "#E1E5ED",
         "showgrid": false,
         "tickfont": {
          "color": "#4D5663"
         },
         "title": {
          "font": {
           "color": "#4D5663"
          },
          "text": ""
         },
         "zerolinecolor": "#E1E5ED"
        },
        "xaxis6": {
         "anchor": "y6",
         "domain": [
          0.2625,
          0.475
         ],
         "gridcolor": "#E1E5ED",
         "showgrid": false,
         "tickfont": {
          "color": "#4D5663"
         },
         "title": {
          "font": {
           "color": "#4D5663"
          },
          "text": ""
         },
         "zerolinecolor": "#E1E5ED"
        },
        "xaxis7": {
         "anchor": "y7",
         "domain": [
          0.525,
          0.7375
         ],
         "gridcolor": "#E1E5ED",
         "showgrid": false,
         "tickfont": {
          "color": "#4D5663"
         },
         "title": {
          "font": {
           "color": "#4D5663"
          },
          "text": ""
         },
         "zerolinecolor": "#E1E5ED"
        },
        "xaxis8": {
         "anchor": "y8",
         "domain": [
          0.7875,
          1
         ],
         "gridcolor": "#E1E5ED",
         "showgrid": false,
         "tickfont": {
          "color": "#4D5663"
         },
         "title": {
          "font": {
           "color": "#4D5663"
          },
          "text": ""
         },
         "zerolinecolor": "#E1E5ED"
        },
        "xaxis9": {
         "anchor": "y9",
         "domain": [
          0,
          0.2125
         ],
         "gridcolor": "#E1E5ED",
         "showgrid": false,
         "tickfont": {
          "color": "#4D5663"
         },
         "title": {
          "font": {
           "color": "#4D5663"
          },
          "text": ""
         },
         "zerolinecolor": "#E1E5ED"
        },
        "yaxis": {
         "anchor": "x",
         "domain": [
          0.8025,
          1
         ],
         "gridcolor": "#E1E5ED",
         "showgrid": false,
         "tickfont": {
          "color": "#4D5663"
         },
         "title": {
          "font": {
           "color": "#4D5663"
          },
          "text": ""
         },
         "zerolinecolor": "#E1E5ED"
        },
        "yaxis10": {
         "anchor": "x10",
         "domain": [
          0.2675,
          0.465
         ],
         "gridcolor": "#E1E5ED",
         "showgrid": false,
         "tickfont": {
          "color": "#4D5663"
         },
         "title": {
          "font": {
           "color": "#4D5663"
          },
          "text": ""
         },
         "zerolinecolor": "#E1E5ED"
        },
        "yaxis11": {
         "anchor": "x11",
         "domain": [
          0.2675,
          0.465
         ],
         "gridcolor": "#E1E5ED",
         "showgrid": false,
         "tickfont": {
          "color": "#4D5663"
         },
         "title": {
          "font": {
           "color": "#4D5663"
          },
          "text": ""
         },
         "zerolinecolor": "#E1E5ED"
        },
        "yaxis12": {
         "anchor": "x12",
         "domain": [
          0.2675,
          0.465
         ],
         "gridcolor": "#E1E5ED",
         "showgrid": false,
         "tickfont": {
          "color": "#4D5663"
         },
         "title": {
          "font": {
           "color": "#4D5663"
          },
          "text": ""
         },
         "zerolinecolor": "#E1E5ED"
        },
        "yaxis13": {
         "anchor": "x13",
         "domain": [
          0,
          0.1975
         ],
         "gridcolor": "#E1E5ED",
         "showgrid": false,
         "tickfont": {
          "color": "#4D5663"
         },
         "title": {
          "font": {
           "color": "#4D5663"
          },
          "text": ""
         },
         "zerolinecolor": "#E1E5ED"
        },
        "yaxis14": {
         "anchor": "x14",
         "domain": [
          0,
          0.1975
         ],
         "gridcolor": "#E1E5ED",
         "showgrid": false,
         "tickfont": {
          "color": "#4D5663"
         },
         "title": {
          "font": {
           "color": "#4D5663"
          },
          "text": ""
         },
         "zerolinecolor": "#E1E5ED"
        },
        "yaxis15": {
         "anchor": "x15",
         "domain": [
          0,
          0.1975
         ],
         "gridcolor": "#E1E5ED",
         "showgrid": false,
         "tickfont": {
          "color": "#4D5663"
         },
         "title": {
          "font": {
           "color": "#4D5663"
          },
          "text": ""
         },
         "zerolinecolor": "#E1E5ED"
        },
        "yaxis16": {
         "anchor": "x16",
         "domain": [
          0,
          0.1975
         ],
         "gridcolor": "#E1E5ED",
         "showgrid": false,
         "tickfont": {
          "color": "#4D5663"
         },
         "title": {
          "font": {
           "color": "#4D5663"
          },
          "text": ""
         },
         "zerolinecolor": "#E1E5ED"
        },
        "yaxis2": {
         "anchor": "x2",
         "domain": [
          0.8025,
          1
         ],
         "gridcolor": "#E1E5ED",
         "showgrid": false,
         "tickfont": {
          "color": "#4D5663"
         },
         "title": {
          "font": {
           "color": "#4D5663"
          },
          "text": ""
         },
         "zerolinecolor": "#E1E5ED"
        },
        "yaxis3": {
         "anchor": "x3",
         "domain": [
          0.8025,
          1
         ],
         "gridcolor": "#E1E5ED",
         "showgrid": false,
         "tickfont": {
          "color": "#4D5663"
         },
         "title": {
          "font": {
           "color": "#4D5663"
          },
          "text": ""
         },
         "zerolinecolor": "#E1E5ED"
        },
        "yaxis4": {
         "anchor": "x4",
         "domain": [
          0.8025,
          1
         ],
         "gridcolor": "#E1E5ED",
         "showgrid": false,
         "tickfont": {
          "color": "#4D5663"
         },
         "title": {
          "font": {
           "color": "#4D5663"
          },
          "text": ""
         },
         "zerolinecolor": "#E1E5ED"
        },
        "yaxis5": {
         "anchor": "x5",
         "domain": [
          0.535,
          0.7325
         ],
         "gridcolor": "#E1E5ED",
         "showgrid": false,
         "tickfont": {
          "color": "#4D5663"
         },
         "title": {
          "font": {
           "color": "#4D5663"
          },
          "text": ""
         },
         "zerolinecolor": "#E1E5ED"
        },
        "yaxis6": {
         "anchor": "x6",
         "domain": [
          0.535,
          0.7325
         ],
         "gridcolor": "#E1E5ED",
         "showgrid": false,
         "tickfont": {
          "color": "#4D5663"
         },
         "title": {
          "font": {
           "color": "#4D5663"
          },
          "text": ""
         },
         "zerolinecolor": "#E1E5ED"
        },
        "yaxis7": {
         "anchor": "x7",
         "domain": [
          0.535,
          0.7325
         ],
         "gridcolor": "#E1E5ED",
         "showgrid": false,
         "tickfont": {
          "color": "#4D5663"
         },
         "title": {
          "font": {
           "color": "#4D5663"
          },
          "text": ""
         },
         "zerolinecolor": "#E1E5ED"
        },
        "yaxis8": {
         "anchor": "x8",
         "domain": [
          0.535,
          0.7325
         ],
         "gridcolor": "#E1E5ED",
         "showgrid": false,
         "tickfont": {
          "color": "#4D5663"
         },
         "title": {
          "font": {
           "color": "#4D5663"
          },
          "text": ""
         },
         "zerolinecolor": "#E1E5ED"
        },
        "yaxis9": {
         "anchor": "x9",
         "domain": [
          0.2675,
          0.465
         ],
         "gridcolor": "#E1E5ED",
         "showgrid": false,
         "tickfont": {
          "color": "#4D5663"
         },
         "title": {
          "font": {
           "color": "#4D5663"
          },
          "text": ""
         },
         "zerolinecolor": "#E1E5ED"
        }
       }
      },
      "text/html": [
       "<div>\n",
       "        \n",
       "        \n",
       "            <div id=\"b1926bda-8a2a-4d97-ac0a-0e44012f6921\" class=\"plotly-graph-div\" style=\"height:525px; width:100%;\"></div>\n",
       "            <script type=\"text/javascript\">\n",
       "                require([\"plotly\"], function(Plotly) {\n",
       "                    window.PLOTLYENV=window.PLOTLYENV || {};\n",
       "                    window.PLOTLYENV.BASE_URL='https://plot.ly';\n",
       "                    \n",
       "                if (document.getElementById(\"b1926bda-8a2a-4d97-ac0a-0e44012f6921\")) {\n",
       "                    Plotly.newPlot(\n",
       "                        'b1926bda-8a2a-4d97-ac0a-0e44012f6921',\n",
       "                        [{\"histfunc\": \"count\", \"histnorm\": \"\", \"marker\": {\"color\": \"rgba(255, 153, 51, 1.0)\", \"line\": {\"color\": \"#4D5663\", \"width\": 1.3}}, \"name\": \"a\", \"nbinsx\": 10, \"opacity\": 0.8, \"orientation\": \"v\", \"type\": \"histogram\", \"x\": [0.292974139252864, -1.1862472468463803, -0.8501922428907918, 0.9111150495629899, 1.2365734664393244, -0.30040599005249846, 1.2105765633744126, 0.14329654371470976, 0.4816690203269885, -0.7188786553096995, 0.29107117981780284, -0.3401912914972917, -0.18610532625705425, 1.8934182437838603, 0.9927287463728656, 1.168165311884389, 1.2111889751775067, 0.19395059226497616, 0.28144601088500154, 0.2929306980738659, 1.1101162910982343, -0.20882608286556142, -0.14537398933595616, -0.6074017425049224, -0.45238438838097095, -0.36610343319996314, 0.26477062314585953, 0.14515091806317906, 0.7803251454516109, 0.608549950958882, -0.4026053747294526, -1.2321271511876488, 0.29910009937757676, -0.18539593485926428, -1.28945619590427, 0.39696306959178446, 0.694370207176139, -0.2679532057619806, 0.6478464445330818, -0.4988282383343721, -1.6079546032861718, 1.7507638766258602, 0.005242884837819096, 0.25125359691177257, -0.23229482042008281, -0.9157632735360842, 0.19640311609892663, -1.3062721849837655, 0.4339583497922634, -1.229079058345127, -1.115240077344917, 0.12379795927408499, 2.6290620243327067, 0.3998538531848044, 0.45893027219882326, -0.7086162503195204, 0.057001724806481205, 0.029529428385691656, -0.1534944558163816, 0.8870271703734542, -1.8295512441698598, 0.9303258214684024, -1.3794435848247562, -0.07751135502855382, 0.22194716382883783, -0.9513732804851377, 0.6170642625680876, 1.174827368853181, -1.7776866913199962, -1.690521991664963, 0.3160827137707872, 0.8005986394539232, -1.6980350094685637, -1.2304179781414055, -0.901279065228436, 0.22598156079956105, 0.3232752239225913, 0.29907964573518026, -0.16176374150177283, 0.6745298559739035, -1.4039829245790993, -0.7949168861300312, 0.8842730651829632, -0.7882189620982454, -0.7676887445502899, -0.6083321443906384, 1.6090599247918695, -0.5152246440526308, -0.3464353213483669, -0.28668138720437186, 0.8387664451015886, 0.7879805141342737, 1.0128081521957695, 1.4073545183039107, -0.838922259663184, -1.559188829826368, -0.10949875615111043, 0.5570685284421174, -0.5377441150506823, 0.7886033547968465], \"xaxis\": \"x\", \"yaxis\": \"y\"}, {\"line\": {\"color\": \"rgba(128, 128, 128, 1.0)\", \"dash\": \"solid\", \"shape\": \"linear\", \"width\": 1.3}, \"marker\": {\"size\": 2, \"symbol\": \"circle\"}, \"mode\": \"markers\", \"name\": \"a\", \"text\": \"\", \"type\": \"scatter\", \"x\": [-0.716753785541702, 0.1466280511998309, -0.6006519808735739, -0.5415580708273, -1.7400320426706721, 0.06483281643880595, 0.9267383919456018, 0.2754962391363442, -0.06963639112657052, 0.43293104058293036, -0.13165251266138508, 0.3688569256553953, 1.101879648066124, 1.0069678548545076, -1.0246405999495924, -0.037202033114178676, 0.259486510387421, -0.05785681071930317, -1.4405479471178548, -0.8243764549033302, -0.1175958470954889, -1.1981943378901034, 0.1487120785832584, 1.0764514860316108, -0.1310759686583265, 0.7870838978756679, 0.09754672432005959, -1.4826931311691334, 1.0793655584203048, 0.9233239197538965, 1.3166320867203176, 0.18222042165689503, -0.06256287722059806, 1.1043295807781548, -0.6150240875265599, 0.790514023860243, -2.0799884828014936, 0.5008675581779642, -0.6810354084403812, -1.2386481384626733, -1.2911154417873516, -0.5154920168362496, -0.4031392471329243, 0.9983704720180332, -1.0160075337650878, 1.886243651028083, -0.5715465786042008, -1.2679931356019523, 1.6614338951907, -0.17792785850635345, 1.4745507719444697, 1.1776871716912736, -1.2561713012470577, -0.24638872835020778, 1.4670954437869548, -0.189173117161535, -0.3527437302423633, -1.7117404210798368, 0.048457522093129965, 0.9007265389917656, -0.42341732249635067, 0.0816182553248051, -0.21089804096281775, 1.6556331387431482, -0.13153184493536688, 1.181944111964066, 2.5830824420534, 0.4106671915172332, -1.266706022491882, 0.3949972411593756, -0.5686340208377227, -1.6296276350686436, -0.47748567224339156, -0.13072699147207864, 0.4200392298325099, -0.7813031954177223, -1.9529817674828185, 0.866984811466902, -1.734427964729059, -1.2781840402669344, -1.2910708778295, -0.3989670450326166, 0.8745687117774343, -1.2311660756455374, 0.6089849716765106, 1.048143379954883, 0.3721709975994528, -1.1576133027199618, -0.34453151051109965, -1.0338932199109123, -0.9460628162322431, -0.04923179092455275, -1.0520628606997837, 0.1852383456745756, -1.0632232978375835, -0.09162384543826531, 0.6831550325518608, 0.9278729993391939, -0.47421170746718716, -2.1165065532109923], \"xaxis\": \"x2\", \"y\": [0.292974139252864, -1.1862472468463803, -0.8501922428907918, 0.9111150495629899, 1.2365734664393244, -0.30040599005249846, 1.2105765633744126, 0.14329654371470976, 0.4816690203269885, -0.7188786553096995, 0.29107117981780284, -0.3401912914972917, -0.18610532625705425, 1.8934182437838603, 0.9927287463728656, 1.168165311884389, 1.2111889751775067, 0.19395059226497616, 0.28144601088500154, 0.2929306980738659, 1.1101162910982343, -0.20882608286556142, -0.14537398933595616, -0.6074017425049224, -0.45238438838097095, -0.36610343319996314, 0.26477062314585953, 0.14515091806317906, 0.7803251454516109, 0.608549950958882, -0.4026053747294526, -1.2321271511876488, 0.29910009937757676, -0.18539593485926428, -1.28945619590427, 0.39696306959178446, 0.694370207176139, -0.2679532057619806, 0.6478464445330818, -0.4988282383343721, -1.6079546032861718, 1.7507638766258602, 0.005242884837819096, 0.25125359691177257, -0.23229482042008281, -0.9157632735360842, 0.19640311609892663, -1.3062721849837655, 0.4339583497922634, -1.229079058345127, -1.115240077344917, 0.12379795927408499, 2.6290620243327067, 0.3998538531848044, 0.45893027219882326, -0.7086162503195204, 0.057001724806481205, 0.029529428385691656, -0.1534944558163816, 0.8870271703734542, -1.8295512441698598, 0.9303258214684024, -1.3794435848247562, -0.07751135502855382, 0.22194716382883783, -0.9513732804851377, 0.6170642625680876, 1.174827368853181, -1.7776866913199962, -1.690521991664963, 0.3160827137707872, 0.8005986394539232, -1.6980350094685637, -1.2304179781414055, -0.901279065228436, 0.22598156079956105, 0.3232752239225913, 0.29907964573518026, -0.16176374150177283, 0.6745298559739035, -1.4039829245790993, -0.7949168861300312, 0.8842730651829632, -0.7882189620982454, -0.7676887445502899, -0.6083321443906384, 1.6090599247918695, -0.5152246440526308, -0.3464353213483669, -0.28668138720437186, 0.8387664451015886, 0.7879805141342737, 1.0128081521957695, 1.4073545183039107, -0.838922259663184, -1.559188829826368, -0.10949875615111043, 0.5570685284421174, -0.5377441150506823, 0.7886033547968465], \"yaxis\": \"y2\"}, {\"line\": {\"color\": \"rgba(128, 128, 128, 1.0)\", \"dash\": \"solid\", \"shape\": \"linear\", \"width\": 1.3}, \"marker\": {\"size\": 2, \"symbol\": \"circle\"}, \"mode\": \"markers\", \"name\": \"a\", \"text\": \"\", \"type\": \"scatter\", \"x\": [-1.4574517012520272, 1.616925654315569, -1.554079012755402, -1.3165598564774106, -0.580298637975121, -1.6622341146471158, 0.0039029501057902772, 0.8855012353492825, -1.1843262679473314, -0.8762274816520518, -2.4646576366704944, -0.11414376769157988, -1.1574256893431913, -0.28131202269853645, 1.6284928461930106, -1.1270331276821361, -1.344704448640053, 1.1875302280251283, 0.15559218997485583, -0.694260078532112, -0.29230645832071095, -0.4992558232676912, 2.2688498517230893, 0.8712707377838431, -1.8036431447735157, -0.7676519683585615, -1.2829084489005982, -0.5016259466438856, -0.184038073037974, -0.6806145366236737, 1.3825998331661564, 0.5558087648980298, 0.4674027907247537, -0.1549875719036628, -0.7654380083742985, -0.4334620098771487, -0.6188327405333642, 0.5113328091437372, -0.2408638527363929, -0.5205996360579126, 1.0248637764154853, 0.2991721298703997, 0.45632859815423865, -0.9165600624818021, -0.44150693650391165, 0.42136716310207434, -1.2432181110372378, 1.0761841766878144, 0.7271372108552653, 0.15546762147580842, 0.6033910326548694, -2.044292625815654, -0.9504839369270148, 0.38448091998306994, 0.15621297799152092, 0.8973509172710784, 0.026233284321891336, 0.9054939180728044, 0.10031640150414387, -2.566416680691887, 0.8578496553772357, 0.04616710992563474, -0.4143519451742939, 0.8982911790569463, -0.05048697730085292, -0.6385282870452667, -1.0250444618637682, 0.689639711080981, 1.8719098341594118, -0.5409850552157894, -0.01957191723265198, 1.716922728791775, 0.6554178012225307, -0.5570779687502161, -0.2421632594089551, -0.5900055298173724, 0.7918831028021635, 1.1758606862114478, -0.12566303634482529, -2.9377823589005674, -0.4739948397669631, 0.2360822009977156, 0.3880072625953246, 1.0820181968440927, -1.2042895773888243, -0.7307572670679031, -0.9011519959149107, 0.5032055368961691, 0.8620177087655849, -0.11785406490076067, 1.9448207551672967, -1.6170836002097697, 0.24263889685777973, -1.0640079092624295, 2.0609860331539123, -0.0027704454288980614, 2.3348516223314975, 0.9078533647685604, -1.4074955229616364, 0.3569938923431798], \"xaxis\": \"x3\", \"y\": [0.292974139252864, -1.1862472468463803, -0.8501922428907918, 0.9111150495629899, 1.2365734664393244, -0.30040599005249846, 1.2105765633744126, 0.14329654371470976, 0.4816690203269885, -0.7188786553096995, 0.29107117981780284, -0.3401912914972917, -0.18610532625705425, 1.8934182437838603, 0.9927287463728656, 1.168165311884389, 1.2111889751775067, 0.19395059226497616, 0.28144601088500154, 0.2929306980738659, 1.1101162910982343, -0.20882608286556142, -0.14537398933595616, -0.6074017425049224, -0.45238438838097095, -0.36610343319996314, 0.26477062314585953, 0.14515091806317906, 0.7803251454516109, 0.608549950958882, -0.4026053747294526, -1.2321271511876488, 0.29910009937757676, -0.18539593485926428, -1.28945619590427, 0.39696306959178446, 0.694370207176139, -0.2679532057619806, 0.6478464445330818, -0.4988282383343721, -1.6079546032861718, 1.7507638766258602, 0.005242884837819096, 0.25125359691177257, -0.23229482042008281, -0.9157632735360842, 0.19640311609892663, -1.3062721849837655, 0.4339583497922634, -1.229079058345127, -1.115240077344917, 0.12379795927408499, 2.6290620243327067, 0.3998538531848044, 0.45893027219882326, -0.7086162503195204, 0.057001724806481205, 0.029529428385691656, -0.1534944558163816, 0.8870271703734542, -1.8295512441698598, 0.9303258214684024, -1.3794435848247562, -0.07751135502855382, 0.22194716382883783, -0.9513732804851377, 0.6170642625680876, 1.174827368853181, -1.7776866913199962, -1.690521991664963, 0.3160827137707872, 0.8005986394539232, -1.6980350094685637, -1.2304179781414055, -0.901279065228436, 0.22598156079956105, 0.3232752239225913, 0.29907964573518026, -0.16176374150177283, 0.6745298559739035, -1.4039829245790993, -0.7949168861300312, 0.8842730651829632, -0.7882189620982454, -0.7676887445502899, -0.6083321443906384, 1.6090599247918695, -0.5152246440526308, -0.3464353213483669, -0.28668138720437186, 0.8387664451015886, 0.7879805141342737, 1.0128081521957695, 1.4073545183039107, -0.838922259663184, -1.559188829826368, -0.10949875615111043, 0.5570685284421174, -0.5377441150506823, 0.7886033547968465], \"yaxis\": \"y3\"}, {\"line\": {\"color\": \"rgba(128, 128, 128, 1.0)\", \"dash\": \"solid\", \"shape\": \"linear\", \"width\": 1.3}, \"marker\": {\"size\": 2, \"symbol\": \"circle\"}, \"mode\": \"markers\", \"name\": \"a\", \"text\": \"\", \"type\": \"scatter\", \"x\": [2.3168273884694734, 0.39458319641642464, -0.46510318054608163, -0.20172718202204393, -0.24189053063818983, -0.792642437428442, -0.7401698295328846, -1.6801107382717764, -0.4817563971652019, 1.5451818928436343, -0.22888853476448212, 1.4780655993868645, -0.767531470835622, -0.6532088894241367, -0.8514192088845505, -1.5254673915519978, -1.4537449170569778, -0.6320374135597754, -0.8111518709770245, 0.861081336229097, 1.398138867193178, 1.6404486362786317, 0.6573956893296753, 0.22476108022847083, -0.2913070574236847, 1.5958957556512083, 0.1601336724116086, -1.3320058902909229, 1.0081466141810744, 0.32324195296946145, -0.7879628462741596, -0.8374729790360113, -0.6381494389997875, 0.31177265196395976, -1.1812845002923689, -0.0032961040756202963, -1.4025396209387575, -0.6452642332947516, 0.10767114802755778, -1.7139180836635397, 0.776903516254839, 0.08644358216921927, -1.1838441134944493, -0.6951559872484373, 0.7020684612347757, -0.09257493287535283, -1.220722643372712, -0.7187472041161967, -0.017343737356023715, 0.09737197968014913, -1.014912564771148, 0.9485883343880211, -1.4700120494045807, 0.527090124873511, 0.981897523303843, -0.3729055802591033, -1.6546241743330667, 1.0030031251048521, -0.10009683865690405, 0.6562216961141715, -0.743623457689815, -1.2941608938560312, -0.3990600877641281, -0.43141935572373885, 0.7232784352637682, -0.48702320351926975, -1.4411058137972361, -0.07500513796421322, 0.23258225057884316, -0.009442055362124542, -1.1299073084348996, 2.305132922619832, 1.151453310017223, -1.7161278508924651, -0.10216223260372957, -1.5974074792176651, -0.7634211473180553, 0.7452180047870218, -0.1850689346138391, 0.08824655821509114, -1.1552205198591217, -0.3679056931079725, 1.141413950342741, -1.218427511084178, 0.022191477204873092, -0.5097153447922266, -0.547101576777799, -0.006209405227791605, -0.8802870712850492, 1.5497504397861899, -1.5625590276124781, -0.3461301297115325, -0.5852204321669262, -0.4967761599657341, 1.1677411209788946, 1.7802429315922845, 0.4907884854912572, -1.0585976439081948, -0.6230413266517936, -1.2962820739344532], \"xaxis\": \"x4\", \"y\": [0.292974139252864, -1.1862472468463803, -0.8501922428907918, 0.9111150495629899, 1.2365734664393244, -0.30040599005249846, 1.2105765633744126, 0.14329654371470976, 0.4816690203269885, -0.7188786553096995, 0.29107117981780284, -0.3401912914972917, -0.18610532625705425, 1.8934182437838603, 0.9927287463728656, 1.168165311884389, 1.2111889751775067, 0.19395059226497616, 0.28144601088500154, 0.2929306980738659, 1.1101162910982343, -0.20882608286556142, -0.14537398933595616, -0.6074017425049224, -0.45238438838097095, -0.36610343319996314, 0.26477062314585953, 0.14515091806317906, 0.7803251454516109, 0.608549950958882, -0.4026053747294526, -1.2321271511876488, 0.29910009937757676, -0.18539593485926428, -1.28945619590427, 0.39696306959178446, 0.694370207176139, -0.2679532057619806, 0.6478464445330818, -0.4988282383343721, -1.6079546032861718, 1.7507638766258602, 0.005242884837819096, 0.25125359691177257, -0.23229482042008281, -0.9157632735360842, 0.19640311609892663, -1.3062721849837655, 0.4339583497922634, -1.229079058345127, -1.115240077344917, 0.12379795927408499, 2.6290620243327067, 0.3998538531848044, 0.45893027219882326, -0.7086162503195204, 0.057001724806481205, 0.029529428385691656, -0.1534944558163816, 0.8870271703734542, -1.8295512441698598, 0.9303258214684024, -1.3794435848247562, -0.07751135502855382, 0.22194716382883783, -0.9513732804851377, 0.6170642625680876, 1.174827368853181, -1.7776866913199962, -1.690521991664963, 0.3160827137707872, 0.8005986394539232, -1.6980350094685637, -1.2304179781414055, -0.901279065228436, 0.22598156079956105, 0.3232752239225913, 0.29907964573518026, -0.16176374150177283, 0.6745298559739035, -1.4039829245790993, -0.7949168861300312, 0.8842730651829632, -0.7882189620982454, -0.7676887445502899, -0.6083321443906384, 1.6090599247918695, -0.5152246440526308, -0.3464353213483669, -0.28668138720437186, 0.8387664451015886, 0.7879805141342737, 1.0128081521957695, 1.4073545183039107, -0.838922259663184, -1.559188829826368, -0.10949875615111043, 0.5570685284421174, -0.5377441150506823, 0.7886033547968465], \"yaxis\": \"y4\"}, {\"line\": {\"color\": \"rgba(128, 128, 128, 1.0)\", \"dash\": \"solid\", \"shape\": \"linear\", \"width\": 1.3}, \"marker\": {\"size\": 2, \"symbol\": \"circle\"}, \"mode\": \"markers\", \"name\": \"b\", \"text\": \"\", \"type\": \"scatter\", \"x\": [0.292974139252864, -1.1862472468463803, -0.8501922428907918, 0.9111150495629899, 1.2365734664393244, -0.30040599005249846, 1.2105765633744126, 0.14329654371470976, 0.4816690203269885, -0.7188786553096995, 0.29107117981780284, -0.3401912914972917, -0.18610532625705425, 1.8934182437838603, 0.9927287463728656, 1.168165311884389, 1.2111889751775067, 0.19395059226497616, 0.28144601088500154, 0.2929306980738659, 1.1101162910982343, -0.20882608286556142, -0.14537398933595616, -0.6074017425049224, -0.45238438838097095, -0.36610343319996314, 0.26477062314585953, 0.14515091806317906, 0.7803251454516109, 0.608549950958882, -0.4026053747294526, -1.2321271511876488, 0.29910009937757676, -0.18539593485926428, -1.28945619590427, 0.39696306959178446, 0.694370207176139, -0.2679532057619806, 0.6478464445330818, -0.4988282383343721, -1.6079546032861718, 1.7507638766258602, 0.005242884837819096, 0.25125359691177257, -0.23229482042008281, -0.9157632735360842, 0.19640311609892663, -1.3062721849837655, 0.4339583497922634, -1.229079058345127, -1.115240077344917, 0.12379795927408499, 2.6290620243327067, 0.3998538531848044, 0.45893027219882326, -0.7086162503195204, 0.057001724806481205, 0.029529428385691656, -0.1534944558163816, 0.8870271703734542, -1.8295512441698598, 0.9303258214684024, -1.3794435848247562, -0.07751135502855382, 0.22194716382883783, -0.9513732804851377, 0.6170642625680876, 1.174827368853181, -1.7776866913199962, -1.690521991664963, 0.3160827137707872, 0.8005986394539232, -1.6980350094685637, -1.2304179781414055, -0.901279065228436, 0.22598156079956105, 0.3232752239225913, 0.29907964573518026, -0.16176374150177283, 0.6745298559739035, -1.4039829245790993, -0.7949168861300312, 0.8842730651829632, -0.7882189620982454, -0.7676887445502899, -0.6083321443906384, 1.6090599247918695, -0.5152246440526308, -0.3464353213483669, -0.28668138720437186, 0.8387664451015886, 0.7879805141342737, 1.0128081521957695, 1.4073545183039107, -0.838922259663184, -1.559188829826368, -0.10949875615111043, 0.5570685284421174, -0.5377441150506823, 0.7886033547968465], \"xaxis\": \"x5\", \"y\": [-0.716753785541702, 0.1466280511998309, -0.6006519808735739, -0.5415580708273, -1.7400320426706721, 0.06483281643880595, 0.9267383919456018, 0.2754962391363442, -0.06963639112657052, 0.43293104058293036, -0.13165251266138508, 0.3688569256553953, 1.101879648066124, 1.0069678548545076, -1.0246405999495924, -0.037202033114178676, 0.259486510387421, -0.05785681071930317, -1.4405479471178548, -0.8243764549033302, -0.1175958470954889, -1.1981943378901034, 0.1487120785832584, 1.0764514860316108, -0.1310759686583265, 0.7870838978756679, 0.09754672432005959, -1.4826931311691334, 1.0793655584203048, 0.9233239197538965, 1.3166320867203176, 0.18222042165689503, -0.06256287722059806, 1.1043295807781548, -0.6150240875265599, 0.790514023860243, -2.0799884828014936, 0.5008675581779642, -0.6810354084403812, -1.2386481384626733, -1.2911154417873516, -0.5154920168362496, -0.4031392471329243, 0.9983704720180332, -1.0160075337650878, 1.886243651028083, -0.5715465786042008, -1.2679931356019523, 1.6614338951907, -0.17792785850635345, 1.4745507719444697, 1.1776871716912736, -1.2561713012470577, -0.24638872835020778, 1.4670954437869548, -0.189173117161535, -0.3527437302423633, -1.7117404210798368, 0.048457522093129965, 0.9007265389917656, -0.42341732249635067, 0.0816182553248051, -0.21089804096281775, 1.6556331387431482, -0.13153184493536688, 1.181944111964066, 2.5830824420534, 0.4106671915172332, -1.266706022491882, 0.3949972411593756, -0.5686340208377227, -1.6296276350686436, -0.47748567224339156, -0.13072699147207864, 0.4200392298325099, -0.7813031954177223, -1.9529817674828185, 0.866984811466902, -1.734427964729059, -1.2781840402669344, -1.2910708778295, -0.3989670450326166, 0.8745687117774343, -1.2311660756455374, 0.6089849716765106, 1.048143379954883, 0.3721709975994528, -1.1576133027199618, -0.34453151051109965, -1.0338932199109123, -0.9460628162322431, -0.04923179092455275, -1.0520628606997837, 0.1852383456745756, -1.0632232978375835, -0.09162384543826531, 0.6831550325518608, 0.9278729993391939, -0.47421170746718716, -2.1165065532109923], \"yaxis\": \"y5\"}, {\"histfunc\": \"count\", \"histnorm\": \"\", \"marker\": {\"color\": \"rgba(55, 128, 191, 1.0)\", \"line\": {\"color\": \"#4D5663\", \"width\": 1.3}}, \"name\": \"b\", \"nbinsx\": 10, \"opacity\": 0.8, \"orientation\": \"v\", \"type\": \"histogram\", \"x\": [-0.716753785541702, 0.1466280511998309, -0.6006519808735739, -0.5415580708273, -1.7400320426706721, 0.06483281643880595, 0.9267383919456018, 0.2754962391363442, -0.06963639112657052, 0.43293104058293036, -0.13165251266138508, 0.3688569256553953, 1.101879648066124, 1.0069678548545076, -1.0246405999495924, -0.037202033114178676, 0.259486510387421, -0.05785681071930317, -1.4405479471178548, -0.8243764549033302, -0.1175958470954889, -1.1981943378901034, 0.1487120785832584, 1.0764514860316108, -0.1310759686583265, 0.7870838978756679, 0.09754672432005959, -1.4826931311691334, 1.0793655584203048, 0.9233239197538965, 1.3166320867203176, 0.18222042165689503, -0.06256287722059806, 1.1043295807781548, -0.6150240875265599, 0.790514023860243, -2.0799884828014936, 0.5008675581779642, -0.6810354084403812, -1.2386481384626733, -1.2911154417873516, -0.5154920168362496, -0.4031392471329243, 0.9983704720180332, -1.0160075337650878, 1.886243651028083, -0.5715465786042008, -1.2679931356019523, 1.6614338951907, -0.17792785850635345, 1.4745507719444697, 1.1776871716912736, -1.2561713012470577, -0.24638872835020778, 1.4670954437869548, -0.189173117161535, -0.3527437302423633, -1.7117404210798368, 0.048457522093129965, 0.9007265389917656, -0.42341732249635067, 0.0816182553248051, -0.21089804096281775, 1.6556331387431482, -0.13153184493536688, 1.181944111964066, 2.5830824420534, 0.4106671915172332, -1.266706022491882, 0.3949972411593756, -0.5686340208377227, -1.6296276350686436, -0.47748567224339156, -0.13072699147207864, 0.4200392298325099, -0.7813031954177223, -1.9529817674828185, 0.866984811466902, -1.734427964729059, -1.2781840402669344, -1.2910708778295, -0.3989670450326166, 0.8745687117774343, -1.2311660756455374, 0.6089849716765106, 1.048143379954883, 0.3721709975994528, -1.1576133027199618, -0.34453151051109965, -1.0338932199109123, -0.9460628162322431, -0.04923179092455275, -1.0520628606997837, 0.1852383456745756, -1.0632232978375835, -0.09162384543826531, 0.6831550325518608, 0.9278729993391939, -0.47421170746718716, -2.1165065532109923], \"xaxis\": \"x6\", \"yaxis\": \"y6\"}, {\"line\": {\"color\": \"rgba(128, 128, 128, 1.0)\", \"dash\": \"solid\", \"shape\": \"linear\", \"width\": 1.3}, \"marker\": {\"size\": 2, \"symbol\": \"circle\"}, \"mode\": \"markers\", \"name\": \"b\", \"text\": \"\", \"type\": \"scatter\", \"x\": [-1.4574517012520272, 1.616925654315569, -1.554079012755402, -1.3165598564774106, -0.580298637975121, -1.6622341146471158, 0.0039029501057902772, 0.8855012353492825, -1.1843262679473314, -0.8762274816520518, -2.4646576366704944, -0.11414376769157988, -1.1574256893431913, -0.28131202269853645, 1.6284928461930106, -1.1270331276821361, -1.344704448640053, 1.1875302280251283, 0.15559218997485583, -0.694260078532112, -0.29230645832071095, -0.4992558232676912, 2.2688498517230893, 0.8712707377838431, -1.8036431447735157, -0.7676519683585615, -1.2829084489005982, -0.5016259466438856, -0.184038073037974, -0.6806145366236737, 1.3825998331661564, 0.5558087648980298, 0.4674027907247537, -0.1549875719036628, -0.7654380083742985, -0.4334620098771487, -0.6188327405333642, 0.5113328091437372, -0.2408638527363929, -0.5205996360579126, 1.0248637764154853, 0.2991721298703997, 0.45632859815423865, -0.9165600624818021, -0.44150693650391165, 0.42136716310207434, -1.2432181110372378, 1.0761841766878144, 0.7271372108552653, 0.15546762147580842, 0.6033910326548694, -2.044292625815654, -0.9504839369270148, 0.38448091998306994, 0.15621297799152092, 0.8973509172710784, 0.026233284321891336, 0.9054939180728044, 0.10031640150414387, -2.566416680691887, 0.8578496553772357, 0.04616710992563474, -0.4143519451742939, 0.8982911790569463, -0.05048697730085292, -0.6385282870452667, -1.0250444618637682, 0.689639711080981, 1.8719098341594118, -0.5409850552157894, -0.01957191723265198, 1.716922728791775, 0.6554178012225307, -0.5570779687502161, -0.2421632594089551, -0.5900055298173724, 0.7918831028021635, 1.1758606862114478, -0.12566303634482529, -2.9377823589005674, -0.4739948397669631, 0.2360822009977156, 0.3880072625953246, 1.0820181968440927, -1.2042895773888243, -0.7307572670679031, -0.9011519959149107, 0.5032055368961691, 0.8620177087655849, -0.11785406490076067, 1.9448207551672967, -1.6170836002097697, 0.24263889685777973, -1.0640079092624295, 2.0609860331539123, -0.0027704454288980614, 2.3348516223314975, 0.9078533647685604, -1.4074955229616364, 0.3569938923431798], \"xaxis\": \"x7\", \"y\": [-0.716753785541702, 0.1466280511998309, -0.6006519808735739, -0.5415580708273, -1.7400320426706721, 0.06483281643880595, 0.9267383919456018, 0.2754962391363442, -0.06963639112657052, 0.43293104058293036, -0.13165251266138508, 0.3688569256553953, 1.101879648066124, 1.0069678548545076, -1.0246405999495924, -0.037202033114178676, 0.259486510387421, -0.05785681071930317, -1.4405479471178548, -0.8243764549033302, -0.1175958470954889, -1.1981943378901034, 0.1487120785832584, 1.0764514860316108, -0.1310759686583265, 0.7870838978756679, 0.09754672432005959, -1.4826931311691334, 1.0793655584203048, 0.9233239197538965, 1.3166320867203176, 0.18222042165689503, -0.06256287722059806, 1.1043295807781548, -0.6150240875265599, 0.790514023860243, -2.0799884828014936, 0.5008675581779642, -0.6810354084403812, -1.2386481384626733, -1.2911154417873516, -0.5154920168362496, -0.4031392471329243, 0.9983704720180332, -1.0160075337650878, 1.886243651028083, -0.5715465786042008, -1.2679931356019523, 1.6614338951907, -0.17792785850635345, 1.4745507719444697, 1.1776871716912736, -1.2561713012470577, -0.24638872835020778, 1.4670954437869548, -0.189173117161535, -0.3527437302423633, -1.7117404210798368, 0.048457522093129965, 0.9007265389917656, -0.42341732249635067, 0.0816182553248051, -0.21089804096281775, 1.6556331387431482, -0.13153184493536688, 1.181944111964066, 2.5830824420534, 0.4106671915172332, -1.266706022491882, 0.3949972411593756, -0.5686340208377227, -1.6296276350686436, -0.47748567224339156, -0.13072699147207864, 0.4200392298325099, -0.7813031954177223, -1.9529817674828185, 0.866984811466902, -1.734427964729059, -1.2781840402669344, -1.2910708778295, -0.3989670450326166, 0.8745687117774343, -1.2311660756455374, 0.6089849716765106, 1.048143379954883, 0.3721709975994528, -1.1576133027199618, -0.34453151051109965, -1.0338932199109123, -0.9460628162322431, -0.04923179092455275, -1.0520628606997837, 0.1852383456745756, -1.0632232978375835, -0.09162384543826531, 0.6831550325518608, 0.9278729993391939, -0.47421170746718716, -2.1165065532109923], \"yaxis\": \"y7\"}, {\"line\": {\"color\": \"rgba(128, 128, 128, 1.0)\", \"dash\": \"solid\", \"shape\": \"linear\", \"width\": 1.3}, \"marker\": {\"size\": 2, \"symbol\": \"circle\"}, \"mode\": \"markers\", \"name\": \"b\", \"text\": \"\", \"type\": \"scatter\", \"x\": [2.3168273884694734, 0.39458319641642464, -0.46510318054608163, -0.20172718202204393, -0.24189053063818983, -0.792642437428442, -0.7401698295328846, -1.6801107382717764, -0.4817563971652019, 1.5451818928436343, -0.22888853476448212, 1.4780655993868645, -0.767531470835622, -0.6532088894241367, -0.8514192088845505, -1.5254673915519978, -1.4537449170569778, -0.6320374135597754, -0.8111518709770245, 0.861081336229097, 1.398138867193178, 1.6404486362786317, 0.6573956893296753, 0.22476108022847083, -0.2913070574236847, 1.5958957556512083, 0.1601336724116086, -1.3320058902909229, 1.0081466141810744, 0.32324195296946145, -0.7879628462741596, -0.8374729790360113, -0.6381494389997875, 0.31177265196395976, -1.1812845002923689, -0.0032961040756202963, -1.4025396209387575, -0.6452642332947516, 0.10767114802755778, -1.7139180836635397, 0.776903516254839, 0.08644358216921927, -1.1838441134944493, -0.6951559872484373, 0.7020684612347757, -0.09257493287535283, -1.220722643372712, -0.7187472041161967, -0.017343737356023715, 0.09737197968014913, -1.014912564771148, 0.9485883343880211, -1.4700120494045807, 0.527090124873511, 0.981897523303843, -0.3729055802591033, -1.6546241743330667, 1.0030031251048521, -0.10009683865690405, 0.6562216961141715, -0.743623457689815, -1.2941608938560312, -0.3990600877641281, -0.43141935572373885, 0.7232784352637682, -0.48702320351926975, -1.4411058137972361, -0.07500513796421322, 0.23258225057884316, -0.009442055362124542, -1.1299073084348996, 2.305132922619832, 1.151453310017223, -1.7161278508924651, -0.10216223260372957, -1.5974074792176651, -0.7634211473180553, 0.7452180047870218, -0.1850689346138391, 0.08824655821509114, -1.1552205198591217, -0.3679056931079725, 1.141413950342741, -1.218427511084178, 0.022191477204873092, -0.5097153447922266, -0.547101576777799, -0.006209405227791605, -0.8802870712850492, 1.5497504397861899, -1.5625590276124781, -0.3461301297115325, -0.5852204321669262, -0.4967761599657341, 1.1677411209788946, 1.7802429315922845, 0.4907884854912572, -1.0585976439081948, -0.6230413266517936, -1.2962820739344532], \"xaxis\": \"x8\", \"y\": [-0.716753785541702, 0.1466280511998309, -0.6006519808735739, -0.5415580708273, -1.7400320426706721, 0.06483281643880595, 0.9267383919456018, 0.2754962391363442, -0.06963639112657052, 0.43293104058293036, -0.13165251266138508, 0.3688569256553953, 1.101879648066124, 1.0069678548545076, -1.0246405999495924, -0.037202033114178676, 0.259486510387421, -0.05785681071930317, -1.4405479471178548, -0.8243764549033302, -0.1175958470954889, -1.1981943378901034, 0.1487120785832584, 1.0764514860316108, -0.1310759686583265, 0.7870838978756679, 0.09754672432005959, -1.4826931311691334, 1.0793655584203048, 0.9233239197538965, 1.3166320867203176, 0.18222042165689503, -0.06256287722059806, 1.1043295807781548, -0.6150240875265599, 0.790514023860243, -2.0799884828014936, 0.5008675581779642, -0.6810354084403812, -1.2386481384626733, -1.2911154417873516, -0.5154920168362496, -0.4031392471329243, 0.9983704720180332, -1.0160075337650878, 1.886243651028083, -0.5715465786042008, -1.2679931356019523, 1.6614338951907, -0.17792785850635345, 1.4745507719444697, 1.1776871716912736, -1.2561713012470577, -0.24638872835020778, 1.4670954437869548, -0.189173117161535, -0.3527437302423633, -1.7117404210798368, 0.048457522093129965, 0.9007265389917656, -0.42341732249635067, 0.0816182553248051, -0.21089804096281775, 1.6556331387431482, -0.13153184493536688, 1.181944111964066, 2.5830824420534, 0.4106671915172332, -1.266706022491882, 0.3949972411593756, -0.5686340208377227, -1.6296276350686436, -0.47748567224339156, -0.13072699147207864, 0.4200392298325099, -0.7813031954177223, -1.9529817674828185, 0.866984811466902, -1.734427964729059, -1.2781840402669344, -1.2910708778295, -0.3989670450326166, 0.8745687117774343, -1.2311660756455374, 0.6089849716765106, 1.048143379954883, 0.3721709975994528, -1.1576133027199618, -0.34453151051109965, -1.0338932199109123, -0.9460628162322431, -0.04923179092455275, -1.0520628606997837, 0.1852383456745756, -1.0632232978375835, -0.09162384543826531, 0.6831550325518608, 0.9278729993391939, -0.47421170746718716, -2.1165065532109923], \"yaxis\": \"y8\"}, {\"line\": {\"color\": \"rgba(128, 128, 128, 1.0)\", \"dash\": \"solid\", \"shape\": \"linear\", \"width\": 1.3}, \"marker\": {\"size\": 2, \"symbol\": \"circle\"}, \"mode\": \"markers\", \"name\": \"c\", \"text\": \"\", \"type\": \"scatter\", \"x\": [0.292974139252864, -1.1862472468463803, -0.8501922428907918, 0.9111150495629899, 1.2365734664393244, -0.30040599005249846, 1.2105765633744126, 0.14329654371470976, 0.4816690203269885, -0.7188786553096995, 0.29107117981780284, -0.3401912914972917, -0.18610532625705425, 1.8934182437838603, 0.9927287463728656, 1.168165311884389, 1.2111889751775067, 0.19395059226497616, 0.28144601088500154, 0.2929306980738659, 1.1101162910982343, -0.20882608286556142, -0.14537398933595616, -0.6074017425049224, -0.45238438838097095, -0.36610343319996314, 0.26477062314585953, 0.14515091806317906, 0.7803251454516109, 0.608549950958882, -0.4026053747294526, -1.2321271511876488, 0.29910009937757676, -0.18539593485926428, -1.28945619590427, 0.39696306959178446, 0.694370207176139, -0.2679532057619806, 0.6478464445330818, -0.4988282383343721, -1.6079546032861718, 1.7507638766258602, 0.005242884837819096, 0.25125359691177257, -0.23229482042008281, -0.9157632735360842, 0.19640311609892663, -1.3062721849837655, 0.4339583497922634, -1.229079058345127, -1.115240077344917, 0.12379795927408499, 2.6290620243327067, 0.3998538531848044, 0.45893027219882326, -0.7086162503195204, 0.057001724806481205, 0.029529428385691656, -0.1534944558163816, 0.8870271703734542, -1.8295512441698598, 0.9303258214684024, -1.3794435848247562, -0.07751135502855382, 0.22194716382883783, -0.9513732804851377, 0.6170642625680876, 1.174827368853181, -1.7776866913199962, -1.690521991664963, 0.3160827137707872, 0.8005986394539232, -1.6980350094685637, -1.2304179781414055, -0.901279065228436, 0.22598156079956105, 0.3232752239225913, 0.29907964573518026, -0.16176374150177283, 0.6745298559739035, -1.4039829245790993, -0.7949168861300312, 0.8842730651829632, -0.7882189620982454, -0.7676887445502899, -0.6083321443906384, 1.6090599247918695, -0.5152246440526308, -0.3464353213483669, -0.28668138720437186, 0.8387664451015886, 0.7879805141342737, 1.0128081521957695, 1.4073545183039107, -0.838922259663184, -1.559188829826368, -0.10949875615111043, 0.5570685284421174, -0.5377441150506823, 0.7886033547968465], \"xaxis\": \"x9\", \"y\": [-1.4574517012520272, 1.616925654315569, -1.554079012755402, -1.3165598564774106, -0.580298637975121, -1.6622341146471158, 0.0039029501057902772, 0.8855012353492825, -1.1843262679473314, -0.8762274816520518, -2.4646576366704944, -0.11414376769157988, -1.1574256893431913, -0.28131202269853645, 1.6284928461930106, -1.1270331276821361, -1.344704448640053, 1.1875302280251283, 0.15559218997485583, -0.694260078532112, -0.29230645832071095, -0.4992558232676912, 2.2688498517230893, 0.8712707377838431, -1.8036431447735157, -0.7676519683585615, -1.2829084489005982, -0.5016259466438856, -0.184038073037974, -0.6806145366236737, 1.3825998331661564, 0.5558087648980298, 0.4674027907247537, -0.1549875719036628, -0.7654380083742985, -0.4334620098771487, -0.6188327405333642, 0.5113328091437372, -0.2408638527363929, -0.5205996360579126, 1.0248637764154853, 0.2991721298703997, 0.45632859815423865, -0.9165600624818021, -0.44150693650391165, 0.42136716310207434, -1.2432181110372378, 1.0761841766878144, 0.7271372108552653, 0.15546762147580842, 0.6033910326548694, -2.044292625815654, -0.9504839369270148, 0.38448091998306994, 0.15621297799152092, 0.8973509172710784, 0.026233284321891336, 0.9054939180728044, 0.10031640150414387, -2.566416680691887, 0.8578496553772357, 0.04616710992563474, -0.4143519451742939, 0.8982911790569463, -0.05048697730085292, -0.6385282870452667, -1.0250444618637682, 0.689639711080981, 1.8719098341594118, -0.5409850552157894, -0.01957191723265198, 1.716922728791775, 0.6554178012225307, -0.5570779687502161, -0.2421632594089551, -0.5900055298173724, 0.7918831028021635, 1.1758606862114478, -0.12566303634482529, -2.9377823589005674, -0.4739948397669631, 0.2360822009977156, 0.3880072625953246, 1.0820181968440927, -1.2042895773888243, -0.7307572670679031, -0.9011519959149107, 0.5032055368961691, 0.8620177087655849, -0.11785406490076067, 1.9448207551672967, -1.6170836002097697, 0.24263889685777973, -1.0640079092624295, 2.0609860331539123, -0.0027704454288980614, 2.3348516223314975, 0.9078533647685604, -1.4074955229616364, 0.3569938923431798], \"yaxis\": \"y9\"}, {\"line\": {\"color\": \"rgba(128, 128, 128, 1.0)\", \"dash\": \"solid\", \"shape\": \"linear\", \"width\": 1.3}, \"marker\": {\"size\": 2, \"symbol\": \"circle\"}, \"mode\": \"markers\", \"name\": \"c\", \"text\": \"\", \"type\": \"scatter\", \"x\": [-0.716753785541702, 0.1466280511998309, -0.6006519808735739, -0.5415580708273, -1.7400320426706721, 0.06483281643880595, 0.9267383919456018, 0.2754962391363442, -0.06963639112657052, 0.43293104058293036, -0.13165251266138508, 0.3688569256553953, 1.101879648066124, 1.0069678548545076, -1.0246405999495924, -0.037202033114178676, 0.259486510387421, -0.05785681071930317, -1.4405479471178548, -0.8243764549033302, -0.1175958470954889, -1.1981943378901034, 0.1487120785832584, 1.0764514860316108, -0.1310759686583265, 0.7870838978756679, 0.09754672432005959, -1.4826931311691334, 1.0793655584203048, 0.9233239197538965, 1.3166320867203176, 0.18222042165689503, -0.06256287722059806, 1.1043295807781548, -0.6150240875265599, 0.790514023860243, -2.0799884828014936, 0.5008675581779642, -0.6810354084403812, -1.2386481384626733, -1.2911154417873516, -0.5154920168362496, -0.4031392471329243, 0.9983704720180332, -1.0160075337650878, 1.886243651028083, -0.5715465786042008, -1.2679931356019523, 1.6614338951907, -0.17792785850635345, 1.4745507719444697, 1.1776871716912736, -1.2561713012470577, -0.24638872835020778, 1.4670954437869548, -0.189173117161535, -0.3527437302423633, -1.7117404210798368, 0.048457522093129965, 0.9007265389917656, -0.42341732249635067, 0.0816182553248051, -0.21089804096281775, 1.6556331387431482, -0.13153184493536688, 1.181944111964066, 2.5830824420534, 0.4106671915172332, -1.266706022491882, 0.3949972411593756, -0.5686340208377227, -1.6296276350686436, -0.47748567224339156, -0.13072699147207864, 0.4200392298325099, -0.7813031954177223, -1.9529817674828185, 0.866984811466902, -1.734427964729059, -1.2781840402669344, -1.2910708778295, -0.3989670450326166, 0.8745687117774343, -1.2311660756455374, 0.6089849716765106, 1.048143379954883, 0.3721709975994528, -1.1576133027199618, -0.34453151051109965, -1.0338932199109123, -0.9460628162322431, -0.04923179092455275, -1.0520628606997837, 0.1852383456745756, -1.0632232978375835, -0.09162384543826531, 0.6831550325518608, 0.9278729993391939, -0.47421170746718716, -2.1165065532109923], \"xaxis\": \"x10\", \"y\": [-1.4574517012520272, 1.616925654315569, -1.554079012755402, -1.3165598564774106, -0.580298637975121, -1.6622341146471158, 0.0039029501057902772, 0.8855012353492825, -1.1843262679473314, -0.8762274816520518, -2.4646576366704944, -0.11414376769157988, -1.1574256893431913, -0.28131202269853645, 1.6284928461930106, -1.1270331276821361, -1.344704448640053, 1.1875302280251283, 0.15559218997485583, -0.694260078532112, -0.29230645832071095, -0.4992558232676912, 2.2688498517230893, 0.8712707377838431, -1.8036431447735157, -0.7676519683585615, -1.2829084489005982, -0.5016259466438856, -0.184038073037974, -0.6806145366236737, 1.3825998331661564, 0.5558087648980298, 0.4674027907247537, -0.1549875719036628, -0.7654380083742985, -0.4334620098771487, -0.6188327405333642, 0.5113328091437372, -0.2408638527363929, -0.5205996360579126, 1.0248637764154853, 0.2991721298703997, 0.45632859815423865, -0.9165600624818021, -0.44150693650391165, 0.42136716310207434, -1.2432181110372378, 1.0761841766878144, 0.7271372108552653, 0.15546762147580842, 0.6033910326548694, -2.044292625815654, -0.9504839369270148, 0.38448091998306994, 0.15621297799152092, 0.8973509172710784, 0.026233284321891336, 0.9054939180728044, 0.10031640150414387, -2.566416680691887, 0.8578496553772357, 0.04616710992563474, -0.4143519451742939, 0.8982911790569463, -0.05048697730085292, -0.6385282870452667, -1.0250444618637682, 0.689639711080981, 1.8719098341594118, -0.5409850552157894, -0.01957191723265198, 1.716922728791775, 0.6554178012225307, -0.5570779687502161, -0.2421632594089551, -0.5900055298173724, 0.7918831028021635, 1.1758606862114478, -0.12566303634482529, -2.9377823589005674, -0.4739948397669631, 0.2360822009977156, 0.3880072625953246, 1.0820181968440927, -1.2042895773888243, -0.7307572670679031, -0.9011519959149107, 0.5032055368961691, 0.8620177087655849, -0.11785406490076067, 1.9448207551672967, -1.6170836002097697, 0.24263889685777973, -1.0640079092624295, 2.0609860331539123, -0.0027704454288980614, 2.3348516223314975, 0.9078533647685604, -1.4074955229616364, 0.3569938923431798], \"yaxis\": \"y10\"}, {\"histfunc\": \"count\", \"histnorm\": \"\", \"marker\": {\"color\": \"rgba(50, 171, 96, 1.0)\", \"line\": {\"color\": \"#4D5663\", \"width\": 1.3}}, \"name\": \"c\", \"nbinsx\": 10, \"opacity\": 0.8, \"orientation\": \"v\", \"type\": \"histogram\", \"x\": [-1.4574517012520272, 1.616925654315569, -1.554079012755402, -1.3165598564774106, -0.580298637975121, -1.6622341146471158, 0.0039029501057902772, 0.8855012353492825, -1.1843262679473314, -0.8762274816520518, -2.4646576366704944, -0.11414376769157988, -1.1574256893431913, -0.28131202269853645, 1.6284928461930106, -1.1270331276821361, -1.344704448640053, 1.1875302280251283, 0.15559218997485583, -0.694260078532112, -0.29230645832071095, -0.4992558232676912, 2.2688498517230893, 0.8712707377838431, -1.8036431447735157, -0.7676519683585615, -1.2829084489005982, -0.5016259466438856, -0.184038073037974, -0.6806145366236737, 1.3825998331661564, 0.5558087648980298, 0.4674027907247537, -0.1549875719036628, -0.7654380083742985, -0.4334620098771487, -0.6188327405333642, 0.5113328091437372, -0.2408638527363929, -0.5205996360579126, 1.0248637764154853, 0.2991721298703997, 0.45632859815423865, -0.9165600624818021, -0.44150693650391165, 0.42136716310207434, -1.2432181110372378, 1.0761841766878144, 0.7271372108552653, 0.15546762147580842, 0.6033910326548694, -2.044292625815654, -0.9504839369270148, 0.38448091998306994, 0.15621297799152092, 0.8973509172710784, 0.026233284321891336, 0.9054939180728044, 0.10031640150414387, -2.566416680691887, 0.8578496553772357, 0.04616710992563474, -0.4143519451742939, 0.8982911790569463, -0.05048697730085292, -0.6385282870452667, -1.0250444618637682, 0.689639711080981, 1.8719098341594118, -0.5409850552157894, -0.01957191723265198, 1.716922728791775, 0.6554178012225307, -0.5570779687502161, -0.2421632594089551, -0.5900055298173724, 0.7918831028021635, 1.1758606862114478, -0.12566303634482529, -2.9377823589005674, -0.4739948397669631, 0.2360822009977156, 0.3880072625953246, 1.0820181968440927, -1.2042895773888243, -0.7307572670679031, -0.9011519959149107, 0.5032055368961691, 0.8620177087655849, -0.11785406490076067, 1.9448207551672967, -1.6170836002097697, 0.24263889685777973, -1.0640079092624295, 2.0609860331539123, -0.0027704454288980614, 2.3348516223314975, 0.9078533647685604, -1.4074955229616364, 0.3569938923431798], \"xaxis\": \"x11\", \"yaxis\": \"y11\"}, {\"line\": {\"color\": \"rgba(128, 128, 128, 1.0)\", \"dash\": \"solid\", \"shape\": \"linear\", \"width\": 1.3}, \"marker\": {\"size\": 2, \"symbol\": \"circle\"}, \"mode\": \"markers\", \"name\": \"c\", \"text\": \"\", \"type\": \"scatter\", \"x\": [2.3168273884694734, 0.39458319641642464, -0.46510318054608163, -0.20172718202204393, -0.24189053063818983, -0.792642437428442, -0.7401698295328846, -1.6801107382717764, -0.4817563971652019, 1.5451818928436343, -0.22888853476448212, 1.4780655993868645, -0.767531470835622, -0.6532088894241367, -0.8514192088845505, -1.5254673915519978, -1.4537449170569778, -0.6320374135597754, -0.8111518709770245, 0.861081336229097, 1.398138867193178, 1.6404486362786317, 0.6573956893296753, 0.22476108022847083, -0.2913070574236847, 1.5958957556512083, 0.1601336724116086, -1.3320058902909229, 1.0081466141810744, 0.32324195296946145, -0.7879628462741596, -0.8374729790360113, -0.6381494389997875, 0.31177265196395976, -1.1812845002923689, -0.0032961040756202963, -1.4025396209387575, -0.6452642332947516, 0.10767114802755778, -1.7139180836635397, 0.776903516254839, 0.08644358216921927, -1.1838441134944493, -0.6951559872484373, 0.7020684612347757, -0.09257493287535283, -1.220722643372712, -0.7187472041161967, -0.017343737356023715, 0.09737197968014913, -1.014912564771148, 0.9485883343880211, -1.4700120494045807, 0.527090124873511, 0.981897523303843, -0.3729055802591033, -1.6546241743330667, 1.0030031251048521, -0.10009683865690405, 0.6562216961141715, -0.743623457689815, -1.2941608938560312, -0.3990600877641281, -0.43141935572373885, 0.7232784352637682, -0.48702320351926975, -1.4411058137972361, -0.07500513796421322, 0.23258225057884316, -0.009442055362124542, -1.1299073084348996, 2.305132922619832, 1.151453310017223, -1.7161278508924651, -0.10216223260372957, -1.5974074792176651, -0.7634211473180553, 0.7452180047870218, -0.1850689346138391, 0.08824655821509114, -1.1552205198591217, -0.3679056931079725, 1.141413950342741, -1.218427511084178, 0.022191477204873092, -0.5097153447922266, -0.547101576777799, -0.006209405227791605, -0.8802870712850492, 1.5497504397861899, -1.5625590276124781, -0.3461301297115325, -0.5852204321669262, -0.4967761599657341, 1.1677411209788946, 1.7802429315922845, 0.4907884854912572, -1.0585976439081948, -0.6230413266517936, -1.2962820739344532], \"xaxis\": \"x12\", \"y\": [-1.4574517012520272, 1.616925654315569, -1.554079012755402, -1.3165598564774106, -0.580298637975121, -1.6622341146471158, 0.0039029501057902772, 0.8855012353492825, -1.1843262679473314, -0.8762274816520518, -2.4646576366704944, -0.11414376769157988, -1.1574256893431913, -0.28131202269853645, 1.6284928461930106, -1.1270331276821361, -1.344704448640053, 1.1875302280251283, 0.15559218997485583, -0.694260078532112, -0.29230645832071095, -0.4992558232676912, 2.2688498517230893, 0.8712707377838431, -1.8036431447735157, -0.7676519683585615, -1.2829084489005982, -0.5016259466438856, -0.184038073037974, -0.6806145366236737, 1.3825998331661564, 0.5558087648980298, 0.4674027907247537, -0.1549875719036628, -0.7654380083742985, -0.4334620098771487, -0.6188327405333642, 0.5113328091437372, -0.2408638527363929, -0.5205996360579126, 1.0248637764154853, 0.2991721298703997, 0.45632859815423865, -0.9165600624818021, -0.44150693650391165, 0.42136716310207434, -1.2432181110372378, 1.0761841766878144, 0.7271372108552653, 0.15546762147580842, 0.6033910326548694, -2.044292625815654, -0.9504839369270148, 0.38448091998306994, 0.15621297799152092, 0.8973509172710784, 0.026233284321891336, 0.9054939180728044, 0.10031640150414387, -2.566416680691887, 0.8578496553772357, 0.04616710992563474, -0.4143519451742939, 0.8982911790569463, -0.05048697730085292, -0.6385282870452667, -1.0250444618637682, 0.689639711080981, 1.8719098341594118, -0.5409850552157894, -0.01957191723265198, 1.716922728791775, 0.6554178012225307, -0.5570779687502161, -0.2421632594089551, -0.5900055298173724, 0.7918831028021635, 1.1758606862114478, -0.12566303634482529, -2.9377823589005674, -0.4739948397669631, 0.2360822009977156, 0.3880072625953246, 1.0820181968440927, -1.2042895773888243, -0.7307572670679031, -0.9011519959149107, 0.5032055368961691, 0.8620177087655849, -0.11785406490076067, 1.9448207551672967, -1.6170836002097697, 0.24263889685777973, -1.0640079092624295, 2.0609860331539123, -0.0027704454288980614, 2.3348516223314975, 0.9078533647685604, -1.4074955229616364, 0.3569938923431798], \"yaxis\": \"y12\"}, {\"line\": {\"color\": \"rgba(128, 128, 128, 1.0)\", \"dash\": \"solid\", \"shape\": \"linear\", \"width\": 1.3}, \"marker\": {\"size\": 2, \"symbol\": \"circle\"}, \"mode\": \"markers\", \"name\": \"d\", \"text\": \"\", \"type\": \"scatter\", \"x\": [0.292974139252864, -1.1862472468463803, -0.8501922428907918, 0.9111150495629899, 1.2365734664393244, -0.30040599005249846, 1.2105765633744126, 0.14329654371470976, 0.4816690203269885, -0.7188786553096995, 0.29107117981780284, -0.3401912914972917, -0.18610532625705425, 1.8934182437838603, 0.9927287463728656, 1.168165311884389, 1.2111889751775067, 0.19395059226497616, 0.28144601088500154, 0.2929306980738659, 1.1101162910982343, -0.20882608286556142, -0.14537398933595616, -0.6074017425049224, -0.45238438838097095, -0.36610343319996314, 0.26477062314585953, 0.14515091806317906, 0.7803251454516109, 0.608549950958882, -0.4026053747294526, -1.2321271511876488, 0.29910009937757676, -0.18539593485926428, -1.28945619590427, 0.39696306959178446, 0.694370207176139, -0.2679532057619806, 0.6478464445330818, -0.4988282383343721, -1.6079546032861718, 1.7507638766258602, 0.005242884837819096, 0.25125359691177257, -0.23229482042008281, -0.9157632735360842, 0.19640311609892663, -1.3062721849837655, 0.4339583497922634, -1.229079058345127, -1.115240077344917, 0.12379795927408499, 2.6290620243327067, 0.3998538531848044, 0.45893027219882326, -0.7086162503195204, 0.057001724806481205, 0.029529428385691656, -0.1534944558163816, 0.8870271703734542, -1.8295512441698598, 0.9303258214684024, -1.3794435848247562, -0.07751135502855382, 0.22194716382883783, -0.9513732804851377, 0.6170642625680876, 1.174827368853181, -1.7776866913199962, -1.690521991664963, 0.3160827137707872, 0.8005986394539232, -1.6980350094685637, -1.2304179781414055, -0.901279065228436, 0.22598156079956105, 0.3232752239225913, 0.29907964573518026, -0.16176374150177283, 0.6745298559739035, -1.4039829245790993, -0.7949168861300312, 0.8842730651829632, -0.7882189620982454, -0.7676887445502899, -0.6083321443906384, 1.6090599247918695, -0.5152246440526308, -0.3464353213483669, -0.28668138720437186, 0.8387664451015886, 0.7879805141342737, 1.0128081521957695, 1.4073545183039107, -0.838922259663184, -1.559188829826368, -0.10949875615111043, 0.5570685284421174, -0.5377441150506823, 0.7886033547968465], \"xaxis\": \"x13\", \"y\": [2.3168273884694734, 0.39458319641642464, -0.46510318054608163, -0.20172718202204393, -0.24189053063818983, -0.792642437428442, -0.7401698295328846, -1.6801107382717764, -0.4817563971652019, 1.5451818928436343, -0.22888853476448212, 1.4780655993868645, -0.767531470835622, -0.6532088894241367, -0.8514192088845505, -1.5254673915519978, -1.4537449170569778, -0.6320374135597754, -0.8111518709770245, 0.861081336229097, 1.398138867193178, 1.6404486362786317, 0.6573956893296753, 0.22476108022847083, -0.2913070574236847, 1.5958957556512083, 0.1601336724116086, -1.3320058902909229, 1.0081466141810744, 0.32324195296946145, -0.7879628462741596, -0.8374729790360113, -0.6381494389997875, 0.31177265196395976, -1.1812845002923689, -0.0032961040756202963, -1.4025396209387575, -0.6452642332947516, 0.10767114802755778, -1.7139180836635397, 0.776903516254839, 0.08644358216921927, -1.1838441134944493, -0.6951559872484373, 0.7020684612347757, -0.09257493287535283, -1.220722643372712, -0.7187472041161967, -0.017343737356023715, 0.09737197968014913, -1.014912564771148, 0.9485883343880211, -1.4700120494045807, 0.527090124873511, 0.981897523303843, -0.3729055802591033, -1.6546241743330667, 1.0030031251048521, -0.10009683865690405, 0.6562216961141715, -0.743623457689815, -1.2941608938560312, -0.3990600877641281, -0.43141935572373885, 0.7232784352637682, -0.48702320351926975, -1.4411058137972361, -0.07500513796421322, 0.23258225057884316, -0.009442055362124542, -1.1299073084348996, 2.305132922619832, 1.151453310017223, -1.7161278508924651, -0.10216223260372957, -1.5974074792176651, -0.7634211473180553, 0.7452180047870218, -0.1850689346138391, 0.08824655821509114, -1.1552205198591217, -0.3679056931079725, 1.141413950342741, -1.218427511084178, 0.022191477204873092, -0.5097153447922266, -0.547101576777799, -0.006209405227791605, -0.8802870712850492, 1.5497504397861899, -1.5625590276124781, -0.3461301297115325, -0.5852204321669262, -0.4967761599657341, 1.1677411209788946, 1.7802429315922845, 0.4907884854912572, -1.0585976439081948, -0.6230413266517936, -1.2962820739344532], \"yaxis\": \"y13\"}, {\"line\": {\"color\": \"rgba(128, 128, 128, 1.0)\", \"dash\": \"solid\", \"shape\": \"linear\", \"width\": 1.3}, \"marker\": {\"size\": 2, \"symbol\": \"circle\"}, \"mode\": \"markers\", \"name\": \"d\", \"text\": \"\", \"type\": \"scatter\", \"x\": [-0.716753785541702, 0.1466280511998309, -0.6006519808735739, -0.5415580708273, -1.7400320426706721, 0.06483281643880595, 0.9267383919456018, 0.2754962391363442, -0.06963639112657052, 0.43293104058293036, -0.13165251266138508, 0.3688569256553953, 1.101879648066124, 1.0069678548545076, -1.0246405999495924, -0.037202033114178676, 0.259486510387421, -0.05785681071930317, -1.4405479471178548, -0.8243764549033302, -0.1175958470954889, -1.1981943378901034, 0.1487120785832584, 1.0764514860316108, -0.1310759686583265, 0.7870838978756679, 0.09754672432005959, -1.4826931311691334, 1.0793655584203048, 0.9233239197538965, 1.3166320867203176, 0.18222042165689503, -0.06256287722059806, 1.1043295807781548, -0.6150240875265599, 0.790514023860243, -2.0799884828014936, 0.5008675581779642, -0.6810354084403812, -1.2386481384626733, -1.2911154417873516, -0.5154920168362496, -0.4031392471329243, 0.9983704720180332, -1.0160075337650878, 1.886243651028083, -0.5715465786042008, -1.2679931356019523, 1.6614338951907, -0.17792785850635345, 1.4745507719444697, 1.1776871716912736, -1.2561713012470577, -0.24638872835020778, 1.4670954437869548, -0.189173117161535, -0.3527437302423633, -1.7117404210798368, 0.048457522093129965, 0.9007265389917656, -0.42341732249635067, 0.0816182553248051, -0.21089804096281775, 1.6556331387431482, -0.13153184493536688, 1.181944111964066, 2.5830824420534, 0.4106671915172332, -1.266706022491882, 0.3949972411593756, -0.5686340208377227, -1.6296276350686436, -0.47748567224339156, -0.13072699147207864, 0.4200392298325099, -0.7813031954177223, -1.9529817674828185, 0.866984811466902, -1.734427964729059, -1.2781840402669344, -1.2910708778295, -0.3989670450326166, 0.8745687117774343, -1.2311660756455374, 0.6089849716765106, 1.048143379954883, 0.3721709975994528, -1.1576133027199618, -0.34453151051109965, -1.0338932199109123, -0.9460628162322431, -0.04923179092455275, -1.0520628606997837, 0.1852383456745756, -1.0632232978375835, -0.09162384543826531, 0.6831550325518608, 0.9278729993391939, -0.47421170746718716, -2.1165065532109923], \"xaxis\": \"x14\", \"y\": [2.3168273884694734, 0.39458319641642464, -0.46510318054608163, -0.20172718202204393, -0.24189053063818983, -0.792642437428442, -0.7401698295328846, -1.6801107382717764, -0.4817563971652019, 1.5451818928436343, -0.22888853476448212, 1.4780655993868645, -0.767531470835622, -0.6532088894241367, -0.8514192088845505, -1.5254673915519978, -1.4537449170569778, -0.6320374135597754, -0.8111518709770245, 0.861081336229097, 1.398138867193178, 1.6404486362786317, 0.6573956893296753, 0.22476108022847083, -0.2913070574236847, 1.5958957556512083, 0.1601336724116086, -1.3320058902909229, 1.0081466141810744, 0.32324195296946145, -0.7879628462741596, -0.8374729790360113, -0.6381494389997875, 0.31177265196395976, -1.1812845002923689, -0.0032961040756202963, -1.4025396209387575, -0.6452642332947516, 0.10767114802755778, -1.7139180836635397, 0.776903516254839, 0.08644358216921927, -1.1838441134944493, -0.6951559872484373, 0.7020684612347757, -0.09257493287535283, -1.220722643372712, -0.7187472041161967, -0.017343737356023715, 0.09737197968014913, -1.014912564771148, 0.9485883343880211, -1.4700120494045807, 0.527090124873511, 0.981897523303843, -0.3729055802591033, -1.6546241743330667, 1.0030031251048521, -0.10009683865690405, 0.6562216961141715, -0.743623457689815, -1.2941608938560312, -0.3990600877641281, -0.43141935572373885, 0.7232784352637682, -0.48702320351926975, -1.4411058137972361, -0.07500513796421322, 0.23258225057884316, -0.009442055362124542, -1.1299073084348996, 2.305132922619832, 1.151453310017223, -1.7161278508924651, -0.10216223260372957, -1.5974074792176651, -0.7634211473180553, 0.7452180047870218, -0.1850689346138391, 0.08824655821509114, -1.1552205198591217, -0.3679056931079725, 1.141413950342741, -1.218427511084178, 0.022191477204873092, -0.5097153447922266, -0.547101576777799, -0.006209405227791605, -0.8802870712850492, 1.5497504397861899, -1.5625590276124781, -0.3461301297115325, -0.5852204321669262, -0.4967761599657341, 1.1677411209788946, 1.7802429315922845, 0.4907884854912572, -1.0585976439081948, -0.6230413266517936, -1.2962820739344532], \"yaxis\": \"y14\"}, {\"line\": {\"color\": \"rgba(128, 128, 128, 1.0)\", \"dash\": \"solid\", \"shape\": \"linear\", \"width\": 1.3}, \"marker\": {\"size\": 2, \"symbol\": \"circle\"}, \"mode\": \"markers\", \"name\": \"d\", \"text\": \"\", \"type\": \"scatter\", \"x\": [-1.4574517012520272, 1.616925654315569, -1.554079012755402, -1.3165598564774106, -0.580298637975121, -1.6622341146471158, 0.0039029501057902772, 0.8855012353492825, -1.1843262679473314, -0.8762274816520518, -2.4646576366704944, -0.11414376769157988, -1.1574256893431913, -0.28131202269853645, 1.6284928461930106, -1.1270331276821361, -1.344704448640053, 1.1875302280251283, 0.15559218997485583, -0.694260078532112, -0.29230645832071095, -0.4992558232676912, 2.2688498517230893, 0.8712707377838431, -1.8036431447735157, -0.7676519683585615, -1.2829084489005982, -0.5016259466438856, -0.184038073037974, -0.6806145366236737, 1.3825998331661564, 0.5558087648980298, 0.4674027907247537, -0.1549875719036628, -0.7654380083742985, -0.4334620098771487, -0.6188327405333642, 0.5113328091437372, -0.2408638527363929, -0.5205996360579126, 1.0248637764154853, 0.2991721298703997, 0.45632859815423865, -0.9165600624818021, -0.44150693650391165, 0.42136716310207434, -1.2432181110372378, 1.0761841766878144, 0.7271372108552653, 0.15546762147580842, 0.6033910326548694, -2.044292625815654, -0.9504839369270148, 0.38448091998306994, 0.15621297799152092, 0.8973509172710784, 0.026233284321891336, 0.9054939180728044, 0.10031640150414387, -2.566416680691887, 0.8578496553772357, 0.04616710992563474, -0.4143519451742939, 0.8982911790569463, -0.05048697730085292, -0.6385282870452667, -1.0250444618637682, 0.689639711080981, 1.8719098341594118, -0.5409850552157894, -0.01957191723265198, 1.716922728791775, 0.6554178012225307, -0.5570779687502161, -0.2421632594089551, -0.5900055298173724, 0.7918831028021635, 1.1758606862114478, -0.12566303634482529, -2.9377823589005674, -0.4739948397669631, 0.2360822009977156, 0.3880072625953246, 1.0820181968440927, -1.2042895773888243, -0.7307572670679031, -0.9011519959149107, 0.5032055368961691, 0.8620177087655849, -0.11785406490076067, 1.9448207551672967, -1.6170836002097697, 0.24263889685777973, -1.0640079092624295, 2.0609860331539123, -0.0027704454288980614, 2.3348516223314975, 0.9078533647685604, -1.4074955229616364, 0.3569938923431798], \"xaxis\": \"x15\", \"y\": [2.3168273884694734, 0.39458319641642464, -0.46510318054608163, -0.20172718202204393, -0.24189053063818983, -0.792642437428442, -0.7401698295328846, -1.6801107382717764, -0.4817563971652019, 1.5451818928436343, -0.22888853476448212, 1.4780655993868645, -0.767531470835622, -0.6532088894241367, -0.8514192088845505, -1.5254673915519978, -1.4537449170569778, -0.6320374135597754, -0.8111518709770245, 0.861081336229097, 1.398138867193178, 1.6404486362786317, 0.6573956893296753, 0.22476108022847083, -0.2913070574236847, 1.5958957556512083, 0.1601336724116086, -1.3320058902909229, 1.0081466141810744, 0.32324195296946145, -0.7879628462741596, -0.8374729790360113, -0.6381494389997875, 0.31177265196395976, -1.1812845002923689, -0.0032961040756202963, -1.4025396209387575, -0.6452642332947516, 0.10767114802755778, -1.7139180836635397, 0.776903516254839, 0.08644358216921927, -1.1838441134944493, -0.6951559872484373, 0.7020684612347757, -0.09257493287535283, -1.220722643372712, -0.7187472041161967, -0.017343737356023715, 0.09737197968014913, -1.014912564771148, 0.9485883343880211, -1.4700120494045807, 0.527090124873511, 0.981897523303843, -0.3729055802591033, -1.6546241743330667, 1.0030031251048521, -0.10009683865690405, 0.6562216961141715, -0.743623457689815, -1.2941608938560312, -0.3990600877641281, -0.43141935572373885, 0.7232784352637682, -0.48702320351926975, -1.4411058137972361, -0.07500513796421322, 0.23258225057884316, -0.009442055362124542, -1.1299073084348996, 2.305132922619832, 1.151453310017223, -1.7161278508924651, -0.10216223260372957, -1.5974074792176651, -0.7634211473180553, 0.7452180047870218, -0.1850689346138391, 0.08824655821509114, -1.1552205198591217, -0.3679056931079725, 1.141413950342741, -1.218427511084178, 0.022191477204873092, -0.5097153447922266, -0.547101576777799, -0.006209405227791605, -0.8802870712850492, 1.5497504397861899, -1.5625590276124781, -0.3461301297115325, -0.5852204321669262, -0.4967761599657341, 1.1677411209788946, 1.7802429315922845, 0.4907884854912572, -1.0585976439081948, -0.6230413266517936, -1.2962820739344532], \"yaxis\": \"y15\"}, {\"histfunc\": \"count\", \"histnorm\": \"\", \"marker\": {\"color\": \"rgba(128, 0, 128, 1.0)\", \"line\": {\"color\": \"#4D5663\", \"width\": 1.3}}, \"name\": \"d\", \"nbinsx\": 10, \"opacity\": 0.8, \"orientation\": \"v\", \"type\": \"histogram\", \"x\": [2.3168273884694734, 0.39458319641642464, -0.46510318054608163, -0.20172718202204393, -0.24189053063818983, -0.792642437428442, -0.7401698295328846, -1.6801107382717764, -0.4817563971652019, 1.5451818928436343, -0.22888853476448212, 1.4780655993868645, -0.767531470835622, -0.6532088894241367, -0.8514192088845505, -1.5254673915519978, -1.4537449170569778, -0.6320374135597754, -0.8111518709770245, 0.861081336229097, 1.398138867193178, 1.6404486362786317, 0.6573956893296753, 0.22476108022847083, -0.2913070574236847, 1.5958957556512083, 0.1601336724116086, -1.3320058902909229, 1.0081466141810744, 0.32324195296946145, -0.7879628462741596, -0.8374729790360113, -0.6381494389997875, 0.31177265196395976, -1.1812845002923689, -0.0032961040756202963, -1.4025396209387575, -0.6452642332947516, 0.10767114802755778, -1.7139180836635397, 0.776903516254839, 0.08644358216921927, -1.1838441134944493, -0.6951559872484373, 0.7020684612347757, -0.09257493287535283, -1.220722643372712, -0.7187472041161967, -0.017343737356023715, 0.09737197968014913, -1.014912564771148, 0.9485883343880211, -1.4700120494045807, 0.527090124873511, 0.981897523303843, -0.3729055802591033, -1.6546241743330667, 1.0030031251048521, -0.10009683865690405, 0.6562216961141715, -0.743623457689815, -1.2941608938560312, -0.3990600877641281, -0.43141935572373885, 0.7232784352637682, -0.48702320351926975, -1.4411058137972361, -0.07500513796421322, 0.23258225057884316, -0.009442055362124542, -1.1299073084348996, 2.305132922619832, 1.151453310017223, -1.7161278508924651, -0.10216223260372957, -1.5974074792176651, -0.7634211473180553, 0.7452180047870218, -0.1850689346138391, 0.08824655821509114, -1.1552205198591217, -0.3679056931079725, 1.141413950342741, -1.218427511084178, 0.022191477204873092, -0.5097153447922266, -0.547101576777799, -0.006209405227791605, -0.8802870712850492, 1.5497504397861899, -1.5625590276124781, -0.3461301297115325, -0.5852204321669262, -0.4967761599657341, 1.1677411209788946, 1.7802429315922845, 0.4907884854912572, -1.0585976439081948, -0.6230413266517936, -1.2962820739344532], \"xaxis\": \"x16\", \"yaxis\": \"y16\"}],\n",
       "                        {\"bargap\": 0.02, \"legend\": {\"bgcolor\": \"#F5F6F9\", \"font\": {\"color\": \"#4D5663\"}}, \"paper_bgcolor\": \"#F5F6F9\", \"plot_bgcolor\": \"#F5F6F9\", \"showlegend\": false, \"template\": {\"data\": {\"bar\": [{\"error_x\": {\"color\": \"#2a3f5f\"}, \"error_y\": {\"color\": \"#2a3f5f\"}, \"marker\": {\"line\": {\"color\": \"#E5ECF6\", \"width\": 0.5}}, \"type\": \"bar\"}], \"barpolar\": [{\"marker\": {\"line\": {\"color\": \"#E5ECF6\", \"width\": 0.5}}, \"type\": \"barpolar\"}], \"carpet\": [{\"aaxis\": {\"endlinecolor\": \"#2a3f5f\", \"gridcolor\": \"white\", \"linecolor\": \"white\", \"minorgridcolor\": \"white\", \"startlinecolor\": \"#2a3f5f\"}, \"baxis\": {\"endlinecolor\": \"#2a3f5f\", \"gridcolor\": \"white\", \"linecolor\": \"white\", \"minorgridcolor\": \"white\", \"startlinecolor\": \"#2a3f5f\"}, \"type\": \"carpet\"}], \"choropleth\": [{\"colorbar\": {\"outlinewidth\": 0, \"ticks\": \"\"}, \"type\": \"choropleth\"}], \"contour\": [{\"colorbar\": {\"outlinewidth\": 0, \"ticks\": \"\"}, \"colorscale\": [[0.0, \"#0d0887\"], [0.1111111111111111, \"#46039f\"], [0.2222222222222222, \"#7201a8\"], [0.3333333333333333, \"#9c179e\"], [0.4444444444444444, \"#bd3786\"], [0.5555555555555556, \"#d8576b\"], [0.6666666666666666, \"#ed7953\"], [0.7777777777777778, \"#fb9f3a\"], [0.8888888888888888, \"#fdca26\"], [1.0, \"#f0f921\"]], \"type\": \"contour\"}], \"contourcarpet\": [{\"colorbar\": {\"outlinewidth\": 0, \"ticks\": \"\"}, \"type\": \"contourcarpet\"}], \"heatmap\": [{\"colorbar\": {\"outlinewidth\": 0, \"ticks\": \"\"}, \"colorscale\": [[0.0, \"#0d0887\"], [0.1111111111111111, \"#46039f\"], [0.2222222222222222, \"#7201a8\"], [0.3333333333333333, \"#9c179e\"], [0.4444444444444444, \"#bd3786\"], [0.5555555555555556, \"#d8576b\"], [0.6666666666666666, \"#ed7953\"], [0.7777777777777778, \"#fb9f3a\"], [0.8888888888888888, \"#fdca26\"], [1.0, \"#f0f921\"]], \"type\": \"heatmap\"}], \"heatmapgl\": [{\"colorbar\": {\"outlinewidth\": 0, \"ticks\": \"\"}, \"colorscale\": [[0.0, \"#0d0887\"], [0.1111111111111111, \"#46039f\"], [0.2222222222222222, \"#7201a8\"], [0.3333333333333333, \"#9c179e\"], [0.4444444444444444, \"#bd3786\"], [0.5555555555555556, \"#d8576b\"], [0.6666666666666666, \"#ed7953\"], [0.7777777777777778, \"#fb9f3a\"], [0.8888888888888888, \"#fdca26\"], [1.0, \"#f0f921\"]], \"type\": \"heatmapgl\"}], \"histogram\": [{\"marker\": {\"colorbar\": {\"outlinewidth\": 0, \"ticks\": \"\"}}, \"type\": \"histogram\"}], \"histogram2d\": [{\"colorbar\": {\"outlinewidth\": 0, \"ticks\": \"\"}, \"colorscale\": [[0.0, \"#0d0887\"], [0.1111111111111111, \"#46039f\"], [0.2222222222222222, \"#7201a8\"], [0.3333333333333333, \"#9c179e\"], [0.4444444444444444, \"#bd3786\"], [0.5555555555555556, \"#d8576b\"], [0.6666666666666666, \"#ed7953\"], [0.7777777777777778, \"#fb9f3a\"], [0.8888888888888888, \"#fdca26\"], [1.0, \"#f0f921\"]], \"type\": \"histogram2d\"}], \"histogram2dcontour\": [{\"colorbar\": {\"outlinewidth\": 0, \"ticks\": \"\"}, \"colorscale\": [[0.0, \"#0d0887\"], [0.1111111111111111, \"#46039f\"], [0.2222222222222222, \"#7201a8\"], [0.3333333333333333, \"#9c179e\"], [0.4444444444444444, \"#bd3786\"], [0.5555555555555556, \"#d8576b\"], [0.6666666666666666, \"#ed7953\"], [0.7777777777777778, \"#fb9f3a\"], [0.8888888888888888, \"#fdca26\"], [1.0, \"#f0f921\"]], \"type\": \"histogram2dcontour\"}], \"mesh3d\": [{\"colorbar\": {\"outlinewidth\": 0, \"ticks\": \"\"}, \"type\": \"mesh3d\"}], \"parcoords\": [{\"line\": {\"colorbar\": {\"outlinewidth\": 0, \"ticks\": \"\"}}, \"type\": \"parcoords\"}], \"pie\": [{\"automargin\": true, \"type\": \"pie\"}], \"scatter\": [{\"marker\": {\"colorbar\": {\"outlinewidth\": 0, \"ticks\": \"\"}}, \"type\": \"scatter\"}], \"scatter3d\": [{\"line\": {\"colorbar\": {\"outlinewidth\": 0, \"ticks\": \"\"}}, \"marker\": {\"colorbar\": {\"outlinewidth\": 0, \"ticks\": \"\"}}, \"type\": \"scatter3d\"}], \"scattercarpet\": [{\"marker\": {\"colorbar\": {\"outlinewidth\": 0, \"ticks\": \"\"}}, \"type\": \"scattercarpet\"}], \"scattergeo\": [{\"marker\": {\"colorbar\": {\"outlinewidth\": 0, \"ticks\": \"\"}}, \"type\": \"scattergeo\"}], \"scattergl\": [{\"marker\": {\"colorbar\": {\"outlinewidth\": 0, \"ticks\": \"\"}}, \"type\": \"scattergl\"}], \"scattermapbox\": [{\"marker\": {\"colorbar\": {\"outlinewidth\": 0, \"ticks\": \"\"}}, \"type\": \"scattermapbox\"}], \"scatterpolar\": [{\"marker\": {\"colorbar\": {\"outlinewidth\": 0, \"ticks\": \"\"}}, \"type\": \"scatterpolar\"}], \"scatterpolargl\": [{\"marker\": {\"colorbar\": {\"outlinewidth\": 0, \"ticks\": \"\"}}, \"type\": \"scatterpolargl\"}], \"scatterternary\": [{\"marker\": {\"colorbar\": {\"outlinewidth\": 0, \"ticks\": \"\"}}, \"type\": \"scatterternary\"}], \"surface\": [{\"colorbar\": {\"outlinewidth\": 0, \"ticks\": \"\"}, \"colorscale\": [[0.0, \"#0d0887\"], [0.1111111111111111, \"#46039f\"], [0.2222222222222222, \"#7201a8\"], [0.3333333333333333, \"#9c179e\"], [0.4444444444444444, \"#bd3786\"], [0.5555555555555556, \"#d8576b\"], [0.6666666666666666, \"#ed7953\"], [0.7777777777777778, \"#fb9f3a\"], [0.8888888888888888, \"#fdca26\"], [1.0, \"#f0f921\"]], \"type\": \"surface\"}], \"table\": [{\"cells\": {\"fill\": {\"color\": \"#EBF0F8\"}, \"line\": {\"color\": \"white\"}}, \"header\": {\"fill\": {\"color\": \"#C8D4E3\"}, \"line\": {\"color\": \"white\"}}, \"type\": \"table\"}]}, \"layout\": {\"annotationdefaults\": {\"arrowcolor\": \"#2a3f5f\", \"arrowhead\": 0, \"arrowwidth\": 1}, \"coloraxis\": {\"colorbar\": {\"outlinewidth\": 0, \"ticks\": \"\"}}, \"colorscale\": {\"diverging\": [[0, \"#8e0152\"], [0.1, \"#c51b7d\"], [0.2, \"#de77ae\"], [0.3, \"#f1b6da\"], [0.4, \"#fde0ef\"], [0.5, \"#f7f7f7\"], [0.6, \"#e6f5d0\"], [0.7, \"#b8e186\"], [0.8, \"#7fbc41\"], [0.9, \"#4d9221\"], [1, \"#276419\"]], \"sequential\": [[0.0, \"#0d0887\"], [0.1111111111111111, \"#46039f\"], [0.2222222222222222, \"#7201a8\"], [0.3333333333333333, \"#9c179e\"], [0.4444444444444444, \"#bd3786\"], [0.5555555555555556, \"#d8576b\"], [0.6666666666666666, \"#ed7953\"], [0.7777777777777778, \"#fb9f3a\"], [0.8888888888888888, \"#fdca26\"], [1.0, \"#f0f921\"]], \"sequentialminus\": [[0.0, \"#0d0887\"], [0.1111111111111111, \"#46039f\"], [0.2222222222222222, \"#7201a8\"], [0.3333333333333333, \"#9c179e\"], [0.4444444444444444, \"#bd3786\"], [0.5555555555555556, \"#d8576b\"], [0.6666666666666666, \"#ed7953\"], [0.7777777777777778, \"#fb9f3a\"], [0.8888888888888888, \"#fdca26\"], [1.0, \"#f0f921\"]]}, \"colorway\": [\"#636efa\", \"#EF553B\", \"#00cc96\", \"#ab63fa\", \"#FFA15A\", \"#19d3f3\", \"#FF6692\", \"#B6E880\", \"#FF97FF\", \"#FECB52\"], \"font\": {\"color\": \"#2a3f5f\"}, \"geo\": {\"bgcolor\": \"white\", \"lakecolor\": \"white\", \"landcolor\": \"#E5ECF6\", \"showlakes\": true, \"showland\": true, \"subunitcolor\": \"white\"}, \"hoverlabel\": {\"align\": \"left\"}, \"hovermode\": \"closest\", \"mapbox\": {\"style\": \"light\"}, \"paper_bgcolor\": \"white\", \"plot_bgcolor\": \"#E5ECF6\", \"polar\": {\"angularaxis\": {\"gridcolor\": \"white\", \"linecolor\": \"white\", \"ticks\": \"\"}, \"bgcolor\": \"#E5ECF6\", \"radialaxis\": {\"gridcolor\": \"white\", \"linecolor\": \"white\", \"ticks\": \"\"}}, \"scene\": {\"xaxis\": {\"backgroundcolor\": \"#E5ECF6\", \"gridcolor\": \"white\", \"gridwidth\": 2, \"linecolor\": \"white\", \"showbackground\": true, \"ticks\": \"\", \"zerolinecolor\": \"white\"}, \"yaxis\": {\"backgroundcolor\": \"#E5ECF6\", \"gridcolor\": \"white\", \"gridwidth\": 2, \"linecolor\": \"white\", \"showbackground\": true, \"ticks\": \"\", \"zerolinecolor\": \"white\"}, \"zaxis\": {\"backgroundcolor\": \"#E5ECF6\", \"gridcolor\": \"white\", \"gridwidth\": 2, \"linecolor\": \"white\", \"showbackground\": true, \"ticks\": \"\", \"zerolinecolor\": \"white\"}}, \"shapedefaults\": {\"line\": {\"color\": \"#2a3f5f\"}}, \"ternary\": {\"aaxis\": {\"gridcolor\": \"white\", \"linecolor\": \"white\", \"ticks\": \"\"}, \"baxis\": {\"gridcolor\": \"white\", \"linecolor\": \"white\", \"ticks\": \"\"}, \"bgcolor\": \"#E5ECF6\", \"caxis\": {\"gridcolor\": \"white\", \"linecolor\": \"white\", \"ticks\": \"\"}}, \"title\": {\"x\": 0.05}, \"xaxis\": {\"automargin\": true, \"gridcolor\": \"white\", \"linecolor\": \"white\", \"ticks\": \"\", \"title\": {\"standoff\": 15}, \"zerolinecolor\": \"white\", \"zerolinewidth\": 2}, \"yaxis\": {\"automargin\": true, \"gridcolor\": \"white\", \"linecolor\": \"white\", \"ticks\": \"\", \"title\": {\"standoff\": 15}, \"zerolinecolor\": \"white\", \"zerolinewidth\": 2}}}, \"title\": {\"font\": {\"color\": \"#4D5663\"}}, \"xaxis\": {\"anchor\": \"y\", \"domain\": [0.0, 0.2125], \"gridcolor\": \"#E1E5ED\", \"showgrid\": false, \"tickfont\": {\"color\": \"#4D5663\"}, \"title\": {\"font\": {\"color\": \"#4D5663\"}, \"text\": \"\"}, \"zerolinecolor\": \"#E1E5ED\"}, \"xaxis10\": {\"anchor\": \"y10\", \"domain\": [0.2625, 0.475], \"gridcolor\": \"#E1E5ED\", \"showgrid\": false, \"tickfont\": {\"color\": \"#4D5663\"}, \"title\": {\"font\": {\"color\": \"#4D5663\"}, \"text\": \"\"}, \"zerolinecolor\": \"#E1E5ED\"}, \"xaxis11\": {\"anchor\": \"y11\", \"domain\": [0.525, 0.7375], \"gridcolor\": \"#E1E5ED\", \"showgrid\": false, \"tickfont\": {\"color\": \"#4D5663\"}, \"title\": {\"font\": {\"color\": \"#4D5663\"}, \"text\": \"\"}, \"zerolinecolor\": \"#E1E5ED\"}, \"xaxis12\": {\"anchor\": \"y12\", \"domain\": [0.7875, 1.0], \"gridcolor\": \"#E1E5ED\", \"showgrid\": false, \"tickfont\": {\"color\": \"#4D5663\"}, \"title\": {\"font\": {\"color\": \"#4D5663\"}, \"text\": \"\"}, \"zerolinecolor\": \"#E1E5ED\"}, \"xaxis13\": {\"anchor\": \"y13\", \"domain\": [0.0, 0.2125], \"gridcolor\": \"#E1E5ED\", \"showgrid\": false, \"tickfont\": {\"color\": \"#4D5663\"}, \"title\": {\"font\": {\"color\": \"#4D5663\"}, \"text\": \"\"}, \"zerolinecolor\": \"#E1E5ED\"}, \"xaxis14\": {\"anchor\": \"y14\", \"domain\": [0.2625, 0.475], \"gridcolor\": \"#E1E5ED\", \"showgrid\": false, \"tickfont\": {\"color\": \"#4D5663\"}, \"title\": {\"font\": {\"color\": \"#4D5663\"}, \"text\": \"\"}, \"zerolinecolor\": \"#E1E5ED\"}, \"xaxis15\": {\"anchor\": \"y15\", \"domain\": [0.525, 0.7375], \"gridcolor\": \"#E1E5ED\", \"showgrid\": false, \"tickfont\": {\"color\": \"#4D5663\"}, \"title\": {\"font\": {\"color\": \"#4D5663\"}, \"text\": \"\"}, \"zerolinecolor\": \"#E1E5ED\"}, \"xaxis16\": {\"anchor\": \"y16\", \"domain\": [0.7875, 1.0], \"gridcolor\": \"#E1E5ED\", \"showgrid\": false, \"tickfont\": {\"color\": \"#4D5663\"}, \"title\": {\"font\": {\"color\": \"#4D5663\"}, \"text\": \"\"}, \"zerolinecolor\": \"#E1E5ED\"}, \"xaxis2\": {\"anchor\": \"y2\", \"domain\": [0.2625, 0.475], \"gridcolor\": \"#E1E5ED\", \"showgrid\": false, \"tickfont\": {\"color\": \"#4D5663\"}, \"title\": {\"font\": {\"color\": \"#4D5663\"}, \"text\": \"\"}, \"zerolinecolor\": \"#E1E5ED\"}, \"xaxis3\": {\"anchor\": \"y3\", \"domain\": [0.525, 0.7375], \"gridcolor\": \"#E1E5ED\", \"showgrid\": false, \"tickfont\": {\"color\": \"#4D5663\"}, \"title\": {\"font\": {\"color\": \"#4D5663\"}, \"text\": \"\"}, \"zerolinecolor\": \"#E1E5ED\"}, \"xaxis4\": {\"anchor\": \"y4\", \"domain\": [0.7875, 1.0], \"gridcolor\": \"#E1E5ED\", \"showgrid\": false, \"tickfont\": {\"color\": \"#4D5663\"}, \"title\": {\"font\": {\"color\": \"#4D5663\"}, \"text\": \"\"}, \"zerolinecolor\": \"#E1E5ED\"}, \"xaxis5\": {\"anchor\": \"y5\", \"domain\": [0.0, 0.2125], \"gridcolor\": \"#E1E5ED\", \"showgrid\": false, \"tickfont\": {\"color\": \"#4D5663\"}, \"title\": {\"font\": {\"color\": \"#4D5663\"}, \"text\": \"\"}, \"zerolinecolor\": \"#E1E5ED\"}, \"xaxis6\": {\"anchor\": \"y6\", \"domain\": [0.2625, 0.475], \"gridcolor\": \"#E1E5ED\", \"showgrid\": false, \"tickfont\": {\"color\": \"#4D5663\"}, \"title\": {\"font\": {\"color\": \"#4D5663\"}, \"text\": \"\"}, \"zerolinecolor\": \"#E1E5ED\"}, \"xaxis7\": {\"anchor\": \"y7\", \"domain\": [0.525, 0.7375], \"gridcolor\": \"#E1E5ED\", \"showgrid\": false, \"tickfont\": {\"color\": \"#4D5663\"}, \"title\": {\"font\": {\"color\": \"#4D5663\"}, \"text\": \"\"}, \"zerolinecolor\": \"#E1E5ED\"}, \"xaxis8\": {\"anchor\": \"y8\", \"domain\": [0.7875, 1.0], \"gridcolor\": \"#E1E5ED\", \"showgrid\": false, \"tickfont\": {\"color\": \"#4D5663\"}, \"title\": {\"font\": {\"color\": \"#4D5663\"}, \"text\": \"\"}, \"zerolinecolor\": \"#E1E5ED\"}, \"xaxis9\": {\"anchor\": \"y9\", \"domain\": [0.0, 0.2125], \"gridcolor\": \"#E1E5ED\", \"showgrid\": false, \"tickfont\": {\"color\": \"#4D5663\"}, \"title\": {\"font\": {\"color\": \"#4D5663\"}, \"text\": \"\"}, \"zerolinecolor\": \"#E1E5ED\"}, \"yaxis\": {\"anchor\": \"x\", \"domain\": [0.8025, 1.0], \"gridcolor\": \"#E1E5ED\", \"showgrid\": false, \"tickfont\": {\"color\": \"#4D5663\"}, \"title\": {\"font\": {\"color\": \"#4D5663\"}, \"text\": \"\"}, \"zerolinecolor\": \"#E1E5ED\"}, \"yaxis10\": {\"anchor\": \"x10\", \"domain\": [0.2675, 0.465], \"gridcolor\": \"#E1E5ED\", \"showgrid\": false, \"tickfont\": {\"color\": \"#4D5663\"}, \"title\": {\"font\": {\"color\": \"#4D5663\"}, \"text\": \"\"}, \"zerolinecolor\": \"#E1E5ED\"}, \"yaxis11\": {\"anchor\": \"x11\", \"domain\": [0.2675, 0.465], \"gridcolor\": \"#E1E5ED\", \"showgrid\": false, \"tickfont\": {\"color\": \"#4D5663\"}, \"title\": {\"font\": {\"color\": \"#4D5663\"}, \"text\": \"\"}, \"zerolinecolor\": \"#E1E5ED\"}, \"yaxis12\": {\"anchor\": \"x12\", \"domain\": [0.2675, 0.465], \"gridcolor\": \"#E1E5ED\", \"showgrid\": false, \"tickfont\": {\"color\": \"#4D5663\"}, \"title\": {\"font\": {\"color\": \"#4D5663\"}, \"text\": \"\"}, \"zerolinecolor\": \"#E1E5ED\"}, \"yaxis13\": {\"anchor\": \"x13\", \"domain\": [0.0, 0.1975], \"gridcolor\": \"#E1E5ED\", \"showgrid\": false, \"tickfont\": {\"color\": \"#4D5663\"}, \"title\": {\"font\": {\"color\": \"#4D5663\"}, \"text\": \"\"}, \"zerolinecolor\": \"#E1E5ED\"}, \"yaxis14\": {\"anchor\": \"x14\", \"domain\": [0.0, 0.1975], \"gridcolor\": \"#E1E5ED\", \"showgrid\": false, \"tickfont\": {\"color\": \"#4D5663\"}, \"title\": {\"font\": {\"color\": \"#4D5663\"}, \"text\": \"\"}, \"zerolinecolor\": \"#E1E5ED\"}, \"yaxis15\": {\"anchor\": \"x15\", \"domain\": [0.0, 0.1975], \"gridcolor\": \"#E1E5ED\", \"showgrid\": false, \"tickfont\": {\"color\": \"#4D5663\"}, \"title\": {\"font\": {\"color\": \"#4D5663\"}, \"text\": \"\"}, \"zerolinecolor\": \"#E1E5ED\"}, \"yaxis16\": {\"anchor\": \"x16\", \"domain\": [0.0, 0.1975], \"gridcolor\": \"#E1E5ED\", \"showgrid\": false, \"tickfont\": {\"color\": \"#4D5663\"}, \"title\": {\"font\": {\"color\": \"#4D5663\"}, \"text\": \"\"}, \"zerolinecolor\": \"#E1E5ED\"}, \"yaxis2\": {\"anchor\": \"x2\", \"domain\": [0.8025, 1.0], \"gridcolor\": \"#E1E5ED\", \"showgrid\": false, \"tickfont\": {\"color\": \"#4D5663\"}, \"title\": {\"font\": {\"color\": \"#4D5663\"}, \"text\": \"\"}, \"zerolinecolor\": \"#E1E5ED\"}, \"yaxis3\": {\"anchor\": \"x3\", \"domain\": [0.8025, 1.0], \"gridcolor\": \"#E1E5ED\", \"showgrid\": false, \"tickfont\": {\"color\": \"#4D5663\"}, \"title\": {\"font\": {\"color\": \"#4D5663\"}, \"text\": \"\"}, \"zerolinecolor\": \"#E1E5ED\"}, \"yaxis4\": {\"anchor\": \"x4\", \"domain\": [0.8025, 1.0], \"gridcolor\": \"#E1E5ED\", \"showgrid\": false, \"tickfont\": {\"color\": \"#4D5663\"}, \"title\": {\"font\": {\"color\": \"#4D5663\"}, \"text\": \"\"}, \"zerolinecolor\": \"#E1E5ED\"}, \"yaxis5\": {\"anchor\": \"x5\", \"domain\": [0.535, 0.7325], \"gridcolor\": \"#E1E5ED\", \"showgrid\": false, \"tickfont\": {\"color\": \"#4D5663\"}, \"title\": {\"font\": {\"color\": \"#4D5663\"}, \"text\": \"\"}, \"zerolinecolor\": \"#E1E5ED\"}, \"yaxis6\": {\"anchor\": \"x6\", \"domain\": [0.535, 0.7325], \"gridcolor\": \"#E1E5ED\", \"showgrid\": false, \"tickfont\": {\"color\": \"#4D5663\"}, \"title\": {\"font\": {\"color\": \"#4D5663\"}, \"text\": \"\"}, \"zerolinecolor\": \"#E1E5ED\"}, \"yaxis7\": {\"anchor\": \"x7\", \"domain\": [0.535, 0.7325], \"gridcolor\": \"#E1E5ED\", \"showgrid\": false, \"tickfont\": {\"color\": \"#4D5663\"}, \"title\": {\"font\": {\"color\": \"#4D5663\"}, \"text\": \"\"}, \"zerolinecolor\": \"#E1E5ED\"}, \"yaxis8\": {\"anchor\": \"x8\", \"domain\": [0.535, 0.7325], \"gridcolor\": \"#E1E5ED\", \"showgrid\": false, \"tickfont\": {\"color\": \"#4D5663\"}, \"title\": {\"font\": {\"color\": \"#4D5663\"}, \"text\": \"\"}, \"zerolinecolor\": \"#E1E5ED\"}, \"yaxis9\": {\"anchor\": \"x9\", \"domain\": [0.2675, 0.465], \"gridcolor\": \"#E1E5ED\", \"showgrid\": false, \"tickfont\": {\"color\": \"#4D5663\"}, \"title\": {\"font\": {\"color\": \"#4D5663\"}, \"text\": \"\"}, \"zerolinecolor\": \"#E1E5ED\"}},\n",
       "                        {\"showLink\": true, \"linkText\": \"Export to plot.ly\", \"plotlyServerURL\": \"https://plot.ly\", \"responsive\": true}\n",
       "                    ).then(function(){\n",
       "                            \n",
       "var gd = document.getElementById('b1926bda-8a2a-4d97-ac0a-0e44012f6921');\n",
       "var x = new MutationObserver(function (mutations, observer) {{\n",
       "        var display = window.getComputedStyle(gd).display;\n",
       "        if (!display || display === 'none') {{\n",
       "            console.log([gd, 'removed!']);\n",
       "            Plotly.purge(gd);\n",
       "            observer.disconnect();\n",
       "        }}\n",
       "}});\n",
       "\n",
       "// Listen for the removal of the full notebook cells\n",
       "var notebookContainer = gd.closest('#notebook-container');\n",
       "if (notebookContainer) {{\n",
       "    x.observe(notebookContainer, {childList: true});\n",
       "}}\n",
       "\n",
       "// Listen for the clearing of the current output cell\n",
       "var outputEl = gd.closest('.output');\n",
       "if (outputEl) {{\n",
       "    x.observe(outputEl, {childList: true});\n",
       "}}\n",
       "\n",
       "                        })\n",
       "                };\n",
       "                });\n",
       "            </script>\n",
       "        </div>"
      ]
     },
     "metadata": {},
     "output_type": "display_data"
    }
   ],
   "source": [
    "df.scatter_matrix();"
   ]
  }
 ],
 "metadata": {
  "kernelspec": {
   "display_name": "venv-datascience",
   "language": "python",
   "name": "venv-datascience"
  },
  "language_info": {
   "codemirror_mode": {
    "name": "ipython",
    "version": 3
   },
   "file_extension": ".py",
   "mimetype": "text/x-python",
   "name": "python",
   "nbconvert_exporter": "python",
   "pygments_lexer": "ipython3",
   "version": "3.8.3"
  }
 },
 "nbformat": 4,
 "nbformat_minor": 4
}
