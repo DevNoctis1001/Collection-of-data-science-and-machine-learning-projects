{
 "cells": [
  {
   "cell_type": "markdown",
   "metadata": {
    "id": "1BwfUZvdKfzH"
   },
   "source": [
    "<img src=\"https://pandas.pydata.org/static/img/pandas.svg\" width=\"250\">\n",
    "\n",
    "## <center> Beyond Pandas with Dask and Spark"
   ]
  },
  {
   "cell_type": "markdown",
   "metadata": {
    "id": "FncG-WexKmxF"
   },
   "source": [
    "## What is Dask?\n",
    "\n",
    "<img src=\"data:image/png;base64,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\">\n"
   ]
  },
  {
   "cell_type": "markdown",
   "metadata": {
    "id": "EWRQHCkBKUgy"
   },
   "source": [
    "### Introducing the Dask DataFrame\n",
    "\n",
    "<img src=\"https://docs.dask.org/en/latest/_images/dask-dataframe.svg\" height = 300>"
   ]
  },
  {
   "cell_type": "markdown",
   "metadata": {},
   "source": [
    "# Dask\n",
    "\n",
    "+ A framework to help you speed up your workload with parallel computing.\n",
    "+ Dask is very compatible with Pandas.\n",
    "+ We can think dask dataframe includes series of pandas dataframe.\n",
    "\n",
    "Install Dask."
   ]
  },
  {
   "cell_type": "code",
   "execution_count": 1,
   "metadata": {},
   "outputs": [],
   "source": [
    "import dask.dataframe as dd`"
   ]
  },
  {
   "cell_type": "code",
   "execution_count": 2,
   "metadata": {},
   "outputs": [],
   "source": [
    "df = dd.read_csv('../data/iris.csv')"
   ]
  },
  {
   "cell_type": "code",
   "execution_count": 3,
   "metadata": {},
   "outputs": [
    {
     "data": {
      "text/html": [
       "<div>\n",
       "<style scoped>\n",
       "    .dataframe tbody tr th:only-of-type {\n",
       "        vertical-align: middle;\n",
       "    }\n",
       "\n",
       "    .dataframe tbody tr th {\n",
       "        vertical-align: top;\n",
       "    }\n",
       "\n",
       "    .dataframe thead th {\n",
       "        text-align: right;\n",
       "    }\n",
       "</style>\n",
       "<table border=\"1\" class=\"dataframe\">\n",
       "  <thead>\n",
       "    <tr style=\"text-align: right;\">\n",
       "      <th></th>\n",
       "      <th>sepal_length</th>\n",
       "      <th>sepal_width</th>\n",
       "      <th>petal_length</th>\n",
       "      <th>petal_width</th>\n",
       "      <th>species</th>\n",
       "    </tr>\n",
       "  </thead>\n",
       "  <tbody>\n",
       "    <tr>\n",
       "      <th>0</th>\n",
       "      <td>5.1</td>\n",
       "      <td>3.5</td>\n",
       "      <td>1.4</td>\n",
       "      <td>0.2</td>\n",
       "      <td>setosa</td>\n",
       "    </tr>\n",
       "    <tr>\n",
       "      <th>1</th>\n",
       "      <td>4.9</td>\n",
       "      <td>3.0</td>\n",
       "      <td>1.4</td>\n",
       "      <td>0.2</td>\n",
       "      <td>setosa</td>\n",
       "    </tr>\n",
       "    <tr>\n",
       "      <th>2</th>\n",
       "      <td>4.7</td>\n",
       "      <td>3.2</td>\n",
       "      <td>1.3</td>\n",
       "      <td>0.2</td>\n",
       "      <td>setosa</td>\n",
       "    </tr>\n",
       "    <tr>\n",
       "      <th>3</th>\n",
       "      <td>4.6</td>\n",
       "      <td>3.1</td>\n",
       "      <td>1.5</td>\n",
       "      <td>0.2</td>\n",
       "      <td>setosa</td>\n",
       "    </tr>\n",
       "    <tr>\n",
       "      <th>4</th>\n",
       "      <td>5.0</td>\n",
       "      <td>3.6</td>\n",
       "      <td>1.4</td>\n",
       "      <td>0.2</td>\n",
       "      <td>setosa</td>\n",
       "    </tr>\n",
       "  </tbody>\n",
       "</table>\n",
       "</div>"
      ],
      "text/plain": [
       "   sepal_length  sepal_width  petal_length  petal_width species\n",
       "0           5.1          3.5           1.4          0.2  setosa\n",
       "1           4.9          3.0           1.4          0.2  setosa\n",
       "2           4.7          3.2           1.3          0.2  setosa\n",
       "3           4.6          3.1           1.5          0.2  setosa\n",
       "4           5.0          3.6           1.4          0.2  setosa"
      ]
     },
     "execution_count": 3,
     "metadata": {},
     "output_type": "execute_result"
    }
   ],
   "source": [
    "df.head()"
   ]
  },
  {
   "cell_type": "markdown",
   "metadata": {},
   "source": [
    "------"
   ]
  },
  {
   "cell_type": "markdown",
   "metadata": {
    "id": "Lgm8gwHnL7Sp"
   },
   "source": [
    "## What is Apache Spark?\n",
    "\n",
    "<img src=\"data:image/png;base64,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\">\n"
   ]
  },
  {
   "cell_type": "markdown",
   "metadata": {
    "id": "C3GRk1zrMJ9r"
   },
   "source": [
    "### Introducing Koalas\n",
    "\n",
    "<img src=\"data:image/png;base64,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\" height=200>"
   ]
  },
  {
   "cell_type": "markdown",
   "metadata": {
    "executionInfo": {
     "elapsed": 908,
     "status": "ok",
     "timestamp": 1605105133844,
     "user": {
      "displayName": "Brett Vanderblock",
      "photoUrl": "https://lh3.googleusercontent.com/a-/AOh14GhmgXUM06I_0Utz7PNi8ns4XuV5Uba2Tr63jSQX=s64",
      "userId": "08986418591522242227"
     },
     "user_tz": 480
    },
    "id": "1EM32OlQM4h7"
   },
   "source": [
    "Koalas is pandas API on top of Spark. It makes pandas user to make transition easier.\n",
    "\n",
    "+ install pyspak\n",
    "+ install pyarrow\n",
    "+ install koalas."
   ]
  },
  {
   "cell_type": "code",
   "execution_count": 16,
   "metadata": {
    "id": "we8rwNsEsoe2",
    "scrolled": true
   },
   "outputs": [],
   "source": [
    "import pandas as pd\n",
    "import numpy as np\n",
    "import databricks.koalas as ks\n",
    "from pyspark.sql import SparkSession"
   ]
  },
  {
   "cell_type": "code",
   "execution_count": 7,
   "metadata": {},
   "outputs": [
    {
     "data": {
      "text/html": [
       "<div>\n",
       "<style scoped>\n",
       "    .dataframe tbody tr th:only-of-type {\n",
       "        vertical-align: middle;\n",
       "    }\n",
       "\n",
       "    .dataframe tbody tr th {\n",
       "        vertical-align: top;\n",
       "    }\n",
       "\n",
       "    .dataframe thead th {\n",
       "        text-align: right;\n",
       "    }\n",
       "</style>\n",
       "<table border=\"1\" class=\"dataframe\">\n",
       "  <thead>\n",
       "    <tr style=\"text-align: right;\">\n",
       "      <th></th>\n",
       "      <th>A</th>\n",
       "      <th>B</th>\n",
       "      <th>C</th>\n",
       "      <th>D</th>\n",
       "    </tr>\n",
       "  </thead>\n",
       "  <tbody>\n",
       "    <tr>\n",
       "      <th>0</th>\n",
       "      <td>1.664032</td>\n",
       "      <td>-1.095064</td>\n",
       "      <td>-2.258850</td>\n",
       "      <td>1.099741</td>\n",
       "    </tr>\n",
       "    <tr>\n",
       "      <th>1</th>\n",
       "      <td>-1.145393</td>\n",
       "      <td>-0.325304</td>\n",
       "      <td>1.282618</td>\n",
       "      <td>-1.535668</td>\n",
       "    </tr>\n",
       "    <tr>\n",
       "      <th>2</th>\n",
       "      <td>1.101412</td>\n",
       "      <td>0.141052</td>\n",
       "      <td>-0.133831</td>\n",
       "      <td>2.593400</td>\n",
       "    </tr>\n",
       "    <tr>\n",
       "      <th>3</th>\n",
       "      <td>-0.996081</td>\n",
       "      <td>-0.231676</td>\n",
       "      <td>0.990024</td>\n",
       "      <td>0.117156</td>\n",
       "    </tr>\n",
       "    <tr>\n",
       "      <th>4</th>\n",
       "      <td>-1.791774</td>\n",
       "      <td>-1.253049</td>\n",
       "      <td>0.092173</td>\n",
       "      <td>-0.457416</td>\n",
       "    </tr>\n",
       "  </tbody>\n",
       "</table>\n",
       "</div>"
      ],
      "text/plain": [
       "          A         B         C         D\n",
       "0  1.664032 -1.095064 -2.258850  1.099741\n",
       "1 -1.145393 -0.325304  1.282618 -1.535668\n",
       "2  1.101412  0.141052 -0.133831  2.593400\n",
       "3 -0.996081 -0.231676  0.990024  0.117156\n",
       "4 -1.791774 -1.253049  0.092173 -0.457416"
      ]
     },
     "execution_count": 7,
     "metadata": {},
     "output_type": "execute_result"
    }
   ],
   "source": [
    "pdf = pd.DataFrame(np.random.randn(6,4), columns=list('ABCD'))\n",
    "pdf.head()"
   ]
  },
  {
   "cell_type": "code",
   "execution_count": null,
   "metadata": {},
   "outputs": [],
   "source": [
    "kdf = ks.from_pandas(pdf)\n",
    "kdf.head()"
   ]
  }
 ],
 "metadata": {
  "colab": {
   "authorship_tag": "ABX9TyMiYaRXqye48nemnac4fgDs",
   "collapsed_sections": [],
   "name": "05-03-dask_spark.ipynb",
   "provenance": []
  },
  "kernelspec": {
   "display_name": "Python 3",
   "language": "python",
   "name": "python3"
  },
  "language_info": {
   "codemirror_mode": {
    "name": "ipython",
    "version": 3
   },
   "file_extension": ".py",
   "mimetype": "text/x-python",
   "name": "python",
   "nbconvert_exporter": "python",
   "pygments_lexer": "ipython3",
   "version": "3.8.5"
  }
 },
 "nbformat": 4,
 "nbformat_minor": 1
}
