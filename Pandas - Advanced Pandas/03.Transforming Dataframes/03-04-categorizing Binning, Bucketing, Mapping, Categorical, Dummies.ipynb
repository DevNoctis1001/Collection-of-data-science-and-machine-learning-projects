{
 "cells": [
  {
   "cell_type": "markdown",
   "metadata": {
    "id": "4K0DUDrds174"
   },
   "source": [
    "<img src=\"https://pandas.pydata.org/static/img/pandas.svg\" width=\"250\">\n",
    "\n",
    "## <center> Categorizing and Labelling Data\n",
    "    \n",
    "+ **pd.cut()**: for bins, buckets the information\n",
    "+ **df[col_name].map()**\n",
    "+ **pd.Categorical()** : converting the column to categorized, ordered one\n",
    "+ **pd.get_dummies()**: one hot encoding"
   ]
  },
  {
   "cell_type": "code",
   "execution_count": 1,
   "metadata": {
    "executionInfo": {
     "elapsed": 988,
     "status": "ok",
     "timestamp": 1604903964042,
     "user": {
      "displayName": "Brett Vanderblock",
      "photoUrl": "https://lh3.googleusercontent.com/a-/AOh14GhmgXUM06I_0Utz7PNi8ns4XuV5Uba2Tr63jSQX=s64",
      "userId": "08986418591522242227"
     },
     "user_tz": 480
    },
    "id": "0phDyunYs176"
   },
   "outputs": [],
   "source": [
    "import pandas as pd\n",
    "import numpy as np"
   ]
  },
  {
   "cell_type": "code",
   "execution_count": 2,
   "metadata": {
    "colab": {
     "base_uri": "https://localhost:8080/",
     "height": 203
    },
    "executionInfo": {
     "elapsed": 983,
     "status": "ok",
     "timestamp": 1604903964043,
     "user": {
      "displayName": "Brett Vanderblock",
      "photoUrl": "https://lh3.googleusercontent.com/a-/AOh14GhmgXUM06I_0Utz7PNi8ns4XuV5Uba2Tr63jSQX=s64",
      "userId": "08986418591522242227"
     },
     "user_tz": 480
    },
    "id": "8Ytu75HMs17-",
    "outputId": "fbcf4d97-5dbd-4c58-cca9-6a3774a3bbba"
   },
   "outputs": [],
   "source": [
    "df = pd.DataFrame({\n",
    "    \"Species\":['Chinook','Chum','Coho','Steelhead','Bull Trout'],\n",
    "     \"Population\":['Skokomish','Lower Skokomish','Skokomish','Skokomish','SF Skokomish'],\n",
    "     \"Count\":[1208,2396,3220,6245,8216]\n",
    "})"
   ]
  },
  {
   "cell_type": "code",
   "execution_count": 3,
   "metadata": {},
   "outputs": [
    {
     "data": {
      "text/html": [
       "<div>\n",
       "<style scoped>\n",
       "    .dataframe tbody tr th:only-of-type {\n",
       "        vertical-align: middle;\n",
       "    }\n",
       "\n",
       "    .dataframe tbody tr th {\n",
       "        vertical-align: top;\n",
       "    }\n",
       "\n",
       "    .dataframe thead th {\n",
       "        text-align: right;\n",
       "    }\n",
       "</style>\n",
       "<table border=\"1\" class=\"dataframe\">\n",
       "  <thead>\n",
       "    <tr style=\"text-align: right;\">\n",
       "      <th></th>\n",
       "      <th>Species</th>\n",
       "      <th>Population</th>\n",
       "      <th>Count</th>\n",
       "    </tr>\n",
       "  </thead>\n",
       "  <tbody>\n",
       "    <tr>\n",
       "      <th>0</th>\n",
       "      <td>Chinook</td>\n",
       "      <td>Skokomish</td>\n",
       "      <td>1208</td>\n",
       "    </tr>\n",
       "    <tr>\n",
       "      <th>1</th>\n",
       "      <td>Chum</td>\n",
       "      <td>Lower Skokomish</td>\n",
       "      <td>2396</td>\n",
       "    </tr>\n",
       "    <tr>\n",
       "      <th>2</th>\n",
       "      <td>Coho</td>\n",
       "      <td>Skokomish</td>\n",
       "      <td>3220</td>\n",
       "    </tr>\n",
       "    <tr>\n",
       "      <th>3</th>\n",
       "      <td>Steelhead</td>\n",
       "      <td>Skokomish</td>\n",
       "      <td>6245</td>\n",
       "    </tr>\n",
       "    <tr>\n",
       "      <th>4</th>\n",
       "      <td>Bull Trout</td>\n",
       "      <td>SF Skokomish</td>\n",
       "      <td>8216</td>\n",
       "    </tr>\n",
       "  </tbody>\n",
       "</table>\n",
       "</div>"
      ],
      "text/plain": [
       "      Species       Population  Count\n",
       "0     Chinook        Skokomish   1208\n",
       "1        Chum  Lower Skokomish   2396\n",
       "2        Coho        Skokomish   3220\n",
       "3   Steelhead        Skokomish   6245\n",
       "4  Bull Trout     SF Skokomish   8216"
      ]
     },
     "execution_count": 3,
     "metadata": {},
     "output_type": "execute_result"
    }
   ],
   "source": [
    "df"
   ]
  },
  {
   "cell_type": "markdown",
   "metadata": {},
   "source": [
    "---------\n"
   ]
  },
  {
   "cell_type": "markdown",
   "metadata": {
    "id": "K3xx1mUBs18C"
   },
   "source": [
    "# Binning Numerical Data with `pd.cut()`"
   ]
  },
  {
   "cell_type": "markdown",
   "metadata": {},
   "source": [
    "### Create the buckets"
   ]
  },
  {
   "cell_type": "code",
   "execution_count": 4,
   "metadata": {
    "executionInfo": {
     "elapsed": 445,
     "status": "ok",
     "timestamp": 1604904047818,
     "user": {
      "displayName": "Brett Vanderblock",
      "photoUrl": "https://lh3.googleusercontent.com/a-/AOh14GhmgXUM06I_0Utz7PNi8ns4XuV5Uba2Tr63jSQX=s64",
      "userId": "08986418591522242227"
     },
     "user_tz": 480
    },
    "id": "FaqTNEreZnCA"
   },
   "outputs": [],
   "source": [
    "bins = [0, 2000, 4000, 6000, 8000, np.inf] # bins size\n",
    "\n",
    "labels = ['Low Return', 'Below Avg Return', 'Avg Return', 'Above Avg Return', 'High Return'] # bins label"
   ]
  },
  {
   "cell_type": "markdown",
   "metadata": {},
   "source": [
    "### Add the bucket information column (Count Category based on Salmon's Count)"
   ]
  },
  {
   "cell_type": "code",
   "execution_count": 5,
   "metadata": {},
   "outputs": [
    {
     "data": {
      "text/plain": [
       "0          Low Return\n",
       "1    Below Avg Return\n",
       "2    Below Avg Return\n",
       "3    Above Avg Return\n",
       "4         High Return\n",
       "Name: Count, dtype: category\n",
       "Categories (5, object): ['Low Return' < 'Below Avg Return' < 'Avg Return' < 'Above Avg Return' < 'High Return']"
      ]
     },
     "execution_count": 5,
     "metadata": {},
     "output_type": "execute_result"
    }
   ],
   "source": [
    "pd.cut(x=df['Count'], bins=bins, labels=labels)"
   ]
  },
  {
   "cell_type": "code",
   "execution_count": 6,
   "metadata": {},
   "outputs": [
    {
     "data": {
      "text/html": [
       "<div>\n",
       "<style scoped>\n",
       "    .dataframe tbody tr th:only-of-type {\n",
       "        vertical-align: middle;\n",
       "    }\n",
       "\n",
       "    .dataframe tbody tr th {\n",
       "        vertical-align: top;\n",
       "    }\n",
       "\n",
       "    .dataframe thead th {\n",
       "        text-align: right;\n",
       "    }\n",
       "</style>\n",
       "<table border=\"1\" class=\"dataframe\">\n",
       "  <thead>\n",
       "    <tr style=\"text-align: right;\">\n",
       "      <th></th>\n",
       "      <th>Species</th>\n",
       "      <th>Population</th>\n",
       "      <th>Count</th>\n",
       "      <th>Count Category</th>\n",
       "    </tr>\n",
       "  </thead>\n",
       "  <tbody>\n",
       "    <tr>\n",
       "      <th>0</th>\n",
       "      <td>Chinook</td>\n",
       "      <td>Skokomish</td>\n",
       "      <td>1208</td>\n",
       "      <td>Low Return</td>\n",
       "    </tr>\n",
       "    <tr>\n",
       "      <th>1</th>\n",
       "      <td>Chum</td>\n",
       "      <td>Lower Skokomish</td>\n",
       "      <td>2396</td>\n",
       "      <td>Below Avg Return</td>\n",
       "    </tr>\n",
       "    <tr>\n",
       "      <th>2</th>\n",
       "      <td>Coho</td>\n",
       "      <td>Skokomish</td>\n",
       "      <td>3220</td>\n",
       "      <td>Below Avg Return</td>\n",
       "    </tr>\n",
       "    <tr>\n",
       "      <th>3</th>\n",
       "      <td>Steelhead</td>\n",
       "      <td>Skokomish</td>\n",
       "      <td>6245</td>\n",
       "      <td>Above Avg Return</td>\n",
       "    </tr>\n",
       "    <tr>\n",
       "      <th>4</th>\n",
       "      <td>Bull Trout</td>\n",
       "      <td>SF Skokomish</td>\n",
       "      <td>8216</td>\n",
       "      <td>High Return</td>\n",
       "    </tr>\n",
       "  </tbody>\n",
       "</table>\n",
       "</div>"
      ],
      "text/plain": [
       "      Species       Population  Count    Count Category\n",
       "0     Chinook        Skokomish   1208        Low Return\n",
       "1        Chum  Lower Skokomish   2396  Below Avg Return\n",
       "2        Coho        Skokomish   3220  Below Avg Return\n",
       "3   Steelhead        Skokomish   6245  Above Avg Return\n",
       "4  Bull Trout     SF Skokomish   8216       High Return"
      ]
     },
     "execution_count": 6,
     "metadata": {},
     "output_type": "execute_result"
    }
   ],
   "source": [
    "df['Count Category'] = pd.cut(x=df['Count'], bins=bins, labels=labels)\n",
    "\n",
    "df.head()"
   ]
  },
  {
   "cell_type": "markdown",
   "metadata": {},
   "source": [
    "--------"
   ]
  },
  {
   "cell_type": "markdown",
   "metadata": {
    "id": "ySesJ0u0s18J"
   },
   "source": [
    "# Map Species to Endangered Status"
   ]
  },
  {
   "cell_type": "code",
   "execution_count": 7,
   "metadata": {
    "executionInfo": {
     "elapsed": 392,
     "status": "ok",
     "timestamp": 1604904133082,
     "user": {
      "displayName": "Brett Vanderblock",
      "photoUrl": "https://lh3.googleusercontent.com/a-/AOh14GhmgXUM06I_0Utz7PNi8ns4XuV5Uba2Tr63jSQX=s64",
      "userId": "08986418591522242227"
     },
     "user_tz": 480
    },
    "id": "uDhxSs4Os18K"
   },
   "outputs": [],
   "source": [
    "fed_status = {\n",
    "    \"Chinook\":\"Threatened\",\n",
    "    \"Chum\":\"Not Warranted\",\n",
    "    \"Coho\":\"Not Warranted\",\n",
    "    \"Steelhead\":\"Threatened\"\n",
    "}"
   ]
  },
  {
   "cell_type": "code",
   "execution_count": 8,
   "metadata": {},
   "outputs": [],
   "source": [
    "# use the map to map the status based on salmon's species name\n",
    "df['Federal Status'] = df['Species'].map(fed_status)"
   ]
  },
  {
   "cell_type": "code",
   "execution_count": 9,
   "metadata": {},
   "outputs": [
    {
     "data": {
      "text/html": [
       "<div>\n",
       "<style scoped>\n",
       "    .dataframe tbody tr th:only-of-type {\n",
       "        vertical-align: middle;\n",
       "    }\n",
       "\n",
       "    .dataframe tbody tr th {\n",
       "        vertical-align: top;\n",
       "    }\n",
       "\n",
       "    .dataframe thead th {\n",
       "        text-align: right;\n",
       "    }\n",
       "</style>\n",
       "<table border=\"1\" class=\"dataframe\">\n",
       "  <thead>\n",
       "    <tr style=\"text-align: right;\">\n",
       "      <th></th>\n",
       "      <th>Species</th>\n",
       "      <th>Population</th>\n",
       "      <th>Count</th>\n",
       "      <th>Count Category</th>\n",
       "      <th>Federal Status</th>\n",
       "    </tr>\n",
       "  </thead>\n",
       "  <tbody>\n",
       "    <tr>\n",
       "      <th>0</th>\n",
       "      <td>Chinook</td>\n",
       "      <td>Skokomish</td>\n",
       "      <td>1208</td>\n",
       "      <td>Low Return</td>\n",
       "      <td>Threatened</td>\n",
       "    </tr>\n",
       "    <tr>\n",
       "      <th>1</th>\n",
       "      <td>Chum</td>\n",
       "      <td>Lower Skokomish</td>\n",
       "      <td>2396</td>\n",
       "      <td>Below Avg Return</td>\n",
       "      <td>Not Warranted</td>\n",
       "    </tr>\n",
       "    <tr>\n",
       "      <th>2</th>\n",
       "      <td>Coho</td>\n",
       "      <td>Skokomish</td>\n",
       "      <td>3220</td>\n",
       "      <td>Below Avg Return</td>\n",
       "      <td>Not Warranted</td>\n",
       "    </tr>\n",
       "    <tr>\n",
       "      <th>3</th>\n",
       "      <td>Steelhead</td>\n",
       "      <td>Skokomish</td>\n",
       "      <td>6245</td>\n",
       "      <td>Above Avg Return</td>\n",
       "      <td>Threatened</td>\n",
       "    </tr>\n",
       "    <tr>\n",
       "      <th>4</th>\n",
       "      <td>Bull Trout</td>\n",
       "      <td>SF Skokomish</td>\n",
       "      <td>8216</td>\n",
       "      <td>High Return</td>\n",
       "      <td>NaN</td>\n",
       "    </tr>\n",
       "  </tbody>\n",
       "</table>\n",
       "</div>"
      ],
      "text/plain": [
       "      Species       Population  Count    Count Category Federal Status\n",
       "0     Chinook        Skokomish   1208        Low Return     Threatened\n",
       "1        Chum  Lower Skokomish   2396  Below Avg Return  Not Warranted\n",
       "2        Coho        Skokomish   3220  Below Avg Return  Not Warranted\n",
       "3   Steelhead        Skokomish   6245  Above Avg Return     Threatened\n",
       "4  Bull Trout     SF Skokomish   8216       High Return            NaN"
      ]
     },
     "execution_count": 9,
     "metadata": {},
     "output_type": "execute_result"
    }
   ],
   "source": [
    "df.head() # as there is no mapping name for \"Bull Trout\", status will be NaN"
   ]
  },
  {
   "cell_type": "markdown",
   "metadata": {},
   "source": [
    "------"
   ]
  },
  {
   "cell_type": "markdown",
   "metadata": {
    "id": "IgZqjtURs18Q"
   },
   "source": [
    "# Introducing the `categorical` data type using `pd.Categorical()`"
   ]
  },
  {
   "cell_type": "markdown",
   "metadata": {},
   "source": [
    "### making oridinal categories for \"Count Category\" column"
   ]
  },
  {
   "cell_type": "code",
   "execution_count": 10,
   "metadata": {},
   "outputs": [
    {
     "data": {
      "text/plain": [
       "['Low Return',\n",
       " 'Below Avg Return',\n",
       " 'Avg Return',\n",
       " 'Above Avg Return',\n",
       " 'High Return']"
      ]
     },
     "execution_count": 10,
     "metadata": {},
     "output_type": "execute_result"
    }
   ],
   "source": [
    "labels # this is the ranking that we want to use"
   ]
  },
  {
   "cell_type": "code",
   "execution_count": 12,
   "metadata": {},
   "outputs": [],
   "source": [
    "df['Count Category'] = pd.Categorical(df['Count Category'], \n",
    "                                     ordered=True, # saying that the labels that we prepared is already in order\n",
    "                                     categories=labels)"
   ]
  },
  {
   "cell_type": "code",
   "execution_count": 13,
   "metadata": {},
   "outputs": [
    {
     "data": {
      "text/plain": [
       "0          Low Return\n",
       "1    Below Avg Return\n",
       "2    Below Avg Return\n",
       "3    Above Avg Return\n",
       "4         High Return\n",
       "Name: Count Category, dtype: category\n",
       "Categories (5, object): ['Low Return' < 'Below Avg Return' < 'Avg Return' < 'Above Avg Return' < 'High Return']"
      ]
     },
     "execution_count": 13,
     "metadata": {},
     "output_type": "execute_result"
    }
   ],
   "source": [
    "df['Count Category']"
   ]
  },
  {
   "cell_type": "markdown",
   "metadata": {},
   "source": [
    "#### we can test it by using sort_values"
   ]
  },
  {
   "cell_type": "code",
   "execution_count": 15,
   "metadata": {},
   "outputs": [
    {
     "data": {
      "text/html": [
       "<div>\n",
       "<style scoped>\n",
       "    .dataframe tbody tr th:only-of-type {\n",
       "        vertical-align: middle;\n",
       "    }\n",
       "\n",
       "    .dataframe tbody tr th {\n",
       "        vertical-align: top;\n",
       "    }\n",
       "\n",
       "    .dataframe thead th {\n",
       "        text-align: right;\n",
       "    }\n",
       "</style>\n",
       "<table border=\"1\" class=\"dataframe\">\n",
       "  <thead>\n",
       "    <tr style=\"text-align: right;\">\n",
       "      <th></th>\n",
       "      <th>Species</th>\n",
       "      <th>Population</th>\n",
       "      <th>Count</th>\n",
       "      <th>Count Category</th>\n",
       "      <th>Federal Status</th>\n",
       "    </tr>\n",
       "  </thead>\n",
       "  <tbody>\n",
       "    <tr>\n",
       "      <th>0</th>\n",
       "      <td>Chinook</td>\n",
       "      <td>Skokomish</td>\n",
       "      <td>1208</td>\n",
       "      <td>Low Return</td>\n",
       "      <td>Threatened</td>\n",
       "    </tr>\n",
       "    <tr>\n",
       "      <th>1</th>\n",
       "      <td>Chum</td>\n",
       "      <td>Lower Skokomish</td>\n",
       "      <td>2396</td>\n",
       "      <td>Below Avg Return</td>\n",
       "      <td>Not Warranted</td>\n",
       "    </tr>\n",
       "    <tr>\n",
       "      <th>2</th>\n",
       "      <td>Coho</td>\n",
       "      <td>Skokomish</td>\n",
       "      <td>3220</td>\n",
       "      <td>Below Avg Return</td>\n",
       "      <td>Not Warranted</td>\n",
       "    </tr>\n",
       "    <tr>\n",
       "      <th>3</th>\n",
       "      <td>Steelhead</td>\n",
       "      <td>Skokomish</td>\n",
       "      <td>6245</td>\n",
       "      <td>Above Avg Return</td>\n",
       "      <td>Threatened</td>\n",
       "    </tr>\n",
       "    <tr>\n",
       "      <th>4</th>\n",
       "      <td>Bull Trout</td>\n",
       "      <td>SF Skokomish</td>\n",
       "      <td>8216</td>\n",
       "      <td>High Return</td>\n",
       "      <td>NaN</td>\n",
       "    </tr>\n",
       "  </tbody>\n",
       "</table>\n",
       "</div>"
      ],
      "text/plain": [
       "      Species       Population  Count    Count Category Federal Status\n",
       "0     Chinook        Skokomish   1208        Low Return     Threatened\n",
       "1        Chum  Lower Skokomish   2396  Below Avg Return  Not Warranted\n",
       "2        Coho        Skokomish   3220  Below Avg Return  Not Warranted\n",
       "3   Steelhead        Skokomish   6245  Above Avg Return     Threatened\n",
       "4  Bull Trout     SF Skokomish   8216       High Return            NaN"
      ]
     },
     "execution_count": 15,
     "metadata": {},
     "output_type": "execute_result"
    }
   ],
   "source": [
    "df"
   ]
  },
  {
   "cell_type": "markdown",
   "metadata": {},
   "source": [
    "#### Now the data is returned, sorted by Highest Category"
   ]
  },
  {
   "cell_type": "code",
   "execution_count": 14,
   "metadata": {},
   "outputs": [
    {
     "data": {
      "text/html": [
       "<div>\n",
       "<style scoped>\n",
       "    .dataframe tbody tr th:only-of-type {\n",
       "        vertical-align: middle;\n",
       "    }\n",
       "\n",
       "    .dataframe tbody tr th {\n",
       "        vertical-align: top;\n",
       "    }\n",
       "\n",
       "    .dataframe thead th {\n",
       "        text-align: right;\n",
       "    }\n",
       "</style>\n",
       "<table border=\"1\" class=\"dataframe\">\n",
       "  <thead>\n",
       "    <tr style=\"text-align: right;\">\n",
       "      <th></th>\n",
       "      <th>Species</th>\n",
       "      <th>Population</th>\n",
       "      <th>Count</th>\n",
       "      <th>Count Category</th>\n",
       "      <th>Federal Status</th>\n",
       "    </tr>\n",
       "  </thead>\n",
       "  <tbody>\n",
       "    <tr>\n",
       "      <th>4</th>\n",
       "      <td>Bull Trout</td>\n",
       "      <td>SF Skokomish</td>\n",
       "      <td>8216</td>\n",
       "      <td>High Return</td>\n",
       "      <td>NaN</td>\n",
       "    </tr>\n",
       "    <tr>\n",
       "      <th>3</th>\n",
       "      <td>Steelhead</td>\n",
       "      <td>Skokomish</td>\n",
       "      <td>6245</td>\n",
       "      <td>Above Avg Return</td>\n",
       "      <td>Threatened</td>\n",
       "    </tr>\n",
       "    <tr>\n",
       "      <th>1</th>\n",
       "      <td>Chum</td>\n",
       "      <td>Lower Skokomish</td>\n",
       "      <td>2396</td>\n",
       "      <td>Below Avg Return</td>\n",
       "      <td>Not Warranted</td>\n",
       "    </tr>\n",
       "    <tr>\n",
       "      <th>2</th>\n",
       "      <td>Coho</td>\n",
       "      <td>Skokomish</td>\n",
       "      <td>3220</td>\n",
       "      <td>Below Avg Return</td>\n",
       "      <td>Not Warranted</td>\n",
       "    </tr>\n",
       "    <tr>\n",
       "      <th>0</th>\n",
       "      <td>Chinook</td>\n",
       "      <td>Skokomish</td>\n",
       "      <td>1208</td>\n",
       "      <td>Low Return</td>\n",
       "      <td>Threatened</td>\n",
       "    </tr>\n",
       "  </tbody>\n",
       "</table>\n",
       "</div>"
      ],
      "text/plain": [
       "      Species       Population  Count    Count Category Federal Status\n",
       "4  Bull Trout     SF Skokomish   8216       High Return            NaN\n",
       "3   Steelhead        Skokomish   6245  Above Avg Return     Threatened\n",
       "1        Chum  Lower Skokomish   2396  Below Avg Return  Not Warranted\n",
       "2        Coho        Skokomish   3220  Below Avg Return  Not Warranted\n",
       "0     Chinook        Skokomish   1208        Low Return     Threatened"
      ]
     },
     "execution_count": 14,
     "metadata": {},
     "output_type": "execute_result"
    }
   ],
   "source": [
    "df.sort_values(by='Count Category', ascending=False)"
   ]
  },
  {
   "cell_type": "markdown",
   "metadata": {},
   "source": [
    "------"
   ]
  },
  {
   "cell_type": "markdown",
   "metadata": {
    "id": "-Tu74q5Qs18W"
   },
   "source": [
    "# Use `get_dummies()` to Convert a Categorical Variable into a Dummy Variable"
   ]
  },
  {
   "cell_type": "code",
   "execution_count": 16,
   "metadata": {},
   "outputs": [
    {
     "data": {
      "text/html": [
       "<div>\n",
       "<style scoped>\n",
       "    .dataframe tbody tr th:only-of-type {\n",
       "        vertical-align: middle;\n",
       "    }\n",
       "\n",
       "    .dataframe tbody tr th {\n",
       "        vertical-align: top;\n",
       "    }\n",
       "\n",
       "    .dataframe thead th {\n",
       "        text-align: right;\n",
       "    }\n",
       "</style>\n",
       "<table border=\"1\" class=\"dataframe\">\n",
       "  <thead>\n",
       "    <tr style=\"text-align: right;\">\n",
       "      <th></th>\n",
       "      <th>Low Return</th>\n",
       "      <th>Below Avg Return</th>\n",
       "      <th>Avg Return</th>\n",
       "      <th>Above Avg Return</th>\n",
       "      <th>High Return</th>\n",
       "    </tr>\n",
       "  </thead>\n",
       "  <tbody>\n",
       "    <tr>\n",
       "      <th>0</th>\n",
       "      <td>1</td>\n",
       "      <td>0</td>\n",
       "      <td>0</td>\n",
       "      <td>0</td>\n",
       "      <td>0</td>\n",
       "    </tr>\n",
       "    <tr>\n",
       "      <th>1</th>\n",
       "      <td>0</td>\n",
       "      <td>1</td>\n",
       "      <td>0</td>\n",
       "      <td>0</td>\n",
       "      <td>0</td>\n",
       "    </tr>\n",
       "    <tr>\n",
       "      <th>2</th>\n",
       "      <td>0</td>\n",
       "      <td>1</td>\n",
       "      <td>0</td>\n",
       "      <td>0</td>\n",
       "      <td>0</td>\n",
       "    </tr>\n",
       "    <tr>\n",
       "      <th>3</th>\n",
       "      <td>0</td>\n",
       "      <td>0</td>\n",
       "      <td>0</td>\n",
       "      <td>1</td>\n",
       "      <td>0</td>\n",
       "    </tr>\n",
       "    <tr>\n",
       "      <th>4</th>\n",
       "      <td>0</td>\n",
       "      <td>0</td>\n",
       "      <td>0</td>\n",
       "      <td>0</td>\n",
       "      <td>1</td>\n",
       "    </tr>\n",
       "  </tbody>\n",
       "</table>\n",
       "</div>"
      ],
      "text/plain": [
       "   Low Return  Below Avg Return  Avg Return  Above Avg Return  High Return\n",
       "0           1                 0           0                 0            0\n",
       "1           0                 1           0                 0            0\n",
       "2           0                 1           0                 0            0\n",
       "3           0                 0           0                 1            0\n",
       "4           0                 0           0                 0            1"
      ]
     },
     "execution_count": 16,
     "metadata": {},
     "output_type": "execute_result"
    }
   ],
   "source": [
    "pd.get_dummies(df['Count Category'])"
   ]
  }
 ],
 "metadata": {
  "colab": {
   "collapsed_sections": [],
   "name": "03-04-map_variables.ipynb",
   "provenance": []
  },
  "kernelspec": {
   "display_name": "Python 3",
   "language": "python",
   "name": "python3"
  },
  "language_info": {
   "codemirror_mode": {
    "name": "ipython",
    "version": 3
   },
   "file_extension": ".py",
   "mimetype": "text/x-python",
   "name": "python",
   "nbconvert_exporter": "python",
   "pygments_lexer": "ipython3",
   "version": "3.8.5"
  }
 },
 "nbformat": 4,
 "nbformat_minor": 1
}
