{
 "cells": [
  {
   "cell_type": "markdown",
   "metadata": {
    "id": "gUCuOKl0Sqnb"
   },
   "source": [
    "<img src=\"https://pandas.pydata.org/static/img/pandas.svg\" width=\"250\">\n",
    "\n",
    "## <center> Getting Started with Pandas"
   ]
  },
  {
   "cell_type": "code",
   "execution_count": 1,
   "metadata": {
    "id": "-d5w2i8gysmB"
   },
   "outputs": [],
   "source": [
    "import pandas as pd"
   ]
  },
  {
   "cell_type": "markdown",
   "metadata": {
    "id": "0zyp-ohKSqnh"
   },
   "source": [
    "### Installing `pandas`"
   ]
  },
  {
   "cell_type": "markdown",
   "metadata": {
    "id": "7375wPMXSqni"
   },
   "source": [
    "To install pandas, use the following commands:\n",
    "\n",
    "`pip install pandas` <br>\n",
    "-or- <br>\n",
    "`conda install pandas`"
   ]
  },
  {
   "cell_type": "markdown",
   "metadata": {
    "id": "STHclt8FSqni"
   },
   "source": [
    "### Download Anaconda\n",
    "\n",
    "https://www.anaconda.com/products/individual"
   ]
  }
 ],
 "metadata": {
  "colab": {
   "name": "01-01-getting_started.ipynb",
   "provenance": []
  },
  "kernelspec": {
   "display_name": "Python 3",
   "language": "python",
   "name": "python3"
  },
  "language_info": {
   "codemirror_mode": {
    "name": "ipython",
    "version": 3
   },
   "file_extension": ".py",
   "mimetype": "text/x-python",
   "name": "python",
   "nbconvert_exporter": "python",
   "pygments_lexer": "ipython3",
   "version": "3.8.5"
  }
 },
 "nbformat": 4,
 "nbformat_minor": 1
}
