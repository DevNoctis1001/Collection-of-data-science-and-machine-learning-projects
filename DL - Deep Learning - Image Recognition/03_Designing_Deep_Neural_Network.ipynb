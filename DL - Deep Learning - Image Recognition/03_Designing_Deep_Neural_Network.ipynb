{
  "nbformat": 4,
  "nbformat_minor": 0,
  "metadata": {
    "colab": {
      "name": "03_Designing_Deep_Neural_Networkipynb",
      "provenance": [],
      "collapsed_sections": []
    },
    "kernelspec": {
      "name": "python3",
      "display_name": "Python 3"
    },
    "accelerator": "GPU"
  },
  "cells": [
    {
      "cell_type": "markdown",
      "metadata": {
        "id": "254YR_HeJy1l"
      },
      "source": [
        "# 1) Exploring CIFAR 10 dataset"
      ]
    },
    {
      "cell_type": "code",
      "metadata": {
        "id": "k8CQos3JIuby"
      },
      "source": [
        "from tensorflow.keras.datasets import cifar10\r\n",
        "import matplotlib.pyplot as plt"
      ],
      "execution_count": null,
      "outputs": []
    },
    {
      "cell_type": "code",
      "metadata": {
        "id": "PR2rw0U1I0qp"
      },
      "source": [
        "# list of names of each CIFAR10 class\r\n",
        "cifar10_class_names = {\r\n",
        "    0:'Plane',\r\n",
        "    1:'Car',\r\n",
        "    2:'Bird',\r\n",
        "    3:'Cat',\r\n",
        "    4:'Deer',\r\n",
        "    5:'Dog',\r\n",
        "    6:'Frog',\r\n",
        "    7:'Horse',\r\n",
        "    8:'Boat',\r\n",
        "    9:'Truck'\r\n",
        "}"
      ],
      "execution_count": null,
      "outputs": []
    },
    {
      "cell_type": "code",
      "metadata": {
        "colab": {
          "base_uri": "https://localhost:8080/"
        },
        "id": "IPAqnwsEI2GE",
        "outputId": "df947ebb-a5d8-475f-b9e3-66a63d94b266"
      },
      "source": [
        "# Load the entire data set\r\n",
        "(x_train, y_train), (x_test, y_test) = cifar10.load_data()"
      ],
      "execution_count": null,
      "outputs": [
        {
          "output_type": "stream",
          "text": [
            "Downloading data from https://www.cs.toronto.edu/~kriz/cifar-10-python.tar.gz\n",
            "170500096/170498071 [==============================] - 2s 0us/step\n"
          ],
          "name": "stdout"
        }
      ]
    },
    {
      "cell_type": "code",
      "metadata": {
        "colab": {
          "base_uri": "https://localhost:8080/",
          "height": 545
        },
        "id": "kYG01jR9I3Ix",
        "outputId": "7b7e79c4-1b7d-41e7-d4a5-c11f8424e2ad"
      },
      "source": [
        "\r\n",
        "# loop through the picture in the dataset\r\n",
        "for i in range(2):\r\n",
        "    sample_image = x_train[i] # Grab an image from the data set\r\n",
        "    image_class_number = y_train[i][0] # Grab the image's expected class id\r\n",
        "    image_class_name = cifar10_class_names[image_class_number] # Look up the class name from the class id\r\n",
        "    \r\n",
        "    # draw the image\r\n",
        "    plt.imshow(sample_image) \r\n",
        "    plt.title(image_class_name)\r\n",
        "    plt.show()"
      ],
      "execution_count": null,
      "outputs": [
        {
          "output_type": "display_data",
          "data": {
            "image/png": "[encoded data removed]",
            "text/plain": [
              "<Figure size 432x288 with 1 Axes>"
            ]
          },
          "metadata": {
            "tags": [],
            "needs_background": "light"
          }
        },
        {
          "output_type": "display_data",
          "data": {
            "image/png": "[encoded data removed]",
            "text/plain": [
              "<Figure size 432x288 with 1 Axes>"
            ]
          },
          "metadata": {
            "tags": [],
            "needs_background": "light"
          }
        }
      ]
    },
    {
      "cell_type": "markdown",
      "metadata": {
        "id": "cXEOPfjxJ5LZ"
      },
      "source": [
        "----------\r\n",
        "# 2) Loading an image data set"
      ]
    },
    {
      "cell_type": "code",
      "metadata": {
        "id": "JVKXTh6SI4L-"
      },
      "source": [
        "import tensorflow as tf\r\n",
        "from tensorflow.keras.datasets import cifar10\r\n",
        "from tensorflow.keras.models import Sequential\r\n",
        "from tensorflow.keras.layers import Dense, Dropout, Flatten, Conv2D, MaxPool2D\r\n",
        "from pathlib import Path"
      ],
      "execution_count": 2,
      "outputs": []
    },
    {
      "cell_type": "code",
      "metadata": {
        "colab": {
          "base_uri": "https://localhost:8080/"
        },
        "id": "L5tJ_ZawKAMb",
        "outputId": "00c12581-5954-4b6b-9cfa-92667a15ed06"
      },
      "source": [
        "# Load data set\r\n",
        "(x_train, y_train), (x_test, y_test) = cifar10.load_data()"
      ],
      "execution_count": 3,
      "outputs": [
        {
          "output_type": "stream",
          "text": [
            "Downloading data from https://www.cs.toronto.edu/~kriz/cifar-10-python.tar.gz\n",
            "170500096/170498071 [==============================] - 2s 0us/step\n"
          ],
          "name": "stdout"
        }
      ]
    },
    {
      "cell_type": "code",
      "metadata": {
        "id": "T6CAQGEkKBO9"
      },
      "source": [
        "# Normalize data set to 0-to-1 range\r\n",
        "x_train = x_train.astype('float32')\r\n",
        "x_test = x_test.astype('float32')\r\n",
        "x_train = x_train / 255\r\n",
        "x_test = x_test / 255"
      ],
      "execution_count": 4,
      "outputs": []
    },
    {
      "cell_type": "code",
      "metadata": {
        "id": "jya5ObHbKCKw"
      },
      "source": [
        "# Convert class vectors to binary class matrices\r\n",
        "# Our labels are single values from 0 to 9.\r\n",
        "# Instead, we want each label to be an array with on element set to 1 and and the rest set to 0.\r\n",
        "y_train = tf.keras.utils.to_categorical(x_train, 10)\r\n",
        "y_test = tf.keras.utils.to_categorical(x_test, 10)"
      ],
      "execution_count": 5,
      "outputs": []
    },
    {
      "cell_type": "markdown",
      "metadata": {
        "id": "1AKvJ4e9KLNE"
      },
      "source": [
        "--------"
      ]
    },
    {
      "cell_type": "markdown",
      "metadata": {
        "id": "hXTnHb-CKDKg"
      },
      "source": [
        "# 3) Dense Layers"
      ]
    },
    {
      "cell_type": "code",
      "metadata": {
        "id": "A8PjRjTmKMua"
      },
      "source": [
        "import tensorflow as tf\r\n",
        "from tensorflow.keras.datasets import cifar10\r\n",
        "from tensorflow.keras.models import Sequential\r\n",
        "from tensorflow.keras.layers import Dense, Flatten, Dropout, Conv2D, MaxPool2D\r\n",
        "from pathlib import Path\r\n",
        "\r\n",
        "# load data\r\n",
        "(x_train, y_train), (x_test, y_test) = cifar10.load_data()\r\n",
        "\r\n",
        "# Normalize data\r\n",
        "x_train = x_train.astype('float32')\r\n",
        "x_test = x_test.astype('float32')\r\n",
        "x_train = x_train / 255\r\n",
        "x_test = x_test / 255\r\n",
        "\r\n",
        "# Categorical encoding for labels\r\n",
        "y_train = tf.keras.utils.to_categorical(y_train, 10)\r\n",
        "y_test = tf.keras.utils.to_categorical(y_test, 10)"
      ],
      "execution_count": 7,
      "outputs": []
    },
    {
      "cell_type": "code",
      "metadata": {
        "colab": {
          "base_uri": "https://localhost:8080/"
        },
        "id": "tpYOSAnSKMU1",
        "outputId": "caa45175-fbea-44c9-92c7-7764306c58ed"
      },
      "source": [
        "# Create model and Add layers\r\n",
        "model = Sequential()\r\n",
        "\r\n",
        "model.add(Dense(512, activation='relu', input_shape=(32, 32, 3))) \r\n",
        "\r\n",
        "model.add(Dense(10, activation='softmax')) # multiclass classification\r\n",
        "\r\n",
        "# Summary of model\r\n",
        "model.summary()"
      ],
      "execution_count": 8,
      "outputs": [
        {
          "output_type": "stream",
          "text": [
            "Model: \"sequential\"\n",
            "_________________________________________________________________\n",
            "Layer (type)                 Output Shape              Param #   \n",
            "=================================================================\n",
            "dense (Dense)                (None, 32, 32, 512)       2048      \n",
            "_________________________________________________________________\n",
            "dense_1 (Dense)              (None, 32, 32, 10)        5130      \n",
            "=================================================================\n",
            "Total params: 7,178\n",
            "Trainable params: 7,178\n",
            "Non-trainable params: 0\n",
            "_________________________________________________________________\n"
          ],
          "name": "stdout"
        }
      ]
    },
    {
      "cell_type": "markdown",
      "metadata": {
        "id": "FHoN4yS_Nmh6"
      },
      "source": [
        "-------\r\n"
      ]
    },
    {
      "cell_type": "markdown",
      "metadata": {
        "id": "AMq_NMdPNtq9"
      },
      "source": [
        "# 4) Convolution layers\r\n",
        "+ for sound wave, it can be `1D`\r\n",
        "+ for images, it can be `2D`\r\n",
        "\r\n",
        "When working with Convolution Layer and Dense layer, we need to tell Keras during transition that we no longer working with 2D. So data needs to be `Flatten`."
      ]
    },
    {
      "cell_type": "code",
      "metadata": {
        "id": "uMoPHnY-Nwhz"
      },
      "source": [
        "import tensorflow as tf\r\n",
        "from tensorflow.keras.datasets import cifar10\r\n",
        "from tensorflow.keras.models import Sequential\r\n",
        "from tensorflow.keras.layers import Dense, Flatten, Dropout, Conv2D, MaxPool2D\r\n",
        "from pathlib import Path\r\n",
        "\r\n",
        "# load data\r\n",
        "(x_train, y_train), (x_test, y_test) = cifar10.load_data()\r\n",
        "\r\n",
        "# Normalize data\r\n",
        "x_train = x_train.astype('float32')\r\n",
        "x_test = x_test.astype('float32')\r\n",
        "x_train = x_train / 255\r\n",
        "x_test = x_test / 255\r\n",
        "\r\n",
        "# Categorical encoding for labels\r\n",
        "y_train = tf.keras.utils.to_categorical(y_train, 10)\r\n",
        "y_test = tf.keras.utils.to_categorical(y_test, 10)"
      ],
      "execution_count": 9,
      "outputs": []
    },
    {
      "cell_type": "code",
      "metadata": {
        "colab": {
          "base_uri": "https://localhost:8080/"
        },
        "id": "vAK6kN39SM4W",
        "outputId": "ad9a21d6-9744-4897-a9e9-7d9f5e2ac0ea"
      },
      "source": [
        "# Create model and Add layers\r\n",
        "model = Sequential()\r\n",
        "\r\n",
        "model.add(Conv2D(32, (3,3), padding='same', activation='relu', input_shape=(32, 32, 3))) # we want to put some padding\r\n",
        "model.add(Conv2D(32, (3,3), activation='relu'))\r\n",
        "\r\n",
        "model.add(Conv2D(64, (3,3), padding='same', activation='relu'))\r\n",
        "model.add(Conv2D(64, (3,3), activation='relu'))\r\n",
        "\r\n",
        "model.add(Flatten())\r\n",
        "\r\n",
        "model.add(Dense(512, activation='relu', input_shape=(32, 32, 3)))\r\n",
        "model.add(Dense(10, activation='softmax')) # multiclass classification\r\n",
        "\r\n",
        "# Summary of model\r\n",
        "model.summary()"
      ],
      "execution_count": 10,
      "outputs": [
        {
          "output_type": "stream",
          "text": [
            "Model: \"sequential_1\"\n",
            "_________________________________________________________________\n",
            "Layer (type)                 Output Shape              Param #   \n",
            "=================================================================\n",
            "conv2d (Conv2D)              (None, 32, 32, 32)        896       \n",
            "_________________________________________________________________\n",
            "conv2d_1 (Conv2D)            (None, 30, 30, 32)        9248      \n",
            "_________________________________________________________________\n",
            "conv2d_2 (Conv2D)            (None, 30, 30, 64)        18496     \n",
            "_________________________________________________________________\n",
            "conv2d_3 (Conv2D)            (None, 28, 28, 64)        36928     \n",
            "_________________________________________________________________\n",
            "flatten (Flatten)            (None, 50176)             0         \n",
            "_________________________________________________________________\n",
            "dense_2 (Dense)              (None, 512)               25690624  \n",
            "_________________________________________________________________\n",
            "dense_3 (Dense)              (None, 10)                5130      \n",
            "=================================================================\n",
            "Total params: 25,761,322\n",
            "Trainable params: 25,761,322\n",
            "Non-trainable params: 0\n",
            "_________________________________________________________________\n"
          ],
          "name": "stdout"
        }
      ]
    },
    {
      "cell_type": "markdown",
      "metadata": {
        "id": "P89N5HwKTcIu"
      },
      "source": [
        "-------"
      ]
    },
    {
      "cell_type": "markdown",
      "metadata": {
        "id": "Jk_92ChvTdtu"
      },
      "source": [
        "# 5) Max Pooling\r\n",
        "- max pooling is where we scale down the output of convolutional layers by keeping only the largest values and throwing away the smaller ones. This **makes the neural network more efficient**.\r\n",
        "- we usually put Max Pooling after blocks of Convolutional layers."
      ]
    },
    {
      "cell_type": "code",
      "metadata": {
        "id": "MqaLJ31NT2qZ"
      },
      "source": [
        "import tensorflow as tf\r\n",
        "from tensorflow.keras.datasets import cifar10\r\n",
        "from tensorflow.keras.models import Sequential\r\n",
        "from tensorflow.keras.layers import Dense, Flatten, Dropout, Conv2D, MaxPool2D\r\n",
        "from pathlib import Path\r\n",
        "\r\n",
        "# load data\r\n",
        "(x_train, y_train), (x_test, y_test) = cifar10.load_data()\r\n",
        "\r\n",
        "# Normalize data\r\n",
        "x_train = x_train.astype('float32')\r\n",
        "x_test = x_test.astype('float32')\r\n",
        "x_train = x_train / 255\r\n",
        "x_test = x_test / 255\r\n",
        "\r\n",
        "# Categorical encoding for labels\r\n",
        "y_train = tf.keras.utils.to_categorical(y_train, 10)\r\n",
        "y_test = tf.keras.utils.to_categorical(y_test, 10)"
      ],
      "execution_count": 11,
      "outputs": []
    },
    {
      "cell_type": "code",
      "metadata": {
        "colab": {
          "base_uri": "https://localhost:8080/"
        },
        "id": "Vs3bRR6BUgEG",
        "outputId": "a8b390eb-d94d-4994-e4d3-0aa3548a3bca"
      },
      "source": [
        "# Create model and Add layers\r\n",
        "model = Sequential()\r\n",
        "\r\n",
        "model.add(Conv2D(32, (3,3), padding='same', activation='relu', input_shape=(32, 32, 3))) # we want to put some padding\r\n",
        "model.add(Conv2D(32, (3,3), activation='relu'))\r\n",
        "model.add(MaxPool2D(pool_size=(2,2)))\r\n",
        "\r\n",
        "model.add(Conv2D(64, (3,3), padding='same', activation='relu'))\r\n",
        "model.add(Conv2D(64, (3,3), activation='relu'))\r\n",
        "model.add(MaxPool2D(pool_size=(2,2)))\r\n",
        "\r\n",
        "model.add(Flatten())\r\n",
        "\r\n",
        "model.add(Dense(512, activation='relu', input_shape=(32, 32, 3)))\r\n",
        "model.add(Dense(10, activation='softmax')) # multiclass classification\r\n",
        "\r\n",
        "# Summary of model\r\n",
        "model.summary()"
      ],
      "execution_count": 12,
      "outputs": [
        {
          "output_type": "stream",
          "text": [
            "Model: \"sequential_2\"\n",
            "_________________________________________________________________\n",
            "Layer (type)                 Output Shape              Param #   \n",
            "=================================================================\n",
            "conv2d_4 (Conv2D)            (None, 32, 32, 32)        896       \n",
            "_________________________________________________________________\n",
            "conv2d_5 (Conv2D)            (None, 30, 30, 32)        9248      \n",
            "_________________________________________________________________\n",
            "max_pooling2d (MaxPooling2D) (None, 15, 15, 32)        0         \n",
            "_________________________________________________________________\n",
            "conv2d_6 (Conv2D)            (None, 15, 15, 64)        18496     \n",
            "_________________________________________________________________\n",
            "conv2d_7 (Conv2D)            (None, 13, 13, 64)        36928     \n",
            "_________________________________________________________________\n",
            "max_pooling2d_1 (MaxPooling2 (None, 6, 6, 64)          0         \n",
            "_________________________________________________________________\n",
            "flatten_1 (Flatten)          (None, 2304)              0         \n",
            "_________________________________________________________________\n",
            "dense_4 (Dense)              (None, 512)               1180160   \n",
            "_________________________________________________________________\n",
            "dense_5 (Dense)              (None, 10)                5130      \n",
            "=================================================================\n",
            "Total params: 1,250,858\n",
            "Trainable params: 1,250,858\n",
            "Non-trainable params: 0\n",
            "_________________________________________________________________\n"
          ],
          "name": "stdout"
        }
      ]
    },
    {
      "cell_type": "markdown",
      "metadata": {
        "id": "PM6BiAVwU4hA"
      },
      "source": [
        "-------"
      ]
    },
    {
      "cell_type": "markdown",
      "metadata": {
        "id": "ZIFMLzIqU7aH"
      },
      "source": [
        "# 6) Dropout\r\n",
        "- one of the problems that neural networks is that they tend to memorize the input data, instead of learning how to tell diffrent objects apart. We can force the neural network to try harder to learn without memorizing the input data. \r\n",
        "- The idea is we'll **randomly throw away some of the data by cutting some of the connections between the layers**. This is called `Dropout.`\r\n",
        "- usually we put dropout between right after max pooling layers, or often a group of dense layers.\r\n",
        "- we need to pass **the percentage of neural network connections to randomly cut (value between 25% and 50% works well)**."
      ]
    },
    {
      "cell_type": "code",
      "metadata": {
        "id": "SpvWi1bVU96e"
      },
      "source": [
        "import tensorflow as tf\r\n",
        "from tensorflow.keras.datasets import cifar10\r\n",
        "from tensorflow.keras.models import Sequential\r\n",
        "from tensorflow.keras.layers import Dense, Flatten, Dropout, Conv2D, MaxPool2D\r\n",
        "from pathlib import Path\r\n",
        "\r\n",
        "# load data\r\n",
        "(x_train, y_train), (x_test, y_test) = cifar10.load_data()\r\n",
        "\r\n",
        "# Normalize data\r\n",
        "x_train = x_train.astype('float32')\r\n",
        "x_test = x_test.astype('float32')\r\n",
        "x_train = x_train / 255\r\n",
        "x_test = x_test / 255\r\n",
        "\r\n",
        "# Categorical encoding for labels\r\n",
        "y_train = tf.keras.utils.to_categorical(y_train, 10)\r\n",
        "y_test = tf.keras.utils.to_categorical(y_test, 10)"
      ],
      "execution_count": 13,
      "outputs": []
    },
    {
      "cell_type": "code",
      "metadata": {
        "colab": {
          "base_uri": "https://localhost:8080/"
        },
        "id": "lfYYHM0nU_V_",
        "outputId": "6722d7ac-cf78-4013-bc9f-28d5315e9e07"
      },
      "source": [
        "# Create model and Add layers\r\n",
        "model = Sequential()\r\n",
        "\r\n",
        "model.add(Conv2D(32, (3,3), padding='same', activation='relu', input_shape=(32, 32, 3))) # we want to put some padding\r\n",
        "model.add(Conv2D(32, (3,3), activation='relu'))\r\n",
        "model.add(MaxPool2D(pool_size=(2,2)))\r\n",
        "model.add(Dropout(0.25))\r\n",
        "\r\n",
        "model.add(Conv2D(64, (3,3), padding='same', activation='relu'))\r\n",
        "model.add(Conv2D(64, (3,3), activation='relu'))\r\n",
        "model.add(MaxPool2D(pool_size=(2,2)))\r\n",
        "model.add(Dropout(0.25))\r\n",
        "\r\n",
        "model.add(Flatten())\r\n",
        "\r\n",
        "model.add(Dense(512, activation='relu', input_shape=(32, 32, 3)))\r\n",
        "model.add(Dropout(0.50))\r\n",
        "\r\n",
        "model.add(Dense(10, activation='softmax')) # multiclass classification\r\n",
        "\r\n",
        "# Summary of model\r\n",
        "model.summary()"
      ],
      "execution_count": 14,
      "outputs": [
        {
          "output_type": "stream",
          "text": [
            "Model: \"sequential_3\"\n",
            "_________________________________________________________________\n",
            "Layer (type)                 Output Shape              Param #   \n",
            "=================================================================\n",
            "conv2d_8 (Conv2D)            (None, 32, 32, 32)        896       \n",
            "_________________________________________________________________\n",
            "conv2d_9 (Conv2D)            (None, 30, 30, 32)        9248      \n",
            "_________________________________________________________________\n",
            "max_pooling2d_2 (MaxPooling2 (None, 15, 15, 32)        0         \n",
            "_________________________________________________________________\n",
            "dropout (Dropout)            (None, 15, 15, 32)        0         \n",
            "_________________________________________________________________\n",
            "conv2d_10 (Conv2D)           (None, 15, 15, 64)        18496     \n",
            "_________________________________________________________________\n",
            "conv2d_11 (Conv2D)           (None, 13, 13, 64)        36928     \n",
            "_________________________________________________________________\n",
            "max_pooling2d_3 (MaxPooling2 (None, 6, 6, 64)          0         \n",
            "_________________________________________________________________\n",
            "dropout_1 (Dropout)          (None, 6, 6, 64)          0         \n",
            "_________________________________________________________________\n",
            "flatten_2 (Flatten)          (None, 2304)              0         \n",
            "_________________________________________________________________\n",
            "dense_6 (Dense)              (None, 512)               1180160   \n",
            "_________________________________________________________________\n",
            "dropout_2 (Dropout)          (None, 512)               0         \n",
            "_________________________________________________________________\n",
            "dense_7 (Dense)              (None, 10)                5130      \n",
            "=================================================================\n",
            "Total params: 1,250,858\n",
            "Trainable params: 1,250,858\n",
            "Non-trainable params: 0\n",
            "_________________________________________________________________\n"
          ],
          "name": "stdout"
        }
      ]
    },
    {
      "cell_type": "markdown",
      "metadata": {
        "id": "uCKlj6OHWgP2"
      },
      "source": [
        "-----"
      ]
    },
    {
      "cell_type": "markdown",
      "metadata": {
        "id": "sFH6myw_WpTe"
      },
      "source": [
        "# 7) Complete neural network for image recoginition\r\n",
        "- final step is to compile the model. When we compile it, we are telling keras that we want to create model in memory. we also tell that we want to train and measure the accuracy.\r\n",
        "- for classification, we use `crossentroy` for loss function.\r\n",
        "    - for binary classification, `binary_crossentropy`\r\n",
        "    - for multi classification, `categorical_crossentropy`\r\n",
        "- for image classification, good optimizer is `adam`: Adaptive Moment Estimation "
      ]
    },
    {
      "cell_type": "code",
      "metadata": {
        "id": "5fRktrHgWu9P"
      },
      "source": [
        "import tensorflow as tf\r\n",
        "from tensorflow.keras.datasets import cifar10\r\n",
        "from tensorflow.keras.models import Sequential\r\n",
        "from tensorflow.keras.layers import Dense, Flatten, Dropout, Conv2D, MaxPool2D\r\n",
        "from pathlib import Path\r\n",
        "\r\n",
        "# load data\r\n",
        "(x_train, y_train), (x_test, y_test) = cifar10.load_data()\r\n",
        "\r\n",
        "# Normalize data\r\n",
        "x_train = x_train.astype('float32')\r\n",
        "x_test = x_test.astype('float32')\r\n",
        "x_train = x_train / 255\r\n",
        "x_test = x_test / 255\r\n",
        "\r\n",
        "# Categorical encoding for labels\r\n",
        "y_train = tf.keras.utils.to_categorical(y_train, 10)\r\n",
        "y_test = tf.keras.utils.to_categorical(y_test, 10)"
      ],
      "execution_count": 15,
      "outputs": []
    },
    {
      "cell_type": "code",
      "metadata": {
        "colab": {
          "base_uri": "https://localhost:8080/"
        },
        "id": "32-gdyLCWzyI",
        "outputId": "1ce07686-6c5c-44b3-c826-7ca03f452bad"
      },
      "source": [
        "# Create model and Add layers\r\n",
        "model = Sequential()\r\n",
        "\r\n",
        "model.add(Conv2D(32, (3,3), padding='same', activation='relu', input_shape=(32, 32, 3))) # we want to put some padding\r\n",
        "model.add(Conv2D(32, (3,3), activation='relu'))\r\n",
        "model.add(MaxPool2D(pool_size=(2,2)))\r\n",
        "model.add(Dropout(0.25))\r\n",
        "\r\n",
        "model.add(Conv2D(64, (3,3), padding='same', activation='relu'))\r\n",
        "model.add(Conv2D(64, (3,3), activation='relu'))\r\n",
        "model.add(MaxPool2D(pool_size=(2,2)))\r\n",
        "model.add(Dropout(0.25))\r\n",
        "\r\n",
        "model.add(Flatten())\r\n",
        "\r\n",
        "model.add(Dense(512, activation='relu', input_shape=(32, 32, 3)))\r\n",
        "model.add(Dropout(0.50))\r\n",
        "\r\n",
        "model.add(Dense(10, activation='softmax')) # multiclass classification\r\n",
        "\r\n",
        "# Compile the model\r\n",
        "model.compile(\r\n",
        "    loss='categorical_crossentropy',\r\n",
        "    optimizer='adam',\r\n",
        "    metrics=['accuracy']\r\n",
        ")\r\n",
        "\r\n",
        "# Summary of model\r\n",
        "model.summary()"
      ],
      "execution_count": 16,
      "outputs": [
        {
          "output_type": "stream",
          "text": [
            "Model: \"sequential_4\"\n",
            "_________________________________________________________________\n",
            "Layer (type)                 Output Shape              Param #   \n",
            "=================================================================\n",
            "conv2d_12 (Conv2D)           (None, 32, 32, 32)        896       \n",
            "_________________________________________________________________\n",
            "conv2d_13 (Conv2D)           (None, 30, 30, 32)        9248      \n",
            "_________________________________________________________________\n",
            "max_pooling2d_4 (MaxPooling2 (None, 15, 15, 32)        0         \n",
            "_________________________________________________________________\n",
            "dropout_3 (Dropout)          (None, 15, 15, 32)        0         \n",
            "_________________________________________________________________\n",
            "conv2d_14 (Conv2D)           (None, 15, 15, 64)        18496     \n",
            "_________________________________________________________________\n",
            "conv2d_15 (Conv2D)           (None, 13, 13, 64)        36928     \n",
            "_________________________________________________________________\n",
            "max_pooling2d_5 (MaxPooling2 (None, 6, 6, 64)          0         \n",
            "_________________________________________________________________\n",
            "dropout_4 (Dropout)          (None, 6, 6, 64)          0         \n",
            "_________________________________________________________________\n",
            "flatten_3 (Flatten)          (None, 2304)              0         \n",
            "_________________________________________________________________\n",
            "dense_8 (Dense)              (None, 512)               1180160   \n",
            "_________________________________________________________________\n",
            "dropout_5 (Dropout)          (None, 512)               0         \n",
            "_________________________________________________________________\n",
            "dense_9 (Dense)              (None, 10)                5130      \n",
            "=================================================================\n",
            "Total params: 1,250,858\n",
            "Trainable params: 1,250,858\n",
            "Non-trainable params: 0\n",
            "_________________________________________________________________\n"
          ],
          "name": "stdout"
        }
      ]
    },
    {
      "cell_type": "code",
      "metadata": {
        "id": "iyKS7ZoQYgZ8"
      },
      "source": [
        ""
      ],
      "execution_count": null,
      "outputs": []
    }
  ]
}