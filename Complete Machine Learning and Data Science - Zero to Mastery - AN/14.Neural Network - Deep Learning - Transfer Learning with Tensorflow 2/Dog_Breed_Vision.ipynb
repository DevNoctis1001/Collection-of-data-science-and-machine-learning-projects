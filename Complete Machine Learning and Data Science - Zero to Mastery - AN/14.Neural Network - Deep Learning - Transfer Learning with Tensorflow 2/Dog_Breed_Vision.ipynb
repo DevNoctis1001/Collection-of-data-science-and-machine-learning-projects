{
  "nbformat": 4,
  "nbformat_minor": 0,
  "metadata": {
    "colab": {
      "name": "Dog Breed Vision.ipynb",
      "provenance": [],
      "collapsed_sections": []
    },
    "kernelspec": {
      "name": "python3",
      "display_name": "Python 3"
    },
    "accelerator": "GPU"
  },
  "cells": [
    {
      "cell_type": "markdown",
      "metadata": {
        "id": "3bvgdEZMQOmD"
      },
      "source": [
        ""
      ]
    },
    {
      "cell_type": "markdown",
      "metadata": {
        "id": "ozkL7_4HQQ7n"
      },
      "source": [
        "# 🐶 End to End - Multiclass Dog Breed Classifications\r\n",
        "\r\n",
        "This notebook builds an End-to-End Multiclass Dog Breed Classifier using Tensorflow 2.0 and Tensorflow Hub.\r\n",
        "\r\n",
        "## 1.Problem\r\n",
        "Identifying the breed of a dog given an image of a dog.\r\n",
        "\r\n",
        "\r\n",
        "## 2.Data\r\n",
        "[Dog Breed Identification - Kaggle Version](https://www.kaggle.com/c/dog-breed-identification/data)\r\n",
        "\r\n",
        "## 3.Evaluation\r\n",
        "\r\n",
        "- evaluated on `Multi Class Log Loss` between the predicted probability and the observed target.\r\n",
        "- The evaluation is the file with prediction probabilities for each dog breed of each test image.\r\n",
        "\r\n",
        "## 4.Features\r\n",
        "Some information about the data:\r\n",
        "* We're dealing with images (unstructured data) so it's probably best we use deep learning/transfer learning.\r\n",
        "* There are 120 breeds of dog (120 different classes).\r\n",
        "* There are about 10,000+ images in both Training and Test Set.\r\n",
        "\r\n"
      ]
    },
    {
      "cell_type": "markdown",
      "metadata": {
        "id": "GGtI5WdySuLw"
      },
      "source": [
        "# Setting up Data\r\n",
        "\r\n"
      ]
    },
    {
      "cell_type": "code",
      "metadata": {
        "id": "O9GYWcCYQPkt"
      },
      "source": [
        "# unzip the file\r\n",
        "# !unzip \"drive/MyDrive/Dog Vision/dog-breed-identification.zip\" -d \"drive/MyDrive/Dog Vision/\""
      ],
      "execution_count": 1,
      "outputs": []
    },
    {
      "cell_type": "markdown",
      "metadata": {
        "id": "W8jx_WxhLQF1"
      },
      "source": [
        "-----------"
      ]
    },
    {
      "cell_type": "markdown",
      "metadata": {
        "id": "6XxT-336Vuim"
      },
      "source": [
        "# Get our Workspace Ready"
      ]
    },
    {
      "cell_type": "code",
      "metadata": {
        "id": "fJOsTs39QK0F"
      },
      "source": [
        "# Import necessary tools\r\n",
        "import tensorflow as tf\r\n",
        "import tensorflow_hub as hub"
      ],
      "execution_count": 2,
      "outputs": []
    },
    {
      "cell_type": "code",
      "metadata": {
        "id": "E5zKYtKxQSKB",
        "colab": {
          "base_uri": "https://localhost:8080/"
        },
        "outputId": "cabaaab9-e65b-4a00-b13a-2da982331012"
      },
      "source": [
        "print(\"TF version: \", tf.__version__)\r\n",
        "print(\"Hub version: \", hub.__version__)\r\n",
        "\r\n",
        "# check for GPU availbility\r\n",
        "print(\"GPU\", 'available' if tf.config.list_physical_devices('GPU') else 'Not available.')"
      ],
      "execution_count": 3,
      "outputs": [
        {
          "output_type": "stream",
          "text": [
            "TF version:  2.4.0\n",
            "Hub version:  0.11.0\n",
            "GPU available\n"
          ],
          "name": "stdout"
        }
      ]
    },
    {
      "cell_type": "markdown",
      "metadata": {
        "id": "9tGN_h-cLWk7"
      },
      "source": [
        "--------"
      ]
    },
    {
      "cell_type": "markdown",
      "metadata": {
        "id": "Yj5brJ_tbiXP"
      },
      "source": [
        "# Getting our Data Ready (turning into Tensors)\r\n",
        "\r\n",
        "- With all machine learning model, our data needs to be in numerical format. Turning our images into Tensors (numerical representations)."
      ]
    },
    {
      "cell_type": "code",
      "metadata": {
        "id": "fq3H5VrUqCRB"
      },
      "source": [
        "import pandas as pd\r\n",
        "import numpy as np\r\n",
        "\r\n",
        "import matplotlib.pyplot as plt\r\n",
        "import seaborn as sns"
      ],
      "execution_count": 4,
      "outputs": []
    },
    {
      "cell_type": "markdown",
      "metadata": {
        "id": "9diF-ObGo4oV"
      },
      "source": [
        "## let's access our data and check out the labels.\r\n",
        "Unlike structured data, **unstructured data (images) have 2 parts for training data**.\r\n",
        "* data labels\r\n",
        "* data images themselves"
      ]
    },
    {
      "cell_type": "code",
      "metadata": {
        "colab": {
          "base_uri": "https://localhost:8080/"
        },
        "id": "-L7M7Oqdm0rq",
        "outputId": "f3d28ffe-8948-4c8d-e4d6-e494d4f9f42a"
      },
      "source": [
        "labels_csv = pd.read_csv('drive/My Drive/Dog Vision/labels.csv')\r\n",
        "\r\n",
        "print(labels_csv.describe())\r\n",
        "print(labels_csv.head())"
      ],
      "execution_count": 5,
      "outputs": [
        {
          "output_type": "stream",
          "text": [
            "                                      id               breed\n",
            "count                              10222               10222\n",
            "unique                             10222                 120\n",
            "top     9ae65ac25eebb9df589c09eaf01ea818  scottish_deerhound\n",
            "freq                                   1                 126\n",
            "                                 id             breed\n",
            "0  000bec180eb18c7604dcecc8fe0dba07       boston_bull\n",
            "1  001513dfcb2ffafc82cccf4d8bbaba97             dingo\n",
            "2  001cdf01b096e06d78e9e5112d419397          pekinese\n",
            "3  00214f311d5d2247d5dfe4fe24b2303d          bluetick\n",
            "4  0021f9ceb3235effd7fcde7f7538ed62  golden_retriever\n"
          ],
          "name": "stdout"
        }
      ]
    },
    {
      "cell_type": "code",
      "metadata": {
        "colab": {
          "base_uri": "https://localhost:8080/",
          "height": 204
        },
        "id": "hVe1O8e1e0v6",
        "outputId": "b0b3e9b1-7b98-4ede-afba-523ab8cf4b96"
      },
      "source": [
        "labels_csv.head()"
      ],
      "execution_count": 6,
      "outputs": [
        {
          "output_type": "execute_result",
          "data": {
            "text/html": [
              "<div>\n",
              "<style scoped>\n",
              "    .dataframe tbody tr th:only-of-type {\n",
              "        vertical-align: middle;\n",
              "    }\n",
              "\n",
              "    .dataframe tbody tr th {\n",
              "        vertical-align: top;\n",
              "    }\n",
              "\n",
              "    .dataframe thead th {\n",
              "        text-align: right;\n",
              "    }\n",
              "</style>\n",
              "<table border=\"1\" class=\"dataframe\">\n",
              "  <thead>\n",
              "    <tr style=\"text-align: right;\">\n",
              "      <th></th>\n",
              "      <th>id</th>\n",
              "      <th>breed</th>\n",
              "    </tr>\n",
              "  </thead>\n",
              "  <tbody>\n",
              "    <tr>\n",
              "      <th>0</th>\n",
              "      <td>000bec180eb18c7604dcecc8fe0dba07</td>\n",
              "      <td>boston_bull</td>\n",
              "    </tr>\n",
              "    <tr>\n",
              "      <th>1</th>\n",
              "      <td>001513dfcb2ffafc82cccf4d8bbaba97</td>\n",
              "      <td>dingo</td>\n",
              "    </tr>\n",
              "    <tr>\n",
              "      <th>2</th>\n",
              "      <td>001cdf01b096e06d78e9e5112d419397</td>\n",
              "      <td>pekinese</td>\n",
              "    </tr>\n",
              "    <tr>\n",
              "      <th>3</th>\n",
              "      <td>00214f311d5d2247d5dfe4fe24b2303d</td>\n",
              "      <td>bluetick</td>\n",
              "    </tr>\n",
              "    <tr>\n",
              "      <th>4</th>\n",
              "      <td>0021f9ceb3235effd7fcde7f7538ed62</td>\n",
              "      <td>golden_retriever</td>\n",
              "    </tr>\n",
              "  </tbody>\n",
              "</table>\n",
              "</div>"
            ],
            "text/plain": [
              "                                 id             breed\n",
              "0  000bec180eb18c7604dcecc8fe0dba07       boston_bull\n",
              "1  001513dfcb2ffafc82cccf4d8bbaba97             dingo\n",
              "2  001cdf01b096e06d78e9e5112d419397          pekinese\n",
              "3  00214f311d5d2247d5dfe4fe24b2303d          bluetick\n",
              "4  0021f9ceb3235effd7fcde7f7538ed62  golden_retriever"
            ]
          },
          "metadata": {
            "tags": []
          },
          "execution_count": 6
        }
      ]
    },
    {
      "cell_type": "markdown",
      "metadata": {
        "id": "97ubXpkypzyh"
      },
      "source": [
        "## How many images are for each breed?"
      ]
    },
    {
      "cell_type": "code",
      "metadata": {
        "colab": {
          "base_uri": "https://localhost:8080/"
        },
        "id": "t873xIIae0yf",
        "outputId": "85650a8f-ac80-4c0c-c99a-275d0b8c575c"
      },
      "source": [
        "labels_csv['breed'].value_counts()"
      ],
      "execution_count": 7,
      "outputs": [
        {
          "output_type": "execute_result",
          "data": {
            "text/plain": [
              "scottish_deerhound      126\n",
              "maltese_dog             117\n",
              "afghan_hound            116\n",
              "entlebucher             115\n",
              "bernese_mountain_dog    114\n",
              "                       ... \n",
              "golden_retriever         67\n",
              "brabancon_griffon        67\n",
              "komondor                 67\n",
              "eskimo_dog               66\n",
              "briard                   66\n",
              "Name: breed, Length: 120, dtype: int64"
            ]
          },
          "metadata": {
            "tags": []
          },
          "execution_count": 7
        }
      ]
    },
    {
      "cell_type": "code",
      "metadata": {
        "colab": {
          "base_uri": "https://localhost:8080/",
          "height": 733
        },
        "id": "IW6khc9MqRg1",
        "outputId": "acf9b6fa-9088-4cce-8c0e-6f09076194ca"
      },
      "source": [
        "# visualize the data\r\n",
        "plt.figure(figsize=(20,10))\r\n",
        "labels_csv['breed'].value_counts().plot(kind='bar');"
      ],
      "execution_count": 8,
      "outputs": [
        {
          "output_type": "display_data",
          "data": {
            "image/png": "[encoded data removed]",
            "text/plain": [
              "<Figure size 1440x720 with 1 Axes>"
            ]
          },
          "metadata": {
            "tags": [],
            "needs_background": "light"
          }
        }
      ]
    },
    {
      "cell_type": "code",
      "metadata": {
        "colab": {
          "base_uri": "https://localhost:8080/"
        },
        "id": "LaY4BkwvsBHU",
        "outputId": "f1ae0759-1dd2-494a-d8a2-d9d2a9e5ed91"
      },
      "source": [
        "# what is the median of number of dogs per breed\r\n",
        "labels_csv['breed'].value_counts().median()"
      ],
      "execution_count": 9,
      "outputs": [
        {
          "output_type": "execute_result",
          "data": {
            "text/plain": [
              "82.0"
            ]
          },
          "metadata": {
            "tags": []
          },
          "execution_count": 9
        }
      ]
    },
    {
      "cell_type": "markdown",
      "metadata": {
        "id": "sIOKf-JJsXfg"
      },
      "source": [
        "There are abou 82 dogs per dog breed."
      ]
    },
    {
      "cell_type": "markdown",
      "metadata": {
        "id": "4iaEj4WqtL9_"
      },
      "source": [
        "As per google recommendation, mininum images per class should be at least 10.\r\n",
        "\r\n",
        "https://cloud.google.com/vision/automl/object-detection/docs/prepare\r\n",
        "\r\n",
        "* `For each label you must have at least 10 images, each with at least one annotation`\r\n",
        "\r\n",
        "* `However, for model training purposes it's recommended you use about 1000 annotations per label. In general, the more images per label you have the better your model will perform.`\r\n"
      ]
    },
    {
      "cell_type": "code",
      "metadata": {
        "id": "XmXa0Y9ZtSxB"
      },
      "source": [
        "# let's explor an image\r\n",
        "from IPython.display import Image"
      ],
      "execution_count": 10,
      "outputs": []
    },
    {
      "cell_type": "code",
      "metadata": {
        "id": "W4_AzesVEgwH",
        "colab": {
          "base_uri": "https://localhost:8080/",
          "height": 392
        },
        "outputId": "f856ca63-a69d-4333-d1c8-48cb2a70e474"
      },
      "source": [
        "Image(data='/content/drive/MyDrive/Dog Vision/train/001513dfcb2ffafc82cccf4d8bbaba97.jpg')"
      ],
      "execution_count": 11,
      "outputs": [
        {
          "output_type": "execute_result",
          "data": {
            "image/jpeg": "[encoded data removed]",
            "text/plain": [
              "<IPython.core.display.Image object>"
            ]
          },
          "metadata": {
            "tags": []
          },
          "execution_count": 11
        }
      ]
    },
    {
      "cell_type": "markdown",
      "metadata": {
        "id": "mLMqWJgwJnIT"
      },
      "source": [
        "-----------"
      ]
    },
    {
      "cell_type": "markdown",
      "metadata": {
        "id": "NZ-zP_k5Ea15"
      },
      "source": [
        "## Getting Images and their labels\r\n",
        "\r\n",
        "let's get the list of all of our images file pathnames."
      ]
    },
    {
      "cell_type": "code",
      "metadata": {
        "id": "SJKQlvrnEgY3",
        "colab": {
          "base_uri": "https://localhost:8080/",
          "height": 111
        },
        "outputId": "f9642e5c-f67b-43d7-dada-96f9f1ec110a"
      },
      "source": [
        "labels_csv.head(2)"
      ],
      "execution_count": 12,
      "outputs": [
        {
          "output_type": "execute_result",
          "data": {
            "text/html": [
              "<div>\n",
              "<style scoped>\n",
              "    .dataframe tbody tr th:only-of-type {\n",
              "        vertical-align: middle;\n",
              "    }\n",
              "\n",
              "    .dataframe tbody tr th {\n",
              "        vertical-align: top;\n",
              "    }\n",
              "\n",
              "    .dataframe thead th {\n",
              "        text-align: right;\n",
              "    }\n",
              "</style>\n",
              "<table border=\"1\" class=\"dataframe\">\n",
              "  <thead>\n",
              "    <tr style=\"text-align: right;\">\n",
              "      <th></th>\n",
              "      <th>id</th>\n",
              "      <th>breed</th>\n",
              "    </tr>\n",
              "  </thead>\n",
              "  <tbody>\n",
              "    <tr>\n",
              "      <th>0</th>\n",
              "      <td>000bec180eb18c7604dcecc8fe0dba07</td>\n",
              "      <td>boston_bull</td>\n",
              "    </tr>\n",
              "    <tr>\n",
              "      <th>1</th>\n",
              "      <td>001513dfcb2ffafc82cccf4d8bbaba97</td>\n",
              "      <td>dingo</td>\n",
              "    </tr>\n",
              "  </tbody>\n",
              "</table>\n",
              "</div>"
            ],
            "text/plain": [
              "                                 id        breed\n",
              "0  000bec180eb18c7604dcecc8fe0dba07  boston_bull\n",
              "1  001513dfcb2ffafc82cccf4d8bbaba97        dingo"
            ]
          },
          "metadata": {
            "tags": []
          },
          "execution_count": 12
        }
      ]
    },
    {
      "cell_type": "code",
      "metadata": {
        "id": "FXg5O-DlG3hC",
        "colab": {
          "base_uri": "https://localhost:8080/"
        },
        "outputId": "1dcac98b-5780-4a86-d3e9-ec71f6d0038d"
      },
      "source": [
        "# create pathnames from image IDs\r\n",
        "folder_path = '/content/drive/MyDrive/Dog Vision/train/'\r\n",
        "file_extension = '.jpg'\r\n",
        "\r\n",
        "filenames = [folder_path+fname+file_extension for fname in labels_csv['id']]\r\n",
        "\r\n",
        "# check first 5 rows\r\n",
        "filenames[:5]"
      ],
      "execution_count": 13,
      "outputs": [
        {
          "output_type": "execute_result",
          "data": {
            "text/plain": [
              "['/content/drive/MyDrive/Dog Vision/train/000bec180eb18c7604dcecc8fe0dba07.jpg',\n",
              " '/content/drive/MyDrive/Dog Vision/train/001513dfcb2ffafc82cccf4d8bbaba97.jpg',\n",
              " '/content/drive/MyDrive/Dog Vision/train/001cdf01b096e06d78e9e5112d419397.jpg',\n",
              " '/content/drive/MyDrive/Dog Vision/train/00214f311d5d2247d5dfe4fe24b2303d.jpg',\n",
              " '/content/drive/MyDrive/Dog Vision/train/0021f9ceb3235effd7fcde7f7538ed62.jpg']"
            ]
          },
          "metadata": {
            "tags": []
          },
          "execution_count": 13
        }
      ]
    },
    {
      "cell_type": "code",
      "metadata": {
        "colab": {
          "base_uri": "https://localhost:8080/"
        },
        "id": "v_TUWgPgI5Ah",
        "outputId": "258121bd-11e8-469a-9e1c-a6a2a1d822f6"
      },
      "source": [
        " # check whether number of file name matched actual image file names\r\n",
        "import os\r\n",
        "if  len(os.listdir('/content/drive/MyDrive/Dog Vision/train/')) == len(filenames):\r\n",
        "  print('filenames folder has the same number of images as in train folder. You can proceed !!!')\r\n",
        "else:\r\n",
        "  print('filenames folder doe not have the same number of images as in train folder.')\r\n"
      ],
      "execution_count": 14,
      "outputs": [
        {
          "output_type": "stream",
          "text": [
            "filenames folder has the same number of images as in train folder. You can proceed !!!\n"
          ],
          "name": "stdout"
        }
      ]
    },
    {
      "cell_type": "code",
      "metadata": {
        "colab": {
          "base_uri": "https://localhost:8080/",
          "height": 617
        },
        "id": "GC35vVaFKIYG",
        "outputId": "bc275bcd-b196-4553-d94c-a3624608b270"
      },
      "source": [
        "# random check\r\n",
        "Image(filenames[9000])"
      ],
      "execution_count": 15,
      "outputs": [
        {
          "output_type": "execute_result",
          "data": {
            "image/jpeg": "[encoded data removed]",
            "text/plain": [
              "<IPython.core.display.Image object>"
            ]
          },
          "metadata": {
            "tags": []
          },
          "execution_count": 15
        }
      ]
    },
    {
      "cell_type": "code",
      "metadata": {
        "colab": {
          "base_uri": "https://localhost:8080/",
          "height": 36
        },
        "id": "zQPkoTEtK3Jp",
        "outputId": "570427ae-5859-4f24-a65a-3b114439fbf5"
      },
      "source": [
        "labels_csv['breed'][9000]"
      ],
      "execution_count": 16,
      "outputs": [
        {
          "output_type": "execute_result",
          "data": {
            "application/vnd.google.colaboratory.intrinsic+json": {
              "type": "string"
            },
            "text/plain": [
              "'tibetan_mastiff'"
            ]
          },
          "metadata": {
            "tags": []
          },
          "execution_count": 16
        }
      ]
    },
    {
      "cell_type": "markdown",
      "metadata": {
        "id": "PAPNyPTyLADC"
      },
      "source": [
        "-----------"
      ]
    },
    {
      "cell_type": "markdown",
      "metadata": {
        "id": "Qy_vRpXUR5WN"
      },
      "source": [
        "-------------\r\n",
        "\r\n",
        "# Truning Data Labels into Numbers"
      ]
    },
    {
      "cell_type": "markdown",
      "metadata": {
        "id": "oPuEt5zxR8L9"
      },
      "source": [
        "Since we've got our training image filepaths in a list, let's prepare our labels."
      ]
    },
    {
      "cell_type": "code",
      "metadata": {
        "colab": {
          "base_uri": "https://localhost:8080/"
        },
        "id": "GGIPz63pR871",
        "outputId": "2ccc4815-b610-47e8-b828-c4768c35af5f"
      },
      "source": [
        "labels = labels_csv['breed'].to_numpy()\r\n",
        "labels"
      ],
      "execution_count": 17,
      "outputs": [
        {
          "output_type": "execute_result",
          "data": {
            "text/plain": [
              "array(['boston_bull', 'dingo', 'pekinese', ..., 'airedale',\n",
              "       'miniature_pinscher', 'chesapeake_bay_retriever'], dtype=object)"
            ]
          },
          "metadata": {
            "tags": []
          },
          "execution_count": 17
        }
      ]
    },
    {
      "cell_type": "code",
      "metadata": {
        "colab": {
          "base_uri": "https://localhost:8080/"
        },
        "id": "oztSNFSMLJtn",
        "outputId": "d23367b2-55d9-4fcd-964a-8e8fea052d16"
      },
      "source": [
        "len(labels)"
      ],
      "execution_count": 18,
      "outputs": [
        {
          "output_type": "execute_result",
          "data": {
            "text/plain": [
              "10222"
            ]
          },
          "metadata": {
            "tags": []
          },
          "execution_count": 18
        }
      ]
    },
    {
      "cell_type": "markdown",
      "metadata": {
        "id": "W6rSdOubLS-3"
      },
      "source": [
        "## See if the number of labels match the number of filenames\r\n",
        "- checking lables against images in train folder"
      ]
    },
    {
      "cell_type": "code",
      "metadata": {
        "colab": {
          "base_uri": "https://localhost:8080/"
        },
        "id": "fGQUF6HKR3ss",
        "outputId": "0d84df0f-6a8e-4fce-8bcb-3f4c055898b8"
      },
      "source": [
        "if len(labels) == len(filenames):\r\n",
        "  print('Number of labels matches number of filenames')\r\n",
        "else:\r\n",
        "  print('Number of labels do not match number of filenames. Check data directories!')"
      ],
      "execution_count": 19,
      "outputs": [
        {
          "output_type": "stream",
          "text": [
            "Number of labels matches number of filenames\n"
          ],
          "name": "stdout"
        }
      ]
    },
    {
      "cell_type": "markdown",
      "metadata": {
        "id": "W79H1YSSh14b"
      },
      "source": [
        "## Find the unique label value counts"
      ]
    },
    {
      "cell_type": "code",
      "metadata": {
        "colab": {
          "base_uri": "https://localhost:8080/"
        },
        "id": "kYhBax5Pjjpc",
        "outputId": "b7b67d4c-b491-488e-d53d-4578951df85d"
      },
      "source": [
        "# find the unique label value counts\r\n",
        "unique_breeds = np.unique(labels)\r\n",
        "\r\n",
        "unique_breeds"
      ],
      "execution_count": 20,
      "outputs": [
        {
          "output_type": "execute_result",
          "data": {
            "text/plain": [
              "array(['affenpinscher', 'afghan_hound', 'african_hunting_dog', 'airedale',\n",
              "       'american_staffordshire_terrier', 'appenzeller',\n",
              "       'australian_terrier', 'basenji', 'basset', 'beagle',\n",
              "       'bedlington_terrier', 'bernese_mountain_dog',\n",
              "       'black-and-tan_coonhound', 'blenheim_spaniel', 'bloodhound',\n",
              "       'bluetick', 'border_collie', 'border_terrier', 'borzoi',\n",
              "       'boston_bull', 'bouvier_des_flandres', 'boxer',\n",
              "       'brabancon_griffon', 'briard', 'brittany_spaniel', 'bull_mastiff',\n",
              "       'cairn', 'cardigan', 'chesapeake_bay_retriever', 'chihuahua',\n",
              "       'chow', 'clumber', 'cocker_spaniel', 'collie',\n",
              "       'curly-coated_retriever', 'dandie_dinmont', 'dhole', 'dingo',\n",
              "       'doberman', 'english_foxhound', 'english_setter',\n",
              "       'english_springer', 'entlebucher', 'eskimo_dog',\n",
              "       'flat-coated_retriever', 'french_bulldog', 'german_shepherd',\n",
              "       'german_short-haired_pointer', 'giant_schnauzer',\n",
              "       'golden_retriever', 'gordon_setter', 'great_dane',\n",
              "       'great_pyrenees', 'greater_swiss_mountain_dog', 'groenendael',\n",
              "       'ibizan_hound', 'irish_setter', 'irish_terrier',\n",
              "       'irish_water_spaniel', 'irish_wolfhound', 'italian_greyhound',\n",
              "       'japanese_spaniel', 'keeshond', 'kelpie', 'kerry_blue_terrier',\n",
              "       'komondor', 'kuvasz', 'labrador_retriever', 'lakeland_terrier',\n",
              "       'leonberg', 'lhasa', 'malamute', 'malinois', 'maltese_dog',\n",
              "       'mexican_hairless', 'miniature_pinscher', 'miniature_poodle',\n",
              "       'miniature_schnauzer', 'newfoundland', 'norfolk_terrier',\n",
              "       'norwegian_elkhound', 'norwich_terrier', 'old_english_sheepdog',\n",
              "       'otterhound', 'papillon', 'pekinese', 'pembroke', 'pomeranian',\n",
              "       'pug', 'redbone', 'rhodesian_ridgeback', 'rottweiler',\n",
              "       'saint_bernard', 'saluki', 'samoyed', 'schipperke',\n",
              "       'scotch_terrier', 'scottish_deerhound', 'sealyham_terrier',\n",
              "       'shetland_sheepdog', 'shih-tzu', 'siberian_husky', 'silky_terrier',\n",
              "       'soft-coated_wheaten_terrier', 'staffordshire_bullterrier',\n",
              "       'standard_poodle', 'standard_schnauzer', 'sussex_spaniel',\n",
              "       'tibetan_mastiff', 'tibetan_terrier', 'toy_poodle', 'toy_terrier',\n",
              "       'vizsla', 'walker_hound', 'weimaraner', 'welsh_springer_spaniel',\n",
              "       'west_highland_white_terrier', 'whippet',\n",
              "       'wire-haired_fox_terrier', 'yorkshire_terrier'], dtype=object)"
            ]
          },
          "metadata": {
            "tags": []
          },
          "execution_count": 20
        }
      ]
    },
    {
      "cell_type": "code",
      "metadata": {
        "colab": {
          "base_uri": "https://localhost:8080/"
        },
        "id": "s1KT57VEj4MG",
        "outputId": "e0b35a56-4148-4581-e016-1035364d76b1"
      },
      "source": [
        "len(unique_breeds)"
      ],
      "execution_count": 21,
      "outputs": [
        {
          "output_type": "execute_result",
          "data": {
            "text/plain": [
              "120"
            ]
          },
          "metadata": {
            "tags": []
          },
          "execution_count": 21
        }
      ]
    },
    {
      "cell_type": "code",
      "metadata": {
        "colab": {
          "base_uri": "https://localhost:8080/"
        },
        "id": "xgmnw6KwkLOT",
        "outputId": "598550e7-4089-4bdc-dfbf-d0979be280bd"
      },
      "source": [
        "# Example: turn single label into an arrary of booelans \r\n",
        "print(labels[0])\r\n",
        "\r\n",
        "labels[0] == unique_breeds\r\n",
        "\r\n",
        "# we can see that for location where the value is boston_bull, it returns True."
      ],
      "execution_count": 22,
      "outputs": [
        {
          "output_type": "stream",
          "text": [
            "boston_bull\n"
          ],
          "name": "stdout"
        },
        {
          "output_type": "execute_result",
          "data": {
            "text/plain": [
              "array([False, False, False, False, False, False, False, False, False,\n",
              "       False, False, False, False, False, False, False, False, False,\n",
              "       False,  True, False, False, False, False, False, False, False,\n",
              "       False, False, False, False, False, False, False, False, False,\n",
              "       False, False, False, False, False, False, False, False, False,\n",
              "       False, False, False, False, False, False, False, False, False,\n",
              "       False, False, False, False, False, False, False, False, False,\n",
              "       False, False, False, False, False, False, False, False, False,\n",
              "       False, False, False, False, False, False, False, False, False,\n",
              "       False, False, False, False, False, False, False, False, False,\n",
              "       False, False, False, False, False, False, False, False, False,\n",
              "       False, False, False, False, False, False, False, False, False,\n",
              "       False, False, False, False, False, False, False, False, False,\n",
              "       False, False, False])"
            ]
          },
          "metadata": {
            "tags": []
          },
          "execution_count": 22
        }
      ]
    },
    {
      "cell_type": "markdown",
      "metadata": {
        "id": "g2BGvjSqkLk2"
      },
      "source": [
        "## Turn every data labels into a boolean array"
      ]
    },
    {
      "cell_type": "code",
      "metadata": {
        "colab": {
          "base_uri": "https://localhost:8080/"
        },
        "id": "5h1Fb9v7k5PS",
        "outputId": "5ecfc838-e529-402e-fe54-8bee361fa9a4"
      },
      "source": [
        "boolean_labels = [label == unique_breeds for label in labels]\r\n",
        "boolean_labels[:2]\r\n",
        "\r\n",
        "# we can see that for 120 unique breed labels, every breed has it own boolean arary with Flag is True  where the value for that breed appears."
      ],
      "execution_count": 23,
      "outputs": [
        {
          "output_type": "execute_result",
          "data": {
            "text/plain": [
              "[array([False, False, False, False, False, False, False, False, False,\n",
              "        False, False, False, False, False, False, False, False, False,\n",
              "        False,  True, False, False, False, False, False, False, False,\n",
              "        False, False, False, False, False, False, False, False, False,\n",
              "        False, False, False, False, False, False, False, False, False,\n",
              "        False, False, False, False, False, False, False, False, False,\n",
              "        False, False, False, False, False, False, False, False, False,\n",
              "        False, False, False, False, False, False, False, False, False,\n",
              "        False, False, False, False, False, False, False, False, False,\n",
              "        False, False, False, False, False, False, False, False, False,\n",
              "        False, False, False, False, False, False, False, False, False,\n",
              "        False, False, False, False, False, False, False, False, False,\n",
              "        False, False, False, False, False, False, False, False, False,\n",
              "        False, False, False]),\n",
              " array([False, False, False, False, False, False, False, False, False,\n",
              "        False, False, False, False, False, False, False, False, False,\n",
              "        False, False, False, False, False, False, False, False, False,\n",
              "        False, False, False, False, False, False, False, False, False,\n",
              "        False,  True, False, False, False, False, False, False, False,\n",
              "        False, False, False, False, False, False, False, False, False,\n",
              "        False, False, False, False, False, False, False, False, False,\n",
              "        False, False, False, False, False, False, False, False, False,\n",
              "        False, False, False, False, False, False, False, False, False,\n",
              "        False, False, False, False, False, False, False, False, False,\n",
              "        False, False, False, False, False, False, False, False, False,\n",
              "        False, False, False, False, False, False, False, False, False,\n",
              "        False, False, False, False, False, False, False, False, False,\n",
              "        False, False, False])]"
            ]
          },
          "metadata": {
            "tags": []
          },
          "execution_count": 23
        }
      ]
    },
    {
      "cell_type": "code",
      "metadata": {
        "colab": {
          "base_uri": "https://localhost:8080/"
        },
        "id": "fJMv5N5XlHhB",
        "outputId": "7af22b5c-6aa1-4099-ea93-db356bd56628"
      },
      "source": [
        "len(boolean_labels)"
      ],
      "execution_count": 39,
      "outputs": [
        {
          "output_type": "execute_result",
          "data": {
            "text/plain": [
              "10222"
            ]
          },
          "metadata": {
            "tags": []
          },
          "execution_count": 39
        }
      ]
    },
    {
      "cell_type": "markdown",
      "metadata": {
        "id": "ZvFCElyGlPCU"
      },
      "source": [
        "## Turning boolean array into Integers"
      ]
    },
    {
      "cell_type": "code",
      "metadata": {
        "colab": {
          "base_uri": "https://localhost:8080/"
        },
        "id": "FWJv9frbppgW",
        "outputId": "10259ee7-6309-42a7-b04c-e72b086e3b41"
      },
      "source": [
        "# Example: turning boolean array into integers\r\n",
        "\r\n",
        "print(labels[0]) # original label\r\n",
        "print(np.where(labels[0] == unique_breeds)) # index where this specific label occurs in unique_breeds array\r\n",
        "print(boolean_labels[0].argmax()) # index where label occurs in boolean array\r\n",
        "print(boolean_labels[0].astype(int)) # there will be 1 where the sample label occurs "
      ],
      "execution_count": 25,
      "outputs": [
        {
          "output_type": "stream",
          "text": [
            "boston_bull\n",
            "(array([19]),)\n",
            "19\n",
            "[0 0 0 0 0 0 0 0 0 0 0 0 0 0 0 0 0 0 0 1 0 0 0 0 0 0 0 0 0 0 0 0 0 0 0 0 0\n",
            " 0 0 0 0 0 0 0 0 0 0 0 0 0 0 0 0 0 0 0 0 0 0 0 0 0 0 0 0 0 0 0 0 0 0 0 0 0\n",
            " 0 0 0 0 0 0 0 0 0 0 0 0 0 0 0 0 0 0 0 0 0 0 0 0 0 0 0 0 0 0 0 0 0 0 0 0 0\n",
            " 0 0 0 0 0 0 0 0 0]\n"
          ],
          "name": "stdout"
        }
      ]
    },
    {
      "cell_type": "code",
      "metadata": {
        "colab": {
          "base_uri": "https://localhost:8080/"
        },
        "id": "XRl716gaql2P",
        "outputId": "f74c9cd7-9a0a-4316-e4fa-9e0507f415b4"
      },
      "source": [
        "print(labels[2]) # original label\r\n",
        "print(np.where(labels[2] == unique_breeds)) # index where this specific label occurs in unique_breeds array\r\n",
        "print(boolean_labels[2].argmax()) # index where label occurs in boolean array\r\n",
        "print(boolean_labels[2].astype(int)) # there will be 1 where the sample label occurs "
      ],
      "execution_count": 26,
      "outputs": [
        {
          "output_type": "stream",
          "text": [
            "pekinese\n",
            "(array([85]),)\n",
            "85\n",
            "[0 0 0 0 0 0 0 0 0 0 0 0 0 0 0 0 0 0 0 0 0 0 0 0 0 0 0 0 0 0 0 0 0 0 0 0 0\n",
            " 0 0 0 0 0 0 0 0 0 0 0 0 0 0 0 0 0 0 0 0 0 0 0 0 0 0 0 0 0 0 0 0 0 0 0 0 0\n",
            " 0 0 0 0 0 0 0 0 0 0 0 1 0 0 0 0 0 0 0 0 0 0 0 0 0 0 0 0 0 0 0 0 0 0 0 0 0\n",
            " 0 0 0 0 0 0 0 0 0]\n"
          ],
          "name": "stdout"
        }
      ]
    },
    {
      "cell_type": "markdown",
      "metadata": {
        "id": "EcNVvHECq0oR"
      },
      "source": [
        "-------\r\n"
      ]
    },
    {
      "cell_type": "markdown",
      "metadata": {
        "id": "VjKPQKG0rXNG"
      },
      "source": [
        "## Creating our own validation set\r\n",
        " Since the dataset form Kaggle doesn't come with validation set, we are going to create our own one."
      ]
    },
    {
      "cell_type": "markdown",
      "metadata": {
        "id": "lEQj4U_8rw7i"
      },
      "source": [
        "### Set up X & y variables\r\n"
      ]
    },
    {
      "cell_type": "code",
      "metadata": {
        "id": "DGNu3IxVsV34"
      },
      "source": [
        "X = filenames\r\n",
        "y = boolean_labels"
      ],
      "execution_count": 27,
      "outputs": []
    },
    {
      "cell_type": "markdown",
      "metadata": {
        "id": "a_Ok6uijscOt"
      },
      "source": [
        "As our dataset is quite large (10,222), we want to start expirement with a little chuck first (1,000 images) and increase as needed."
      ]
    },
    {
      "cell_type": "markdown",
      "metadata": {
        "id": "P95d-fEUs2hq"
      },
      "source": [
        "### Set number of images to use for experimenting"
      ]
    },
    {
      "cell_type": "code",
      "metadata": {
        "id": "7uCKj4nFtbuw"
      },
      "source": [
        "NUM_IMAGES = 1000 #@param {type:'slider', min:1000, max:10222, step:1000}"
      ],
      "execution_count": 28,
      "outputs": []
    },
    {
      "cell_type": "markdown",
      "metadata": {
        "id": "vYEp-4F8tpGx"
      },
      "source": [
        "### Split Data into Train and Validation sets"
      ]
    },
    {
      "cell_type": "code",
      "metadata": {
        "id": "zZv9PLo4t_Uu"
      },
      "source": [
        "from sklearn.model_selection import train_test_split\r\n",
        "\r\n",
        "# split them into training and validation of total size NUM_IMAGES"
      ],
      "execution_count": 29,
      "outputs": []
    },
    {
      "cell_type": "code",
      "metadata": {
        "colab": {
          "base_uri": "https://localhost:8080/"
        },
        "id": "EuxKj-MwuJ0s",
        "outputId": "e72719ca-0bbf-4126-aa2b-0cc041380a95"
      },
      "source": [
        "X_train, X_val, y_train, y_val = train_test_split(X[:NUM_IMAGES], \r\n",
        "                                                                        y[:NUM_IMAGES], \r\n",
        "                                                                        test_size=0.2, \r\n",
        "                                                                        random_state=42)\r\n",
        "\r\n",
        "len(X_train), len(X_val), len(y_train), len(y_val)"
      ],
      "execution_count": 30,
      "outputs": [
        {
          "output_type": "execute_result",
          "data": {
            "text/plain": [
              "(800, 200, 800, 200)"
            ]
          },
          "metadata": {
            "tags": []
          },
          "execution_count": 30
        }
      ]
    },
    {
      "cell_type": "code",
      "metadata": {
        "colab": {
          "base_uri": "https://localhost:8080/"
        },
        "id": "86Pw_8fQuoQf",
        "outputId": "02b364f4-1c87-4042-b1f3-a51c2fb8abe3"
      },
      "source": [
        "# let's check quick on those train and test data\r\n",
        "\r\n",
        "X_train[:2], y_train[:2]"
      ],
      "execution_count": 31,
      "outputs": [
        {
          "output_type": "execute_result",
          "data": {
            "text/plain": [
              "(['/content/drive/MyDrive/Dog Vision/train/00bee065dcec471f26394855c5c2f3de.jpg',\n",
              "  '/content/drive/MyDrive/Dog Vision/train/0d2f9e12a2611d911d91a339074c8154.jpg'],\n",
              " [array([False, False, False, False, False, False, False, False, False,\n",
              "         False, False, False, False, False, False, False, False, False,\n",
              "         False, False, False, False, False, False, False, False,  True,\n",
              "         False, False, False, False, False, False, False, False, False,\n",
              "         False, False, False, False, False, False, False, False, False,\n",
              "         False, False, False, False, False, False, False, False, False,\n",
              "         False, False, False, False, False, False, False, False, False,\n",
              "         False, False, False, False, False, False, False, False, False,\n",
              "         False, False, False, False, False, False, False, False, False,\n",
              "         False, False, False, False, False, False, False, False, False,\n",
              "         False, False, False, False, False, False, False, False, False,\n",
              "         False, False, False, False, False, False, False, False, False,\n",
              "         False, False, False, False, False, False, False, False, False,\n",
              "         False, False, False]),\n",
              "  array([False, False, False, False, False, False, False, False, False,\n",
              "         False, False, False, False, False, False, False, False, False,\n",
              "         False, False,  True, False, False, False, False, False, False,\n",
              "         False, False, False, False, False, False, False, False, False,\n",
              "         False, False, False, False, False, False, False, False, False,\n",
              "         False, False, False, False, False, False, False, False, False,\n",
              "         False, False, False, False, False, False, False, False, False,\n",
              "         False, False, False, False, False, False, False, False, False,\n",
              "         False, False, False, False, False, False, False, False, False,\n",
              "         False, False, False, False, False, False, False, False, False,\n",
              "         False, False, False, False, False, False, False, False, False,\n",
              "         False, False, False, False, False, False, False, False, False,\n",
              "         False, False, False, False, False, False, False, False, False,\n",
              "         False, False, False])])"
            ]
          },
          "metadata": {
            "tags": []
          },
          "execution_count": 31
        }
      ]
    },
    {
      "cell_type": "markdown",
      "metadata": {
        "id": "BH5lDQIcu66l"
      },
      "source": [
        "----------"
      ]
    },
    {
      "cell_type": "markdown",
      "metadata": {
        "id": "M6_R5pmzu9jT"
      },
      "source": [
        "# Preprocessing Images (turning images into Tensors)\r\n",
        "\r\n",
        "To preprocess our images into Tensors, we're going to write a function which does the following things:\r\n",
        "\r\n",
        "1. Take an image filepath as input\r\n",
        "2. Use Tensorflow to read the file and save it to variable, `image`\r\n",
        "3. Turn our `image` (jpg file) into Tensors\r\n",
        "4. Normalize our image (convert color channels from 0-255) to 0-1\r\n",
        "5. Resize the `image` to be a shape of (224, 224)\r\n",
        "6. Return the modified `image`\r\n",
        "\r\n",
        "[Load data - image Documentation](https://www.tensorflow.org/tutorials/load_data/images)\r\n",
        "\r\n",
        "[Build TensorFlow input pipelines](https://www.tensorflow.org/guide/data)"
      ]
    },
    {
      "cell_type": "markdown",
      "metadata": {
        "id": "BK7XlhbIyb2o"
      },
      "source": [
        "### Example: Convert an image into Numpy array"
      ]
    },
    {
      "cell_type": "code",
      "metadata": {
        "colab": {
          "base_uri": "https://localhost:8080/"
        },
        "id": "blULAYhY1M9Q",
        "outputId": "e87de9b5-16ca-49c7-dbd8-6ef9e1439e8e"
      },
      "source": [
        "from matplotlib.image import imread\r\n",
        "\r\n",
        "image = imread(filenames[42])  # just get a random image which is located in index 42\r\n",
        "image.shape"
      ],
      "execution_count": 32,
      "outputs": [
        {
          "output_type": "execute_result",
          "data": {
            "text/plain": [
              "(257, 350, 3)"
            ]
          },
          "metadata": {
            "tags": []
          },
          "execution_count": 32
        }
      ]
    },
    {
      "cell_type": "markdown",
      "metadata": {
        "id": "r6WCdmJf1d7L"
      },
      "source": [
        "We can see that when we converted image into numpy array, it is 3D array. \r\n",
        "* height\r\n",
        "* width\r\n",
        "* color channel (RGB) with ranges from 0 to 255 value"
      ]
    },
    {
      "cell_type": "code",
      "metadata": {
        "colab": {
          "base_uri": "https://localhost:8080/"
        },
        "id": "Ld8CIdk_1qGL",
        "outputId": "df31901e-c63f-4706-92d9-2dd691410e7a"
      },
      "source": [
        "image.max()"
      ],
      "execution_count": 33,
      "outputs": [
        {
          "output_type": "execute_result",
          "data": {
            "text/plain": [
              "255"
            ]
          },
          "metadata": {
            "tags": []
          },
          "execution_count": 33
        }
      ]
    },
    {
      "cell_type": "code",
      "metadata": {
        "colab": {
          "base_uri": "https://localhost:8080/"
        },
        "id": "TjWFVG9w19cc",
        "outputId": "0abdd48e-5b1f-45d5-afd2-55cc224a8de5"
      },
      "source": [
        "image.min()"
      ],
      "execution_count": 34,
      "outputs": [
        {
          "output_type": "execute_result",
          "data": {
            "text/plain": [
              "0"
            ]
          },
          "metadata": {
            "tags": []
          },
          "execution_count": 34
        }
      ]
    },
    {
      "cell_type": "code",
      "metadata": {
        "colab": {
          "base_uri": "https://localhost:8080/"
        },
        "id": "jqyY6ZXj1pMn",
        "outputId": "7290a1f6-e7fc-41f7-dd33-439159a80390"
      },
      "source": [
        "image[:2]"
      ],
      "execution_count": 35,
      "outputs": [
        {
          "output_type": "execute_result",
          "data": {
            "text/plain": [
              "array([[[ 89, 137,  87],\n",
              "        [ 76, 124,  74],\n",
              "        [ 63, 111,  59],\n",
              "        ...,\n",
              "        [ 76, 134,  86],\n",
              "        [ 76, 134,  86],\n",
              "        [ 76, 134,  86]],\n",
              "\n",
              "       [[ 72, 119,  73],\n",
              "        [ 67, 114,  68],\n",
              "        [ 63, 111,  63],\n",
              "        ...,\n",
              "        [ 75, 131,  84],\n",
              "        [ 74, 132,  84],\n",
              "        [ 74, 131,  86]]], dtype=uint8)"
            ]
          },
          "metadata": {
            "tags": []
          },
          "execution_count": 35
        }
      ]
    },
    {
      "cell_type": "markdown",
      "metadata": {
        "id": "LDv09YsR1-G-"
      },
      "source": [
        "### Convert Numpy arrary into Tensors\r\n",
        "* Tensors are very much similar to Numpy array. We can see in below that now image is converted into Tensor object with additional parameters avaliable.\r\n",
        "\r\n",
        "* Tensors are able to run on GPU, making them a lot faster to process to find patterns in them.\r\n",
        "\r\n",
        "* we can simply convert to Tensor object by using `tf.constant()`\r\n"
      ]
    },
    {
      "cell_type": "code",
      "metadata": {
        "colab": {
          "base_uri": "https://localhost:8080/"
        },
        "id": "1R8vEbJU2M6k",
        "outputId": "ce72102a-2082-406f-8950-9b4604d5cb19"
      },
      "source": [
        "tf.constant(image)"
      ],
      "execution_count": 36,
      "outputs": [
        {
          "output_type": "execute_result",
          "data": {
            "text/plain": [
              "<tf.Tensor: shape=(257, 350, 3), dtype=uint8, numpy=\n",
              "array([[[ 89, 137,  87],\n",
              "        [ 76, 124,  74],\n",
              "        [ 63, 111,  59],\n",
              "        ...,\n",
              "        [ 76, 134,  86],\n",
              "        [ 76, 134,  86],\n",
              "        [ 76, 134,  86]],\n",
              "\n",
              "       [[ 72, 119,  73],\n",
              "        [ 67, 114,  68],\n",
              "        [ 63, 111,  63],\n",
              "        ...,\n",
              "        [ 75, 131,  84],\n",
              "        [ 74, 132,  84],\n",
              "        [ 74, 131,  86]],\n",
              "\n",
              "       [[ 56, 104,  66],\n",
              "        [ 58, 106,  66],\n",
              "        [ 64, 112,  72],\n",
              "        ...,\n",
              "        [ 71, 127,  82],\n",
              "        [ 73, 129,  84],\n",
              "        [ 73, 130,  85]],\n",
              "\n",
              "       ...,\n",
              "\n",
              "       [[  2,  11,  10],\n",
              "        [  5,  14,  13],\n",
              "        [  6,  15,  14],\n",
              "        ...,\n",
              "        [120, 113,  67],\n",
              "        [126, 118,  72],\n",
              "        [122, 114,  67]],\n",
              "\n",
              "       [[  0,   4,   6],\n",
              "        [  0,   9,   8],\n",
              "        [  1,  10,   9],\n",
              "        ...,\n",
              "        [105,  98,  52],\n",
              "        [111, 104,  58],\n",
              "        [111, 103,  56]],\n",
              "\n",
              "       [[ 18,  16,  37],\n",
              "        [ 18,  18,  28],\n",
              "        [ 17,  20,  11],\n",
              "        ...,\n",
              "        [101,  92,  53],\n",
              "        [ 97,  88,  49],\n",
              "        [120, 111,  72]]], dtype=uint8)>"
            ]
          },
          "metadata": {
            "tags": []
          },
          "execution_count": 36
        }
      ]
    },
    {
      "cell_type": "markdown",
      "metadata": {
        "id": "AtRIdOYp2PWk"
      },
      "source": [
        "## Preprocessing Image Function\r\n",
        "\r\n",
        "Now we have seen what an image looks like as a Tensor, let's make a function to preprocess them.\r\n",
        "\r\n",
        "1. Take an image filepath as input\r\n",
        "2. Use Tensorflow to read the file and save it to variable, `image`\r\n",
        "3. Turn our `image` (jpg file) into Tensors\r\n",
        "4. Normalize our image (convert color channels from 0-255) to 0-1\r\n",
        "5. Resize the `image` to be a shape of (224, 224)\r\n",
        "6. Return the modified `image`"
      ]
    },
    {
      "cell_type": "code",
      "metadata": {
        "id": "9qKQopea8YvI"
      },
      "source": [
        "# define desired image size\r\n",
        "IMG_SIZE = 224\r\n",
        "\r\n",
        "# create function for preprocessing image\r\n",
        "def process_image(img_path, img_size=IMG_SIZE):\r\n",
        "  \"\"\"\r\n",
        "  Takes an image form image path with desired Image size,  and turns the image into a Tensor.\r\n",
        "  \"\"\"\r\n",
        "  # Read an image file\r\n",
        "  image = tf.io.read_file(img_path)\r\n",
        "\r\n",
        "  # Turn jpeg image into numerical tensor with RGB channel\r\n",
        "  image = tf.image.decode_jpeg(image, channels=3)\r\n",
        "\r\n",
        "  # Convert the color channels from 0-255 to 0-1 value (Normalize)\r\n",
        "  image = tf.image.convert_image_dtype(image, tf.float32)\r\n",
        "\r\n",
        "  # Reize the image to our desired size (224, 224)\r\n",
        "  image = tf.image.resize(image, size=[img_size, img_size])\r\n",
        "\r\n",
        "  # return the modified object\r\n",
        "  return image"
      ],
      "execution_count": 37,
      "outputs": []
    },
    {
      "cell_type": "markdown",
      "metadata": {
        "id": "l50UXGx7BkTX"
      },
      "source": [
        "# Turning Data into Batches\r\n",
        "\r\n",
        "Why turn our data into batches?\r\n",
        "\r\n",
        "- let's say you are processing 10,000+images in one go, they all might not fit into memory. That's why we want to process by batch.\r\n",
        "- we can adjust batch size if needed.\r\n",
        "- **Best Batch Size: 32 images**\r\n",
        "- In order to use Tensorflow effectively, we need our data in the form of Tensor tuples which look like this: **(image tensor, label)**. This means we are tagging a label (what our model thinks about this specific type of image) and the image itself together.\r\n",
        "\r\n"
      ]
    },
    {
      "cell_type": "markdown",
      "metadata": {
        "id": "JmvIx6TnpDu_"
      },
      "source": [
        "### Create a simple function to return a tuple (image, label)"
      ]
    },
    {
      "cell_type": "code",
      "metadata": {
        "id": "A6DBjghVJg6y"
      },
      "source": [
        "# create a simple function to return a tuple (image, label)\r\n",
        "def get_image_label(img_path, label):\r\n",
        "  \"\"\"\r\n",
        "  Takes an image file path name and associated label. \r\n",
        "  Preprocess the image and returns  a tuple of (image, label).\r\n",
        "  \"\"\"\r\n",
        "  image = process_image(img_path)\r\n",
        "  return image, label"
      ],
      "execution_count": null,
      "outputs": []
    },
    {
      "cell_type": "code",
      "metadata": {
        "id": "FP_MEpJDLWaK",
        "colab": {
          "base_uri": "https://localhost:8080/"
        },
        "outputId": "02b79e8a-3e10-4a77-a076-f3fa739361db"
      },
      "source": [
        "# demo of above function line\r\n",
        "# we can see that both image and label are in tensor objects.\r\n",
        "(process_image(filenames[42]), tf.constant(labels[42]))"
      ],
      "execution_count": 45,
      "outputs": [
        {
          "output_type": "execute_result",
          "data": {
            "text/plain": [
              "(<tf.Tensor: shape=(224, 224, 3), dtype=float32, numpy=\n",
              " array([[[0.3264178 , 0.5222886 , 0.3232816 ],\n",
              "         [0.2537167 , 0.44366494, 0.24117757],\n",
              "         [0.25699762, 0.4467087 , 0.23893751],\n",
              "         ...,\n",
              "         [0.29325107, 0.5189916 , 0.3215547 ],\n",
              "         [0.29721776, 0.52466875, 0.33030328],\n",
              "         [0.2948505 , 0.5223015 , 0.33406618]],\n",
              " \n",
              "        [[0.25903144, 0.4537807 , 0.27294815],\n",
              "         [0.24375686, 0.4407019 , 0.2554778 ],\n",
              "         [0.2838985 , 0.47213382, 0.28298813],\n",
              "         ...,\n",
              "         [0.2785345 , 0.5027992 , 0.31004712],\n",
              "         [0.28428748, 0.5108719 , 0.32523635],\n",
              "         [0.28821915, 0.5148036 , 0.32916805]],\n",
              " \n",
              "        [[0.20941195, 0.40692952, 0.25792548],\n",
              "         [0.24045378, 0.43900946, 0.2868911 ],\n",
              "         [0.29001117, 0.47937486, 0.32247734],\n",
              "         ...,\n",
              "         [0.26074055, 0.48414773, 0.30125174],\n",
              "         [0.27101526, 0.49454468, 0.32096273],\n",
              "         [0.27939945, 0.5029289 , 0.32934693]],\n",
              " \n",
              "        ...,\n",
              " \n",
              "        [[0.00634795, 0.03442048, 0.0258106 ],\n",
              "         [0.01408936, 0.04459917, 0.0301715 ],\n",
              "         [0.01385712, 0.04856448, 0.02839671],\n",
              "         ...,\n",
              "         [0.4220516 , 0.39761978, 0.21622123],\n",
              "         [0.47932503, 0.45370543, 0.2696505 ],\n",
              "         [0.48181024, 0.45828083, 0.27004552]],\n",
              " \n",
              "        [[0.00222061, 0.02262166, 0.03176915],\n",
              "         [0.01008397, 0.03669046, 0.02473482],\n",
              "         [0.00608852, 0.03890046, 0.01207283],\n",
              "         ...,\n",
              "         [0.36070833, 0.33803678, 0.16216145],\n",
              "         [0.42499566, 0.3976801 , 0.21701711],\n",
              "         [0.4405433 , 0.4139589 , 0.23183356]],\n",
              " \n",
              "        [[0.05608025, 0.06760229, 0.10401428],\n",
              "         [0.05441074, 0.07435255, 0.05428263],\n",
              "         [0.04734282, 0.07581793, 0.02060942],\n",
              "         ...,\n",
              "         [0.3397559 , 0.31265694, 0.14725602],\n",
              "         [0.387725  , 0.360274  , 0.18714729],\n",
              "         [0.43941984, 0.41196886, 0.23884216]]], dtype=float32)>,\n",
              " <tf.Tensor: shape=(), dtype=string, numpy=b'dhole'>)"
            ]
          },
          "metadata": {
            "tags": []
          },
          "execution_count": 45
        }
      ]
    },
    {
      "cell_type": "markdown",
      "metadata": {
        "id": "xJl238dlkKy_"
      },
      "source": [
        "### Looping through X, y turning into Tensors in Batches\r\n",
        "\r\n",
        "Now we've got a way to turn our data into tuples of Tensors in the form : `(image, label)`, let's make a function to turn all of our data (`X` & `y`) into batches.\r\n",
        "\r\n",
        "[why we use batch size of 32](https://twitter.com/ylecun/status/989610208497360896?s=20)"
      ]
    },
    {
      "cell_type": "code",
      "metadata": {
        "id": "rsLYinNRkLlI"
      },
      "source": [
        "# Define the batch size\r\n",
        "BATCH_SIZE = 32\r\n",
        "\r\n",
        "# Create a function to turn data into batches\r\n",
        "def create_data_batches(X, y=None, batch_size=BATCH_SIZE, valid_data=False, test_data=False):\r\n",
        "  \"\"\"\r\n",
        "  Creates batches of data out of image (X) and label (y) pairs.\r\n",
        "  Shuffle the data if it is training data, but doesn't shuffle if it is validation data.\r\n",
        "  Also accepts test data as input (no labels).\r\n",
        "  \"\"\"\r\n",
        "  # if it is a test set, we probably don't have labels\r\n",
        "  if test_data:\r\n",
        "    print('Creating test data batches...')\r\n",
        "    data = tf.data.Dataset.from_tensor_slices(tf.constant(X)) # only filepaths (no labels)\r\n",
        "    data_batch = data.map(process_image).batch(batch_size)\r\n",
        "    return data_batch\r\n",
        "\r\n",
        "  # if it is validation set, we don't need to shuffle it.\r\n",
        "  elif valid_data:\r\n",
        "    print('Creating validation data batches...')\r\n",
        "    data = tf.data.Dataset.from_tensor_slices((tf.constant(X),\r\n",
        "                                                                      tf.constant(y)))  # labels\r\n",
        "    data_batch = data.map(get_image_label).batch(batch_size)\r\n",
        "    return data_batch\r\n",
        "\r\n",
        "  # if it is training set, we want to shuffle it.\r\n",
        "  else:\r\n",
        "    print('Creating training data batches...')\r\n",
        "\r\n",
        "    # Turn filepaths and labels into Tensors\r\n",
        "    data = tf.data.Dataset.from_tensor_slices((tf.constant(X),\r\n",
        "                                                                      tf.constant(y)))\r\n",
        "    \r\n",
        "    # Shuffling pathnames and labels\r\n",
        "    # we will do shufffling before image processing, because it is faster to do it first than doing it after image processing\r\n",
        "    data = data.shuffle(buffer_size=len(X))\r\n",
        "\r\n",
        "    # Create (image, label) tuples (this also turns the image path into a preprocessed image)\r\n",
        "    data = data.map(get_image_label)\r\n",
        "\r\n",
        "    # Turn training dataset into batches\r\n",
        "    data_batch = data.batch(batch_size)\r\n",
        "    return data_batch\r\n",
        "    "
      ],
      "execution_count": 49,
      "outputs": []
    },
    {
      "cell_type": "markdown",
      "metadata": {
        "id": "JBPlNAE4vuYO"
      },
      "source": [
        "### Create Training and Validation Set Databatches"
      ]
    },
    {
      "cell_type": "code",
      "metadata": {
        "colab": {
          "base_uri": "https://localhost:8080/"
        },
        "id": "WCmDpQc9kL0z",
        "outputId": "bc6256e5-e2dc-45ad-866c-ff0f7d82a927"
      },
      "source": [
        "# create Training and Validation Set Databatches\r\n",
        "train_data = create_data_batches(X_train, y_train)\r\n",
        "val_data = create_data_batches(X_val, y_val, valid_data=True)\r\n"
      ],
      "execution_count": 50,
      "outputs": [
        {
          "output_type": "stream",
          "text": [
            "Creating training data batches...\n",
            "Creating validation data batches...\n"
          ],
          "name": "stdout"
        }
      ]
    },
    {
      "cell_type": "markdown",
      "metadata": {
        "id": "iD8JLB2dkM4Q"
      },
      "source": [
        "### Check out the different attributes of our data batches"
      ]
    },
    {
      "cell_type": "code",
      "metadata": {
        "colab": {
          "base_uri": "https://localhost:8080/"
        },
        "id": "WoNVmB6ew0Li",
        "outputId": "2c4b06b6-97f7-4513-a36d-7dbbfe00819f"
      },
      "source": [
        "train_data.element_spec, val_data.element_spec\r\n",
        "\r\n",
        "# it is in (image, label) tuple pair of Tensor objects\r\n",
        "# For X, \r\n",
        "    # shape=(defined-batch-size, height, width, colorchannel)\r\n",
        "# For y, \r\n",
        "    # shape=(defined-batch-size, height)"
      ],
      "execution_count": 54,
      "outputs": [
        {
          "output_type": "execute_result",
          "data": {
            "text/plain": [
              "((TensorSpec(shape=(None, 224, 224, 3), dtype=tf.float32, name=None),\n",
              "  TensorSpec(shape=(None, 120), dtype=tf.bool, name=None)),\n",
              " (TensorSpec(shape=(None, 224, 224, 3), dtype=tf.float32, name=None),\n",
              "  TensorSpec(shape=(None, 120), dtype=tf.bool, name=None)))"
            ]
          },
          "metadata": {
            "tags": []
          },
          "execution_count": 54
        }
      ]
    },
    {
      "cell_type": "code",
      "metadata": {
        "id": "ptsTDmUgw5Yj"
      },
      "source": [
        ""
      ],
      "execution_count": null,
      "outputs": []
    }
  ]
}