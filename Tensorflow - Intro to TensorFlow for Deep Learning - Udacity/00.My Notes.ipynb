{
 "cells": [
  {
   "cell_type": "markdown",
   "metadata": {},
   "source": [
    "# 2.Introduction to Machine Learning"
   ]
  },
  {
   "cell_type": "markdown",
   "metadata": {},
   "source": [
    "![tensorflow](img/tensorflow-l2f3.png)"
   ]
  },
  {
   "cell_type": "markdown",
   "metadata": {},
   "source": [
    "**Feature**: The input(s) to our model\n",
    "\n",
    "**Examples**: An input/output pair used for training\n",
    "\n",
    "**Labels**: The output of the model\n",
    "\n",
    "**Layer**: A collection of nodes connected together within a neural network.\n",
    "\n",
    "**Model**: The representation of your neural network\n",
    "\n",
    "**Dense and Fully Connected (FC)**: Each node in one layer is connected to each node in the previous layer.\n",
    "\n",
    "**Weights and biases**: The internal variables of model\n",
    "\n",
    "**Loss**: The discrepancy between the desired output and the actual output\n",
    "\n",
    "**MSE**: Mean squared error, a type of loss function that counts a small number of large discrepancies as worse than a large number of small ones.\n",
    "\n",
    "**Gradient Descent**: An algorithm that changes the internal variables a bit at a time to gradually reduce the loss function.\n",
    "\n",
    "**Optimize**r: A specific implementation of the gradient descent algorithm. (There are many algorithms for this. In this course we will only use the “Adam” Optimizer, which stands for ADAptive with Momentum. It is considered the best-practice optimizer.)\n",
    "\n",
    "**Learning rate**: The “step size” for loss improvement during gradient descent.\n",
    "\n",
    "**Batch**: The set of examples used during training of the neural network\n",
    "\n",
    "**Epoch**: A full pass over the entire training dataset\n",
    "\n",
    "**Forward pass**: The computation of output values from input\n",
    "\n",
    "**Backward pass (backpropagation)**: The calculation of internal variable adjustments according to the optimizer algorithm, starting from the output layer and working back through each layer to the input.\n",
    "\n",
    "https://classroom.udacity.com/courses/ud187/lessons/e0c70c77-5584-4f83-a47b-a67a6172ae75/concepts/ac6c6991-8096-4c7a-bad1-706f7e3d36f1"
   ]
  },
  {
   "cell_type": "markdown",
   "metadata": {},
   "source": [
    "-------"
   ]
  },
  {
   "cell_type": "markdown",
   "metadata": {},
   "source": [
    "### [What is Dense layer?](https://classroom.udacity.com/courses/ud187/lessons/e0c70c77-5584-4f83-a47b-a67a6172ae75/concepts/83255f8b-8568-41c1-a32d-935ab53224b0)\n",
    "\n",
    "![dense.png](img/dense.png)"
   ]
  },
  {
   "cell_type": "markdown",
   "metadata": {},
   "source": [
    "----"
   ]
  },
  {
   "cell_type": "markdown",
   "metadata": {},
   "source": [
    "# 3. Your First Model - Fashion MNSIT"
   ]
  },
  {
   "cell_type": "markdown",
   "metadata": {},
   "source": [
    "# Neural Network"
   ]
  },
  {
   "cell_type": "markdown",
   "metadata": {},
   "source": [
    "###  [Rectified Linear Unit (ReLU)](https://classroom.udacity.com/courses/ud187/lessons/e52f6e56-2fbc-4ba8-9f74-377937b7da5c/concepts/5fe43485-8e11-4a31-b49a-ab502ed17ca2)\n",
    "\n",
    "ReLU is a type of activation function. There several of these functions (ReLU, Sigmoid, tanh, ELU), but ReLU is used most commonly and serves as a good default. \n",
    "\n",
    "the ReLU function gives an output of 0 if the input is negative or zero, and if input is positive, then the output will be equal to the input.\n",
    "\n",
    "ReLU gives the network the ability to solve nonlinear problems.\n",
    "\n",
    "[Rectified Linear Units (ReLU) in Deep Learning](https://www.kaggle.com/dansbecker/rectified-linear-units-relu-in-deep-learning)\n"
   ]
  },
  {
   "cell_type": "markdown",
   "metadata": {},
   "source": [
    "**Flattening**: The process of converting a 2d image into 1d vector\n",
    "\n",
    "**ReLU**: An activation function that allows a model to solve nonlinear problems\n",
    "\n",
    "**Softmax**: A function that provides probabilities for each possible output class\n",
    "\n",
    "**Classification**: A machine learning model used for distinguishing among two or more output categories\n",
    "\n",
    "![neural](img/neural.png)\n",
    "\n",
    "\n",
    "we trained a neural network to classify images of articles of clothing. \n",
    "+ To do this we used the Fashion MNIST dataset, which contains 70,000 greyscale images of articles of clothing. \n",
    "+ We used 60,000 of them to train our network and 10,000 of them to test its performance. \n",
    "+ In order to feed these images into our neural network we had to flatten the 28 × 28 images into 1d vectors with 784 elements. \n",
    "+ Our network consisted of a fully connected layer with 128 units (neurons) and an output layer with 10 units, corresponding to the 10 output labels. \n",
    "+ These 10 outputs represent probabilities for each class. The softmax activation function calculated the probability distribution."
   ]
  },
  {
   "cell_type": "markdown",
   "metadata": {},
   "source": [
    "------"
   ]
  },
  {
   "cell_type": "markdown",
   "metadata": {},
   "source": [
    "## Regression and Classification"
   ]
  },
  {
   "cell_type": "markdown",
   "metadata": {},
   "source": [
    "+ **Regression**: A model that outputs a single value. For example, an estimate of a house’s value.\n",
    "\n",
    "+ **Classification**: A model that outputs a probability distribution across several categories. For example, in Fashion MNIST, the output was 10 probabilities, one for each of the different types of clothing. Remember, we use Softmax as the activation function in our last Dense layer to create this probability distribution.\n",
    "\n",
    "![reg-class.png](img/reg-class.png)"
   ]
  },
  {
   "cell_type": "markdown",
   "metadata": {},
   "source": [
    "![reg-class2.png](img/reg-class2.png)"
   ]
  },
  {
   "cell_type": "markdown",
   "metadata": {},
   "source": [
    "---------"
   ]
  },
  {
   "cell_type": "markdown",
   "metadata": {},
   "source": [
    "# 3. CNN (Convolutional Neural Networks)"
   ]
  },
  {
   "cell_type": "markdown",
   "metadata": {},
   "source": [
    "There are 2 main concepts to understand in CNN.\n",
    "+ Convolutions\n",
    "+ Max Poolings\n",
    "\n",
    "[A Comprehensive Guide to Convolutional Neural Networks — the ELI5 way](https://towardsdatascience.com/a-comprehensive-guide-to-convolutional-neural-networks-the-eli5-way-3bd2b1164a53)\n",
    "\n",
    "--------\n",
    "\n",
    "**CNNs:** Convolutional neural network. That is, a network which has at least one convolutional layer. A typical CNN also includes other types of layers, such as pooling layers and dense layers.\n",
    "\n",
    "**Convolution:** The process of applying a kernel (filter) to an image\n",
    "\n",
    "**Kernel / filter:** A matrix which is smaller than the input, used to transform the input into chunks\n",
    "\n",
    "**Padding:** Adding pixels of some value, usually 0, around the input image\n",
    "\n",
    "**Pooling**: The process of reducing the size of an image through downsampling.There are several types of pooling layers. For example, average pooling converts many values into a single value by taking the average. However, maxpooling is the most common.\n",
    "\n",
    "**Maxpooling:** A pooling process in which many values are converted into a single value by taking the maximum value from among them.\n",
    "\n",
    "**Stride:** the number of pixels to slide the kernel (filter) across the image.\n",
    "\n",
    "**Downsampling:** The act of reducing the size of an image"
   ]
  },
  {
   "cell_type": "markdown",
   "metadata": {},
   "source": [
    "## Convolutions\n",
    "+ Convolution is the process of a **applying Filter (kernel)** to to the image.\n",
    "+ **The objective of the Convolution Operation is to extract the high-level features such as edges, from the input image.**\n",
    "+ image pixels values are \n",
    "    + multiplied with Kernel values, and then \n",
    "    + sum them add. \n",
    "    + Then we got final convoluted value for that kernel grid.\n",
    "\n",
    "\n",
    "![conv.png](img/conv.png)"
   ]
  },
  {
   "cell_type": "markdown",
   "metadata": {},
   "source": [
    "### Padding \n",
    "+ However not all pixel values can be calculated this way.\n",
    "+ Some pixels don't have complete neighbour pixel to form the whole kernel grid. In this case, we can use padding.\n",
    "+ In this way we can avoid losing information from those areas.\n",
    "\n",
    "![conv2.png](img/conv2.png)"
   ]
  },
  {
   "cell_type": "markdown",
   "metadata": {},
   "source": [
    "### Another way is to apply padding in all borders.\n",
    "![img/conv3.png](img/conv3.png)"
   ]
  },
  {
   "cell_type": "markdown",
   "metadata": {},
   "source": [
    "# Pooling\n",
    "+ Pooling is the process of **reducing the size of the image through downsampling**.\n",
    "+ It is just simply reducing the size of the image by summarzing region.\n",
    "\n",
    "\n",
    "We need two things to do this.\n",
    "+ A grid which is pool size.\n",
    "+ Stride\n",
    "\n",
    "----\n",
    "\n",
    "There are two types of Pooling: \n",
    "+ Max Pooling and Average Pooling. \n",
    "+ **Max Pooling** returns the maximum value from the portion of the image covered by the Kernel. \n",
    "+ On the other hand, **Average Pooling** returns the average of all the values from the portion of the image covered by the Kernel."
   ]
  },
  {
   "cell_type": "markdown",
   "metadata": {},
   "source": [
    "### Max Pooling\n",
    "Here we have 2x2 gird and we will get the **maximum value** from that kernel grid.\n",
    "\n",
    "![img/pool1.png](img/pool1.png)"
   ]
  },
  {
   "cell_type": "markdown",
   "metadata": {},
   "source": [
    "### Stride\n",
    "+ The Stride determines the number of pixels to slide across the window of image.\n",
    "\n",
    "\n",
    "![](img/stride.png)"
   ]
  },
  {
   "cell_type": "markdown",
   "metadata": {},
   "source": [
    "The result is the new image which we **down sample**.\n",
    "![](img/ds.png)"
   ]
  },
  {
   "cell_type": "markdown",
   "metadata": {},
   "source": [
    "-------"
   ]
  },
  {
   "cell_type": "markdown",
   "metadata": {},
   "source": [
    "# Going further with CNNs"
   ]
  },
  {
   "cell_type": "markdown",
   "metadata": {},
   "source": [
    "In reality, we have images that come in different shapes and different colors. So we need to take care of these too.\n",
    "+ Resize images\n",
    "+ Color Images\n",
    "\n",
    "----------\n",
    "### CNNs with RGB Images of Different Sizes:\n",
    "\n",
    "**Resizing:** When working with images of different sizes, you must resize all the images to the same size so that they can be fed into a CNN.\n",
    "\n",
    "**Color Images:** Computers interpret color images as 3D arrays.\n",
    "\n",
    "**RGB Image:** Color image composed of 3 color channels: Red, Green, and Blue.\n",
    "\n",
    "**Convolutions:** When working with RGB images we convolve each color channel with its own convolutional filter. Convolutions on each color channel are performed in the same way as with grayscale images, i.e. by performing element-wise multiplication of the convolutional filter (kernel) and a section of the input array. The result of each convolution is added up together with a bias value to get the convoluted output.\n",
    "\n",
    "**Max Pooling:** When working with RGB images we perform max pooling on each color channel using the same window size and stride. Max pooling on each color channel is performed in the same way as with grayscale images, i.e. by selecting the max value in each window.\n",
    "\n",
    "**Validation Set:** We use a validation set to check how the model is doing during the training phase. Validation sets can be used to perform Early Stopping to prevent overfitting and can also be used to help us compare different models and choose the best one.\n",
    "\n",
    "### Methods to Prevent Overfitting:\n",
    "\n",
    "**Early Stopping:** In this method, we track the loss on the validation set during the training phase and use it to determine when to stop training such that the model is accurate but not overfitting.\n",
    "\n",
    "**Image Augmentation:** Artificially boosting the number of images in our training set by applying random image transformations to the existing images in the training set.\n",
    "\n",
    "**Dropout:** Removing a random selection of a fixed number of neurons in a neural network during training.\n"
   ]
  },
  {
   "cell_type": "markdown",
   "metadata": {},
   "source": [
    "## Resize Images\n",
    "As ML model expect one shape of images, we need to resize images have same size first."
   ]
  },
  {
   "cell_type": "markdown",
   "metadata": {},
   "source": [
    "![](img/resize.png)\n",
    "![](img/resize2.png)"
   ]
  },
  {
   "cell_type": "markdown",
   "metadata": {},
   "source": [
    "## Color Images\n",
    "+ for color images, there are 3 color channels (RGB)\n",
    "+ so the dimensions of an color image has 3 dimensions."
   ]
  },
  {
   "cell_type": "markdown",
   "metadata": {},
   "source": [
    "![](img/color1.png)\n",
    "![](img/color2.png)\n",
    "![](img/color3.png)\n",
    "![](img/color4.png)"
   ]
  },
  {
   "cell_type": "markdown",
   "metadata": {},
   "source": [
    "------"
   ]
  },
  {
   "cell_type": "markdown",
   "metadata": {},
   "source": [
    "# Convolutions with Color images"
   ]
  },
  {
   "cell_type": "markdown",
   "metadata": {},
   "source": [
    "When performing convolutions with Color images, **kernel filter are 3 dimensionals** , including image channel.\n",
    "\n"
   ]
  },
  {
   "cell_type": "markdown",
   "metadata": {},
   "source": [
    "![](img/c-color1.png)\n",
    "![](img/c-color2.png)\n",
    "![](img/c-color3.png)"
   ]
  },
  {
   "cell_type": "markdown",
   "metadata": {},
   "source": [
    "### Convolution is performed for each filter color channel.\n",
    "+ Process is same as in Grey scaled, now for each filter color channel.\n",
    "+ values are multiplied with filer values and add them up\n",
    "+ then **bias valus** is added in final Convoluted output.\n",
    "![](img/c-color4.png)\n",
    "![](img/c-color5.png)"
   ]
  },
  {
   "cell_type": "markdown",
   "metadata": {},
   "source": [
    "For color image, the filter itself are 3D and produced 3D convoluted output.\n",
    "\n",
    "![](img/c-color6.png)\n",
    "![](img/c-color7.png)"
   ]
  },
  {
   "cell_type": "markdown",
   "metadata": {},
   "source": [
    "------"
   ]
  },
  {
   "cell_type": "markdown",
   "metadata": {},
   "source": [
    "# Max pooling with Color Images\n",
    "+ max pooling is performed for each stride\n",
    "+ result is the reduced matrix with same depth of original image."
   ]
  },
  {
   "cell_type": "markdown",
   "metadata": {},
   "source": [
    "![](img/c-pool1.png)\n",
    "![](img/c-pool2.png)"
   ]
  },
  {
   "cell_type": "markdown",
   "metadata": {},
   "source": [
    "---------"
   ]
  },
  {
   "cell_type": "markdown",
   "metadata": {},
   "source": [
    "## Softmax and Sigmoid\n",
    "\n",
    "+ For binary Classification,\n",
    "    + `sigmoid` activation\n",
    "    + `binary_crossentropy` loss\n",
    "    \n",
    "+ For Multi Classification,\n",
    "    + `softmax` activation\n",
    "    + `sparse_categorical_crossentrophy` loss"
   ]
  },
  {
   "cell_type": "markdown",
   "metadata": {},
   "source": [
    "------"
   ]
  },
  {
   "cell_type": "markdown",
   "metadata": {},
   "source": [
    "## Validation"
   ]
  },
  {
   "cell_type": "markdown",
   "metadata": {},
   "source": [
    "![](img/val.png)"
   ]
  },
  {
   "cell_type": "markdown",
   "metadata": {},
   "source": [
    "------"
   ]
  },
  {
   "cell_type": "markdown",
   "metadata": {},
   "source": [
    "## Image Augementation\n",
    "+ Image augmentation artificially creates training images through different ways of processing or combination of multiple processing, such as random rotation, shifts, shear and flips, etc.\n",
    "+ adding these new transformed images to our training sets, we are ensuring that our CNN has seen lots of examples during training.\n",
    "+ In this way, CNN will generalize unseen data to avoid over fitting."
   ]
  },
  {
   "cell_type": "markdown",
   "metadata": {},
   "source": [
    "![](img/aug.png)"
   ]
  },
  {
   "cell_type": "markdown",
   "metadata": {},
   "source": [
    "-----"
   ]
  },
  {
   "cell_type": "markdown",
   "metadata": {},
   "source": [
    "## Dropout\n",
    "\n",
    "+ Sometimes for some neurons, the weights are very larger and other parts end up with very small weights.\n",
    "+ this results in the part having the larger weights playing the major role in training process where the the other parts with smaller weights won't play much of a role. and they don't get trained very much.\n",
    "\n",
    "One way to avoid this happening is **Dropout**.\n",
    "\n",
    "**Dropout: drop will will randomly turn off neurons during training. This forces other neurons to pick up slack and get more active on training.**"
   ]
  },
  {
   "cell_type": "markdown",
   "metadata": {},
   "source": [
    "![](img/d1.png)\n",
    "![](img/d2.png)\n",
    "![](img/d3.png)\n",
    "![](img/d4.png)"
   ]
  },
  {
   "cell_type": "markdown",
   "metadata": {},
   "source": [
    "-------"
   ]
  },
  {
   "cell_type": "markdown",
   "metadata": {},
   "source": [
    "# Other Techniques to Prevent Overfitting\n",
    "\n",
    "**Early Stopping:** In this method, we track the loss on the validation set during the training phase and use it to determine when to stop training such that the model is accurate but not overfitting.\n",
    "\n",
    "**Image Augmentation:** Artificially boosting the number of images in our training set by applying random image transformations to the existing images in the training set.\n",
    "\n",
    "**Dropout:** Removing a random selection of a fixed number of neurons in a neural network during training.\n",
    "\n",
    "[Memorizing is not learning! — 6 tricks to prevent overfitting in machine learning](https://hackernoon.com/memorizing-is-not-learning-6-tricks-to-prevent-overfitting-in-machine-learning-820b091dc42)"
   ]
  },
  {
   "cell_type": "code",
   "execution_count": null,
   "metadata": {},
   "outputs": [],
   "source": []
  }
 ],
 "metadata": {
  "kernelspec": {
   "display_name": "venv-datascience",
   "language": "python",
   "name": "venv-datascience"
  },
  "language_info": {
   "codemirror_mode": {
    "name": "ipython",
    "version": 3
   },
   "file_extension": ".py",
   "mimetype": "text/x-python",
   "name": "python",
   "nbconvert_exporter": "python",
   "pygments_lexer": "ipython3",
   "version": "3.8.5"
  }
 },
 "nbformat": 4,
 "nbformat_minor": 4
}
