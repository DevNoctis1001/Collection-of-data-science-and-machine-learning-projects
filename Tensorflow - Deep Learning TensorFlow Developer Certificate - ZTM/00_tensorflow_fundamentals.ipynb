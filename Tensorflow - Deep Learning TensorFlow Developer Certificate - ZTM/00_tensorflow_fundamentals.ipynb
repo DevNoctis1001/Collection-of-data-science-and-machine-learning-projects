{
 "cells": [
  {
   "cell_type": "markdown",
   "metadata": {
    "id": "u7jGejCthOTA"
   },
   "source": [
    "# Introduction to tensorflow\n",
    "\n",
    "\n",
    "## Introduction to Tensors\n",
    "\n",
    "If you've ever used NumPy, [tensors](https://www.tensorflow.org/guide/tensor) are kind of like NumPy arrays (we'll see more on this later).\n",
    "\n",
    "For the sake of this notebook and going forward, you can think of a tensor as a multi-dimensional numerical representation (also referred to as n-dimensional, where n can be any number) of something. Where something can be almost anything you can imagine: \n",
    "* It could be numbers themselves (using tensors to represent the price of houses). \n",
    "* It could be an image (using tensors to represent the pixels of an image).\n",
    "* It could be text (using tensors to represent words).\n",
    "* Or it could be some other form of information (or data) you want to represent with numbers.\n",
    "\n",
    "The main difference between tensors and NumPy arrays (also an n-dimensional array of numbers) is that tensors can be used on [GPUs (graphical processing units)](https://blogs.nvidia.com/blog/2009/12/16/whats-the-difference-between-a-cpu-and-a-gpu/) and [TPUs (tensor processing units)](https://en.wikipedia.org/wiki/Tensor_processing_unit). \n",
    "\n",
    "The benefit of being able to run on GPUs and TPUs is faster computation, this means, if we wanted to find patterns in the numerical representations of our data, we can generally find them faster using GPUs and TPUs.\n",
    "\n",
    "Okay, we've been talking enough about tensors, let's see them.\n",
    "\n",
    "The first thing we'll do is import TensorFlow under the common alias `tf`."
   ]
  },
  {
   "cell_type": "markdown",
   "metadata": {
    "id": "WbVyRIH5hunR"
   },
   "source": [
    "\n",
    "### A scalar is known as a rank 0 tensor. Because it has no dimensions (it's just a number).\n",
    "> 🔑 Note: The important point is knowing tensors can have an unlimited range of dimensions (the exact amount will depend on what data you're representing)."
   ]
  },
  {
   "cell_type": "code",
   "execution_count": 6,
   "metadata": {
    "colab": {
     "base_uri": "https://localhost:8080/"
    },
    "id": "3_3UIdAmhVfh",
    "outputId": "f54b43aa-88ff-4471-f245-17c6d1b8058d"
   },
   "outputs": [
    {
     "name": "stdout",
     "output_type": "stream",
     "text": [
      "2.4.1\n"
     ]
    }
   ],
   "source": [
    "import tensorflow as tf\n",
    "print(tf.__version__)"
   ]
  },
  {
   "cell_type": "code",
   "execution_count": null,
   "metadata": {
    "colab": {
     "base_uri": "https://localhost:8080/"
    },
    "id": "szvdkd1ohYPS",
    "outputId": "ac70986b-4bfc-4632-d2b8-1e7a822666c9"
   },
   "outputs": [
    {
     "data": {
      "text/plain": [
       "<tf.Tensor: shape=(), dtype=int32, numpy=7>"
      ]
     },
     "execution_count": 8,
     "metadata": {
      "tags": []
     },
     "output_type": "execute_result"
    }
   ],
   "source": [
    "# create tensors with tf.constant()\n",
    "scaler = tf.constant(7)\n",
    "scaler"
   ]
  },
  {
   "cell_type": "code",
   "execution_count": null,
   "metadata": {
    "colab": {
     "base_uri": "https://localhost:8080/"
    },
    "id": "ulwdFGdgiabt",
    "outputId": "e1061871-4e5d-4b98-c3b8-ef2833ecf353"
   },
   "outputs": [
    {
     "data": {
      "text/plain": [
       "0"
      ]
     },
     "execution_count": 10,
     "metadata": {
      "tags": []
     },
     "output_type": "execute_result"
    }
   ],
   "source": [
    "# check the number of dimensions in tensor\n",
    "scaler.ndim"
   ]
  },
  {
   "cell_type": "code",
   "execution_count": null,
   "metadata": {
    "colab": {
     "base_uri": "https://localhost:8080/"
    },
    "id": "obw_18g4usJp",
    "outputId": "8033c265-9026-46b0-8cd8-39dab3d0e9f0"
   },
   "outputs": [
    {
     "data": {
      "text/plain": [
       "<tf.Tensor: shape=(2,), dtype=int32, numpy=array([10, 10], dtype=int32)>"
      ]
     },
     "execution_count": 13,
     "metadata": {
      "tags": []
     },
     "output_type": "execute_result"
    }
   ],
   "source": [
    "# create a vector\n",
    "vector = tf.constant([10, 10])\n",
    "vector"
   ]
  },
  {
   "cell_type": "code",
   "execution_count": null,
   "metadata": {
    "colab": {
     "base_uri": "https://localhost:8080/"
    },
    "id": "Hx9848crvL06",
    "outputId": "fb40e8a4-7850-4e0b-e9c0-fba3a5bdcf4f"
   },
   "outputs": [
    {
     "data": {
      "text/plain": [
       "1"
      ]
     },
     "execution_count": 14,
     "metadata": {
      "tags": []
     },
     "output_type": "execute_result"
    }
   ],
   "source": [
    "# check the dimensions of vector\n",
    "vector.ndim"
   ]
  },
  {
   "cell_type": "code",
   "execution_count": null,
   "metadata": {
    "colab": {
     "base_uri": "https://localhost:8080/"
    },
    "id": "mvRT6J7VvTkT",
    "outputId": "29906049-572f-45cc-da0d-9887ad05f639"
   },
   "outputs": [
    {
     "data": {
      "text/plain": [
       "<tf.Tensor: shape=(2, 2), dtype=int32, numpy=\n",
       "array([[10,  7],\n",
       "       [ 7, 10]], dtype=int32)>"
      ]
     },
     "execution_count": 17,
     "metadata": {
      "tags": []
     },
     "output_type": "execute_result"
    }
   ],
   "source": [
    "# create a matrix (has more than 1 dimensions)\n",
    "matrix = tf.constant([\n",
    "    [10, 7],\n",
    "    [7, 10]\n",
    "])\n",
    "\n",
    "matrix"
   ]
  },
  {
   "cell_type": "code",
   "execution_count": null,
   "metadata": {
    "colab": {
     "base_uri": "https://localhost:8080/"
    },
    "id": "fO106rHlvfcx",
    "outputId": "a3b73881-9abc-4bfb-d70b-9c59c1f5ca78"
   },
   "outputs": [
    {
     "data": {
      "text/plain": [
       "2"
      ]
     },
     "execution_count": 19,
     "metadata": {
      "tags": []
     },
     "output_type": "execute_result"
    }
   ],
   "source": [
    "matrix.ndim"
   ]
  },
  {
   "cell_type": "code",
   "execution_count": null,
   "metadata": {
    "colab": {
     "base_uri": "https://localhost:8080/"
    },
    "id": "Ixs7_FHevoXb",
    "outputId": "43985fd4-7584-42d7-b646-3c6cf37f6a61"
   },
   "outputs": [
    {
     "data": {
      "text/plain": [
       "<tf.Tensor: shape=(3, 2), dtype=float16, numpy=\n",
       "array([[10.,  7.],\n",
       "       [ 7., 10.],\n",
       "       [ 1.,  9.]], dtype=float16)>"
      ]
     },
     "execution_count": 23,
     "metadata": {
      "tags": []
     },
     "output_type": "execute_result"
    }
   ],
   "source": [
    "# create another matrix\n",
    "another_matrix = tf.constant([\n",
    "        [10, 7],\n",
    "        [7, 10],\n",
    "        [1.0, 9.0]],\n",
    "        dtype=tf.float16\n",
    ")\n",
    "\n",
    "another_matrix"
   ]
  },
  {
   "cell_type": "code",
   "execution_count": null,
   "metadata": {
    "colab": {
     "base_uri": "https://localhost:8080/"
    },
    "id": "y3bwAuVCwGzy",
    "outputId": "c5bb53d5-ee8e-4f58-f541-9430c683e101"
   },
   "outputs": [
    {
     "data": {
      "text/plain": [
       "2"
      ]
     },
     "execution_count": 24,
     "metadata": {
      "tags": []
     },
     "output_type": "execute_result"
    }
   ],
   "source": [
    "another_matrix.ndim"
   ]
  },
  {
   "cell_type": "code",
   "execution_count": null,
   "metadata": {
    "colab": {
     "base_uri": "https://localhost:8080/"
    },
    "id": "hLIJuIAxwe6q",
    "outputId": "c84d8aab-2a03-47f1-ed15-8680f58d768b"
   },
   "outputs": [
    {
     "data": {
      "text/plain": [
       "<tf.Tensor: shape=(3, 2, 3), dtype=int32, numpy=\n",
       "array([[[ 1,  2,  3],\n",
       "        [ 4,  5,  6]],\n",
       "\n",
       "       [[ 7,  8,  9],\n",
       "        [10, 11, 12]],\n",
       "\n",
       "       [[13, 14, 15],\n",
       "        [16, 17, 18]]], dtype=int32)>"
      ]
     },
     "execution_count": 29,
     "metadata": {
      "tags": []
     },
     "output_type": "execute_result"
    }
   ],
   "source": [
    "# Let's creat a tensor\n",
    "tensor = tf.constant([[[1,2,3], [4,5,6]], [[7,8,9], [10, 11, 12]], [[13, 14, 15], [16, 17, 18]]])\n",
    "tensor"
   ]
  },
  {
   "cell_type": "code",
   "execution_count": null,
   "metadata": {
    "colab": {
     "base_uri": "https://localhost:8080/"
    },
    "id": "2LO21hKHxRB8",
    "outputId": "2f060033-b56f-4bd2-ffac-7dd0a07f7c25"
   },
   "outputs": [
    {
     "data": {
      "text/plain": [
       "3"
      ]
     },
     "execution_count": 30,
     "metadata": {
      "tags": []
     },
     "output_type": "execute_result"
    }
   ],
   "source": [
    "tensor.ndim"
   ]
  },
  {
   "cell_type": "markdown",
   "metadata": {
    "id": "00iNF16cxhDP"
   },
   "source": [
    "# What we have created so far:\n",
    "- **scalar**: a single number.\n",
    "- **vector**: a number with direction (e.g. wind speed with direction).\n",
    "- **matrix**: a 2-dimensional array of numbers.\n",
    "- **tensor**: an n-dimensional arrary of numbers (where n can be any number, a 0-dimension tensor is a scalar, a 1-dimension tensor is a vector)."
   ]
  },
  {
   "cell_type": "markdown",
   "metadata": {
    "id": "pQ9MKXeXyQUX"
   },
   "source": [
    "-----\n"
   ]
  },
  {
   "cell_type": "markdown",
   "metadata": {
    "id": "cDukmNaWySaf"
   },
   "source": [
    "# Creating tensor with `tf.Variable()`\n",
    "\n",
    "You can also (although you likely rarely will, because often, when working with data, tensors are created for you automatically) create tensors using tf.Variable().\n",
    "\n",
    "The difference between `tf.Variable()` and `tf.constant()` is tensors created with `tf.constant()` are immutable (can't be changed, can only be used to create a new tensor), where as, tensors created with `tf.Variable() `are mutable (can be changed)."
   ]
  },
  {
   "cell_type": "code",
   "execution_count": null,
   "metadata": {
    "colab": {
     "base_uri": "https://localhost:8080/"
    },
    "id": "ui7duBtFyXsj",
    "outputId": "04e2e4c9-d539-4b93-d6cf-387da90939f4"
   },
   "outputs": [
    {
     "data": {
      "text/plain": [
       "(<tf.Variable 'Variable:0' shape=(2,) dtype=int32, numpy=array([10,  7], dtype=int32)>,\n",
       " <tf.Tensor: shape=(2,), dtype=int32, numpy=array([10,  7], dtype=int32)>)"
      ]
     },
     "execution_count": 32,
     "metadata": {
      "tags": []
     },
     "output_type": "execute_result"
    }
   ],
   "source": [
    "# create same tensor with tf.variable() as above\n",
    "changable_tensor = tf.Variable([10, 7])\n",
    "unchangable_tensor = tf.constant([10, 7])\n",
    "\n",
    "changable_tensor, unchangable_tensor"
   ]
  },
  {
   "cell_type": "code",
   "execution_count": null,
   "metadata": {
    "colab": {
     "base_uri": "https://localhost:8080/"
    },
    "id": "n3wDn6JWy6Ie",
    "outputId": "7aa3a89c-aa2c-48b1-8baf-8c7a4501947a"
   },
   "outputs": [
    {
     "data": {
      "text/plain": [
       "<tf.Variable 'Variable:0' shape=(2,) dtype=int32, numpy=array([7, 7], dtype=int32)>"
      ]
     },
     "execution_count": 35,
     "metadata": {
      "tags": []
     },
     "output_type": "execute_result"
    }
   ],
   "source": [
    "# Let's try change one the elements in changable tensor\n",
    "changable_tensor[0].assign(7)\n",
    "changable_tensor"
   ]
  },
  {
   "cell_type": "code",
   "execution_count": null,
   "metadata": {
    "colab": {
     "base_uri": "https://localhost:8080/",
     "height": 188
    },
    "id": "u7xBTY_NzSgd",
    "outputId": "5ee0a1f8-2df4-4df0-c1ce-4c74eec0bf2b"
   },
   "outputs": [
    {
     "ename": "AttributeError",
     "evalue": "ignored",
     "output_type": "error",
     "traceback": [
      "\u001b[0;31m---------------------------------------------------------------------------\u001b[0m",
      "\u001b[0;31mAttributeError\u001b[0m                            Traceback (most recent call last)",
      "\u001b[0;32m<ipython-input-37-f7fc77e470b3>\u001b[0m in \u001b[0;36m<module>\u001b[0;34m()\u001b[0m\n\u001b[0;32m----> 1\u001b[0;31m \u001b[0munchangable_tensor\u001b[0m\u001b[0;34m[\u001b[0m\u001b[0;36m0\u001b[0m\u001b[0;34m]\u001b[0m\u001b[0;34m.\u001b[0m\u001b[0massign\u001b[0m\u001b[0;34m(\u001b[0m\u001b[0;36m7\u001b[0m\u001b[0;34m)\u001b[0m \u001b[0;31m# we can't change constant value\u001b[0m\u001b[0;34m\u001b[0m\u001b[0;34m\u001b[0m\u001b[0m\n\u001b[0m\u001b[1;32m      2\u001b[0m \u001b[0munchangable_tensor\u001b[0m\u001b[0;34m\u001b[0m\u001b[0;34m\u001b[0m\u001b[0m\n",
      "\u001b[0;31mAttributeError\u001b[0m: 'tensorflow.python.framework.ops.EagerTensor' object has no attribute 'assign'"
     ]
    }
   ],
   "source": [
    "unchangable_tensor[0].assign(7) # we can't change constant value\n",
    "unchangable_tensor"
   ]
  },
  {
   "cell_type": "markdown",
   "metadata": {
    "id": "Vv9mWKSl29SQ"
   },
   "source": [
    "Which one should you use? `tf.constant()` or `tf.Variable()`?\n",
    "\n",
    "It will depend on what your problem requires. However, most of the time, TensorFlow will automatically choose for you (when loading data or modelling data)."
   ]
  },
  {
   "cell_type": "markdown",
   "metadata": {
    "id": "9CSWvHJvzkNF"
   },
   "source": [
    "-----"
   ]
  },
  {
   "cell_type": "markdown",
   "metadata": {
    "id": "STxD4snI0eiC"
   },
   "source": [
    "# Creating Random Tensors\n",
    "Tensors of arbitary size which contain random numbers."
   ]
  },
  {
   "cell_type": "code",
   "execution_count": null,
   "metadata": {
    "colab": {
     "base_uri": "https://localhost:8080/"
    },
    "id": "VI3EyUJz0j0z",
    "outputId": "21a20b12-b981-4364-a99d-67663f4a5d39"
   },
   "outputs": [
    {
     "data": {
      "text/plain": [
       "<tf.Tensor: shape=(3, 2), dtype=float32, numpy=\n",
       "array([[-0.7565803 , -0.06854702],\n",
       "       [ 0.07595026, -1.2573844 ],\n",
       "       [-0.23193763, -1.8107855 ]], dtype=float32)>"
      ]
     },
     "execution_count": 41,
     "metadata": {
      "tags": []
     },
     "output_type": "execute_result"
    }
   ],
   "source": [
    "# create two random tensors\n",
    "random_1 = tf.random.Generator.from_seed(42) # set seed for reproducibility\n",
    "random_1 = random_1.normal(shape=(3, 2))\n",
    "random_1"
   ]
  },
  {
   "cell_type": "code",
   "execution_count": null,
   "metadata": {
    "colab": {
     "base_uri": "https://localhost:8080/"
    },
    "id": "hkGiiraAEavS",
    "outputId": "4fdbd97b-0fed-4a9e-9c3e-9b3ceb663b8a"
   },
   "outputs": [
    {
     "data": {
      "text/plain": [
       "<tf.Tensor: shape=(3, 2), dtype=float32, numpy=\n",
       "array([[-0.7565803 , -0.06854702],\n",
       "       [ 0.07595026, -1.2573844 ],\n",
       "       [-0.23193763, -1.8107855 ]], dtype=float32)>"
      ]
     },
     "execution_count": 43,
     "metadata": {
      "tags": []
     },
     "output_type": "execute_result"
    }
   ],
   "source": [
    "random_2 = tf.random.Generator.from_seed(42)\n",
    "random_2 = random_2.normal(shape=(3, 2))\n",
    "random_2"
   ]
  },
  {
   "cell_type": "code",
   "execution_count": null,
   "metadata": {
    "colab": {
     "base_uri": "https://localhost:8080/"
    },
    "id": "yfntSfn3FRbE",
    "outputId": "104e51ec-57b0-4d70-8a2b-3a748716752e"
   },
   "outputs": [
    {
     "data": {
      "text/plain": [
       "<tf.Tensor: shape=(3, 2), dtype=bool, numpy=\n",
       "array([[ True,  True],\n",
       "       [ True,  True],\n",
       "       [ True,  True]])>"
      ]
     },
     "execution_count": 45,
     "metadata": {
      "tags": []
     },
     "output_type": "execute_result"
    }
   ],
   "source": [
    "# are they equal?\n",
    "random_1 == random_2"
   ]
  },
  {
   "cell_type": "markdown",
   "metadata": {
    "id": "Dp_TXjPtFVb6"
   },
   "source": [
    "-----\n",
    "\n",
    "# Shuffling the order elements in  tensor\n",
    "- we want to shuffle the order of elements so that inherent order of data doesn't affect the learning\n",
    "- **if we want to shuffle the data and make them in same order, we need to use both operational level and global level seed.**\n",
    "\n",
    "### Global vs Operation Level Seed\n",
    "\n",
    "`tf.random.set_seed(42)` sets the global seed, and the seed parameter in `tf.random.shuffle(seed=42)` sets the operation seed.\n",
    "\n",
    "- this is helpful as we want to reproduce our expirement sometimes.\n",
    "\n",
    "> 4. If both the global and the operation seed are set: Both seeds are used in conjunction to determine the random sequence.\"\n",
    "\n",
    "### Wait, why would you want to do that?\n",
    "\n",
    "Let's say you working with 15,000 images of cats and dogs and the first 10,000 images of were of cats and the next 5,000 were of dogs. This order could effect how a neural network learns (it may overfit by learning the order of the data), instead, it might be a good idea to move your data around."
   ]
  },
  {
   "cell_type": "code",
   "execution_count": null,
   "metadata": {
    "colab": {
     "base_uri": "https://localhost:8080/"
    },
    "id": "3e1pCKqPFzOw",
    "outputId": "9c7903cd-ee0c-4d9e-b389-71e80b897498"
   },
   "outputs": [
    {
     "data": {
      "text/plain": [
       "2"
      ]
     },
     "execution_count": 47,
     "metadata": {
      "tags": []
     },
     "output_type": "execute_result"
    }
   ],
   "source": [
    "not_shuffle = tf.constant([[10, 7], [1, 2], [3, 4]])\n",
    "not_shuffle.ndim"
   ]
  },
  {
   "cell_type": "code",
   "execution_count": null,
   "metadata": {
    "colab": {
     "base_uri": "https://localhost:8080/"
    },
    "id": "xGaVpW99Glsk",
    "outputId": "23a57a69-57db-40fa-d405-4deec97a9215"
   },
   "outputs": [
    {
     "data": {
      "text/plain": [
       "<tf.Tensor: shape=(3, 2), dtype=int32, numpy=\n",
       "array([[10,  7],\n",
       "       [ 3,  4],\n",
       "       [ 1,  2]], dtype=int32)>"
      ]
     },
     "execution_count": 67,
     "metadata": {
      "tags": []
     },
     "output_type": "execute_result"
    }
   ],
   "source": [
    "# shuffle our tensor\n",
    "# we can see that shuffling make the first dimension shuffle\n",
    "after_shuffled = tf.random.shuffle(not_shuffle)\n",
    "after_shuffled"
   ]
  },
  {
   "cell_type": "code",
   "execution_count": null,
   "metadata": {
    "colab": {
     "base_uri": "https://localhost:8080/"
    },
    "id": "rDu8O0RLG701",
    "outputId": "18aacaaa-442d-4cee-9ba0-cc2a517bb4aa"
   },
   "outputs": [
    {
     "data": {
      "text/plain": [
       "<tf.Tensor: shape=(3, 2), dtype=int32, numpy=\n",
       "array([[10,  7],\n",
       "       [ 1,  2],\n",
       "       [ 3,  4]], dtype=int32)>"
      ]
     },
     "execution_count": 69,
     "metadata": {
      "tags": []
     },
     "output_type": "execute_result"
    }
   ],
   "source": [
    "after_shuffled = tf.random.shuffle(not_shuffle, seed=42)\n",
    "after_shuffled"
   ]
  },
  {
   "cell_type": "code",
   "execution_count": null,
   "metadata": {
    "colab": {
     "base_uri": "https://localhost:8080/"
    },
    "id": "19Hwfy6ULW3E",
    "outputId": "309503f4-147e-4850-e0c2-33ce272cafc2"
   },
   "outputs": [
    {
     "data": {
      "text/plain": [
       "<tf.Tensor: shape=(3, 2), dtype=int32, numpy=\n",
       "array([[ 1,  2],\n",
       "       [ 3,  4],\n",
       "       [10,  7]], dtype=int32)>"
      ]
     },
     "execution_count": 71,
     "metadata": {
      "tags": []
     },
     "output_type": "execute_result"
    }
   ],
   "source": [
    "tf.random.set_seed(42)\n",
    "after_shuffled = tf.random.shuffle(not_shuffle)\n",
    "after_shuffled"
   ]
  },
  {
   "cell_type": "code",
   "execution_count": null,
   "metadata": {
    "colab": {
     "base_uri": "https://localhost:8080/"
    },
    "id": "FiPouFgSL2PR",
    "outputId": "37d3d3b3-f16f-4efa-e52a-920d13388191"
   },
   "outputs": [
    {
     "data": {
      "text/plain": [
       "<tf.Tensor: shape=(3, 2), dtype=int32, numpy=\n",
       "array([[10,  7],\n",
       "       [ 3,  4],\n",
       "       [ 1,  2]], dtype=int32)>"
      ]
     },
     "execution_count": 76,
     "metadata": {
      "tags": []
     },
     "output_type": "execute_result"
    }
   ],
   "source": [
    "after_shuffled = tf.random.shuffle(not_shuffle)\n",
    "after_shuffled"
   ]
  },
  {
   "cell_type": "markdown",
   "metadata": {
    "id": "RpBHQPkPN7p1"
   },
   "source": [
    "## Note: \n",
    "\n",
    "`tf.random.set_seed(42)` sets the global seed, and the seed parameter in `tf.random.shuffle(seed=42)` sets the operation seed.\n",
    "\n",
    "> 4. If both the global and the operation seed are set: Both seeds are used in conjunction to determine the random sequence.\""
   ]
  },
  {
   "cell_type": "code",
   "execution_count": null,
   "metadata": {
    "colab": {
     "base_uri": "https://localhost:8080/"
    },
    "id": "giLvz8h7NB8S",
    "outputId": "d3c93c6d-3591-48eb-902e-2993c3b1c16a"
   },
   "outputs": [
    {
     "data": {
      "text/plain": [
       "<tf.Tensor: shape=(3, 2), dtype=int32, numpy=\n",
       "array([[10,  7],\n",
       "       [ 1,  2],\n",
       "       [ 3,  4]], dtype=int32)>"
      ]
     },
     "execution_count": 99,
     "metadata": {
      "tags": []
     },
     "output_type": "execute_result"
    }
   ],
   "source": [
    "# Shuffle in the same order every time\n",
    "\n",
    "# Set the global random seed\n",
    "tf.random.set_seed(42)\n",
    "\n",
    "# Set the operation random seed\n",
    "# tf.random.shuffle(not_shuffle)\n",
    "tf.random.shuffle(not_shuffle, seed=42)"
   ]
  },
  {
   "cell_type": "code",
   "execution_count": null,
   "metadata": {
    "colab": {
     "base_uri": "https://localhost:8080/"
    },
    "id": "-1qSUf1PNUKx",
    "outputId": "ac3ea8cf-9da8-4c13-cf4d-b6a6b1897095"
   },
   "outputs": [
    {
     "data": {
      "text/plain": [
       "<tf.Tensor: shape=(3, 2), dtype=int32, numpy=\n",
       "array([[ 1,  2],\n",
       "       [ 3,  4],\n",
       "       [10,  7]], dtype=int32)>"
      ]
     },
     "execution_count": 102,
     "metadata": {
      "tags": []
     },
     "output_type": "execute_result"
    }
   ],
   "source": [
    "# Set the global random seed\n",
    "tf.random.set_seed(42) # if you comment this out you'll get different results\n",
    "\n",
    "# Set the operation random seed\n",
    "tf.random.shuffle(not_shuffle)"
   ]
  },
  {
   "cell_type": "markdown",
   "metadata": {
    "id": "BAPNQVapTEEy"
   },
   "source": [
    "## Exercise: create 5 random tensors and shuffle them\n",
    "- we can see that using operation level seed will produce randomly shuffled every time we re-run the line.\n",
    "- However, after setting global level random seed, we can see that no matter how many time we re-run this block of code, it doesn't change the seqeuence at all."
   ]
  },
  {
   "cell_type": "code",
   "execution_count": null,
   "metadata": {
    "colab": {
     "base_uri": "https://localhost:8080/"
    },
    "id": "1I3fCnfgNZpl",
    "outputId": "db431461-ad1e-4221-e756-60dd4134247c"
   },
   "outputs": [
    {
     "data": {
      "text/plain": [
       "<tf.Tensor: shape=(3, 2), dtype=int32, numpy=\n",
       "array([[3, 4],\n",
       "       [5, 6],\n",
       "       [1, 2]], dtype=int32)>"
      ]
     },
     "execution_count": 2,
     "metadata": {
      "tags": []
     },
     "output_type": "execute_result"
    }
   ],
   "source": [
    "tf1 = tf.constant([[3, 4], [5, 6], [1,2]])\n",
    "tf1"
   ]
  },
  {
   "cell_type": "markdown",
   "metadata": {
    "id": "pbD-5Bzc4m-4"
   },
   "source": [
    "#### operation level random seed"
   ]
  },
  {
   "cell_type": "code",
   "execution_count": null,
   "metadata": {
    "colab": {
     "base_uri": "https://localhost:8080/"
    },
    "id": "rV7I1h88SNiR",
    "outputId": "b7187fc7-d3f6-407c-edd2-7849b44c340f"
   },
   "outputs": [
    {
     "data": {
      "text/plain": [
       "<tf.Tensor: shape=(3, 2), dtype=int32, numpy=\n",
       "array([[3, 4],\n",
       "       [5, 6],\n",
       "       [1, 2]], dtype=int32)>"
      ]
     },
     "execution_count": 5,
     "metadata": {
      "tags": []
     },
     "output_type": "execute_result"
    }
   ],
   "source": [
    "tf.random.shuffle(tf1, seed=42) # operation level random seed\n",
    "# we can see that this will produce randomly shuffled every time we re-run the line"
   ]
  },
  {
   "cell_type": "markdown",
   "metadata": {
    "id": "npaW_wcH4vbB"
   },
   "source": [
    "#### global level random seed"
   ]
  },
  {
   "cell_type": "code",
   "execution_count": null,
   "metadata": {
    "colab": {
     "base_uri": "https://localhost:8080/"
    },
    "id": "SKBBmQ65S16_",
    "outputId": "5eaa5c51-1f37-4605-e1d5-21fd5e931501"
   },
   "outputs": [
    {
     "data": {
      "text/plain": [
       "<tf.Tensor: shape=(3, 2), dtype=int32, numpy=\n",
       "array([[5, 6],\n",
       "       [1, 2],\n",
       "       [3, 4]], dtype=int32)>"
      ]
     },
     "execution_count": 7,
     "metadata": {
      "tags": []
     },
     "output_type": "execute_result"
    }
   ],
   "source": [
    "tf.random.set_seed(42) # global level random seed\n",
    "tf.random.shuffle(tf1, seed=41)\n",
    "\n",
    "# after setting global level random seed, we can see that no matter how many time we re-run this block of code, it doesn't change the seqeuence at all."
   ]
  },
  {
   "cell_type": "markdown",
   "metadata": {
    "id": "6AsxBwgvS7yj"
   },
   "source": [
    "------"
   ]
  },
  {
   "cell_type": "markdown",
   "metadata": {
    "id": "Geh89AxLYlQ8"
   },
   "source": [
    "# Creating tensors from NumPy arrays\n",
    "\n"
   ]
  },
  {
   "cell_type": "code",
   "execution_count": null,
   "metadata": {
    "colab": {
     "base_uri": "https://localhost:8080/"
    },
    "id": "TPwRwjLk5hkF",
    "outputId": "92acecc6-35bd-46ca-8444-75234e0c1552"
   },
   "outputs": [
    {
     "data": {
      "text/plain": [
       "<tf.Tensor: shape=(2, 3), dtype=float32, numpy=\n",
       "array([[1., 1., 1.],\n",
       "       [1., 1., 1.]], dtype=float32)>"
      ]
     },
     "execution_count": 8,
     "metadata": {
      "tags": []
     },
     "output_type": "execute_result"
    }
   ],
   "source": [
    "# create a tensor of ones\n",
    "tf.ones(shape=(2,3))"
   ]
  },
  {
   "cell_type": "code",
   "execution_count": null,
   "metadata": {
    "colab": {
     "base_uri": "https://localhost:8080/"
    },
    "id": "4XKSanD85wJa",
    "outputId": "cfdd3172-46e3-42e1-85ca-45cf1c929d3e"
   },
   "outputs": [
    {
     "data": {
      "text/plain": [
       "<tf.Tensor: shape=(3, 5), dtype=float32, numpy=\n",
       "array([[0., 0., 0., 0., 0.],\n",
       "       [0., 0., 0., 0., 0.],\n",
       "       [0., 0., 0., 0., 0.]], dtype=float32)>"
      ]
     },
     "execution_count": 9,
     "metadata": {
      "tags": []
     },
     "output_type": "execute_result"
    }
   ],
   "source": [
    "# create a tensor of zeros\n",
    "tf.zeros(shape=(3, 5))"
   ]
  },
  {
   "cell_type": "code",
   "execution_count": null,
   "metadata": {
    "colab": {
     "base_uri": "https://localhost:8080/"
    },
    "id": "XiKfrJfT54yM",
    "outputId": "495f93d8-b4ba-492d-f4db-f53c39029fda"
   },
   "outputs": [
    {
     "data": {
      "text/plain": [
       "<tf.Tensor: shape=(3, 5), dtype=float32, numpy=\n",
       "array([[0., 0., 0., 0., 0.],\n",
       "       [0., 0., 0., 0., 0.],\n",
       "       [0., 0., 0., 0., 0.]], dtype=float32)>"
      ]
     },
     "execution_count": 10,
     "metadata": {
      "tags": []
     },
     "output_type": "execute_result"
    }
   ],
   "source": [
    "tf.zeros([3, 5])"
   ]
  },
  {
   "cell_type": "markdown",
   "metadata": {
    "id": "oOG_jeNa6E_p"
   },
   "source": [
    "## Turn Numpy array to Tensor\n",
    "The main difference between Numpy arrys and Tensors is that Tensors can be run on GPU computing."
   ]
  },
  {
   "cell_type": "code",
   "execution_count": null,
   "metadata": {
    "colab": {
     "base_uri": "https://localhost:8080/"
    },
    "id": "vljm31NS5-Wv",
    "outputId": "15fa3785-9892-4010-a02c-ffb6d1ab482b"
   },
   "outputs": [
    {
     "data": {
      "text/plain": [
       "array([ 1,  2,  3,  4,  5,  6,  7,  8,  9, 10, 11, 12, 13, 14, 15, 16, 17,\n",
       "       18, 19, 20, 21, 22, 23, 24], dtype=int32)"
      ]
     },
     "execution_count": 11,
     "metadata": {
      "tags": []
     },
     "output_type": "execute_result"
    }
   ],
   "source": [
    "# you can also turn Numpy array to tensors\n",
    "import numpy as np\n",
    "\n",
    "numpy_A = np.arange(1, 25, dtype=np.int32)\n",
    "numpy_A\n",
    "\n",
    "# X = tf.constant(matrix) # capital for matrix or tensor\n",
    "# y = tf.constant(vector) # non capital for vector"
   ]
  },
  {
   "cell_type": "code",
   "execution_count": null,
   "metadata": {
    "colab": {
     "base_uri": "https://localhost:8080/"
    },
    "id": "os4n5v8a6zXW",
    "outputId": "5ac61eef-525b-463d-b9fb-f63fc8aada92"
   },
   "outputs": [
    {
     "data": {
      "text/plain": [
       "<tf.Tensor: shape=(24,), dtype=int32, numpy=\n",
       "array([ 1,  2,  3,  4,  5,  6,  7,  8,  9, 10, 11, 12, 13, 14, 15, 16, 17,\n",
       "       18, 19, 20, 21, 22, 23, 24], dtype=int32)>"
      ]
     },
     "execution_count": 12,
     "metadata": {
      "tags": []
     },
     "output_type": "execute_result"
    }
   ],
   "source": [
    "A = tf.constant(numpy_A)\n",
    "A"
   ]
  },
  {
   "cell_type": "code",
   "execution_count": null,
   "metadata": {
    "colab": {
     "base_uri": "https://localhost:8080/"
    },
    "id": "m6iCYiTY6_P7",
    "outputId": "7f640729-8f6f-4c91-803d-75fec312f392"
   },
   "outputs": [
    {
     "data": {
      "text/plain": [
       "(<tf.Tensor: shape=(2, 3, 4), dtype=int32, numpy=\n",
       " array([[[ 1,  2,  3,  4],\n",
       "         [ 5,  6,  7,  8],\n",
       "         [ 9, 10, 11, 12]],\n",
       " \n",
       "        [[13, 14, 15, 16],\n",
       "         [17, 18, 19, 20],\n",
       "         [21, 22, 23, 24]]], dtype=int32)>,\n",
       " <tf.Tensor: shape=(24,), dtype=int32, numpy=\n",
       " array([ 1,  2,  3,  4,  5,  6,  7,  8,  9, 10, 11, 12, 13, 14, 15, 16, 17,\n",
       "        18, 19, 20, 21, 22, 23, 24], dtype=int32)>)"
      ]
     },
     "execution_count": 13,
     "metadata": {
      "tags": []
     },
     "output_type": "execute_result"
    }
   ],
   "source": [
    "A = tf.constant(numpy_A, shape=(2, 3, 4))\n",
    "B = tf.constant(numpy_A)\n",
    "\n",
    "A, B"
   ]
  },
  {
   "cell_type": "code",
   "execution_count": null,
   "metadata": {
    "colab": {
     "base_uri": "https://localhost:8080/"
    },
    "id": "0NRrE2Gb7SoR",
    "outputId": "3eca52b2-cb98-48e2-87a7-ca868f6cecf4"
   },
   "outputs": [
    {
     "data": {
      "text/plain": [
       "24"
      ]
     },
     "execution_count": 15,
     "metadata": {
      "tags": []
     },
     "output_type": "execute_result"
    }
   ],
   "source": [
    "2 * 3 * 4"
   ]
  },
  {
   "cell_type": "code",
   "execution_count": null,
   "metadata": {
    "colab": {
     "base_uri": "https://localhost:8080/"
    },
    "id": "W7M2swh97vKe",
    "outputId": "44fde000-2020-42c0-9df6-937d56e72c87"
   },
   "outputs": [
    {
     "data": {
      "text/plain": [
       "<tf.Tensor: shape=(8, 3), dtype=int32, numpy=\n",
       "array([[ 1,  2,  3],\n",
       "       [ 4,  5,  6],\n",
       "       [ 7,  8,  9],\n",
       "       [10, 11, 12],\n",
       "       [13, 14, 15],\n",
       "       [16, 17, 18],\n",
       "       [19, 20, 21],\n",
       "       [22, 23, 24]], dtype=int32)>"
      ]
     },
     "execution_count": 16,
     "metadata": {
      "tags": []
     },
     "output_type": "execute_result"
    }
   ],
   "source": [
    "A = tf.constant(numpy_A, shape=(8, 3))\n",
    "A"
   ]
  },
  {
   "cell_type": "code",
   "execution_count": null,
   "metadata": {
    "colab": {
     "base_uri": "https://localhost:8080/"
    },
    "id": "bzgEuhSo8A0B",
    "outputId": "e093a584-94c2-4485-82ee-8640286faf73"
   },
   "outputs": [
    {
     "data": {
      "text/plain": [
       "2"
      ]
     },
     "execution_count": 17,
     "metadata": {
      "tags": []
     },
     "output_type": "execute_result"
    }
   ],
   "source": [
    "A.ndim"
   ]
  },
  {
   "cell_type": "markdown",
   "metadata": {
    "id": "MVcV6FUU7b3p"
   },
   "source": [
    "-----\n",
    "\n",
    "# Getting information from tensors (shape, rank, size) / Tensors Attributes\n",
    "\n",
    "There will be times when we'll want to get different pieces of information from our tensors, in particuluar, we need now the following tensor vocabulary:\n",
    "\n",
    "- **Shape**: The length (number of elements) of each of the dimensions of a tensor. `tensor.shape`\n",
    "- **Rank**: The number of tensor dimensions. A scalar has rank 0, a vector has rank 1, a matrix is rank 2, a tensor has rank n. `tensor.ndim`\n",
    "- **Axis or Dimension**: A particular dimension of a tensor. `tensor[0], tensor[:, 1]`\n",
    "- **Size**: The total number of items in the tensor. `tf.size(tensor)`\n",
    "\n",
    "We'll use these especially when you're trying to line up the shapes of our data to the shapes of our model. For example, making sure the shape of our image tensors are the same shape as our models input layer."
   ]
  },
  {
   "cell_type": "code",
   "execution_count": null,
   "metadata": {
    "colab": {
     "base_uri": "https://localhost:8080/"
    },
    "id": "0WX6gfbK7uH-",
    "outputId": "9d385f62-e1de-44b8-f7c0-890185b732b3"
   },
   "outputs": [
    {
     "data": {
      "text/plain": [
       "<tf.Tensor: shape=(2, 3, 4, 5), dtype=float32, numpy=\n",
       "array([[[[0., 0., 0., 0., 0.],\n",
       "         [0., 0., 0., 0., 0.],\n",
       "         [0., 0., 0., 0., 0.],\n",
       "         [0., 0., 0., 0., 0.]],\n",
       "\n",
       "        [[0., 0., 0., 0., 0.],\n",
       "         [0., 0., 0., 0., 0.],\n",
       "         [0., 0., 0., 0., 0.],\n",
       "         [0., 0., 0., 0., 0.]],\n",
       "\n",
       "        [[0., 0., 0., 0., 0.],\n",
       "         [0., 0., 0., 0., 0.],\n",
       "         [0., 0., 0., 0., 0.],\n",
       "         [0., 0., 0., 0., 0.]]],\n",
       "\n",
       "\n",
       "       [[[0., 0., 0., 0., 0.],\n",
       "         [0., 0., 0., 0., 0.],\n",
       "         [0., 0., 0., 0., 0.],\n",
       "         [0., 0., 0., 0., 0.]],\n",
       "\n",
       "        [[0., 0., 0., 0., 0.],\n",
       "         [0., 0., 0., 0., 0.],\n",
       "         [0., 0., 0., 0., 0.],\n",
       "         [0., 0., 0., 0., 0.]],\n",
       "\n",
       "        [[0., 0., 0., 0., 0.],\n",
       "         [0., 0., 0., 0., 0.],\n",
       "         [0., 0., 0., 0., 0.],\n",
       "         [0., 0., 0., 0., 0.]]]], dtype=float32)>"
      ]
     },
     "execution_count": 18,
     "metadata": {
      "tags": []
     },
     "output_type": "execute_result"
    }
   ],
   "source": [
    "# Create a rank 4 tensor (4 dimensions)\n",
    "rank4_tensor = tf.zeros(shape=[2, 3, 4, 5])\n",
    "rank4_tensor"
   ]
  },
  {
   "cell_type": "code",
   "execution_count": null,
   "metadata": {
    "colab": {
     "base_uri": "https://localhost:8080/"
    },
    "id": "6sEy9Tio9yQX",
    "outputId": "540322b7-33d9-464c-d6d0-7c20da59d7bb"
   },
   "outputs": [
    {
     "data": {
      "text/plain": [
       "<tf.Tensor: shape=(3, 4, 5), dtype=float32, numpy=\n",
       "array([[[0., 0., 0., 0., 0.],\n",
       "        [0., 0., 0., 0., 0.],\n",
       "        [0., 0., 0., 0., 0.],\n",
       "        [0., 0., 0., 0., 0.]],\n",
       "\n",
       "       [[0., 0., 0., 0., 0.],\n",
       "        [0., 0., 0., 0., 0.],\n",
       "        [0., 0., 0., 0., 0.],\n",
       "        [0., 0., 0., 0., 0.]],\n",
       "\n",
       "       [[0., 0., 0., 0., 0.],\n",
       "        [0., 0., 0., 0., 0.],\n",
       "        [0., 0., 0., 0., 0.],\n",
       "        [0., 0., 0., 0., 0.]]], dtype=float32)>"
      ]
     },
     "execution_count": 19,
     "metadata": {
      "tags": []
     },
     "output_type": "execute_result"
    }
   ],
   "source": [
    "rank4_tensor[0]"
   ]
  },
  {
   "cell_type": "code",
   "execution_count": null,
   "metadata": {
    "colab": {
     "base_uri": "https://localhost:8080/"
    },
    "id": "hDMHVywlANEc",
    "outputId": "3e64ee2b-f128-44a7-8d6e-63fea712193a"
   },
   "outputs": [
    {
     "data": {
      "text/plain": [
       "<tf.Tensor: shape=(3, 4, 5), dtype=float32, numpy=\n",
       "array([[[0., 0., 0., 0., 0.],\n",
       "        [0., 0., 0., 0., 0.],\n",
       "        [0., 0., 0., 0., 0.],\n",
       "        [0., 0., 0., 0., 0.]],\n",
       "\n",
       "       [[0., 0., 0., 0., 0.],\n",
       "        [0., 0., 0., 0., 0.],\n",
       "        [0., 0., 0., 0., 0.],\n",
       "        [0., 0., 0., 0., 0.]],\n",
       "\n",
       "       [[0., 0., 0., 0., 0.],\n",
       "        [0., 0., 0., 0., 0.],\n",
       "        [0., 0., 0., 0., 0.],\n",
       "        [0., 0., 0., 0., 0.]]], dtype=float32)>"
      ]
     },
     "execution_count": 20,
     "metadata": {
      "tags": []
     },
     "output_type": "execute_result"
    }
   ],
   "source": [
    "rank4_tensor[1]"
   ]
  },
  {
   "cell_type": "code",
   "execution_count": null,
   "metadata": {
    "colab": {
     "base_uri": "https://localhost:8080/"
    },
    "id": "uft6k9r8ATsb",
    "outputId": "acc5f905-5e5c-443d-ba4c-d6094cc5e2c7"
   },
   "outputs": [
    {
     "data": {
      "text/plain": [
       "TensorShape([2, 3, 4, 5])"
      ]
     },
     "execution_count": 21,
     "metadata": {
      "tags": []
     },
     "output_type": "execute_result"
    }
   ],
   "source": [
    "rank4_tensor.shape"
   ]
  },
  {
   "cell_type": "code",
   "execution_count": null,
   "metadata": {
    "colab": {
     "base_uri": "https://localhost:8080/"
    },
    "id": "yG6B1RdHAV4Y",
    "outputId": "70b54f82-df8f-42dd-eb0b-170bc862fa92"
   },
   "outputs": [
    {
     "data": {
      "text/plain": [
       "4"
      ]
     },
     "execution_count": 22,
     "metadata": {
      "tags": []
     },
     "output_type": "execute_result"
    }
   ],
   "source": [
    "rank4_tensor.ndim"
   ]
  },
  {
   "cell_type": "code",
   "execution_count": null,
   "metadata": {
    "colab": {
     "base_uri": "https://localhost:8080/"
    },
    "id": "qG8kHnAeAYkO",
    "outputId": "1130e80c-62f8-46af-f2ce-cd016988fa01"
   },
   "outputs": [
    {
     "data": {
      "text/plain": [
       "<tf.Tensor: shape=(), dtype=int32, numpy=120>"
      ]
     },
     "execution_count": 24,
     "metadata": {
      "tags": []
     },
     "output_type": "execute_result"
    }
   ],
   "source": [
    "tf.size(rank4_tensor)"
   ]
  },
  {
   "cell_type": "code",
   "execution_count": null,
   "metadata": {
    "colab": {
     "base_uri": "https://localhost:8080/"
    },
    "id": "xQB0DDxfAcj2",
    "outputId": "e8a6cbcc-3f24-474b-c8f3-cd9d95c5adea"
   },
   "outputs": [
    {
     "data": {
      "text/plain": [
       "120"
      ]
     },
     "execution_count": 25,
     "metadata": {
      "tags": []
     },
     "output_type": "execute_result"
    }
   ],
   "source": [
    "2 * 3 * 4 * 5"
   ]
  },
  {
   "cell_type": "markdown",
   "metadata": {
    "id": "DLO0GI6LBvZF"
   },
   "source": [
    "## Get various attributes of tensors\n"
   ]
  },
  {
   "cell_type": "code",
   "execution_count": null,
   "metadata": {
    "colab": {
     "base_uri": "https://localhost:8080/"
    },
    "id": "Xvjn-YoCAjlQ",
    "outputId": "b2b02bce-81a7-4d2b-9737-cbff5af935fa"
   },
   "outputs": [
    {
     "name": "stdout",
     "output_type": "stream",
     "text": [
      "DataType of every element:  <dtype: 'float32'>\n",
      "Number of dimensions (rank):  4\n",
      "Shape of tensor:  (2, 3, 4, 5)\n",
      "Elements along the axis 0:  2\n",
      "Elements along the last axis:  5\n",
      "Total elements in our tensor:  tf.Tensor(120, shape=(), dtype=int32)\n",
      "Total elements in our tensor:  120\n"
     ]
    }
   ],
   "source": [
    "# Get various attributes of tensors\n",
    "print('DataType of every element: ', rank4_tensor.dtype)\n",
    "print('Number of dimensions (rank): ', rank4_tensor.ndim)\n",
    "print('Shape of tensor: ', rank4_tensor.shape)\n",
    "print('Elements along the axis 0: ', rank4_tensor.shape[0]) # refer to the shape of the tensor and check the first index\n",
    "print('Elements along the last axis: ', rank4_tensor.shape[-1])\n",
    "print('Total elements in our tensor: ', tf.size(rank4_tensor))\n",
    "print('Total elements in our tensor: ', tf.size(rank4_tensor).numpy()) # # .numpy() converts to NumPy array"
   ]
  },
  {
   "cell_type": "markdown",
   "metadata": {
    "id": "Iq_l_FeRBReL"
   },
   "source": [
    "----\n",
    "\n",
    "# Indexing and Expanding Tensors\n",
    "\n",
    "You can also index tensors just like Python lists."
   ]
  },
  {
   "cell_type": "code",
   "execution_count": null,
   "metadata": {
    "colab": {
     "base_uri": "https://localhost:8080/"
    },
    "id": "fjKjdjENC4ky",
    "outputId": "4984fe13-05e0-4082-da2f-cdc79adf5fe9"
   },
   "outputs": [
    {
     "data": {
      "text/plain": [
       "[1, 2]"
      ]
     },
     "execution_count": 32,
     "metadata": {
      "tags": []
     },
     "output_type": "execute_result"
    }
   ],
   "source": [
    "somelist = [1, 2, 3, 4]\n",
    "somelist[:2]"
   ]
  },
  {
   "cell_type": "code",
   "execution_count": null,
   "metadata": {
    "colab": {
     "base_uri": "https://localhost:8080/"
    },
    "id": "583EC4FcCV-W",
    "outputId": "665b2064-a73b-4c30-f849-d4e6143a985c"
   },
   "outputs": [
    {
     "data": {
      "text/plain": [
       "<tf.Tensor: shape=(2, 2, 2, 2), dtype=float32, numpy=\n",
       "array([[[[0., 0.],\n",
       "         [0., 0.]],\n",
       "\n",
       "        [[0., 0.],\n",
       "         [0., 0.]]],\n",
       "\n",
       "\n",
       "       [[[0., 0.],\n",
       "         [0., 0.]],\n",
       "\n",
       "        [[0., 0.],\n",
       "         [0., 0.]]]], dtype=float32)>"
      ]
     },
     "execution_count": 31,
     "metadata": {
      "tags": []
     },
     "output_type": "execute_result"
    }
   ],
   "source": [
    "# get the first 2 elements of each dimensions\n",
    "rank4_tensor[:2, :2, :2, :2]"
   ]
  },
  {
   "cell_type": "code",
   "execution_count": null,
   "metadata": {
    "colab": {
     "base_uri": "https://localhost:8080/"
    },
    "id": "_WCI6vXUDvbF",
    "outputId": "625b1b26-316b-4c4c-b3ba-314b3f1d87ac"
   },
   "outputs": [
    {
     "data": {
      "text/plain": [
       "TensorShape([2, 3, 4, 5])"
      ]
     },
     "execution_count": 35,
     "metadata": {
      "tags": []
     },
     "output_type": "execute_result"
    }
   ],
   "source": [
    "rank4_tensor.shape"
   ]
  },
  {
   "cell_type": "code",
   "execution_count": null,
   "metadata": {
    "colab": {
     "base_uri": "https://localhost:8080/"
    },
    "id": "72jPjrqAClib",
    "outputId": "51584aea-60b8-473c-cfdf-37664e508e36"
   },
   "outputs": [
    {
     "data": {
      "text/plain": [
       "<tf.Tensor: shape=(1, 1, 1, 1), dtype=float32, numpy=array([[[[0.]]]], dtype=float32)>"
      ]
     },
     "execution_count": 40,
     "metadata": {
      "tags": []
     },
     "output_type": "execute_result"
    }
   ],
   "source": [
    "# get the first element from each dimension , except for the final one\n",
    "rank4_tensor[:1, :1, :1, :1]"
   ]
  },
  {
   "cell_type": "code",
   "execution_count": null,
   "metadata": {
    "colab": {
     "base_uri": "https://localhost:8080/"
    },
    "id": "SLTE1tLQDzcY",
    "outputId": "c2d5d38b-5375-4be9-9fe1-fa894a9e4676"
   },
   "outputs": [
    {
     "data": {
      "text/plain": [
       "<tf.Tensor: shape=(2, 1, 1, 1), dtype=float32, numpy=\n",
       "array([[[[0.]]],\n",
       "\n",
       "\n",
       "       [[[0.]]]], dtype=float32)>"
      ]
     },
     "execution_count": 41,
     "metadata": {
      "tags": []
     },
     "output_type": "execute_result"
    }
   ],
   "source": [
    "rank4_tensor[:, :1, :1, :1]"
   ]
  },
  {
   "cell_type": "code",
   "execution_count": null,
   "metadata": {
    "colab": {
     "base_uri": "https://localhost:8080/"
    },
    "id": "5qEY0qksD8--",
    "outputId": "b2ce2fb8-67e9-4485-9cb7-5bdd9944cebf"
   },
   "outputs": [
    {
     "data": {
      "text/plain": [
       "<tf.Tensor: shape=(1, 3, 1, 1), dtype=float32, numpy=\n",
       "array([[[[0.]],\n",
       "\n",
       "        [[0.]],\n",
       "\n",
       "        [[0.]]]], dtype=float32)>"
      ]
     },
     "execution_count": 42,
     "metadata": {
      "tags": []
     },
     "output_type": "execute_result"
    }
   ],
   "source": [
    "rank4_tensor[:1, :, :1, :1]"
   ]
  },
  {
   "cell_type": "code",
   "execution_count": null,
   "metadata": {
    "colab": {
     "base_uri": "https://localhost:8080/"
    },
    "id": "iwacT8D4D-Ju",
    "outputId": "de7172f5-8f6a-41bd-941e-9bd0ade49770"
   },
   "outputs": [
    {
     "data": {
      "text/plain": [
       "<tf.Tensor: shape=(1, 1, 4, 1), dtype=float32, numpy=\n",
       "array([[[[0.],\n",
       "         [0.],\n",
       "         [0.],\n",
       "         [0.]]]], dtype=float32)>"
      ]
     },
     "execution_count": 43,
     "metadata": {
      "tags": []
     },
     "output_type": "execute_result"
    }
   ],
   "source": [
    "rank4_tensor[:1, :1, :, :1]"
   ]
  },
  {
   "cell_type": "code",
   "execution_count": null,
   "metadata": {
    "colab": {
     "base_uri": "https://localhost:8080/"
    },
    "id": "ZL2ZsupKD_pC",
    "outputId": "d374a8e7-74cf-43c6-d647-6af4632769e9"
   },
   "outputs": [
    {
     "data": {
      "text/plain": [
       "<tf.Tensor: shape=(1, 1, 1, 5), dtype=float32, numpy=array([[[[0., 0., 0., 0., 0.]]]], dtype=float32)>"
      ]
     },
     "execution_count": 44,
     "metadata": {
      "tags": []
     },
     "output_type": "execute_result"
    }
   ],
   "source": [
    "rank4_tensor[:1, :1, :1, :]"
   ]
  },
  {
   "cell_type": "code",
   "execution_count": null,
   "metadata": {
    "colab": {
     "base_uri": "https://localhost:8080/"
    },
    "id": "hiuEJYvVEAwI",
    "outputId": "45357e4c-81d4-40eb-ef08-60bb0c4cf188"
   },
   "outputs": [
    {
     "data": {
      "text/plain": [
       "<tf.Tensor: shape=(2, 2), dtype=int32, numpy=\n",
       "array([[10,  7],\n",
       "       [ 3,  4]], dtype=int32)>"
      ]
     },
     "execution_count": 49,
     "metadata": {
      "tags": []
     },
     "output_type": "execute_result"
    }
   ],
   "source": [
    "# create a rank2 tensor (2 dimensions)\n",
    "rank2_tensor = tf.constant([[10, 7], \n",
    "                                      [3, 4]])\n",
    "rank2_tensor"
   ]
  },
  {
   "cell_type": "code",
   "execution_count": null,
   "metadata": {
    "colab": {
     "base_uri": "https://localhost:8080/"
    },
    "id": "Vl2nVA3kErya",
    "outputId": "6f6f245f-9c19-41b1-a154-5110608a4fd1"
   },
   "outputs": [
    {
     "data": {
      "text/plain": [
       "(TensorShape([2, 2]), 2)"
      ]
     },
     "execution_count": 50,
     "metadata": {
      "tags": []
     },
     "output_type": "execute_result"
    }
   ],
   "source": [
    "rank2_tensor.shape, rank2_tensor.ndim"
   ]
  },
  {
   "cell_type": "code",
   "execution_count": null,
   "metadata": {
    "colab": {
     "base_uri": "https://localhost:8080/"
    },
    "id": "1WPTXXP0E6uC",
    "outputId": "2038c038-253f-4f18-f8b0-4c95029b1ce3"
   },
   "outputs": [
    {
     "data": {
      "text/plain": [
       "<tf.Tensor: shape=(2,), dtype=int32, numpy=array([7, 4], dtype=int32)>"
      ]
     },
     "execution_count": 53,
     "metadata": {
      "tags": []
     },
     "output_type": "execute_result"
    }
   ],
   "source": [
    "# let's get last item of each row of our rank2 tensor\n",
    "rank2_tensor[: , -1]"
   ]
  },
  {
   "cell_type": "code",
   "execution_count": null,
   "metadata": {
    "colab": {
     "base_uri": "https://localhost:8080/"
    },
    "id": "vXM2O00vFJp9",
    "outputId": "2d4111c5-ed76-47db-8ba0-a2af4b4499d1"
   },
   "outputs": [
    {
     "data": {
      "text/plain": [
       "<tf.Tensor: shape=(2, 1), dtype=int32, numpy=\n",
       "array([[7],\n",
       "       [4]], dtype=int32)>"
      ]
     },
     "execution_count": 54,
     "metadata": {
      "tags": []
     },
     "output_type": "execute_result"
    }
   ],
   "source": [
    "# if we want to add additional dimension\n",
    "rank2_tensor[: , -1:]"
   ]
  },
  {
   "cell_type": "markdown",
   "metadata": {
    "id": "V0lqMc4gFyd6"
   },
   "source": [
    "## Add in extra dimension to our rank2tensor\n",
    "`...` means for every axis\n",
    "There are 2 ways to do this.\n",
    "+ tf.newaxis()\n",
    "+ tf.expand_dims()"
   ]
  },
  {
   "cell_type": "code",
   "execution_count": null,
   "metadata": {
    "colab": {
     "base_uri": "https://localhost:8080/"
    },
    "id": "RSYS5PAfFh1g",
    "outputId": "9679523b-d789-4ddf-9fd7-88579a5bd984"
   },
   "outputs": [
    {
     "data": {
      "text/plain": [
       "<tf.Tensor: shape=(2, 2, 1), dtype=int32, numpy=\n",
       "array([[[10],\n",
       "        [ 7]],\n",
       "\n",
       "       [[ 3],\n",
       "        [ 4]]], dtype=int32)>"
      ]
     },
     "execution_count": 55,
     "metadata": {
      "tags": []
     },
     "output_type": "execute_result"
    }
   ],
   "source": [
    "# Add in extra dimension to our rank2tensor\n",
    "rank3_tensor = rank2_tensor[..., tf.newaxis] # same as [:, :, :, tf.newaxis]\n",
    "rank3_tensor"
   ]
  },
  {
   "cell_type": "code",
   "execution_count": null,
   "metadata": {
    "colab": {
     "base_uri": "https://localhost:8080/"
    },
    "id": "XHTFDAyUF-Ad",
    "outputId": "988fdc96-b65d-441b-dd6b-15543508ae8c"
   },
   "outputs": [
    {
     "data": {
      "text/plain": [
       "<tf.Tensor: shape=(2, 2, 1), dtype=int32, numpy=\n",
       "array([[[10],\n",
       "        [ 7]],\n",
       "\n",
       "       [[ 3],\n",
       "        [ 4]]], dtype=int32)>"
      ]
     },
     "execution_count": 57,
     "metadata": {
      "tags": []
     },
     "output_type": "execute_result"
    }
   ],
   "source": [
    "# Alternative to tf.newaxis\n",
    "tf.expand_dims(rank2_tensor, axis=-1) # -1 means expands to last axis\n",
    "\n",
    "# so from (2,2) became (2,2,1) , new 1 dimension to last axis"
   ]
  },
  {
   "cell_type": "code",
   "execution_count": null,
   "metadata": {
    "colab": {
     "base_uri": "https://localhost:8080/"
    },
    "id": "2L3fa2PVGjqY",
    "outputId": "a3b5d5a0-74dd-486e-e166-64b2cb1bff73"
   },
   "outputs": [
    {
     "data": {
      "text/plain": [
       "<tf.Tensor: shape=(1, 2, 2), dtype=int32, numpy=\n",
       "array([[[10,  7],\n",
       "        [ 3,  4]]], dtype=int32)>"
      ]
     },
     "execution_count": 62,
     "metadata": {
      "tags": []
     },
     "output_type": "execute_result"
    }
   ],
   "source": [
    "tf.expand_dims(rank2_tensor, axis=0)\n",
    "\n",
    "# so from (2,2) became (1,2,2) , new 1 dimension to first axis or 0 - axis"
   ]
  },
  {
   "cell_type": "code",
   "execution_count": null,
   "metadata": {
    "colab": {
     "base_uri": "https://localhost:8080/"
    },
    "id": "dpgm981bGxi9",
    "outputId": "29bd0a2e-1502-451a-f103-fcfbd8323908"
   },
   "outputs": [
    {
     "data": {
      "text/plain": [
       "<tf.Tensor: shape=(2, 1, 2), dtype=int32, numpy=\n",
       "array([[[10,  7]],\n",
       "\n",
       "       [[ 3,  4]]], dtype=int32)>"
      ]
     },
     "execution_count": 63,
     "metadata": {
      "tags": []
     },
     "output_type": "execute_result"
    }
   ],
   "source": [
    "tf.expand_dims(rank2_tensor, axis=1)"
   ]
  },
  {
   "cell_type": "markdown",
   "metadata": {
    "id": "x7kLGMlvHKd0"
   },
   "source": [
    "\n",
    "-----------"
   ]
  },
  {
   "cell_type": "markdown",
   "metadata": {
    "id": "V2SZNJFfHQpG"
   },
   "source": [
    "# Manipulating tensors with Basic Operations\n",
    "\n",
    "Finding patterns in tensors (numberical representation of data) requires manipulating them.\n",
    "\n",
    "Again, when building models in TensorFlow, much of this pattern discovery is done for you."
   ]
  },
  {
   "cell_type": "markdown",
   "metadata": {
    "id": "pwVakTPtHYLH"
   },
   "source": [
    "## Basic operations\n",
    "You can perform many of the basic mathematical operations directly on tensors using Pyhton operators such as, +, -, *, /"
   ]
  },
  {
   "cell_type": "code",
   "execution_count": null,
   "metadata": {
    "colab": {
     "base_uri": "https://localhost:8080/"
    },
    "id": "nWsa1o7wHqn0",
    "outputId": "5145ffa0-23e1-4a73-cb76-1ff1c270d621"
   },
   "outputs": [
    {
     "data": {
      "text/plain": [
       "<tf.Tensor: shape=(2, 2), dtype=int32, numpy=\n",
       "array([[20, 17],\n",
       "       [13, 14]], dtype=int32)>"
      ]
     },
     "execution_count": 7,
     "metadata": {
      "tags": []
     },
     "output_type": "execute_result"
    }
   ],
   "source": [
    "# we can add tensors \n",
    "tensor = tf.constant([[10, 7], [3, 4]])\n",
    "tensor + 10"
   ]
  },
  {
   "cell_type": "code",
   "execution_count": null,
   "metadata": {
    "colab": {
     "base_uri": "https://localhost:8080/"
    },
    "id": "nYtNMCLfO_EN",
    "outputId": "5dce84d0-60fe-4aef-b16b-c4d1aca614bd"
   },
   "outputs": [
    {
     "data": {
      "text/plain": [
       "<tf.Tensor: shape=(2, 2), dtype=int32, numpy=\n",
       "array([[10,  7],\n",
       "       [ 3,  4]], dtype=int32)>"
      ]
     },
     "execution_count": 8,
     "metadata": {
      "tags": []
     },
     "output_type": "execute_result"
    }
   ],
   "source": [
    "tensor # original tensor is unchanged."
   ]
  },
  {
   "cell_type": "code",
   "execution_count": null,
   "metadata": {
    "colab": {
     "base_uri": "https://localhost:8080/"
    },
    "id": "ROoGiItCPEgz",
    "outputId": "5c2ff759-91f4-4553-ff03-ab894427a565"
   },
   "outputs": [
    {
     "data": {
      "text/plain": [
       "<tf.Tensor: shape=(2, 2), dtype=int32, numpy=\n",
       "array([[20, 17],\n",
       "       [13, 14]], dtype=int32)>"
      ]
     },
     "execution_count": 9,
     "metadata": {
      "tags": []
     },
     "output_type": "execute_result"
    }
   ],
   "source": [
    "tensor = tensor + 10\n",
    "tensor"
   ]
  },
  {
   "cell_type": "code",
   "execution_count": null,
   "metadata": {
    "colab": {
     "base_uri": "https://localhost:8080/"
    },
    "id": "L92H3ja9PJ7P",
    "outputId": "dc171e30-c65e-4706-dd3f-2a44610b2f06"
   },
   "outputs": [
    {
     "data": {
      "text/plain": [
       "<tf.Tensor: shape=(2, 2), dtype=int32, numpy=\n",
       "array([[40, 34],\n",
       "       [26, 28]], dtype=int32)>"
      ]
     },
     "execution_count": 10,
     "metadata": {
      "tags": []
     },
     "output_type": "execute_result"
    }
   ],
   "source": [
    "# multiplication\n",
    "tensor * 2"
   ]
  },
  {
   "cell_type": "code",
   "execution_count": null,
   "metadata": {
    "colab": {
     "base_uri": "https://localhost:8080/"
    },
    "id": "QGDKfXVoPSvg",
    "outputId": "d271a061-1e5d-47d5-b97b-9fdb3d26e645"
   },
   "outputs": [
    {
     "data": {
      "text/plain": [
       "<tf.Tensor: shape=(2, 2), dtype=int32, numpy=\n",
       "array([[10,  7],\n",
       "       [ 3,  4]], dtype=int32)>"
      ]
     },
     "execution_count": 11,
     "metadata": {
      "tags": []
     },
     "output_type": "execute_result"
    }
   ],
   "source": [
    "tensor - 10"
   ]
  },
  {
   "cell_type": "code",
   "execution_count": null,
   "metadata": {
    "colab": {
     "base_uri": "https://localhost:8080/"
    },
    "id": "exVdgUSnPVWD",
    "outputId": "4e54b7f5-a230-4035-c5f7-1ce70afa0472"
   },
   "outputs": [
    {
     "data": {
      "text/plain": [
       "<tf.Tensor: shape=(2, 2), dtype=float64, numpy=\n",
       "array([[2.85714286, 2.42857143],\n",
       "       [1.85714286, 2.        ]])>"
      ]
     },
     "execution_count": 12,
     "metadata": {
      "tags": []
     },
     "output_type": "execute_result"
    }
   ],
   "source": [
    "tensor / 7"
   ]
  },
  {
   "cell_type": "code",
   "execution_count": null,
   "metadata": {
    "colab": {
     "base_uri": "https://localhost:8080/"
    },
    "id": "GOPGJ4xqPYjd",
    "outputId": "cd9032a4-09eb-413a-be1c-c67424845f28"
   },
   "outputs": [
    {
     "data": {
      "text/plain": [
       "<tf.Tensor: shape=(2, 2), dtype=int32, numpy=\n",
       "array([[200, 170],\n",
       "       [130, 140]], dtype=int32)>"
      ]
     },
     "execution_count": 13,
     "metadata": {
      "tags": []
     },
     "output_type": "execute_result"
    }
   ],
   "source": [
    "# We can use tensorflow built in functions too\n",
    "tf.multiply(tensor, 10)"
   ]
  },
  {
   "cell_type": "code",
   "execution_count": null,
   "metadata": {
    "colab": {
     "base_uri": "https://localhost:8080/"
    },
    "id": "a5Z0IshrPiIM",
    "outputId": "93c9a3d1-b786-4a37-9249-10e3eae30ae3"
   },
   "outputs": [
    {
     "data": {
      "text/plain": [
       "<tf.Tensor: shape=(2, 2), dtype=float64, numpy=\n",
       "array([[10. ,  8.5],\n",
       "       [ 6.5,  7. ]])>"
      ]
     },
     "execution_count": 14,
     "metadata": {
      "tags": []
     },
     "output_type": "execute_result"
    }
   ],
   "source": [
    "tf.divide(tensor, 2)"
   ]
  },
  {
   "cell_type": "code",
   "execution_count": null,
   "metadata": {
    "colab": {
     "base_uri": "https://localhost:8080/"
    },
    "id": "rOjbPmwbPpAy",
    "outputId": "93c25fab-5f7d-47e7-eea0-b6620910a97c"
   },
   "outputs": [
    {
     "data": {
      "text/plain": [
       "<tf.Tensor: shape=(2, 2), dtype=int32, numpy=\n",
       "array([[20, 17],\n",
       "       [13, 14]], dtype=int32)>"
      ]
     },
     "execution_count": 15,
     "metadata": {
      "tags": []
     },
     "output_type": "execute_result"
    }
   ],
   "source": [
    "tensor"
   ]
  },
  {
   "cell_type": "code",
   "execution_count": null,
   "metadata": {
    "colab": {
     "base_uri": "https://localhost:8080/"
    },
    "id": "FBDHhZIMP1qb",
    "outputId": "9f8c601c-0ecc-41cb-b1fa-758a345c6f90"
   },
   "outputs": [
    {
     "data": {
      "text/plain": [
       "<tf.Tensor: shape=(2, 2), dtype=int32, numpy=\n",
       "array([[25, 22],\n",
       "       [18, 19]], dtype=int32)>"
      ]
     },
     "execution_count": 16,
     "metadata": {
      "tags": []
     },
     "output_type": "execute_result"
    }
   ],
   "source": [
    "tf.add(tensor, 5)"
   ]
  },
  {
   "cell_type": "code",
   "execution_count": null,
   "metadata": {
    "colab": {
     "base_uri": "https://localhost:8080/"
    },
    "id": "mHaGJfR3P5aI",
    "outputId": "988d9c66-916e-413d-ff98-3763ec3e4ab2"
   },
   "outputs": [
    {
     "data": {
      "text/plain": [
       "<tf.Tensor: shape=(2, 2), dtype=int32, numpy=\n",
       "array([[10,  7],\n",
       "       [ 3,  4]], dtype=int32)>"
      ]
     },
     "execution_count": 17,
     "metadata": {
      "tags": []
     },
     "output_type": "execute_result"
    }
   ],
   "source": [
    "tf.subtract(tensor, 10)"
   ]
  },
  {
   "cell_type": "markdown",
   "metadata": {
    "id": "BygdA3jOP8E8"
   },
   "source": [
    "--------\n",
    "\n",
    "# Matrix mutliplication\n",
    "\n",
    "One of the most common operations in machine learning algorithms is [matrix multiplication](https://www.mathsisfun.com/algebra/matrix-multiplying.html).\n",
    "\n",
    "TensorFlow implements this matrix multiplication functionality in the [`tf.matmul()`](https://www.tensorflow.org/api_docs/python/tf/linalg/matmul) method.\n",
    "\n",
    "The main two rules for matrix multiplication to remember are:\n",
    "1. The inner dimensions must match:\n",
    "  * `(3, 5) @ (3, 5)` won't work\n",
    "  * `(5, 3) @ (3, 5)` will work\n",
    "  * `(3, 5) @ (5, 3)` will work\n",
    "2. The resulting matrix has the shape of the inner dimensions:\n",
    " * `(5, 3) @ (3, 5)` -> `(3, 3)`\n",
    " * `(3, 5) @ (5, 3)` -> `(5, 5)`\n",
    "\n",
    "> 🔑 **Note:** '`@`' in Python is the symbol for matrix multiplication.\n",
    "\n"
   ]
  },
  {
   "cell_type": "code",
   "execution_count": null,
   "metadata": {
    "colab": {
     "base_uri": "https://localhost:8080/"
    },
    "id": "scvq2CpCQmNk",
    "outputId": "9b78fe94-a23d-4a40-b775-b4d75e0368e4"
   },
   "outputs": [
    {
     "name": "stdout",
     "output_type": "stream",
     "text": [
      "tf.Tensor(\n",
      "[[20 17]\n",
      " [13 14]], shape=(2, 2), dtype=int32)\n"
     ]
    }
   ],
   "source": [
    "# matrix multiplication in tensorflow\n",
    "print(tensor)"
   ]
  },
  {
   "cell_type": "code",
   "execution_count": null,
   "metadata": {
    "colab": {
     "base_uri": "https://localhost:8080/"
    },
    "id": "BdCSbEiOfDou",
    "outputId": "9f233c0d-decc-4733-e6af-c865fdc451fa"
   },
   "outputs": [
    {
     "data": {
      "text/plain": [
       "<tf.Tensor: shape=(2, 2), dtype=int32, numpy=\n",
       "array([[621, 578],\n",
       "       [442, 417]], dtype=int32)>"
      ]
     },
     "execution_count": 20,
     "metadata": {
      "tags": []
     },
     "output_type": "execute_result"
    }
   ],
   "source": [
    "tf.matmul(tensor, tensor)"
   ]
  },
  {
   "cell_type": "code",
   "execution_count": null,
   "metadata": {
    "colab": {
     "base_uri": "https://localhost:8080/"
    },
    "id": "iIIpNvP0fKOt",
    "outputId": "2182ba81-fd15-4112-a07c-290fce2c9643"
   },
   "outputs": [
    {
     "data": {
      "text/plain": [
       "<tf.Tensor: shape=(2, 2), dtype=int32, numpy=\n",
       "array([[400, 289],\n",
       "       [169, 196]], dtype=int32)>"
      ]
     },
     "execution_count": 21,
     "metadata": {
      "tags": []
     },
     "output_type": "execute_result"
    }
   ],
   "source": [
    "tensor * tensor # element wise multiplication"
   ]
  },
  {
   "cell_type": "code",
   "execution_count": null,
   "metadata": {
    "colab": {
     "base_uri": "https://localhost:8080/"
    },
    "id": "oCQnMWZffRj-",
    "outputId": "967e5042-b904-4dcb-ada1-11c2d3c979d1"
   },
   "outputs": [
    {
     "data": {
      "text/plain": [
       "(<tf.Tensor: shape=(3, 3), dtype=int32, numpy=\n",
       " array([[1, 2, 5],\n",
       "        [7, 2, 1],\n",
       "        [3, 3, 3]], dtype=int32)>,\n",
       " <tf.Tensor: shape=(3, 2), dtype=int32, numpy=\n",
       " array([[3, 5],\n",
       "        [6, 7],\n",
       "        [1, 8]], dtype=int32)>)"
      ]
     },
     "execution_count": 22,
     "metadata": {
      "tags": []
     },
     "output_type": "execute_result"
    }
   ],
   "source": [
    "left_tensor = tf.constant([[1, 2, 5], [7, 2, 1], [3, 3, 3]])\n",
    "right_tensor = tf.constant([[3, 5], [6, 7], [1, 8]])\n",
    "\n",
    "left_tensor, right_tensor"
   ]
  },
  {
   "cell_type": "code",
   "execution_count": null,
   "metadata": {
    "colab": {
     "base_uri": "https://localhost:8080/"
    },
    "id": "eOBQov6Efsl3",
    "outputId": "dca1c0fc-8ed0-46ba-f5f4-ff68ccf9a738"
   },
   "outputs": [
    {
     "data": {
      "text/plain": [
       "<tf.Tensor: shape=(3, 2), dtype=int32, numpy=\n",
       "array([[20, 59],\n",
       "       [34, 57],\n",
       "       [30, 60]], dtype=int32)>"
      ]
     },
     "execution_count": 23,
     "metadata": {
      "tags": []
     },
     "output_type": "execute_result"
    }
   ],
   "source": [
    "tf.matmul(left_tensor, right_tensor)"
   ]
  },
  {
   "cell_type": "markdown",
   "metadata": {
    "id": "_sFS9KghfxH8"
   },
   "source": [
    "## Matrix multiplication with python operator @"
   ]
  },
  {
   "cell_type": "code",
   "execution_count": null,
   "metadata": {
    "colab": {
     "base_uri": "https://localhost:8080/"
    },
    "id": "uuMmVv9Lf5Nd",
    "outputId": "505231f9-9699-42db-9ffb-162646873de9"
   },
   "outputs": [
    {
     "data": {
      "text/plain": [
       "<tf.Tensor: shape=(3, 2), dtype=int32, numpy=\n",
       "array([[20, 59],\n",
       "       [34, 57],\n",
       "       [30, 60]], dtype=int32)>"
      ]
     },
     "execution_count": 25,
     "metadata": {
      "tags": []
     },
     "output_type": "execute_result"
    }
   ],
   "source": [
    "left_tensor @ right_tensor"
   ]
  },
  {
   "cell_type": "code",
   "execution_count": null,
   "metadata": {
    "colab": {
     "base_uri": "https://localhost:8080/"
    },
    "id": "3PLQIYiGf8WO",
    "outputId": "311d7fe0-21e8-4dfc-8390-0d6d852aa5ba"
   },
   "outputs": [
    {
     "data": {
      "text/plain": [
       "(<tf.Tensor: shape=(3, 2), dtype=int32, numpy=\n",
       " array([[1, 2],\n",
       "        [3, 4],\n",
       "        [5, 6]], dtype=int32)>, <tf.Tensor: shape=(3, 2), dtype=int32, numpy=\n",
       " array([[ 7,  8],\n",
       "        [ 9, 10],\n",
       "        [11, 12]], dtype=int32)>)"
      ]
     },
     "execution_count": 34,
     "metadata": {
      "tags": []
     },
     "output_type": "execute_result"
    }
   ],
   "source": [
    "# create a tensor (3,2) \n",
    "X = tf.constant([[1,2], [3, 4], [5, 6]])\n",
    "\n",
    "# create another (3, 2) tensor\n",
    "Y = tf.constant([[7, 8], [9, 10], [11, 12]])\n",
    "\n",
    "X, Y"
   ]
  },
  {
   "cell_type": "code",
   "execution_count": null,
   "metadata": {
    "colab": {
     "base_uri": "https://localhost:8080/",
     "height": 248
    },
    "id": "SQD2N5V7gaZQ",
    "outputId": "a5403572-fcbc-4119-c11b-fdbb5d39f86d"
   },
   "outputs": [
    {
     "ename": "InvalidArgumentError",
     "evalue": "ignored",
     "output_type": "error",
     "traceback": [
      "\u001b[0;31m---------------------------------------------------------------------------\u001b[0m",
      "\u001b[0;31mInvalidArgumentError\u001b[0m                      Traceback (most recent call last)",
      "\u001b[0;32m<ipython-input-28-68087214025d>\u001b[0m in \u001b[0;36m<module>\u001b[0;34m()\u001b[0m\n\u001b[1;32m      1\u001b[0m \u001b[0;31m# try to matrix multiply tensors of same shape\u001b[0m\u001b[0;34m\u001b[0m\u001b[0;34m\u001b[0m\u001b[0;34m\u001b[0m\u001b[0m\n\u001b[0;32m----> 2\u001b[0;31m \u001b[0mX\u001b[0m \u001b[0;34m@\u001b[0m \u001b[0mY\u001b[0m\u001b[0;34m\u001b[0m\u001b[0;34m\u001b[0m\u001b[0m\n\u001b[0m",
      "\u001b[0;32m/usr/local/lib/python3.7/dist-packages/tensorflow/python/ops/math_ops.py\u001b[0m in \u001b[0;36mbinary_op_wrapper\u001b[0;34m(x, y)\u001b[0m\n\u001b[1;32m   1162\u001b[0m     \u001b[0;32mwith\u001b[0m \u001b[0mops\u001b[0m\u001b[0;34m.\u001b[0m\u001b[0mname_scope\u001b[0m\u001b[0;34m(\u001b[0m\u001b[0;32mNone\u001b[0m\u001b[0;34m,\u001b[0m \u001b[0mop_name\u001b[0m\u001b[0;34m,\u001b[0m \u001b[0;34m[\u001b[0m\u001b[0mx\u001b[0m\u001b[0;34m,\u001b[0m \u001b[0my\u001b[0m\u001b[0;34m]\u001b[0m\u001b[0;34m)\u001b[0m \u001b[0;32mas\u001b[0m \u001b[0mname\u001b[0m\u001b[0;34m:\u001b[0m\u001b[0;34m\u001b[0m\u001b[0;34m\u001b[0m\u001b[0m\n\u001b[1;32m   1163\u001b[0m       \u001b[0;32mtry\u001b[0m\u001b[0;34m:\u001b[0m\u001b[0;34m\u001b[0m\u001b[0;34m\u001b[0m\u001b[0m\n\u001b[0;32m-> 1164\u001b[0;31m         \u001b[0;32mreturn\u001b[0m \u001b[0mfunc\u001b[0m\u001b[0;34m(\u001b[0m\u001b[0mx\u001b[0m\u001b[0;34m,\u001b[0m \u001b[0my\u001b[0m\u001b[0;34m,\u001b[0m \u001b[0mname\u001b[0m\u001b[0;34m=\u001b[0m\u001b[0mname\u001b[0m\u001b[0;34m)\u001b[0m\u001b[0;34m\u001b[0m\u001b[0;34m\u001b[0m\u001b[0m\n\u001b[0m\u001b[1;32m   1165\u001b[0m       \u001b[0;32mexcept\u001b[0m \u001b[0;34m(\u001b[0m\u001b[0mTypeError\u001b[0m\u001b[0;34m,\u001b[0m \u001b[0mValueError\u001b[0m\u001b[0;34m)\u001b[0m \u001b[0;32mas\u001b[0m \u001b[0me\u001b[0m\u001b[0;34m:\u001b[0m\u001b[0;34m\u001b[0m\u001b[0;34m\u001b[0m\u001b[0m\n\u001b[1;32m   1166\u001b[0m         \u001b[0;31m# Even if dispatching the op failed, the RHS may be a tensor aware\u001b[0m\u001b[0;34m\u001b[0m\u001b[0;34m\u001b[0m\u001b[0;34m\u001b[0m\u001b[0m\n",
      "\u001b[0;32m/usr/local/lib/python3.7/dist-packages/tensorflow/python/util/dispatch.py\u001b[0m in \u001b[0;36mwrapper\u001b[0;34m(*args, **kwargs)\u001b[0m\n\u001b[1;32m    199\u001b[0m     \u001b[0;34m\"\"\"Call target, and fall back on dispatchers if there is a TypeError.\"\"\"\u001b[0m\u001b[0;34m\u001b[0m\u001b[0;34m\u001b[0m\u001b[0m\n\u001b[1;32m    200\u001b[0m     \u001b[0;32mtry\u001b[0m\u001b[0;34m:\u001b[0m\u001b[0;34m\u001b[0m\u001b[0;34m\u001b[0m\u001b[0m\n\u001b[0;32m--> 201\u001b[0;31m       \u001b[0;32mreturn\u001b[0m \u001b[0mtarget\u001b[0m\u001b[0;34m(\u001b[0m\u001b[0;34m*\u001b[0m\u001b[0margs\u001b[0m\u001b[0;34m,\u001b[0m \u001b[0;34m**\u001b[0m\u001b[0mkwargs\u001b[0m\u001b[0;34m)\u001b[0m\u001b[0;34m\u001b[0m\u001b[0;34m\u001b[0m\u001b[0m\n\u001b[0m\u001b[1;32m    202\u001b[0m     \u001b[0;32mexcept\u001b[0m \u001b[0;34m(\u001b[0m\u001b[0mTypeError\u001b[0m\u001b[0;34m,\u001b[0m \u001b[0mValueError\u001b[0m\u001b[0;34m)\u001b[0m\u001b[0;34m:\u001b[0m\u001b[0;34m\u001b[0m\u001b[0;34m\u001b[0m\u001b[0m\n\u001b[1;32m    203\u001b[0m       \u001b[0;31m# Note: convert_to_eager_tensor currently raises a ValueError, not a\u001b[0m\u001b[0;34m\u001b[0m\u001b[0;34m\u001b[0m\u001b[0;34m\u001b[0m\u001b[0m\n",
      "\u001b[0;32m/usr/local/lib/python3.7/dist-packages/tensorflow/python/ops/math_ops.py\u001b[0m in \u001b[0;36mmatmul\u001b[0;34m(a, b, transpose_a, transpose_b, adjoint_a, adjoint_b, a_is_sparse, b_is_sparse, name)\u001b[0m\n\u001b[1;32m   3313\u001b[0m     \u001b[0;32melse\u001b[0m\u001b[0;34m:\u001b[0m\u001b[0;34m\u001b[0m\u001b[0;34m\u001b[0m\u001b[0m\n\u001b[1;32m   3314\u001b[0m       return gen_math_ops.mat_mul(\n\u001b[0;32m-> 3315\u001b[0;31m           a, b, transpose_a=transpose_a, transpose_b=transpose_b, name=name)\n\u001b[0m\u001b[1;32m   3316\u001b[0m \u001b[0;34m\u001b[0m\u001b[0m\n\u001b[1;32m   3317\u001b[0m \u001b[0;34m\u001b[0m\u001b[0m\n",
      "\u001b[0;32m/usr/local/lib/python3.7/dist-packages/tensorflow/python/ops/gen_math_ops.py\u001b[0m in \u001b[0;36mmat_mul\u001b[0;34m(a, b, transpose_a, transpose_b, name)\u001b[0m\n\u001b[1;32m   5530\u001b[0m       \u001b[0;32mreturn\u001b[0m \u001b[0m_result\u001b[0m\u001b[0;34m\u001b[0m\u001b[0;34m\u001b[0m\u001b[0m\n\u001b[1;32m   5531\u001b[0m     \u001b[0;32mexcept\u001b[0m \u001b[0m_core\u001b[0m\u001b[0;34m.\u001b[0m\u001b[0m_NotOkStatusException\u001b[0m \u001b[0;32mas\u001b[0m \u001b[0me\u001b[0m\u001b[0;34m:\u001b[0m\u001b[0;34m\u001b[0m\u001b[0;34m\u001b[0m\u001b[0m\n\u001b[0;32m-> 5532\u001b[0;31m       \u001b[0m_ops\u001b[0m\u001b[0;34m.\u001b[0m\u001b[0mraise_from_not_ok_status\u001b[0m\u001b[0;34m(\u001b[0m\u001b[0me\u001b[0m\u001b[0;34m,\u001b[0m \u001b[0mname\u001b[0m\u001b[0;34m)\u001b[0m\u001b[0;34m\u001b[0m\u001b[0;34m\u001b[0m\u001b[0m\n\u001b[0m\u001b[1;32m   5533\u001b[0m     \u001b[0;32mexcept\u001b[0m \u001b[0m_core\u001b[0m\u001b[0;34m.\u001b[0m\u001b[0m_FallbackException\u001b[0m\u001b[0;34m:\u001b[0m\u001b[0;34m\u001b[0m\u001b[0;34m\u001b[0m\u001b[0m\n\u001b[1;32m   5534\u001b[0m       \u001b[0;32mpass\u001b[0m\u001b[0;34m\u001b[0m\u001b[0;34m\u001b[0m\u001b[0m\n",
      "\u001b[0;32m/usr/local/lib/python3.7/dist-packages/tensorflow/python/framework/ops.py\u001b[0m in \u001b[0;36mraise_from_not_ok_status\u001b[0;34m(e, name)\u001b[0m\n\u001b[1;32m   6860\u001b[0m   \u001b[0mmessage\u001b[0m \u001b[0;34m=\u001b[0m \u001b[0me\u001b[0m\u001b[0;34m.\u001b[0m\u001b[0mmessage\u001b[0m \u001b[0;34m+\u001b[0m \u001b[0;34m(\u001b[0m\u001b[0;34m\" name: \"\u001b[0m \u001b[0;34m+\u001b[0m \u001b[0mname\u001b[0m \u001b[0;32mif\u001b[0m \u001b[0mname\u001b[0m \u001b[0;32mis\u001b[0m \u001b[0;32mnot\u001b[0m \u001b[0;32mNone\u001b[0m \u001b[0;32melse\u001b[0m \u001b[0;34m\"\"\u001b[0m\u001b[0;34m)\u001b[0m\u001b[0;34m\u001b[0m\u001b[0;34m\u001b[0m\u001b[0m\n\u001b[1;32m   6861\u001b[0m   \u001b[0;31m# pylint: disable=protected-access\u001b[0m\u001b[0;34m\u001b[0m\u001b[0;34m\u001b[0m\u001b[0;34m\u001b[0m\u001b[0m\n\u001b[0;32m-> 6862\u001b[0;31m   \u001b[0msix\u001b[0m\u001b[0;34m.\u001b[0m\u001b[0mraise_from\u001b[0m\u001b[0;34m(\u001b[0m\u001b[0mcore\u001b[0m\u001b[0;34m.\u001b[0m\u001b[0m_status_to_exception\u001b[0m\u001b[0;34m(\u001b[0m\u001b[0me\u001b[0m\u001b[0;34m.\u001b[0m\u001b[0mcode\u001b[0m\u001b[0;34m,\u001b[0m \u001b[0mmessage\u001b[0m\u001b[0;34m)\u001b[0m\u001b[0;34m,\u001b[0m \u001b[0;32mNone\u001b[0m\u001b[0;34m)\u001b[0m\u001b[0;34m\u001b[0m\u001b[0;34m\u001b[0m\u001b[0m\n\u001b[0m\u001b[1;32m   6863\u001b[0m   \u001b[0;31m# pylint: enable=protected-access\u001b[0m\u001b[0;34m\u001b[0m\u001b[0;34m\u001b[0m\u001b[0;34m\u001b[0m\u001b[0m\n\u001b[1;32m   6864\u001b[0m \u001b[0;34m\u001b[0m\u001b[0m\n",
      "\u001b[0;32m/usr/local/lib/python3.7/dist-packages/six.py\u001b[0m in \u001b[0;36mraise_from\u001b[0;34m(value, from_value)\u001b[0m\n",
      "\u001b[0;31mInvalidArgumentError\u001b[0m: Matrix size-incompatible: In[0]: [3,2], In[1]: [3,2] [Op:MatMul]"
     ]
    }
   ],
   "source": [
    "# try to matrix multiply tensors of same shape\n",
    "X @ Y"
   ]
  },
  {
   "cell_type": "code",
   "execution_count": null,
   "metadata": {
    "colab": {
     "base_uri": "https://localhost:8080/",
     "height": 230
    },
    "id": "0gPmfY7pgkK6",
    "outputId": "063b586f-9032-425f-99b7-260c52f16d71"
   },
   "outputs": [
    {
     "ename": "InvalidArgumentError",
     "evalue": "ignored",
     "output_type": "error",
     "traceback": [
      "\u001b[0;31m---------------------------------------------------------------------------\u001b[0m",
      "\u001b[0;31mInvalidArgumentError\u001b[0m                      Traceback (most recent call last)",
      "\u001b[0;32m<ipython-input-29-b58f5d491930>\u001b[0m in \u001b[0;36m<module>\u001b[0;34m()\u001b[0m\n\u001b[0;32m----> 1\u001b[0;31m \u001b[0mtf\u001b[0m\u001b[0;34m.\u001b[0m\u001b[0mmatmul\u001b[0m\u001b[0;34m(\u001b[0m\u001b[0mX\u001b[0m\u001b[0;34m,\u001b[0m \u001b[0mY\u001b[0m\u001b[0;34m)\u001b[0m\u001b[0;34m\u001b[0m\u001b[0;34m\u001b[0m\u001b[0m\n\u001b[0m",
      "\u001b[0;32m/usr/local/lib/python3.7/dist-packages/tensorflow/python/util/dispatch.py\u001b[0m in \u001b[0;36mwrapper\u001b[0;34m(*args, **kwargs)\u001b[0m\n\u001b[1;32m    199\u001b[0m     \u001b[0;34m\"\"\"Call target, and fall back on dispatchers if there is a TypeError.\"\"\"\u001b[0m\u001b[0;34m\u001b[0m\u001b[0;34m\u001b[0m\u001b[0m\n\u001b[1;32m    200\u001b[0m     \u001b[0;32mtry\u001b[0m\u001b[0;34m:\u001b[0m\u001b[0;34m\u001b[0m\u001b[0;34m\u001b[0m\u001b[0m\n\u001b[0;32m--> 201\u001b[0;31m       \u001b[0;32mreturn\u001b[0m \u001b[0mtarget\u001b[0m\u001b[0;34m(\u001b[0m\u001b[0;34m*\u001b[0m\u001b[0margs\u001b[0m\u001b[0;34m,\u001b[0m \u001b[0;34m**\u001b[0m\u001b[0mkwargs\u001b[0m\u001b[0;34m)\u001b[0m\u001b[0;34m\u001b[0m\u001b[0;34m\u001b[0m\u001b[0m\n\u001b[0m\u001b[1;32m    202\u001b[0m     \u001b[0;32mexcept\u001b[0m \u001b[0;34m(\u001b[0m\u001b[0mTypeError\u001b[0m\u001b[0;34m,\u001b[0m \u001b[0mValueError\u001b[0m\u001b[0;34m)\u001b[0m\u001b[0;34m:\u001b[0m\u001b[0;34m\u001b[0m\u001b[0;34m\u001b[0m\u001b[0m\n\u001b[1;32m    203\u001b[0m       \u001b[0;31m# Note: convert_to_eager_tensor currently raises a ValueError, not a\u001b[0m\u001b[0;34m\u001b[0m\u001b[0;34m\u001b[0m\u001b[0;34m\u001b[0m\u001b[0m\n",
      "\u001b[0;32m/usr/local/lib/python3.7/dist-packages/tensorflow/python/ops/math_ops.py\u001b[0m in \u001b[0;36mmatmul\u001b[0;34m(a, b, transpose_a, transpose_b, adjoint_a, adjoint_b, a_is_sparse, b_is_sparse, name)\u001b[0m\n\u001b[1;32m   3313\u001b[0m     \u001b[0;32melse\u001b[0m\u001b[0;34m:\u001b[0m\u001b[0;34m\u001b[0m\u001b[0;34m\u001b[0m\u001b[0m\n\u001b[1;32m   3314\u001b[0m       return gen_math_ops.mat_mul(\n\u001b[0;32m-> 3315\u001b[0;31m           a, b, transpose_a=transpose_a, transpose_b=transpose_b, name=name)\n\u001b[0m\u001b[1;32m   3316\u001b[0m \u001b[0;34m\u001b[0m\u001b[0m\n\u001b[1;32m   3317\u001b[0m \u001b[0;34m\u001b[0m\u001b[0m\n",
      "\u001b[0;32m/usr/local/lib/python3.7/dist-packages/tensorflow/python/ops/gen_math_ops.py\u001b[0m in \u001b[0;36mmat_mul\u001b[0;34m(a, b, transpose_a, transpose_b, name)\u001b[0m\n\u001b[1;32m   5530\u001b[0m       \u001b[0;32mreturn\u001b[0m \u001b[0m_result\u001b[0m\u001b[0;34m\u001b[0m\u001b[0;34m\u001b[0m\u001b[0m\n\u001b[1;32m   5531\u001b[0m     \u001b[0;32mexcept\u001b[0m \u001b[0m_core\u001b[0m\u001b[0;34m.\u001b[0m\u001b[0m_NotOkStatusException\u001b[0m \u001b[0;32mas\u001b[0m \u001b[0me\u001b[0m\u001b[0;34m:\u001b[0m\u001b[0;34m\u001b[0m\u001b[0;34m\u001b[0m\u001b[0m\n\u001b[0;32m-> 5532\u001b[0;31m       \u001b[0m_ops\u001b[0m\u001b[0;34m.\u001b[0m\u001b[0mraise_from_not_ok_status\u001b[0m\u001b[0;34m(\u001b[0m\u001b[0me\u001b[0m\u001b[0;34m,\u001b[0m \u001b[0mname\u001b[0m\u001b[0;34m)\u001b[0m\u001b[0;34m\u001b[0m\u001b[0;34m\u001b[0m\u001b[0m\n\u001b[0m\u001b[1;32m   5533\u001b[0m     \u001b[0;32mexcept\u001b[0m \u001b[0m_core\u001b[0m\u001b[0;34m.\u001b[0m\u001b[0m_FallbackException\u001b[0m\u001b[0;34m:\u001b[0m\u001b[0;34m\u001b[0m\u001b[0;34m\u001b[0m\u001b[0m\n\u001b[1;32m   5534\u001b[0m       \u001b[0;32mpass\u001b[0m\u001b[0;34m\u001b[0m\u001b[0;34m\u001b[0m\u001b[0m\n",
      "\u001b[0;32m/usr/local/lib/python3.7/dist-packages/tensorflow/python/framework/ops.py\u001b[0m in \u001b[0;36mraise_from_not_ok_status\u001b[0;34m(e, name)\u001b[0m\n\u001b[1;32m   6860\u001b[0m   \u001b[0mmessage\u001b[0m \u001b[0;34m=\u001b[0m \u001b[0me\u001b[0m\u001b[0;34m.\u001b[0m\u001b[0mmessage\u001b[0m \u001b[0;34m+\u001b[0m \u001b[0;34m(\u001b[0m\u001b[0;34m\" name: \"\u001b[0m \u001b[0;34m+\u001b[0m \u001b[0mname\u001b[0m \u001b[0;32mif\u001b[0m \u001b[0mname\u001b[0m \u001b[0;32mis\u001b[0m \u001b[0;32mnot\u001b[0m \u001b[0;32mNone\u001b[0m \u001b[0;32melse\u001b[0m \u001b[0;34m\"\"\u001b[0m\u001b[0;34m)\u001b[0m\u001b[0;34m\u001b[0m\u001b[0;34m\u001b[0m\u001b[0m\n\u001b[1;32m   6861\u001b[0m   \u001b[0;31m# pylint: disable=protected-access\u001b[0m\u001b[0;34m\u001b[0m\u001b[0;34m\u001b[0m\u001b[0;34m\u001b[0m\u001b[0m\n\u001b[0;32m-> 6862\u001b[0;31m   \u001b[0msix\u001b[0m\u001b[0;34m.\u001b[0m\u001b[0mraise_from\u001b[0m\u001b[0;34m(\u001b[0m\u001b[0mcore\u001b[0m\u001b[0;34m.\u001b[0m\u001b[0m_status_to_exception\u001b[0m\u001b[0;34m(\u001b[0m\u001b[0me\u001b[0m\u001b[0;34m.\u001b[0m\u001b[0mcode\u001b[0m\u001b[0;34m,\u001b[0m \u001b[0mmessage\u001b[0m\u001b[0;34m)\u001b[0m\u001b[0;34m,\u001b[0m \u001b[0;32mNone\u001b[0m\u001b[0;34m)\u001b[0m\u001b[0;34m\u001b[0m\u001b[0;34m\u001b[0m\u001b[0m\n\u001b[0m\u001b[1;32m   6863\u001b[0m   \u001b[0;31m# pylint: enable=protected-access\u001b[0m\u001b[0;34m\u001b[0m\u001b[0;34m\u001b[0m\u001b[0;34m\u001b[0m\u001b[0m\n\u001b[1;32m   6864\u001b[0m \u001b[0;34m\u001b[0m\u001b[0m\n",
      "\u001b[0;32m/usr/local/lib/python3.7/dist-packages/six.py\u001b[0m in \u001b[0;36mraise_from\u001b[0;34m(value, from_value)\u001b[0m\n",
      "\u001b[0;31mInvalidArgumentError\u001b[0m: Matrix size-incompatible: In[0]: [3,2], In[1]: [3,2] [Op:MatMul]"
     ]
    }
   ],
   "source": [
    "tf.matmul(X, Y)"
   ]
  },
  {
   "cell_type": "markdown",
   "metadata": {
    "id": "TDpx4E3fhh6b"
   },
   "source": [
    "## Matrix Mulitplication (Reshape tensors)\n",
    "Trying to matrix multiply two tensors with the shape `(3, 2)` errors because the inner dimensions don't match.\n",
    "\n",
    "We need to either:\n",
    "* Reshape X to `(2, 3)` so it's `(2, 3) @ (3, 2)`.\n",
    "* Reshape Y to `(3, 2)` so it's `(3, 2) @ (2, 3)`.\n",
    "\n",
    "We can do this with either:\n",
    "* [`tf.reshape()`](https://www.tensorflow.org/api_docs/python/tf/reshape) - allows us to reshape a tensor into a defined shape.\n",
    "* [`tf.transpose()`](https://www.tensorflow.org/api_docs/python/tf/transpose) - switches the dimensions of a given tensor.\n",
    "\n",
    "![lining up dimensions for dot products](https://raw.githubusercontent.com/mrdbourke/tensorflow-deep-learning/main/images/00-lining-up-dot-products.png)\n",
    "\n",
    "Let's try `tf.reshape()` first."
   ]
  },
  {
   "cell_type": "code",
   "execution_count": null,
   "metadata": {
    "colab": {
     "base_uri": "https://localhost:8080/"
    },
    "id": "mp9-GNcJjg9E",
    "outputId": "d3a28306-8748-43d8-a0dd-583c276ce98e"
   },
   "outputs": [
    {
     "data": {
      "text/plain": [
       "(TensorShape([3, 2]), TensorShape([3, 2]))"
      ]
     },
     "execution_count": 36,
     "metadata": {
      "tags": []
     },
     "output_type": "execute_result"
    }
   ],
   "source": [
    "X.shape, Y.shape"
   ]
  },
  {
   "cell_type": "code",
   "execution_count": null,
   "metadata": {
    "colab": {
     "base_uri": "https://localhost:8080/"
    },
    "id": "tpzbzyahgmzV",
    "outputId": "7ab577f7-0096-4909-95ec-4d68e4e2c1b4"
   },
   "outputs": [
    {
     "data": {
      "text/plain": [
       "<tf.Tensor: shape=(2, 3), dtype=int32, numpy=\n",
       "array([[1, 2, 3],\n",
       "       [4, 5, 6]], dtype=int32)>"
      ]
     },
     "execution_count": 35,
     "metadata": {
      "tags": []
     },
     "output_type": "execute_result"
    }
   ],
   "source": [
    "tf.reshape(X, shape=(2, 3))"
   ]
  },
  {
   "cell_type": "code",
   "execution_count": null,
   "metadata": {
    "colab": {
     "base_uri": "https://localhost:8080/"
    },
    "id": "ld4fRxZuhXND",
    "outputId": "5a35dbba-6d57-4cd4-be8f-cffaf1db6025"
   },
   "outputs": [
    {
     "data": {
      "text/plain": [
       "<tf.Tensor: shape=(2, 2), dtype=int32, numpy=\n",
       "array([[ 58,  64],\n",
       "       [139, 154]], dtype=int32)>"
      ]
     },
     "execution_count": 39,
     "metadata": {
      "tags": []
     },
     "output_type": "execute_result"
    }
   ],
   "source": [
    "# change the shape of X\n",
    "tf.matmul(tf.reshape(X, shape=(2, 3)), Y)"
   ]
  },
  {
   "cell_type": "code",
   "execution_count": null,
   "metadata": {
    "colab": {
     "base_uri": "https://localhost:8080/"
    },
    "id": "OzD9toAIhaGe",
    "outputId": "d063ccdc-dad3-497c-adce-848217f4ec12"
   },
   "outputs": [
    {
     "data": {
      "text/plain": [
       "<tf.Tensor: shape=(3, 3), dtype=int32, numpy=\n",
       "array([[ 27,  30,  33],\n",
       "       [ 61,  68,  75],\n",
       "       [ 95, 106, 117]], dtype=int32)>"
      ]
     },
     "execution_count": 42,
     "metadata": {
      "tags": []
     },
     "output_type": "execute_result"
    }
   ],
   "source": [
    "# change the shape of Y\n",
    "tf.matmul(X, tf.reshape(Y, shape=(2, 3)))"
   ]
  },
  {
   "cell_type": "code",
   "execution_count": null,
   "metadata": {
    "colab": {
     "base_uri": "https://localhost:8080/"
    },
    "id": "kObuIOu_naeI",
    "outputId": "e723df5c-a779-457d-9e7b-c5d068e91745"
   },
   "outputs": [
    {
     "data": {
      "text/plain": [
       "<tf.Tensor: shape=(3, 2), dtype=int32, numpy=\n",
       "array([[1, 2],\n",
       "       [3, 4],\n",
       "       [5, 6]], dtype=int32)>"
      ]
     },
     "execution_count": 45,
     "metadata": {
      "tags": []
     },
     "output_type": "execute_result"
    }
   ],
   "source": [
    "X"
   ]
  },
  {
   "cell_type": "markdown",
   "metadata": {
    "id": "UbAe1U4-n6Oy"
   },
   "source": [
    "## Matrix multiplication with Transpose\n",
    "\n",
    "Notice the difference in the resulting shapes when tranposing `X` or reshaping `Y`.\n",
    "\n",
    "This is because of the 2nd rule mentioned above:\n",
    " * `(3, 2) @ (2, 3)` -> `(2, 2)` done with `tf.matmul(tf.transpose(X), Y)`\n",
    " * `(2, 3) @ (3, 2)` -> `(3, 3)` done with `X @ tf.reshape(Y, shape=(2, 3))`\n",
    "\n",
    "This kind of data manipulation is a reminder: you'll spend a lot of your time in machine learning and working with neural networks reshaping data (in the form of tensors) to prepare it to be used with various operations (such as feeding it to a model).\n"
   ]
  },
  {
   "cell_type": "code",
   "execution_count": null,
   "metadata": {
    "colab": {
     "base_uri": "https://localhost:8080/"
    },
    "id": "QUgRi9PShboW",
    "outputId": "e5979e66-020e-46ae-a4ee-a6205ec0054c"
   },
   "outputs": [
    {
     "data": {
      "text/plain": [
       "(<tf.Tensor: shape=(2, 3), dtype=int32, numpy=\n",
       " array([[1, 3, 5],\n",
       "        [2, 4, 6]], dtype=int32)>,\n",
       " <tf.Tensor: shape=(2, 3), dtype=int32, numpy=\n",
       " array([[1, 2, 3],\n",
       "        [4, 5, 6]], dtype=int32)>)"
      ]
     },
     "execution_count": 47,
     "metadata": {
      "tags": []
     },
     "output_type": "execute_result"
    }
   ],
   "source": [
    "# can do the same with Transpose\n",
    "# but we can see that the results are different from Transpose & Reshape\n",
    "tf.transpose(X), tf.reshape(X, shape=(2, 3))"
   ]
  },
  {
   "cell_type": "code",
   "execution_count": null,
   "metadata": {
    "colab": {
     "base_uri": "https://localhost:8080/"
    },
    "id": "P6syOHOjm8Ae",
    "outputId": "08b96821-f6f5-4040-a5a6-1d48aa7288d5"
   },
   "outputs": [
    {
     "data": {
      "text/plain": [
       "<tf.Tensor: shape=(2, 2), dtype=int32, numpy=\n",
       "array([[ 89,  98],\n",
       "       [116, 128]], dtype=int32)>"
      ]
     },
     "execution_count": 48,
     "metadata": {
      "tags": []
     },
     "output_type": "execute_result"
    }
   ],
   "source": [
    "# try matrix multiplication with Transpose\n",
    "tf.matmul(tf.transpose(X), Y)"
   ]
  },
  {
   "cell_type": "markdown",
   "metadata": {
    "id": "wpW138y3oGjj"
   },
   "source": [
    "## The dot product\n",
    "\n",
    "Multiplying matrices by eachother is also referred to as the dot product.\n",
    "\n",
    "You can perform the `tf.matmul()` operation using [`tf.tensordot()`](https://www.tensorflow.org/api_docs/python/tf/tensordot). \n"
   ]
  },
  {
   "cell_type": "code",
   "execution_count": null,
   "metadata": {
    "colab": {
     "base_uri": "https://localhost:8080/"
    },
    "id": "kiZi7Yvjp0Tm",
    "outputId": "cac18917-4e2d-443b-a823-0270dae41538"
   },
   "outputs": [
    {
     "data": {
      "text/plain": [
       "(<tf.Tensor: shape=(3, 2), dtype=int32, numpy=\n",
       " array([[1, 2],\n",
       "        [3, 4],\n",
       "        [5, 6]], dtype=int32)>, <tf.Tensor: shape=(3, 2), dtype=int32, numpy=\n",
       " array([[ 7,  8],\n",
       "        [ 9, 10],\n",
       "        [11, 12]], dtype=int32)>)"
      ]
     },
     "execution_count": 49,
     "metadata": {
      "tags": []
     },
     "output_type": "execute_result"
    }
   ],
   "source": [
    "X, Y"
   ]
  },
  {
   "cell_type": "code",
   "execution_count": null,
   "metadata": {
    "colab": {
     "base_uri": "https://localhost:8080/"
    },
    "id": "BW_a_BBhpMdg",
    "outputId": "7f1e5d9f-6b4b-4dbc-f0b8-d050d0e19813"
   },
   "outputs": [
    {
     "data": {
      "text/plain": [
       "<tf.Tensor: shape=(2, 2), dtype=int32, numpy=\n",
       "array([[ 89,  98],\n",
       "       [116, 128]], dtype=int32)>"
      ]
     },
     "execution_count": 52,
     "metadata": {
      "tags": []
     },
     "output_type": "execute_result"
    }
   ],
   "source": [
    "# perform dot product on X and Y (requires X or Y to be transposed)\n",
    "tf.tensordot(tf.transpose(X), Y, axes=1)"
   ]
  },
  {
   "cell_type": "code",
   "execution_count": null,
   "metadata": {
    "colab": {
     "base_uri": "https://localhost:8080/"
    },
    "id": "sxKE42UGp4cR",
    "outputId": "a6ef2eec-1db3-4679-9623-27f5ee1ce71b"
   },
   "outputs": [
    {
     "data": {
      "text/plain": [
       "<tf.Tensor: shape=(3, 3), dtype=int32, numpy=\n",
       "array([[ 23,  29,  35],\n",
       "       [ 53,  67,  81],\n",
       "       [ 83, 105, 127]], dtype=int32)>"
      ]
     },
     "execution_count": 53,
     "metadata": {
      "tags": []
     },
     "output_type": "execute_result"
    }
   ],
   "source": [
    "# perform matrix mulitplication between X and Y  (transpose)\n",
    "tf.matmul(X, tf.transpose(Y))"
   ]
  },
  {
   "cell_type": "code",
   "execution_count": null,
   "metadata": {
    "colab": {
     "base_uri": "https://localhost:8080/"
    },
    "id": "QM9T1hJ-qZA-",
    "outputId": "948b39b7-4db9-4658-bc77-3d414a283d90"
   },
   "outputs": [
    {
     "data": {
      "text/plain": [
       "<tf.Tensor: shape=(3, 3), dtype=int32, numpy=\n",
       "array([[ 27,  30,  33],\n",
       "       [ 61,  68,  75],\n",
       "       [ 95, 106, 117]], dtype=int32)>"
      ]
     },
     "execution_count": 54,
     "metadata": {
      "tags": []
     },
     "output_type": "execute_result"
    }
   ],
   "source": [
    "# perform matrix multiplication between X and Y (reshape)\n",
    "tf.matmul(X, tf.reshape(Y, shape=(2,3)))"
   ]
  },
  {
   "cell_type": "markdown",
   "metadata": {
    "id": "qkNGXwbNrJnh"
   },
   "source": [
    "## Check the value of Y, reshape Y and transposed Y"
   ]
  },
  {
   "cell_type": "code",
   "execution_count": null,
   "metadata": {
    "colab": {
     "base_uri": "https://localhost:8080/"
    },
    "id": "U1wKSSHPqi24",
    "outputId": "2d45e9d8-6051-47b2-f865-3b31d7de3975"
   },
   "outputs": [
    {
     "name": "stdout",
     "output_type": "stream",
     "text": [
      "Normal Y:  tf.Tensor(\n",
      "[[ 7  8]\n",
      " [ 9 10]\n",
      " [11 12]], shape=(3, 2), dtype=int32)\n",
      "\n",
      " Y reshaped:  tf.Tensor(\n",
      "[[ 7  8  9]\n",
      " [10 11 12]], shape=(2, 3), dtype=int32)\n",
      "\n",
      " Y transposed:  tf.Tensor(\n",
      "[[ 7  9 11]\n",
      " [ 8 10 12]], shape=(2, 3), dtype=int32)\n"
     ]
    }
   ],
   "source": [
    "# Check the value of Y, reshape Y and transposed Y\n",
    "print('Normal Y: ', Y)\n",
    "print('\\n Y reshaped: ', tf.reshape(Y, shape=(2, 3)))\n",
    "print('\\n Y transposed: ', tf.transpose(Y))"
   ]
  },
  {
   "cell_type": "markdown",
   "metadata": {
    "id": "jfGz6qi9rA0Z"
   },
   "source": [
    "As you can see, the outputs of `tf.reshape()` and `tf.transpose()` when called on `Y`, even though they have the same shape, are different.\n",
    "\n",
    "This can be explained by the default behaviour of each method:\n",
    "* [`tf.reshape()`](https://www.tensorflow.org/api_docs/python/tf/reshape) - change the shape of the given tensor (first) and then insert values in order they appear (in our case, 7, 8, 9, 10, 11, 12).\n",
    "* [`tf.transpose()`](https://www.tensorflow.org/api_docs/python/tf/transpose) - swap the order of the axes, by default the last axis becomes the first, however the order can be changed using the [`perm` parameter](https://www.tensorflow.org/api_docs/python/tf/transpose).\n",
    "\n",
    "\n",
    "So which should you use?\n",
    "\n",
    "Again, most of the time these operations (when they need to be run, such as during the training a neural network, will be implemented for you).\n",
    "\n",
    "But generally, whenever performing a matrix multiplication and the shapes of two matrices don't line up, you will transpose (not reshape) one of them in order to line them up."
   ]
  },
  {
   "cell_type": "markdown",
   "metadata": {
    "id": "v19xkKZKBBEe"
   },
   "source": [
    "## Matrix multiplication tidbits\n",
    "* If we transposed `Y`, it would be represented as $\\mathbf{Y}^\\mathsf{T}$ (note the capital T for tranpose).\n",
    "* Get an illustrative view of matrix multiplication [by Math is Fun](https://www.mathsisfun.com/algebra/matrix-multiplying.html).\n",
    "* Try a hands-on demo of matrix multiplcation: http://matrixmultiplication.xyz/ (shown below).\n",
    "\n",
    "![visual demo of matrix multiplication](https://raw.githubusercontent.com/mrdbourke/tensorflow-deep-learning/main/images/00-matrix-multiply-crop.gif)\n"
   ]
  },
  {
   "cell_type": "markdown",
   "metadata": {
    "id": "M57sBTMaBinY"
   },
   "source": [
    "------\n"
   ]
  },
  {
   "cell_type": "markdown",
   "metadata": {
    "id": "0Ic-Cf-fBngP"
   },
   "source": [
    "\n",
    "# Changing the datatype of a tensor\n",
    "\n",
    "Sometimes we want to alter the default datatype of tensor. \n",
    "\n",
    "This is common when we want to compute using less precision (e.g. 16-bit floating point numbers vs. 32-bit floating point numbers). \n",
    "\n",
    "Computing with less precision is useful on devices with less computing capacity such as mobile devices (because the less bits, the less space the computations require).\n",
    "\n",
    "we can change the datatype of a tensor using [`tf.cast()`](https://www.tensorflow.org/api_docs/python/tf/cast)."
   ]
  },
  {
   "cell_type": "code",
   "execution_count": null,
   "metadata": {
    "colab": {
     "base_uri": "https://localhost:8080/",
     "height": 36
    },
    "id": "A_JsKJRpC1Px",
    "outputId": "e3b2a4d6-189f-47b2-d040-917413f97622"
   },
   "outputs": [
    {
     "data": {
      "application/vnd.google.colaboratory.intrinsic+json": {
       "type": "string"
      },
      "text/plain": [
       "'2.4.1'"
      ]
     },
     "execution_count": 64,
     "metadata": {
      "tags": []
     },
     "output_type": "execute_result"
    }
   ],
   "source": [
    "tf.__version__"
   ]
  },
  {
   "cell_type": "code",
   "execution_count": null,
   "metadata": {
    "colab": {
     "base_uri": "https://localhost:8080/"
    },
    "id": "d4fH1aPLCjcA",
    "outputId": "9e33166b-0e58-4795-ab7e-ba0afc9444e1"
   },
   "outputs": [
    {
     "data": {
      "text/plain": [
       "tf.float32"
      ]
     },
     "execution_count": 62,
     "metadata": {
      "tags": []
     },
     "output_type": "execute_result"
    }
   ],
   "source": [
    "# create a new tensor with default datatype (float 32)\n",
    "B = tf.constant([1.7, 7.4])\n",
    "B.dtype"
   ]
  },
  {
   "cell_type": "code",
   "execution_count": null,
   "metadata": {
    "colab": {
     "base_uri": "https://localhost:8080/"
    },
    "id": "gOtgqerQCuRW",
    "outputId": "d94843ae-7e1c-437b-c2f7-8bfd67495d8e"
   },
   "outputs": [
    {
     "data": {
      "text/plain": [
       "tf.int32"
      ]
     },
     "execution_count": 63,
     "metadata": {
      "tags": []
     },
     "output_type": "execute_result"
    }
   ],
   "source": [
    "C = tf.constant([7, 10])\n",
    "C.dtype"
   ]
  },
  {
   "cell_type": "code",
   "execution_count": null,
   "metadata": {
    "colab": {
     "base_uri": "https://localhost:8080/"
    },
    "id": "xWQSBOaaCw0W",
    "outputId": "64c8b7ab-760e-4ebf-f864-71adae4ba2cf"
   },
   "outputs": [
    {
     "data": {
      "text/plain": [
       "tf.float16"
      ]
     },
     "execution_count": 67,
     "metadata": {
      "tags": []
     },
     "output_type": "execute_result"
    }
   ],
   "source": [
    "# Change from float 32 to float16 (reduced precision)\n",
    "D = tf.cast(B, dtype=tf.float16)\n",
    "D.dtype"
   ]
  },
  {
   "cell_type": "code",
   "execution_count": null,
   "metadata": {
    "colab": {
     "base_uri": "https://localhost:8080/"
    },
    "id": "NsxaX6jVDf2M",
    "outputId": "d0c46b6b-0e50-42b2-8252-7db50e0d68ab"
   },
   "outputs": [
    {
     "data": {
      "text/plain": [
       "tf.float32"
      ]
     },
     "execution_count": 68,
     "metadata": {
      "tags": []
     },
     "output_type": "execute_result"
    }
   ],
   "source": [
    "# change from int32 to float32\n",
    "E = tf.cast(C, dtype=tf.float32)\n",
    "E.dtype"
   ]
  },
  {
   "cell_type": "code",
   "execution_count": null,
   "metadata": {
    "colab": {
     "base_uri": "https://localhost:8080/"
    },
    "id": "7fcqqLQjDh24",
    "outputId": "7665c8de-5050-490a-f80b-bdd4920a9303"
   },
   "outputs": [
    {
     "data": {
      "text/plain": [
       "tf.float16"
      ]
     },
     "execution_count": 69,
     "metadata": {
      "tags": []
     },
     "output_type": "execute_result"
    }
   ],
   "source": [
    "E_float16 = tf.cast(E, dtype=tf.float16)\n",
    "E_float16.dtype"
   ]
  },
  {
   "cell_type": "markdown",
   "metadata": {
    "id": "xTomSE4GEFf_"
   },
   "source": [
    "----"
   ]
  },
  {
   "cell_type": "markdown",
   "metadata": {
    "id": "O_KCt2U_EKsr"
   },
   "source": [
    "# Getting the absolute Value\n",
    "Sometimes we want the absolute values (all values are positive) of elements in tensors.\n",
    "\n",
    "To do so, we can use [`tf.abs()`](https://www.tensorflow.org/api_docs/python/tf/math/abs)."
   ]
  },
  {
   "cell_type": "code",
   "execution_count": null,
   "metadata": {
    "colab": {
     "base_uri": "https://localhost:8080/"
    },
    "id": "pIqe-3DlEwZu",
    "outputId": "f345d7b6-7501-43f2-cf36-88320d7c08fa"
   },
   "outputs": [
    {
     "data": {
      "text/plain": [
       "<tf.Tensor: shape=(1, 2), dtype=int32, numpy=array([[-7, -9]], dtype=int32)>"
      ]
     },
     "execution_count": 70,
     "metadata": {
      "tags": []
     },
     "output_type": "execute_result"
    }
   ],
   "source": [
    "test = tf.constant([[-7, -9]])\n",
    "test"
   ]
  },
  {
   "cell_type": "code",
   "execution_count": null,
   "metadata": {
    "colab": {
     "base_uri": "https://localhost:8080/"
    },
    "id": "0YTBQUYoE2gt",
    "outputId": "b12ac8c5-140f-4231-b435-a315234d4695"
   },
   "outputs": [
    {
     "data": {
      "text/plain": [
       "<tf.Tensor: shape=(1, 2), dtype=int32, numpy=array([[7, 9]], dtype=int32)>"
      ]
     },
     "execution_count": 72,
     "metadata": {
      "tags": []
     },
     "output_type": "execute_result"
    }
   ],
   "source": [
    "tf.abs(test) # Get the absolute values"
   ]
  },
  {
   "cell_type": "markdown",
   "metadata": {
    "id": "BrUkVsL-E4OQ"
   },
   "source": [
    "----\n",
    "\n",
    "# Aggregation Tensors\n",
    "\n",
    "### Finding the min, max, mean, sum (aggregation)\n",
    "\n",
    "we can quickly aggregate (perform a calculation on a whole tensor) tensors to find things like the minimum value, maximum value, mean and sum of all the elements.\n",
    "\n",
    "To do so, aggregation methods typically have the syntax `reduce()_[action]`, such as:\n",
    "* [`tf.reduce_min()`](https://www.tensorflow.org/api_docs/python/tf/math/reduce_min) - find the minimum value in a tensor.\n",
    "* [`tf.reduce_max()`](https://www.tensorflow.org/api_docs/python/tf/math/reduce_max) - find the maximum value in a tensor (helpful for when you want to find the highest prediction probability).\n",
    "* [`tf.reduce_mean()`](https://www.tensorflow.org/api_docs/python/tf/math/reduce_mean) - find the mean of all elements in a tensor.\n",
    "* [`tf.reduce_sum()`](https://www.tensorflow.org/api_docs/python/tf/math/reduce_sum) - find the sum of all elements in a tensor.\n",
    "* **Note:** typically, each of these is under the `math` module, e.g. `tf.math.reduce_min()` but we can use the alias `tf.reduce_min()`.\n",
    "\n",
    "Let's see them in action.\n"
   ]
  },
  {
   "cell_type": "markdown",
   "metadata": {
    "id": "T9PeruD0FSrZ"
   },
   "source": [
    "**Aggregrating Tensors**: condensing them from multiple values down to a smaller amount of values."
   ]
  },
  {
   "cell_type": "code",
   "execution_count": null,
   "metadata": {
    "id": "BQxw1q3EG-UU"
   },
   "outputs": [],
   "source": [
    "import numpy as np"
   ]
  },
  {
   "cell_type": "code",
   "execution_count": null,
   "metadata": {
    "colab": {
     "base_uri": "https://localhost:8080/"
    },
    "id": "cRVpROMzF6vK",
    "outputId": "0f88b785-5fb8-4209-9ecf-3d232087f034"
   },
   "outputs": [
    {
     "data": {
      "text/plain": [
       "<tf.Tensor: shape=(50,), dtype=int64, numpy=\n",
       "array([48, 24, 67,  6, 55, 34, 38, 33, 98, 37,  3, 17, 45, 28, 85, 30, 39,\n",
       "       51, 99, 36,  4, 38,  6, 97, 89, 38, 39, 88,  5, 91, 30, 27, 96, 99,\n",
       "       84, 72, 51, 52,  4, 90, 98,  8, 25, 92,  3, 46, 15,  0, 86, 38])>"
      ]
     },
     "execution_count": 80,
     "metadata": {
      "tags": []
     },
     "output_type": "execute_result"
    }
   ],
   "source": [
    "# create a random tensor with values between 0 and 100\n",
    "sample = tf.constant(np.random.randint(0, 100, size=50))\n",
    "sample"
   ]
  },
  {
   "cell_type": "code",
   "execution_count": null,
   "metadata": {
    "colab": {
     "base_uri": "https://localhost:8080/"
    },
    "id": "BbOf1PhpGoBT",
    "outputId": "609368da-2886-4bed-df68-61c52a71d032"
   },
   "outputs": [
    {
     "data": {
      "text/plain": [
       "<tf.Tensor: shape=(), dtype=int64, numpy=0>"
      ]
     },
     "execution_count": 81,
     "metadata": {
      "tags": []
     },
     "output_type": "execute_result"
    }
   ],
   "source": [
    "# find the minimum\n",
    "tf.reduce_min(sample)"
   ]
  },
  {
   "cell_type": "code",
   "execution_count": null,
   "metadata": {
    "colab": {
     "base_uri": "https://localhost:8080/"
    },
    "id": "zdX39R2FGsiU",
    "outputId": "72f22324-c668-43fa-fc34-85ead878a280"
   },
   "outputs": [
    {
     "data": {
      "text/plain": [
       "<tf.Tensor: shape=(), dtype=int64, numpy=99>"
      ]
     },
     "execution_count": 82,
     "metadata": {
      "tags": []
     },
     "output_type": "execute_result"
    }
   ],
   "source": [
    "# find the maximum\n",
    "tf.reduce_max(sample)"
   ]
  },
  {
   "cell_type": "code",
   "execution_count": null,
   "metadata": {
    "colab": {
     "base_uri": "https://localhost:8080/"
    },
    "id": "2fZfLLPkGvTj",
    "outputId": "d4d25b15-6b2b-409b-ba7c-ba8cf6c4bb9e"
   },
   "outputs": [
    {
     "data": {
      "text/plain": [
       "<tf.Tensor: shape=(), dtype=int64, numpy=47>"
      ]
     },
     "execution_count": 83,
     "metadata": {
      "tags": []
     },
     "output_type": "execute_result"
    }
   ],
   "source": [
    "# find the mean\n",
    "tf.reduce_mean(sample)"
   ]
  },
  {
   "cell_type": "code",
   "execution_count": null,
   "metadata": {
    "colab": {
     "base_uri": "https://localhost:8080/"
    },
    "id": "_mNiyqC7GyG-",
    "outputId": "7522f266-09d6-41ca-99c2-44ce48281d6e"
   },
   "outputs": [
    {
     "data": {
      "text/plain": [
       "<tf.Tensor: shape=(), dtype=int64, numpy=2384>"
      ]
     },
     "execution_count": 85,
     "metadata": {
      "tags": []
     },
     "output_type": "execute_result"
    }
   ],
   "source": [
    "# find the sum\n",
    "tf.reduce_sum(sample)"
   ]
  },
  {
   "cell_type": "code",
   "execution_count": null,
   "metadata": {
    "id": "dzmTXl1UIiUj"
   },
   "outputs": [],
   "source": [
    "import tensorflow_probability as tfp"
   ]
  },
  {
   "cell_type": "code",
   "execution_count": null,
   "metadata": {
    "colab": {
     "base_uri": "https://localhost:8080/"
    },
    "id": "AroKnTQtG0tY",
    "outputId": "fe299c10-22dc-44b1-8d31-5107c9628899"
   },
   "outputs": [
    {
     "data": {
      "text/plain": [
       "<tf.Tensor: shape=(), dtype=int64, numpy=1039>"
      ]
     },
     "execution_count": 90,
     "metadata": {
      "tags": []
     },
     "output_type": "execute_result"
    }
   ],
   "source": [
    "# find the variance\n",
    "tfp.stats.variance(sample)"
   ]
  },
  {
   "cell_type": "code",
   "execution_count": null,
   "metadata": {
    "colab": {
     "base_uri": "https://localhost:8080/"
    },
    "id": "BxZ_Sm_nJl5Y",
    "outputId": "94f6d15f-fad8-4843-d4dc-72d7fc3f819a"
   },
   "outputs": [
    {
     "data": {
      "text/plain": [
       "<tf.Tensor: shape=(), dtype=float32, numpy=1039.3776>"
      ]
     },
     "execution_count": 93,
     "metadata": {
      "tags": []
     },
     "output_type": "execute_result"
    }
   ],
   "source": [
    "tf.math.reduce_variance(tf.cast(sample, dtype=tf.float32))"
   ]
  },
  {
   "cell_type": "code",
   "execution_count": null,
   "metadata": {
    "colab": {
     "base_uri": "https://localhost:8080/"
    },
    "id": "7mqWz1vgHj4G",
    "outputId": "791d97c9-f15f-48bd-85d4-92d65cdae018"
   },
   "outputs": [
    {
     "data": {
      "text/plain": [
       "<tf.Tensor: shape=(), dtype=float32, numpy=32.23938>"
      ]
     },
     "execution_count": 92,
     "metadata": {
      "tags": []
     },
     "output_type": "execute_result"
    }
   ],
   "source": [
    "# find the standard deviation\n",
    "tf.math.reduce_std(tf.cast(sample, dtype=tf.float32))"
   ]
  },
  {
   "cell_type": "markdown",
   "metadata": {
    "id": "E4yNnYG6HyL1"
   },
   "source": [
    "\n",
    "---------\n",
    "\n",
    "We can also find the standard deviation ([`tf.reduce_std()`](https://www.tensorflow.org/api_docs/python/tf/math/reduce_std)) and variance ([`tf.reduce_variance()`](https://www.tensorflow.org/api_docs/python/tf/math/reduce_variance)) of elements in a tensor using similar methods.\n",
    "\n",
    "# Finding the positional maximum and minimum\n",
    "\n",
    "How about finding the position a tensor where the maximum value occurs?\n",
    "\n",
    "This is helpful when you want to line up our labels (say `['Green', 'Blue', 'Red']`) with our prediction probabilities tensor (e.g. `[0.98, 0.01, 0.01]`).\n",
    "\n",
    "In this case, the predicted label (the one with the highest prediction probability) would be `'Green'`.\n",
    "\n",
    "We can do the same for the minimum (if required) with the following:\n",
    "* [`tf.argmax()`](https://www.tensorflow.org/api_docs/python/tf/math/argmax) - find the position of the maximum element in a given tensor.\n",
    "* [`tf.argmin()`](https://www.tensorflow.org/api_docs/python/tf/math/argmin) - find the position of the minimum element in a given tensor."
   ]
  },
  {
   "cell_type": "code",
   "execution_count": null,
   "metadata": {
    "colab": {
     "base_uri": "https://localhost:8080/"
    },
    "id": "ppO6iVvWJhnp",
    "outputId": "bf61f043-8f3d-4433-8761-c214fc38dd1d"
   },
   "outputs": [
    {
     "data": {
      "text/plain": [
       "<tf.Tensor: shape=(50,), dtype=float32, numpy=\n",
       "array([0.6645621 , 0.44100678, 0.3528825 , 0.46448255, 0.03366041,\n",
       "       0.68467236, 0.74011743, 0.8724445 , 0.22632635, 0.22319686,\n",
       "       0.3103881 , 0.7223358 , 0.13318717, 0.5480639 , 0.5746088 ,\n",
       "       0.8996835 , 0.00946367, 0.5212307 , 0.6345445 , 0.1993283 ,\n",
       "       0.72942245, 0.54583454, 0.10756552, 0.6767061 , 0.6602763 ,\n",
       "       0.33695042, 0.60141766, 0.21062577, 0.8527372 , 0.44062173,\n",
       "       0.9485276 , 0.23752594, 0.81179297, 0.5263394 , 0.494308  ,\n",
       "       0.21612847, 0.8457197 , 0.8718841 , 0.3083862 , 0.6868038 ,\n",
       "       0.23764038, 0.7817228 , 0.9671384 , 0.06870162, 0.79873943,\n",
       "       0.66028714, 0.5871513 , 0.16461694, 0.7381023 , 0.32054043],\n",
       "      dtype=float32)>"
      ]
     },
     "execution_count": 96,
     "metadata": {
      "tags": []
     },
     "output_type": "execute_result"
    }
   ],
   "source": [
    "# create a new tensor for finding positional minimum and maximum\n",
    "tf.random.set_seed(42)\n",
    "F = tf.random.uniform(shape=[50])\n",
    "F"
   ]
  },
  {
   "cell_type": "code",
   "execution_count": null,
   "metadata": {
    "colab": {
     "base_uri": "https://localhost:8080/"
    },
    "id": "EBNMK1TbiMmw",
    "outputId": "c02d0a25-3b5c-45aa-95ce-bccf938f45d2"
   },
   "outputs": [
    {
     "data": {
      "text/plain": [
       "<tf.Tensor: shape=(), dtype=int64, numpy=42>"
      ]
     },
     "execution_count": 97,
     "metadata": {
      "tags": []
     },
     "output_type": "execute_result"
    }
   ],
   "source": [
    "# Find the positional maximum, Position where maximum value is located\n",
    "tf.argmax(F)"
   ]
  },
  {
   "cell_type": "code",
   "execution_count": null,
   "metadata": {
    "colab": {
     "base_uri": "https://localhost:8080/"
    },
    "id": "WwKkS4N3ihjc",
    "outputId": "8b3c9a95-4e30-4aea-aaaa-bfe3a0f22544"
   },
   "outputs": [
    {
     "data": {
      "text/plain": [
       "42"
      ]
     },
     "execution_count": 98,
     "metadata": {
      "tags": []
     },
     "output_type": "execute_result"
    }
   ],
   "source": [
    "np.argmax(F)"
   ]
  },
  {
   "cell_type": "code",
   "execution_count": null,
   "metadata": {
    "colab": {
     "base_uri": "https://localhost:8080/"
    },
    "id": "_ll-WNsXijbb",
    "outputId": "530e5ba6-8a18-458a-854e-43b9eaf8cc58"
   },
   "outputs": [
    {
     "data": {
      "text/plain": [
       "<tf.Tensor: shape=(), dtype=float32, numpy=0.9671384>"
      ]
     },
     "execution_count": 100,
     "metadata": {
      "tags": []
     },
     "output_type": "execute_result"
    }
   ],
   "source": [
    "# Index on our largest value position\n",
    "# using that index, we can get the value of largest number\n",
    "F[tf.argmax(F)]"
   ]
  },
  {
   "cell_type": "code",
   "execution_count": null,
   "metadata": {
    "colab": {
     "base_uri": "https://localhost:8080/"
    },
    "id": "2ky6zVYgi0PE",
    "outputId": "76128a0d-ac58-448b-f93a-fba46bcd0d6a"
   },
   "outputs": [
    {
     "data": {
      "text/plain": [
       "<tf.Tensor: shape=(), dtype=float32, numpy=0.9671384>"
      ]
     },
     "execution_count": 101,
     "metadata": {
      "tags": []
     },
     "output_type": "execute_result"
    }
   ],
   "source": [
    "# Find the maximum value using reduce_max\n",
    "tf.reduce_max(F)"
   ]
  },
  {
   "cell_type": "markdown",
   "metadata": {
    "id": "BfTRpKMljE4Z"
   },
   "source": [
    "All those values using different methods lined up."
   ]
  },
  {
   "cell_type": "code",
   "execution_count": null,
   "metadata": {
    "id": "bjArjSStjJa_"
   },
   "outputs": [],
   "source": [
    "# Check for equlity\n",
    "# As those values are equal, we don't get any errors\n",
    "assert(F[tf.argmax(F)]) == tf.reduce_max(F)"
   ]
  },
  {
   "cell_type": "code",
   "execution_count": null,
   "metadata": {
    "colab": {
     "base_uri": "https://localhost:8080/"
    },
    "id": "OL69gYEwjW65",
    "outputId": "a5685a7d-d1ab-43e5-9e05-7fa75cc25d31"
   },
   "outputs": [
    {
     "data": {
      "text/plain": [
       "<tf.Tensor: shape=(), dtype=bool, numpy=True>"
      ]
     },
     "execution_count": 106,
     "metadata": {
      "tags": []
     },
     "output_type": "execute_result"
    }
   ],
   "source": [
    "F[tf.argmax(F)] == tf.reduce_max(F)"
   ]
  },
  {
   "cell_type": "code",
   "execution_count": null,
   "metadata": {
    "colab": {
     "base_uri": "https://localhost:8080/"
    },
    "id": "wC6wlv9Ajefy",
    "outputId": "720edfc9-9d85-4fa3-8210-a9be23af4b2f"
   },
   "outputs": [
    {
     "data": {
      "text/plain": [
       "<tf.Tensor: shape=(), dtype=int64, numpy=16>"
      ]
     },
     "execution_count": 107,
     "metadata": {
      "tags": []
     },
     "output_type": "execute_result"
    }
   ],
   "source": [
    "# find the minium position\n",
    "tf.argmin(F)"
   ]
  },
  {
   "cell_type": "code",
   "execution_count": null,
   "metadata": {
    "colab": {
     "base_uri": "https://localhost:8080/"
    },
    "id": "hzwZf9aVjp79",
    "outputId": "97cb7211-47a9-45a8-e76b-40026f35ef72"
   },
   "outputs": [
    {
     "data": {
      "text/plain": [
       "<tf.Tensor: shape=(), dtype=float32, numpy=0.009463668>"
      ]
     },
     "execution_count": 108,
     "metadata": {
      "tags": []
     },
     "output_type": "execute_result"
    }
   ],
   "source": [
    "# find the minimum value\n",
    "F[tf.argmin(F)]"
   ]
  },
  {
   "cell_type": "code",
   "execution_count": null,
   "metadata": {
    "colab": {
     "base_uri": "https://localhost:8080/"
    },
    "id": "FDLv9lmwjt_R",
    "outputId": "677f0b3c-7147-45f8-b7c0-6cfe794d1151"
   },
   "outputs": [
    {
     "name": "stdout",
     "output_type": "stream",
     "text": [
      "The maximum value of F is at position: 42\n",
      "The maximum value of F is: 0.967138409614563\n",
      "Using tf.argmax() to index F, the maximum value of F is: 0.967138409614563\n",
      "Are the two max values the same (they should be)? True\n"
     ]
    }
   ],
   "source": [
    "# Find the maximum element position of F\n",
    "print(f\"The maximum value of F is at position: {tf.argmax(F).numpy()}\") \n",
    "print(f\"The maximum value of F is: {tf.reduce_max(F).numpy()}\") \n",
    "print(f\"Using tf.argmax() to index F, the maximum value of F is: {F[tf.argmax(F)].numpy()}\")\n",
    "print(f\"Are the two max values the same (they should be)? {F[tf.argmax(F)].numpy() == tf.reduce_max(F).numpy()}\")"
   ]
  },
  {
   "cell_type": "markdown",
   "metadata": {
    "id": "UwjahJ3Ij4fY"
   },
   "source": [
    "-------\n",
    "\n",
    "# Squeezing a tensor (removing all single dimensions)\n",
    "\n",
    "If we need to remove single-dimensions from a tensor (dimensions with size 1), we can use `tf.squeeze()`.\n",
    "\n",
    "* [`tf.squeeze()`](https://www.tensorflow.org/api_docs/python/tf/squeeze) - remove all dimensions of 1 from a tensor.\n",
    "\n",
    "Example: in our following example, our tensor has so many 1 dimenions. So we can squeeze that to become into single dimension.\n"
   ]
  },
  {
   "cell_type": "code",
   "execution_count": null,
   "metadata": {
    "colab": {
     "base_uri": "https://localhost:8080/"
    },
    "id": "jwO130Bkj-PY",
    "outputId": "647738eb-f8c9-4dd5-c312-99ad690edea6"
   },
   "outputs": [
    {
     "data": {
      "text/plain": [
       "<tf.Tensor: shape=(1, 1, 1, 1, 50), dtype=float32, numpy=\n",
       "array([[[[[0.6645621 , 0.44100678, 0.3528825 , 0.46448255, 0.03366041,\n",
       "           0.68467236, 0.74011743, 0.8724445 , 0.22632635, 0.22319686,\n",
       "           0.3103881 , 0.7223358 , 0.13318717, 0.5480639 , 0.5746088 ,\n",
       "           0.8996835 , 0.00946367, 0.5212307 , 0.6345445 , 0.1993283 ,\n",
       "           0.72942245, 0.54583454, 0.10756552, 0.6767061 , 0.6602763 ,\n",
       "           0.33695042, 0.60141766, 0.21062577, 0.8527372 , 0.44062173,\n",
       "           0.9485276 , 0.23752594, 0.81179297, 0.5263394 , 0.494308  ,\n",
       "           0.21612847, 0.8457197 , 0.8718841 , 0.3083862 , 0.6868038 ,\n",
       "           0.23764038, 0.7817228 , 0.9671384 , 0.06870162, 0.79873943,\n",
       "           0.66028714, 0.5871513 , 0.16461694, 0.7381023 , 0.32054043]]]]],\n",
       "      dtype=float32)>"
      ]
     },
     "execution_count": 113,
     "metadata": {
      "tags": []
     },
     "output_type": "execute_result"
    }
   ],
   "source": [
    "# Create a rank 5 (5 dimensions) tensor of 50 numbers between 0 and 100\n",
    "tf.random.set_seed(42)\n",
    "G = tf.constant(tf.random.uniform(shape=[50]), shape=(1, 1, 1, 1, 50))\n",
    "G"
   ]
  },
  {
   "cell_type": "code",
   "execution_count": null,
   "metadata": {
    "colab": {
     "base_uri": "https://localhost:8080/"
    },
    "id": "R5AEBR2fkbci",
    "outputId": "1aac0cac-babe-47b5-b4a6-a82433c8aa0d"
   },
   "outputs": [
    {
     "data": {
      "text/plain": [
       "TensorShape([1, 1, 1, 1, 50])"
      ]
     },
     "execution_count": 114,
     "metadata": {
      "tags": []
     },
     "output_type": "execute_result"
    }
   ],
   "source": [
    "G.shape"
   ]
  },
  {
   "cell_type": "code",
   "execution_count": null,
   "metadata": {
    "colab": {
     "base_uri": "https://localhost:8080/"
    },
    "id": "YGMWpGeIkyj1",
    "outputId": "609655cf-9146-4573-ea5b-ca83b91b478b"
   },
   "outputs": [
    {
     "data": {
      "text/plain": [
       "(<tf.Tensor: shape=(50,), dtype=float32, numpy=\n",
       " array([0.6645621 , 0.44100678, 0.3528825 , 0.46448255, 0.03366041,\n",
       "        0.68467236, 0.74011743, 0.8724445 , 0.22632635, 0.22319686,\n",
       "        0.3103881 , 0.7223358 , 0.13318717, 0.5480639 , 0.5746088 ,\n",
       "        0.8996835 , 0.00946367, 0.5212307 , 0.6345445 , 0.1993283 ,\n",
       "        0.72942245, 0.54583454, 0.10756552, 0.6767061 , 0.6602763 ,\n",
       "        0.33695042, 0.60141766, 0.21062577, 0.8527372 , 0.44062173,\n",
       "        0.9485276 , 0.23752594, 0.81179297, 0.5263394 , 0.494308  ,\n",
       "        0.21612847, 0.8457197 , 0.8718841 , 0.3083862 , 0.6868038 ,\n",
       "        0.23764038, 0.7817228 , 0.9671384 , 0.06870162, 0.79873943,\n",
       "        0.66028714, 0.5871513 , 0.16461694, 0.7381023 , 0.32054043],\n",
       "       dtype=float32)>, TensorShape([50]))"
      ]
     },
     "execution_count": 115,
     "metadata": {
      "tags": []
     },
     "output_type": "execute_result"
    }
   ],
   "source": [
    "# Squeeze tensor G (remove all 1 dimensions)\n",
    "G_squeezed = tf.squeeze(G)\n",
    "G_squeezed, G_squeezed.shape"
   ]
  },
  {
   "cell_type": "markdown",
   "metadata": {
    "id": "CRgmDp_Pk9DO"
   },
   "source": [
    "---\n",
    "\n",
    "# One-hot encoding\n",
    "\n",
    "If we have a tensor of indicies and would like to one-hot encode it, we can use [`tf.one_hot()`](https://www.tensorflow.org/api_docs/python/tf/one_hot).\n",
    "\n",
    "We should also specify the `depth` parameter (the level which we want to one-hot encode to)."
   ]
  },
  {
   "cell_type": "code",
   "execution_count": null,
   "metadata": {
    "colab": {
     "base_uri": "https://localhost:8080/"
    },
    "id": "w_K9DiNularT",
    "outputId": "5c5b88d6-9fa2-4bd1-8923-a72312a82461"
   },
   "outputs": [
    {
     "data": {
      "text/plain": [
       "<tf.Tensor: shape=(4, 4), dtype=float32, numpy=\n",
       "array([[1., 0., 0., 0.],\n",
       "       [0., 1., 0., 0.],\n",
       "       [0., 0., 1., 0.],\n",
       "       [0., 0., 0., 1.]], dtype=float32)>"
      ]
     },
     "execution_count": 118,
     "metadata": {
      "tags": []
     },
     "output_type": "execute_result"
    }
   ],
   "source": [
    "# create a list of indices\n",
    "some_list = [0, 1, 2, 3] \n",
    "\n",
    "# one hot encode our list of indices\n",
    "tf.one_hot(some_list, depth=4)"
   ]
  },
  {
   "cell_type": "markdown",
   "metadata": {
    "id": "ORtddlt-m35d"
   },
   "source": [
    "###  We can also specify values for `on_value` and `off_value` instead of the default `0` and `1`."
   ]
  },
  {
   "cell_type": "code",
   "execution_count": null,
   "metadata": {
    "colab": {
     "base_uri": "https://localhost:8080/"
    },
    "id": "462umIkdnU5K",
    "outputId": "a98c549f-dc37-4a86-c606-bb8a3c1b9cdb"
   },
   "outputs": [
    {
     "data": {
      "text/plain": [
       "<tf.Tensor: shape=(4, 4), dtype=string, numpy=\n",
       "array([[b'Yaeee', b'Nayyy', b'Nayyy', b'Nayyy'],\n",
       "       [b'Nayyy', b'Yaeee', b'Nayyy', b'Nayyy'],\n",
       "       [b'Nayyy', b'Nayyy', b'Yaeee', b'Nayyy'],\n",
       "       [b'Nayyy', b'Nayyy', b'Nayyy', b'Yaeee']], dtype=object)>"
      ]
     },
     "execution_count": 120,
     "metadata": {
      "tags": []
     },
     "output_type": "execute_result"
    }
   ],
   "source": [
    "# speicify custom values for one hot encoding\n",
    "tf.one_hot(some_list, depth=4, on_value='Yaeee', off_value=\"Nayyy\")"
   ]
  },
  {
   "cell_type": "markdown",
   "metadata": {
    "id": "4HZJP-i_neCk"
   },
   "source": [
    "-----\n",
    "\n",
    "# Squaring, log, square root\n",
    "\n",
    "Many other common mathematical operations we'd like to perform at some stage, probably exist.\n",
    "\n",
    "Let's take a look at:\n",
    "* [`tf.square()`](https://www.tensorflow.org/api_docs/python/tf/math/square) - get the square of every value in a tensor. \n",
    "* [`tf.sqrt()`](https://www.tensorflow.org/api_docs/python/tf/math/sqrt) - get the squareroot of every value in a tensor (**note:** the elements need to be floats or this will error).\n",
    "* [`tf.math.log()`](https://www.tensorflow.org/api_docs/python/tf/math/log) - get the natural log of every value in a tensor (elements need to floats)."
   ]
  },
  {
   "cell_type": "code",
   "execution_count": null,
   "metadata": {
    "colab": {
     "base_uri": "https://localhost:8080/"
    },
    "id": "H9Hcq8n9n2iO",
    "outputId": "a6a1d767-3e91-4fc1-dfce-b55cddbf3e60"
   },
   "outputs": [
    {
     "data": {
      "text/plain": [
       "<tf.Tensor: shape=(9,), dtype=int32, numpy=array([1, 2, 3, 4, 5, 6, 7, 8, 9], dtype=int32)>"
      ]
     },
     "execution_count": 121,
     "metadata": {
      "tags": []
     },
     "output_type": "execute_result"
    }
   ],
   "source": [
    "# create a new tensor\n",
    "H = tf.range(1, 10)\n",
    "H"
   ]
  },
  {
   "cell_type": "code",
   "execution_count": null,
   "metadata": {
    "colab": {
     "base_uri": "https://localhost:8080/"
    },
    "id": "fqrxYM-GoQZB",
    "outputId": "2cb89a4b-3d20-44ff-8639-316e7147fce5"
   },
   "outputs": [
    {
     "data": {
      "text/plain": [
       "<tf.Tensor: shape=(9,), dtype=int32, numpy=array([ 1,  4,  9, 16, 25, 36, 49, 64, 81], dtype=int32)>"
      ]
     },
     "execution_count": 122,
     "metadata": {
      "tags": []
     },
     "output_type": "execute_result"
    }
   ],
   "source": [
    "# Find the square\n",
    "tf.square(H)"
   ]
  },
  {
   "cell_type": "code",
   "execution_count": null,
   "metadata": {
    "colab": {
     "base_uri": "https://localhost:8080/"
    },
    "id": "hG8kpkxXoR0F",
    "outputId": "ffd79917-3310-4086-a181-b078d3415f32"
   },
   "outputs": [
    {
     "data": {
      "text/plain": [
       "<tf.Tensor: shape=(9,), dtype=float16, numpy=\n",
       "array([1.   , 1.414, 1.732, 2.   , 2.236, 2.45 , 2.646, 2.828, 3.   ],\n",
       "      dtype=float16)>"
      ]
     },
     "execution_count": 124,
     "metadata": {
      "tags": []
     },
     "output_type": "execute_result"
    }
   ],
   "source": [
    "# Find square root (method require Non Integer values)\n",
    "tf.sqrt(tf.cast(H, dtype=tf.float16))"
   ]
  },
  {
   "cell_type": "code",
   "execution_count": null,
   "metadata": {
    "colab": {
     "base_uri": "https://localhost:8080/"
    },
    "id": "z8VP3-MIoXEB",
    "outputId": "1928713b-5d41-468f-eeb6-093f3f9a4b13"
   },
   "outputs": [
    {
     "data": {
      "text/plain": [
       "<tf.Tensor: shape=(9,), dtype=float32, numpy=\n",
       "array([0.       , 0.6931472, 1.0986123, 1.3862944, 1.609438 , 1.7917595,\n",
       "       1.9459102, 2.0794415, 2.1972246], dtype=float32)>"
      ]
     },
     "execution_count": 126,
     "metadata": {
      "tags": []
     },
     "output_type": "execute_result"
    }
   ],
   "source": [
    "# Find the Log (method require Non Integer values)\n",
    "tf.math.log(tf.cast(H, dtype=tf.float32))"
   ]
  },
  {
   "cell_type": "markdown",
   "metadata": {
    "id": "LchtWhFpo41O"
   },
   "source": [
    "--------\n",
    "\n",
    "# Manipulating `tf.Variable` tensors\n",
    "\n",
    "Tensors created with `tf.Variable()` can be changed in place using methods such as:\n",
    "\n",
    "* [`.assign()`](https://www.tensorflow.org/api_docs/python/tf/Variable#assign) - assign a different value to a particular index of a variable tensor.\n",
    "* [`.add_assign()`](https://www.tensorflow.org/api_docs/python/tf/Variable#assign_add) - add to an existing value and reassign it at a particular index of a variable tensor."
   ]
  },
  {
   "cell_type": "code",
   "execution_count": null,
   "metadata": {
    "colab": {
     "base_uri": "https://localhost:8080/"
    },
    "id": "91194qUXps4_",
    "outputId": "49eac83c-fc4b-4c4d-8b9b-9f98458a898c"
   },
   "outputs": [
    {
     "data": {
      "text/plain": [
       "<tf.Variable 'Variable:0' shape=(5,) dtype=int64, numpy=array([0, 1, 2, 3, 4])>"
      ]
     },
     "execution_count": 130,
     "metadata": {
      "tags": []
     },
     "output_type": "execute_result"
    }
   ],
   "source": [
    "# Create a variable tensor\n",
    "I = tf.Variable(np.arange(0, 5))\n",
    "I"
   ]
  },
  {
   "cell_type": "code",
   "execution_count": null,
   "metadata": {
    "colab": {
     "base_uri": "https://localhost:8080/"
    },
    "id": "-chVrCbQp4qc",
    "outputId": "3e99dfea-1b3b-4d16-8c05-b49d65db6d7c"
   },
   "outputs": [
    {
     "data": {
      "text/plain": [
       "<tf.Variable 'Variable:0' shape=(5,) dtype=int64, numpy=array([ 0,  1,  2,  3, 50])>"
      ]
     },
     "execution_count": 131,
     "metadata": {
      "tags": []
     },
     "output_type": "execute_result"
    }
   ],
   "source": [
    "# Assign the final value a new value of 50\n",
    "I.assign([0, 1, 2, 3, 50])"
   ]
  },
  {
   "cell_type": "code",
   "execution_count": null,
   "metadata": {
    "colab": {
     "base_uri": "https://localhost:8080/"
    },
    "id": "OZp9hNmkqLGn",
    "outputId": "bb1e440f-ddbb-42a8-dd5b-5fc91250a4e3"
   },
   "outputs": [
    {
     "data": {
      "text/plain": [
       "<tf.Variable 'Variable:0' shape=(5,) dtype=int64, numpy=array([ 0,  1,  2,  3, 50])>"
      ]
     },
     "execution_count": 132,
     "metadata": {
      "tags": []
     },
     "output_type": "execute_result"
    }
   ],
   "source": [
    "# The change happens in place (the last value is now 50, not 4)\n",
    "I"
   ]
  },
  {
   "cell_type": "code",
   "execution_count": null,
   "metadata": {
    "colab": {
     "base_uri": "https://localhost:8080/"
    },
    "id": "JFxkXobgqP5C",
    "outputId": "4e748191-4646-44b2-f5b9-ff5733b90ff7"
   },
   "outputs": [
    {
     "data": {
      "text/plain": [
       "<tf.Variable 'UnreadVariable' shape=(5,) dtype=int64, numpy=array([10, 11, 12, 13, 60])>"
      ]
     },
     "execution_count": 134,
     "metadata": {
      "tags": []
     },
     "output_type": "execute_result"
    }
   ],
   "source": [
    "# Add 10 to every element in I\n",
    "I.assign_add([10, 10, 10, 10, 10])"
   ]
  },
  {
   "cell_type": "code",
   "execution_count": null,
   "metadata": {
    "colab": {
     "base_uri": "https://localhost:8080/"
    },
    "id": "-juedCydqUdB",
    "outputId": "3fb23523-4428-4f37-bf1b-02645ec480c5"
   },
   "outputs": [
    {
     "data": {
      "text/plain": [
       "<tf.Variable 'Variable:0' shape=(5,) dtype=int64, numpy=array([10, 11, 12, 13, 60])>"
      ]
     },
     "execution_count": 135,
     "metadata": {
      "tags": []
     },
     "output_type": "execute_result"
    }
   ],
   "source": [
    "# Again, the change happens in place\n",
    "I"
   ]
  },
  {
   "cell_type": "code",
   "execution_count": null,
   "metadata": {
    "colab": {
     "base_uri": "https://localhost:8080/"
    },
    "id": "39DowCuJqcxC",
    "outputId": "978b870e-83f0-4f97-f058-29a4831efdb6"
   },
   "outputs": [
    {
     "data": {
      "text/plain": [
       "<tf.Variable 'UnreadVariable' shape=(5,) dtype=int64, numpy=array([ 8,  9, 10, 11, 58])>"
      ]
     },
     "execution_count": 136,
     "metadata": {
      "tags": []
     },
     "output_type": "execute_result"
    }
   ],
   "source": [
    "# Subtract 2 to every element in I\n",
    "I.assign_sub([2, 2, 2, 2, 2])"
   ]
  },
  {
   "cell_type": "code",
   "execution_count": null,
   "metadata": {
    "colab": {
     "base_uri": "https://localhost:8080/"
    },
    "id": "SP9z8M7dqiwR",
    "outputId": "a03e9f5e-a382-4ecf-e092-47f4eea0ffe0"
   },
   "outputs": [
    {
     "data": {
      "text/plain": [
       "<tf.Variable 'Variable:0' shape=(5,) dtype=int64, numpy=array([ 8,  9, 10, 11, 58])>"
      ]
     },
     "execution_count": 137,
     "metadata": {
      "tags": []
     },
     "output_type": "execute_result"
    }
   ],
   "source": [
    "I"
   ]
  },
  {
   "cell_type": "markdown",
   "metadata": {
    "id": "PkBPVKjZqjmE"
   },
   "source": [
    "-----"
   ]
  },
  {
   "cell_type": "markdown",
   "metadata": {
    "id": "H296rDUWql0b"
   },
   "source": [
    "#Tensors and NumPy\n",
    "\n",
    "We've seen some examples of tensors interact with NumPy arrays, such as, using NumPy arrays to create tensors. \n",
    "\n",
    "Tensors can also be converted to NumPy arrays using:\n",
    "\n",
    "* `np.array()` - pass a tensor to convert to an ndarray (NumPy's main datatype).\n",
    "* `tensor.numpy()` - call on a tensor to convert to an ndarray.\n",
    "\n",
    "Doing this is helpful as it makes tensors iterable as well as allows us to use any of NumPy's methods on them."
   ]
  },
  {
   "cell_type": "code",
   "execution_count": null,
   "metadata": {
    "colab": {
     "base_uri": "https://localhost:8080/"
    },
    "id": "cFjxgg1jq-0-",
    "outputId": "bea21bf6-dd9b-4a83-81e6-c31db84014d0"
   },
   "outputs": [
    {
     "data": {
      "text/plain": [
       "<tf.Tensor: shape=(3,), dtype=float64, numpy=array([ 3.,  7., 10.])>"
      ]
     },
     "execution_count": 141,
     "metadata": {
      "tags": []
     },
     "output_type": "execute_result"
    }
   ],
   "source": [
    "# Create a tensor from a NumPy array\n",
    "J = tf.constant(np.array([3., 7., 10.]))\n",
    "J"
   ]
  },
  {
   "cell_type": "code",
   "execution_count": null,
   "metadata": {
    "colab": {
     "base_uri": "https://localhost:8080/"
    },
    "id": "p3myyyjIrL4C",
    "outputId": "9b1d31fb-3d2d-43ee-c070-c9c8dbd0309f"
   },
   "outputs": [
    {
     "data": {
      "text/plain": [
       "(array([ 3.,  7., 10.]), numpy.ndarray)"
      ]
     },
     "execution_count": 142,
     "metadata": {
      "tags": []
     },
     "output_type": "execute_result"
    }
   ],
   "source": [
    "# Convert tensor J to NumPy with np.array()\n",
    "np.array(J), type(np.array(J))"
   ]
  },
  {
   "cell_type": "code",
   "execution_count": null,
   "metadata": {
    "colab": {
     "base_uri": "https://localhost:8080/"
    },
    "id": "7lG0bq_6rfFn",
    "outputId": "77cc0398-69a0-485d-850f-d131927b2fee"
   },
   "outputs": [
    {
     "data": {
      "text/plain": [
       "(array([3.], dtype=float32), numpy.ndarray)"
      ]
     },
     "execution_count": 147,
     "metadata": {
      "tags": []
     },
     "output_type": "execute_result"
    }
   ],
   "source": [
    "# Convert tensor J to NumPy with .numpy()\n",
    "J.numpy(), type(J.numpy())"
   ]
  },
  {
   "cell_type": "code",
   "execution_count": null,
   "metadata": {
    "colab": {
     "base_uri": "https://localhost:8080/"
    },
    "id": "m9rRH49Froav",
    "outputId": "06d68a41-cf08-44fc-f774-cee7d6f48f8e"
   },
   "outputs": [
    {
     "data": {
      "text/plain": [
       "<tf.Tensor: shape=(1,), dtype=float32, numpy=array([3.], dtype=float32)>"
      ]
     },
     "execution_count": 145,
     "metadata": {
      "tags": []
     },
     "output_type": "execute_result"
    }
   ],
   "source": [
    "J = tf.constant([3.])\n",
    "J"
   ]
  },
  {
   "cell_type": "code",
   "execution_count": null,
   "metadata": {
    "colab": {
     "base_uri": "https://localhost:8080/"
    },
    "id": "UhaOQNrIrrrw",
    "outputId": "b4e098c8-056b-4f26-b500-002a1c36e857"
   },
   "outputs": [
    {
     "data": {
      "text/plain": [
       "3.0"
      ]
     },
     "execution_count": 146,
     "metadata": {
      "tags": []
     },
     "output_type": "execute_result"
    }
   ],
   "source": [
    "J.numpy()[0]"
   ]
  },
  {
   "cell_type": "markdown",
   "metadata": {
    "id": "zxhQvU42rwgX"
   },
   "source": [
    "**By default tensors have `dtype=float32`, where as NumPy arrays have `dtype=float64`.**\n",
    "\n",
    "This is because neural networks (which are usually built with TensorFlow) can generally work very well with less precision (32-bit rather than 64-bit)."
   ]
  },
  {
   "cell_type": "code",
   "execution_count": null,
   "metadata": {
    "colab": {
     "base_uri": "https://localhost:8080/"
    },
    "id": "OuQDCBmEr9cW",
    "outputId": "b711bfc0-41c4-4662-92da-7db1320d8798"
   },
   "outputs": [
    {
     "data": {
      "text/plain": [
       "(tf.float64, tf.float32)"
      ]
     },
     "execution_count": 150,
     "metadata": {
      "tags": []
     },
     "output_type": "execute_result"
    }
   ],
   "source": [
    "# Create a tensor from NumPy and from an array\n",
    "numpy_J = tf.constant(np.array([3., 7., 10.])) # will be float64 (due to NumPy)\n",
    "tensor_J = tf.constant([3., 7., 10.]) # will be float32 (due to being TensorFlow default)\n",
    "\n",
    "# check the datatype of each ones\n",
    "numpy_J.dtype, tensor_J.dtype"
   ]
  },
  {
   "cell_type": "markdown",
   "metadata": {
    "id": "aPDxsjYKuAh7"
   },
   "source": [
    "------\n",
    "\n",
    "# Finding access to GPUs\n",
    "\n",
    "We've mentioned GPUs plenty of times throughout this notebook.\n",
    "\n",
    "So how do we check if we've got one available?\n",
    "\n",
    "We can check if we've got access to a GPU using [`tf.config.list_physical_devices()`](https://www.tensorflow.org/guide/gpu)."
   ]
  },
  {
   "cell_type": "code",
   "execution_count": null,
   "metadata": {
    "colab": {
     "base_uri": "https://localhost:8080/"
    },
    "id": "aLrCJo9AuBuL",
    "outputId": "291d2e0b-6071-4af1-b0cd-6c051498a12e"
   },
   "outputs": [
    {
     "data": {
      "text/plain": [
       "[PhysicalDevice(name='/physical_device:CPU:0', device_type='CPU')]"
      ]
     },
     "execution_count": 153,
     "metadata": {
      "tags": []
     },
     "output_type": "execute_result"
    }
   ],
   "source": [
    "tf.config.list_physical_devices()"
   ]
  },
  {
   "cell_type": "code",
   "execution_count": null,
   "metadata": {
    "colab": {
     "base_uri": "https://localhost:8080/"
    },
    "id": "OEkdNfieuViD",
    "outputId": "5acb85fd-393f-4c65-b58b-d105e6e2ac58"
   },
   "outputs": [
    {
     "data": {
      "text/plain": [
       "[]"
      ]
     },
     "execution_count": 154,
     "metadata": {
      "tags": []
     },
     "output_type": "execute_result"
    }
   ],
   "source": [
    "tf.config.list_physical_devices('GPU')"
   ]
  },
  {
   "cell_type": "code",
   "execution_count": null,
   "metadata": {
    "colab": {
     "base_uri": "https://localhost:8080/"
    },
    "id": "kh9c6M4Rujth",
    "outputId": "4af3d5e5-fd4b-4494-bf6f-f1425f1c0506"
   },
   "outputs": [
    {
     "data": {
      "text/plain": [
       "[PhysicalDevice(name='/physical_device:CPU:0', device_type='CPU'),\n",
       " PhysicalDevice(name='/physical_device:GPU:0', device_type='GPU')]"
      ]
     },
     "execution_count": 4,
     "metadata": {
      "tags": []
     },
     "output_type": "execute_result"
    }
   ],
   "source": [
    "tf.config.list_physical_devices()"
   ]
  },
  {
   "cell_type": "code",
   "execution_count": null,
   "metadata": {
    "colab": {
     "base_uri": "https://localhost:8080/"
    },
    "id": "DhMtRgXBum8_",
    "outputId": "08777744-bf28-4776-c091-470b3c1bfc5b"
   },
   "outputs": [
    {
     "data": {
      "text/plain": [
       "[PhysicalDevice(name='/physical_device:GPU:0', device_type='GPU')]"
      ]
     },
     "execution_count": 5,
     "metadata": {
      "tags": []
     },
     "output_type": "execute_result"
    }
   ],
   "source": [
    "tf.config.list_physical_devices('GPU')"
   ]
  },
  {
   "cell_type": "code",
   "execution_count": null,
   "metadata": {
    "colab": {
     "base_uri": "https://localhost:8080/"
    },
    "id": "aLKLVXYuuuxF",
    "outputId": "6ec1731c-814f-4a3d-ee28-7792279def3c"
   },
   "outputs": [
    {
     "name": "stdout",
     "output_type": "stream",
     "text": [
      "Tue Mar 23 15:38:51 2021       \n",
      "+-----------------------------------------------------------------------------+\n",
      "| NVIDIA-SMI 460.56       Driver Version: 460.32.03    CUDA Version: 11.2     |\n",
      "|-------------------------------+----------------------+----------------------+\n",
      "| GPU  Name        Persistence-M| Bus-Id        Disp.A | Volatile Uncorr. ECC |\n",
      "| Fan  Temp  Perf  Pwr:Usage/Cap|         Memory-Usage | GPU-Util  Compute M. |\n",
      "|                               |                      |               MIG M. |\n",
      "|===============================+======================+======================|\n",
      "|   0  Tesla T4            Off  | 00000000:00:04.0 Off |                    0 |\n",
      "| N/A   52C    P8    10W /  70W |      3MiB / 15109MiB |      0%      Default |\n",
      "|                               |                      |                  N/A |\n",
      "+-------------------------------+----------------------+----------------------+\n",
      "                                                                               \n",
      "+-----------------------------------------------------------------------------+\n",
      "| Processes:                                                                  |\n",
      "|  GPU   GI   CI        PID   Type   Process name                  GPU Memory |\n",
      "|        ID   ID                                                   Usage      |\n",
      "|=============================================================================|\n",
      "|  No running processes found                                                 |\n",
      "+-----------------------------------------------------------------------------+\n"
     ]
    }
   ],
   "source": [
    "#  find information about  GPU using `!nvidia-smi`.\n",
    "\n",
    "!nvidia-smi"
   ]
  },
  {
   "cell_type": "markdown",
   "metadata": {
    "id": "Rc55PqttvJp-"
   },
   "source": [
    "> 🔑 **Note:** If you have access to a GPU, TensorFlow will automatically use it whenever possible."
   ]
  },
  {
   "cell_type": "markdown",
   "metadata": {
    "id": "rbJu0mtLva2h"
   },
   "source": [
    "\n",
    "---------"
   ]
  },
  {
   "cell_type": "markdown",
   "metadata": {
    "id": "-U8j1fX-saHP"
   },
   "source": [
    "-----\n",
    "\n",
    "# Using `@tf.function`\n",
    "\n",
    "In your TensorFlow adventures, you might come across Python functions which have the decorator [`@tf.function`](https://www.tensorflow.org/api_docs/python/tf/function).\n",
    "\n",
    "If you aren't sure what Python decorators do, [read RealPython's guide on them](https://realpython.com/primer-on-python-decorators/).\n",
    "\n",
    "But in short, decorators modify a function in one way or another.\n",
    "\n",
    "In the `@tf.function` decorator case, it turns a Python function into a callable TensorFlow graph. Which is a fancy way of saying, if you've written your own Python function, and you decorate it with `@tf.function`, when you export your code (to potentially run on another device), TensorFlow will attempt to convert it into a fast(er) version of itself (by making it part of a computation graph).\n",
    "\n",
    "For more on this, read the [Better performance with tf.function](https://www.tensorflow.org/guide/function) guide."
   ]
  },
  {
   "cell_type": "code",
   "execution_count": null,
   "metadata": {
    "id": "YTNWZgHlwm3b"
   },
   "outputs": [],
   "source": [
    "import numpy as np"
   ]
  },
  {
   "cell_type": "code",
   "execution_count": null,
   "metadata": {
    "colab": {
     "base_uri": "https://localhost:8080/"
    },
    "id": "naNflqw1vfco",
    "outputId": "93b71b8a-b5a6-4727-a785-00f261d2a2f4"
   },
   "outputs": [
    {
     "data": {
      "text/plain": [
       "<tf.Tensor: shape=(10,), dtype=int64, numpy=array([10, 12, 14, 16, 18, 20, 22, 24, 26, 28])>"
      ]
     },
     "execution_count": 11,
     "metadata": {
      "tags": []
     },
     "output_type": "execute_result"
    }
   ],
   "source": [
    "# create a simple function\n",
    "def function(x,y):\n",
    "  return x+y\n",
    "\n",
    "x = tf.constant(np.arange(0, 10))\n",
    "y = tf.constant(np.arange(10, 20))\n",
    "function(x, y)"
   ]
  },
  {
   "cell_type": "code",
   "execution_count": null,
   "metadata": {
    "colab": {
     "base_uri": "https://localhost:8080/"
    },
    "id": "s26AyZ0hwi73",
    "outputId": "01cdf5ce-069e-458d-b119-a2c9fe241589"
   },
   "outputs": [
    {
     "data": {
      "text/plain": [
       "<tf.Tensor: shape=(10,), dtype=int64, numpy=array([10, 12, 14, 16, 18, 20, 22, 24, 26, 28])>"
      ]
     },
     "execution_count": 14,
     "metadata": {
      "tags": []
     },
     "output_type": "execute_result"
    }
   ],
   "source": [
    "# Create the same function and decorate it with tf.function\n",
    "@tf.function\n",
    "def tf_function(x,y):\n",
    "  return x+y\n",
    "\n",
    "tf_function(x, y)"
   ]
  },
  {
   "cell_type": "markdown",
   "metadata": {
    "id": "a6b3iuxNwt_f"
   },
   "source": [
    "If you noticed no difference between the above two functions (the decorated one and the non-decorated one) you'd be right.\n",
    "\n",
    "Much of the difference happens behind the scenes. One of the main ones being potential code speed-ups where possible."
   ]
  },
  {
   "cell_type": "markdown",
   "metadata": {
    "id": "zInRoisE5dm0"
   },
   "source": [
    "--------"
   ]
  },
  {
   "cell_type": "markdown",
   "metadata": {
    "id": "oilKdekpxeLv"
   },
   "source": [
    "# Exercises\n",
    "\n",
    "1. Create a vector, scalar, matrix and tensor with values of your choosing using `tf.constant()`.\n",
    "2. Find the shape, rank and size of the tensors you created in 1.\n",
    "3. Create two tensors containing random values between 0 and 1 with shape `[5, 300]`.\n",
    "4. Multiply the two tensors you created in 3 using matrix multiplication.\n",
    "5. Multiply the two tensors you created in 3 using dot product.\n",
    "6. Create a tensor with random values between 0 and 1 with shape `[224, 224, 3]`.\n",
    "7. Find the min and max values of the tensor you created in 6.\n",
    "8. Created a tensor with random values of shape `[1, 224, 224, 3]` then squeeze it to change the shape to `[224, 224, 3]`.\n",
    "9. Create a tensor with shape `[10]` using your own choice of values, then find the index which has the maximum value.\n",
    "10. One-hot encode the tensor you created in 9."
   ]
  },
  {
   "cell_type": "code",
   "execution_count": 5,
   "metadata": {
    "id": "pvOfw5uisOCC"
   },
   "outputs": [],
   "source": [
    "import numpy as np"
   ]
  },
  {
   "cell_type": "code",
   "execution_count": 8,
   "metadata": {
    "colab": {
     "base_uri": "https://localhost:8080/"
    },
    "id": "JcrPq9bOxuMD",
    "outputId": "2079c7fd-798d-47be-f9ef-728ad6982669"
   },
   "outputs": [
    {
     "data": {
      "text/plain": [
       "(<tf.Tensor: shape=(), dtype=int32, numpy=12>,\n",
       " <tf.Tensor: shape=(2,), dtype=int32, numpy=array([1, 2], dtype=int32)>,\n",
       " <tf.Tensor: shape=(2, 2), dtype=int32, numpy=\n",
       " array([[1, 2],\n",
       "        [3, 4]], dtype=int32)>,\n",
       " <tf.Tensor: shape=(3, 2), dtype=float32, numpy=\n",
       " array([[-0.7565803 , -0.06854702],\n",
       "        [ 0.07595026, -1.2573844 ],\n",
       "        [-0.23193765, -1.8107855 ]], dtype=float32)>)"
      ]
     },
     "execution_count": 8,
     "metadata": {
      "tags": []
     },
     "output_type": "execute_result"
    }
   ],
   "source": [
    "# 1. Create a vector, scalar, matrix and tensor with values of your choosing using tf.constant().\n",
    "scalar = tf.constant(12)\n",
    "vector = tf.constant([1, 2])\n",
    "matrix = tf.constant([[1, 2], [3, 4]])\n",
    "tensor = tf.random.Generator.from_seed(42)\n",
    "tensor = tensor.normal(shape=(3, 2))\n",
    "\n",
    "scalar, vector, matrix, tensor"
   ]
  },
  {
   "cell_type": "code",
   "execution_count": 10,
   "metadata": {
    "colab": {
     "base_uri": "https://localhost:8080/"
    },
    "id": "Ubep9DmrxuI0",
    "outputId": "4fd50ce5-197b-442c-b994-6e9ee713a996"
   },
   "outputs": [
    {
     "name": "stdout",
     "output_type": "stream",
     "text": [
      "Shape of tensor:  (3, 2)\n",
      "Rank (dimensions) of tensor:  2\n",
      "Size of tensor:  tf.Tensor(6, shape=(), dtype=int32)\n"
     ]
    }
   ],
   "source": [
    "# 2.Find the shape, rank and size of the tensors you created in 1\n",
    "print('Shape of tensor: ', tensor.shape)\n",
    "print('Rank (dimensions) of tensor: ', tensor.ndim)\n",
    "print('Size of tensor: ', tf.size(tensor))"
   ]
  },
  {
   "cell_type": "code",
   "execution_count": 14,
   "metadata": {
    "id": "bfRBZAnWxoca"
   },
   "outputs": [],
   "source": [
    "# 3. Create two tensors containing random values between 0 and 1 with shape [5, 300].\n",
    "tensor1 = tf.random.Generator.from_seed(42)\n",
    "tensor1 = tensor1.normal(shape=(5, 300))\n",
    "\n",
    "tensor2 = tf.constant(np.arange(1, 51, 1500), shape=(5, 300))"
   ]
  },
  {
   "cell_type": "code",
   "execution_count": 16,
   "metadata": {
    "colab": {
     "base_uri": "https://localhost:8080/"
    },
    "id": "IQ-zpj6nv8k2",
    "outputId": "df6b2ad7-7f59-4b3c-df07-11fbc32ae652"
   },
   "outputs": [
    {
     "data": {
      "text/plain": [
       "(TensorShape([5, 300]), TensorShape([5, 300]))"
      ]
     },
     "execution_count": 16,
     "metadata": {
      "tags": []
     },
     "output_type": "execute_result"
    }
   ],
   "source": [
    "tensor1.shape, tensor2.shape"
   ]
  },
  {
   "cell_type": "code",
   "execution_count": 18,
   "metadata": {
    "colab": {
     "base_uri": "https://localhost:8080/"
    },
    "id": "XmMXSXq1wN7x",
    "outputId": "fb7d17b8-c5e4-47d8-cce6-de96211e71d8"
   },
   "outputs": [
    {
     "data": {
      "text/plain": [
       "<tf.Tensor: shape=(300, 5), dtype=int64, numpy=\n",
       "array([[1, 1, 1, 1, 1],\n",
       "       [1, 1, 1, 1, 1],\n",
       "       [1, 1, 1, 1, 1],\n",
       "       ...,\n",
       "       [1, 1, 1, 1, 1],\n",
       "       [1, 1, 1, 1, 1],\n",
       "       [1, 1, 1, 1, 1]])>"
      ]
     },
     "execution_count": 18,
     "metadata": {
      "tags": []
     },
     "output_type": "execute_result"
    }
   ],
   "source": [
    "tf.reshape(tensor2, shape=(300, 5))"
   ]
  },
  {
   "cell_type": "code",
   "execution_count": 19,
   "metadata": {
    "colab": {
     "base_uri": "https://localhost:8080/"
    },
    "id": "zdBNbGswxoZB",
    "outputId": "7f9718ec-85f1-47f4-ca46-07436149cec5"
   },
   "outputs": [
    {
     "data": {
      "text/plain": [
       "<tf.Tensor: shape=(5, 5), dtype=float32, numpy=\n",
       "array([[-18.116056  , -18.116056  , -18.116056  , -18.116056  ,\n",
       "        -18.116056  ],\n",
       "       [-16.531065  , -16.531065  , -16.531065  , -16.531065  ,\n",
       "        -16.531065  ],\n",
       "       [  6.35018   ,   6.35018   ,   6.35018   ,   6.35018   ,\n",
       "          6.35018   ],\n",
       "       [-24.067091  , -24.067091  , -24.067091  , -24.067091  ,\n",
       "        -24.067091  ],\n",
       "       [  0.62193453,   0.62193453,   0.62193453,   0.62193453,\n",
       "          0.62193453]], dtype=float32)>"
      ]
     },
     "execution_count": 19,
     "metadata": {
      "tags": []
     },
     "output_type": "execute_result"
    }
   ],
   "source": [
    "# 4. Multiply the two tensors you created in 3 using matrix multiplication.\n",
    "tf.matmul(tensor1, tf.cast(tf.reshape(tensor2, shape=(300, 5)), dtype=tf.float32))"
   ]
  },
  {
   "cell_type": "code",
   "execution_count": 23,
   "metadata": {
    "colab": {
     "base_uri": "https://localhost:8080/"
    },
    "id": "3U9TnXYrxoR1",
    "outputId": "0e86f050-0083-4092-da63-2373caf44bea"
   },
   "outputs": [
    {
     "data": {
      "text/plain": [
       "<tf.Tensor: shape=(5, 300, 300, 5), dtype=float32, numpy=\n",
       "array([[[[-0.7565803 , -0.7565803 , -0.7565803 , -0.7565803 ,\n",
       "          -0.7565803 ],\n",
       "         [-0.7565803 , -0.7565803 , -0.7565803 , -0.7565803 ,\n",
       "          -0.7565803 ],\n",
       "         [-0.7565803 , -0.7565803 , -0.7565803 , -0.7565803 ,\n",
       "          -0.7565803 ],\n",
       "         ...,\n",
       "         [-0.7565803 , -0.7565803 , -0.7565803 , -0.7565803 ,\n",
       "          -0.7565803 ],\n",
       "         [-0.7565803 , -0.7565803 , -0.7565803 , -0.7565803 ,\n",
       "          -0.7565803 ],\n",
       "         [-0.7565803 , -0.7565803 , -0.7565803 , -0.7565803 ,\n",
       "          -0.7565803 ]],\n",
       "\n",
       "        [[-0.06854702, -0.06854702, -0.06854702, -0.06854702,\n",
       "          -0.06854702],\n",
       "         [-0.06854702, -0.06854702, -0.06854702, -0.06854702,\n",
       "          -0.06854702],\n",
       "         [-0.06854702, -0.06854702, -0.06854702, -0.06854702,\n",
       "          -0.06854702],\n",
       "         ...,\n",
       "         [-0.06854702, -0.06854702, -0.06854702, -0.06854702,\n",
       "          -0.06854702],\n",
       "         [-0.06854702, -0.06854702, -0.06854702, -0.06854702,\n",
       "          -0.06854702],\n",
       "         [-0.06854702, -0.06854702, -0.06854702, -0.06854702,\n",
       "          -0.06854702]],\n",
       "\n",
       "        [[ 0.07595026,  0.07595026,  0.07595026,  0.07595026,\n",
       "           0.07595026],\n",
       "         [ 0.07595026,  0.07595026,  0.07595026,  0.07595026,\n",
       "           0.07595026],\n",
       "         [ 0.07595026,  0.07595026,  0.07595026,  0.07595026,\n",
       "           0.07595026],\n",
       "         ...,\n",
       "         [ 0.07595026,  0.07595026,  0.07595026,  0.07595026,\n",
       "           0.07595026],\n",
       "         [ 0.07595026,  0.07595026,  0.07595026,  0.07595026,\n",
       "           0.07595026],\n",
       "         [ 0.07595026,  0.07595026,  0.07595026,  0.07595026,\n",
       "           0.07595026]],\n",
       "\n",
       "        ...,\n",
       "\n",
       "        [[-1.0718341 , -1.0718341 , -1.0718341 , -1.0718341 ,\n",
       "          -1.0718341 ],\n",
       "         [-1.0718341 , -1.0718341 , -1.0718341 , -1.0718341 ,\n",
       "          -1.0718341 ],\n",
       "         [-1.0718341 , -1.0718341 , -1.0718341 , -1.0718341 ,\n",
       "          -1.0718341 ],\n",
       "         ...,\n",
       "         [-1.0718341 , -1.0718341 , -1.0718341 , -1.0718341 ,\n",
       "          -1.0718341 ],\n",
       "         [-1.0718341 , -1.0718341 , -1.0718341 , -1.0718341 ,\n",
       "          -1.0718341 ],\n",
       "         [-1.0718341 , -1.0718341 , -1.0718341 , -1.0718341 ,\n",
       "          -1.0718341 ]],\n",
       "\n",
       "        [[-1.0722276 , -1.0722276 , -1.0722276 , -1.0722276 ,\n",
       "          -1.0722276 ],\n",
       "         [-1.0722276 , -1.0722276 , -1.0722276 , -1.0722276 ,\n",
       "          -1.0722276 ],\n",
       "         [-1.0722276 , -1.0722276 , -1.0722276 , -1.0722276 ,\n",
       "          -1.0722276 ],\n",
       "         ...,\n",
       "         [-1.0722276 , -1.0722276 , -1.0722276 , -1.0722276 ,\n",
       "          -1.0722276 ],\n",
       "         [-1.0722276 , -1.0722276 , -1.0722276 , -1.0722276 ,\n",
       "          -1.0722276 ],\n",
       "         [-1.0722276 , -1.0722276 , -1.0722276 , -1.0722276 ,\n",
       "          -1.0722276 ]],\n",
       "\n",
       "        [[-0.00586287, -0.00586287, -0.00586287, -0.00586287,\n",
       "          -0.00586287],\n",
       "         [-0.00586287, -0.00586287, -0.00586287, -0.00586287,\n",
       "          -0.00586287],\n",
       "         [-0.00586287, -0.00586287, -0.00586287, -0.00586287,\n",
       "          -0.00586287],\n",
       "         ...,\n",
       "         [-0.00586287, -0.00586287, -0.00586287, -0.00586287,\n",
       "          -0.00586287],\n",
       "         [-0.00586287, -0.00586287, -0.00586287, -0.00586287,\n",
       "          -0.00586287],\n",
       "         [-0.00586287, -0.00586287, -0.00586287, -0.00586287,\n",
       "          -0.00586287]]],\n",
       "\n",
       "\n",
       "       [[[-0.88051033, -0.88051033, -0.88051033, -0.88051033,\n",
       "          -0.88051033],\n",
       "         [-0.88051033, -0.88051033, -0.88051033, -0.88051033,\n",
       "          -0.88051033],\n",
       "         [-0.88051033, -0.88051033, -0.88051033, -0.88051033,\n",
       "          -0.88051033],\n",
       "         ...,\n",
       "         [-0.88051033, -0.88051033, -0.88051033, -0.88051033,\n",
       "          -0.88051033],\n",
       "         [-0.88051033, -0.88051033, -0.88051033, -0.88051033,\n",
       "          -0.88051033],\n",
       "         [-0.88051033, -0.88051033, -0.88051033, -0.88051033,\n",
       "          -0.88051033]],\n",
       "\n",
       "        [[-0.32426047, -0.32426047, -0.32426047, -0.32426047,\n",
       "          -0.32426047],\n",
       "         [-0.32426047, -0.32426047, -0.32426047, -0.32426047,\n",
       "          -0.32426047],\n",
       "         [-0.32426047, -0.32426047, -0.32426047, -0.32426047,\n",
       "          -0.32426047],\n",
       "         ...,\n",
       "         [-0.32426047, -0.32426047, -0.32426047, -0.32426047,\n",
       "          -0.32426047],\n",
       "         [-0.32426047, -0.32426047, -0.32426047, -0.32426047,\n",
       "          -0.32426047],\n",
       "         [-0.32426047, -0.32426047, -0.32426047, -0.32426047,\n",
       "          -0.32426047]],\n",
       "\n",
       "        [[-2.4847078 , -2.4847078 , -2.4847078 , -2.4847078 ,\n",
       "          -2.4847078 ],\n",
       "         [-2.4847078 , -2.4847078 , -2.4847078 , -2.4847078 ,\n",
       "          -2.4847078 ],\n",
       "         [-2.4847078 , -2.4847078 , -2.4847078 , -2.4847078 ,\n",
       "          -2.4847078 ],\n",
       "         ...,\n",
       "         [-2.4847078 , -2.4847078 , -2.4847078 , -2.4847078 ,\n",
       "          -2.4847078 ],\n",
       "         [-2.4847078 , -2.4847078 , -2.4847078 , -2.4847078 ,\n",
       "          -2.4847078 ],\n",
       "         [-2.4847078 , -2.4847078 , -2.4847078 , -2.4847078 ,\n",
       "          -2.4847078 ]],\n",
       "\n",
       "        ...,\n",
       "\n",
       "        [[ 0.16512105,  0.16512105,  0.16512105,  0.16512105,\n",
       "           0.16512105],\n",
       "         [ 0.16512105,  0.16512105,  0.16512105,  0.16512105,\n",
       "           0.16512105],\n",
       "         [ 0.16512105,  0.16512105,  0.16512105,  0.16512105,\n",
       "           0.16512105],\n",
       "         ...,\n",
       "         [ 0.16512105,  0.16512105,  0.16512105,  0.16512105,\n",
       "           0.16512105],\n",
       "         [ 0.16512105,  0.16512105,  0.16512105,  0.16512105,\n",
       "           0.16512105],\n",
       "         [ 0.16512105,  0.16512105,  0.16512105,  0.16512105,\n",
       "           0.16512105]],\n",
       "\n",
       "        [[ 1.155565  ,  1.155565  ,  1.155565  ,  1.155565  ,\n",
       "           1.155565  ],\n",
       "         [ 1.155565  ,  1.155565  ,  1.155565  ,  1.155565  ,\n",
       "           1.155565  ],\n",
       "         [ 1.155565  ,  1.155565  ,  1.155565  ,  1.155565  ,\n",
       "           1.155565  ],\n",
       "         ...,\n",
       "         [ 1.155565  ,  1.155565  ,  1.155565  ,  1.155565  ,\n",
       "           1.155565  ],\n",
       "         [ 1.155565  ,  1.155565  ,  1.155565  ,  1.155565  ,\n",
       "           1.155565  ],\n",
       "         [ 1.155565  ,  1.155565  ,  1.155565  ,  1.155565  ,\n",
       "           1.155565  ]],\n",
       "\n",
       "        [[-0.10707551, -0.10707551, -0.10707551, -0.10707551,\n",
       "          -0.10707551],\n",
       "         [-0.10707551, -0.10707551, -0.10707551, -0.10707551,\n",
       "          -0.10707551],\n",
       "         [-0.10707551, -0.10707551, -0.10707551, -0.10707551,\n",
       "          -0.10707551],\n",
       "         ...,\n",
       "         [-0.10707551, -0.10707551, -0.10707551, -0.10707551,\n",
       "          -0.10707551],\n",
       "         [-0.10707551, -0.10707551, -0.10707551, -0.10707551,\n",
       "          -0.10707551],\n",
       "         [-0.10707551, -0.10707551, -0.10707551, -0.10707551,\n",
       "          -0.10707551]]],\n",
       "\n",
       "\n",
       "       [[[-1.5306779 , -1.5306779 , -1.5306779 , -1.5306779 ,\n",
       "          -1.5306779 ],\n",
       "         [-1.5306779 , -1.5306779 , -1.5306779 , -1.5306779 ,\n",
       "          -1.5306779 ],\n",
       "         [-1.5306779 , -1.5306779 , -1.5306779 , -1.5306779 ,\n",
       "          -1.5306779 ],\n",
       "         ...,\n",
       "         [-1.5306779 , -1.5306779 , -1.5306779 , -1.5306779 ,\n",
       "          -1.5306779 ],\n",
       "         [-1.5306779 , -1.5306779 , -1.5306779 , -1.5306779 ,\n",
       "          -1.5306779 ],\n",
       "         [-1.5306779 , -1.5306779 , -1.5306779 , -1.5306779 ,\n",
       "          -1.5306779 ]],\n",
       "\n",
       "        [[-0.8620293 , -0.8620293 , -0.8620293 , -0.8620293 ,\n",
       "          -0.8620293 ],\n",
       "         [-0.8620293 , -0.8620293 , -0.8620293 , -0.8620293 ,\n",
       "          -0.8620293 ],\n",
       "         [-0.8620293 , -0.8620293 , -0.8620293 , -0.8620293 ,\n",
       "          -0.8620293 ],\n",
       "         ...,\n",
       "         [-0.8620293 , -0.8620293 , -0.8620293 , -0.8620293 ,\n",
       "          -0.8620293 ],\n",
       "         [-0.8620293 , -0.8620293 , -0.8620293 , -0.8620293 ,\n",
       "          -0.8620293 ],\n",
       "         [-0.8620293 , -0.8620293 , -0.8620293 , -0.8620293 ,\n",
       "          -0.8620293 ]],\n",
       "\n",
       "        [[-0.16359143, -0.16359143, -0.16359143, -0.16359143,\n",
       "          -0.16359143],\n",
       "         [-0.16359143, -0.16359143, -0.16359143, -0.16359143,\n",
       "          -0.16359143],\n",
       "         [-0.16359143, -0.16359143, -0.16359143, -0.16359143,\n",
       "          -0.16359143],\n",
       "         ...,\n",
       "         [-0.16359143, -0.16359143, -0.16359143, -0.16359143,\n",
       "          -0.16359143],\n",
       "         [-0.16359143, -0.16359143, -0.16359143, -0.16359143,\n",
       "          -0.16359143],\n",
       "         [-0.16359143, -0.16359143, -0.16359143, -0.16359143,\n",
       "          -0.16359143]],\n",
       "\n",
       "        ...,\n",
       "\n",
       "        [[ 0.34288087,  0.34288087,  0.34288087,  0.34288087,\n",
       "           0.34288087],\n",
       "         [ 0.34288087,  0.34288087,  0.34288087,  0.34288087,\n",
       "           0.34288087],\n",
       "         [ 0.34288087,  0.34288087,  0.34288087,  0.34288087,\n",
       "           0.34288087],\n",
       "         ...,\n",
       "         [ 0.34288087,  0.34288087,  0.34288087,  0.34288087,\n",
       "           0.34288087],\n",
       "         [ 0.34288087,  0.34288087,  0.34288087,  0.34288087,\n",
       "           0.34288087],\n",
       "         [ 0.34288087,  0.34288087,  0.34288087,  0.34288087,\n",
       "           0.34288087]],\n",
       "\n",
       "        [[ 1.2167931 ,  1.2167931 ,  1.2167931 ,  1.2167931 ,\n",
       "           1.2167931 ],\n",
       "         [ 1.2167931 ,  1.2167931 ,  1.2167931 ,  1.2167931 ,\n",
       "           1.2167931 ],\n",
       "         [ 1.2167931 ,  1.2167931 ,  1.2167931 ,  1.2167931 ,\n",
       "           1.2167931 ],\n",
       "         ...,\n",
       "         [ 1.2167931 ,  1.2167931 ,  1.2167931 ,  1.2167931 ,\n",
       "           1.2167931 ],\n",
       "         [ 1.2167931 ,  1.2167931 ,  1.2167931 ,  1.2167931 ,\n",
       "           1.2167931 ],\n",
       "         [ 1.2167931 ,  1.2167931 ,  1.2167931 ,  1.2167931 ,\n",
       "           1.2167931 ]],\n",
       "\n",
       "        [[-1.24293   , -1.24293   , -1.24293   , -1.24293   ,\n",
       "          -1.24293   ],\n",
       "         [-1.24293   , -1.24293   , -1.24293   , -1.24293   ,\n",
       "          -1.24293   ],\n",
       "         [-1.24293   , -1.24293   , -1.24293   , -1.24293   ,\n",
       "          -1.24293   ],\n",
       "         ...,\n",
       "         [-1.24293   , -1.24293   , -1.24293   , -1.24293   ,\n",
       "          -1.24293   ],\n",
       "         [-1.24293   , -1.24293   , -1.24293   , -1.24293   ,\n",
       "          -1.24293   ],\n",
       "         [-1.24293   , -1.24293   , -1.24293   , -1.24293   ,\n",
       "          -1.24293   ]]],\n",
       "\n",
       "\n",
       "       [[[ 0.84324265,  0.84324265,  0.84324265,  0.84324265,\n",
       "           0.84324265],\n",
       "         [ 0.84324265,  0.84324265,  0.84324265,  0.84324265,\n",
       "           0.84324265],\n",
       "         [ 0.84324265,  0.84324265,  0.84324265,  0.84324265,\n",
       "           0.84324265],\n",
       "         ...,\n",
       "         [ 0.84324265,  0.84324265,  0.84324265,  0.84324265,\n",
       "           0.84324265],\n",
       "         [ 0.84324265,  0.84324265,  0.84324265,  0.84324265,\n",
       "           0.84324265],\n",
       "         [ 0.84324265,  0.84324265,  0.84324265,  0.84324265,\n",
       "           0.84324265]],\n",
       "\n",
       "        [[-0.23379943, -0.23379943, -0.23379943, -0.23379943,\n",
       "          -0.23379943],\n",
       "         [-0.23379943, -0.23379943, -0.23379943, -0.23379943,\n",
       "          -0.23379943],\n",
       "         [-0.23379943, -0.23379943, -0.23379943, -0.23379943,\n",
       "          -0.23379943],\n",
       "         ...,\n",
       "         [-0.23379943, -0.23379943, -0.23379943, -0.23379943,\n",
       "          -0.23379943],\n",
       "         [-0.23379943, -0.23379943, -0.23379943, -0.23379943,\n",
       "          -0.23379943],\n",
       "         [-0.23379943, -0.23379943, -0.23379943, -0.23379943,\n",
       "          -0.23379943]],\n",
       "\n",
       "        [[ 0.4276398 ,  0.4276398 ,  0.4276398 ,  0.4276398 ,\n",
       "           0.4276398 ],\n",
       "         [ 0.4276398 ,  0.4276398 ,  0.4276398 ,  0.4276398 ,\n",
       "           0.4276398 ],\n",
       "         [ 0.4276398 ,  0.4276398 ,  0.4276398 ,  0.4276398 ,\n",
       "           0.4276398 ],\n",
       "         ...,\n",
       "         [ 0.4276398 ,  0.4276398 ,  0.4276398 ,  0.4276398 ,\n",
       "           0.4276398 ],\n",
       "         [ 0.4276398 ,  0.4276398 ,  0.4276398 ,  0.4276398 ,\n",
       "           0.4276398 ],\n",
       "         [ 0.4276398 ,  0.4276398 ,  0.4276398 ,  0.4276398 ,\n",
       "           0.4276398 ]],\n",
       "\n",
       "        ...,\n",
       "\n",
       "        [[-1.0428714 , -1.0428714 , -1.0428714 , -1.0428714 ,\n",
       "          -1.0428714 ],\n",
       "         [-1.0428714 , -1.0428714 , -1.0428714 , -1.0428714 ,\n",
       "          -1.0428714 ],\n",
       "         [-1.0428714 , -1.0428714 , -1.0428714 , -1.0428714 ,\n",
       "          -1.0428714 ],\n",
       "         ...,\n",
       "         [-1.0428714 , -1.0428714 , -1.0428714 , -1.0428714 ,\n",
       "          -1.0428714 ],\n",
       "         [-1.0428714 , -1.0428714 , -1.0428714 , -1.0428714 ,\n",
       "          -1.0428714 ],\n",
       "         [-1.0428714 , -1.0428714 , -1.0428714 , -1.0428714 ,\n",
       "          -1.0428714 ]],\n",
       "\n",
       "        [[-0.73970354, -0.73970354, -0.73970354, -0.73970354,\n",
       "          -0.73970354],\n",
       "         [-0.73970354, -0.73970354, -0.73970354, -0.73970354,\n",
       "          -0.73970354],\n",
       "         [-0.73970354, -0.73970354, -0.73970354, -0.73970354,\n",
       "          -0.73970354],\n",
       "         ...,\n",
       "         [-0.73970354, -0.73970354, -0.73970354, -0.73970354,\n",
       "          -0.73970354],\n",
       "         [-0.73970354, -0.73970354, -0.73970354, -0.73970354,\n",
       "          -0.73970354],\n",
       "         [-0.73970354, -0.73970354, -0.73970354, -0.73970354,\n",
       "          -0.73970354]],\n",
       "\n",
       "        [[ 0.0177109 ,  0.0177109 ,  0.0177109 ,  0.0177109 ,\n",
       "           0.0177109 ],\n",
       "         [ 0.0177109 ,  0.0177109 ,  0.0177109 ,  0.0177109 ,\n",
       "           0.0177109 ],\n",
       "         [ 0.0177109 ,  0.0177109 ,  0.0177109 ,  0.0177109 ,\n",
       "           0.0177109 ],\n",
       "         ...,\n",
       "         [ 0.0177109 ,  0.0177109 ,  0.0177109 ,  0.0177109 ,\n",
       "           0.0177109 ],\n",
       "         [ 0.0177109 ,  0.0177109 ,  0.0177109 ,  0.0177109 ,\n",
       "           0.0177109 ],\n",
       "         [ 0.0177109 ,  0.0177109 ,  0.0177109 ,  0.0177109 ,\n",
       "           0.0177109 ]]],\n",
       "\n",
       "\n",
       "       [[[ 0.04888754,  0.04888754,  0.04888754,  0.04888754,\n",
       "           0.04888754],\n",
       "         [ 0.04888754,  0.04888754,  0.04888754,  0.04888754,\n",
       "           0.04888754],\n",
       "         [ 0.04888754,  0.04888754,  0.04888754,  0.04888754,\n",
       "           0.04888754],\n",
       "         ...,\n",
       "         [ 0.04888754,  0.04888754,  0.04888754,  0.04888754,\n",
       "           0.04888754],\n",
       "         [ 0.04888754,  0.04888754,  0.04888754,  0.04888754,\n",
       "           0.04888754],\n",
       "         [ 0.04888754,  0.04888754,  0.04888754,  0.04888754,\n",
       "           0.04888754]],\n",
       "\n",
       "        [[-0.66408694, -0.66408694, -0.66408694, -0.66408694,\n",
       "          -0.66408694],\n",
       "         [-0.66408694, -0.66408694, -0.66408694, -0.66408694,\n",
       "          -0.66408694],\n",
       "         [-0.66408694, -0.66408694, -0.66408694, -0.66408694,\n",
       "          -0.66408694],\n",
       "         ...,\n",
       "         [-0.66408694, -0.66408694, -0.66408694, -0.66408694,\n",
       "          -0.66408694],\n",
       "         [-0.66408694, -0.66408694, -0.66408694, -0.66408694,\n",
       "          -0.66408694],\n",
       "         [-0.66408694, -0.66408694, -0.66408694, -0.66408694,\n",
       "          -0.66408694]],\n",
       "\n",
       "        [[-1.787366  , -1.787366  , -1.787366  , -1.787366  ,\n",
       "          -1.787366  ],\n",
       "         [-1.787366  , -1.787366  , -1.787366  , -1.787366  ,\n",
       "          -1.787366  ],\n",
       "         [-1.787366  , -1.787366  , -1.787366  , -1.787366  ,\n",
       "          -1.787366  ],\n",
       "         ...,\n",
       "         [-1.787366  , -1.787366  , -1.787366  , -1.787366  ,\n",
       "          -1.787366  ],\n",
       "         [-1.787366  , -1.787366  , -1.787366  , -1.787366  ,\n",
       "          -1.787366  ],\n",
       "         [-1.787366  , -1.787366  , -1.787366  , -1.787366  ,\n",
       "          -1.787366  ]],\n",
       "\n",
       "        ...,\n",
       "\n",
       "        [[ 0.1947453 ,  0.1947453 ,  0.1947453 ,  0.1947453 ,\n",
       "           0.1947453 ],\n",
       "         [ 0.1947453 ,  0.1947453 ,  0.1947453 ,  0.1947453 ,\n",
       "           0.1947453 ],\n",
       "         [ 0.1947453 ,  0.1947453 ,  0.1947453 ,  0.1947453 ,\n",
       "           0.1947453 ],\n",
       "         ...,\n",
       "         [ 0.1947453 ,  0.1947453 ,  0.1947453 ,  0.1947453 ,\n",
       "           0.1947453 ],\n",
       "         [ 0.1947453 ,  0.1947453 ,  0.1947453 ,  0.1947453 ,\n",
       "           0.1947453 ],\n",
       "         [ 0.1947453 ,  0.1947453 ,  0.1947453 ,  0.1947453 ,\n",
       "           0.1947453 ]],\n",
       "\n",
       "        [[ 0.5656089 ,  0.5656089 ,  0.5656089 ,  0.5656089 ,\n",
       "           0.5656089 ],\n",
       "         [ 0.5656089 ,  0.5656089 ,  0.5656089 ,  0.5656089 ,\n",
       "           0.5656089 ],\n",
       "         [ 0.5656089 ,  0.5656089 ,  0.5656089 ,  0.5656089 ,\n",
       "           0.5656089 ],\n",
       "         ...,\n",
       "         [ 0.5656089 ,  0.5656089 ,  0.5656089 ,  0.5656089 ,\n",
       "           0.5656089 ],\n",
       "         [ 0.5656089 ,  0.5656089 ,  0.5656089 ,  0.5656089 ,\n",
       "           0.5656089 ],\n",
       "         [ 0.5656089 ,  0.5656089 ,  0.5656089 ,  0.5656089 ,\n",
       "           0.5656089 ]],\n",
       "\n",
       "        [[ 0.18439198,  0.18439198,  0.18439198,  0.18439198,\n",
       "           0.18439198],\n",
       "         [ 0.18439198,  0.18439198,  0.18439198,  0.18439198,\n",
       "           0.18439198],\n",
       "         [ 0.18439198,  0.18439198,  0.18439198,  0.18439198,\n",
       "           0.18439198],\n",
       "         ...,\n",
       "         [ 0.18439198,  0.18439198,  0.18439198,  0.18439198,\n",
       "           0.18439198],\n",
       "         [ 0.18439198,  0.18439198,  0.18439198,  0.18439198,\n",
       "           0.18439198],\n",
       "         [ 0.18439198,  0.18439198,  0.18439198,  0.18439198,\n",
       "           0.18439198]]]], dtype=float32)>"
      ]
     },
     "execution_count": 23,
     "metadata": {
      "tags": []
     },
     "output_type": "execute_result"
    }
   ],
   "source": [
    "# 5.Multiply the two tensors you created in 3 using dot product.\n",
    "tf.tensordot(tensor1, tf.cast(tf.transpose(tensor2), dtype=tf.float32), axes=0)"
   ]
  },
  {
   "cell_type": "code",
   "execution_count": 27,
   "metadata": {
    "colab": {
     "base_uri": "https://localhost:8080/"
    },
    "id": "5Xr7UW12xnVZ",
    "outputId": "d67b5e3d-5cc9-403c-f191-e213f88042bc"
   },
   "outputs": [
    {
     "data": {
      "text/plain": [
       "TensorShape([224, 224, 3])"
      ]
     },
     "execution_count": 27,
     "metadata": {
      "tags": []
     },
     "output_type": "execute_result"
    }
   ],
   "source": [
    "# 6.Create a tensor with random values between 0 and 1 with shape [224, 224, 3].\n",
    "tensor3 = tf.random.Generator.from_seed(42)\n",
    "tensor3 = tensor3.uniform(shape=[224, 224, 3])\n",
    "tensor3.shape"
   ]
  },
  {
   "cell_type": "code",
   "execution_count": 33,
   "metadata": {
    "colab": {
     "base_uri": "https://localhost:8080/"
    },
    "id": "K9kF6-T82JLj",
    "outputId": "94c5789c-0031-422f-ba95-61db85c008bc"
   },
   "outputs": [
    {
     "data": {
      "text/plain": [
       "150528"
      ]
     },
     "execution_count": 33,
     "metadata": {
      "tags": []
     },
     "output_type": "execute_result"
    }
   ],
   "source": [
    "224*224*3"
   ]
  },
  {
   "cell_type": "code",
   "execution_count": 36,
   "metadata": {
    "colab": {
     "base_uri": "https://localhost:8080/"
    },
    "id": "LOvzzhjfxnuQ",
    "outputId": "18dca751-0070-4a94-bcb9-06622d291d86"
   },
   "outputs": [
    {
     "data": {
      "text/plain": [
       "TensorShape([150528])"
      ]
     },
     "execution_count": 36,
     "metadata": {
      "tags": []
     },
     "output_type": "execute_result"
    }
   ],
   "source": [
    "# 7.Find the min and max values of the tensor you created in 6.\n",
    "tensor3_1D = tf.reshape(tensor3, shape=[150528])\n",
    "tensor3_1D.shape"
   ]
  },
  {
   "cell_type": "code",
   "execution_count": 37,
   "metadata": {
    "colab": {
     "base_uri": "https://localhost:8080/"
    },
    "id": "JcKcUr5P0WJ8",
    "outputId": "fe17666f-70ca-4305-ff79-967bb5be9b16"
   },
   "outputs": [
    {
     "name": "stdout",
     "output_type": "stream",
     "text": [
      "Minimum value:  tf.Tensor(4.053116e-06, shape=(), dtype=float32)\n",
      "Maximum value:  tf.Tensor(0.99998736, shape=(), dtype=float32)\n"
     ]
    }
   ],
   "source": [
    "print('Minimum value: ', tensor3_1D[tf.argmin(tensor3_1D)])\n",
    "print('Maximum value: ', tensor3_1D[tf.argmax(tensor3_1D)])"
   ]
  },
  {
   "cell_type": "code",
   "execution_count": 38,
   "metadata": {
    "colab": {
     "base_uri": "https://localhost:8080/"
    },
    "id": "oZoy6x0Mxnrc",
    "outputId": "9635f1eb-cb00-4f7e-d69c-710efc207a38"
   },
   "outputs": [
    {
     "data": {
      "text/plain": [
       "TensorShape([1, 224, 224, 3])"
      ]
     },
     "execution_count": 38,
     "metadata": {
      "tags": []
     },
     "output_type": "execute_result"
    }
   ],
   "source": [
    "# 8.Created a tensor with random values of shape [1, 224, 224, 3] then squeeze it to change the shape to [224, 224, 3].\n",
    "tensor4 = tf.constant(np.arange(0, 100, 150528), shape=[1, 224, 224, 3])\n",
    "tensor4.shape"
   ]
  },
  {
   "cell_type": "code",
   "execution_count": 39,
   "metadata": {
    "colab": {
     "base_uri": "https://localhost:8080/"
    },
    "id": "qwLIVBsxxoLk",
    "outputId": "2ec965a0-ef8c-4de9-8daf-bfcc9651c4fb"
   },
   "outputs": [
    {
     "data": {
      "text/plain": [
       "TensorShape([224, 224, 3])"
      ]
     },
     "execution_count": 39,
     "metadata": {
      "tags": []
     },
     "output_type": "execute_result"
    }
   ],
   "source": [
    "squeezed_tensor4 = tf.squeeze(tensor4)\n",
    "squeezed_tensor4.shape"
   ]
  },
  {
   "cell_type": "code",
   "execution_count": 50,
   "metadata": {
    "colab": {
     "base_uri": "https://localhost:8080/"
    },
    "id": "X0Zya_pN28uH",
    "outputId": "6b627a6f-e449-40a6-c2f4-78de7686a8e8"
   },
   "outputs": [
    {
     "data": {
      "text/plain": [
       "<tf.Tensor: shape=(10,), dtype=float32, numpy=\n",
       "array([0.7493447 , 0.73561966, 0.45230794, 0.49039817, 0.1889317 ,\n",
       "       0.52027524, 0.8736881 , 0.46921718, 0.63932586, 0.6467117 ],\n",
       "      dtype=float32)>"
      ]
     },
     "execution_count": 50,
     "metadata": {
      "tags": []
     },
     "output_type": "execute_result"
    }
   ],
   "source": [
    "# 9.Create a tensor with shape [10] using your own choice of values, then find the index which has the maximum value.\n",
    "tensor5 = tf.random.Generator.from_seed(42)\n",
    "tensor5 = tensor5.uniform(shape=[10])\n",
    "tensor5"
   ]
  },
  {
   "cell_type": "code",
   "execution_count": 51,
   "metadata": {
    "colab": {
     "base_uri": "https://localhost:8080/"
    },
    "id": "1fQToi-228qx",
    "outputId": "523c22dc-560f-4503-b61b-25a0f2332229"
   },
   "outputs": [
    {
     "name": "stdout",
     "output_type": "stream",
     "text": [
      "Index of maxmimum value:  tf.Tensor(6, shape=(), dtype=int64)\n",
      "Maximum value:  tf.Tensor(6, shape=(), dtype=int64)\n"
     ]
    }
   ],
   "source": [
    "print('Index of maxmimum value: ', tf.argmax(tensor5))\n",
    "print('Maximum value: ', tf.argmax(tensor5))"
   ]
  },
  {
   "cell_type": "code",
   "execution_count": 52,
   "metadata": {
    "colab": {
     "base_uri": "https://localhost:8080/"
    },
    "id": "3JF8Weom4gUV",
    "outputId": "504408e2-de21-4f73-a374-96d2540d48a4"
   },
   "outputs": [
    {
     "data": {
      "text/plain": [
       "<tf.Tensor: shape=(10,), dtype=int64, numpy=array([ 1,  2,  3,  4,  5,  6,  7,  8,  9, 10])>"
      ]
     },
     "execution_count": 52,
     "metadata": {
      "tags": []
     },
     "output_type": "execute_result"
    }
   ],
   "source": [
    "tensor5 = tf.constant(np.arange(1, 11))\n",
    "tensor5"
   ]
  },
  {
   "cell_type": "code",
   "execution_count": 53,
   "metadata": {
    "colab": {
     "base_uri": "https://localhost:8080/"
    },
    "id": "RdQyCK4j4zZa",
    "outputId": "d986eff2-19c8-474b-8e1b-143888177c86"
   },
   "outputs": [
    {
     "name": "stdout",
     "output_type": "stream",
     "text": [
      "Index of maxmimum value:  tf.Tensor(9, shape=(), dtype=int64)\n",
      "Maximum value:  tf.Tensor(9, shape=(), dtype=int64)\n"
     ]
    }
   ],
   "source": [
    "print('Index of maxmimum value: ', tf.argmax(tensor5))\n",
    "print('Maximum value: ', tf.argmax(tensor5))"
   ]
  },
  {
   "cell_type": "code",
   "execution_count": 54,
   "metadata": {
    "colab": {
     "base_uri": "https://localhost:8080/"
    },
    "id": "QJUWA2wU28e6",
    "outputId": "efe0f553-f603-4913-8a6f-8e4c4abdcd24"
   },
   "outputs": [
    {
     "data": {
      "text/plain": [
       "<tf.Tensor: shape=(10, 1), dtype=float32, numpy=\n",
       "array([[0.],\n",
       "       [0.],\n",
       "       [0.],\n",
       "       [0.],\n",
       "       [0.],\n",
       "       [0.],\n",
       "       [0.],\n",
       "       [0.],\n",
       "       [0.],\n",
       "       [0.]], dtype=float32)>"
      ]
     },
     "execution_count": 54,
     "metadata": {
      "tags": []
     },
     "output_type": "execute_result"
    }
   ],
   "source": [
    "# 10.One-hot encode the tensor you created in 9.\n",
    "tf.one_hot(tensor5, depth=1)"
   ]
  },
  {
   "cell_type": "markdown",
   "metadata": {
    "id": "-lps78QA5iF0"
   },
   "source": [
    "----------"
   ]
  },
  {
   "cell_type": "markdown",
   "metadata": {
    "id": "z6suPPynxe9r"
   },
   "source": [
    "## Extensions\n",
    "\n",
    "* Read through the [list of TensorFlow Python APIs](https://www.tensorflow.org/api_docs/python/), pick one we haven't gone through in this notebook, reverse engineer it (write out the documentation code for yourself) and figure out what it does.\n",
    "* Try to create a series of tensor functions to calculate your most recent grocery bill (it's okay if you don't use the names of the items, just the price in numerical form).\n",
    "  * How would you calculate your grocery bill for the month and for the year using tensors?\n",
    "* Go through the [TensorFlow 2.x quick start for beginners](https://www.tensorflow.org/tutorials/quickstart/beginner) tutorial (be sure to type out all of the code yourself, even if you don't understand it).\n",
    "  * Are there any functions we used in here that match what's used in there? Which are the same? Which haven't you seen before?\n",
    "* Watch the video [\"What's a tensor?\"](https://www.youtube.com/watch?v=f5liqUk0ZTw) - a great visual introduction to many of the concepts we've covered in this notebook."
   ]
  },
  {
   "cell_type": "markdown",
   "metadata": {
    "id": "lg_MmgNmxj2z"
   },
   "source": [
    "------"
   ]
  },
  {
   "cell_type": "code",
   "execution_count": 63,
   "metadata": {
    "id": "agcxgzPc5bH5"
   },
   "outputs": [],
   "source": [
    "# quick start Tutorial\n",
    "\n",
    "import tensorflow as tf"
   ]
  },
  {
   "cell_type": "code",
   "execution_count": 56,
   "metadata": {
    "id": "MOYnzIv05nuB"
   },
   "outputs": [],
   "source": [
    "# load and prepare the MNIST dataset\n",
    "mnist = tf.keras.datasets.mnist"
   ]
  },
  {
   "cell_type": "code",
   "execution_count": 57,
   "metadata": {
    "colab": {
     "base_uri": "https://localhost:8080/"
    },
    "id": "WZe-z0co5xVu",
    "outputId": "5b9e5851-3ca1-436b-a70f-d604ddfb371e"
   },
   "outputs": [
    {
     "name": "stdout",
     "output_type": "stream",
     "text": [
      "Downloading data from https://storage.googleapis.com/tensorflow/tf-keras-datasets/mnist.npz\n",
      "11493376/11490434 [==============================] - 0s 0us/step\n"
     ]
    },
    {
     "data": {
      "text/plain": [
       "((60000, 28, 28), (10000, 28, 28), (60000,), (10000,))"
      ]
     },
     "execution_count": 57,
     "metadata": {
      "tags": []
     },
     "output_type": "execute_result"
    }
   ],
   "source": [
    "(x_train, y_train), (x_test, y_test) = mnist.load_data()\n",
    "x_train.shape, x_test.shape, y_train.shape, y_test.shape"
   ]
  },
  {
   "cell_type": "code",
   "execution_count": 58,
   "metadata": {
    "id": "ACsjKD2e5-v9"
   },
   "outputs": [],
   "source": [
    "# scale the data\n",
    "x_train = x_train / 255.0\n",
    "x_test = x_test / 255.0"
   ]
  },
  {
   "cell_type": "code",
   "execution_count": 64,
   "metadata": {
    "id": "tcIDWgCP6GWe"
   },
   "outputs": [],
   "source": [
    "# Build the tf.keras.Sequential model by stacking layers. Choose an optimizer and loss function for training:\n",
    "from tensorflow.keras.models import Sequential\n",
    "from tensorflow.keras.layers import Flatten, Dense, Dropout"
   ]
  },
  {
   "cell_type": "code",
   "execution_count": 65,
   "metadata": {
    "id": "pH1p-h5V6dvL"
   },
   "outputs": [],
   "source": [
    "model = Sequential()\n",
    "\n",
    "model.add(Flatten(input_shape=(28, 28)))\n",
    "model.add(Dense(128, activation='relu'))\n",
    "model.add(Dropout(0.2))\n",
    "\n",
    "model.add(Dense(18))"
   ]
  },
  {
   "cell_type": "code",
   "execution_count": 66,
   "metadata": {
    "colab": {
     "base_uri": "https://localhost:8080/"
    },
    "id": "YuAHLnHr6-n0",
    "outputId": "650f75d1-839f-44df-8879-02a66fc5de72"
   },
   "outputs": [
    {
     "data": {
      "text/plain": [
       "array([[-0.41044477,  0.18888104,  0.35889456, -0.01425153,  0.4098451 ,\n",
       "         0.39063883, -0.15033387, -0.5571083 ,  0.25724584, -0.18785247,\n",
       "         0.10071382,  0.33244976,  0.03001545, -0.33659142, -0.08517634,\n",
       "        -0.03940674,  0.16222379,  0.16948895]], dtype=float32)"
      ]
     },
     "execution_count": 66,
     "metadata": {
      "tags": []
     },
     "output_type": "execute_result"
    }
   ],
   "source": [
    "# For each example the model returns a vector of \"logits\" or \"log-odds\" scores, one for each class.\n",
    "predictions = model(x_train[:1]).numpy()\n",
    "predictions"
   ]
  },
  {
   "cell_type": "code",
   "execution_count": 67,
   "metadata": {
    "colab": {
     "base_uri": "https://localhost:8080/"
    },
    "id": "mNqRI2Zh7MWA",
    "outputId": "d4951c6f-1534-423a-a036-d00b88132c59"
   },
   "outputs": [
    {
     "data": {
      "text/plain": [
       "array([[0.03434531, 0.06253906, 0.07412885, 0.05104251, 0.07800363,\n",
       "        0.07651976, 0.04454841, 0.02966008, 0.06696407, 0.04290798,\n",
       "        0.05726125, 0.07219423, 0.05335276, 0.03697784, 0.04754772,\n",
       "        0.04977454, 0.06089396, 0.06133798]], dtype=float32)"
      ]
     },
     "execution_count": 67,
     "metadata": {
      "tags": []
     },
     "output_type": "execute_result"
    }
   ],
   "source": [
    "# The tf.nn.softmax function converts these logits to \"probabilities\" for each class:\n",
    "tf.nn.softmax(predictions).numpy()"
   ]
  },
  {
   "cell_type": "markdown",
   "metadata": {
    "id": "QvfeCJKa9fjx"
   },
   "source": [
    "**Note: It is possible to bake this tf.nn.softmax in as the activation function for the last layer of the network. While this can make the model output more directly interpretable, this approach is discouraged as it's impossible to provide an exact and numerically stable loss calculation for all models when using a softmax output.**"
   ]
  },
  {
   "cell_type": "code",
   "execution_count": 68,
   "metadata": {
    "id": "MpT6QRLy7WL4"
   },
   "outputs": [],
   "source": [
    "# The losses.SparseCategoricalCrossentropy loss takes a vector of logits and a True index and returns a scalar loss for each example.\n",
    "loss_fn = tf.keras.losses.SparseCategoricalCrossentropy(from_logits=True)"
   ]
  },
  {
   "cell_type": "code",
   "execution_count": 69,
   "metadata": {
    "colab": {
     "base_uri": "https://localhost:8080/"
    },
    "id": "6DDYFoK48bdg",
    "outputId": "802cc00c-3712-4f4c-e470-f863b33cda45"
   },
   "outputs": [
    {
     "data": {
      "text/plain": [
       "2.5702062"
      ]
     },
     "execution_count": 69,
     "metadata": {
      "tags": []
     },
     "output_type": "execute_result"
    }
   ],
   "source": [
    "loss_fn(y_train[:1], predictions).numpy()"
   ]
  },
  {
   "cell_type": "code",
   "execution_count": 70,
   "metadata": {
    "id": "Dk4dK9Wx8mbr"
   },
   "outputs": [],
   "source": [
    "model.compile(\n",
    "    optimizer='adam',\n",
    "    loss=loss_fn,\n",
    "    metrics=['accuracy']\n",
    ")"
   ]
  },
  {
   "cell_type": "code",
   "execution_count": 72,
   "metadata": {
    "colab": {
     "base_uri": "https://localhost:8080/"
    },
    "id": "xEh02pu38ylO",
    "outputId": "b633a045-62ba-453d-b824-1274d961e009"
   },
   "outputs": [
    {
     "name": "stdout",
     "output_type": "stream",
     "text": [
      "Epoch 1/5\n",
      "1875/1875 [==============================] - 3s 2ms/step - loss: 0.5118 - accuracy: 0.8523\n",
      "Epoch 2/5\n",
      "1875/1875 [==============================] - 3s 2ms/step - loss: 0.1610 - accuracy: 0.9512\n",
      "Epoch 3/5\n",
      "1875/1875 [==============================] - 3s 2ms/step - loss: 0.1136 - accuracy: 0.9651\n",
      "Epoch 4/5\n",
      "1875/1875 [==============================] - 3s 2ms/step - loss: 0.0894 - accuracy: 0.9726\n",
      "Epoch 5/5\n",
      "1875/1875 [==============================] - 3s 2ms/step - loss: 0.0763 - accuracy: 0.9761\n"
     ]
    },
    {
     "data": {
      "text/plain": [
       "<tensorflow.python.keras.callbacks.History at 0x7f4e16144c10>"
      ]
     },
     "execution_count": 72,
     "metadata": {
      "tags": []
     },
     "output_type": "execute_result"
    }
   ],
   "source": [
    "model.fit(x_train, y_train, epochs=5)"
   ]
  },
  {
   "cell_type": "code",
   "execution_count": 73,
   "metadata": {
    "colab": {
     "base_uri": "https://localhost:8080/"
    },
    "id": "jOZraswh81I1",
    "outputId": "41d5d12d-64c5-4031-af1d-7658b3a62911"
   },
   "outputs": [
    {
     "name": "stdout",
     "output_type": "stream",
     "text": [
      "313/313 - 0s - loss: 0.0750 - accuracy: 0.9753\n"
     ]
    },
    {
     "data": {
      "text/plain": [
       "[0.07501718401908875, 0.9753000140190125]"
      ]
     },
     "execution_count": 73,
     "metadata": {
      "tags": []
     },
     "output_type": "execute_result"
    }
   ],
   "source": [
    "# The Model.evaluate method checks the models performance, usually on a \"Validation-set\" or \"Test-set\".\n",
    "model.evaluate(x_test, y_test, verbose=2)"
   ]
  },
  {
   "cell_type": "markdown",
   "metadata": {
    "id": "mMvv-Sm99BTI"
   },
   "source": [
    "The image classifier is now trained to ~98% accuracy on this dataset. "
   ]
  },
  {
   "cell_type": "code",
   "execution_count": 74,
   "metadata": {
    "id": "ibGFVNk49KbT"
   },
   "outputs": [],
   "source": [
    "# If you want your model to return a probability, you can wrap the trained model, and attach the softmax to it:\n",
    "probability_model = tf.keras.Sequential([\n",
    "                                         model, \n",
    "                                         tf.keras.layers.Softmax()\n",
    "])"
   ]
  },
  {
   "cell_type": "code",
   "execution_count": 76,
   "metadata": {
    "colab": {
     "base_uri": "https://localhost:8080/"
    },
    "id": "C0xaMSXL9VhY",
    "outputId": "10a1fc34-c7da-4648-8041-13a41b39ff91"
   },
   "outputs": [
    {
     "data": {
      "text/plain": [
       "<tf.Tensor: shape=(5, 18), dtype=float32, numpy=\n",
       "array([[1.91499812e-08, 2.06802325e-10, 1.05917785e-07, 1.69238883e-05,\n",
       "        2.16143128e-11, 4.65180570e-08, 4.74791430e-13, 9.99982357e-01,\n",
       "        1.65933596e-08, 6.16974319e-07, 4.23938398e-14, 6.51485809e-16,\n",
       "        1.22118180e-15, 1.58834062e-15, 1.38049027e-15, 3.55220546e-14,\n",
       "        2.88999442e-14, 9.57161545e-15],\n",
       "       [1.05828057e-08, 7.38314338e-05, 9.99909759e-01, 5.80282745e-07,\n",
       "        3.52090288e-16, 1.58822586e-05, 7.18132442e-09, 4.35263465e-14,\n",
       "        5.93383476e-09, 1.38985747e-13, 1.07795160e-16, 1.00090864e-17,\n",
       "        4.41524129e-16, 2.61814606e-19, 1.87340626e-17, 5.39844662e-18,\n",
       "        3.67509464e-17, 1.99869368e-17],\n",
       "       [4.08835774e-08, 9.97047603e-01, 1.32533512e-03, 6.51346272e-06,\n",
       "        3.83499864e-04, 2.53563157e-05, 1.60766976e-05, 1.08737533e-03,\n",
       "        1.05113235e-04, 2.93860421e-06, 1.39729854e-08, 4.33005134e-08,\n",
       "        7.04784497e-08, 1.39453205e-08, 1.80528517e-08, 9.12380855e-08,\n",
       "        1.75232078e-08, 3.12238413e-08],\n",
       "       [9.99881744e-01, 3.79375767e-11, 4.38714669e-05, 2.49925449e-08,\n",
       "        1.28116415e-06, 9.38531798e-07, 3.02275639e-05, 3.97261429e-05,\n",
       "        1.42489839e-07, 2.02258821e-06, 2.91417272e-11, 3.31082861e-12,\n",
       "        6.33463854e-12, 8.45969128e-12, 7.92246043e-12, 3.98459737e-12,\n",
       "        4.15706011e-12, 4.81203879e-12],\n",
       "       [1.17036634e-05, 2.04687307e-08, 4.96284847e-05, 2.00188936e-07,\n",
       "        9.82756615e-01, 7.01747808e-07, 7.57026601e-06, 3.00479529e-04,\n",
       "        4.89229460e-05, 1.68242026e-02, 9.30057031e-10, 9.10594211e-10,\n",
       "        1.05913822e-09, 6.72765788e-10, 1.83155269e-09, 1.04379816e-09,\n",
       "        1.30002870e-10, 7.39231232e-10]], dtype=float32)>"
      ]
     },
     "execution_count": 76,
     "metadata": {
      "tags": []
     },
     "output_type": "execute_result"
    }
   ],
   "source": [
    "probability_model(x_test[:5])"
   ]
  },
  {
   "cell_type": "code",
   "execution_count": null,
   "metadata": {
    "id": "yvlPyec59W0g"
   },
   "outputs": [],
   "source": []
  }
 ],
 "metadata": {
  "accelerator": "GPU",
  "colab": {
   "collapsed_sections": [],
   "name": "00_tensorflow_fundamentals.ipynb",
   "provenance": [],
   "toc_visible": true
  },
  "kernelspec": {
   "display_name": "Python 3",
   "language": "python",
   "name": "python3"
  },
  "language_info": {
   "codemirror_mode": {
    "name": "ipython",
    "version": 3
   },
   "file_extension": ".py",
   "mimetype": "text/x-python",
   "name": "python",
   "nbconvert_exporter": "python",
   "pygments_lexer": "ipython3",
   "version": "3.8.5"
  }
 },
 "nbformat": 4,
 "nbformat_minor": 1
}
