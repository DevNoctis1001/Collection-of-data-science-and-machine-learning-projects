{
 "cells": [
  {
   "cell_type": "markdown",
   "metadata": {},
   "source": [
    "# AutoEncoders on Image Data\n",
    "\n",
    "For Fashion MNST dataset, images are 28x28 and dimensions of 784, which is basically 784 features.\n",
    "\n",
    "#### This is a good way to use Autoencoder.\n",
    "\n",
    "What we gonna do is\n",
    "+ pass the image through Autoencoder\n",
    "+ Then have the Autoencoder attempt to recreat the image as the output.\n",
    "\n",
    "Bascially Autoencoder will attempt to learn what pixels are important when encoded it down to smaller hidden layers, then use those to recreate when decoding. \n",
    "\n",
    "However this is not very useful though.\n",
    "\n",
    "#### What useful is removing Noises.\n",
    "\n",
    "Noises are real world problem. So using Autoencoder to remove nosies will be a Great way to use. The same logic is applied.\n",
    "+ pass the image through Autoencoder\n",
    "+ Then hopefully Autoencoder will learn what features are important in reconstruct the correct images without the noises.\n",
    "\n",
    "We will create both Autoencoders."
   ]
  },
  {
   "cell_type": "markdown",
   "metadata": {},
   "source": [
    "+ [Data](#data)\n",
    "    + [Scale the data](#scale)\n",
    "+ [PART I: Basic AutoEncoder](#part1)\n",
    "    + [Building AutoEncoder](#buildingautoencoder)\n",
    "        + [Building Encoder](#buildingencoder)\n",
    "        + [Building Decoder](#buildingdecoder)\n",
    "        + [Combining Encoder + Decoder as AutoEncoder](#combining)\n",
    "    + [Training AutoEncoder](#trainingautoencoder)\n",
    "    + [Check how images look like after passing through AutoEncoder](#checkimage)\n",
    "+ [PART II: AutoEncoders for Denoising Images](#part2)\n",
    "    + [Demo for adding nosies](#addingnoise)\n",
    "    + [Building Noise Removal Autoencoder](#noiseremovalautoencoder)\n",
    "    + [Train Noise Remover AutoEncoder](#trainnoiseremover)\n",
    "    + [Check how Noisey Images are handled](#noisyhandle)"
   ]
  },
  {
   "cell_type": "markdown",
   "metadata": {},
   "source": [
    "# <a name=data>Data</a>"
   ]
  },
  {
   "cell_type": "code",
   "execution_count": 3,
   "metadata": {},
   "outputs": [],
   "source": [
    "import numpy as np\n",
    "import pandas as pd\n",
    "import matplotlib.pyplot as plt"
   ]
  },
  {
   "cell_type": "code",
   "execution_count": 4,
   "metadata": {},
   "outputs": [],
   "source": [
    "from tensorflow.keras.datasets import mnist"
   ]
  },
  {
   "cell_type": "code",
   "execution_count": 5,
   "metadata": {},
   "outputs": [],
   "source": [
    "(X_train, y_train), (X_test, y_test) = mnist.load_data()"
   ]
  },
  {
   "cell_type": "code",
   "execution_count": 6,
   "metadata": {},
   "outputs": [
    {
     "data": {
      "image/png": "[encoded data removed]",
      "text/plain": [
       "<Figure size 432x288 with 1 Axes>"
      ]
     },
     "metadata": {
      "needs_background": "light"
     },
     "output_type": "display_data"
    }
   ],
   "source": [
    "plt.imshow(X_train[0]);"
   ]
  },
  {
   "cell_type": "markdown",
   "metadata": {},
   "source": [
    "### <a name='scale'>Scale the data</a>"
   ]
  },
  {
   "cell_type": "code",
   "execution_count": 7,
   "metadata": {},
   "outputs": [
    {
     "data": {
      "text/plain": [
       "(28, 28)"
      ]
     },
     "execution_count": 7,
     "metadata": {},
     "output_type": "execute_result"
    }
   ],
   "source": [
    "X_train[0].shape"
   ]
  },
  {
   "cell_type": "markdown",
   "metadata": {},
   "source": [
    "#### [Why do we divide by 255?](https://stackoverflow.com/questions/20486700/why-do-we-always-divide-rgb-values-by-255#:~:text=It%20really%20comes%20down%20to,255%20since%200%20is%20included.)\n",
    "\n",
    "Since 255 is the maximum value, dividing by 255 expresses a 0-1 representation. Each channel (Red, Green, and Blue are each channels) is 8 bits, so they are each limited to 256, in this case 255 since 0 is included."
   ]
  },
  {
   "cell_type": "code",
   "execution_count": 8,
   "metadata": {},
   "outputs": [],
   "source": [
    "X_train = X_train / 255 \n",
    "X_test = X_test / 255"
   ]
  },
  {
   "cell_type": "markdown",
   "metadata": {},
   "source": [
    "-------"
   ]
  },
  {
   "cell_type": "markdown",
   "metadata": {},
   "source": [
    "# <a name=part1>PART I: Basic AutoEncoder</a>\n",
    "+ There is super correct or wrong way as AutoEncoder are semi-supervised learning\n",
    "+ we are going to build **Stacked AutoEncoder** meaning multiple stacked hidden layers that slowly reduce the dimensionality of the dataset."
   ]
  },
  {
   "cell_type": "markdown",
   "metadata": {},
   "source": [
    "# <a name=buildingautoencoder>Building AutoEncoder</a>"
   ]
  },
  {
   "cell_type": "code",
   "execution_count": 9,
   "metadata": {},
   "outputs": [],
   "source": [
    "from tensorflow.keras.models import Sequential\n",
    "from tensorflow.keras.layers import Dense, Flatten, Reshape\n",
    "from tensorflow.keras.optimizers import SGD"
   ]
  },
  {
   "cell_type": "code",
   "execution_count": 10,
   "metadata": {},
   "outputs": [
    {
     "data": {
      "text/plain": [
       "784"
      ]
     },
     "execution_count": 10,
     "metadata": {},
     "output_type": "execute_result"
    }
   ],
   "source": [
    "28*28"
   ]
  },
  {
   "cell_type": "code",
   "execution_count": 11,
   "metadata": {},
   "outputs": [
    {
     "data": {
      "text/plain": [
       "392.0"
      ]
     },
     "execution_count": 11,
     "metadata": {},
     "output_type": "execute_result"
    }
   ],
   "source": [
    "784/2 #reduced by half"
   ]
  },
  {
   "cell_type": "code",
   "execution_count": 12,
   "metadata": {},
   "outputs": [
    {
     "data": {
      "text/plain": [
       "(28, 28)"
      ]
     },
     "execution_count": 12,
     "metadata": {},
     "output_type": "execute_result"
    }
   ],
   "source": [
    "X_train[0].shape"
   ]
  },
  {
   "cell_type": "markdown",
   "metadata": {},
   "source": [
    "## <a name=buildingencoder>Building Encoder</a>"
   ]
  },
  {
   "cell_type": "code",
   "execution_count": 13,
   "metadata": {},
   "outputs": [],
   "source": [
    "encoder = Sequential()\n",
    "\n",
    "encoder.add(Flatten(input_shape=[28,28]))    # Flatten this from(28,28) to 784\n",
    "\n",
    "encoder.add(Dense(400, activation='relu'))   # reduced to Half => 784 to 400\n",
    "encoder.add(Dense(200, activation='relu'))   # reduced to Half => 400 to 200\n",
    "encoder.add(Dense(100, activation='relu'))   # reduced to Half => 200 to 100\n",
    "encoder.add(Dense(50, activation='relu'))   # reduced to Half => 100 to 50\n",
    "encoder.add(Dense(25, activation='relu'))   # reduced to Half => 50 to 25   (reduced to 3% of original dimensions)"
   ]
  },
  {
   "cell_type": "code",
   "execution_count": 14,
   "metadata": {},
   "outputs": [
    {
     "data": {
      "text/plain": [
       "3.188775510204082"
      ]
     },
     "execution_count": 14,
     "metadata": {},
     "output_type": "execute_result"
    }
   ],
   "source": [
    "100 * 25/784"
   ]
  },
  {
   "cell_type": "markdown",
   "metadata": {},
   "source": [
    "## <a name=buildingdecoder>Building Decoder</a>\n",
    "+ Now we are basically reversing what encoder has done\n",
    "+ when we decode, we need to skip the Central layer (which is the last layer of encoder; in our case 25 neurons one)\n",
    "\n",
    "### We need to use sigmoid in second to last layer\n",
    "+ we are using Binarycrossentropy loss at the end of our autoencoder, checking whether the output image (after going through all encoders) matched the original image.\n",
    "\n",
    "### Why we use Binarycrossentropy for loss?\n",
    "+ Autoencoder doesn't care how many types of distinct numbers are or classes.\n",
    "+ All it cares it the image I am producing at the output going to match the image that is originally put as input."
   ]
  },
  {
   "cell_type": "code",
   "execution_count": 15,
   "metadata": {},
   "outputs": [],
   "source": [
    "decoder = Sequential()\n",
    "\n",
    "decoder.add(Dense(50, input_shape=[25], activation='relu'))    # here we use input_shape as 25 which is the last layer of our encoder\n",
    "decoder.add(Dense(100, activation='relu'))\n",
    "decoder.add(Dense(200, activation='relu'))\n",
    "decoder.add(Dense(400, activation='relu'))\n",
    "decoder.add(Dense(28 *28, activation='sigmoid'))     # activation needs to be sigmoid because we are using binarycrossentropy loss\n",
    "\n",
    "decoder.add(Reshape([28,28]))   # reshape back (28,28) image"
   ]
  },
  {
   "cell_type": "markdown",
   "metadata": {},
   "source": [
    "## <a name=combining>Combining Encoder + Decoder as AutoEncoder</a>"
   ]
  },
  {
   "cell_type": "code",
   "execution_count": 16,
   "metadata": {},
   "outputs": [],
   "source": [
    "autoencoder = Sequential([encoder, decoder])"
   ]
  },
  {
   "cell_type": "code",
   "execution_count": 17,
   "metadata": {},
   "outputs": [],
   "source": [
    "autoencoder.compile(loss='binary_crossentropy',\n",
    "                                   optimizer=SGD(lr=1.5), \n",
    "                                   metrics=['accuracy'])"
   ]
  },
  {
   "cell_type": "markdown",
   "metadata": {},
   "source": [
    "# <a name=trainingautoencoder>Training AutoEncoder</a>\n",
    "Take note that AutoEncoder is semi-supervised learning. It is not actually trying to predict the classification or anything.\n",
    "All it doing is trying to learn the important features and reduce the dimensionality.\n",
    "\n",
    "So when giving input and ouput for fitting is different from supervised learning ones."
   ]
  },
  {
   "cell_type": "code",
   "execution_count": 18,
   "metadata": {},
   "outputs": [
    {
     "data": {
      "text/plain": [
       "(60000, 28, 28)"
      ]
     },
     "execution_count": 18,
     "metadata": {},
     "output_type": "execute_result"
    }
   ],
   "source": [
    "X_train.shape"
   ]
  },
  {
   "cell_type": "code",
   "execution_count": 19,
   "metadata": {},
   "outputs": [
    {
     "name": "stdout",
     "output_type": "stream",
     "text": [
      "Epoch 1/5\n",
      "1875/1875 [==============================] - 32s 16ms/step - loss: 0.2971 - accuracy: 0.0700 - val_loss: 0.2133 - val_accuracy: 0.1304\n",
      "Epoch 2/5\n",
      "1875/1875 [==============================] - 32s 17ms/step - loss: 0.2052 - accuracy: 0.1421 - val_loss: 0.1730 - val_accuracy: 0.1808\n",
      "Epoch 3/5\n",
      "1875/1875 [==============================] - 28s 15ms/step - loss: 0.1683 - accuracy: 0.1885 - val_loss: 0.1533 - val_accuracy: 0.2063\n",
      "Epoch 4/5\n",
      "1875/1875 [==============================] - 27s 15ms/step - loss: 0.1509 - accuracy: 0.2107 - val_loss: 0.1518 - val_accuracy: 0.2067\n",
      "Epoch 5/5\n",
      "1875/1875 [==============================] - 29s 15ms/step - loss: 0.1435 - accuracy: 0.2197 - val_loss: 0.1344 - val_accuracy: 0.2230\n"
     ]
    },
    {
     "data": {
      "text/plain": [
       "<tensorflow.python.keras.callbacks.History at 0x55e95770d0>"
      ]
     },
     "execution_count": 19,
     "metadata": {},
     "output_type": "execute_result"
    }
   ],
   "source": [
    "autoencoder.fit(X_train, X_train,\n",
    "                       epochs=5,\n",
    "                       validation_data=(X_test, X_test))"
   ]
  },
  {
   "cell_type": "markdown",
   "metadata": {},
   "source": [
    "# <a name=checkimage>Check how images look like after passing through AutoEncoder</a>"
   ]
  },
  {
   "cell_type": "markdown",
   "metadata": {},
   "source": [
    "We will pass 10 images that AutoEncoder **DOES NOT TRAINED ON**. \n",
    "\n",
    "Let's see how autoencoder predicts(attempts to reconstruct after reducing the dimensionality) those images."
   ]
  },
  {
   "cell_type": "code",
   "execution_count": 21,
   "metadata": {},
   "outputs": [],
   "source": [
    "passed_images = autoencoder.predict(X_test[:10])"
   ]
  },
  {
   "cell_type": "code",
   "execution_count": 28,
   "metadata": {},
   "outputs": [
    {
     "name": "stdout",
     "output_type": "stream",
     "text": [
      "Original Image\n"
     ]
    },
    {
     "data": {
      "image/png": "[encoded data removed]",
      "text/plain": [
       "<Figure size 432x288 with 1 Axes>"
      ]
     },
     "metadata": {
      "needs_background": "light"
     },
     "output_type": "display_data"
    },
    {
     "name": "stdout",
     "output_type": "stream",
     "text": [
      "Attempted Reconstruction (after autoencoder)\n"
     ]
    },
    {
     "data": {
      "image/png": "[encoded data removed]",
      "text/plain": [
       "<Figure size 432x288 with 1 Axes>"
      ]
     },
     "metadata": {
      "needs_background": "light"
     },
     "output_type": "display_data"
    }
   ],
   "source": [
    "n = 0\n",
    "\n",
    "print('Original Image')\n",
    "plt.imshow(X_test[n])\n",
    "plt.show();\n",
    "\n",
    "print('Attempted Reconstruction (after autoencoder)')\n",
    "plt.imshow(passed_images[n]);"
   ]
  },
  {
   "cell_type": "markdown",
   "metadata": {},
   "source": [
    "------"
   ]
  },
  {
   "cell_type": "markdown",
   "metadata": {},
   "source": [
    "# <a name=part2>PART II: AutoEncoders for Denoising Images</a>"
   ]
  },
  {
   "cell_type": "markdown",
   "metadata": {},
   "source": [
    "# <a name=addingnoise>Demo for adding nosies</a>"
   ]
  },
  {
   "cell_type": "markdown",
   "metadata": {},
   "source": [
    "+ There are many way to add noise into images. For the sake of convinence, we will use `GaussianNoise`\n",
    "+ The larger value we choose for `std` parameter, the more noise will be added."
   ]
  },
  {
   "cell_type": "code",
   "execution_count": 31,
   "metadata": {},
   "outputs": [],
   "source": [
    "from tensorflow.keras.layers import GaussianNoise"
   ]
  },
  {
   "cell_type": "code",
   "execution_count": 33,
   "metadata": {},
   "outputs": [],
   "source": [
    "sample = GaussianNoise(0.2) # the higher the std value, the nosier"
   ]
  },
  {
   "cell_type": "code",
   "execution_count": 34,
   "metadata": {},
   "outputs": [],
   "source": [
    "noisey = sample(X_test[:10], training=True) # training on the first 10 images of Test dataset"
   ]
  },
  {
   "cell_type": "code",
   "execution_count": 37,
   "metadata": {},
   "outputs": [
    {
     "name": "stdout",
     "output_type": "stream",
     "text": [
      "Original Image\n"
     ]
    },
    {
     "data": {
      "image/png": "[encoded data removed]",
      "text/plain": [
       "<Figure size 432x288 with 1 Axes>"
      ]
     },
     "metadata": {
      "needs_background": "light"
     },
     "output_type": "display_data"
    },
    {
     "name": "stdout",
     "output_type": "stream",
     "text": [
      "Noisey Version\n"
     ]
    },
    {
     "data": {
      "image/png": "[encoded data removed]",
      "text/plain": [
       "<Figure size 432x288 with 1 Axes>"
      ]
     },
     "metadata": {
      "needs_background": "light"
     },
     "output_type": "display_data"
    }
   ],
   "source": [
    "n = 0\n",
    "\n",
    "print('Original Image')\n",
    "plt.imshow(X_test[n])\n",
    "plt.show();\n",
    "\n",
    "print('Noisey Version')\n",
    "plt.imshow(noisey[n]);"
   ]
  },
  {
   "cell_type": "markdown",
   "metadata": {},
   "source": [
    "-----"
   ]
  },
  {
   "cell_type": "markdown",
   "metadata": {},
   "source": [
    "# <a name=noiseremovalautoencoder>Building Noise Removal Autoencoder</a> "
   ]
  },
  {
   "cell_type": "markdown",
   "metadata": {},
   "source": [
    "## Encoder"
   ]
  },
  {
   "cell_type": "code",
   "execution_count": 38,
   "metadata": {},
   "outputs": [],
   "source": [
    "import tensorflow as tf"
   ]
  },
  {
   "cell_type": "code",
   "execution_count": 39,
   "metadata": {},
   "outputs": [],
   "source": [
    "tf.random.set_seed(101) #same as np.random.seed(101)"
   ]
  },
  {
   "cell_type": "code",
   "execution_count": 40,
   "metadata": {},
   "outputs": [],
   "source": [
    "encoder = Sequential()\n",
    "\n",
    "encoder.add(Flatten(input_shape = [28,28]))\n",
    "\n",
    "# Add noise to images before going through autoencoder\n",
    "encoder.add(GaussianNoise(0.2))\n",
    "\n",
    "encoder.add(Dense(400, activation='relu'))\n",
    "encoder.add(Dense(200, activation='relu'))\n",
    "encoder.add(Dense(100, activation='relu'))\n",
    "encoder.add(Dense(50, activation='relu'))\n",
    "encoder.add(Dense(25, activation='relu'))"
   ]
  },
  {
   "cell_type": "markdown",
   "metadata": {},
   "source": [
    "## Decoder"
   ]
  },
  {
   "cell_type": "code",
   "execution_count": 41,
   "metadata": {},
   "outputs": [],
   "source": [
    "decoder = Sequential()\n",
    "\n",
    "decoder.add(Dense(50, input_shape =[25], activation='relu'))\n",
    "decoder.add(Dense(100, activation='relu'))\n",
    "decoder.add(Dense(200, activation='relu'))\n",
    "decoder.add(Dense(400, activation='relu'))\n",
    "decoder.add(Dense(784, activation='sigmoid'))\n",
    "\n",
    "decoder.add(Reshape([28,28]))"
   ]
  },
  {
   "cell_type": "markdown",
   "metadata": {},
   "source": [
    "## Combine Encoder and Decoder as Noise Remover AutoEncoder"
   ]
  },
  {
   "cell_type": "code",
   "execution_count": 42,
   "metadata": {},
   "outputs": [],
   "source": [
    "noise_remover = Sequential([encoder, decoder])"
   ]
  },
  {
   "cell_type": "code",
   "execution_count": 44,
   "metadata": {},
   "outputs": [],
   "source": [
    "noise_remover.compile(loss='binary_crossentropy', \n",
    "                                     optimizer=SGD(lr=1.5),\n",
    "                                     metrics=['accuracy'])"
   ]
  },
  {
   "cell_type": "markdown",
   "metadata": {},
   "source": [
    "# <a name=trainnoiseremover>Train Noise Remover AutoEncoder</a> "
   ]
  },
  {
   "cell_type": "code",
   "execution_count": 46,
   "metadata": {},
   "outputs": [
    {
     "name": "stdout",
     "output_type": "stream",
     "text": [
      "Epoch 1/8\n",
      "1875/1875 [==============================] - 29s 15ms/step - loss: 0.2930 - accuracy: 0.0698 - val_loss: 0.2211 - val_accuracy: 0.1141\n",
      "Epoch 2/8\n",
      "1875/1875 [==============================] - 27s 14ms/step - loss: 0.2055 - accuracy: 0.1333 - val_loss: 0.1734 - val_accuracy: 0.1734\n",
      "Epoch 3/8\n",
      "1875/1875 [==============================] - 27s 15ms/step - loss: 0.1680 - accuracy: 0.1875 - val_loss: 0.1540 - val_accuracy: 0.2076\n",
      "Epoch 4/8\n",
      "1875/1875 [==============================] - 27s 15ms/step - loss: 0.1536 - accuracy: 0.2082 - val_loss: 0.1474 - val_accuracy: 0.2204\n",
      "Epoch 5/8\n",
      "1875/1875 [==============================] - 27s 15ms/step - loss: 0.1467 - accuracy: 0.2184 - val_loss: 0.1401 - val_accuracy: 0.2177\n",
      "Epoch 6/8\n",
      "1875/1875 [==============================] - 28s 15ms/step - loss: 0.1399 - accuracy: 0.2258 - val_loss: 0.1309 - val_accuracy: 0.2349\n",
      "Epoch 7/8\n",
      "1875/1875 [==============================] - 28s 15ms/step - loss: 0.1347 - accuracy: 0.2323 - val_loss: 0.1320 - val_accuracy: 0.2418\n",
      "Epoch 8/8\n",
      "1875/1875 [==============================] - 29s 15ms/step - loss: 0.1318 - accuracy: 0.2358 - val_loss: 0.1261 - val_accuracy: 0.2415\n"
     ]
    },
    {
     "data": {
      "text/plain": [
       "<tensorflow.python.keras.callbacks.History at 0x559684a5e0>"
      ]
     },
     "execution_count": 46,
     "metadata": {},
     "output_type": "execute_result"
    }
   ],
   "source": [
    "noise_remover.fit(X_train, X_train,\n",
    "                             epochs=8,\n",
    "                             validation_data=(X_test, X_test))"
   ]
  },
  {
   "cell_type": "markdown",
   "metadata": {},
   "source": [
    "# <a name=noisyhandle>Check how Noisey Images are handled</a>"
   ]
  },
  {
   "cell_type": "code",
   "execution_count": 48,
   "metadata": {},
   "outputs": [],
   "source": [
    "# create 10 noisy images\n",
    "ten_noisey_images = sample(X_test[:10], training=True)"
   ]
  },
  {
   "cell_type": "markdown",
   "metadata": {},
   "source": [
    "### Pass in the noisey images through Noise Remover"
   ]
  },
  {
   "cell_type": "code",
   "execution_count": 49,
   "metadata": {},
   "outputs": [],
   "source": [
    "denoised = noise_remover(ten_noisey_images)"
   ]
  },
  {
   "cell_type": "code",
   "execution_count": 56,
   "metadata": {},
   "outputs": [
    {
     "name": "stdout",
     "output_type": "stream",
     "text": [
      "Original Image\n"
     ]
    },
    {
     "data": {
      "image/png": "[encoded data removed]",
      "text/plain": [
       "<Figure size 432x288 with 1 Axes>"
      ]
     },
     "metadata": {
      "needs_background": "light"
     },
     "output_type": "display_data"
    },
    {
     "name": "stdout",
     "output_type": "stream",
     "text": [
      "Noise Added Image\n"
     ]
    },
    {
     "data": {
      "image/png": "[encoded data removed]",
      "text/plain": [
       "<Figure size 432x288 with 1 Axes>"
      ]
     },
     "metadata": {
      "needs_background": "light"
     },
     "output_type": "display_data"
    },
    {
     "name": "stdout",
     "output_type": "stream",
     "text": [
      "After Noise Removal from AutoEncoder\n"
     ]
    },
    {
     "data": {
      "image/png": "[encoded data removed]",
      "text/plain": [
       "<Figure size 432x288 with 1 Axes>"
      ]
     },
     "metadata": {
      "needs_background": "light"
     },
     "output_type": "display_data"
    }
   ],
   "source": [
    "n = 6\n",
    "\n",
    "print('Original Image')\n",
    "plt.imshow(X_test[n])\n",
    "plt.show()\n",
    "\n",
    "print('Noise Added Image')\n",
    "plt.imshow(ten_noisey_images[n])\n",
    "plt.show()\n",
    "\n",
    "print('After Noise Removal from AutoEncoder')\n",
    "plt.imshow(denoised[n])\n",
    "plt.show()"
   ]
  }
 ],
 "metadata": {
  "kernelspec": {
   "display_name": "venv-datascience",
   "language": "python",
   "name": "venv-datascience"
  },
  "language_info": {
   "codemirror_mode": {
    "name": "ipython",
    "version": 3
   },
   "file_extension": ".py",
   "mimetype": "text/x-python",
   "name": "python",
   "nbconvert_exporter": "python",
   "pygments_lexer": "ipython3",
   "version": "3.8.5"
  }
 },
 "nbformat": 4,
 "nbformat_minor": 4
}
