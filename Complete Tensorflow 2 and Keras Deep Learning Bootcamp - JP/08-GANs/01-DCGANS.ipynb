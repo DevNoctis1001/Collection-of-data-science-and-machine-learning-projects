{
 "cells": [
  {
   "cell_type": "markdown",
   "metadata": {},
   "source": [
    "\n",
    "# DCGANs - Deep Convolutional Generative Adverserial Networks\n",
    "+ Research Paper for DCGANs https://arxiv.org/abs/1511.06434"
   ]
  },
  {
   "cell_type": "markdown",
   "metadata": {},
   "source": [
    "+ [Data](#data)\n",
    "+ [Reshape and Rescale Images for DCGAN](#reshapeandscale)\n",
    "+ [Filtering out the Data for Faster Training on Smaller Dataset](#filter)\n",
    "+ [Build GAN](#buildingGAN)\n",
    "    + [Discriminator](#discriminator)\n",
    "    + [Generator](#generator)\n",
    "    + [Combining Generator and Discriminator as GAN and compile](#gancombination)\n",
    "+ [Setting up Training Batches](#trainingbatches)\n",
    "    + [Discriminator Training Phase (Phase 1)](#phase1)\n",
    "    + [Generator Training Phase (Phase 2)](#phase2)\n",
    "+ [Training GAN Loop](#trainingGAN)\n",
    "+ [Generating Images after training](#generatingaftertraining)"
   ]
  },
  {
   "cell_type": "code",
   "execution_count": 1,
   "metadata": {},
   "outputs": [],
   "source": [
    "import numpy as np\n",
    "import pandas as pd\n",
    "import matplotlib.pyplot as plt"
   ]
  },
  {
   "cell_type": "markdown",
   "metadata": {},
   "source": [
    "# <a name=data>Data</a>"
   ]
  },
  {
   "cell_type": "code",
   "execution_count": 63,
   "metadata": {},
   "outputs": [],
   "source": [
    "from tensorflow.keras.datasets import mnist"
   ]
  },
  {
   "cell_type": "code",
   "execution_count": 64,
   "metadata": {},
   "outputs": [],
   "source": [
    "(X_train, y_train), (X_test, y_test) = mnist.load_data()"
   ]
  },
  {
   "cell_type": "code",
   "execution_count": 65,
   "metadata": {},
   "outputs": [
    {
     "data": {
      "text/plain": [
       "(60000, 28, 28)"
      ]
     },
     "execution_count": 65,
     "metadata": {},
     "output_type": "execute_result"
    }
   ],
   "source": [
    "X_train.shape"
   ]
  },
  {
   "cell_type": "code",
   "execution_count": 66,
   "metadata": {},
   "outputs": [
    {
     "data": {
      "text/plain": [
       "(60000,)"
      ]
     },
     "execution_count": 66,
     "metadata": {},
     "output_type": "execute_result"
    }
   ],
   "source": [
    "y_train.shape"
   ]
  },
  {
   "cell_type": "code",
   "execution_count": 67,
   "metadata": {},
   "outputs": [
    {
     "data": {
      "image/png": "[encoded data removed]",
      "text/plain": [
       "<Figure size 432x288 with 1 Axes>"
      ]
     },
     "metadata": {
      "needs_background": "light"
     },
     "output_type": "display_data"
    }
   ],
   "source": [
    "plt.imshow(X_train[0]);"
   ]
  },
  {
   "cell_type": "markdown",
   "metadata": {},
   "source": [
    "-------"
   ]
  },
  {
   "cell_type": "markdown",
   "metadata": {},
   "source": [
    "# <a name=reshapeandscale>Reshape and Rescale Images for DCGAN</a>\n",
    "\n",
    "Generator will use **tanh activation function (hyperbolic activation function)** for the last layer, so we want to **reshape X_train to be within -1 to 1 limits**."
   ]
  },
  {
   "cell_type": "code",
   "execution_count": 68,
   "metadata": {},
   "outputs": [],
   "source": [
    "X_train = X_train/255"
   ]
  },
  {
   "cell_type": "markdown",
   "metadata": {},
   "source": [
    "Mulitplying with 2 will result in 0 to 2 data points. Then subtracting 1 will result in -1 to 1 limits."
   ]
  },
  {
   "cell_type": "code",
   "execution_count": 69,
   "metadata": {},
   "outputs": [],
   "source": [
    "X_train = X_train.reshape(-1,28,28,1) * 2.0 -1"
   ]
  },
  {
   "cell_type": "code",
   "execution_count": 70,
   "metadata": {},
   "outputs": [
    {
     "data": {
      "text/plain": [
       "(-1.0, 1.0)"
      ]
     },
     "execution_count": 70,
     "metadata": {},
     "output_type": "execute_result"
    }
   ],
   "source": [
    "X_train.min(), X_train.max()"
   ]
  },
  {
   "cell_type": "markdown",
   "metadata": {},
   "source": [
    "----"
   ]
  },
  {
   "cell_type": "markdown",
   "metadata": {},
   "source": [
    "# <a name=filter>Filtering out the Data for Faster Training on Smaller Dataset</a>"
   ]
  },
  {
   "cell_type": "code",
   "execution_count": 71,
   "metadata": {},
   "outputs": [],
   "source": [
    "only_zeros = X_train[y_train == 0]"
   ]
  },
  {
   "cell_type": "code",
   "execution_count": 72,
   "metadata": {},
   "outputs": [
    {
     "data": {
      "text/plain": [
       "(5923, 28, 28, 1)"
      ]
     },
     "execution_count": 72,
     "metadata": {},
     "output_type": "execute_result"
    }
   ],
   "source": [
    "only_zeros.shape"
   ]
  },
  {
   "cell_type": "markdown",
   "metadata": {},
   "source": [
    "# <a name=buildingGAN>Build GAN</a>"
   ]
  },
  {
   "cell_type": "code",
   "execution_count": 73,
   "metadata": {},
   "outputs": [],
   "source": [
    "import tensorflow as tf\n",
    "from tensorflow.keras.models import Sequential\n",
    "from tensorflow.keras.layers import Dense, Reshape, Dropout, LeakyReLU, BatchNormalization, Conv2D, Conv2DTranspose"
   ]
  },
  {
   "cell_type": "code",
   "execution_count": 74,
   "metadata": {},
   "outputs": [],
   "source": [
    "np.random.seed(42)\n",
    "tf.random.set_seed(42)\n",
    "\n",
    "codings_size = 100"
   ]
  },
  {
   "cell_type": "markdown",
   "metadata": {},
   "source": [
    "# <a name=generator>Generator</a>"
   ]
  },
  {
   "cell_type": "code",
   "execution_count": 75,
   "metadata": {},
   "outputs": [],
   "source": [
    "generator = Sequential()\n",
    "\n",
    "generator.add(Dense(7 * 7 * 128, input_shape=[codings_size]))\n",
    "\n",
    "generator.add(Reshape([7,7,128]))\n",
    "\n",
    "generator.add(BatchNormalization())\n",
    "generator.add(Conv2DTranspose(64, kernel_size=5, strides=2, padding=\"same\",\n",
    "                                 activation=\"relu\"))\n",
    "\n",
    "generator.add(BatchNormalization())\n",
    "generator.add(Conv2DTranspose(1, kernel_size=5, strides=2, padding=\"same\",\n",
    "                                 activation=\"tanh\"))"
   ]
  },
  {
   "cell_type": "markdown",
   "metadata": {},
   "source": [
    "# <a name=discriminator>Discriminator</a>"
   ]
  },
  {
   "cell_type": "code",
   "execution_count": 76,
   "metadata": {},
   "outputs": [],
   "source": [
    "discriminator = Sequential()\n",
    "\n",
    "# one convolutional layer with dropout\n",
    "discriminator.add(Conv2D(64, kernel_size=5, strides=2, padding='same', \n",
    "                                         activation=LeakyReLU(0.3),\n",
    "                                         input_shape=[28, 28, 1]))\n",
    "discriminator.add(Dropout(0.5))\n",
    "\n",
    "# one convolutional layer with dropout\n",
    "discriminator.add(Conv2D(128, kernel_size=5, strides=2, padding='same', \n",
    "                                         activation=LeakyReLU(0.3),\n",
    "                                         input_shape=[28, 28, 1]))\n",
    "discriminator.add(Dropout(0.5))\n",
    "\n",
    "# Flatten\n",
    "discriminator.add(Flatten())\n",
    "\n",
    "# Output layer\n",
    "discriminator.add(Dense(1, activation='sigmoid'))"
   ]
  },
  {
   "cell_type": "code",
   "execution_count": 77,
   "metadata": {},
   "outputs": [],
   "source": [
    "discriminator.compile(loss='binary_crossentropy', optimizer='adam')"
   ]
  },
  {
   "cell_type": "markdown",
   "metadata": {},
   "source": [
    "# <a name=gancombination>Combining Generator and Discriminator as GAN and compile</a>"
   ]
  },
  {
   "cell_type": "code",
   "execution_count": 78,
   "metadata": {},
   "outputs": [],
   "source": [
    "GAN = Sequential([generator, discriminator])"
   ]
  },
  {
   "cell_type": "code",
   "execution_count": 79,
   "metadata": {},
   "outputs": [],
   "source": [
    "discriminator.trainable = False"
   ]
  },
  {
   "cell_type": "code",
   "execution_count": 80,
   "metadata": {},
   "outputs": [],
   "source": [
    "GAN.compile(loss='binary_crossentropy', optimizer='adam')"
   ]
  },
  {
   "cell_type": "code",
   "execution_count": 81,
   "metadata": {},
   "outputs": [
    {
     "data": {
      "text/plain": [
       "[<tensorflow.python.keras.engine.sequential.Sequential at 0x903afcb50>,\n",
       " <tensorflow.python.keras.engine.sequential.Sequential at 0x903b424f0>]"
      ]
     },
     "execution_count": 81,
     "metadata": {},
     "output_type": "execute_result"
    }
   ],
   "source": [
    "GAN.layers"
   ]
  },
  {
   "cell_type": "code",
   "execution_count": 82,
   "metadata": {},
   "outputs": [
    {
     "name": "stdout",
     "output_type": "stream",
     "text": [
      "Model: \"sequential_10\"\n",
      "_________________________________________________________________\n",
      "Layer (type)                 Output Shape              Param #   \n",
      "=================================================================\n",
      "sequential_8 (Sequential)    (None, 28, 28, 1)         840705    \n",
      "_________________________________________________________________\n",
      "sequential_9 (Sequential)    (None, 1)                 212865    \n",
      "=================================================================\n",
      "Total params: 1,053,570\n",
      "Trainable params: 840,321\n",
      "Non-trainable params: 213,249\n",
      "_________________________________________________________________\n"
     ]
    }
   ],
   "source": [
    "GAN.summary()"
   ]
  },
  {
   "cell_type": "code",
   "execution_count": 83,
   "metadata": {},
   "outputs": [
    {
     "name": "stdout",
     "output_type": "stream",
     "text": [
      "Model: \"sequential_8\"\n",
      "_________________________________________________________________\n",
      "Layer (type)                 Output Shape              Param #   \n",
      "=================================================================\n",
      "dense_5 (Dense)              (None, 6272)              633472    \n",
      "_________________________________________________________________\n",
      "reshape_2 (Reshape)          (None, 7, 7, 128)         0         \n",
      "_________________________________________________________________\n",
      "batch_normalization_4 (Batch (None, 7, 7, 128)         512       \n",
      "_________________________________________________________________\n",
      "conv2d_transpose_6 (Conv2DTr (None, 14, 14, 64)        204864    \n",
      "_________________________________________________________________\n",
      "batch_normalization_5 (Batch (None, 14, 14, 64)        256       \n",
      "_________________________________________________________________\n",
      "conv2d_transpose_7 (Conv2DTr (None, 28, 28, 1)         1601      \n",
      "=================================================================\n",
      "Total params: 840,705\n",
      "Trainable params: 840,321\n",
      "Non-trainable params: 384\n",
      "_________________________________________________________________\n"
     ]
    }
   ],
   "source": [
    "GAN.layers[0].summary()"
   ]
  },
  {
   "cell_type": "code",
   "execution_count": 84,
   "metadata": {},
   "outputs": [
    {
     "name": "stdout",
     "output_type": "stream",
     "text": [
      "Model: \"sequential_9\"\n",
      "_________________________________________________________________\n",
      "Layer (type)                 Output Shape              Param #   \n",
      "=================================================================\n",
      "conv2d_4 (Conv2D)            (None, 14, 14, 64)        1664      \n",
      "_________________________________________________________________\n",
      "dropout_6 (Dropout)          (None, 14, 14, 64)        0         \n",
      "_________________________________________________________________\n",
      "conv2d_5 (Conv2D)            (None, 7, 7, 128)         204928    \n",
      "_________________________________________________________________\n",
      "dropout_7 (Dropout)          (None, 7, 7, 128)         0         \n",
      "_________________________________________________________________\n",
      "flatten_3 (Flatten)          (None, 6272)              0         \n",
      "_________________________________________________________________\n",
      "dense_6 (Dense)              (None, 1)                 6273      \n",
      "=================================================================\n",
      "Total params: 212,865\n",
      "Trainable params: 0\n",
      "Non-trainable params: 212,865\n",
      "_________________________________________________________________\n"
     ]
    }
   ],
   "source": [
    "GAN.layers[1].summary()"
   ]
  },
  {
   "cell_type": "markdown",
   "metadata": {},
   "source": [
    "------"
   ]
  },
  {
   "cell_type": "markdown",
   "metadata": {},
   "source": [
    "# <a name=trainingbatches>Setting up Training Batches</a>\n"
   ]
  },
  {
   "cell_type": "code",
   "execution_count": 85,
   "metadata": {},
   "outputs": [],
   "source": [
    "import tensorflow as tf"
   ]
  },
  {
   "cell_type": "code",
   "execution_count": 86,
   "metadata": {},
   "outputs": [],
   "source": [
    "batch_size = 32"
   ]
  },
  {
   "cell_type": "markdown",
   "metadata": {},
   "source": [
    "https://stackoverflow.com/questions/46444018/meaning-of-buffer-size-in-dataset-map-dataset-prefetch-and-dataset-shuffle\n",
    "\n",
    "The buffer_size in Dataset.shuffle() can affect the randomness of your dataset, and hence the order in which elements are produced. "
   ]
  },
  {
   "cell_type": "code",
   "execution_count": 87,
   "metadata": {},
   "outputs": [],
   "source": [
    "my_data = only_zeros"
   ]
  },
  {
   "cell_type": "markdown",
   "metadata": {},
   "source": [
    "### Shuffle Data"
   ]
  },
  {
   "cell_type": "code",
   "execution_count": 88,
   "metadata": {},
   "outputs": [],
   "source": [
    "dataset = tf.data.Dataset.from_tensor_slices(my_data).shuffle(buffer_size=1000)"
   ]
  },
  {
   "cell_type": "code",
   "execution_count": 89,
   "metadata": {},
   "outputs": [
    {
     "data": {
      "text/plain": [
       "tensorflow.python.data.ops.dataset_ops.ShuffleDataset"
      ]
     },
     "execution_count": 89,
     "metadata": {},
     "output_type": "execute_result"
    }
   ],
   "source": [
    "type(dataset)"
   ]
  },
  {
   "cell_type": "markdown",
   "metadata": {},
   "source": [
    "### Batchify"
   ]
  },
  {
   "cell_type": "code",
   "execution_count": 90,
   "metadata": {},
   "outputs": [],
   "source": [
    "dataset = dataset.batch(batch_size, drop_remainder=True).prefetch(1)"
   ]
  },
  {
   "cell_type": "markdown",
   "metadata": {},
   "source": [
    "------"
   ]
  },
  {
   "cell_type": "markdown",
   "metadata": {},
   "source": [
    "# <a name=trainingGAN>Training GAN Loop</a>\n",
    "\n",
    "**NOTE: The generator never actually sees any real images. It learns by viewing the gradients going back through the discriminator. The better the discrimnator gets through training, the more information the discriminator contains in its gradients, which means the generator can being to make progress in learning how to generate fake images, in our case, fake zeros.**"
   ]
  },
  {
   "cell_type": "code",
   "execution_count": 91,
   "metadata": {},
   "outputs": [],
   "source": [
    "epochs = 20"
   ]
  },
  {
   "cell_type": "code",
   "execution_count": 92,
   "metadata": {},
   "outputs": [
    {
     "name": "stdout",
     "output_type": "stream",
     "text": [
      "Currently on 1\n",
      "\tCurrently on batch number 10 of 185\n",
      "\tCurrently on batch number 20 of 185\n",
      "\tCurrently on batch number 30 of 185\n",
      "\tCurrently on batch number 40 of 185\n",
      "\tCurrently on batch number 50 of 185\n",
      "\tCurrently on batch number 60 of 185\n",
      "\tCurrently on batch number 70 of 185\n",
      "\tCurrently on batch number 80 of 185\n",
      "\tCurrently on batch number 90 of 185\n",
      "\tCurrently on batch number 100 of 185\n",
      "\tCurrently on batch number 110 of 185\n",
      "\tCurrently on batch number 120 of 185\n",
      "\tCurrently on batch number 130 of 185\n",
      "\tCurrently on batch number 140 of 185\n",
      "\tCurrently on batch number 150 of 185\n",
      "\tCurrently on batch number 160 of 185\n",
      "\tCurrently on batch number 170 of 185\n",
      "\tCurrently on batch number 180 of 185\n",
      "Currently on 2\n",
      "\tCurrently on batch number 10 of 185\n",
      "\tCurrently on batch number 20 of 185\n",
      "\tCurrently on batch number 30 of 185\n",
      "\tCurrently on batch number 40 of 185\n",
      "\tCurrently on batch number 50 of 185\n",
      "\tCurrently on batch number 60 of 185\n",
      "\tCurrently on batch number 70 of 185\n",
      "\tCurrently on batch number 80 of 185\n",
      "\tCurrently on batch number 90 of 185\n",
      "\tCurrently on batch number 100 of 185\n",
      "\tCurrently on batch number 110 of 185\n",
      "\tCurrently on batch number 120 of 185\n",
      "\tCurrently on batch number 130 of 185\n",
      "\tCurrently on batch number 140 of 185\n",
      "\tCurrently on batch number 150 of 185\n",
      "\tCurrently on batch number 160 of 185\n",
      "\tCurrently on batch number 170 of 185\n",
      "\tCurrently on batch number 180 of 185\n",
      "Currently on 3\n",
      "\tCurrently on batch number 10 of 185\n",
      "\tCurrently on batch number 20 of 185\n",
      "\tCurrently on batch number 30 of 185\n",
      "\tCurrently on batch number 40 of 185\n",
      "\tCurrently on batch number 50 of 185\n",
      "\tCurrently on batch number 60 of 185\n",
      "\tCurrently on batch number 70 of 185\n",
      "\tCurrently on batch number 80 of 185\n",
      "\tCurrently on batch number 90 of 185\n",
      "\tCurrently on batch number 100 of 185\n",
      "\tCurrently on batch number 110 of 185\n",
      "\tCurrently on batch number 120 of 185\n",
      "\tCurrently on batch number 130 of 185\n",
      "\tCurrently on batch number 140 of 185\n",
      "\tCurrently on batch number 150 of 185\n",
      "\tCurrently on batch number 160 of 185\n",
      "\tCurrently on batch number 170 of 185\n",
      "\tCurrently on batch number 180 of 185\n",
      "Currently on 4\n",
      "\tCurrently on batch number 10 of 185\n",
      "\tCurrently on batch number 20 of 185\n",
      "\tCurrently on batch number 30 of 185\n",
      "\tCurrently on batch number 40 of 185\n",
      "\tCurrently on batch number 50 of 185\n",
      "\tCurrently on batch number 60 of 185\n",
      "\tCurrently on batch number 70 of 185\n",
      "\tCurrently on batch number 80 of 185\n",
      "\tCurrently on batch number 90 of 185\n",
      "\tCurrently on batch number 100 of 185\n",
      "\tCurrently on batch number 110 of 185\n",
      "\tCurrently on batch number 120 of 185\n",
      "\tCurrently on batch number 130 of 185\n",
      "\tCurrently on batch number 140 of 185\n",
      "\tCurrently on batch number 150 of 185\n",
      "\tCurrently on batch number 160 of 185\n",
      "\tCurrently on batch number 170 of 185\n",
      "\tCurrently on batch number 180 of 185\n",
      "Currently on 5\n",
      "\tCurrently on batch number 10 of 185\n",
      "\tCurrently on batch number 20 of 185\n",
      "\tCurrently on batch number 30 of 185\n",
      "\tCurrently on batch number 40 of 185\n",
      "\tCurrently on batch number 50 of 185\n",
      "\tCurrently on batch number 60 of 185\n",
      "\tCurrently on batch number 70 of 185\n",
      "\tCurrently on batch number 80 of 185\n",
      "\tCurrently on batch number 90 of 185\n",
      "\tCurrently on batch number 100 of 185\n",
      "\tCurrently on batch number 110 of 185\n",
      "\tCurrently on batch number 120 of 185\n",
      "\tCurrently on batch number 130 of 185\n",
      "\tCurrently on batch number 140 of 185\n",
      "\tCurrently on batch number 150 of 185\n",
      "\tCurrently on batch number 160 of 185\n",
      "\tCurrently on batch number 170 of 185\n",
      "\tCurrently on batch number 180 of 185\n",
      "Currently on 6\n",
      "\tCurrently on batch number 10 of 185\n",
      "\tCurrently on batch number 20 of 185\n",
      "\tCurrently on batch number 30 of 185\n",
      "\tCurrently on batch number 40 of 185\n",
      "\tCurrently on batch number 50 of 185\n",
      "\tCurrently on batch number 60 of 185\n",
      "\tCurrently on batch number 70 of 185\n",
      "\tCurrently on batch number 80 of 185\n",
      "\tCurrently on batch number 90 of 185\n",
      "\tCurrently on batch number 100 of 185\n",
      "\tCurrently on batch number 110 of 185\n",
      "\tCurrently on batch number 120 of 185\n",
      "\tCurrently on batch number 130 of 185\n",
      "\tCurrently on batch number 140 of 185\n",
      "\tCurrently on batch number 150 of 185\n",
      "\tCurrently on batch number 160 of 185\n",
      "\tCurrently on batch number 170 of 185\n",
      "\tCurrently on batch number 180 of 185\n",
      "Currently on 7\n",
      "\tCurrently on batch number 10 of 185\n",
      "\tCurrently on batch number 20 of 185\n",
      "\tCurrently on batch number 30 of 185\n",
      "\tCurrently on batch number 40 of 185\n",
      "\tCurrently on batch number 50 of 185\n",
      "\tCurrently on batch number 60 of 185\n",
      "\tCurrently on batch number 70 of 185\n",
      "\tCurrently on batch number 80 of 185\n",
      "\tCurrently on batch number 90 of 185\n",
      "\tCurrently on batch number 100 of 185\n",
      "\tCurrently on batch number 110 of 185\n",
      "\tCurrently on batch number 120 of 185\n",
      "\tCurrently on batch number 130 of 185\n",
      "\tCurrently on batch number 140 of 185\n",
      "\tCurrently on batch number 150 of 185\n",
      "\tCurrently on batch number 160 of 185\n",
      "\tCurrently on batch number 170 of 185\n",
      "\tCurrently on batch number 180 of 185\n",
      "Currently on 8\n",
      "\tCurrently on batch number 10 of 185\n",
      "\tCurrently on batch number 20 of 185\n",
      "\tCurrently on batch number 30 of 185\n",
      "\tCurrently on batch number 40 of 185\n",
      "\tCurrently on batch number 50 of 185\n",
      "\tCurrently on batch number 60 of 185\n",
      "\tCurrently on batch number 70 of 185\n",
      "\tCurrently on batch number 80 of 185\n",
      "\tCurrently on batch number 90 of 185\n",
      "\tCurrently on batch number 100 of 185\n",
      "\tCurrently on batch number 110 of 185\n",
      "\tCurrently on batch number 120 of 185\n",
      "\tCurrently on batch number 130 of 185\n",
      "\tCurrently on batch number 140 of 185\n",
      "\tCurrently on batch number 150 of 185\n",
      "\tCurrently on batch number 160 of 185\n",
      "\tCurrently on batch number 170 of 185\n",
      "\tCurrently on batch number 180 of 185\n",
      "Currently on 9\n",
      "\tCurrently on batch number 10 of 185\n",
      "\tCurrently on batch number 20 of 185\n",
      "\tCurrently on batch number 30 of 185\n",
      "\tCurrently on batch number 40 of 185\n",
      "\tCurrently on batch number 50 of 185\n",
      "\tCurrently on batch number 60 of 185\n",
      "\tCurrently on batch number 70 of 185\n",
      "\tCurrently on batch number 80 of 185\n",
      "\tCurrently on batch number 90 of 185\n",
      "\tCurrently on batch number 100 of 185\n",
      "\tCurrently on batch number 110 of 185\n",
      "\tCurrently on batch number 120 of 185\n",
      "\tCurrently on batch number 130 of 185\n",
      "\tCurrently on batch number 140 of 185\n",
      "\tCurrently on batch number 150 of 185\n",
      "\tCurrently on batch number 160 of 185\n",
      "\tCurrently on batch number 170 of 185\n",
      "\tCurrently on batch number 180 of 185\n",
      "Currently on 10\n",
      "\tCurrently on batch number 10 of 185\n",
      "\tCurrently on batch number 20 of 185\n",
      "\tCurrently on batch number 30 of 185\n",
      "\tCurrently on batch number 40 of 185\n",
      "\tCurrently on batch number 50 of 185\n",
      "\tCurrently on batch number 60 of 185\n",
      "\tCurrently on batch number 70 of 185\n",
      "\tCurrently on batch number 80 of 185\n",
      "\tCurrently on batch number 90 of 185\n",
      "\tCurrently on batch number 100 of 185\n",
      "\tCurrently on batch number 110 of 185\n",
      "\tCurrently on batch number 120 of 185\n",
      "\tCurrently on batch number 130 of 185\n",
      "\tCurrently on batch number 140 of 185\n",
      "\tCurrently on batch number 150 of 185\n",
      "\tCurrently on batch number 160 of 185\n",
      "\tCurrently on batch number 170 of 185\n",
      "\tCurrently on batch number 180 of 185\n",
      "Currently on 11\n",
      "\tCurrently on batch number 10 of 185\n",
      "\tCurrently on batch number 20 of 185\n",
      "\tCurrently on batch number 30 of 185\n",
      "\tCurrently on batch number 40 of 185\n",
      "\tCurrently on batch number 50 of 185\n",
      "\tCurrently on batch number 60 of 185\n",
      "\tCurrently on batch number 70 of 185\n",
      "\tCurrently on batch number 80 of 185\n",
      "\tCurrently on batch number 90 of 185\n",
      "\tCurrently on batch number 100 of 185\n",
      "\tCurrently on batch number 110 of 185\n",
      "\tCurrently on batch number 120 of 185\n",
      "\tCurrently on batch number 130 of 185\n",
      "\tCurrently on batch number 140 of 185\n",
      "\tCurrently on batch number 150 of 185\n",
      "\tCurrently on batch number 160 of 185\n",
      "\tCurrently on batch number 170 of 185\n",
      "\tCurrently on batch number 180 of 185\n",
      "Currently on 12\n",
      "\tCurrently on batch number 10 of 185\n",
      "\tCurrently on batch number 20 of 185\n",
      "\tCurrently on batch number 30 of 185\n",
      "\tCurrently on batch number 40 of 185\n",
      "\tCurrently on batch number 50 of 185\n",
      "\tCurrently on batch number 60 of 185\n",
      "\tCurrently on batch number 70 of 185\n",
      "\tCurrently on batch number 80 of 185\n",
      "\tCurrently on batch number 90 of 185\n",
      "\tCurrently on batch number 100 of 185\n",
      "\tCurrently on batch number 110 of 185\n",
      "\tCurrently on batch number 120 of 185\n",
      "\tCurrently on batch number 130 of 185\n",
      "\tCurrently on batch number 140 of 185\n",
      "\tCurrently on batch number 150 of 185\n",
      "\tCurrently on batch number 160 of 185\n"
     ]
    },
    {
     "name": "stdout",
     "output_type": "stream",
     "text": [
      "\tCurrently on batch number 170 of 185\n",
      "\tCurrently on batch number 180 of 185\n",
      "Currently on 13\n",
      "\tCurrently on batch number 10 of 185\n",
      "\tCurrently on batch number 20 of 185\n",
      "\tCurrently on batch number 30 of 185\n",
      "\tCurrently on batch number 40 of 185\n",
      "\tCurrently on batch number 50 of 185\n",
      "\tCurrently on batch number 60 of 185\n",
      "\tCurrently on batch number 70 of 185\n",
      "\tCurrently on batch number 80 of 185\n",
      "\tCurrently on batch number 90 of 185\n",
      "\tCurrently on batch number 100 of 185\n",
      "\tCurrently on batch number 110 of 185\n",
      "\tCurrently on batch number 120 of 185\n",
      "\tCurrently on batch number 130 of 185\n",
      "\tCurrently on batch number 140 of 185\n",
      "\tCurrently on batch number 150 of 185\n",
      "\tCurrently on batch number 160 of 185\n",
      "\tCurrently on batch number 170 of 185\n",
      "\tCurrently on batch number 180 of 185\n",
      "Currently on 14\n",
      "\tCurrently on batch number 10 of 185\n",
      "\tCurrently on batch number 20 of 185\n",
      "\tCurrently on batch number 30 of 185\n",
      "\tCurrently on batch number 40 of 185\n",
      "\tCurrently on batch number 50 of 185\n",
      "\tCurrently on batch number 60 of 185\n",
      "\tCurrently on batch number 70 of 185\n",
      "\tCurrently on batch number 80 of 185\n",
      "\tCurrently on batch number 90 of 185\n",
      "\tCurrently on batch number 100 of 185\n",
      "\tCurrently on batch number 110 of 185\n",
      "\tCurrently on batch number 120 of 185\n",
      "\tCurrently on batch number 130 of 185\n",
      "\tCurrently on batch number 140 of 185\n",
      "\tCurrently on batch number 150 of 185\n",
      "\tCurrently on batch number 160 of 185\n",
      "\tCurrently on batch number 170 of 185\n",
      "\tCurrently on batch number 180 of 185\n",
      "Currently on 15\n",
      "\tCurrently on batch number 10 of 185\n",
      "\tCurrently on batch number 20 of 185\n",
      "\tCurrently on batch number 30 of 185\n",
      "\tCurrently on batch number 40 of 185\n",
      "\tCurrently on batch number 50 of 185\n",
      "\tCurrently on batch number 60 of 185\n",
      "\tCurrently on batch number 70 of 185\n",
      "\tCurrently on batch number 80 of 185\n",
      "\tCurrently on batch number 90 of 185\n",
      "\tCurrently on batch number 100 of 185\n",
      "\tCurrently on batch number 110 of 185\n",
      "\tCurrently on batch number 120 of 185\n",
      "\tCurrently on batch number 130 of 185\n",
      "\tCurrently on batch number 140 of 185\n",
      "\tCurrently on batch number 150 of 185\n",
      "\tCurrently on batch number 160 of 185\n",
      "\tCurrently on batch number 170 of 185\n",
      "\tCurrently on batch number 180 of 185\n",
      "Currently on 16\n",
      "\tCurrently on batch number 10 of 185\n",
      "\tCurrently on batch number 20 of 185\n",
      "\tCurrently on batch number 30 of 185\n",
      "\tCurrently on batch number 40 of 185\n",
      "\tCurrently on batch number 50 of 185\n",
      "\tCurrently on batch number 60 of 185\n",
      "\tCurrently on batch number 70 of 185\n",
      "\tCurrently on batch number 80 of 185\n",
      "\tCurrently on batch number 90 of 185\n",
      "\tCurrently on batch number 100 of 185\n",
      "\tCurrently on batch number 110 of 185\n",
      "\tCurrently on batch number 120 of 185\n",
      "\tCurrently on batch number 130 of 185\n",
      "\tCurrently on batch number 140 of 185\n",
      "\tCurrently on batch number 150 of 185\n",
      "\tCurrently on batch number 160 of 185\n",
      "\tCurrently on batch number 170 of 185\n",
      "\tCurrently on batch number 180 of 185\n",
      "Currently on 17\n",
      "\tCurrently on batch number 10 of 185\n",
      "\tCurrently on batch number 20 of 185\n",
      "\tCurrently on batch number 30 of 185\n",
      "\tCurrently on batch number 40 of 185\n",
      "\tCurrently on batch number 50 of 185\n",
      "\tCurrently on batch number 60 of 185\n",
      "\tCurrently on batch number 70 of 185\n",
      "\tCurrently on batch number 80 of 185\n",
      "\tCurrently on batch number 90 of 185\n",
      "\tCurrently on batch number 100 of 185\n",
      "\tCurrently on batch number 110 of 185\n",
      "\tCurrently on batch number 120 of 185\n",
      "\tCurrently on batch number 130 of 185\n",
      "\tCurrently on batch number 140 of 185\n",
      "\tCurrently on batch number 150 of 185\n",
      "\tCurrently on batch number 160 of 185\n",
      "\tCurrently on batch number 170 of 185\n",
      "\tCurrently on batch number 180 of 185\n",
      "Currently on 18\n",
      "\tCurrently on batch number 10 of 185\n",
      "\tCurrently on batch number 20 of 185\n",
      "\tCurrently on batch number 30 of 185\n",
      "\tCurrently on batch number 40 of 185\n",
      "\tCurrently on batch number 50 of 185\n",
      "\tCurrently on batch number 60 of 185\n",
      "\tCurrently on batch number 70 of 185\n",
      "\tCurrently on batch number 80 of 185\n",
      "\tCurrently on batch number 90 of 185\n",
      "\tCurrently on batch number 100 of 185\n",
      "\tCurrently on batch number 110 of 185\n",
      "\tCurrently on batch number 120 of 185\n",
      "\tCurrently on batch number 130 of 185\n",
      "\tCurrently on batch number 140 of 185\n",
      "\tCurrently on batch number 150 of 185\n",
      "\tCurrently on batch number 160 of 185\n",
      "\tCurrently on batch number 170 of 185\n",
      "\tCurrently on batch number 180 of 185\n",
      "Currently on 19\n",
      "\tCurrently on batch number 10 of 185\n",
      "\tCurrently on batch number 20 of 185\n",
      "\tCurrently on batch number 30 of 185\n",
      "\tCurrently on batch number 40 of 185\n",
      "\tCurrently on batch number 50 of 185\n",
      "\tCurrently on batch number 60 of 185\n",
      "\tCurrently on batch number 70 of 185\n",
      "\tCurrently on batch number 80 of 185\n",
      "\tCurrently on batch number 90 of 185\n",
      "\tCurrently on batch number 100 of 185\n",
      "\tCurrently on batch number 110 of 185\n",
      "\tCurrently on batch number 120 of 185\n",
      "\tCurrently on batch number 130 of 185\n",
      "\tCurrently on batch number 140 of 185\n",
      "\tCurrently on batch number 150 of 185\n",
      "\tCurrently on batch number 160 of 185\n",
      "\tCurrently on batch number 170 of 185\n",
      "\tCurrently on batch number 180 of 185\n",
      "Currently on 20\n",
      "\tCurrently on batch number 10 of 185\n",
      "\tCurrently on batch number 20 of 185\n",
      "\tCurrently on batch number 30 of 185\n",
      "\tCurrently on batch number 40 of 185\n",
      "\tCurrently on batch number 50 of 185\n",
      "\tCurrently on batch number 60 of 185\n",
      "\tCurrently on batch number 70 of 185\n",
      "\tCurrently on batch number 80 of 185\n",
      "\tCurrently on batch number 90 of 185\n",
      "\tCurrently on batch number 100 of 185\n",
      "\tCurrently on batch number 110 of 185\n",
      "\tCurrently on batch number 120 of 185\n",
      "\tCurrently on batch number 130 of 185\n",
      "\tCurrently on batch number 140 of 185\n",
      "\tCurrently on batch number 150 of 185\n",
      "\tCurrently on batch number 160 of 185\n",
      "\tCurrently on batch number 170 of 185\n",
      "\tCurrently on batch number 180 of 185\n",
      "TRAINING COMPLETE\n"
     ]
    }
   ],
   "source": [
    "# Grab the seprate components\n",
    "generator, discriminator = GAN.layers\n",
    "\n",
    "# for every epochs\n",
    "for epoch in range(epochs):\n",
    "    print(f'Currently on {epoch+1}')\n",
    "    \n",
    "    i =0\n",
    "    # for every batch in dataset\n",
    "    for X_batch in dataset:\n",
    "        i = i + 1\n",
    "        \n",
    "        if i % 10 == 0:\n",
    "            print(f\"\\tCurrently on batch number {i} of {len(my_data)//batch_size}\")\n",
    "            \n",
    "        #################################################\n",
    "        ########      TRAINING THE DISCRIMINATOR     ########\n",
    "        #################################################\n",
    "        \n",
    "        # Create Noise\n",
    "        noise = tf.random.normal(shape=[batch_size, codings_size])\n",
    "        \n",
    "        # Generate numbers based just on noise input\n",
    "        gen_images = generator(noise)\n",
    "        \n",
    "        # Concat Generated Images vs Real image\n",
    "        X_fake_vs_real = tf.concat([gen_images, tf.dtypes.cast(X_batch,tf.float32)], axis=0)#concat on rows\n",
    "        \n",
    "        # Labels targets set 0 for fake, 1 for real image\n",
    "        y1 = tf.constant([[0.0]] * batch_size + [[1.1]] * batch_size)\n",
    "        \n",
    "        # enable discriminator training\n",
    "        discriminator.trainable = True\n",
    "        \n",
    "        # train the discriminator on this current batch\n",
    "        discriminator.train_on_batch(X_fake_vs_real, y1)\n",
    "        \n",
    "        \n",
    "        #################################################\n",
    "        ########      TRAINING THE GENERATOR           ########\n",
    "        #################################################\n",
    "        \n",
    "        # create some noise\n",
    "        noise = tf.random.normal(shape=[batch_size, codings_size])\n",
    "        \n",
    "       # We want discriminator to belive that fake images are real\n",
    "        y2 = tf.constant([[1.0]] * batch_size)\n",
    "        \n",
    "        # disable discriminator training\n",
    "        discriminator.trainable = False\n",
    "        \n",
    "        # Train the whole GAN model\n",
    "        GAN.train_on_batch(noise, y2)\n",
    "\n",
    "print(\"TRAINING COMPLETE\")   "
   ]
  },
  {
   "cell_type": "markdown",
   "metadata": {},
   "source": [
    "# <a name=generatingaftertraining>Generating Images after training</a>"
   ]
  },
  {
   "cell_type": "code",
   "execution_count": 96,
   "metadata": {},
   "outputs": [],
   "source": [
    "noise = tf.random.normal(shape=[10, codings_size]) #give me 10 images"
   ]
  },
  {
   "cell_type": "code",
   "execution_count": 97,
   "metadata": {},
   "outputs": [
    {
     "data": {
      "text/plain": [
       "TensorShape([10, 100])"
      ]
     },
     "execution_count": 97,
     "metadata": {},
     "output_type": "execute_result"
    }
   ],
   "source": [
    "noise.shape"
   ]
  },
  {
   "cell_type": "code",
   "execution_count": 98,
   "metadata": {},
   "outputs": [
    {
     "data": {
      "image/png": "[encoded data removed]",
      "text/plain": [
       "<Figure size 432x288 with 1 Axes>"
      ]
     },
     "metadata": {
      "needs_background": "light"
     },
     "output_type": "display_data"
    }
   ],
   "source": [
    "plt.imshow(noise);"
   ]
  },
  {
   "cell_type": "code",
   "execution_count": 99,
   "metadata": {},
   "outputs": [],
   "source": [
    "# generate the image\n",
    "images = generator(noise)"
   ]
  },
  {
   "cell_type": "code",
   "execution_count": 102,
   "metadata": {},
   "outputs": [
    {
     "data": {
      "text/plain": [
       "TensorShape([28, 28, 1])"
      ]
     },
     "execution_count": 102,
     "metadata": {},
     "output_type": "execute_result"
    }
   ],
   "source": [
    "singel_image = images[0]\n",
    "\n",
    "singel_image.shape"
   ]
  },
  {
   "cell_type": "code",
   "execution_count": 105,
   "metadata": {},
   "outputs": [
    {
     "data": {
      "text/plain": [
       "array([[-0.974359  , -0.9932678 , -0.99893194, -0.99864864, -0.99864876,\n",
       "        -0.9984043 , -0.99916595, -0.9976814 , -0.9986732 , -0.99673575,\n",
       "        -0.99905205, -0.9980102 , -0.9975572 , -0.9957586 , -0.99905366,\n",
       "        -0.99945605, -0.9991975 , -0.99850297, -0.99903655, -0.9983346 ,\n",
       "        -0.99865425, -0.9978762 , -0.9995493 , -0.99970055, -0.99914837,\n",
       "        -0.9979758 , -0.9993717 , -0.99716604],\n",
       "       [-0.99705184, -0.9987626 , -0.99986875, -0.99996847, -0.9998858 ,\n",
       "        -0.99987435, -0.9997871 , -0.99985206, -0.99967647, -0.9999016 ,\n",
       "        -0.999858  , -0.9998806 , -0.9996746 , -0.9999522 , -0.9999905 ,\n",
       "        -0.9999696 , -0.9999552 , -0.9999278 , -0.9994408 , -0.99986315,\n",
       "        -0.9995476 , -0.9998553 , -0.9999565 , -0.9999551 , -0.99987614,\n",
       "        -0.99989545, -0.99986863, -0.998733  ],\n",
       "       [-0.9956725 , -0.99959856, -0.99998164, -0.99995667, -0.9998473 ,\n",
       "        -0.9998073 , -0.9999186 , -0.9996258 , -0.9996422 , -0.9997616 ,\n",
       "        -0.9999744 , -0.9997442 , -0.9999508 , -0.9999966 , -0.99999857,\n",
       "        -0.9999833 , -0.9999976 , -0.99998486, -0.9997646 , -0.9996061 ,\n",
       "        -0.9995757 , -0.9999483 , -0.9999868 , -0.99996305, -0.99991435,\n",
       "        -0.9999774 , -0.9999744 , -0.99948347],\n",
       "       [-0.99878883, -0.99970883, -0.99994713, -0.99998754, -0.9998862 ,\n",
       "        -0.9998736 , -0.99976504, -0.99999285, -0.9999554 , -0.9997515 ,\n",
       "        -0.99997395, -0.9999945 , -0.9999937 , -0.9999986 , -0.9999995 ,\n",
       "        -0.9999997 , -0.99999917, -0.9999729 , -0.9975827 , -0.9991635 ,\n",
       "        -0.9988675 , -0.99969107, -0.999936  , -0.99994195, -0.99996436,\n",
       "        -0.9999615 , -0.9999777 , -0.9999223 ],\n",
       "       [-0.99681807, -0.99921304, -0.99995786, -0.99999166, -0.99989843,\n",
       "        -0.9991679 , -0.9999405 , -0.9999779 , -0.99956197, -0.9988635 ,\n",
       "        -0.9999918 , -0.9999978 , -0.99999374, -0.9999989 , -1.        ,\n",
       "        -0.99997544, -0.9997407 , -0.8931028 , -0.5938029 , -0.80281025,\n",
       "        -0.99231744, -0.996938  , -0.99956113, -0.9999683 , -0.9998766 ,\n",
       "        -0.9999255 , -0.99999154, -0.9999519 ],\n",
       "       [-0.99806076, -0.9992446 , -0.99996406, -0.99998236, -0.9999514 ,\n",
       "        -0.9999822 , -0.9999977 , -0.9999949 , -0.9997314 , -0.9989811 ,\n",
       "        -0.99999934, -1.        , -0.999997  , -0.9999994 , -0.9999893 ,\n",
       "        -0.9975227 ,  0.04360246,  0.9980278 ,  0.6827784 , -0.94276994,\n",
       "        -0.8907243 , -0.95027757, -0.9921548 , -0.9998481 , -0.9994037 ,\n",
       "        -0.9998946 , -0.9999985 , -0.9999769 ],\n",
       "       [-0.99576855, -0.9991436 , -0.99996257, -0.9999663 , -0.9999603 ,\n",
       "        -0.99999446, -0.99999774, -0.9999109 , -0.9996921 , -0.9999994 ,\n",
       "        -0.99999505, -0.9999913 , -0.9999819 , -0.9999865 , -0.9996538 ,\n",
       "        -0.87395376,  0.9903083 ,  0.9961554 ,  0.9996738 ,  0.99878234,\n",
       "         0.98439074,  0.38693   , -0.65940994, -0.99549425, -0.9981474 ,\n",
       "        -0.9999974 , -0.99999636, -0.99932855],\n",
       "       [-0.99832946, -0.9988173 , -0.9998001 , -0.9999789 , -0.9999875 ,\n",
       "        -0.99994135, -0.9999985 , -0.9999995 , -0.9999091 , -0.99994135,\n",
       "        -0.9995763 , -0.99999005, -0.99756294, -0.9958851 , -0.9881346 ,\n",
       "         0.99465066,  0.97454524,  0.9690082 ,  0.9998868 ,  0.8170373 ,\n",
       "         0.97249806,  0.99907297,  0.7776196 , -0.96970713, -0.9991029 ,\n",
       "        -0.99984664, -0.9999952 , -0.99999595],\n",
       "       [-0.9958109 , -0.9956656 , -0.99997437, -0.99999934, -0.999992  ,\n",
       "        -0.9999957 , -1.        , -0.9999966 , -0.99968725, -0.9968597 ,\n",
       "        -0.99771595, -0.9304814 , -0.99244475,  0.39563578,  0.08289532,\n",
       "         0.99985427,  0.9117547 ,  0.717406  ,  0.5407317 , -0.21595216,\n",
       "         0.9917727 ,  0.998632  , -0.7294433 , -0.9993708 , -0.9998085 ,\n",
       "        -0.9999978 , -0.9999994 , -0.9999927 ],\n",
       "       [-0.99888885, -0.9996448 , -0.9999945 , -0.99999875, -0.99999493,\n",
       "        -0.99999934, -0.9999997 , -0.99992424, -0.5950756 , -0.34685507,\n",
       "        -0.98635995,  0.28268778,  0.9884855 ,  0.9978389 ,  0.97995245,\n",
       "         0.94738984,  0.9694909 ,  0.95512784, -0.976531  ,  0.25910744,\n",
       "         0.99909407,  0.9925256 ,  0.04869965, -0.9998867 , -0.9999616 ,\n",
       "        -0.99996936, -1.        , -0.9999989 ],\n",
       "       [-0.9982663 , -0.9998167 , -0.9999888 , -0.9999931 , -0.9999911 ,\n",
       "        -0.9999989 , -0.9999529 , -0.9006385 ,  0.9858926 ,  0.9912005 ,\n",
       "         0.98456866,  0.9996663 ,  0.9996481 ,  0.99999213,  0.95719284,\n",
       "         0.99720967,  0.9781971 , -0.89859074, -0.9503669 ,  0.9991883 ,\n",
       "         0.99998945,  0.999397  , -0.14486812, -0.9999965 , -0.99993837,\n",
       "        -1.        , -1.        , -0.9999777 ],\n",
       "       [-0.9994192 , -0.99950695, -0.9999394 , -0.9999938 , -0.9999431 ,\n",
       "        -0.9948887 , -0.9786638 ,  0.59128034,  0.9986753 ,  0.99808055,\n",
       "         0.99846137,  0.9915981 ,  0.9996433 ,  0.99015814,  0.98948514,\n",
       "         0.9236371 ,  0.9661761 , -0.24621303,  0.7436185 ,  0.9940115 ,\n",
       "         0.99991363,  0.99981177,  0.45028928, -0.9993472 , -0.9999719 ,\n",
       "        -0.99988514, -0.99999905, -0.9999972 ],\n",
       "       [-0.99750036, -0.998269  , -0.99998295, -0.99998415, -0.9998281 ,\n",
       "        -0.9436026 , -0.9192705 ,  0.99956787,  0.9922759 ,  0.993709  ,\n",
       "         0.3145316 ,  0.6795964 , -0.10548317,  0.97313225, -0.72667384,\n",
       "         0.9593089 ,  0.6346457 ,  0.4116224 , -0.24276231,  0.99997866,\n",
       "         0.99998707,  0.9998557 , -0.96439946, -0.999998  , -0.99997365,\n",
       "        -0.9999921 , -0.99999815, -0.9999903 ],\n",
       "       [-0.99919635, -0.99936545, -0.9999956 , -0.9999938 , -0.9983172 ,\n",
       "         0.16828632,  0.64647645,  0.9796597 ,  0.9934365 ,  0.9984133 ,\n",
       "        -0.9822656 , -0.9672084 , -0.8459979 ,  0.6216539 , -0.7663919 ,\n",
       "        -0.43072954,  0.9377595 ,  0.9700825 ,  0.9554639 ,  0.99999917,\n",
       "         1.        ,  0.9668252 , -0.9989842 , -0.99998623, -0.9999809 ,\n",
       "        -0.99989665, -0.99999976, -0.9999019 ],\n",
       "       [-0.997777  , -0.9998707 , -0.9999923 , -0.9984612 , -0.9973058 ,\n",
       "         0.2665973 ,  0.97638315,  0.99999225,  0.97357905,  0.42672485,\n",
       "        -0.99204785, -0.80552864, -0.9971955 , -0.9636609 ,  0.5566    ,\n",
       "         0.9887062 ,  0.9986131 ,  0.84296006,  0.9998926 ,  0.99999887,\n",
       "         0.99999833,  0.42577806, -0.99786496, -0.9999851 , -0.9996041 ,\n",
       "        -0.9999944 , -0.9999846 , -0.99704146],\n",
       "       [-0.9992862 , -0.9998069 , -0.9999844 , -0.99997985, -0.971295  ,\n",
       "         0.90378654,  0.9997449 ,  0.99957526,  0.8420309 ,  0.5170622 ,\n",
       "        -0.9491463 , -0.9998591 , -0.99560624, -0.3118071 , -0.30120277,\n",
       "         0.97477466,  0.99994504,  0.99999815,  0.99999833,  0.99999976,\n",
       "         0.9961746 , -0.6595044 , -0.9988334 , -0.9998808 , -0.9995294 ,\n",
       "        -0.9972708 , -0.99986   , -0.9998699 ],\n",
       "       [-0.99666494, -0.9995047 , -0.9999957 , -0.9997958 , -0.9922118 ,\n",
       "         0.93543583,  0.9504465 ,  0.9999826 ,  0.89668363,  0.76472366,\n",
       "        -0.97129184, -0.98202   , -0.9981029 , -0.960152  ,  0.14067267,\n",
       "         0.9996908 ,  0.99875677,  0.99995244,  0.9999949 ,  0.99998885,\n",
       "        -0.07569765, -0.9849183 , -0.99999505, -0.9999869 , -0.99470574,\n",
       "        -0.9959323 , -0.99995077, -0.9993997 ],\n",
       "       [-0.99860317, -0.99956316, -0.99999005, -0.99993336, -0.8865042 ,\n",
       "         0.9903609 ,  0.99350244,  0.9956745 ,  0.99757624,  0.9999873 ,\n",
       "         0.6784378 , -0.75406575,  0.9323311 ,  0.9999492 ,  0.99963534,\n",
       "         0.9999874 ,  0.99996376,  1.        ,  0.99867934,  0.68641275,\n",
       "        -0.9868977 , -0.99598455, -0.9999921 , -0.9999812 , -0.97159547,\n",
       "        -0.9930581 , -0.99998957, -0.99782926],\n",
       "       [-0.9967427 , -0.9999187 , -0.999983  , -0.999081  , -0.96175915,\n",
       "         0.50463134,  0.99268186,  0.9999945 ,  0.9999995 ,  0.9981682 ,\n",
       "         0.9997486 ,  0.9990393 ,  1.        ,  0.9999866 ,  1.        ,\n",
       "         0.999999  ,  0.99999905,  0.9996382 ,  0.8930089 , -0.4287704 ,\n",
       "        -0.99360114, -0.9999734 , -0.99992126, -0.9944378 ,  0.89946926,\n",
       "        -0.9969613 , -0.99954706, -0.99711454],\n",
       "       [-0.99892884, -0.99967545, -0.9999378 , -0.9995564 , -0.96263003,\n",
       "        -0.36591768,  0.98556155,  0.9999652 ,  0.99999917,  0.9999993 ,\n",
       "         1.        ,  1.        ,  1.        ,  1.        ,  1.        ,\n",
       "         1.        ,  0.9999991 ,  0.99811685,  0.5455349 , -0.9977413 ,\n",
       "        -0.9991398 , -0.8979751 , -0.99203044, -0.8522958 ,  0.21012175,\n",
       "        -0.7484246 , -0.9973676 , -0.9997909 ],\n",
       "       [-0.9970688 , -0.9991703 , -0.9999615 , -0.9985134 , -0.99834096,\n",
       "        -0.94471824, -0.5236672 ,  0.9986375 ,  0.9999549 ,  0.9999546 ,\n",
       "         1.        ,  1.        ,  1.        ,  1.        ,  1.        ,\n",
       "         0.99997383,  0.9698043 , -0.96774375, -0.9996953 , -0.99998915,\n",
       "        -0.99744093, -0.95150846, -0.9990564 , -0.98783815,  0.2627646 ,\n",
       "        -0.9800786 , -0.9997199 , -0.99949944],\n",
       "       [-0.9987665 , -0.9998164 , -0.99993414, -0.99995077, -0.9977083 ,\n",
       "        -0.99014956, -0.9699155 ,  0.63704485,  0.99765223,  0.9999616 ,\n",
       "         0.9998906 ,  1.        ,  1.        ,  0.9999997 ,  0.9998423 ,\n",
       "         0.67682934, -0.9740124 , -0.99738514, -0.99998266, -0.9996424 ,\n",
       "        -0.9851391 , -0.97663563, -0.99902165, -0.997553  , -0.9131705 ,\n",
       "        -0.99045616, -0.99999183, -0.99957395],\n",
       "       [-0.9982316 , -0.99959856, -0.99998295, -0.99975413, -0.9993964 ,\n",
       "        -0.9977983 , -0.9961904 , -0.65393555, -0.59840846,  0.6970471 ,\n",
       "         0.83321166,  0.9980217 ,  0.28405002, -0.60618705, -0.98875725,\n",
       "        -0.99600303, -0.9998009 , -0.9999986 , -0.99999386, -0.9957881 ,\n",
       "        -0.9046064 , -0.97876996, -0.97554827, -0.9760117 , -0.9722792 ,\n",
       "        -0.9999677 , -0.99999696, -0.9998197 ],\n",
       "       [-0.99934006, -0.9996283 , -0.99995935, -0.99994564, -0.9998421 ,\n",
       "        -0.99989074, -0.99975586, -0.99818194, -0.9989035 , -0.99813   ,\n",
       "        -0.9991767 , -0.9994997 , -0.9999735 , -0.9999418 , -0.9999606 ,\n",
       "        -0.9999164 , -0.9999982 , -0.99933976, -0.9999725 , -0.99914926,\n",
       "        -0.98422784, -0.98688555, -0.9870775 , -0.9972839 , -0.99675846,\n",
       "        -0.9983741 , -0.99999356, -0.999935  ],\n",
       "       [-0.99787956, -0.99881434, -0.99995273, -0.99999124, -0.99996376,\n",
       "        -0.9998255 , -0.9999397 , -0.99998426, -0.9998061 , -0.9998322 ,\n",
       "        -0.9999994 , -1.        , -1.        , -0.99999267, -0.9999997 ,\n",
       "        -1.        , -0.9999851 , -0.99903375, -0.9999857 , -0.99998254,\n",
       "        -0.9945503 , -0.9896032 , -0.9994532 , -0.9999391 , -0.9982336 ,\n",
       "        -0.9996157 , -0.9999928 , -0.9999542 ],\n",
       "       [-0.99896646, -0.99961686, -0.99996006, -0.999992  , -0.9999195 ,\n",
       "        -0.99993074, -0.9999599 , -0.9999965 , -0.9999348 , -0.99999535,\n",
       "        -0.99999905, -1.        , -1.        , -0.9999997 , -0.999999  ,\n",
       "        -1.        , -0.9999496 , -0.9998438 , -0.9999793 , -0.9999952 ,\n",
       "        -0.9979031 , -0.99851745, -0.99987495, -0.999899  , -0.9970871 ,\n",
       "        -0.9998795 , -0.9999972 , -0.9999278 ],\n",
       "       [-0.99920905, -0.9998324 , -0.99998957, -0.9999915 , -0.99999386,\n",
       "        -0.9999829 , -0.9998748 , -0.9999914 , -0.99996424, -0.99999833,\n",
       "        -0.9999995 , -1.        , -0.999997  , -0.9999938 , -0.9999903 ,\n",
       "        -0.99998957, -0.99933845, -0.99958926, -0.9992697 , -0.9997365 ,\n",
       "        -0.9996181 , -0.99969006, -0.99974126, -0.99943817, -0.9978723 ,\n",
       "        -0.9999708 , -0.99998814, -0.9998403 ],\n",
       "       [-0.9979641 , -0.99948686, -0.9996162 , -0.99979264, -0.99975604,\n",
       "        -0.9996879 , -0.999198  , -0.9995236 , -0.9996793 , -0.99997133,\n",
       "        -0.99997693, -0.99998647, -0.9999666 , -0.99991083, -0.9997468 ,\n",
       "        -0.9991952 , -0.99462664, -0.99740654, -0.9951714 , -0.9973639 ,\n",
       "        -0.99702317, -0.9980215 , -0.99727434, -0.99836403, -0.9921187 ,\n",
       "        -0.99937016, -0.9998546 , -0.99929273]], dtype=float32)"
      ]
     },
     "execution_count": 105,
     "metadata": {},
     "output_type": "execute_result"
    }
   ],
   "source": [
    "singel_image.numpy().reshape(28,28)"
   ]
  },
  {
   "cell_type": "code",
   "execution_count": 106,
   "metadata": {},
   "outputs": [
    {
     "data": {
      "image/png": "[encoded data removed]",
      "text/plain": [
       "<Figure size 432x288 with 1 Axes>"
      ]
     },
     "metadata": {
      "needs_background": "light"
     },
     "output_type": "display_data"
    },
    {
     "data": {
      "image/png": "[encoded data removed]",
      "text/plain": [
       "<Figure size 432x288 with 1 Axes>"
      ]
     },
     "metadata": {
      "needs_background": "light"
     },
     "output_type": "display_data"
    },
    {
     "data": {
      "image/png": "[encoded data removed]",
      "text/plain": [
       "<Figure size 432x288 with 1 Axes>"
      ]
     },
     "metadata": {
      "needs_background": "light"
     },
     "output_type": "display_data"
    },
    {
     "data": {
      "image/png": "[encoded data removed]",
      "text/plain": [
       "<Figure size 432x288 with 1 Axes>"
      ]
     },
     "metadata": {
      "needs_background": "light"
     },
     "output_type": "display_data"
    },
    {
     "data": {
      "image/png": "[encoded data removed]",
      "text/plain": [
       "<Figure size 432x288 with 1 Axes>"
      ]
     },
     "metadata": {
      "needs_background": "light"
     },
     "output_type": "display_data"
    },
    {
     "data": {
      "image/png": "[encoded data removed]",
      "text/plain": [
       "<Figure size 432x288 with 1 Axes>"
      ]
     },
     "metadata": {
      "needs_background": "light"
     },
     "output_type": "display_data"
    },
    {
     "data": {
      "image/png": "[encoded data removed]",
      "text/plain": [
       "<Figure size 432x288 with 1 Axes>"
      ]
     },
     "metadata": {
      "needs_background": "light"
     },
     "output_type": "display_data"
    },
    {
     "data": {
      "image/png": "[encoded data removed]",
      "text/plain": [
       "<Figure size 432x288 with 1 Axes>"
      ]
     },
     "metadata": {
      "needs_background": "light"
     },
     "output_type": "display_data"
    },
    {
     "data": {
      "image/png": "[encoded data removed]",
      "text/plain": [
       "<Figure size 432x288 with 1 Axes>"
      ]
     },
     "metadata": {
      "needs_background": "light"
     },
     "output_type": "display_data"
    },
    {
     "data": {
      "image/png": "[encoded data removed]",
      "text/plain": [
       "<Figure size 432x288 with 1 Axes>"
      ]
     },
     "metadata": {
      "needs_background": "light"
     },
     "output_type": "display_data"
    }
   ],
   "source": [
    "for image in images:\n",
    "    plt.imshow(image.numpy().reshape(28,28))\n",
    "    plt.show()"
   ]
  },
  {
   "cell_type": "markdown",
   "metadata": {},
   "source": [
    "We can see this improves a lot from GAN using Dense Layers. There are several shapes of zeros unlike in GAN with Dense layers."
   ]
  }
 ],
 "metadata": {
  "kernelspec": {
   "display_name": "venv-datascience",
   "language": "python",
   "name": "venv-datascience"
  },
  "language_info": {
   "codemirror_mode": {
    "name": "ipython",
    "version": 3
   },
   "file_extension": ".py",
   "mimetype": "text/x-python",
   "name": "python",
   "nbconvert_exporter": "python",
   "pygments_lexer": "ipython3",
   "version": "3.8.5"
  }
 },
 "nbformat": 4,
 "nbformat_minor": 4
}
