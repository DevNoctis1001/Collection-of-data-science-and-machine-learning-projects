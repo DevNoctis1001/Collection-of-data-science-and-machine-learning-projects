{
 "cells": [
  {
   "cell_type": "markdown",
   "metadata": {},
   "source": [
    "# How to Normalize Data in Python"
   ]
  },
  {
   "cell_type": "markdown",
   "metadata": {},
   "source": [
    "## Learning Objectives\n",
    "Part of the objective of data preparation, is to transform our data in order to make it more suitable for machine learning. During this step, we often have to restructure some of our data so that it conforms to a particular characteristic. This is known as **normalization** or **standardization**. There are several ways to normalize data in Python. By the end of the tutorial, you will have learned:\n",
    "\n",
    "+ how to perform min-max normalization\n",
    "+ how to perform z-score normalization"
   ]
  },
  {
   "cell_type": "code",
   "execution_count": 11,
   "metadata": {},
   "outputs": [],
   "source": [
    "import pandas as pd\n",
    "import seaborn as sns\n",
    "import matplotlib.pyplot as plt"
   ]
  },
  {
   "cell_type": "code",
   "execution_count": 2,
   "metadata": {},
   "outputs": [
    {
     "data": {
      "text/html": [
       "<div>\n",
       "<style scoped>\n",
       "    .dataframe tbody tr th:only-of-type {\n",
       "        vertical-align: middle;\n",
       "    }\n",
       "\n",
       "    .dataframe tbody tr th {\n",
       "        vertical-align: top;\n",
       "    }\n",
       "\n",
       "    .dataframe thead th {\n",
       "        text-align: right;\n",
       "    }\n",
       "</style>\n",
       "<table border=\"1\" class=\"dataframe\">\n",
       "  <thead>\n",
       "    <tr style=\"text-align: right;\">\n",
       "      <th></th>\n",
       "      <th>citympg</th>\n",
       "      <th>cylinders</th>\n",
       "      <th>displacement</th>\n",
       "      <th>drive</th>\n",
       "      <th>highwaympg</th>\n",
       "      <th>make</th>\n",
       "      <th>model</th>\n",
       "      <th>class</th>\n",
       "      <th>year</th>\n",
       "      <th>transmissiontype</th>\n",
       "      <th>transmissionspeeds</th>\n",
       "      <th>co2emissions</th>\n",
       "    </tr>\n",
       "  </thead>\n",
       "  <tbody>\n",
       "    <tr>\n",
       "      <th>0</th>\n",
       "      <td>14.0</td>\n",
       "      <td>6</td>\n",
       "      <td>4.1</td>\n",
       "      <td>2-Wheel Drive</td>\n",
       "      <td>19.0</td>\n",
       "      <td>Buick</td>\n",
       "      <td>Electra/Park Avenue</td>\n",
       "      <td>Large Cars</td>\n",
       "      <td>1984</td>\n",
       "      <td>Automatic</td>\n",
       "      <td>4</td>\n",
       "      <td>555.437500</td>\n",
       "    </tr>\n",
       "    <tr>\n",
       "      <th>1</th>\n",
       "      <td>14.0</td>\n",
       "      <td>8</td>\n",
       "      <td>5.0</td>\n",
       "      <td>2-Wheel Drive</td>\n",
       "      <td>20.0</td>\n",
       "      <td>Buick</td>\n",
       "      <td>Electra/Park Avenue</td>\n",
       "      <td>Large Cars</td>\n",
       "      <td>1984</td>\n",
       "      <td>Automatic</td>\n",
       "      <td>4</td>\n",
       "      <td>555.437500</td>\n",
       "    </tr>\n",
       "    <tr>\n",
       "      <th>2</th>\n",
       "      <td>18.0</td>\n",
       "      <td>8</td>\n",
       "      <td>5.7</td>\n",
       "      <td>2-Wheel Drive</td>\n",
       "      <td>26.0</td>\n",
       "      <td>Buick</td>\n",
       "      <td>Electra/Park Avenue</td>\n",
       "      <td>Large Cars</td>\n",
       "      <td>1984</td>\n",
       "      <td>Automatic</td>\n",
       "      <td>4</td>\n",
       "      <td>484.761905</td>\n",
       "    </tr>\n",
       "    <tr>\n",
       "      <th>3</th>\n",
       "      <td>21.0</td>\n",
       "      <td>6</td>\n",
       "      <td>4.3</td>\n",
       "      <td>Rear-Wheel Drive</td>\n",
       "      <td>31.0</td>\n",
       "      <td>Cadillac</td>\n",
       "      <td>Fleetwood/DeVille (FWD)</td>\n",
       "      <td>Large Cars</td>\n",
       "      <td>1984</td>\n",
       "      <td>Automatic</td>\n",
       "      <td>4</td>\n",
       "      <td>424.166667</td>\n",
       "    </tr>\n",
       "    <tr>\n",
       "      <th>4</th>\n",
       "      <td>14.0</td>\n",
       "      <td>8</td>\n",
       "      <td>4.1</td>\n",
       "      <td>Rear-Wheel Drive</td>\n",
       "      <td>19.0</td>\n",
       "      <td>Cadillac</td>\n",
       "      <td>Brougham/DeVille (RWD)</td>\n",
       "      <td>Large Cars</td>\n",
       "      <td>1984</td>\n",
       "      <td>Automatic</td>\n",
       "      <td>4</td>\n",
       "      <td>555.437500</td>\n",
       "    </tr>\n",
       "  </tbody>\n",
       "</table>\n",
       "</div>"
      ],
      "text/plain": [
       "   citympg  cylinders  displacement             drive  highwaympg      make  \\\n",
       "0     14.0          6           4.1     2-Wheel Drive        19.0     Buick   \n",
       "1     14.0          8           5.0     2-Wheel Drive        20.0     Buick   \n",
       "2     18.0          8           5.7     2-Wheel Drive        26.0     Buick   \n",
       "3     21.0          6           4.3  Rear-Wheel Drive        31.0  Cadillac   \n",
       "4     14.0          8           4.1  Rear-Wheel Drive        19.0  Cadillac   \n",
       "\n",
       "                     model       class  year transmissiontype  \\\n",
       "0      Electra/Park Avenue  Large Cars  1984        Automatic   \n",
       "1      Electra/Park Avenue  Large Cars  1984        Automatic   \n",
       "2      Electra/Park Avenue  Large Cars  1984        Automatic   \n",
       "3  Fleetwood/DeVille (FWD)  Large Cars  1984        Automatic   \n",
       "4   Brougham/DeVille (RWD)  Large Cars  1984        Automatic   \n",
       "\n",
       "   transmissionspeeds  co2emissions  \n",
       "0                   4    555.437500  \n",
       "1                   4    555.437500  \n",
       "2                   4    484.761905  \n",
       "3                   4    424.166667  \n",
       "4                   4    555.437500  "
      ]
     },
     "execution_count": 2,
     "metadata": {},
     "output_type": "execute_result"
    }
   ],
   "source": [
    "vehicles = pd.read_csv('./data/vehicles.csv')\n",
    "vehicles.head()"
   ]
  },
  {
   "cell_type": "code",
   "execution_count": 4,
   "metadata": {
    "colab": {},
    "colab_type": "code",
    "id": "ZBtXnome3fr0",
    "scrolled": true
   },
   "outputs": [
    {
     "data": {
      "text/html": [
       "<div>\n",
       "<style scoped>\n",
       "    .dataframe tbody tr th:only-of-type {\n",
       "        vertical-align: middle;\n",
       "    }\n",
       "\n",
       "    .dataframe tbody tr th {\n",
       "        vertical-align: top;\n",
       "    }\n",
       "\n",
       "    .dataframe thead th {\n",
       "        text-align: right;\n",
       "    }\n",
       "</style>\n",
       "<table border=\"1\" class=\"dataframe\">\n",
       "  <thead>\n",
       "    <tr style=\"text-align: right;\">\n",
       "      <th></th>\n",
       "      <th>count</th>\n",
       "      <th>mean</th>\n",
       "      <th>std</th>\n",
       "      <th>min</th>\n",
       "      <th>25%</th>\n",
       "      <th>50%</th>\n",
       "      <th>75%</th>\n",
       "      <th>max</th>\n",
       "    </tr>\n",
       "  </thead>\n",
       "  <tbody>\n",
       "    <tr>\n",
       "      <th>citympg</th>\n",
       "      <td>36973.0</td>\n",
       "      <td>17.532497</td>\n",
       "      <td>4.473165</td>\n",
       "      <td>6.0</td>\n",
       "      <td>15.0</td>\n",
       "      <td>17.000000</td>\n",
       "      <td>20.0000</td>\n",
       "      <td>57.000000</td>\n",
       "    </tr>\n",
       "    <tr>\n",
       "      <th>cylinders</th>\n",
       "      <td>36979.0</td>\n",
       "      <td>5.775765</td>\n",
       "      <td>1.756336</td>\n",
       "      <td>2.0</td>\n",
       "      <td>4.0</td>\n",
       "      <td>6.000000</td>\n",
       "      <td>6.0000</td>\n",
       "      <td>16.000000</td>\n",
       "    </tr>\n",
       "    <tr>\n",
       "      <th>displacement</th>\n",
       "      <td>36970.0</td>\n",
       "      <td>3.345899</td>\n",
       "      <td>1.359921</td>\n",
       "      <td>0.6</td>\n",
       "      <td>2.2</td>\n",
       "      <td>3.000000</td>\n",
       "      <td>4.3000</td>\n",
       "      <td>8.400000</td>\n",
       "    </tr>\n",
       "    <tr>\n",
       "      <th>highwaympg</th>\n",
       "      <td>36971.0</td>\n",
       "      <td>23.769360</td>\n",
       "      <td>5.719440</td>\n",
       "      <td>9.0</td>\n",
       "      <td>20.0</td>\n",
       "      <td>24.000000</td>\n",
       "      <td>27.0000</td>\n",
       "      <td>61.000000</td>\n",
       "    </tr>\n",
       "    <tr>\n",
       "      <th>year</th>\n",
       "      <td>36979.0</td>\n",
       "      <td>2000.889045</td>\n",
       "      <td>10.400847</td>\n",
       "      <td>1984.0</td>\n",
       "      <td>1991.0</td>\n",
       "      <td>2001.000000</td>\n",
       "      <td>2010.0000</td>\n",
       "      <td>2018.000000</td>\n",
       "    </tr>\n",
       "    <tr>\n",
       "      <th>transmissionspeeds</th>\n",
       "      <td>36979.0</td>\n",
       "      <td>4.954271</td>\n",
       "      <td>1.228390</td>\n",
       "      <td>1.0</td>\n",
       "      <td>4.0</td>\n",
       "      <td>5.000000</td>\n",
       "      <td>6.0000</td>\n",
       "      <td>10.000000</td>\n",
       "    </tr>\n",
       "    <tr>\n",
       "      <th>co2emissions</th>\n",
       "      <td>36979.0</td>\n",
       "      <td>476.550703</td>\n",
       "      <td>117.791357</td>\n",
       "      <td>29.0</td>\n",
       "      <td>400.0</td>\n",
       "      <td>467.736842</td>\n",
       "      <td>555.4375</td>\n",
       "      <td>1269.571429</td>\n",
       "    </tr>\n",
       "  </tbody>\n",
       "</table>\n",
       "</div>"
      ],
      "text/plain": [
       "                      count         mean         std     min     25%  \\\n",
       "citympg             36973.0    17.532497    4.473165     6.0    15.0   \n",
       "cylinders           36979.0     5.775765    1.756336     2.0     4.0   \n",
       "displacement        36970.0     3.345899    1.359921     0.6     2.2   \n",
       "highwaympg          36971.0    23.769360    5.719440     9.0    20.0   \n",
       "year                36979.0  2000.889045   10.400847  1984.0  1991.0   \n",
       "transmissionspeeds  36979.0     4.954271    1.228390     1.0     4.0   \n",
       "co2emissions        36979.0   476.550703  117.791357    29.0   400.0   \n",
       "\n",
       "                            50%        75%          max  \n",
       "citympg               17.000000    20.0000    57.000000  \n",
       "cylinders              6.000000     6.0000    16.000000  \n",
       "displacement           3.000000     4.3000     8.400000  \n",
       "highwaympg            24.000000    27.0000    61.000000  \n",
       "year                2001.000000  2010.0000  2018.000000  \n",
       "transmissionspeeds     5.000000     6.0000    10.000000  \n",
       "co2emissions         467.736842   555.4375  1269.571429  "
      ]
     },
     "execution_count": 4,
     "metadata": {},
     "output_type": "execute_result"
    }
   ],
   "source": [
    "vehicles.describe().T"
   ]
  },
  {
   "cell_type": "code",
   "execution_count": 5,
   "metadata": {},
   "outputs": [
    {
     "data": {
      "text/plain": [
       "count    36979.000000\n",
       "mean       476.550703\n",
       "std        117.791357\n",
       "min         29.000000\n",
       "25%        400.000000\n",
       "50%        467.736842\n",
       "75%        555.437500\n",
       "max       1269.571429\n",
       "Name: co2emissions, dtype: float64"
      ]
     },
     "execution_count": 5,
     "metadata": {},
     "output_type": "execute_result"
    }
   ],
   "source": [
    "vehicles['co2emissions'].describe()"
   ]
  },
  {
   "cell_type": "code",
   "execution_count": 27,
   "metadata": {
    "scrolled": true
   },
   "outputs": [
    {
     "data": {
      "image/png": "[encoded data removed]",
      "text/plain": [
       "<Figure size 720x432 with 1 Axes>"
      ]
     },
     "metadata": {
      "needs_background": "light"
     },
     "output_type": "display_data"
    }
   ],
   "source": [
    "plt.figure(figsize=(10, 6))\n",
    "sns.histplot(x='co2emissions', data=vehicles, bins=20);"
   ]
  },
  {
   "cell_type": "markdown",
   "metadata": {},
   "source": [
    "## How to perform min-max Normalization - using sklearn MinMaxScaler"
   ]
  },
  {
   "cell_type": "code",
   "execution_count": 16,
   "metadata": {},
   "outputs": [],
   "source": [
    "from sklearn.preprocessing import MinMaxScaler"
   ]
  },
  {
   "cell_type": "code",
   "execution_count": 17,
   "metadata": {},
   "outputs": [],
   "source": [
    "scaler = MinMaxScaler()"
   ]
  },
  {
   "cell_type": "code",
   "execution_count": 20,
   "metadata": {},
   "outputs": [
    {
     "data": {
      "text/plain": [
       "array([[0.42435082],\n",
       "       [0.42435082],\n",
       "       [0.36738062],\n",
       "       ...,\n",
       "       [0.38208199],\n",
       "       [0.50944265],\n",
       "       [0.41674344]])"
      ]
     },
     "execution_count": 20,
     "metadata": {},
     "output_type": "execute_result"
    }
   ],
   "source": [
    "co2_emissions_mm = scaler.fit_transform(vehicles[['co2emissions']])\n",
    "co2_emissions_mm"
   ]
  },
  {
   "cell_type": "code",
   "execution_count": 22,
   "metadata": {},
   "outputs": [
    {
     "data": {
      "text/html": [
       "<div>\n",
       "<style scoped>\n",
       "    .dataframe tbody tr th:only-of-type {\n",
       "        vertical-align: middle;\n",
       "    }\n",
       "\n",
       "    .dataframe tbody tr th {\n",
       "        vertical-align: top;\n",
       "    }\n",
       "\n",
       "    .dataframe thead th {\n",
       "        text-align: right;\n",
       "    }\n",
       "</style>\n",
       "<table border=\"1\" class=\"dataframe\">\n",
       "  <thead>\n",
       "    <tr style=\"text-align: right;\">\n",
       "      <th></th>\n",
       "      <th>co2emissions</th>\n",
       "    </tr>\n",
       "  </thead>\n",
       "  <tbody>\n",
       "    <tr>\n",
       "      <th>0</th>\n",
       "      <td>0.424351</td>\n",
       "    </tr>\n",
       "    <tr>\n",
       "      <th>1</th>\n",
       "      <td>0.424351</td>\n",
       "    </tr>\n",
       "    <tr>\n",
       "      <th>2</th>\n",
       "      <td>0.367381</td>\n",
       "    </tr>\n",
       "    <tr>\n",
       "      <th>3</th>\n",
       "      <td>0.318536</td>\n",
       "    </tr>\n",
       "    <tr>\n",
       "      <th>4</th>\n",
       "      <td>0.424351</td>\n",
       "    </tr>\n",
       "    <tr>\n",
       "      <th>...</th>\n",
       "      <td>...</td>\n",
       "    </tr>\n",
       "    <tr>\n",
       "      <th>36974</th>\n",
       "      <td>0.332911</td>\n",
       "    </tr>\n",
       "    <tr>\n",
       "      <th>36975</th>\n",
       "      <td>0.352257</td>\n",
       "    </tr>\n",
       "    <tr>\n",
       "      <th>36976</th>\n",
       "      <td>0.382082</td>\n",
       "    </tr>\n",
       "    <tr>\n",
       "      <th>36977</th>\n",
       "      <td>0.509443</td>\n",
       "    </tr>\n",
       "    <tr>\n",
       "      <th>36978</th>\n",
       "      <td>0.416743</td>\n",
       "    </tr>\n",
       "  </tbody>\n",
       "</table>\n",
       "<p>36979 rows × 1 columns</p>\n",
       "</div>"
      ],
      "text/plain": [
       "       co2emissions\n",
       "0          0.424351\n",
       "1          0.424351\n",
       "2          0.367381\n",
       "3          0.318536\n",
       "4          0.424351\n",
       "...             ...\n",
       "36974      0.332911\n",
       "36975      0.352257\n",
       "36976      0.382082\n",
       "36977      0.509443\n",
       "36978      0.416743\n",
       "\n",
       "[36979 rows x 1 columns]"
      ]
     },
     "execution_count": 22,
     "metadata": {},
     "output_type": "execute_result"
    }
   ],
   "source": [
    "co2_emissions_mm = pd.DataFrame(co2_emissions_mm, columns=['co2emissions'])\n",
    "co2_emissions_mm"
   ]
  },
  {
   "cell_type": "code",
   "execution_count": 23,
   "metadata": {},
   "outputs": [
    {
     "data": {
      "text/html": [
       "<div>\n",
       "<style scoped>\n",
       "    .dataframe tbody tr th:only-of-type {\n",
       "        vertical-align: middle;\n",
       "    }\n",
       "\n",
       "    .dataframe tbody tr th {\n",
       "        vertical-align: top;\n",
       "    }\n",
       "\n",
       "    .dataframe thead th {\n",
       "        text-align: right;\n",
       "    }\n",
       "</style>\n",
       "<table border=\"1\" class=\"dataframe\">\n",
       "  <thead>\n",
       "    <tr style=\"text-align: right;\">\n",
       "      <th></th>\n",
       "      <th>co2emissions</th>\n",
       "    </tr>\n",
       "  </thead>\n",
       "  <tbody>\n",
       "    <tr>\n",
       "      <th>count</th>\n",
       "      <td>36979.000000</td>\n",
       "    </tr>\n",
       "    <tr>\n",
       "      <th>mean</th>\n",
       "      <td>0.360762</td>\n",
       "    </tr>\n",
       "    <tr>\n",
       "      <th>std</th>\n",
       "      <td>0.094949</td>\n",
       "    </tr>\n",
       "    <tr>\n",
       "      <th>min</th>\n",
       "      <td>0.000000</td>\n",
       "    </tr>\n",
       "    <tr>\n",
       "      <th>25%</th>\n",
       "      <td>0.299056</td>\n",
       "    </tr>\n",
       "    <tr>\n",
       "      <th>50%</th>\n",
       "      <td>0.353657</td>\n",
       "    </tr>\n",
       "    <tr>\n",
       "      <th>75%</th>\n",
       "      <td>0.424351</td>\n",
       "    </tr>\n",
       "    <tr>\n",
       "      <th>max</th>\n",
       "      <td>1.000000</td>\n",
       "    </tr>\n",
       "  </tbody>\n",
       "</table>\n",
       "</div>"
      ],
      "text/plain": [
       "       co2emissions\n",
       "count  36979.000000\n",
       "mean       0.360762\n",
       "std        0.094949\n",
       "min        0.000000\n",
       "25%        0.299056\n",
       "50%        0.353657\n",
       "75%        0.424351\n",
       "max        1.000000"
      ]
     },
     "execution_count": 23,
     "metadata": {},
     "output_type": "execute_result"
    }
   ],
   "source": [
    "# now we have min-max scaled data, we want to check the statistics\n",
    "co2_emissions_mm.describe()"
   ]
  },
  {
   "cell_type": "code",
   "execution_count": 28,
   "metadata": {},
   "outputs": [
    {
     "data": {
      "image/png": "[encoded data removed]",
      "text/plain": [
       "<Figure size 720x432 with 1 Axes>"
      ]
     },
     "metadata": {
      "needs_background": "light"
     },
     "output_type": "display_data"
    }
   ],
   "source": [
    "# we can also plot it\n",
    "# NOTE THAT the basic shape of data is still the same although value on x are scaled\n",
    "co2_emissions_mm.plot(kind='hist', \n",
    "                      bins=20, \n",
    "                      figsize=(10, 6));"
   ]
  },
  {
   "cell_type": "markdown",
   "metadata": {},
   "source": [
    "## How to perform z-score Normalization - using skelarn StandardScaler"
   ]
  },
  {
   "cell_type": "code",
   "execution_count": 29,
   "metadata": {},
   "outputs": [],
   "source": [
    "from sklearn.preprocessing import StandardScaler"
   ]
  },
  {
   "cell_type": "code",
   "execution_count": 30,
   "metadata": {},
   "outputs": [],
   "source": [
    "scaler = StandardScaler()"
   ]
  },
  {
   "cell_type": "code",
   "execution_count": 31,
   "metadata": {},
   "outputs": [
    {
     "data": {
      "text/html": [
       "<div>\n",
       "<style scoped>\n",
       "    .dataframe tbody tr th:only-of-type {\n",
       "        vertical-align: middle;\n",
       "    }\n",
       "\n",
       "    .dataframe tbody tr th {\n",
       "        vertical-align: top;\n",
       "    }\n",
       "\n",
       "    .dataframe thead th {\n",
       "        text-align: right;\n",
       "    }\n",
       "</style>\n",
       "<table border=\"1\" class=\"dataframe\">\n",
       "  <thead>\n",
       "    <tr style=\"text-align: right;\">\n",
       "      <th></th>\n",
       "      <th>co2emissions</th>\n",
       "    </tr>\n",
       "  </thead>\n",
       "  <tbody>\n",
       "    <tr>\n",
       "      <th>count</th>\n",
       "      <td>3.697900e+04</td>\n",
       "    </tr>\n",
       "    <tr>\n",
       "      <th>mean</th>\n",
       "      <td>-1.844617e-16</td>\n",
       "    </tr>\n",
       "    <tr>\n",
       "      <th>std</th>\n",
       "      <td>1.000014e+00</td>\n",
       "    </tr>\n",
       "    <tr>\n",
       "      <th>min</th>\n",
       "      <td>-3.799572e+00</td>\n",
       "    </tr>\n",
       "    <tr>\n",
       "      <th>25%</th>\n",
       "      <td>-6.498927e-01</td>\n",
       "    </tr>\n",
       "    <tr>\n",
       "      <th>50%</th>\n",
       "      <td>-7.482706e-02</td>\n",
       "    </tr>\n",
       "    <tr>\n",
       "      <th>75%</th>\n",
       "      <td>6.697254e-01</td>\n",
       "    </tr>\n",
       "    <tr>\n",
       "      <th>max</th>\n",
       "      <td>6.732510e+00</td>\n",
       "    </tr>\n",
       "  </tbody>\n",
       "</table>\n",
       "</div>"
      ],
      "text/plain": [
       "       co2emissions\n",
       "count  3.697900e+04\n",
       "mean  -1.844617e-16\n",
       "std    1.000014e+00\n",
       "min   -3.799572e+00\n",
       "25%   -6.498927e-01\n",
       "50%   -7.482706e-02\n",
       "75%    6.697254e-01\n",
       "max    6.732510e+00"
      ]
     },
     "execution_count": 31,
     "metadata": {},
     "output_type": "execute_result"
    }
   ],
   "source": [
    "co2emissions_zm = scaler.fit_transform(vehicles[['co2emissions']])\n",
    "co2emissions_zm = pd.DataFrame(co2emissions_zm, columns=['co2emissions'])\n",
    "co2emissions_zm.describe()"
   ]
  },
  {
   "cell_type": "code",
   "execution_count": 32,
   "metadata": {},
   "outputs": [
    {
     "data": {
      "image/png": "[encoded data removed]",
      "text/plain": [
       "<Figure size 720x432 with 1 Axes>"
      ]
     },
     "metadata": {
      "needs_background": "light"
     },
     "output_type": "display_data"
    }
   ],
   "source": [
    "co2emissions_zm.plot(kind='hist',\n",
    "                    bins=20,\n",
    "                    figsize=(10, 6));"
   ]
  }
 ],
 "metadata": {
  "colab": {
   "collapsed_sections": [],
   "name": "3.3 - Pandas Data Selection.ipynb",
   "provenance": [],
   "toc_visible": true,
   "version": "0.3.2"
  },
  "kernelspec": {
   "display_name": "Python 3 (ipykernel)",
   "language": "python",
   "name": "python3"
  },
  "language_info": {
   "codemirror_mode": {
    "name": "ipython",
    "version": 3
   },
   "file_extension": ".py",
   "mimetype": "text/x-python",
   "name": "python",
   "nbconvert_exporter": "python",
   "pygments_lexer": "ipython3",
   "version": "3.7.13"
  },
  "toc": {
   "base_numbering": 1,
   "nav_menu": {},
   "number_sections": false,
   "sideBar": true,
   "skip_h1_title": false,
   "title_cell": "Table of Contents",
   "title_sidebar": "Contents",
   "toc_cell": false,
   "toc_position": {
    "height": "calc(100% - 180px)",
    "left": "10px",
    "top": "150px",
    "width": "273.188px"
   },
   "toc_section_display": true,
   "toc_window_display": true
  }
 },
 "nbformat": 4,
 "nbformat_minor": 1
}
