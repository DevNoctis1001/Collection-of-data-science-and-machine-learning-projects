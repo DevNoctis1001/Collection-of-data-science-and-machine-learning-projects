{
 "cells": [
  {
   "cell_type": "markdown",
   "metadata": {},
   "source": [
    "# How to Import Data in Python"
   ]
  },
  {
   "cell_type": "markdown",
   "metadata": {},
   "source": [
    "## Learning Objectives\n",
    "One of the reasons why Python is such a popular programming language for machine learning is because it supports some very powerful and easy to use packages which are purpose-built for data analysis. One of these packages is the **pandas** package. In this exercise, you will get a brief introduction to the pandas package and how to import data using functions provided by the pandas package. By the end of this tutorial, you will have learned:\n",
    "\n",
    "+ what a pandas Series is\n",
    "+ what a pandas DataFrame is\n",
    "+ how to import data from a CSV file\n",
    "+ how to import data from an Excel file"
   ]
  },
  {
   "cell_type": "markdown",
   "metadata": {
    "colab_type": "text",
    "id": "rgzeumtubBxE"
   },
   "source": [
    "## The pandas Package"
   ]
  },
  {
   "cell_type": "code",
   "execution_count": 2,
   "metadata": {
    "colab": {},
    "colab_type": "code",
    "id": "i8NQe2iYbBxK"
   },
   "outputs": [],
   "source": [
    "import pandas as pd"
   ]
  },
  {
   "cell_type": "markdown",
   "metadata": {},
   "source": [
    "## The pandas Series"
   ]
  },
  {
   "cell_type": "code",
   "execution_count": 2,
   "metadata": {},
   "outputs": [],
   "source": [
    "members = [\"Brazil\", \"Russia\", \"India\", \"China\", \"South Africa\"]"
   ]
  },
  {
   "cell_type": "code",
   "execution_count": 6,
   "metadata": {},
   "outputs": [
    {
     "data": {
      "text/plain": [
       "0          Brazil\n",
       "1          Russia\n",
       "2           India\n",
       "3           China\n",
       "4    South Africa\n",
       "dtype: object"
      ]
     },
     "execution_count": 6,
     "metadata": {},
     "output_type": "execute_result"
    }
   ],
   "source": [
    "series = pd.Series(members)\n",
    "series"
   ]
  },
  {
   "cell_type": "markdown",
   "metadata": {},
   "source": [
    "## The pandas DataFrame"
   ]
  },
  {
   "cell_type": "code",
   "execution_count": 7,
   "metadata": {
    "colab": {},
    "colab_type": "code",
    "id": "Nzcoz81tbByT"
   },
   "outputs": [],
   "source": [
    "members = {\"country\": [\"Brazil\", \"Russia\", \"India\", \"China\", \"South Africa\"],\n",
    "        \"capital\": [\"Brasilia\", \"Moscow\", \"New Delhi\", \"Beijing\", \"Pretoria\"],\n",
    "        \"gdp\": [2750, 1658, 3202, 15270, 370],\n",
    "        \"literacy\":[.944, .997, .721, .964, .943],\n",
    "        \"expectancy\": [76.8, 72.7, 68.8, 76.4, 63.6],\n",
    "        \"population\": [210.87, 143.96, 1367.09, 1415.05, 57.4]}"
   ]
  },
  {
   "cell_type": "code",
   "execution_count": 8,
   "metadata": {
    "scrolled": true
   },
   "outputs": [
    {
     "data": {
      "text/html": [
       "<div>\n",
       "<style scoped>\n",
       "    .dataframe tbody tr th:only-of-type {\n",
       "        vertical-align: middle;\n",
       "    }\n",
       "\n",
       "    .dataframe tbody tr th {\n",
       "        vertical-align: top;\n",
       "    }\n",
       "\n",
       "    .dataframe thead th {\n",
       "        text-align: right;\n",
       "    }\n",
       "</style>\n",
       "<table border=\"1\" class=\"dataframe\">\n",
       "  <thead>\n",
       "    <tr style=\"text-align: right;\">\n",
       "      <th></th>\n",
       "      <th>country</th>\n",
       "      <th>capital</th>\n",
       "      <th>gdp</th>\n",
       "      <th>literacy</th>\n",
       "      <th>expectancy</th>\n",
       "      <th>population</th>\n",
       "    </tr>\n",
       "  </thead>\n",
       "  <tbody>\n",
       "    <tr>\n",
       "      <th>0</th>\n",
       "      <td>Brazil</td>\n",
       "      <td>Brasilia</td>\n",
       "      <td>2750</td>\n",
       "      <td>0.944</td>\n",
       "      <td>76.8</td>\n",
       "      <td>210.87</td>\n",
       "    </tr>\n",
       "    <tr>\n",
       "      <th>1</th>\n",
       "      <td>Russia</td>\n",
       "      <td>Moscow</td>\n",
       "      <td>1658</td>\n",
       "      <td>0.997</td>\n",
       "      <td>72.7</td>\n",
       "      <td>143.96</td>\n",
       "    </tr>\n",
       "    <tr>\n",
       "      <th>2</th>\n",
       "      <td>India</td>\n",
       "      <td>New Delhi</td>\n",
       "      <td>3202</td>\n",
       "      <td>0.721</td>\n",
       "      <td>68.8</td>\n",
       "      <td>1367.09</td>\n",
       "    </tr>\n",
       "    <tr>\n",
       "      <th>3</th>\n",
       "      <td>China</td>\n",
       "      <td>Beijing</td>\n",
       "      <td>15270</td>\n",
       "      <td>0.964</td>\n",
       "      <td>76.4</td>\n",
       "      <td>1415.05</td>\n",
       "    </tr>\n",
       "    <tr>\n",
       "      <th>4</th>\n",
       "      <td>South Africa</td>\n",
       "      <td>Pretoria</td>\n",
       "      <td>370</td>\n",
       "      <td>0.943</td>\n",
       "      <td>63.6</td>\n",
       "      <td>57.40</td>\n",
       "    </tr>\n",
       "  </tbody>\n",
       "</table>\n",
       "</div>"
      ],
      "text/plain": [
       "        country    capital    gdp  literacy  expectancy  population\n",
       "0        Brazil   Brasilia   2750     0.944        76.8      210.87\n",
       "1        Russia     Moscow   1658     0.997        72.7      143.96\n",
       "2         India  New Delhi   3202     0.721        68.8     1367.09\n",
       "3         China    Beijing  15270     0.964        76.4     1415.05\n",
       "4  South Africa   Pretoria    370     0.943        63.6       57.40"
      ]
     },
     "execution_count": 8,
     "metadata": {},
     "output_type": "execute_result"
    }
   ],
   "source": [
    "df = pd.DataFrame(members)\n",
    "\n",
    "df.head()"
   ]
  },
  {
   "cell_type": "code",
   "execution_count": 11,
   "metadata": {},
   "outputs": [
    {
     "data": {
      "text/html": [
       "<div>\n",
       "<style scoped>\n",
       "    .dataframe tbody tr th:only-of-type {\n",
       "        vertical-align: middle;\n",
       "    }\n",
       "\n",
       "    .dataframe tbody tr th {\n",
       "        vertical-align: top;\n",
       "    }\n",
       "\n",
       "    .dataframe thead th {\n",
       "        text-align: right;\n",
       "    }\n",
       "</style>\n",
       "<table border=\"1\" class=\"dataframe\">\n",
       "  <thead>\n",
       "    <tr style=\"text-align: right;\">\n",
       "      <th></th>\n",
       "      <th>country</th>\n",
       "      <th>capital</th>\n",
       "      <th>gdp</th>\n",
       "      <th>literacy</th>\n",
       "      <th>expectancy</th>\n",
       "      <th>population</th>\n",
       "    </tr>\n",
       "  </thead>\n",
       "  <tbody>\n",
       "    <tr>\n",
       "      <th>0</th>\n",
       "      <td>Brazil</td>\n",
       "      <td>Brasilia</td>\n",
       "      <td>2750</td>\n",
       "      <td>0.944</td>\n",
       "      <td>76.8</td>\n",
       "      <td>210.87</td>\n",
       "    </tr>\n",
       "    <tr>\n",
       "      <th>1</th>\n",
       "      <td>Russia</td>\n",
       "      <td>Moscow</td>\n",
       "      <td>1658</td>\n",
       "      <td>0.997</td>\n",
       "      <td>72.7</td>\n",
       "      <td>143.96</td>\n",
       "    </tr>\n",
       "    <tr>\n",
       "      <th>2</th>\n",
       "      <td>India</td>\n",
       "      <td>New Delhi</td>\n",
       "      <td>3202</td>\n",
       "      <td>0.721</td>\n",
       "      <td>68.8</td>\n",
       "      <td>1367.09</td>\n",
       "    </tr>\n",
       "    <tr>\n",
       "      <th>3</th>\n",
       "      <td>China</td>\n",
       "      <td>Beijing</td>\n",
       "      <td>15270</td>\n",
       "      <td>0.964</td>\n",
       "      <td>76.4</td>\n",
       "      <td>1415.05</td>\n",
       "    </tr>\n",
       "    <tr>\n",
       "      <th>4</th>\n",
       "      <td>South Africa</td>\n",
       "      <td>Pretoria</td>\n",
       "      <td>370</td>\n",
       "      <td>0.943</td>\n",
       "      <td>63.6</td>\n",
       "      <td>57.40</td>\n",
       "    </tr>\n",
       "  </tbody>\n",
       "</table>\n",
       "</div>"
      ],
      "text/plain": [
       "        country    capital    gdp  literacy  expectancy  population\n",
       "0        Brazil   Brasilia   2750     0.944        76.8      210.87\n",
       "1        Russia     Moscow   1658     0.997        72.7      143.96\n",
       "2         India  New Delhi   3202     0.721        68.8     1367.09\n",
       "3         China    Beijing  15270     0.964        76.4     1415.05\n",
       "4  South Africa   Pretoria    370     0.943        63.6       57.40"
      ]
     },
     "execution_count": 11,
     "metadata": {},
     "output_type": "execute_result"
    }
   ],
   "source": [
    "members = [[\"Brazil\", \"Brasilia\", 2750, 0.944, 76.8, 210.87],\n",
    "                     [\"Russia\", \"Moscow\", 1658, 0.997, 72.7, 143.96],\n",
    "                     [\"India\", \"New Delhi\", 3202, 0.721, 68.8, 1367.09],\n",
    "                     [\"China\", \"Beijing\", 15270, 0.964, 76.4, 1415.05],\n",
    "                     [\"South Africa\", \"Pretoria\", 370, 0.943, 63.6, 57.4]]\n",
    "\n",
    "\n",
    "labels = [\"country\", \"capital\", \"gdp\", \"literacy\", \"expectancy\", \"population\"]\n",
    "\n",
    "\n",
    "df = pd.DataFrame(members, columns=labels)\n",
    "df.head()"
   ]
  },
  {
   "cell_type": "markdown",
   "metadata": {},
   "source": [
    "## How to import data from a CSV file"
   ]
  },
  {
   "cell_type": "code",
   "execution_count": 12,
   "metadata": {},
   "outputs": [
    {
     "data": {
      "text/html": [
       "<div>\n",
       "<style scoped>\n",
       "    .dataframe tbody tr th:only-of-type {\n",
       "        vertical-align: middle;\n",
       "    }\n",
       "\n",
       "    .dataframe tbody tr th {\n",
       "        vertical-align: top;\n",
       "    }\n",
       "\n",
       "    .dataframe thead th {\n",
       "        text-align: right;\n",
       "    }\n",
       "</style>\n",
       "<table border=\"1\" class=\"dataframe\">\n",
       "  <thead>\n",
       "    <tr style=\"text-align: right;\">\n",
       "      <th></th>\n",
       "      <th>country</th>\n",
       "      <th>capital</th>\n",
       "      <th>gdp</th>\n",
       "      <th>literacy</th>\n",
       "      <th>expectancy</th>\n",
       "      <th>population</th>\n",
       "    </tr>\n",
       "  </thead>\n",
       "  <tbody>\n",
       "    <tr>\n",
       "      <th>0</th>\n",
       "      <td>Brazil</td>\n",
       "      <td>Brasilia</td>\n",
       "      <td>2750</td>\n",
       "      <td>0.944</td>\n",
       "      <td>76.8</td>\n",
       "      <td>210.87</td>\n",
       "    </tr>\n",
       "    <tr>\n",
       "      <th>1</th>\n",
       "      <td>Russia</td>\n",
       "      <td>Moscow</td>\n",
       "      <td>1658</td>\n",
       "      <td>0.997</td>\n",
       "      <td>72.7</td>\n",
       "      <td>143.96</td>\n",
       "    </tr>\n",
       "    <tr>\n",
       "      <th>2</th>\n",
       "      <td>India</td>\n",
       "      <td>New Delhi</td>\n",
       "      <td>3202</td>\n",
       "      <td>0.721</td>\n",
       "      <td>68.8</td>\n",
       "      <td>1367.09</td>\n",
       "    </tr>\n",
       "    <tr>\n",
       "      <th>3</th>\n",
       "      <td>China</td>\n",
       "      <td>Beijing</td>\n",
       "      <td>15270</td>\n",
       "      <td>0.964</td>\n",
       "      <td>76.4</td>\n",
       "      <td>1415.05</td>\n",
       "    </tr>\n",
       "    <tr>\n",
       "      <th>4</th>\n",
       "      <td>South Africa</td>\n",
       "      <td>Pretoria</td>\n",
       "      <td>370</td>\n",
       "      <td>0.943</td>\n",
       "      <td>63.6</td>\n",
       "      <td>57.40</td>\n",
       "    </tr>\n",
       "  </tbody>\n",
       "</table>\n",
       "</div>"
      ],
      "text/plain": [
       "        country    capital    gdp  literacy  expectancy  population\n",
       "0        Brazil   Brasilia   2750     0.944        76.8      210.87\n",
       "1        Russia     Moscow   1658     0.997        72.7      143.96\n",
       "2         India  New Delhi   3202     0.721        68.8     1367.09\n",
       "3         China    Beijing  15270     0.964        76.4     1415.05\n",
       "4  South Africa   Pretoria    370     0.943        63.6       57.40"
      ]
     },
     "execution_count": 12,
     "metadata": {},
     "output_type": "execute_result"
    }
   ],
   "source": [
    "df = pd.read_csv('./data/brics.csv')\n",
    "df.head()"
   ]
  },
  {
   "cell_type": "markdown",
   "metadata": {},
   "source": [
    "## How to import data from an Excel file"
   ]
  },
  {
   "cell_type": "code",
   "execution_count": 17,
   "metadata": {},
   "outputs": [
    {
     "data": {
      "text/html": [
       "<div>\n",
       "<style scoped>\n",
       "    .dataframe tbody tr th:only-of-type {\n",
       "        vertical-align: middle;\n",
       "    }\n",
       "\n",
       "    .dataframe tbody tr th {\n",
       "        vertical-align: top;\n",
       "    }\n",
       "\n",
       "    .dataframe thead th {\n",
       "        text-align: right;\n",
       "    }\n",
       "</style>\n",
       "<table border=\"1\" class=\"dataframe\">\n",
       "  <thead>\n",
       "    <tr style=\"text-align: right;\">\n",
       "      <th></th>\n",
       "      <th>country</th>\n",
       "      <th>capital</th>\n",
       "      <th>gdp</th>\n",
       "      <th>literacy</th>\n",
       "      <th>expectancy</th>\n",
       "      <th>population</th>\n",
       "    </tr>\n",
       "  </thead>\n",
       "  <tbody>\n",
       "    <tr>\n",
       "      <th>0</th>\n",
       "      <td>Brazil</td>\n",
       "      <td>Brasilia</td>\n",
       "      <td>2750</td>\n",
       "      <td>0.944</td>\n",
       "      <td>76.8</td>\n",
       "      <td>210.87</td>\n",
       "    </tr>\n",
       "    <tr>\n",
       "      <th>1</th>\n",
       "      <td>Russia</td>\n",
       "      <td>Moscow</td>\n",
       "      <td>1658</td>\n",
       "      <td>0.997</td>\n",
       "      <td>72.7</td>\n",
       "      <td>143.96</td>\n",
       "    </tr>\n",
       "    <tr>\n",
       "      <th>2</th>\n",
       "      <td>India</td>\n",
       "      <td>New Delhi</td>\n",
       "      <td>3202</td>\n",
       "      <td>0.721</td>\n",
       "      <td>68.8</td>\n",
       "      <td>1367.09</td>\n",
       "    </tr>\n",
       "    <tr>\n",
       "      <th>3</th>\n",
       "      <td>China</td>\n",
       "      <td>Beijing</td>\n",
       "      <td>15270</td>\n",
       "      <td>0.964</td>\n",
       "      <td>76.4</td>\n",
       "      <td>1415.05</td>\n",
       "    </tr>\n",
       "    <tr>\n",
       "      <th>4</th>\n",
       "      <td>South Africa</td>\n",
       "      <td>Pretoria</td>\n",
       "      <td>370</td>\n",
       "      <td>0.943</td>\n",
       "      <td>63.6</td>\n",
       "      <td>57.40</td>\n",
       "    </tr>\n",
       "  </tbody>\n",
       "</table>\n",
       "</div>"
      ],
      "text/plain": [
       "        country    capital    gdp  literacy  expectancy  population\n",
       "0        Brazil   Brasilia   2750     0.944        76.8      210.87\n",
       "1        Russia     Moscow   1658     0.997        72.7      143.96\n",
       "2         India  New Delhi   3202     0.721        68.8     1367.09\n",
       "3         China    Beijing  15270     0.964        76.4     1415.05\n",
       "4  South Africa   Pretoria    370     0.943        63.6       57.40"
      ]
     },
     "execution_count": 17,
     "metadata": {},
     "output_type": "execute_result"
    }
   ],
   "source": [
    "df = pd.read_excel('./data/brics.xlsx', engine='openpyxl')\n",
    "df.head()"
   ]
  },
  {
   "cell_type": "code",
   "execution_count": 18,
   "metadata": {},
   "outputs": [
    {
     "data": {
      "text/html": [
       "<div>\n",
       "<style scoped>\n",
       "    .dataframe tbody tr th:only-of-type {\n",
       "        vertical-align: middle;\n",
       "    }\n",
       "\n",
       "    .dataframe tbody tr th {\n",
       "        vertical-align: top;\n",
       "    }\n",
       "\n",
       "    .dataframe thead th {\n",
       "        text-align: right;\n",
       "    }\n",
       "</style>\n",
       "<table border=\"1\" class=\"dataframe\">\n",
       "  <thead>\n",
       "    <tr style=\"text-align: right;\">\n",
       "      <th></th>\n",
       "      <th>summit</th>\n",
       "      <th>date</th>\n",
       "      <th>host</th>\n",
       "      <th>leader</th>\n",
       "      <th>location</th>\n",
       "    </tr>\n",
       "  </thead>\n",
       "  <tbody>\n",
       "    <tr>\n",
       "      <th>0</th>\n",
       "      <td>1st</td>\n",
       "      <td>June 16th, 2009</td>\n",
       "      <td>Russia</td>\n",
       "      <td>Dmitry Medvedev</td>\n",
       "      <td>Yekaterinburg (Sevastianov's House)</td>\n",
       "    </tr>\n",
       "    <tr>\n",
       "      <th>1</th>\n",
       "      <td>2nd</td>\n",
       "      <td>April 15th, 2010</td>\n",
       "      <td>Brazil</td>\n",
       "      <td>Luiz Inácio Lula da Silva</td>\n",
       "      <td>Brasília (Itamaraty Palace)</td>\n",
       "    </tr>\n",
       "    <tr>\n",
       "      <th>2</th>\n",
       "      <td>3rd</td>\n",
       "      <td>April 14th, 2011</td>\n",
       "      <td>China</td>\n",
       "      <td>Hu Jintao</td>\n",
       "      <td>Sanya (Sheraton Sanya Resort)</td>\n",
       "    </tr>\n",
       "    <tr>\n",
       "      <th>3</th>\n",
       "      <td>4th</td>\n",
       "      <td>March 29th, 2012</td>\n",
       "      <td>India</td>\n",
       "      <td>Manmohan Singh</td>\n",
       "      <td>New Delhi (Taj Mahal Hotel)</td>\n",
       "    </tr>\n",
       "    <tr>\n",
       "      <th>4</th>\n",
       "      <td>5th</td>\n",
       "      <td>March 26th – 27th, 2013</td>\n",
       "      <td>South Africa</td>\n",
       "      <td>Jacob Zuma</td>\n",
       "      <td>Durban (Durban ICC)</td>\n",
       "    </tr>\n",
       "  </tbody>\n",
       "</table>\n",
       "</div>"
      ],
      "text/plain": [
       "  summit                     date          host                     leader  \\\n",
       "0    1st          June 16th, 2009        Russia            Dmitry Medvedev   \n",
       "1    2nd         April 15th, 2010        Brazil  Luiz Inácio Lula da Silva   \n",
       "2    3rd         April 14th, 2011         China                  Hu Jintao   \n",
       "3    4th         March 29th, 2012         India             Manmohan Singh   \n",
       "4    5th  March 26th – 27th, 2013  South Africa                 Jacob Zuma   \n",
       "\n",
       "                              location  \n",
       "0  Yekaterinburg (Sevastianov's House)  \n",
       "1          Brasília (Itamaraty Palace)  \n",
       "2        Sanya (Sheraton Sanya Resort)  \n",
       "3          New Delhi (Taj Mahal Hotel)  \n",
       "4                  Durban (Durban ICC)  "
      ]
     },
     "execution_count": 18,
     "metadata": {},
     "output_type": "execute_result"
    }
   ],
   "source": [
    "# reading multiple sheets Excel and want to read a specific sheet\n",
    "df = pd.read_excel(\"./data/brics.xlsx\", engine='openpyxl', sheet_name='Summits')\n",
    "df.head()"
   ]
  }
 ],
 "metadata": {
  "kernelspec": {
   "display_name": "Python 3 (ipykernel)",
   "language": "python",
   "name": "python3"
  },
  "language_info": {
   "codemirror_mode": {
    "name": "ipython",
    "version": 3
   },
   "file_extension": ".py",
   "mimetype": "text/x-python",
   "name": "python",
   "nbconvert_exporter": "python",
   "pygments_lexer": "ipython3",
   "version": "3.7.13"
  },
  "toc": {
   "base_numbering": 1,
   "nav_menu": {},
   "number_sections": false,
   "sideBar": true,
   "skip_h1_title": false,
   "title_cell": "Table of Contents",
   "title_sidebar": "Contents",
   "toc_cell": false,
   "toc_position": {},
   "toc_section_display": true,
   "toc_window_display": true
  }
 },
 "nbformat": 4,
 "nbformat_minor": 4
}
