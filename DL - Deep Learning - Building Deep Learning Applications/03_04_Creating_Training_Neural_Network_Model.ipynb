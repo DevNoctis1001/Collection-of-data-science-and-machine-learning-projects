{
 "cells": [
  {
   "cell_type": "markdown",
   "metadata": {},
   "source": [
    "# 1) Creating a Neural Network in Keras"
   ]
  },
  {
   "cell_type": "markdown",
   "metadata": {},
   "source": [
    "## 1.1) Preprocessing Training Data"
   ]
  },
  {
   "cell_type": "code",
   "execution_count": 1,
   "metadata": {},
   "outputs": [],
   "source": [
    "import pandas as pd\n",
    "from sklearn.preprocessing import MinMaxScaler"
   ]
  },
  {
   "cell_type": "code",
   "execution_count": 2,
   "metadata": {},
   "outputs": [],
   "source": [
    "# Load training data and test data\n",
    "training_data_df = pd.read_csv('data/sales_data_training.csv')\n",
    "testing_data_df = pd.read_csv('data/sales_data_test.csv')"
   ]
  },
  {
   "cell_type": "code",
   "execution_count": 3,
   "metadata": {},
   "outputs": [],
   "source": [
    "# Scale the data\n",
    "scaler = MinMaxScaler(feature_range=(0,1))\n",
    "\n",
    "scaled_training_data = scaler.fit_transform(training_data_df)\n",
    "scaled_testing_data = scaler.transform(testing_data_df)"
   ]
  },
  {
   "cell_type": "code",
   "execution_count": 4,
   "metadata": {},
   "outputs": [
    {
     "name": "stdout",
     "output_type": "stream",
     "text": [
      "Note: total_earnings values were scaled by multiplying by 0.0000036968 and adding -0.115913\n"
     ]
    }
   ],
   "source": [
    "# Print out the adjustment that the scaler applied to the total_earnings column of data\n",
    "print(\"Note: total_earnings values were scaled by multiplying by {:.10f} and adding {:.6f}\".format(scaler.scale_[8], scaler.min_[8]))"
   ]
  },
  {
   "cell_type": "code",
   "execution_count": 5,
   "metadata": {},
   "outputs": [
    {
     "data": {
      "text/plain": [
       "array(['critic_rating', 'is_action', 'is_exclusive_to_us', 'is_portable',\n",
       "       'is_role_playing', 'is_sequel', 'is_sports', 'suitable_for_kids',\n",
       "       'total_earnings', 'unit_price'], dtype=object)"
      ]
     },
     "execution_count": 5,
     "metadata": {},
     "output_type": "execute_result"
    }
   ],
   "source": [
    "training_data_df.columns.values"
   ]
  },
  {
   "cell_type": "code",
   "execution_count": 6,
   "metadata": {},
   "outputs": [],
   "source": [
    "# Create new pandas DataFrame objects from the scaled data\n",
    "scaled_training_df = pd.DataFrame(data=scaled_training_data, columns=training_data_df.columns.values)\n",
    "scaled_testing_df = pd.DataFrame(data=scaled_testing_data, columns=testing_data_df.columns.values)"
   ]
  },
  {
   "cell_type": "code",
   "execution_count": 15,
   "metadata": {},
   "outputs": [],
   "source": [
    "# Save scaled data dataframes to new CSV files\n",
    "scaled_training_df.to_csv('data/sales_data_training_scaled.csv', index=False)\n",
    "scaled_testing_df.to_csv('data/sales_data_test_scaled.csv', index=False)"
   ]
  },
  {
   "cell_type": "markdown",
   "metadata": {},
   "source": [
    "-------"
   ]
  },
  {
   "cell_type": "markdown",
   "metadata": {},
   "source": [
    "# 1.2) Define Keras Model using Sequential API\n",
    "- we want to predict `Total Earnings` for the games "
   ]
  },
  {
   "cell_type": "code",
   "execution_count": 16,
   "metadata": {},
   "outputs": [],
   "source": [
    "import pandas as pd\n",
    "from tensorflow.keras.models import Sequential\n",
    "from tensorflow.keras.layers import Dense"
   ]
  },
  {
   "cell_type": "code",
   "execution_count": 17,
   "metadata": {},
   "outputs": [
    {
     "data": {
      "text/html": [
       "<div>\n",
       "<style scoped>\n",
       "    .dataframe tbody tr th:only-of-type {\n",
       "        vertical-align: middle;\n",
       "    }\n",
       "\n",
       "    .dataframe tbody tr th {\n",
       "        vertical-align: top;\n",
       "    }\n",
       "\n",
       "    .dataframe thead th {\n",
       "        text-align: right;\n",
       "    }\n",
       "</style>\n",
       "<table border=\"1\" class=\"dataframe\">\n",
       "  <thead>\n",
       "    <tr style=\"text-align: right;\">\n",
       "      <th></th>\n",
       "      <th>critic_rating</th>\n",
       "      <th>is_action</th>\n",
       "      <th>is_exclusive_to_us</th>\n",
       "      <th>is_portable</th>\n",
       "      <th>is_role_playing</th>\n",
       "      <th>is_sequel</th>\n",
       "      <th>is_sports</th>\n",
       "      <th>suitable_for_kids</th>\n",
       "      <th>total_earnings</th>\n",
       "      <th>unit_price</th>\n",
       "    </tr>\n",
       "  </thead>\n",
       "  <tbody>\n",
       "    <tr>\n",
       "      <th>0</th>\n",
       "      <td>0.500000</td>\n",
       "      <td>1.0</td>\n",
       "      <td>0.0</td>\n",
       "      <td>1.0</td>\n",
       "      <td>0.0</td>\n",
       "      <td>1.0</td>\n",
       "      <td>0.0</td>\n",
       "      <td>0.0</td>\n",
       "      <td>0.374714</td>\n",
       "      <td>1.0</td>\n",
       "    </tr>\n",
       "    <tr>\n",
       "      <th>1</th>\n",
       "      <td>0.833333</td>\n",
       "      <td>0.0</td>\n",
       "      <td>0.0</td>\n",
       "      <td>0.0</td>\n",
       "      <td>0.0</td>\n",
       "      <td>1.0</td>\n",
       "      <td>1.0</td>\n",
       "      <td>0.0</td>\n",
       "      <td>0.192425</td>\n",
       "      <td>0.5</td>\n",
       "    </tr>\n",
       "    <tr>\n",
       "      <th>2</th>\n",
       "      <td>0.333333</td>\n",
       "      <td>0.0</td>\n",
       "      <td>0.0</td>\n",
       "      <td>0.0</td>\n",
       "      <td>0.0</td>\n",
       "      <td>1.0</td>\n",
       "      <td>1.0</td>\n",
       "      <td>0.0</td>\n",
       "      <td>0.114852</td>\n",
       "      <td>0.5</td>\n",
       "    </tr>\n",
       "    <tr>\n",
       "      <th>3</th>\n",
       "      <td>0.833333</td>\n",
       "      <td>1.0</td>\n",
       "      <td>0.0</td>\n",
       "      <td>0.0</td>\n",
       "      <td>0.0</td>\n",
       "      <td>0.0</td>\n",
       "      <td>0.0</td>\n",
       "      <td>1.0</td>\n",
       "      <td>0.142452</td>\n",
       "      <td>0.0</td>\n",
       "    </tr>\n",
       "    <tr>\n",
       "      <th>4</th>\n",
       "      <td>0.666667</td>\n",
       "      <td>1.0</td>\n",
       "      <td>0.0</td>\n",
       "      <td>1.0</td>\n",
       "      <td>0.0</td>\n",
       "      <td>1.0</td>\n",
       "      <td>0.0</td>\n",
       "      <td>1.0</td>\n",
       "      <td>0.480682</td>\n",
       "      <td>1.0</td>\n",
       "    </tr>\n",
       "  </tbody>\n",
       "</table>\n",
       "</div>"
      ],
      "text/plain": [
       "   critic_rating  is_action  is_exclusive_to_us  is_portable  is_role_playing  \\\n",
       "0       0.500000        1.0                 0.0          1.0              0.0   \n",
       "1       0.833333        0.0                 0.0          0.0              0.0   \n",
       "2       0.333333        0.0                 0.0          0.0              0.0   \n",
       "3       0.833333        1.0                 0.0          0.0              0.0   \n",
       "4       0.666667        1.0                 0.0          1.0              0.0   \n",
       "\n",
       "   is_sequel  is_sports  suitable_for_kids  total_earnings  unit_price  \n",
       "0        1.0        0.0                0.0        0.374714         1.0  \n",
       "1        1.0        1.0                0.0        0.192425         0.5  \n",
       "2        1.0        1.0                0.0        0.114852         0.5  \n",
       "3        0.0        0.0                1.0        0.142452         0.0  \n",
       "4        1.0        0.0                1.0        0.480682         1.0  "
      ]
     },
     "execution_count": 17,
     "metadata": {},
     "output_type": "execute_result"
    }
   ],
   "source": [
    "training_data_df = pd.read_csv('data/sales_data_training_scaled.csv')\n",
    "training_data_df.head()"
   ]
  },
  {
   "cell_type": "code",
   "execution_count": 18,
   "metadata": {},
   "outputs": [],
   "source": [
    "X = training_data_df.drop('total_earnings', axis=1).values\n",
    "y = training_data_df[['total_earnings']].values"
   ]
  },
  {
   "cell_type": "code",
   "execution_count": 19,
   "metadata": {},
   "outputs": [
    {
     "data": {
      "text/plain": [
       "((1000, 9), (1000, 1))"
      ]
     },
     "execution_count": 19,
     "metadata": {},
     "output_type": "execute_result"
    }
   ],
   "source": [
    "X.shape, y.shape"
   ]
  },
  {
   "cell_type": "code",
   "execution_count": 20,
   "metadata": {},
   "outputs": [
    {
     "data": {
      "text/plain": [
       "array([[0.37471396],\n",
       "       [0.19242528],\n",
       "       [0.11485185],\n",
       "       [0.14245208],\n",
       "       [0.48068243]])"
      ]
     },
     "execution_count": 20,
     "metadata": {},
     "output_type": "execute_result"
    }
   ],
   "source": [
    "y[:5]"
   ]
  },
  {
   "cell_type": "code",
   "execution_count": 21,
   "metadata": {},
   "outputs": [],
   "source": [
    "# Define the model\n",
    "model = Sequential()\n",
    "\n",
    "model.add(Dense(50, input_dim=9, activation='relu')) # as our number of features is 9\n",
    "model.add(Dense(100, activation='relu'))\n",
    "model.add(Dense(50, activation='relu'))\n",
    "\n",
    "model.add(Dense(1, activation='linear')) # linear is default too. we are predicting single value\n",
    "\n",
    "model.compile(\n",
    "    loss='mse',\n",
    "    optimizer='adam'\n",
    ")"
   ]
  },
  {
   "cell_type": "code",
   "execution_count": 24,
   "metadata": {},
   "outputs": [
    {
     "name": "stdout",
     "output_type": "stream",
     "text": [
      "Model: \"sequential_1\"\n",
      "_________________________________________________________________\n",
      "Layer (type)                 Output Shape              Param #   \n",
      "=================================================================\n",
      "dense_4 (Dense)              (None, 50)                500       \n",
      "_________________________________________________________________\n",
      "dense_5 (Dense)              (None, 100)               5100      \n",
      "_________________________________________________________________\n",
      "dense_6 (Dense)              (None, 50)                5050      \n",
      "_________________________________________________________________\n",
      "dense_7 (Dense)              (None, 1)                 51        \n",
      "=================================================================\n",
      "Total params: 10,701\n",
      "Trainable params: 10,701\n",
      "Non-trainable params: 0\n",
      "_________________________________________________________________\n"
     ]
    }
   ],
   "source": [
    "model.summary()"
   ]
  },
  {
   "cell_type": "markdown",
   "metadata": {},
   "source": [
    "-------"
   ]
  },
  {
   "cell_type": "markdown",
   "metadata": {},
   "source": [
    "# 2) Training Models"
   ]
  },
  {
   "cell_type": "markdown",
   "metadata": {},
   "source": [
    "## 2.1) Training and Evaluation of Model"
   ]
  },
  {
   "cell_type": "code",
   "execution_count": 22,
   "metadata": {},
   "outputs": [
    {
     "name": "stdout",
     "output_type": "stream",
     "text": [
      "Epoch 1/50\n",
      "32/32 - 2s - loss: 0.0207\n",
      "Epoch 2/50\n",
      "32/32 - 0s - loss: 0.0028\n",
      "Epoch 3/50\n",
      "32/32 - 0s - loss: 0.0011\n",
      "Epoch 4/50\n",
      "32/32 - 0s - loss: 4.5699e-04\n",
      "Epoch 5/50\n",
      "32/32 - 0s - loss: 3.1295e-04\n",
      "Epoch 6/50\n",
      "32/32 - 0s - loss: 1.9573e-04\n",
      "Epoch 7/50\n",
      "32/32 - 0s - loss: 1.4639e-04\n",
      "Epoch 8/50\n",
      "32/32 - 0s - loss: 1.0866e-04\n",
      "Epoch 9/50\n",
      "32/32 - 0s - loss: 9.4893e-05\n",
      "Epoch 10/50\n",
      "32/32 - 0s - loss: 9.5402e-05\n",
      "Epoch 11/50\n",
      "32/32 - 0s - loss: 7.9593e-05\n",
      "Epoch 12/50\n",
      "32/32 - 0s - loss: 6.1124e-05\n",
      "Epoch 13/50\n",
      "32/32 - 0s - loss: 5.8854e-05\n",
      "Epoch 14/50\n",
      "32/32 - 0s - loss: 4.7164e-05\n",
      "Epoch 15/50\n",
      "32/32 - 0s - loss: 5.2579e-05\n",
      "Epoch 16/50\n",
      "32/32 - 0s - loss: 4.5479e-05\n",
      "Epoch 17/50\n",
      "32/32 - 0s - loss: 3.3523e-05\n",
      "Epoch 18/50\n",
      "32/32 - 0s - loss: 3.8041e-05\n",
      "Epoch 19/50\n",
      "32/32 - 0s - loss: 3.2778e-05\n",
      "Epoch 20/50\n",
      "32/32 - 0s - loss: 2.9138e-05\n",
      "Epoch 21/50\n",
      "32/32 - 0s - loss: 3.6182e-05\n",
      "Epoch 22/50\n",
      "32/32 - 0s - loss: 2.6849e-05\n",
      "Epoch 23/50\n",
      "32/32 - 0s - loss: 3.3815e-05\n",
      "Epoch 24/50\n",
      "32/32 - 0s - loss: 3.0148e-05\n",
      "Epoch 25/50\n",
      "32/32 - 0s - loss: 2.4762e-05\n",
      "Epoch 26/50\n",
      "32/32 - 0s - loss: 3.0279e-05\n",
      "Epoch 27/50\n",
      "32/32 - 0s - loss: 3.8937e-05\n",
      "Epoch 28/50\n",
      "32/32 - 0s - loss: 4.4956e-05\n",
      "Epoch 29/50\n",
      "32/32 - 0s - loss: 4.3861e-05\n",
      "Epoch 30/50\n",
      "32/32 - 0s - loss: 3.4013e-05\n",
      "Epoch 31/50\n",
      "32/32 - 0s - loss: 2.1935e-05\n",
      "Epoch 32/50\n",
      "32/32 - 0s - loss: 2.9877e-05\n",
      "Epoch 33/50\n",
      "32/32 - 0s - loss: 2.3932e-05\n",
      "Epoch 34/50\n",
      "32/32 - 0s - loss: 2.5597e-05\n",
      "Epoch 35/50\n",
      "32/32 - 0s - loss: 2.2657e-05\n",
      "Epoch 36/50\n",
      "32/32 - 0s - loss: 2.0294e-05\n",
      "Epoch 37/50\n",
      "32/32 - 0s - loss: 2.0241e-05\n",
      "Epoch 38/50\n",
      "32/32 - 0s - loss: 2.0779e-05\n",
      "Epoch 39/50\n",
      "32/32 - 0s - loss: 2.3561e-05\n",
      "Epoch 40/50\n",
      "32/32 - 0s - loss: 3.9225e-05\n",
      "Epoch 41/50\n",
      "32/32 - 0s - loss: 4.6857e-05\n",
      "Epoch 42/50\n",
      "32/32 - 0s - loss: 2.9387e-05\n",
      "Epoch 43/50\n",
      "32/32 - 0s - loss: 2.0429e-05\n",
      "Epoch 44/50\n",
      "32/32 - 0s - loss: 2.1320e-05\n",
      "Epoch 45/50\n",
      "32/32 - 0s - loss: 2.8111e-05\n",
      "Epoch 46/50\n",
      "32/32 - 0s - loss: 3.8358e-05\n",
      "Epoch 47/50\n",
      "32/32 - 0s - loss: 3.6742e-05\n",
      "Epoch 48/50\n",
      "32/32 - 0s - loss: 3.0768e-05\n",
      "Epoch 49/50\n",
      "32/32 - 0s - loss: 4.1079e-05\n",
      "Epoch 50/50\n",
      "32/32 - 0s - loss: 2.4699e-05\n"
     ]
    },
    {
     "data": {
      "text/plain": [
       "<tensorflow.python.keras.callbacks.History at 0x9049269c40>"
      ]
     },
     "execution_count": 22,
     "metadata": {},
     "output_type": "execute_result"
    }
   ],
   "source": [
    "# Train the model\n",
    "model.fit(\n",
    "    X, \n",
    "    y,\n",
    "    epochs=50,\n",
    "    shuffle = True, #shuffle is true by default though\n",
    "    verbose=2\n",
    ")"
   ]
  },
  {
   "cell_type": "markdown",
   "metadata": {},
   "source": [
    "## Testing and Evaluation"
   ]
  },
  {
   "cell_type": "code",
   "execution_count": 27,
   "metadata": {},
   "outputs": [],
   "source": [
    "# load separte test data\n",
    "test_data_df = pd.read_csv('data/sales_data_test_scaled.csv')\n",
    "\n",
    "X_test = test_data_df.drop('total_earnings', axis=1).values\n",
    "y_test = test_data_df[['total_earnings']].values"
   ]
  },
  {
   "cell_type": "code",
   "execution_count": 28,
   "metadata": {},
   "outputs": [
    {
     "name": "stdout",
     "output_type": "stream",
     "text": [
      "13/13 [==============================] - 0s 1ms/step - loss: 8.2241e-05\n"
     ]
    }
   ],
   "source": [
    "test_error_rate = model.evaluate(X_test, y_test)"
   ]
  },
  {
   "cell_type": "code",
   "execution_count": 29,
   "metadata": {},
   "outputs": [
    {
     "name": "stdout",
     "output_type": "stream",
     "text": [
      "The mean squared error MSE for the test data set is 8.224092744057998e-05\n"
     ]
    }
   ],
   "source": [
    "print('The mean squared error MSE for the test data set is {}'.format(test_error_rate))"
   ]
  },
  {
   "cell_type": "markdown",
   "metadata": {},
   "source": [
    "## 2.2) Making Predictions\n",
    "- future of sale of new video game"
   ]
  },
  {
   "cell_type": "code",
   "execution_count": 34,
   "metadata": {},
   "outputs": [],
   "source": [
    "# Load the data that we want to use to predict\n",
    "# the values are already pre-scaled, so we will skip scaling\n",
    "new_product_X = pd.read_csv('data/proposed_new_product.csv').values"
   ]
  },
  {
   "cell_type": "code",
   "execution_count": 35,
   "metadata": {},
   "outputs": [
    {
     "data": {
      "text/plain": [
       "array([[0.7, 1. , 1. , 1. , 0. , 1. , 0. , 1. , 0.8]])"
      ]
     },
     "execution_count": 35,
     "metadata": {},
     "output_type": "execute_result"
    }
   ],
   "source": [
    "new_product_X"
   ]
  },
  {
   "cell_type": "code",
   "execution_count": 38,
   "metadata": {},
   "outputs": [
    {
     "data": {
      "text/plain": [
       "array([[0.8559272]], dtype=float32)"
      ]
     },
     "execution_count": 38,
     "metadata": {},
     "output_type": "execute_result"
    }
   ],
   "source": [
    "# Make predictions with the neural network\n",
    "prediction = model.predict(new_product_X)\n",
    "prediction"
   ]
  },
  {
   "cell_type": "code",
   "execution_count": 39,
   "metadata": {},
   "outputs": [],
   "source": [
    "# Grab just the first element of the first prediction (since that's the only have one)\n",
    "prediction = prediction[0][0]"
   ]
  },
  {
   "cell_type": "code",
   "execution_count": 40,
   "metadata": {},
   "outputs": [],
   "source": [
    "# Re-scale the data from the 0-to-1 range back to dollars\n",
    "# These constants are from when the data was originally scaled down to the 0-to-1 range\n",
    "prediction = prediction + 0.1159\n",
    "prediction = prediction / 0.0000036968\n"
   ]
  },
  {
   "cell_type": "code",
   "execution_count": 41,
   "metadata": {},
   "outputs": [
    {
     "name": "stdout",
     "output_type": "stream",
     "text": [
      "Earnings Prediction for Proposed Product - $262883.3664054351\n"
     ]
    }
   ],
   "source": [
    "print(\"Earnings Prediction for Proposed Product - ${}\".format(prediction))"
   ]
  },
  {
   "cell_type": "markdown",
   "metadata": {},
   "source": [
    "# 2.3) Saving and Loading Models"
   ]
  },
  {
   "cell_type": "markdown",
   "metadata": {},
   "source": [
    "### Save Model"
   ]
  },
  {
   "cell_type": "code",
   "execution_count": 43,
   "metadata": {},
   "outputs": [
    {
     "name": "stdout",
     "output_type": "stream",
     "text": [
      "model saved to disk!\n"
     ]
    }
   ],
   "source": [
    "model.save('models/trained_model.h5')\n",
    "print('model saved to disk!')"
   ]
  },
  {
   "cell_type": "markdown",
   "metadata": {},
   "source": [
    "### Load Model and make prediction"
   ]
  },
  {
   "cell_type": "code",
   "execution_count": 44,
   "metadata": {},
   "outputs": [],
   "source": [
    "from tensorflow.keras.models import load_model"
   ]
  },
  {
   "cell_type": "code",
   "execution_count": 45,
   "metadata": {},
   "outputs": [],
   "source": [
    "loaded_model = load_model('models/trained_model.h5')"
   ]
  },
  {
   "cell_type": "code",
   "execution_count": 47,
   "metadata": {},
   "outputs": [],
   "source": [
    "prediction = loaded_model.predict(new_product_X)\n",
    "prediction = prediction[0][0]"
   ]
  },
  {
   "cell_type": "code",
   "execution_count": 48,
   "metadata": {},
   "outputs": [
    {
     "name": "stdout",
     "output_type": "stream",
     "text": [
      "Earnings Prediction for Proposed Product - $262883.3664054351\n"
     ]
    }
   ],
   "source": [
    "prediction = prediction + 0.1159\n",
    "prediction = prediction / 0.0000036968\n",
    "\n",
    "print(\"Earnings Prediction for Proposed Product - ${}\".format(prediction))"
   ]
  }
 ],
 "metadata": {
  "kernelspec": {
   "display_name": "venv-datascience",
   "language": "python",
   "name": "venv-datascience"
  },
  "language_info": {
   "codemirror_mode": {
    "name": "ipython",
    "version": 3
   },
   "file_extension": ".py",
   "mimetype": "text/x-python",
   "name": "python",
   "nbconvert_exporter": "python",
   "pygments_lexer": "ipython3",
   "version": "3.8.5"
  }
 },
 "nbformat": 4,
 "nbformat_minor": 4
}
