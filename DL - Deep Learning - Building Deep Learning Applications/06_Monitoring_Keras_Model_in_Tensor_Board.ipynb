{
 "cells": [
  {
   "cell_type": "markdown",
   "metadata": {},
   "source": [
    "# Monitoring Keras Model in Tensor Board\n",
    "- `write_graph`: True , to store the structure of the model\n",
    "- `histogram_freq = number` : statistics of each layers of model how they are working, example: 5 meaning every 5 passes of training, data will be logged."
   ]
  },
  {
   "cell_type": "code",
   "execution_count": 1,
   "metadata": {},
   "outputs": [],
   "source": [
    "import numpy as np\n",
    "from tensorflow.keras.models import Sequential\n",
    "from tensorflow.keras.layers import Dense\n",
    "import pandas as pd"
   ]
  },
  {
   "cell_type": "code",
   "execution_count": 2,
   "metadata": {},
   "outputs": [],
   "source": [
    "# load the scaled data\n",
    "training_data = pd.read_csv('data/sales_data_training_scaled.csv')\n",
    "\n",
    "X = training_data.drop('total_earnings', axis=1).values\n",
    "y = training_data[['total_earnings']].values"
   ]
  },
  {
   "cell_type": "code",
   "execution_count": 3,
   "metadata": {},
   "outputs": [
    {
     "data": {
      "text/plain": [
       "((1000, 9), (1000, 1))"
      ]
     },
     "execution_count": 3,
     "metadata": {},
     "output_type": "execute_result"
    }
   ],
   "source": [
    "X.shape, y.shape"
   ]
  },
  {
   "cell_type": "code",
   "execution_count": 4,
   "metadata": {},
   "outputs": [],
   "source": [
    "# define the model\n",
    "model = Sequential()\n",
    "\n",
    "model.add(Dense(50, input_dim=9, activation='relu', name='layer_1'))\n",
    "model.add(Dense(100, activation='relu', name='layer_2'))\n",
    "model.add(Dense(50, activation='relu', name='layer_3'))\n",
    "\n",
    "model.add(Dense(1, activation='linear', name='output_layer'))\n",
    "\n",
    "model.compile(\n",
    "    loss='mse',\n",
    "    optimizer='adam'\n",
    ")"
   ]
  },
  {
   "cell_type": "markdown",
   "metadata": {},
   "source": [
    "# 1) Export Keras Logs in Tensorflow"
   ]
  },
  {
   "cell_type": "code",
   "execution_count": 6,
   "metadata": {},
   "outputs": [],
   "source": [
    "from tensorflow.keras.callbacks import TensorBoard\n",
    "\n",
    "# Create a Tensorboard Logger\n",
    "logger = TensorBoard(\n",
    " log_dir = 'logs',\n",
    " write_graph = True,\n",
    " histogram_freq = 5\n",
    ")"
   ]
  },
  {
   "cell_type": "code",
   "execution_count": 7,
   "metadata": {},
   "outputs": [
    {
     "name": "stdout",
     "output_type": "stream",
     "text": [
      "Epoch 1/50\n",
      "32/32 - 3s - loss: 0.0500\n",
      "Epoch 2/50\n",
      "32/32 - 0s - loss: 0.0074\n",
      "Epoch 3/50\n",
      "32/32 - 0s - loss: 0.0023\n",
      "Epoch 4/50\n",
      "32/32 - 0s - loss: 0.0011\n",
      "Epoch 5/50\n",
      "32/32 - 0s - loss: 7.0517e-04\n",
      "Epoch 6/50\n",
      "32/32 - 0s - loss: 4.3223e-04\n",
      "Epoch 7/50\n",
      "32/32 - 0s - loss: 2.7764e-04\n",
      "Epoch 8/50\n",
      "32/32 - 0s - loss: 2.0841e-04\n",
      "Epoch 9/50\n",
      "32/32 - 0s - loss: 1.5385e-04\n",
      "Epoch 10/50\n",
      "32/32 - 0s - loss: 1.2840e-04\n",
      "Epoch 11/50\n",
      "32/32 - 0s - loss: 1.0224e-04\n",
      "Epoch 12/50\n",
      "32/32 - 0s - loss: 8.5173e-05\n",
      "Epoch 13/50\n",
      "32/32 - 0s - loss: 8.0348e-05\n",
      "Epoch 14/50\n",
      "32/32 - 0s - loss: 6.8944e-05\n",
      "Epoch 15/50\n",
      "32/32 - 0s - loss: 6.5183e-05\n",
      "Epoch 16/50\n",
      "32/32 - 0s - loss: 5.9026e-05\n",
      "Epoch 17/50\n",
      "32/32 - 0s - loss: 4.8198e-05\n",
      "Epoch 18/50\n",
      "32/32 - 0s - loss: 4.4819e-05\n",
      "Epoch 19/50\n",
      "32/32 - 0s - loss: 3.9915e-05\n",
      "Epoch 20/50\n",
      "32/32 - 0s - loss: 3.8598e-05\n",
      "Epoch 21/50\n",
      "32/32 - 0s - loss: 3.7855e-05\n",
      "Epoch 22/50\n",
      "32/32 - 0s - loss: 3.6292e-05\n",
      "Epoch 23/50\n",
      "32/32 - 0s - loss: 3.5887e-05\n",
      "Epoch 24/50\n",
      "32/32 - 0s - loss: 3.0305e-05\n",
      "Epoch 25/50\n",
      "32/32 - 0s - loss: 3.0085e-05\n",
      "Epoch 26/50\n",
      "32/32 - 0s - loss: 2.8572e-05\n",
      "Epoch 27/50\n",
      "32/32 - 0s - loss: 2.5387e-05\n",
      "Epoch 28/50\n",
      "32/32 - 0s - loss: 2.5308e-05\n",
      "Epoch 29/50\n",
      "32/32 - 0s - loss: 2.3838e-05\n",
      "Epoch 30/50\n",
      "32/32 - 0s - loss: 2.3211e-05\n",
      "Epoch 31/50\n",
      "32/32 - 0s - loss: 2.2607e-05\n",
      "Epoch 32/50\n",
      "32/32 - 0s - loss: 2.2058e-05\n",
      "Epoch 33/50\n",
      "32/32 - 0s - loss: 2.4199e-05\n",
      "Epoch 34/50\n",
      "32/32 - 0s - loss: 2.1722e-05\n",
      "Epoch 35/50\n",
      "32/32 - 0s - loss: 2.4828e-05\n",
      "Epoch 36/50\n",
      "32/32 - 0s - loss: 2.6465e-05\n",
      "Epoch 37/50\n",
      "32/32 - 0s - loss: 2.3660e-05\n",
      "Epoch 38/50\n",
      "32/32 - 0s - loss: 2.8726e-05\n",
      "Epoch 39/50\n",
      "32/32 - 0s - loss: 2.2762e-05\n",
      "Epoch 40/50\n",
      "32/32 - 0s - loss: 2.3305e-05\n",
      "Epoch 41/50\n",
      "32/32 - 0s - loss: 3.7249e-05\n",
      "Epoch 42/50\n",
      "32/32 - 0s - loss: 2.4099e-05\n",
      "Epoch 43/50\n",
      "32/32 - 0s - loss: 2.0145e-05\n",
      "Epoch 44/50\n",
      "32/32 - 0s - loss: 1.9016e-05\n",
      "Epoch 45/50\n",
      "32/32 - 0s - loss: 1.9739e-05\n",
      "Epoch 46/50\n",
      "32/32 - 0s - loss: 2.1300e-05\n",
      "Epoch 47/50\n",
      "32/32 - 0s - loss: 2.2079e-05\n",
      "Epoch 48/50\n",
      "32/32 - 0s - loss: 2.9173e-05\n",
      "Epoch 49/50\n",
      "32/32 - 0s - loss: 4.0314e-05\n",
      "Epoch 50/50\n",
      "32/32 - 0s - loss: 2.5453e-05\n"
     ]
    },
    {
     "data": {
      "text/plain": [
       "<tensorflow.python.keras.callbacks.History at 0x687122e970>"
      ]
     },
     "execution_count": 7,
     "metadata": {},
     "output_type": "execute_result"
    }
   ],
   "source": [
    "# Train the model\n",
    "model.fit(\n",
    "    X,\n",
    "    y,\n",
    "    epochs=50,\n",
    "    shuffle=True,\n",
    "    verbose=2,\n",
    "    callbacks=[logger]\n",
    ")"
   ]
  },
  {
   "cell_type": "code",
   "execution_count": 8,
   "metadata": {},
   "outputs": [],
   "source": [
    "# Load the separate test data\n",
    "test_data = pd.read_csv('data/sales_data_test_scaled.csv')"
   ]
  },
  {
   "cell_type": "code",
   "execution_count": 15,
   "metadata": {},
   "outputs": [],
   "source": [
    "X_test = test_data.drop('total_earnings', axis=1).values\n",
    "y_test = test_data[['total_earnings']].values"
   ]
  },
  {
   "cell_type": "code",
   "execution_count": 17,
   "metadata": {},
   "outputs": [
    {
     "name": "stdout",
     "output_type": "stream",
     "text": [
      "13/13 [==============================] - 0s 2ms/step - loss: 7.7437e-05\n"
     ]
    }
   ],
   "source": [
    "test_error_rate = model.evaluate(X_test, y_test)"
   ]
  },
  {
   "cell_type": "code",
   "execution_count": 18,
   "metadata": {},
   "outputs": [
    {
     "name": "stdout",
     "output_type": "stream",
     "text": [
      "The mean squared error (MSE) for the test data set is: 7.743747119093314e-05\n"
     ]
    }
   ],
   "source": [
    "print(\"The mean squared error (MSE) for the test data set is: {}\".format(test_error_rate))"
   ]
  },
  {
   "cell_type": "markdown",
   "metadata": {},
   "source": [
    "---------"
   ]
  },
  {
   "cell_type": "markdown",
   "metadata": {},
   "source": [
    "# 2) Visualize Computational Graph"
   ]
  },
  {
   "cell_type": "markdown",
   "metadata": {},
   "source": [
    "- In termnial, `tensorboard --logdir=logs\\`\n",
    "- when you get the address, paste it in browser and run it. (http://localhost:6006/)\n"
   ]
  },
  {
   "cell_type": "markdown",
   "metadata": {},
   "source": [
    "--------"
   ]
  },
  {
   "cell_type": "markdown",
   "metadata": {},
   "source": [
    "# 3) Visualize Training Progress\n",
    "- As we want to know the best model, we will run multiple models with training data.\n",
    "- This will create multiple logs in the logs folder. To avoid overwrite the file, we need to differentiate the logs.\n",
    "- Using tensorboard, we can visualize the multiple runs of different models."
   ]
  },
  {
   "cell_type": "code",
   "execution_count": 22,
   "metadata": {},
   "outputs": [
    {
     "name": "stdout",
     "output_type": "stream",
     "text": [
      "Epoch 1/50\n",
      "32/32 - 3s - loss: 0.0321\n",
      "Epoch 2/50\n",
      "32/32 - 0s - loss: 0.0115\n",
      "Epoch 3/50\n",
      "32/32 - 0s - loss: 0.0090\n",
      "Epoch 4/50\n",
      "32/32 - 0s - loss: 0.0069\n",
      "Epoch 5/50\n",
      "32/32 - 0s - loss: 0.0050\n",
      "Epoch 6/50\n",
      "32/32 - 0s - loss: 0.0035\n",
      "Epoch 7/50\n",
      "32/32 - 0s - loss: 0.0026\n",
      "Epoch 8/50\n",
      "32/32 - 0s - loss: 0.0020\n",
      "Epoch 9/50\n",
      "32/32 - 0s - loss: 0.0016\n",
      "Epoch 10/50\n",
      "32/32 - 0s - loss: 0.0013\n",
      "Epoch 11/50\n",
      "32/32 - 0s - loss: 0.0011\n",
      "Epoch 12/50\n",
      "32/32 - 0s - loss: 9.6454e-04\n",
      "Epoch 13/50\n",
      "32/32 - 0s - loss: 8.3796e-04\n",
      "Epoch 14/50\n",
      "32/32 - 0s - loss: 7.2980e-04\n",
      "Epoch 15/50\n",
      "32/32 - 0s - loss: 6.3424e-04\n",
      "Epoch 16/50\n",
      "32/32 - 0s - loss: 5.6389e-04\n",
      "Epoch 17/50\n",
      "32/32 - 0s - loss: 4.8524e-04\n",
      "Epoch 18/50\n",
      "32/32 - 0s - loss: 4.2056e-04\n",
      "Epoch 19/50\n",
      "32/32 - 0s - loss: 4.0076e-04\n",
      "Epoch 20/50\n",
      "32/32 - 0s - loss: 3.5246e-04\n",
      "Epoch 21/50\n",
      "32/32 - 0s - loss: 3.3107e-04\n",
      "Epoch 22/50\n",
      "32/32 - 0s - loss: 3.4179e-04\n",
      "Epoch 23/50\n",
      "32/32 - 0s - loss: 2.8626e-04\n",
      "Epoch 24/50\n",
      "32/32 - 0s - loss: 2.8268e-04\n",
      "Epoch 25/50\n",
      "32/32 - 0s - loss: 2.7399e-04\n",
      "Epoch 26/50\n",
      "32/32 - 0s - loss: 3.1601e-04\n",
      "Epoch 27/50\n",
      "32/32 - 0s - loss: 2.6969e-04\n",
      "Epoch 28/50\n",
      "32/32 - 0s - loss: 2.3883e-04\n",
      "Epoch 29/50\n",
      "32/32 - 0s - loss: 2.1402e-04\n",
      "Epoch 30/50\n",
      "32/32 - 0s - loss: 2.0885e-04\n",
      "Epoch 31/50\n",
      "32/32 - 0s - loss: 2.0407e-04\n",
      "Epoch 32/50\n",
      "32/32 - 0s - loss: 1.9472e-04\n",
      "Epoch 33/50\n",
      "32/32 - 0s - loss: 1.7823e-04\n",
      "Epoch 34/50\n",
      "32/32 - 0s - loss: 1.7143e-04\n",
      "Epoch 35/50\n",
      "32/32 - 0s - loss: 1.9670e-04\n",
      "Epoch 36/50\n",
      "32/32 - 0s - loss: 1.6759e-04\n",
      "Epoch 37/50\n",
      "32/32 - 0s - loss: 1.5457e-04\n",
      "Epoch 38/50\n",
      "32/32 - 0s - loss: 1.4448e-04\n",
      "Epoch 39/50\n",
      "32/32 - 0s - loss: 1.5043e-04\n",
      "Epoch 40/50\n",
      "32/32 - 0s - loss: 1.4797e-04\n",
      "Epoch 41/50\n",
      "32/32 - 0s - loss: 1.3527e-04\n",
      "Epoch 42/50\n",
      "32/32 - 0s - loss: 1.2280e-04\n",
      "Epoch 43/50\n",
      "32/32 - 0s - loss: 1.2029e-04\n",
      "Epoch 44/50\n",
      "32/32 - 0s - loss: 1.2053e-04\n",
      "Epoch 45/50\n",
      "32/32 - 0s - loss: 1.0672e-04\n",
      "Epoch 46/50\n",
      "32/32 - 0s - loss: 1.0559e-04\n",
      "Epoch 47/50\n",
      "32/32 - 0s - loss: 1.1265e-04\n",
      "Epoch 48/50\n",
      "32/32 - 0s - loss: 1.1116e-04\n",
      "Epoch 49/50\n",
      "32/32 - 0s - loss: 1.1167e-04\n",
      "Epoch 50/50\n",
      "32/32 - 0s - loss: 1.0714e-04\n",
      "The mean squared error (MSE) for the test data set is: 0.00015703687677159905\n"
     ]
    }
   ],
   "source": [
    "training_data_df = pd.read_csv(\"data/sales_data_training_scaled.csv\")\n",
    "\n",
    "X = training_data_df.drop('total_earnings', axis=1).values\n",
    "Y = training_data_df[['total_earnings']].values\n",
    "\n",
    "# Define the model\n",
    "model = Sequential()\n",
    "# model.add(Dense(50, input_dim=9, activation='relu', name='layer_1'))\n",
    "model.add(Dense(5, input_dim=9, activation='relu', name='layer_1'))\n",
    "model.add(Dense(100, activation='relu', name='layer_2'))\n",
    "model.add(Dense(50, activation='relu', name='layer_3'))\n",
    "model.add(Dense(1, activation='linear', name='output_layer'))\n",
    "model.compile(loss='mean_squared_error', optimizer='adam')\n",
    "\n",
    "# Create a TensorBoard logger\n",
    "from tensorflow.keras.callbacks import TensorBoard\n",
    "\n",
    "# RUN_NAME = 'run 1 with 50 nodes.'\n",
    "RUN_NAME = 'run 2 with 5 nodes.'\n",
    "\n",
    "logger = TensorBoard(\n",
    "    log_dir='logs/{}'.format(RUN_NAME),\n",
    "    histogram_freq=5,\n",
    "    write_graph=True\n",
    ")\n",
    "\n",
    "# Train the model\n",
    "model.fit(\n",
    "    X,\n",
    "    Y,\n",
    "    epochs=50,\n",
    "    shuffle=True,\n",
    "    verbose=2,\n",
    "    callbacks=[logger]\n",
    ")\n",
    "\n",
    "# Load the separate test data set\n",
    "test_data_df = pd.read_csv(\"data/sales_data_test_scaled.csv\")\n",
    "\n",
    "X_test = test_data_df.drop('total_earnings', axis=1).values\n",
    "Y_test = test_data_df[['total_earnings']].values\n",
    "\n",
    "test_error_rate = model.evaluate(X_test, Y_test, verbose=0)\n",
    "print(\"The mean squared error (MSE) for the test data set is: {}\".format(test_error_rate))"
   ]
  }
 ],
 "metadata": {
  "kernelspec": {
   "display_name": "venv-datascience",
   "language": "python",
   "name": "venv-datascience"
  },
  "language_info": {
   "codemirror_mode": {
    "name": "ipython",
    "version": 3
   },
   "file_extension": ".py",
   "mimetype": "text/x-python",
   "name": "python",
   "nbconvert_exporter": "python",
   "pygments_lexer": "ipython3",
   "version": "3.8.5"
  }
 },
 "nbformat": 4,
 "nbformat_minor": 4
}
