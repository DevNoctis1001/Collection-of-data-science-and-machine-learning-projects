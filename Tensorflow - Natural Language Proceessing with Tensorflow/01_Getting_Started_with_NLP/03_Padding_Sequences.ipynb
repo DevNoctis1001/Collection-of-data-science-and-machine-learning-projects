{
  "nbformat": 4,
  "nbformat_minor": 0,
  "metadata": {
    "colab": {
      "name": "03_Padding_Sequences.ipynb",
      "provenance": [],
      "collapsed_sections": []
    },
    "kernelspec": {
      "name": "python3",
      "display_name": "Python 3"
    },
    "accelerator": "GPU"
  },
  "cells": [
    {
      "cell_type": "markdown",
      "metadata": {
        "id": "zTCd7X5YjAYb"
      },
      "source": [
        "# Padding the sequences\n",
        "\n",
        "manipulate sequences to make them of **equal length** using padding."
      ]
    },
    {
      "cell_type": "markdown",
      "metadata": {
        "id": "HI9wpHVHuTzj"
      },
      "source": [
        "## Import the APIs"
      ]
    },
    {
      "cell_type": "code",
      "metadata": {
        "id": "9xsD71YoglK0"
      },
      "source": [
        "##import the required APIs\n",
        "from tensorflow.keras.preprocessing.text import Tokenizer\n",
        "from tensorflow.keras.preprocessing.sequence import pad_sequences"
      ],
      "execution_count": 6,
      "outputs": []
    },
    {
      "cell_type": "markdown",
      "metadata": {
        "id": "pjONQirSuWaE"
      },
      "source": [
        "## Define the training sentences"
      ]
    },
    {
      "cell_type": "code",
      "metadata": {
        "id": "gXAr5EwonA0g"
      },
      "source": [
        "train_sentences = [\n",
        "             'It will rain',\n",
        "             'The weather is cloudy!',\n",
        "             'Will it be raining today?',\n",
        "             'It is a super hot day!',\n",
        "]"
      ],
      "execution_count": 2,
      "outputs": []
    },
    {
      "cell_type": "markdown",
      "metadata": {
        "id": "phR4wbP3uZZk"
      },
      "source": [
        "## Train the tokenizer"
      ]
    },
    {
      "cell_type": "code",
      "metadata": {
        "id": "YFvLTHDGnVGp"
      },
      "source": [
        "##set up the tokenizer again with oov_token\n",
        "tokenizer = Tokenizer(num_words=100, oov_token='<OOV>')\n",
        "\n",
        "##train the tokenizer on training sentences\n",
        "tokenizer.fit_on_texts(train_sentences)\n",
        "\n",
        "##store word index for the words in the sentence\n",
        "word_index = tokenizer.word_index"
      ],
      "execution_count": 4,
      "outputs": []
    },
    {
      "cell_type": "markdown",
      "metadata": {
        "id": "PQKzo3zzudPa"
      },
      "source": [
        "## Create Sequences"
      ]
    },
    {
      "cell_type": "code",
      "metadata": {
        "id": "CDziYxaznZcV"
      },
      "source": [
        "##create sequences\n",
        "sequences = tokenizer.texts_to_sequences(train_sentences)"
      ],
      "execution_count": 5,
      "outputs": []
    },
    {
      "cell_type": "markdown",
      "metadata": {
        "id": "ZPIULnArugjI"
      },
      "source": [
        "## Pad Sequences"
      ]
    },
    {
      "cell_type": "code",
      "metadata": {
        "id": "ZBDcWz0qnghV"
      },
      "source": [
        "##pad sequences\n",
        "padded_seqs = pad_sequences(sequences)"
      ],
      "execution_count": 7,
      "outputs": []
    },
    {
      "cell_type": "code",
      "metadata": {
        "id": "URkBDxQqno5b",
        "colab": {
          "base_uri": "https://localhost:8080/"
        },
        "outputId": "b21f28db-7688-40d9-b3a1-e56f1ee83b7b"
      },
      "source": [
        "print('word_index: ', word_index)\n",
        "print('sequences: ', sequences)\n",
        "print('padded sequences: ', padded_seqs)"
      ],
      "execution_count": 8,
      "outputs": [
        {
          "output_type": "stream",
          "name": "stdout",
          "text": [
            "word_index:  {'<OOV>': 1, 'it': 2, 'will': 3, 'is': 4, 'rain': 5, 'the': 6, 'weather': 7, 'cloudy': 8, 'be': 9, 'raining': 10, 'today': 11, 'a': 12, 'super': 13, 'hot': 14, 'day': 15}\n",
            "sequences:  [[2, 3, 5], [6, 7, 4, 8], [3, 2, 9, 10, 11], [2, 4, 12, 13, 14, 15]]\n",
            "padded sequences:  [[ 0  0  0  2  3  5]\n",
            " [ 0  0  6  7  4  8]\n",
            " [ 0  3  2  9 10 11]\n",
            " [ 2  4 12 13 14 15]]\n"
          ]
        }
      ]
    },
    {
      "cell_type": "markdown",
      "metadata": {
        "id": "NUU6B50VqZaf"
      },
      "source": [
        "## Customising your padded sequence with parameters"
      ]
    },
    {
      "cell_type": "code",
      "metadata": {
        "id": "8y4tTtBqnz6S"
      },
      "source": [
        "##pad sequences with padding type, max length and truncating parameters\n",
        "padded_seqs = pad_sequences(sequences,\n",
        "                            padding='pre',\n",
        "                            maxlen=5,\n",
        "                            truncating='post',\n",
        "                            )"
      ],
      "execution_count": 9,
      "outputs": []
    },
    {
      "cell_type": "code",
      "metadata": {
        "id": "1pMq96a0Vgxc",
        "colab": {
          "base_uri": "https://localhost:8080/"
        },
        "outputId": "ac6244ab-92b7-474b-9846-3389c90cc352"
      },
      "source": [
        "print(padded_seqs)"
      ],
      "execution_count": 10,
      "outputs": [
        {
          "output_type": "stream",
          "name": "stdout",
          "text": [
            "[[ 0  0  2  3  5]\n",
            " [ 0  6  7  4  8]\n",
            " [ 3  2  9 10 11]\n",
            " [ 2  4 12 13 14]]\n"
          ]
        }
      ]
    }
  ]
}