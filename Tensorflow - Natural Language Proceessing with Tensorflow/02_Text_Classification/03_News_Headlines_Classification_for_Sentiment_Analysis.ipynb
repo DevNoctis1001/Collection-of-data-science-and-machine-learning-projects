{
  "nbformat": 4,
  "nbformat_minor": 0,
  "metadata": {
    "colab": {
      "name": "03_News_Headlines_Classification_for_Sentiment_Analysis.ipynb",
      "provenance": [],
      "collapsed_sections": []
    },
    "kernelspec": {
      "name": "python3",
      "display_name": "Python 3"
    }
  },
  "cells": [
    {
      "cell_type": "markdown",
      "metadata": {
        "id": "lTguFckTEDWd"
      },
      "source": [
        "# Classifying News Headlines\n",
        "\n",
        "explains the classification of news headlines as sarcastic and non-sarcastic. We are using the same headlines data as used before.\n"
      ]
    },
    {
      "cell_type": "code",
      "source": [
        "##import the required libraries and APIs\n",
        "import numpy as np\n",
        "\n",
        "import tensorflow as tf\n",
        "from tensorflow.keras.preprocessing.text import Tokenizer\n",
        "from tensorflow.keras.preprocessing.sequence import pad_sequences"
      ],
      "metadata": {
        "id": "eQMGchTHuZK6"
      },
      "execution_count": 2,
      "outputs": []
    },
    {
      "cell_type": "markdown",
      "metadata": {
        "id": "2rhw0j_s5UZ2"
      },
      "source": [
        "## Downloading the News Headlines data"
      ]
    },
    {
      "cell_type": "code",
      "source": [
        "!wget --no-check-certificate\\\n",
        "  https://storage.googleapis.com/wdd-2-node.appspot.com/x1.json\\\n",
        "  -o /tmp/headlines.json"
      ],
      "metadata": {
        "id": "ZCWBO5e1uoSy"
      },
      "execution_count": 3,
      "outputs": []
    },
    {
      "cell_type": "code",
      "source": [
        "##read the the json file using pandas\n",
        "import pandas as pd\n",
        "\n",
        "data = pd.read_json('./x1.json')\n",
        "data.head()"
      ],
      "metadata": {
        "colab": {
          "base_uri": "https://localhost:8080/",
          "height": 206
        },
        "id": "EdCwo8I3u476",
        "outputId": "f89446f4-9abf-4aeb-cea6-04b431cfb93f"
      },
      "execution_count": 4,
      "outputs": [
        {
          "output_type": "execute_result",
          "data": {
            "text/plain": [
              "   is_sarcastic                                           headline  \\\n",
              "0             1  thirtysomething scientists unveil doomsday clo...   \n",
              "1             0  dem rep. totally nails why congress is falling...   \n",
              "2             0  eat your veggies: 9 deliciously different recipes   \n",
              "3             1  inclement weather prevents liar from getting t...   \n",
              "4             1  mother comes pretty close to using word 'strea...   \n",
              "\n",
              "                                        article_link  \n",
              "0  https://www.theonion.com/thirtysomething-scien...  \n",
              "1  https://www.huffingtonpost.com/entry/donna-edw...  \n",
              "2  https://www.huffingtonpost.com/entry/eat-your-...  \n",
              "3  https://local.theonion.com/inclement-weather-p...  \n",
              "4  https://www.theonion.com/mother-comes-pretty-c...  "
            ],
            "text/html": [
              "\n",
              "  <div id=\"df-e58766a0-1560-4b7c-9e6c-b4a238f9df32\">\n",
              "    <div class=\"colab-df-container\">\n",
              "      <div>\n",
              "<style scoped>\n",
              "    .dataframe tbody tr th:only-of-type {\n",
              "        vertical-align: middle;\n",
              "    }\n",
              "\n",
              "    .dataframe tbody tr th {\n",
              "        vertical-align: top;\n",
              "    }\n",
              "\n",
              "    .dataframe thead th {\n",
              "        text-align: right;\n",
              "    }\n",
              "</style>\n",
              "<table border=\"1\" class=\"dataframe\">\n",
              "  <thead>\n",
              "    <tr style=\"text-align: right;\">\n",
              "      <th></th>\n",
              "      <th>is_sarcastic</th>\n",
              "      <th>headline</th>\n",
              "      <th>article_link</th>\n",
              "    </tr>\n",
              "  </thead>\n",
              "  <tbody>\n",
              "    <tr>\n",
              "      <th>0</th>\n",
              "      <td>1</td>\n",
              "      <td>thirtysomething scientists unveil doomsday clo...</td>\n",
              "      <td>https://www.theonion.com/thirtysomething-scien...</td>\n",
              "    </tr>\n",
              "    <tr>\n",
              "      <th>1</th>\n",
              "      <td>0</td>\n",
              "      <td>dem rep. totally nails why congress is falling...</td>\n",
              "      <td>https://www.huffingtonpost.com/entry/donna-edw...</td>\n",
              "    </tr>\n",
              "    <tr>\n",
              "      <th>2</th>\n",
              "      <td>0</td>\n",
              "      <td>eat your veggies: 9 deliciously different recipes</td>\n",
              "      <td>https://www.huffingtonpost.com/entry/eat-your-...</td>\n",
              "    </tr>\n",
              "    <tr>\n",
              "      <th>3</th>\n",
              "      <td>1</td>\n",
              "      <td>inclement weather prevents liar from getting t...</td>\n",
              "      <td>https://local.theonion.com/inclement-weather-p...</td>\n",
              "    </tr>\n",
              "    <tr>\n",
              "      <th>4</th>\n",
              "      <td>1</td>\n",
              "      <td>mother comes pretty close to using word 'strea...</td>\n",
              "      <td>https://www.theonion.com/mother-comes-pretty-c...</td>\n",
              "    </tr>\n",
              "  </tbody>\n",
              "</table>\n",
              "</div>\n",
              "      <button class=\"colab-df-convert\" onclick=\"convertToInteractive('df-e58766a0-1560-4b7c-9e6c-b4a238f9df32')\"\n",
              "              title=\"Convert this dataframe to an interactive table.\"\n",
              "              style=\"display:none;\">\n",
              "        \n",
              "  <svg xmlns=\"http://www.w3.org/2000/svg\" height=\"24px\"viewBox=\"0 0 24 24\"\n",
              "       width=\"24px\">\n",
              "    <path d=\"M0 0h24v24H0V0z\" fill=\"none\"/>\n",
              "    <path d=\"M18.56 5.44l.94 2.06.94-2.06 2.06-.94-2.06-.94-.94-2.06-.94 2.06-2.06.94zm-11 1L8.5 8.5l.94-2.06 2.06-.94-2.06-.94L8.5 2.5l-.94 2.06-2.06.94zm10 10l.94 2.06.94-2.06 2.06-.94-2.06-.94-.94-2.06-.94 2.06-2.06.94z\"/><path d=\"M17.41 7.96l-1.37-1.37c-.4-.4-.92-.59-1.43-.59-.52 0-1.04.2-1.43.59L10.3 9.45l-7.72 7.72c-.78.78-.78 2.05 0 2.83L4 21.41c.39.39.9.59 1.41.59.51 0 1.02-.2 1.41-.59l7.78-7.78 2.81-2.81c.8-.78.8-2.07 0-2.86zM5.41 20L4 18.59l7.72-7.72 1.47 1.35L5.41 20z\"/>\n",
              "  </svg>\n",
              "      </button>\n",
              "      \n",
              "  <style>\n",
              "    .colab-df-container {\n",
              "      display:flex;\n",
              "      flex-wrap:wrap;\n",
              "      gap: 12px;\n",
              "    }\n",
              "\n",
              "    .colab-df-convert {\n",
              "      background-color: #E8F0FE;\n",
              "      border: none;\n",
              "      border-radius: 50%;\n",
              "      cursor: pointer;\n",
              "      display: none;\n",
              "      fill: #1967D2;\n",
              "      height: 32px;\n",
              "      padding: 0 0 0 0;\n",
              "      width: 32px;\n",
              "    }\n",
              "\n",
              "    .colab-df-convert:hover {\n",
              "      background-color: #E2EBFA;\n",
              "      box-shadow: 0px 1px 2px rgba(60, 64, 67, 0.3), 0px 1px 3px 1px rgba(60, 64, 67, 0.15);\n",
              "      fill: #174EA6;\n",
              "    }\n",
              "\n",
              "    [theme=dark] .colab-df-convert {\n",
              "      background-color: #3B4455;\n",
              "      fill: #D2E3FC;\n",
              "    }\n",
              "\n",
              "    [theme=dark] .colab-df-convert:hover {\n",
              "      background-color: #434B5C;\n",
              "      box-shadow: 0px 1px 3px 1px rgba(0, 0, 0, 0.15);\n",
              "      filter: drop-shadow(0px 1px 2px rgba(0, 0, 0, 0.3));\n",
              "      fill: #FFFFFF;\n",
              "    }\n",
              "  </style>\n",
              "\n",
              "      <script>\n",
              "        const buttonEl =\n",
              "          document.querySelector('#df-e58766a0-1560-4b7c-9e6c-b4a238f9df32 button.colab-df-convert');\n",
              "        buttonEl.style.display =\n",
              "          google.colab.kernel.accessAllowed ? 'block' : 'none';\n",
              "\n",
              "        async function convertToInteractive(key) {\n",
              "          const element = document.querySelector('#df-e58766a0-1560-4b7c-9e6c-b4a238f9df32');\n",
              "          const dataTable =\n",
              "            await google.colab.kernel.invokeFunction('convertToInteractive',\n",
              "                                                     [key], {});\n",
              "          if (!dataTable) return;\n",
              "\n",
              "          const docLinkHtml = 'Like what you see? Visit the ' +\n",
              "            '<a target=\"_blank\" href=https://colab.research.google.com/notebooks/data_table.ipynb>data table notebook</a>'\n",
              "            + ' to learn more about interactive tables.';\n",
              "          element.innerHTML = '';\n",
              "          dataTable['output_type'] = 'display_data';\n",
              "          await google.colab.output.renderOutput(dataTable, element);\n",
              "          const docLink = document.createElement('div');\n",
              "          docLink.innerHTML = docLinkHtml;\n",
              "          element.appendChild(docLink);\n",
              "        }\n",
              "      </script>\n",
              "    </div>\n",
              "  </div>\n",
              "  "
            ]
          },
          "metadata": {},
          "execution_count": 4
        }
      ]
    },
    {
      "cell_type": "code",
      "source": [
        "##store headlines and labels in respective lists\n",
        "headlines = list(data['headline']) \n",
        "labels = list(data['is_sarcastic'])"
      ],
      "metadata": {
        "id": "urfwWpHcu_nW"
      },
      "execution_count": 21,
      "outputs": []
    },
    {
      "cell_type": "markdown",
      "metadata": {
        "id": "XrePJ_GANUzv"
      },
      "source": [
        "## Set the parameters"
      ]
    },
    {
      "cell_type": "code",
      "source": [
        "# find the maximum length of the headline\n",
        "max_length = max([len(line) for line in headlines])\n",
        "print(max_length)"
      ],
      "metadata": {
        "colab": {
          "base_uri": "https://localhost:8080/"
        },
        "id": "p82JIWz_vYJg",
        "outputId": "2ec7aea4-1fc2-481f-f5db-1e99aef26d9c"
      },
      "execution_count": 64,
      "outputs": [
        {
          "output_type": "stream",
          "name": "stdout",
          "text": [
            "926\n"
          ]
        }
      ]
    },
    {
      "cell_type": "code",
      "source": [
        "print('total headlines: ', len(headlines))"
      ],
      "metadata": {
        "colab": {
          "base_uri": "https://localhost:8080/"
        },
        "id": "55fAgO_uvtdK",
        "outputId": "907fc81f-2087-4326-a385-e8683162ea6d"
      },
      "execution_count": 65,
      "outputs": [
        {
          "output_type": "stream",
          "name": "stdout",
          "text": [
            "total headlines:  28619\n"
          ]
        }
      ]
    },
    {
      "cell_type": "code",
      "metadata": {
        "id": "SaOVx5_QWZJw"
      },
      "source": [
        "##define tokenizing and padding parameters\n",
        "vocab_size = 10000\n",
        "max_length = max_length\n",
        "embedding_dim = 16\n",
        "trunc_type='post'\n",
        "padding_type='post'\n",
        "oov_token = \"<OOV>\"\n",
        "\n",
        "training_percentage = 0.8\n",
        "training_size = int(len(headlines) * training_percentage)"
      ],
      "execution_count": 77,
      "outputs": []
    },
    {
      "cell_type": "code",
      "source": [
        "print(training_size)"
      ],
      "metadata": {
        "colab": {
          "base_uri": "https://localhost:8080/"
        },
        "id": "7ccfu3fSv-to",
        "outputId": "be84606f-7d58-4c39-9932-413f7f3ba48e"
      },
      "execution_count": 67,
      "outputs": [
        {
          "output_type": "stream",
          "name": "stdout",
          "text": [
            "22895\n"
          ]
        }
      ]
    },
    {
      "cell_type": "markdown",
      "metadata": {
        "id": "TOa0z54JHTtq"
      },
      "source": [
        "## Splitting the training and testing set"
      ]
    },
    {
      "cell_type": "code",
      "source": [
        "# sentences\n",
        "training_sentences = headlines[0: training_size]\n",
        "testing_sentences = headlines[training_size: ]\n",
        "\n",
        "# labels\n",
        "training_labels = labels[0: training_size]\n",
        "testing_labels = labels[training_size:]"
      ],
      "metadata": {
        "id": "yuCUNGZ3wMIO"
      },
      "execution_count": 83,
      "outputs": []
    },
    {
      "cell_type": "markdown",
      "metadata": {
        "id": "2YPzEKN-NnTx"
      },
      "source": [
        "## Preprocess sentences\n"
      ]
    },
    {
      "cell_type": "code",
      "source": [
        "tokenizer = Tokenizer(num_words=vocab_size, oov_token=oov_token)\n",
        "tokenizer.fit_on_texts(training_sentences)\n",
        "word_index = tokenizer.word_index\n",
        "\n",
        "# training sequences and padding\n",
        "training_sequences = tokenizer.texts_to_sequences(training_sentences)\n",
        "training_padded = pad_sequences(training_sequences, maxlen=max_length, padding=padding_type, truncating=trunc_type)\n",
        "\n",
        "# testing sequences and padding\n",
        "testing_sequences = tokenizer.texts_to_sequences(testing_sentences)\n",
        "testing_padded = pad_sequences(testing_sequences, maxlen=max_length)"
      ],
      "metadata": {
        "id": "gyk5s11awnFp"
      },
      "execution_count": 84,
      "outputs": []
    },
    {
      "cell_type": "code",
      "source": [
        "# convert lists into numpy arrays to make it work with TensorFlow 2.x\n",
        "training_padded = np.array(training_padded)\n",
        "testing_padded = np.array(testing_padded)\n",
        "\n",
        "training_labels = np.array(training_labels)\n",
        "testing_labels = np.array(testing_labels)"
      ],
      "metadata": {
        "id": "s_Hw0Pl3xUa5"
      },
      "execution_count": 85,
      "outputs": []
    },
    {
      "cell_type": "markdown",
      "metadata": {
        "id": "ZpBlIwAz7InY"
      },
      "source": [
        "## Define the neural network model with the following layers:\n",
        "1. Embedding layer\n",
        "2. Global Average pooling layer(1D)\n",
        "3. Dense layer with 24 nodes\n",
        "4. Output Dense layer with `sigmoid` activation "
      ]
    },
    {
      "cell_type": "code",
      "source": [
        "from tensorflow.keras.models import Sequential\n",
        "from tensorflow.keras.layers import Embedding, GlobalAveragePooling1D, Dense\n",
        "\n",
        "model = Sequential()\n",
        "model.add(Embedding(vocab_size, embedding_dim, input_length=max_length))\n",
        "model.add(GlobalAveragePooling1D())\n",
        "model.add(Dense(24, activation='relu'))\n",
        "model.add(Dense(1, activation='sigmoid'))\n",
        "\n",
        "# compile the model\n",
        "model.compile(optimizer='adam',\n",
        "              loss='binary_crossentropy',\n",
        "              metrics=['accuracy'])\n",
        "\n",
        "model.summary()"
      ],
      "metadata": {
        "colab": {
          "base_uri": "https://localhost:8080/"
        },
        "id": "a0iRfTG2xj4x",
        "outputId": "bf848ab1-0d36-435e-aa14-23e0384fe9a7"
      },
      "execution_count": 86,
      "outputs": [
        {
          "output_type": "stream",
          "name": "stdout",
          "text": [
            "Model: \"sequential_7\"\n",
            "_________________________________________________________________\n",
            " Layer (type)                Output Shape              Param #   \n",
            "=================================================================\n",
            " embedding_7 (Embedding)     (None, 926, 16)           160000    \n",
            "                                                                 \n",
            " global_average_pooling1d_7   (None, 16)               0         \n",
            " (GlobalAveragePooling1D)                                        \n",
            "                                                                 \n",
            " dense_14 (Dense)            (None, 24)                408       \n",
            "                                                                 \n",
            " dense_15 (Dense)            (None, 1)                 25        \n",
            "                                                                 \n",
            "=================================================================\n",
            "Total params: 160,433\n",
            "Trainable params: 160,433\n",
            "Non-trainable params: 0\n",
            "_________________________________________________________________\n"
          ]
        }
      ]
    },
    {
      "cell_type": "markdown",
      "metadata": {
        "id": "q4Sk9WRYHbRh"
      },
      "source": [
        "## Train the model\n",
        "\n",
        "Save it into history"
      ]
    },
    {
      "cell_type": "code",
      "source": [
        "num_epochs = 30\n",
        "batch_size = 128\n",
        "\n",
        "history = model.fit(training_padded, training_labels,\n",
        "                    validation_data=(testing_padded, testing_labels),\n",
        "                    epochs=num_epochs,\n",
        "                    verbose=2)"
      ],
      "metadata": {
        "colab": {
          "base_uri": "https://localhost:8080/"
        },
        "id": "v6YLl5MzyHbK",
        "outputId": "fa9c34df-0a20-4c80-cfbd-d06ad8dc8262"
      },
      "execution_count": 88,
      "outputs": [
        {
          "output_type": "stream",
          "name": "stdout",
          "text": [
            "Epoch 1/30\n",
            "716/716 - 6s - loss: 0.3437 - accuracy: 0.8561 - val_loss: 0.3686 - val_accuracy: 0.8398 - 6s/epoch - 8ms/step\n",
            "Epoch 2/30\n",
            "716/716 - 5s - loss: 0.3211 - accuracy: 0.8696 - val_loss: 0.3569 - val_accuracy: 0.8484 - 5s/epoch - 7ms/step\n",
            "Epoch 3/30\n",
            "716/716 - 5s - loss: 0.3026 - accuracy: 0.8759 - val_loss: 0.3551 - val_accuracy: 0.8438 - 5s/epoch - 6ms/step\n",
            "Epoch 4/30\n",
            "716/716 - 5s - loss: 0.2824 - accuracy: 0.8884 - val_loss: 0.3478 - val_accuracy: 0.8468 - 5s/epoch - 6ms/step\n",
            "Epoch 5/30\n",
            "716/716 - 5s - loss: 0.2682 - accuracy: 0.8938 - val_loss: 0.3389 - val_accuracy: 0.8552 - 5s/epoch - 7ms/step\n",
            "Epoch 6/30\n",
            "716/716 - 5s - loss: 0.2562 - accuracy: 0.8986 - val_loss: 0.3472 - val_accuracy: 0.8466 - 5s/epoch - 6ms/step\n",
            "Epoch 7/30\n",
            "716/716 - 5s - loss: 0.2446 - accuracy: 0.9042 - val_loss: 0.3450 - val_accuracy: 0.8473 - 5s/epoch - 7ms/step\n",
            "Epoch 8/30\n",
            "716/716 - 5s - loss: 0.2345 - accuracy: 0.9090 - val_loss: 0.3408 - val_accuracy: 0.8503 - 5s/epoch - 7ms/step\n",
            "Epoch 9/30\n",
            "716/716 - 5s - loss: 0.2226 - accuracy: 0.9141 - val_loss: 0.3348 - val_accuracy: 0.8588 - 5s/epoch - 7ms/step\n",
            "Epoch 10/30\n",
            "716/716 - 5s - loss: 0.2129 - accuracy: 0.9185 - val_loss: 0.3393 - val_accuracy: 0.8527 - 5s/epoch - 7ms/step\n",
            "Epoch 11/30\n",
            "716/716 - 6s - loss: 0.2076 - accuracy: 0.9208 - val_loss: 0.3435 - val_accuracy: 0.8510 - 6s/epoch - 8ms/step\n",
            "Epoch 12/30\n",
            "716/716 - 5s - loss: 0.1992 - accuracy: 0.9219 - val_loss: 0.3388 - val_accuracy: 0.8578 - 5s/epoch - 7ms/step\n",
            "Epoch 13/30\n",
            "716/716 - 6s - loss: 0.1930 - accuracy: 0.9258 - val_loss: 0.3431 - val_accuracy: 0.8573 - 6s/epoch - 8ms/step\n",
            "Epoch 14/30\n",
            "716/716 - 5s - loss: 0.1832 - accuracy: 0.9310 - val_loss: 0.3549 - val_accuracy: 0.8496 - 5s/epoch - 8ms/step\n",
            "Epoch 15/30\n",
            "716/716 - 5s - loss: 0.1782 - accuracy: 0.9330 - val_loss: 0.3548 - val_accuracy: 0.8526 - 5s/epoch - 7ms/step\n",
            "Epoch 16/30\n",
            "716/716 - 5s - loss: 0.1713 - accuracy: 0.9359 - val_loss: 0.3621 - val_accuracy: 0.8501 - 5s/epoch - 7ms/step\n",
            "Epoch 17/30\n",
            "716/716 - 5s - loss: 0.1656 - accuracy: 0.9371 - val_loss: 0.3637 - val_accuracy: 0.8524 - 5s/epoch - 7ms/step\n",
            "Epoch 18/30\n",
            "716/716 - 5s - loss: 0.1582 - accuracy: 0.9415 - val_loss: 0.3679 - val_accuracy: 0.8524 - 5s/epoch - 7ms/step\n",
            "Epoch 19/30\n",
            "716/716 - 5s - loss: 0.1557 - accuracy: 0.9430 - val_loss: 0.3664 - val_accuracy: 0.8538 - 5s/epoch - 8ms/step\n",
            "Epoch 20/30\n",
            "716/716 - 5s - loss: 0.1509 - accuracy: 0.9450 - val_loss: 0.3725 - val_accuracy: 0.8515 - 5s/epoch - 7ms/step\n",
            "Epoch 21/30\n",
            "716/716 - 5s - loss: 0.1450 - accuracy: 0.9474 - val_loss: 0.3779 - val_accuracy: 0.8536 - 5s/epoch - 7ms/step\n",
            "Epoch 22/30\n",
            "716/716 - 5s - loss: 0.1423 - accuracy: 0.9471 - val_loss: 0.3862 - val_accuracy: 0.8515 - 5s/epoch - 7ms/step\n",
            "Epoch 23/30\n",
            "716/716 - 5s - loss: 0.1387 - accuracy: 0.9488 - val_loss: 0.4751 - val_accuracy: 0.8251 - 5s/epoch - 7ms/step\n",
            "Epoch 24/30\n",
            "716/716 - 5s - loss: 0.1370 - accuracy: 0.9496 - val_loss: 0.4002 - val_accuracy: 0.8492 - 5s/epoch - 7ms/step\n",
            "Epoch 25/30\n",
            "716/716 - 5s - loss: 0.1326 - accuracy: 0.9519 - val_loss: 0.4038 - val_accuracy: 0.8484 - 5s/epoch - 7ms/step\n",
            "Epoch 26/30\n",
            "716/716 - 5s - loss: 0.1276 - accuracy: 0.9541 - val_loss: 0.4774 - val_accuracy: 0.8269 - 5s/epoch - 7ms/step\n",
            "Epoch 27/30\n",
            "716/716 - 5s - loss: 0.1234 - accuracy: 0.9558 - val_loss: 0.4179 - val_accuracy: 0.8442 - 5s/epoch - 7ms/step\n",
            "Epoch 28/30\n",
            "716/716 - 5s - loss: 0.1202 - accuracy: 0.9568 - val_loss: 0.4595 - val_accuracy: 0.8379 - 5s/epoch - 7ms/step\n",
            "Epoch 29/30\n",
            "716/716 - 5s - loss: 0.1173 - accuracy: 0.9574 - val_loss: 0.4320 - val_accuracy: 0.8450 - 5s/epoch - 7ms/step\n",
            "Epoch 30/30\n",
            "716/716 - 5s - loss: 0.1180 - accuracy: 0.9579 - val_loss: 0.4395 - val_accuracy: 0.8438 - 5s/epoch - 7ms/step\n"
          ]
        }
      ]
    },
    {
      "cell_type": "markdown",
      "metadata": {
        "id": "35BigeicGmRo"
      },
      "source": [
        "## Visualise the train & validation accuracy and loss"
      ]
    },
    {
      "cell_type": "code",
      "metadata": {
        "colab": {
          "base_uri": "https://localhost:8080/",
          "height": 541
        },
        "id": "iMQAQr-uehOD",
        "outputId": "7e095d51-c4b6-44ab-925b-cb449382646a"
      },
      "source": [
        "import matplotlib.pyplot as plt\n",
        "\n",
        "##plot the scores from history\n",
        "def plot_graphs(history, string):\n",
        "  plt.plot(history.history[string])\n",
        "  plt.plot(history.history['val_'+string])\n",
        "  plt.legend([string, 'val_'+string])\n",
        "  plt.xlabel(\"Epochs\")\n",
        "  plt.ylabel(string)\n",
        "  plt.show()\n",
        "  \n",
        "plot_graphs(history, \"accuracy\")\n",
        "plot_graphs(history, \"loss\")"
      ],
      "execution_count": 89,
      "outputs": [
        {
          "output_type": "display_data",
          "data": {
            "text/plain": [
              "<Figure size 432x288 with 1 Axes>"
            ],
            "image/png": "[encoded data removed]"
          },
          "metadata": {
            "needs_background": "light"
          }
        },
        {
          "output_type": "display_data",
          "data": {
            "text/plain": [
              "<Figure size 432x288 with 1 Axes>"
            ],
            "image/png": "[encoded data removed]"
          },
          "metadata": {
            "needs_background": "light"
          }
        }
      ]
    },
    {
      "cell_type": "markdown",
      "metadata": {
        "id": "FLuGAkBaGzaP"
      },
      "source": [
        "## Classifying a new sentence"
      ]
    },
    {
      "cell_type": "code",
      "source": [
        "sentence = [\"the baby boy fears spiders in the garden might be real\", \"game of thrones season finale showing this sunday night\"]\n",
        "\n",
        "# prepare the sentences into sequences\n",
        "sequences = tokenizer.texts_to_sequences(sentence)\n",
        "padded_sequences = pad_sequences(sequences, maxlen=max_length, padding=padding_type, truncating=trunc_type)\n",
        "\n",
        "predictions = model.predict(padded_sequences)\n",
        "print(predictions)"
      ],
      "metadata": {
        "colab": {
          "base_uri": "https://localhost:8080/"
        },
        "id": "TgBiLjE63RM_",
        "outputId": "d13aaa4c-1a44-4aff-83c3-90ba32806941"
      },
      "execution_count": 93,
      "outputs": [
        {
          "output_type": "stream",
          "name": "stdout",
          "text": [
            "[[0.00073606]\n",
            " [0.3567923 ]]\n"
          ]
        }
      ]
    }
  ]
}