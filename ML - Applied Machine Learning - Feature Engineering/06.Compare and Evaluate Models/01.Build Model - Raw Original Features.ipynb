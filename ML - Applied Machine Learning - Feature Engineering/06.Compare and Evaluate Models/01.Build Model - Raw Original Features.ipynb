{
 "cells": [
  {
   "cell_type": "markdown",
   "metadata": {},
   "source": [
    "## Build Models To Compare Features: Raw Original Features"
   ]
  },
  {
   "cell_type": "markdown",
   "metadata": {},
   "source": [
    "### Read In Data"
   ]
  },
  {
   "cell_type": "code",
   "execution_count": 4,
   "metadata": {},
   "outputs": [
    {
     "data": {
      "text/html": [
       "<div>\n",
       "<style scoped>\n",
       "    .dataframe tbody tr th:only-of-type {\n",
       "        vertical-align: middle;\n",
       "    }\n",
       "\n",
       "    .dataframe tbody tr th {\n",
       "        vertical-align: top;\n",
       "    }\n",
       "\n",
       "    .dataframe thead th {\n",
       "        text-align: right;\n",
       "    }\n",
       "</style>\n",
       "<table border=\"1\" class=\"dataframe\">\n",
       "  <thead>\n",
       "    <tr style=\"text-align: right;\">\n",
       "      <th></th>\n",
       "      <th>Pclass</th>\n",
       "      <th>Sex</th>\n",
       "      <th>Age_clean</th>\n",
       "      <th>SibSp</th>\n",
       "      <th>Parch</th>\n",
       "      <th>Fare</th>\n",
       "      <th>Cabin</th>\n",
       "      <th>Embarked</th>\n",
       "    </tr>\n",
       "  </thead>\n",
       "  <tbody>\n",
       "    <tr>\n",
       "      <th>0</th>\n",
       "      <td>2</td>\n",
       "      <td>1</td>\n",
       "      <td>62.0</td>\n",
       "      <td>0</td>\n",
       "      <td>0</td>\n",
       "      <td>10.5000</td>\n",
       "      <td>147</td>\n",
       "      <td>2</td>\n",
       "    </tr>\n",
       "    <tr>\n",
       "      <th>1</th>\n",
       "      <td>3</td>\n",
       "      <td>1</td>\n",
       "      <td>8.0</td>\n",
       "      <td>4</td>\n",
       "      <td>1</td>\n",
       "      <td>29.1250</td>\n",
       "      <td>147</td>\n",
       "      <td>1</td>\n",
       "    </tr>\n",
       "    <tr>\n",
       "      <th>2</th>\n",
       "      <td>3</td>\n",
       "      <td>1</td>\n",
       "      <td>32.0</td>\n",
       "      <td>0</td>\n",
       "      <td>0</td>\n",
       "      <td>56.4958</td>\n",
       "      <td>147</td>\n",
       "      <td>2</td>\n",
       "    </tr>\n",
       "    <tr>\n",
       "      <th>3</th>\n",
       "      <td>3</td>\n",
       "      <td>0</td>\n",
       "      <td>20.0</td>\n",
       "      <td>1</td>\n",
       "      <td>0</td>\n",
       "      <td>9.8250</td>\n",
       "      <td>147</td>\n",
       "      <td>2</td>\n",
       "    </tr>\n",
       "    <tr>\n",
       "      <th>4</th>\n",
       "      <td>2</td>\n",
       "      <td>0</td>\n",
       "      <td>28.0</td>\n",
       "      <td>0</td>\n",
       "      <td>0</td>\n",
       "      <td>13.0000</td>\n",
       "      <td>147</td>\n",
       "      <td>2</td>\n",
       "    </tr>\n",
       "  </tbody>\n",
       "</table>\n",
       "</div>"
      ],
      "text/plain": [
       "   Pclass  Sex  Age_clean  SibSp  Parch     Fare  Cabin  Embarked\n",
       "0       2    1       62.0      0      0  10.5000    147         2\n",
       "1       3    1        8.0      4      1  29.1250    147         1\n",
       "2       3    1       32.0      0      0  56.4958    147         2\n",
       "3       3    0       20.0      1      0   9.8250    147         2\n",
       "4       2    0       28.0      0      0  13.0000    147         2"
      ]
     },
     "execution_count": 4,
     "metadata": {},
     "output_type": "execute_result"
    }
   ],
   "source": [
    "# Read in data\n",
    "import joblib\n",
    "import numpy as np\n",
    "import pandas as pd\n",
    "import matplotlib.pyplot as plt\n",
    "import seaborn as sns\n",
    "from sklearn.ensemble import RandomForestClassifier\n",
    "from sklearn.model_selection import GridSearchCV\n",
    "\n",
    "%matplotlib inline\n",
    "\n",
    "train_features = pd.read_csv('../Data/Final_Data/train_features_raw.csv')\n",
    "train_labels = pd.read_csv('../Data/Final_Data/train_labels.csv')\n",
    "\n",
    "train_features.head()"
   ]
  },
  {
   "cell_type": "markdown",
   "metadata": {},
   "source": [
    "---------------"
   ]
  },
  {
   "cell_type": "code",
   "execution_count": 11,
   "metadata": {},
   "outputs": [
    {
     "data": {
      "text/html": [
       "<div>\n",
       "<style scoped>\n",
       "    .dataframe tbody tr th:only-of-type {\n",
       "        vertical-align: middle;\n",
       "    }\n",
       "\n",
       "    .dataframe tbody tr th {\n",
       "        vertical-align: top;\n",
       "    }\n",
       "\n",
       "    .dataframe thead th {\n",
       "        text-align: right;\n",
       "    }\n",
       "</style>\n",
       "<table border=\"1\" class=\"dataframe\">\n",
       "  <thead>\n",
       "    <tr style=\"text-align: right;\">\n",
       "      <th></th>\n",
       "      <th>Pclass</th>\n",
       "      <th>Sex</th>\n",
       "      <th>Age_clean</th>\n",
       "      <th>SibSp</th>\n",
       "      <th>Parch</th>\n",
       "      <th>Fare</th>\n",
       "      <th>Cabin</th>\n",
       "      <th>Embarked</th>\n",
       "    </tr>\n",
       "  </thead>\n",
       "  <tbody>\n",
       "    <tr>\n",
       "      <th>Pclass</th>\n",
       "      <td>1.000000</td>\n",
       "      <td>0.144365</td>\n",
       "      <td>-0.308317</td>\n",
       "      <td>0.100618</td>\n",
       "      <td>0.026554</td>\n",
       "      <td>-0.521679</td>\n",
       "      <td>0.705147</td>\n",
       "      <td>0.131683</td>\n",
       "    </tr>\n",
       "    <tr>\n",
       "      <th>Sex</th>\n",
       "      <td>0.144365</td>\n",
       "      <td>1.000000</td>\n",
       "      <td>0.112797</td>\n",
       "      <td>-0.094233</td>\n",
       "      <td>-0.263976</td>\n",
       "      <td>-0.172773</td>\n",
       "      <td>0.132782</td>\n",
       "      <td>0.114308</td>\n",
       "    </tr>\n",
       "    <tr>\n",
       "      <th>Age_clean</th>\n",
       "      <td>-0.308317</td>\n",
       "      <td>0.112797</td>\n",
       "      <td>1.000000</td>\n",
       "      <td>-0.230905</td>\n",
       "      <td>-0.186328</td>\n",
       "      <td>0.080736</td>\n",
       "      <td>-0.234379</td>\n",
       "      <td>0.034879</td>\n",
       "    </tr>\n",
       "    <tr>\n",
       "      <th>SibSp</th>\n",
       "      <td>0.100618</td>\n",
       "      <td>-0.094233</td>\n",
       "      <td>-0.230905</td>\n",
       "      <td>1.000000</td>\n",
       "      <td>0.456639</td>\n",
       "      <td>0.152229</td>\n",
       "      <td>0.065242</td>\n",
       "      <td>0.086624</td>\n",
       "    </tr>\n",
       "    <tr>\n",
       "      <th>Parch</th>\n",
       "      <td>0.026554</td>\n",
       "      <td>-0.263976</td>\n",
       "      <td>-0.186328</td>\n",
       "      <td>0.456639</td>\n",
       "      <td>1.000000</td>\n",
       "      <td>0.215607</td>\n",
       "      <td>-0.009244</td>\n",
       "      <td>0.088276</td>\n",
       "    </tr>\n",
       "    <tr>\n",
       "      <th>Fare</th>\n",
       "      <td>-0.521679</td>\n",
       "      <td>-0.172773</td>\n",
       "      <td>0.080736</td>\n",
       "      <td>0.152229</td>\n",
       "      <td>0.215607</td>\n",
       "      <td>1.000000</td>\n",
       "      <td>-0.479924</td>\n",
       "      <td>-0.180282</td>\n",
       "    </tr>\n",
       "    <tr>\n",
       "      <th>Cabin</th>\n",
       "      <td>0.705147</td>\n",
       "      <td>0.132782</td>\n",
       "      <td>-0.234379</td>\n",
       "      <td>0.065242</td>\n",
       "      <td>-0.009244</td>\n",
       "      <td>-0.479924</td>\n",
       "      <td>1.000000</td>\n",
       "      <td>0.171695</td>\n",
       "    </tr>\n",
       "    <tr>\n",
       "      <th>Embarked</th>\n",
       "      <td>0.131683</td>\n",
       "      <td>0.114308</td>\n",
       "      <td>0.034879</td>\n",
       "      <td>0.086624</td>\n",
       "      <td>0.088276</td>\n",
       "      <td>-0.180282</td>\n",
       "      <td>0.171695</td>\n",
       "      <td>1.000000</td>\n",
       "    </tr>\n",
       "  </tbody>\n",
       "</table>\n",
       "</div>"
      ],
      "text/plain": [
       "             Pclass       Sex  Age_clean     SibSp     Parch      Fare  \\\n",
       "Pclass     1.000000  0.144365  -0.308317  0.100618  0.026554 -0.521679   \n",
       "Sex        0.144365  1.000000   0.112797 -0.094233 -0.263976 -0.172773   \n",
       "Age_clean -0.308317  0.112797   1.000000 -0.230905 -0.186328  0.080736   \n",
       "SibSp      0.100618 -0.094233  -0.230905  1.000000  0.456639  0.152229   \n",
       "Parch      0.026554 -0.263976  -0.186328  0.456639  1.000000  0.215607   \n",
       "Fare      -0.521679 -0.172773   0.080736  0.152229  0.215607  1.000000   \n",
       "Cabin      0.705147  0.132782  -0.234379  0.065242 -0.009244 -0.479924   \n",
       "Embarked   0.131683  0.114308   0.034879  0.086624  0.088276 -0.180282   \n",
       "\n",
       "              Cabin  Embarked  \n",
       "Pclass     0.705147  0.131683  \n",
       "Sex        0.132782  0.114308  \n",
       "Age_clean -0.234379  0.034879  \n",
       "SibSp      0.065242  0.086624  \n",
       "Parch     -0.009244  0.088276  \n",
       "Fare      -0.479924 -0.180282  \n",
       "Cabin      1.000000  0.171695  \n",
       "Embarked   0.171695  1.000000  "
      ]
     },
     "execution_count": 11,
     "metadata": {},
     "output_type": "execute_result"
    }
   ],
   "source": [
    "train_features.corr()"
   ]
  },
  {
   "cell_type": "code",
   "execution_count": 15,
   "metadata": {},
   "outputs": [
    {
     "data": {
      "text/plain": [
       "array([[ 1.        ,  0.14436488, -0.30831651,  0.10061799,  0.02655439,\n",
       "        -0.52167856,  0.70514694,  0.13168293],\n",
       "       [ 0.        ,  1.        ,  0.11279719, -0.09423319, -0.26397574,\n",
       "        -0.17277304,  0.13278164,  0.11430842],\n",
       "       [ 0.        ,  0.        ,  1.        , -0.23090485, -0.18632796,\n",
       "         0.08073582, -0.2343785 ,  0.03487908],\n",
       "       [ 0.        ,  0.        ,  0.        ,  1.        ,  0.45663939,\n",
       "         0.15222918,  0.06524201,  0.08662378],\n",
       "       [ 0.        ,  0.        ,  0.        ,  0.        ,  1.        ,\n",
       "         0.21560728, -0.00924411,  0.08827571],\n",
       "       [ 0.        ,  0.        ,  0.        ,  0.        ,  0.        ,\n",
       "         1.        , -0.47992374, -0.18028202],\n",
       "       [ 0.        ,  0.        ,  0.        ,  0.        ,  0.        ,\n",
       "         0.        ,  1.        ,  0.17169453],\n",
       "       [ 0.        ,  0.        ,  0.        ,  0.        ,  0.        ,\n",
       "         0.        ,  0.        ,  1.        ]])"
      ]
     },
     "execution_count": 15,
     "metadata": {},
     "output_type": "execute_result"
    }
   ],
   "source": [
    "np.triu(train_features.corr())"
   ]
  },
  {
   "cell_type": "code",
   "execution_count": 6,
   "metadata": {},
   "outputs": [
    {
     "data": {
      "text/plain": [
       "<matplotlib.axes._subplots.AxesSubplot at 0x75beabf400>"
      ]
     },
     "execution_count": 6,
     "metadata": {},
     "output_type": "execute_result"
    },
    {
     "data": {
      "image/png": "[encoded data removed]",
      "text/plain": [
       "<Figure size 432x288 with 2 Axes>"
      ]
     },
     "metadata": {
      "needs_background": "light"
     },
     "output_type": "display_data"
    }
   ],
   "source": [
    "# Generate correlation matrix heat map\n",
    "matrix = np.triu(train_features.corr())\n",
    "sns.heatmap(train_features.corr(), annot=True, fmt='.1f', vmin=-1, vmax=1, center=0, cmap='coolwarm', mask=matrix)"
   ]
  },
  {
   "cell_type": "markdown",
   "metadata": {},
   "source": [
    "### GridSearchCV"
   ]
  },
  {
   "cell_type": "markdown",
   "metadata": {},
   "source": [
    "- it will pull the first item in the list for each parameter setting. (n_estimators: 8, max_depth: 2)\n",
    "- then it will run cross validation and it will store the average accuracy and standard deviation of accuracy across the five folds.\n",
    "- then it will move on to the next hyperparameter combination and do the same.\n",
    "- so by the end, each hypermeter combination will have been run through cross validation to give us pretty clean read on the best hyperparameter settings\n",
    "- <strong>NOTE: GridsSearchCV will automaticallly fit 100% of training date on best estimator, once it is selected.</strong> During cross validation, it will use 80% data for training though."
   ]
  },
  {
   "cell_type": "code",
   "execution_count": 7,
   "metadata": {},
   "outputs": [],
   "source": [
    "def print_results(results):\n",
    "    print('BEST PARAMS: {}\\n'.format(results.best_params_))\n",
    "    \n",
    "    means = results.cv_results_['mean_test_score'] \n",
    "    stds = results.cv_results_['std_test_score']\n",
    "    \n",
    "    for mean, std, params in zip(means, stds, results.cv_results_['params']):\n",
    "        print('{} (+/- {}) for {}'.format(round(mean, 3), round(std * 2, 3), params))"
   ]
  },
  {
   "cell_type": "code",
   "execution_count": 8,
   "metadata": {},
   "outputs": [
    {
     "name": "stdout",
     "output_type": "stream",
     "text": [
      "BEST PARAMS: {'max_depth': 8, 'n_estimators': 256}\n",
      "\n",
      "0.777 (+/- 0.101) for {'max_depth': 2, 'n_estimators': 8}\n",
      "0.779 (+/- 0.118) for {'max_depth': 2, 'n_estimators': 16}\n",
      "0.779 (+/- 0.087) for {'max_depth': 2, 'n_estimators': 32}\n",
      "0.794 (+/- 0.103) for {'max_depth': 2, 'n_estimators': 64}\n",
      "0.783 (+/- 0.116) for {'max_depth': 2, 'n_estimators': 128}\n",
      "0.8 (+/- 0.11) for {'max_depth': 2, 'n_estimators': 256}\n",
      "0.794 (+/- 0.108) for {'max_depth': 2, 'n_estimators': 512}\n",
      "0.809 (+/- 0.102) for {'max_depth': 4, 'n_estimators': 8}\n",
      "0.82 (+/- 0.124) for {'max_depth': 4, 'n_estimators': 16}\n",
      "0.807 (+/- 0.098) for {'max_depth': 4, 'n_estimators': 32}\n",
      "0.826 (+/- 0.108) for {'max_depth': 4, 'n_estimators': 64}\n",
      "0.817 (+/- 0.119) for {'max_depth': 4, 'n_estimators': 128}\n",
      "0.824 (+/- 0.102) for {'max_depth': 4, 'n_estimators': 256}\n",
      "0.82 (+/- 0.114) for {'max_depth': 4, 'n_estimators': 512}\n",
      "0.826 (+/- 0.077) for {'max_depth': 8, 'n_estimators': 8}\n",
      "0.828 (+/- 0.048) for {'max_depth': 8, 'n_estimators': 16}\n",
      "0.828 (+/- 0.085) for {'max_depth': 8, 'n_estimators': 32}\n",
      "0.83 (+/- 0.063) for {'max_depth': 8, 'n_estimators': 64}\n",
      "0.839 (+/- 0.069) for {'max_depth': 8, 'n_estimators': 128}\n",
      "0.845 (+/- 0.064) for {'max_depth': 8, 'n_estimators': 256}\n",
      "0.837 (+/- 0.067) for {'max_depth': 8, 'n_estimators': 512}\n",
      "0.809 (+/- 0.042) for {'max_depth': 16, 'n_estimators': 8}\n",
      "0.82 (+/- 0.046) for {'max_depth': 16, 'n_estimators': 16}\n",
      "0.824 (+/- 0.068) for {'max_depth': 16, 'n_estimators': 32}\n",
      "0.82 (+/- 0.032) for {'max_depth': 16, 'n_estimators': 64}\n",
      "0.828 (+/- 0.053) for {'max_depth': 16, 'n_estimators': 128}\n",
      "0.824 (+/- 0.047) for {'max_depth': 16, 'n_estimators': 256}\n",
      "0.82 (+/- 0.05) for {'max_depth': 16, 'n_estimators': 512}\n",
      "0.82 (+/- 0.05) for {'max_depth': 32, 'n_estimators': 8}\n",
      "0.815 (+/- 0.037) for {'max_depth': 32, 'n_estimators': 16}\n",
      "0.809 (+/- 0.044) for {'max_depth': 32, 'n_estimators': 32}\n",
      "0.815 (+/- 0.062) for {'max_depth': 32, 'n_estimators': 64}\n",
      "0.822 (+/- 0.056) for {'max_depth': 32, 'n_estimators': 128}\n",
      "0.832 (+/- 0.048) for {'max_depth': 32, 'n_estimators': 256}\n",
      "0.822 (+/- 0.055) for {'max_depth': 32, 'n_estimators': 512}\n",
      "0.811 (+/- 0.054) for {'max_depth': None, 'n_estimators': 8}\n",
      "0.817 (+/- 0.085) for {'max_depth': None, 'n_estimators': 16}\n",
      "0.822 (+/- 0.063) for {'max_depth': None, 'n_estimators': 32}\n",
      "0.817 (+/- 0.041) for {'max_depth': None, 'n_estimators': 64}\n",
      "0.828 (+/- 0.054) for {'max_depth': None, 'n_estimators': 128}\n",
      "0.826 (+/- 0.043) for {'max_depth': None, 'n_estimators': 256}\n",
      "0.824 (+/- 0.048) for {'max_depth': None, 'n_estimators': 512}\n"
     ]
    }
   ],
   "source": [
    "# Conduct search for best params while running cross-validation (GridSearchCV)\n",
    "# default setting for parameters: n_estimators: 100, max_depth : None\n",
    "\n",
    "rf = RandomForestClassifier()\n",
    "\n",
    "parameters = {\n",
    "    'n_estimators': [2**i for i in range(3, 10)],\n",
    "    'max_depth': [2, 4, 8, 16, 32, None]\n",
    "}\n",
    "\n",
    "cv = GridSearchCV(rf, parameters, cv=5)\n",
    "cv.fit(train_features, train_labels.values.ravel())  #sklearn only accept array, so we need to convert labels from pandas column to array\n",
    "\n",
    "print_results(cv)"
   ]
  },
  {
   "cell_type": "markdown",
   "metadata": {},
   "source": [
    "### Feature Importance\n",
    "- RandomForest can compute a feature important score for each feature based on how important it was in the fitting of the model.\n",
    "- As GridSearchCV stores the best model as an attirbute, we can pass it in"
   ]
  },
  {
   "cell_type": "code",
   "execution_count": 10,
   "metadata": {},
   "outputs": [
    {
     "data": {
      "image/png": "[encoded data removed]",
      "text/plain": [
       "<Figure size 432x288 with 1 Axes>"
      ]
     },
     "metadata": {
      "needs_background": "light"
     },
     "output_type": "display_data"
    }
   ],
   "source": [
    "# Generate feature importance plot\n",
    "feat_imp = cv.best_estimator_.feature_importances_\n",
    "indices = np.argsort(feat_imp)\n",
    "plt.yticks(range(len(indices)), [train_features.columns[i] for i in indices])\n",
    "plt.barh(range(len(indices)), feat_imp[indices], color='r', align='center')\n",
    "plt.show()"
   ]
  },
  {
   "cell_type": "markdown",
   "metadata": {},
   "source": [
    "- Based on the chart above, it seems that Sex is the most important, which is not suprising.\n",
    "- Age_clean is more important than Pclass. In our prior analysis, it looked like age is not a strong predictor of whether a passenger would survive. While it looked like Pclass was a very strong predictor. However Passenger class is very highly correlated with both whether somebody had a cabin and fare they paid. So it might be a good example of model getting a little confused between which of these features is really driving the relationship with the target variable."
   ]
  },
  {
   "cell_type": "markdown",
   "metadata": {},
   "source": [
    "----------"
   ]
  },
  {
   "cell_type": "markdown",
   "metadata": {},
   "source": [
    "### Write Out Pickled Model"
   ]
  },
  {
   "cell_type": "code",
   "execution_count": 17,
   "metadata": {},
   "outputs": [
    {
     "data": {
      "text/plain": [
       "['../Pickled_Models/mdl_raw_original_features.pkl']"
      ]
     },
     "execution_count": 17,
     "metadata": {},
     "output_type": "execute_result"
    }
   ],
   "source": [
    "# Write out the model fit on the whole training set\n",
    "joblib.dump(cv.best_estimator_, '../Pickled_Models/mdl_raw_original_features.pkl')"
   ]
  },
  {
   "cell_type": "code",
   "execution_count": null,
   "metadata": {},
   "outputs": [],
   "source": []
  }
 ],
 "metadata": {
  "kernelspec": {
   "display_name": "Python 3",
   "language": "python",
   "name": "python3"
  },
  "language_info": {
   "codemirror_mode": {
    "name": "ipython",
    "version": 3
   },
   "file_extension": ".py",
   "mimetype": "text/x-python",
   "name": "python",
   "nbconvert_exporter": "python",
   "pygments_lexer": "ipython3",
   "version": "3.8.3"
  }
 },
 "nbformat": 4,
 "nbformat_minor": 2
}
