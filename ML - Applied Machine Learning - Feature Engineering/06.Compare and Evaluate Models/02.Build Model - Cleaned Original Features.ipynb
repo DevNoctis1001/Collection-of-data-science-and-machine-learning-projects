{
 "cells": [
  {
   "cell_type": "markdown",
   "metadata": {},
   "source": [
    "## Build Models To Compare Features: Cleaned Original Features"
   ]
  },
  {
   "cell_type": "markdown",
   "metadata": {},
   "source": [
    "### Read In Data"
   ]
  },
  {
   "cell_type": "code",
   "execution_count": 3,
   "metadata": {},
   "outputs": [
    {
     "data": {
      "text/html": [
       "<div>\n",
       "<style scoped>\n",
       "    .dataframe tbody tr th:only-of-type {\n",
       "        vertical-align: middle;\n",
       "    }\n",
       "\n",
       "    .dataframe tbody tr th {\n",
       "        vertical-align: top;\n",
       "    }\n",
       "\n",
       "    .dataframe thead th {\n",
       "        text-align: right;\n",
       "    }\n",
       "</style>\n",
       "<table border=\"1\" class=\"dataframe\">\n",
       "  <thead>\n",
       "    <tr style=\"text-align: right;\">\n",
       "      <th></th>\n",
       "      <th>Pclass</th>\n",
       "      <th>Sex</th>\n",
       "      <th>Age_clean</th>\n",
       "      <th>SibSp</th>\n",
       "      <th>Parch</th>\n",
       "      <th>Fare_clean</th>\n",
       "      <th>Cabin</th>\n",
       "      <th>Embarked_clean</th>\n",
       "    </tr>\n",
       "  </thead>\n",
       "  <tbody>\n",
       "    <tr>\n",
       "      <th>0</th>\n",
       "      <td>2</td>\n",
       "      <td>1</td>\n",
       "      <td>62.0</td>\n",
       "      <td>0</td>\n",
       "      <td>0</td>\n",
       "      <td>10.5000</td>\n",
       "      <td>147</td>\n",
       "      <td>3</td>\n",
       "    </tr>\n",
       "    <tr>\n",
       "      <th>1</th>\n",
       "      <td>3</td>\n",
       "      <td>1</td>\n",
       "      <td>8.0</td>\n",
       "      <td>4</td>\n",
       "      <td>1</td>\n",
       "      <td>29.1250</td>\n",
       "      <td>147</td>\n",
       "      <td>2</td>\n",
       "    </tr>\n",
       "    <tr>\n",
       "      <th>2</th>\n",
       "      <td>3</td>\n",
       "      <td>1</td>\n",
       "      <td>32.0</td>\n",
       "      <td>0</td>\n",
       "      <td>0</td>\n",
       "      <td>56.4958</td>\n",
       "      <td>147</td>\n",
       "      <td>3</td>\n",
       "    </tr>\n",
       "    <tr>\n",
       "      <th>3</th>\n",
       "      <td>3</td>\n",
       "      <td>0</td>\n",
       "      <td>20.0</td>\n",
       "      <td>1</td>\n",
       "      <td>0</td>\n",
       "      <td>9.8250</td>\n",
       "      <td>147</td>\n",
       "      <td>3</td>\n",
       "    </tr>\n",
       "    <tr>\n",
       "      <th>4</th>\n",
       "      <td>2</td>\n",
       "      <td>0</td>\n",
       "      <td>28.0</td>\n",
       "      <td>0</td>\n",
       "      <td>0</td>\n",
       "      <td>13.0000</td>\n",
       "      <td>147</td>\n",
       "      <td>3</td>\n",
       "    </tr>\n",
       "  </tbody>\n",
       "</table>\n",
       "</div>"
      ],
      "text/plain": [
       "   Pclass  Sex  Age_clean  SibSp  Parch  Fare_clean  Cabin  Embarked_clean\n",
       "0       2    1       62.0      0      0     10.5000    147               3\n",
       "1       3    1        8.0      4      1     29.1250    147               2\n",
       "2       3    1       32.0      0      0     56.4958    147               3\n",
       "3       3    0       20.0      1      0      9.8250    147               3\n",
       "4       2    0       28.0      0      0     13.0000    147               3"
      ]
     },
     "execution_count": 3,
     "metadata": {},
     "output_type": "execute_result"
    }
   ],
   "source": [
    "# Read in data\n",
    "import joblib\n",
    "import numpy as np\n",
    "import pandas as pd\n",
    "import matplotlib.pyplot as plt\n",
    "import seaborn as sns\n",
    "from sklearn.ensemble import RandomForestClassifier\n",
    "from sklearn.model_selection import GridSearchCV\n",
    "\n",
    "%matplotlib inline\n",
    "\n",
    "train_features = pd.read_csv('../Data/Final_Data/train_features_original.csv')\n",
    "train_labels = pd.read_csv('../Data/Final_Data/train_labels.csv')\n",
    "\n",
    "train_features.head()"
   ]
  },
  {
   "cell_type": "code",
   "execution_count": 4,
   "metadata": {},
   "outputs": [
    {
     "data": {
      "text/plain": [
       "<matplotlib.axes._subplots.AxesSubplot at 0xafe32bb3a0>"
      ]
     },
     "execution_count": 4,
     "metadata": {},
     "output_type": "execute_result"
    },
    {
     "data": {
      "image/png": "[encoded data removed]",
      "text/plain": [
       "<Figure size 432x288 with 2 Axes>"
      ]
     },
     "metadata": {
      "needs_background": "light"
     },
     "output_type": "display_data"
    }
   ],
   "source": [
    "# Generate correlation matrix heat map\n",
    "matrix = np.triu(train_features.corr())\n",
    "sns.heatmap(train_features.corr(), annot=True, fmt='.1f', vmin=-1, vmax=1, center=0, cmap='coolwarm', mask=matrix)"
   ]
  },
  {
   "cell_type": "markdown",
   "metadata": {},
   "source": [
    "### GridSearchCV"
   ]
  },
  {
   "cell_type": "code",
   "execution_count": 8,
   "metadata": {},
   "outputs": [],
   "source": [
    "def print_results(results):\n",
    "    print('BEST PARAMS: {}\\n'.format(results.best_params_))\n",
    "    \n",
    "    mean = results.cv_results_['mean_test_score']\n",
    "    stds = results.cv_results_['std_test_score']\n",
    "    for mean, std, params in zip(mean, stds, results.cv_results_['params']):\n",
    "        print('{} (+/- {}) for {}'.format(mean, std, params))"
   ]
  },
  {
   "cell_type": "code",
   "execution_count": 9,
   "metadata": {},
   "outputs": [
    {
     "name": "stdout",
     "output_type": "stream",
     "text": [
      "BEST PARAMS: {'max_depth': 8, 'n_estimators': 512}\n",
      "\n",
      "0.7959795450537824 (+/- 0.056858584742651576) for {'max_depth': 2, 'n_estimators': 8}\n",
      "0.7809557397284429 (+/- 0.05637698326210465) for {'max_depth': 2, 'n_estimators': 16}\n",
      "0.7865808499382825 (+/- 0.04083661707580465) for {'max_depth': 2, 'n_estimators': 32}\n",
      "0.786563216363957 (+/- 0.04612163757091486) for {'max_depth': 2, 'n_estimators': 64}\n",
      "0.7847469582084289 (+/- 0.05221883453635779) for {'max_depth': 2, 'n_estimators': 128}\n",
      "0.7978134367836361 (+/- 0.05220283799606172) for {'max_depth': 2, 'n_estimators': 256}\n",
      "0.7978134367836359 (+/- 0.05084669210793709) for {'max_depth': 2, 'n_estimators': 512}\n",
      "0.8165402927173337 (+/- 0.03449887930275888) for {'max_depth': 4, 'n_estimators': 8}\n",
      "0.816540292717334 (+/- 0.059715375022262575) for {'max_depth': 4, 'n_estimators': 16}\n",
      "0.8221654029271732 (+/- 0.04960917118576847) for {'max_depth': 4, 'n_estimators': 32}\n",
      "0.8053429730206313 (+/- 0.053715884875142936) for {'max_depth': 4, 'n_estimators': 64}\n",
      "0.8240345618056779 (+/- 0.052824914823688236) for {'max_depth': 4, 'n_estimators': 128}\n",
      "0.8165579262916592 (+/- 0.05698852586632625) for {'max_depth': 4, 'n_estimators': 256}\n",
      "0.8184270851701638 (+/- 0.05351978922358563) for {'max_depth': 4, 'n_estimators': 512}\n",
      "0.823999294657027 (+/- 0.017851797292100638) for {'max_depth': 8, 'n_estimators': 8}\n",
      "0.839040733556692 (+/- 0.03682596270078491) for {'max_depth': 8, 'n_estimators': 16}\n",
      "0.8259037206841826 (+/- 0.038351285083307575) for {'max_depth': 8, 'n_estimators': 32}\n",
      "0.8277905131370128 (+/- 0.03345003065017455) for {'max_depth': 8, 'n_estimators': 64}\n",
      "0.8334156233468523 (+/- 0.030609345526535017) for {'max_depth': 8, 'n_estimators': 128}\n",
      "0.833397989772527 (+/- 0.030659385691589693) for {'max_depth': 8, 'n_estimators': 256}\n",
      "0.8446482101922059 (+/- 0.02582171900923639) for {'max_depth': 8, 'n_estimators': 512}\n",
      "0.8090283900546641 (+/- 0.020648908005897384) for {'max_depth': 16, 'n_estimators': 8}\n",
      "0.8090812907776407 (+/- 0.027625547919992062) for {'max_depth': 16, 'n_estimators': 16}\n",
      "0.8259213542585082 (+/- 0.02895654120909299) for {'max_depth': 16, 'n_estimators': 32}\n",
      "0.8184270851701638 (+/- 0.02506720355679129) for {'max_depth': 16, 'n_estimators': 64}\n",
      "0.8202962440486686 (+/- 0.0211584081924206) for {'max_depth': 16, 'n_estimators': 128}\n",
      "0.8278081467113385 (+/- 0.027688642463608585) for {'max_depth': 16, 'n_estimators': 256}\n",
      "0.8202962440486686 (+/- 0.024947264036197108) for {'max_depth': 16, 'n_estimators': 512}\n",
      "0.8146711338388292 (+/- 0.026980405967178087) for {'max_depth': 32, 'n_estimators': 8}\n",
      "0.8222359372244753 (+/- 0.03928530831630777) for {'max_depth': 32, 'n_estimators': 16}\n",
      "0.8222006700758244 (+/- 0.03029546602045972) for {'max_depth': 32, 'n_estimators': 32}\n",
      "0.8259213542585082 (+/- 0.023642776608225877) for {'max_depth': 32, 'n_estimators': 64}\n",
      "0.8146887674131547 (+/- 0.02879279218826088) for {'max_depth': 32, 'n_estimators': 128}\n",
      "0.8240521953800035 (+/- 0.026283468070019078) for {'max_depth': 32, 'n_estimators': 256}\n",
      "0.8165579262916592 (+/- 0.026405510672190335) for {'max_depth': 32, 'n_estimators': 512}\n",
      "0.8109151825074943 (+/- 0.021227161715677206) for {'max_depth': None, 'n_estimators': 8}\n",
      "0.8258684535355316 (+/- 0.026666605618132222) for {'max_depth': None, 'n_estimators': 16}\n",
      "0.8109151825074943 (+/- 0.017630717455049814) for {'max_depth': None, 'n_estimators': 32}\n",
      "0.8128196085346499 (+/- 0.030883834935244197) for {'max_depth': None, 'n_estimators': 64}\n",
      "0.8202962440486686 (+/- 0.02884425900724968) for {'max_depth': None, 'n_estimators': 128}\n",
      "0.8259213542585082 (+/- 0.02643352194222682) for {'max_depth': None, 'n_estimators': 256}\n",
      "0.8203315111973197 (+/- 0.0310784631445614) for {'max_depth': None, 'n_estimators': 512}\n"
     ]
    }
   ],
   "source": [
    "# Conduct search for best params while running cross-validation (GridSearchCV)\n",
    "rf = RandomForestClassifier()\n",
    "parameters = {\n",
    "    'n_estimators': [2**i for i in range(3, 10)],\n",
    "    'max_depth': [2, 4, 8, 16, 32, None],\n",
    "}\n",
    "\n",
    "cv = GridSearchCV(rf, parameters, cv=5)\n",
    "cv.fit(train_features, train_labels.values.ravel())\n",
    "\n",
    "print_results(cv)"
   ]
  },
  {
   "cell_type": "markdown",
   "metadata": {},
   "source": [
    "### Feature Importance"
   ]
  },
  {
   "cell_type": "code",
   "execution_count": 11,
   "metadata": {},
   "outputs": [
    {
     "data": {
      "image/png": "[encoded data removed]",
      "text/plain": [
       "<Figure size 432x288 with 1 Axes>"
      ]
     },
     "metadata": {
      "needs_background": "light"
     },
     "output_type": "display_data"
    }
   ],
   "source": [
    "# Generate feature importance plot\n",
    "feat_imp = cv.best_estimator_.feature_importances_\n",
    "indices = np.argsort(feat_imp)\n",
    "plt.yticks(range(len(indices)), [train_features.columns[i] for i in indices])\n",
    "plt.barh(range(len(indices)), feat_imp[indices], color='r', align='center')\n",
    "plt.show()"
   ]
  },
  {
   "cell_type": "markdown",
   "metadata": {},
   "source": [
    "### Write Out Pickled Model"
   ]
  },
  {
   "cell_type": "code",
   "execution_count": 12,
   "metadata": {},
   "outputs": [
    {
     "data": {
      "text/plain": [
       "['../Pickled_Models/mdl_cleaned_original_features.pkl']"
      ]
     },
     "execution_count": 12,
     "metadata": {},
     "output_type": "execute_result"
    }
   ],
   "source": [
    "# Write out the model fit on the whole training set\n",
    "joblib.dump(cv.best_estimator_, '../Pickled_Models/mdl_cleaned_original_features.pkl')"
   ]
  },
  {
   "cell_type": "code",
   "execution_count": null,
   "metadata": {},
   "outputs": [],
   "source": []
  }
 ],
 "metadata": {
  "kernelspec": {
   "display_name": "Python 3",
   "language": "python",
   "name": "python3"
  },
  "language_info": {
   "codemirror_mode": {
    "name": "ipython",
    "version": 3
   },
   "file_extension": ".py",
   "mimetype": "text/x-python",
   "name": "python",
   "nbconvert_exporter": "python",
   "pygments_lexer": "ipython3",
   "version": "3.8.3"
  }
 },
 "nbformat": 4,
 "nbformat_minor": 2
}
