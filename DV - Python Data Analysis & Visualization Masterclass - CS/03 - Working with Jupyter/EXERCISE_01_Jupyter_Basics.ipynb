{
 "cells": [
  {
   "cell_type": "markdown",
   "id": "14e5959b",
   "metadata": {},
   "source": [
    "# Jupyter Notebook Basics Exercise"
   ]
  },
  {
   "cell_type": "markdown",
   "id": "ebb0f72a",
   "metadata": {},
   "source": [
    "## Part 1"
   ]
  },
  {
   "cell_type": "markdown",
   "id": "7bcbf26c",
   "metadata": {},
   "source": [
    "Run the following cell:"
   ]
  },
  {
   "cell_type": "code",
   "execution_count": 1,
   "id": "7385ed60",
   "metadata": {},
   "outputs": [
    {
     "data": {
      "text/plain": [
       "'Congrats! You did it!!'"
      ]
     },
     "execution_count": 1,
     "metadata": {},
     "output_type": "execute_result"
    }
   ],
   "source": [
    "u = \"Cnrt!Yuddi!\"\n",
    "l = 'ogas o i t!'\n",
    "\n",
    "\"\".join(i + j for i, j in zip(u, l))"
   ]
  },
  {
   "cell_type": "markdown",
   "id": "fbe460c6",
   "metadata": {},
   "source": [
    "## Part 2"
   ]
  },
  {
   "cell_type": "code",
   "execution_count": 5,
   "id": "8f1871c8",
   "metadata": {},
   "outputs": [
    {
     "data": {
      "text/plain": [
       "'Wow, pty is the most amazing person on this planet'"
      ]
     },
     "execution_count": 5,
     "metadata": {},
     "output_type": "execute_result"
    }
   ],
   "source": [
    "# Replace <YOURNAME> with your name and then run this cell\n",
    "\"Wow, pty is the most amazing person on this planet\""
   ]
  },
  {
   "cell_type": "markdown",
   "id": "a3773759",
   "metadata": {},
   "source": [
    "## Part 3\n",
    "Create 3 new empty cells directly below this cell."
   ]
  },
  {
   "cell_type": "code",
   "execution_count": null,
   "id": "fe454011",
   "metadata": {},
   "outputs": [],
   "source": []
  },
  {
   "cell_type": "code",
   "execution_count": null,
   "id": "0252e033",
   "metadata": {},
   "outputs": [],
   "source": []
  },
  {
   "cell_type": "code",
   "execution_count": null,
   "id": "9e7195ce",
   "metadata": {},
   "outputs": [],
   "source": []
  },
  {
   "cell_type": "markdown",
   "id": "afcf76e0",
   "metadata": {},
   "source": [
    "## Part 4"
   ]
  },
  {
   "cell_type": "code",
   "execution_count": 6,
   "id": "490549b0",
   "metadata": {},
   "outputs": [
    {
     "name": "stdout",
     "output_type": "stream",
     "text": [
      "chicken nuggetz\n"
     ]
    }
   ],
   "source": [
    "#Run this cell!\n",
    "print(\"chicken nuggetz\")"
   ]
  },
  {
   "cell_type": "markdown",
   "id": "8a69f782",
   "metadata": {},
   "source": [
    "## Part 5\n",
    "These cells are out of order! Swap their order and then run them both!"
   ]
  },
  {
   "cell_type": "code",
   "execution_count": 7,
   "id": "0aa084c4",
   "metadata": {},
   "outputs": [],
   "source": [
    "number = 69"
   ]
  },
  {
   "cell_type": "code",
   "execution_count": 8,
   "id": "438045ed",
   "metadata": {},
   "outputs": [
    {
     "data": {
      "text/plain": [
       "4761"
      ]
     },
     "execution_count": 8,
     "metadata": {},
     "output_type": "execute_result"
    }
   ],
   "source": [
    "number * number "
   ]
  },
  {
   "cell_type": "markdown",
   "id": "42feeb96",
   "metadata": {},
   "source": [
    "## Part 6"
   ]
  },
  {
   "cell_type": "code",
   "execution_count": 9,
   "id": "66629b25",
   "metadata": {},
   "outputs": [
    {
     "data": {
      "text/plain": [
       "'supercalifragilisticexpialidocioussupercalifragilisticexpialidocioussupercalifragilisticexpialidocioussupercalifragilisticexpialidocioussupercalifragilisticexpialidocioussupercalifragilisticexpialidocioussupercalifragilisticexpialidocioussupercalifragilisticexpialidocioussupercalifragilisticexpialidocioussupercalifragilisticexpialidocioussupercalifragilisticexpialidocioussupercalifragilisticexpialidocioussupercalifragilisticexpialidocioussupercalifragilisticexpialidocioussupercalifragilisticexpialidocioussupercalifragilisticexpialidocioussupercalifragilisticexpialidocioussupercalifragilisticexpialidocioussupercalifragilisticexpialidocioussupercalifragilisticexpialidocious'"
      ]
     },
     "execution_count": 9,
     "metadata": {},
     "output_type": "execute_result"
    }
   ],
   "source": [
    "### Make this cell a python cell and run it (it's markdown right now)\n",
    "\n",
    "\"supercalifragilisticexpialidocious\" * 20"
   ]
  },
  {
   "cell_type": "markdown",
   "id": "b1eda499",
   "metadata": {},
   "source": [
    "## Part 7"
   ]
  },
  {
   "cell_type": "code",
   "execution_count": 10,
   "id": "3465f27f",
   "metadata": {},
   "outputs": [
    {
     "name": "stdout",
     "output_type": "stream",
     "text": [
      "9\n",
      "8\n",
      "7\n",
      "6\n",
      "5\n",
      "4\n",
      "3\n",
      "2\n",
      "1\n",
      "0\n"
     ]
    }
   ],
   "source": [
    "# This cell is supposed to print the integers from 9 down to 1 (but it doesnt!)\n",
    "# 1. Run this cell which results in an INFINITE LOOP\n",
    "# 2. Interrupt the infinite loop\n",
    "# 3. Fix the code so that it prints 9,8,7,6,5,4,3,2,1 and run the cell again!\n",
    "\n",
    "num = 10\n",
    "\n",
    "while num > 0:\n",
    "    num-=1\n",
    "    print(num)"
   ]
  },
  {
   "cell_type": "markdown",
   "id": "f1332298",
   "metadata": {},
   "source": [
    "## Part 8\n",
    "Shutdown this notebook"
   ]
  }
 ],
 "metadata": {
  "kernelspec": {
   "display_name": "Python 3 (ipykernel)",
   "language": "python",
   "name": "python3"
  },
  "language_info": {
   "codemirror_mode": {
    "name": "ipython",
    "version": 3
   },
   "file_extension": ".py",
   "mimetype": "text/x-python",
   "name": "python",
   "nbconvert_exporter": "python",
   "pygments_lexer": "ipython3",
   "version": "3.7.13"
  }
 },
 "nbformat": 4,
 "nbformat_minor": 5
}
