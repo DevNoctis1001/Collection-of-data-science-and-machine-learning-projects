{
 "cells": [
  {
   "cell_type": "markdown",
   "id": "15ae4150",
   "metadata": {},
   "source": [
    "# 3.Data Cleaning"
   ]
  },
  {
   "cell_type": "markdown",
   "id": "20588d2a",
   "metadata": {},
   "source": [
    "# Handling missing values"
   ]
  },
  {
   "cell_type": "markdown",
   "id": "7eede6e1",
   "metadata": {},
   "source": [
    "## Challenge 3.1) Checking for missing values"
   ]
  },
  {
   "cell_type": "markdown",
   "id": "17364a78",
   "metadata": {},
   "source": [
    "received the raw data file and need to clean up before proceeding.\n",
    "\n",
    "+ Indentify the columns with missing values\n",
    "+ Determine total number of missing values\n",
    "+ Treat the missing values (drop row, fill with values)"
   ]
  },
  {
   "cell_type": "code",
   "execution_count": 110,
   "id": "bf144198",
   "metadata": {},
   "outputs": [],
   "source": [
    "import pandas as pd"
   ]
  },
  {
   "cell_type": "code",
   "execution_count": 111,
   "id": "7b06e8b2",
   "metadata": {},
   "outputs": [],
   "source": [
    "df = pd.read_csv('data/landslides.csv')"
   ]
  },
  {
   "cell_type": "code",
   "execution_count": 112,
   "id": "939cb507",
   "metadata": {},
   "outputs": [
    {
     "data": {
      "text/html": [
       "<div>\n",
       "<style scoped>\n",
       "    .dataframe tbody tr th:only-of-type {\n",
       "        vertical-align: middle;\n",
       "    }\n",
       "\n",
       "    .dataframe tbody tr th {\n",
       "        vertical-align: top;\n",
       "    }\n",
       "\n",
       "    .dataframe thead th {\n",
       "        text-align: right;\n",
       "    }\n",
       "</style>\n",
       "<table border=\"1\" class=\"dataframe\">\n",
       "  <thead>\n",
       "    <tr style=\"text-align: right;\">\n",
       "      <th></th>\n",
       "      <th>id</th>\n",
       "      <th>date</th>\n",
       "      <th>time</th>\n",
       "      <th>country_name</th>\n",
       "      <th>state/province</th>\n",
       "      <th>population</th>\n",
       "      <th>landslide_type</th>\n",
       "      <th>trigger</th>\n",
       "      <th>fatalities</th>\n",
       "    </tr>\n",
       "  </thead>\n",
       "  <tbody>\n",
       "    <tr>\n",
       "      <th>0</th>\n",
       "      <td>34</td>\n",
       "      <td>3/2/07</td>\n",
       "      <td>Night</td>\n",
       "      <td>United States</td>\n",
       "      <td>Virginia</td>\n",
       "      <td>16000</td>\n",
       "      <td>Landslide</td>\n",
       "      <td>Rain</td>\n",
       "      <td>NaN</td>\n",
       "    </tr>\n",
       "    <tr>\n",
       "      <th>1</th>\n",
       "      <td>42</td>\n",
       "      <td>3/22/07</td>\n",
       "      <td>NaN</td>\n",
       "      <td>United States</td>\n",
       "      <td>Ohio</td>\n",
       "      <td>17288</td>\n",
       "      <td>Landslide</td>\n",
       "      <td>Rain</td>\n",
       "      <td>NaN</td>\n",
       "    </tr>\n",
       "  </tbody>\n",
       "</table>\n",
       "</div>"
      ],
      "text/plain": [
       "   id     date   time   country_name state/province  population  \\\n",
       "0  34   3/2/07  Night  United States       Virginia       16000   \n",
       "1  42  3/22/07    NaN  United States           Ohio       17288   \n",
       "\n",
       "  landslide_type trigger  fatalities  \n",
       "0      Landslide    Rain         NaN  \n",
       "1      Landslide    Rain         NaN  "
      ]
     },
     "execution_count": 112,
     "metadata": {},
     "output_type": "execute_result"
    }
   ],
   "source": [
    "df.head(2)"
   ]
  },
  {
   "cell_type": "code",
   "execution_count": 113,
   "id": "d1d3be2c",
   "metadata": {},
   "outputs": [
    {
     "name": "stdout",
     "output_type": "stream",
     "text": [
      "<class 'pandas.core.frame.DataFrame'>\n",
      "RangeIndex: 1693 entries, 0 to 1692\n",
      "Data columns (total 9 columns):\n",
      " #   Column          Non-Null Count  Dtype  \n",
      "---  ------          --------------  -----  \n",
      " 0   id              1693 non-null   int64  \n",
      " 1   date            1690 non-null   object \n",
      " 2   time            629 non-null    object \n",
      " 3   country_name    1693 non-null   object \n",
      " 4   state/province  1692 non-null   object \n",
      " 5   population      1693 non-null   int64  \n",
      " 6   landslide_type  1692 non-null   object \n",
      " 7   trigger         1691 non-null   object \n",
      " 8   fatalities      1446 non-null   float64\n",
      "dtypes: float64(1), int64(2), object(6)\n",
      "memory usage: 119.2+ KB\n"
     ]
    }
   ],
   "source": [
    "df.info()"
   ]
  },
  {
   "cell_type": "code",
   "execution_count": 114,
   "id": "6d66ccdf",
   "metadata": {},
   "outputs": [
    {
     "data": {
      "text/plain": [
       "id                   0\n",
       "date                 3\n",
       "time              1064\n",
       "country_name         0\n",
       "state/province       1\n",
       "population           0\n",
       "landslide_type       1\n",
       "trigger              2\n",
       "fatalities         247\n",
       "dtype: int64"
      ]
     },
     "execution_count": 114,
     "metadata": {},
     "output_type": "execute_result"
    }
   ],
   "source": [
    "df.isnull().sum()"
   ]
  },
  {
   "cell_type": "code",
   "execution_count": 115,
   "id": "c55bfa47",
   "metadata": {},
   "outputs": [
    {
     "data": {
      "text/plain": [
       "id                   0\n",
       "date                 3\n",
       "time              1064\n",
       "country_name         0\n",
       "state/province       1\n",
       "population           0\n",
       "landslide_type       1\n",
       "trigger              2\n",
       "fatalities         247\n",
       "dtype: int64"
      ]
     },
     "execution_count": 115,
     "metadata": {},
     "output_type": "execute_result"
    }
   ],
   "source": [
    "df.isna().sum()"
   ]
  },
  {
   "cell_type": "markdown",
   "id": "5a6c4555",
   "metadata": {},
   "source": [
    "---------"
   ]
  },
  {
   "cell_type": "markdown",
   "id": "b39ffd86",
   "metadata": {},
   "source": [
    "### Date Column\n",
    "+ drop rows"
   ]
  },
  {
   "cell_type": "code",
   "execution_count": 116,
   "id": "ee834377",
   "metadata": {},
   "outputs": [
    {
     "data": {
      "text/html": [
       "<div>\n",
       "<style scoped>\n",
       "    .dataframe tbody tr th:only-of-type {\n",
       "        vertical-align: middle;\n",
       "    }\n",
       "\n",
       "    .dataframe tbody tr th {\n",
       "        vertical-align: top;\n",
       "    }\n",
       "\n",
       "    .dataframe thead th {\n",
       "        text-align: right;\n",
       "    }\n",
       "</style>\n",
       "<table border=\"1\" class=\"dataframe\">\n",
       "  <thead>\n",
       "    <tr style=\"text-align: right;\">\n",
       "      <th></th>\n",
       "      <th>id</th>\n",
       "      <th>date</th>\n",
       "      <th>time</th>\n",
       "      <th>country_name</th>\n",
       "      <th>state/province</th>\n",
       "      <th>population</th>\n",
       "      <th>landslide_type</th>\n",
       "      <th>trigger</th>\n",
       "      <th>fatalities</th>\n",
       "    </tr>\n",
       "  </thead>\n",
       "  <tbody>\n",
       "    <tr>\n",
       "      <th>0</th>\n",
       "      <td>34</td>\n",
       "      <td>3/2/07</td>\n",
       "      <td>Night</td>\n",
       "      <td>United States</td>\n",
       "      <td>Virginia</td>\n",
       "      <td>16000</td>\n",
       "      <td>Landslide</td>\n",
       "      <td>Rain</td>\n",
       "      <td>NaN</td>\n",
       "    </tr>\n",
       "    <tr>\n",
       "      <th>1</th>\n",
       "      <td>42</td>\n",
       "      <td>3/22/07</td>\n",
       "      <td>NaN</td>\n",
       "      <td>United States</td>\n",
       "      <td>Ohio</td>\n",
       "      <td>17288</td>\n",
       "      <td>Landslide</td>\n",
       "      <td>Rain</td>\n",
       "      <td>NaN</td>\n",
       "    </tr>\n",
       "    <tr>\n",
       "      <th>2</th>\n",
       "      <td>56</td>\n",
       "      <td>4/6/07</td>\n",
       "      <td>NaN</td>\n",
       "      <td>United States</td>\n",
       "      <td>Pennsylvania</td>\n",
       "      <td>15930</td>\n",
       "      <td>Landslide</td>\n",
       "      <td>Rain</td>\n",
       "      <td>NaN</td>\n",
       "    </tr>\n",
       "    <tr>\n",
       "      <th>3</th>\n",
       "      <td>59</td>\n",
       "      <td>4/14/07</td>\n",
       "      <td>NaN</td>\n",
       "      <td>Canada</td>\n",
       "      <td>Quebec</td>\n",
       "      <td>42786</td>\n",
       "      <td>Riverbank collapse</td>\n",
       "      <td>Rain</td>\n",
       "      <td>NaN</td>\n",
       "    </tr>\n",
       "    <tr>\n",
       "      <th>4</th>\n",
       "      <td>61</td>\n",
       "      <td>4/15/07</td>\n",
       "      <td>NaN</td>\n",
       "      <td>United States</td>\n",
       "      <td>Kentucky</td>\n",
       "      <td>6903</td>\n",
       "      <td>Landslide</td>\n",
       "      <td>Downpour</td>\n",
       "      <td>0.0</td>\n",
       "    </tr>\n",
       "    <tr>\n",
       "      <th>...</th>\n",
       "      <td>...</td>\n",
       "      <td>...</td>\n",
       "      <td>...</td>\n",
       "      <td>...</td>\n",
       "      <td>...</td>\n",
       "      <td>...</td>\n",
       "      <td>...</td>\n",
       "      <td>...</td>\n",
       "      <td>...</td>\n",
       "    </tr>\n",
       "    <tr>\n",
       "      <th>1688</th>\n",
       "      <td>7535</td>\n",
       "      <td>12/7/15</td>\n",
       "      <td>NaN</td>\n",
       "      <td>United States</td>\n",
       "      <td>North Carolina</td>\n",
       "      <td>1646</td>\n",
       "      <td>Rockfall</td>\n",
       "      <td>NaN</td>\n",
       "      <td>0.0</td>\n",
       "    </tr>\n",
       "    <tr>\n",
       "      <th>1689</th>\n",
       "      <td>7537</td>\n",
       "      <td>2/22/16</td>\n",
       "      <td>0:00</td>\n",
       "      <td>United States</td>\n",
       "      <td>West Virginia</td>\n",
       "      <td>51400</td>\n",
       "      <td>Mudslide</td>\n",
       "      <td>Unknown</td>\n",
       "      <td>0.0</td>\n",
       "    </tr>\n",
       "    <tr>\n",
       "      <th>1690</th>\n",
       "      <td>7539</td>\n",
       "      <td>2/23/16</td>\n",
       "      <td>NaN</td>\n",
       "      <td>United States</td>\n",
       "      <td>West Virginia</td>\n",
       "      <td>2406</td>\n",
       "      <td>Landslide</td>\n",
       "      <td>Rain</td>\n",
       "      <td>0.0</td>\n",
       "    </tr>\n",
       "    <tr>\n",
       "      <th>1691</th>\n",
       "      <td>7540</td>\n",
       "      <td>2/26/16</td>\n",
       "      <td>21:06</td>\n",
       "      <td>United States</td>\n",
       "      <td>West Virginia</td>\n",
       "      <td>1048</td>\n",
       "      <td>Rockfall</td>\n",
       "      <td>Unknown</td>\n",
       "      <td>0.0</td>\n",
       "    </tr>\n",
       "    <tr>\n",
       "      <th>1692</th>\n",
       "      <td>7541</td>\n",
       "      <td>3/2/16</td>\n",
       "      <td>8:00</td>\n",
       "      <td>United States</td>\n",
       "      <td>Vermont</td>\n",
       "      <td>2066</td>\n",
       "      <td>Rockfall</td>\n",
       "      <td>Unknown</td>\n",
       "      <td>0.0</td>\n",
       "    </tr>\n",
       "  </tbody>\n",
       "</table>\n",
       "<p>1690 rows × 9 columns</p>\n",
       "</div>"
      ],
      "text/plain": [
       "        id     date   time   country_name  state/province  population  \\\n",
       "0       34   3/2/07  Night  United States        Virginia       16000   \n",
       "1       42  3/22/07    NaN  United States            Ohio       17288   \n",
       "2       56   4/6/07    NaN  United States    Pennsylvania       15930   \n",
       "3       59  4/14/07    NaN         Canada          Quebec       42786   \n",
       "4       61  4/15/07    NaN  United States        Kentucky        6903   \n",
       "...    ...      ...    ...            ...             ...         ...   \n",
       "1688  7535  12/7/15    NaN  United States  North Carolina        1646   \n",
       "1689  7537  2/22/16   0:00  United States   West Virginia       51400   \n",
       "1690  7539  2/23/16    NaN  United States   West Virginia        2406   \n",
       "1691  7540  2/26/16  21:06  United States   West Virginia        1048   \n",
       "1692  7541   3/2/16   8:00  United States         Vermont        2066   \n",
       "\n",
       "          landslide_type   trigger  fatalities  \n",
       "0              Landslide      Rain         NaN  \n",
       "1              Landslide      Rain         NaN  \n",
       "2              Landslide      Rain         NaN  \n",
       "3     Riverbank collapse      Rain         NaN  \n",
       "4              Landslide  Downpour         0.0  \n",
       "...                  ...       ...         ...  \n",
       "1688            Rockfall       NaN         0.0  \n",
       "1689            Mudslide   Unknown         0.0  \n",
       "1690           Landslide      Rain         0.0  \n",
       "1691            Rockfall   Unknown         0.0  \n",
       "1692            Rockfall   Unknown         0.0  \n",
       "\n",
       "[1690 rows x 9 columns]"
      ]
     },
     "execution_count": 116,
     "metadata": {},
     "output_type": "execute_result"
    }
   ],
   "source": [
    "# First Approach\n",
    "# ~(tilde) means Opposite, so meaning NOT NULL VALUES\n",
    "\n",
    "df[~df['date'].isnull()]"
   ]
  },
  {
   "cell_type": "code",
   "execution_count": 117,
   "id": "6635c9fa",
   "metadata": {},
   "outputs": [],
   "source": [
    "df = df[~df['date'].isnull()]"
   ]
  },
  {
   "cell_type": "code",
   "execution_count": null,
   "id": "6eaa1744",
   "metadata": {},
   "outputs": [],
   "source": [
    "# Second Approach\n",
    "df = df.dropna('date', axis=1)"
   ]
  },
  {
   "cell_type": "code",
   "execution_count": 119,
   "id": "4d203288",
   "metadata": {},
   "outputs": [
    {
     "data": {
      "text/plain": [
       "id                   0\n",
       "date                 0\n",
       "time              1064\n",
       "country_name         0\n",
       "state/province       1\n",
       "population           0\n",
       "landslide_type       1\n",
       "trigger              2\n",
       "fatalities         247\n",
       "dtype: int64"
      ]
     },
     "execution_count": 119,
     "metadata": {},
     "output_type": "execute_result"
    }
   ],
   "source": [
    "df.isnull().sum()"
   ]
  },
  {
   "cell_type": "markdown",
   "id": "a43a50a2",
   "metadata": {},
   "source": [
    "--------"
   ]
  },
  {
   "cell_type": "markdown",
   "id": "44629c15",
   "metadata": {},
   "source": [
    "### Time Column\n",
    "+ fill with specific time"
   ]
  },
  {
   "cell_type": "code",
   "execution_count": 120,
   "id": "198e6b7b",
   "metadata": {},
   "outputs": [
    {
     "data": {
      "text/plain": [
       "Night            97\n",
       "Morning          87\n",
       "Afternoon        58\n",
       "Early morning    36\n",
       "3:00:00          12\n",
       "                 ..\n",
       "1:13              1\n",
       "9:40:00           1\n",
       "11:50:00          1\n",
       "                  1\n",
       "21:06             1\n",
       "Name: time, Length: 159, dtype: int64"
      ]
     },
     "execution_count": 120,
     "metadata": {},
     "output_type": "execute_result"
    }
   ],
   "source": [
    "df['time'].value_counts()"
   ]
  },
  {
   "cell_type": "code",
   "execution_count": 121,
   "id": "b2f319f9",
   "metadata": {},
   "outputs": [],
   "source": [
    "df['time'] = df['time'].fillna('Unknown')"
   ]
  },
  {
   "cell_type": "code",
   "execution_count": 122,
   "id": "c4b4800e",
   "metadata": {},
   "outputs": [
    {
     "data": {
      "text/html": [
       "<div>\n",
       "<style scoped>\n",
       "    .dataframe tbody tr th:only-of-type {\n",
       "        vertical-align: middle;\n",
       "    }\n",
       "\n",
       "    .dataframe tbody tr th {\n",
       "        vertical-align: top;\n",
       "    }\n",
       "\n",
       "    .dataframe thead th {\n",
       "        text-align: right;\n",
       "    }\n",
       "</style>\n",
       "<table border=\"1\" class=\"dataframe\">\n",
       "  <thead>\n",
       "    <tr style=\"text-align: right;\">\n",
       "      <th></th>\n",
       "      <th>id</th>\n",
       "      <th>date</th>\n",
       "      <th>time</th>\n",
       "      <th>country_name</th>\n",
       "      <th>state/province</th>\n",
       "      <th>population</th>\n",
       "      <th>landslide_type</th>\n",
       "      <th>trigger</th>\n",
       "      <th>fatalities</th>\n",
       "    </tr>\n",
       "  </thead>\n",
       "  <tbody>\n",
       "    <tr>\n",
       "      <th>0</th>\n",
       "      <td>34</td>\n",
       "      <td>3/2/07</td>\n",
       "      <td>Night</td>\n",
       "      <td>United States</td>\n",
       "      <td>Virginia</td>\n",
       "      <td>16000</td>\n",
       "      <td>Landslide</td>\n",
       "      <td>Rain</td>\n",
       "      <td>NaN</td>\n",
       "    </tr>\n",
       "    <tr>\n",
       "      <th>1</th>\n",
       "      <td>42</td>\n",
       "      <td>3/22/07</td>\n",
       "      <td>Unknown</td>\n",
       "      <td>United States</td>\n",
       "      <td>Ohio</td>\n",
       "      <td>17288</td>\n",
       "      <td>Landslide</td>\n",
       "      <td>Rain</td>\n",
       "      <td>NaN</td>\n",
       "    </tr>\n",
       "  </tbody>\n",
       "</table>\n",
       "</div>"
      ],
      "text/plain": [
       "   id     date     time   country_name state/province  population  \\\n",
       "0  34   3/2/07    Night  United States       Virginia       16000   \n",
       "1  42  3/22/07  Unknown  United States           Ohio       17288   \n",
       "\n",
       "  landslide_type trigger  fatalities  \n",
       "0      Landslide    Rain         NaN  \n",
       "1      Landslide    Rain         NaN  "
      ]
     },
     "execution_count": 122,
     "metadata": {},
     "output_type": "execute_result"
    }
   ],
   "source": [
    "df.head(2)"
   ]
  },
  {
   "cell_type": "code",
   "execution_count": 123,
   "id": "8c772569",
   "metadata": {},
   "outputs": [
    {
     "data": {
      "text/plain": [
       "id                  0\n",
       "date                0\n",
       "time                0\n",
       "country_name        0\n",
       "state/province      1\n",
       "population          0\n",
       "landslide_type      1\n",
       "trigger             2\n",
       "fatalities        247\n",
       "dtype: int64"
      ]
     },
     "execution_count": 123,
     "metadata": {},
     "output_type": "execute_result"
    }
   ],
   "source": [
    "df.isnull().sum()"
   ]
  },
  {
   "cell_type": "markdown",
   "id": "ebb8276c",
   "metadata": {},
   "source": [
    "---------"
   ]
  },
  {
   "cell_type": "markdown",
   "id": "56174a91",
   "metadata": {},
   "source": [
    "### Fatalities Column\n",
    "+ fill with mean value"
   ]
  },
  {
   "cell_type": "code",
   "execution_count": 124,
   "id": "ba446614",
   "metadata": {},
   "outputs": [],
   "source": [
    "mean = df['fatalities'].mean()\n",
    "\n",
    "df['fatalities'] = df['fatalities'].fillna(mean)"
   ]
  },
  {
   "cell_type": "code",
   "execution_count": 125,
   "id": "c4a40c5f",
   "metadata": {},
   "outputs": [
    {
     "data": {
      "text/html": [
       "<div>\n",
       "<style scoped>\n",
       "    .dataframe tbody tr th:only-of-type {\n",
       "        vertical-align: middle;\n",
       "    }\n",
       "\n",
       "    .dataframe tbody tr th {\n",
       "        vertical-align: top;\n",
       "    }\n",
       "\n",
       "    .dataframe thead th {\n",
       "        text-align: right;\n",
       "    }\n",
       "</style>\n",
       "<table border=\"1\" class=\"dataframe\">\n",
       "  <thead>\n",
       "    <tr style=\"text-align: right;\">\n",
       "      <th></th>\n",
       "      <th>id</th>\n",
       "      <th>date</th>\n",
       "      <th>time</th>\n",
       "      <th>country_name</th>\n",
       "      <th>state/province</th>\n",
       "      <th>population</th>\n",
       "      <th>landslide_type</th>\n",
       "      <th>trigger</th>\n",
       "      <th>fatalities</th>\n",
       "    </tr>\n",
       "  </thead>\n",
       "  <tbody>\n",
       "    <tr>\n",
       "      <th>0</th>\n",
       "      <td>34</td>\n",
       "      <td>3/2/07</td>\n",
       "      <td>Night</td>\n",
       "      <td>United States</td>\n",
       "      <td>Virginia</td>\n",
       "      <td>16000</td>\n",
       "      <td>Landslide</td>\n",
       "      <td>Rain</td>\n",
       "      <td>1.462231</td>\n",
       "    </tr>\n",
       "    <tr>\n",
       "      <th>1</th>\n",
       "      <td>42</td>\n",
       "      <td>3/22/07</td>\n",
       "      <td>Unknown</td>\n",
       "      <td>United States</td>\n",
       "      <td>Ohio</td>\n",
       "      <td>17288</td>\n",
       "      <td>Landslide</td>\n",
       "      <td>Rain</td>\n",
       "      <td>1.462231</td>\n",
       "    </tr>\n",
       "  </tbody>\n",
       "</table>\n",
       "</div>"
      ],
      "text/plain": [
       "   id     date     time   country_name state/province  population  \\\n",
       "0  34   3/2/07    Night  United States       Virginia       16000   \n",
       "1  42  3/22/07  Unknown  United States           Ohio       17288   \n",
       "\n",
       "  landslide_type trigger  fatalities  \n",
       "0      Landslide    Rain    1.462231  \n",
       "1      Landslide    Rain    1.462231  "
      ]
     },
     "execution_count": 125,
     "metadata": {},
     "output_type": "execute_result"
    }
   ],
   "source": [
    "df.head(2)"
   ]
  },
  {
   "cell_type": "code",
   "execution_count": 126,
   "id": "199279da",
   "metadata": {},
   "outputs": [
    {
     "data": {
      "text/plain": [
       "id                0\n",
       "date              0\n",
       "time              0\n",
       "country_name      0\n",
       "state/province    1\n",
       "population        0\n",
       "landslide_type    1\n",
       "trigger           2\n",
       "fatalities        0\n",
       "dtype: int64"
      ]
     },
     "execution_count": 126,
     "metadata": {},
     "output_type": "execute_result"
    }
   ],
   "source": [
    "df.isnull().sum()"
   ]
  },
  {
   "cell_type": "markdown",
   "id": "fe0f67aa",
   "metadata": {},
   "source": [
    "-----\n",
    "-----"
   ]
  },
  {
   "cell_type": "markdown",
   "id": "32e57fef",
   "metadata": {},
   "source": [
    "# Challenge 3.2) Correct Datatype of the column"
   ]
  },
  {
   "cell_type": "markdown",
   "id": "cf7dde43",
   "metadata": {},
   "source": [
    "What is the most land-slide prone month in province/state?"
   ]
  },
  {
   "cell_type": "code",
   "execution_count": 127,
   "id": "a4675b4f",
   "metadata": {},
   "outputs": [
    {
     "data": {
      "text/html": [
       "<div>\n",
       "<style scoped>\n",
       "    .dataframe tbody tr th:only-of-type {\n",
       "        vertical-align: middle;\n",
       "    }\n",
       "\n",
       "    .dataframe tbody tr th {\n",
       "        vertical-align: top;\n",
       "    }\n",
       "\n",
       "    .dataframe thead th {\n",
       "        text-align: right;\n",
       "    }\n",
       "</style>\n",
       "<table border=\"1\" class=\"dataframe\">\n",
       "  <thead>\n",
       "    <tr style=\"text-align: right;\">\n",
       "      <th></th>\n",
       "      <th>id</th>\n",
       "      <th>date</th>\n",
       "      <th>time</th>\n",
       "      <th>country_name</th>\n",
       "      <th>state/province</th>\n",
       "      <th>population</th>\n",
       "      <th>landslide_type</th>\n",
       "      <th>trigger</th>\n",
       "      <th>fatalities</th>\n",
       "    </tr>\n",
       "  </thead>\n",
       "  <tbody>\n",
       "    <tr>\n",
       "      <th>0</th>\n",
       "      <td>34</td>\n",
       "      <td>3/2/07</td>\n",
       "      <td>Night</td>\n",
       "      <td>United States</td>\n",
       "      <td>Virginia</td>\n",
       "      <td>16000</td>\n",
       "      <td>Landslide</td>\n",
       "      <td>Rain</td>\n",
       "      <td>1.462231</td>\n",
       "    </tr>\n",
       "    <tr>\n",
       "      <th>1</th>\n",
       "      <td>42</td>\n",
       "      <td>3/22/07</td>\n",
       "      <td>Unknown</td>\n",
       "      <td>United States</td>\n",
       "      <td>Ohio</td>\n",
       "      <td>17288</td>\n",
       "      <td>Landslide</td>\n",
       "      <td>Rain</td>\n",
       "      <td>1.462231</td>\n",
       "    </tr>\n",
       "  </tbody>\n",
       "</table>\n",
       "</div>"
      ],
      "text/plain": [
       "   id     date     time   country_name state/province  population  \\\n",
       "0  34   3/2/07    Night  United States       Virginia       16000   \n",
       "1  42  3/22/07  Unknown  United States           Ohio       17288   \n",
       "\n",
       "  landslide_type trigger  fatalities  \n",
       "0      Landslide    Rain    1.462231  \n",
       "1      Landslide    Rain    1.462231  "
      ]
     },
     "execution_count": 127,
     "metadata": {},
     "output_type": "execute_result"
    }
   ],
   "source": [
    "df.head(2)"
   ]
  },
  {
   "cell_type": "code",
   "execution_count": 128,
   "id": "c6a33619",
   "metadata": {},
   "outputs": [],
   "source": [
    "# convert date to datetime object\n",
    "df['date'] = pd.to_datetime(df['date'], format='%m/%d/%y')"
   ]
  },
  {
   "cell_type": "code",
   "execution_count": 129,
   "id": "cb5e50bc",
   "metadata": {},
   "outputs": [
    {
     "data": {
      "text/html": [
       "<div>\n",
       "<style scoped>\n",
       "    .dataframe tbody tr th:only-of-type {\n",
       "        vertical-align: middle;\n",
       "    }\n",
       "\n",
       "    .dataframe tbody tr th {\n",
       "        vertical-align: top;\n",
       "    }\n",
       "\n",
       "    .dataframe thead th {\n",
       "        text-align: right;\n",
       "    }\n",
       "</style>\n",
       "<table border=\"1\" class=\"dataframe\">\n",
       "  <thead>\n",
       "    <tr style=\"text-align: right;\">\n",
       "      <th></th>\n",
       "      <th>id</th>\n",
       "      <th>date</th>\n",
       "      <th>time</th>\n",
       "      <th>country_name</th>\n",
       "      <th>state/province</th>\n",
       "      <th>population</th>\n",
       "      <th>landslide_type</th>\n",
       "      <th>trigger</th>\n",
       "      <th>fatalities</th>\n",
       "    </tr>\n",
       "  </thead>\n",
       "  <tbody>\n",
       "    <tr>\n",
       "      <th>0</th>\n",
       "      <td>34</td>\n",
       "      <td>2007-03-02</td>\n",
       "      <td>Night</td>\n",
       "      <td>United States</td>\n",
       "      <td>Virginia</td>\n",
       "      <td>16000</td>\n",
       "      <td>Landslide</td>\n",
       "      <td>Rain</td>\n",
       "      <td>1.462231</td>\n",
       "    </tr>\n",
       "    <tr>\n",
       "      <th>1</th>\n",
       "      <td>42</td>\n",
       "      <td>2007-03-22</td>\n",
       "      <td>Unknown</td>\n",
       "      <td>United States</td>\n",
       "      <td>Ohio</td>\n",
       "      <td>17288</td>\n",
       "      <td>Landslide</td>\n",
       "      <td>Rain</td>\n",
       "      <td>1.462231</td>\n",
       "    </tr>\n",
       "  </tbody>\n",
       "</table>\n",
       "</div>"
      ],
      "text/plain": [
       "   id       date     time   country_name state/province  population  \\\n",
       "0  34 2007-03-02    Night  United States       Virginia       16000   \n",
       "1  42 2007-03-22  Unknown  United States           Ohio       17288   \n",
       "\n",
       "  landslide_type trigger  fatalities  \n",
       "0      Landslide    Rain    1.462231  \n",
       "1      Landslide    Rain    1.462231  "
      ]
     },
     "execution_count": 129,
     "metadata": {},
     "output_type": "execute_result"
    }
   ],
   "source": [
    "df.head(2)"
   ]
  },
  {
   "cell_type": "code",
   "execution_count": 130,
   "id": "27b4e269",
   "metadata": {},
   "outputs": [],
   "source": [
    "# grab only Month value and create as a new column"
   ]
  },
  {
   "cell_type": "code",
   "execution_count": 131,
   "id": "64b0b945",
   "metadata": {},
   "outputs": [
    {
     "data": {
      "text/html": [
       "<div>\n",
       "<style scoped>\n",
       "    .dataframe tbody tr th:only-of-type {\n",
       "        vertical-align: middle;\n",
       "    }\n",
       "\n",
       "    .dataframe tbody tr th {\n",
       "        vertical-align: top;\n",
       "    }\n",
       "\n",
       "    .dataframe thead th {\n",
       "        text-align: right;\n",
       "    }\n",
       "</style>\n",
       "<table border=\"1\" class=\"dataframe\">\n",
       "  <thead>\n",
       "    <tr style=\"text-align: right;\">\n",
       "      <th></th>\n",
       "      <th>id</th>\n",
       "      <th>date</th>\n",
       "      <th>time</th>\n",
       "      <th>country_name</th>\n",
       "      <th>state/province</th>\n",
       "      <th>population</th>\n",
       "      <th>landslide_type</th>\n",
       "      <th>trigger</th>\n",
       "      <th>fatalities</th>\n",
       "      <th>month</th>\n",
       "    </tr>\n",
       "  </thead>\n",
       "  <tbody>\n",
       "    <tr>\n",
       "      <th>0</th>\n",
       "      <td>34</td>\n",
       "      <td>2007-03-02</td>\n",
       "      <td>Night</td>\n",
       "      <td>United States</td>\n",
       "      <td>Virginia</td>\n",
       "      <td>16000</td>\n",
       "      <td>Landslide</td>\n",
       "      <td>Rain</td>\n",
       "      <td>1.462231</td>\n",
       "      <td>3</td>\n",
       "    </tr>\n",
       "    <tr>\n",
       "      <th>1</th>\n",
       "      <td>42</td>\n",
       "      <td>2007-03-22</td>\n",
       "      <td>Unknown</td>\n",
       "      <td>United States</td>\n",
       "      <td>Ohio</td>\n",
       "      <td>17288</td>\n",
       "      <td>Landslide</td>\n",
       "      <td>Rain</td>\n",
       "      <td>1.462231</td>\n",
       "      <td>3</td>\n",
       "    </tr>\n",
       "  </tbody>\n",
       "</table>\n",
       "</div>"
      ],
      "text/plain": [
       "   id       date     time   country_name state/province  population  \\\n",
       "0  34 2007-03-02    Night  United States       Virginia       16000   \n",
       "1  42 2007-03-22  Unknown  United States           Ohio       17288   \n",
       "\n",
       "  landslide_type trigger  fatalities  month  \n",
       "0      Landslide    Rain    1.462231      3  \n",
       "1      Landslide    Rain    1.462231      3  "
      ]
     },
     "execution_count": 131,
     "metadata": {},
     "output_type": "execute_result"
    }
   ],
   "source": [
    "df['month'] = df['date'].dt.month\n",
    "\n",
    "df.head(2)"
   ]
  },
  {
   "cell_type": "code",
   "execution_count": 62,
   "id": "79ab5673",
   "metadata": {},
   "outputs": [],
   "source": [
    "# Visualize the distribution acorss the months\n",
    "\n",
    "import matplotlib.pyplot as plt\n",
    "import seaborn as sns"
   ]
  },
  {
   "cell_type": "code",
   "execution_count": 83,
   "id": "c33a465e",
   "metadata": {},
   "outputs": [
    {
     "data": {
      "text/plain": [
       "[1, 2, 3, 4, 5, 6, 7, 8, 9, 10, 11, 12]"
      ]
     },
     "execution_count": 83,
     "metadata": {},
     "output_type": "execute_result"
    }
   ],
   "source": [
    "month_order = sorted(df['month'].unique())\n",
    "month_order"
   ]
  },
  {
   "cell_type": "code",
   "execution_count": 137,
   "id": "cec23fea",
   "metadata": {},
   "outputs": [
    {
     "data": {
      "image/png": "[encoded data removed]",
      "text/plain": [
       "<Figure size 432x288 with 1 Axes>"
      ]
     },
     "metadata": {
      "needs_background": "light"
     },
     "output_type": "display_data"
    }
   ],
   "source": [
    "sns.countplot(x='month', data=df, order=month_order);\n",
    "plt.title('Landsides per Month');"
   ]
  },
  {
   "cell_type": "code",
   "execution_count": 136,
   "id": "31585123",
   "metadata": {},
   "outputs": [
    {
     "data": {
      "image/png": "[encoded data removed]",
      "text/plain": [
       "<Figure size 720x360 with 1 Axes>"
      ]
     },
     "metadata": {
      "needs_background": "light"
     },
     "output_type": "display_data"
    }
   ],
   "source": [
    "sns.displot(x='month', data=df, aspect=2, bins=12);\n",
    "plt.title('Landsides per Month');"
   ]
  },
  {
   "cell_type": "markdown",
   "id": "125092b8",
   "metadata": {},
   "source": [
    "It seems like Month 7 (July) has the most landslides."
   ]
  },
  {
   "cell_type": "markdown",
   "id": "7d6a8075",
   "metadata": {},
   "source": [
    "---------"
   ]
  },
  {
   "cell_type": "markdown",
   "id": "59c61360",
   "metadata": {},
   "source": [
    "## Challenge 3.3) Parse Dates in Time Series Data"
   ]
  },
  {
   "cell_type": "markdown",
   "id": "b6b8daeb",
   "metadata": {},
   "source": [
    "it's hard to know and analyze Time data because of data inconsitency.\n",
    "\n",
    "Make it into 5 categories - Morning, Afternoon, Evening and Night, Unknown."
   ]
  },
  {
   "cell_type": "code",
   "execution_count": 138,
   "id": "0de7adb2",
   "metadata": {},
   "outputs": [
    {
     "data": {
      "text/html": [
       "<div>\n",
       "<style scoped>\n",
       "    .dataframe tbody tr th:only-of-type {\n",
       "        vertical-align: middle;\n",
       "    }\n",
       "\n",
       "    .dataframe tbody tr th {\n",
       "        vertical-align: top;\n",
       "    }\n",
       "\n",
       "    .dataframe thead th {\n",
       "        text-align: right;\n",
       "    }\n",
       "</style>\n",
       "<table border=\"1\" class=\"dataframe\">\n",
       "  <thead>\n",
       "    <tr style=\"text-align: right;\">\n",
       "      <th></th>\n",
       "      <th>id</th>\n",
       "      <th>date</th>\n",
       "      <th>time</th>\n",
       "      <th>country_name</th>\n",
       "      <th>state/province</th>\n",
       "      <th>population</th>\n",
       "      <th>landslide_type</th>\n",
       "      <th>trigger</th>\n",
       "      <th>fatalities</th>\n",
       "      <th>month</th>\n",
       "    </tr>\n",
       "  </thead>\n",
       "  <tbody>\n",
       "    <tr>\n",
       "      <th>0</th>\n",
       "      <td>34</td>\n",
       "      <td>2007-03-02</td>\n",
       "      <td>Night</td>\n",
       "      <td>United States</td>\n",
       "      <td>Virginia</td>\n",
       "      <td>16000</td>\n",
       "      <td>Landslide</td>\n",
       "      <td>Rain</td>\n",
       "      <td>1.462231</td>\n",
       "      <td>3</td>\n",
       "    </tr>\n",
       "  </tbody>\n",
       "</table>\n",
       "</div>"
      ],
      "text/plain": [
       "   id       date   time   country_name state/province  population  \\\n",
       "0  34 2007-03-02  Night  United States       Virginia       16000   \n",
       "\n",
       "  landslide_type trigger  fatalities  month  \n",
       "0      Landslide    Rain    1.462231      3  "
      ]
     },
     "execution_count": 138,
     "metadata": {},
     "output_type": "execute_result"
    }
   ],
   "source": [
    "df.head(1)"
   ]
  },
  {
   "cell_type": "code",
   "execution_count": 175,
   "id": "9715515b",
   "metadata": {},
   "outputs": [
    {
     "data": {
      "text/plain": [
       "Unknown           1065\n",
       "Morning            226\n",
       "Night              161\n",
       "Afternoon          130\n",
       "Early morning       36\n",
       "Evening             10\n",
       "evening              8\n",
       "18:00:00             8\n",
       "Late night           7\n",
       "Overnight            6\n",
       "12:00:00             5\n",
       "12:00                3\n",
       "18:44                2\n",
       "18:30:00             2\n",
       "18:00                2\n",
       "12:15                2\n",
       "Late afternoon       2\n",
       "overnight            2\n",
       "12:30:00             2\n",
       "Late morning         2\n",
       "Before dawn          1\n",
       "                     1\n",
       "18:46:00             1\n",
       "Late evening         1\n",
       "****                 1\n",
       "18:15:00             1\n",
       "18:45                1\n",
       "12:20                1\n",
       "18:53:00             1\n",
       "Name: time, dtype: int64"
      ]
     },
     "execution_count": 175,
     "metadata": {},
     "output_type": "execute_result"
    }
   ],
   "source": [
    "df['time'].value_counts()"
   ]
  },
  {
   "cell_type": "code",
   "execution_count": 195,
   "id": "5370a702",
   "metadata": {},
   "outputs": [],
   "source": [
    "# Custom Function to parse time data into specific categories\n",
    "import datetime\n",
    "\n",
    "def time_to_categories(x):\n",
    "    \n",
    "    if \":\" in x.lower():\n",
    "        if int(x.split(':')[0]) >= 12 and int(x.split(':')[0]) < 18:\n",
    "            x = 'Afternoon'\n",
    "        elif int(x.split(':')[0]) < 12:\n",
    "            x = 'Morning'\n",
    "        elif int(x.split(':')[0]) >= 18:\n",
    "            x = 'Night'\n",
    "    elif  'morning' in x.lower() or 'dawn' in x.lower():\n",
    "        x = 'Morning'\n",
    "    elif 'afternoon' in x.lower():\n",
    "        x = 'Afternoon'\n",
    "    elif 'evening' in x.lower():\n",
    "        x = 'Evening'\n",
    "    elif 'night' in x.lower():\n",
    "        x = 'Night'\n",
    "    else:\n",
    "         x = 'Unknown'\n",
    "    return x"
   ]
  },
  {
   "cell_type": "code",
   "execution_count": 196,
   "id": "a243825b",
   "metadata": {},
   "outputs": [],
   "source": [
    "df['time'] = df['time'].apply(time_to_categories)"
   ]
  },
  {
   "cell_type": "code",
   "execution_count": 197,
   "id": "0db63547",
   "metadata": {},
   "outputs": [
    {
     "data": {
      "text/plain": [
       "Unknown      1067\n",
       "Morning       265\n",
       "Night         194\n",
       "Afternoon     145\n",
       "Evening        19\n",
       "Name: time, dtype: int64"
      ]
     },
     "execution_count": 197,
     "metadata": {},
     "output_type": "execute_result"
    }
   ],
   "source": [
    "df['time'].value_counts()"
   ]
  },
  {
   "cell_type": "markdown",
   "id": "b92c775c",
   "metadata": {},
   "source": [
    "-----------\n"
   ]
  }
 ],
 "metadata": {
  "kernelspec": {
   "display_name": "Python 3 (ipykernel)",
   "language": "python",
   "name": "python3"
  },
  "language_info": {
   "codemirror_mode": {
    "name": "ipython",
    "version": 3
   },
   "file_extension": ".py",
   "mimetype": "text/x-python",
   "name": "python",
   "nbconvert_exporter": "python",
   "pygments_lexer": "ipython3",
   "version": "3.7.13"
  }
 },
 "nbformat": 4,
 "nbformat_minor": 5
}
