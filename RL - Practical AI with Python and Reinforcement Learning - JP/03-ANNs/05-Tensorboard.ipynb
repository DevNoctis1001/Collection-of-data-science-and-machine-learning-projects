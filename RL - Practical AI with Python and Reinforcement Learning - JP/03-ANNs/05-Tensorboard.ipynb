{
 "cells": [
  {
   "cell_type": "markdown",
   "metadata": {},
   "source": [
    "<strong><center>Copyright by Pierian Data Inc.</center></strong> \n",
    "<strong><center>Created by Jose Marcial Portilla.</center></strong>"
   ]
  },
  {
   "cell_type": "markdown",
   "metadata": {},
   "source": [
    "# Tensorboard\n",
    "\n",
    "---\n",
    "---\n",
    "\n",
    "**NOTE: You must watch the corresponding video to understand this lecture. This notebook can't serve as a full guide. Please watch the video BEFORE posting questions to the QA forum.**\n",
    "\n",
    "---\n",
    "---\n",
    "\n",
    "Let's explore the built in data visualization capabilities that come with Tensorboard.\n",
    "\n",
    "Full official tutorial available here: https://www.tensorflow.org/tensorboard/get_started\n",
    "\n",
    "## Data"
   ]
  },
  {
   "cell_type": "code",
   "execution_count": 1,
   "metadata": {},
   "outputs": [],
   "source": [
    "import pandas as pd\n",
    "import numpy as np"
   ]
  },
  {
   "cell_type": "code",
   "execution_count": 2,
   "metadata": {},
   "outputs": [],
   "source": [
    "df = pd.read_csv('./Data/cancer_classification.csv')"
   ]
  },
  {
   "cell_type": "markdown",
   "metadata": {},
   "source": [
    "### Train Test Split"
   ]
  },
  {
   "cell_type": "code",
   "execution_count": 3,
   "metadata": {},
   "outputs": [],
   "source": [
    "X = df.drop('benign_0__mal_1',axis=1).values\n",
    "y = df['benign_0__mal_1'].values"
   ]
  },
  {
   "cell_type": "code",
   "execution_count": 4,
   "metadata": {},
   "outputs": [],
   "source": [
    "from sklearn.model_selection import train_test_split"
   ]
  },
  {
   "cell_type": "code",
   "execution_count": 5,
   "metadata": {},
   "outputs": [],
   "source": [
    "X_train, X_test, y_train, y_test = train_test_split(X,y,test_size=0.25,random_state=101)"
   ]
  },
  {
   "cell_type": "markdown",
   "metadata": {},
   "source": [
    "\n",
    "### Scaling Data"
   ]
  },
  {
   "cell_type": "code",
   "execution_count": 6,
   "metadata": {},
   "outputs": [],
   "source": [
    "from sklearn.preprocessing import MinMaxScaler"
   ]
  },
  {
   "cell_type": "code",
   "execution_count": 7,
   "metadata": {},
   "outputs": [],
   "source": [
    "scaler = MinMaxScaler()"
   ]
  },
  {
   "cell_type": "code",
   "execution_count": 8,
   "metadata": {},
   "outputs": [
    {
     "data": {
      "text/plain": [
       "MinMaxScaler()"
      ]
     },
     "execution_count": 8,
     "metadata": {},
     "output_type": "execute_result"
    }
   ],
   "source": [
    "scaler.fit(X_train)"
   ]
  },
  {
   "cell_type": "code",
   "execution_count": 9,
   "metadata": {},
   "outputs": [],
   "source": [
    "X_train = scaler.transform(X_train)\n",
    "X_test = scaler.transform(X_test)"
   ]
  },
  {
   "cell_type": "markdown",
   "metadata": {},
   "source": [
    "## Creating the Model"
   ]
  },
  {
   "cell_type": "code",
   "execution_count": 10,
   "metadata": {},
   "outputs": [],
   "source": [
    "import tensorflow as tf\n",
    "from tensorflow.keras.models import Sequential\n",
    "from tensorflow.keras.layers import Dense, Activation,Dropout"
   ]
  },
  {
   "cell_type": "code",
   "execution_count": 11,
   "metadata": {},
   "outputs": [],
   "source": [
    "from tensorflow.keras.callbacks import EarlyStopping,TensorBoard"
   ]
  },
  {
   "cell_type": "code",
   "execution_count": 12,
   "metadata": {},
   "outputs": [],
   "source": [
    "early_stop = EarlyStopping(monitor='val_loss', mode='min', verbose=1, patience=25)"
   ]
  },
  {
   "cell_type": "code",
   "execution_count": 13,
   "metadata": {},
   "outputs": [
    {
     "data": {
      "text/plain": [
       "'C:\\\\Users\\\\Phone Thiri Yadana\\\\Desktop\\\\Dojo - Data Science and Machine Learning\\\\RL - Practical AI with Python and Reinforcement Learning - JP\\\\03-ANNs'"
      ]
     },
     "execution_count": 13,
     "metadata": {},
     "output_type": "execute_result"
    }
   ],
   "source": [
    "pwd"
   ]
  },
  {
   "cell_type": "markdown",
   "metadata": {},
   "source": [
    "## Creating the Tensorboard Callback\n",
    "\n",
    "TensorBoard is a visualization tool provided with TensorFlow.\n",
    "\n",
    "This callback logs events for TensorBoard, including:\n",
    "* Metrics summary plots\n",
    "* Training graph visualization\n",
    "* Activation histograms\n",
    "* Sampled profiling\n",
    "\n",
    "If you have installed TensorFlow with pip, you should be able\n",
    "to launch TensorBoard from the command line:\n",
    "\n",
    "```sh\n",
    "tensorboard --logdir=path_to_your_logs\n",
    "```\n",
    "\n",
    "You can find more information about TensorBoard\n",
    "[here](https://www.tensorflow.org/tensorboard/).\n",
    "\n",
    "    Arguments:\n",
    "        log_dir: the path of the directory where to save the log files to be\n",
    "          parsed by TensorBoard.\n",
    "        histogram_freq: frequency (in epochs) at which to compute activation and\n",
    "          weight histograms for the layers of the model. If set to 0, histograms\n",
    "          won't be computed. Validation data (or split) must be specified for\n",
    "          histogram visualizations.\n",
    "        write_graph: whether to visualize the graph in TensorBoard. The log file\n",
    "          can become quite large when write_graph is set to True.\n",
    "        write_images: whether to write model weights to visualize as image in\n",
    "          TensorBoard.\n",
    "        update_freq: `'batch'` or `'epoch'` or integer. When using `'batch'`,\n",
    "          writes the losses and metrics to TensorBoard after each batch. The same\n",
    "          applies for `'epoch'`. If using an integer, let's say `1000`, the\n",
    "          callback will write the metrics and losses to TensorBoard every 1000\n",
    "          samples. Note that writing too frequently to TensorBoard can slow down\n",
    "          your training.\n",
    "        profile_batch: Profile the batch to sample compute characteristics. By\n",
    "          default, it will profile the second batch. Set profile_batch=0 to\n",
    "          disable profiling. Must run in TensorFlow eager mode.\n",
    "        embeddings_freq: frequency (in epochs) at which embedding layers will\n",
    "          be visualized. If set to 0, embeddings won't be visualized.\n",
    "       "
   ]
  },
  {
   "cell_type": "code",
   "execution_count": 14,
   "metadata": {},
   "outputs": [],
   "source": [
    "from datetime import datetime"
   ]
  },
  {
   "cell_type": "code",
   "execution_count": 15,
   "metadata": {},
   "outputs": [
    {
     "data": {
      "text/plain": [
       "'2022-04-20--1654'"
      ]
     },
     "execution_count": 15,
     "metadata": {},
     "output_type": "execute_result"
    }
   ],
   "source": [
    "datetime.now().strftime(\"%Y-%m-%d--%H%M\")"
   ]
  },
  {
   "cell_type": "code",
   "execution_count": 30,
   "metadata": {},
   "outputs": [],
   "source": [
    "# as my working folder path is too long and getting error of Unable to write File, gonna change working directory to shorten file path\n",
    "\n",
    "import os\n",
    "# print('Current working directory: ', os.getcwd())\n",
    "os.chdir('../../../')"
   ]
  },
  {
   "cell_type": "code",
   "execution_count": 31,
   "metadata": {},
   "outputs": [],
   "source": [
    "# WINDOWS: Use \"logs\\\\fit\"\n",
    "# MACOS/LINUX: Use \"logs\\fit\"\n",
    "\n",
    "import os\n",
    "log_directory = 'logs\\\\fit'\n",
    "\n",
    "# OPTIONAL: ADD A TIMESTAMP FOR UNIQUE FOLDER\n",
    "# timestamp = datetime.now().strftime(\"%Y-%m-%d--%H%M\")\n",
    "# log_directory = log_directory + '\\\\' + timestamp\n",
    "\n",
    "\n",
    "board = TensorBoard(log_dir=log_directory,histogram_freq=1,\n",
    "    write_graph=True,\n",
    "    write_images=True,\n",
    "    update_freq='epoch',\n",
    "    profile_batch=2,\n",
    "    embeddings_freq=1)"
   ]
  },
  {
   "cell_type": "markdown",
   "metadata": {},
   "source": [
    "Now create the model layers:"
   ]
  },
  {
   "cell_type": "code",
   "execution_count": 32,
   "metadata": {},
   "outputs": [],
   "source": [
    "model = Sequential()\n",
    "\n",
    "model.add(Dense(units=30,activation='relu'))\n",
    "model.add(Dropout(0.5))\n",
    "\n",
    "model.add(Dense(units=15,activation='relu'))\n",
    "model.add(Dropout(0.5))\n",
    "\n",
    "model.add(Dense(units=1,activation='sigmoid'))\n",
    "\n",
    "model.compile(loss='binary_crossentropy', optimizer='adam')"
   ]
  },
  {
   "cell_type": "markdown",
   "metadata": {},
   "source": [
    "## Train the Model"
   ]
  },
  {
   "cell_type": "code",
   "execution_count": 33,
   "metadata": {},
   "outputs": [
    {
     "name": "stdout",
     "output_type": "stream",
     "text": [
      "Epoch 1/600\n",
      "14/14 [==============================] - 2s 109ms/step - loss: 0.7448 - val_loss: 0.6977\n",
      "Epoch 2/600\n",
      "14/14 [==============================] - 1s 45ms/step - loss: 0.6928 - val_loss: 0.6756\n",
      "Epoch 3/600\n",
      "14/14 [==============================] - 1s 55ms/step - loss: 0.6729 - val_loss: 0.6531\n",
      "Epoch 4/600\n",
      "14/14 [==============================] - 0s 28ms/step - loss: 0.6321 - val_loss: 0.6292\n",
      "Epoch 5/600\n",
      "14/14 [==============================] - 0s 29ms/step - loss: 0.6346 - val_loss: 0.5996\n",
      "Epoch 6/600\n",
      "14/14 [==============================] - 0s 33ms/step - loss: 0.6110 - val_loss: 0.5750\n",
      "Epoch 7/600\n",
      "14/14 [==============================] - 0s 31ms/step - loss: 0.5711 - val_loss: 0.5472\n",
      "Epoch 8/600\n",
      "14/14 [==============================] - 0s 31ms/step - loss: 0.5501 - val_loss: 0.5158\n",
      "Epoch 9/600\n",
      "14/14 [==============================] - 1s 44ms/step - loss: 0.5533 - val_loss: 0.4846\n",
      "Epoch 10/600\n",
      "14/14 [==============================] - 0s 37ms/step - loss: 0.5188 - val_loss: 0.4568\n",
      "Epoch 11/600\n",
      "14/14 [==============================] - 0s 33ms/step - loss: 0.4946 - val_loss: 0.4160\n",
      "Epoch 12/600\n",
      "14/14 [==============================] - 0s 38ms/step - loss: 0.4405 - val_loss: 0.3808\n",
      "Epoch 13/600\n",
      "14/14 [==============================] - 0s 30ms/step - loss: 0.4557 - val_loss: 0.3530\n",
      "Epoch 14/600\n",
      "14/14 [==============================] - 1s 42ms/step - loss: 0.4047 - val_loss: 0.3274\n",
      "Epoch 15/600\n",
      "14/14 [==============================] - 1s 48ms/step - loss: 0.4219 - val_loss: 0.3038\n",
      "Epoch 16/600\n",
      "14/14 [==============================] - 0s 33ms/step - loss: 0.3975 - val_loss: 0.2865\n",
      "Epoch 17/600\n",
      "14/14 [==============================] - 0s 30ms/step - loss: 0.3655 - val_loss: 0.2655\n",
      "Epoch 18/600\n",
      "14/14 [==============================] - 0s 28ms/step - loss: 0.3489 - val_loss: 0.2445\n",
      "Epoch 19/600\n",
      "14/14 [==============================] - 0s 38ms/step - loss: 0.3242 - val_loss: 0.2259\n",
      "Epoch 20/600\n",
      "14/14 [==============================] - 0s 34ms/step - loss: 0.2993 - val_loss: 0.2137\n",
      "Epoch 21/600\n",
      "14/14 [==============================] - 0s 31ms/step - loss: 0.3450 - val_loss: 0.2045\n",
      "Epoch 22/600\n",
      "14/14 [==============================] - 0s 34ms/step - loss: 0.3163 - val_loss: 0.2004\n",
      "Epoch 23/600\n",
      "14/14 [==============================] - 0s 30ms/step - loss: 0.2851 - val_loss: 0.1925\n",
      "Epoch 24/600\n",
      "14/14 [==============================] - 0s 29ms/step - loss: 0.2649 - val_loss: 0.1829\n",
      "Epoch 25/600\n",
      "14/14 [==============================] - 0s 37ms/step - loss: 0.2710 - val_loss: 0.1700\n",
      "Epoch 26/600\n",
      "14/14 [==============================] - 1s 42ms/step - loss: 0.2457 - val_loss: 0.1614\n",
      "Epoch 27/600\n",
      "14/14 [==============================] - 0s 33ms/step - loss: 0.2762 - val_loss: 0.1640\n",
      "Epoch 28/600\n",
      "14/14 [==============================] - 0s 29ms/step - loss: 0.2358 - val_loss: 0.1553\n",
      "Epoch 29/600\n",
      "14/14 [==============================] - 0s 29ms/step - loss: 0.2398 - val_loss: 0.1458\n",
      "Epoch 30/600\n",
      "14/14 [==============================] - 0s 31ms/step - loss: 0.2444 - val_loss: 0.1442\n",
      "Epoch 31/600\n",
      "14/14 [==============================] - 0s 28ms/step - loss: 0.2463 - val_loss: 0.1471\n",
      "Epoch 32/600\n",
      "14/14 [==============================] - 0s 36ms/step - loss: 0.2298 - val_loss: 0.1432\n",
      "Epoch 33/600\n",
      "14/14 [==============================] - 0s 30ms/step - loss: 0.2187 - val_loss: 0.1358\n",
      "Epoch 34/600\n",
      "14/14 [==============================] - 0s 35ms/step - loss: 0.2226 - val_loss: 0.1317\n",
      "Epoch 35/600\n",
      "14/14 [==============================] - 0s 32ms/step - loss: 0.2054 - val_loss: 0.1307\n",
      "Epoch 36/600\n",
      "14/14 [==============================] - 0s 34ms/step - loss: 0.2002 - val_loss: 0.1234\n",
      "Epoch 37/600\n",
      "14/14 [==============================] - 1s 41ms/step - loss: 0.2128 - val_loss: 0.1252\n",
      "Epoch 38/600\n",
      "14/14 [==============================] - 1s 47ms/step - loss: 0.1877 - val_loss: 0.1221\n",
      "Epoch 39/600\n",
      "14/14 [==============================] - 0s 28ms/step - loss: 0.1927 - val_loss: 0.1193\n",
      "Epoch 40/600\n",
      "14/14 [==============================] - 0s 33ms/step - loss: 0.1758 - val_loss: 0.1121\n",
      "Epoch 41/600\n",
      "14/14 [==============================] - 1s 48ms/step - loss: 0.1887 - val_loss: 0.1133\n",
      "Epoch 42/600\n",
      "14/14 [==============================] - 0s 31ms/step - loss: 0.1900 - val_loss: 0.1110\n",
      "Epoch 43/600\n",
      "14/14 [==============================] - 1s 60ms/step - loss: 0.1864 - val_loss: 0.1100\n",
      "Epoch 44/600\n",
      "14/14 [==============================] - 0s 31ms/step - loss: 0.1833 - val_loss: 0.1188\n",
      "Epoch 45/600\n",
      "14/14 [==============================] - 0s 35ms/step - loss: 0.1611 - val_loss: 0.1194\n",
      "Epoch 46/600\n",
      "14/14 [==============================] - 0s 31ms/step - loss: 0.2028 - val_loss: 0.1089\n",
      "Epoch 47/600\n",
      "14/14 [==============================] - 1s 40ms/step - loss: 0.1779 - val_loss: 0.1102\n",
      "Epoch 48/600\n",
      "14/14 [==============================] - 1s 47ms/step - loss: 0.1731 - val_loss: 0.1050\n",
      "Epoch 49/600\n",
      "14/14 [==============================] - 0s 35ms/step - loss: 0.1955 - val_loss: 0.1106\n",
      "Epoch 50/600\n",
      "14/14 [==============================] - 0s 33ms/step - loss: 0.1745 - val_loss: 0.1066\n",
      "Epoch 51/600\n",
      "14/14 [==============================] - 0s 37ms/step - loss: 0.1488 - val_loss: 0.1009\n",
      "Epoch 52/600\n",
      "14/14 [==============================] - 0s 34ms/step - loss: 0.1525 - val_loss: 0.1066\n",
      "Epoch 53/600\n",
      "14/14 [==============================] - 0s 32ms/step - loss: 0.1483 - val_loss: 0.1030\n",
      "Epoch 54/600\n",
      "14/14 [==============================] - 1s 44ms/step - loss: 0.1737 - val_loss: 0.0950\n",
      "Epoch 55/600\n",
      "14/14 [==============================] - 0s 30ms/step - loss: 0.1586 - val_loss: 0.1061\n",
      "Epoch 56/600\n",
      "14/14 [==============================] - 0s 31ms/step - loss: 0.1333 - val_loss: 0.0977\n",
      "Epoch 57/600\n",
      "14/14 [==============================] - 1s 41ms/step - loss: 0.1395 - val_loss: 0.0951\n",
      "Epoch 58/600\n",
      "14/14 [==============================] - 0s 35ms/step - loss: 0.1311 - val_loss: 0.0909\n",
      "Epoch 59/600\n",
      "14/14 [==============================] - 0s 30ms/step - loss: 0.1464 - val_loss: 0.1069\n",
      "Epoch 60/600\n",
      "14/14 [==============================] - 0s 38ms/step - loss: 0.1591 - val_loss: 0.0946\n",
      "Epoch 61/600\n",
      "14/14 [==============================] - 0s 31ms/step - loss: 0.1262 - val_loss: 0.0912\n",
      "Epoch 62/600\n",
      "14/14 [==============================] - 0s 30ms/step - loss: 0.1280 - val_loss: 0.0937\n",
      "Epoch 63/600\n",
      "14/14 [==============================] - 0s 36ms/step - loss: 0.1151 - val_loss: 0.0965\n",
      "Epoch 64/600\n",
      "14/14 [==============================] - 0s 31ms/step - loss: 0.1610 - val_loss: 0.0948\n",
      "Epoch 65/600\n",
      "14/14 [==============================] - 0s 30ms/step - loss: 0.1091 - val_loss: 0.0926\n",
      "Epoch 66/600\n",
      "14/14 [==============================] - 1s 40ms/step - loss: 0.1489 - val_loss: 0.1001\n",
      "Epoch 67/600\n",
      "14/14 [==============================] - 1s 39ms/step - loss: 0.1418 - val_loss: 0.0905\n",
      "Epoch 68/600\n",
      "14/14 [==============================] - 0s 31ms/step - loss: 0.1253 - val_loss: 0.0858\n",
      "Epoch 69/600\n",
      "14/14 [==============================] - 0s 33ms/step - loss: 0.0955 - val_loss: 0.0930\n",
      "Epoch 70/600\n",
      "14/14 [==============================] - 1s 39ms/step - loss: 0.1403 - val_loss: 0.0988\n",
      "Epoch 71/600\n",
      "14/14 [==============================] - 0s 31ms/step - loss: 0.1534 - val_loss: 0.0850\n",
      "Epoch 72/600\n",
      "14/14 [==============================] - 0s 34ms/step - loss: 0.1317 - val_loss: 0.0930\n",
      "Epoch 73/600\n",
      "14/14 [==============================] - 1s 48ms/step - loss: 0.1321 - val_loss: 0.0928\n",
      "Epoch 74/600\n",
      "14/14 [==============================] - 1s 45ms/step - loss: 0.1203 - val_loss: 0.0925\n",
      "Epoch 75/600\n",
      "14/14 [==============================] - 0s 30ms/step - loss: 0.1253 - val_loss: 0.0893\n",
      "Epoch 76/600\n",
      "14/14 [==============================] - 0s 28ms/step - loss: 0.1117 - val_loss: 0.0867\n",
      "Epoch 77/600\n",
      "14/14 [==============================] - 1s 41ms/step - loss: 0.1174 - val_loss: 0.0847\n",
      "Epoch 78/600\n",
      "14/14 [==============================] - 0s 31ms/step - loss: 0.1093 - val_loss: 0.1022\n",
      "Epoch 79/600\n",
      "14/14 [==============================] - 0s 38ms/step - loss: 0.1342 - val_loss: 0.0859\n",
      "Epoch 80/600\n",
      "14/14 [==============================] - 0s 32ms/step - loss: 0.1377 - val_loss: 0.0879\n",
      "Epoch 81/600\n",
      "14/14 [==============================] - 0s 32ms/step - loss: 0.1168 - val_loss: 0.0900\n",
      "Epoch 82/600\n"
     ]
    },
    {
     "name": "stdout",
     "output_type": "stream",
     "text": [
      "14/14 [==============================] - 1s 43ms/step - loss: 0.1287 - val_loss: 0.0828\n",
      "Epoch 83/600\n",
      "14/14 [==============================] - 1s 56ms/step - loss: 0.1119 - val_loss: 0.0904\n",
      "Epoch 84/600\n",
      "14/14 [==============================] - 0s 31ms/step - loss: 0.1084 - val_loss: 0.0822\n",
      "Epoch 85/600\n",
      "14/14 [==============================] - 0s 37ms/step - loss: 0.1157 - val_loss: 0.0946\n",
      "Epoch 86/600\n",
      "14/14 [==============================] - 0s 31ms/step - loss: 0.1060 - val_loss: 0.0998\n",
      "Epoch 87/600\n",
      "14/14 [==============================] - 0s 31ms/step - loss: 0.1075 - val_loss: 0.0864\n",
      "Epoch 88/600\n",
      "14/14 [==============================] - 0s 36ms/step - loss: 0.1188 - val_loss: 0.0856\n",
      "Epoch 89/600\n",
      "14/14 [==============================] - 0s 36ms/step - loss: 0.1235 - val_loss: 0.0845\n",
      "Epoch 90/600\n",
      "14/14 [==============================] - 0s 31ms/step - loss: 0.1210 - val_loss: 0.0913\n",
      "Epoch 91/600\n",
      "14/14 [==============================] - 0s 37ms/step - loss: 0.0733 - val_loss: 0.0948\n",
      "Epoch 92/600\n",
      "14/14 [==============================] - 1s 38ms/step - loss: 0.1142 - val_loss: 0.0854\n",
      "Epoch 93/600\n",
      "14/14 [==============================] - 0s 32ms/step - loss: 0.0985 - val_loss: 0.0842\n",
      "Epoch 94/600\n",
      "14/14 [==============================] - 1s 42ms/step - loss: 0.0955 - val_loss: 0.0966\n",
      "Epoch 95/600\n",
      "14/14 [==============================] - 1s 39ms/step - loss: 0.1080 - val_loss: 0.0777\n",
      "Epoch 96/600\n",
      "14/14 [==============================] - 0s 33ms/step - loss: 0.0919 - val_loss: 0.0855\n",
      "Epoch 97/600\n",
      "14/14 [==============================] - 1s 41ms/step - loss: 0.0932 - val_loss: 0.0974\n",
      "Epoch 98/600\n",
      "14/14 [==============================] - 1s 42ms/step - loss: 0.0899 - val_loss: 0.0814\n",
      "Epoch 99/600\n",
      "14/14 [==============================] - 1s 41ms/step - loss: 0.0980 - val_loss: 0.0843\n",
      "Epoch 100/600\n",
      "14/14 [==============================] - 0s 33ms/step - loss: 0.1045 - val_loss: 0.0910\n",
      "Epoch 101/600\n",
      "14/14 [==============================] - 1s 45ms/step - loss: 0.0852 - val_loss: 0.0959\n",
      "Epoch 102/600\n",
      "14/14 [==============================] - 0s 35ms/step - loss: 0.1060 - val_loss: 0.0814\n",
      "Epoch 103/600\n",
      "14/14 [==============================] - 1s 41ms/step - loss: 0.0857 - val_loss: 0.0905\n",
      "Epoch 104/600\n",
      "14/14 [==============================] - 0s 30ms/step - loss: 0.1000 - val_loss: 0.0772\n",
      "Epoch 105/600\n",
      "14/14 [==============================] - 1s 39ms/step - loss: 0.0809 - val_loss: 0.0790\n",
      "Epoch 106/600\n",
      "14/14 [==============================] - 0s 32ms/step - loss: 0.0862 - val_loss: 0.0896\n",
      "Epoch 107/600\n",
      "14/14 [==============================] - 0s 31ms/step - loss: 0.1151 - val_loss: 0.0833\n",
      "Epoch 108/600\n",
      "14/14 [==============================] - 1s 43ms/step - loss: 0.0906 - val_loss: 0.0866\n",
      "Epoch 109/600\n",
      "14/14 [==============================] - 0s 38ms/step - loss: 0.1033 - val_loss: 0.0812\n",
      "Epoch 110/600\n",
      "14/14 [==============================] - 0s 37ms/step - loss: 0.0735 - val_loss: 0.0828\n",
      "Epoch 111/600\n",
      "14/14 [==============================] - 1s 38ms/step - loss: 0.0891 - val_loss: 0.0988\n",
      "Epoch 112/600\n",
      "14/14 [==============================] - 0s 34ms/step - loss: 0.0740 - val_loss: 0.0781\n",
      "Epoch 113/600\n",
      "14/14 [==============================] - 1s 42ms/step - loss: 0.0863 - val_loss: 0.0801\n",
      "Epoch 114/600\n",
      "14/14 [==============================] - 0s 35ms/step - loss: 0.0635 - val_loss: 0.1032\n",
      "Epoch 115/600\n",
      "14/14 [==============================] - 0s 32ms/step - loss: 0.0732 - val_loss: 0.0816\n",
      "Epoch 116/600\n",
      "14/14 [==============================] - 1s 40ms/step - loss: 0.0852 - val_loss: 0.0789\n",
      "Epoch 117/600\n",
      "14/14 [==============================] - 0s 33ms/step - loss: 0.0843 - val_loss: 0.0807\n",
      "Epoch 118/600\n",
      "14/14 [==============================] - 0s 36ms/step - loss: 0.0941 - val_loss: 0.0924\n",
      "Epoch 119/600\n",
      "14/14 [==============================] - 0s 31ms/step - loss: 0.0812 - val_loss: 0.0862\n",
      "Epoch 120/600\n",
      "14/14 [==============================] - 1s 39ms/step - loss: 0.0945 - val_loss: 0.0859\n",
      "Epoch 121/600\n",
      "14/14 [==============================] - 0s 31ms/step - loss: 0.1057 - val_loss: 0.0886\n",
      "Epoch 122/600\n",
      "14/14 [==============================] - 0s 33ms/step - loss: 0.0946 - val_loss: 0.0900\n",
      "Epoch 123/600\n",
      "14/14 [==============================] - 0s 36ms/step - loss: 0.1033 - val_loss: 0.0806\n",
      "Epoch 124/600\n",
      "14/14 [==============================] - 0s 34ms/step - loss: 0.1114 - val_loss: 0.0981\n",
      "Epoch 125/600\n",
      "14/14 [==============================] - 1s 59ms/step - loss: 0.0988 - val_loss: 0.0861\n",
      "Epoch 126/600\n",
      "14/14 [==============================] - 0s 34ms/step - loss: 0.0771 - val_loss: 0.0931\n",
      "Epoch 127/600\n",
      "14/14 [==============================] - 1s 41ms/step - loss: 0.1023 - val_loss: 0.0926\n",
      "Epoch 128/600\n",
      "14/14 [==============================] - 0s 36ms/step - loss: 0.1006 - val_loss: 0.0956\n",
      "Epoch 129/600\n",
      "14/14 [==============================] - 0s 31ms/step - loss: 0.0790 - val_loss: 0.0917\n",
      "Epoch 129: early stopping\n"
     ]
    },
    {
     "data": {
      "text/plain": [
       "<keras.callbacks.History at 0x1f0277f4c8>"
      ]
     },
     "execution_count": 33,
     "metadata": {},
     "output_type": "execute_result"
    }
   ],
   "source": [
    "model.fit(x=X_train, \n",
    "          y=y_train, \n",
    "          epochs=600,\n",
    "          validation_data=(X_test, y_test), verbose=1,\n",
    "          callbacks=[early_stop,board]\n",
    "          )"
   ]
  },
  {
   "cell_type": "markdown",
   "metadata": {},
   "source": [
    "# Running Tensorboard\n"
   ]
  },
  {
   "cell_type": "markdown",
   "metadata": {},
   "source": [
    "## Running through the Command Line\n",
    "\n",
    "**Watch video to see how to run Tensorboard through a command line call.**"
   ]
  },
  {
   "cell_type": "markdown",
   "metadata": {},
   "source": [
    "Tensorboard will run locally in your browser at [http://localhost:6006/](http://localhost:6006/)\n"
   ]
  },
  {
   "cell_type": "code",
   "execution_count": 34,
   "metadata": {},
   "outputs": [
    {
     "name": "stdout",
     "output_type": "stream",
     "text": [
      "logs\\fit\n"
     ]
    }
   ],
   "source": [
    "print(log_directory)"
   ]
  },
  {
   "cell_type": "code",
   "execution_count": 35,
   "metadata": {},
   "outputs": [
    {
     "data": {
      "text/plain": [
       "'C:\\\\Users\\\\Phone Thiri Yadana\\\\Desktop'"
      ]
     },
     "execution_count": 35,
     "metadata": {},
     "output_type": "execute_result"
    }
   ],
   "source": [
    "pwd"
   ]
  },
  {
   "cell_type": "markdown",
   "metadata": {},
   "source": [
    "### Use cd at your command line to change directory to the file path reported back by pwd or your current .py file location.\n",
    "### Then run this code at your command line or terminal"
   ]
  },
  {
   "cell_type": "code",
   "execution_count": null,
   "metadata": {},
   "outputs": [],
   "source": [
    "tensorboard --logdir logs\\fit "
   ]
  },
  {
   "cell_type": "code",
   "execution_count": null,
   "metadata": {},
   "outputs": [],
   "source": [
    "# example for my PC and Folder structure, I use command like this from cmd\n",
    "tensorboard --logdir 'C:\\Users\\Phone Thiri Yadana\\Desktop\\logs\\fit'"
   ]
  }
 ],
 "metadata": {
  "kernelspec": {
   "display_name": "Python 3 (ipykernel)",
   "language": "python",
   "name": "python3"
  },
  "language_info": {
   "codemirror_mode": {
    "name": "ipython",
    "version": 3
   },
   "file_extension": ".py",
   "mimetype": "text/x-python",
   "name": "python",
   "nbconvert_exporter": "python",
   "pygments_lexer": "ipython3",
   "version": "3.7.13"
  }
 },
 "nbformat": 4,
 "nbformat_minor": 2
}
