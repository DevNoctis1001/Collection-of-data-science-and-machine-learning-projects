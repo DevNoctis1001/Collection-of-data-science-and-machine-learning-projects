{
  "nbformat": 4,
  "nbformat_minor": 0,
  "metadata": {
    "colab": {
      "name": "Exercise 4-Question.ipynb",
      "provenance": [],
      "toc_visible": true
    },
    "kernelspec": {
      "display_name": "Python 3",
      "name": "python3"
    },
    "accelerator": "GPU"
  },
  "cells": [
    {
      "cell_type": "code",
      "metadata": {
        "id": "zX4Kg8DUTKWO"
      },
      "source": [
        "#@title Licensed under the Apache License, Version 2.0 (the \"License\");\n",
        "# you may not use this file except in compliance with the License.\n",
        "# You may obtain a copy of the License at\n",
        "#\n",
        "# https://www.apache.org/licenses/LICENSE-2.0\n",
        "#\n",
        "# Unless required by applicable law or agreed to in writing, software\n",
        "# distributed under the License is distributed on an \"AS IS\" BASIS,\n",
        "# WITHOUT WARRANTIES OR CONDITIONS OF ANY KIND, either express or implied.\n",
        "# See the License for the specific language governing permissions and\n",
        "# limitations under the License."
      ],
      "execution_count": 16,
      "outputs": []
    },
    {
      "cell_type": "markdown",
      "metadata": {
        "id": "UncprnB0ymAE"
      },
      "source": [
        "Below is code with a link to a happy or sad dataset which contains 80 images, 40 happy and 40 sad. \n",
        "Create a convolutional neural network that trains to 100% accuracy on these images,  which cancels training upon hitting training accuracy of >.999\n",
        "\n",
        "Hint -- it will work best with 3 convolutional layers."
      ]
    },
    {
      "cell_type": "code",
      "metadata": {
        "colab": {
          "base_uri": "https://localhost:8080/"
        },
        "id": "7Vti6p3PxmpS",
        "outputId": "8522ea34-e948-4407-d7eb-350d3765620f"
      },
      "source": [
        "import tensorflow as tf\n",
        "import os\n",
        "import zipfile\n",
        "\n",
        "\n",
        "DESIRED_ACCURACY = 0.999\n",
        "\n",
        "!wget --no-check-certificate \\\n",
        "    \"https://storage.googleapis.com/laurencemoroney-blog.appspot.com/happy-or-sad.zip\" \\\n",
        "    -O \"/tmp/happy-or-sad.zip\"\n",
        "\n",
        "zip_ref = zipfile.ZipFile(\"/tmp/happy-or-sad.zip\", 'r')\n",
        "zip_ref.extractall(\"/tmp/h-or-s\")\n",
        "zip_ref.close()"
      ],
      "execution_count": 17,
      "outputs": [
        {
          "output_type": "stream",
          "text": [
            "--2021-03-03 08:45:23--  https://storage.googleapis.com/laurencemoroney-blog.appspot.com/happy-or-sad.zip\n",
            "Resolving storage.googleapis.com (storage.googleapis.com)... 74.125.142.128, 74.125.195.128, 74.125.20.128, ...\n",
            "Connecting to storage.googleapis.com (storage.googleapis.com)|74.125.142.128|:443... connected.\n",
            "HTTP request sent, awaiting response... 200 OK\n",
            "Length: 2670333 (2.5M) [application/zip]\n",
            "Saving to: ‘/tmp/happy-or-sad.zip’\n",
            "\n",
            "\r/tmp/happy-or-sad.z   0%[                    ]       0  --.-KB/s               \r/tmp/happy-or-sad.z 100%[===================>]   2.55M  --.-KB/s    in 0.02s   \n",
            "\n",
            "2021-03-03 08:45:23 (107 MB/s) - ‘/tmp/happy-or-sad.zip’ saved [2670333/2670333]\n",
            "\n"
          ],
          "name": "stdout"
        }
      ]
    },
    {
      "cell_type": "code",
      "metadata": {
        "id": "kbtLo-xIDg76"
      },
      "source": [
        "class myCallback(tf.keras.callbacks.Callback):\r\n",
        "  def on_epoch_end(self, epoch, logs={}):\r\n",
        "    if (logs.get('accuracy') > DESIRED_ACCURACY):\r\n",
        "      print('\\Reached Accuracy 99.9% and stopped training')\r\n",
        "      self.model.stop_training = True\r\n",
        "\r\n",
        "# instantiate callback object\r\n",
        "callbacks = myCallback()"
      ],
      "execution_count": 18,
      "outputs": []
    },
    {
      "cell_type": "code",
      "metadata": {
        "id": "DRxGgqSkEXbk"
      },
      "source": [
        "from tensorflow.keras.models import Sequential\r\n",
        "from tensorflow.keras.layers import Conv2D, MaxPool2D, Flatten, Dense\r\n",
        "from tensorflow.keras.optimizers import RMSprop"
      ],
      "execution_count": 19,
      "outputs": []
    },
    {
      "cell_type": "code",
      "metadata": {
        "id": "whBZluA4Nq2y"
      },
      "source": [
        "# Model Building\r\n",
        "model = Sequential()\r\n",
        "\r\n",
        "model.add(Conv2D(16, (3,3), activation='relu', input_shape=(150, 150, 3)))\r\n",
        "model.add(MaxPool2D((2,2)))\r\n",
        "\r\n",
        "model.add(Conv2D(32, (3,3), activation='relu'))\r\n",
        "model.add(MaxPool2D((2,2)))\r\n",
        "\r\n",
        "model.add(Conv2D(32, (3,3), activation='relu'))\r\n",
        "model.add(MaxPool2D((2,2)))\r\n",
        "\r\n",
        "model.add(Flatten())\r\n",
        "\r\n",
        "model.add(Dense(512, activation='relu'))\r\n",
        "model.add(Dense(1, activation='sigmoid'))\r\n",
        "\r\n",
        "model.compile(optimizer=RMSprop(learning_rate=0.001),\r\n",
        "                loss='binary_crossentropy',\r\n",
        "                metrics=['accuracy'])"
      ],
      "execution_count": 26,
      "outputs": []
    },
    {
      "cell_type": "code",
      "metadata": {
        "id": "Z-5Gj-nnPKLh",
        "outputId": "82ac2f8d-3601-4121-c129-d0e422dcbd91",
        "colab": {
          "base_uri": "https://localhost:8080/"
        }
      },
      "source": [
        "# ImageGenerator\r\n",
        "from tensorflow.keras.preprocessing.image import ImageDataGenerator\r\n",
        "\r\n",
        "train_datagen = ImageDataGenerator(rescale=1/255)\r\n",
        "\r\n",
        "# load it from directory and the generator directly\r\n",
        "train_generator = train_datagen.flow_from_directory(\r\n",
        "    \"/tmp/h-or-s\",\r\n",
        "    target_size=(150, 150),\r\n",
        "    batch_size=10,\r\n",
        "    class_mode='binary'\r\n",
        ")\r\n",
        "\r\n",
        "\r\n",
        "# Expected output: 'Found 80 images belonging to 2 classes'"
      ],
      "execution_count": 27,
      "outputs": [
        {
          "output_type": "stream",
          "text": [
            "Found 80 images belonging to 2 classes.\n"
          ],
          "name": "stdout"
        }
      ]
    },
    {
      "cell_type": "code",
      "metadata": {
        "colab": {
          "base_uri": "https://localhost:8080/"
        },
        "id": "48dLm13U1-Le",
        "outputId": "01d2710d-fb4a-4043-987a-e333634c417e"
      },
      "source": [
        "# Model fitting\n",
        "history = model.fit(\n",
        "    train_generator,\n",
        "    steps_per_epoch=8,\n",
        "    epochs=15,\n",
        "    verbose=1,\n",
        "    callbacks=[callbacks]\n",
        ")\n",
        "    \n",
        "# Expected output: \"Reached 99.9% accuracy so cancelling training!\"\""
      ],
      "execution_count": 28,
      "outputs": [
        {
          "output_type": "stream",
          "text": [
            "Epoch 1/15\n",
            "8/8 [==============================] - 1s 17ms/step - loss: 2.3466 - accuracy: 0.6300\n",
            "Epoch 2/15\n",
            "8/8 [==============================] - 0s 17ms/step - loss: 0.5515 - accuracy: 0.6857\n",
            "Epoch 3/15\n",
            "8/8 [==============================] - 0s 17ms/step - loss: 0.3098 - accuracy: 0.8633\n",
            "Epoch 4/15\n",
            "8/8 [==============================] - 0s 19ms/step - loss: 0.3065 - accuracy: 0.9008\n",
            "Epoch 5/15\n",
            "8/8 [==============================] - 0s 16ms/step - loss: 0.2499 - accuracy: 0.8476\n",
            "Epoch 6/15\n",
            "8/8 [==============================] - 0s 17ms/step - loss: 0.1146 - accuracy: 0.9667\n",
            "Epoch 7/15\n",
            "8/8 [==============================] - 0s 18ms/step - loss: 0.0947 - accuracy: 0.9683\n",
            "Epoch 8/15\n",
            "8/8 [==============================] - 0s 17ms/step - loss: 0.1270 - accuracy: 0.9745\n",
            "Epoch 9/15\n",
            "8/8 [==============================] - 0s 16ms/step - loss: 0.1718 - accuracy: 0.9527\n",
            "Epoch 10/15\n",
            "8/8 [==============================] - 0s 16ms/step - loss: 0.0717 - accuracy: 0.9684\n",
            "Epoch 11/15\n",
            "8/8 [==============================] - 0s 18ms/step - loss: 0.0671 - accuracy: 0.9791\n",
            "Epoch 12/15\n",
            "8/8 [==============================] - 0s 16ms/step - loss: 0.0298 - accuracy: 1.0000\n",
            "\\Reached Accuracy 99.9% and stopped training\n"
          ],
          "name": "stdout"
        }
      ]
    },
    {
      "cell_type": "code",
      "metadata": {
        "id": "1wdrQu1cQMHa"
      },
      "source": [
        ""
      ],
      "execution_count": null,
      "outputs": []
    }
  ]
}