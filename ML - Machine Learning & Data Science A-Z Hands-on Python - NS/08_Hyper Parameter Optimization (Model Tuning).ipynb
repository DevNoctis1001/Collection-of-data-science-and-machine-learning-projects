{
 "cells": [
  {
   "cell_type": "markdown",
   "id": "6e2a6a36",
   "metadata": {
    "toc": true
   },
   "source": [
    "<h1>Table of Contents<span class=\"tocSkip\"></span></h1>\n",
    "<div class=\"toc\"><ul class=\"toc-item\"><li><span><a href=\"#08-Hyper-Parameter-Optimization-(Model-Tuning)\" data-toc-modified-id=\"08-Hyper-Parameter-Optimization-(Model-Tuning)-1\">08 Hyper Parameter Optimization (Model Tuning)</a></span></li><li><span><a href=\"#Support-Vector-Machine---Hyper-Parameters-Tuning\" data-toc-modified-id=\"Support-Vector-Machine---Hyper-Parameters-Tuning-2\">Support Vector Machine - Hyper Parameters Tuning</a></span><ul class=\"toc-item\"><li><span><a href=\"#Grid-Search-CV\" data-toc-modified-id=\"Grid-Search-CV-2.1\">Grid Search CV</a></span></li><li><span><a href=\"#Model-with-Best-Parameters\" data-toc-modified-id=\"Model-with-Best-Parameters-2.2\">Model with Best Parameters</a></span></li><li><span><a href=\"#Model-Evaluation\" data-toc-modified-id=\"Model-Evaluation-2.3\">Model Evaluation</a></span></li></ul></li><li><span><a href=\"#K-Means---Hyper-Parameters-Tuning\" data-toc-modified-id=\"K-Means---Hyper-Parameters-Tuning-3\">K-Means - Hyper Parameters Tuning</a></span><ul class=\"toc-item\"><li><span><a href=\"#Elbow-Method---to-find-Optimal-Point-to-reduce-Inertia\" data-toc-modified-id=\"Elbow-Method---to-find-Optimal-Point-to-reduce-Inertia-3.1\">Elbow Method - to find Optimal Point to reduce Inertia</a></span></li><li><span><a href=\"#Using-Grid-Search-CV\" data-toc-modified-id=\"Using-Grid-Search-CV-3.2\">Using Grid Search CV</a></span></li></ul></li><li><span><a href=\"#k-NN---Hyper-Parameter-Tuning\" data-toc-modified-id=\"k-NN---Hyper-Parameter-Tuning-4\">k-NN - Hyper Parameter Tuning</a></span><ul class=\"toc-item\"><li><span><a href=\"#Grid-Search-CV\" data-toc-modified-id=\"Grid-Search-CV-4.1\">Grid Search CV</a></span></li><li><span><a href=\"#Manually-Scoring-and-Visualization\" data-toc-modified-id=\"Manually-Scoring-and-Visualization-4.2\">Manually Scoring and Visualization</a></span></li></ul></li><li><span><a href=\"#Overfitting-and-Underfitting\" data-toc-modified-id=\"Overfitting-and-Underfitting-5\">Overfitting and Underfitting</a></span></li></ul></div>"
   ]
  },
  {
   "cell_type": "markdown",
   "id": "5ff8b030",
   "metadata": {},
   "source": [
    "-------\n",
    "\n",
    "# 08 Hyper Parameter Optimization (Model Tuning)"
   ]
  },
  {
   "cell_type": "code",
   "execution_count": 2,
   "id": "e62da13c",
   "metadata": {},
   "outputs": [],
   "source": [
    "import numpy as np\n",
    "import pandas as pd\n",
    "import matplotlib.pyplot as plt"
   ]
  },
  {
   "cell_type": "code",
   "execution_count": 3,
   "id": "4a252514",
   "metadata": {},
   "outputs": [],
   "source": [
    "data_url = \"http://lib.stat.cmu.edu/datasets/boston\"\n",
    "    \n",
    "raw_df = pd.read_csv(data_url, sep=\"\\s+\", skiprows=22, header=None)\n",
    "data = np.hstack([raw_df.values[::2, :], raw_df.values[1::2, :2]])\n",
    "target = raw_df.values[1::2, 2]\n",
    "\n",
    "X = data\n",
    "y = target"
   ]
  },
  {
   "cell_type": "code",
   "execution_count": 3,
   "id": "3182eb28",
   "metadata": {},
   "outputs": [],
   "source": [
    "from sklearn.model_selection import train_test_split"
   ]
  },
  {
   "cell_type": "code",
   "execution_count": 4,
   "id": "5fe4441a",
   "metadata": {},
   "outputs": [],
   "source": [
    "X_train, X_test, y_train, y_test = train_test_split(X, y, test_size=0.25, random_state=42)"
   ]
  },
  {
   "cell_type": "code",
   "execution_count": 5,
   "id": "3831952d",
   "metadata": {},
   "outputs": [],
   "source": [
    "from sklearn.preprocessing import MinMaxScaler"
   ]
  },
  {
   "cell_type": "code",
   "execution_count": 6,
   "id": "12e2bb15",
   "metadata": {},
   "outputs": [],
   "source": [
    "scaler = MinMaxScaler()"
   ]
  },
  {
   "cell_type": "code",
   "execution_count": 7,
   "id": "ae13b01a",
   "metadata": {},
   "outputs": [],
   "source": [
    "scaled_X_train = scaler.fit_transform(X_train)\n",
    "scaled_X_test = scaler.transform(X_test)"
   ]
  },
  {
   "cell_type": "markdown",
   "id": "30a34e68",
   "metadata": {},
   "source": [
    "# Support Vector Machine - Hyper Parameters Tuning\n",
    "## Grid Search CV"
   ]
  },
  {
   "cell_type": "code",
   "execution_count": 10,
   "id": "3a8e01d0",
   "metadata": {},
   "outputs": [],
   "source": [
    "from sklearn.svm import SVR\n",
    "from sklearn.model_selection import GridSearchCV"
   ]
  },
  {
   "cell_type": "code",
   "execution_count": 14,
   "id": "1cc76ce5",
   "metadata": {},
   "outputs": [],
   "source": [
    "svr_model = SVR()"
   ]
  },
  {
   "cell_type": "code",
   "execution_count": 15,
   "id": "43861ac6",
   "metadata": {},
   "outputs": [],
   "source": [
    "parameters = {\n",
    "    'kernel': ['rbf', 'linear'],\n",
    "    'gamma': [0.01, 0.1, 1, 10]\n",
    "}"
   ]
  },
  {
   "cell_type": "code",
   "execution_count": 16,
   "id": "29e5d0ec",
   "metadata": {},
   "outputs": [],
   "source": [
    "cv = GridSearchCV(svr_model, parameters, scoring='neg_mean_squared_error', cv=5, verbose=2)"
   ]
  },
  {
   "cell_type": "code",
   "execution_count": 17,
   "id": "00648193",
   "metadata": {},
   "outputs": [
    {
     "name": "stdout",
     "output_type": "stream",
     "text": [
      "Fitting 5 folds for each of 8 candidates, totalling 40 fits\n",
      "[CV] END .............................gamma=0.01, kernel=rbf; total time=   0.1s\n",
      "[CV] END .............................gamma=0.01, kernel=rbf; total time=   0.0s\n",
      "[CV] END .............................gamma=0.01, kernel=rbf; total time=   0.0s\n",
      "[CV] END .............................gamma=0.01, kernel=rbf; total time=   0.0s\n",
      "[CV] END .............................gamma=0.01, kernel=rbf; total time=   0.0s\n",
      "[CV] END ..........................gamma=0.01, kernel=linear; total time=   0.0s\n",
      "[CV] END ..........................gamma=0.01, kernel=linear; total time=   0.0s\n",
      "[CV] END ..........................gamma=0.01, kernel=linear; total time=   0.0s\n",
      "[CV] END ..........................gamma=0.01, kernel=linear; total time=   0.0s\n",
      "[CV] END ..........................gamma=0.01, kernel=linear; total time=   0.0s\n",
      "[CV] END ..............................gamma=0.1, kernel=rbf; total time=   0.0s\n",
      "[CV] END ..............................gamma=0.1, kernel=rbf; total time=   0.0s\n",
      "[CV] END ..............................gamma=0.1, kernel=rbf; total time=   0.0s\n",
      "[CV] END ..............................gamma=0.1, kernel=rbf; total time=   0.0s\n",
      "[CV] END ..............................gamma=0.1, kernel=rbf; total time=   0.0s\n",
      "[CV] END ...........................gamma=0.1, kernel=linear; total time=   0.0s\n",
      "[CV] END ...........................gamma=0.1, kernel=linear; total time=   0.0s\n",
      "[CV] END ...........................gamma=0.1, kernel=linear; total time=   0.0s\n",
      "[CV] END ...........................gamma=0.1, kernel=linear; total time=   0.0s\n",
      "[CV] END ...........................gamma=0.1, kernel=linear; total time=   0.0s\n",
      "[CV] END ................................gamma=1, kernel=rbf; total time=   0.0s\n",
      "[CV] END ................................gamma=1, kernel=rbf; total time=   0.0s\n",
      "[CV] END ................................gamma=1, kernel=rbf; total time=   0.0s\n",
      "[CV] END ................................gamma=1, kernel=rbf; total time=   0.0s\n",
      "[CV] END ................................gamma=1, kernel=rbf; total time=   0.0s\n",
      "[CV] END .............................gamma=1, kernel=linear; total time=   0.0s\n",
      "[CV] END .............................gamma=1, kernel=linear; total time=   0.0s\n",
      "[CV] END .............................gamma=1, kernel=linear; total time=   0.0s\n",
      "[CV] END .............................gamma=1, kernel=linear; total time=   0.0s\n",
      "[CV] END .............................gamma=1, kernel=linear; total time=   0.0s\n",
      "[CV] END ...............................gamma=10, kernel=rbf; total time=   0.0s\n",
      "[CV] END ...............................gamma=10, kernel=rbf; total time=   0.0s\n",
      "[CV] END ...............................gamma=10, kernel=rbf; total time=   0.0s\n",
      "[CV] END ...............................gamma=10, kernel=rbf; total time=   0.0s\n",
      "[CV] END ...............................gamma=10, kernel=rbf; total time=   0.0s\n",
      "[CV] END ............................gamma=10, kernel=linear; total time=   0.0s\n",
      "[CV] END ............................gamma=10, kernel=linear; total time=   0.0s\n",
      "[CV] END ............................gamma=10, kernel=linear; total time=   0.0s\n",
      "[CV] END ............................gamma=10, kernel=linear; total time=   0.0s\n",
      "[CV] END ............................gamma=10, kernel=linear; total time=   0.0s\n"
     ]
    },
    {
     "data": {
      "text/plain": [
       "GridSearchCV(cv=5, estimator=SVR(),\n",
       "             param_grid={'gamma': [0.01, 0.1, 1, 10],\n",
       "                         'kernel': ['rbf', 'linear']},\n",
       "             scoring='neg_mean_squared_error', verbose=2)"
      ]
     },
     "execution_count": 17,
     "metadata": {},
     "output_type": "execute_result"
    }
   ],
   "source": [
    "cv.fit(scaled_X_train, y_train)"
   ]
  },
  {
   "cell_type": "code",
   "execution_count": 18,
   "id": "4b08545b",
   "metadata": {},
   "outputs": [],
   "source": [
    "def print_results(results):\n",
    "    print('BEST PARAMS: {}\\n'.format(results.best_params_))\n",
    "    \n",
    "    means = results.cv_results_['mean_test_score']\n",
    "    stds = results.cv_results_['std_test_score']\n",
    "    for mean, std, params in zip(means, stds, results.cv_results_['params']):\n",
    "        print('{} (+-{}) for {}'.format(round(mean,3), round(std * 2,3), params))"
   ]
  },
  {
   "cell_type": "code",
   "execution_count": 19,
   "id": "51ea2800",
   "metadata": {},
   "outputs": [
    {
     "name": "stdout",
     "output_type": "stream",
     "text": [
      "BEST PARAMS: {'gamma': 0.01, 'kernel': 'linear'}\n",
      "\n",
      "-79.955 (+-19.201) for {'gamma': 0.01, 'kernel': 'rbf'}\n",
      "-35.118 (+-7.758) for {'gamma': 0.01, 'kernel': 'linear'}\n",
      "-57.076 (+-11.733) for {'gamma': 0.1, 'kernel': 'rbf'}\n",
      "-35.118 (+-7.758) for {'gamma': 0.1, 'kernel': 'linear'}\n",
      "-37.36 (+-12.271) for {'gamma': 1, 'kernel': 'rbf'}\n",
      "-35.118 (+-7.758) for {'gamma': 1, 'kernel': 'linear'}\n",
      "-59.385 (+-15.908) for {'gamma': 10, 'kernel': 'rbf'}\n",
      "-35.118 (+-7.758) for {'gamma': 10, 'kernel': 'linear'}\n"
     ]
    }
   ],
   "source": [
    "print_results(cv)"
   ]
  },
  {
   "cell_type": "code",
   "execution_count": 21,
   "id": "b4898011",
   "metadata": {},
   "outputs": [
    {
     "data": {
      "text/plain": [
       "SVR(gamma=0.01, kernel='linear')"
      ]
     },
     "execution_count": 21,
     "metadata": {},
     "output_type": "execute_result"
    }
   ],
   "source": [
    "cv.best_estimator_"
   ]
  },
  {
   "cell_type": "code",
   "execution_count": 23,
   "id": "06e2f2b1",
   "metadata": {},
   "outputs": [
    {
     "data": {
      "text/plain": [
       "{'gamma': 0.01, 'kernel': 'linear'}"
      ]
     },
     "execution_count": 23,
     "metadata": {},
     "output_type": "execute_result"
    }
   ],
   "source": [
    "cv.best_params_"
   ]
  },
  {
   "cell_type": "markdown",
   "id": "fa3ead97",
   "metadata": {},
   "source": [
    "## Model with Best Parameters"
   ]
  },
  {
   "cell_type": "code",
   "execution_count": 27,
   "id": "2728e035",
   "metadata": {},
   "outputs": [],
   "source": [
    "final_svr_model = SVR(gamma=0.01, kernel='linear')"
   ]
  },
  {
   "cell_type": "code",
   "execution_count": 28,
   "id": "12b29c5f",
   "metadata": {},
   "outputs": [
    {
     "data": {
      "text/plain": [
       "SVR(gamma=0.01, kernel='linear')"
      ]
     },
     "execution_count": 28,
     "metadata": {},
     "output_type": "execute_result"
    }
   ],
   "source": [
    "final_svr_model.fit(scaled_X_train, y_train)"
   ]
  },
  {
   "cell_type": "code",
   "execution_count": 30,
   "id": "2c93c955",
   "metadata": {},
   "outputs": [],
   "source": [
    "predictions = final_svr_model.predict(scaled_X_test)"
   ]
  },
  {
   "cell_type": "markdown",
   "id": "3c9ea32f",
   "metadata": {},
   "source": [
    "## Model Evaluation"
   ]
  },
  {
   "cell_type": "code",
   "execution_count": 31,
   "id": "583bd68c",
   "metadata": {},
   "outputs": [],
   "source": [
    "from sklearn.metrics import mean_absolute_error, mean_squared_error, r2_score"
   ]
  },
  {
   "cell_type": "code",
   "execution_count": 32,
   "id": "1967ea55",
   "metadata": {},
   "outputs": [
    {
     "name": "stdout",
     "output_type": "stream",
     "text": [
      "MAE:  2.995107074378878\n",
      "MSE:  26.09835442900856\n",
      "RMSE:  5.108654855146172\n",
      "R^2 Score:  0.6273108816510935\n"
     ]
    }
   ],
   "source": [
    "MAE = mean_absolute_error(y_test, predictions)\n",
    "MSE = mean_squared_error(y_test, predictions)\n",
    "RMSE = np.sqrt(MSE)\n",
    "R2 = r2_score(y_test, predictions)\n",
    "\n",
    "print('MAE: ', MAE)\n",
    "print('MSE: ', MSE)\n",
    "print('RMSE: ', RMSE)\n",
    "print('R^2 Score: ', R2)"
   ]
  },
  {
   "cell_type": "code",
   "execution_count": 35,
   "id": "4983213f",
   "metadata": {},
   "outputs": [],
   "source": [
    "def mean_abosulte_percentage_error(y_true, y_pred):\n",
    "    y_ture, y_pred = np.array(y_true), np.array(y_pred)\n",
    "    MAPE = np.mean(np.abs(y_true - y_pred) / y_true) * 100\n",
    "    return MAPE"
   ]
  },
  {
   "cell_type": "code",
   "execution_count": 36,
   "id": "7fdbc06f",
   "metadata": {},
   "outputs": [
    {
     "name": "stdout",
     "output_type": "stream",
     "text": [
      "MAPE:  14.013883983704043\n"
     ]
    }
   ],
   "source": [
    "MAPE = mean_abosulte_percentage_error(y_test, predictions)\n",
    "print('MAPE: ', MAPE)"
   ]
  },
  {
   "cell_type": "markdown",
   "id": "a04eb4cf",
   "metadata": {},
   "source": [
    "-------"
   ]
  },
  {
   "cell_type": "markdown",
   "id": "58d002c6",
   "metadata": {},
   "source": [
    "# K-Means - Hyper Parameters Tuning\n"
   ]
  },
  {
   "cell_type": "code",
   "execution_count": 5,
   "id": "252f2154",
   "metadata": {},
   "outputs": [],
   "source": [
    "from sklearn.datasets import load_iris\n",
    "data = load_iris()\n",
    "\n",
    "X = data['data']\n",
    "y = data['target']"
   ]
  },
  {
   "cell_type": "code",
   "execution_count": 6,
   "id": "99a5ac19",
   "metadata": {},
   "outputs": [],
   "source": [
    "from sklearn.cluster import KMeans"
   ]
  },
  {
   "cell_type": "markdown",
   "id": "b205ccb8",
   "metadata": {},
   "source": [
    "## Elbow Method - to find Optimal Point to reduce Inertia"
   ]
  },
  {
   "cell_type": "code",
   "execution_count": 7,
   "id": "8eda4742",
   "metadata": {},
   "outputs": [],
   "source": [
    "K_inertia = []"
   ]
  },
  {
   "cell_type": "code",
   "execution_count": 8,
   "id": "f5aeea6d",
   "metadata": {},
   "outputs": [],
   "source": [
    "n_clusters = 15\n",
    "\n",
    "for i in range(1, n_clusters):\n",
    "    kmeans = KMeans(n_clusters = i, random_state=44)\n",
    "    kmeans.fit(X)\n",
    "    K_inertia.append(kmeans.inertia_)"
   ]
  },
  {
   "cell_type": "code",
   "execution_count": 9,
   "id": "0872edc8",
   "metadata": {},
   "outputs": [
    {
     "data": {
      "image/png": "[encoded data removed]",
      "text/plain": [
       "<Figure size 432x288 with 1 Axes>"
      ]
     },
     "metadata": {
      "needs_background": "light"
     },
     "output_type": "display_data"
    }
   ],
   "source": [
    "plt.plot(range(1, n_clusters), K_inertia, marker='o', c='green');\n",
    "plt.xlabel('Number of Clusters (k)')\n",
    "plt.ylabel('Inertia')\n",
    "plt.title('Elbow Method - Inertia visualization');"
   ]
  },
  {
   "cell_type": "markdown",
   "id": "f4889238",
   "metadata": {},
   "source": [
    "## Using Grid Search CV"
   ]
  },
  {
   "cell_type": "code",
   "execution_count": 10,
   "id": "d0129cfb",
   "metadata": {},
   "outputs": [],
   "source": [
    "from sklearn.model_selection import GridSearchCV"
   ]
  },
  {
   "cell_type": "code",
   "execution_count": 11,
   "id": "0d3ccb14",
   "metadata": {},
   "outputs": [],
   "source": [
    "kmeans = KMeans(random_state=44)"
   ]
  },
  {
   "cell_type": "code",
   "execution_count": 12,
   "id": "35dec9bb",
   "metadata": {},
   "outputs": [],
   "source": [
    "parameters = {\n",
    "    'n_clusters': [1, 2, 3, 4, 5, 6, 7, 8, 9, 10]\n",
    "}"
   ]
  },
  {
   "cell_type": "code",
   "execution_count": 13,
   "id": "b0e52366",
   "metadata": {},
   "outputs": [],
   "source": [
    "cv = GridSearchCV(kmeans, parameters, cv=5)"
   ]
  },
  {
   "cell_type": "code",
   "execution_count": 14,
   "id": "459338e5",
   "metadata": {},
   "outputs": [
    {
     "data": {
      "text/plain": [
       "GridSearchCV(cv=5, estimator=KMeans(random_state=44),\n",
       "             param_grid={'n_clusters': [1, 2, 3, 4, 5, 6, 7, 8, 9, 10]})"
      ]
     },
     "execution_count": 14,
     "metadata": {},
     "output_type": "execute_result"
    }
   ],
   "source": [
    "cv.fit(X, y)"
   ]
  },
  {
   "cell_type": "code",
   "execution_count": 15,
   "id": "8c7834c7",
   "metadata": {},
   "outputs": [
    {
     "data": {
      "text/plain": [
       "{'n_clusters': 10}"
      ]
     },
     "execution_count": 15,
     "metadata": {},
     "output_type": "execute_result"
    }
   ],
   "source": [
    "cv.best_params_"
   ]
  },
  {
   "cell_type": "code",
   "execution_count": 16,
   "id": "13d236ba",
   "metadata": {},
   "outputs": [],
   "source": [
    "def print_results(results):\n",
    "    print('BEST PARAMS: {}\\n'.format(results.best_params_))\n",
    "    \n",
    "    means = results.cv_results_['mean_test_score']\n",
    "    stds = results.cv_results_['std_test_score']\n",
    "    for mean, std, params in zip(means, stds, results.cv_results_['params']):\n",
    "        print('{} (+-{}) for {}'.format(round(mean,3), round(std * 2,3), params))"
   ]
  },
  {
   "cell_type": "code",
   "execution_count": 17,
   "id": "f8282c11",
   "metadata": {},
   "outputs": [
    {
     "name": "stdout",
     "output_type": "stream",
     "text": [
      "BEST PARAMS: {'n_clusters': 10}\n",
      "\n",
      "-191.509 (+-192.128) for {'n_clusters': 1}\n",
      "-40.462 (+-39.577) for {'n_clusters': 2}\n",
      "-17.238 (+-9.89) for {'n_clusters': 3}\n",
      "-13.428 (+-6.134) for {'n_clusters': 4}\n",
      "-12.81 (+-6.499) for {'n_clusters': 5}\n",
      "-10.35 (+-3.48) for {'n_clusters': 6}\n",
      "-9.798 (+-3.164) for {'n_clusters': 7}\n",
      "-7.866 (+-3.434) for {'n_clusters': 8}\n",
      "-7.75 (+-4.162) for {'n_clusters': 9}\n",
      "-7.726 (+-4.333) for {'n_clusters': 10}\n"
     ]
    }
   ],
   "source": [
    "print_results(cv)"
   ]
  },
  {
   "cell_type": "markdown",
   "id": "fc1092db",
   "metadata": {},
   "source": [
    "---------"
   ]
  },
  {
   "cell_type": "markdown",
   "id": "f1865a69",
   "metadata": {},
   "source": [
    "# k-NN - Hyper Parameter Tuning"
   ]
  },
  {
   "cell_type": "code",
   "execution_count": 18,
   "id": "5ffe8c57",
   "metadata": {},
   "outputs": [],
   "source": [
    "from sklearn.datasets import load_iris\n",
    "data = load_iris()\n",
    "\n",
    "X = data['data']\n",
    "y = data['target']"
   ]
  },
  {
   "cell_type": "code",
   "execution_count": 19,
   "id": "fcde6f57",
   "metadata": {},
   "outputs": [],
   "source": [
    "from sklearn.model_selection import train_test_split\n",
    "\n",
    "X_train, X_test, y_train, y_test = train_test_split(X, y, test_size=0.25, random_state=44)"
   ]
  },
  {
   "cell_type": "code",
   "execution_count": 20,
   "id": "87b68c11",
   "metadata": {},
   "outputs": [],
   "source": [
    "from sklearn.preprocessing import MinMaxScaler\n",
    "\n",
    "scaler = MinMaxScaler()\n",
    "scaled_X_train = scaler.fit_transform(X_train)\n",
    "scaled_X_test = scaler.transform(X_test)"
   ]
  },
  {
   "cell_type": "markdown",
   "id": "37320661",
   "metadata": {},
   "source": [
    "## Grid Search CV"
   ]
  },
  {
   "cell_type": "code",
   "execution_count": 21,
   "id": "610b6043",
   "metadata": {},
   "outputs": [],
   "source": [
    "from sklearn.neighbors import KNeighborsClassifier"
   ]
  },
  {
   "cell_type": "code",
   "execution_count": 22,
   "id": "bc8f0291",
   "metadata": {},
   "outputs": [],
   "source": [
    "knn = KNeighborsClassifier()"
   ]
  },
  {
   "cell_type": "code",
   "execution_count": 45,
   "id": "88e0ea4e",
   "metadata": {},
   "outputs": [],
   "source": [
    "parameters = {\n",
    "    'n_neighbors': [i for i in range(1,50)],\n",
    "    'weights': ['uniform', 'distance'],\n",
    "    'leaf_size': [15, 20],\n",
    "    'metric': ['minkowski']\n",
    "}"
   ]
  },
  {
   "cell_type": "code",
   "execution_count": 46,
   "id": "913dfaa3",
   "metadata": {},
   "outputs": [],
   "source": [
    "from sklearn.model_selection import GridSearchCV"
   ]
  },
  {
   "cell_type": "code",
   "execution_count": 47,
   "id": "053e1eb9",
   "metadata": {},
   "outputs": [],
   "source": [
    "cv = GridSearchCV(knn, parameters, cv=5, verbose=1)"
   ]
  },
  {
   "cell_type": "code",
   "execution_count": 48,
   "id": "420ddb59",
   "metadata": {},
   "outputs": [
    {
     "name": "stdout",
     "output_type": "stream",
     "text": [
      "Fitting 5 folds for each of 196 candidates, totalling 980 fits\n"
     ]
    },
    {
     "data": {
      "text/plain": [
       "GridSearchCV(cv=5, estimator=KNeighborsClassifier(),\n",
       "             param_grid={'leaf_size': [15, 20], 'metric': ['minkowski'],\n",
       "                         'n_neighbors': [1, 2, 3, 4, 5, 6, 7, 8, 9, 10, 11, 12,\n",
       "                                         13, 14, 15, 16, 17, 18, 19, 20, 21, 22,\n",
       "                                         23, 24, 25, 26, 27, 28, 29, 30, ...],\n",
       "                         'weights': ['uniform', 'distance']},\n",
       "             verbose=1)"
      ]
     },
     "execution_count": 48,
     "metadata": {},
     "output_type": "execute_result"
    }
   ],
   "source": [
    "cv.fit(scaled_X_train, y_train)"
   ]
  },
  {
   "cell_type": "code",
   "execution_count": 49,
   "id": "b98d3120",
   "metadata": {},
   "outputs": [
    {
     "name": "stdout",
     "output_type": "stream",
     "text": [
      "BEST PARAMS: {'leaf_size': 15, 'metric': 'minkowski', 'n_neighbors': 6, 'weights': 'uniform'}\n",
      "\n",
      "0.937 (+-0.092) for {'leaf_size': 15, 'metric': 'minkowski', 'n_neighbors': 1, 'weights': 'uniform'}\n",
      "0.937 (+-0.092) for {'leaf_size': 15, 'metric': 'minkowski', 'n_neighbors': 1, 'weights': 'distance'}\n",
      "0.938 (+-0.043) for {'leaf_size': 15, 'metric': 'minkowski', 'n_neighbors': 2, 'weights': 'uniform'}\n",
      "0.937 (+-0.092) for {'leaf_size': 15, 'metric': 'minkowski', 'n_neighbors': 2, 'weights': 'distance'}\n",
      "0.937 (+-0.092) for {'leaf_size': 15, 'metric': 'minkowski', 'n_neighbors': 3, 'weights': 'uniform'}\n",
      "0.937 (+-0.092) for {'leaf_size': 15, 'metric': 'minkowski', 'n_neighbors': 3, 'weights': 'distance'}\n",
      "0.955 (+-0.058) for {'leaf_size': 15, 'metric': 'minkowski', 'n_neighbors': 4, 'weights': 'uniform'}\n",
      "0.937 (+-0.092) for {'leaf_size': 15, 'metric': 'minkowski', 'n_neighbors': 4, 'weights': 'distance'}\n",
      "0.955 (+-0.058) for {'leaf_size': 15, 'metric': 'minkowski', 'n_neighbors': 5, 'weights': 'uniform'}\n",
      "0.946 (+-0.089) for {'leaf_size': 15, 'metric': 'minkowski', 'n_neighbors': 5, 'weights': 'distance'}\n",
      "0.964 (+-0.068) for {'leaf_size': 15, 'metric': 'minkowski', 'n_neighbors': 6, 'weights': 'uniform'}\n",
      "0.955 (+-0.058) for {'leaf_size': 15, 'metric': 'minkowski', 'n_neighbors': 6, 'weights': 'distance'}\n",
      "0.964 (+-0.068) for {'leaf_size': 15, 'metric': 'minkowski', 'n_neighbors': 7, 'weights': 'uniform'}\n",
      "0.964 (+-0.068) for {'leaf_size': 15, 'metric': 'minkowski', 'n_neighbors': 7, 'weights': 'distance'}\n",
      "0.955 (+-0.058) for {'leaf_size': 15, 'metric': 'minkowski', 'n_neighbors': 8, 'weights': 'uniform'}\n",
      "0.955 (+-0.058) for {'leaf_size': 15, 'metric': 'minkowski', 'n_neighbors': 8, 'weights': 'distance'}\n",
      "0.955 (+-0.058) for {'leaf_size': 15, 'metric': 'minkowski', 'n_neighbors': 9, 'weights': 'uniform'}\n",
      "0.955 (+-0.058) for {'leaf_size': 15, 'metric': 'minkowski', 'n_neighbors': 9, 'weights': 'distance'}\n",
      "0.955 (+-0.058) for {'leaf_size': 15, 'metric': 'minkowski', 'n_neighbors': 10, 'weights': 'uniform'}\n",
      "0.955 (+-0.058) for {'leaf_size': 15, 'metric': 'minkowski', 'n_neighbors': 10, 'weights': 'distance'}\n",
      "0.955 (+-0.058) for {'leaf_size': 15, 'metric': 'minkowski', 'n_neighbors': 11, 'weights': 'uniform'}\n",
      "0.955 (+-0.058) for {'leaf_size': 15, 'metric': 'minkowski', 'n_neighbors': 11, 'weights': 'distance'}\n",
      "0.955 (+-0.08) for {'leaf_size': 15, 'metric': 'minkowski', 'n_neighbors': 12, 'weights': 'uniform'}\n",
      "0.955 (+-0.058) for {'leaf_size': 15, 'metric': 'minkowski', 'n_neighbors': 12, 'weights': 'distance'}\n",
      "0.964 (+-0.068) for {'leaf_size': 15, 'metric': 'minkowski', 'n_neighbors': 13, 'weights': 'uniform'}\n",
      "0.955 (+-0.058) for {'leaf_size': 15, 'metric': 'minkowski', 'n_neighbors': 13, 'weights': 'distance'}\n",
      "0.955 (+-0.08) for {'leaf_size': 15, 'metric': 'minkowski', 'n_neighbors': 14, 'weights': 'uniform'}\n",
      "0.955 (+-0.058) for {'leaf_size': 15, 'metric': 'minkowski', 'n_neighbors': 14, 'weights': 'distance'}\n",
      "0.955 (+-0.08) for {'leaf_size': 15, 'metric': 'minkowski', 'n_neighbors': 15, 'weights': 'uniform'}\n",
      "0.937 (+-0.092) for {'leaf_size': 15, 'metric': 'minkowski', 'n_neighbors': 15, 'weights': 'distance'}\n",
      "0.955 (+-0.08) for {'leaf_size': 15, 'metric': 'minkowski', 'n_neighbors': 16, 'weights': 'uniform'}\n",
      "0.946 (+-0.066) for {'leaf_size': 15, 'metric': 'minkowski', 'n_neighbors': 16, 'weights': 'distance'}\n",
      "0.928 (+-0.092) for {'leaf_size': 15, 'metric': 'minkowski', 'n_neighbors': 17, 'weights': 'uniform'}\n",
      "0.937 (+-0.092) for {'leaf_size': 15, 'metric': 'minkowski', 'n_neighbors': 17, 'weights': 'distance'}\n",
      "0.937 (+-0.072) for {'leaf_size': 15, 'metric': 'minkowski', 'n_neighbors': 18, 'weights': 'uniform'}\n",
      "0.946 (+-0.066) for {'leaf_size': 15, 'metric': 'minkowski', 'n_neighbors': 18, 'weights': 'distance'}\n",
      "0.937 (+-0.072) for {'leaf_size': 15, 'metric': 'minkowski', 'n_neighbors': 19, 'weights': 'uniform'}\n",
      "0.937 (+-0.072) for {'leaf_size': 15, 'metric': 'minkowski', 'n_neighbors': 19, 'weights': 'distance'}\n",
      "0.937 (+-0.072) for {'leaf_size': 15, 'metric': 'minkowski', 'n_neighbors': 20, 'weights': 'uniform'}\n",
      "0.937 (+-0.072) for {'leaf_size': 15, 'metric': 'minkowski', 'n_neighbors': 20, 'weights': 'distance'}\n",
      "0.928 (+-0.092) for {'leaf_size': 15, 'metric': 'minkowski', 'n_neighbors': 21, 'weights': 'uniform'}\n",
      "0.937 (+-0.072) for {'leaf_size': 15, 'metric': 'minkowski', 'n_neighbors': 21, 'weights': 'distance'}\n",
      "0.928 (+-0.121) for {'leaf_size': 15, 'metric': 'minkowski', 'n_neighbors': 22, 'weights': 'uniform'}\n",
      "0.937 (+-0.072) for {'leaf_size': 15, 'metric': 'minkowski', 'n_neighbors': 22, 'weights': 'distance'}\n",
      "0.928 (+-0.121) for {'leaf_size': 15, 'metric': 'minkowski', 'n_neighbors': 23, 'weights': 'uniform'}\n",
      "0.928 (+-0.092) for {'leaf_size': 15, 'metric': 'minkowski', 'n_neighbors': 23, 'weights': 'distance'}\n",
      "0.938 (+-0.106) for {'leaf_size': 15, 'metric': 'minkowski', 'n_neighbors': 24, 'weights': 'uniform'}\n",
      "0.937 (+-0.108) for {'leaf_size': 15, 'metric': 'minkowski', 'n_neighbors': 24, 'weights': 'distance'}\n",
      "0.919 (+-0.132) for {'leaf_size': 15, 'metric': 'minkowski', 'n_neighbors': 25, 'weights': 'uniform'}\n",
      "0.928 (+-0.092) for {'leaf_size': 15, 'metric': 'minkowski', 'n_neighbors': 25, 'weights': 'distance'}\n",
      "0.928 (+-0.121) for {'leaf_size': 15, 'metric': 'minkowski', 'n_neighbors': 26, 'weights': 'uniform'}\n",
      "0.937 (+-0.108) for {'leaf_size': 15, 'metric': 'minkowski', 'n_neighbors': 26, 'weights': 'distance'}\n",
      "0.919 (+-0.132) for {'leaf_size': 15, 'metric': 'minkowski', 'n_neighbors': 27, 'weights': 'uniform'}\n",
      "0.937 (+-0.108) for {'leaf_size': 15, 'metric': 'minkowski', 'n_neighbors': 27, 'weights': 'distance'}\n",
      "0.911 (+-0.114) for {'leaf_size': 15, 'metric': 'minkowski', 'n_neighbors': 28, 'weights': 'uniform'}\n",
      "0.946 (+-0.105) for {'leaf_size': 15, 'metric': 'minkowski', 'n_neighbors': 28, 'weights': 'distance'}\n",
      "0.911 (+-0.114) for {'leaf_size': 15, 'metric': 'minkowski', 'n_neighbors': 29, 'weights': 'uniform'}\n",
      "0.937 (+-0.108) for {'leaf_size': 15, 'metric': 'minkowski', 'n_neighbors': 29, 'weights': 'distance'}\n",
      "0.911 (+-0.114) for {'leaf_size': 15, 'metric': 'minkowski', 'n_neighbors': 30, 'weights': 'uniform'}\n",
      "0.937 (+-0.108) for {'leaf_size': 15, 'metric': 'minkowski', 'n_neighbors': 30, 'weights': 'distance'}\n",
      "0.911 (+-0.114) for {'leaf_size': 15, 'metric': 'minkowski', 'n_neighbors': 31, 'weights': 'uniform'}\n",
      "0.937 (+-0.108) for {'leaf_size': 15, 'metric': 'minkowski', 'n_neighbors': 31, 'weights': 'distance'}\n",
      "0.911 (+-0.114) for {'leaf_size': 15, 'metric': 'minkowski', 'n_neighbors': 32, 'weights': 'uniform'}\n",
      "0.946 (+-0.105) for {'leaf_size': 15, 'metric': 'minkowski', 'n_neighbors': 32, 'weights': 'distance'}\n",
      "0.911 (+-0.114) for {'leaf_size': 15, 'metric': 'minkowski', 'n_neighbors': 33, 'weights': 'uniform'}\n",
      "0.937 (+-0.108) for {'leaf_size': 15, 'metric': 'minkowski', 'n_neighbors': 33, 'weights': 'distance'}\n",
      "0.92 (+-0.104) for {'leaf_size': 15, 'metric': 'minkowski', 'n_neighbors': 34, 'weights': 'uniform'}\n",
      "0.937 (+-0.108) for {'leaf_size': 15, 'metric': 'minkowski', 'n_neighbors': 34, 'weights': 'distance'}\n",
      "0.911 (+-0.128) for {'leaf_size': 15, 'metric': 'minkowski', 'n_neighbors': 35, 'weights': 'uniform'}\n",
      "0.937 (+-0.108) for {'leaf_size': 15, 'metric': 'minkowski', 'n_neighbors': 35, 'weights': 'distance'}\n",
      "0.902 (+-0.12) for {'leaf_size': 15, 'metric': 'minkowski', 'n_neighbors': 36, 'weights': 'uniform'}\n",
      "0.946 (+-0.105) for {'leaf_size': 15, 'metric': 'minkowski', 'n_neighbors': 36, 'weights': 'distance'}\n",
      "0.902 (+-0.156) for {'leaf_size': 15, 'metric': 'minkowski', 'n_neighbors': 37, 'weights': 'uniform'}\n",
      "0.946 (+-0.105) for {'leaf_size': 15, 'metric': 'minkowski', 'n_neighbors': 37, 'weights': 'distance'}\n",
      "0.893 (+-0.147) for {'leaf_size': 15, 'metric': 'minkowski', 'n_neighbors': 38, 'weights': 'uniform'}\n",
      "0.946 (+-0.105) for {'leaf_size': 15, 'metric': 'minkowski', 'n_neighbors': 38, 'weights': 'distance'}\n",
      "0.884 (+-0.148) for {'leaf_size': 15, 'metric': 'minkowski', 'n_neighbors': 39, 'weights': 'uniform'}\n",
      "0.938 (+-0.092) for {'leaf_size': 15, 'metric': 'minkowski', 'n_neighbors': 39, 'weights': 'distance'}\n",
      "0.884 (+-0.148) for {'leaf_size': 15, 'metric': 'minkowski', 'n_neighbors': 40, 'weights': 'uniform'}\n",
      "0.938 (+-0.092) for {'leaf_size': 15, 'metric': 'minkowski', 'n_neighbors': 40, 'weights': 'distance'}\n",
      "0.884 (+-0.148) for {'leaf_size': 15, 'metric': 'minkowski', 'n_neighbors': 41, 'weights': 'uniform'}\n",
      "0.938 (+-0.092) for {'leaf_size': 15, 'metric': 'minkowski', 'n_neighbors': 41, 'weights': 'distance'}\n",
      "0.884 (+-0.148) for {'leaf_size': 15, 'metric': 'minkowski', 'n_neighbors': 42, 'weights': 'uniform'}\n",
      "0.938 (+-0.092) for {'leaf_size': 15, 'metric': 'minkowski', 'n_neighbors': 42, 'weights': 'distance'}\n",
      "0.884 (+-0.148) for {'leaf_size': 15, 'metric': 'minkowski', 'n_neighbors': 43, 'weights': 'uniform'}\n",
      "0.928 (+-0.093) for {'leaf_size': 15, 'metric': 'minkowski', 'n_neighbors': 43, 'weights': 'distance'}\n",
      "0.884 (+-0.148) for {'leaf_size': 15, 'metric': 'minkowski', 'n_neighbors': 44, 'weights': 'uniform'}\n",
      "0.92 (+-0.089) for {'leaf_size': 15, 'metric': 'minkowski', 'n_neighbors': 44, 'weights': 'distance'}\n",
      "0.884 (+-0.148) for {'leaf_size': 15, 'metric': 'minkowski', 'n_neighbors': 45, 'weights': 'uniform'}\n",
      "0.928 (+-0.093) for {'leaf_size': 15, 'metric': 'minkowski', 'n_neighbors': 45, 'weights': 'distance'}\n",
      "0.884 (+-0.148) for {'leaf_size': 15, 'metric': 'minkowski', 'n_neighbors': 46, 'weights': 'uniform'}\n",
      "0.928 (+-0.093) for {'leaf_size': 15, 'metric': 'minkowski', 'n_neighbors': 46, 'weights': 'distance'}\n",
      "0.875 (+-0.157) for {'leaf_size': 15, 'metric': 'minkowski', 'n_neighbors': 47, 'weights': 'uniform'}\n",
      "0.928 (+-0.093) for {'leaf_size': 15, 'metric': 'minkowski', 'n_neighbors': 47, 'weights': 'distance'}\n",
      "0.875 (+-0.157) for {'leaf_size': 15, 'metric': 'minkowski', 'n_neighbors': 48, 'weights': 'uniform'}\n",
      "0.928 (+-0.093) for {'leaf_size': 15, 'metric': 'minkowski', 'n_neighbors': 48, 'weights': 'distance'}\n",
      "0.884 (+-0.148) for {'leaf_size': 15, 'metric': 'minkowski', 'n_neighbors': 49, 'weights': 'uniform'}\n",
      "0.928 (+-0.093) for {'leaf_size': 15, 'metric': 'minkowski', 'n_neighbors': 49, 'weights': 'distance'}\n",
      "0.937 (+-0.092) for {'leaf_size': 20, 'metric': 'minkowski', 'n_neighbors': 1, 'weights': 'uniform'}\n",
      "0.937 (+-0.092) for {'leaf_size': 20, 'metric': 'minkowski', 'n_neighbors': 1, 'weights': 'distance'}\n",
      "0.938 (+-0.043) for {'leaf_size': 20, 'metric': 'minkowski', 'n_neighbors': 2, 'weights': 'uniform'}\n",
      "0.937 (+-0.092) for {'leaf_size': 20, 'metric': 'minkowski', 'n_neighbors': 2, 'weights': 'distance'}\n",
      "0.937 (+-0.092) for {'leaf_size': 20, 'metric': 'minkowski', 'n_neighbors': 3, 'weights': 'uniform'}\n",
      "0.937 (+-0.092) for {'leaf_size': 20, 'metric': 'minkowski', 'n_neighbors': 3, 'weights': 'distance'}\n",
      "0.955 (+-0.058) for {'leaf_size': 20, 'metric': 'minkowski', 'n_neighbors': 4, 'weights': 'uniform'}\n",
      "0.937 (+-0.092) for {'leaf_size': 20, 'metric': 'minkowski', 'n_neighbors': 4, 'weights': 'distance'}\n",
      "0.955 (+-0.058) for {'leaf_size': 20, 'metric': 'minkowski', 'n_neighbors': 5, 'weights': 'uniform'}\n",
      "0.946 (+-0.089) for {'leaf_size': 20, 'metric': 'minkowski', 'n_neighbors': 5, 'weights': 'distance'}\n",
      "0.964 (+-0.068) for {'leaf_size': 20, 'metric': 'minkowski', 'n_neighbors': 6, 'weights': 'uniform'}\n",
      "0.955 (+-0.058) for {'leaf_size': 20, 'metric': 'minkowski', 'n_neighbors': 6, 'weights': 'distance'}\n",
      "0.964 (+-0.068) for {'leaf_size': 20, 'metric': 'minkowski', 'n_neighbors': 7, 'weights': 'uniform'}\n",
      "0.964 (+-0.068) for {'leaf_size': 20, 'metric': 'minkowski', 'n_neighbors': 7, 'weights': 'distance'}\n",
      "0.955 (+-0.058) for {'leaf_size': 20, 'metric': 'minkowski', 'n_neighbors': 8, 'weights': 'uniform'}\n",
      "0.955 (+-0.058) for {'leaf_size': 20, 'metric': 'minkowski', 'n_neighbors': 8, 'weights': 'distance'}\n",
      "0.955 (+-0.058) for {'leaf_size': 20, 'metric': 'minkowski', 'n_neighbors': 9, 'weights': 'uniform'}\n",
      "0.955 (+-0.058) for {'leaf_size': 20, 'metric': 'minkowski', 'n_neighbors': 9, 'weights': 'distance'}\n",
      "0.955 (+-0.058) for {'leaf_size': 20, 'metric': 'minkowski', 'n_neighbors': 10, 'weights': 'uniform'}\n",
      "0.955 (+-0.058) for {'leaf_size': 20, 'metric': 'minkowski', 'n_neighbors': 10, 'weights': 'distance'}\n",
      "0.955 (+-0.058) for {'leaf_size': 20, 'metric': 'minkowski', 'n_neighbors': 11, 'weights': 'uniform'}\n",
      "0.955 (+-0.058) for {'leaf_size': 20, 'metric': 'minkowski', 'n_neighbors': 11, 'weights': 'distance'}\n",
      "0.955 (+-0.08) for {'leaf_size': 20, 'metric': 'minkowski', 'n_neighbors': 12, 'weights': 'uniform'}\n",
      "0.955 (+-0.058) for {'leaf_size': 20, 'metric': 'minkowski', 'n_neighbors': 12, 'weights': 'distance'}\n",
      "0.964 (+-0.068) for {'leaf_size': 20, 'metric': 'minkowski', 'n_neighbors': 13, 'weights': 'uniform'}\n",
      "0.955 (+-0.058) for {'leaf_size': 20, 'metric': 'minkowski', 'n_neighbors': 13, 'weights': 'distance'}\n",
      "0.955 (+-0.08) for {'leaf_size': 20, 'metric': 'minkowski', 'n_neighbors': 14, 'weights': 'uniform'}\n",
      "0.955 (+-0.058) for {'leaf_size': 20, 'metric': 'minkowski', 'n_neighbors': 14, 'weights': 'distance'}\n",
      "0.955 (+-0.08) for {'leaf_size': 20, 'metric': 'minkowski', 'n_neighbors': 15, 'weights': 'uniform'}\n",
      "0.937 (+-0.092) for {'leaf_size': 20, 'metric': 'minkowski', 'n_neighbors': 15, 'weights': 'distance'}\n",
      "0.955 (+-0.08) for {'leaf_size': 20, 'metric': 'minkowski', 'n_neighbors': 16, 'weights': 'uniform'}\n",
      "0.946 (+-0.066) for {'leaf_size': 20, 'metric': 'minkowski', 'n_neighbors': 16, 'weights': 'distance'}\n",
      "0.928 (+-0.092) for {'leaf_size': 20, 'metric': 'minkowski', 'n_neighbors': 17, 'weights': 'uniform'}\n",
      "0.937 (+-0.092) for {'leaf_size': 20, 'metric': 'minkowski', 'n_neighbors': 17, 'weights': 'distance'}\n",
      "0.937 (+-0.072) for {'leaf_size': 20, 'metric': 'minkowski', 'n_neighbors': 18, 'weights': 'uniform'}\n",
      "0.946 (+-0.066) for {'leaf_size': 20, 'metric': 'minkowski', 'n_neighbors': 18, 'weights': 'distance'}\n",
      "0.937 (+-0.072) for {'leaf_size': 20, 'metric': 'minkowski', 'n_neighbors': 19, 'weights': 'uniform'}\n",
      "0.937 (+-0.072) for {'leaf_size': 20, 'metric': 'minkowski', 'n_neighbors': 19, 'weights': 'distance'}\n",
      "0.937 (+-0.072) for {'leaf_size': 20, 'metric': 'minkowski', 'n_neighbors': 20, 'weights': 'uniform'}\n",
      "0.937 (+-0.072) for {'leaf_size': 20, 'metric': 'minkowski', 'n_neighbors': 20, 'weights': 'distance'}\n",
      "0.928 (+-0.092) for {'leaf_size': 20, 'metric': 'minkowski', 'n_neighbors': 21, 'weights': 'uniform'}\n",
      "0.937 (+-0.072) for {'leaf_size': 20, 'metric': 'minkowski', 'n_neighbors': 21, 'weights': 'distance'}\n",
      "0.928 (+-0.121) for {'leaf_size': 20, 'metric': 'minkowski', 'n_neighbors': 22, 'weights': 'uniform'}\n",
      "0.937 (+-0.072) for {'leaf_size': 20, 'metric': 'minkowski', 'n_neighbors': 22, 'weights': 'distance'}\n",
      "0.928 (+-0.121) for {'leaf_size': 20, 'metric': 'minkowski', 'n_neighbors': 23, 'weights': 'uniform'}\n",
      "0.928 (+-0.092) for {'leaf_size': 20, 'metric': 'minkowski', 'n_neighbors': 23, 'weights': 'distance'}\n",
      "0.938 (+-0.106) for {'leaf_size': 20, 'metric': 'minkowski', 'n_neighbors': 24, 'weights': 'uniform'}\n",
      "0.937 (+-0.108) for {'leaf_size': 20, 'metric': 'minkowski', 'n_neighbors': 24, 'weights': 'distance'}\n",
      "0.919 (+-0.132) for {'leaf_size': 20, 'metric': 'minkowski', 'n_neighbors': 25, 'weights': 'uniform'}\n",
      "0.928 (+-0.092) for {'leaf_size': 20, 'metric': 'minkowski', 'n_neighbors': 25, 'weights': 'distance'}\n",
      "0.928 (+-0.121) for {'leaf_size': 20, 'metric': 'minkowski', 'n_neighbors': 26, 'weights': 'uniform'}\n",
      "0.937 (+-0.108) for {'leaf_size': 20, 'metric': 'minkowski', 'n_neighbors': 26, 'weights': 'distance'}\n",
      "0.919 (+-0.132) for {'leaf_size': 20, 'metric': 'minkowski', 'n_neighbors': 27, 'weights': 'uniform'}\n",
      "0.937 (+-0.108) for {'leaf_size': 20, 'metric': 'minkowski', 'n_neighbors': 27, 'weights': 'distance'}\n",
      "0.911 (+-0.114) for {'leaf_size': 20, 'metric': 'minkowski', 'n_neighbors': 28, 'weights': 'uniform'}\n",
      "0.946 (+-0.105) for {'leaf_size': 20, 'metric': 'minkowski', 'n_neighbors': 28, 'weights': 'distance'}\n",
      "0.911 (+-0.114) for {'leaf_size': 20, 'metric': 'minkowski', 'n_neighbors': 29, 'weights': 'uniform'}\n",
      "0.937 (+-0.108) for {'leaf_size': 20, 'metric': 'minkowski', 'n_neighbors': 29, 'weights': 'distance'}\n",
      "0.911 (+-0.114) for {'leaf_size': 20, 'metric': 'minkowski', 'n_neighbors': 30, 'weights': 'uniform'}\n",
      "0.937 (+-0.108) for {'leaf_size': 20, 'metric': 'minkowski', 'n_neighbors': 30, 'weights': 'distance'}\n",
      "0.911 (+-0.114) for {'leaf_size': 20, 'metric': 'minkowski', 'n_neighbors': 31, 'weights': 'uniform'}\n",
      "0.937 (+-0.108) for {'leaf_size': 20, 'metric': 'minkowski', 'n_neighbors': 31, 'weights': 'distance'}\n",
      "0.911 (+-0.114) for {'leaf_size': 20, 'metric': 'minkowski', 'n_neighbors': 32, 'weights': 'uniform'}\n",
      "0.946 (+-0.105) for {'leaf_size': 20, 'metric': 'minkowski', 'n_neighbors': 32, 'weights': 'distance'}\n",
      "0.911 (+-0.114) for {'leaf_size': 20, 'metric': 'minkowski', 'n_neighbors': 33, 'weights': 'uniform'}\n",
      "0.937 (+-0.108) for {'leaf_size': 20, 'metric': 'minkowski', 'n_neighbors': 33, 'weights': 'distance'}\n",
      "0.92 (+-0.104) for {'leaf_size': 20, 'metric': 'minkowski', 'n_neighbors': 34, 'weights': 'uniform'}\n",
      "0.937 (+-0.108) for {'leaf_size': 20, 'metric': 'minkowski', 'n_neighbors': 34, 'weights': 'distance'}\n",
      "0.911 (+-0.128) for {'leaf_size': 20, 'metric': 'minkowski', 'n_neighbors': 35, 'weights': 'uniform'}\n",
      "0.937 (+-0.108) for {'leaf_size': 20, 'metric': 'minkowski', 'n_neighbors': 35, 'weights': 'distance'}\n",
      "0.902 (+-0.12) for {'leaf_size': 20, 'metric': 'minkowski', 'n_neighbors': 36, 'weights': 'uniform'}\n",
      "0.946 (+-0.105) for {'leaf_size': 20, 'metric': 'minkowski', 'n_neighbors': 36, 'weights': 'distance'}\n",
      "0.902 (+-0.156) for {'leaf_size': 20, 'metric': 'minkowski', 'n_neighbors': 37, 'weights': 'uniform'}\n",
      "0.946 (+-0.105) for {'leaf_size': 20, 'metric': 'minkowski', 'n_neighbors': 37, 'weights': 'distance'}\n",
      "0.893 (+-0.147) for {'leaf_size': 20, 'metric': 'minkowski', 'n_neighbors': 38, 'weights': 'uniform'}\n",
      "0.946 (+-0.105) for {'leaf_size': 20, 'metric': 'minkowski', 'n_neighbors': 38, 'weights': 'distance'}\n",
      "0.884 (+-0.148) for {'leaf_size': 20, 'metric': 'minkowski', 'n_neighbors': 39, 'weights': 'uniform'}\n",
      "0.938 (+-0.092) for {'leaf_size': 20, 'metric': 'minkowski', 'n_neighbors': 39, 'weights': 'distance'}\n",
      "0.884 (+-0.148) for {'leaf_size': 20, 'metric': 'minkowski', 'n_neighbors': 40, 'weights': 'uniform'}\n",
      "0.938 (+-0.092) for {'leaf_size': 20, 'metric': 'minkowski', 'n_neighbors': 40, 'weights': 'distance'}\n",
      "0.884 (+-0.148) for {'leaf_size': 20, 'metric': 'minkowski', 'n_neighbors': 41, 'weights': 'uniform'}\n",
      "0.938 (+-0.092) for {'leaf_size': 20, 'metric': 'minkowski', 'n_neighbors': 41, 'weights': 'distance'}\n",
      "0.884 (+-0.148) for {'leaf_size': 20, 'metric': 'minkowski', 'n_neighbors': 42, 'weights': 'uniform'}\n",
      "0.938 (+-0.092) for {'leaf_size': 20, 'metric': 'minkowski', 'n_neighbors': 42, 'weights': 'distance'}\n",
      "0.884 (+-0.148) for {'leaf_size': 20, 'metric': 'minkowski', 'n_neighbors': 43, 'weights': 'uniform'}\n",
      "0.928 (+-0.093) for {'leaf_size': 20, 'metric': 'minkowski', 'n_neighbors': 43, 'weights': 'distance'}\n",
      "0.884 (+-0.148) for {'leaf_size': 20, 'metric': 'minkowski', 'n_neighbors': 44, 'weights': 'uniform'}\n",
      "0.92 (+-0.089) for {'leaf_size': 20, 'metric': 'minkowski', 'n_neighbors': 44, 'weights': 'distance'}\n",
      "0.884 (+-0.148) for {'leaf_size': 20, 'metric': 'minkowski', 'n_neighbors': 45, 'weights': 'uniform'}\n",
      "0.928 (+-0.093) for {'leaf_size': 20, 'metric': 'minkowski', 'n_neighbors': 45, 'weights': 'distance'}\n",
      "0.884 (+-0.148) for {'leaf_size': 20, 'metric': 'minkowski', 'n_neighbors': 46, 'weights': 'uniform'}\n",
      "0.928 (+-0.093) for {'leaf_size': 20, 'metric': 'minkowski', 'n_neighbors': 46, 'weights': 'distance'}\n",
      "0.875 (+-0.157) for {'leaf_size': 20, 'metric': 'minkowski', 'n_neighbors': 47, 'weights': 'uniform'}\n",
      "0.928 (+-0.093) for {'leaf_size': 20, 'metric': 'minkowski', 'n_neighbors': 47, 'weights': 'distance'}\n",
      "0.875 (+-0.157) for {'leaf_size': 20, 'metric': 'minkowski', 'n_neighbors': 48, 'weights': 'uniform'}\n",
      "0.928 (+-0.093) for {'leaf_size': 20, 'metric': 'minkowski', 'n_neighbors': 48, 'weights': 'distance'}\n",
      "0.884 (+-0.148) for {'leaf_size': 20, 'metric': 'minkowski', 'n_neighbors': 49, 'weights': 'uniform'}\n",
      "0.928 (+-0.093) for {'leaf_size': 20, 'metric': 'minkowski', 'n_neighbors': 49, 'weights': 'distance'}\n"
     ]
    }
   ],
   "source": [
    "print_results(cv)"
   ]
  },
  {
   "cell_type": "code",
   "execution_count": 50,
   "id": "b99cf591",
   "metadata": {},
   "outputs": [
    {
     "data": {
      "text/plain": [
       "{'leaf_size': 15,\n",
       " 'metric': 'minkowski',\n",
       " 'n_neighbors': 6,\n",
       " 'weights': 'uniform'}"
      ]
     },
     "execution_count": 50,
     "metadata": {},
     "output_type": "execute_result"
    }
   ],
   "source": [
    "cv.best_params_"
   ]
  },
  {
   "cell_type": "markdown",
   "id": "70e5a498",
   "metadata": {},
   "source": [
    "-------"
   ]
  },
  {
   "cell_type": "markdown",
   "id": "3333ad65",
   "metadata": {},
   "source": [
    "## Manually Scoring and Visualization"
   ]
  },
  {
   "cell_type": "code",
   "execution_count": 52,
   "id": "4c6a0ca4",
   "metadata": {},
   "outputs": [],
   "source": [
    "knn_accuracy_test = []\n",
    "\n",
    "for k in range(1, 50):\n",
    "    knn = KNeighborsClassifier(n_neighbors=k, metric='minkowski', weights='uniform', leaf_size=15)\n",
    "    knn.fit(scaled_X_train, y_train)\n",
    "    knn_accuracy_test.append(knn.score(scaled_X_test, y_test))"
   ]
  },
  {
   "cell_type": "code",
   "execution_count": 56,
   "id": "77aa3bd6",
   "metadata": {},
   "outputs": [
    {
     "data": {
      "image/png": "[encoded data removed]",
      "text/plain": [
       "<Figure size 432x288 with 1 Axes>"
      ]
     },
     "metadata": {
      "needs_background": "light"
     },
     "output_type": "display_data"
    }
   ],
   "source": [
    "plt.plot(np.arange(1, 50), knn_accuracy_test, label='test');\n",
    "plt.xlabel('N Neighbors')\n",
    "plt.ylabel('score');"
   ]
  },
  {
   "cell_type": "markdown",
   "id": "1be4cc18",
   "metadata": {},
   "source": [
    "------------"
   ]
  },
  {
   "cell_type": "markdown",
   "id": "7bc181cc",
   "metadata": {},
   "source": [
    "\n",
    "# Overfitting and Underfitting"
   ]
  },
  {
   "cell_type": "markdown",
   "id": "136975c8",
   "metadata": {},
   "source": [
    "![](Images/overunderfitting.png)"
   ]
  },
  {
   "cell_type": "code",
   "execution_count": 57,
   "id": "c5fa1d64",
   "metadata": {},
   "outputs": [],
   "source": [
    "knn_accuracy_test = []\n",
    "knn_accuracy_train = []\n",
    "\n",
    "for k in range(1, 50):\n",
    "    knn = KNeighborsClassifier(n_neighbors=k, metric='minkowski', weights='uniform', leaf_size=15)\n",
    "    knn.fit(scaled_X_train, y_train)\n",
    "    knn_accuracy_train.append(knn.score(scaled_X_train, y_train))\n",
    "    knn_accuracy_test.append(knn.score(scaled_X_test, y_test))"
   ]
  },
  {
   "cell_type": "code",
   "execution_count": 61,
   "id": "a1a05852",
   "metadata": {},
   "outputs": [
    {
     "data": {
      "image/png": "[encoded data removed]",
      "text/plain": [
       "<Figure size 432x288 with 1 Axes>"
      ]
     },
     "metadata": {
      "needs_background": "light"
     },
     "output_type": "display_data"
    }
   ],
   "source": [
    "plt.plot(np.arange(1, 50), knn_accuracy_train, label='train');\n",
    "plt.plot(np.arange(1, 50), knn_accuracy_test, label='test');\n",
    "plt.legend()\n",
    "plt.xlabel('N Neighbors')\n",
    "plt.ylabel('score');\n",
    "plt.title('Training Test Set');"
   ]
  }
 ],
 "metadata": {
  "kernelspec": {
   "display_name": "venv-rf",
   "language": "python",
   "name": "venv-rf"
  },
  "language_info": {
   "codemirror_mode": {
    "name": "ipython",
    "version": 3
   },
   "file_extension": ".py",
   "mimetype": "text/x-python",
   "name": "python",
   "nbconvert_exporter": "python",
   "pygments_lexer": "ipython3",
   "version": "3.7.13"
  },
  "toc": {
   "base_numbering": 1,
   "nav_menu": {},
   "number_sections": false,
   "sideBar": true,
   "skip_h1_title": false,
   "title_cell": "Table of Contents",
   "title_sidebar": "Contents",
   "toc_cell": true,
   "toc_position": {
    "height": "calc(100% - 180px)",
    "left": "10px",
    "top": "150px",
    "width": "248.338px"
   },
   "toc_section_display": true,
   "toc_window_display": true
  }
 },
 "nbformat": 4,
 "nbformat_minor": 5
}
