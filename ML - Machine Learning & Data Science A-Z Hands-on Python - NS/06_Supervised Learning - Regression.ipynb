{
 "cells": [
  {
   "cell_type": "markdown",
   "id": "3f92ac79",
   "metadata": {
    "toc": true
   },
   "source": [
    "<h1>Table of Contents<span class=\"tocSkip\"></span></h1>\n",
    "<div class=\"toc\"><ul class=\"toc-item\"><li><span><a href=\"#Supervied-Learning---Regression\" data-toc-modified-id=\"Supervied-Learning---Regression-1\">Supervied Learning - Regression</a></span><ul class=\"toc-item\"><li><span><a href=\"#Linear-Regression-vs-Multi-Regression\" data-toc-modified-id=\"Linear-Regression-vs-Multi-Regression-1.1\">Linear Regression vs Multi Regression</a></span></li><li><span><a href=\"#Boston-Dataset\" data-toc-modified-id=\"Boston-Dataset-1.2\">Boston Dataset</a></span></li><li><span><a href=\"#Train-Test-Split\" data-toc-modified-id=\"Train-Test-Split-1.3\">Train Test Split</a></span></li><li><span><a href=\"#Scaling\" data-toc-modified-id=\"Scaling-1.4\">Scaling</a></span></li></ul></li><li><span><a href=\"#Linear-Regression\" data-toc-modified-id=\"Linear-Regression-2\">Linear Regression</a></span><ul class=\"toc-item\"><li><span><a href=\"#Model-Prediction\" data-toc-modified-id=\"Model-Prediction-2.1\">Model Prediction</a></span></li><li><span><a href=\"#Model-Evaluation\" data-toc-modified-id=\"Model-Evaluation-2.2\">Model Evaluation</a></span></li><li><span><a href=\"#Regression-Evaluation-Metrics\" data-toc-modified-id=\"Regression-Evaluation-Metrics-2.3\">Regression Evaluation Metrics</a></span><ul class=\"toc-item\"><li><span><a href=\"#MAE-,-MSE,-RMSE,-MAPE\" data-toc-modified-id=\"MAE-,-MSE,-RMSE,-MAPE-2.3.1\">MAE , MSE, RMSE, MAPE</a></span></li><li><span><a href=\"#R-Squared-(R2)\" data-toc-modified-id=\"R-Squared-(R2)-2.3.2\">R-Squared (R2)</a></span></li></ul></li><li><span><a href=\"#Evaluation-Metrics---Implementation\" data-toc-modified-id=\"Evaluation-Metrics---Implementation-2.4\">Evaluation Metrics - Implementation</a></span></li></ul></li><li><span><a href=\"#Polynomial-Linear-Regression\" data-toc-modified-id=\"Polynomial-Linear-Regression-3\">Polynomial Linear Regression</a></span><ul class=\"toc-item\"><li><span><a href=\"#Polynomial-Linear-Regression-Model-Development\" data-toc-modified-id=\"Polynomial-Linear-Regression-Model-Development-3.1\">Polynomial Linear Regression Model Development</a></span><ul class=\"toc-item\"><li><span><a href=\"#Price-based-on-Number-Of-Rooms-feature\" data-toc-modified-id=\"Price-based-on-Number-Of-Rooms-feature-3.1.1\">Price based on Number Of Rooms feature</a></span></li><li><span><a href=\"#Create-PolynomialFeatures\" data-toc-modified-id=\"Create-PolynomialFeatures-3.1.2\">Create PolynomialFeatures</a></span></li><li><span><a href=\"#Model-Creation\" data-toc-modified-id=\"Model-Creation-3.1.3\">Model Creation</a></span></li><li><span><a href=\"#Model-Predictions\" data-toc-modified-id=\"Model-Predictions-3.1.4\">Model Predictions</a></span></li><li><span><a href=\"#Model-Evaluation\" data-toc-modified-id=\"Model-Evaluation-3.1.5\">Model Evaluation</a></span></li></ul></li></ul></li><li><span><a href=\"#Random-Forest\" data-toc-modified-id=\"Random-Forest-4\">Random Forest</a></span><ul class=\"toc-item\"><li><span><a href=\"#Model-Creation-and-Prediction\" data-toc-modified-id=\"Model-Creation-and-Prediction-4.1\">Model Creation and Prediction</a></span></li><li><span><a href=\"#Model-Evaluation\" data-toc-modified-id=\"Model-Evaluation-4.2\">Model Evaluation</a></span></li></ul></li><li><span><a href=\"#Support-Vectore-Machine\" data-toc-modified-id=\"Support-Vectore-Machine-5\">Support Vectore Machine</a></span><ul class=\"toc-item\"><li><span><a href=\"#Model-Creation-&amp;-Prediction\" data-toc-modified-id=\"Model-Creation-&amp;-Prediction-5.1\">Model Creation &amp; Prediction</a></span></li><li><span><a href=\"#Model-Evaluation\" data-toc-modified-id=\"Model-Evaluation-5.2\">Model Evaluation</a></span></li></ul></li></ul></div>"
   ]
  },
  {
   "cell_type": "markdown",
   "id": "d80b41c3",
   "metadata": {},
   "source": [
    "# Supervied Learning - Regression"
   ]
  },
  {
   "cell_type": "markdown",
   "id": "8a8e23df",
   "metadata": {},
   "source": [
    "![](Images/reg1.png)"
   ]
  },
  {
   "cell_type": "markdown",
   "id": "f32eb2e7",
   "metadata": {},
   "source": [
    "## Linear Regression vs Multi Regression"
   ]
  },
  {
   "cell_type": "markdown",
   "id": "ccda5317",
   "metadata": {},
   "source": [
    "![](Images/reg2.png)"
   ]
  },
  {
   "cell_type": "markdown",
   "id": "4c7684dd",
   "metadata": {},
   "source": [
    "----------"
   ]
  },
  {
   "cell_type": "markdown",
   "id": "a1e5a393",
   "metadata": {},
   "source": [
    "## Boston Dataset"
   ]
  },
  {
   "cell_type": "code",
   "execution_count": 5,
   "id": "28b39e44",
   "metadata": {},
   "outputs": [],
   "source": [
    "import numpy as np\n",
    "import pandas as pd\n",
    "import matplotlib.pyplot as plt"
   ]
  },
  {
   "cell_type": "markdown",
   "id": "d19b8fd1",
   "metadata": {},
   "source": [
    " Variables in order:\n",
    " \n",
    "+ CRIM     per capita crime rate by town\n",
    "+ ZN       proportion of residential land zoned for lots over 25,000 sq.ft.\n",
    "+ INDUS    proportion of non-retail business acres per town\n",
    "+ CHAS     Charles River dummy variable (= 1 if tract bounds river; 0 otherwise)\n",
    "+ NOX      nitric oxides concentration (parts per 10 million)\n",
    "+ RM       average number of rooms per dwelling\n",
    "+ AGE      proportion of owner-occupied units built prior to 1940\n",
    "+ DIS      weighted distances to five Boston employment centres\n",
    "+ RAD      index of accessibility to radial highways\n",
    "+ TAX      full-value property-tax rate per `10,000`\n",
    "+ PTRATIO  pupil-teacher ratio by town\n",
    "+ B        1000(Bk - 0.63)^2 where Bk is the proportion of blacks by town\n",
    "+ LSTAT    % lower status of the population\n",
    "+ MEDV     Median value of owner-occupied homes in $1000's`"
   ]
  },
  {
   "cell_type": "code",
   "execution_count": 5,
   "id": "c973ac3b",
   "metadata": {},
   "outputs": [],
   "source": [
    " data_url = \"http://lib.stat.cmu.edu/datasets/boston\"\n",
    "    \n",
    "raw_df = pd.read_csv(data_url, sep=\"\\s+\", skiprows=22, header=None)\n",
    "data = np.hstack([raw_df.values[::2, :], raw_df.values[1::2, :2]])\n",
    "target = raw_df.values[1::2, 2]"
   ]
  },
  {
   "cell_type": "code",
   "execution_count": 10,
   "id": "107efff5",
   "metadata": {},
   "outputs": [
    {
     "data": {
      "text/plain": [
       "array([[6.320e-03, 1.800e+01, 2.310e+00, 0.000e+00, 5.380e-01, 6.575e+00,\n",
       "        6.520e+01, 4.090e+00, 1.000e+00, 2.960e+02, 1.530e+01, 3.969e+02,\n",
       "        4.980e+00]])"
      ]
     },
     "execution_count": 10,
     "metadata": {},
     "output_type": "execute_result"
    }
   ],
   "source": [
    "data[:1]"
   ]
  },
  {
   "cell_type": "code",
   "execution_count": 8,
   "id": "e79305d5",
   "metadata": {},
   "outputs": [
    {
     "data": {
      "text/plain": [
       "array([24.])"
      ]
     },
     "execution_count": 8,
     "metadata": {},
     "output_type": "execute_result"
    }
   ],
   "source": [
    "target[:1]"
   ]
  },
  {
   "cell_type": "code",
   "execution_count": 11,
   "id": "27e333b1",
   "metadata": {},
   "outputs": [],
   "source": [
    "X = data\n",
    "y = target"
   ]
  },
  {
   "cell_type": "markdown",
   "id": "71d6e150",
   "metadata": {},
   "source": [
    "## Train Test Split"
   ]
  },
  {
   "cell_type": "code",
   "execution_count": 12,
   "id": "459cda02",
   "metadata": {},
   "outputs": [],
   "source": [
    "from sklearn.model_selection import train_test_split"
   ]
  },
  {
   "cell_type": "code",
   "execution_count": 13,
   "id": "28322f54",
   "metadata": {},
   "outputs": [],
   "source": [
    "X_train, X_test, y_train, y_test = train_test_split(X, y, test_size=0.25, random_state=42)"
   ]
  },
  {
   "cell_type": "code",
   "execution_count": 14,
   "id": "9367b2a9",
   "metadata": {},
   "outputs": [
    {
     "data": {
      "text/plain": [
       "((379, 13), (127, 13))"
      ]
     },
     "execution_count": 14,
     "metadata": {},
     "output_type": "execute_result"
    }
   ],
   "source": [
    "X_train.shape,X_test.shape"
   ]
  },
  {
   "cell_type": "markdown",
   "id": "a4593efc",
   "metadata": {},
   "source": [
    "## Scaling\n",
    "As each value of features are different in values, we want to scale it."
   ]
  },
  {
   "cell_type": "code",
   "execution_count": 17,
   "id": "52f2ae21",
   "metadata": {},
   "outputs": [],
   "source": [
    "from sklearn.preprocessing import MinMaxScaler"
   ]
  },
  {
   "cell_type": "code",
   "execution_count": 18,
   "id": "ce186303",
   "metadata": {},
   "outputs": [],
   "source": [
    "scaler = MinMaxScaler(feature_range=(0,1))"
   ]
  },
  {
   "cell_type": "code",
   "execution_count": 19,
   "id": "22fd8605",
   "metadata": {},
   "outputs": [],
   "source": [
    "scaled_X_train = scaler.fit_transform(X_train)\n",
    "scaled_X_test = scaler.transform(X_test)"
   ]
  },
  {
   "cell_type": "markdown",
   "id": "68abf8f6",
   "metadata": {},
   "source": [
    "# Linear Regression\n",
    "## Model Prediction"
   ]
  },
  {
   "cell_type": "code",
   "execution_count": 21,
   "id": "5db80fc4",
   "metadata": {},
   "outputs": [],
   "source": [
    "from sklearn.linear_model import LinearRegression"
   ]
  },
  {
   "cell_type": "code",
   "execution_count": 22,
   "id": "8013e01a",
   "metadata": {},
   "outputs": [],
   "source": [
    "lr_model = LinearRegression()"
   ]
  },
  {
   "cell_type": "code",
   "execution_count": 23,
   "id": "1d3b13e1",
   "metadata": {},
   "outputs": [
    {
     "data": {
      "text/plain": [
       "LinearRegression()"
      ]
     },
     "execution_count": 23,
     "metadata": {},
     "output_type": "execute_result"
    }
   ],
   "source": [
    "lr_model.fit(scaled_X_train, y_train)"
   ]
  },
  {
   "cell_type": "code",
   "execution_count": 24,
   "id": "dc9f9aac",
   "metadata": {},
   "outputs": [],
   "source": [
    "predictions = lr_model.predict(scaled_X_test)"
   ]
  },
  {
   "cell_type": "markdown",
   "id": "417e898e",
   "metadata": {},
   "source": [
    "## Model Evaluation"
   ]
  },
  {
   "cell_type": "markdown",
   "id": "da457152",
   "metadata": {},
   "source": [
    "## Regression Evaluation Metrics\n",
    "+ MAE\n",
    "+ MSE\n",
    "+ RMSE\n",
    "+ MAPE"
   ]
  },
  {
   "cell_type": "markdown",
   "id": "65ae7b0b",
   "metadata": {},
   "source": [
    "### MAE , MSE, RMSE, MAPE\n",
    "![](Images/regression_evaluation_metrics.png)\n",
    "![](Images/regression_evaluation_metrics2.png)\n",
    "\n",
    "### R-Squared (R2)\n",
    "![](Images/regression_evaluation_metrics3.png)"
   ]
  },
  {
   "cell_type": "markdown",
   "id": "53435e93",
   "metadata": {},
   "source": [
    "The better our model is, the less residual.\n",
    "\n",
    "**The Higher the R2 value, The better the model is**"
   ]
  },
  {
   "cell_type": "markdown",
   "id": "6da14225",
   "metadata": {},
   "source": [
    "## Evaluation Metrics - Implementation"
   ]
  },
  {
   "cell_type": "code",
   "execution_count": 30,
   "id": "f63d116d",
   "metadata": {},
   "outputs": [],
   "source": [
    "from sklearn.metrics import mean_absolute_error\n",
    "from sklearn.metrics import mean_squared_error\n",
    "from sklearn.metrics import r2_score"
   ]
  },
  {
   "cell_type": "code",
   "execution_count": 32,
   "id": "95b8f404",
   "metadata": {},
   "outputs": [
    {
     "name": "stdout",
     "output_type": "stream",
     "text": [
      "MAE:  3.0609395954370324\n"
     ]
    }
   ],
   "source": [
    "MAE = mean_absolute_error(y_test, predictions)\n",
    "print('MAE: ', MAE)"
   ]
  },
  {
   "cell_type": "code",
   "execution_count": 33,
   "id": "ed3e4806",
   "metadata": {},
   "outputs": [
    {
     "name": "stdout",
     "output_type": "stream",
     "text": [
      "MSE:  22.098694827098004\n"
     ]
    }
   ],
   "source": [
    "MSE = mean_squared_error(y_test, predictions)\n",
    "print('MSE: ', MSE)"
   ]
  },
  {
   "cell_type": "code",
   "execution_count": 34,
   "id": "1dd02ce3",
   "metadata": {},
   "outputs": [
    {
     "name": "stdout",
     "output_type": "stream",
     "text": [
      "RMSE:  4.700924890603764\n"
     ]
    }
   ],
   "source": [
    "RMSE = np.sqrt(MSE)\n",
    "print('RMSE: ', RMSE)"
   ]
  },
  {
   "cell_type": "code",
   "execution_count": 36,
   "id": "9dd1e79e",
   "metadata": {},
   "outputs": [
    {
     "name": "stdout",
     "output_type": "stream",
     "text": [
      "R2 0.6844267283527128\n"
     ]
    }
   ],
   "source": [
    "R2 = r2_score(y_test, predictions)\n",
    "print('R2', R2)"
   ]
  },
  {
   "cell_type": "code",
   "execution_count": 40,
   "id": "6adbbcea",
   "metadata": {},
   "outputs": [],
   "source": [
    "def mean_absolute_percentage_error(y_true, y_pred):\n",
    "    y_true, y_pred = np.array(y_true), np.array(y_pred)\n",
    "    mape = np.mean(np.abs((y_true - y_pred) / y_true)) * 100\n",
    "    return mape"
   ]
  },
  {
   "cell_type": "code",
   "execution_count": 41,
   "id": "fb186610",
   "metadata": {},
   "outputs": [
    {
     "name": "stdout",
     "output_type": "stream",
     "text": [
      "MAPE 16.19917459163263\n"
     ]
    }
   ],
   "source": [
    "mape = mean_absolute_percentage_error(y_test, predictions)\n",
    "print('MAPE', mape)"
   ]
  },
  {
   "cell_type": "markdown",
   "id": "6f6519e2",
   "metadata": {},
   "source": [
    "----------"
   ]
  },
  {
   "cell_type": "markdown",
   "id": "b3b57e21",
   "metadata": {},
   "source": [
    "# Polynomial Linear Regression"
   ]
  },
  {
   "cell_type": "markdown",
   "id": "ffca6483",
   "metadata": {},
   "source": [
    "![](Images/lineargression.png)"
   ]
  },
  {
   "cell_type": "markdown",
   "id": "15865892",
   "metadata": {},
   "source": [
    "## Polynomial Linear Regression Model Development"
   ]
  },
  {
   "cell_type": "code",
   "execution_count": 42,
   "id": "e81b8f1a",
   "metadata": {},
   "outputs": [],
   "source": [
    "import numpy as np\n",
    "import pandas as pd\n",
    "import matplotlib.pyplot as plt"
   ]
  },
  {
   "cell_type": "code",
   "execution_count": 64,
   "id": "bc492671",
   "metadata": {},
   "outputs": [
    {
     "data": {
      "text/plain": [
       "14"
      ]
     },
     "execution_count": 64,
     "metadata": {},
     "output_type": "execute_result"
    }
   ],
   "source": [
    "headers = ['CRIM', 'ZN', 'INDUS', 'CHAS', 'NOX', 'RM', 'AGE', 'DIS', 'RAD', 'TAX', 'PTRATIO', 'B', 'LSTAT', 'MEDV']\n",
    "len(headers)"
   ]
  },
  {
   "cell_type": "markdown",
   "id": "030d1b83",
   "metadata": {},
   "source": [
    " Variables in order:\n",
    " \n",
    "+ CRIM     per capita crime rate by town\n",
    "+ ZN       proportion of residential land zoned for lots over 25,000 sq.ft.\n",
    "+ INDUS    proportion of non-retail business acres per town\n",
    "+ CHAS     Charles River dummy variable (= 1 if tract bounds river; 0 otherwise)\n",
    "+ NOX      nitric oxides concentration (parts per 10 million)\n",
    "+ RM       average number of rooms per dwelling\n",
    "+ AGE      proportion of owner-occupied units built prior to 1940\n",
    "+ DIS      weighted distances to five Boston employment centres\n",
    "+ RAD      index of accessibility to radial highways\n",
    "+ TAX      full-value property-tax rate per `10,000`\n",
    "+ PTRATIO  pupil-teacher ratio by town\n",
    "+ B        1000(Bk - 0.63)^2 where Bk is the proportion of blacks by town\n",
    "+ LSTAT    % lower status of the population\n",
    "+ MEDV     Median value of owner-occupied homes in $1000's`"
   ]
  },
  {
   "cell_type": "code",
   "execution_count": 65,
   "id": "5da6bfa5",
   "metadata": {},
   "outputs": [],
   "source": [
    " data_url = \"http://lib.stat.cmu.edu/datasets/boston\"\n",
    "    \n",
    "raw_df = pd.read_csv(data_url, sep=\"\\s+\", skiprows=22, header=None)\n",
    "data = np.hstack([raw_df.values[::2, :], raw_df.values[1::2, :2]])\n",
    "target = raw_df.values[1::2, 2]"
   ]
  },
  {
   "cell_type": "markdown",
   "id": "5748c584",
   "metadata": {},
   "source": [
    "### Price based on Number Of Rooms feature"
   ]
  },
  {
   "cell_type": "code",
   "execution_count": 67,
   "id": "d58b68c3",
   "metadata": {},
   "outputs": [],
   "source": [
    "X = data[:, 5] # extract only RM feature column\n",
    "y = target"
   ]
  },
  {
   "cell_type": "code",
   "execution_count": 69,
   "id": "724970ff",
   "metadata": {},
   "outputs": [],
   "source": [
    "from sklearn.model_selection import train_test_split"
   ]
  },
  {
   "cell_type": "code",
   "execution_count": 71,
   "id": "2775a2cc",
   "metadata": {},
   "outputs": [],
   "source": [
    "# Split X,y\n",
    "X_train, X_test, y_train, y_test = train_test_split(X, y, test_size=0.25, random_state=42)"
   ]
  },
  {
   "cell_type": "markdown",
   "id": "9b0dd8e1",
   "metadata": {},
   "source": [
    "### Create PolynomialFeatures"
   ]
  },
  {
   "cell_type": "code",
   "execution_count": 73,
   "id": "fed228a6",
   "metadata": {},
   "outputs": [],
   "source": [
    "from sklearn.preprocessing import PolynomialFeatures"
   ]
  },
  {
   "cell_type": "code",
   "execution_count": 75,
   "id": "2feb18c9",
   "metadata": {},
   "outputs": [],
   "source": [
    "poly_f = PolynomialFeatures(degree=2)"
   ]
  },
  {
   "cell_type": "code",
   "execution_count": 78,
   "id": "d1854418",
   "metadata": {},
   "outputs": [
    {
     "data": {
      "text/plain": [
       "(379,)"
      ]
     },
     "execution_count": 78,
     "metadata": {},
     "output_type": "execute_result"
    }
   ],
   "source": [
    "X_train.shape"
   ]
  },
  {
   "cell_type": "code",
   "execution_count": 79,
   "id": "edfecc8f",
   "metadata": {},
   "outputs": [],
   "source": [
    "X_train = X_train.reshape(-1, 1)\n",
    "poly_X_train = poly_f.fit_transform(X_train)"
   ]
  },
  {
   "cell_type": "code",
   "execution_count": 86,
   "id": "5da984b5",
   "metadata": {},
   "outputs": [],
   "source": [
    "X_test = X_test.reshape(-1, 1)\n",
    "poly_X_test = poly_f.transform(X_test)"
   ]
  },
  {
   "cell_type": "markdown",
   "id": "89413ecd",
   "metadata": {},
   "source": [
    "### Model Creation"
   ]
  },
  {
   "cell_type": "code",
   "execution_count": 83,
   "id": "c50ee60b",
   "metadata": {},
   "outputs": [],
   "source": [
    "from sklearn.linear_model import LinearRegression"
   ]
  },
  {
   "cell_type": "code",
   "execution_count": 84,
   "id": "ac268fb9",
   "metadata": {},
   "outputs": [],
   "source": [
    "lr = LinearRegression()"
   ]
  },
  {
   "cell_type": "code",
   "execution_count": 85,
   "id": "26eb316b",
   "metadata": {},
   "outputs": [],
   "source": [
    "poly_lr = lr.fit(poly_X_train, y_train)"
   ]
  },
  {
   "cell_type": "markdown",
   "id": "e4b2626c",
   "metadata": {},
   "source": [
    "### Model Predictions"
   ]
  },
  {
   "cell_type": "code",
   "execution_count": 87,
   "id": "23a4d25c",
   "metadata": {},
   "outputs": [],
   "source": [
    "predictions = poly_lr.predict(poly_X_test)"
   ]
  },
  {
   "cell_type": "markdown",
   "id": "5364138b",
   "metadata": {},
   "source": [
    "### Model Evaluation"
   ]
  },
  {
   "cell_type": "code",
   "execution_count": 90,
   "id": "a3eab68c",
   "metadata": {},
   "outputs": [],
   "source": [
    "from sklearn.metrics import r2_score"
   ]
  },
  {
   "cell_type": "code",
   "execution_count": 91,
   "id": "5d2dd723",
   "metadata": {},
   "outputs": [
    {
     "data": {
      "text/plain": [
       "0.515072573182228"
      ]
     },
     "execution_count": 91,
     "metadata": {},
     "output_type": "execute_result"
    }
   ],
   "source": [
    "r2_score(y_test, predictions)"
   ]
  },
  {
   "cell_type": "markdown",
   "id": "29a62822",
   "metadata": {},
   "source": [
    "---------"
   ]
  },
  {
   "cell_type": "markdown",
   "id": "ed3b7e9f",
   "metadata": {},
   "source": [
    "# Random Forest"
   ]
  },
  {
   "cell_type": "markdown",
   "id": "2049ddbe",
   "metadata": {},
   "source": [
    "![](Images/rf1.png)\n",
    "![](Images/rf3.png)\n",
    "![](Images/rf3.png)"
   ]
  },
  {
   "cell_type": "code",
   "execution_count": 7,
   "id": "bf728dc6",
   "metadata": {},
   "outputs": [],
   "source": [
    " data_url = \"http://lib.stat.cmu.edu/datasets/boston\"\n",
    "    \n",
    "raw_df = pd.read_csv(data_url, sep=\"\\s+\", skiprows=22, header=None)\n",
    "data = np.hstack([raw_df.values[::2, :], raw_df.values[1::2, :2]])\n",
    "target = raw_df.values[1::2, 2]\n",
    "\n",
    "X = data\n",
    "y = target"
   ]
  },
  {
   "cell_type": "markdown",
   "id": "6e7474f1",
   "metadata": {},
   "source": [
    "## Model Creation and Prediction"
   ]
  },
  {
   "cell_type": "code",
   "execution_count": 11,
   "id": "b2e886c6",
   "metadata": {},
   "outputs": [],
   "source": [
    "from sklearn.model_selection import train_test_split"
   ]
  },
  {
   "cell_type": "code",
   "execution_count": 12,
   "id": "d337f098",
   "metadata": {},
   "outputs": [],
   "source": [
    "X_train, X_test, y_train, y_test = train_test_split(X, y, test_size=0.25, random_state=42)"
   ]
  },
  {
   "cell_type": "code",
   "execution_count": 13,
   "id": "91966209",
   "metadata": {},
   "outputs": [],
   "source": [
    "from sklearn.preprocessing import MinMaxScaler"
   ]
  },
  {
   "cell_type": "code",
   "execution_count": 14,
   "id": "3fe44486",
   "metadata": {},
   "outputs": [],
   "source": [
    "scaler = MinMaxScaler()\n",
    "\n",
    "scaled_X_train = scaler.fit_transform(X_train)\n",
    "scaled_X_test = scaler.transform(X_test)"
   ]
  },
  {
   "cell_type": "code",
   "execution_count": 15,
   "id": "24fb7e7e",
   "metadata": {},
   "outputs": [],
   "source": [
    "from sklearn.ensemble import RandomForestRegressor"
   ]
  },
  {
   "cell_type": "code",
   "execution_count": 28,
   "id": "17c6e43f",
   "metadata": {},
   "outputs": [],
   "source": [
    "rf = RandomForestRegressor(n_estimators=150, max_depth=None, random_state=33)"
   ]
  },
  {
   "cell_type": "code",
   "execution_count": 29,
   "id": "97832743",
   "metadata": {},
   "outputs": [
    {
     "data": {
      "text/plain": [
       "RandomForestRegressor(n_estimators=150, random_state=33)"
      ]
     },
     "execution_count": 29,
     "metadata": {},
     "output_type": "execute_result"
    }
   ],
   "source": [
    "rf.fit(scaled_X_train, y_train)"
   ]
  },
  {
   "cell_type": "code",
   "execution_count": 30,
   "id": "e5352d4c",
   "metadata": {},
   "outputs": [],
   "source": [
    "predictions = rf.predict(scaled_X_test)"
   ]
  },
  {
   "cell_type": "markdown",
   "id": "8fd1e0a3",
   "metadata": {},
   "source": [
    "## Model Evaluation"
   ]
  },
  {
   "cell_type": "code",
   "execution_count": 31,
   "id": "b0b37460",
   "metadata": {},
   "outputs": [],
   "source": [
    "from sklearn.metrics import mean_absolute_error, mean_squared_error, r2_score"
   ]
  },
  {
   "cell_type": "code",
   "execution_count": 33,
   "id": "c6752162",
   "metadata": {},
   "outputs": [],
   "source": [
    "def mean_absolute_percentage_error(y_true, y_pred):\n",
    "    y_true, y_pred = np.array(y_true), np.array(y_pred)\n",
    "    MAPE = np.mean((np.abs(y_true - y_pred)/y_true)) * 100\n",
    "    return MAPE"
   ]
  },
  {
   "cell_type": "code",
   "execution_count": 32,
   "id": "ec76098e",
   "metadata": {},
   "outputs": [
    {
     "name": "stdout",
     "output_type": "stream",
     "text": [
      "MAE:  2.0773543307086597\n",
      "MSE:  9.927170176727909\n",
      "RMSE:  3.150741210688036\n",
      "MAPE:  10.885009914858946\n",
      "R^2 Score:  0.8582382536443762\n"
     ]
    }
   ],
   "source": [
    "MAE = mean_absolute_error(y_test, predictions)\n",
    "print('MAE: ', MAE)\n",
    "\n",
    "MSE = mean_squared_error(y_test, predictions)\n",
    "print('MSE: ', MSE)\n",
    "\n",
    "RMSE = np.sqrt(MSE)\n",
    "print('RMSE: ', RMSE)\n",
    "\n",
    "MAPE = mean_absolute_percentage_error(y_test, predictions)\n",
    "print('MAPE: ', MAPE)\n",
    "\n",
    "r2 = r2_score(y_test, predictions)\n",
    "print('R^2 Score: ', r2)"
   ]
  },
  {
   "cell_type": "markdown",
   "id": "16e9db77",
   "metadata": {},
   "source": [
    "---------"
   ]
  },
  {
   "cell_type": "markdown",
   "id": "25d0a23d",
   "metadata": {},
   "source": [
    "# Support Vectore Machine\n",
    "can be used for both\n",
    "+ Classification\n",
    "+ Regression"
   ]
  },
  {
   "cell_type": "markdown",
   "id": "834608f7",
   "metadata": {},
   "source": [
    "![](Images/svm1.png)\n",
    "![](Images/svm2.png)"
   ]
  },
  {
   "cell_type": "markdown",
   "id": "c911e846",
   "metadata": {},
   "source": [
    "-----"
   ]
  },
  {
   "cell_type": "markdown",
   "id": "f8eaf0e1",
   "metadata": {},
   "source": [
    "## Model Creation & Prediction"
   ]
  },
  {
   "cell_type": "code",
   "execution_count": 34,
   "id": "3e062237",
   "metadata": {},
   "outputs": [],
   "source": [
    "from sklearn.svm import SVR # Regressor"
   ]
  },
  {
   "cell_type": "code",
   "execution_count": 38,
   "id": "c9141d11",
   "metadata": {},
   "outputs": [],
   "source": [
    "svr = SVR(kernel='rbf', )"
   ]
  },
  {
   "cell_type": "code",
   "execution_count": 40,
   "id": "975ed1bf",
   "metadata": {},
   "outputs": [
    {
     "data": {
      "text/plain": [
       "SVR()"
      ]
     },
     "execution_count": 40,
     "metadata": {},
     "output_type": "execute_result"
    }
   ],
   "source": [
    "svr.fit(scaled_X_train, y_train)"
   ]
  },
  {
   "cell_type": "code",
   "execution_count": 41,
   "id": "a4ded3df",
   "metadata": {},
   "outputs": [],
   "source": [
    "predictions = svr.predict(scaled_X_test)"
   ]
  },
  {
   "cell_type": "markdown",
   "id": "95e01eee",
   "metadata": {},
   "source": [
    "## Model Evaluation"
   ]
  },
  {
   "cell_type": "code",
   "execution_count": 42,
   "id": "9be8f7ba",
   "metadata": {},
   "outputs": [],
   "source": [
    "MAE = mean_absolute_error(y_test, predictions)\n",
    "MSE = mean_squared_error(y_test, predictions)\n",
    "RMSE = np.sqrt(MSE)\n",
    "R2 = r2_score(y_test, predictions)\n",
    "MAPE = mean_absolute_percentage_error(y_test, predictions)"
   ]
  },
  {
   "cell_type": "code",
   "execution_count": 43,
   "id": "43e777c4",
   "metadata": {},
   "outputs": [
    {
     "name": "stdout",
     "output_type": "stream",
     "text": [
      "MAE:  2.942723062114215\n",
      "MSE:  26.29583414406727\n",
      "RMSE:  5.127946386621771\n",
      "R^2 Score:  0.6244908363835948\n",
      "MAPE:  14.051095351241877\n"
     ]
    }
   ],
   "source": [
    "print('MAE: ', MAE)\n",
    "print('MSE: ', MSE)\n",
    "print('RMSE: ', RMSE)\n",
    "print('R^2 Score: ', R2)\n",
    "print('MAPE: ', MAPE)"
   ]
  },
  {
   "cell_type": "markdown",
   "id": "85a6fb8f",
   "metadata": {},
   "source": [
    "-------"
   ]
  }
 ],
 "metadata": {
  "kernelspec": {
   "display_name": "venv-rf",
   "language": "python",
   "name": "venv-rf"
  },
  "language_info": {
   "codemirror_mode": {
    "name": "ipython",
    "version": 3
   },
   "file_extension": ".py",
   "mimetype": "text/x-python",
   "name": "python",
   "nbconvert_exporter": "python",
   "pygments_lexer": "ipython3",
   "version": "3.7.13"
  },
  "toc": {
   "base_numbering": 1,
   "nav_menu": {},
   "number_sections": false,
   "sideBar": true,
   "skip_h1_title": false,
   "title_cell": "Table of Contents",
   "title_sidebar": "Contents",
   "toc_cell": true,
   "toc_position": {
    "height": "calc(100% - 180px)",
    "left": "10px",
    "top": "150px",
    "width": "273.188px"
   },
   "toc_section_display": true,
   "toc_window_display": false
  }
 },
 "nbformat": 4,
 "nbformat_minor": 5
}
